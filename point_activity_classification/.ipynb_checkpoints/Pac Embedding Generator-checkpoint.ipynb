{
 "cells": [
  {
   "cell_type": "markdown",
   "metadata": {},
   "source": [
    "### Here, we generates pac embeddings to feed the Stod method\n",
    "\n",
    "<img src=\"PAC.png\">\n",
    "\n",
    "**Models**\n",
    "* 'model_pac_review_dublin_clean.hdf5' all classes (dublin)\n",
    "* 'model_pac_review_recife_clean.hdf5' all classes (recife)"
   ]
  },
  {
   "cell_type": "code",
   "execution_count": 1,
   "metadata": {},
   "outputs": [
    {
     "name": "stderr",
     "output_type": "stream",
     "text": [
      "Using TensorFlow backend.\n"
     ]
    }
   ],
   "source": [
    "import numpy as np\n",
    "import tensorflow as tf\n",
    "import pandas as pd\n",
    "from keras import backend as K\n",
    "from keras.callbacks import ModelCheckpoint\n",
    "from keras import optimizers\n",
    "from sklearn.preprocessing import LabelEncoder, OneHotEncoder, StandardScaler\n",
    "from generator import Generator\n",
    "from tqdm import tqdm\n",
    "import h5py\n",
    "import copy\n",
    "import datetime\n",
    "import importlib"
   ]
  },
  {
   "cell_type": "markdown",
   "metadata": {},
   "source": [
    "### Loading data\n",
    "\n",
    "* list_stats_x_b - Points before point x (query), left windows\n",
    "* list_stats_x_a - Points after point x (query), right windows\n",
    "* list_stats_x_c - Queries\n",
    "* list_stats_x_bs - Statistic features before query\n",
    "* list_stats_x_as - Statistic features after query"
   ]
  },
  {
   "cell_type": "code",
   "execution_count": 2,
   "metadata": {},
   "outputs": [],
   "source": [
    "'''\n",
    "Data used on paper\n",
    "\n",
    "dub - Dublin\n",
    "'../data/pac_data/cache_final_all_classes_dub_data_clean.hdf5'\n",
    "rec - Recife\n",
    "'../data/pac_data/cache_final_all_classes_rec_data_clean.hdf5'\n",
    "'''\n",
    "\n",
    "data_path = '../data/pac_data/cache_final_all_classes_rec_data_clean.hdf5'\n",
    "\n",
    "with h5py.File(data_path, 'r') as hf:\n",
    "    list_stat_x_b = hf['list_stat_x_b'][:]\n",
    "    list_stat_x_a = hf['list_stat_x_a'][:]\n",
    "    list_stat_x_c = hf['list_stat_x_c'][:]\n",
    "    list_stat_x_bs = hf['list_stat_x_bs'][:]\n",
    "    list_stat_x_as = hf['list_stat_x_as'][:]\n",
    "    list_stat_y = hf['list_stat_y'][:]\n",
    "    "
   ]
  },
  {
   "cell_type": "code",
   "execution_count": 3,
   "metadata": {},
   "outputs": [
    {
     "data": {
      "text/html": [
       "<div>\n",
       "<style scoped>\n",
       "    .dataframe tbody tr th:only-of-type {\n",
       "        vertical-align: middle;\n",
       "    }\n",
       "\n",
       "    .dataframe tbody tr th {\n",
       "        vertical-align: top;\n",
       "    }\n",
       "\n",
       "    .dataframe thead th {\n",
       "        text-align: right;\n",
       "    }\n",
       "</style>\n",
       "<table border=\"1\" class=\"dataframe\">\n",
       "  <thead>\n",
       "    <tr style=\"text-align: right;\">\n",
       "      <th></th>\n",
       "      <th>lat</th>\n",
       "      <th>lng</th>\n",
       "      <th>timestamp</th>\n",
       "      <th>vel</th>\n",
       "      <th>acc</th>\n",
       "      <th>delta_space</th>\n",
       "      <th>bearing</th>\n",
       "      <th>delta_t</th>\n",
       "      <th>dw</th>\n",
       "      <th>hd</th>\n",
       "      <th>dist</th>\n",
       "      <th>rota</th>\n",
       "      <th>lat_u</th>\n",
       "      <th>lng_u</th>\n",
       "      <th>id_point</th>\n",
       "      <th>id_traj</th>\n",
       "      <th>noise</th>\n",
       "    </tr>\n",
       "  </thead>\n",
       "  <tbody>\n",
       "    <tr>\n",
       "      <th>0</th>\n",
       "      <td>-8.009672</td>\n",
       "      <td>-35.039893</td>\n",
       "      <td>1.508570e+09</td>\n",
       "      <td>6.666667</td>\n",
       "      <td>0.000000</td>\n",
       "      <td>0.000000</td>\n",
       "      <td>0.000000</td>\n",
       "      <td>0.0</td>\n",
       "      <td>5.0</td>\n",
       "      <td>4.0</td>\n",
       "      <td>448.0</td>\n",
       "      <td>7.0</td>\n",
       "      <td>-8.002216</td>\n",
       "      <td>-34.856125</td>\n",
       "      <td>0.0</td>\n",
       "      <td>0.0</td>\n",
       "      <td>0.0</td>\n",
       "    </tr>\n",
       "    <tr>\n",
       "      <th>1</th>\n",
       "      <td>-8.008639</td>\n",
       "      <td>-35.040432</td>\n",
       "      <td>1.508570e+09</td>\n",
       "      <td>4.441257</td>\n",
       "      <td>0.076738</td>\n",
       "      <td>128.796467</td>\n",
       "      <td>332.679913</td>\n",
       "      <td>29.0</td>\n",
       "      <td>5.0</td>\n",
       "      <td>4.0</td>\n",
       "      <td>589.0</td>\n",
       "      <td>7.0</td>\n",
       "      <td>-8.078762</td>\n",
       "      <td>-34.907187</td>\n",
       "      <td>1.0</td>\n",
       "      <td>0.0</td>\n",
       "      <td>0.0</td>\n",
       "    </tr>\n",
       "    <tr>\n",
       "      <th>2</th>\n",
       "      <td>-8.006605</td>\n",
       "      <td>-35.040476</td>\n",
       "      <td>1.508570e+09</td>\n",
       "      <td>7.500971</td>\n",
       "      <td>0.101990</td>\n",
       "      <td>225.029127</td>\n",
       "      <td>26.085078</td>\n",
       "      <td>30.0</td>\n",
       "      <td>5.0</td>\n",
       "      <td>4.0</td>\n",
       "      <td>813.0</td>\n",
       "      <td>7.0</td>\n",
       "      <td>-7.947426</td>\n",
       "      <td>-34.878031</td>\n",
       "      <td>2.0</td>\n",
       "      <td>0.0</td>\n",
       "      <td>0.0</td>\n",
       "    </tr>\n",
       "    <tr>\n",
       "      <th>3</th>\n",
       "      <td>-8.004855</td>\n",
       "      <td>-35.039724</td>\n",
       "      <td>1.508570e+09</td>\n",
       "      <td>7.261058</td>\n",
       "      <td>0.008273</td>\n",
       "      <td>210.570684</td>\n",
       "      <td>3.024215</td>\n",
       "      <td>29.0</td>\n",
       "      <td>5.0</td>\n",
       "      <td>4.0</td>\n",
       "      <td>1054.0</td>\n",
       "      <td>7.0</td>\n",
       "      <td>-7.982994</td>\n",
       "      <td>-34.856368</td>\n",
       "      <td>3.0</td>\n",
       "      <td>0.0</td>\n",
       "      <td>0.0</td>\n",
       "    </tr>\n",
       "    <tr>\n",
       "      <th>4</th>\n",
       "      <td>-8.005149</td>\n",
       "      <td>-35.038701</td>\n",
       "      <td>1.508570e+09</td>\n",
       "      <td>3.913916</td>\n",
       "      <td>0.111571</td>\n",
       "      <td>117.417489</td>\n",
       "      <td>103.172095</td>\n",
       "      <td>30.0</td>\n",
       "      <td>5.0</td>\n",
       "      <td>4.0</td>\n",
       "      <td>1170.0</td>\n",
       "      <td>7.0</td>\n",
       "      <td>-8.008628</td>\n",
       "      <td>-34.937836</td>\n",
       "      <td>4.0</td>\n",
       "      <td>0.0</td>\n",
       "      <td>0.0</td>\n",
       "    </tr>\n",
       "  </tbody>\n",
       "</table>\n",
       "</div>"
      ],
      "text/plain": [
       "        lat        lng     timestamp       vel       acc  delta_space  \\\n",
       "0 -8.009672 -35.039893  1.508570e+09  6.666667  0.000000     0.000000   \n",
       "1 -8.008639 -35.040432  1.508570e+09  4.441257  0.076738   128.796467   \n",
       "2 -8.006605 -35.040476  1.508570e+09  7.500971  0.101990   225.029127   \n",
       "3 -8.004855 -35.039724  1.508570e+09  7.261058  0.008273   210.570684   \n",
       "4 -8.005149 -35.038701  1.508570e+09  3.913916  0.111571   117.417489   \n",
       "\n",
       "      bearing  delta_t   dw   hd    dist  rota     lat_u      lng_u  id_point  \\\n",
       "0    0.000000      0.0  5.0  4.0   448.0   7.0 -8.002216 -34.856125       0.0   \n",
       "1  332.679913     29.0  5.0  4.0   589.0   7.0 -8.078762 -34.907187       1.0   \n",
       "2   26.085078     30.0  5.0  4.0   813.0   7.0 -7.947426 -34.878031       2.0   \n",
       "3    3.024215     29.0  5.0  4.0  1054.0   7.0 -7.982994 -34.856368       3.0   \n",
       "4  103.172095     30.0  5.0  4.0  1170.0   7.0 -8.008628 -34.937836       4.0   \n",
       "\n",
       "   id_traj  noise  \n",
       "0      0.0    0.0  \n",
       "1      0.0    0.0  \n",
       "2      0.0    0.0  \n",
       "3      0.0    0.0  \n",
       "4      0.0    0.0  "
      ]
     },
     "execution_count": 3,
     "metadata": {},
     "output_type": "execute_result"
    }
   ],
   "source": [
    "df = pd.DataFrame(list_stat_x_c,columns=['lat','lng','timestamp','vel','acc','delta_space','bearing','delta_t','dw','hd','dist','rota','lat_u','lng_u','id_point','id_traj','noise'])\n",
    "df.head()"
   ]
  },
  {
   "cell_type": "markdown",
   "metadata": {},
   "source": [
    "## Data Normalization"
   ]
  },
  {
   "cell_type": "code",
   "execution_count": 4,
   "metadata": {},
   "outputs": [],
   "source": [
    "from sklearn.preprocessing import StandardScaler\n",
    "scaler = StandardScaler()"
   ]
  },
  {
   "cell_type": "code",
   "execution_count": 5,
   "metadata": {},
   "outputs": [
    {
     "name": "stderr",
     "output_type": "stream",
     "text": [
      "100%|██████████| 8/8 [02:27<00:00, 18.49s/it]\n",
      "100%|██████████| 8/8 [02:14<00:00, 16.86s/it]\n"
     ]
    }
   ],
   "source": [
    "def scaler(data,it, dim=3):\n",
    "    scaler = StandardScaler()\n",
    "    if dim == 3:\n",
    "        for i in tqdm([0,1,2,3,4,5,6,9]):\n",
    "            data[:,:,i]= scaler.fit_transform(data[:,:,i])\n",
    "    else:\n",
    "        data= scaler.fit_transform(data)\n",
    "    return data\n",
    "\n",
    "list_stat_x_b = scaler(list_stat_x_b,list_stat_x_b.shape[2])\n",
    "list_stat_x_a = scaler(list_stat_x_a,list_stat_x_a.shape[2])\n",
    "list_stat_x_bs = scaler(list_stat_x_bs, list_stat_x_bs.shape[1],2)\n",
    "list_stat_x_as = scaler(list_stat_x_as, list_stat_x_as.shape[1],2)"
   ]
  },
  {
   "cell_type": "code",
   "execution_count": 6,
   "metadata": {},
   "outputs": [],
   "source": [
    "# Features 7,8 are hours and weekdays.\n",
    "scaler = StandardScaler()\n",
    "list_stat_x_c[:,[0,1,2,3,4,5,6,10]] = scaler.fit_transform(list_stat_x_c[:,[0,1,2,3,4,5,6,10]])"
   ]
  },
  {
   "cell_type": "markdown",
   "metadata": {},
   "source": [
    "### Data Concatenation"
   ]
  },
  {
   "cell_type": "code",
   "execution_count": 7,
   "metadata": {},
   "outputs": [],
   "source": [
    "X = list()\n",
    "for i in range(len(list_stat_x_b)):\n",
    "    X.append([list_stat_x_b[i],list_stat_x_a[i],list_stat_x_c[i],list_stat_x_bs[i],list_stat_x_as[i]])\n",
    "\n",
    "y = np.array(list_stat_y) if type(list_stat_y)!=np.ndarray else list_stat_y\n",
    "y = y.astype(int)"
   ]
  },
  {
   "cell_type": "markdown",
   "metadata": {},
   "source": [
    "### Spliting Data"
   ]
  },
  {
   "cell_type": "code",
   "execution_count": 8,
   "metadata": {},
   "outputs": [],
   "source": [
    "from sklearn.model_selection import train_test_split\n",
    "X_train,X_test,y_train,y_test = train_test_split(X,y, test_size=0.2, random_state=1023)\n",
    "X_train,X_val,y_train,y_val = train_test_split(X_train,y_train, test_size=0.2, random_state=1023)"
   ]
  },
  {
   "cell_type": "markdown",
   "metadata": {},
   "source": [
    "### Batch Generator"
   ]
  },
  {
   "cell_type": "code",
   "execution_count": 9,
   "metadata": {},
   "outputs": [
    {
     "name": "stderr",
     "output_type": "stream",
     "text": [
      "100%|██████████| 1242522/1242522 [00:13<00:00, 93527.41it/s] \n"
     ]
    },
    {
     "name": "stdout",
     "output_type": "stream",
     "text": [
      "(1242522, 16, 10)\n"
     ]
    },
    {
     "name": "stderr",
     "output_type": "stream",
     "text": [
      "100%|██████████| 310631/310631 [00:03<00:00, 96824.02it/s] \n"
     ]
    },
    {
     "name": "stdout",
     "output_type": "stream",
     "text": [
      "(310631, 16, 10)\n"
     ]
    },
    {
     "name": "stderr",
     "output_type": "stream",
     "text": [
      "100%|██████████| 388289/388289 [00:04<00:00, 93799.87it/s] \n"
     ]
    },
    {
     "name": "stdout",
     "output_type": "stream",
     "text": [
      "(388289, 16, 10)\n"
     ]
    }
   ],
   "source": [
    "gen = Generator()\n",
    "batch_train = gen.get_batch(X_train, y_train)\n",
    "batch_val = gen.get_batch(X_val, y_val)\n",
    "batch_test = gen.get_batch(X_test, y_test)"
   ]
  },
  {
   "cell_type": "markdown",
   "metadata": {},
   "source": [
    "### Pac Model"
   ]
  },
  {
   "cell_type": "code",
   "execution_count": 33,
   "metadata": {},
   "outputs": [
    {
     "name": "stdout",
     "output_type": "stream",
     "text": [
      "The autoreload extension is already loaded. To reload it, use:\n",
      "  %reload_ext autoreload\n"
     ]
    }
   ],
   "source": [
    "%load_ext autoreload\n",
    "%autoreload 2"
   ]
  },
  {
   "cell_type": "code",
   "execution_count": 34,
   "metadata": {},
   "outputs": [],
   "source": [
    "from pac import Pac"
   ]
  },
  {
   "cell_type": "code",
   "execution_count": 35,
   "metadata": {},
   "outputs": [],
   "source": [
    "model_name = 'model_pac_review_recife_clean.hdf5'\n",
    "params = {'gru_a':128,\n",
    "          'gru_b':128,\n",
    "          'dense1':64,\n",
    "          'dense2':32,\n",
    "          'seq':16,\n",
    "          'features':8,\n",
    "          'features_stat':25,\n",
    "          'lr':0.01,\n",
    "          'drp_a':0.15,\n",
    "          'drp_b':0.15,\n",
    "          'op':'rmsprop',\n",
    "          'batch':64,\n",
    "          'classes':4,\n",
    "          'epochs':100,\n",
    "          'model_name':'pac_dublin_test.hdf5'\n",
    "}\n"
   ]
  },
  {
   "cell_type": "code",
   "execution_count": 36,
   "metadata": {},
   "outputs": [],
   "source": [
    "pac_class = Pac(params)"
   ]
  },
  {
   "cell_type": "code",
   "execution_count": 37,
   "metadata": {},
   "outputs": [
    {
     "name": "stdout",
     "output_type": "stream",
     "text": [
      "Model: \"model_5\"\n",
      "__________________________________________________________________________________________________\n",
      "Layer (type)                    Output Shape         Param #     Connected to                     \n",
      "==================================================================================================\n",
      "input_w (InputLayer)            (None, 16)           0                                            \n",
      "__________________________________________________________________________________________________\n",
      "input_h (InputLayer)            (None, 16)           0                                            \n",
      "__________________________________________________________________________________________________\n",
      "input_w_a (InputLayer)          (None, 16)           0                                            \n",
      "__________________________________________________________________________________________________\n",
      "input_h_a (InputLayer)          (None, 16)           0                                            \n",
      "__________________________________________________________________________________________________\n",
      "embedding_7 (Embedding)         multiple             210         input_w[0][0]                    \n",
      "                                                                 input_w_a[0][0]                  \n",
      "                                                                 input_w_x[0][0]                  \n",
      "__________________________________________________________________________________________________\n",
      "embedding_8 (Embedding)         multiple             720         input_h[0][0]                    \n",
      "                                                                 input_h_a[0][0]                  \n",
      "                                                                 input_h_x[0][0]                  \n",
      "__________________________________________________________________________________________________\n",
      "sequence_input_a (InputLayer)   (None, 16, 8)        0                                            \n",
      "__________________________________________________________________________________________________\n",
      "reshape_13 (Reshape)            (None, 16, 30)       0           embedding_7[0][0]                \n",
      "__________________________________________________________________________________________________\n",
      "reshape_15 (Reshape)            (None, 16, 30)       0           embedding_8[0][0]                \n",
      "__________________________________________________________________________________________________\n",
      "sequence_input_b (InputLayer)   (None, 16, 8)        0                                            \n",
      "__________________________________________________________________________________________________\n",
      "reshape_14 (Reshape)            (None, 16, 30)       0           embedding_7[1][0]                \n",
      "__________________________________________________________________________________________________\n",
      "reshape_16 (Reshape)            (None, 16, 30)       0           embedding_8[1][0]                \n",
      "__________________________________________________________________________________________________\n",
      "concat_b (Concatenate)          (None, 16, 68)       0           sequence_input_a[0][0]           \n",
      "                                                                 reshape_13[0][0]                 \n",
      "                                                                 reshape_15[0][0]                 \n",
      "__________________________________________________________________________________________________\n",
      "concat_a (Concatenate)          (None, 16, 68)       0           sequence_input_b[0][0]           \n",
      "                                                                 reshape_14[0][0]                 \n",
      "                                                                 reshape_16[0][0]                 \n",
      "__________________________________________________________________________________________________\n",
      "batch_normalization_10 (BatchNo (None, 16, 68)       272         concat_b[0][0]                   \n",
      "__________________________________________________________________________________________________\n",
      "batch_normalization_11 (BatchNo (None, 16, 68)       272         concat_a[0][0]                   \n",
      "__________________________________________________________________________________________________\n",
      "gru_before1 (GRU)               (None, 16, 128)      75648       batch_normalization_10[0][0]     \n",
      "__________________________________________________________________________________________________\n",
      "gru_after1 (GRU)                (None, 16, 128)      75648       batch_normalization_11[0][0]     \n",
      "__________________________________________________________________________________________________\n",
      "input_w_x (InputLayer)          (None, 1)            0                                            \n",
      "__________________________________________________________________________________________________\n",
      "input_h_x (InputLayer)          (None, 1)            0                                            \n",
      "__________________________________________________________________________________________________\n",
      "gru_before2 (GRU)               (None, 16, 128)      98688       gru_before1[0][0]                \n",
      "__________________________________________________________________________________________________\n",
      "x_to_be_predicted (InputLayer)  (None, 8)            0                                            \n",
      "__________________________________________________________________________________________________\n",
      "gru_after2 (GRU)                (None, 16, 128)      98688       gru_after1[0][0]                 \n",
      "__________________________________________________________________________________________________\n",
      "Attention_b (Attention)         (None, 128)          17664       gru_before2[0][0]                \n",
      "                                                                 x_to_be_predicted[0][0]          \n",
      "__________________________________________________________________________________________________\n",
      "Attention_a (Attention)         (None, 128)          17664       gru_after2[0][0]                 \n",
      "                                                                 x_to_be_predicted[0][0]          \n",
      "__________________________________________________________________________________________________\n",
      "concat_x (Concatenate)          (None, 1, 60)        0           embedding_7[2][0]                \n",
      "                                                                 embedding_8[2][0]                \n",
      "__________________________________________________________________________________________________\n",
      "sequence_input_stat_a (InputLay (None, 25)           0                                            \n",
      "__________________________________________________________________________________________________\n",
      "dropout_10 (Dropout)            (None, 128)          0           Attention_b[0][0]                \n",
      "__________________________________________________________________________________________________\n",
      "sequence_input_stat_b (InputLay (None, 25)           0                                            \n",
      "__________________________________________________________________________________________________\n",
      "dropout_11 (Dropout)            (None, 128)          0           Attention_a[0][0]                \n",
      "__________________________________________________________________________________________________\n",
      "flatten_4 (Flatten)             (None, 60)           0           concat_x[0][0]                   \n",
      "__________________________________________________________________________________________________\n",
      "concatenate_4 (Concatenate)     (None, 374)          0           sequence_input_stat_a[0][0]      \n",
      "                                                                 dropout_10[0][0]                 \n",
      "                                                                 sequence_input_stat_b[0][0]      \n",
      "                                                                 dropout_11[0][0]                 \n",
      "                                                                 x_to_be_predicted[0][0]          \n",
      "                                                                 flatten_4[0][0]                  \n",
      "__________________________________________________________________________________________________\n",
      "batch_normalization_12 (BatchNo (None, 374)          1496        concatenate_4[0][0]              \n",
      "__________________________________________________________________________________________________\n",
      "dense_10 (Dense)                (None, 64)           24000       batch_normalization_12[0][0]     \n",
      "__________________________________________________________________________________________________\n",
      "dropout_12 (Dropout)            (None, 64)           0           dense_10[0][0]                   \n",
      "__________________________________________________________________________________________________\n",
      "dense_11 (Dense)                (None, 32)           2080        dropout_12[0][0]                 \n",
      "__________________________________________________________________________________________________\n",
      "dense_12 (Dense)                (None, 4)            132         dense_11[0][0]                   \n",
      "==================================================================================================\n",
      "Total params: 413,182\n",
      "Trainable params: 412,162\n",
      "Non-trainable params: 1,020\n",
      "__________________________________________________________________________________________________\n"
     ]
    }
   ],
   "source": [
    "pac_model = pac_class.build_model()"
   ]
  },
  {
   "cell_type": "code",
   "execution_count": 15,
   "metadata": {},
   "outputs": [],
   "source": [
    "pac_class.load_model(pac_model,model_name)"
   ]
  },
  {
   "cell_type": "code",
   "execution_count": 16,
   "metadata": {},
   "outputs": [
    {
     "name": "stdout",
     "output_type": "stream",
     "text": [
      "388289/388289 [==============================] - 1292s 3ms/step\n"
     ]
    }
   ],
   "source": [
    "pretiction = pac_class.predict(pac_model,batch_test[0])"
   ]
  },
  {
   "cell_type": "code",
   "execution_count": 17,
   "metadata": {},
   "outputs": [
    {
     "name": "stderr",
     "output_type": "stream",
     "text": [
      "100%|██████████| 388289/388289 [00:06<00:00, 58134.58it/s]\n"
     ]
    }
   ],
   "source": [
    "prediction_inverse = pac_class.inverse_transform(pretiction)"
   ]
  },
  {
   "cell_type": "code",
   "execution_count": 18,
   "metadata": {},
   "outputs": [
    {
     "name": "stdout",
     "output_type": "stream",
     "text": [
      "Confusion matrix, without normalization\n",
      "[[ 32058     38   9328   1077]\n",
      " [    43 272082    242      5]\n",
      " [  7274     98  53754   1548]\n",
      " [  1471     26   4468   4777]]\n"
     ]
    },
    {
     "data": {
      "image/png": "[encoded data removed]",
      "text/plain": [
       "<Figure size 432x288 with 2 Axes>"
      ]
     },
     "metadata": {
      "needs_background": "light"
     },
     "output_type": "display_data"
    }
   ],
   "source": [
    "pac_class.plot_confusion_matrix(y_test, prediction_inverse)"
   ]
  },
  {
   "cell_type": "code",
   "execution_count": 19,
   "metadata": {},
   "outputs": [
    {
     "name": "stdout",
     "output_type": "stream",
     "text": [
      "              precision    recall  f1-score   support\n",
      "\n",
      "           0      0.785     0.754     0.769     42501\n",
      "           1      0.999     0.999     0.999    272372\n",
      "           2      0.793     0.858     0.824     62674\n",
      "           3      0.645     0.445     0.526     10742\n",
      "\n",
      "    accuracy                          0.934    388289\n",
      "   macro avg      0.806     0.764     0.780    388289\n",
      "weighted avg      0.933     0.934     0.933    388289\n",
      "\n"
     ]
    }
   ],
   "source": [
    "pac_class.print_scores(y_test, prediction_inverse)"
   ]
  },
  {
   "cell_type": "markdown",
   "metadata": {},
   "source": [
    "### Getting embeddings"
   ]
  },
  {
   "cell_type": "code",
   "execution_count": 38,
   "metadata": {},
   "outputs": [
    {
     "name": "stdout",
     "output_type": "stream",
     "text": [
      "   3904/1941442 [..............................] - ETA: 2:25:39"
     ]
    },
    {
     "ename": "KeyboardInterrupt",
     "evalue": "",
     "output_type": "error",
     "traceback": [
      "\u001b[0;31m---------------------------------------------------------------------------\u001b[0m",
      "\u001b[0;31mKeyboardInterrupt\u001b[0m                         Traceback (most recent call last)",
      "\u001b[0;32m<ipython-input-38-d4d9f62edd03>\u001b[0m in \u001b[0;36m<module>\u001b[0;34m\u001b[0m\n\u001b[1;32m      1\u001b[0m \u001b[0;31m# sample = gen.get_batch(X, y)\u001b[0m\u001b[0;34m\u001b[0m\u001b[0;34m\u001b[0m\u001b[0;34m\u001b[0m\u001b[0m\n\u001b[0;32m----> 2\u001b[0;31m \u001b[0mpac_class\u001b[0m\u001b[0;34m.\u001b[0m\u001b[0mget_embeddings\u001b[0m\u001b[0;34m(\u001b[0m\u001b[0;34m'dense_11'\u001b[0m\u001b[0;34m,\u001b[0m\u001b[0mmodel_name\u001b[0m\u001b[0;34m,\u001b[0m\u001b[0mpac_model\u001b[0m\u001b[0;34m,\u001b[0m\u001b[0msample\u001b[0m\u001b[0;34m[\u001b[0m\u001b[0;36m0\u001b[0m\u001b[0;34m]\u001b[0m\u001b[0;34m)\u001b[0m\u001b[0;34m\u001b[0m\u001b[0;34m\u001b[0m\u001b[0m\n\u001b[0m",
      "\u001b[0;32m~/michael/segmentation/its_research/point_activity_classification/pac.py\u001b[0m in \u001b[0;36mget_embeddings\u001b[0;34m(self, layer_name, model_name, model, sample)\u001b[0m\n\u001b[1;32m    154\u001b[0m                         model.get_layer(layer_name).output)\n\u001b[1;32m    155\u001b[0m \u001b[0;34m\u001b[0m\u001b[0m\n\u001b[0;32m--> 156\u001b[0;31m         \u001b[0;32mreturn\u001b[0m \u001b[0membedding_model\u001b[0m\u001b[0;34m.\u001b[0m\u001b[0mpredict\u001b[0m\u001b[0;34m(\u001b[0m\u001b[0mx\u001b[0m\u001b[0;34m=\u001b[0m\u001b[0msample\u001b[0m\u001b[0;34m,\u001b[0m \u001b[0mverbose\u001b[0m\u001b[0;34m=\u001b[0m\u001b[0;36m1\u001b[0m\u001b[0;34m)\u001b[0m\u001b[0;34m\u001b[0m\u001b[0;34m\u001b[0m\u001b[0m\n\u001b[0m\u001b[1;32m    157\u001b[0m \u001b[0;34m\u001b[0m\u001b[0m\n\u001b[1;32m    158\u001b[0m \u001b[0;34m\u001b[0m\u001b[0m\n",
      "\u001b[0;32m~/anaconda3/envs/michael_environment/lib/python3.7/site-packages/keras/engine/training.py\u001b[0m in \u001b[0;36mpredict\u001b[0;34m(self, x, batch_size, verbose, steps, callbacks, max_queue_size, workers, use_multiprocessing)\u001b[0m\n\u001b[1;32m   1460\u001b[0m                                             \u001b[0mverbose\u001b[0m\u001b[0;34m=\u001b[0m\u001b[0mverbose\u001b[0m\u001b[0;34m,\u001b[0m\u001b[0;34m\u001b[0m\u001b[0;34m\u001b[0m\u001b[0m\n\u001b[1;32m   1461\u001b[0m                                             \u001b[0msteps\u001b[0m\u001b[0;34m=\u001b[0m\u001b[0msteps\u001b[0m\u001b[0;34m,\u001b[0m\u001b[0;34m\u001b[0m\u001b[0;34m\u001b[0m\u001b[0m\n\u001b[0;32m-> 1462\u001b[0;31m                                             callbacks=callbacks)\n\u001b[0m\u001b[1;32m   1463\u001b[0m \u001b[0;34m\u001b[0m\u001b[0m\n\u001b[1;32m   1464\u001b[0m     def train_on_batch(self, x, y,\n",
      "\u001b[0;32m~/anaconda3/envs/michael_environment/lib/python3.7/site-packages/keras/engine/training_arrays.py\u001b[0m in \u001b[0;36mpredict_loop\u001b[0;34m(model, f, ins, batch_size, verbose, steps, callbacks)\u001b[0m\n\u001b[1;32m    322\u001b[0m             \u001b[0mbatch_logs\u001b[0m \u001b[0;34m=\u001b[0m \u001b[0;34m{\u001b[0m\u001b[0;34m'batch'\u001b[0m\u001b[0;34m:\u001b[0m \u001b[0mbatch_index\u001b[0m\u001b[0;34m,\u001b[0m \u001b[0;34m'size'\u001b[0m\u001b[0;34m:\u001b[0m \u001b[0mlen\u001b[0m\u001b[0;34m(\u001b[0m\u001b[0mbatch_ids\u001b[0m\u001b[0;34m)\u001b[0m\u001b[0;34m}\u001b[0m\u001b[0;34m\u001b[0m\u001b[0;34m\u001b[0m\u001b[0m\n\u001b[1;32m    323\u001b[0m             \u001b[0mcallbacks\u001b[0m\u001b[0;34m.\u001b[0m\u001b[0m_call_batch_hook\u001b[0m\u001b[0;34m(\u001b[0m\u001b[0;34m'predict'\u001b[0m\u001b[0;34m,\u001b[0m \u001b[0;34m'begin'\u001b[0m\u001b[0;34m,\u001b[0m \u001b[0mbatch_index\u001b[0m\u001b[0;34m,\u001b[0m \u001b[0mbatch_logs\u001b[0m\u001b[0;34m)\u001b[0m\u001b[0;34m\u001b[0m\u001b[0;34m\u001b[0m\u001b[0m\n\u001b[0;32m--> 324\u001b[0;31m             \u001b[0mbatch_outs\u001b[0m \u001b[0;34m=\u001b[0m \u001b[0mf\u001b[0m\u001b[0;34m(\u001b[0m\u001b[0mins_batch\u001b[0m\u001b[0;34m)\u001b[0m\u001b[0;34m\u001b[0m\u001b[0;34m\u001b[0m\u001b[0m\n\u001b[0m\u001b[1;32m    325\u001b[0m             \u001b[0mbatch_outs\u001b[0m \u001b[0;34m=\u001b[0m \u001b[0mto_list\u001b[0m\u001b[0;34m(\u001b[0m\u001b[0mbatch_outs\u001b[0m\u001b[0;34m)\u001b[0m\u001b[0;34m\u001b[0m\u001b[0;34m\u001b[0m\u001b[0m\n\u001b[1;32m    326\u001b[0m             \u001b[0;32mif\u001b[0m \u001b[0mbatch_index\u001b[0m \u001b[0;34m==\u001b[0m \u001b[0;36m0\u001b[0m\u001b[0;34m:\u001b[0m\u001b[0;34m\u001b[0m\u001b[0;34m\u001b[0m\u001b[0m\n",
      "\u001b[0;32m~/anaconda3/envs/michael_environment/lib/python3.7/site-packages/tensorflow_core/python/keras/backend.py\u001b[0m in \u001b[0;36m__call__\u001b[0;34m(self, inputs)\u001b[0m\n\u001b[1;32m   3725\u001b[0m         \u001b[0mvalue\u001b[0m \u001b[0;34m=\u001b[0m \u001b[0mmath_ops\u001b[0m\u001b[0;34m.\u001b[0m\u001b[0mcast\u001b[0m\u001b[0;34m(\u001b[0m\u001b[0mvalue\u001b[0m\u001b[0;34m,\u001b[0m \u001b[0mtensor\u001b[0m\u001b[0;34m.\u001b[0m\u001b[0mdtype\u001b[0m\u001b[0;34m)\u001b[0m\u001b[0;34m\u001b[0m\u001b[0;34m\u001b[0m\u001b[0m\n\u001b[1;32m   3726\u001b[0m       \u001b[0mconverted_inputs\u001b[0m\u001b[0;34m.\u001b[0m\u001b[0mappend\u001b[0m\u001b[0;34m(\u001b[0m\u001b[0mvalue\u001b[0m\u001b[0;34m)\u001b[0m\u001b[0;34m\u001b[0m\u001b[0;34m\u001b[0m\u001b[0m\n\u001b[0;32m-> 3727\u001b[0;31m     \u001b[0moutputs\u001b[0m \u001b[0;34m=\u001b[0m \u001b[0mself\u001b[0m\u001b[0;34m.\u001b[0m\u001b[0m_graph_fn\u001b[0m\u001b[0;34m(\u001b[0m\u001b[0;34m*\u001b[0m\u001b[0mconverted_inputs\u001b[0m\u001b[0;34m)\u001b[0m\u001b[0;34m\u001b[0m\u001b[0;34m\u001b[0m\u001b[0m\n\u001b[0m\u001b[1;32m   3728\u001b[0m \u001b[0;34m\u001b[0m\u001b[0m\n\u001b[1;32m   3729\u001b[0m     \u001b[0;31m# EagerTensor.numpy() will often make a copy to ensure memory safety.\u001b[0m\u001b[0;34m\u001b[0m\u001b[0;34m\u001b[0m\u001b[0;34m\u001b[0m\u001b[0m\n",
      "\u001b[0;32m~/anaconda3/envs/michael_environment/lib/python3.7/site-packages/tensorflow_core/python/eager/function.py\u001b[0m in \u001b[0;36m__call__\u001b[0;34m(self, *args, **kwargs)\u001b[0m\n\u001b[1;32m   1549\u001b[0m       \u001b[0mTypeError\u001b[0m\u001b[0;34m:\u001b[0m \u001b[0mFor\u001b[0m \u001b[0minvalid\u001b[0m \u001b[0mpositional\u001b[0m\u001b[0;34m/\u001b[0m\u001b[0mkeyword\u001b[0m \u001b[0margument\u001b[0m \u001b[0mcombinations\u001b[0m\u001b[0;34m.\u001b[0m\u001b[0;34m\u001b[0m\u001b[0;34m\u001b[0m\u001b[0m\n\u001b[1;32m   1550\u001b[0m     \"\"\"\n\u001b[0;32m-> 1551\u001b[0;31m     \u001b[0;32mreturn\u001b[0m \u001b[0mself\u001b[0m\u001b[0;34m.\u001b[0m\u001b[0m_call_impl\u001b[0m\u001b[0;34m(\u001b[0m\u001b[0margs\u001b[0m\u001b[0;34m,\u001b[0m \u001b[0mkwargs\u001b[0m\u001b[0;34m)\u001b[0m\u001b[0;34m\u001b[0m\u001b[0;34m\u001b[0m\u001b[0m\n\u001b[0m\u001b[1;32m   1552\u001b[0m \u001b[0;34m\u001b[0m\u001b[0m\n\u001b[1;32m   1553\u001b[0m   \u001b[0;32mdef\u001b[0m \u001b[0m_call_impl\u001b[0m\u001b[0;34m(\u001b[0m\u001b[0mself\u001b[0m\u001b[0;34m,\u001b[0m \u001b[0margs\u001b[0m\u001b[0;34m,\u001b[0m \u001b[0mkwargs\u001b[0m\u001b[0;34m,\u001b[0m \u001b[0mcancellation_manager\u001b[0m\u001b[0;34m=\u001b[0m\u001b[0;32mNone\u001b[0m\u001b[0;34m)\u001b[0m\u001b[0;34m:\u001b[0m\u001b[0;34m\u001b[0m\u001b[0;34m\u001b[0m\u001b[0m\n",
      "\u001b[0;32m~/anaconda3/envs/michael_environment/lib/python3.7/site-packages/tensorflow_core/python/eager/function.py\u001b[0m in \u001b[0;36m_call_impl\u001b[0;34m(self, args, kwargs, cancellation_manager)\u001b[0m\n\u001b[1;32m   1589\u001b[0m       raise TypeError(\"Keyword arguments {} unknown. Expected {}.\".format(\n\u001b[1;32m   1590\u001b[0m           list(kwargs.keys()), list(self._arg_keywords)))\n\u001b[0;32m-> 1591\u001b[0;31m     \u001b[0;32mreturn\u001b[0m \u001b[0mself\u001b[0m\u001b[0;34m.\u001b[0m\u001b[0m_call_flat\u001b[0m\u001b[0;34m(\u001b[0m\u001b[0margs\u001b[0m\u001b[0;34m,\u001b[0m \u001b[0mself\u001b[0m\u001b[0;34m.\u001b[0m\u001b[0mcaptured_inputs\u001b[0m\u001b[0;34m,\u001b[0m \u001b[0mcancellation_manager\u001b[0m\u001b[0;34m)\u001b[0m\u001b[0;34m\u001b[0m\u001b[0;34m\u001b[0m\u001b[0m\n\u001b[0m\u001b[1;32m   1592\u001b[0m \u001b[0;34m\u001b[0m\u001b[0m\n\u001b[1;32m   1593\u001b[0m   \u001b[0;32mdef\u001b[0m \u001b[0m_filtered_call\u001b[0m\u001b[0;34m(\u001b[0m\u001b[0mself\u001b[0m\u001b[0;34m,\u001b[0m \u001b[0margs\u001b[0m\u001b[0;34m,\u001b[0m \u001b[0mkwargs\u001b[0m\u001b[0;34m)\u001b[0m\u001b[0;34m:\u001b[0m\u001b[0;34m\u001b[0m\u001b[0;34m\u001b[0m\u001b[0m\n",
      "\u001b[0;32m~/anaconda3/envs/michael_environment/lib/python3.7/site-packages/tensorflow_core/python/eager/function.py\u001b[0m in \u001b[0;36m_call_flat\u001b[0;34m(self, args, captured_inputs, cancellation_manager)\u001b[0m\n\u001b[1;32m   1690\u001b[0m       \u001b[0;31m# No tape is watching; skip to running the function.\u001b[0m\u001b[0;34m\u001b[0m\u001b[0;34m\u001b[0m\u001b[0;34m\u001b[0m\u001b[0m\n\u001b[1;32m   1691\u001b[0m       return self._build_call_outputs(self._inference_function.call(\n\u001b[0;32m-> 1692\u001b[0;31m           ctx, args, cancellation_manager=cancellation_manager))\n\u001b[0m\u001b[1;32m   1693\u001b[0m     forward_backward = self._select_forward_and_backward_functions(\n\u001b[1;32m   1694\u001b[0m         \u001b[0margs\u001b[0m\u001b[0;34m,\u001b[0m\u001b[0;34m\u001b[0m\u001b[0;34m\u001b[0m\u001b[0m\n",
      "\u001b[0;32m~/anaconda3/envs/michael_environment/lib/python3.7/site-packages/tensorflow_core/python/eager/function.py\u001b[0m in \u001b[0;36mcall\u001b[0;34m(self, ctx, args, cancellation_manager)\u001b[0m\n\u001b[1;32m    543\u001b[0m               \u001b[0minputs\u001b[0m\u001b[0;34m=\u001b[0m\u001b[0margs\u001b[0m\u001b[0;34m,\u001b[0m\u001b[0;34m\u001b[0m\u001b[0;34m\u001b[0m\u001b[0m\n\u001b[1;32m    544\u001b[0m               \u001b[0mattrs\u001b[0m\u001b[0;34m=\u001b[0m\u001b[0;34m(\u001b[0m\u001b[0;34m\"executor_type\"\u001b[0m\u001b[0;34m,\u001b[0m \u001b[0mexecutor_type\u001b[0m\u001b[0;34m,\u001b[0m \u001b[0;34m\"config_proto\"\u001b[0m\u001b[0;34m,\u001b[0m \u001b[0mconfig\u001b[0m\u001b[0;34m)\u001b[0m\u001b[0;34m,\u001b[0m\u001b[0;34m\u001b[0m\u001b[0;34m\u001b[0m\u001b[0m\n\u001b[0;32m--> 545\u001b[0;31m               ctx=ctx)\n\u001b[0m\u001b[1;32m    546\u001b[0m         \u001b[0;32melse\u001b[0m\u001b[0;34m:\u001b[0m\u001b[0;34m\u001b[0m\u001b[0;34m\u001b[0m\u001b[0m\n\u001b[1;32m    547\u001b[0m           outputs = execute.execute_with_cancellation(\n",
      "\u001b[0;32m~/anaconda3/envs/michael_environment/lib/python3.7/site-packages/tensorflow_core/python/eager/execute.py\u001b[0m in \u001b[0;36mquick_execute\u001b[0;34m(op_name, num_outputs, inputs, attrs, ctx, name)\u001b[0m\n\u001b[1;32m     59\u001b[0m     tensors = pywrap_tensorflow.TFE_Py_Execute(ctx._handle, device_name,\n\u001b[1;32m     60\u001b[0m                                                \u001b[0mop_name\u001b[0m\u001b[0;34m,\u001b[0m \u001b[0minputs\u001b[0m\u001b[0;34m,\u001b[0m \u001b[0mattrs\u001b[0m\u001b[0;34m,\u001b[0m\u001b[0;34m\u001b[0m\u001b[0;34m\u001b[0m\u001b[0m\n\u001b[0;32m---> 61\u001b[0;31m                                                num_outputs)\n\u001b[0m\u001b[1;32m     62\u001b[0m   \u001b[0;32mexcept\u001b[0m \u001b[0mcore\u001b[0m\u001b[0;34m.\u001b[0m\u001b[0m_NotOkStatusException\u001b[0m \u001b[0;32mas\u001b[0m \u001b[0me\u001b[0m\u001b[0;34m:\u001b[0m\u001b[0;34m\u001b[0m\u001b[0;34m\u001b[0m\u001b[0m\n\u001b[1;32m     63\u001b[0m     \u001b[0;32mif\u001b[0m \u001b[0mname\u001b[0m \u001b[0;32mis\u001b[0m \u001b[0;32mnot\u001b[0m \u001b[0;32mNone\u001b[0m\u001b[0;34m:\u001b[0m\u001b[0;34m\u001b[0m\u001b[0;34m\u001b[0m\u001b[0m\n",
      "\u001b[0;31mKeyboardInterrupt\u001b[0m: "
     ]
    }
   ],
   "source": [
    "sample = gen.get_batch(X, y)\n",
    "pac_embeddings = pac_class.get_embeddings('dense_11',model_name,pac_model,sample[0])"
   ]
  },
  {
   "cell_type": "code",
   "execution_count": null,
   "metadata": {},
   "outputs": [],
   "source": []
  }
 ],
 "metadata": {
  "kernelspec": {
   "display_name": "Python 3",
   "language": "python",
   "name": "python3"
  },
  "language_info": {
   "codemirror_mode": {
    "name": "ipython",
    "version": 3
   },
   "file_extension": ".py",
   "mimetype": "text/x-python",
   "name": "python",
   "nbconvert_exporter": "python",
   "pygments_lexer": "ipython3",
   "version": "3.7.6"
  }
 },
 "nbformat": 4,
 "nbformat_minor": 4
}
