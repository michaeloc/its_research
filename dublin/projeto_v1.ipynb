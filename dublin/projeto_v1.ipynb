{
 "cells": [
  {
   "cell_type": "markdown",
   "metadata": {},
   "source": [
    "# Projeto da disciplina de Introdução à Ciência de Dados\n",
    "\n",
    "Estudante: Fernando de Barros (fbwn@cin.ufpe.br)"
   ]
  },
  {
   "cell_type": "markdown",
   "metadata": {},
   "source": [
    "## 1. Carregamento das Bibliotecas e do Dataset"
   ]
  },
  {
   "cell_type": "code",
   "execution_count": 1,
   "metadata": {},
   "outputs": [
    {
     "data": {
      "text/html": [
       "\n",
       "    <div class=\"bk-root\">\n",
       "        <a href=\"https://bokeh.org\" target=\"_blank\" class=\"bk-logo bk-logo-small bk-logo-notebook\"></a>\n",
       "        <span id=\"1001\">Loading BokehJS ...</span>\n",
       "    </div>"
      ]
     },
     "metadata": {},
     "output_type": "display_data"
    },
    {
     "data": {
      "application/javascript": [
       "\n",
       "(function(root) {\n",
       "  function now() {\n",
       "    return new Date();\n",
       "  }\n",
       "\n",
       "  var force = true;\n",
       "\n",
       "  if (typeof root._bokeh_onload_callbacks === \"undefined\" || force === true) {\n",
       "    root._bokeh_onload_callbacks = [];\n",
       "    root._bokeh_is_loading = undefined;\n",
       "  }\n",
       "\n",
       "  var JS_MIME_TYPE = 'application/javascript';\n",
       "  var HTML_MIME_TYPE = 'text/html';\n",
       "  var EXEC_MIME_TYPE = 'application/vnd.bokehjs_exec.v0+json';\n",
       "  var CLASS_NAME = 'output_bokeh rendered_html';\n",
       "\n",
       "  /**\n",
       "   * Render data to the DOM node\n",
       "   */\n",
       "  function render(props, node) {\n",
       "    var script = document.createElement(\"script\");\n",
       "    node.appendChild(script);\n",
       "  }\n",
       "\n",
       "  /**\n",
       "   * Handle when an output is cleared or removed\n",
       "   */\n",
       "  function handleClearOutput(event, handle) {\n",
       "    var cell = handle.cell;\n",
       "\n",
       "    var id = cell.output_area._bokeh_element_id;\n",
       "    var server_id = cell.output_area._bokeh_server_id;\n",
       "    // Clean up Bokeh references\n",
       "    if (id != null && id in Bokeh.index) {\n",
       "      Bokeh.index[id].model.document.clear();\n",
       "      delete Bokeh.index[id];\n",
       "    }\n",
       "\n",
       "    if (server_id !== undefined) {\n",
       "      // Clean up Bokeh references\n",
       "      var cmd = \"from bokeh.io.state import curstate; print(curstate().uuid_to_server['\" + server_id + \"'].get_sessions()[0].document.roots[0]._id)\";\n",
       "      cell.notebook.kernel.execute(cmd, {\n",
       "        iopub: {\n",
       "          output: function(msg) {\n",
       "            var id = msg.content.text.trim();\n",
       "            if (id in Bokeh.index) {\n",
       "              Bokeh.index[id].model.document.clear();\n",
       "              delete Bokeh.index[id];\n",
       "            }\n",
       "          }\n",
       "        }\n",
       "      });\n",
       "      // Destroy server and session\n",
       "      var cmd = \"import bokeh.io.notebook as ion; ion.destroy_server('\" + server_id + \"')\";\n",
       "      cell.notebook.kernel.execute(cmd);\n",
       "    }\n",
       "  }\n",
       "\n",
       "  /**\n",
       "   * Handle when a new output is added\n",
       "   */\n",
       "  function handleAddOutput(event, handle) {\n",
       "    var output_area = handle.output_area;\n",
       "    var output = handle.output;\n",
       "\n",
       "    // limit handleAddOutput to display_data with EXEC_MIME_TYPE content only\n",
       "    if ((output.output_type != \"display_data\") || (!output.data.hasOwnProperty(EXEC_MIME_TYPE))) {\n",
       "      return\n",
       "    }\n",
       "\n",
       "    var toinsert = output_area.element.find(\".\" + CLASS_NAME.split(' ')[0]);\n",
       "\n",
       "    if (output.metadata[EXEC_MIME_TYPE][\"id\"] !== undefined) {\n",
       "      toinsert[toinsert.length - 1].firstChild.textContent = output.data[JS_MIME_TYPE];\n",
       "      // store reference to embed id on output_area\n",
       "      output_area._bokeh_element_id = output.metadata[EXEC_MIME_TYPE][\"id\"];\n",
       "    }\n",
       "    if (output.metadata[EXEC_MIME_TYPE][\"server_id\"] !== undefined) {\n",
       "      var bk_div = document.createElement(\"div\");\n",
       "      bk_div.innerHTML = output.data[HTML_MIME_TYPE];\n",
       "      var script_attrs = bk_div.children[0].attributes;\n",
       "      for (var i = 0; i < script_attrs.length; i++) {\n",
       "        toinsert[toinsert.length - 1].firstChild.setAttribute(script_attrs[i].name, script_attrs[i].value);\n",
       "        toinsert[toinsert.length - 1].firstChild.textContent = bk_div.children[0].textContent\n",
       "      }\n",
       "      // store reference to server id on output_area\n",
       "      output_area._bokeh_server_id = output.metadata[EXEC_MIME_TYPE][\"server_id\"];\n",
       "    }\n",
       "  }\n",
       "\n",
       "  function register_renderer(events, OutputArea) {\n",
       "\n",
       "    function append_mime(data, metadata, element) {\n",
       "      // create a DOM node to render to\n",
       "      var toinsert = this.create_output_subarea(\n",
       "        metadata,\n",
       "        CLASS_NAME,\n",
       "        EXEC_MIME_TYPE\n",
       "      );\n",
       "      this.keyboard_manager.register_events(toinsert);\n",
       "      // Render to node\n",
       "      var props = {data: data, metadata: metadata[EXEC_MIME_TYPE]};\n",
       "      render(props, toinsert[toinsert.length - 1]);\n",
       "      element.append(toinsert);\n",
       "      return toinsert\n",
       "    }\n",
       "\n",
       "    /* Handle when an output is cleared or removed */\n",
       "    events.on('clear_output.CodeCell', handleClearOutput);\n",
       "    events.on('delete.Cell', handleClearOutput);\n",
       "\n",
       "    /* Handle when a new output is added */\n",
       "    events.on('output_added.OutputArea', handleAddOutput);\n",
       "\n",
       "    /**\n",
       "     * Register the mime type and append_mime function with output_area\n",
       "     */\n",
       "    OutputArea.prototype.register_mime_type(EXEC_MIME_TYPE, append_mime, {\n",
       "      /* Is output safe? */\n",
       "      safe: true,\n",
       "      /* Index of renderer in `output_area.display_order` */\n",
       "      index: 0\n",
       "    });\n",
       "  }\n",
       "\n",
       "  // register the mime type if in Jupyter Notebook environment and previously unregistered\n",
       "  if (root.Jupyter !== undefined) {\n",
       "    var events = require('base/js/events');\n",
       "    var OutputArea = require('notebook/js/outputarea').OutputArea;\n",
       "\n",
       "    if (OutputArea.prototype.mime_types().indexOf(EXEC_MIME_TYPE) == -1) {\n",
       "      register_renderer(events, OutputArea);\n",
       "    }\n",
       "  }\n",
       "\n",
       "  \n",
       "  if (typeof (root._bokeh_timeout) === \"undefined\" || force === true) {\n",
       "    root._bokeh_timeout = Date.now() + 5000;\n",
       "    root._bokeh_failed_load = false;\n",
       "  }\n",
       "\n",
       "  var NB_LOAD_WARNING = {'data': {'text/html':\n",
       "     \"<div style='background-color: #fdd'>\\n\"+\n",
       "     \"<p>\\n\"+\n",
       "     \"BokehJS does not appear to have successfully loaded. If loading BokehJS from CDN, this \\n\"+\n",
       "     \"may be due to a slow or bad network connection. Possible fixes:\\n\"+\n",
       "     \"</p>\\n\"+\n",
       "     \"<ul>\\n\"+\n",
       "     \"<li>re-rerun `output_notebook()` to attempt to load from CDN again, or</li>\\n\"+\n",
       "     \"<li>use INLINE resources instead, as so:</li>\\n\"+\n",
       "     \"</ul>\\n\"+\n",
       "     \"<code>\\n\"+\n",
       "     \"from bokeh.resources import INLINE\\n\"+\n",
       "     \"output_notebook(resources=INLINE)\\n\"+\n",
       "     \"</code>\\n\"+\n",
       "     \"</div>\"}};\n",
       "\n",
       "  function display_loaded() {\n",
       "    var el = document.getElementById(\"1001\");\n",
       "    if (el != null) {\n",
       "      el.textContent = \"BokehJS is loading...\";\n",
       "    }\n",
       "    if (root.Bokeh !== undefined) {\n",
       "      if (el != null) {\n",
       "        el.textContent = \"BokehJS \" + root.Bokeh.version + \" successfully loaded.\";\n",
       "      }\n",
       "    } else if (Date.now() < root._bokeh_timeout) {\n",
       "      setTimeout(display_loaded, 100)\n",
       "    }\n",
       "  }\n",
       "\n",
       "\n",
       "  function run_callbacks() {\n",
       "    try {\n",
       "      root._bokeh_onload_callbacks.forEach(function(callback) {\n",
       "        if (callback != null)\n",
       "          callback();\n",
       "      });\n",
       "    } finally {\n",
       "      delete root._bokeh_onload_callbacks\n",
       "    }\n",
       "    console.debug(\"Bokeh: all callbacks have finished\");\n",
       "  }\n",
       "\n",
       "  function load_libs(css_urls, js_urls, callback) {\n",
       "    if (css_urls == null) css_urls = [];\n",
       "    if (js_urls == null) js_urls = [];\n",
       "\n",
       "    root._bokeh_onload_callbacks.push(callback);\n",
       "    if (root._bokeh_is_loading > 0) {\n",
       "      console.debug(\"Bokeh: BokehJS is being loaded, scheduling callback at\", now());\n",
       "      return null;\n",
       "    }\n",
       "    if (js_urls == null || js_urls.length === 0) {\n",
       "      run_callbacks();\n",
       "      return null;\n",
       "    }\n",
       "    console.debug(\"Bokeh: BokehJS not loaded, scheduling load and callback at\", now());\n",
       "    root._bokeh_is_loading = css_urls.length + js_urls.length;\n",
       "\n",
       "    function on_load() {\n",
       "      root._bokeh_is_loading--;\n",
       "      if (root._bokeh_is_loading === 0) {\n",
       "        console.debug(\"Bokeh: all BokehJS libraries/stylesheets loaded\");\n",
       "        run_callbacks()\n",
       "      }\n",
       "    }\n",
       "\n",
       "    function on_error() {\n",
       "      console.error(\"failed to load \" + url);\n",
       "    }\n",
       "\n",
       "    for (var i = 0; i < css_urls.length; i++) {\n",
       "      var url = css_urls[i];\n",
       "      const element = document.createElement(\"link\");\n",
       "      element.onload = on_load;\n",
       "      element.onerror = on_error;\n",
       "      element.rel = \"stylesheet\";\n",
       "      element.type = \"text/css\";\n",
       "      element.href = url;\n",
       "      console.debug(\"Bokeh: injecting link tag for BokehJS stylesheet: \", url);\n",
       "      document.body.appendChild(element);\n",
       "    }\n",
       "\n",
       "    const hashes = {\"https://cdn.bokeh.org/bokeh/release/bokeh-2.2.1.min.js\": \"qkRvDQVAIfzsJo40iRBbxt6sttt0hv4lh74DG7OK4MCHv4C5oohXYoHUM5W11uqS\", \"https://cdn.bokeh.org/bokeh/release/bokeh-widgets-2.2.1.min.js\": \"Sb7Mr06a9TNlet/GEBeKaf5xH3eb6AlCzwjtU82wNPyDrnfoiVl26qnvlKjmcAd+\", \"https://cdn.bokeh.org/bokeh/release/bokeh-tables-2.2.1.min.js\": \"HaJ15vgfmcfRtB4c4YBOI4f1MUujukqInOWVqZJZZGK7Q+ivud0OKGSTn/Vm2iso\"};\n",
       "\n",
       "    for (var i = 0; i < js_urls.length; i++) {\n",
       "      var url = js_urls[i];\n",
       "      var element = document.createElement('script');\n",
       "      element.onload = on_load;\n",
       "      element.onerror = on_error;\n",
       "      element.async = false;\n",
       "      element.src = url;\n",
       "      if (url in hashes) {\n",
       "        element.crossOrigin = \"anonymous\";\n",
       "        element.integrity = \"sha384-\" + hashes[url];\n",
       "      }\n",
       "      console.debug(\"Bokeh: injecting script tag for BokehJS library: \", url);\n",
       "      document.head.appendChild(element);\n",
       "    }\n",
       "  };\n",
       "\n",
       "  function inject_raw_css(css) {\n",
       "    const element = document.createElement(\"style\");\n",
       "    element.appendChild(document.createTextNode(css));\n",
       "    document.body.appendChild(element);\n",
       "  }\n",
       "\n",
       "  \n",
       "  var js_urls = [\"https://cdn.bokeh.org/bokeh/release/bokeh-2.2.1.min.js\", \"https://cdn.bokeh.org/bokeh/release/bokeh-widgets-2.2.1.min.js\", \"https://cdn.bokeh.org/bokeh/release/bokeh-tables-2.2.1.min.js\"];\n",
       "  var css_urls = [];\n",
       "  \n",
       "\n",
       "  var inline_js = [\n",
       "    function(Bokeh) {\n",
       "      Bokeh.set_log_level(\"info\");\n",
       "    },\n",
       "    function(Bokeh) {\n",
       "    \n",
       "    \n",
       "    }\n",
       "  ];\n",
       "\n",
       "  function run_inline_js() {\n",
       "    \n",
       "    if (root.Bokeh !== undefined || force === true) {\n",
       "      \n",
       "    for (var i = 0; i < inline_js.length; i++) {\n",
       "      inline_js[i].call(root, root.Bokeh);\n",
       "    }\n",
       "    if (force === true) {\n",
       "        display_loaded();\n",
       "      }} else if (Date.now() < root._bokeh_timeout) {\n",
       "      setTimeout(run_inline_js, 100);\n",
       "    } else if (!root._bokeh_failed_load) {\n",
       "      console.log(\"Bokeh: BokehJS failed to load within specified timeout.\");\n",
       "      root._bokeh_failed_load = true;\n",
       "    } else if (force !== true) {\n",
       "      var cell = $(document.getElementById(\"1001\")).parents('.cell').data().cell;\n",
       "      cell.output_area.append_execute_result(NB_LOAD_WARNING)\n",
       "    }\n",
       "\n",
       "  }\n",
       "\n",
       "  if (root._bokeh_is_loading === 0) {\n",
       "    console.debug(\"Bokeh: BokehJS loaded, going straight to plotting\");\n",
       "    run_inline_js();\n",
       "  } else {\n",
       "    load_libs(css_urls, js_urls, function() {\n",
       "      console.debug(\"Bokeh: BokehJS plotting callback run at\", now());\n",
       "      run_inline_js();\n",
       "    });\n",
       "  }\n",
       "}(window));"
      ],
      "application/vnd.bokehjs_load.v0+json": "\n(function(root) {\n  function now() {\n    return new Date();\n  }\n\n  var force = true;\n\n  if (typeof root._bokeh_onload_callbacks === \"undefined\" || force === true) {\n    root._bokeh_onload_callbacks = [];\n    root._bokeh_is_loading = undefined;\n  }\n\n  \n\n  \n  if (typeof (root._bokeh_timeout) === \"undefined\" || force === true) {\n    root._bokeh_timeout = Date.now() + 5000;\n    root._bokeh_failed_load = false;\n  }\n\n  var NB_LOAD_WARNING = {'data': {'text/html':\n     \"<div style='background-color: #fdd'>\\n\"+\n     \"<p>\\n\"+\n     \"BokehJS does not appear to have successfully loaded. If loading BokehJS from CDN, this \\n\"+\n     \"may be due to a slow or bad network connection. Possible fixes:\\n\"+\n     \"</p>\\n\"+\n     \"<ul>\\n\"+\n     \"<li>re-rerun `output_notebook()` to attempt to load from CDN again, or</li>\\n\"+\n     \"<li>use INLINE resources instead, as so:</li>\\n\"+\n     \"</ul>\\n\"+\n     \"<code>\\n\"+\n     \"from bokeh.resources import INLINE\\n\"+\n     \"output_notebook(resources=INLINE)\\n\"+\n     \"</code>\\n\"+\n     \"</div>\"}};\n\n  function display_loaded() {\n    var el = document.getElementById(\"1001\");\n    if (el != null) {\n      el.textContent = \"BokehJS is loading...\";\n    }\n    if (root.Bokeh !== undefined) {\n      if (el != null) {\n        el.textContent = \"BokehJS \" + root.Bokeh.version + \" successfully loaded.\";\n      }\n    } else if (Date.now() < root._bokeh_timeout) {\n      setTimeout(display_loaded, 100)\n    }\n  }\n\n\n  function run_callbacks() {\n    try {\n      root._bokeh_onload_callbacks.forEach(function(callback) {\n        if (callback != null)\n          callback();\n      });\n    } finally {\n      delete root._bokeh_onload_callbacks\n    }\n    console.debug(\"Bokeh: all callbacks have finished\");\n  }\n\n  function load_libs(css_urls, js_urls, callback) {\n    if (css_urls == null) css_urls = [];\n    if (js_urls == null) js_urls = [];\n\n    root._bokeh_onload_callbacks.push(callback);\n    if (root._bokeh_is_loading > 0) {\n      console.debug(\"Bokeh: BokehJS is being loaded, scheduling callback at\", now());\n      return null;\n    }\n    if (js_urls == null || js_urls.length === 0) {\n      run_callbacks();\n      return null;\n    }\n    console.debug(\"Bokeh: BokehJS not loaded, scheduling load and callback at\", now());\n    root._bokeh_is_loading = css_urls.length + js_urls.length;\n\n    function on_load() {\n      root._bokeh_is_loading--;\n      if (root._bokeh_is_loading === 0) {\n        console.debug(\"Bokeh: all BokehJS libraries/stylesheets loaded\");\n        run_callbacks()\n      }\n    }\n\n    function on_error() {\n      console.error(\"failed to load \" + url);\n    }\n\n    for (var i = 0; i < css_urls.length; i++) {\n      var url = css_urls[i];\n      const element = document.createElement(\"link\");\n      element.onload = on_load;\n      element.onerror = on_error;\n      element.rel = \"stylesheet\";\n      element.type = \"text/css\";\n      element.href = url;\n      console.debug(\"Bokeh: injecting link tag for BokehJS stylesheet: \", url);\n      document.body.appendChild(element);\n    }\n\n    const hashes = {\"https://cdn.bokeh.org/bokeh/release/bokeh-2.2.1.min.js\": \"qkRvDQVAIfzsJo40iRBbxt6sttt0hv4lh74DG7OK4MCHv4C5oohXYoHUM5W11uqS\", \"https://cdn.bokeh.org/bokeh/release/bokeh-widgets-2.2.1.min.js\": \"Sb7Mr06a9TNlet/GEBeKaf5xH3eb6AlCzwjtU82wNPyDrnfoiVl26qnvlKjmcAd+\", \"https://cdn.bokeh.org/bokeh/release/bokeh-tables-2.2.1.min.js\": \"HaJ15vgfmcfRtB4c4YBOI4f1MUujukqInOWVqZJZZGK7Q+ivud0OKGSTn/Vm2iso\"};\n\n    for (var i = 0; i < js_urls.length; i++) {\n      var url = js_urls[i];\n      var element = document.createElement('script');\n      element.onload = on_load;\n      element.onerror = on_error;\n      element.async = false;\n      element.src = url;\n      if (url in hashes) {\n        element.crossOrigin = \"anonymous\";\n        element.integrity = \"sha384-\" + hashes[url];\n      }\n      console.debug(\"Bokeh: injecting script tag for BokehJS library: \", url);\n      document.head.appendChild(element);\n    }\n  };\n\n  function inject_raw_css(css) {\n    const element = document.createElement(\"style\");\n    element.appendChild(document.createTextNode(css));\n    document.body.appendChild(element);\n  }\n\n  \n  var js_urls = [\"https://cdn.bokeh.org/bokeh/release/bokeh-2.2.1.min.js\", \"https://cdn.bokeh.org/bokeh/release/bokeh-widgets-2.2.1.min.js\", \"https://cdn.bokeh.org/bokeh/release/bokeh-tables-2.2.1.min.js\"];\n  var css_urls = [];\n  \n\n  var inline_js = [\n    function(Bokeh) {\n      Bokeh.set_log_level(\"info\");\n    },\n    function(Bokeh) {\n    \n    \n    }\n  ];\n\n  function run_inline_js() {\n    \n    if (root.Bokeh !== undefined || force === true) {\n      \n    for (var i = 0; i < inline_js.length; i++) {\n      inline_js[i].call(root, root.Bokeh);\n    }\n    if (force === true) {\n        display_loaded();\n      }} else if (Date.now() < root._bokeh_timeout) {\n      setTimeout(run_inline_js, 100);\n    } else if (!root._bokeh_failed_load) {\n      console.log(\"Bokeh: BokehJS failed to load within specified timeout.\");\n      root._bokeh_failed_load = true;\n    } else if (force !== true) {\n      var cell = $(document.getElementById(\"1001\")).parents('.cell').data().cell;\n      cell.output_area.append_execute_result(NB_LOAD_WARNING)\n    }\n\n  }\n\n  if (root._bokeh_is_loading === 0) {\n    console.debug(\"Bokeh: BokehJS loaded, going straight to plotting\");\n    run_inline_js();\n  } else {\n    load_libs(css_urls, js_urls, function() {\n      console.debug(\"Bokeh: BokehJS plotting callback run at\", now());\n      run_inline_js();\n    });\n  }\n}(window));"
     },
     "metadata": {},
     "output_type": "display_data"
    }
   ],
   "source": [
    "import math\n",
    "import sys  \n",
    "import datetime\n",
    "import random\n",
    "from tqdm import tqdm\n",
    "import pandas as pd\n",
    "import numpy as np\n",
    "from geopy.distance import geodesic\n",
    "import seaborn as sns\n",
    "from scipy import stats\n",
    "\n",
    "# Bokeh\n",
    "from bokeh.plotting import figure, show, output_notebook\n",
    "from bokeh.tile_providers import get_provider, Vendors, OSM, CARTODBPOSITRON, WIKIMEDIA\n",
    "\n",
    "pd.set_option('display.max_columns', None)\n",
    "\n",
    "## Inicialização de variaveis para o Bokeh\n",
    "output_notebook()\n",
    "tile_provider = OSM\n",
    "colors=['red','blue', 'black', 'yellow']\n"
   ]
  },
  {
   "cell_type": "markdown",
   "metadata": {},
   "source": [
    "## Dublin Bus GPS sample data from Dublin City Council (Insight Project)\n",
    "\n",
    "Bus GPS Data Dublin Bus GPS data across Dublin City, from Dublin **City Council'traffic control**, in csv format. \n",
    "\n",
    "Each datapoint (row in the CSV file) has the following entries:\n",
    "\n",
    "- Timestamp micro since 1970 01 01 00:00:00 GMT  \n",
    "- Line ID  \n",
    "- Direction  \n",
    "- Journey Pattern ID  \n",
    "- Time Frame (The start date of the production time table - in Dublin the production time table starts at 6am and ends at 3am)  \n",
    "- Vehicle Journey ID (A given run on the journey pattern)  \n",
    "- Operator (Bus operator, not the driver)  \n",
    "- Congestion [0=no,1=yes]  \n",
    "- Lon WGS84  \n",
    "- Lat WGS84\n",
    "- Delay (seconds, negative if bus is ahead of schedule)  \n",
    "- Block ID (a section ID of the journey pattern)  \n",
    "- Vehicle ID  \n",
    "- Stop ID  \n",
    "- At Stop [0=no,1=yes]\n",
    "\n",
    "Fonte: https://data.gov.ie/dataset/dublin-bus-gps-sample-data-from-dublin-city-council-insight-project\n"
   ]
  },
  {
   "cell_type": "markdown",
   "metadata": {},
   "source": [
    "### Abre arquivo referente aos dias 10~12 de Janeiro de 2013"
   ]
  },
  {
   "cell_type": "markdown",
   "metadata": {},
   "source": [
    "### Colunas originais do dataset"
   ]
  },
  {
   "cell_type": "code",
   "execution_count": 2,
   "metadata": {},
   "outputs": [],
   "source": [
    "features = ['timestamp','line_id','direction','journey_id',\n",
    "            'time_frame','vehicle_journey_id','operator',\n",
    "            'congestion','lng','lat','delay','block_id',\n",
    "            'vehicle_id','stop_id', 'stop']"
   ]
  },
  {
   "cell_type": "code",
   "execution_count": 3,
   "metadata": {},
   "outputs": [
    {
     "name": "stderr",
     "output_type": "stream",
     "text": [
      "100%|██████████| 1/1 [00:03<00:00,  3.25s/it]\n"
     ]
    }
   ],
   "source": [
    "df = pd.read_csv(\n",
    "    '../data/siri.20130110.csv.gz', \n",
    "    compression='gzip', \n",
    "    names=features, \n",
    "    header=None)\n",
    "for i in tqdm(range(20130111,20130112,1)):\n",
    "    data = pd.read_csv(\n",
    "        '../data/siri.'+str(i)+'.csv.gz', \n",
    "        compression='gzip', \n",
    "        names=features, \n",
    "        header=None)\n",
    "    df = pd.concat([df,data])"
   ]
  },
  {
   "cell_type": "markdown",
   "metadata": {},
   "source": [
    "### Lista com nomes das colunas que formam a chave da trajetória"
   ]
  },
  {
   "cell_type": "code",
   "execution_count": 4,
   "metadata": {},
   "outputs": [],
   "source": [
    "trajetoria = [\n",
    "    'line_id', 'journey_id', 'time_frame',\n",
    "    'vehicle_journey_id', 'operator', 'vehicle_id'\n",
    "             ]"
   ]
  },
  {
   "cell_type": "markdown",
   "metadata": {},
   "source": [
    "## Análise inicial do dataset"
   ]
  },
  {
   "cell_type": "code",
   "execution_count": 5,
   "metadata": {},
   "outputs": [
    {
     "data": {
      "text/html": [
       "<div>\n",
       "<style scoped>\n",
       "    .dataframe tbody tr th:only-of-type {\n",
       "        vertical-align: middle;\n",
       "    }\n",
       "\n",
       "    .dataframe tbody tr th {\n",
       "        vertical-align: top;\n",
       "    }\n",
       "\n",
       "    .dataframe thead th {\n",
       "        text-align: right;\n",
       "    }\n",
       "</style>\n",
       "<table border=\"1\" class=\"dataframe\">\n",
       "  <thead>\n",
       "    <tr style=\"text-align: right;\">\n",
       "      <th></th>\n",
       "      <th>timestamp</th>\n",
       "      <th>line_id</th>\n",
       "      <th>direction</th>\n",
       "      <th>journey_id</th>\n",
       "      <th>time_frame</th>\n",
       "      <th>vehicle_journey_id</th>\n",
       "      <th>operator</th>\n",
       "      <th>congestion</th>\n",
       "      <th>lng</th>\n",
       "      <th>lat</th>\n",
       "      <th>delay</th>\n",
       "      <th>block_id</th>\n",
       "      <th>vehicle_id</th>\n",
       "      <th>stop_id</th>\n",
       "      <th>stop</th>\n",
       "    </tr>\n",
       "  </thead>\n",
       "  <tbody>\n",
       "    <tr>\n",
       "      <th>0</th>\n",
       "      <td>1357776002000000</td>\n",
       "      <td>31.0</td>\n",
       "      <td>0</td>\n",
       "      <td>NaN</td>\n",
       "      <td>2013-01-09</td>\n",
       "      <td>5509</td>\n",
       "      <td>CF</td>\n",
       "      <td>0</td>\n",
       "      <td>-6.257756</td>\n",
       "      <td>53.349159</td>\n",
       "      <td>0</td>\n",
       "      <td>31008</td>\n",
       "      <td>38075</td>\n",
       "      <td>296.0</td>\n",
       "      <td>0</td>\n",
       "    </tr>\n",
       "    <tr>\n",
       "      <th>1</th>\n",
       "      <td>1357776002000000</td>\n",
       "      <td>66.0</td>\n",
       "      <td>0</td>\n",
       "      <td>066A0001</td>\n",
       "      <td>2013-01-09</td>\n",
       "      <td>2390</td>\n",
       "      <td>PO</td>\n",
       "      <td>0</td>\n",
       "      <td>-6.406750</td>\n",
       "      <td>53.357983</td>\n",
       "      <td>-101</td>\n",
       "      <td>66001</td>\n",
       "      <td>33376</td>\n",
       "      <td>3993.0</td>\n",
       "      <td>0</td>\n",
       "    </tr>\n",
       "    <tr>\n",
       "      <th>2</th>\n",
       "      <td>1357776002000000</td>\n",
       "      <td>49.0</td>\n",
       "      <td>0</td>\n",
       "      <td>00491001</td>\n",
       "      <td>2013-01-09</td>\n",
       "      <td>2837</td>\n",
       "      <td>RD</td>\n",
       "      <td>0</td>\n",
       "      <td>-6.272375</td>\n",
       "      <td>53.341053</td>\n",
       "      <td>-149</td>\n",
       "      <td>49006</td>\n",
       "      <td>33483</td>\n",
       "      <td>2383.0</td>\n",
       "      <td>0</td>\n",
       "    </tr>\n",
       "    <tr>\n",
       "      <th>3</th>\n",
       "      <td>1357776002000000</td>\n",
       "      <td>14.0</td>\n",
       "      <td>0</td>\n",
       "      <td>00141001</td>\n",
       "      <td>2013-01-09</td>\n",
       "      <td>5452</td>\n",
       "      <td>SL</td>\n",
       "      <td>0</td>\n",
       "      <td>-6.251083</td>\n",
       "      <td>53.357666</td>\n",
       "      <td>-251</td>\n",
       "      <td>14101</td>\n",
       "      <td>33113</td>\n",
       "      <td>248.0</td>\n",
       "      <td>1</td>\n",
       "    </tr>\n",
       "    <tr>\n",
       "      <th>4</th>\n",
       "      <td>1357776002000000</td>\n",
       "      <td>40.0</td>\n",
       "      <td>0</td>\n",
       "      <td>040D0001</td>\n",
       "      <td>2013-01-09</td>\n",
       "      <td>2217</td>\n",
       "      <td>HN</td>\n",
       "      <td>0</td>\n",
       "      <td>-6.390792</td>\n",
       "      <td>53.422108</td>\n",
       "      <td>-478</td>\n",
       "      <td>40203</td>\n",
       "      <td>38071</td>\n",
       "      <td>7104.0</td>\n",
       "      <td>0</td>\n",
       "    </tr>\n",
       "  </tbody>\n",
       "</table>\n",
       "</div>"
      ],
      "text/plain": [
       "          timestamp  line_id  direction journey_id  time_frame  \\\n",
       "0  1357776002000000     31.0          0        NaN  2013-01-09   \n",
       "1  1357776002000000     66.0          0   066A0001  2013-01-09   \n",
       "2  1357776002000000     49.0          0   00491001  2013-01-09   \n",
       "3  1357776002000000     14.0          0   00141001  2013-01-09   \n",
       "4  1357776002000000     40.0          0   040D0001  2013-01-09   \n",
       "\n",
       "   vehicle_journey_id operator  congestion       lng        lat  delay  \\\n",
       "0                5509       CF           0 -6.257756  53.349159      0   \n",
       "1                2390       PO           0 -6.406750  53.357983   -101   \n",
       "2                2837       RD           0 -6.272375  53.341053   -149   \n",
       "3                5452       SL           0 -6.251083  53.357666   -251   \n",
       "4                2217       HN           0 -6.390792  53.422108   -478   \n",
       "\n",
       "   block_id  vehicle_id  stop_id  stop  \n",
       "0     31008       38075    296.0     0  \n",
       "1     66001       33376   3993.0     0  \n",
       "2     49006       33483   2383.0     0  \n",
       "3     14101       33113    248.0     1  \n",
       "4     40203       38071   7104.0     0  "
      ]
     },
     "execution_count": 5,
     "metadata": {},
     "output_type": "execute_result"
    }
   ],
   "source": [
    "df.head()"
   ]
  },
  {
   "cell_type": "code",
   "execution_count": 6,
   "metadata": {},
   "outputs": [
    {
     "data": {
      "text/html": [
       "<div>\n",
       "<style scoped>\n",
       "    .dataframe tbody tr th:only-of-type {\n",
       "        vertical-align: middle;\n",
       "    }\n",
       "\n",
       "    .dataframe tbody tr th {\n",
       "        vertical-align: top;\n",
       "    }\n",
       "\n",
       "    .dataframe thead th {\n",
       "        text-align: right;\n",
       "    }\n",
       "</style>\n",
       "<table border=\"1\" class=\"dataframe\">\n",
       "  <thead>\n",
       "    <tr style=\"text-align: right;\">\n",
       "      <th></th>\n",
       "      <th>timestamp</th>\n",
       "      <th>line_id</th>\n",
       "      <th>direction</th>\n",
       "      <th>journey_id</th>\n",
       "      <th>time_frame</th>\n",
       "      <th>vehicle_journey_id</th>\n",
       "      <th>operator</th>\n",
       "      <th>congestion</th>\n",
       "      <th>lng</th>\n",
       "      <th>lat</th>\n",
       "      <th>delay</th>\n",
       "      <th>block_id</th>\n",
       "      <th>vehicle_id</th>\n",
       "      <th>stop_id</th>\n",
       "      <th>stop</th>\n",
       "    </tr>\n",
       "  </thead>\n",
       "  <tbody>\n",
       "    <tr>\n",
       "      <th>1729769</th>\n",
       "      <td>1357948798000000</td>\n",
       "      <td>83.0</td>\n",
       "      <td>0</td>\n",
       "      <td>00830001</td>\n",
       "      <td>2013-01-11</td>\n",
       "      <td>5776</td>\n",
       "      <td>HN</td>\n",
       "      <td>0</td>\n",
       "      <td>-6.302700</td>\n",
       "      <td>53.318638</td>\n",
       "      <td>-144</td>\n",
       "      <td>83011</td>\n",
       "      <td>40020</td>\n",
       "      <td>2489.0</td>\n",
       "      <td>0</td>\n",
       "    </tr>\n",
       "    <tr>\n",
       "      <th>1729770</th>\n",
       "      <td>1357948798000000</td>\n",
       "      <td>39.0</td>\n",
       "      <td>0</td>\n",
       "      <td>NaN</td>\n",
       "      <td>2013-01-11</td>\n",
       "      <td>3175</td>\n",
       "      <td>PO</td>\n",
       "      <td>0</td>\n",
       "      <td>-6.244823</td>\n",
       "      <td>53.328770</td>\n",
       "      <td>170</td>\n",
       "      <td>39020</td>\n",
       "      <td>36054</td>\n",
       "      <td>767.0</td>\n",
       "      <td>0</td>\n",
       "    </tr>\n",
       "    <tr>\n",
       "      <th>1729771</th>\n",
       "      <td>1357948798000000</td>\n",
       "      <td>15.0</td>\n",
       "      <td>0</td>\n",
       "      <td>00151001</td>\n",
       "      <td>2013-01-11</td>\n",
       "      <td>5112</td>\n",
       "      <td>HN</td>\n",
       "      <td>0</td>\n",
       "      <td>-6.152171</td>\n",
       "      <td>53.402569</td>\n",
       "      <td>503</td>\n",
       "      <td>15105</td>\n",
       "      <td>33502</td>\n",
       "      <td>7245.0</td>\n",
       "      <td>1</td>\n",
       "    </tr>\n",
       "    <tr>\n",
       "      <th>1729772</th>\n",
       "      <td>1357948798000000</td>\n",
       "      <td>272.0</td>\n",
       "      <td>0</td>\n",
       "      <td>027B0002</td>\n",
       "      <td>2013-01-11</td>\n",
       "      <td>369</td>\n",
       "      <td>HN</td>\n",
       "      <td>0</td>\n",
       "      <td>-6.276100</td>\n",
       "      <td>53.418041</td>\n",
       "      <td>129</td>\n",
       "      <td>272005</td>\n",
       "      <td>33504</td>\n",
       "      <td>1629.0</td>\n",
       "      <td>0</td>\n",
       "    </tr>\n",
       "    <tr>\n",
       "      <th>1729773</th>\n",
       "      <td>1357948798000000</td>\n",
       "      <td>39.0</td>\n",
       "      <td>0</td>\n",
       "      <td>00391001</td>\n",
       "      <td>2013-01-11</td>\n",
       "      <td>3020</td>\n",
       "      <td>PO</td>\n",
       "      <td>0</td>\n",
       "      <td>-6.252700</td>\n",
       "      <td>53.331966</td>\n",
       "      <td>-486</td>\n",
       "      <td>39010</td>\n",
       "      <td>36061</td>\n",
       "      <td>7339.0</td>\n",
       "      <td>1</td>\n",
       "    </tr>\n",
       "  </tbody>\n",
       "</table>\n",
       "</div>"
      ],
      "text/plain": [
       "                timestamp  line_id  direction journey_id  time_frame  \\\n",
       "1729769  1357948798000000     83.0          0   00830001  2013-01-11   \n",
       "1729770  1357948798000000     39.0          0        NaN  2013-01-11   \n",
       "1729771  1357948798000000     15.0          0   00151001  2013-01-11   \n",
       "1729772  1357948798000000    272.0          0   027B0002  2013-01-11   \n",
       "1729773  1357948798000000     39.0          0   00391001  2013-01-11   \n",
       "\n",
       "         vehicle_journey_id operator  congestion       lng        lat  delay  \\\n",
       "1729769                5776       HN           0 -6.302700  53.318638   -144   \n",
       "1729770                3175       PO           0 -6.244823  53.328770    170   \n",
       "1729771                5112       HN           0 -6.152171  53.402569    503   \n",
       "1729772                 369       HN           0 -6.276100  53.418041    129   \n",
       "1729773                3020       PO           0 -6.252700  53.331966   -486   \n",
       "\n",
       "         block_id  vehicle_id  stop_id  stop  \n",
       "1729769     83011       40020   2489.0     0  \n",
       "1729770     39020       36054    767.0     0  \n",
       "1729771     15105       33502   7245.0     1  \n",
       "1729772    272005       33504   1629.0     0  \n",
       "1729773     39010       36061   7339.0     1  "
      ]
     },
     "execution_count": 6,
     "metadata": {},
     "output_type": "execute_result"
    }
   ],
   "source": [
    "df.tail()"
   ]
  },
  {
   "cell_type": "code",
   "execution_count": 7,
   "metadata": {},
   "outputs": [
    {
     "name": "stdout",
     "output_type": "stream",
     "text": [
      "<class 'pandas.core.frame.DataFrame'>\n",
      "Int64Index: 3430406 entries, 0 to 1729773\n",
      "Data columns (total 15 columns):\n",
      " #   Column              Dtype  \n",
      "---  ------              -----  \n",
      " 0   timestamp           int64  \n",
      " 1   line_id             float64\n",
      " 2   direction           int64  \n",
      " 3   journey_id          object \n",
      " 4   time_frame          object \n",
      " 5   vehicle_journey_id  int64  \n",
      " 6   operator            object \n",
      " 7   congestion          int64  \n",
      " 8   lng                 float64\n",
      " 9   lat                 float64\n",
      " 10  delay               int64  \n",
      " 11  block_id            int64  \n",
      " 12  vehicle_id          int64  \n",
      " 13  stop_id             float64\n",
      " 14  stop                int64  \n",
      "dtypes: float64(4), int64(8), object(3)\n",
      "memory usage: 418.8+ MB\n"
     ]
    }
   ],
   "source": [
    "df.info()"
   ]
  },
  {
   "cell_type": "code",
   "execution_count": 8,
   "metadata": {},
   "outputs": [
    {
     "data": {
      "text/html": [
       "<div>\n",
       "<style scoped>\n",
       "    .dataframe tbody tr th:only-of-type {\n",
       "        vertical-align: middle;\n",
       "    }\n",
       "\n",
       "    .dataframe tbody tr th {\n",
       "        vertical-align: top;\n",
       "    }\n",
       "\n",
       "    .dataframe thead th {\n",
       "        text-align: right;\n",
       "    }\n",
       "</style>\n",
       "<table border=\"1\" class=\"dataframe\">\n",
       "  <thead>\n",
       "    <tr style=\"text-align: right;\">\n",
       "      <th></th>\n",
       "      <th>timestamp</th>\n",
       "      <th>line_id</th>\n",
       "      <th>direction</th>\n",
       "      <th>vehicle_journey_id</th>\n",
       "      <th>congestion</th>\n",
       "      <th>lng</th>\n",
       "      <th>lat</th>\n",
       "      <th>delay</th>\n",
       "      <th>block_id</th>\n",
       "      <th>vehicle_id</th>\n",
       "      <th>stop_id</th>\n",
       "      <th>stop</th>\n",
       "    </tr>\n",
       "  </thead>\n",
       "  <tbody>\n",
       "    <tr>\n",
       "      <th>count</th>\n",
       "      <td>3.430406e+06</td>\n",
       "      <td>3.429963e+06</td>\n",
       "      <td>3430406.0</td>\n",
       "      <td>3.430406e+06</td>\n",
       "      <td>3.430406e+06</td>\n",
       "      <td>3.430406e+06</td>\n",
       "      <td>3.430406e+06</td>\n",
       "      <td>3.430406e+06</td>\n",
       "      <td>3.430406e+06</td>\n",
       "      <td>3.430406e+06</td>\n",
       "      <td>3.236571e+06</td>\n",
       "      <td>3.430406e+06</td>\n",
       "    </tr>\n",
       "    <tr>\n",
       "      <th>mean</th>\n",
       "      <td>1.357871e+15</td>\n",
       "      <td>7.674974e+01</td>\n",
       "      <td>0.0</td>\n",
       "      <td>8.030546e+03</td>\n",
       "      <td>1.081942e-02</td>\n",
       "      <td>-6.271851e+00</td>\n",
       "      <td>5.334449e+01</td>\n",
       "      <td>-1.286452e+01</td>\n",
       "      <td>1.157287e+05</td>\n",
       "      <td>3.534091e+04</td>\n",
       "      <td>2.755840e+03</td>\n",
       "      <td>2.306231e-01</td>\n",
       "    </tr>\n",
       "    <tr>\n",
       "      <th>std</th>\n",
       "      <td>4.666748e+10</td>\n",
       "      <td>1.110898e+02</td>\n",
       "      <td>0.0</td>\n",
       "      <td>6.354814e+04</td>\n",
       "      <td>1.034522e-01</td>\n",
       "      <td>8.350831e-02</td>\n",
       "      <td>5.512406e-02</td>\n",
       "      <td>4.634146e+02</td>\n",
       "      <td>2.029284e+05</td>\n",
       "      <td>3.250063e+03</td>\n",
       "      <td>2.187218e+03</td>\n",
       "      <td>4.212317e-01</td>\n",
       "    </tr>\n",
       "    <tr>\n",
       "      <th>min</th>\n",
       "      <td>1.357776e+15</td>\n",
       "      <td>1.000000e+00</td>\n",
       "      <td>0.0</td>\n",
       "      <td>1.000000e+00</td>\n",
       "      <td>0.000000e+00</td>\n",
       "      <td>-6.615016e+00</td>\n",
       "      <td>5.307028e+01</td>\n",
       "      <td>-7.334000e+03</td>\n",
       "      <td>1.001000e+03</td>\n",
       "      <td>2.804700e+04</td>\n",
       "      <td>2.000000e+00</td>\n",
       "      <td>0.000000e+00</td>\n",
       "    </tr>\n",
       "    <tr>\n",
       "      <th>25%</th>\n",
       "      <td>1.357828e+15</td>\n",
       "      <td>2.500000e+01</td>\n",
       "      <td>0.0</td>\n",
       "      <td>2.007000e+03</td>\n",
       "      <td>0.000000e+00</td>\n",
       "      <td>-6.307797e+00</td>\n",
       "      <td>5.331963e+01</td>\n",
       "      <td>-1.880000e+02</td>\n",
       "      <td>1.602100e+04</td>\n",
       "      <td>3.329100e+04</td>\n",
       "      <td>8.330000e+02</td>\n",
       "      <td>0.000000e+00</td>\n",
       "    </tr>\n",
       "    <tr>\n",
       "      <th>50%</th>\n",
       "      <td>1.357885e+15</td>\n",
       "      <td>4.000000e+01</td>\n",
       "      <td>0.0</td>\n",
       "      <td>3.856000e+03</td>\n",
       "      <td>0.000000e+00</td>\n",
       "      <td>-6.261396e+00</td>\n",
       "      <td>5.334624e+01</td>\n",
       "      <td>0.000000e+00</td>\n",
       "      <td>4.021000e+04</td>\n",
       "      <td>3.351400e+04</td>\n",
       "      <td>2.101000e+03</td>\n",
       "      <td>0.000000e+00</td>\n",
       "    </tr>\n",
       "    <tr>\n",
       "      <th>75%</th>\n",
       "      <td>1.357914e+15</td>\n",
       "      <td>8.300000e+01</td>\n",
       "      <td>0.0</td>\n",
       "      <td>5.520000e+03</td>\n",
       "      <td>0.000000e+00</td>\n",
       "      <td>-6.232217e+00</td>\n",
       "      <td>5.337394e+01</td>\n",
       "      <td>1.290000e+02</td>\n",
       "      <td>1.020050e+05</td>\n",
       "      <td>3.801000e+04</td>\n",
       "      <td>4.411000e+03</td>\n",
       "      <td>0.000000e+00</td>\n",
       "    </tr>\n",
       "    <tr>\n",
       "      <th>max</th>\n",
       "      <td>1.357949e+15</td>\n",
       "      <td>7.470000e+02</td>\n",
       "      <td>0.0</td>\n",
       "      <td>9.997110e+05</td>\n",
       "      <td>1.000000e+00</td>\n",
       "      <td>-6.052917e+00</td>\n",
       "      <td>5.360655e+01</td>\n",
       "      <td>1.161220e+05</td>\n",
       "      <td>8.350020e+05</td>\n",
       "      <td>4.307800e+04</td>\n",
       "      <td>7.552000e+03</td>\n",
       "      <td>1.000000e+00</td>\n",
       "    </tr>\n",
       "  </tbody>\n",
       "</table>\n",
       "</div>"
      ],
      "text/plain": [
       "          timestamp       line_id  direction  vehicle_journey_id  \\\n",
       "count  3.430406e+06  3.429963e+06  3430406.0        3.430406e+06   \n",
       "mean   1.357871e+15  7.674974e+01        0.0        8.030546e+03   \n",
       "std    4.666748e+10  1.110898e+02        0.0        6.354814e+04   \n",
       "min    1.357776e+15  1.000000e+00        0.0        1.000000e+00   \n",
       "25%    1.357828e+15  2.500000e+01        0.0        2.007000e+03   \n",
       "50%    1.357885e+15  4.000000e+01        0.0        3.856000e+03   \n",
       "75%    1.357914e+15  8.300000e+01        0.0        5.520000e+03   \n",
       "max    1.357949e+15  7.470000e+02        0.0        9.997110e+05   \n",
       "\n",
       "         congestion           lng           lat         delay      block_id  \\\n",
       "count  3.430406e+06  3.430406e+06  3.430406e+06  3.430406e+06  3.430406e+06   \n",
       "mean   1.081942e-02 -6.271851e+00  5.334449e+01 -1.286452e+01  1.157287e+05   \n",
       "std    1.034522e-01  8.350831e-02  5.512406e-02  4.634146e+02  2.029284e+05   \n",
       "min    0.000000e+00 -6.615016e+00  5.307028e+01 -7.334000e+03  1.001000e+03   \n",
       "25%    0.000000e+00 -6.307797e+00  5.331963e+01 -1.880000e+02  1.602100e+04   \n",
       "50%    0.000000e+00 -6.261396e+00  5.334624e+01  0.000000e+00  4.021000e+04   \n",
       "75%    0.000000e+00 -6.232217e+00  5.337394e+01  1.290000e+02  1.020050e+05   \n",
       "max    1.000000e+00 -6.052917e+00  5.360655e+01  1.161220e+05  8.350020e+05   \n",
       "\n",
       "         vehicle_id       stop_id          stop  \n",
       "count  3.430406e+06  3.236571e+06  3.430406e+06  \n",
       "mean   3.534091e+04  2.755840e+03  2.306231e-01  \n",
       "std    3.250063e+03  2.187218e+03  4.212317e-01  \n",
       "min    2.804700e+04  2.000000e+00  0.000000e+00  \n",
       "25%    3.329100e+04  8.330000e+02  0.000000e+00  \n",
       "50%    3.351400e+04  2.101000e+03  0.000000e+00  \n",
       "75%    3.801000e+04  4.411000e+03  0.000000e+00  \n",
       "max    4.307800e+04  7.552000e+03  1.000000e+00  "
      ]
     },
     "execution_count": 8,
     "metadata": {},
     "output_type": "execute_result"
    }
   ],
   "source": [
    "df.describe()"
   ]
  },
  {
   "cell_type": "markdown",
   "metadata": {},
   "source": [
    "Retirar a coluna DIRECTION que não apresenta qualquer informação"
   ]
  },
  {
   "cell_type": "code",
   "execution_count": 9,
   "metadata": {},
   "outputs": [
    {
     "data": {
      "text/plain": [
       "False"
      ]
     },
     "execution_count": 9,
     "metadata": {},
     "output_type": "execute_result"
    }
   ],
   "source": [
    "df.drop('direction', axis=1, inplace=True)\n",
    "'direction' in df.columns"
   ]
  },
  {
   "cell_type": "markdown",
   "metadata": {},
   "source": [
    "### Ajusta tipo das features"
   ]
  },
  {
   "cell_type": "markdown",
   "metadata": {},
   "source": [
    "#### Boolean"
   ]
  },
  {
   "cell_type": "code",
   "execution_count": 10,
   "metadata": {},
   "outputs": [],
   "source": [
    "df.stop = df.stop.astype('bool')\n",
    "df.congestion = df.congestion.astype('bool')"
   ]
  },
  {
   "cell_type": "markdown",
   "metadata": {},
   "source": [
    "#### Datetime (microseconds - us)"
   ]
  },
  {
   "cell_type": "code",
   "execution_count": 11,
   "metadata": {},
   "outputs": [],
   "source": [
    "df['datetime'] = pd.to_datetime(df[\"timestamp\"], unit='us')"
   ]
  },
  {
   "cell_type": "markdown",
   "metadata": {},
   "source": [
    "##### Criação de duas novas features derivadas (day, hour)"
   ]
  },
  {
   "cell_type": "code",
   "execution_count": 12,
   "metadata": {},
   "outputs": [],
   "source": [
    "df['hour'] = df[\"datetime\"].dt.hour\n",
    "df['day'] = df[\"datetime\"].dt.day"
   ]
  },
  {
   "cell_type": "markdown",
   "metadata": {},
   "source": [
    "### Categoricos"
   ]
  },
  {
   "cell_type": "markdown",
   "metadata": {},
   "source": [
    "Indicar quais das colunas são categoricas:"
   ]
  },
  {
   "cell_type": "code",
   "execution_count": 13,
   "metadata": {},
   "outputs": [],
   "source": [
    "list_cats = ['line_id', 'journey_id' , 'time_frame', \n",
    "             'vehicle_journey_id', 'operator', 'block_id', \n",
    "             'vehicle_id', 'stop_id']"
   ]
  },
  {
   "cell_type": "code",
   "execution_count": 14,
   "metadata": {},
   "outputs": [],
   "source": [
    "for cat in list_cats:\n",
    "    df[cat] = df[cat].astype('category')"
   ]
  },
  {
   "cell_type": "markdown",
   "metadata": {},
   "source": [
    "### Quantos valores distintos há em cada features que compõe a chave?"
   ]
  },
  {
   "cell_type": "code",
   "execution_count": 15,
   "metadata": {},
   "outputs": [
    {
     "name": "stdout",
     "output_type": "stream",
     "text": [
      "Descritivo de instâncias únicas para cada atributo da chave:\n"
     ]
    },
    {
     "data": {
      "text/plain": [
       "(('line_id', 66),\n",
       " ('journey_id', 441),\n",
       " ('time_frame', 3),\n",
       " ('vehicle_journey_id', 7495),\n",
       " ('operator', 8),\n",
       " ('vehicle_id', 850))"
      ]
     },
     "execution_count": 15,
     "metadata": {},
     "output_type": "execute_result"
    }
   ],
   "source": [
    "lista_tamanhos = map((lambda x: len(df[x].unique())), trajetoria)\n",
    "mescla = zip(trajetoria, lista_tamanhos)\n",
    "print('Descritivo de instâncias únicas para cada atributo da chave:')\n",
    "tuple(mescla)"
   ]
  },
  {
   "cell_type": "markdown",
   "metadata": {},
   "source": [
    "### Como o 'prodution time' é entre 6am e 3am. Existem rotas fora desta janelas?"
   ]
  },
  {
   "cell_type": "code",
   "execution_count": 16,
   "metadata": {},
   "outputs": [
    {
     "data": {
      "text/html": [
       "<div>\n",
       "<style scoped>\n",
       "    .dataframe tbody tr th:only-of-type {\n",
       "        vertical-align: middle;\n",
       "    }\n",
       "\n",
       "    .dataframe tbody tr th {\n",
       "        vertical-align: top;\n",
       "    }\n",
       "\n",
       "    .dataframe thead th {\n",
       "        text-align: right;\n",
       "    }\n",
       "</style>\n",
       "<table border=\"1\" class=\"dataframe\">\n",
       "  <thead>\n",
       "    <tr style=\"text-align: right;\">\n",
       "      <th></th>\n",
       "      <th>timestamp</th>\n",
       "      <th>line_id</th>\n",
       "      <th>journey_id</th>\n",
       "      <th>time_frame</th>\n",
       "      <th>vehicle_journey_id</th>\n",
       "      <th>operator</th>\n",
       "      <th>congestion</th>\n",
       "      <th>lng</th>\n",
       "      <th>lat</th>\n",
       "      <th>delay</th>\n",
       "      <th>block_id</th>\n",
       "      <th>vehicle_id</th>\n",
       "      <th>stop_id</th>\n",
       "      <th>stop</th>\n",
       "      <th>datetime</th>\n",
       "      <th>hour</th>\n",
       "      <th>day</th>\n",
       "    </tr>\n",
       "  </thead>\n",
       "  <tbody>\n",
       "  </tbody>\n",
       "</table>\n",
       "</div>"
      ],
      "text/plain": [
       "Empty DataFrame\n",
       "Columns: [timestamp, line_id, journey_id, time_frame, vehicle_journey_id, operator, congestion, lng, lat, delay, block_id, vehicle_id, stop_id, stop, datetime, hour, day]\n",
       "Index: []"
      ]
     },
     "execution_count": 16,
     "metadata": {},
     "output_type": "execute_result"
    }
   ],
   "source": [
    "df[(3 < df.hour) & (df.hour < 6)]"
   ]
  },
  {
   "cell_type": "markdown",
   "metadata": {},
   "source": [
    "## Análisar trajetórias"
   ]
  },
  {
   "cell_type": "markdown",
   "metadata": {},
   "source": [
    "### ( ! ) Os blocos abaixo foram retirados pois estava dando erro com a alocação de memória na função groupby."
   ]
  },
  {
   "cell_type": "markdown",
   "metadata": {},
   "source": [
    "Eles vão fazem a análise do número de pontos em cada trajetórias e servem de embasamento para a seleção do número mínimo de 50 pontos para validar uma trajetória."
   ]
  },
  {
   "cell_type": "raw",
   "metadata": {},
   "source": [
    "df.info()"
   ]
  },
  {
   "cell_type": "raw",
   "metadata": {},
   "source": [
    "df_traj = df.groupby(trajetoria).size().reset_index()\n",
    "df_traj['points'] = df_traj[0]\n",
    "df_traj.drop(0, axis=1, inplace=True)"
   ]
  },
  {
   "cell_type": "raw",
   "metadata": {},
   "source": [
    "df_traj.head()"
   ]
  },
  {
   "cell_type": "raw",
   "metadata": {},
   "source": [
    "df_traj.points.describe()"
   ]
  },
  {
   "cell_type": "raw",
   "metadata": {},
   "source": [
    "df_traj.points.plot(kind='box')"
   ]
  },
  {
   "cell_type": "raw",
   "metadata": {},
   "source": [
    "df_traj.points.plot(kind='hist')"
   ]
  },
  {
   "cell_type": "raw",
   "metadata": {},
   "source": [
    "df_traj['points_log'] = np.log10(df_traj['points'])\n",
    "df_traj.plot(y='points_log', kind='hist')"
   ]
  },
  {
   "cell_type": "raw",
   "metadata": {},
   "source": [
    "df_traj.points_log.describe()"
   ]
  },
  {
   "cell_type": "markdown",
   "metadata": {},
   "source": [
    "Observamos uma partição dos número de pontos por trajetória um pouco abaixo de 100 pontos. Mais a frente iremos usar o valor limite de 50 pontos para excluir as trajetórias abaixo deste limiar."
   ]
  },
  {
   "cell_type": "code",
   "execution_count": 17,
   "metadata": {},
   "outputs": [],
   "source": [
    "minimo_pontos = 50"
   ]
  },
  {
   "cell_type": "markdown",
   "metadata": {},
   "source": [
    "## Gerar trajetórias"
   ]
  },
  {
   "cell_type": "markdown",
   "metadata": {},
   "source": [
    "Na função que gera trajetórias incluimos algumas features aproveitando o fato de que esta geração de trajetórias percorre o dataset linha a linha, uma vez que precisamos identificar um valor limite entre duas amostras do GPS para poder validar a trajetória. Usamos aqui o valor é de 5 minutos."
   ]
  },
  {
   "cell_type": "code",
   "execution_count": 18,
   "metadata": {},
   "outputs": [],
   "source": [
    "gps = ['lat','lng']\n",
    "\n",
    "def delta_time(t1, t2) -> float:\n",
    "    '''\n",
    "    Retorna diferença temporal em segundos\n",
    "    Ou np.nan se a diferença temporal para o ponto anterior\n",
    "    for superior a 5 minutos\n",
    "    '''\n",
    "    t1 = pd.to_datetime(t1,unit='us')\n",
    "    t2 = pd.to_datetime(t2,unit='us')\n",
    "    time = pd.Timedelta(np.abs(t2 - t1))\n",
    "    if (time.seconds > 5*60):\n",
    "        return np.nan\n",
    "    else:        \n",
    "        return time.seconds\n",
    "\n",
    "def calc_deltas(frame):\n",
    "    '''\n",
    "    Retorna o DF com as colunas de delta[tempo, distancia] preenchidas\n",
    "    Depende do valor da linha anterior (temporalmente)\n",
    "    Nas funções MAP são enviados os valores da linha presente e da anterior (shift(1))\n",
    "    '''\n",
    "    frame.dist_from_old_point = 0\n",
    "    frame.time_from_old_point = 0\n",
    "    delta_d = list(map(\n",
    "        lambda x, y: geodesic(x,y).meters, frame[gps].values[1:], frame[gps].shift(1).values[1:]))\n",
    "    delta_t = list(map(\n",
    "        lambda x, y: delta_time(x,y), frame['timestamp'].values[1:], frame['timestamp'].shift(1).values[1:]))\n",
    "    if (len(frame[frame.isna()]) == 0):\n",
    "        print('Não há quaisquer valores NaN')\n",
    "    frame['dist_from_old_point'] = [0, *delta_d]\n",
    "    frame['time_from_old_point'] = [0, *delta_t]\n",
    "    return frame"
   ]
  },
  {
   "cell_type": "markdown",
   "metadata": {},
   "source": [
    "Repartição do dataset em uma lista contendo vários dataframes, cada um referente a uma trajaetória "
   ]
  },
  {
   "cell_type": "markdown",
   "metadata": {},
   "source": [
    "No GroupBy a seguir todas as instâncias com uma das features listadas como chave com valor NaN são descartadas."
   ]
  },
  {
   "cell_type": "code",
   "execution_count": 19,
   "metadata": {},
   "outputs": [],
   "source": [
    "# Salvar as descartadas para plotagem ao final do notebook\n",
    "dfs_menos_q_50 = [x for _,x in df.groupby(trajetoria) if ((len(x) < 50) & (len(x) > 10))]\n",
    "\n",
    "# Repartição\n",
    "dfs = [x for _,x in df.groupby(trajetoria) if (len(x) > 50)]\n",
    "\n",
    "# Seleciona 100 trajetórias aleatórias\n",
    "random_traj = random.sample(range(0, len(dfs)), 100)\n",
    "dfs = [dfs[i] for i in random_traj] \n",
    "\n",
    "# Chamas calc_deltas para cada trajetória\n",
    "dfs = list(map(calc_deltas,dfs))\n",
    "\n",
    "# concatena as trajetorias de volta em um DF unico\n",
    "dfs = pd.concat(dfs)"
   ]
  },
  {
   "cell_type": "markdown",
   "metadata": {},
   "source": [
    "### Criação de novas features"
   ]
  },
  {
   "cell_type": "markdown",
   "metadata": {},
   "source": [
    "#### Velocidade e Aceleração"
   ]
  },
  {
   "cell_type": "code",
   "execution_count": 20,
   "metadata": {},
   "outputs": [],
   "source": [
    "dfs['velocity'] = dfs.dist_from_old_point / dfs.time_from_old_point\n",
    "dfs['acc'] = dfs.velocity * (1/dfs.time_from_old_point)\n",
    "dfs['acc'].fillna(value=0, inplace=True)\n",
    "dfs['velocity'].fillna(value=0, inplace=True)"
   ]
  },
  {
   "cell_type": "markdown",
   "metadata": {},
   "source": [
    "#### ID única para cada trajetória"
   ]
  },
  {
   "cell_type": "code",
   "execution_count": 21,
   "metadata": {},
   "outputs": [],
   "source": [
    "dfs[trajetoria] = dfs[trajetoria].astype('string')\n",
    "dfs['ID'] = dfs[trajetoria].agg('-'.join, axis=1).astype('category').cat.codes"
   ]
  },
  {
   "cell_type": "markdown",
   "metadata": {},
   "source": [
    "### Exclusão de pontos que diferem mais que 5 minutos do prévio"
   ]
  },
  {
   "cell_type": "markdown",
   "metadata": {},
   "source": [
    "Verifica também se os pontos restantes (anteriores) tem uma a quantidade mínima de pontos para validar a trajetória"
   ]
  },
  {
   "cell_type": "code",
   "execution_count": 22,
   "metadata": {},
   "outputs": [
    {
     "name": "stdout",
     "output_type": "stream",
     "text": [
      "Pontos a serem analisados:\n",
      "[53 76 80]\n"
     ]
    }
   ],
   "source": [
    "# IDs com np.nan na coluna time_from_old_point\n",
    "lista_IDs = dfs[dfs.time_from_old_point.isna()].ID.unique()\n",
    "print('Pontos a serem analisados:')\n",
    "print(lista_IDs)\n",
    "def index2remove(ID):\n",
    "    cc = dfs[dfs.ID==ID]\n",
    "    if (len(cc) == 0):\n",
    "        return\n",
    "    cc.sort_values('timestamp')\n",
    "    ts = cc[cc['time_from_old_point'].isna()].timestamp.values[0]\n",
    "    if (len(cc[cc.timestamp <= ts]) < 50):\n",
    "        #exclui todo mundo no caso de não ter 50 pontos restantes\n",
    "        print( f'A trajetória {ID} não tem o mínimos de pontos')\n",
    "        dfs.drop(cc.index, inplace=True)\n",
    "        return cc.index\n",
    "    else:\n",
    "        # exclui só do ponto problemático em diante\n",
    "        dfs.drop(cc[cc.timestamp >= ts].index, inplace=True)\n",
    "        return cc[cc.timestamp >= ts].index\n",
    "remover = list(map(index2remove,lista_IDs))"
   ]
  },
  {
   "cell_type": "code",
   "execution_count": 23,
   "metadata": {},
   "outputs": [
    {
     "data": {
      "text/plain": [
       "array([], dtype=int8)"
      ]
     },
     "execution_count": 23,
     "metadata": {},
     "output_type": "execute_result"
    }
   ],
   "source": [
    "lista_IDs = dfs[dfs.time_from_old_point.isna()].ID.values\n",
    "lista_IDs"
   ]
  },
  {
   "cell_type": "code",
   "execution_count": 24,
   "metadata": {},
   "outputs": [
    {
     "data": {
      "text/html": [
       "<div>\n",
       "<style scoped>\n",
       "    .dataframe tbody tr th:only-of-type {\n",
       "        vertical-align: middle;\n",
       "    }\n",
       "\n",
       "    .dataframe tbody tr th {\n",
       "        vertical-align: top;\n",
       "    }\n",
       "\n",
       "    .dataframe thead th {\n",
       "        text-align: right;\n",
       "    }\n",
       "</style>\n",
       "<table border=\"1\" class=\"dataframe\">\n",
       "  <thead>\n",
       "    <tr style=\"text-align: right;\">\n",
       "      <th></th>\n",
       "      <th>timestamp</th>\n",
       "      <th>line_id</th>\n",
       "      <th>journey_id</th>\n",
       "      <th>time_frame</th>\n",
       "      <th>vehicle_journey_id</th>\n",
       "      <th>operator</th>\n",
       "      <th>congestion</th>\n",
       "      <th>lng</th>\n",
       "      <th>lat</th>\n",
       "      <th>delay</th>\n",
       "      <th>block_id</th>\n",
       "      <th>vehicle_id</th>\n",
       "      <th>stop_id</th>\n",
       "      <th>stop</th>\n",
       "      <th>datetime</th>\n",
       "      <th>hour</th>\n",
       "      <th>day</th>\n",
       "      <th>dist_from_old_point</th>\n",
       "      <th>time_from_old_point</th>\n",
       "      <th>velocity</th>\n",
       "      <th>acc</th>\n",
       "      <th>ID</th>\n",
       "    </tr>\n",
       "  </thead>\n",
       "  <tbody>\n",
       "    <tr>\n",
       "      <th>1001236</th>\n",
       "      <td>1357918949000000</td>\n",
       "      <td>79.0</td>\n",
       "      <td>00790001</td>\n",
       "      <td>2013-01-11</td>\n",
       "      <td>2921</td>\n",
       "      <td>CD</td>\n",
       "      <td>False</td>\n",
       "      <td>-6.2604</td>\n",
       "      <td>53.346485</td>\n",
       "      <td>0</td>\n",
       "      <td>79007</td>\n",
       "      <td>33188</td>\n",
       "      <td>326.0</td>\n",
       "      <td>True</td>\n",
       "      <td>2013-01-11 15:42:29</td>\n",
       "      <td>15</td>\n",
       "      <td>11</td>\n",
       "      <td>0.0</td>\n",
       "      <td>0.0</td>\n",
       "      <td>0.0</td>\n",
       "      <td>0.0</td>\n",
       "      <td>89</td>\n",
       "    </tr>\n",
       "    <tr>\n",
       "      <th>1001835</th>\n",
       "      <td>1357918967000000</td>\n",
       "      <td>79.0</td>\n",
       "      <td>00790001</td>\n",
       "      <td>2013-01-11</td>\n",
       "      <td>2921</td>\n",
       "      <td>CD</td>\n",
       "      <td>False</td>\n",
       "      <td>-6.2604</td>\n",
       "      <td>53.346485</td>\n",
       "      <td>0</td>\n",
       "      <td>79007</td>\n",
       "      <td>33188</td>\n",
       "      <td>326.0</td>\n",
       "      <td>True</td>\n",
       "      <td>2013-01-11 15:42:47</td>\n",
       "      <td>15</td>\n",
       "      <td>11</td>\n",
       "      <td>0.0</td>\n",
       "      <td>18.0</td>\n",
       "      <td>0.0</td>\n",
       "      <td>0.0</td>\n",
       "      <td>89</td>\n",
       "    </tr>\n",
       "    <tr>\n",
       "      <th>1002411</th>\n",
       "      <td>1357918988000000</td>\n",
       "      <td>79.0</td>\n",
       "      <td>00790001</td>\n",
       "      <td>2013-01-11</td>\n",
       "      <td>2921</td>\n",
       "      <td>CD</td>\n",
       "      <td>False</td>\n",
       "      <td>-6.2604</td>\n",
       "      <td>53.346485</td>\n",
       "      <td>0</td>\n",
       "      <td>79007</td>\n",
       "      <td>33188</td>\n",
       "      <td>326.0</td>\n",
       "      <td>True</td>\n",
       "      <td>2013-01-11 15:43:08</td>\n",
       "      <td>15</td>\n",
       "      <td>11</td>\n",
       "      <td>0.0</td>\n",
       "      <td>21.0</td>\n",
       "      <td>0.0</td>\n",
       "      <td>0.0</td>\n",
       "      <td>89</td>\n",
       "    </tr>\n",
       "    <tr>\n",
       "      <th>1002915</th>\n",
       "      <td>1357919006000000</td>\n",
       "      <td>79.0</td>\n",
       "      <td>00790001</td>\n",
       "      <td>2013-01-11</td>\n",
       "      <td>2921</td>\n",
       "      <td>CD</td>\n",
       "      <td>False</td>\n",
       "      <td>-6.2604</td>\n",
       "      <td>53.346485</td>\n",
       "      <td>0</td>\n",
       "      <td>79007</td>\n",
       "      <td>33188</td>\n",
       "      <td>326.0</td>\n",
       "      <td>True</td>\n",
       "      <td>2013-01-11 15:43:26</td>\n",
       "      <td>15</td>\n",
       "      <td>11</td>\n",
       "      <td>0.0</td>\n",
       "      <td>18.0</td>\n",
       "      <td>0.0</td>\n",
       "      <td>0.0</td>\n",
       "      <td>89</td>\n",
       "    </tr>\n",
       "    <tr>\n",
       "      <th>1003586</th>\n",
       "      <td>1357919027000000</td>\n",
       "      <td>79.0</td>\n",
       "      <td>00790001</td>\n",
       "      <td>2013-01-11</td>\n",
       "      <td>2921</td>\n",
       "      <td>CD</td>\n",
       "      <td>False</td>\n",
       "      <td>-6.2604</td>\n",
       "      <td>53.346485</td>\n",
       "      <td>0</td>\n",
       "      <td>79007</td>\n",
       "      <td>33188</td>\n",
       "      <td>326.0</td>\n",
       "      <td>True</td>\n",
       "      <td>2013-01-11 15:43:47</td>\n",
       "      <td>15</td>\n",
       "      <td>11</td>\n",
       "      <td>0.0</td>\n",
       "      <td>21.0</td>\n",
       "      <td>0.0</td>\n",
       "      <td>0.0</td>\n",
       "      <td>89</td>\n",
       "    </tr>\n",
       "  </tbody>\n",
       "</table>\n",
       "</div>"
      ],
      "text/plain": [
       "                timestamp line_id journey_id  time_frame vehicle_journey_id  \\\n",
       "1001236  1357918949000000    79.0   00790001  2013-01-11               2921   \n",
       "1001835  1357918967000000    79.0   00790001  2013-01-11               2921   \n",
       "1002411  1357918988000000    79.0   00790001  2013-01-11               2921   \n",
       "1002915  1357919006000000    79.0   00790001  2013-01-11               2921   \n",
       "1003586  1357919027000000    79.0   00790001  2013-01-11               2921   \n",
       "\n",
       "        operator  congestion     lng        lat  delay block_id vehicle_id  \\\n",
       "1001236       CD       False -6.2604  53.346485      0    79007      33188   \n",
       "1001835       CD       False -6.2604  53.346485      0    79007      33188   \n",
       "1002411       CD       False -6.2604  53.346485      0    79007      33188   \n",
       "1002915       CD       False -6.2604  53.346485      0    79007      33188   \n",
       "1003586       CD       False -6.2604  53.346485      0    79007      33188   \n",
       "\n",
       "        stop_id  stop            datetime  hour  day  dist_from_old_point  \\\n",
       "1001236   326.0  True 2013-01-11 15:42:29    15   11                  0.0   \n",
       "1001835   326.0  True 2013-01-11 15:42:47    15   11                  0.0   \n",
       "1002411   326.0  True 2013-01-11 15:43:08    15   11                  0.0   \n",
       "1002915   326.0  True 2013-01-11 15:43:26    15   11                  0.0   \n",
       "1003586   326.0  True 2013-01-11 15:43:47    15   11                  0.0   \n",
       "\n",
       "         time_from_old_point  velocity  acc  ID  \n",
       "1001236                  0.0       0.0  0.0  89  \n",
       "1001835                 18.0       0.0  0.0  89  \n",
       "1002411                 21.0       0.0  0.0  89  \n",
       "1002915                 18.0       0.0  0.0  89  \n",
       "1003586                 21.0       0.0  0.0  89  "
      ]
     },
     "execution_count": 24,
     "metadata": {},
     "output_type": "execute_result"
    }
   ],
   "source": [
    "dfs.head()"
   ]
  },
  {
   "cell_type": "code",
   "execution_count": 25,
   "metadata": {},
   "outputs": [],
   "source": [
    "#backup\n",
    "df = dfs.copy()"
   ]
  },
  {
   "cell_type": "code",
   "execution_count": 26,
   "metadata": {},
   "outputs": [
    {
     "data": {
      "text/html": [
       "<div>\n",
       "<style scoped>\n",
       "    .dataframe tbody tr th:only-of-type {\n",
       "        vertical-align: middle;\n",
       "    }\n",
       "\n",
       "    .dataframe tbody tr th {\n",
       "        vertical-align: top;\n",
       "    }\n",
       "\n",
       "    .dataframe thead th {\n",
       "        text-align: right;\n",
       "    }\n",
       "</style>\n",
       "<table border=\"1\" class=\"dataframe\">\n",
       "  <thead>\n",
       "    <tr style=\"text-align: right;\">\n",
       "      <th></th>\n",
       "      <th>timestamp</th>\n",
       "      <th>line_id</th>\n",
       "      <th>journey_id</th>\n",
       "      <th>time_frame</th>\n",
       "      <th>vehicle_journey_id</th>\n",
       "      <th>operator</th>\n",
       "      <th>congestion</th>\n",
       "      <th>lng</th>\n",
       "      <th>lat</th>\n",
       "      <th>delay</th>\n",
       "      <th>block_id</th>\n",
       "      <th>vehicle_id</th>\n",
       "      <th>stop_id</th>\n",
       "      <th>stop</th>\n",
       "      <th>datetime</th>\n",
       "      <th>hour</th>\n",
       "      <th>day</th>\n",
       "      <th>dist_from_old_point</th>\n",
       "      <th>time_from_old_point</th>\n",
       "      <th>velocity</th>\n",
       "      <th>acc</th>\n",
       "      <th>ID</th>\n",
       "    </tr>\n",
       "  </thead>\n",
       "  <tbody>\n",
       "    <tr>\n",
       "      <th>1711808</th>\n",
       "      <td>1357947232000000</td>\n",
       "      <td>40.0</td>\n",
       "      <td>00401001</td>\n",
       "      <td>2013-01-11</td>\n",
       "      <td>5656</td>\n",
       "      <td>HN</td>\n",
       "      <td>False</td>\n",
       "      <td>-6.265316</td>\n",
       "      <td>53.415066</td>\n",
       "      <td>60</td>\n",
       "      <td>40109</td>\n",
       "      <td>38068</td>\n",
       "      <td>7474.0</td>\n",
       "      <td>True</td>\n",
       "      <td>2013-01-11 23:33:52</td>\n",
       "      <td>23</td>\n",
       "      <td>11</td>\n",
       "      <td>0.000000</td>\n",
       "      <td>18.0</td>\n",
       "      <td>0.000000</td>\n",
       "      <td>0.000000</td>\n",
       "      <td>64</td>\n",
       "    </tr>\n",
       "    <tr>\n",
       "      <th>1711827</th>\n",
       "      <td>1357947234000000</td>\n",
       "      <td>40.0</td>\n",
       "      <td>00401001</td>\n",
       "      <td>2013-01-11</td>\n",
       "      <td>5656</td>\n",
       "      <td>HN</td>\n",
       "      <td>False</td>\n",
       "      <td>-6.266016</td>\n",
       "      <td>53.417000</td>\n",
       "      <td>60</td>\n",
       "      <td>40109</td>\n",
       "      <td>38068</td>\n",
       "      <td>7474.0</td>\n",
       "      <td>True</td>\n",
       "      <td>2013-01-11 23:33:54</td>\n",
       "      <td>23</td>\n",
       "      <td>11</td>\n",
       "      <td>220.217403</td>\n",
       "      <td>2.0</td>\n",
       "      <td>110.108701</td>\n",
       "      <td>55.054351</td>\n",
       "      <td>64</td>\n",
       "    </tr>\n",
       "    <tr>\n",
       "      <th>1712072</th>\n",
       "      <td>1357947253000000</td>\n",
       "      <td>40.0</td>\n",
       "      <td>00401001</td>\n",
       "      <td>2013-01-11</td>\n",
       "      <td>5656</td>\n",
       "      <td>HN</td>\n",
       "      <td>False</td>\n",
       "      <td>-6.267300</td>\n",
       "      <td>53.417217</td>\n",
       "      <td>60</td>\n",
       "      <td>40109</td>\n",
       "      <td>38068</td>\n",
       "      <td>7474.0</td>\n",
       "      <td>True</td>\n",
       "      <td>2013-01-11 23:34:13</td>\n",
       "      <td>23</td>\n",
       "      <td>11</td>\n",
       "      <td>88.721426</td>\n",
       "      <td>19.0</td>\n",
       "      <td>4.669549</td>\n",
       "      <td>0.245766</td>\n",
       "      <td>64</td>\n",
       "    </tr>\n",
       "    <tr>\n",
       "      <th>1712336</th>\n",
       "      <td>1357947275000000</td>\n",
       "      <td>40.0</td>\n",
       "      <td>00401001</td>\n",
       "      <td>2013-01-11</td>\n",
       "      <td>5656</td>\n",
       "      <td>HN</td>\n",
       "      <td>False</td>\n",
       "      <td>-6.271833</td>\n",
       "      <td>53.417850</td>\n",
       "      <td>60</td>\n",
       "      <td>40109</td>\n",
       "      <td>38068</td>\n",
       "      <td>7474.0</td>\n",
       "      <td>True</td>\n",
       "      <td>2013-01-11 23:34:35</td>\n",
       "      <td>23</td>\n",
       "      <td>11</td>\n",
       "      <td>309.513178</td>\n",
       "      <td>22.0</td>\n",
       "      <td>14.068781</td>\n",
       "      <td>0.639490</td>\n",
       "      <td>64</td>\n",
       "    </tr>\n",
       "    <tr>\n",
       "      <th>1712584</th>\n",
       "      <td>1357947294000000</td>\n",
       "      <td>40.0</td>\n",
       "      <td>00401001</td>\n",
       "      <td>2013-01-11</td>\n",
       "      <td>5656</td>\n",
       "      <td>HN</td>\n",
       "      <td>False</td>\n",
       "      <td>-6.277184</td>\n",
       "      <td>53.418152</td>\n",
       "      <td>60</td>\n",
       "      <td>40109</td>\n",
       "      <td>38068</td>\n",
       "      <td>7474.0</td>\n",
       "      <td>True</td>\n",
       "      <td>2013-01-11 23:34:54</td>\n",
       "      <td>23</td>\n",
       "      <td>11</td>\n",
       "      <td>357.356196</td>\n",
       "      <td>19.0</td>\n",
       "      <td>18.808221</td>\n",
       "      <td>0.989906</td>\n",
       "      <td>64</td>\n",
       "    </tr>\n",
       "  </tbody>\n",
       "</table>\n",
       "</div>"
      ],
      "text/plain": [
       "                timestamp line_id journey_id  time_frame vehicle_journey_id  \\\n",
       "1711808  1357947232000000    40.0   00401001  2013-01-11               5656   \n",
       "1711827  1357947234000000    40.0   00401001  2013-01-11               5656   \n",
       "1712072  1357947253000000    40.0   00401001  2013-01-11               5656   \n",
       "1712336  1357947275000000    40.0   00401001  2013-01-11               5656   \n",
       "1712584  1357947294000000    40.0   00401001  2013-01-11               5656   \n",
       "\n",
       "        operator  congestion       lng        lat  delay block_id vehicle_id  \\\n",
       "1711808       HN       False -6.265316  53.415066     60    40109      38068   \n",
       "1711827       HN       False -6.266016  53.417000     60    40109      38068   \n",
       "1712072       HN       False -6.267300  53.417217     60    40109      38068   \n",
       "1712336       HN       False -6.271833  53.417850     60    40109      38068   \n",
       "1712584       HN       False -6.277184  53.418152     60    40109      38068   \n",
       "\n",
       "        stop_id  stop            datetime  hour  day  dist_from_old_point  \\\n",
       "1711808  7474.0  True 2013-01-11 23:33:52    23   11             0.000000   \n",
       "1711827  7474.0  True 2013-01-11 23:33:54    23   11           220.217403   \n",
       "1712072  7474.0  True 2013-01-11 23:34:13    23   11            88.721426   \n",
       "1712336  7474.0  True 2013-01-11 23:34:35    23   11           309.513178   \n",
       "1712584  7474.0  True 2013-01-11 23:34:54    23   11           357.356196   \n",
       "\n",
       "         time_from_old_point    velocity        acc  ID  \n",
       "1711808                 18.0    0.000000   0.000000  64  \n",
       "1711827                  2.0  110.108701  55.054351  64  \n",
       "1712072                 19.0    4.669549   0.245766  64  \n",
       "1712336                 22.0   14.068781   0.639490  64  \n",
       "1712584                 19.0   18.808221   0.989906  64  "
      ]
     },
     "execution_count": 26,
     "metadata": {},
     "output_type": "execute_result"
    }
   ],
   "source": [
    "df.tail()"
   ]
  },
  {
   "cell_type": "raw",
   "metadata": {},
   "source": [
    "df[df.ID==0][['lat','lng','MF_lat','MF_lng']].head(20)"
   ]
  },
  {
   "cell_type": "markdown",
   "metadata": {},
   "source": [
    "Abaixo percebemos valores que não podem pertencer a velocidades reais."
   ]
  },
  {
   "cell_type": "code",
   "execution_count": 27,
   "metadata": {},
   "outputs": [
    {
     "name": "stdout",
     "output_type": "stream",
     "text": [
      "Por exemplo o valor máximo de 421.3058483027955 m/s para velocidade ou 91.72057333019845 m/s² para aceleração\n"
     ]
    }
   ],
   "source": [
    "print( f'Por exemplo o valor máximo de {df.velocity.max()} m/s para velocidade ou {df.acc.max()} m/s² para aceleração')"
   ]
  },
  {
   "cell_type": "code",
   "execution_count": 28,
   "metadata": {},
   "outputs": [
    {
     "data": {
      "text/html": [
       "<div>\n",
       "<style scoped>\n",
       "    .dataframe tbody tr th:only-of-type {\n",
       "        vertical-align: middle;\n",
       "    }\n",
       "\n",
       "    .dataframe tbody tr th {\n",
       "        vertical-align: top;\n",
       "    }\n",
       "\n",
       "    .dataframe thead th {\n",
       "        text-align: right;\n",
       "    }\n",
       "</style>\n",
       "<table border=\"1\" class=\"dataframe\">\n",
       "  <thead>\n",
       "    <tr style=\"text-align: right;\">\n",
       "      <th></th>\n",
       "      <th>velocity</th>\n",
       "      <th>acc</th>\n",
       "      <th>time_from_old_point</th>\n",
       "      <th>dist_from_old_point</th>\n",
       "    </tr>\n",
       "  </thead>\n",
       "  <tbody>\n",
       "    <tr>\n",
       "      <th>count</th>\n",
       "      <td>18763.000000</td>\n",
       "      <td>18763.000000</td>\n",
       "      <td>18763.000000</td>\n",
       "      <td>18763.000000</td>\n",
       "    </tr>\n",
       "    <tr>\n",
       "      <th>mean</th>\n",
       "      <td>5.322750</td>\n",
       "      <td>0.332340</td>\n",
       "      <td>20.436444</td>\n",
       "      <td>105.192489</td>\n",
       "    </tr>\n",
       "    <tr>\n",
       "      <th>std</th>\n",
       "      <td>8.713750</td>\n",
       "      <td>1.899134</td>\n",
       "      <td>7.974051</td>\n",
       "      <td>143.482590</td>\n",
       "    </tr>\n",
       "    <tr>\n",
       "      <th>min</th>\n",
       "      <td>0.000000</td>\n",
       "      <td>0.000000</td>\n",
       "      <td>0.000000</td>\n",
       "      <td>0.000000</td>\n",
       "    </tr>\n",
       "    <tr>\n",
       "      <th>25%</th>\n",
       "      <td>0.346102</td>\n",
       "      <td>0.018103</td>\n",
       "      <td>19.000000</td>\n",
       "      <td>6.141979</td>\n",
       "    </tr>\n",
       "    <tr>\n",
       "      <th>50%</th>\n",
       "      <td>3.913140</td>\n",
       "      <td>0.187870</td>\n",
       "      <td>20.000000</td>\n",
       "      <td>79.382766</td>\n",
       "    </tr>\n",
       "    <tr>\n",
       "      <th>75%</th>\n",
       "      <td>8.056425</td>\n",
       "      <td>0.398924</td>\n",
       "      <td>21.000000</td>\n",
       "      <td>164.176662</td>\n",
       "    </tr>\n",
       "    <tr>\n",
       "      <th>max</th>\n",
       "      <td>421.305848</td>\n",
       "      <td>91.720573</td>\n",
       "      <td>280.000000</td>\n",
       "      <td>7677.307819</td>\n",
       "    </tr>\n",
       "  </tbody>\n",
       "</table>\n",
       "</div>"
      ],
      "text/plain": [
       "           velocity           acc  time_from_old_point  dist_from_old_point\n",
       "count  18763.000000  18763.000000         18763.000000         18763.000000\n",
       "mean       5.322750      0.332340            20.436444           105.192489\n",
       "std        8.713750      1.899134             7.974051           143.482590\n",
       "min        0.000000      0.000000             0.000000             0.000000\n",
       "25%        0.346102      0.018103            19.000000             6.141979\n",
       "50%        3.913140      0.187870            20.000000            79.382766\n",
       "75%        8.056425      0.398924            21.000000           164.176662\n",
       "max      421.305848     91.720573           280.000000          7677.307819"
      ]
     },
     "execution_count": 28,
     "metadata": {},
     "output_type": "execute_result"
    }
   ],
   "source": [
    "new_cols = ['velocity', 'acc', 'time_from_old_point', 'dist_from_old_point',]\n",
    "            #'MF_velocity', 'MF_acc', 'MF_dist_from_old_point']\n",
    "df[new_cols].describe()"
   ]
  },
  {
   "cell_type": "code",
   "execution_count": 29,
   "metadata": {},
   "outputs": [
    {
     "data": {
      "text/plain": [
       "<AxesSubplot:>"
      ]
     },
     "execution_count": 29,
     "metadata": {},
     "output_type": "execute_result"
    },
    {
     "data": {
      "image/png": "[encoded data removed]",
      "text/plain": [
       "<Figure size 720x432 with 1 Axes>"
      ]
     },
     "metadata": {
      "needs_background": "light"
     },
     "output_type": "display_data"
    }
   ],
   "source": [
    "df[new_cols].plot(kind='box', figsize=(10,6))"
   ]
  },
  {
   "cell_type": "markdown",
   "metadata": {},
   "source": [
    "## Teste de métodos para detecção de outliers"
   ]
  },
  {
   "cell_type": "markdown",
   "metadata": {},
   "source": [
    "### Isolation Forest sobre a velocidade e a aceleração"
   ]
  },
  {
   "cell_type": "code",
   "execution_count": 30,
   "metadata": {},
   "outputs": [],
   "source": [
    "from sklearn.ensemble import IsolationForest"
   ]
  },
  {
   "cell_type": "code",
   "execution_count": 31,
   "metadata": {},
   "outputs": [],
   "source": [
    "feats = ['velocity','acc']\n",
    "rng = np.random.RandomState(42)\n",
    "clf = IsolationForest(max_samples=100, random_state=rng)\n",
    "clf.fit(df[feats])\n",
    "scores = clf.predict(df[feats])\n",
    "df['outlier'] = scores"
   ]
  },
  {
   "cell_type": "markdown",
   "metadata": {},
   "source": [
    "### Isolation Forest com normalização dos valores de velocidade e aceleração"
   ]
  },
  {
   "cell_type": "code",
   "execution_count": 32,
   "metadata": {},
   "outputs": [],
   "source": [
    "from sklearn.preprocessing import MinMaxScaler"
   ]
  },
  {
   "cell_type": "code",
   "execution_count": 33,
   "metadata": {},
   "outputs": [],
   "source": [
    "scaler = MinMaxScaler()\n",
    "df_normalized = pd.DataFrame(scaler.fit_transform(df[['velocity','acc']]), columns = ['velocity','acc'])\n",
    "rng = np.random.RandomState(42)\n",
    "clf = IsolationForest(max_samples=100, random_state=rng)\n",
    "clf.fit(df_normalized)\n",
    "scores = clf.predict(df_normalized)\n",
    "df['outlier_norm'] = scores"
   ]
  },
  {
   "cell_type": "code",
   "execution_count": 34,
   "metadata": {},
   "outputs": [
    {
     "data": {
      "text/html": [
       "<div>\n",
       "<style scoped>\n",
       "    .dataframe tbody tr th:only-of-type {\n",
       "        vertical-align: middle;\n",
       "    }\n",
       "\n",
       "    .dataframe tbody tr th {\n",
       "        vertical-align: top;\n",
       "    }\n",
       "\n",
       "    .dataframe thead th {\n",
       "        text-align: right;\n",
       "    }\n",
       "</style>\n",
       "<table border=\"1\" class=\"dataframe\">\n",
       "  <thead>\n",
       "    <tr style=\"text-align: right;\">\n",
       "      <th></th>\n",
       "      <th>velocity</th>\n",
       "      <th>acc</th>\n",
       "    </tr>\n",
       "  </thead>\n",
       "  <tbody>\n",
       "    <tr>\n",
       "      <th>count</th>\n",
       "      <td>15291.000000</td>\n",
       "      <td>15291.000000</td>\n",
       "    </tr>\n",
       "    <tr>\n",
       "      <th>mean</th>\n",
       "      <td>3.320523</td>\n",
       "      <td>0.163254</td>\n",
       "    </tr>\n",
       "    <tr>\n",
       "      <th>std</th>\n",
       "      <td>3.099348</td>\n",
       "      <td>0.154165</td>\n",
       "    </tr>\n",
       "    <tr>\n",
       "      <th>min</th>\n",
       "      <td>0.000000</td>\n",
       "      <td>0.000000</td>\n",
       "    </tr>\n",
       "    <tr>\n",
       "      <th>25%</th>\n",
       "      <td>0.056143</td>\n",
       "      <td>0.002814</td>\n",
       "    </tr>\n",
       "    <tr>\n",
       "      <th>50%</th>\n",
       "      <td>2.780425</td>\n",
       "      <td>0.133614</td>\n",
       "    </tr>\n",
       "    <tr>\n",
       "      <th>75%</th>\n",
       "      <td>5.769963</td>\n",
       "      <td>0.283542</td>\n",
       "    </tr>\n",
       "    <tr>\n",
       "      <th>max</th>\n",
       "      <td>10.566352</td>\n",
       "      <td>0.528445</td>\n",
       "    </tr>\n",
       "  </tbody>\n",
       "</table>\n",
       "</div>"
      ],
      "text/plain": [
       "           velocity           acc\n",
       "count  15291.000000  15291.000000\n",
       "mean       3.320523      0.163254\n",
       "std        3.099348      0.154165\n",
       "min        0.000000      0.000000\n",
       "25%        0.056143      0.002814\n",
       "50%        2.780425      0.133614\n",
       "75%        5.769963      0.283542\n",
       "max       10.566352      0.528445"
      ]
     },
     "execution_count": 34,
     "metadata": {},
     "output_type": "execute_result"
    }
   ],
   "source": [
    "df[df.outlier == 1][feats].describe()"
   ]
  },
  {
   "cell_type": "code",
   "execution_count": 35,
   "metadata": {},
   "outputs": [
    {
     "data": {
      "text/html": [
       "<div>\n",
       "<style scoped>\n",
       "    .dataframe tbody tr th:only-of-type {\n",
       "        vertical-align: middle;\n",
       "    }\n",
       "\n",
       "    .dataframe tbody tr th {\n",
       "        vertical-align: top;\n",
       "    }\n",
       "\n",
       "    .dataframe thead th {\n",
       "        text-align: right;\n",
       "    }\n",
       "</style>\n",
       "<table border=\"1\" class=\"dataframe\">\n",
       "  <thead>\n",
       "    <tr style=\"text-align: right;\">\n",
       "      <th></th>\n",
       "      <th>velocity</th>\n",
       "      <th>acc</th>\n",
       "    </tr>\n",
       "  </thead>\n",
       "  <tbody>\n",
       "    <tr>\n",
       "      <th>count</th>\n",
       "      <td>15304.000000</td>\n",
       "      <td>15304.000000</td>\n",
       "    </tr>\n",
       "    <tr>\n",
       "      <th>mean</th>\n",
       "      <td>3.326514</td>\n",
       "      <td>0.163529</td>\n",
       "    </tr>\n",
       "    <tr>\n",
       "      <th>std</th>\n",
       "      <td>3.104265</td>\n",
       "      <td>0.154404</td>\n",
       "    </tr>\n",
       "    <tr>\n",
       "      <th>min</th>\n",
       "      <td>0.000000</td>\n",
       "      <td>0.000000</td>\n",
       "    </tr>\n",
       "    <tr>\n",
       "      <th>25%</th>\n",
       "      <td>0.056534</td>\n",
       "      <td>0.002827</td>\n",
       "    </tr>\n",
       "    <tr>\n",
       "      <th>50%</th>\n",
       "      <td>2.783468</td>\n",
       "      <td>0.133882</td>\n",
       "    </tr>\n",
       "    <tr>\n",
       "      <th>75%</th>\n",
       "      <td>5.777791</td>\n",
       "      <td>0.283965</td>\n",
       "    </tr>\n",
       "    <tr>\n",
       "      <th>max</th>\n",
       "      <td>10.566352</td>\n",
       "      <td>0.528445</td>\n",
       "    </tr>\n",
       "  </tbody>\n",
       "</table>\n",
       "</div>"
      ],
      "text/plain": [
       "           velocity           acc\n",
       "count  15304.000000  15304.000000\n",
       "mean       3.326514      0.163529\n",
       "std        3.104265      0.154404\n",
       "min        0.000000      0.000000\n",
       "25%        0.056534      0.002827\n",
       "50%        2.783468      0.133882\n",
       "75%        5.777791      0.283965\n",
       "max       10.566352      0.528445"
      ]
     },
     "execution_count": 35,
     "metadata": {},
     "output_type": "execute_result"
    }
   ],
   "source": [
    "df[df.outlier_norm== 1][feats].describe()"
   ]
  },
  {
   "cell_type": "code",
   "execution_count": 36,
   "metadata": {},
   "outputs": [
    {
     "data": {
      "text/plain": [
       "array([[<AxesSubplot:title={'center':'velocity'}>,\n",
       "        <AxesSubplot:title={'center':'acc'}>]], dtype=object)"
      ]
     },
     "execution_count": 36,
     "metadata": {},
     "output_type": "execute_result"
    },
    {
     "data": {
      "image/png": "[encoded data removed]",
      "text/plain": [
       "<Figure size 432x288 with 2 Axes>"
      ]
     },
     "metadata": {
      "needs_background": "light"
     },
     "output_type": "display_data"
    }
   ],
   "source": [
    "df[df.outlier == 1][feats].hist()"
   ]
  },
  {
   "cell_type": "markdown",
   "metadata": {},
   "source": [
    "Ambos os método retornam valores plausiveis de velocidade e aceleração"
   ]
  },
  {
   "cell_type": "markdown",
   "metadata": {},
   "source": [
    "Entretanto, velocidade e aceleração foram valores criados apartir das distâncias entre pontos. "
   ]
  },
  {
   "cell_type": "markdown",
   "metadata": {},
   "source": [
    "### Poderiamos aplicar a detecção de outliers nestas features geradoras ou o cálculo de velocidade e aceleração nos ajudou a discriminar melhor os outliers?"
   ]
  },
  {
   "cell_type": "markdown",
   "metadata": {},
   "source": [
    "### Isolation Forest a partir das colunas distância e tempo desde o ponto anterior"
   ]
  },
  {
   "cell_type": "code",
   "execution_count": 37,
   "metadata": {},
   "outputs": [],
   "source": [
    "feats_0 = ['dist_from_old_point','time_from_old_point']\n",
    "rng = np.random.RandomState(42)\n",
    "clf = IsolationForest(max_samples=100, random_state=rng)\n",
    "clf.fit(df[feats_0])\n",
    "scores = clf.predict(df[feats_0])\n",
    "df['outlier_0'] = scores"
   ]
  },
  {
   "cell_type": "code",
   "execution_count": 38,
   "metadata": {},
   "outputs": [
    {
     "data": {
      "text/html": [
       "<div>\n",
       "<style scoped>\n",
       "    .dataframe tbody tr th:only-of-type {\n",
       "        vertical-align: middle;\n",
       "    }\n",
       "\n",
       "    .dataframe tbody tr th {\n",
       "        vertical-align: top;\n",
       "    }\n",
       "\n",
       "    .dataframe thead th {\n",
       "        text-align: right;\n",
       "    }\n",
       "</style>\n",
       "<table border=\"1\" class=\"dataframe\">\n",
       "  <thead>\n",
       "    <tr style=\"text-align: right;\">\n",
       "      <th></th>\n",
       "      <th>dist_from_old_point</th>\n",
       "      <th>time_from_old_point</th>\n",
       "    </tr>\n",
       "  </thead>\n",
       "  <tbody>\n",
       "    <tr>\n",
       "      <th>count</th>\n",
       "      <td>15510.000000</td>\n",
       "      <td>15510.000000</td>\n",
       "    </tr>\n",
       "    <tr>\n",
       "      <th>mean</th>\n",
       "      <td>86.121657</td>\n",
       "      <td>19.892134</td>\n",
       "    </tr>\n",
       "    <tr>\n",
       "      <th>std</th>\n",
       "      <td>76.974263</td>\n",
       "      <td>1.460167</td>\n",
       "    </tr>\n",
       "    <tr>\n",
       "      <th>min</th>\n",
       "      <td>0.000000</td>\n",
       "      <td>14.000000</td>\n",
       "    </tr>\n",
       "    <tr>\n",
       "      <th>25%</th>\n",
       "      <td>8.133039</td>\n",
       "      <td>19.000000</td>\n",
       "    </tr>\n",
       "    <tr>\n",
       "      <th>50%</th>\n",
       "      <td>72.317086</td>\n",
       "      <td>20.000000</td>\n",
       "    </tr>\n",
       "    <tr>\n",
       "      <th>75%</th>\n",
       "      <td>142.995206</td>\n",
       "      <td>21.000000</td>\n",
       "    </tr>\n",
       "    <tr>\n",
       "      <th>max</th>\n",
       "      <td>280.886566</td>\n",
       "      <td>24.000000</td>\n",
       "    </tr>\n",
       "  </tbody>\n",
       "</table>\n",
       "</div>"
      ],
      "text/plain": [
       "       dist_from_old_point  time_from_old_point\n",
       "count         15510.000000         15510.000000\n",
       "mean             86.121657            19.892134\n",
       "std              76.974263             1.460167\n",
       "min               0.000000            14.000000\n",
       "25%               8.133039            19.000000\n",
       "50%              72.317086            20.000000\n",
       "75%             142.995206            21.000000\n",
       "max             280.886566            24.000000"
      ]
     },
     "execution_count": 38,
     "metadata": {},
     "output_type": "execute_result"
    }
   ],
   "source": [
    "df[df.outlier_0== 1][feats_0].describe()"
   ]
  },
  {
   "cell_type": "markdown",
   "metadata": {},
   "source": [
    "Como os valores não são plausíveis. Concluímos que a geração das novas features: velocidade e aceleração foram significativas para a detecção destes pontos anomalos."
   ]
  },
  {
   "cell_type": "markdown",
   "metadata": {},
   "source": [
    "### Verificar se o método Local Outlier Factor oferece também uma resposta plausível"
   ]
  },
  {
   "cell_type": "code",
   "execution_count": 39,
   "metadata": {},
   "outputs": [],
   "source": [
    "from sklearn.neighbors import LocalOutlierFactor"
   ]
  },
  {
   "cell_type": "code",
   "execution_count": 40,
   "metadata": {},
   "outputs": [],
   "source": [
    "clf = LocalOutlierFactor(n_neighbors=10, contamination=0.1)\n",
    "scores = clf.fit_predict(df[feats])\n",
    "df['outlier2'] = scores"
   ]
  },
  {
   "cell_type": "code",
   "execution_count": 41,
   "metadata": {},
   "outputs": [],
   "source": [
    "scaler = MinMaxScaler()\n",
    "df_normalized = pd.DataFrame(scaler.fit_transform(df[['velocity','acc']]), columns = ['velocity','acc'])\n",
    "rng = np.random.RandomState(42)\n",
    "clf = LocalOutlierFactor(n_neighbors=10, contamination=0.1)\n",
    "scores = clf.fit_predict(df_normalized)\n",
    "df['outlier2_norm'] = scores"
   ]
  },
  {
   "cell_type": "code",
   "execution_count": 42,
   "metadata": {},
   "outputs": [
    {
     "data": {
      "text/html": [
       "<div>\n",
       "<style scoped>\n",
       "    .dataframe tbody tr th:only-of-type {\n",
       "        vertical-align: middle;\n",
       "    }\n",
       "\n",
       "    .dataframe tbody tr th {\n",
       "        vertical-align: top;\n",
       "    }\n",
       "\n",
       "    .dataframe thead th {\n",
       "        text-align: right;\n",
       "    }\n",
       "</style>\n",
       "<table border=\"1\" class=\"dataframe\">\n",
       "  <thead>\n",
       "    <tr style=\"text-align: right;\">\n",
       "      <th></th>\n",
       "      <th>velocity</th>\n",
       "      <th>acc</th>\n",
       "    </tr>\n",
       "  </thead>\n",
       "  <tbody>\n",
       "    <tr>\n",
       "      <th>count</th>\n",
       "      <td>16886.000000</td>\n",
       "      <td>16886.000000</td>\n",
       "    </tr>\n",
       "    <tr>\n",
       "      <th>mean</th>\n",
       "      <td>5.110923</td>\n",
       "      <td>0.276102</td>\n",
       "    </tr>\n",
       "    <tr>\n",
       "      <th>std</th>\n",
       "      <td>6.034755</td>\n",
       "      <td>0.657223</td>\n",
       "    </tr>\n",
       "    <tr>\n",
       "      <th>min</th>\n",
       "      <td>0.000000</td>\n",
       "      <td>0.000000</td>\n",
       "    </tr>\n",
       "    <tr>\n",
       "      <th>25%</th>\n",
       "      <td>0.196659</td>\n",
       "      <td>0.009943</td>\n",
       "    </tr>\n",
       "    <tr>\n",
       "      <th>50%</th>\n",
       "      <td>3.842396</td>\n",
       "      <td>0.184570</td>\n",
       "    </tr>\n",
       "    <tr>\n",
       "      <th>75%</th>\n",
       "      <td>7.985244</td>\n",
       "      <td>0.397439</td>\n",
       "    </tr>\n",
       "    <tr>\n",
       "      <th>max</th>\n",
       "      <td>118.114638</td>\n",
       "      <td>26.453240</td>\n",
       "    </tr>\n",
       "  </tbody>\n",
       "</table>\n",
       "</div>"
      ],
      "text/plain": [
       "           velocity           acc\n",
       "count  16886.000000  16886.000000\n",
       "mean       5.110923      0.276102\n",
       "std        6.034755      0.657223\n",
       "min        0.000000      0.000000\n",
       "25%        0.196659      0.009943\n",
       "50%        3.842396      0.184570\n",
       "75%        7.985244      0.397439\n",
       "max      118.114638     26.453240"
      ]
     },
     "execution_count": 42,
     "metadata": {},
     "output_type": "execute_result"
    }
   ],
   "source": [
    "df[df.outlier2 == 1][feats].describe()"
   ]
  },
  {
   "cell_type": "code",
   "execution_count": 43,
   "metadata": {},
   "outputs": [
    {
     "data": {
      "text/html": [
       "<div>\n",
       "<style scoped>\n",
       "    .dataframe tbody tr th:only-of-type {\n",
       "        vertical-align: middle;\n",
       "    }\n",
       "\n",
       "    .dataframe tbody tr th {\n",
       "        vertical-align: top;\n",
       "    }\n",
       "\n",
       "    .dataframe thead th {\n",
       "        text-align: right;\n",
       "    }\n",
       "</style>\n",
       "<table border=\"1\" class=\"dataframe\">\n",
       "  <thead>\n",
       "    <tr style=\"text-align: right;\">\n",
       "      <th></th>\n",
       "      <th>velocity</th>\n",
       "      <th>acc</th>\n",
       "    </tr>\n",
       "  </thead>\n",
       "  <tbody>\n",
       "    <tr>\n",
       "      <th>count</th>\n",
       "      <td>16886.000000</td>\n",
       "      <td>16886.000000</td>\n",
       "    </tr>\n",
       "    <tr>\n",
       "      <th>mean</th>\n",
       "      <td>5.129696</td>\n",
       "      <td>0.287283</td>\n",
       "    </tr>\n",
       "    <tr>\n",
       "      <th>std</th>\n",
       "      <td>6.051702</td>\n",
       "      <td>1.004158</td>\n",
       "    </tr>\n",
       "    <tr>\n",
       "      <th>min</th>\n",
       "      <td>0.000000</td>\n",
       "      <td>0.000000</td>\n",
       "    </tr>\n",
       "    <tr>\n",
       "      <th>25%</th>\n",
       "      <td>0.196108</td>\n",
       "      <td>0.010870</td>\n",
       "    </tr>\n",
       "    <tr>\n",
       "      <th>50%</th>\n",
       "      <td>3.928575</td>\n",
       "      <td>0.188209</td>\n",
       "    </tr>\n",
       "    <tr>\n",
       "      <th>75%</th>\n",
       "      <td>8.020091</td>\n",
       "      <td>0.395672</td>\n",
       "    </tr>\n",
       "    <tr>\n",
       "      <th>max</th>\n",
       "      <td>225.392643</td>\n",
       "      <td>79.385183</td>\n",
       "    </tr>\n",
       "  </tbody>\n",
       "</table>\n",
       "</div>"
      ],
      "text/plain": [
       "           velocity           acc\n",
       "count  16886.000000  16886.000000\n",
       "mean       5.129696      0.287283\n",
       "std        6.051702      1.004158\n",
       "min        0.000000      0.000000\n",
       "25%        0.196108      0.010870\n",
       "50%        3.928575      0.188209\n",
       "75%        8.020091      0.395672\n",
       "max      225.392643     79.385183"
      ]
     },
     "execution_count": 43,
     "metadata": {},
     "output_type": "execute_result"
    }
   ],
   "source": [
    "df[df.outlier2_norm == 1][feats].describe()"
   ]
  },
  {
   "cell_type": "markdown",
   "metadata": {},
   "source": [
    "Os valores de máximos ainda apresentam pontos que não se adequam à realidade."
   ]
  },
  {
   "cell_type": "markdown",
   "metadata": {},
   "source": [
    "## Testar detecção de outliers MEAN FILTER"
   ]
  },
  {
   "cell_type": "code",
   "execution_count": 44,
   "metadata": {},
   "outputs": [],
   "source": [
    "df['MF_lat'] = df['lat'].rolling(5, min_periods=1).mean()\n",
    "df['MF_lng'] = df['lng'].rolling(5, min_periods=1).mean()"
   ]
  },
  {
   "cell_type": "code",
   "execution_count": 45,
   "metadata": {},
   "outputs": [],
   "source": [
    "gps = ['MF_lat','MF_lng']\n",
    "\n",
    "def delta_time(t1, t2) -> float:\n",
    "    '''\n",
    "    Retorna diferença temporal em segundos\n",
    "    Ou np.nan se a diferença temporal para o ponto anterior\n",
    "    for superior a 5 minutos\n",
    "    '''\n",
    "    t1 = pd.to_datetime(t1,unit='us')\n",
    "    t2 = pd.to_datetime(t2,unit='us')\n",
    "    time = pd.Timedelta(np.abs(t2 - t1))\n",
    "    if (time.seconds > 5*60):\n",
    "        return np.nan\n",
    "    else:        \n",
    "        return time.seconds\n",
    "\n",
    "def MF_calc_deltas(frame):\n",
    "    '''\n",
    "    Retorna o DF com as colunas de delta[tempo, distancia] preenchidas\n",
    "    Depende do valor da linha anterior (temporalmente)\n",
    "    Nas funções MAP são enviados os valores da linha presente e da anterior (shift(1))\n",
    "    '''\n",
    "    #frame.dist_from_old_point = 0\n",
    "    frame.time_from_old_point = 0\n",
    "    delta_d = list(map(\n",
    "        lambda x, y: geodesic(x,y).meters, frame[gps].values[1:], frame[gps].shift(1).values[1:]))\n",
    "    delta_t = list(map(\n",
    "        lambda x, y: delta_time(x,y), frame['timestamp'].values[1:], frame['timestamp'].shift(1).values[1:]))\n",
    "    if (len(frame[frame.isna()]) == 0):\n",
    "        print('Não há quaisquer valores NaN')\n",
    "    frame['MF_dist_from_old_point'] = [0, *delta_d]\n",
    "    frame['time_from_old_point'] = [0, *delta_t]\n",
    "    return frame"
   ]
  },
  {
   "cell_type": "code",
   "execution_count": 46,
   "metadata": {},
   "outputs": [],
   "source": [
    "# Repartição\n",
    "dfs = [x for _,x in df.groupby(trajetoria) if (len(x) > 50)]\n",
    "# Chamas calc_deltas para cada trajetória\n",
    "dfs = list(map(MF_calc_deltas,dfs))\n",
    "# concatena as trajetorias de volta em um DF unico\n",
    "df = pd.concat(dfs)"
   ]
  },
  {
   "cell_type": "code",
   "execution_count": 47,
   "metadata": {},
   "outputs": [],
   "source": [
    "df['MF_vel'] = df['MF_dist_from_old_point'] / df['time_from_old_point']\n",
    "df['MF_acc'] = df['MF_dist_from_old_point'] / (df['time_from_old_point'] * df['time_from_old_point'])\n",
    "\n",
    "#df[df.MF_vel == np.inf].time_from_old_point.unique()\n",
    "df['MF_vel'].fillna(value=0, inplace=True)\n",
    "df['MF_acc'].fillna(value=0, inplace=True)"
   ]
  },
  {
   "cell_type": "code",
   "execution_count": 48,
   "metadata": {},
   "outputs": [
    {
     "data": {
      "text/plain": [
       "<AxesSubplot:>"
      ]
     },
     "execution_count": 48,
     "metadata": {},
     "output_type": "execute_result"
    },
    {
     "data": {
      "image/png": "[encoded data removed]",
      "text/plain": [
       "<Figure size 432x288 with 1 Axes>"
      ]
     },
     "metadata": {
      "needs_background": "light"
     },
     "output_type": "display_data"
    }
   ],
   "source": [
    "df[['velocity', 'MF_vel']].plot(kind='box')"
   ]
  },
  {
   "cell_type": "code",
   "execution_count": 49,
   "metadata": {},
   "outputs": [],
   "source": [
    "feats = ['velocity','acc']\n",
    "feats_MF = ['MF_vel', 'MF_acc']"
   ]
  },
  {
   "cell_type": "code",
   "execution_count": 50,
   "metadata": {},
   "outputs": [],
   "source": [
    "rng = np.random.RandomState(42)\n",
    "clf = IsolationForest(max_samples=100, random_state=rng)\n",
    "clf.fit(df[feats_MF])\n",
    "scores = clf.predict(df[feats_MF])\n",
    "df['outlier_MF'] = scores"
   ]
  },
  {
   "cell_type": "code",
   "execution_count": 51,
   "metadata": {},
   "outputs": [
    {
     "data": {
      "text/plain": [
       "<AxesSubplot:>"
      ]
     },
     "execution_count": 51,
     "metadata": {},
     "output_type": "execute_result"
    },
    {
     "data": {
      "image/png": "[encoded data removed]",
      "text/plain": [
       "<Figure size 432x288 with 1 Axes>"
      ]
     },
     "metadata": {
      "needs_background": "light"
     },
     "output_type": "display_data"
    }
   ],
   "source": [
    "df[df.outlier== 1][feats].plot(kind='box')"
   ]
  },
  {
   "cell_type": "code",
   "execution_count": 52,
   "metadata": {},
   "outputs": [
    {
     "data": {
      "text/plain": [
       "<AxesSubplot:>"
      ]
     },
     "execution_count": 52,
     "metadata": {},
     "output_type": "execute_result"
    },
    {
     "data": {
      "image/png": "[encoded data removed]",
      "text/plain": [
       "<Figure size 432x288 with 1 Axes>"
      ]
     },
     "metadata": {
      "needs_background": "light"
     },
     "output_type": "display_data"
    }
   ],
   "source": [
    "df[df.outlier_MF== 1][feats_MF].plot(kind='box')"
   ]
  },
  {
   "cell_type": "code",
   "execution_count": 53,
   "metadata": {},
   "outputs": [
    {
     "data": {
      "text/plain": [
       "count    18763.000000\n",
       "mean         7.760204\n",
       "std         32.851732\n",
       "min          0.000000\n",
       "25%          2.377622\n",
       "50%          4.398179\n",
       "75%          6.851468\n",
       "max       2037.184104\n",
       "Name: MF_vel, dtype: float64"
      ]
     },
     "execution_count": 53,
     "metadata": {},
     "output_type": "execute_result"
    }
   ],
   "source": [
    "df.MF_vel.describe()"
   ]
  },
  {
   "cell_type": "code",
   "execution_count": 54,
   "metadata": {},
   "outputs": [
    {
     "data": {
      "text/plain": [
       "count    16586.000000\n",
       "mean         4.027848\n",
       "std          2.574272\n",
       "min          0.000000\n",
       "25%          2.107763\n",
       "50%          3.975104\n",
       "75%          5.857992\n",
       "max         11.234377\n",
       "Name: MF_vel, dtype: float64"
      ]
     },
     "execution_count": 54,
     "metadata": {},
     "output_type": "execute_result"
    }
   ],
   "source": [
    "df[df.outlier_MF== 1].MF_vel.describe()"
   ]
  },
  {
   "cell_type": "code",
   "execution_count": 55,
   "metadata": {
    "scrolled": true
   },
   "outputs": [
    {
     "name": "stdout",
     "output_type": "stream",
     "text": [
      "O uso do Mean Filter sozinho não conseguiu retirar os pontos anômalos do dataset.\n",
      "Apenas após utilização do Mean Filter conjuntamente à detecção com auxílio da técnica Random Forest obtivemos um valor máximo de velocidade plausível.\n"
     ]
    }
   ],
   "source": [
    "print (f'O uso do Mean Filter sozinho não conseguiu retirar os pontos anômalos do dataset.')\n",
    "print (f'Apenas após utilização do Mean Filter conjuntamente à detecção com auxílio da técnica Random Forest obtivemos um valor máximo de velocidade plausível.')\n"
   ]
  },
  {
   "cell_type": "markdown",
   "metadata": {},
   "source": [
    "### Assim iremos excluir quem foi detectado como outlier pelo Random Forest "
   ]
  },
  {
   "cell_type": "markdown",
   "metadata": {},
   "source": [
    "### Escolhemos o resultado sem a normalização "
   ]
  },
  {
   "cell_type": "markdown",
   "metadata": {},
   "source": [
    "### Rando Foreste pós normalização e pós Mean Filter também seriam alternativas válidas. Por simplicidade preferimos selecionamos o primeiro método (menos passos)."
   ]
  },
  {
   "cell_type": "code",
   "execution_count": 56,
   "metadata": {},
   "outputs": [],
   "source": [
    "df1 = df[df.outlier==1]"
   ]
  },
  {
   "cell_type": "code",
   "execution_count": 57,
   "metadata": {},
   "outputs": [
    {
     "data": {
      "text/plain": [
       "array([0.        , 1.98077615, 3.78394051, ..., 1.66940787, 1.13065551,\n",
       "       1.13065512])"
      ]
     },
     "execution_count": 57,
     "metadata": {},
     "output_type": "execute_result"
    }
   ],
   "source": [
    "df.dist_from_old_point.unique()"
   ]
  },
  {
   "cell_type": "code",
   "execution_count": 58,
   "metadata": {},
   "outputs": [
    {
     "name": "stderr",
     "output_type": "stream",
     "text": [
      "/home/saci/hd/projetos/trajetorias/its_research/venvTraj/lib/python3.8/site-packages/pandas/core/frame.py:4162: SettingWithCopyWarning: \n",
      "A value is trying to be set on a copy of a slice from a DataFrame\n",
      "\n",
      "See the caveats in the documentation: https://pandas.pydata.org/pandas-docs/stable/user_guide/indexing.html#returning-a-view-versus-a-copy\n",
      "  return super().drop(\n"
     ]
    }
   ],
   "source": [
    "df1.drop(['outlier', 'outlier_0', 'outlier2','outlier_norm','outlier2_norm','day','stop_id','block_id', 'delay'],axis=1,inplace=True)"
   ]
  },
  {
   "cell_type": "code",
   "execution_count": 59,
   "metadata": {},
   "outputs": [
    {
     "data": {
      "text/html": [
       "<div>\n",
       "<style scoped>\n",
       "    .dataframe tbody tr th:only-of-type {\n",
       "        vertical-align: middle;\n",
       "    }\n",
       "\n",
       "    .dataframe tbody tr th {\n",
       "        vertical-align: top;\n",
       "    }\n",
       "\n",
       "    .dataframe thead th {\n",
       "        text-align: right;\n",
       "    }\n",
       "</style>\n",
       "<table border=\"1\" class=\"dataframe\">\n",
       "  <thead>\n",
       "    <tr style=\"text-align: right;\">\n",
       "      <th></th>\n",
       "      <th>timestamp</th>\n",
       "      <th>lng</th>\n",
       "      <th>lat</th>\n",
       "      <th>hour</th>\n",
       "      <th>dist_from_old_point</th>\n",
       "      <th>time_from_old_point</th>\n",
       "      <th>velocity</th>\n",
       "      <th>acc</th>\n",
       "      <th>ID</th>\n",
       "      <th>MF_lat</th>\n",
       "      <th>MF_lng</th>\n",
       "      <th>MF_dist_from_old_point</th>\n",
       "      <th>MF_vel</th>\n",
       "      <th>MF_acc</th>\n",
       "      <th>outlier_MF</th>\n",
       "    </tr>\n",
       "  </thead>\n",
       "  <tbody>\n",
       "    <tr>\n",
       "      <th>count</th>\n",
       "      <td>1.529100e+04</td>\n",
       "      <td>15291.000000</td>\n",
       "      <td>15291.000000</td>\n",
       "      <td>15291.000000</td>\n",
       "      <td>15291.000000</td>\n",
       "      <td>15291.000000</td>\n",
       "      <td>15291.000000</td>\n",
       "      <td>15291.000000</td>\n",
       "      <td>15291.000000</td>\n",
       "      <td>15291.000000</td>\n",
       "      <td>15291.000000</td>\n",
       "      <td>15291.000000</td>\n",
       "      <td>15291.000000</td>\n",
       "      <td>15291.000000</td>\n",
       "      <td>15291.000000</td>\n",
       "    </tr>\n",
       "    <tr>\n",
       "      <th>mean</th>\n",
       "      <td>1.357876e+15</td>\n",
       "      <td>-6.266007</td>\n",
       "      <td>53.345461</td>\n",
       "      <td>14.487019</td>\n",
       "      <td>68.965680</td>\n",
       "      <td>20.423059</td>\n",
       "      <td>3.320523</td>\n",
       "      <td>0.163254</td>\n",
       "      <td>51.371330</td>\n",
       "      <td>53.345480</td>\n",
       "      <td>-6.265960</td>\n",
       "      <td>129.283596</td>\n",
       "      <td>6.680521</td>\n",
       "      <td>0.445056</td>\n",
       "      <td>0.876921</td>\n",
       "    </tr>\n",
       "    <tr>\n",
       "      <th>std</th>\n",
       "      <td>4.599294e+10</td>\n",
       "      <td>0.079775</td>\n",
       "      <td>0.053129</td>\n",
       "      <td>4.757248</td>\n",
       "      <td>65.836934</td>\n",
       "      <td>5.841342</td>\n",
       "      <td>3.099348</td>\n",
       "      <td>0.154165</td>\n",
       "      <td>28.595594</td>\n",
       "      <td>0.052669</td>\n",
       "      <td>0.079102</td>\n",
       "      <td>392.260371</td>\n",
       "      <td>26.346399</td>\n",
       "      <td>6.150859</td>\n",
       "      <td>0.480650</td>\n",
       "    </tr>\n",
       "    <tr>\n",
       "      <th>min</th>\n",
       "      <td>1.357798e+15</td>\n",
       "      <td>-6.591024</td>\n",
       "      <td>53.070717</td>\n",
       "      <td>6.000000</td>\n",
       "      <td>0.000000</td>\n",
       "      <td>0.000000</td>\n",
       "      <td>0.000000</td>\n",
       "      <td>0.000000</td>\n",
       "      <td>0.000000</td>\n",
       "      <td>53.070717</td>\n",
       "      <td>-6.590381</td>\n",
       "      <td>0.000000</td>\n",
       "      <td>0.000000</td>\n",
       "      <td>0.000000</td>\n",
       "      <td>-1.000000</td>\n",
       "    </tr>\n",
       "    <tr>\n",
       "      <th>25%</th>\n",
       "      <td>1.357835e+15</td>\n",
       "      <td>-6.300161</td>\n",
       "      <td>53.321640</td>\n",
       "      <td>10.000000</td>\n",
       "      <td>1.130981</td>\n",
       "      <td>19.000000</td>\n",
       "      <td>0.056143</td>\n",
       "      <td>0.002814</td>\n",
       "      <td>28.000000</td>\n",
       "      <td>53.321686</td>\n",
       "      <td>-6.300425</td>\n",
       "      <td>41.389427</td>\n",
       "      <td>1.991785</td>\n",
       "      <td>0.091930</td>\n",
       "      <td>1.000000</td>\n",
       "    </tr>\n",
       "    <tr>\n",
       "      <th>50%</th>\n",
       "      <td>1.357894e+15</td>\n",
       "      <td>-6.260881</td>\n",
       "      <td>53.345905</td>\n",
       "      <td>15.000000</td>\n",
       "      <td>56.360467</td>\n",
       "      <td>20.000000</td>\n",
       "      <td>2.780425</td>\n",
       "      <td>0.133614</td>\n",
       "      <td>52.000000</td>\n",
       "      <td>53.345863</td>\n",
       "      <td>-6.260884</td>\n",
       "      <td>79.073225</td>\n",
       "      <td>3.859698</td>\n",
       "      <td>0.190099</td>\n",
       "      <td>1.000000</td>\n",
       "    </tr>\n",
       "    <tr>\n",
       "      <th>75%</th>\n",
       "      <td>1.357916e+15</td>\n",
       "      <td>-6.232183</td>\n",
       "      <td>53.367821</td>\n",
       "      <td>18.000000</td>\n",
       "      <td>118.928524</td>\n",
       "      <td>21.000000</td>\n",
       "      <td>5.769963</td>\n",
       "      <td>0.283542</td>\n",
       "      <td>76.000000</td>\n",
       "      <td>53.367772</td>\n",
       "      <td>-6.232832</td>\n",
       "      <td>117.154577</td>\n",
       "      <td>5.816565</td>\n",
       "      <td>0.291807</td>\n",
       "      <td>1.000000</td>\n",
       "    </tr>\n",
       "    <tr>\n",
       "      <th>max</th>\n",
       "      <td>1.357947e+15</td>\n",
       "      <td>-6.053067</td>\n",
       "      <td>53.606518</td>\n",
       "      <td>23.000000</td>\n",
       "      <td>335.123512</td>\n",
       "      <td>251.000000</td>\n",
       "      <td>10.566352</td>\n",
       "      <td>0.528445</td>\n",
       "      <td>99.000000</td>\n",
       "      <td>53.606257</td>\n",
       "      <td>-6.053993</td>\n",
       "      <td>8303.194330</td>\n",
       "      <td>1448.161931</td>\n",
       "      <td>589.506931</td>\n",
       "      <td>1.000000</td>\n",
       "    </tr>\n",
       "  </tbody>\n",
       "</table>\n",
       "</div>"
      ],
      "text/plain": [
       "          timestamp           lng           lat          hour  \\\n",
       "count  1.529100e+04  15291.000000  15291.000000  15291.000000   \n",
       "mean   1.357876e+15     -6.266007     53.345461     14.487019   \n",
       "std    4.599294e+10      0.079775      0.053129      4.757248   \n",
       "min    1.357798e+15     -6.591024     53.070717      6.000000   \n",
       "25%    1.357835e+15     -6.300161     53.321640     10.000000   \n",
       "50%    1.357894e+15     -6.260881     53.345905     15.000000   \n",
       "75%    1.357916e+15     -6.232183     53.367821     18.000000   \n",
       "max    1.357947e+15     -6.053067     53.606518     23.000000   \n",
       "\n",
       "       dist_from_old_point  time_from_old_point      velocity           acc  \\\n",
       "count         15291.000000         15291.000000  15291.000000  15291.000000   \n",
       "mean             68.965680            20.423059      3.320523      0.163254   \n",
       "std              65.836934             5.841342      3.099348      0.154165   \n",
       "min               0.000000             0.000000      0.000000      0.000000   \n",
       "25%               1.130981            19.000000      0.056143      0.002814   \n",
       "50%              56.360467            20.000000      2.780425      0.133614   \n",
       "75%             118.928524            21.000000      5.769963      0.283542   \n",
       "max             335.123512           251.000000     10.566352      0.528445   \n",
       "\n",
       "                 ID        MF_lat        MF_lng  MF_dist_from_old_point  \\\n",
       "count  15291.000000  15291.000000  15291.000000            15291.000000   \n",
       "mean      51.371330     53.345480     -6.265960              129.283596   \n",
       "std       28.595594      0.052669      0.079102              392.260371   \n",
       "min        0.000000     53.070717     -6.590381                0.000000   \n",
       "25%       28.000000     53.321686     -6.300425               41.389427   \n",
       "50%       52.000000     53.345863     -6.260884               79.073225   \n",
       "75%       76.000000     53.367772     -6.232832              117.154577   \n",
       "max       99.000000     53.606257     -6.053993             8303.194330   \n",
       "\n",
       "             MF_vel        MF_acc    outlier_MF  \n",
       "count  15291.000000  15291.000000  15291.000000  \n",
       "mean       6.680521      0.445056      0.876921  \n",
       "std       26.346399      6.150859      0.480650  \n",
       "min        0.000000      0.000000     -1.000000  \n",
       "25%        1.991785      0.091930      1.000000  \n",
       "50%        3.859698      0.190099      1.000000  \n",
       "75%        5.816565      0.291807      1.000000  \n",
       "max     1448.161931    589.506931      1.000000  "
      ]
     },
     "execution_count": 59,
     "metadata": {},
     "output_type": "execute_result"
    }
   ],
   "source": [
    "df1.describe()"
   ]
  },
  {
   "cell_type": "code",
   "execution_count": 60,
   "metadata": {},
   "outputs": [
    {
     "data": {
      "text/plain": [
       "<AxesSubplot:>"
      ]
     },
     "execution_count": 60,
     "metadata": {},
     "output_type": "execute_result"
    },
    {
     "data": {
      "image/png": "[encoded data removed]",
      "text/plain": [
       "<Figure size 720x432 with 1 Axes>"
      ]
     },
     "metadata": {
      "needs_background": "light"
     },
     "output_type": "display_data"
    }
   ],
   "source": [
    "df1['acc'].plot(kind='box', figsize=(10,6))"
   ]
  },
  {
   "cell_type": "code",
   "execution_count": 61,
   "metadata": {},
   "outputs": [
    {
     "data": {
      "text/plain": [
       "<AxesSubplot:>"
      ]
     },
     "execution_count": 61,
     "metadata": {},
     "output_type": "execute_result"
    },
    {
     "data": {
      "image/png": "[encoded data removed]",
      "text/plain": [
       "<Figure size 720x432 with 1 Axes>"
      ]
     },
     "metadata": {
      "needs_background": "light"
     },
     "output_type": "display_data"
    }
   ],
   "source": [
    "df1['velocity'].plot(kind='box', figsize=(10,6))"
   ]
  },
  {
   "cell_type": "code",
   "execution_count": 62,
   "metadata": {},
   "outputs": [
    {
     "data": {
      "text/plain": [
       "<AxesSubplot:>"
      ]
     },
     "execution_count": 62,
     "metadata": {},
     "output_type": "execute_result"
    },
    {
     "data": {
      "image/png": "[encoded data removed]",
      "text/plain": [
       "<Figure size 720x432 with 1 Axes>"
      ]
     },
     "metadata": {
      "needs_background": "light"
     },
     "output_type": "display_data"
    }
   ],
   "source": [
    "df1['dist_from_old_point'].plot(kind='box', figsize=(10,6))"
   ]
  },
  {
   "cell_type": "markdown",
   "metadata": {},
   "source": [
    "## Teste de hipótese"
   ]
  },
  {
   "cell_type": "markdown",
   "metadata": {},
   "source": [
    "### Verificação da distribuição da velocidade"
   ]
  },
  {
   "cell_type": "code",
   "execution_count": 63,
   "metadata": {},
   "outputs": [
    {
     "data": {
      "text/plain": [
       "<AxesSubplot:xlabel='velocity', ylabel='Count'>"
      ]
     },
     "execution_count": 63,
     "metadata": {},
     "output_type": "execute_result"
    },
    {
     "data": {
      "image/png": "[encoded data removed]",
      "text/plain": [
       "<Figure size 432x288 with 1 Axes>"
      ]
     },
     "metadata": {
      "needs_background": "light"
     },
     "output_type": "display_data"
    }
   ],
   "source": [
    "sns.histplot(x=df1.velocity)"
   ]
  },
  {
   "cell_type": "markdown",
   "metadata": {},
   "source": [
    "Anderson-Darling test for data coming from a particular distribution.\n",
    "\n",
    "The Anderson-Darling test tests the null hypothesis that a sample is\n",
    "drawn from a population that follows a particular distribution.\n",
    "For the Anderson-Darling test, the critical values depend on\n",
    "which distribution is being tested against.  This function works\n",
    "for normal, exponential, logistic, or Gumbel (Extreme Value\n",
    "Type I) distributions.\n",
    "\n",
    "If the returned statistic is larger than these critical values then\n",
    "for the corresponding significance level, the null hypothesis that\n",
    "the data come from the chosen distribution can be rejected."
   ]
  },
  {
   "cell_type": "code",
   "execution_count": 64,
   "metadata": {},
   "outputs": [],
   "source": [
    "result_test = stats.anderson(df1.velocity, dist='norm')"
   ]
  },
  {
   "cell_type": "code",
   "execution_count": 65,
   "metadata": {},
   "outputs": [
    {
     "name": "stdout",
     "output_type": "stream",
     "text": [
      "Statistic: 530.4834913606828\n",
      "Critical Value: [0.576 0.656 0.787 0.918 1.092]\n",
      "Significance Level: [15.  10.   5.   2.5  1. ]\n"
     ]
    }
   ],
   "source": [
    "print(f'Statistic: {result_test[0]}')\n",
    "\n",
    "print(f'Critical Value: {result_test[1]}')\n",
    "\n",
    "print(f'Significance Level: {result_test[2]}')\n"
   ]
  },
  {
   "cell_type": "code",
   "execution_count": 66,
   "metadata": {},
   "outputs": [
    {
     "name": "stdout",
     "output_type": "stream",
     "text": [
      "Como o valor 530.4834913606828 é maior que qualquer valor crítico [0.576 0.656 0.787 0.918 1.092], então o teste é significativo.\n",
      "Assim podemos rejeitar a hipótese nula que os pontos vem de uma distribuição normal\n"
     ]
    }
   ],
   "source": [
    "print( f'Como o valor {result_test[0]} é maior que qualquer valor crítico {result_test[1]}, então o teste é significativo.')\n",
    "print('Assim podemos rejeitar a hipótese nula que os pontos vem de uma distribuição normal')"
   ]
  },
  {
   "cell_type": "markdown",
   "metadata": {},
   "source": [
    "### Distribuição do log da velocidade (valores diferentes de zero)"
   ]
  },
  {
   "cell_type": "code",
   "execution_count": 67,
   "metadata": {},
   "outputs": [
    {
     "data": {
      "text/plain": [
       "<AxesSubplot:xlabel='velocity', ylabel='Count'>"
      ]
     },
     "execution_count": 67,
     "metadata": {},
     "output_type": "execute_result"
    },
    {
     "data": {
      "image/png": "[encoded data removed]",
      "text/plain": [
       "<Figure size 432x288 with 1 Axes>"
      ]
     },
     "metadata": {
      "needs_background": "light"
     },
     "output_type": "display_data"
    }
   ],
   "source": [
    "sns.histplot(x=df1[df1.velocity!=0].velocity.apply(np.log10))"
   ]
  },
  {
   "cell_type": "markdown",
   "metadata": {},
   "source": [
    "### Teste de normalidade para log10(velocidade!=0)"
   ]
  },
  {
   "cell_type": "code",
   "execution_count": 68,
   "metadata": {},
   "outputs": [],
   "source": [
    "result_test = stats.anderson(df1[df1.velocity!=0].velocity.apply(np.log10), dist='norm')\n"
   ]
  },
  {
   "cell_type": "code",
   "execution_count": 69,
   "metadata": {},
   "outputs": [
    {
     "name": "stdout",
     "output_type": "stream",
     "text": [
      "Statistic: 656.9741450563015\n",
      "Critical Value: [0.576 0.656 0.787 0.918 1.092]\n",
      "Significance Level: [15.  10.   5.   2.5  1. ]\n"
     ]
    }
   ],
   "source": [
    "print(f'Statistic: {result_test[0]}')\n",
    "\n",
    "print(f'Critical Value: {result_test[1]}')\n",
    "\n",
    "print(f'Significance Level: {result_test[2]}')"
   ]
  },
  {
   "cell_type": "markdown",
   "metadata": {},
   "source": [
    "Assim não iremos admitir que haja uma distribuição simétrica na velocidade."
   ]
  },
  {
   "cell_type": "markdown",
   "metadata": {},
   "source": [
    "### Para quais horários há uma diferença entre a velocidade capturada antes e após?"
   ]
  },
  {
   "cell_type": "markdown",
   "metadata": {},
   "source": [
    "### Mann-Whitney rank test"
   ]
  },
  {
   "cell_type": "markdown",
   "metadata": {},
   "source": [
    "A escolha do teste se dá por ausência de normalidade na distribuição e independência entre as trajetórias"
   ]
  },
  {
   "cell_type": "markdown",
   "metadata": {},
   "source": [
    "Há um caso limite em que uma mesma trajetória ocorre através de horas diferentes, o que não seria uma medição independente. Porém para cada hora o número de medições em viagens independentes (que acontecem totalmente antes/depois) é muito maior do que as medições em viagens que cruzaram aquele horário."
   ]
  },
  {
   "cell_type": "code",
   "execution_count": 70,
   "metadata": {},
   "outputs": [
    {
     "name": "stderr",
     "output_type": "stream",
     "text": [
      "/home/saci/hd/projetos/trajetorias/its_research/venvTraj/lib/python3.8/site-packages/scipy/stats/stats.py:7028: RuntimeWarning: divide by zero encountered in double_scalars\n",
      "  z = (bigu - meanrank) / sd\n"
     ]
    }
   ],
   "source": [
    "hours = df1.hour.unique()\n",
    "lh_vel = [stats.mannwhitneyu(df1[df1.hour <= h].velocity, df1[df1.hour > h].velocity)[1] for h in hours]"
   ]
  },
  {
   "cell_type": "code",
   "execution_count": 71,
   "metadata": {},
   "outputs": [
    {
     "data": {
      "text/plain": [
       "<AxesSubplot:>"
      ]
     },
     "execution_count": 71,
     "metadata": {},
     "output_type": "execute_result"
    },
    {
     "data": {
      "image/png": "[encoded data removed]",
      "text/plain": [
       "<Figure size 432x288 with 1 Axes>"
      ]
     },
     "metadata": {
      "needs_background": "light"
     },
     "output_type": "display_data"
    }
   ],
   "source": [
    "x = pd.DataFrame(data={'pvalues_vel':lh_vel}, index=hours).sort_index()\n",
    "x.plot(kind='bar')"
   ]
  },
  {
   "cell_type": "code",
   "execution_count": 72,
   "metadata": {},
   "outputs": [],
   "source": [
    "x = x.reset_index()\n"
   ]
  },
  {
   "cell_type": "code",
   "execution_count": 73,
   "metadata": {},
   "outputs": [],
   "source": [
    "x1 = x[x.pvalues_vel<0.05]"
   ]
  },
  {
   "cell_type": "code",
   "execution_count": 74,
   "metadata": {},
   "outputs": [],
   "source": [
    "x1.index = x1['index']"
   ]
  },
  {
   "cell_type": "code",
   "execution_count": 75,
   "metadata": {},
   "outputs": [
    {
     "data": {
      "text/plain": [
       "<AxesSubplot:xlabel='index'>"
      ]
     },
     "execution_count": 75,
     "metadata": {},
     "output_type": "execute_result"
    },
    {
     "data": {
      "image/png": "[encoded data removed]",
      "text/plain": [
       "<Figure size 432x288 with 1 Axes>"
      ]
     },
     "metadata": {
      "needs_background": "light"
     },
     "output_type": "display_data"
    }
   ],
   "source": [
    "x1.pvalues_vel.plot(kind='bar')"
   ]
  },
  {
   "cell_type": "code",
   "execution_count": 76,
   "metadata": {},
   "outputs": [
    {
     "name": "stderr",
     "output_type": "stream",
     "text": [
      "/home/saci/hd/projetos/trajetorias/its_research/venvTraj/lib/python3.8/site-packages/seaborn/_decorators.py:36: FutureWarning: Pass the following variable as a keyword arg: x. From version 0.12, the only valid positional argument will be `data`, and passing other arguments without an explicit keyword will result in an error or misinterpretation.\n",
      "  warnings.warn(\n"
     ]
    },
    {
     "data": {
      "text/plain": [
       "<AxesSubplot:xlabel='velocity'>"
      ]
     },
     "execution_count": 76,
     "metadata": {},
     "output_type": "execute_result"
    },
    {
     "data": {
      "image/png": "[encoded data removed]",
      "text/plain": [
       "<Figure size 432x288 with 1 Axes>"
      ]
     },
     "metadata": {
      "needs_background": "light"
     },
     "output_type": "display_data"
    }
   ],
   "source": [
    "sns.boxplot(df1.velocity)"
   ]
  },
  {
   "cell_type": "code",
   "execution_count": 77,
   "metadata": {},
   "outputs": [
    {
     "name": "stderr",
     "output_type": "stream",
     "text": [
      "/home/saci/hd/projetos/trajetorias/its_research/venvTraj/lib/python3.8/site-packages/seaborn/axisgrid.py:645: UserWarning: Using the boxplot function without specifying `order` is likely to produce an incorrect plot.\n",
      "  warnings.warn(warning)\n"
     ]
    },
    {
     "data": {
      "text/plain": [
       "<seaborn.axisgrid.FacetGrid at 0x7f106cf86820>"
      ]
     },
     "execution_count": 77,
     "metadata": {},
     "output_type": "execute_result"
    },
    {
     "data": {
      "image/png": "[encoded data removed]",
      "text/plain": [
       "<Figure size 864x648 with 10 Axes>"
      ]
     },
     "metadata": {
      "needs_background": "light"
     },
     "output_type": "display_data"
    }
   ],
   "source": [
    "g = sns.FacetGrid(df1[df1.hour.isin(x1['index'].values)], col=\"hour\", col_wrap=4)\n",
    "g.map(sns.boxplot, 'velocity')\n"
   ]
  },
  {
   "cell_type": "code",
   "execution_count": 78,
   "metadata": {},
   "outputs": [],
   "source": [
    "horas = x1['index'].values"
   ]
  },
  {
   "cell_type": "code",
   "execution_count": 79,
   "metadata": {},
   "outputs": [
    {
     "name": "stdout",
     "output_type": "stream",
     "text": [
      "Para cada uma das seguintes horas: [ 6 10 14 15 16 17 19 20 21 23]\n",
      "Podemos dizer que há uma diferença entre as velocidades amostradas antes e após a mesma.\n",
      "\n",
      "Por exemplo:\n",
      "Como o pvalue para as 16 horas é:\t 0.03128356676236456:\n",
      "Podemos negar H0; Negamos que a distribuiçãos das velocidades sejam iguais.\n",
      "Podemos dizr que há uma difença entre as velocidades antes e após as 16 horas\n"
     ]
    }
   ],
   "source": [
    "print( f'Para cada uma das seguintes horas: {horas}')\n",
    "print('Podemos dizer que há uma diferença entre as velocidades amostradas antes e após a mesma.')\n",
    "print()\n",
    "print('Por exemplo:')\n",
    "print( f'Como o pvalue para as {horas[4]} horas é:\\t {x1.iloc[4].pvalues_vel}:')\n",
    "print( 'Podemos negar H0; Negamos que a distribuiçãos das velocidades sejam iguais.')\n",
    "print( f'Podemos dizr que há uma difença entre as velocidades antes e após as {horas[4]} horas')"
   ]
  },
  {
   "cell_type": "markdown",
   "metadata": {},
   "source": [
    "### Quais linhas ('line_id') tem uma mediana da velocidade maior/menor que a mediana geral\n"
   ]
  },
  {
   "cell_type": "markdown",
   "metadata": {},
   "source": [
    "#### Wilcoxon signed-rank test (one-side)"
   ]
  },
  {
   "cell_type": "markdown",
   "metadata": {},
   "source": [
    "The Wilcoxon signed-rank test tests the null hypothesis that two\n",
    "related paired samples come from the same distribution. In particular,\n",
    "it tests whether the distribution of the differences x - y is symmetric\n",
    "about zero. It is a non-parametric version of the paired T-test.\n"
   ]
  },
  {
   "cell_type": "markdown",
   "metadata": {},
   "source": [
    "The one-sided test has the null hypothesis that the median is \n",
    "positive against the alternative that it is negative \n",
    "(``alternative == 'less'``), or vice versa (``alternative == 'greater.'``)."
   ]
  },
  {
   "cell_type": "markdown",
   "metadata": {},
   "source": [
    "alternative : {\"two-sided\", \"greater\", \"less\"}, optional\n",
    "    The alternative hypothesis to be tested, see Notes. Default is\n",
    "    \"two-sided\"."
   ]
  },
  {
   "cell_type": "code",
   "execution_count": 80,
   "metadata": {},
   "outputs": [],
   "source": [
    "lines = df1.line_id.unique()\n",
    "gt_vel = [stats.wilcoxon(df1[df1.line_id == t].velocity - df1.velocity.median(), alternative='greater')[1]\n",
    "          for t in  lines]\n",
    "lt_vel = [stats.wilcoxon(df1[df1.line_id == t].velocity - df1.velocity.median(), alternative='less')[1]\n",
    "          for t in  lines]"
   ]
  },
  {
   "cell_type": "code",
   "execution_count": 81,
   "metadata": {},
   "outputs": [],
   "source": [
    "dfg = pd.DataFrame(data={'pvalues_vel':gt_vel}, index=lines)\n",
    "dfl = pd.DataFrame(data={'pvalues_vel':lt_vel}, index=lines)\n",
    "#diff_median = dfp[(dfp.pvalues_vel < 0.05)].index\n"
   ]
  },
  {
   "cell_type": "code",
   "execution_count": 82,
   "metadata": {},
   "outputs": [
    {
     "data": {
      "text/plain": [
       "<AxesSubplot:>"
      ]
     },
     "execution_count": 82,
     "metadata": {},
     "output_type": "execute_result"
    },
    {
     "data": {
      "image/png": "[encoded data removed]",
      "text/plain": [
       "<Figure size 2160x720 with 1 Axes>"
      ]
     },
     "metadata": {
      "needs_background": "light"
     },
     "output_type": "display_data"
    }
   ],
   "source": [
    "dfg[(dfg.pvalues_vel < 0.05)].plot(kind='bar', figsize=(30,10))"
   ]
  },
  {
   "cell_type": "code",
   "execution_count": 83,
   "metadata": {},
   "outputs": [
    {
     "data": {
      "text/plain": [
       "<AxesSubplot:>"
      ]
     },
     "execution_count": 83,
     "metadata": {},
     "output_type": "execute_result"
    },
    {
     "data": {
      "image/png": "[encoded data removed]",
      "text/plain": [
       "<Figure size 2160x720 with 1 Axes>"
      ]
     },
     "metadata": {
      "needs_background": "light"
     },
     "output_type": "display_data"
    }
   ],
   "source": [
    "dfl[(dfl.pvalues_vel < 0.05)].plot(kind='bar', figsize=(30,10))"
   ]
  },
  {
   "cell_type": "code",
   "execution_count": 84,
   "metadata": {},
   "outputs": [
    {
     "name": "stdout",
     "output_type": "stream",
     "text": [
      "Rejeitamos a hipótese de que estas 30 linhas: \n",
      "\n",
      "['102.0' '13.0' '130.0' '14.0' '150.0' '151.0' '171.0' '18.0' '25.0'\n",
      " '27.0' '29.0' '31.0' '33.0' '331.0' '37.0' '38.0' '39.0' '4.0' '40.0'\n",
      " '41.0' '42.0' '46.0' '53.0' '54.0' '67.0' '68.0' '76.0' '79.0' '83.0'\n",
      " '84.0']\n",
      "\n",
      "(H0) possuem a mediana de suas velocidades menores que a mediana de toda a amostra\n",
      "\n",
      "Aceitamos a hipótese alternativa que estas linhas tem uma mediana superior à mediana da amostra\n"
     ]
    }
   ],
   "source": [
    "print( f'Rejeitamos a hipótese de que estas {len(dfg[(dfg.pvalues_vel < 0.05)])} linhas: \\n\\n{dfg[(dfg.pvalues_vel < 0.05)].index.values}')\n",
    "print()\n",
    "print('(H0) possuem a mediana de suas velocidades menores que a mediana de toda a amostra')\n",
    "print()\n",
    "print('Aceitamos a hipótese alternativa que estas linhas tem uma mediana superior à mediana da amostra')"
   ]
  },
  {
   "cell_type": "code",
   "execution_count": 85,
   "metadata": {},
   "outputs": [
    {
     "name": "stdout",
     "output_type": "stream",
     "text": [
      "Rejeitamos a hipótese de que estas 5 linhas: \n",
      "\n",
      "['1.0' '114.0' '15.0' '63.0' '66.0']\n",
      "\n",
      "(H0) possuem a mediana de suas velocidades maiores que a mediana de toda a amostra\n",
      "\n",
      "Aceitamos a hipótese alternativa que estas linhas tem uma mediana inferior à mediana da amostra\n"
     ]
    }
   ],
   "source": [
    "print( f'Rejeitamos a hipótese de que estas {len(dfl[(dfl.pvalues_vel < 0.05)])} linhas: \\n\\n{dfl[(dfl.pvalues_vel < 0.05)].index.values}')\n",
    "print()\n",
    "print('(H0) possuem a mediana de suas velocidades maiores que a mediana de toda a amostra')\n",
    "print()\n",
    "print('Aceitamos a hipótese alternativa que estas linhas tem uma mediana inferior à mediana da amostra')"
   ]
  },
  {
   "cell_type": "markdown",
   "metadata": {},
   "source": [
    "## Plotar algumas trajetórias"
   ]
  },
  {
   "cell_type": "markdown",
   "metadata": {},
   "source": [
    "### Funções auxíliares"
   ]
  },
  {
   "cell_type": "code",
   "execution_count": 86,
   "metadata": {
    "scrolled": false
   },
   "outputs": [],
   "source": [
    "def to_mercator(Coords):\n",
    "    Coordinates =  Coords\n",
    "    #literal_eval(Coords)        \n",
    "    lat = Coordinates[1]\n",
    "    lon = Coordinates[0]\n",
    "    \n",
    "    r_major = 6378137.000\n",
    "    x = r_major * math.radians(lon)\n",
    "    scale = x/lon\n",
    "    y = 180.0/math.pi * math.log(math.tan(math.pi/4.0 + \n",
    "        lat * (math.pi/180.0)/2.0)) * scale    \n",
    "    \n",
    "    return pd.Series((x, y))\n",
    "\n",
    "def plot_fig(df_x, color):\n",
    "    p = figure(x_axis_type=\"mercator\", y_axis_type=\"mercator\")\n",
    "    p.add_tile(get_provider(tile_provider))\n",
    "    #p.circle(\n",
    "    p.line(\n",
    "        x='lng_m',\n",
    "        y='lat_m',\n",
    "        color= color,\n",
    "        source=df_x\n",
    "    )\n",
    "    try:\n",
    "        p.circle(\n",
    "            x='lng_m',\n",
    "            y='lat_m',\n",
    "            color= 'red',\n",
    "            source=df_x[df_x.outlier == -1]\n",
    "        )\n",
    "    except:\n",
    "        pass\n",
    "    p.circle(\n",
    "        x=df_x.iloc[0]['lng_m'],\n",
    "        y=df_x.iloc[0]['lat_m'],\n",
    "        color= 'blue',    \n",
    "    )\n",
    "    return (p)\n",
    "\n",
    "def plot_map(data_line):\n",
    "    p = figure(x_axis_type=\"mercator\", y_axis_type=\"mercator\")\n",
    "    p.add_tile(get_provider(tile_provider))\n",
    "    data_line[['lng_m','lat_m']] = data_line[['lng', 'lat']].apply(to_mercator, axis=1)\n",
    "    p = plot_fig(data_line, 'black')\n",
    "    show(p)"
   ]
  },
  {
   "cell_type": "markdown",
   "metadata": {},
   "source": [
    "### A linha preta é a trajetória"
   ]
  },
  {
   "cell_type": "markdown",
   "metadata": {},
   "source": [
    "### O ponto azul é a partida"
   ]
  },
  {
   "cell_type": "markdown",
   "metadata": {},
   "source": [
    "### Os pontos vermelhos os outliers"
   ]
  },
  {
   "cell_type": "markdown",
   "metadata": {},
   "source": [
    "#### Pontos Excluídos por ter menos que 50 pontos"
   ]
  },
  {
   "cell_type": "code",
   "execution_count": 87,
   "metadata": {
    "scrolled": false
   },
   "outputs": [
    {
     "data": {
      "text/html": [
       "\n",
       "\n",
       "\n",
       "\n",
       "\n",
       "\n",
       "  <div class=\"bk-root\" id=\"35eba8bd-7084-4489-8bda-99b0736db52c\" data-root-id=\"1044\"></div>\n"
      ]
     },
     "metadata": {},
     "output_type": "display_data"
    },
    {
     "data": {
      "application/javascript": [
       "(function(root) {\n",
       "  function embed_document(root) {\n",
       "    \n",
       "  var docs_json = {\"cf0b021a-c607-4ea6-bca7-2138a353e098\":{\"roots\":{\"references\":[{\"attributes\":{\"below\":[{\"id\":\"1053\"}],\"center\":[{\"id\":\"1060\"},{\"id\":\"1068\"}],\"left\":[{\"id\":\"1061\"}],\"renderers\":[{\"id\":\"1084\"},{\"id\":\"1090\"},{\"id\":\"1095\"}],\"title\":{\"id\":\"1097\"},\"toolbar\":{\"id\":\"1076\"},\"x_range\":{\"id\":\"1045\"},\"x_scale\":{\"id\":\"1049\"},\"y_range\":{\"id\":\"1047\"},\"y_scale\":{\"id\":\"1051\"}},\"id\":\"1044\",\"subtype\":\"Figure\",\"type\":\"Plot\"},{\"attributes\":{\"line_alpha\":0.1,\"x\":{\"field\":\"lng_m\"},\"y\":{\"field\":\"lat_m\"}},\"id\":\"1089\",\"type\":\"Line\"},{\"attributes\":{\"data\":{},\"selected\":{\"id\":\"1106\"},\"selection_policy\":{\"id\":\"1105\"}},\"id\":\"1092\",\"type\":\"ColumnDataSource\"},{\"attributes\":{\"source\":{\"id\":\"1086\"}},\"id\":\"1091\",\"type\":\"CDSView\"},{\"attributes\":{\"x\":{\"field\":\"lng_m\"},\"y\":{\"field\":\"lat_m\"}},\"id\":\"1088\",\"type\":\"Line\"},{\"attributes\":{},\"id\":\"1104\",\"type\":\"Selection\"},{\"attributes\":{},\"id\":\"1103\",\"type\":\"UnionRenderers\"},{\"attributes\":{},\"id\":\"1070\",\"type\":\"WheelZoomTool\"},{\"attributes\":{\"data_source\":{\"id\":\"1086\"},\"glyph\":{\"id\":\"1088\"},\"hover_glyph\":null,\"muted_glyph\":null,\"nonselection_glyph\":{\"id\":\"1089\"},\"selection_glyph\":null,\"view\":{\"id\":\"1091\"}},\"id\":\"1090\",\"type\":\"GlyphRenderer\"},{\"attributes\":{\"fill_color\":{\"value\":\"blue\"},\"line_color\":{\"value\":\"blue\"},\"x\":{\"value\":-693808.0772063041},\"y\":{\"value\":7041981.215651802}},\"id\":\"1093\",\"type\":\"Circle\"},{\"attributes\":{},\"id\":\"1072\",\"type\":\"SaveTool\"},{\"attributes\":{\"overlay\":{\"id\":\"1075\"}},\"id\":\"1071\",\"type\":\"BoxZoomTool\"},{\"attributes\":{\"active_drag\":\"auto\",\"active_inspect\":\"auto\",\"active_multi\":null,\"active_scroll\":\"auto\",\"active_tap\":\"auto\",\"tools\":[{\"id\":\"1069\"},{\"id\":\"1070\"},{\"id\":\"1071\"},{\"id\":\"1072\"},{\"id\":\"1073\"},{\"id\":\"1074\"}]},\"id\":\"1076\",\"type\":\"Toolbar\"},{\"attributes\":{},\"id\":\"1045\",\"type\":\"DataRange1d\"},{\"attributes\":{},\"id\":\"1069\",\"type\":\"PanTool\"},{\"attributes\":{},\"id\":\"1074\",\"type\":\"HelpTool\"},{\"attributes\":{\"text\":\"\"},\"id\":\"1097\",\"type\":\"Title\"},{\"attributes\":{\"axis\":{\"id\":\"1061\"},\"dimension\":1,\"ticker\":null},\"id\":\"1068\",\"type\":\"Grid\"},{\"attributes\":{\"data\":{\"block_id\":[1001,1001,1001,1001,1001,1001,1001,1001,1001,1001,1001,1001,1001,1001,1001,1001,1001,1001,1001,1001,1001,1001,1001,1001,1001,1001,1001,1001,1001,1001,1001,1001,1001,1001,1001,1001,1001,1001,1001,1001,1001],\"congestion\":[false,false,false,false,false,false,false,false,false,false,false,false,false,false,false,false,false,false,false,false,false,false,false,false,false,false,false,false,false,false,false,false,false,false,false,false,false,false,false,false,false],\"datetime\":{\"__ndarray__\":\"AADB20HCc0IAgGTgQcJzQgCAz+NBwnNCAIBG5UHCc0IAAOrpQcJzQgAASe9BwnNCAIB18kHCc0IAgOzzQcJzQgCAzvhBwnNCAADp/kHCc0IAAN0AQsJzQgAAVAJCwnNCAIB0B0LCc0IAgFYMQsJzQgCAPhBCwnNCAAD0EULCc0IAgJcWQsJzQgCAeRtCwnNCAIBnHkLCc0IAgGEfQsJzQgAAgiRCwnNCAICiKULCc0IAgIotQsJzQgCABy5CwnNCAAClM0LCc0IAgEg4QsJzQgCAsztCwnNCAIAkPkLCc0IAgAxCQsJzQgAALUdCwnNCAAAVS0LCc0IAAJJLQsJzQgCAslBCwnNCAIARVkLCc0IAALtZQsJzQgAAOFpCwnNCAAAaX0LCc0IAgDpkQsJzQgCAHGlCwnNCAAC6bkLCc0IAAKJyQsJzQg==\",\"dtype\":\"float64\",\"order\":\"little\",\"shape\":[41]},\"day\":[10,10,10,10,10,10,10,10,10,10,10,10,10,10,10,10,10,10,10,10,10,10,10,10,10,10,10,10,10,10,10,10,10,10,10,10,10,10,10,10,10],\"delay\":[0,0,0,0,0,0,0,0,0,0,0,0,0,0,0,0,0,0,0,0,0,0,0,0,0,0,0,0,0,0,0,0,0,0,0,0,0,0,0,0,0],\"hour\":[10,11,11,11,11,11,11,11,11,11,11,11,11,11,11,11,11,11,11,11,11,11,11,11,11,11,11,11,11,11,11,11,11,11,11,11,11,11,11,11,11],\"index\":[552756,553213,553622,553834,554264,554794,555201,555416,555854,556393,556713,556956,557485,557988,558315,558587,559072,559583,559899,560061,560638,561186,561599,561697,562248,562718,563096,563423,563827,564327,564860,564891,565400,565965,566431,566485,567011,567473,568109,568701,569131],\"journey_id\":[\"00010001\",\"00010001\",\"00010001\",\"00010001\",\"00010001\",\"00010001\",\"00010001\",\"00010001\",\"00010001\",\"00010001\",\"00010001\",\"00010001\",\"00010001\",\"00010001\",\"00010001\",\"00010001\",\"00010001\",\"00010001\",\"00010001\",\"00010001\",\"00010001\",\"00010001\",\"00010001\",\"00010001\",\"00010001\",\"00010001\",\"00010001\",\"00010001\",\"00010001\",\"00010001\",\"00010001\",\"00010001\",\"00010001\",\"00010001\",\"00010001\",\"00010001\",\"00010001\",\"00010001\",\"00010001\",\"00010001\",\"00010001\"],\"lat\":{\"__ndarray__\":\"Z3xfXKqoSkAJLev+sahKQAkt6/6xqEpAu1tZorOoSkAUP8bctahKQEIKnkKuqEpAQgqeQq6oSkAkvajdr6hKQLtbWaKzqEpArd12obmoSkCt3XahuahKQCMO2UC6qEpArd12obmoSkCt3XahuahKQK3ddqG5qEpA0H8PXruoSkALfhtivKhKQBQ/xty1qEpAFD/G3LWoSkC3niEcs6hKQBQ/xty1qEpA3v3xXrWoSkDe/fFetahKQLeeIRyzqEpAdktywK6oSkDFHAQdrahKQMUcBB2tqEpAxRwEHa2oSkCuKCUEq6hKQMUcBB2tqEpAxRwEHa2oSkDFHAQdrahKQBmrzf+rqEpAGavN/6uoSkAZq83/q6hKQMUcBB2tqEpAy9k7o62oSkBCCp5CrqhKQBmrzf+rqEpAkdsvn6yoSkDFHAQdrahKQA==\",\"dtype\":\"float64\",\"order\":\"little\",\"shape\":[41]},\"lat_m\":{\"__ndarray__\":\"Nz3NTe/cWkE0nJ0o+txaQTScnSj63FpBaP3tfPzcWkEP9Oqn/9xaQa67Bdn03FpBrrsF2fTcWkF4lWgh99xaQWj97Xz83FpBX91xAwXdWkFf3XEDBd1aQa2VC+YF3VpBYN1xAwXdWkFf3XEDBd1aQV/dcQMF3VpBMYSKewfdWkHFFULtCN1aQQ/06qf/3FpBD/Tqp//cWkHP7Ru++9xaQQ706qf/3FpBk/IF9f7cWkGT8gX1/txaQc/tG7773FpBgYHqi/XcWkG+qJo389xaQb6omjfz3FpBvaiaN/PcWkGsb1M88NxaQb2omjfz3FpBvaiaN/PcWkG9qJo389xaQRPJHKLx3FpBE8kcovHcWkETyRyi8dxaQb2omjfz3FpBvIJs9vPcWkGuuwXZ9NxaQRPJHKLx3FpBpfC1hPLcWkG+qJo389xaQQ==\",\"dtype\":\"float64\",\"order\":\"little\",\"shape\":[41]},\"line_id\":[1.0,1.0,1.0,1.0,1.0,1.0,1.0,1.0,1.0,1.0,1.0,1.0,1.0,1.0,1.0,1.0,1.0,1.0,1.0,1.0,1.0,1.0,1.0,1.0,1.0,1.0,1.0,1.0,1.0,1.0,1.0,1.0,1.0,1.0,1.0,1.0,1.0,1.0,1.0,1.0,1.0],\"lng\":{\"__ndarray__\":\"nEoGgCruGMCjWdk+5O0YwKNZ2T7k7RjAVCCzs+jtGMDFqkGY2+0YwIz2eCEd7hjAjPZ4IR3uGMBwC5bqAu4YwATnjCjt7RjAe9egL73tGMB716Avve0YwHvXoC+97RjACU0SS8rtGMB716Avve0YwHvXoC+97RjA7WEvFLDtGMD/XgoPmu0YwLoT7L/O7RjAuhPsv87tGMBUILOz6O0YwJjCg2bX7RjAdnEbDeDtGMB2cRsN4O0YwATnjCjt7RjA5/up8dLtGMAJTRJLyu0YwAlNEkvK7RjA0JhJ1AvuGMCM9nghHe4YwOyDLAsm7hjA7IMsCybuGMCo4VtYN+4YwAMJih9j7hjAAwmKH2PuGMADCYofY+4YwFioNc077hjAnEoGgCruGMCM9nghHe4YwHALluoC7hjABOeMKO3tGMAE54wo7e0YwA==\",\"dtype\":\"float64\",\"order\":\"little\",\"shape\":[41]},\"lng_m\":{\"__ndarray__\":\"rpWHJ2AsJcGM4bZ8JCwlwYzhtnwkLCXBYaSjRSgsJcEsOtwjHSwlwTJNwcxULCXBMk3BzFQsJcHJeDKJPiwlwTVnkA4sLCXBNoFfUAMsJcE2gV9QAywlwTaBX1ADLCXBa+smcg4sJcE2gV9QAywlwTaBX1ADLCXBAheYLvgrJcElJ/d65SslwUCuEzsSLCXBQK4TOxIsJcFhpKNFKCwlwaBV7pMZLCXBAP3I7CAsJcEA/cjsICwlwTVnkA4sLCXBy5IByxUsJcFr6yZyDiwlwWvrJnIOLCXBcf4LG0YsJcEyTcHMVCwlwdrSml5cLCXB2tKaXlwsJcGaIVAQaywlwQwjkz6QLCXBDCOTPpAsJcEMI5M+kCwlwW7kPNluLCXBrpWHJ2AsJcEyTcHMVCwlwcl4Mok+LCXBNWeQDiwsJcE1Z5AOLCwlwQ==\",\"dtype\":\"float64\",\"order\":\"little\",\"shape\":[41]},\"operator\":[\"D1\",\"D1\",\"D1\",\"D1\",\"D1\",\"D1\",\"D1\",\"D1\",\"D1\",\"D1\",\"D1\",\"D1\",\"D1\",\"D1\",\"D1\",\"D1\",\"D1\",\"D1\",\"D1\",\"D1\",\"D1\",\"D1\",\"D1\",\"D1\",\"D1\",\"D1\",\"D1\",\"D1\",\"D1\",\"D1\",\"D1\",\"D1\",\"D1\",\"D1\",\"D1\",\"D1\",\"D1\",\"D1\",\"D1\",\"D1\",\"D1\"],\"stop\":[false,false,false,false,false,false,false,false,false,false,false,false,false,false,false,false,false,false,false,false,false,false,false,false,false,false,false,false,false,false,false,false,false,false,false,false,false,false,false,false,false],\"stop_id\":[351.0,351.0,352.0,352.0,352.0,352.0,353.0,353.0,353.0,353.0,354.0,354.0,354.0,354.0,355.0,355.0,355.0,355.0,356.0,356.0,356.0,356.0,357.0,357.0,357.0,357.0,357.0,357.0,357.0,357.0,390.0,390.0,390.0,390.0,372.0,372.0,372.0,372.0,374.0,374.0,374.0],\"time_frame\":[\"2013-01-10\",\"2013-01-10\",\"2013-01-10\",\"2013-01-10\",\"2013-01-10\",\"2013-01-10\",\"2013-01-10\",\"2013-01-10\",\"2013-01-10\",\"2013-01-10\",\"2013-01-10\",\"2013-01-10\",\"2013-01-10\",\"2013-01-10\",\"2013-01-10\",\"2013-01-10\",\"2013-01-10\",\"2013-01-10\",\"2013-01-10\",\"2013-01-10\",\"2013-01-10\",\"2013-01-10\",\"2013-01-10\",\"2013-01-10\",\"2013-01-10\",\"2013-01-10\",\"2013-01-10\",\"2013-01-10\",\"2013-01-10\",\"2013-01-10\",\"2013-01-10\",\"2013-01-10\",\"2013-01-10\",\"2013-01-10\",\"2013-01-10\",\"2013-01-10\",\"2013-01-10\",\"2013-01-10\",\"2013-01-10\",\"2013-01-10\",\"2013-01-10\"],\"timestamp\":[1357815594000000,1357815613000000,1357815627000000,1357815633000000,1357815652000000,1357815674000000,1357815687000000,1357815693000000,1357815713000000,1357815738000000,1357815746000000,1357815752000000,1357815773000000,1357815793000000,1357815809000000,1357815816000000,1357815835000000,1357815855000000,1357815867000000,1357815871000000,1357815892000000,1357815913000000,1357815929000000,1357815931000000,1357815954000000,1357815973000000,1357815987000000,1357815997000000,1357816013000000,1357816034000000,1357816050000000,1357816052000000,1357816073000000,1357816095000000,1357816110000000,1357816112000000,1357816132000000,1357816153000000,1357816173000000,1357816196000000,1357816212000000],\"vehicle_id\":[43014,43014,43014,43014,43014,43014,43014,43014,43014,43014,43014,43014,43014,43014,43014,43014,43014,43014,43014,43014,43014,43014,43014,43014,43014,43014,43014,43014,43014,43014,43014,43014,43014,43014,43014,43014,43014,43014,43014,43014,43014],\"vehicle_journey_id\":[4608,4608,4608,4608,4608,4608,4608,4608,4608,4608,4608,4608,4608,4608,4608,4608,4608,4608,4608,4608,4608,4608,4608,4608,4608,4608,4608,4608,4608,4608,4608,4608,4608,4608,4608,4608,4608,4608,4608,4608,4608]},\"selected\":{\"id\":\"1104\"},\"selection_policy\":{\"id\":\"1103\"}},\"id\":\"1086\",\"type\":\"ColumnDataSource\"},{\"attributes\":{\"dimension\":\"lat\"},\"id\":\"1062\",\"type\":\"MercatorTicker\"},{\"attributes\":{\"formatter\":{\"id\":\"1064\"},\"ticker\":{\"id\":\"1062\"}},\"id\":\"1061\",\"type\":\"MercatorAxis\"},{\"attributes\":{\"dimension\":\"lat\"},\"id\":\"1064\",\"type\":\"MercatorTickFormatter\"},{\"attributes\":{},\"id\":\"1073\",\"type\":\"ResetTool\"},{\"attributes\":{\"bottom_units\":\"screen\",\"fill_alpha\":0.5,\"fill_color\":\"lightgrey\",\"left_units\":\"screen\",\"level\":\"overlay\",\"line_alpha\":1.0,\"line_color\":\"black\",\"line_dash\":[4,4],\"line_width\":2,\"right_units\":\"screen\",\"top_units\":\"screen\"},\"id\":\"1075\",\"type\":\"BoxAnnotation\"},{\"attributes\":{},\"id\":\"1047\",\"type\":\"DataRange1d\"},{\"attributes\":{\"dimension\":\"lon\"},\"id\":\"1056\",\"type\":\"MercatorTickFormatter\"},{\"attributes\":{\"tile_source\":{\"id\":\"1083\"}},\"id\":\"1084\",\"type\":\"TileRenderer\"},{\"attributes\":{\"axis\":{\"id\":\"1053\"},\"ticker\":null},\"id\":\"1060\",\"type\":\"Grid\"},{\"attributes\":{\"dimension\":\"lon\"},\"id\":\"1054\",\"type\":\"MercatorTicker\"},{\"attributes\":{\"source\":{\"id\":\"1092\"}},\"id\":\"1096\",\"type\":\"CDSView\"},{\"attributes\":{},\"id\":\"1106\",\"type\":\"Selection\"},{\"attributes\":{\"data_source\":{\"id\":\"1092\"},\"glyph\":{\"id\":\"1093\"},\"hover_glyph\":null,\"muted_glyph\":null,\"nonselection_glyph\":{\"id\":\"1094\"},\"selection_glyph\":null,\"view\":{\"id\":\"1096\"}},\"id\":\"1095\",\"type\":\"GlyphRenderer\"},{\"attributes\":{\"formatter\":{\"id\":\"1056\"},\"ticker\":{\"id\":\"1054\"}},\"id\":\"1053\",\"type\":\"MercatorAxis\"},{\"attributes\":{\"fill_alpha\":{\"value\":0.1},\"fill_color\":{\"value\":\"blue\"},\"line_alpha\":{\"value\":0.1},\"line_color\":{\"value\":\"blue\"},\"x\":{\"value\":-693808.0772063041},\"y\":{\"value\":7041981.215651802}},\"id\":\"1094\",\"type\":\"Circle\"},{\"attributes\":{},\"id\":\"1051\",\"type\":\"LinearScale\"},{\"attributes\":{\"attribution\":\"&copy; <a href=\\\"https://www.openstreetmap.org/copyright\\\">OpenStreetMap</a> contributors\",\"url\":\"https://c.tile.openstreetmap.org/{Z}/{X}/{Y}.png\"},\"id\":\"1083\",\"type\":\"WMTSTileSource\"},{\"attributes\":{},\"id\":\"1105\",\"type\":\"UnionRenderers\"},{\"attributes\":{},\"id\":\"1049\",\"type\":\"LinearScale\"}],\"root_ids\":[\"1044\"]},\"title\":\"Bokeh Application\",\"version\":\"2.2.1\"}};\n",
       "  var render_items = [{\"docid\":\"cf0b021a-c607-4ea6-bca7-2138a353e098\",\"root_ids\":[\"1044\"],\"roots\":{\"1044\":\"35eba8bd-7084-4489-8bda-99b0736db52c\"}}];\n",
       "  root.Bokeh.embed.embed_items_notebook(docs_json, render_items);\n",
       "\n",
       "  }\n",
       "  if (root.Bokeh !== undefined) {\n",
       "    embed_document(root);\n",
       "  } else {\n",
       "    var attempts = 0;\n",
       "    var timer = setInterval(function(root) {\n",
       "      if (root.Bokeh !== undefined) {\n",
       "        clearInterval(timer);\n",
       "        embed_document(root);\n",
       "      } else {\n",
       "        attempts++;\n",
       "        if (attempts > 100) {\n",
       "          clearInterval(timer);\n",
       "          console.log(\"Bokeh: ERROR: Unable to run BokehJS code because BokehJS library is missing\");\n",
       "        }\n",
       "      }\n",
       "    }, 10, root)\n",
       "  }\n",
       "})(window);"
      ],
      "application/vnd.bokehjs_exec.v0+json": ""
     },
     "metadata": {
      "application/vnd.bokehjs_exec.v0+json": {
       "id": "1044"
      }
     },
     "output_type": "display_data"
    },
    {
     "data": {
      "text/html": [
       "\n",
       "\n",
       "\n",
       "\n",
       "\n",
       "\n",
       "  <div class=\"bk-root\" id=\"b920e42e-a646-4538-abd9-3fb0d29ba66d\" data-root-id=\"1205\"></div>\n"
      ]
     },
     "metadata": {},
     "output_type": "display_data"
    },
    {
     "data": {
      "application/javascript": [
       "(function(root) {\n",
       "  function embed_document(root) {\n",
       "    \n",
       "  var docs_json = {\"8a05c844-156e-486a-9df8-67df02dc3304\":{\"roots\":{\"references\":[{\"attributes\":{\"below\":[{\"id\":\"1214\"}],\"center\":[{\"id\":\"1221\"},{\"id\":\"1229\"}],\"left\":[{\"id\":\"1222\"}],\"renderers\":[{\"id\":\"1245\"},{\"id\":\"1251\"},{\"id\":\"1256\"}],\"title\":{\"id\":\"1269\"},\"toolbar\":{\"id\":\"1237\"},\"x_range\":{\"id\":\"1206\"},\"x_scale\":{\"id\":\"1210\"},\"y_range\":{\"id\":\"1208\"},\"y_scale\":{\"id\":\"1212\"}},\"id\":\"1205\",\"subtype\":\"Figure\",\"type\":\"Plot\"},{\"attributes\":{},\"id\":\"1206\",\"type\":\"DataRange1d\"},{\"attributes\":{\"data_source\":{\"id\":\"1247\"},\"glyph\":{\"id\":\"1249\"},\"hover_glyph\":null,\"muted_glyph\":null,\"nonselection_glyph\":{\"id\":\"1250\"},\"selection_glyph\":null,\"view\":{\"id\":\"1252\"}},\"id\":\"1251\",\"type\":\"GlyphRenderer\"},{\"attributes\":{\"text\":\"\"},\"id\":\"1269\",\"type\":\"Title\"},{\"attributes\":{\"tile_source\":{\"id\":\"1244\"}},\"id\":\"1245\",\"type\":\"TileRenderer\"},{\"attributes\":{},\"id\":\"1212\",\"type\":\"LinearScale\"},{\"attributes\":{\"dimension\":\"lon\"},\"id\":\"1215\",\"type\":\"MercatorTicker\"},{\"attributes\":{},\"id\":\"1275\",\"type\":\"UnionRenderers\"},{\"attributes\":{},\"id\":\"1208\",\"type\":\"DataRange1d\"},{\"attributes\":{\"bottom_units\":\"screen\",\"fill_alpha\":0.5,\"fill_color\":\"lightgrey\",\"left_units\":\"screen\",\"level\":\"overlay\",\"line_alpha\":1.0,\"line_color\":\"black\",\"line_dash\":[4,4],\"line_width\":2,\"right_units\":\"screen\",\"top_units\":\"screen\"},\"id\":\"1236\",\"type\":\"BoxAnnotation\"},{\"attributes\":{\"fill_color\":{\"value\":\"blue\"},\"line_color\":{\"value\":\"blue\"},\"x\":{\"value\":-695397.719534832},\"y\":{\"value\":7046817.272232639}},\"id\":\"1254\",\"type\":\"Circle\"},{\"attributes\":{},\"id\":\"1276\",\"type\":\"Selection\"},{\"attributes\":{\"data\":{\"block_id\":[1005,1005,1005,1005,1005,1005,1005,1005,1005,1005,1005,1005,1005],\"congestion\":[false,false,false,false,false,false,false,false,false,false,false,false,false],\"datetime\":{\"__ndarray__\":\"AABgT53Cc0IAAEJUncJzQgCAYlmdwnNCAIBEXp3Cc0IAAGVjncJzQgAAR2idwnNCAIBtbJ3Cc0IAAI5xncJzQgAAcHadwnNCAICQe53Cc0IAAJOFncJzQgAA+ImdwnNCAIAYj53Cc0I=\",\"dtype\":\"float64\",\"order\":\"little\",\"shape\":[13]},\"day\":[11,11,11,11,11,11,11,11,11,11,11,11,11],\"delay\":[3420,3420,3420,3420,3420,3374,3374,3336,3336,3336,3376,3376,3360],\"hour\":[13,13,13,13,13,13,13,13,13,13,13,13,13],\"index\":[800997,801609,802108,802558,803209,803671,804112,804711,805274,805754,806886,807337,807893],\"journey_id\":[\"00011001\",\"00011001\",\"00011001\",\"00011001\",\"00011001\",\"00011001\",\"00011001\",\"00011001\",\"00011001\",\"00011001\",\"00011001\",\"00011001\",\"00011001\"],\"lat\":{\"__ndarray__\":\"6z9rfvyrSkDrP2t+/KtKQCbD8XwGrEpAJsPxfAasSkCOQSeEDqxKQD5ZMVwdrEpArMjogCSsSkDyXUpdMqxKQHx+GCE8rEpAvm2mQjysSkDnAMEcPaxKQPV+ox03rEpA9s/TgEGsSkA=\",\"dtype\":\"float64\",\"order\":\"little\",\"shape\":[13]},\"lat_m\":{\"__ndarray__\":\"ckJsUajhWkFyQmxRqOFaQVxgJIm24VpBXGAkibbhWkG5rN70weFaQWq00xLX4VpBq8VjPOHhWkE/BWr09OFaQc1SvNgC4lpBIb94CAPiWkF3hsE+BOJaQUf/1bb74VpBNp3qfQriWkE=\",\"dtype\":\"float64\",\"order\":\"little\",\"shape\":[13]},\"line_id\":[1.0,1.0,1.0,1.0,1.0,1.0,1.0,1.0,1.0,1.0,1.0,1.0,1.0],\"lng\":{\"__ndarray__\":\"LT2a6sn8GMAtPZrqyfwYwBQjS+ZY/hjAFCNL5lj+GMAANbVsrf8YwHrGvmTjARnAsaayKOwCGcCcNuM0RAUZwN3PKcjPBhnABfuvc9MGGcAmUS/4NAcZwAK4WbxYCBnA3sfRHFkJGcA=\",\"dtype\":\"float64\",\"order\":\"little\",\"shape\":[13]},\"lng_m\":{\"__ndarray__\":\"mN5mcMs4JcGY3mZwyzglwf5qrEseOiXB/mqsSx46JcEJVu6APzslwWf9Yi4gPSXBV/jrCwE+JcGkgM2q/j8lwVfDIaFOQSXBUusRv1FBJcEB7WyRpEElwTRXgV2cQiXBDYkuG3ZDJcE=\",\"dtype\":\"float64\",\"order\":\"little\",\"shape\":[13]},\"operator\":[\"RD\",\"RD\",\"RD\",\"RD\",\"RD\",\"RD\",\"RD\",\"RD\",\"RD\",\"RD\",\"RD\",\"RD\",\"RD\"],\"stop\":[false,false,false,false,false,false,false,false,false,false,false,false,false],\"stop_id\":[398.0,398.0,399.0,399.0,399.0,399.0,400.0,400.0,400.0,400.0,400.0,400.0,400.0],\"time_frame\":[\"2013-01-11\",\"2013-01-11\",\"2013-01-11\",\"2013-01-11\",\"2013-01-11\",\"2013-01-11\",\"2013-01-11\",\"2013-01-11\",\"2013-01-11\",\"2013-01-11\",\"2013-01-11\",\"2013-01-11\",\"2013-01-11\"],\"timestamp\":[1357911488000000,1357911508000000,1357911529000000,1357911549000000,1357911570000000,1357911590000000,1357911607000000,1357911628000000,1357911648000000,1357911669000000,1357911710000000,1357911728000000,1357911749000000],\"vehicle_id\":[43072,43072,43072,43072,43072,43072,43072,43072,43072,43072,43072,43072,43072],\"vehicle_journey_id\":[4680,4680,4680,4680,4680,4680,4680,4680,4680,4680,4680,4680,4680]},\"selected\":{\"id\":\"1276\"},\"selection_policy\":{\"id\":\"1275\"}},\"id\":\"1247\",\"type\":\"ColumnDataSource\"},{\"attributes\":{\"fill_alpha\":{\"value\":0.1},\"fill_color\":{\"value\":\"blue\"},\"line_alpha\":{\"value\":0.1},\"line_color\":{\"value\":\"blue\"},\"x\":{\"value\":-695397.719534832},\"y\":{\"value\":7046817.272232639}},\"id\":\"1255\",\"type\":\"Circle\"},{\"attributes\":{},\"id\":\"1210\",\"type\":\"LinearScale\"},{\"attributes\":{\"formatter\":{\"id\":\"1217\"},\"ticker\":{\"id\":\"1215\"}},\"id\":\"1214\",\"type\":\"MercatorAxis\"},{\"attributes\":{\"source\":{\"id\":\"1253\"}},\"id\":\"1257\",\"type\":\"CDSView\"},{\"attributes\":{\"data\":{},\"selected\":{\"id\":\"1278\"},\"selection_policy\":{\"id\":\"1277\"}},\"id\":\"1253\",\"type\":\"ColumnDataSource\"},{\"attributes\":{\"data_source\":{\"id\":\"1253\"},\"glyph\":{\"id\":\"1254\"},\"hover_glyph\":null,\"muted_glyph\":null,\"nonselection_glyph\":{\"id\":\"1255\"},\"selection_glyph\":null,\"view\":{\"id\":\"1257\"}},\"id\":\"1256\",\"type\":\"GlyphRenderer\"},{\"attributes\":{\"source\":{\"id\":\"1247\"}},\"id\":\"1252\",\"type\":\"CDSView\"},{\"attributes\":{\"line_alpha\":0.1,\"x\":{\"field\":\"lng_m\"},\"y\":{\"field\":\"lat_m\"}},\"id\":\"1250\",\"type\":\"Line\"},{\"attributes\":{\"dimension\":\"lon\"},\"id\":\"1217\",\"type\":\"MercatorTickFormatter\"},{\"attributes\":{},\"id\":\"1277\",\"type\":\"UnionRenderers\"},{\"attributes\":{\"x\":{\"field\":\"lng_m\"},\"y\":{\"field\":\"lat_m\"}},\"id\":\"1249\",\"type\":\"Line\"},{\"attributes\":{},\"id\":\"1278\",\"type\":\"Selection\"},{\"attributes\":{},\"id\":\"1233\",\"type\":\"SaveTool\"},{\"attributes\":{},\"id\":\"1234\",\"type\":\"ResetTool\"},{\"attributes\":{\"axis\":{\"id\":\"1214\"},\"ticker\":null},\"id\":\"1221\",\"type\":\"Grid\"},{\"attributes\":{},\"id\":\"1230\",\"type\":\"PanTool\"},{\"attributes\":{\"attribution\":\"&copy; <a href=\\\"https://www.openstreetmap.org/copyright\\\">OpenStreetMap</a> contributors\",\"url\":\"https://c.tile.openstreetmap.org/{Z}/{X}/{Y}.png\"},\"id\":\"1244\",\"type\":\"WMTSTileSource\"},{\"attributes\":{\"overlay\":{\"id\":\"1236\"}},\"id\":\"1232\",\"type\":\"BoxZoomTool\"},{\"attributes\":{\"active_drag\":\"auto\",\"active_inspect\":\"auto\",\"active_multi\":null,\"active_scroll\":\"auto\",\"active_tap\":\"auto\",\"tools\":[{\"id\":\"1230\"},{\"id\":\"1231\"},{\"id\":\"1232\"},{\"id\":\"1233\"},{\"id\":\"1234\"},{\"id\":\"1235\"}]},\"id\":\"1237\",\"type\":\"Toolbar\"},{\"attributes\":{},\"id\":\"1235\",\"type\":\"HelpTool\"},{\"attributes\":{\"axis\":{\"id\":\"1222\"},\"dimension\":1,\"ticker\":null},\"id\":\"1229\",\"type\":\"Grid\"},{\"attributes\":{},\"id\":\"1231\",\"type\":\"WheelZoomTool\"},{\"attributes\":{\"dimension\":\"lat\"},\"id\":\"1225\",\"type\":\"MercatorTickFormatter\"},{\"attributes\":{\"dimension\":\"lat\"},\"id\":\"1223\",\"type\":\"MercatorTicker\"},{\"attributes\":{\"formatter\":{\"id\":\"1225\"},\"ticker\":{\"id\":\"1223\"}},\"id\":\"1222\",\"type\":\"MercatorAxis\"}],\"root_ids\":[\"1205\"]},\"title\":\"Bokeh Application\",\"version\":\"2.2.1\"}};\n",
       "  var render_items = [{\"docid\":\"8a05c844-156e-486a-9df8-67df02dc3304\",\"root_ids\":[\"1205\"],\"roots\":{\"1205\":\"b920e42e-a646-4538-abd9-3fb0d29ba66d\"}}];\n",
       "  root.Bokeh.embed.embed_items_notebook(docs_json, render_items);\n",
       "\n",
       "  }\n",
       "  if (root.Bokeh !== undefined) {\n",
       "    embed_document(root);\n",
       "  } else {\n",
       "    var attempts = 0;\n",
       "    var timer = setInterval(function(root) {\n",
       "      if (root.Bokeh !== undefined) {\n",
       "        clearInterval(timer);\n",
       "        embed_document(root);\n",
       "      } else {\n",
       "        attempts++;\n",
       "        if (attempts > 100) {\n",
       "          clearInterval(timer);\n",
       "          console.log(\"Bokeh: ERROR: Unable to run BokehJS code because BokehJS library is missing\");\n",
       "        }\n",
       "      }\n",
       "    }, 10, root)\n",
       "  }\n",
       "})(window);"
      ],
      "application/vnd.bokehjs_exec.v0+json": ""
     },
     "metadata": {
      "application/vnd.bokehjs_exec.v0+json": {
       "id": "1205"
      }
     },
     "output_type": "display_data"
    },
    {
     "data": {
      "text/html": [
       "\n",
       "\n",
       "\n",
       "\n",
       "\n",
       "\n",
       "  <div class=\"bk-root\" id=\"0ce8bfd2-6848-470a-9419-4118f4e661ed\" data-root-id=\"1377\"></div>\n"
      ]
     },
     "metadata": {},
     "output_type": "display_data"
    },
    {
     "data": {
      "application/javascript": [
       "(function(root) {\n",
       "  function embed_document(root) {\n",
       "    \n",
       "  var docs_json = {\"af8080a2-4174-4b11-9c51-efe1e433d463\":{\"roots\":{\"references\":[{\"attributes\":{\"below\":[{\"id\":\"1386\"}],\"center\":[{\"id\":\"1393\"},{\"id\":\"1401\"}],\"left\":[{\"id\":\"1394\"}],\"renderers\":[{\"id\":\"1417\"},{\"id\":\"1423\"},{\"id\":\"1428\"}],\"title\":{\"id\":\"1452\"},\"toolbar\":{\"id\":\"1409\"},\"x_range\":{\"id\":\"1378\"},\"x_scale\":{\"id\":\"1382\"},\"y_range\":{\"id\":\"1380\"},\"y_scale\":{\"id\":\"1384\"}},\"id\":\"1377\",\"subtype\":\"Figure\",\"type\":\"Plot\"},{\"attributes\":{},\"id\":\"1461\",\"type\":\"Selection\"},{\"attributes\":{\"source\":{\"id\":\"1419\"}},\"id\":\"1424\",\"type\":\"CDSView\"},{\"attributes\":{\"data_source\":{\"id\":\"1425\"},\"glyph\":{\"id\":\"1426\"},\"hover_glyph\":null,\"muted_glyph\":null,\"nonselection_glyph\":{\"id\":\"1427\"},\"selection_glyph\":null,\"view\":{\"id\":\"1429\"}},\"id\":\"1428\",\"type\":\"GlyphRenderer\"},{\"attributes\":{\"attribution\":\"&copy; <a href=\\\"https://www.openstreetmap.org/copyright\\\">OpenStreetMap</a> contributors\",\"url\":\"https://c.tile.openstreetmap.org/{Z}/{X}/{Y}.png\"},\"id\":\"1416\",\"type\":\"WMTSTileSource\"},{\"attributes\":{\"bottom_units\":\"screen\",\"fill_alpha\":0.5,\"fill_color\":\"lightgrey\",\"left_units\":\"screen\",\"level\":\"overlay\",\"line_alpha\":1.0,\"line_color\":\"black\",\"line_dash\":[4,4],\"line_width\":2,\"right_units\":\"screen\",\"top_units\":\"screen\"},\"id\":\"1408\",\"type\":\"BoxAnnotation\"},{\"attributes\":{\"source\":{\"id\":\"1425\"}},\"id\":\"1429\",\"type\":\"CDSView\"},{\"attributes\":{\"data\":{},\"selected\":{\"id\":\"1461\"},\"selection_policy\":{\"id\":\"1460\"}},\"id\":\"1425\",\"type\":\"ColumnDataSource\"},{\"attributes\":{\"fill_alpha\":{\"value\":0.1},\"fill_color\":{\"value\":\"blue\"},\"line_alpha\":{\"value\":0.1},\"line_color\":{\"value\":\"blue\"},\"x\":{\"value\":-698815.4505411672},\"y\":{\"value\":7060454.555740599}},\"id\":\"1427\",\"type\":\"Circle\"},{\"attributes\":{\"data_source\":{\"id\":\"1419\"},\"glyph\":{\"id\":\"1421\"},\"hover_glyph\":null,\"muted_glyph\":null,\"nonselection_glyph\":{\"id\":\"1422\"},\"selection_glyph\":null,\"view\":{\"id\":\"1424\"}},\"id\":\"1423\",\"type\":\"GlyphRenderer\"},{\"attributes\":{},\"id\":\"1458\",\"type\":\"UnionRenderers\"},{\"attributes\":{\"tile_source\":{\"id\":\"1416\"}},\"id\":\"1417\",\"type\":\"TileRenderer\"},{\"attributes\":{\"line_alpha\":0.1,\"x\":{\"field\":\"lng_m\"},\"y\":{\"field\":\"lat_m\"}},\"id\":\"1422\",\"type\":\"Line\"},{\"attributes\":{\"dimension\":\"lon\"},\"id\":\"1387\",\"type\":\"MercatorTicker\"},{\"attributes\":{\"fill_color\":{\"value\":\"blue\"},\"line_color\":{\"value\":\"blue\"},\"x\":{\"value\":-698815.4505411672},\"y\":{\"value\":7060454.555740599}},\"id\":\"1426\",\"type\":\"Circle\"},{\"attributes\":{\"data\":{\"block_id\":[4001,4001,4001,4001,4001,4001,4001,4001,4001,4001,4001,4001,4001,4001,4001,4001,4001,4001,4001,4001,4001,4001],\"congestion\":[false,false,false,false,false,false,false,false,false,false,false,false,false,false,false,false,false,false,false,false,false,false],\"datetime\":{\"__ndarray__\":\"AIAF+FHCc0IAgIL4UcJzQgCARgJSwnNCAAD8A1LCc0IAgIcMUsJzQgCA7BBSwnNCAIBdE1LCc0IAAJAVUsJzQgAA7xpSwnNCAICSH1LCc0IAgIYhUsJzQgCAdCRSwnNCAACVKVLCc0IAAPotUsJzQgAAazBSwnNCAIAaM1LCc0IAAKA8UsJzQgAAlD5SwnNCAICiRlLCc0IAAKVQUsJzQgAAClVSwnNCAIAqWlLCc0I=\",\"dtype\":\"float64\",\"order\":\"little\",\"shape\":[22]},\"day\":[10,10,10,10,10,10,10,10,10,10,10,10,10,10,10,10,10,10,10,10,10,10],\"delay\":[-196,-196,-196,-196,-196,-196,-196,-196,-196,-196,-196,-196,-196,-196,0,0,0,0,0,0,0,0],\"hour\":[15,15,15,15,15,15,15,15,15,15,15,15,15,15,15,15,15,15,15,15,15,15],\"index\":[980727,980793,981894,982081,983181,983635,983925,984256,984864,985430,985693,986037,986657,987074,987365,987793,988858,989104,990057,991292,991831,992328],\"journey_id\":[\"00041001\",\"00041001\",\"00041001\",\"00041001\",\"00041001\",\"00041001\",\"00041001\",\"00041001\",\"00041001\",\"00041001\",\"00041001\",\"00041001\",\"00041001\",\"00041001\",\"00041001\",\"00041001\",\"00041001\",\"00041001\",\"00041001\",\"00041001\",\"00041001\",\"00041001\"],\"lat\":{\"__ndarray__\":\"yNPyA1e1SkDI0/IDV7VKQMjT8gNXtUpAyNPyA1e1SkDI0/IDV7VKQMjT8gNXtUpAyNPyA1e1SkDI0/IDV7VKQMjT8gNXtUpAyNPyA1e1SkDI0/IDV7VKQIAnLVxWtUpAqob9nli1SkDuluSAXbVKQO6W5IBdtUpA96i/XmG1SkAbogp/hrVKQBuiCn+GtUpApbxWQne1SkBWSWQfZLVKQFZJZB9ktUpAVklkH2S1SkA=\",\"dtype\":\"float64\",\"order\":\"little\",\"shape\":[22]},\"lat_m\":{\"__ndarray__\":\"BEGRo/nuWkEEQZGj+e5aQQRBkaP57lpBBEGRo/nuWkEEQZGj+e5aQQRBkaP57lpBBEGRo/nuWkEEQZGj+e5aQQRBkaP57lpBBEGRo/nuWkEEQZGj+e5aQRf/fLT47lpBds5P7fvuWkHV9HTiAu9aQdX0dOIC71pBxlcIZQjvWkH2TCZNPe9aQfZMJk0971pBUEVmlifvWkHqcixRDO9aQepyLFEM71pB6nIsUQzvWkE=\",\"dtype\":\"float64\",\"order\":\"little\",\"shape\":[22]},\"line_id\":[4.0,4.0,4.0,4.0,4.0,4.0,4.0,4.0,4.0,4.0,4.0,4.0,4.0,4.0,4.0,4.0,4.0,4.0,4.0,4.0,4.0,4.0],\"lng\":{\"__ndarray__\":\"GO3xQjocGcAY7fFCOhwZwBjt8UI6HBnAGO3xQjocGcAY7fFCOhwZwBjt8UI6HBnAGO3xQjocGcAY7fFCOhwZwBjt8UI6HBnAGO3xQjocGcAY7fFCOhwZwBjt8UI6HBnAeHqlLEMcGcD/zYsTXx0ZwP/NixNfHRnAX1s//WcdGcDP91PjpRsZwM/3U+OlGxnAFmpN844TGcAVONkG7hAZwBU42QbuEBnAFTjZBu4QGcA=\",\"dtype\":\"float64\",\"order\":\"little\",\"shape\":[22]},\"lng_m\":{\"__ndarray__\":\"9VSt5n5TJcH1VK3mflMlwfVUreZ+UyXB9VSt5n5TJcH1VK3mflMlwfVUreZ+UyXB9VSt5n5TJcH1VK3mflMlwfVUreZ+UyXB9VSt5n5TJcH1VK3mflMlwfVUreZ+UyXBndqGeIZTJcFMOL2Wd1QlwUw4vZZ3VCXB9L2WKH9UJcEp4C3jAFMlwSngLeMAUyXBylMaCiJMJcGCaHOG5kklwYJoc4bmSSXBgmhzhuZJJcE=\",\"dtype\":\"float64\",\"order\":\"little\",\"shape\":[22]},\"operator\":[\"HN\",\"HN\",\"HN\",\"HN\",\"HN\",\"HN\",\"HN\",\"HN\",\"HN\",\"HN\",\"HN\",\"HN\",\"HN\",\"HN\",\"HN\",\"HN\",\"HN\",\"HN\",\"HN\",\"HN\",\"HN\",\"HN\"],\"stop\":[false,false,false,false,false,false,false,false,false,false,false,false,false,false,true,true,true,true,true,true,true,true],\"stop_id\":[322.0,322.0,322.0,6182.0,6182.0,6182.0,6182.0,6182.0,6182.0,6182.0,6182.0,6182.0,6182.0,6182.0,332.0,332.0,332.0,332.0,332.0,332.0,332.0,332.0],\"time_frame\":[\"2013-01-10\",\"2013-01-10\",\"2013-01-10\",\"2013-01-10\",\"2013-01-10\",\"2013-01-10\",\"2013-01-10\",\"2013-01-10\",\"2013-01-10\",\"2013-01-10\",\"2013-01-10\",\"2013-01-10\",\"2013-01-10\",\"2013-01-10\",\"2013-01-10\",\"2013-01-10\",\"2013-01-10\",\"2013-01-10\",\"2013-01-10\",\"2013-01-10\",\"2013-01-10\",\"2013-01-10\"],\"timestamp\":[1357832487000000,1357832489000000,1357832529000000,1357832536000000,1357832571000000,1357832589000000,1357832599000000,1357832608000000,1357832630000000,1357832649000000,1357832657000000,1357832669000000,1357832690000000,1357832708000000,1357832718000000,1357832729000000,1357832768000000,1357832776000000,1357832809000000,1357832850000000,1357832868000000,1357832889000000],\"vehicle_id\":[43041,43041,43041,43041,43041,43041,43041,43041,43041,43041,43041,43041,43041,43041,43041,43041,43041,43041,43041,43041,43041,43041],\"vehicle_journey_id\":[4548,4548,4548,4548,4548,4548,4548,4548,4548,4548,4548,4548,4548,4548,4548,4548,4548,4548,4548,4548,4548,4548]},\"selected\":{\"id\":\"1459\"},\"selection_policy\":{\"id\":\"1458\"}},\"id\":\"1419\",\"type\":\"ColumnDataSource\"},{\"attributes\":{\"text\":\"\"},\"id\":\"1452\",\"type\":\"Title\"},{\"attributes\":{\"x\":{\"field\":\"lng_m\"},\"y\":{\"field\":\"lat_m\"}},\"id\":\"1421\",\"type\":\"Line\"},{\"attributes\":{},\"id\":\"1384\",\"type\":\"LinearScale\"},{\"attributes\":{},\"id\":\"1406\",\"type\":\"ResetTool\"},{\"attributes\":{\"overlay\":{\"id\":\"1408\"}},\"id\":\"1404\",\"type\":\"BoxZoomTool\"},{\"attributes\":{},\"id\":\"1405\",\"type\":\"SaveTool\"},{\"attributes\":{},\"id\":\"1382\",\"type\":\"LinearScale\"},{\"attributes\":{},\"id\":\"1407\",\"type\":\"HelpTool\"},{\"attributes\":{\"formatter\":{\"id\":\"1389\"},\"ticker\":{\"id\":\"1387\"}},\"id\":\"1386\",\"type\":\"MercatorAxis\"},{\"attributes\":{},\"id\":\"1402\",\"type\":\"PanTool\"},{\"attributes\":{},\"id\":\"1403\",\"type\":\"WheelZoomTool\"},{\"attributes\":{\"active_drag\":\"auto\",\"active_inspect\":\"auto\",\"active_multi\":null,\"active_scroll\":\"auto\",\"active_tap\":\"auto\",\"tools\":[{\"id\":\"1402\"},{\"id\":\"1403\"},{\"id\":\"1404\"},{\"id\":\"1405\"},{\"id\":\"1406\"},{\"id\":\"1407\"}]},\"id\":\"1409\",\"type\":\"Toolbar\"},{\"attributes\":{\"dimension\":\"lat\"},\"id\":\"1395\",\"type\":\"MercatorTicker\"},{\"attributes\":{\"axis\":{\"id\":\"1394\"},\"dimension\":1,\"ticker\":null},\"id\":\"1401\",\"type\":\"Grid\"},{\"attributes\":{\"formatter\":{\"id\":\"1397\"},\"ticker\":{\"id\":\"1395\"}},\"id\":\"1394\",\"type\":\"MercatorAxis\"},{\"attributes\":{\"dimension\":\"lat\"},\"id\":\"1397\",\"type\":\"MercatorTickFormatter\"},{\"attributes\":{},\"id\":\"1378\",\"type\":\"DataRange1d\"},{\"attributes\":{\"axis\":{\"id\":\"1386\"},\"ticker\":null},\"id\":\"1393\",\"type\":\"Grid\"},{\"attributes\":{},\"id\":\"1459\",\"type\":\"Selection\"},{\"attributes\":{\"dimension\":\"lon\"},\"id\":\"1389\",\"type\":\"MercatorTickFormatter\"},{\"attributes\":{},\"id\":\"1460\",\"type\":\"UnionRenderers\"},{\"attributes\":{},\"id\":\"1380\",\"type\":\"DataRange1d\"}],\"root_ids\":[\"1377\"]},\"title\":\"Bokeh Application\",\"version\":\"2.2.1\"}};\n",
       "  var render_items = [{\"docid\":\"af8080a2-4174-4b11-9c51-efe1e433d463\",\"root_ids\":[\"1377\"],\"roots\":{\"1377\":\"0ce8bfd2-6848-470a-9419-4118f4e661ed\"}}];\n",
       "  root.Bokeh.embed.embed_items_notebook(docs_json, render_items);\n",
       "\n",
       "  }\n",
       "  if (root.Bokeh !== undefined) {\n",
       "    embed_document(root);\n",
       "  } else {\n",
       "    var attempts = 0;\n",
       "    var timer = setInterval(function(root) {\n",
       "      if (root.Bokeh !== undefined) {\n",
       "        clearInterval(timer);\n",
       "        embed_document(root);\n",
       "      } else {\n",
       "        attempts++;\n",
       "        if (attempts > 100) {\n",
       "          clearInterval(timer);\n",
       "          console.log(\"Bokeh: ERROR: Unable to run BokehJS code because BokehJS library is missing\");\n",
       "        }\n",
       "      }\n",
       "    }, 10, root)\n",
       "  }\n",
       "})(window);"
      ],
      "application/vnd.bokehjs_exec.v0+json": ""
     },
     "metadata": {
      "application/vnd.bokehjs_exec.v0+json": {
       "id": "1377"
      }
     },
     "output_type": "display_data"
    }
   ],
   "source": [
    "plot_map(dfs_menos_q_50[0])\n",
    "plot_map(dfs_menos_q_50[1])\n",
    "plot_map(dfs_menos_q_50[10])"
   ]
  },
  {
   "cell_type": "markdown",
   "metadata": {},
   "source": [
    "#### Algumas trajetórias válidas"
   ]
  },
  {
   "cell_type": "code",
   "execution_count": 88,
   "metadata": {
    "scrolled": false
   },
   "outputs": [
    {
     "name": "stderr",
     "output_type": "stream",
     "text": [
      "/home/saci/hd/projetos/trajetorias/its_research/venvTraj/lib/python3.8/site-packages/pandas/core/frame.py:3065: SettingWithCopyWarning: \n",
      "A value is trying to be set on a copy of a slice from a DataFrame.\n",
      "Try using .loc[row_indexer,col_indexer] = value instead\n",
      "\n",
      "See the caveats in the documentation: https://pandas.pydata.org/pandas-docs/stable/user_guide/indexing.html#returning-a-view-versus-a-copy\n",
      "  self[k1] = value[k2]\n"
     ]
    },
    {
     "data": {
      "text/html": [
       "\n",
       "\n",
       "\n",
       "\n",
       "\n",
       "\n",
       "  <div class=\"bk-root\" id=\"395cf493-88be-4c37-a2fe-7a467078e2e6\" data-root-id=\"1560\"></div>\n"
      ]
     },
     "metadata": {},
     "output_type": "display_data"
    },
    {
     "data": {
      "application/javascript": [
       "(function(root) {\n",
       "  function embed_document(root) {\n",
       "    \n",
       "  var docs_json = {\"2b38b84a-4335-4b5c-b833-48ce3091c086\":{\"roots\":{\"references\":[{\"attributes\":{\"below\":[{\"id\":\"1569\"}],\"center\":[{\"id\":\"1576\"},{\"id\":\"1584\"}],\"left\":[{\"id\":\"1577\"}],\"renderers\":[{\"id\":\"1600\"},{\"id\":\"1606\"},{\"id\":\"1612\"},{\"id\":\"1617\"}],\"title\":{\"id\":\"1652\"},\"toolbar\":{\"id\":\"1592\"},\"x_range\":{\"id\":\"1561\"},\"x_scale\":{\"id\":\"1565\"},\"y_range\":{\"id\":\"1563\"},\"y_scale\":{\"id\":\"1567\"}},\"id\":\"1560\",\"subtype\":\"Figure\",\"type\":\"Plot\"},{\"attributes\":{},\"id\":\"1567\",\"type\":\"LinearScale\"},{\"attributes\":{},\"id\":\"1661\",\"type\":\"Selection\"},{\"attributes\":{\"axis\":{\"id\":\"1569\"},\"ticker\":null},\"id\":\"1576\",\"type\":\"Grid\"},{\"attributes\":{},\"id\":\"1662\",\"type\":\"UnionRenderers\"},{\"attributes\":{\"dimension\":\"lon\"},\"id\":\"1572\",\"type\":\"MercatorTickFormatter\"},{\"attributes\":{\"text\":\"\"},\"id\":\"1652\",\"type\":\"Title\"},{\"attributes\":{},\"id\":\"1663\",\"type\":\"Selection\"},{\"attributes\":{\"bottom_units\":\"screen\",\"fill_alpha\":0.5,\"fill_color\":\"lightgrey\",\"left_units\":\"screen\",\"level\":\"overlay\",\"line_alpha\":1.0,\"line_color\":\"black\",\"line_dash\":[4,4],\"line_width\":2,\"right_units\":\"screen\",\"top_units\":\"screen\"},\"id\":\"1591\",\"type\":\"BoxAnnotation\"},{\"attributes\":{\"source\":{\"id\":\"1608\"}},\"id\":\"1613\",\"type\":\"CDSView\"},{\"attributes\":{\"data\":{},\"selected\":{\"id\":\"1663\"},\"selection_policy\":{\"id\":\"1662\"}},\"id\":\"1614\",\"type\":\"ColumnDataSource\"},{\"attributes\":{\"data\":{\"ID\":{\"__ndarray__\":\"CgoKCgoKCgoKCgoKCgoKCgoKCgoKCgoKCgoKCgoKCgoKCgoKCgoKCgoKCgoKCgoKCgoKCgoKCgoKCgoKCgoKCgoKCgoKCgoKCgoKCgoKCgoKCgoKCgoKCgoKCgoKCgoKCgoKCgoKCgoKCgoKCgoKCgoKCgoKCgoKCgoKCgoKCgoKCgoKCgoKCgoK\",\"dtype\":\"int8\",\"order\":\"little\",\"shape\":[138]},\"MF_acc\":{\"__ndarray__\":\"AAAAAAAAAABIJ/WVLLjbP/qa8Zjesvc/s0T7Aumr/z/5hNF8+k3zP+YiWU4a6t0/og7qX8b54z/kNTVmkz7VP32jqKVM+dA/he2OEHWf0D95YKJhIg/NP7SsvpHuH84/ofHyMX4L0j/djIJYV6XVP7r4HXVN99Y/BhdwCKJ21z/U2yWbHEzDPwTWM2G0YK4/KguDEwzKxT8fl88L277IP9ACZTDaftA/G2MR5cWx2z8IDbC1kqPeP8hebH/GGdg/NCnsw1I10z/lvL3OiyLNP6A0wiTFXsg/XN2dF3fR0z8FJR73KhfQPxzv7zl+Edo/ATidsqqz1j/U2e92BojXP0P2tWcQHNA/oQVGXnK5xz82ymL/917DP8Gb01g1qqk/IbY4xoARoD/uaRz2JhiEP9+TbQwCS6A/92G2hrp8wz8u4W4XkxLTP9qKZMUb8sw/c9tqw6Ax0j8wsAMcJ5DQPxnzFdlYsMs/YAPA2K53tz9Kdi37jM+3P3Zp3ag42qo/rFJYJQhsuD8ukIS/SeO6PwVDIDPryr0/kQGlsszZvT+hXJWTe/u9P9iRLAC5Mc0/UZmsmmJJ0D+b7QnCS/nPPya41Q9MEdA/cbvnVbHOyT9qMNfXr47CP7y3cU4/GJk/m6DW//rusT9qn07yhh/EP8Vjz/lqDsU/3GGBLf6ozD/N7FaTxy7IP9Ia/h45bME/PtHeSo/avz94DF9hThS6P1h5NiHfzrM/KQFg4xOOsz8W+jCQsEiuP9JWpKshpaQ/KzKIXUTzsz+1i9frByyvPzZSBrOJKZ8/mDHrx+KWrz9P2d2maIKsP1KrQZWTlqI/kAGo7ui4UT+e9ETUegpKPwAAAAAAAAAAAAAAAAAAAAAAAAAAAAAAAAAAAAAAAAAAAAAAAAAAAAAAAAAAAAAAAAAAAAAAAAAAAAAAAAAAAAAAAAAAAAAAAAAAAAAAAAAAAAAAAAAAAAAAAAAAAAAAAAAAAAAAAAAAAAAAAAAAAAAAAAAAAAAAAAAAAAAAAAAAAAAAAAAAAAAAAAAAAAAAAAAAAAAAAAAAAAAAAAAAAAAAAAAAAAAAAAAAAAAAAAAAAAAAAAAAAAAAAAAAAAAAAAAAAAAAAAAAAAAAAAAAAAAAAAAAAAAAAAAAAAAAAAAAAAAAAAAAAAAAAAAAAAAAAAAAAAAAAAAAAAAAAAAAAAAAAAAAAAAAAAAAAAAAAAAAAAAAAAAAAAAAAAAAAAAAAAAAAAAAAAAAAAAAAAAAAAAAAAAAAAAAAAAAAAAAAAAAAAAAAAAAAAAAAAAAAAAAAAAAAAAAAAAAAAAAAAAAAAAAAAAAAAAAAAAAAAAAAAAAAAAAAAAAAAAAAAAAAAAAAAAAAAAAAAAAAAAAAAAAAAAAAAAAAAAAAAAAAAAAAAAAAAAAAAAAAAAAAAAAAAAAAAAAAAAAAAAAwiHQ9/yxeD8AAnFwI+pZP6mBymgCpFw/\",\"dtype\":\"float64\",\"order\":\"little\",\"shape\":[138]},\"MF_dist_from_old_point\":{\"__ndarray__\":\"AAAAAAAAAADMsd4cKJaEQPwZvLqQaYRAeQHjc8kKhEDjefZNEfKDQESjNY3kXmdAow5BvTgrbEAaktkn45hgQIvOmhWN71dAIFPf6Sb5WUAYXBgdiQdZQO323GHyiFdAP4ILZMwVX0AN/iU9LOlgQN+hEx1eMWBAJN2tEiWyXUDYG6KjDp9QQDN/8OuMuzdAuWA+b9kFUUDbPCoRa2RXQNkBXt2FalxAtwD1On+GYUAwoRrxVJplQAyqjBMj1GJAfenAyW2LYECTO4Q5/cJWQFRGKc6g/VRAKMzjuRoVWUDG7bID6bdbQFDVqeARf2BAvWrYhsCNY0AuYusMRWJiQDp1qEJYwFtAZrSmWeGIUkAmTyK361BLQK9RZa35DDRAv7F31SauK0AR9ntPkW4JQLzDaIc2ESxAYRcIqe7IUED+VKgpgiNYQJkZheuI7lhA4/ZWMYttXECDWkJfU4hcQNbjXzmYhVFA6GKxGZY2REBqhDskJppCQFa1cs31IDdANZMqBA0JRUCkkJ+dkQFFQEE/jNWSAUVAOemQ6ydSR0BJJp7wG9NJQEs0HBJ3eVJAj6+tEapyWUAojaHAOYpbQLvvvdgGG1lA8xh+voc6VkBGWSyNlnxHQMHyEIdinSVAe6jF8v9JOUAW2ZraQnFPQG8hKyTrIlJA7d/L2PAiUkD3XmjmStRUQLaKhQRRAFJAaQBhrU4oREDkJZ6Z2YBAQIRrGzCvD0FAADFYIeDXQEBhQ6bwyag3QMgMV4A7yDFAf19ghuI/OUDVJ6PSbNk6QDZSBrOJKT9AeFT15eJFNkDGUV3C4UU2QBAQDx6yAjBA+qEMzgZu1j+yZNXLBm7WPwAAAAAAAAAAAAAAAAAAAAAAAAAAAAAAAAAAAAAAAAAAAAAAAAAAAAAAAAAAAAAAAAAAAAAAAAAAAAAAAAAAAAAAAAAAAAAAAAAAAAAAAAAAAAAAAAAAAAAAAAAAAAAAAAAAAAAAAAAAAAAAAAAAAAAAAAAAAAAAAAAAAAAAAAAAAAAAAAAAAAAAAAAAAAAAAAAAAAAAAAAAAAAAAAAAAAAAAAAAAAAAAAAAAAAAAAAAAAAAAAAAAAAAAAAAAAAAAAAAAAAAAAAAAAAAAAAAAAAAAAAAAAAAAAAAAAAAAAAAAAAAAAAAAAAAAAAAAAAAAAAAAAAAAAAAAAAAAAAAAAAAAAAAAAAAAAAAAAAAAAAAAAAAAAAAAAAAAAAAAAAAAAAAAAAAAAAAAAAAAAAAAAAAAAAAAAAAAAAAAAAAAAAAAAAAAAAAAAAAAAAAAAAAAAAAAAAAAAAAAAAAAAAAAAAAAAAAAAAAAAAAAAAAAAAAAAAAAAAAAAAAAAAAAAAAAAAAAAAAAAAAAAAAAAAAAAAAAAAAAAAAAAAAAAAAAAAAAAAAAAAAAAAAAAAAAAAAAAAAAAAAAAAAFMVyY05FBUDEwapWTkUFQIxlE0pORQVA\",\"dtype\":\"float64\",\"order\":\"little\",\"shape\":[138]},\"MF_lat\":{\"__ndarray__\":\"rqToNwKzSkD1ITHmU7JKQMPpnPqbsUpAUMJ67eOwSkATJOTNK7BKQFUeZtQhsEpAiiJ3xxiwSkDKLW+zHbBKQNDKyXogsEpAVgl9+hmwSkD9/LkND7BKQK3l6zL8r0pAFmGWLN2vSkDKRMJSuK9KQPoBG8aTr0pAA02yH3OvSkDjccnMYK9KQA6hwmxdr0pAgzVGRmKvSkCVYfnzba9KQAjqDOd1r0pAbs9aG3SvSkBShVypZ69KQMaD76JUr0pAzsoTCDuvSkAVCcOAJa9KQLU2TxoPr0pA7dk1xvOuSkAdoAct2q5KQBWxAAHGrkpAqL/F1KeuSkCNmJsUi65KQC1Wlo1zrkpArV4Hc2CuSkBi5JNfUK5KQKtMFYxKrkpAuk72hUauSkDGRGeZRa5KQPNzYDlCrkpAtXzVJT6uSkDiOz2lOa5KQNhxGTc1rkpAniNZ0TCuSkCN7LE+L65KQIYvergurkpAFbxPny6uSkCjSCWGLq5KQP1Lb38urkpAIrLAsi2uSkAL0k5yLK5KQPXx3DErrkpAtfpRHieuSkAenFvXHq5KQMMKHvAKrkpAIy2yne+tSkCi+F/40q1KQErbJia5rUpASCVZh6OtSkDmO4FVmq1KQAXlmgKZrUpAK+fK+5OtSkDT5nf1ha1KQFqMQ6J1rUpA4DEPT2WtSkBKyp8UUq1KQCoDJJpArUpAa/2loDatSkBjK4VALq1KQDiDgYwlrUpA0vDerBytSkAmL/QtGK1KQJiuji0VrUpAPjuzExStSkBOUn3nF61KQLZgIc4erUpANm8UtCStSkC2fQeaKq1KQG2l9EwvrUpA3RgfZi+tSkBNjEl/L61KQE2MSX8vrUpATYxJfy+tSkBNjEl/L61KQE2MSX8vrUpATYxJfy+tSkBNjEl/L61KQE2MSX8vrUpATYxJfy+tSkBNjEl/L61KQE2MSX8vrUpATYxJfy+tSkBNjEl/L61KQE2MSX8vrUpATYxJfy+tSkBNjEl/L61KQE2MSX8vrUpATYxJfy+tSkBNjEl/L61KQE2MSX8vrUpATYxJfy+tSkBNjEl/L61KQE2MSX8vrUpATYxJfy+tSkBNjEl/L61KQE2MSX8vrUpATYxJfy+tSkBNjEl/L61KQE2MSX8vrUpATYxJfy+tSkBNjEl/L61KQE2MSX8vrUpATYxJfy+tSkBNjEl/L61KQE2MSX8vrUpATYxJfy+tSkBNjEl/L61KQE2MSX8vrUpATYxJfy+tSkBNjEl/L61KQE2MSX8vrUpATYxJfy+tSkBNjEl/L61KQE2MSX8vrUpATYxJfy+tSkBNjEl/L61KQE2MSX8vrUpATYxJfy+tSkBNjEl/L61KQE2MSX8vrUpATYxJfy+tSkBNjEl/L61KQE2MSX8vrUpATYxJfy+tSkBNjEl/L61KQE2MSX8vrUpABaw5QDCtSkC+yykBMa1KQHjrGcIxrUpA\",\"dtype\":\"float64\",\"order\":\"little\",\"shape\":[138]},\"MF_lng\":{\"__ndarray__\":\"5boBsEs+GcC2rIkFvkIZwEhCjlKuRRnAtlkoPuNHGcDrXTkx2kkZwAvJ2vAFRxnAMpjhmpZDGcBqgQTFj0EZwB/I93sYQBnAFVQbnIg+GcDEGppXGj0ZwA68IY0KPBnAWHqPjgY7GcBgalxJPDoZwJkz/W2qORnAGN8owwI5GcAY1xqlpjgZwFWut81UOBnAaYd1mVA3GcB6FXTWAjYZwNsURf5PNBnA415gVigyGcCJthldlC8ZwIogKX18LRnAZTj5iPMrGcDZ1T/jHSsZwIaj9QGSKhnA331EAvwpGcD+s4sO7SgZwJVbSeEwJxnAxps1eF8lGcBut11oriMZwHsfkQB/IhnAS5tPwvEhGcD8RENr6iEZwGzpwCj3IRnA/Z7swf8hGcB4oPO/ASIZwLeIg9/hIRnAjp98MN8gGcCo85fMZx8ZwASqyZ3jHRnAaykPwSccGcDOK9fbZhoZwITXePpSGRnA+UX4zbMYGcCRX4lRIRgZwJvR6j/GFxnAtU8R8SAXGcAKcB9efBYZwF2QLcvXFRnAbhRZaygVGcACN+bQfRQZwG3fSEUIFBnA2RMTimMTGcA6l5gdmBIZwN62AH7XERnAAjgHGRIRGcCoKKjyhxAZwJ53Y0FhEBnANR98zRcQGcB1yCgqdg8ZwMKxePu9DhnADpvIzAUOGcDtPzIdOg0ZwCJPkq6ZDBnALz5xpUMMGcBKIUa+AQwZwHKeZ6K+CxnA7y7NY4MLGcDSr3Q+PAsZwDJPCeMCCxnAiF02laAKGcBqhDQZRAoZwGPc1EDzCRnAd/yD7cwJGcCKHDOapgkZwI2ZsKKrCRnA+GMQDqwJGcBjLnB5rAkZwGMucHmsCRnAYy5weawJGcBjLnB5rAkZwGMucHmsCRnAYy5weawJGcBjLnB5rAkZwGMucHmsCRnAYy5weawJGcBjLnB5rAkZwGMucHmsCRnAYy5weawJGcBjLnB5rAkZwGMucHmsCRnAYy5weawJGcBjLnB5rAkZwGMucHmsCRnAYy5weawJGcBjLnB5rAkZwGMucHmsCRnAYy5weawJGcBjLnB5rAkZwGMucHmsCRnAYy5weawJGcBjLnB5rAkZwGMucHmsCRnAYy5weawJGcBjLnB5rAkZwGMucHmsCRnAYy5weawJGcBjLnB5rAkZwGMucHmsCRnAYy5weawJGcBjLnB5rAkZwGMucHmsCRnAYy5weawJGcBjLnB5rAkZwGMucHmsCRnAYy5weawJGcBjLnB5rAkZwGMucHmsCRnAYy5weawJGcBjLnB5rAkZwGMucHmsCRnAYy5weawJGcBjLnB5rAkZwGMucHmsCRnAYy5weawJGcBjLnB5rAkZwGMucHmsCRnAYy5weawJGcBjLnB5rAkZwGMucHmsCRnAYy5weawJGcBjLnB5rAkZwGMucHmsCRnAtcQ2Tq8JGcAGW/0isgkZwFjxw/e0CRnA\",\"dtype\":\"float64\",\"order\":\"little\",\"shape\":[138]},\"MF_vel\":{\"__ndarray__\":\"AAAAAAAAAADwY2ErO+QwQGgbvSjEGj9ApFatEbPQQUAmL20TGMA7QNC193BQsiJAYfHlkZu4J0Bdg8I/OI4aQCRCuAQLKBRA5qiyVFLHFEBPjxKQ7hETQPErFxv10xJAJN2OoRWvF0AVMKMurQ4bQF2XE/urRRtA5xl+SXZlGkCGsKGL5VMJQMJlwLxw/PI/9c1jGI88C0Dltx6YNgMRQLKThF9+phVAfo+zof4nH0C9h+AbHzEiQHp2Rx84IB5AFPYlofw1GUAPljZhlzUSQBLlPsBi/A9AB5mR+qVLFkCXkFdkaB4VQADtLQGuUx1AglluCtDLHUBK0KsUCGodQDjTHojVJBVACofX9c6nDUAgUEV/xgAHQFlBhFdhCvA/C28qBPkW5T8s99/UK5vGPxXST7ByYuU/lGDP0LSTCUBUvVx65XQVQB/7iTni/hJAT5JF9Ai+FkA/18RUM70VQHyxOPRjJg9AbgR8fBXN/j/d0/g5cMP9PzVN0S41n/E/QfaBWOUGAEAd2rIXDs4AQMsnW6Z7sAFA+iCn7x+oAkDKBNoYCa0DQAoSGRD4axBApr9XQbtbFEDug1a3mfsUQC8myxOfFRRAAhNgYKTvEEB3FtLSheAEQJOgeovpd+A/uN7OD8pL9T9FR+KuaCcJQPIy4GfsogtADMeY+Q4fEEDOFmLxZb0PQI5GjRySCwlAs1UdmvDqAUAH7oot2Fb9P0N/l9uE//k/hgFuGnqq+T9OnB5abu3yP/SxRzG8GOs/cTg56axx9j+uc8Uy5XT0PzZSBrOJKe8/c6WzppbB8j/Sp0pogdHxP9sw5rOhZeg/wgF9DAbwkz+IQE2b4BaRPwAAAAAAAAAAAAAAAAAAAAAAAAAAAAAAAAAAAAAAAAAAAAAAAAAAAAAAAAAAAAAAAAAAAAAAAAAAAAAAAAAAAAAAAAAAAAAAAAAAAAAAAAAAAAAAAAAAAAAAAAAAAAAAAAAAAAAAAAAAAAAAAAAAAAAAAAAAAAAAAAAAAAAAAAAAAAAAAAAAAAAAAAAAAAAAAAAAAAAAAAAAAAAAAAAAAAAAAAAAAAAAAAAAAAAAAAAAAAAAAAAAAAAAAAAAAAAAAAAAAAAAAAAAAAAAAAAAAAAAAAAAAAAAAAAAAAAAAAAAAAAAAAAAAAAAAAAAAAAAAAAAAAAAAAAAAAAAAAAAAAAAAAAAAAAAAAAAAAAAAAAAAAAAAAAAAAAAAAAAAAAAAAAAAAAAAAAAAAAAAAAAAAAAAAAAAAAAAAAAAAAAAAAAAAAAAAAAAAAAAAAAAAAAAAAAAAAAAAAAAAAAAAAAAAAAAAAAAAAAAAAAAAAAAAAAAAAAAAAAAAAAAAAAAAAAAAAAAAAAAAAAAAAAAAAAAAAAAAAAAAAAAAAAAAAAAAAAAAAAAAAAAAAAAAAAAAAAAAAAAAAAAAAAKJagAs40wD9IZQi0/pmwPwNn23fxc7E/\",\"dtype\":\"float64\",\"order\":\"little\",\"shape\":[138]},\"acc\":{\"__ndarray__\":\"AAAAAAAAAAAAAAAAAAAAAPepMAKZxvI/gyeZcNl+5z/cX54kUsPCPzL6ZaHbDNI/V5ddBX+B4T9IyAzcHxHKP6Q1B2k6W8g/ygiYgvvL3j8HEYaY6BfOP3LisA5Xq9Y/VSd4uX5o0z8IWbm+WnTWP2Ds18BICNw/vnKAx2Zu0z8CmzlH/T/SP6pVedKLctM/lZV2VDO04D+Sa0diS/fRP40VjQVqQeE/mubD3GvP2j8yQ99HBnbbPx6ohNjAmtM/kLZKW2jq1j8i6fhuJ+qGP2y8fr6aRMM/K5o7AAHn5D/myMT8+QHgP1nNvhWboOE/aa7h8cOH2T/cLtD3Tqm0P3xHMoTD/r8/t7EuhJeXkT/W5f3gO/iQPwAAAAAAAAAAm5hdKRDgZj9jwZQHweZ2PyryomB6l8I/U/erdLjd5D9XuoOgAk/dP7qNeIORtKI/2NtoNKuFxj+VThLSKA+8P83c2yVOl8o/AAAAAAAAAAAAAAAAAAAAAAAAAAAAAAAA9+eUtRDK1D8egMbZ2WHFPwAAAAAAAAAApBZGzOPtvz97Y8f81MfEP4fiPfUtIOY/V0rX34Vs3T95XknsS16/PwAAAAAAAAAAAAAAAAAAAAAAAAAAAAAAAAAAAAAAAAAAkhXbdL9q1j/15p5dB1DePye8mvmTHbw/AAAAAAAAAABdL0jtwQPAP0z9XRZjWsA/IoV4OFVcuD87rbJjQW6jP+dq8aeWzYo/jxKmG+B9vz/OQfl0dyDCPwAAAAAAAAAAqrigPTIyxz+EsWIPfb3GPwAAAAAAAAAA1SYHluLhcz8AAAAAAAAAAAAAAAAAAAAAAAAAAAAAAAAAAAAAAAAAAAAAAAAAAAAAAAAAAAAAAAAAAAAAAAAAAAAAAAAAAAAAAAAAAAAAAAAAAAAAAAAAAAAAAAAAAAAAAAAAAAAAAAAAAAAAAAAAAAAAAAAAAAAAAAAAAAAAAAAAAAAAAAAAAAAAAAAAAAAAAAAAAAAAAAAAAAAAAAAAAAAAAAAAAAAAAAAAAAAAAAAAAAAAAAAAAAAAAAAAAAAAAAAAAAAAAAAAAAAAAAAAAAAAAAAAAAAAAAAAAAAAAAAAAAAAAAAAAAAAAAAAAAAAAAAAAAAAAAAAAAAAAAAAAAAAAAAAAAAAAAAAAAAAAAAAAAAAAAAAAAAAAAAAAAAAAAAAAAAAAAAAAAAAAAAAAAAAAAAAAAAAAAAAAAAAAAAAAAAAAAAAAAAAAAAAAAAAAAAAAAAAAAAAAAAAAAAAAAAAAAAAAAAAAAAAAAAAAAAAAAAAAAAAAAAAAAAAAAAAAAAAAAAAAAAAAAAAAAAAAAAAAAAAAAAAAAAAAAAAAAAAAAAAAAAAAAAAAAAAAAAAAAAAAAAAAAAAAAAAAAAAAAAAAAAAAAAAAAAAAAAAAAAAAAAAAAAAAAAAAAAAAAAAJsenEHzenj8AAAAAAAAAAAAAAAAAAAAA\",\"dtype\":\"float64\",\"order\":\"little\",\"shape\":[138]},\"block_id\":[12004,12004,12004,12004,12004,12004,12004,12004,12004,12004,12004,12004,12004,12004,12004,12004,12004,12004,12004,12004,12004,12004,12004,12004,12004,12004,12004,12004,12004,12004,12004,12004,12004,12004,12004,12004,12004,12004,12004,12004,12004,12004,12004,12004,12004,12004,12004,12004,12004,12004,12004,12004,12004,12004,12004,12004,12004,12004,12004,12004,12004,12004,12004,12004,12004,12004,12004,12004,12004,12004,12004,12004,12004,12004,12004,12004,12004,12004,12004,12004,12004,12004,12004,12004,12004,12004,12004,12004,12004,12004,12004,12004,12004,12004,12004,12004,12004,12004,12004,12004,12004,12004,12004,12004,12004,12004,12004,12004,12004,12004,12004,12004,12004,12004,12004,12004,12004,12004,12004,12004,12004,12004,12004,12004,12004,12004,12004,12004,12004,12004,12004,12004,12004,12004,12004,12004,12004,12004],\"congestion\":[false,false,false,false,false,false,false,false,false,false,false,false,false,false,false,false,false,false,false,false,false,false,false,false,false,false,false,false,false,false,false,false,false,false,false,false,false,false,false,false,false,false,false,false,false,false,false,false,false,false,false,false,false,false,false,false,false,false,false,false,false,false,false,false,false,false,false,false,false,false,false,false,false,false,false,false,false,false,false,false,false,false,true,true,true,true,true,true,true,true,true,true,true,true,true,true,true,true,true,true,true,true,true,true,true,true,true,true,true,true,true,true,true,true,true,true,true,true,true,true,true,true,true,true,true,true,true,true,true,true,true,true,true,true,true,true,true,true],\"datetime\":{\"__ndarray__\":\"AIB3q67Cc0IAAP20rsJzQgCAHbquwnNCAICCvq7Cc0IAACDErsJzQgAAAsmuwnNCAIClza7Cc0IAgIfSrsJzQgAAK9euwnNCAAAN3K7Cc0IAgC3hrsJzQgCAD+auwnNCAAAw667Cc0IAABLwrsJzQgCAtfSuwnNCAIAa+a7Cc0IAADv+rsJzQgAAHQOvwnNCAAD/B6/Cc0IAAF4Nr8JzQgCAfhKvwnNCAIDjFq/Cc0IAAIcbr8JzQgAAaSCvwnNCAICJJa/Cc0IAgGsqr8JzQgAAjC+vwnNCAADxM6/Cc0IAgBE5r8JzQgCAdj2vwnNCAACXQq/Cc0IAAHlHr8JzQgCAmUyvwnNCAIB7Ua/Cc0IAAB9Wr8JzQgAAAVuvwnNCAIAhYK/Cc0IAgIZkr8JzQgAAp2mvwnNCAIDHbq/Cc0IAgCxzr8JzQgAATXivwnNCAAAvfa/Cc0IAgE+Cr8JzQgCAtIavwnNCAADVi6/Cc0IAALeQr8JzQgCA15WvwnNCAAD4mq/Cc0IAANqfr8JzQgCAfaSvwnNCAIBfqa/Cc0IAAICur8JzQgAA5bKvwnNCAADHt6/Cc0IAgOe8r8JzQgCAycGvwnNCAADqxq/Cc0IAAE/Lr8JzQgCAb9CvwnNCAAAT1a/Cc0IAAPXZr8JzQgCAFd+vwnNCAIB646/Cc0IAAJvor8JzQgCAOO6vwnNCAICd8q/Cc0IAgAL3r8JzQgAAI/yvwnNCAIBDAbDCc0IAgCUGsMJzQgAARguwwnNCAACrD7DCc0IAgMsUsMJzQgCAmxywwnNCAAA/IbDCc0IAACEmsMJzQgCAQSuwwnNCAICmL7DCc0IAAMc0sMJzQgCA5zmwwnNCAIBMPrDCc0IAAG1DsMJzQgCAjUiwwnNCAIBvTbDCc0IAgFFSsMJzQgAAclewwnNCAADXW7DCc0IAgPdgsMJzQgCA2WWwwnNCAIA+arDCc0IAAF9vsMJzQgCA/HSwwnNCAAAjebDCc0IAgEN+sMJzQgCAJYOwwnNCAADJh7DCc0IAAKuMsMJzQgCAy5GwwnNCAICtlrDCc0IAAFGbsMJzQgAAM6CwwnNCAIBTpbDCc0IAgLipsMJzQgAA2a6wwnNCAAC7s7DCc0IAgNu4sMJzQgCAvb2wwnNCAABbw7DCc0IAAEPHsMJzQgCAY8ywwnNCAIDI0LDCc0IAAOnVsMJzQgAASNuwwnNCAIBo4LDCc0IAgM3ksMJzQgCAr+mwwnNCAABT7rDCc0IAADXzsMJzQgCA2PewwnNCAIC6/LDCc0IAANsBscJzQgAAOgexwnNCAIDdC7HCc0IAgEIQscJzQgAAYxWxwnNCAICDGrHCc0IAgOgescJzQgAACSSxwnNCAADrKLHCc0IAAM0tscJzQgCAajOxwnNCAIBSN7HCc0IAAHM8scJzQgAAVUGxwnNCAIB1RrHCc0IAAHhQscJzQgCA/VmxwnNC\",\"dtype\":\"float64\",\"order\":\"little\",\"shape\":[138]},\"day\":[11,11,11,11,11,11,11,11,11,11,11,11,11,11,11,11,11,11,11,11,11,11,11,11,11,11,11,11,11,11,11,11,11,11,11,11,11,11,11,11,11,11,11,11,11,11,11,11,11,11,11,11,11,11,11,11,11,11,11,11,11,11,11,11,11,11,11,11,11,11,11,11,11,11,11,11,11,11,11,11,11,11,11,11,11,11,11,11,11,11,11,11,11,11,11,11,11,11,11,11,11,11,11,11,11,11,11,11,11,11,11,11,11,11,11,11,11,11,11,11,11,11,11,11,11,11,11,11,11,11,11,11,11,11,11,11,11,11],\"delay\":[66,66,39,16,16,16,16,16,16,16,16,16,16,0,0,0,0,0,18,18,34,34,55,55,77,97,97,117,117,95,72,72,94,112,131,151,171,190,190,142,142,142,142,164,164,192,212,232,232,232,255,255,271,252,252,252,268,288,308,328,328,282,282,309,309,309,327,343,362,362,362,392,392,392,392,444,463,483,503,523,543,563,584,603,623,643,664,684,704,724,744,764,784,804,824,844,863,884,904,924,944,964,984,1004,1024,1044,1064,1084,1104,1124,1144,1164,1184,1204,1223,1244,1264,1284,1304,1323,1343,1363,1383,1403,1423,1443,1463,1483,1503,1523,1543,1563,1584,1604,1624,1640,1640,1640],\"dist_from_old_point\":{\"__ndarray__\":\"AAAAAAAAAAAAAAAAAAAAAGbqYsoOLIBAA9aBMou8bUALotVezmJTQO1WLywXNFxAa/qQHpyvaEB4/OnjYF1UQFKVDa9SLFFA3sYGflwPaECreV/Xl+tZQOkwegPctWFA4f2/JoG3YECOzQDl5ophQCo++EvXw2NAOZF+FLqXWEAHPLJPO3BfQNmV3Xj6Yl5AuUn5M5AZakCwg+dCxftgQCEKkKOvuW1A7vezQUL3YEDh6qxtt1xjQK5GT1LNoV5AP9qh4ua8Y0AidrLO7uYRQEspFEmXmFBAH29LRF10akAU/m6kZ5NrQOR7hUdET2ZAueLWRXD9ZUCbpJqxRSRAQJNOXWfvjktArvWIvtx8G0AcCUZwDO4XQAAAAAAAAAAA8h2h6/2z8z/CRJhNDPz8P5ZZPOh4A1BAhx5+YPn4cUDrW5Op/4tiQBNWvVWHHDBAwevxwG2YUUCvxPCoDitIQLoh9XO/01BAAAAAAAAAAAAAAAAAAAAAAAAAAAAAAAAAzMFmZAvoYUAXFCMycrRQQAAAAAAAAAAAsMGW99nxSEAwvbnzHuZRQLNSYiq6AGxAEzLglsj8ZkDgMQVluARLQAAAAAAAAAAAAAAAAAAAAAAAAAAAAAAAAAAAAAAAAAAAbPHI+4ecX0BvJCTBha5nQBDHffR5N0hAAAAAAAAAAACZWcEReZZLQDUcnGBj5VBAgIh429vUPkA/Iy7CipcoQJVwp0MUFhdA/IrQh+sfS0DRdsWmulJMQAAAAAAAAAAAuGn/lYdbTUDngcA3NpZTQAAAAAAAAAAAwhWQhYgJ/D8AAAAAAAAAAAAAAAAAAAAAAAAAAAAAAAAAAAAAAAAAAAAAAAAAAAAAAAAAAAAAAAAAAAAAAAAAAAAAAAAAAAAAAAAAAAAAAAAAAAAAAAAAAAAAAAAAAAAAAAAAAAAAAAAAAAAAAAAAAAAAAAAAAAAAAAAAAAAAAAAAAAAAAAAAAAAAAAAAAAAAAAAAAAAAAAAAAAAAAAAAAAAAAAAAAAAAAAAAAAAAAAAAAAAAAAAAAAAAAAAAAAAAAAAAAAAAAAAAAAAAAAAAAAAAAAAAAAAAAAAAAAAAAAAAAAAAAAAAAAAAAAAAAAAAAAAAAAAAAAAAAAAAAAAAAAAAAAAAAAAAAAAAAAAAAAAAAAAAAAAAAAAAAAAAAAAAAAAAAAAAAAAAAAAAAAAAAAAAAAAAAAAAAAAAAAAAAAAAAAAAAAAAAAAAAAAAAAAAAAAAAAAAAAAAAAAAAAAAAAAAAAAAAAAAAAAAAAAAAAAAAAAAAAAAAAAAAAAAAAAAAAAAAAAAAAAAAAAAAAAAAAAAAAAAAAAAAAAAAAAAAAAAAAAAAAAAAAAAAAAAAAAAAAAAAAAAAAAAAAAAAAAAAAAAAAAAAAAAAAAAAAAAAAAAAAAAAAAAAAAAAAAAAAAACINY3KGWKkAAAAAAAAAAAAAAAAAAAAAA\",\"dtype\":\"float64\",\"order\":\"little\",\"shape\":[138]},\"hour\":[18,18,18,18,18,18,18,18,18,18,18,18,18,18,18,18,18,18,18,18,18,18,18,18,18,18,18,18,18,18,18,18,18,18,18,18,18,18,18,18,18,18,18,18,18,18,18,18,18,18,18,18,18,18,18,19,19,19,19,19,19,19,19,19,19,19,19,19,19,19,19,19,19,19,19,19,19,19,19,19,19,19,19,19,19,19,19,19,19,19,19,19,19,19,19,19,19,19,19,19,19,19,19,19,19,19,19,19,19,19,19,19,19,19,19,19,19,19,19,19,19,19,19,19,19,19,19,19,19,19,19,19,19,19,19,19,19,19],\"index\":[1371084,1372332,1373043,1373630,1374295,1374962,1375614,1376249,1376865,1377547,1378182,1378744,1379467,1380163,1380694,1381385,1381904,1382544,1383265,1383847,1384536,1385173,1385711,1386392,1387108,1387640,1388277,1388993,1389590,1390182,1390838,1391398,1391987,1392700,1393315,1393905,1394586,1395151,1395768,1396404,1396981,1397569,1398232,1398835,1399283,1399966,1400584,1401204,1401892,1402460,1402933,1403651,1404222,1404692,1405391,1406032,1406562,1407251,1407783,1408351,1408995,1409586,1410133,1410757,1411302,1411966,1412546,1413130,1413690,1414368,1414829,1415504,1416105,1416668,1417472,1418063,1418594,1419222,1419834,1420390,1420989,1421575,1422183,1422724,1423272,1423865,1424488,1425016,1425580,1426086,1426686,1427213,1427853,1428358,1428885,1429442,1429971,1430497,1431067,1431635,1432141,1432677,1433302,1433816,1434314,1434962,1435410,1436009,1436600,1437033,1437615,1438187,1438716,1439312,1439835,1440323,1440849,1441439,1441928,1442455,1443048,1443526,1444142,1444649,1445123,1445611,1446279,1446727,1447245,1447848,1448287,1448887,1449376,1449853,1450318,1450920,1452007,1452946],\"journey_id\":[\"01201001\",\"01201001\",\"01201001\",\"01201001\",\"01201001\",\"01201001\",\"01201001\",\"01201001\",\"01201001\",\"01201001\",\"01201001\",\"01201001\",\"01201001\",\"01201001\",\"01201001\",\"01201001\",\"01201001\",\"01201001\",\"01201001\",\"01201001\",\"01201001\",\"01201001\",\"01201001\",\"01201001\",\"01201001\",\"01201001\",\"01201001\",\"01201001\",\"01201001\",\"01201001\",\"01201001\",\"01201001\",\"01201001\",\"01201001\",\"01201001\",\"01201001\",\"01201001\",\"01201001\",\"01201001\",\"01201001\",\"01201001\",\"01201001\",\"01201001\",\"01201001\",\"01201001\",\"01201001\",\"01201001\",\"01201001\",\"01201001\",\"01201001\",\"01201001\",\"01201001\",\"01201001\",\"01201001\",\"01201001\",\"01201001\",\"01201001\",\"01201001\",\"01201001\",\"01201001\",\"01201001\",\"01201001\",\"01201001\",\"01201001\",\"01201001\",\"01201001\",\"01201001\",\"01201001\",\"01201001\",\"01201001\",\"01201001\",\"01201001\",\"01201001\",\"01201001\",\"01201001\",\"01201001\",\"01201001\",\"01201001\",\"01201001\",\"01201001\",\"01201001\",\"01201001\",\"01201001\",\"01201001\",\"01201001\",\"01201001\",\"01201001\",\"01201001\",\"01201001\",\"01201001\",\"01201001\",\"01201001\",\"01201001\",\"01201001\",\"01201001\",\"01201001\",\"01201001\",\"01201001\",\"01201001\",\"01201001\",\"01201001\",\"01201001\",\"01201001\",\"01201001\",\"01201001\",\"01201001\",\"01201001\",\"01201001\",\"01201001\",\"01201001\",\"01201001\",\"01201001\",\"01201001\",\"01201001\",\"01201001\",\"01201001\",\"01201001\",\"01201001\",\"01201001\",\"01201001\",\"01201001\",\"01201001\",\"01201001\",\"01201001\",\"01201001\",\"01201001\",\"01201001\",\"01201001\",\"01201001\",\"01201001\",\"01201001\",\"01201001\",\"01201001\",\"01201001\",\"01201001\",\"01201001\",\"01201001\",\"01201001\"],\"lat\":{\"__ndarray__\":\"mIBfI0mwSkCYgF8jSbBKQEH1DyIZsEpAwwd2/BewSkDQtS+gF7BKQNxj6UMXsEpAn5W04huwSkB8Lei9MbBKQNwYO+ElsEpAcO6vHvevSkAdJhqk4K9KQBAhrpy9r0pAiZY8npavSkBcixagba9KQGKga19Ar0pAUp0OZD2vSkBv2SH+Ya9KQGGCGr6Fr0pAo3Go34WvSkC7fOvDeq9KQJFHcCNlr0pAblSnA1mvSkDPDyOER69KQOxph78mr0pA39+gvfquSkDyftx++a5KQI84ZAPprkpA5j+k376uSkDgSKDBpq5KQLk0fuGVrkpAzce1oWKuSkAIdZFCWa5KQAr0iTxJrkpAZHPVPEeuSkBB0TyARa5KQEHRPIBFrkpATX/2I0WuSkBHwr6dRK5KQD1fs1w2rkpABf2FHjGuSkAdjUP9Lq5KQB2NQ/0urkpAKTv9oC6uSkDnS29/Lq5KQOdLb38urkpA50tvfy6uSkDnS29/Lq5KQOdLb38urkpAnEoGgCquSkB16zU9KK5KQHXrNT0orkpAq3e4HRquSkD4cp8cBa5KQNVz0vvGrUpAW5caoZ+tSkDy5JoCma1KQPLkmgKZrUpA8uSaApmtSkDy5JoCma1KQPLkmgKZrUpAs++K4H+tSkA74/viUq1KQI8glWJHrUpAjyCVYketSkAA323eOK1KQA8MIHworUpAfcaFAyGtSkBoBvGBHa1KQLbXgt4brUpA/wJBgAytSkC7Q4oBEq1KQLtDigESrUpArMWnABitSkAFS3UBL61KQAVLdQEvrUpAO4xJfy+tSkA7jEl/L61KQDuMSX8vrUpAO4xJfy+tSkA7jEl/L61KQDuMSX8vrUpAO4xJfy+tSkA7jEl/L61KQDuMSX8vrUpAO4xJfy+tSkA7jEl/L61KQDuMSX8vrUpAO4xJfy+tSkA7jEl/L61KQDuMSX8vrUpAO4xJfy+tSkA7jEl/L61KQDuMSX8vrUpAO4xJfy+tSkA7jEl/L61KQDuMSX8vrUpAO4xJfy+tSkA7jEl/L61KQDuMSX8vrUpAO4xJfy+tSkA7jEl/L61KQDuMSX8vrUpAO4xJfy+tSkA7jEl/L61KQDuMSX8vrUpAO4xJfy+tSkA7jEl/L61KQDuMSX8vrUpAO4xJfy+tSkA7jEl/L61KQDuMSX8vrUpAO4xJfy+tSkA7jEl/L61KQDuMSX8vrUpAO4xJfy+tSkA7jEl/L61KQDuMSX8vrUpAO4xJfy+tSkA7jEl/L61KQDuMSX8vrUpAO4xJfy+tSkA7jEl/L61KQDuMSX8vrUpAO4xJfy+tSkA7jEl/L61KQDuMSX8vrUpAO4xJfy+tSkA7jEl/L61KQDuMSX8vrUpAO4xJfy+tSkA7jEl/L61KQDuMSX8vrUpAO4xJfy+tSkA7jEl/L61KQDuMSX8vrUpA1Cr6QzOtSkDUKvpDM61KQNQq+kMzrUpA\",\"dtype\":\"float64\",\"order\":\"little\",\"shape\":[138]},\"lat_m\":{\"__ndarray__\":\"sTZ+sMbnWkGxNn6wxudaQZwrfFiC51pB3MB/toDnWkHUzyEzgOdaQQzhw69/51pBOSGnQ4bnWkEva1phpedaQdHAH36U51pB6UFc7FHnWkG60xjsMedaQRkqSA4A51pBX+Hhi8jmWkEShXoxjuZaQbNwO8dN5lpBsFejiEnmWkETcXGifeZaQf1qIIaw5lpBWjXktbDmWkElC9floOZaQYM2xRyC5lpBb/ul2nDmWkEmk0ryV+ZaQQBDw00p5lpBFugSqurlWkGGhVrk6OVaQaCAkW7R5VpBg78jdJXlWkHGWL4gc+VaQSdfCxxb5VpBsrGOKxLlWkGc8hjVBOVaQTvuIwfu5FpBbIrkLuvkWkG/Yie26ORaQb9iJ7bo5FpBQa7UMujkWkH5wtBz5+RaQUQ/nSrT5FpB3Q58tMvkWkF0GX+syORaQXUZf6zI5FpBtu8sKcjkWkHrJmz5x+RaQesmbPnH5FpB6yZs+cfkWkHrJmz5x+RaQesmbPnH5FpBccf0SMLkWkFWCDgRv+RaQVYIOBG/5FpBCyTg96rkWkFq3J0TjeRaQb/21qk05FpB+Wk/qfzjWkGDc/g98+NaQYNz+D3z41pBg3P4PfPjWkGDc/g98+NaQYNz+D3z41pBxSlies/jWkGVXnV1j+NaQeGvzRd/41pB4a/NF3/jWkGU9A1wauNaQeSvASBT41pBF5iZfkjjWkEvInSBQ+NaQQhLqCxB41pBTB2+TivjWkHMcPUjM+NaQcxw9SMz41pBkZQ4rDvjWkHDAUhnXONaQcMBSGdc41pBcJFSGl3jWkFwkVIaXeNaQXCRUhpd41pBcJFSGl3jWkFwkVIaXeNaQXCRUhpd41pBcJFSGl3jWkFwkVIaXeNaQXCRUhpd41pBcJFSGl3jWkFwkVIaXeNaQXCRUhpd41pBcJFSGl3jWkFwkVIaXeNaQXCRUhpd41pBcJFSGl3jWkFwkVIaXeNaQXCRUhpd41pBcJFSGl3jWkFwkVIaXeNaQXCRUhpd41pBcJFSGl3jWkFwkVIaXeNaQXCRUhpd41pBcJFSGl3jWkFwkVIaXeNaQXCRUhpd41pBcJFSGl3jWkFwkVIaXeNaQXCRUhpd41pBcJFSGl3jWkFwkVIaXeNaQXCRUhpd41pBcJFSGl3jWkFwkVIaXeNaQXCRUhpd41pBcJFSGl3jWkFwkVIaXeNaQXCRUhpd41pBcJFSGl3jWkFwkVIaXeNaQXCRUhpd41pBcJFSGl3jWkFwkVIaXeNaQXCRUhpd41pBcJFSGl3jWkFwkVIaXeNaQXCRUhpd41pBcJFSGl3jWkFwkVIaXeNaQXCRUhpd41pBcJFSGl3jWkFwkVIaXeNaQXCRUhpd41pBcJFSGl3jWkFwkVIaXeNaQXCRUhpd41pBcJFSGl3jWkFwkVIaXeNaQXCRUhpd41pBOmj5dmLjWkE6aPl2YuNaQTpo+XZi41pB\",\"dtype\":\"float64\",\"order\":\"little\",\"shape\":[138]},\"line_id\":[\"120.0\",\"120.0\",\"120.0\",\"120.0\",\"120.0\",\"120.0\",\"120.0\",\"120.0\",\"120.0\",\"120.0\",\"120.0\",\"120.0\",\"120.0\",\"120.0\",\"120.0\",\"120.0\",\"120.0\",\"120.0\",\"120.0\",\"120.0\",\"120.0\",\"120.0\",\"120.0\",\"120.0\",\"120.0\",\"120.0\",\"120.0\",\"120.0\",\"120.0\",\"120.0\",\"120.0\",\"120.0\",\"120.0\",\"120.0\",\"120.0\",\"120.0\",\"120.0\",\"120.0\",\"120.0\",\"120.0\",\"120.0\",\"120.0\",\"120.0\",\"120.0\",\"120.0\",\"120.0\",\"120.0\",\"120.0\",\"120.0\",\"120.0\",\"120.0\",\"120.0\",\"120.0\",\"120.0\",\"120.0\",\"120.0\",\"120.0\",\"120.0\",\"120.0\",\"120.0\",\"120.0\",\"120.0\",\"120.0\",\"120.0\",\"120.0\",\"120.0\",\"120.0\",\"120.0\",\"120.0\",\"120.0\",\"120.0\",\"120.0\",\"120.0\",\"120.0\",\"120.0\",\"120.0\",\"120.0\",\"120.0\",\"120.0\",\"120.0\",\"120.0\",\"120.0\",\"120.0\",\"120.0\",\"120.0\",\"120.0\",\"120.0\",\"120.0\",\"120.0\",\"120.0\",\"120.0\",\"120.0\",\"120.0\",\"120.0\",\"120.0\",\"120.0\",\"120.0\",\"120.0\",\"120.0\",\"120.0\",\"120.0\",\"120.0\",\"120.0\",\"120.0\",\"120.0\",\"120.0\",\"120.0\",\"120.0\",\"120.0\",\"120.0\",\"120.0\",\"120.0\",\"120.0\",\"120.0\",\"120.0\",\"120.0\",\"120.0\",\"120.0\",\"120.0\",\"120.0\",\"120.0\",\"120.0\",\"120.0\",\"120.0\",\"120.0\",\"120.0\",\"120.0\",\"120.0\",\"120.0\",\"120.0\",\"120.0\",\"120.0\",\"120.0\",\"120.0\",\"120.0\",\"120.0\",\"120.0\",\"120.0\"],\"lng\":{\"__ndarray__\":\"eJ54zhZQGcB4nnjOFlAZwIUKDi+ISBnA1ZP5R99EGcBm+iXirUMZwBS2n4zxQRnAO6qaIOo+GcCimLwBZj4ZwFr1udqKPRnANbbXgt47GcCBlxk2yjoZwKrQQCybORnAEVDhCFI5GcCDpbqAlzkZwFCk+zkFORnA/vDz34M3GcCoqPqVzjcZwD2E8dO4NxnA5+Jve4I0GcChavRqgDIZwOXtCKcFLxnA0hqDTggtGcB1OpD11CoZwOn0vBsLKhnA5+EEptMqGcAlAWpq2SoZwDIfEOhMKhnAMH4a9+YnGcCGAyFZwCQZwNUnucMmIhnAFEIHXcIhGcB6qdiY1yEZwG+GG/D5IRnAnG7ZIf4hGcBGeHsQAiIZwEZ4exACIhnATDWzlgIiGcDajT7mAyIZwNv3qL9eIRnAfepYpfQcGcDFHAQdrRoZwBXFq6xtGhnA2AqallgZGcDJA5FFmhgZwA9FgT6RFxnAD0WBPpEXGcAPRYE+kRcZwA9FgT6RFxnARnpRu18VGcC05sdfWhQZwLTmx19aFBnAatlaXyQUGcDt8UI6PBQZwGHEPgEUExnA0Oy6tyIRGcCfd2NBYRAZwJ93Y0FhEBnAn3djQWEQGcCfd2NBYRAZwJ93Y0FhEBnAkL3e/fEOGcDjxcIQOQ0ZwB0G81fIDBnAHQbzV8gMGcD7r3PTZgwZwJYJv9TPCxnAKnEd44oLGcCodRvUfgsZwOZ3msx4CxnAb4Jvmj4LGcAEjgQabAoZwASOBBpsChnAVr38TpMJGcBPOpFgqgkZwE86kWCqCRnAZi5weawJGcBmLnB5rAkZwGYucHmsCRnAZi5weawJGcBmLnB5rAkZwGYucHmsCRnAZi5weawJGcBmLnB5rAkZwGYucHmsCRnAZi5weawJGcBmLnB5rAkZwGYucHmsCRnAZi5weawJGcBmLnB5rAkZwGYucHmsCRnAZi5weawJGcBmLnB5rAkZwGYucHmsCRnAZi5weawJGcBmLnB5rAkZwGYucHmsCRnAZi5weawJGcBmLnB5rAkZwGYucHmsCRnAZi5weawJGcBmLnB5rAkZwGYucHmsCRnAZi5weawJGcBmLnB5rAkZwGYucHmsCRnAZi5weawJGcBmLnB5rAkZwGYucHmsCRnAZi5weawJGcBmLnB5rAkZwGYucHmsCRnAZi5weawJGcBmLnB5rAkZwGYucHmsCRnAZi5weawJGcBmLnB5rAkZwGYucHmsCRnAZi5weawJGcBmLnB5rAkZwGYucHmsCRnAZi5weawJGcBmLnB5rAkZwGYucHmsCRnAZi5weawJGcBmLnB5rAkZwGYucHmsCRnAZi5weawJGcBmLnB5rAkZwGYucHmsCRnAZi5weawJGcBmLnB5rAkZwGYucHmsCRnAZi5weawJGcBmLnB5rAkZwGYucHmsCRnAAB5RoboJGcAAHlGhugkZwAAeUaG6CRnA\",\"dtype\":\"float64\",\"order\":\"little\",\"shape\":[138]},\"lng_m\":{\"__ndarray__\":\"XR3JrIp/JcFdHcmsin8lwbkUaZkfeSXBXMk14wN2JcFiOFyDAHUlwdd02iOHcyXBegjukvRwJcFLaShdhHAlwcqD2jzKbyXBkrcTcl5uJcEiiLzIc20lwbfH2GlybCXBc4YUTDRsJcG9n+hLb2wlwTYdYBDzayXBl7ffyKtqJcGPLp0862olwfoc+8HYaiXBw0PZVh5oJcGmiIS+aWYlwUgPijd1YyXBSfUgocRhJcHC/KAt5l8lwQFmCL86XyXBVqWmEOVfJcGWv4326V8lwU9X7KByXyXB88lGNWldJcHJCeElvFolwXduGt6GWCXBqN/LmDFYJcGqNHChQ1glweLz28tgWCXBbtjJW2RYJcGw3riyZ1glwbDeuLJnWCXBQpu2JGhYJcGt8rBBaVglwbLref7cVyXB9LCIMh1UJcGM3F+aLVIlwcy7cbn3USXBgvEdZQxRJcFBj1PCalAlwQi2y6uJTyXBCLbLq4lPJcEItsuriU8lwQi2y6uJTyXBftFDx6xNJcE/IKzOzkwlwT8grM7OTCXBuUGV8aBMJcGURS40tUwlwYwYLZ+5SyXBne+PRhNKJcH0IdP3bkklwfQh0/duSSXB9CHT925JJcH0IdP3bkklwfQh0/duSSXB7qUEDTdIJcEULHSSwEYlwevNWtZgRiXB681a1mBGJcE7zP8DDkYlwZeoi8aNRSXB30u1OFNFJcHOWun6SEUlwUViA9xDRSXBNJ/+bhJFJcERYYunX0QlwRFhi6dfRCXBIEwziKdDJcEftc8fu0MlwR+1zx+7QyXBZafG57xDJcFlp8bnvEMlwWWnxue8QyXBZafG57xDJcFlp8bnvEMlwWWnxue8QyXBZafG57xDJcFlp8bnvEMlwWWnxue8QyXBZafG57xDJcFlp8bnvEMlwWWnxue8QyXBZafG57xDJcFlp8bnvEMlwWWnxue8QyXBZafG57xDJcFlp8bnvEMlwWWnxue8QyXBZafG57xDJcFlp8bnvEMlwWWnxue8QyXBZafG57xDJcFlp8bnvEMlwWWnxue8QyXBZafG57xDJcFlp8bnvEMlwWWnxue8QyXBZafG57xDJcFlp8bnvEMlwWWnxue8QyXBZafG57xDJcFlp8bnvEMlwWWnxue8QyXBZafG57xDJcFlp8bnvEMlwWWnxue8QyXBZafG57xDJcFlp8bnvEMlwWWnxue8QyXBZafG57xDJcFlp8bnvEMlwWWnxue8QyXBZafG57xDJcFlp8bnvEMlwWWnxue8QyXBZafG57xDJcFlp8bnvEMlwWWnxue8QyXBZafG57xDJcFlp8bnvEMlwWWnxue8QyXBZafG57xDJcFlp8bnvEMlwWWnxue8QyXBZafG57xDJcFlp8bnvEMlwWWnxue8QyXBZafG57xDJcFlp8bnvEMlwWWnxue8QyXBvIqJ7chDJcG8iontyEMlwbyKie3IQyXB\",\"dtype\":\"float64\",\"order\":\"little\",\"shape\":[138]},\"operator\":[\"PO\",\"PO\",\"PO\",\"PO\",\"PO\",\"PO\",\"PO\",\"PO\",\"PO\",\"PO\",\"PO\",\"PO\",\"PO\",\"PO\",\"PO\",\"PO\",\"PO\",\"PO\",\"PO\",\"PO\",\"PO\",\"PO\",\"PO\",\"PO\",\"PO\",\"PO\",\"PO\",\"PO\",\"PO\",\"PO\",\"PO\",\"PO\",\"PO\",\"PO\",\"PO\",\"PO\",\"PO\",\"PO\",\"PO\",\"PO\",\"PO\",\"PO\",\"PO\",\"PO\",\"PO\",\"PO\",\"PO\",\"PO\",\"PO\",\"PO\",\"PO\",\"PO\",\"PO\",\"PO\",\"PO\",\"PO\",\"PO\",\"PO\",\"PO\",\"PO\",\"PO\",\"PO\",\"PO\",\"PO\",\"PO\",\"PO\",\"PO\",\"PO\",\"PO\",\"PO\",\"PO\",\"PO\",\"PO\",\"PO\",\"PO\",\"PO\",\"PO\",\"PO\",\"PO\",\"PO\",\"PO\",\"PO\",\"PO\",\"PO\",\"PO\",\"PO\",\"PO\",\"PO\",\"PO\",\"PO\",\"PO\",\"PO\",\"PO\",\"PO\",\"PO\",\"PO\",\"PO\",\"PO\",\"PO\",\"PO\",\"PO\",\"PO\",\"PO\",\"PO\",\"PO\",\"PO\",\"PO\",\"PO\",\"PO\",\"PO\",\"PO\",\"PO\",\"PO\",\"PO\",\"PO\",\"PO\",\"PO\",\"PO\",\"PO\",\"PO\",\"PO\",\"PO\",\"PO\",\"PO\",\"PO\",\"PO\",\"PO\",\"PO\",\"PO\",\"PO\",\"PO\",\"PO\",\"PO\",\"PO\",\"PO\",\"PO\",\"PO\",\"PO\"],\"outlier\":[1,1,-1,-1,1,1,-1,1,1,1,1,1,1,1,1,1,1,1,-1,1,-1,1,1,1,1,1,1,-1,1,-1,1,1,1,1,1,1,1,1,1,-1,1,1,1,1,1,1,1,1,1,1,1,1,1,-1,1,1,1,1,1,1,1,1,1,1,1,1,1,1,1,1,1,1,1,1,1,1,1,1,1,1,1,1,1,1,1,1,1,1,1,1,1,1,1,1,1,1,1,1,1,1,1,1,1,1,1,1,1,1,1,1,1,1,1,1,1,1,1,1,1,1,1,1,1,1,1,1,1,1,1,1,1,1,1,1,1,1,1,1],\"outlier2\":[1,1,1,1,-1,1,1,1,1,1,1,1,1,1,1,1,1,1,1,1,1,1,1,1,1,1,1,1,1,1,1,1,1,1,1,1,1,-1,1,1,1,1,1,1,1,1,1,1,1,1,1,1,1,1,1,1,1,1,1,1,1,1,1,1,1,1,1,1,1,1,1,1,1,1,1,1,1,1,1,1,1,1,1,1,1,1,1,1,1,1,1,1,1,1,1,1,1,1,1,1,1,1,1,1,1,1,1,1,1,1,1,1,1,1,1,1,1,1,1,1,1,1,1,1,1,1,1,1,1,1,1,1,1,1,1,1,1,1],\"outlier2_norm\":[1,1,1,1,-1,1,1,1,1,1,1,1,1,1,1,1,1,1,1,-1,1,1,1,1,1,1,1,1,1,1,1,1,1,1,-1,1,-1,-1,1,1,1,1,1,1,1,1,1,1,1,-1,1,1,1,1,1,1,1,1,1,1,1,1,1,1,1,1,1,1,1,1,1,1,1,1,1,1,1,1,1,1,1,1,1,1,1,1,1,1,1,1,1,1,1,1,1,1,1,1,1,1,1,1,1,1,1,1,1,1,1,1,1,1,1,1,1,1,1,1,1,1,1,1,1,1,1,1,1,1,1,1,1,1,1,1,1,1,1,1],\"outlier_0\":[-1,-1,-1,1,1,1,1,1,1,1,1,1,1,1,1,1,1,1,1,1,1,1,1,1,1,1,1,1,1,1,1,1,1,1,1,1,1,1,1,-1,1,1,1,1,1,1,1,1,1,1,1,1,1,1,1,1,1,1,1,1,1,1,1,1,1,1,1,1,1,1,1,1,1,1,-1,1,1,1,1,1,1,1,1,1,1,1,1,1,1,1,1,1,1,1,1,1,1,1,1,1,1,1,1,1,1,1,1,1,1,1,1,1,1,1,1,1,1,1,1,1,1,1,1,1,1,1,1,1,1,1,1,1,1,1,1,1,-1,-1],\"outlier_MF\":[1,-1,-1,-1,-1,1,-1,1,1,1,1,1,1,1,1,1,1,1,1,1,1,1,1,1,1,1,1,1,1,1,1,1,1,1,1,1,1,1,1,1,1,1,1,1,1,1,1,1,1,1,1,1,1,1,1,1,1,1,1,1,1,1,1,1,1,1,1,1,1,1,1,1,1,1,1,1,1,1,1,1,1,1,1,1,1,1,1,1,1,1,1,1,1,1,1,1,1,1,1,1,1,1,1,1,1,1,1,1,1,1,1,1,1,1,1,1,1,1,1,1,1,1,1,1,1,1,1,1,1,1,1,1,1,1,1,1,1,1],\"outlier_norm\":[1,1,-1,-1,1,1,-1,1,1,1,1,1,1,1,1,1,1,1,1,1,-1,1,1,1,1,1,1,-1,1,-1,1,1,1,1,1,1,1,1,1,-1,1,1,1,1,1,1,1,1,1,1,1,1,1,-1,1,1,1,1,1,1,1,1,1,1,1,1,1,1,1,1,1,1,1,1,1,1,1,1,1,1,1,1,1,1,1,1,1,1,1,1,1,1,1,1,1,1,1,1,1,1,1,1,1,1,1,1,1,1,1,1,1,1,1,1,1,1,1,1,1,1,1,1,1,1,1,1,1,1,1,1,1,1,1,1,1,1,1,1],\"stop\":[false,false,false,true,false,false,false,true,false,false,false,false,false,false,false,false,false,false,false,false,false,false,false,false,false,false,false,false,false,false,false,false,false,false,false,false,false,false,false,false,true,false,false,false,false,false,false,false,false,false,false,false,false,false,false,false,false,false,false,false,false,false,true,true,false,false,false,false,false,false,false,false,false,false,false,false,false,false,false,false,false,false,false,false,false,false,false,false,false,false,false,false,false,false,false,false,false,false,false,false,false,false,false,false,false,false,false,false,false,false,false,false,false,false,false,false,false,false,false,false,false,false,false,false,false,false,false,false,false,false,false,false,false,false,false,false,false,false],\"stop_id\":[284.0,284.0,284.0,4504.0,4504.0,4504.0,4504.0,7028.0,7028.0,7028.0,7028.0,7028.0,5147.0,5147.0,5147.0,5147.0,68.0,30.0,69.0,828.0,828.0,829.0,830.0,830.0,831.0,831.0,831.0,75.0,4501.0,4501.0,4502.0,4502.0,4502.0,4502.0,4502.0,4502.0,4502.0,4502.0,4936.0,79.0,80.0,80.0,80.0,80.0,80.0,80.0,80.0,80.0,82.0,82.0,82.0,82.0,817.0,818.0,818.0,818.0,818.0,818.0,818.0,818.0,819.0,819.0,263.0,263.0,263.0,263.0,263.0,263.0,263.0,263.0,263.0,263.0,263.0,263.0,263.0,263.0,263.0,263.0,263.0,263.0,263.0,263.0,263.0,263.0,263.0,263.0,263.0,263.0,263.0,263.0,263.0,263.0,263.0,263.0,263.0,263.0,263.0,263.0,263.0,263.0,263.0,263.0,263.0,263.0,263.0,263.0,263.0,263.0,263.0,263.0,263.0,263.0,263.0,263.0,263.0,263.0,263.0,263.0,263.0,263.0,263.0,263.0,263.0,263.0,263.0,263.0,263.0,263.0,263.0,263.0,263.0,263.0,263.0,263.0,263.0,263.0,263.0,263.0],\"time_frame\":[\"2013-01-11\",\"2013-01-11\",\"2013-01-11\",\"2013-01-11\",\"2013-01-11\",\"2013-01-11\",\"2013-01-11\",\"2013-01-11\",\"2013-01-11\",\"2013-01-11\",\"2013-01-11\",\"2013-01-11\",\"2013-01-11\",\"2013-01-11\",\"2013-01-11\",\"2013-01-11\",\"2013-01-11\",\"2013-01-11\",\"2013-01-11\",\"2013-01-11\",\"2013-01-11\",\"2013-01-11\",\"2013-01-11\",\"2013-01-11\",\"2013-01-11\",\"2013-01-11\",\"2013-01-11\",\"2013-01-11\",\"2013-01-11\",\"2013-01-11\",\"2013-01-11\",\"2013-01-11\",\"2013-01-11\",\"2013-01-11\",\"2013-01-11\",\"2013-01-11\",\"2013-01-11\",\"2013-01-11\",\"2013-01-11\",\"2013-01-11\",\"2013-01-11\",\"2013-01-11\",\"2013-01-11\",\"2013-01-11\",\"2013-01-11\",\"2013-01-11\",\"2013-01-11\",\"2013-01-11\",\"2013-01-11\",\"2013-01-11\",\"2013-01-11\",\"2013-01-11\",\"2013-01-11\",\"2013-01-11\",\"2013-01-11\",\"2013-01-11\",\"2013-01-11\",\"2013-01-11\",\"2013-01-11\",\"2013-01-11\",\"2013-01-11\",\"2013-01-11\",\"2013-01-11\",\"2013-01-11\",\"2013-01-11\",\"2013-01-11\",\"2013-01-11\",\"2013-01-11\",\"2013-01-11\",\"2013-01-11\",\"2013-01-11\",\"2013-01-11\",\"2013-01-11\",\"2013-01-11\",\"2013-01-11\",\"2013-01-11\",\"2013-01-11\",\"2013-01-11\",\"2013-01-11\",\"2013-01-11\",\"2013-01-11\",\"2013-01-11\",\"2013-01-11\",\"2013-01-11\",\"2013-01-11\",\"2013-01-11\",\"2013-01-11\",\"2013-01-11\",\"2013-01-11\",\"2013-01-11\",\"2013-01-11\",\"2013-01-11\",\"2013-01-11\",\"2013-01-11\",\"2013-01-11\",\"2013-01-11\",\"2013-01-11\",\"2013-01-11\",\"2013-01-11\",\"2013-01-11\",\"2013-01-11\",\"2013-01-11\",\"2013-01-11\",\"2013-01-11\",\"2013-01-11\",\"2013-01-11\",\"2013-01-11\",\"2013-01-11\",\"2013-01-11\",\"2013-01-11\",\"2013-01-11\",\"2013-01-11\",\"2013-01-11\",\"2013-01-11\",\"2013-01-11\",\"2013-01-11\",\"2013-01-11\",\"2013-01-11\",\"2013-01-11\",\"2013-01-11\",\"2013-01-11\",\"2013-01-11\",\"2013-01-11\",\"2013-01-11\",\"2013-01-11\",\"2013-01-11\",\"2013-01-11\",\"2013-01-11\",\"2013-01-11\",\"2013-01-11\",\"2013-01-11\",\"2013-01-11\",\"2013-01-11\",\"2013-01-11\",\"2013-01-11\",\"2013-01-11\",\"2013-01-11\",\"2013-01-11\"],\"time_from_old_point\":[0,39,21,18,23,20,19,20,19,20,21,20,21,20,19,18,21,20,20,22,21,18,19,20,21,20,21,18,21,18,21,20,21,20,19,20,21,18,21,21,18,21,20,21,18,21,20,21,21,20,19,20,21,18,20,21,20,21,18,21,19,20,21,18,21,23,18,18,21,21,20,21,18,21,32,19,20,21,18,21,21,18,21,21,20,20,21,18,21,20,18,21,23,17,21,20,19,20,21,20,19,20,21,18,21,20,21,20,23,16,21,18,21,22,21,18,20,19,20,19,20,21,22,19,18,21,21,18,21,20,20,23,16,21,20,21,41,39],\"timestamp\":[1357929691000000,1357929730000000,1357929751000000,1357929769000000,1357929792000000,1357929812000000,1357929831000000,1357929851000000,1357929870000000,1357929890000000,1357929911000000,1357929931000000,1357929952000000,1357929972000000,1357929991000000,1357930009000000,1357930030000000,1357930050000000,1357930070000000,1357930092000000,1357930113000000,1357930131000000,1357930150000000,1357930170000000,1357930191000000,1357930211000000,1357930232000000,1357930250000000,1357930271000000,1357930289000000,1357930310000000,1357930330000000,1357930351000000,1357930371000000,1357930390000000,1357930410000000,1357930431000000,1357930449000000,1357930470000000,1357930491000000,1357930509000000,1357930530000000,1357930550000000,1357930571000000,1357930589000000,1357930610000000,1357930630000000,1357930651000000,1357930672000000,1357930692000000,1357930711000000,1357930731000000,1357930752000000,1357930770000000,1357930790000000,1357930811000000,1357930831000000,1357930852000000,1357930870000000,1357930891000000,1357930910000000,1357930930000000,1357930951000000,1357930969000000,1357930990000000,1357931013000000,1357931031000000,1357931049000000,1357931070000000,1357931091000000,1357931111000000,1357931132000000,1357931150000000,1357931171000000,1357931203000000,1357931222000000,1357931242000000,1357931263000000,1357931281000000,1357931302000000,1357931323000000,1357931341000000,1357931362000000,1357931383000000,1357931403000000,1357931423000000,1357931444000000,1357931462000000,1357931483000000,1357931503000000,1357931521000000,1357931542000000,1357931565000000,1357931582000000,1357931603000000,1357931623000000,1357931642000000,1357931662000000,1357931683000000,1357931703000000,1357931722000000,1357931742000000,1357931763000000,1357931781000000,1357931802000000,1357931822000000,1357931843000000,1357931863000000,1357931886000000,1357931902000000,1357931923000000,1357931941000000,1357931962000000,1357931984000000,1357932005000000,1357932023000000,1357932043000000,1357932062000000,1357932082000000,1357932101000000,1357932121000000,1357932142000000,1357932164000000,1357932183000000,1357932201000000,1357932222000000,1357932243000000,1357932261000000,1357932282000000,1357932302000000,1357932322000000,1357932345000000,1357932361000000,1357932382000000,1357932402000000,1357932423000000,1357932464000000,1357932503000000],\"vehicle_id\":[\"33049\",\"33049\",\"33049\",\"33049\",\"33049\",\"33049\",\"33049\",\"33049\",\"33049\",\"33049\",\"33049\",\"33049\",\"33049\",\"33049\",\"33049\",\"33049\",\"33049\",\"33049\",\"33049\",\"33049\",\"33049\",\"33049\",\"33049\",\"33049\",\"33049\",\"33049\",\"33049\",\"33049\",\"33049\",\"33049\",\"33049\",\"33049\",\"33049\",\"33049\",\"33049\",\"33049\",\"33049\",\"33049\",\"33049\",\"33049\",\"33049\",\"33049\",\"33049\",\"33049\",\"33049\",\"33049\",\"33049\",\"33049\",\"33049\",\"33049\",\"33049\",\"33049\",\"33049\",\"33049\",\"33049\",\"33049\",\"33049\",\"33049\",\"33049\",\"33049\",\"33049\",\"33049\",\"33049\",\"33049\",\"33049\",\"33049\",\"33049\",\"33049\",\"33049\",\"33049\",\"33049\",\"33049\",\"33049\",\"33049\",\"33049\",\"33049\",\"33049\",\"33049\",\"33049\",\"33049\",\"33049\",\"33049\",\"33049\",\"33049\",\"33049\",\"33049\",\"33049\",\"33049\",\"33049\",\"33049\",\"33049\",\"33049\",\"33049\",\"33049\",\"33049\",\"33049\",\"33049\",\"33049\",\"33049\",\"33049\",\"33049\",\"33049\",\"33049\",\"33049\",\"33049\",\"33049\",\"33049\",\"33049\",\"33049\",\"33049\",\"33049\",\"33049\",\"33049\",\"33049\",\"33049\",\"33049\",\"33049\",\"33049\",\"33049\",\"33049\",\"33049\",\"33049\",\"33049\",\"33049\",\"33049\",\"33049\",\"33049\",\"33049\",\"33049\",\"33049\",\"33049\",\"33049\",\"33049\",\"33049\",\"33049\",\"33049\",\"33049\",\"33049\"],\"vehicle_journey_id\":[\"1508\",\"1508\",\"1508\",\"1508\",\"1508\",\"1508\",\"1508\",\"1508\",\"1508\",\"1508\",\"1508\",\"1508\",\"1508\",\"1508\",\"1508\",\"1508\",\"1508\",\"1508\",\"1508\",\"1508\",\"1508\",\"1508\",\"1508\",\"1508\",\"1508\",\"1508\",\"1508\",\"1508\",\"1508\",\"1508\",\"1508\",\"1508\",\"1508\",\"1508\",\"1508\",\"1508\",\"1508\",\"1508\",\"1508\",\"1508\",\"1508\",\"1508\",\"1508\",\"1508\",\"1508\",\"1508\",\"1508\",\"1508\",\"1508\",\"1508\",\"1508\",\"1508\",\"1508\",\"1508\",\"1508\",\"1508\",\"1508\",\"1508\",\"1508\",\"1508\",\"1508\",\"1508\",\"1508\",\"1508\",\"1508\",\"1508\",\"1508\",\"1508\",\"1508\",\"1508\",\"1508\",\"1508\",\"1508\",\"1508\",\"1508\",\"1508\",\"1508\",\"1508\",\"1508\",\"1508\",\"1508\",\"1508\",\"1508\",\"1508\",\"1508\",\"1508\",\"1508\",\"1508\",\"1508\",\"1508\",\"1508\",\"1508\",\"1508\",\"1508\",\"1508\",\"1508\",\"1508\",\"1508\",\"1508\",\"1508\",\"1508\",\"1508\",\"1508\",\"1508\",\"1508\",\"1508\",\"1508\",\"1508\",\"1508\",\"1508\",\"1508\",\"1508\",\"1508\",\"1508\",\"1508\",\"1508\",\"1508\",\"1508\",\"1508\",\"1508\",\"1508\",\"1508\",\"1508\",\"1508\",\"1508\",\"1508\",\"1508\",\"1508\",\"1508\",\"1508\",\"1508\",\"1508\",\"1508\",\"1508\",\"1508\",\"1508\",\"1508\",\"1508\"],\"velocity\":{\"__ndarray__\":\"AAAAAAAAAAAAAAAAAAAAABXf39KopDhAdEysnrRuKkDNqaMUxvgKQL54v4kSkBZAuCNf1sbJJEAt/Yfps0oQQLOPuFxV7AxAfgWfMX0/I0At+xeksL8TQA4bXdIsVhxAoLNtUyZ5GUBKr2ducREcQFk0gDLrpCBAFoFwoDPcFUBzm3tt/PMXQBSrF8cuTxhA+jqUKUDhJEDpMyKnB7QYQEosSSfbpSZAbmNcWFkpHkDmj6y6E04gQCXSpQ5xgRhAnQ/S96gTHkBqI7dKsaTMP05XBhoLSglAcQ1DIOGDJ0CuR8IbmAIlQASndniu1CNAdRq8lhjBIECSOsS1otP5P+r+wE4w/wRAJV46ZX391T/vgC0bxybUPwAAAAAAAAAATNhKNhUGrj+QWYcomcO5P9jd1Z7QZghAnbQhGQJjK0DRGEp6cXwgQAU6jvz+jOg/zhKDARYnDECSA9zJ8mkCQGdYl+o36g1AAAAAAAAAAAAAAAAAAAAAAAAAAAAAAAAAdHBT7jVJG0AlIDhQULoKQAAAAAAAAAAAJs6rX670A0CSssWLR0YLQNie5bMz5ChAdo7mq9NjIkAAJhDT4ZUEQAAAAAAAAAAAAAAAAAAAAAAAAAAAAAAAAAAAAAAAAAAAninEWsOeGkBZUIOaBPIiQHqLzRtpcwJAAAAAAAAAAAArvm6H7gQFQB0cJ3DugQdAx5WH399n+z/jAimQCdzlPyhuNt7qltE/LvwkEpuqBEBBkjdSlagGQAAAAAAAAAAAwM9UhXgYCkD+iDEktNgNQAAAAAAAAAAAHX4oEj2ctz8AAAAAAAAAAAAAAAAAAAAAAAAAAAAAAAAAAAAAAAAAAAAAAAAAAAAAAAAAAAAAAAAAAAAAAAAAAAAAAAAAAAAAAAAAAAAAAAAAAAAAAAAAAAAAAAAAAAAAAAAAAAAAAAAAAAAAAAAAAAAAAAAAAAAAAAAAAAAAAAAAAAAAAAAAAAAAAAAAAAAAAAAAAAAAAAAAAAAAAAAAAAAAAAAAAAAAAAAAAAAAAAAAAAAAAAAAAAAAAAAAAAAAAAAAAAAAAAAAAAAAAAAAAAAAAAAAAAAAAAAAAAAAAAAAAAAAAAAAAAAAAAAAAAAAAAAAAAAAAAAAAAAAAAAAAAAAAAAAAAAAAAAAAAAAAAAAAAAAAAAAAAAAAAAAAAAAAAAAAAAAAAAAAAAAAAAAAAAAAAAAAAAAAAAAAAAAAAAAAAAAAAAAAAAAAAAAAAAAAAAAAAAAAAAAAAAAAAAAAAAAAAAAAAAAAAAAAAAAAAAAAAAAAAAAAAAAAAAAAAAAAAAAAAAAAAAAAAAAAAAAAAAAAAAAAAAAAAAAAAAAAAAAAAAAAAAAAAAAAAAAAAAAAAAAAAAAAAAAAAAAAAAAAAAAAAAAAAAAAAAAAAAAAAAAAAAAAAAAAAAAAAAAAAAAsRruagFC5D8AAAAAAAAAAAAAAAAAAAAA\",\"dtype\":\"float64\",\"order\":\"little\",\"shape\":[138]}},\"selected\":{\"id\":\"1659\"},\"selection_policy\":{\"id\":\"1658\"}},\"id\":\"1602\",\"type\":\"ColumnDataSource\"},{\"attributes\":{\"fill_color\":{\"value\":\"red\"},\"line_color\":{\"value\":\"red\"},\"x\":{\"field\":\"lng_m\"},\"y\":{\"field\":\"lat_m\"}},\"id\":\"1610\",\"type\":\"Circle\"},{\"attributes\":{\"source\":{\"id\":\"1614\"}},\"id\":\"1618\",\"type\":\"CDSView\"},{\"attributes\":{\"data_source\":{\"id\":\"1608\"},\"glyph\":{\"id\":\"1610\"},\"hover_glyph\":null,\"muted_glyph\":null,\"nonselection_glyph\":{\"id\":\"1611\"},\"selection_glyph\":null,\"view\":{\"id\":\"1613\"}},\"id\":\"1612\",\"type\":\"GlyphRenderer\"},{\"attributes\":{\"attribution\":\"&copy; <a href=\\\"https://www.openstreetmap.org/copyright\\\">OpenStreetMap</a> contributors\",\"url\":\"https://c.tile.openstreetmap.org/{Z}/{X}/{Y}.png\"},\"id\":\"1599\",\"type\":\"WMTSTileSource\"},{\"attributes\":{\"dimension\":\"lon\"},\"id\":\"1570\",\"type\":\"MercatorTicker\"},{\"attributes\":{\"formatter\":{\"id\":\"1572\"},\"ticker\":{\"id\":\"1570\"}},\"id\":\"1569\",\"type\":\"MercatorAxis\"},{\"attributes\":{\"fill_alpha\":{\"value\":0.1},\"fill_color\":{\"value\":\"red\"},\"line_alpha\":{\"value\":0.1},\"line_color\":{\"value\":\"red\"},\"x\":{\"field\":\"lng_m\"},\"y\":{\"field\":\"lat_m\"}},\"id\":\"1611\",\"type\":\"Circle\"},{\"attributes\":{\"source\":{\"id\":\"1602\"}},\"id\":\"1607\",\"type\":\"CDSView\"},{\"attributes\":{\"data_source\":{\"id\":\"1602\"},\"glyph\":{\"id\":\"1604\"},\"hover_glyph\":null,\"muted_glyph\":null,\"nonselection_glyph\":{\"id\":\"1605\"},\"selection_glyph\":null,\"view\":{\"id\":\"1607\"}},\"id\":\"1606\",\"type\":\"GlyphRenderer\"},{\"attributes\":{},\"id\":\"1561\",\"type\":\"DataRange1d\"},{\"attributes\":{\"fill_alpha\":{\"value\":0.1},\"fill_color\":{\"value\":\"blue\"},\"line_alpha\":{\"value\":0.1},\"line_color\":{\"value\":\"blue\"},\"x\":{\"value\":-704453.3374718834},\"y\":{\"value\":7053082.757703469}},\"id\":\"1616\",\"type\":\"Circle\"},{\"attributes\":{},\"id\":\"1660\",\"type\":\"UnionRenderers\"},{\"attributes\":{\"data_source\":{\"id\":\"1614\"},\"glyph\":{\"id\":\"1615\"},\"hover_glyph\":null,\"muted_glyph\":null,\"nonselection_glyph\":{\"id\":\"1616\"},\"selection_glyph\":null,\"view\":{\"id\":\"1618\"}},\"id\":\"1617\",\"type\":\"GlyphRenderer\"},{\"attributes\":{\"fill_color\":{\"value\":\"blue\"},\"line_color\":{\"value\":\"blue\"},\"x\":{\"value\":-704453.3374718834},\"y\":{\"value\":7053082.757703469}},\"id\":\"1615\",\"type\":\"Circle\"},{\"attributes\":{},\"id\":\"1589\",\"type\":\"ResetTool\"},{\"attributes\":{\"tile_source\":{\"id\":\"1599\"}},\"id\":\"1600\",\"type\":\"TileRenderer\"},{\"attributes\":{},\"id\":\"1563\",\"type\":\"DataRange1d\"},{\"attributes\":{\"data\":{\"ID\":{\"__ndarray__\":\"CgoKCgoKCgoK\",\"dtype\":\"int8\",\"order\":\"little\",\"shape\":[9]},\"MF_acc\":{\"__ndarray__\":\"+prxmN6y9z+zRPsC6av/P6IO6l/G+eM/KguDEwzKxT/QAmUw2n7QP1zdnRd30dM/HO/vOX4R2j/3YbaGunzDP9iRLAC5Mc0/\",\"dtype\":\"float64\",\"order\":\"little\",\"shape\":[9]},\"MF_dist_from_old_point\":{\"__ndarray__\":\"/Bm8upBphEB5AeNzyQqEQKMOQb04K2xAuWA+b9kFUUDZAV7dhWpcQCjM47kaFVlAUNWp4BF/YEBhFwip7shQQEs0HBJ3eVJA\",\"dtype\":\"float64\",\"order\":\"little\",\"shape\":[9]},\"MF_lat\":{\"__ndarray__\":\"w+mc+puxSkBQwnrt47BKQIoid8cYsEpAgzVGRmKvSkAI6gznda9KQO3ZNcbzrkpAFbEAAcauSkC1fNUlPq5KQMMKHvAKrkpA\",\"dtype\":\"float64\",\"order\":\"little\",\"shape\":[9]},\"MF_lng\":{\"__ndarray__\":\"SEKOUq5FGcC2WSg+40cZwDKY4ZqWQxnAaYd1mVA3GcDbFEX+TzQZwN99RAL8KRnAlVtJ4TAnGcCOn3ww3yAZwG3fSEUIFBnA\",\"dtype\":\"float64\",\"order\":\"little\",\"shape\":[9]},\"MF_vel\":{\"__ndarray__\":\"aBu9KMQaP0CkVq0Rs9BBQGHx5ZGbuCdA9c1jGI88C0Cyk4RffqYVQAeZkfqlSxZAAO0tAa5THUCUYM/QtJMJQAoSGRD4axBA\",\"dtype\":\"float64\",\"order\":\"little\",\"shape\":[9]},\"acc\":{\"__ndarray__\":\"96kwApnG8j+DJ5lw2X7nP1eXXQV/geE/lZV2VDO04D+NFY0FakHhPyuaOwAB5+Q/Wc2+FZug4T9T96t0uN3kP4fiPfUtIOY/\",\"dtype\":\"float64\",\"order\":\"little\",\"shape\":[9]},\"block_id\":[12004,12004,12004,12004,12004,12004,12004,12004,12004],\"congestion\":[false,false,false,false,false,false,false,false,false],\"datetime\":{\"__ndarray__\":\"AIAduq7Cc0IAgIK+rsJzQgCApc2uwnNCAAD/B6/Cc0IAgH4Sr8JzQgAA8TOvwnNCAIB2Pa/Cc0IAgMdur8JzQgAA5bKvwnNC\",\"dtype\":\"float64\",\"order\":\"little\",\"shape\":[9]},\"day\":[11,11,11,11,11,11,11,11,11],\"delay\":[39,16,16,18,34,117,95,142,252],\"dist_from_old_point\":{\"__ndarray__\":\"Zupiyg4sgEAD1oEyi7xtQGv6kB6cr2hAuUn5M5AZakAhCpCjr7ltQB9vS0RddGpA5HuFR0RPZkCHHn5g+fhxQLNSYiq6AGxA\",\"dtype\":\"float64\",\"order\":\"little\",\"shape\":[9]},\"hour\":[18,18,18,18,18,18,18,18,18],\"index\":[1373043,1373630,1375614,1383265,1384536,1388993,1390182,1396404,1404692],\"journey_id\":[\"01201001\",\"01201001\",\"01201001\",\"01201001\",\"01201001\",\"01201001\",\"01201001\",\"01201001\",\"01201001\"],\"lat\":{\"__ndarray__\":\"QfUPIhmwSkDDB3b8F7BKQJ+VtOIbsEpAo3Go34WvSkCRR3AjZa9KQOY/pN++rkpAuTR+4ZWuSkAF/YUeMa5KQNVz0vvGrUpA\",\"dtype\":\"float64\",\"order\":\"little\",\"shape\":[9]},\"lat_m\":{\"__ndarray__\":\"nCt8WILnWkHcwH+2gOdaQTkhp0OG51pBWjXktbDmWkGDNsUcguZaQYO/I3SV5VpBJ18LHFvlWkHdDny0y+RaQb/21qk05FpB\",\"dtype\":\"float64\",\"order\":\"little\",\"shape\":[9]},\"line_id\":[\"120.0\",\"120.0\",\"120.0\",\"120.0\",\"120.0\",\"120.0\",\"120.0\",\"120.0\",\"120.0\"],\"lng\":{\"__ndarray__\":\"hQoOL4hIGcDVk/lH30QZwDuqmiDqPhnA5+Jve4I0GcDl7QinBS8ZwDB+GvfmJxnA1Se5wyYiGcB96lil9BwZwGHEPgEUExnA\",\"dtype\":\"float64\",\"order\":\"little\",\"shape\":[9]},\"lng_m\":{\"__ndarray__\":\"uRRpmR95JcFcyTXjA3YlwXoI7pL0cCXBw0PZVh5oJcFID4o3dWMlwfPJRjVpXSXBd24a3oZYJcH0sIgyHVQlwYwYLZ+5SyXB\",\"dtype\":\"float64\",\"order\":\"little\",\"shape\":[9]},\"operator\":[\"PO\",\"PO\",\"PO\",\"PO\",\"PO\",\"PO\",\"PO\",\"PO\",\"PO\"],\"outlier\":[-1,-1,-1,-1,-1,-1,-1,-1,-1],\"outlier2\":[1,1,1,1,1,1,1,1,1],\"outlier2_norm\":[1,1,1,1,1,1,1,1,1],\"outlier_0\":[-1,1,1,1,1,1,1,-1,1],\"outlier_MF\":[-1,-1,-1,1,1,1,1,1,1],\"outlier_norm\":[-1,-1,-1,1,-1,-1,-1,-1,-1],\"stop\":[false,true,false,false,false,false,false,false,false],\"stop_id\":[284.0,4504.0,4504.0,69.0,828.0,75.0,4501.0,79.0,818.0],\"time_frame\":[\"2013-01-11\",\"2013-01-11\",\"2013-01-11\",\"2013-01-11\",\"2013-01-11\",\"2013-01-11\",\"2013-01-11\",\"2013-01-11\",\"2013-01-11\"],\"time_from_old_point\":[21,18,19,20,21,18,18,21,18],\"timestamp\":[1357929751000000,1357929769000000,1357929831000000,1357930070000000,1357930113000000,1357930250000000,1357930289000000,1357930491000000,1357930770000000],\"vehicle_id\":[\"33049\",\"33049\",\"33049\",\"33049\",\"33049\",\"33049\",\"33049\",\"33049\",\"33049\"],\"vehicle_journey_id\":[\"1508\",\"1508\",\"1508\",\"1508\",\"1508\",\"1508\",\"1508\",\"1508\",\"1508\"],\"velocity\":{\"__ndarray__\":\"Fd/f0qikOEB0TKyetG4qQLgjX9bGySRA+jqUKUDhJEBKLEkn26UmQHENQyDhgydABKd2eK7UI0CdtCEZAmMrQNie5bMz5ChA\",\"dtype\":\"float64\",\"order\":\"little\",\"shape\":[9]}},\"selected\":{\"id\":\"1661\"},\"selection_policy\":{\"id\":\"1660\"}},\"id\":\"1608\",\"type\":\"ColumnDataSource\"},{\"attributes\":{\"overlay\":{\"id\":\"1591\"}},\"id\":\"1587\",\"type\":\"BoxZoomTool\"},{\"attributes\":{},\"id\":\"1588\",\"type\":\"SaveTool\"},{\"attributes\":{},\"id\":\"1659\",\"type\":\"Selection\"},{\"attributes\":{\"dimension\":\"lat\"},\"id\":\"1580\",\"type\":\"MercatorTickFormatter\"},{\"attributes\":{},\"id\":\"1590\",\"type\":\"HelpTool\"},{\"attributes\":{},\"id\":\"1565\",\"type\":\"LinearScale\"},{\"attributes\":{},\"id\":\"1585\",\"type\":\"PanTool\"},{\"attributes\":{},\"id\":\"1658\",\"type\":\"UnionRenderers\"},{\"attributes\":{},\"id\":\"1586\",\"type\":\"WheelZoomTool\"},{\"attributes\":{\"active_drag\":\"auto\",\"active_inspect\":\"auto\",\"active_multi\":null,\"active_scroll\":\"auto\",\"active_tap\":\"auto\",\"tools\":[{\"id\":\"1585\"},{\"id\":\"1586\"},{\"id\":\"1587\"},{\"id\":\"1588\"},{\"id\":\"1589\"},{\"id\":\"1590\"}]},\"id\":\"1592\",\"type\":\"Toolbar\"},{\"attributes\":{\"x\":{\"field\":\"lng_m\"},\"y\":{\"field\":\"lat_m\"}},\"id\":\"1604\",\"type\":\"Line\"},{\"attributes\":{\"line_alpha\":0.1,\"x\":{\"field\":\"lng_m\"},\"y\":{\"field\":\"lat_m\"}},\"id\":\"1605\",\"type\":\"Line\"},{\"attributes\":{\"axis\":{\"id\":\"1577\"},\"dimension\":1,\"ticker\":null},\"id\":\"1584\",\"type\":\"Grid\"},{\"attributes\":{\"dimension\":\"lat\"},\"id\":\"1578\",\"type\":\"MercatorTicker\"},{\"attributes\":{\"formatter\":{\"id\":\"1580\"},\"ticker\":{\"id\":\"1578\"}},\"id\":\"1577\",\"type\":\"MercatorAxis\"}],\"root_ids\":[\"1560\"]},\"title\":\"Bokeh Application\",\"version\":\"2.2.1\"}};\n",
       "  var render_items = [{\"docid\":\"2b38b84a-4335-4b5c-b833-48ce3091c086\",\"root_ids\":[\"1560\"],\"roots\":{\"1560\":\"395cf493-88be-4c37-a2fe-7a467078e2e6\"}}];\n",
       "  root.Bokeh.embed.embed_items_notebook(docs_json, render_items);\n",
       "\n",
       "  }\n",
       "  if (root.Bokeh !== undefined) {\n",
       "    embed_document(root);\n",
       "  } else {\n",
       "    var attempts = 0;\n",
       "    var timer = setInterval(function(root) {\n",
       "      if (root.Bokeh !== undefined) {\n",
       "        clearInterval(timer);\n",
       "        embed_document(root);\n",
       "      } else {\n",
       "        attempts++;\n",
       "        if (attempts > 100) {\n",
       "          clearInterval(timer);\n",
       "          console.log(\"Bokeh: ERROR: Unable to run BokehJS code because BokehJS library is missing\");\n",
       "        }\n",
       "      }\n",
       "    }, 10, root)\n",
       "  }\n",
       "})(window);"
      ],
      "application/vnd.bokehjs_exec.v0+json": ""
     },
     "metadata": {
      "application/vnd.bokehjs_exec.v0+json": {
       "id": "1560"
      }
     },
     "output_type": "display_data"
    },
    {
     "name": "stderr",
     "output_type": "stream",
     "text": [
      "/home/saci/hd/projetos/trajetorias/its_research/venvTraj/lib/python3.8/site-packages/pandas/core/frame.py:3065: SettingWithCopyWarning: \n",
      "A value is trying to be set on a copy of a slice from a DataFrame.\n",
      "Try using .loc[row_indexer,col_indexer] = value instead\n",
      "\n",
      "See the caveats in the documentation: https://pandas.pydata.org/pandas-docs/stable/user_guide/indexing.html#returning-a-view-versus-a-copy\n",
      "  self[k1] = value[k2]\n"
     ]
    },
    {
     "data": {
      "text/html": [
       "\n",
       "\n",
       "\n",
       "\n",
       "\n",
       "\n",
       "  <div class=\"bk-root\" id=\"b1272df1-665a-4fdb-9623-5bb97f61d397\" data-root-id=\"1772\"></div>\n"
      ]
     },
     "metadata": {},
     "output_type": "display_data"
    },
    {
     "data": {
      "application/javascript": [
       "(function(root) {\n",
       "  function embed_document(root) {\n",
       "    \n",
       "  var docs_json = {\"b27e054a-28be-4488-8de1-bb6bbf299e23\":{\"roots\":{\"references\":[{\"attributes\":{\"below\":[{\"id\":\"1781\"}],\"center\":[{\"id\":\"1788\"},{\"id\":\"1796\"}],\"left\":[{\"id\":\"1789\"}],\"renderers\":[{\"id\":\"1812\"},{\"id\":\"1818\"},{\"id\":\"1824\"},{\"id\":\"1829\"}],\"title\":{\"id\":\"1877\"},\"toolbar\":{\"id\":\"1804\"},\"x_range\":{\"id\":\"1773\"},\"x_scale\":{\"id\":\"1777\"},\"y_range\":{\"id\":\"1775\"},\"y_scale\":{\"id\":\"1779\"}},\"id\":\"1772\",\"subtype\":\"Figure\",\"type\":\"Plot\"},{\"attributes\":{\"data\":{\"ID\":{\"__ndarray__\":\"QkJCQkJCQkJCQkJCQkJCQkJCQkJCQkJCQkJCQkJCQkJCQkJCQkJC\",\"dtype\":\"int8\",\"order\":\"little\",\"shape\":[39]},\"MF_acc\":{\"__ndarray__\":\"T4vGSSKa5D/YPAENrRJ9P5LOdFprGOc//FB2X0GMej8ILTFxkKLRP//1oLSpuNo/mFKrMcOf0D9n4BdRt7vUP3NVtMpiG+A/ZqCnaKd43D/6ZDKxVFXePxQXhXKvr+I/f8U1GNxLzD92nt4DcV/TPwMrsq2tQeA/1K9YcoIj1z86hETABmPTPyflUZokQsU//QNXx5dg4z9y+9kRL/fhPzZoHe07DO0/hhLux+cZ4D9dV9ucAorhP7eVW77KkdU/cnTZDV4W2z/05lFRMv7gP5jSbFq0G+c/6wimhimA4j/THr1hBPHQP3SAagUcabU/wUKZT8pKvz87F7wHEBThP8G7S9pg968/V9Sm9Fmhrj+ZEDxmr8TUP74KWqP0suA/N05u8t1dqT9ZzGdtRd/TP8KMDy8UMM4/\",\"dtype\":\"float64\",\"order\":\"little\",\"shape\":[39]},\"MF_dist_from_old_point\":{\"__ndarray__\":\"T4vGSSKaBEDokLMNlgoJQJLOdFprGAdAbJHEzFX4/T/+PELPvlFWQHJ926cz12JAiNTcCjMKVUDJEFllr9thQCU8jAipYmRAmDBKCRITZEDm4yGY/zFjQGGiI55SGHBAwOkRr3zzU0CY1wuWIEVeQKc+8Omd7GZAXklV6b0TYkD/xMBhnFNiQJz8T2+ta2xAO/Z3J+1GbkAogsAV0PJuQPKbDOy9YXJA8fxjKHooaUAyTjGvnbtoQHTi9SATlGJAsJvDhCckYUDe+A+fLo1qQHy6wakIS3BAXQX0iMfeb0ADW7OLCXFVQE1xC99fzV9A66uVTkOvaUAFBFOdj2ttQHxpLV/sPFpAq8RrSl7OZUBMvI4TaeNhQJn1vZ59ImVAmAMBju/Ma0CD57tMzx1hQL3kiGJpAFpA\",\"dtype\":\"float64\",\"order\":\"little\",\"shape\":[39]},\"MF_lat\":{\"__ndarray__\":\"/fBUdrCsSkD21/inr6xKQEBc5J6urEpA8mJ4ka6sSkAdXSiqyKxKQGCkeEsorUpAFWMLQQ6uSkAdKc3mca5KQIWAOFm0rkpAunh+rDuvSkALXo4Nk69KQMqYZrrXr0pA4DdpGhSxSkB7ADYgQrJKQMJTc7nBskpAbebPEr+zSkC1rJW/MbRKQKqTYSabtEpAbRCAbh61SkA4VTYHY7VKQNMyNnSztUpAeOJWQQy2SkCGqQDOQbZKQGOJkF/ktkpA9emVsgy3SkDF5hHtdLdKQLBZXC3Bt0pAYBZS2Qu4SkAaAmTo2LlKQMuVb8fluUpA7c9zVeq5SkAG/Yv76rlKQBvhPazcukpA4w0lpH+7SkDFCffKvLtKQBrm+R3Uu0pA/WO7MfO7SkBgV4hYDrxKQKJvpY3ZukpA\",\"dtype\":\"float64\",\"order\":\"little\",\"shape\":[39]},\"MF_lng\":{\"__ndarray__\":\"39yAKskFGcAu2eMquwUZwJJvfO2ZBRnAQhlwlpIFGcBVp8mMtwUZwDoD2DZ7BhnACi8sJAULGcDl/BNcrAgZwAaL5IY6BxnA/HJ2fMUEGcBOsi80MgMZwGY1EleEARnA2HQDBd75GMAaqs2k8vsYwEJXjcry+hjAtDGGg871GMAIlBPtKvQYwDwcI9kj9BjA3MMkXMjzGMDfl/kOfvIYwEQUSD/Q8BjA4ioVVFTtGMDee34YIewYwC38OsuH6xjAiHUEy2zrGMBIz/OnjeoYwAJxwikY6hjAiuchCbHpGMDnzaeOVfoYwKIJfyt++BjAFoBWqlX1GMAt9yOgHesYwF6lgR/V4BjAYNXEp6XeGMBeEQwxqOAYwCXWTc714hjAlDfQjfrlGMCOgxH7BPAYwI/0L0ll+hjA\",\"dtype\":\"float64\",\"order\":\"little\",\"shape\":[39]},\"MF_vel\":{\"__ndarray__\":\"T4vGSSKa9D/uz4iQQRTDP5LOdFprGPc/C7ZtdQU1vD+pUld/4tYTQB4kf4ZJux9A67zgl7uzEkCIVm+aYDYbQCHgCiTPHiJAPYcjZqPnIEDMWKyj/w8hQEuuTkaWhihAQ+1frgrNEEATRtZETTcYQBOTQz7+TSNAytvuDmPsHEDQNV5IKagaQPawblJ6lBhA/MQsub04KEAGGm7HbZQnQJ6KYLXhVjBAJ5fpuWEgJEC+d0Qa49MkQIA02BlaTxxAAKOUzyl5HkCyYKblvj0lQBQ6YSvmcCtAteu5gDZIKECtwvTtJA8TQI7MmSYaGApAxC7+mukLFEB+3iYKVWomQEiE2At6egRAKcNs5iPYCUDJ1S42JkIbQBZMxTdTySJA4XnLWUSOCkA1PJgfCxUaQF804j6NzxNA\",\"dtype\":\"float64\",\"order\":\"little\",\"shape\":[39]},\"acc\":{\"__ndarray__\":\"TEyXHbG3BEAUw4cbOISXP9KCglbpAgNA+QiHT36Qmj/pid17NAv2P0BG1lPZDew/0RbVdRMt7j+TweSVw6rtPxLFI5c5YfQ/T61pmzFg8T+TapbYp47yPyo+7u7hA/M/fTBQiHev5T8k0VJuu6zkPz03qcinkuc/ZVSMIODq4z8mop5qM4DgP2yYntdefuA/Gms1/v8y5T+nfU/61QPlP1kvJkkKbuc/j/tGZEAu4T/htkac/U7oPwkgct3pbeU/k6vMyXxB5j/YKkjI0ofqP1lwwm2JV+4/euLdpQqU4z9y2lNgN5DhP5ImsmF+etQ/31n+FTaJ0T902ZtVJUXgP5RgcvStj9I/49fb4uCWtz/cR4FgQJrmPxqyY4Ls3OU/5b7u5OG/sT9NuUoEc57gP11zYo0+CuI/\",\"dtype\":\"float64\",\"order\":\"little\",\"shape\":[39]},\"block_id\":[41018,41018,41018,41018,41018,41018,41018,41018,41018,41018,41018,41018,41018,41018,41018,41018,41018,41018,41018,41018,41018,41018,41018,41018,41018,41018,41018,41018,41018,41018,41018,41018,41018,41018,41018,41018,41018,41018,41018],\"congestion\":[false,false,false,false,false,false,false,false,false,false,false,false,false,false,false,false,false,false,false,false,false,false,false,false,false,false,false,false,false,false,false,false,false,false,false,false,false,false,false],\"datetime\":{\"__ndarray__\":\"AIBCc2LCc0IAAMh8YsJzQgAAJ4JiwnNCAIBNhmLCc0IAgLeeYsJzQgCAXa1iwnNCAAC352LCc0IAANr2YsJzQgCAQQVjwnNCAIDnE2PCc0IAAE8iY8JzQgCAbydjwnNCAACCWGPCc0IAgHaOY8JzQgCAn5xjwnNCAIDNvmPCc0IAgPDNY8JzQgCAhN9jwnNCAACH6WPCc0IAgKfuY8JzQgCADPNjwnNCAAAP/WPCc0IAgLIBZMJzQgCAtxVkwnNCAIAcGmTCc0IAAB8kZMJzQgCAwihkwnNCAADjLWTCc0IAgIiFZMJzQgAADo9kwnNCAIAQmWTCc0IAgLanZMJzQgAAxwJlwnNCAIBdHmXCc0IAAGAoZcJzQgAAxSxlwnNCAIAgPWXCc0IAAOdQZcJzQgCA24ZlwnNC\",\"dtype\":\"float64\",\"order\":\"little\",\"shape\":[39]},\"day\":[10,10,10,10,10,10,10,10,10,10,10,10,10,10,10,10,10,10,10,10,10,10,10,10,10,10,10,10,10,10,10,10,10,10,10,10,10,10,10],\"delay\":[0,0,0,43,43,43,43,43,43,43,43,6,36,64,8,-19,-15,-46,-46,-77,-77,-77,-106,-156,-156,-156,-156,-191,-315,-348,-391,-417,-362,-289,-289,-269,-220,-180,-43],\"dist_from_old_point\":{\"__ndarray__\":\"TEyXHbG3JECHb7ZTYkEkQNKCglbpAiNAInHHlx79HUCLYsRsLuZ7QIiUnLvDx3NAcdiQUIYYc0C8iJt2lY15QGxFSeMMy3lAZQUo9KWAeEDjXh5ujHx3QIs0TBrYYIBAYRQ5j2+UbkBkszBu8iZwQHNP+0znnnBA3kPbMv4eb0CQ6pM1YTJvQEXHw0vyDIZArLuZ/tePcEC6dxnOzRlyQO5TlARFp21AEOmunETYakDy26/QsSNxQJjMPO8rdXJAJwln7+EqbEB5YXisHLp0QDeY42W4ZHVAkp3dKwPdcEB5IOoVhjpmQMvdnDjyan5ACcuaCX/JfECaeXlQHQdsQArDiFBdeH5AcgKBmSnLcEBlWh9z3HdzQGotBlWbq2tAFud1Adtzc0A3uWQi9KBsQL2YjsGlE29A\",\"dtype\":\"float64\",\"order\":\"little\",\"shape\":[39]},\"hour\":[20,20,20,20,20,20,20,20,20,20,20,20,20,20,20,20,20,20,20,20,20,20,20,20,20,20,20,20,21,21,21,21,21,21,21,21,21,21,21],\"index\":[1509263,1509940,1510498,1510760,1512718,1513896,1518509,1519689,1520783,1521878,1522936,1523352,1527009,1531006,1532093,1534567,1535659,1536840,1537520,1537884,1538224,1538930,1539276,1540648,1540992,1541736,1542008,1542426,1548611,1549258,1550009,1551024,1557215,1559099,1559835,1560086,1561215,1562586,1566143],\"journey_id\":[\"041C0001\",\"041C0001\",\"041C0001\",\"041C0001\",\"041C0001\",\"041C0001\",\"041C0001\",\"041C0001\",\"041C0001\",\"041C0001\",\"041C0001\",\"041C0001\",\"041C0001\",\"041C0001\",\"041C0001\",\"041C0001\",\"041C0001\",\"041C0001\",\"041C0001\",\"041C0001\",\"041C0001\",\"041C0001\",\"041C0001\",\"041C0001\",\"041C0001\",\"041C0001\",\"041C0001\",\"041C0001\",\"041C0001\",\"041C0001\",\"041C0001\",\"041C0001\",\"041C0001\",\"041C0001\",\"041C0001\",\"041C0001\",\"041C0001\",\"041C0001\",\"041C0001\"],\"lat\":{\"__ndarray__\":\"QgqeQq6sSkCsjEY+r6xKQJHbL5+srEpA9GxWfa6sSkCfHXBdMa1KQN9vtOOGrUpAm1YKgVyuSkDzcth9x65KQEXvVMA9r0pAmBqhn6mvSkA0wtuDELBKQAEVjiCVsEpAv0aSIFyxSkDHZ7J/nrJKQBN+qZ83s0pANMLbgxC0SkARk3Ahj7RKQBznNuFetUpA2Qkvwam1SkAH6/8c5rVKQBnnb0IhtkpAtTf4wmS2SkAg7X+AtbZKQPcdw2M/t0pA+8+aH3+3SkA8/gsEAbhKQCC6oL5luEpAaM2Pv7S4SkDcY+lDF7pKQDlcqz3suUpAu2QcI9m5SkBhEi7kEbpKQFpkO99Pu0pAjZPCvMe7SkB+bJIf8btKQNR/1vz4u0pAelc9YB68SkBktfl/1btKQHgnnx7bukpA\",\"dtype\":\"float64\",\"order\":\"little\",\"shape\":[39]},\"lat_m\":{\"__ndarray__\":\"mvqTOKXiWkEuq6CepuJaQUNO1OOi4lpBpncfjKXiWkFMDK7CX+NaQUD223TZ41pBGvcFcwnlWkGV4jy4oeVaQaUG/AtK5lpBVuvomePmWkGUj6ATdudaQRYBxeAy6FpBhKn1Ok7pWkG1665VGetaQd1+snHz61pBI4BEbCjtWkGRAaXR3O1aQdeWhtgE71pBLP41jG/vWkHzQjCRxe9aQVJewtwZ8FpBnjwWEnrwWkFhGzMn7fBaQXBwm7Sx8VpBgxm+jwzyWkFdfDu+xfJaQTRwB1xV81pBmjoLAsbzWkHAx3OUv/VaQaCRbjeC9VpB3pNy+Gb1WkFZMEvqt/VaQYvIsX1991pBYfA0fyj4WkFPMSyLY/haQdO0ncNu+FpBmbXpG6T4WkHOBtghPPhaQREyu/DW9lpB\",\"dtype\":\"float64\",\"order\":\"little\",\"shape\":[39]},\"line_id\":[\"41.0\",\"41.0\",\"41.0\",\"41.0\",\"41.0\",\"41.0\",\"41.0\",\"41.0\",\"41.0\",\"41.0\",\"41.0\",\"41.0\",\"41.0\",\"41.0\",\"41.0\",\"41.0\",\"41.0\",\"41.0\",\"41.0\",\"41.0\",\"41.0\",\"41.0\",\"41.0\",\"41.0\",\"41.0\",\"41.0\",\"41.0\",\"41.0\",\"41.0\",\"41.0\",\"41.0\",\"41.0\",\"41.0\",\"41.0\",\"41.0\",\"41.0\",\"41.0\",\"41.0\",\"41.0\"],\"lng\":{\"__ndarray__\":\"L26jAbwFGcCEDU+vlAUZwPaX3ZOHBRnAob5lTpcFGcD1SlmGOAYZwGlxxjAnCBnAzlZe8j8JGcALluoCXgYZwDze5LfoBBnA9g63Q8MCGcDoobYNowAZwLFtUWaD/BjA9pmzPuX4GMB/8+LEV/sYwKSHodXJ+RjALe+qB8zzGMAUyy2thvQYwFMHeT2Y9BjAy2lPyTnxGMAg71UrE+4YwA05tp4h7BjADvW7sDXrGMC5/l2fOesYwPci2o6p6xjAgV1NnrLqGMASonxBC+kYwGcMc4I26RjAn3O366XpGMBotcAeE/kYwM/ZAkLr8RjAl8XE5uPqGMC7uI0G8OYYwL5r0Jfe3hjAT3gJTn3gGMD75ZMVw+UYwDoHz4Qm6RjAPUSjO4jtGMBrYKsEi/MYwJwaaD7n/hjA\",\"dtype\":\"float64\",\"order\":\"little\",\"shape\":[39]},\"lng_m\":{\"__ndarray__\":\"eVDIaWRAJcHbEXIEQ0AlwaenquI3QCXBs8BmPkVAJcFrwa4qzkAlwYI7V0lyQiXByC2bu2BDJcEL7AwB7kAlwX13WPewPyXBBoScUN49JcE87skdEDwlwSxMl4yPOCXBdZo193w1JcFy1aQSkTclwTDCWhs/NiXB8Fk4cigxJcE2lBL3xjElwT/BxuHVMSXBkQ5SZvkuJcFmTuxWTCwlwS9HUMWlKiXBfs9KZd0pJcHC1Tm84CklwRGZVs0/KiXBcqmAE24pJcGgXKSDBiglwYGh6T8rKCXBPqgI34koJcEtjm/tozUlwefkUyCQLyXB2uar7pcpJcE+RryLPCYlwdb1kF9iHyXBR5uSlsIgJcEYeM/0PCUlwS2qLqsdKCXB1BtEV9YrJcF6A1E78TAlwULnRTCXOiXB\",\"dtype\":\"float64\",\"order\":\"little\",\"shape\":[39]},\"operator\":[\"SL\",\"SL\",\"SL\",\"SL\",\"SL\",\"SL\",\"SL\",\"SL\",\"SL\",\"SL\",\"SL\",\"SL\",\"SL\",\"SL\",\"SL\",\"SL\",\"SL\",\"SL\",\"SL\",\"SL\",\"SL\",\"SL\",\"SL\",\"SL\",\"SL\",\"SL\",\"SL\",\"SL\",\"SL\",\"SL\",\"SL\",\"SL\",\"SL\",\"SL\",\"SL\",\"SL\",\"SL\",\"SL\",\"SL\"],\"outlier\":[-1,-1,-1,-1,-1,-1,-1,-1,-1,-1,-1,-1,-1,-1,-1,-1,-1,-1,-1,-1,-1,-1,-1,-1,-1,-1,-1,-1,-1,-1,-1,-1,-1,-1,-1,-1,-1,-1,-1],\"outlier2\":[-1,1,-1,1,1,1,1,1,1,1,1,1,1,1,1,1,1,-1,1,1,1,1,1,1,1,1,1,1,1,-1,-1,1,-1,1,1,1,1,1,1],\"outlier2_norm\":[-1,1,-1,1,1,1,1,-1,1,1,1,1,1,1,1,1,-1,-1,1,1,1,1,1,1,1,1,-1,1,1,1,1,1,1,1,1,1,-1,1,1],\"outlier_0\":[-1,1,-1,1,-1,-1,-1,-1,-1,-1,-1,-1,1,1,1,1,1,-1,1,-1,1,1,-1,-1,1,-1,-1,1,1,-1,-1,1,-1,-1,-1,1,-1,1,1],\"outlier_MF\":[-1,1,-1,1,1,1,1,1,1,1,1,-1,1,1,1,1,1,1,-1,-1,-1,-1,-1,1,1,-1,-1,-1,1,1,1,-1,1,1,1,1,1,1,1],\"outlier_norm\":[-1,-1,-1,-1,-1,-1,-1,-1,-1,-1,-1,-1,-1,-1,-1,-1,-1,-1,-1,-1,-1,-1,-1,-1,-1,-1,-1,-1,-1,-1,-1,-1,-1,-1,-1,-1,-1,-1,-1],\"stop\":[true,true,false,false,false,false,false,false,false,false,false,false,false,false,false,false,false,false,false,false,false,false,false,false,false,false,false,false,false,false,false,false,false,false,false,false,true,false,false],\"stop_id\":[288.0,288.0,288.0,288.0,1172.0,1173.0,15.0,17.0,19.0,21.0,85.0,203.0,1620.0,1623.0,1624.0,1626.0,1627.0,1629.0,1629.0,1629.0,1630.0,3670.0,3670.0,3671.0,3672.0,3672.0,3672.0,3674.0,3707.0,3708.0,3710.0,4925.0,3711.0,4916.0,4917.0,4917.0,4919.0,4920.0,4915.0],\"time_frame\":[\"2013-01-10\",\"2013-01-10\",\"2013-01-10\",\"2013-01-10\",\"2013-01-10\",\"2013-01-10\",\"2013-01-10\",\"2013-01-10\",\"2013-01-10\",\"2013-01-10\",\"2013-01-10\",\"2013-01-10\",\"2013-01-10\",\"2013-01-10\",\"2013-01-10\",\"2013-01-10\",\"2013-01-10\",\"2013-01-10\",\"2013-01-10\",\"2013-01-10\",\"2013-01-10\",\"2013-01-10\",\"2013-01-10\",\"2013-01-10\",\"2013-01-10\",\"2013-01-10\",\"2013-01-10\",\"2013-01-10\",\"2013-01-10\",\"2013-01-10\",\"2013-01-10\",\"2013-01-10\",\"2013-01-10\",\"2013-01-10\",\"2013-01-10\",\"2013-01-10\",\"2013-01-10\",\"2013-01-10\",\"2013-01-10\"],\"time_from_old_point\":[2,21,2,17,18,19,18,21,18,19,18,21,19,20,19,20,22,37,20,21,18,20,19,21,18,20,19,21,18,39,41,21,41,54,21,18,67,21,21],\"timestamp\":[1357849769000000,1357849808000000,1357849830000000,1357849847000000,1357849947000000,1357850007000000,1357850246000000,1357850308000000,1357850367000000,1357850427000000,1357850486000000,1357850507000000,1357850708000000,1357850929000000,1357850987000000,1357851127000000,1357851189000000,1357851261000000,1357851302000000,1357851323000000,1357851341000000,1357851382000000,1357851401000000,1357851483000000,1357851501000000,1357851542000000,1357851561000000,1357851582000000,1357851941000000,1357851980000000,1357852021000000,1357852081000000,1357852454000000,1357852567000000,1357852608000000,1357852626000000,1357852693000000,1357852774000000,1357852995000000],\"vehicle_id\":[\"33272\",\"33272\",\"33272\",\"33272\",\"33272\",\"33272\",\"33272\",\"33272\",\"33272\",\"33272\",\"33272\",\"33272\",\"33272\",\"33272\",\"33272\",\"33272\",\"33272\",\"33272\",\"33272\",\"33272\",\"33272\",\"33272\",\"33272\",\"33272\",\"33272\",\"33272\",\"33272\",\"33272\",\"33272\",\"33272\",\"33272\",\"33272\",\"33272\",\"33272\",\"33272\",\"33272\",\"33272\",\"33272\",\"33272\"],\"vehicle_journey_id\":[\"159\",\"159\",\"159\",\"159\",\"159\",\"159\",\"159\",\"159\",\"159\",\"159\",\"159\",\"159\",\"159\",\"159\",\"159\",\"159\",\"159\",\"159\",\"159\",\"159\",\"159\",\"159\",\"159\",\"159\",\"159\",\"159\",\"159\",\"159\",\"159\",\"159\",\"159\",\"159\",\"159\",\"159\",\"159\",\"159\",\"159\",\"159\",\"159\"],\"velocity\":{\"__ndarray__\":\"TEyXHbG3FEALMCKkid3eP9KCglbpAhNAiXl/NIY53D8mO1kLm8w4QLY5xwk5qDBA1txH8lr5MEAJH15aEHgzQLU9CMpg7TZAzn2N6DqiNEDmN6nTfOA0QJexmIkY9ThAlTnf8V3AKUBthedJ6tcpQJnxSD4n/itAfmmvKJjlKED0HpqyRrAmQDxgT6kdEjNA4MXC/b9/KkDrVIjYCJUrQEX1SpLLWypAc7pYfdB5JUAs+ZMpzd0sQAzKpfJCICxABkEGY6wJKUDHGi2945QwQLVyK5n5AzJAQDmz+U2yKUDBVV5MPsIjQAIfEQdK9ShAJuMtTM13JkBpjVwAwVolQL2LMuEWyCdAKH5pv03nE0BRrql+dKotQF4osBKKmChA2O+pe+CUEkA2E6L19s8lQGs3kRlyrSdA\",\"dtype\":\"float64\",\"order\":\"little\",\"shape\":[39]}},\"selected\":{\"id\":\"1886\"},\"selection_policy\":{\"id\":\"1885\"}},\"id\":\"1820\",\"type\":\"ColumnDataSource\"},{\"attributes\":{\"data_source\":{\"id\":\"1820\"},\"glyph\":{\"id\":\"1822\"},\"hover_glyph\":null,\"muted_glyph\":null,\"nonselection_glyph\":{\"id\":\"1823\"},\"selection_glyph\":null,\"view\":{\"id\":\"1825\"}},\"id\":\"1824\",\"type\":\"GlyphRenderer\"},{\"attributes\":{},\"id\":\"1884\",\"type\":\"Selection\"},{\"attributes\":{\"source\":{\"id\":\"1826\"}},\"id\":\"1830\",\"type\":\"CDSView\"},{\"attributes\":{\"source\":{\"id\":\"1820\"}},\"id\":\"1825\",\"type\":\"CDSView\"},{\"attributes\":{\"text\":\"\"},\"id\":\"1877\",\"type\":\"Title\"},{\"attributes\":{},\"id\":\"1773\",\"type\":\"DataRange1d\"},{\"attributes\":{\"source\":{\"id\":\"1814\"}},\"id\":\"1819\",\"type\":\"CDSView\"},{\"attributes\":{\"data\":{},\"selected\":{\"id\":\"1888\"},\"selection_policy\":{\"id\":\"1887\"}},\"id\":\"1826\",\"type\":\"ColumnDataSource\"},{\"attributes\":{},\"id\":\"1801\",\"type\":\"ResetTool\"},{\"attributes\":{\"data_source\":{\"id\":\"1814\"},\"glyph\":{\"id\":\"1816\"},\"hover_glyph\":null,\"muted_glyph\":null,\"nonselection_glyph\":{\"id\":\"1817\"},\"selection_glyph\":null,\"view\":{\"id\":\"1819\"}},\"id\":\"1818\",\"type\":\"GlyphRenderer\"},{\"attributes\":{\"overlay\":{\"id\":\"1803\"}},\"id\":\"1799\",\"type\":\"BoxZoomTool\"},{\"attributes\":{\"x\":{\"field\":\"lng_m\"},\"y\":{\"field\":\"lat_m\"}},\"id\":\"1816\",\"type\":\"Line\"},{\"attributes\":{},\"id\":\"1800\",\"type\":\"SaveTool\"},{\"attributes\":{\"data_source\":{\"id\":\"1826\"},\"glyph\":{\"id\":\"1827\"},\"hover_glyph\":null,\"muted_glyph\":null,\"nonselection_glyph\":{\"id\":\"1828\"},\"selection_glyph\":null,\"view\":{\"id\":\"1830\"}},\"id\":\"1829\",\"type\":\"GlyphRenderer\"},{\"attributes\":{},\"id\":\"1802\",\"type\":\"HelpTool\"},{\"attributes\":{},\"id\":\"1797\",\"type\":\"PanTool\"},{\"attributes\":{},\"id\":\"1798\",\"type\":\"WheelZoomTool\"},{\"attributes\":{\"dimension\":\"lat\"},\"id\":\"1790\",\"type\":\"MercatorTicker\"},{\"attributes\":{\"line_alpha\":0.1,\"x\":{\"field\":\"lng_m\"},\"y\":{\"field\":\"lat_m\"}},\"id\":\"1817\",\"type\":\"Line\"},{\"attributes\":{\"axis\":{\"id\":\"1789\"},\"dimension\":1,\"ticker\":null},\"id\":\"1796\",\"type\":\"Grid\"},{\"attributes\":{\"formatter\":{\"id\":\"1792\"},\"ticker\":{\"id\":\"1790\"}},\"id\":\"1789\",\"type\":\"MercatorAxis\"},{\"attributes\":{\"fill_color\":{\"value\":\"red\"},\"line_color\":{\"value\":\"red\"},\"x\":{\"field\":\"lng_m\"},\"y\":{\"field\":\"lat_m\"}},\"id\":\"1822\",\"type\":\"Circle\"},{\"attributes\":{\"dimension\":\"lat\"},\"id\":\"1792\",\"type\":\"MercatorTickFormatter\"},{\"attributes\":{\"active_drag\":\"auto\",\"active_inspect\":\"auto\",\"active_multi\":null,\"active_scroll\":\"auto\",\"active_tap\":\"auto\",\"tools\":[{\"id\":\"1797\"},{\"id\":\"1798\"},{\"id\":\"1799\"},{\"id\":\"1800\"},{\"id\":\"1801\"},{\"id\":\"1802\"}]},\"id\":\"1804\",\"type\":\"Toolbar\"},{\"attributes\":{\"dimension\":\"lon\"},\"id\":\"1784\",\"type\":\"MercatorTickFormatter\"},{\"attributes\":{\"axis\":{\"id\":\"1781\"},\"ticker\":null},\"id\":\"1788\",\"type\":\"Grid\"},{\"attributes\":{\"dimension\":\"lon\"},\"id\":\"1782\",\"type\":\"MercatorTicker\"},{\"attributes\":{},\"id\":\"1887\",\"type\":\"UnionRenderers\"},{\"attributes\":{},\"id\":\"1779\",\"type\":\"LinearScale\"},{\"attributes\":{},\"id\":\"1888\",\"type\":\"Selection\"},{\"attributes\":{},\"id\":\"1883\",\"type\":\"UnionRenderers\"},{\"attributes\":{},\"id\":\"1777\",\"type\":\"LinearScale\"},{\"attributes\":{\"fill_color\":{\"value\":\"blue\"},\"line_color\":{\"value\":\"blue\"},\"x\":{\"value\":-696373.8801495983},\"y\":{\"value\":7047850.143246067}},\"id\":\"1827\",\"type\":\"Circle\"},{\"attributes\":{\"bottom_units\":\"screen\",\"fill_alpha\":0.5,\"fill_color\":\"lightgrey\",\"left_units\":\"screen\",\"level\":\"overlay\",\"line_alpha\":1.0,\"line_color\":\"black\",\"line_dash\":[4,4],\"line_width\":2,\"right_units\":\"screen\",\"top_units\":\"screen\"},\"id\":\"1803\",\"type\":\"BoxAnnotation\"},{\"attributes\":{\"formatter\":{\"id\":\"1784\"},\"ticker\":{\"id\":\"1782\"}},\"id\":\"1781\",\"type\":\"MercatorAxis\"},{\"attributes\":{\"fill_alpha\":{\"value\":0.1},\"fill_color\":{\"value\":\"red\"},\"line_alpha\":{\"value\":0.1},\"line_color\":{\"value\":\"red\"},\"x\":{\"field\":\"lng_m\"},\"y\":{\"field\":\"lat_m\"}},\"id\":\"1823\",\"type\":\"Circle\"},{\"attributes\":{},\"id\":\"1775\",\"type\":\"DataRange1d\"},{\"attributes\":{\"data\":{\"ID\":{\"__ndarray__\":\"QkJCQkJCQkJCQkJCQkJCQkJCQkJCQkJCQkJCQkJCQkJCQkJCQkJCQkJCQkJCQkJCQkJCQkJCQkJCQkJCQkJCQkJCQkJCQkJCQkJCQkJCQkJCQkJCQkJCQkJCQkJCQkJCQkJCQkJCQkJCQkJCQkJCQkJCQkJCQkJCQkJCQkJCQkJCQkJCQkJCQkJCQkJCQkJCQkJCQkJCQkJCQkJCQkI=\",\"dtype\":\"int8\",\"order\":\"little\",\"shape\":[158]},\"MF_acc\":{\"__ndarray__\":\"AAAAAAAAAAA0defC/q3jP+WX6oTp9wBAc+OhuwDMAkAz8+rpPNEEQE+LxkkimuQ/4+IGz6cpdT/YPAENrRJ9P+vjy9MnyYM/jtyAwpYK6T+SznRaaxjnP/xQdl9BjHo/xZ38QdmqVT+MU6/BJ6dTP7dtqEbZqlU/c9zZXH7aaz8ILTFxkKLRP+0rQC6l6ck/r3Gy/JeRzD//9aC0qbjaPz4JQw0y10JAX3otQ5kByT/fdXELSUHEP0UlI/K5xc4/RYhjK7WAuz/EGEx4Unm+P6OPm6lsDck/YtzqTSS5xj8OeR0bTO27P8expjDTEsE/583pJaHqoT+YUqsxw5/QP4GvHZ0wCjVAaA5+LCDXzT8UEXAm1o3DP2fgF1G3u9Q/XJUDmtPnqD9zVbTKYhvgP+USnKTUqtc/1PZ7HdYX2j9moKdop3jcPy6fbWUHdbg/+mQysVRV3j8UF4Vyr6/iPyXLE2NBmeY/M1r3tDLd3j/EPZdSkdThPz5k9pI9atg/q++7JGYqyT+5MeL4AYS2PyRirL3hbsA/SdHydbYZuj8Q3CCMyGGwP3/FNRjcS8w/000FmvWD0j8kqz6rntPUP0AOpWp7HrY/2CaKIDxu1j8J/bV16T7RPx9A04Swrsc/hxA4iiYy0D+TRo3auwnBPzHqVSMF08Y/dp7eA3Ff0z//JD9jkMfVPzPWl1YfINU/Ayuyra1B4D/zwboHHaLcPxMjHdxLgNI/YrvNuwWw0z/pXwBmXXzVP1T9UTuGNtk/Df2VIniLyz/Ur1hygiPXP1RyhYXrOdQ/9jZ5Nr5D1T86hETABmPTP5NpQmD2drs/J+VRmiRCxT8qNa8kZ9rdP/0DV8eXYOM/cvvZES/34T82aB3tOwztP81fQxhGjNk/hhLux+cZ4D9dV9ucAorhP/x7sYDchdk/kcAYOOLh0D8xUpT1SwPVP7eVW77KkdU/cnTZDV4W2z+K1cM1XDPVP/TmUVEy/uA/mNJsWrQb5z/rCKaGKYDiP1Toq8KVU90/TM9xDe4u6D+XZTbZnjnaP1zcVKVxKtA/iPZ7LMdYyD+v27tul9/OP8SoOtzEKtM/w01D/nFs0j+udflin4nQP9J4jXwv3dI/gpXhdBna0D/tDUV/CizPP4MC4pLIxMw/V9yhAARZ1j8GA4nKvLfRP/QH1bYnL8c/XyQHPnv4xD/THr1hBPHQP3SAagUcabU/wUKZT8pKvz9Zh2tXBpveP7OYNjDqauU/Oxe8BxAU4T8blaJFFZPZP2Aw/MJkRsU/JmrVrkeG2T/ZfmcSw+DDP4HBq36UnsE/yphNhtSawT+eFVx13La9P7Y8765/fsU/7X+297wMrj899jvi2k2fP7mWIRLSis4/p/spIqmWwz/RTSkiu/S/P7YaCYddUJE/wbtL2mD3rz+vgKW4QhvTP6VODbYXYdk/7hMOKShe1j9X1Kb0WaGuP/Qx+kjT6NE/mRA8Zq/E1D++Clqj9LLgPzdObvLdXak/NgeBM2P+2T91wd47kNvhPyBc2gaTIdg/WcxnbUXf0z8JAjDcHMDSPzek8otredg/lRYSVCDH0z8uD0+Q5NfZP/QwZpd5tdU/5c7CS7LL1T/H5mxguePXPx9gCbT6r9A/D3ft5aRkyz/F5BfhABLHP8KMDy8UMM4/gS7X/CZNzT9BFwKZ7sKuPw==\",\"dtype\":\"float64\",\"order\":\"little\",\"shape\":[158]},\"MF_dist_from_old_point\":{\"__ndarray__\":\"AAAAAAAAAADWSwCpMTuNQKof+EURO41AZPMsJcFejUDzUNzlDluNQE+LxkkimgRAJ7cEYrjI+j/okLMNlgoJQHUMDmiWCglAjtyAwpYKCUCSznRaaxgHQGyRxMxV+P0/QluNu3nt4D92g1O+ee3gP7eVM7957eA/Yab51rH99z/+PELPvlFWQNZFVsa+UVZA0Whrvb5RVkByfdunM9diQD4JQw0y12JA4I4F+QWmT0AtSOEhAqZPQJpFD6lOgVpAdsLliY18RUB2p9GlinxFQDeIgeR8klNA0socxXeSU0CbpigpKqxBQEAoz85taU1AQxB9CmtpTUCI1NwKMwpVQIGvHZ0wClVAKOFeLy4KVUCwGg+cno1OQMkQWWWv22FA+DDKjkhxVEAlPIwIqWJkQEZuyCekYmRA1tgIR59iZECYMEoJEhNkQEiaILIOE2RA5uMhmP8xY0BhoiOeUhhwQLV2ZxW7p3FAMQ3fLIaVakCDUAwRI9xrQFc5FQmCB2VAVNt9RqnZT0DU096ys2RDQDUsDrRVzERAQ6WXqCV7RkAPIO4o3/g+QMDpEa9881NAmUmowC/uXEBWX3u/al5dQFK66AzFJ2JAWe5r+R6GYUBeW+zHTPJaQLv0Zwr3ZVRATw/pWLjWVkBFvnyFNZ9KQDeA7+zBqFNAmNcLliBFXkArC/SbarZeQFifpnsYgWBApz7w6Z3sZkCG5wmupl5mQGsxLq4C319AI3uIa2WcYkDuSrD3KMlgQFT9UTuGNllAdjDK+aC5V0BeSVXpvRNiQPlwgVzja2FAge7QOof8XUD/xMBhnFNiQGa5Ux6IbWBAnPxPb61rbEBL6RjXnbZpQDv2dyftRm5AKILAFdDybkDymwzsvWFyQAQI5l9SAWZA8fxjKHooaUAyTjGvnbtoQN2oikSU8GNAuqOish4VXUA24NtXk2pgQHTi9SATlGJAsJvDhCckYUBtLU/svEJiQN74D58ujWpAfLrBqQhLcEBdBfSIx95vQJ+BBpIDuWtABXstvfpMa0Bef7IZBH1kQE+YVJJRQllA2MXQjXf4VEChw4JOrh5YQPy3jppPB1tAgClJHXLJXEC5u3+RE31cQMgMnTKaeV1Am3mgxsdUWkB/+p4Kb9laQCqrg8J+x1hA3trMEKlIXEDUZ1XwimxWQIVh1YqT6lVA1CbtJgYQUkADW7OLCXFVQE1xC99fzV9A66uVTkOvaUAUHkz2hlxqQEIZBWVQG2tABQRTnY9rbUB9BGee6PpjQGy2W1sx71dAS5KpAAVvVkCP7oOMuYlUQFle7AXIh0tAYDX6+fRHRkA+bb9wbvNEQG7nqsDTylBAMLFcw/jhWUAOP8Zr1HdVQGFBee/YU1NAQSntrUTfUEA+I55r3jhEQASvnh1x0x1AfGktX+w8WkARmYJAmNpdQPNh3Df15GFAkv8SYI95YUCrxGtKXs5lQA3uBiLK+1tATLyOE2njYUCZ9b2efSJlQJgDAY7vzGtAtqLccZxjZkDOHm1kni5pQPmXWt062mJAg+e7TM8dYUAuAwsYLUxdQMmULFScQWFAWRl5jzyyYkA0vr+nuDhiQD/WR/7G9WBAozEwSyMHYUC3yHw0ENhgQDCmTrn3ElpADAkLCDCYV0C6qtqvEAZSQL3kiGJpAFpAVRyIdUbkVkCFrWJzhdhWQA==\",\"dtype\":\"float64\",\"order\":\"little\",\"shape\":[158]},\"MF_lat\":{\"__ndarray__\":\"Rtxpxv2wSkCAepQA669KQLoYvzrYrkpAFh07qMStSkCLkZc1saxKQP3wVHawrEpAwqqRArCsSkD21/inr6xKQC0FYE2vrEpAYzLH8q6sSkBAXOSerqxKQPJieJGurEpAM/bhaq6sSkBziUtErqxKQLMctR2urEpA+mxWfa6sSkAdXSiqyKxKQEBN+tbirEpAYz3MA/2sSkBgpHhLKK1KQF0LJZNTrUpANoL/rWStSkAQ+dnIda1KQCsMl7CRrUpAbah5fZytSkCuRFxKp61KQNqZtKm6rUpABe8MCc6tSkDup4Kb1q1KQAWZasHmrUpAG4pS5/atSkAVYwtBDq5KQA48xJolrkpACBV99DyuSkDWtcO6TK5KQB0pzeZxrkpAlfuPTIeuSkCFgDhZtK5KQHUF4WXhrkpAZYqJcg6vSkC6eH6sO69KQA5nc+Zor0pAC16ODZOvSkDKmGa6169KQCUPSvMisEpAVTDVzFqwSkCuaHl5lbBKQHCdzyXBsEpAbY5oTNKwSkDNQ/bm3LBKQNMJp2DosEpAGtNS1PSwSkBQhTR0/bBKQOA3aRoUsUpAakpMBjaxSkCTDD+TWLFKQN2goX+CsUpAIgg7xaqxSkBrDybFx7FKQK60gYXdsUpAkBHq2PexSkDtPgaGB7JKQF00tKYeskpAewA2IEKySkAtFsUGZrJKQIppQHOMskpAwlNzucGySkD1EN1Y9bJKQB1Xzt4Zs0pAi1GC/kKzSkBDJElrZ7NKQJA3pFGBs0pAfhrsl5mzSkBt5s8Sv7NKQHA2AYbls0pAm4hi8ga0SkC1rJW/MbRKQK3y6EZYtEpAqpNhJpu0SkATX9Gt17RKQG0QgG4etUpAOFU2B2O1SkDTMjZ0s7VKQN2vMI7btUpAeOJWQQy2SkCGqQDOQbZKQLYxpNRvtkpAFiH+BpK2SkBWW86luLZKQGOJkF/ktkpA9emVsgy3SkDrN+YrN7dKQMXmEe10t0pAsFlcLcG3SkBgFlLZC7hKQNoM+QxNuEpABfbGWo24SkBQv+/fvLhKQOrLttPWuEpATj589OG4SkAlJGwu7bhKQCYt5SH4uEpAonOsnAe5SkDLqCc9HblKQNY8hiI4uUpAsmwlz1C5SkDOv5w0aLlKQMV3/M16uUpAIikXdIy5SkAGOj5anLlKQB2bt6CtuUpA6xshqL+5SkAaAmTo2LlKQMuVb8fluUpA7c9zVeq5SkA4Td5b7LlKQLpzsQ7suUpABv2L++q5SkDWldXP9rlKQIDkNzsIukpAKjOaphm6SkB2PXyZKLpKQAZ3piszukpASjNmtzu6SkCeboRFRbpKQG1/XCxWukpAqwzYH3K6SkAiv73GibpKQEKONjOfukpAGi3r/rG6SkCWD5E/vbpKQIqJsUy/ukpAG+E9rNy6SkDgteUS/bpKQFPp0r8ku0pA0yaeWEy7SkDjDSWkf7tKQBWZv52fu0pAxQn3yry7SkAa5vkd1LtKQP1juzHzu0pAXr6ghQS8SkDDRNN+ELxKQKhMgXEVvEpAYFeIWA68SkBTv7Z++rtKQNhbCTjfu0pAsiGImLe7SkCFKs9yj7tKQBBnc+Zou0pA4oMnmUG7SkDGwxUGG7tKQCO54Az+ukpAztBt0+m6SkAzMUEN37pKQKJvpY3ZukpAa1arwNq6SkCmsNsM3LpKQA==\",\"dtype\":\"float64\",\"order\":\"little\",\"shape\":[158]},\"MF_lng\":{\"__ndarray__\":\"Is0vlF0KGcCirRBWYwkZwEYcHfxpCBnA6/+YjBkHGcDY/2vlygUZwN/cgCrJBRnAwitqi8YFGcAu2eMquwUZwJmGXcqvBRnABDTXaaQFGcCSb3ztmQUZwEIZcJaSBRnAR9anHJMFGcBOk9+ikwUZwFRQFymUBRnAdr5lTpcFGcBVp8mMtwUZwDOQLcvXBRnAEnmRCfgFGcA6A9g2ewYZwGKNHmT+BhnArC4BU2EHGcD3z+NBxAcZwEp2xlJ/CBnAU3vGdNcIGcBbgMaWLwkZwDsli6DWCRnAG8pPqn0KGcDyaRSSzAoZwJehpkwgCxnAPNk4B3QLGcAKLywkBQsZwNiEH0GWChnAptoSXicKGcCmmDioswkZwOX8E1ysCBnAI6PJxRgIGcAGi+SGOgcZwOpy/0dcBhnAzVoaCX4FGcD8cnZ8xQQZwCqL0u8MBBnATrIvNDIDGcBmNRJXhAEZwBcXV6ap/xjAix4I2i7+GMAwUSiwpfwYwL5atABt+xjAWAi7cgf7GMBXV1+4zvoYwFHpy3eV+hjAq+sFVVn6GMAwsymyMfoYwNh0AwXe+RjAO87YPLP5GMBxDTLJyPkYwB+5Rao5+hjAQkmRxrL6GMCQNTNEX/sYwD4bE73n+xjAxkTujjH8GMCE5c5MMPwYwBoeZtQh/BjAGqrNpPL7GMDNH+Obt/sYwFqNRplo+xjAQleNyvL6GMAT00uMZfoYwCulLa7x+RjAwg1jdyb5GMA9xYGhWPgYwJrIkjmW9xjA3Ddz/tz2GMC0MYaDzvUYwJTz1Z8O9RjAgyOi83X0GMAIlBPtKvQYwM59kwH78xjAPBwj2SP0GMDVCA0OQPQYwNzDJFzI8xjA35f5Dn7yGMBEFEg/0PAYwDyJc3kY7xjA4ioVVFTtGMDee34YIewYwN384Nej6xjAedXJGYrrGMCYjM6ecOsYwC38OsuH6xjAiHUEy2zrGMAWxoH8EesYwEjP86eN6hjAAnHCKRjqGMCK5yEJsekYwG2ilXuB6RjAvzhcUITpGMA4/7/79OkYwEXGDs+36hjASFi/Pt/rGMDK3IzkPO0YwHMAeWXN7hjARU/rkWHwGMCiyA9LufEYwMoIyV3f8hjAv2y3E9vzGMDtLOUh+PQYwBjKPn4l9hjAbt3dFKD3GMBm2DisuvgYwOKXwK27+RjAGBb9/FL6GMDnzaeOVfoYwKIJfyt++BjAFoBWqlX1GMCojVXvFfIYwByQlD6+7hjALfcjoB3rGMAdnAQlu+gYwAjTrCKS5xjAWq7p5ofmGMBC3KwLieUYwK4Qd1Dk5BjAh6YN4l7kGMCa2J1J9uMYwEWGdqls4xjAqt0rqcniGMBjn9fpUeIYwDoPo9bq4RjAKy2Ob5ThGMAoPHg3YOEYwLZ3HbtV4RjAXqWBH9XgGMCe9IQlHuAYwHEciHZf3xjAKkfH1cjeGMBg1cSnpd4YwDVvm6kQ3xjAXhEMMajgGMAl1k3O9eIYwJQ30I365RjA9vnuVpboGMDCS8o4oesYwFELf+Hw7RjAjoMR+wTwGMCvsQBcf/EYwJkUL2AT8xjAtYPGAhX0GMBSAEFv4PQYwEbimvFs9RjAUGEhKdj1GMAuUpOFVPYYwEJFm+Pc9hjArc17Utz3GMDbdrF60fgYwI/0L0ll+hjAp8uDT877GMA2B4SMNv0YwA==\",\"dtype\":\"float64\",\"order\":\"little\",\"shape\":[158]},\"MF_vel\":{\"__ndarray__\":\"AAAAAAAAAADXFop9Dvw3QF3nc35iRUZAUFyK6gB/R0DNAMdVeLhIQE+LxkkimvQ/P7/nyNzOtz/uz4iQQRTDP2hgRc5MQsY/jtyAwpYK+T+SznRaaxj3Pwu2bXUFNbw/NsV7ko8Vmz+oHTYuZMuZPyWJUpiPFZs/q/ju7GJHsj+pUld/4tYTQNQcWmZUARFADofv/f7aEUAeJH+GSbsfQD4JQw0y11JAqymTa8whDEBX001Om1EJQHUQ5wbCMRRAKzUeO3EwAUC0Lm33CBgCQItzAtTHUA9AQEFEpv/SDUAwKIGe9Wr/P1XJ2i+1aAZA0I+TeJ709j/rvOCXu7MSQIGvHZ0wCkVAjdhqGru3EUBaFQywS3EIQIhWb5pgNhtAXpdUHQfp/z8h4Aokzx4iQMzYDBg3EB9ARXpt0uVOIEA9hyNmo+cgQPRz9HnxVQ9AzFiso/8PIUBLrk5GloYoQO692LuRPyxAMlPCRilBJEA2DT2ntUkmQMixcWi4BSBAoG1T6bJPDEBD4aiWQo39P2juYfW9fAJAWFlnvd8gAUCXLq3Ac4b2P0PtX64KzRBAR6GGAPMkF0A7a1prTLsYQEJ6oyAOVwxAjrCsKMsJHEBLfCPTo44VQClEVa5HFQ9AoZMixI07E0A3mDDRKkwFQGDDYL729A1AE0bWRE03GEDu+9p1+9wZQMDLPSwnaBpAE5NDPv5NI0A4udQkUuUhQAg+5pBjSBhAp+E64gcSG0Djd4C/dNsaQFT9UTuGNhlAEW6y1oYTEkDK2+4OY+wcQA4mPx8FjBpARPGv4HFAGUDQNV5IKagaQHmjSHkdCg5A9rBuUnqUGEDk+hKwU5cjQPzELLm9OChABhpux22UJ0CeimC14VYwQN427P8NxCBAJ5fpuWEgJEC+d0Qa49MkQPva3aBT5x9Avnyg6XgoFkC9ZvnyHkQaQIA02BlaTxxAAKOUzyl5HkBFCJEGadMbQLJgpuW+PSVAFDphK+ZwK0C167mANkgoQLkv1vV2KSRAQexI7tyxKUB+/8FHA2QgQHITqg4ONRRAkrNiaoX0D0BOaTWlvksTQGiohcXJwhZAMyHUfY4HF0B1aucxobQVQAbXsFt7lBdA4voZ0p8QFUAkUYXj5nQUQKZRZKAj4RJA4he2gCQkGUBnI9pjtO4TQPDqZJvW4A9AvV9pwSGGC0CtwvTtJA8TQI7MmSYaGApAxC7+mukLFEDSkF4pvBUkQMlrPXZHGChAft4mClVqJkBiOguX2vcfQJBIeiSX6Q9AgxPoM+PtF0BYxnRqGJMMQOGxVp45BgZA5EsXFy/OA0DWrK7lkqQBQOMLq5of3gpA9MOPAly4A0Dqp1lDeez5P8jkMioWLhFASxrX/L21CUDFOzdDqfkBQA/zO8F6udY/SITYC3p6BEDa4M5mE+IXQGPNLyhMIx5A6phRM7L1G0Apw2zmI9gJQHG+OBsIYxZAydUuNiZCG0AWTMU3U8kiQOF5y1lEjgpAu6zMGfEOIUC7hRhHuzQlQCjzkMj3KR5ANTyYHwsVGkCLAjwTJHAXQAIjMLYvEB1ADd+Yc8wxG0AH4l1rX7AeQDK9P/3XIhtAnoKz3p4+G0AMUoEibF4cQCa4C2H52xRAItbjNgz6EUD23V0ZgdYMQF804j6NzxNAEX0GXjhQEkArRj1lyb4CQA==\",\"dtype\":\"float64\",\"order\":\"little\",\"shape\":[158]},\"acc\":{\"__ndarray__\":\"AAAAAAAAAABfXp6k8/xiP53eIkupB2U/AAAAAAAAAAAAAAAAAAAAAExMlx2xtwRAA9G9KLsadT8Uw4cbOISXPwAAAAAAAAAAAAAAAAAAAADSgoJW6QIDQPkIh09+kJo/AAAAAAAAAAAAAAAAAAAAAAAAAAAAAAAAAAAAAAAAAADpid17NAv2PwAAAAAAAAAAAAAAAAAAAABARtZT2Q3sPwAAAAAAAAAAAAAAAAAAAAAAAAAAAAAAAGMpmTilLt8/AAAAAAAAAAAAAAAAAAAAALq7cNupRtw/AAAAAAAAAAAAAAAAAAAAAA1bOHUvsdI/AAAAAAAAAADRFtV1Ey3uPwAAAAAAAAAAAAAAAAAAAAAAAAAAAAAAAJPB5JXDqu0/AAAAAAAAAAASxSOXOWH0PwAAAAAAAAAAAAAAAAAAAABPrWmbMWDxPwAAAAAAAAAAk2qW2KeO8j8qPu7u4QPzP2/SMc6x+9M/ZkI1bIEIuD87/LW/zWvAP/yFrmqbaM0/AAAAAAAAAAAAAAAAAAAAAMEZ2aht3sU/TuUhzKrIwz/EgKxmhZSwP30wUIh3r+U/JM1MzdC73z9VuVxK6ZzPP7X/M8cAIMA/p40rOFi/cT98YoZP/YC+P9ODu19F6sM/ZWpIOT4W2T807f9ogAWXP0QvHF6YwdI/JNFSbrus5D+KbFgjNPrKP+1zwiW/F94/PTepyKeS5z+bBQU2LKPRPwAAAAAAAAAARwfLyqDB2T+5CJd9ZBLSP4mpy1v3d9Y/umplonVOxz9lVIwg4OrjP+rVVzZj3dg/FZsI+UDDqj8mop5qM4DgPwAAAAAAAAAAbJie115+4D9FQAemDurEPxprNf7/MuU/p31P+tUD5T9ZLyZJCm7nP8ToRcL09ak/j/tGZEAu4T/htkac/U7oP63zks00Gco/AAAAAAAAAABMlgmXRs3OPwkgct3pbeU/k6vMyXxB5j+nnqT6/1DSP9gqSMjSh+o/WXDCbYlX7j964t2lCpTjPxMutHNZub0/Z5PX2BHo1T8gkCWGetnOP3nIG0B/0NI/Fjom8Ay71j9Nzsn4qJnOP8Ze+bSAJNU/zd1corMH2D9PAZftKtTJP0+O6pHyjNY/cN2ov6VDsz9Tw0tNd87TP4QE7kXiI9E/gLvdE/fB3T9KZruq6B7QP2deWd9zR7c/tRUGpgAzyT9y2lNgN5DhP5ImsmF+etQ/31n+FTaJ0T/wRkm8OaO2P03Tpsw5Oso/dNmbVSVF4D9KcN/o4HfOP+Y+BiEyWL0/AAAAAAAAAABsTCdtRIuwPxiGBGt7Ns0/SEGPXCF0wT+p4/3jvX/CPzjoq4kODtU/GBQ0te1YvT8AAAAAAAAAADXMS2y7aWU/Fs50D1j8eT/KAkkJpAmHP5WTcW90pLU/lGBy9K2P0j8Ps7AEEr3LPxeoHew8cNY/IlIIIW/FwD/j19vi4Ja3P1zD6DtrSNY/3EeBYECa5j8asmOC7NzlP+W+7uThv7E/AAAAAAAAAADy9hpGM2HfP7bOZaed29U/TblKBHOe4D+ZODX4xEHUP+u6h9CtFdc/+eF6RJTc1T/UQ1cumuzVP1gTx+wLPNo/hB0MaKoL0j/Y9LrlXVbWP6tpuTht6HM/4QMaPt//1j+PQsQdUc/AP11zYo0+CuI/AAAAAAAAAAAAAAAAAAAAAA==\",\"dtype\":\"float64\",\"order\":\"little\",\"shape\":[158]},\"block_id\":[41018,41018,41018,41018,41018,41018,41018,41018,41018,41018,41018,41018,41018,41018,41018,41018,41018,41018,41018,41018,41018,41018,41018,41018,41018,41018,41018,41018,41018,41018,41018,41018,41018,41018,41018,41018,41018,41018,41018,41018,41018,41018,41018,41018,41018,41018,41018,41018,41018,41018,41018,41018,41018,41018,41018,41018,41018,41018,41018,41018,41018,41018,41018,41018,41018,41018,41018,41018,41018,41018,41018,41018,41018,41018,41018,41018,41018,41018,41018,41018,41018,41018,41018,41018,41018,41018,41018,41018,41018,41018,41018,41018,41018,41018,41018,41018,41018,41018,41018,41018,41018,41018,41018,41018,41018,41018,41018,41018,41018,41018,41018,41018,41018,41018,41018,41018,41018,41018,41018,41018,41018,41018,41018,41018,41018,41018,41018,41018,41018,41018,41018,41018,41018,41018,41018,41018,41018,41018,41018,41018,41018,41018,41018,41018,41018,41018,41018,41018,41018,41018,41018,41018,41018,41018,41018,41018,41018,41018],\"congestion\":[false,false,false,false,false,false,false,false,false,false,false,false,false,false,false,false,false,false,false,false,false,false,false,false,false,false,false,false,false,false,false,false,false,false,false,false,false,false,false,false,false,false,false,false,false,false,false,false,false,false,false,false,false,false,false,false,false,false,false,false,false,false,false,false,false,false,false,false,false,false,false,false,false,false,false,false,false,false,false,false,false,false,false,false,false,false,false,false,false,false,false,false,false,false,false,false,false,false,false,false,false,false,false,false,false,false,false,false,false,false,false,false,false,false,false,false,false,false,false,false,false,false,false,false,false,false,false,false,false,false,false,false,false,false,false,false,false,false,false,false,false,false,false,false,false,false,false,false,false,false,false,false,false,false,false,false,false,false],\"datetime\":{\"__ndarray__\":\"AACaWmLCc0IAgB9kYsJzQgAAQGliwnNCAAAibmLCc0IAgMVyYsJzQgCAQnNiwnNCAICnd2LCc0IAAMh8YsJzQgAALYFiwnNCAACqgWLCc0IAACeCYsJzQgCATYZiwnNCAIAvi2LCc0IAAFCQYsJzQgAAMpViwnNCAIBSmmLCc0IAgLeeYsJzQgAA2KNiwnNCAAC6qGLCc0IAgF2tYsJzQgCA2q1iwnNCAIA/smLCc0IAgCG3YsJzQgAAQrxiwnNCAAAkwWLCc0IAgMfFYsJzQgCAqcpiwnNCAADKz2LCc0IAAC/UYsJzQgCAT9liwnNCAABS42LCc0IAALfnYsJzQgAANOhiwnNCAIDX7GLCc0IAgLnxYsJzQgAA2vZiwnNCAIDcAGPCc0IAgEEFY8JzQgAAYgpjwnNCAABED2PCc0IAgOcTY8JzQgAA6h1jwnNCAABPImPCc0IAgG8nY8JzQgCAUSxjwnNCAAByMWPCc0IAAFQ2Y8JzQgCAdDtjwnNCAIDZP2PCc0IAAPpEY8JzQgAAX0ljwnNCAIB/TmPCc0IAgN5TY8JzQgAAglhjwnNCAABkXWPCc0IAgAdiY8JzQgAACmxjwnNCAADscGPCc0IAAM51Y8JzQgCA7npjwnNCAACSf2PCc0IAAHSEY8JzQgCAlIljwnNCAIB2jmPCc0IAABqTY8JzQgAA/JdjwnNCAICfnGPCc0IAgIGhY8JzQgAAoqZjwnNCAAABrGPCc0IAAOOwY8JzQgAAy7RjwnNCAIDruWPCc0IAgM2+Y8JzQgAA7sNjwnNCAICRyGPCc0IAgPDNY8JzQgAAfNZjwnNCAICE32PCc0IAAKXkY8JzQgAAh+ljwnNCAICn7mPCc0IAgAzzY8JzQgAALfhjwnNCAAAP/WPCc0IAgLIBZMJzQgCAlAZkwnNCAAC1C2TCc0IAAJcQZMJzQgCAtxVkwnNCAIAcGmTCc0IAAD0fZMJzQgAAHyRkwnNCAIDCKGTCc0IAAOMtZMJzQgAAQjNkwnNCAIBoN2TCc0IAgEo8ZMJzQgCALEFkwnNCAABNRmTCc0IAAC9LZMJzQgCA0k9kwnNCAIC0VGTCc0IAANVZZMJzQgAAt15kwnNCAACZY2TCc0IAgLloZMJzQgAA2m1kwnNCAAA/cmTCc0IAAKR2ZMJzQgAAA3xkwnNCAIAjgWTCc0IAgIiFZMJzQgAADo9kwnNCAIAQmWTCc0IAADGeZMJzQgAAlqJkwnNCAIC2p2TCc0IAgJisZMJzQgCAdLJkwnNCAAAetmTCc0IAgLu7ZMJzQgCAncBkwnNCAIACxWTCc0IAAKbJZMJzQgAAiM5kwnNCAADJ2GTCc0IAgLnlZMJzQgCAHupkwnNCAAA/72TCc0IAAKTzZMJzQgCAxPhkwnNCAADHAmXCc0IAAKkHZcJzQgCATAxlwnNCAIAuEWXCc0IAgF0eZcJzQgCAPyNlwnNCAABgKGXCc0IAAMUsZcJzQgCAID1lwnNCAABBQmXCc0IAgORGZcJzQgCAxktlwnNCAADnUGXCc0IAAMlVZcJzQgCAbFplwnNCAIDLX2XCc0IAAG9kZcJzQgAAUWllwnNCAAAzbmXCc0IAgNZyZcJzQgCAuHdlwnNCAADZfGXCc0IAALuBZcJzQgCA24ZlwnNCAIC9i2XCc0IAAEOVZcJzQg==\",\"dtype\":\"float64\",\"order\":\"little\",\"shape\":[158]},\"day\":[10,10,10,10,10,10,10,10,10,10,10,10,10,10,10,10,10,10,10,10,10,10,10,10,10,10,10,10,10,10,10,10,10,10,10,10,10,10,10,10,10,10,10,10,10,10,10,10,10,10,10,10,10,10,10,10,10,10,10,10,10,10,10,10,10,10,10,10,10,10,10,10,10,10,10,10,10,10,10,10,10,10,10,10,10,10,10,10,10,10,10,10,10,10,10,10,10,10,10,10,10,10,10,10,10,10,10,10,10,10,10,10,10,10,10,10,10,10,10,10,10,10,10,10,10,10,10,10,10,10,10,10,10,10,10,10,10,10,10,10,10,10,10,10,10,10,10,10,10,10,10,10,10,10,10,10,10,10],\"delay\":[0,0,0,0,0,0,0,0,0,0,0,43,43,43,43,43,43,43,43,43,43,43,43,43,43,43,43,43,43,43,43,43,43,43,43,43,43,43,43,43,43,43,43,6,6,30,45,45,45,76,76,76,76,36,-3,-3,-3,19,34,34,34,64,64,64,64,44,8,8,25,6,6,6,6,-19,-34,-15,-15,-15,-46,-46,-46,-77,-77,-77,-77,-106,-106,-78,-78,-156,-156,-156,-156,-156,-191,-191,-236,-304,-360,-360,-360,-360,-360,-360,-360,-335,-335,-335,-335,-335,-315,-315,-315,-348,-391,-391,-391,-417,-417,-417,-398,-398,-398,-382,-382,-382,-400,-348,-328,-309,-287,-287,-362,-362,-337,-320,-289,-289,-289,-269,-220,-200,-200,-180,-180,-161,-161,-138,-138,-115,-115,-89,-70,-70,-43,-43,-43,-43],\"dist_from_old_point\":{\"__ndarray__\":\"AAAAAAAAAACtO0TlODQMQL+IN1EZHfI/AAAAAAAAAAAAAAAAAAAAAExMlx2xtyRAiDyQ39S1+j+Hb7ZTYkEkQAAAAAAAAAAAAAAAAAAAAADSgoJW6QIjQCJxx5ce/R1AAAAAAAAAAAAAAAAAAAAAAAAAAAAAAAAAAAAAAAAAAACLYsRsLuZ7QAAAAAAAAAAAAAAAAAAAAACIlJy7w8dzQAAAAAAAAAAAAAAAAAAAAAAAAAAAAAAAACbsP0+t22pAAAAAAAAAAAAAAAAAAAAAAKkScLM0F2ZAAAAAAAAAAAAAAAAAAAAAAG0Kd2CdGWBAAAAAAAAAAABx2JBQhhhzQAAAAAAAAAAAAAAAAAAAAAAAAAAAAAAAALyIm3aVjXlAAAAAAAAAAABsRUnjDMt5QAAAAAAAAAAAAAAAAAAAAABlBSj0pYB4QAAAAAAAAAAA414ebox8d0CLNEwa2GCAQMzYLdJFOV9Asd+zeVOzREAdWox7cahJQGlSY92ZVFlAAAAAAAAAAAAAAAAAAAAAAJjEssmCrUtAAjLTHFcKUUByIx42zFg/QGEUOY9vlG5AQwBkILvKaECtYO58IkpWQIUcA0eJeGpAVA3E1/m6+z/w/CDmxdRHQAwD9cBIJ1FABI9j3y6wYUBQ8QdSTPwhQLZGD72/J2BAZLMwbvImcECH2OvCaQVTQJHqf1WNgmdAc0/7TOeecEDC2GcU9Y5bQAAAAAAAAAAA4eyz/wlZaECh/TsEvTxcQImpy1v3d1ZAblpgUhQTVEDeQ9sy/h5vQMGnTvSvamVAWZGWT6veMkCQ6pM1YTJvQAAAAAAAAAAARcfDS/IMhkDcPgGemQNSQKy7mf7Xj3BAuncZzs0ZckDuU5QERadtQP02VVFZXDZAEOmunETYakDy26/QsSNxQF/OmkCxY1RAAAAAAAAAAABrff8lXxBYQJjMPO8rdXJAJwln7+EqbEBNlcX2iI1fQHlheKwcunRAN5jjZbhkdUCSnd0rA91wQI5TYI82GUxAZ13LJfy6WECZWM245xlYQD1pK9TGZV1ACO3YpByUY0AsqV0CDOhXQKWmM3950F1ASI3YVgTGYkChkKT5Pj9WQC0//4EdnmFA/tl3+7IZPkC9wRPCVQ9hQMgFd8rQhl1Ap1CSWr7UYkB3LRV4HmdUQD57IomLAUZAsz0AD260VUB5IOoVhjpmQMvdnDjyan5ACcuaCX/JfECaHa06l39DQLeRgZPYmFBAmnl5UB0HbEC5j+61p81XQGKDkzKcgVBAAAAAAAAAAAB2Gscy5BdBQMOIm2uQ0lZAn04lOfoWRkAKBoHGIhZKQGxNjlv7cmBAT1uTvhhHaUAAAAAAAAAAAHPuDzXRGes/gxtQ2dlhBkCIZ8CbMygNQJ5T/UkmpEJACsOIUF14fkDjC6oTtqtVQAnS9ehFpF9AVQCdo300SkByAoGZKctwQJ/YzcaTaGFAZVofc9x3c0BqLQZVm6trQBbndQHbc3NAAAAAAAAAAAAeA+6mCCBmQH6JxyqTE2FAN7lkIvSgbEBvKNPDw6ZfQEuzhw3JRmBAnSm8KISqZECmDllrpepeQB2H+1DpfmRAHu6SQjoyXEBFo/Royn9fQBq1oagqG/8/WGj9yGPPY0D/p4K+7kNKQL2YjsGlE29AAAAAAAAAAAAAAAAAAAAAAA==\",\"dtype\":\"float64\",\"order\":\"little\",\"shape\":[158]},\"hour\":[20,20,20,20,20,20,20,20,20,20,20,20,20,20,20,20,20,20,20,20,20,20,20,20,20,20,20,20,20,20,20,20,20,20,20,20,20,20,20,20,20,20,20,20,20,20,20,20,20,20,20,20,20,20,20,20,20,20,20,20,20,20,20,20,20,20,20,20,20,20,20,20,20,20,20,20,20,20,20,20,20,20,20,20,20,20,20,20,20,20,20,20,20,20,20,21,21,21,21,21,21,21,21,21,21,21,21,21,21,21,21,21,21,21,21,21,21,21,21,21,21,21,21,21,21,21,21,21,21,21,21,21,21,21,21,21,21,21,21,21,21,21,21,21,21,21,21,21,21,21,21,21,21,21,21,21,21,21],\"index\":[1507267,1507950,1508422,1508812,1509080,1509263,1509551,1509940,1510374,1510389,1510498,1510760,1511156,1511479,1511968,1512365,1512718,1513157,1513515,1513896,1513965,1514307,1514674,1515013,1515508,1515805,1516228,1516604,1516887,1517373,1518113,1518509,1518554,1518903,1519216,1519689,1520391,1520783,1521149,1521508,1521878,1522594,1522936,1523352,1523594,1524018,1524466,1524814,1525165,1525539,1525905,1526192,1526689,1527009,1527376,1527748,1528399,1528876,1529207,1529645,1529956,1530299,1530613,1531006,1531367,1531681,1532093,1532452,1532714,1533150,1533467,1533748,1534213,1534567,1534863,1535255,1535659,1536241,1536840,1537246,1537520,1537884,1538224,1538591,1538930,1539276,1539625,1539998,1540382,1540648,1540992,1541387,1541736,1542008,1542426,1542742,1543044,1543452,1543813,1544137,1544529,1544819,1545135,1545537,1545909,1546220,1546631,1546945,1547221,1547587,1547938,1548233,1548611,1549258,1550009,1550332,1550699,1551024,1551331,1551503,1551866,1552224,1552598,1552916,1553205,1553589,1554228,1555192,1555587,1555892,1556163,1556584,1557215,1557614,1557922,1558226,1559099,1559445,1559835,1560086,1561215,1561596,1561897,1562195,1562586,1562898,1563196,1563581,1563886,1564181,1564512,1564840,1565163,1565474,1565840,1566143,1566514,1567111],\"journey_id\":[\"041C0001\",\"041C0001\",\"041C0001\",\"041C0001\",\"041C0001\",\"041C0001\",\"041C0001\",\"041C0001\",\"041C0001\",\"041C0001\",\"041C0001\",\"041C0001\",\"041C0001\",\"041C0001\",\"041C0001\",\"041C0001\",\"041C0001\",\"041C0001\",\"041C0001\",\"041C0001\",\"041C0001\",\"041C0001\",\"041C0001\",\"041C0001\",\"041C0001\",\"041C0001\",\"041C0001\",\"041C0001\",\"041C0001\",\"041C0001\",\"041C0001\",\"041C0001\",\"041C0001\",\"041C0001\",\"041C0001\",\"041C0001\",\"041C0001\",\"041C0001\",\"041C0001\",\"041C0001\",\"041C0001\",\"041C0001\",\"041C0001\",\"041C0001\",\"041C0001\",\"041C0001\",\"041C0001\",\"041C0001\",\"041C0001\",\"041C0001\",\"041C0001\",\"041C0001\",\"041C0001\",\"041C0001\",\"041C0001\",\"041C0001\",\"041C0001\",\"041C0001\",\"041C0001\",\"041C0001\",\"041C0001\",\"041C0001\",\"041C0001\",\"041C0001\",\"041C0001\",\"041C0001\",\"041C0001\",\"041C0001\",\"041C0001\",\"041C0001\",\"041C0001\",\"041C0001\",\"041C0001\",\"041C0001\",\"041C0001\",\"041C0001\",\"041C0001\",\"041C0001\",\"041C0001\",\"041C0001\",\"041C0001\",\"041C0001\",\"041C0001\",\"041C0001\",\"041C0001\",\"041C0001\",\"041C0001\",\"041C0001\",\"041C0001\",\"041C0001\",\"041C0001\",\"041C0001\",\"041C0001\",\"041C0001\",\"041C0001\",\"041C0001\",\"041C0001\",\"041C0001\",\"041C0001\",\"041C0001\",\"041C0001\",\"041C0001\",\"041C0001\",\"041C0001\",\"041C0001\",\"041C0001\",\"041C0001\",\"041C0001\",\"041C0001\",\"041C0001\",\"041C0001\",\"041C0001\",\"041C0001\",\"041C0001\",\"041C0001\",\"041C0001\",\"041C0001\",\"041C0001\",\"041C0001\",\"041C0001\",\"041C0001\",\"041C0001\",\"041C0001\",\"041C0001\",\"041C0001\",\"041C0001\",\"041C0001\",\"041C0001\",\"041C0001\",\"041C0001\",\"041C0001\",\"041C0001\",\"041C0001\",\"041C0001\",\"041C0001\",\"041C0001\",\"041C0001\",\"041C0001\",\"041C0001\",\"041C0001\",\"041C0001\",\"041C0001\",\"041C0001\",\"041C0001\",\"041C0001\",\"041C0001\",\"041C0001\",\"041C0001\",\"041C0001\",\"041C0001\",\"041C0001\",\"041C0001\",\"041C0001\",\"041C0001\",\"041C0001\",\"041C0001\",\"041C0001\",\"041C0001\"],\"lat\":{\"__ndarray__\":\"CS3r/rGsSkCgqkIDsaxKQKCqQgOxrEpAoKpCA7GsSkCgqkIDsaxKQEIKnkKurEpAdktywK6sSkCsjEY+r6xKQKyMRj6vrEpArIxGPq+sSkCR2y+frKxKQPRsVn2urEpA9GxWfa6sSkD0bFZ9rqxKQPRsVn2urEpA9GxWfa6sSkCfHXBdMa1KQJ8dcF0xrUpAnx1wXTGtSkDfb7Tjhq1KQN9vtOOGrUpA32+044atSkDfb7Tjhq1KQCl9IeS8rUpAKX0h5LytSkApfSHkvK1KQLkZbsDnrUpAuRluwOetSkC5GW7A561KQJQyqaENrkpAlDKpoQ2uSkCbVgqBXK5KQJtWCoFcrkpAm1YKgVyuSkCbVgqBXK5KQPNy2H3HrkpA83LYfceuSkBF71TAPa9KQEXvVMA9r0pARe9UwD2vSkCYGqGfqa9KQJgaoZ+pr0pANMLbgxCwSkABFY4glbBKQBQ/xty1sEpAi8BY38CwSkBVNNb+zrBKQPTJiuHqsEpA9MmK4eqwSkD0yYrh6rBKQKqezD/6sEpAuCIxQQ2xSkAGRfMAFrFKQL9GkiBcsUpAoSb6fJSxSkB6aYoAp7FKQCkIHt/esUpAX0nyXN+xSkAzaykg7bFKQO5gxD4BskpA3jmUoSqySkD76qpALbJKQJMUWABTskpAx2eyf56ySkBozY+/tLJKQLLa/L/qskpAE36pnzezSkCTxmgdVbNKQJPGaB1Vs0pAjrETXoKzSkBI+N7foLNKQI/ecB+5s0pANzXQfM6zSkA0wtuDELRKQKJBCp5CtEpAHJPF/Ue0SkARk3Ahj7RKQBGTcCGPtEpAHOc24V61SkCzOjlDcbVKQNkJL8GptUpAB+v/HOa1SkAZ529CIbZKQEtYG2MntkpAtTf4wmS2SkAg7X+AtbZKQPaTMT7MtkpA9pMxPsy2SkCIeyx96LZKQPcdw2M/t0pA+8+aH3+3SkDGGcOcoLdKQDz+CwQBuEpAILqgvmW4SkBozY+/tLhKQFqg3SHFuEpApKfIIeK4SkC77Ned7rhKQB/5g4HnuEpAZAlrY+y4SkCLHY1D/bhKQKXUJeMYuUpAIk28Azy5SkDzAuyjU7lKQJbtQ95yuUpA0wyponi5SkA7dHrejblKQPLkmgKZuUpAv3lx4qu5SkATQgddwrlKQD3yBwPPuUpAPfiJA+i5SkDcY+lDF7pKQDlcqz3suUpAu2QcI9m5SkC7ZBwj2blKQMu4qYHmuUpAYRIu5BG6SkBLWBtjJ7pKQAvuBzwwukpAC+4HPDC6SkBG7BNAMbpKQC8yAb9GukpAmwXaHVK6SkCyFp8CYLpKQBBCQL6EukpAgq59Ab26SkCCrn0BvbpKQDQRNjy9ukpA7DAm/b26SkCCrn0BvbpKQEIQIEPHukpAWmQ730+7SkAQOX09X7tKQDQyyF2Eu0pABOJ1/YK7SkCNk8K8x7tKQFAcQL/vu0pAfmySH/G7SkDUf9b8+LtKQHpXPWAevEpAelc9YB68SkBKvDydK7xKQPuT+NwJvEpAZLX5f9W7SkA1XyUfu7tKQBNm2v6Vu0pAhJm2f2W7SkAawFsgQbtKQBnkLsIUu0pAUu+pnPa6SkCIpYEf1bpKQFJkraHUukpAcjYdAdy6SkARxk/j3rpKQHgnnx7bukpAeCefHtu6SkB4J58e27pKQA==\",\"dtype\":\"float64\",\"order\":\"little\",\"shape\":[158]},\"lat_m\":{\"__ndarray__\":\"jfEqiariWkG1Eh4jqeJaQbUSHiOp4lpBtRIeI6niWkG1Eh4jqeJaQZr6kzil4lpB1FCa66XiWkEuq6CepuJaQS6roJ6m4lpBLqugnqbiWkFDTtTjouJaQaZ3H4yl4lpBpncfjKXiWkGmdx+MpeJaQaZ3H4yl4lpBpncfjKXiWkFMDK7CX+NaQUwMrsJf41pBTAyuwl/jWkFA9tt02eNaQUD223TZ41pBQPbbdNnjWkFA9tt02eNaQUHJI00m5FpBQckjTSbkWkFBySNNJuRaQfI6XEtj5FpB8jpcS2PkWkHyOlxLY+RaQdKuezOZ5FpB0q57M5nkWkEa9wVzCeVaQRr3BXMJ5VpBGvcFcwnlWkEa9wVzCeVaQZXiPLih5VpBleI8uKHlWkGlBvwLSuZaQaUG/AtK5lpBpQb8C0rmWkFW6+iZ4+ZaQVbr6Jnj5lpBlI+gE3bnWkEWAcXgMuhaQRlFfXxh6FpBmYefKXHoWkFZG3hFhehaQQY/7vms6FpBBj/u+azoWkEGP+75rOhaQUN30dvC6FpBkmuc693oWkEG+tBg6uhaQYSp9TpO6VpB3kEqfZ7pWkHEKInauOlaQQgbpmoI6lpBtRXYHQnqWkHgD1a3HOpaQTBXhV456lpB3zFaT3TqWkGM5BwLeOpaQcSIQ86t6lpBteuuVRnrWkGUkm4GOetaQX1nafGF61pB3X6ycfPrWkFUYC50HexaQVRgLnQd7FpBKBXI6l3sWkHCVExgiexaQXtWhuur7FpBL3pAW8rsWkEjgERsKO1aQTcn681v7VpBwKD7dXftWkGRAaXR3O1aQZEBpdHc7VpB15aG2ATvWkHgbccKH+9aQSz+NYxv71pB80IwkcXvWkFSXsLcGfBaQeajepgi8FpBnjwWEnrwWkFhGzMn7fBaQdYGZ5EN8VpB1gZnkQ3xWkEyrJTUNfFaQXBwm7Sx8VpBgxm+jwzyWkGZy61NPPJaQV18O77F8lpBNHAHXFXzWkGaOgsCxvNaQV4Bwl7d81pBKEvLuAb0WkHChz2GGPRaQTBFhmIO9FpBkrrVWBX0WkHfsjdpLfRaQeZuRM1U9FpBMUbt5Ib0WkGNFvqVqPRaQTNslB7V9FpB8BMSWN30WkEWJi6g+/RaQb1IsYML9VpBAHGcbib1WkEpKqB9RvVaQVEDoIdY9VpBTeMSMHz1WkHAx3OUv/VaQaCRbjeC9VpB3pNy+Gb1WkHek3L4ZvVaQXnrugl69VpBWTBL6rf1WkF4MfmS1vVaQeoLaTHj9VpB6gtpMeP1WkG0TFCk5PVaQVeVK00D9lpBTC36hBP2WkH26R9WJ/ZaQZmyGbtb9lpBLcID/Kv2WkEtwgP8q/ZaQfeGxk+s9lpBDV39Yq32WkEtwgP8q/ZaQZFMVZ269lpBi8ixfX33WkFcxkpqk/daQYLVVmHI91pBpduzasb3WkFh8DR/KPhaQb0nf5Rh+FpBTzEsi2P4WkHTtJ3DbvhaQZm16Ruk+FpBmbXpG6T4WkHC/Vv/tvhaQbGndNeG+FpBzgbYITz4WkHs9X9/FvhaQW5D64fh91pBCIkJWJz3WkGw+Yd0aPdaQVtxhCkp91pBrP5gKP72WkH6E/FizvZaQd6Ac6/N9lpBy9PQM9j2WkFMU9VQ3PZaQREyu/DW9lpBETK78Nb2WkERMrvw1vZaQQ==\",\"dtype\":\"float64\",\"order\":\"little\",\"shape\":[158]},\"line_id\":[\"41.0\",\"41.0\",\"41.0\",\"41.0\",\"41.0\",\"41.0\",\"41.0\",\"41.0\",\"41.0\",\"41.0\",\"41.0\",\"41.0\",\"41.0\",\"41.0\",\"41.0\",\"41.0\",\"41.0\",\"41.0\",\"41.0\",\"41.0\",\"41.0\",\"41.0\",\"41.0\",\"41.0\",\"41.0\",\"41.0\",\"41.0\",\"41.0\",\"41.0\",\"41.0\",\"41.0\",\"41.0\",\"41.0\",\"41.0\",\"41.0\",\"41.0\",\"41.0\",\"41.0\",\"41.0\",\"41.0\",\"41.0\",\"41.0\",\"41.0\",\"41.0\",\"41.0\",\"41.0\",\"41.0\",\"41.0\",\"41.0\",\"41.0\",\"41.0\",\"41.0\",\"41.0\",\"41.0\",\"41.0\",\"41.0\",\"41.0\",\"41.0\",\"41.0\",\"41.0\",\"41.0\",\"41.0\",\"41.0\",\"41.0\",\"41.0\",\"41.0\",\"41.0\",\"41.0\",\"41.0\",\"41.0\",\"41.0\",\"41.0\",\"41.0\",\"41.0\",\"41.0\",\"41.0\",\"41.0\",\"41.0\",\"41.0\",\"41.0\",\"41.0\",\"41.0\",\"41.0\",\"41.0\",\"41.0\",\"41.0\",\"41.0\",\"41.0\",\"41.0\",\"41.0\",\"41.0\",\"41.0\",\"41.0\",\"41.0\",\"41.0\",\"41.0\",\"41.0\",\"41.0\",\"41.0\",\"41.0\",\"41.0\",\"41.0\",\"41.0\",\"41.0\",\"41.0\",\"41.0\",\"41.0\",\"41.0\",\"41.0\",\"41.0\",\"41.0\",\"41.0\",\"41.0\",\"41.0\",\"41.0\",\"41.0\",\"41.0\",\"41.0\",\"41.0\",\"41.0\",\"41.0\",\"41.0\",\"41.0\",\"41.0\",\"41.0\",\"41.0\",\"41.0\",\"41.0\",\"41.0\",\"41.0\",\"41.0\",\"41.0\",\"41.0\",\"41.0\",\"41.0\",\"41.0\",\"41.0\",\"41.0\",\"41.0\",\"41.0\",\"41.0\",\"41.0\",\"41.0\",\"41.0\",\"41.0\",\"41.0\",\"41.0\",\"41.0\",\"41.0\",\"41.0\",\"41.0\",\"41.0\",\"41.0\",\"41.0\",\"41.0\",\"41.0\",\"41.0\",\"41.0\"],\"lng\":{\"__ndarray__\":\"DR07qMQFGcC94xQdyQUZwG2q7pHNBRnAbarukc0FGcBtqu6RzQUZwC9uowG8BRnAL26jAbwFGcCEDU+vlAUZwIQNT6+UBRnAhA1Pr5QFGcD2l92ThwUZwKG+ZU6XBRnAob5lTpcFGcChvmVOlwUZwKG+ZU6XBRnAob5lTpcFGcD1SlmGOAYZwPVKWYY4BhnA9UpZhjgGGcBpccYwJwgZwGlxxjAnCBnAaXHGMCcIGcBpccYwJwgZwJOKxtrfCRnAk4rG2t8JGcCTisba3wkZwMqpnWFqCxnAyqmdYWoLGcDKqZ1hagsZwM+goX+CCxnAz6Chf4ILGcDOVl7yPwkZwM5WXvI/CRnAzlZe8j8JGcDOVl7yPwkZwAuW6gJeBhnAC5bqAl4GGcA83uS36AQZwDze5LfoBBnAPN7kt+gEGcD2DrdDwwIZwPYOt0PDAhnA6KG2DaMAGcCxbVFmg/wYwLNGPUSj+xjAPDQsRl37GMAwDFhyFfsYwK/RcqCH+hjAr9FyoIf6GMCv0XKgh/oYwBsOSwM/+hjA9Bd6xOj5GMBJtyVywfkYwPaZsz7l+BjAn5Cdt7H5GMArSgnBqvoYwF1y3Ckd/BjA8Ief/x78GMB+N92yQ/wYwAYN/RNc/BjAzhlR2hv8GMAYlj/fFvwYwOCik6XW+xjAf/PixFf7GMCGWWjnNPsYwJI9Qs2Q+hjApIeh1cn5GMD1DUxuFPkYwPUNTG4U+RjAfGRz1Tz3GMD60tufi/YYwHiY9s399RjAOjquRnb1GMAt76oHzPMYwNgtAmN98xjApcLYQpDzGMAUyy2thvQYwBTLLa2G9BjAUwd5PZj0GMDRzJNrCvQYwMtpT8k58RjAIO9VKxPuGMANObaeIewYwC9QUmAB7BjADvW7sDXrGMC5/l2fOesYwBl0Quig6xjAGXRC6KDrGMDJ42n5gesYwPci2o6p6xjAgV1NnrLqGMDdBrXf2ukYwBKifEEL6RjAZwxzgjbpGMCfc7frpekYwO8DkNrE6RjAd/aVB+npGMBvgm+aPusYwKrv/KIE7RjAsU0qGmvvGMB8mpMXmfAYwMqoMoy78RjAiQyreCPzGMB3TrNAu/MYwHqOyHcp9RjAS447pYP1GMCpaRfTTPcYwFwea0YG+RjAJa/OMSD7GMBTdY9srvoYwLpL4qyI+hjAteBFX0H6GMBotcAeE/kYwM/ZAkLr8RjAl8XE5uPqGMCTj90FSuoYwPvsgOuK6RjAu7iNBvDmGMCEEmba/uUYwDDYDdsW5RjAMNgN2xblGMCB0lCjkOQYwNe+gF644xjAwf9WsmPjGMCJ0t7gC+MYwIo8Sbpm4hjAeofboWHhGMB6h9uhYeEYwO0uUFJg4RjAPGh23VvhGMB6h9uhYeEYwEKxFTQt4RjAvmvQl97eGMAsu2Bwzd0YwFovhnKi3RjAFF0XfnDeGMBPeAlOfeAYwOhsAaH14BjA++WTFcPlGMA6B8+EJukYwD1EozuI7RjAPUSjO4jtGMDeBUoKLPAYwMujG2FR8RjAa2CrBIvzGMDgKk8g7PQYwM4yi1Bs9RjAbjE/NzT1GMDgEoB/SvUYwC7KbJBJ9hjAFabvNQT3GMAl58Qe2vcYwNDwZg3e9xjA+bziqUf6GMAaGHlZE/sYwJwaaD7n/hjAnBpoPuf+GMCcGmg+5/4YwA==\",\"dtype\":\"float64\",\"order\":\"little\",\"shape\":[158]},\"lng_m\":{\"__ndarray__\":\"2feiwmtAJcGtuo+Lb0AlwYF9fFRzQCXBgX18VHNAJcGBfXxUc0AlwXlQyGlkQCXBeVDIaWRAJcHbEXIEQ0AlwdsRcgRDQCXB2xFyBENAJcGnp6riN0AlwbPAZj5FQCXBs8BmPkVAJcGzwGY+RUAlwbPAZj5FQCXBs8BmPkVAJcFrwa4qzkAlwWvBrirOQCXBa8GuKs5AJcGCO1dJckIlwYI7V0lyQiXBgjtXSXJCJcGCO1dJckIlwRTX6IroQyXBFNfoiuhDJcEU1+iK6EMlwaagQZ03RSXBpqBBnTdFJcGmoEGdN0UlwciC2RhMRSXByILZGExFJcHILZu7YEMlwcgtm7tgQyXByC2bu2BDJcHILZu7YEMlwQvsDAHuQCXBC+wMAe5AJcF9d1j3sD8lwX13WPewPyXBfXdY97A/JcEGhJxQ3j0lwQaEnFDePSXBPO7JHRA8JcEsTJeMjzglwUbnXjHRNyXBaxGNv5U3JcGSJ8O+WDclweFnJ0zgNiXB4WcnTOA2JcHhZydM4DYlwS7jYKCiNiXBtzfVYFk2JcEZ+X77NzYlwXWaNfd8NSXBDuDCnyo2JcHxwY8h/jYlwWCpULg4OCXBXb1IRzo4JcEjTapyWTglwY8NQSduOCXB9FFWmzc4JcGP0mtgMzglwfUWgdT8NyXBctWkEpE3JcGrWTt2czclwdLL/xboNiXBMMJaGz82JcGY5WkKpTUlwZjlaQqlNSXBgdRdgxQ0JcF03FoCfjMlwcEcv48FMyXB4DMIdZIyJcHwWThyKDElwbXci6flMCXBKmE6r/UwJcE2lBL3xjElwTaUEvfGMSXBP8HG4dUxJcGNAStvXTElwZEOUmb5LiXBZk7sVkwsJcEvR1DFpSolwT1622KKKiXBfs9KZd0pJcHC1Tm84CklwbHxe3Q4KiXBsfF7dDgqJcEqfAEvHiolwRGZVs0/KiXBcqmAE24pJcGiDSTYtiglwaBcpIMGKCXBgaHpPysoJcE+qAjfiSglwcUdgySkKCXB+vDm3cIoJcEnVST35CklwTU5fJNmKyXBIoMfcXAtJcFqygfscC4lwTLdIZtnLyXBQwkQSpkwJcHBx4AyGjElwaTKUzlRMiXBXXzOz50yJcHVyxgYIjQlwUECpwSZNSXBOMGU32E3JcHs6X8/ATclwQPhIjDhNiXBvbNWoaQ2JcEtjm/tozUlwefkUyCQLyXB2uar7pcpJcEXNkQ+FSklwfw4ffByKCXBPka8izwmJcHfcM23byUlwXH/tq6qJCXBcf+2rqokJcH9bfqwOCQlwZoVoAOBIyXB158NGjkjJcGrvoiE7iIlwbC3UUFiIiXBueS4gYQhJcG55LiBhCElwU+NvmSDISXBesrRm38hJcG55LiBhCElweg7m/pXISXB1vWQX2IfJcHOMSxieh4lwTfL5d5VHiXBg0Zs3QQfJcFHm5KWwiAlwa4ni8coISXBGHjP9DwlJcEtqi6rHSglwdQbRFfWKyXB1BtEV9YrJcE7lN5NFC4lwSM07G8NLyXBegNRO/EwJcEonFwgHTIlwRU1M/+JMiXBSWQlWloyJcFvMsVGbTIlwd0MeOdFMyXBI0dSbOQzJcH2zrYYmjQlwTrVpW+dNCXBj4o7+ak2JcFNNcz2VjclwULnRTCXOiXBQudFMJc6JcFC50UwlzolwQ==\",\"dtype\":\"float64\",\"order\":\"little\",\"shape\":[158]},\"operator\":[\"SL\",\"SL\",\"SL\",\"SL\",\"SL\",\"SL\",\"SL\",\"SL\",\"SL\",\"SL\",\"SL\",\"SL\",\"SL\",\"SL\",\"SL\",\"SL\",\"SL\",\"SL\",\"SL\",\"SL\",\"SL\",\"SL\",\"SL\",\"SL\",\"SL\",\"SL\",\"SL\",\"SL\",\"SL\",\"SL\",\"SL\",\"SL\",\"SL\",\"SL\",\"SL\",\"SL\",\"SL\",\"SL\",\"SL\",\"SL\",\"SL\",\"SL\",\"SL\",\"SL\",\"SL\",\"SL\",\"SL\",\"SL\",\"SL\",\"SL\",\"SL\",\"SL\",\"SL\",\"SL\",\"SL\",\"SL\",\"SL\",\"SL\",\"SL\",\"SL\",\"SL\",\"SL\",\"SL\",\"SL\",\"SL\",\"SL\",\"SL\",\"SL\",\"SL\",\"SL\",\"SL\",\"SL\",\"SL\",\"SL\",\"SL\",\"SL\",\"SL\",\"SL\",\"SL\",\"SL\",\"SL\",\"SL\",\"SL\",\"SL\",\"SL\",\"SL\",\"SL\",\"SL\",\"SL\",\"SL\",\"SL\",\"SL\",\"SL\",\"SL\",\"SL\",\"SL\",\"SL\",\"SL\",\"SL\",\"SL\",\"SL\",\"SL\",\"SL\",\"SL\",\"SL\",\"SL\",\"SL\",\"SL\",\"SL\",\"SL\",\"SL\",\"SL\",\"SL\",\"SL\",\"SL\",\"SL\",\"SL\",\"SL\",\"SL\",\"SL\",\"SL\",\"SL\",\"SL\",\"SL\",\"SL\",\"SL\",\"SL\",\"SL\",\"SL\",\"SL\",\"SL\",\"SL\",\"SL\",\"SL\",\"SL\",\"SL\",\"SL\",\"SL\",\"SL\",\"SL\",\"SL\",\"SL\",\"SL\",\"SL\",\"SL\",\"SL\",\"SL\",\"SL\",\"SL\",\"SL\",\"SL\",\"SL\",\"SL\",\"SL\",\"SL\",\"SL\",\"SL\",\"SL\"],\"outlier\":[1,1,1,1,1,-1,1,-1,1,1,-1,-1,1,1,1,1,-1,1,1,-1,1,1,1,1,1,1,1,1,1,1,1,-1,1,1,1,-1,1,-1,1,1,-1,1,-1,-1,1,1,1,1,1,1,1,1,1,-1,1,1,1,1,1,1,1,1,1,-1,1,1,-1,1,1,1,1,1,1,-1,1,1,-1,1,-1,1,-1,-1,-1,1,-1,-1,1,1,1,-1,-1,1,-1,-1,-1,1,1,1,1,1,1,1,1,1,1,1,1,1,1,1,1,1,-1,-1,-1,1,1,-1,1,1,1,1,1,1,1,1,1,1,1,1,1,1,-1,1,1,1,-1,1,-1,-1,-1,1,1,1,-1,1,1,1,1,1,1,1,1,1,1,-1,1,1],\"outlier2\":[1,-1,-1,1,1,-1,1,1,1,1,-1,1,1,1,1,1,1,1,1,1,1,1,1,1,1,1,1,1,1,1,1,1,1,1,1,1,1,1,1,1,1,1,1,1,1,1,1,1,1,1,1,1,1,1,1,1,1,-1,1,1,1,1,1,1,1,1,1,1,1,1,1,-1,1,1,1,1,1,1,-1,1,1,1,1,1,1,1,1,1,1,1,1,1,1,1,1,1,-1,1,1,1,1,1,1,1,1,1,1,1,1,1,1,1,1,-1,-1,1,1,1,1,-1,1,1,1,1,1,1,-1,1,1,1,1,1,-1,1,1,1,1,1,1,1,1,1,1,1,1,1,1,1,1,1,1,1,-1,1,1,1,1,1],\"outlier2_norm\":[1,-1,-1,1,1,-1,1,1,1,1,-1,1,1,1,1,1,1,1,1,1,1,1,1,1,1,1,1,1,1,1,1,1,1,1,1,-1,1,1,1,1,1,1,1,1,1,1,1,1,1,1,1,1,1,1,1,1,1,-1,1,1,1,1,-1,1,1,1,1,1,1,-1,1,1,1,1,1,1,-1,1,-1,1,1,1,1,1,1,1,1,1,1,1,1,1,1,-1,1,-1,-1,1,1,1,1,1,1,1,1,1,1,1,1,1,1,1,1,1,1,1,1,1,1,-1,1,-1,1,1,1,1,1,1,1,1,-1,1,1,1,1,1,1,1,1,1,-1,1,1,1,1,1,1,-1,1,1,1,1,-1,1,1,1,1,1],\"outlier_0\":[-1,-1,1,1,1,-1,1,1,1,-1,-1,1,1,1,1,1,-1,1,1,-1,-1,1,1,1,1,1,1,1,1,1,-1,-1,-1,1,1,-1,-1,-1,1,1,-1,-1,-1,-1,1,1,1,1,1,1,1,1,1,1,1,1,-1,1,1,1,1,1,1,1,1,1,1,1,1,1,1,1,1,1,1,1,1,-1,-1,1,1,-1,1,1,1,-1,1,1,1,-1,1,1,-1,-1,1,1,1,1,1,1,1,1,1,1,1,1,1,1,1,1,1,1,1,-1,-1,1,1,1,1,-1,1,1,1,1,1,1,-1,-1,1,1,1,1,-1,1,1,1,-1,1,-1,1,-1,1,1,1,1,1,1,1,1,1,1,1,1,1,1,1,1,-1],\"outlier_MF\":[1,-1,-1,-1,-1,-1,1,1,1,-1,-1,1,1,1,1,1,1,1,1,1,-1,1,1,1,1,1,1,1,1,1,1,1,-1,1,1,1,1,1,1,1,1,1,1,-1,-1,1,-1,1,1,1,1,1,1,1,1,1,1,1,1,1,1,1,1,1,1,1,1,1,1,1,1,1,1,1,1,1,1,1,1,1,-1,-1,-1,1,-1,-1,1,1,1,1,1,1,-1,-1,-1,1,-1,1,1,1,1,1,1,1,1,1,1,1,1,1,1,1,1,1,1,1,-1,-1,1,1,1,1,1,1,1,1,1,1,1,1,1,1,1,1,1,1,1,1,1,1,1,1,-1,1,1,1,1,1,1,1,1,1,1,1,1,1,1,1],\"outlier_norm\":[1,1,1,1,1,-1,1,-1,1,1,-1,-1,1,1,1,1,-1,1,1,-1,1,1,1,1,1,1,1,1,1,1,1,-1,1,1,1,-1,1,-1,1,1,-1,1,-1,-1,1,1,1,1,1,1,1,1,1,-1,1,1,1,1,1,1,1,1,1,-1,1,1,-1,1,1,1,1,1,1,-1,1,1,-1,1,-1,1,-1,-1,-1,1,-1,-1,1,1,1,-1,-1,1,-1,-1,-1,1,1,1,1,1,1,1,1,1,1,1,1,1,1,1,1,1,-1,-1,-1,1,1,-1,1,1,1,1,1,1,1,1,1,1,1,1,1,1,-1,1,1,1,-1,1,-1,-1,-1,1,1,1,-1,1,1,1,1,1,1,1,1,1,1,-1,1,1],\"stop\":[true,true,true,true,true,true,true,true,false,false,false,false,false,false,false,false,false,false,false,false,false,false,false,false,false,false,false,false,false,false,false,false,false,false,false,false,false,false,false,false,false,false,false,false,false,false,true,false,false,false,false,true,false,false,false,false,false,false,true,false,true,false,false,false,false,false,false,true,true,false,false,true,false,false,true,false,false,false,false,false,false,false,false,false,false,false,false,false,false,false,false,false,false,false,false,false,false,false,true,false,true,false,false,true,false,false,true,false,false,true,false,true,false,false,false,false,false,false,true,false,false,false,true,false,false,false,true,true,false,false,true,false,false,false,false,false,false,false,false,false,true,true,false,false,false,true,false,true,false,true,false,false,false,false,false,false,false,false],\"stop_id\":[288.0,288.0,288.0,288.0,288.0,288.0,288.0,288.0,288.0,288.0,288.0,288.0,288.0,288.0,288.0,288.0,1172.0,1172.0,1172.0,1173.0,1173.0,1173.0,1173.0,1174.0,1174.0,1174.0,1175.0,1175.0,1175.0,1175.0,1175.0,15.0,15.0,15.0,15.0,17.0,17.0,19.0,19.0,19.0,21.0,21.0,85.0,203.0,204.0,204.0,205.0,205.0,205.0,205.0,205.0,1620.0,1620.0,1620.0,1620.0,1620.0,220.0,220.0,1622.0,1622.0,1623.0,1623.0,1623.0,1623.0,1624.0,1624.0,1624.0,1625.0,1625.0,1625.0,1625.0,1626.0,1626.0,1626.0,1627.0,1627.0,1627.0,1627.0,1629.0,1629.0,1629.0,1629.0,1630.0,1630.0,3670.0,3670.0,3670.0,3670.0,3670.0,3671.0,3672.0,3672.0,3672.0,3672.0,3674.0,3675.0,3675.0,3675.0,5030.0,5030.0,5031.0,5031.0,5031.0,6033.0,6033.0,3089.0,3090.0,3090.0,3090.0,3706.0,3706.0,3707.0,3707.0,3708.0,3710.0,3710.0,4925.0,4925.0,4926.0,4926.0,4926.0,4926.0,3678.0,3678.0,3678.0,3678.0,3679.0,3679.0,3679.0,3679.0,3679.0,3679.0,3711.0,3712.0,3712.0,4916.0,4916.0,4916.0,4917.0,4917.0,4919.0,4919.0,4919.0,4919.0,4920.0,4910.0,4910.0,4912.0,4912.0,4913.0,4913.0,4914.0,4914.0,4914.0,4915.0,4915.0,4915.0,4915.0],\"time_frame\":[\"2013-01-10\",\"2013-01-10\",\"2013-01-10\",\"2013-01-10\",\"2013-01-10\",\"2013-01-10\",\"2013-01-10\",\"2013-01-10\",\"2013-01-10\",\"2013-01-10\",\"2013-01-10\",\"2013-01-10\",\"2013-01-10\",\"2013-01-10\",\"2013-01-10\",\"2013-01-10\",\"2013-01-10\",\"2013-01-10\",\"2013-01-10\",\"2013-01-10\",\"2013-01-10\",\"2013-01-10\",\"2013-01-10\",\"2013-01-10\",\"2013-01-10\",\"2013-01-10\",\"2013-01-10\",\"2013-01-10\",\"2013-01-10\",\"2013-01-10\",\"2013-01-10\",\"2013-01-10\",\"2013-01-10\",\"2013-01-10\",\"2013-01-10\",\"2013-01-10\",\"2013-01-10\",\"2013-01-10\",\"2013-01-10\",\"2013-01-10\",\"2013-01-10\",\"2013-01-10\",\"2013-01-10\",\"2013-01-10\",\"2013-01-10\",\"2013-01-10\",\"2013-01-10\",\"2013-01-10\",\"2013-01-10\",\"2013-01-10\",\"2013-01-10\",\"2013-01-10\",\"2013-01-10\",\"2013-01-10\",\"2013-01-10\",\"2013-01-10\",\"2013-01-10\",\"2013-01-10\",\"2013-01-10\",\"2013-01-10\",\"2013-01-10\",\"2013-01-10\",\"2013-01-10\",\"2013-01-10\",\"2013-01-10\",\"2013-01-10\",\"2013-01-10\",\"2013-01-10\",\"2013-01-10\",\"2013-01-10\",\"2013-01-10\",\"2013-01-10\",\"2013-01-10\",\"2013-01-10\",\"2013-01-10\",\"2013-01-10\",\"2013-01-10\",\"2013-01-10\",\"2013-01-10\",\"2013-01-10\",\"2013-01-10\",\"2013-01-10\",\"2013-01-10\",\"2013-01-10\",\"2013-01-10\",\"2013-01-10\",\"2013-01-10\",\"2013-01-10\",\"2013-01-10\",\"2013-01-10\",\"2013-01-10\",\"2013-01-10\",\"2013-01-10\",\"2013-01-10\",\"2013-01-10\",\"2013-01-10\",\"2013-01-10\",\"2013-01-10\",\"2013-01-10\",\"2013-01-10\",\"2013-01-10\",\"2013-01-10\",\"2013-01-10\",\"2013-01-10\",\"2013-01-10\",\"2013-01-10\",\"2013-01-10\",\"2013-01-10\",\"2013-01-10\",\"2013-01-10\",\"2013-01-10\",\"2013-01-10\",\"2013-01-10\",\"2013-01-10\",\"2013-01-10\",\"2013-01-10\",\"2013-01-10\",\"2013-01-10\",\"2013-01-10\",\"2013-01-10\",\"2013-01-10\",\"2013-01-10\",\"2013-01-10\",\"2013-01-10\",\"2013-01-10\",\"2013-01-10\",\"2013-01-10\",\"2013-01-10\",\"2013-01-10\",\"2013-01-10\",\"2013-01-10\",\"2013-01-10\",\"2013-01-10\",\"2013-01-10\",\"2013-01-10\",\"2013-01-10\",\"2013-01-10\",\"2013-01-10\",\"2013-01-10\",\"2013-01-10\",\"2013-01-10\",\"2013-01-10\",\"2013-01-10\",\"2013-01-10\",\"2013-01-10\",\"2013-01-10\",\"2013-01-10\",\"2013-01-10\",\"2013-01-10\",\"2013-01-10\",\"2013-01-10\",\"2013-01-10\",\"2013-01-10\",\"2013-01-10\",\"2013-01-10\",\"2013-01-10\",\"2013-01-10\",\"2013-01-10\"],\"time_from_old_point\":[0,39,21,20,19,2,18,21,18,2,2,17,20,21,20,21,18,21,20,19,2,18,20,21,20,19,20,21,18,21,41,18,2,19,20,21,41,18,21,20,19,41,18,21,20,21,20,21,18,21,18,21,22,19,20,19,41,20,20,21,19,20,21,20,19,20,19,20,21,22,20,16,21,20,21,19,22,35,37,21,20,21,18,21,20,19,20,21,20,21,18,21,20,19,21,22,17,20,20,21,20,19,20,21,20,20,21,21,18,18,22,21,18,39,41,21,18,21,20,24,15,23,20,18,19,20,42,53,18,21,18,21,41,20,19,20,54,20,21,18,67,21,19,20,21,20,19,22,19,20,20,19,20,21,20,21,20,39],\"timestamp\":[1357849668000000,1357849707000000,1357849728000000,1357849748000000,1357849767000000,1357849769000000,1357849787000000,1357849808000000,1357849826000000,1357849828000000,1357849830000000,1357849847000000,1357849867000000,1357849888000000,1357849908000000,1357849929000000,1357849947000000,1357849968000000,1357849988000000,1357850007000000,1357850009000000,1357850027000000,1357850047000000,1357850068000000,1357850088000000,1357850107000000,1357850127000000,1357850148000000,1357850166000000,1357850187000000,1357850228000000,1357850246000000,1357850248000000,1357850267000000,1357850287000000,1357850308000000,1357850349000000,1357850367000000,1357850388000000,1357850408000000,1357850427000000,1357850468000000,1357850486000000,1357850507000000,1357850527000000,1357850548000000,1357850568000000,1357850589000000,1357850607000000,1357850628000000,1357850646000000,1357850667000000,1357850689000000,1357850708000000,1357850728000000,1357850747000000,1357850788000000,1357850808000000,1357850828000000,1357850849000000,1357850868000000,1357850888000000,1357850909000000,1357850929000000,1357850948000000,1357850968000000,1357850987000000,1357851007000000,1357851028000000,1357851050000000,1357851070000000,1357851086000000,1357851107000000,1357851127000000,1357851148000000,1357851167000000,1357851189000000,1357851224000000,1357851261000000,1357851282000000,1357851302000000,1357851323000000,1357851341000000,1357851362000000,1357851382000000,1357851401000000,1357851421000000,1357851442000000,1357851462000000,1357851483000000,1357851501000000,1357851522000000,1357851542000000,1357851561000000,1357851582000000,1357851604000000,1357851621000000,1357851641000000,1357851661000000,1357851682000000,1357851702000000,1357851721000000,1357851741000000,1357851762000000,1357851782000000,1357851802000000,1357851823000000,1357851844000000,1357851862000000,1357851880000000,1357851902000000,1357851923000000,1357851941000000,1357851980000000,1357852021000000,1357852042000000,1357852060000000,1357852081000000,1357852101000000,1357852125000000,1357852140000000,1357852163000000,1357852183000000,1357852201000000,1357852220000000,1357852240000000,1357852282000000,1357852335000000,1357852353000000,1357852374000000,1357852392000000,1357852413000000,1357852454000000,1357852474000000,1357852493000000,1357852513000000,1357852567000000,1357852587000000,1357852608000000,1357852626000000,1357852693000000,1357852714000000,1357852733000000,1357852753000000,1357852774000000,1357852794000000,1357852813000000,1357852835000000,1357852854000000,1357852874000000,1357852894000000,1357852913000000,1357852933000000,1357852954000000,1357852974000000,1357852995000000,1357853015000000,1357853054000000],\"vehicle_id\":[\"33272\",\"33272\",\"33272\",\"33272\",\"33272\",\"33272\",\"33272\",\"33272\",\"33272\",\"33272\",\"33272\",\"33272\",\"33272\",\"33272\",\"33272\",\"33272\",\"33272\",\"33272\",\"33272\",\"33272\",\"33272\",\"33272\",\"33272\",\"33272\",\"33272\",\"33272\",\"33272\",\"33272\",\"33272\",\"33272\",\"33272\",\"33272\",\"33272\",\"33272\",\"33272\",\"33272\",\"33272\",\"33272\",\"33272\",\"33272\",\"33272\",\"33272\",\"33272\",\"33272\",\"33272\",\"33272\",\"33272\",\"33272\",\"33272\",\"33272\",\"33272\",\"33272\",\"33272\",\"33272\",\"33272\",\"33272\",\"33272\",\"33272\",\"33272\",\"33272\",\"33272\",\"33272\",\"33272\",\"33272\",\"33272\",\"33272\",\"33272\",\"33272\",\"33272\",\"33272\",\"33272\",\"33272\",\"33272\",\"33272\",\"33272\",\"33272\",\"33272\",\"33272\",\"33272\",\"33272\",\"33272\",\"33272\",\"33272\",\"33272\",\"33272\",\"33272\",\"33272\",\"33272\",\"33272\",\"33272\",\"33272\",\"33272\",\"33272\",\"33272\",\"33272\",\"33272\",\"33272\",\"33272\",\"33272\",\"33272\",\"33272\",\"33272\",\"33272\",\"33272\",\"33272\",\"33272\",\"33272\",\"33272\",\"33272\",\"33272\",\"33272\",\"33272\",\"33272\",\"33272\",\"33272\",\"33272\",\"33272\",\"33272\",\"33272\",\"33272\",\"33272\",\"33272\",\"33272\",\"33272\",\"33272\",\"33272\",\"33272\",\"33272\",\"33272\",\"33272\",\"33272\",\"33272\",\"33272\",\"33272\",\"33272\",\"33272\",\"33272\",\"33272\",\"33272\",\"33272\",\"33272\",\"33272\",\"33272\",\"33272\",\"33272\",\"33272\",\"33272\",\"33272\",\"33272\",\"33272\",\"33272\",\"33272\",\"33272\",\"33272\",\"33272\",\"33272\",\"33272\",\"33272\"],\"vehicle_journey_id\":[\"159\",\"159\",\"159\",\"159\",\"159\",\"159\",\"159\",\"159\",\"159\",\"159\",\"159\",\"159\",\"159\",\"159\",\"159\",\"159\",\"159\",\"159\",\"159\",\"159\",\"159\",\"159\",\"159\",\"159\",\"159\",\"159\",\"159\",\"159\",\"159\",\"159\",\"159\",\"159\",\"159\",\"159\",\"159\",\"159\",\"159\",\"159\",\"159\",\"159\",\"159\",\"159\",\"159\",\"159\",\"159\",\"159\",\"159\",\"159\",\"159\",\"159\",\"159\",\"159\",\"159\",\"159\",\"159\",\"159\",\"159\",\"159\",\"159\",\"159\",\"159\",\"159\",\"159\",\"159\",\"159\",\"159\",\"159\",\"159\",\"159\",\"159\",\"159\",\"159\",\"159\",\"159\",\"159\",\"159\",\"159\",\"159\",\"159\",\"159\",\"159\",\"159\",\"159\",\"159\",\"159\",\"159\",\"159\",\"159\",\"159\",\"159\",\"159\",\"159\",\"159\",\"159\",\"159\",\"159\",\"159\",\"159\",\"159\",\"159\",\"159\",\"159\",\"159\",\"159\",\"159\",\"159\",\"159\",\"159\",\"159\",\"159\",\"159\",\"159\",\"159\",\"159\",\"159\",\"159\",\"159\",\"159\",\"159\",\"159\",\"159\",\"159\",\"159\",\"159\",\"159\",\"159\",\"159\",\"159\",\"159\",\"159\",\"159\",\"159\",\"159\",\"159\",\"159\",\"159\",\"159\",\"159\",\"159\",\"159\",\"159\",\"159\",\"159\",\"159\",\"159\",\"159\",\"159\",\"159\",\"159\",\"159\",\"159\",\"159\",\"159\",\"159\",\"159\",\"159\",\"159\",\"159\"],\"velocity\":{\"__ndarray__\":\"AAAAAAAAAAAEA6HwSCS3Py/EnTIOmqs/AAAAAAAAAAAAAAAAAAAAAExMlx2xtxRAJIvVjRK+tz8LMCKkid3ePwAAAAAAAAAAAAAAAAAAAADSgoJW6QITQIl5fzSGOdw/AAAAAAAAAAAAAAAAAAAAAAAAAAAAAAAAAAAAAAAAAAAmO1kLm8w4QAAAAAAAAAAAAAAAAAAAAAC2OccJOagwQAAAAAAAAAAAAAAAAAAAAAAAAAAAAAAAACmDJG2cdiRAAAAAAAAAAAAAAAAAAAAAAFR1JikqrCFAAAAAAAAAAAAAAAAAAAAAAIL32UmOiBhAAAAAAAAAAADW3EfyWvkwQAAAAAAAAAAAAAAAAAAAAAAAAAAAAAAAAAkfXloQeDNAAAAAAAAAAAC1PQjKYO02QAAAAAAAAAAAAAAAAAAAAADOfY3oOqI0QAAAAAAAAAAA5jep03zgNECXsZiJGPU4QApHvkGe+hhAJucF3imL/z9Ke6MvwYYEQO6HAv6lTBNAAAAAAAAAAAAAAAAAAAAAAPk89F07mghA93zsK2D3CUANMS1tN8z2P5U53/FdwClANgBQgGLVI0ALDieEKsUSQKCfOv8AqRRAEHE2Ri4vtj+N/bNRnhADQAYdpg17IwpAWP4F5GnKHUCA6D+D4MbcPwn+hPsXnhhAbYXnSerXKUBygPz0jgQQQHSImXfXziJAmfFIPif+K0ACR4ZD9wsWQAAAAAAAAAAAAZVrix61IUDnyvyc/ZYWQImpy1v3dxZAFRwlZfqWDkB+aa8omOUoQGKkqRtJUSBAKji6J93H7z/0HpqyRrAmQAAAAAAAAAAAPGBPqR0SM0BbhOk5M3MLQODFwv2/fypA61SI2AiVK0BF9UqSy1sqQMHgfZ9oCfE/c7pYfdB5JUAs+ZMpzd0sQEzYewDBTxBAAAAAAAAAAADv/WUeTEATQAzKpfJCICxABkEGY6wJKUA7EPj4TwoYQMcaLb3jlDBAtXIrmfkDMkBAObP5TbIpQK3fi39tbwRAnQxl9pJGF0AUeteT7EcTQJe6IhCfhBdAPSwy+4DVHUDwIH6bCSATQIsg6NZYGxlAQBX0iqAJHkDcGOsrPPMQQOIxZTYvMBxAyxSTL48U+D9dcHOV/P4ZQO5lyPsYfxZAeLks+xq9IEAU0xLAxSISQOdwjakfAQBAP/7zbHiJEEDBVV5MPsIjQAIfEQdK9ShAJuMtTM13JkAbLSDHO7b9P7etOwaBgQ1AaY1cAMFaJUAupouR7AoTQC2vxJglAgZAAAAAAAAAAADcfehcMsj3P8/T4iINQhJAcSkhiKWiA0BZfr1+sfcFQEbiFiySURpAMC3q/ltCE0AAAAAAAAAAALxF1dnyFqg/P6ckypkNwT8kI3KK2OrJP7QRRdLYZ/w/vYsy4RbIJ0Dpb+5CK1YRQJw3Y1hIpRpAqmZK6cr2BEAofmm/TecTQDL04gqG2htAUa6pfnSqLUBeKLASipgoQNjvqXvglBJAAAAAAAAAAACgAqBxtqEiQGNCPxGFUhtANhOi9fbPJUC/hkI2NlIZQPgtoWe+aRtAtvYo3ksPHkCMoAcX9wgaQBds/HOHZSBA5SQPApWOFkDBAs6Aj4YaQBXE54aI4rg/GCWCAdUvHkAyUzVlJQMFQGs3kRlyrSdAAAAAAAAAAAAAAAAAAAAAAA==\",\"dtype\":\"float64\",\"order\":\"little\",\"shape\":[158]}},\"selected\":{\"id\":\"1884\"},\"selection_policy\":{\"id\":\"1883\"}},\"id\":\"1814\",\"type\":\"ColumnDataSource\"},{\"attributes\":{},\"id\":\"1886\",\"type\":\"Selection\"},{\"attributes\":{\"attribution\":\"&copy; <a href=\\\"https://www.openstreetmap.org/copyright\\\">OpenStreetMap</a> contributors\",\"url\":\"https://c.tile.openstreetmap.org/{Z}/{X}/{Y}.png\"},\"id\":\"1811\",\"type\":\"WMTSTileSource\"},{\"attributes\":{},\"id\":\"1885\",\"type\":\"UnionRenderers\"},{\"attributes\":{\"tile_source\":{\"id\":\"1811\"}},\"id\":\"1812\",\"type\":\"TileRenderer\"},{\"attributes\":{\"fill_alpha\":{\"value\":0.1},\"fill_color\":{\"value\":\"blue\"},\"line_alpha\":{\"value\":0.1},\"line_color\":{\"value\":\"blue\"},\"x\":{\"value\":-696373.8801495983},\"y\":{\"value\":7047850.143246067}},\"id\":\"1828\",\"type\":\"Circle\"}],\"root_ids\":[\"1772\"]},\"title\":\"Bokeh Application\",\"version\":\"2.2.1\"}};\n",
       "  var render_items = [{\"docid\":\"b27e054a-28be-4488-8de1-bb6bbf299e23\",\"root_ids\":[\"1772\"],\"roots\":{\"1772\":\"b1272df1-665a-4fdb-9623-5bb97f61d397\"}}];\n",
       "  root.Bokeh.embed.embed_items_notebook(docs_json, render_items);\n",
       "\n",
       "  }\n",
       "  if (root.Bokeh !== undefined) {\n",
       "    embed_document(root);\n",
       "  } else {\n",
       "    var attempts = 0;\n",
       "    var timer = setInterval(function(root) {\n",
       "      if (root.Bokeh !== undefined) {\n",
       "        clearInterval(timer);\n",
       "        embed_document(root);\n",
       "      } else {\n",
       "        attempts++;\n",
       "        if (attempts > 100) {\n",
       "          clearInterval(timer);\n",
       "          console.log(\"Bokeh: ERROR: Unable to run BokehJS code because BokehJS library is missing\");\n",
       "        }\n",
       "      }\n",
       "    }, 10, root)\n",
       "  }\n",
       "})(window);"
      ],
      "application/vnd.bokehjs_exec.v0+json": ""
     },
     "metadata": {
      "application/vnd.bokehjs_exec.v0+json": {
       "id": "1772"
      }
     },
     "output_type": "display_data"
    },
    {
     "name": "stderr",
     "output_type": "stream",
     "text": [
      "/home/saci/hd/projetos/trajetorias/its_research/venvTraj/lib/python3.8/site-packages/pandas/core/frame.py:3065: SettingWithCopyWarning: \n",
      "A value is trying to be set on a copy of a slice from a DataFrame.\n",
      "Try using .loc[row_indexer,col_indexer] = value instead\n",
      "\n",
      "See the caveats in the documentation: https://pandas.pydata.org/pandas-docs/stable/user_guide/indexing.html#returning-a-view-versus-a-copy\n",
      "  self[k1] = value[k2]\n"
     ]
    },
    {
     "data": {
      "text/html": [
       "\n",
       "\n",
       "\n",
       "\n",
       "\n",
       "\n",
       "  <div class=\"bk-root\" id=\"e9ede584-65c5-43f7-86ea-e0204ea8318b\" data-root-id=\"1997\"></div>\n"
      ]
     },
     "metadata": {},
     "output_type": "display_data"
    },
    {
     "data": {
      "application/javascript": [
       "(function(root) {\n",
       "  function embed_document(root) {\n",
       "    \n",
       "  var docs_json = {\"ad6061f7-b048-44a8-b937-8f074f48ab69\":{\"roots\":{\"references\":[{\"attributes\":{\"below\":[{\"id\":\"2006\"}],\"center\":[{\"id\":\"2013\"},{\"id\":\"2021\"}],\"left\":[{\"id\":\"2014\"}],\"renderers\":[{\"id\":\"2037\"},{\"id\":\"2043\"},{\"id\":\"2049\"},{\"id\":\"2054\"}],\"title\":{\"id\":\"2115\"},\"toolbar\":{\"id\":\"2029\"},\"x_range\":{\"id\":\"1998\"},\"x_scale\":{\"id\":\"2002\"},\"y_range\":{\"id\":\"2000\"},\"y_scale\":{\"id\":\"2004\"}},\"id\":\"1997\",\"subtype\":\"Figure\",\"type\":\"Plot\"},{\"attributes\":{\"data\":{\"ID\":{\"__ndarray__\":\"Y2NjY2NjY2NjY2NjY2NjY2NjY2NjY2NjY2NjY2NjY2M=\",\"dtype\":\"int8\",\"order\":\"little\",\"shape\":[32]},\"MF_acc\":{\"__ndarray__\":\"53lXLbRW0T/bHxSSn3DWP8TqtTYx4NQ/JIBQMcby0z/dl4aKzAfUP1EE0/zWNdU/mY78+/md1z9eQ5rnMxLRP59yY8SCKeE/ckjG48Rr4D+9GlVYWmTbPzKhwHDuftU/sjVKVqXHzj8lkAgLLyrlP/wpcVYB4+E/ANRfWmiz4j/Ix4YQPgvlP3t2/Yrdybs/mr+kYQ9x4j+hf8SQUOfaP3TzRdT+iOM/c+Vo9/Dn4D9G8HmNcwEtQPQaQTuhWNM/roAaRVUA3T9BuyjZQknZP+P957LqybY/4eEi1jVtEUBh5OlCZrC7PwAAAAAAAAAA+ytM0lBelT+BT4Jg4c6ZPw==\",\"dtype\":\"float64\",\"order\":\"little\",\"shape\":[32]},\"MF_dist_from_old_point\":{\"__ndarray__\":\"ea7YhnkXW0DjuB+q/IdhQGkfvnImT2BALeJp1kI/WUDO7VCtt0BhQF/bhPUPkmBAeqTrYvDjXUBeQ5rnMxJRQIRHuDyQR1pA7p7HfAUlWUCAzKJnMxNYQGp7U44udVBAT+M007BfUUBcjnIETDRgQGbAlYJEMWRAANRfWmizYkCXdYaM4X5iQAq2f7TUl2NAmr+kYQ9xYkChf8SQUOdaQPl6kfhnK2FAg+aTgmhqakBG8HmNcwFtQALPjlz7R1tAroAaRVUAXUCe41shXbFQQESrGMR7tGJA4eEi1jVtUUBh5OlCZrD7PwAAAAAAAAAA+ytM0lBe1T+BT4Jg4c7ZPw==\",\"dtype\":\"float64\",\"order\":\"little\",\"shape\":[32]},\"MF_lat\":{\"__ndarray__\":\"fQRrQZSoSkBqTbuYZqhKQLoprb8lqEpAG6Pz0C2oSkAoyDyXTqhKQFJ9ZZQdqUpAnhdbrbipSkA9GRezyq1KQIjRXW0grkpAcIxfHWyuSkC6e+dhsq5KQEMsuB/wrkpAblY/2w+vSkBzwdsoV69KQIPBUl3Ar0pAs3NcMjOwSkCmAH9Ch7BKQJCCxHb3sEpAAPUX1X2xSkAT8IgK1bFKQLKwDpHksUpANlRfTOmxSkAyH5mz47FKQNMR7t8GskpA2sLGq2KySkBbGoEdpLJKQP03uBkTs0pACr48U56zSkAdH7aZr7NKQBPNID6ws0pAhUBLV7CzSkDamsqisLNKQA==\",\"dtype\":\"float64\",\"order\":\"little\",\"shape\":[32]},\"MF_lng\":{\"__ndarray__\":\"TRPksbBRGcDe6z62G0MZwKYrvMtFPBnAch4y5UMwGcA/ShrtAi8ZwO5WxPpQIxnAhSczORAdGcB6F+/H7RcZwOdujb44FxnA3r1IDRIXGcA2Pu62ZhYZwJIxPsxeFhnAerSTHAsVGcAy04TtJxMZwPdWsmMjEBnAmo0SqooPGcDEttPWiBAZwKJ9Oh4zEBnAT7d6TnoPGcArLY/aaRAZwOacsA6RFBnAQu76FucZGcCCkF/kCiQZwNZNpsC4KhnAi6nM3mMqGcAH7a2S2SoZwBRneFhNLBnAXQhKG1g4GcDB7wEV6TkZwBPJeVrZORnAE8l5Wtk5GcA2V6U+2jkZwA==\",\"dtype\":\"float64\",\"order\":\"little\",\"shape\":[32]},\"MF_vel\":{\"__ndarray__\":\"YVitOGGsFUDSJ5l2xwwcQHVlY4Q9GBpAKJB69x5xFkBSp9B1PEoaQGXFB7xMgxpAbCB8O7mRGkBeQ5rnMxIRQJcIrtekCB5Ax/6ajpi8HEARyc+yFK4ZQAuNqKIQzxJAh2zX1Q9aEEAgfqcp6YQiQJw82GsxASNAANRfWmizIkBMW34virojQFl+horbfxBAmr+kYQ9xIkChf8SQUOcaQD2UAeduUCJAzx5DNe0hJUBG8HmNcwFNQAJQXXY/+RZAroAaRVUAHUAlGHFQhosUQEs9ObW0Mg1A4eEi1jVtMUBh5OlCZrDbPwAAAAAAAAAA+ytM0lBetT+BT4Jg4c65Pw==\",\"dtype\":\"float64\",\"order\":\"little\",\"shape\":[32]},\"acc\":{\"__ndarray__\":\"sorOozAs5D9DT/5zIxvlP3YPkeZU2uI/C5n1NtY+4z+6B5mlxivgPysdExluT+I/JHq0WpMV4z+/8Qs+8KzwP5+pcx3YYPU/DCGeL8wA9D9SiuEPRUHxP6s6AJpg9uI/pmTgnIw86j/0PB96a9sAQLvpO168qPY/lKE0y/ML9z++KRbrYUL8P6GF8OXLI9E//F81OOT49T+ExGJEcIP1P0anybuXbvg/sBhBnaO6/D/a6weGB3Q6QLYUIBIf0uE/rW1Vpwlj3D/XzZhd3+HaP5djle9Dh9Y/HrGIluU/8z98Rwk0isTNP8wORDwqF7I/cjYGB+W1uj+dHYTRKReyPw==\",\"dtype\":\"float64\",\"order\":\"little\",\"shape\":[32]},\"block_id\":[9013,9013,9013,9013,9013,9013,9013,9013,9013,9013,9013,9013,9013,9013,9013,9013,9013,9013,9013,9013,9013,9013,9013,9013,9013,9013,9013,9013,9013,9013,9013,9013],\"congestion\":[false,false,false,false,false,false,false,false,false,false,false,false,false,false,false,false,false,false,false,false,false,false,false,false,false,false,false,false,false,false,false,false],\"datetime\":{\"__ndarray__\":\"AIBUu5TCc0IAgP/dlMJzQgCACvGUwnNCAAC+HJXCc0IAgN4hlcJzQgAA8VKVwnNCAID+b5XCc0IAgAckl8JzQgCArTKXwnNCAAAVQZfCc0IAALtPl8JzQgCAn16XwnNCAIBFbZfCc0IAAK17l8JzQgCAkYqXwnNCAAD5mJfCc0IAAJ+nl8JzQgAAwraXwnNCAIApxZfCc0IAAJHTl8JzQgAAN+KXwnNCAACQ6JfCc0IAgLsAmMJzQgCAYQ+YwnNCAADJHZjCc0IAAOwsmMJzQgCA+UmYwnNCAAAqdpjCc0IAgDeTmMJzQgCAz82YwnNCAAA33JjCc0IAAFrrmMJzQg==\",\"dtype\":\"float64\",\"order\":\"little\",\"shape\":[32]},\"day\":[11,11,11,11,11,11,11,11,11,11,11,11,11,11,11,11,11,11,11,11,11,11,11,11,11,11,11,11,11,11,11,11],\"delay\":[-1,-40,-31,-84,-117,-152,-192,0,0,0,0,0,0,0,0,0,0,0,0,0,0,-144,-131,-157,-157,-157,-170,-42,0,0,0,0],\"dist_from_old_point\":{\"__ndarray__\":\"tbjy/wuFb0DsrZ6yM31wQCioQqgkdW1As9WOHYdbaEBRnkQzadtrQJLdLQccnGxAlmrMfk4naEC/8Qs+8KxwQN6NjHYlXnBAnCLqqDihbkAkdeplu1RuQNZZ0OtDCV1An1EZvVqebUBW1f+S/M95QNyiYaZ8lHlAlKE0y/MLd0Cwep4PWNZ4QHAsQId6K3hA/F81OOT4dUCExGJEcIN1QAU8DFwzeXVASdva0s9xhkDa6weGB3R6QDY9j9BNIWlArW1VpwljXEDi38l0HL9RQF5+BqPGfYJAHrGIluU/M0B8Rwk0isQNQMwORDwqF/I/cjYGB+W1+j+dHYTRKRfyPw==\",\"dtype\":\"float64\",\"order\":\"little\",\"shape\":[32]},\"hour\":[11,11,11,11,11,11,11,11,11,11,11,11,11,11,11,11,11,12,12,12,12,12,12,12,12,12,12,12,12,12,12,12],\"index\":[567070,571002,573116,578015,578526,584018,587178,633360,634951,636453,638017,639572,641147,642685,644174,645745,647309,648824,650390,651885,653487,654128,656755,658259,659631,661248,664317,668981,672012,678160,679793,681344],\"journey_id\":[\"00091001\",\"00091001\",\"00091001\",\"00091001\",\"00091001\",\"00091001\",\"00091001\",\"00091001\",\"00091001\",\"00091001\",\"00091001\",\"00091001\",\"00091001\",\"00091001\",\"00091001\",\"00091001\",\"00091001\",\"00091001\",\"00091001\",\"00091001\",\"00091001\",\"00091001\",\"00091001\",\"00091001\",\"00091001\",\"00091001\",\"00091001\",\"00091001\",\"00091001\",\"00091001\",\"00091001\",\"00091001\"],\"lat\":{\"__ndarray__\":\"TcXGvI6oSkAUzJiCNahKQLbUQV4PqEpA/pyC/GyoSkCPiv87oqhKQCao4VtYqUpAlDKpoQ2qSkBoA7ABEa5KQHwJFRxerkpAw5eJIqSuSkAoC19f665KQDmwHCEDr0pAzO7Jw0KvSkCeCyO9qK9KQK+YEd4esEpAXN+Hg4SwSkAQzNHj97BKQNxI2SJpsUpAH6USntCxSkB/G2K85rFKQHh7EALysUpAxHb3AN2xSkDLuKmB5rFKQAQDCB9KskpAZaa0/paySkAMA5ZcxbJKQBpR2ht8s0pAUlvqIK+zSkAAzSA+sLNKQADNID6ws0pANQ71u7CzSkA1DvW7sLNKQA==\",\"dtype\":\"float64\",\"order\":\"little\",\"shape\":[32]},\"lat_m\":{\"__ndarray__\":\"WacbCMjcWkGY27guSdxaQSEs9/US3FpBFUyBDJjcWkFvXxzA49xaQahi57Hm3VpBGegrdujeWkFx1hgBnuRaQWaWBLwL5VpBHNeZZW/lWkHxMT3K1OVaQYPiuZr25VpB27TlLlHmWkH0PX1X4uZaQf6Sa4KK51pBF3NwORvoWkGnrNJ/v+haQZGhPMFg6VpBe74DHvTpWkH3tcedE+paQSP2XKsj6lpB8CG1wQXqWkEXvSdKE+paQe1riyih6lpBWPOZpQ7rWkH20jGwUOtaQd8WWQBV7FpB26iprp3sWkFJU/lEn+xaQUlT+USf7FpBr506+J/sWkGwnTr4n+xaQQ==\",\"dtype\":\"float64\",\"order\":\"little\",\"shape\":[32]},\"line_id\":[\"9.0\",\"9.0\",\"9.0\",\"9.0\",\"9.0\",\"9.0\",\"9.0\",\"9.0\",\"9.0\",\"9.0\",\"9.0\",\"9.0\",\"9.0\",\"9.0\",\"9.0\",\"9.0\",\"9.0\",\"9.0\",\"9.0\",\"9.0\",\"9.0\",\"9.0\",\"9.0\",\"9.0\",\"9.0\",\"9.0\",\"9.0\",\"9.0\",\"9.0\",\"9.0\",\"9.0\",\"9.0\"],\"lng\":{\"__ndarray__\":\"g2itaHNMGcBvEK0VbT4ZwFH2lnK+OBnABOeMKO0tGcBRhNTt7CsZwNMvEW+dHxnA+G9enPgaGcC6ZvLNNhcZwKOP+YBAFxnAzXaFPlgWGcDeW5GYoBYZwG6I8ZpXFRnAu2QcI9kTGcAyjSYXYxAZwDR+4ZUkDxnAU8vW+iIRGcDMsbyrHhAZwJqTF5mADxnARkYHJGEPGcDWyK60jBQZwNJvXwfOGRnAGTbK+s0kGcDaccPvpisZwG/UCtP3KhnAgo3r3/UpGcAdcF0xIywZwFzII7iRMhnAfdCzWfU5GcCwHvet1jkZwLAe963WORnAYOXQIts5GcCwHvet1jkZwA==\",\"dtype\":\"float64\",\"order\":\"little\",\"shape\":[32]},\"lng_m\":{\"__ndarray__\":\"9g1+o3N8JcH22glginAlwYGskfO2ayXBTftE/oZiJcEsVOj002AlwcCoDWRfViXBX+4ZuW1SJcEEJlLcPE8lwYdGKBlFTyXB0fYS139OJcE7ndpJvU4lwbDmZuClTSXBMA7aC2FMJcHwNcuGcEklwcI6KgViSCXB5c2OfxNKJcHKlfJqNkklwXoAnSqwSCXBY84kc5VIJcHM1tKN+UwlwcjwIiNwUSXBjzCmucdaJcFSfhaDmGAlwYp4CsoDYCXB/hBktihfJcH7EP4KAmElwWbXOXB4ZiXBc3lTAL9sJcE14tfzpGwlwTXi1/OkbCXBCaXEvKhsJcE14tfzpGwlwQ==\",\"dtype\":\"float64\",\"order\":\"little\",\"shape\":[32]},\"operator\":[\"PO\",\"PO\",\"PO\",\"PO\",\"PO\",\"PO\",\"PO\",\"PO\",\"PO\",\"PO\",\"PO\",\"PO\",\"PO\",\"PO\",\"PO\",\"PO\",\"PO\",\"PO\",\"PO\",\"PO\",\"PO\",\"PO\",\"PO\",\"PO\",\"PO\",\"PO\",\"PO\",\"PO\",\"PO\",\"PO\",\"PO\",\"PO\"],\"outlier\":[-1,-1,-1,-1,-1,-1,-1,-1,-1,-1,-1,-1,-1,-1,-1,-1,-1,-1,-1,-1,-1,-1,-1,-1,-1,-1,-1,-1,-1,-1,-1,-1],\"outlier2\":[1,1,1,1,1,1,1,1,-1,-1,1,-1,-1,1,1,1,1,-1,1,1,1,1,1,1,-1,-1,-1,-1,-1,1,-1,1],\"outlier2_norm\":[1,1,1,1,1,1,1,1,-1,-1,1,-1,-1,1,1,1,-1,1,1,1,1,1,1,1,1,-1,1,-1,-1,1,-1,1],\"outlier_0\":[1,1,1,1,1,1,1,-1,-1,-1,-1,-1,1,-1,-1,-1,-1,-1,-1,-1,-1,-1,-1,1,1,-1,-1,-1,-1,-1,-1,-1],\"outlier_MF\":[1,1,1,1,1,1,1,1,1,1,1,1,1,-1,-1,-1,-1,1,-1,1,-1,-1,-1,1,1,1,1,-1,1,1,1,1],\"outlier_norm\":[-1,-1,-1,-1,-1,-1,-1,-1,-1,-1,-1,-1,-1,-1,-1,-1,-1,-1,-1,-1,-1,-1,-1,-1,-1,-1,-1,-1,-1,-1,-1,-1],\"stop\":[false,false,false,false,false,false,false,false,false,false,false,false,false,false,false,false,false,false,false,false,false,false,false,false,false,false,false,true,true,true,true,true],\"stop_id\":[2432.0,2435.0,2436.0,2439.0,2440.0,2443.0,1344.0,197.0,198.0,199.0,199.0,200.0,201.0,148.0,150.0,150.0,28.0,4680.0,91.0,91.0,130.0,165.0,7458.0,4376.0,4890.0,4890.0,6229.0,7131.0,7131.0,7131.0,7131.0,7131.0],\"time_frame\":[\"2013-01-11\",\"2013-01-11\",\"2013-01-11\",\"2013-01-11\",\"2013-01-11\",\"2013-01-11\",\"2013-01-11\",\"2013-01-11\",\"2013-01-11\",\"2013-01-11\",\"2013-01-11\",\"2013-01-11\",\"2013-01-11\",\"2013-01-11\",\"2013-01-11\",\"2013-01-11\",\"2013-01-11\",\"2013-01-11\",\"2013-01-11\",\"2013-01-11\",\"2013-01-11\",\"2013-01-11\",\"2013-01-11\",\"2013-01-11\",\"2013-01-11\",\"2013-01-11\",\"2013-01-11\",\"2013-01-11\",\"2013-01-11\",\"2013-01-11\",\"2013-01-11\",\"2013-01-11\"],\"time_from_old_point\":[20,20,20,18,21,20,18,16,14,14,15,14,17,14,17,16,15,38,16,16,15,20,4,19,16,13,41,4,4,4,4,4],\"timestamp\":[1357902493000000,1357902635000000,1357902713000000,1357902892000000,1357902913000000,1357903114000000,1357903233000000,1357905019000000,1357905079000000,1357905138000000,1357905198000000,1357905259000000,1357905319000000,1357905378000000,1357905439000000,1357905498000000,1357905558000000,1357905620000000,1357905679000000,1357905738000000,1357905798000000,1357905824000000,1357905923000000,1357905983000000,1357906042000000,1357906104000000,1357906223000000,1357906404000000,1357906523000000,1357906763000000,1357906822000000,1357906884000000],\"vehicle_id\":[\"33437\",\"33437\",\"33437\",\"33437\",\"33437\",\"33437\",\"33437\",\"33437\",\"33437\",\"33437\",\"33437\",\"33437\",\"33437\",\"33437\",\"33437\",\"33437\",\"33437\",\"33437\",\"33437\",\"33437\",\"33437\",\"33437\",\"33437\",\"33437\",\"33437\",\"33437\",\"33437\",\"33437\",\"33437\",\"33437\",\"33437\",\"33437\"],\"vehicle_journey_id\":[\"3612\",\"3612\",\"3612\",\"3612\",\"3612\",\"3612\",\"3612\",\"3612\",\"3612\",\"3612\",\"3612\",\"3612\",\"3612\",\"3612\",\"3612\",\"3612\",\"3612\",\"3612\",\"3612\",\"3612\",\"3612\",\"3612\",\"3612\",\"3612\",\"3612\",\"3612\",\"3612\",\"3612\",\"3612\",\"3612\",\"3612\",\"3612\"],\"velocity\":{\"__ndarray__\":\"Xi3CzDw3KUAT4/1Q7GEqQFNTNSDqkCdALUzU/bCmJUAl2li5dDklQHXkV59J4yZAaQkLxkV4JUC/8Qs+8KwwQGs0xRm9tDJA61yqqbKAMUCtceO+MC0wQFYzwIaUlyBA8GquZlXgK0CrqrYV/H89QFeoHyRIEzhAlKE0y/MLN0Aix2TMO346QK+eDSGCWiRA/F81OOT4NUCExGJEcIM1QNIMDUCu5zZAbq9IQqb0QUDa6weGB3RaQJkYhuWEKSVArW1VpwljHEA+Jwx8hdcVQJln9wpP3SxAHrGIluU/E0B8Rwk0isTtP8wORDwqF9I/cjYGB+W12j+dHYTRKRfSPw==\",\"dtype\":\"float64\",\"order\":\"little\",\"shape\":[32]}},\"selected\":{\"id\":\"2124\"},\"selection_policy\":{\"id\":\"2123\"}},\"id\":\"2045\",\"type\":\"ColumnDataSource\"},{\"attributes\":{\"x\":{\"field\":\"lng_m\"},\"y\":{\"field\":\"lat_m\"}},\"id\":\"2041\",\"type\":\"Line\"},{\"attributes\":{},\"id\":\"2126\",\"type\":\"Selection\"},{\"attributes\":{\"tile_source\":{\"id\":\"2036\"}},\"id\":\"2037\",\"type\":\"TileRenderer\"},{\"attributes\":{\"bottom_units\":\"screen\",\"fill_alpha\":0.5,\"fill_color\":\"lightgrey\",\"left_units\":\"screen\",\"level\":\"overlay\",\"line_alpha\":1.0,\"line_color\":\"black\",\"line_dash\":[4,4],\"line_width\":2,\"right_units\":\"screen\",\"top_units\":\"screen\"},\"id\":\"2028\",\"type\":\"BoxAnnotation\"},{\"attributes\":{\"fill_color\":{\"value\":\"red\"},\"line_color\":{\"value\":\"red\"},\"x\":{\"field\":\"lng_m\"},\"y\":{\"field\":\"lat_m\"}},\"id\":\"2047\",\"type\":\"Circle\"},{\"attributes\":{},\"id\":\"2026\",\"type\":\"ResetTool\"},{\"attributes\":{\"overlay\":{\"id\":\"2028\"}},\"id\":\"2024\",\"type\":\"BoxZoomTool\"},{\"attributes\":{\"attribution\":\"&copy; <a href=\\\"https://www.openstreetmap.org/copyright\\\">OpenStreetMap</a> contributors\",\"url\":\"https://c.tile.openstreetmap.org/{Z}/{X}/{Y}.png\"},\"id\":\"2036\",\"type\":\"WMTSTileSource\"},{\"attributes\":{},\"id\":\"2025\",\"type\":\"SaveTool\"},{\"attributes\":{},\"id\":\"2121\",\"type\":\"UnionRenderers\"},{\"attributes\":{},\"id\":\"2027\",\"type\":\"HelpTool\"},{\"attributes\":{},\"id\":\"2022\",\"type\":\"PanTool\"},{\"attributes\":{},\"id\":\"2023\",\"type\":\"WheelZoomTool\"},{\"attributes\":{\"line_alpha\":0.1,\"x\":{\"field\":\"lng_m\"},\"y\":{\"field\":\"lat_m\"}},\"id\":\"2042\",\"type\":\"Line\"},{\"attributes\":{\"dimension\":\"lat\"},\"id\":\"2015\",\"type\":\"MercatorTicker\"},{\"attributes\":{},\"id\":\"2122\",\"type\":\"Selection\"},{\"attributes\":{\"axis\":{\"id\":\"2014\"},\"dimension\":1,\"ticker\":null},\"id\":\"2021\",\"type\":\"Grid\"},{\"attributes\":{\"data_source\":{\"id\":\"2051\"},\"glyph\":{\"id\":\"2052\"},\"hover_glyph\":null,\"muted_glyph\":null,\"nonselection_glyph\":{\"id\":\"2053\"},\"selection_glyph\":null,\"view\":{\"id\":\"2055\"}},\"id\":\"2054\",\"type\":\"GlyphRenderer\"},{\"attributes\":{\"dimension\":\"lat\"},\"id\":\"2017\",\"type\":\"MercatorTickFormatter\"},{\"attributes\":{\"axis\":{\"id\":\"2006\"},\"ticker\":null},\"id\":\"2013\",\"type\":\"Grid\"},{\"attributes\":{\"dimension\":\"lon\"},\"id\":\"2007\",\"type\":\"MercatorTicker\"},{\"attributes\":{},\"id\":\"2123\",\"type\":\"UnionRenderers\"},{\"attributes\":{},\"id\":\"1998\",\"type\":\"DataRange1d\"},{\"attributes\":{\"dimension\":\"lon\"},\"id\":\"2009\",\"type\":\"MercatorTickFormatter\"},{\"attributes\":{},\"id\":\"2124\",\"type\":\"Selection\"},{\"attributes\":{\"active_drag\":\"auto\",\"active_inspect\":\"auto\",\"active_multi\":null,\"active_scroll\":\"auto\",\"active_tap\":\"auto\",\"tools\":[{\"id\":\"2022\"},{\"id\":\"2023\"},{\"id\":\"2024\"},{\"id\":\"2025\"},{\"id\":\"2026\"},{\"id\":\"2027\"}]},\"id\":\"2029\",\"type\":\"Toolbar\"},{\"attributes\":{\"source\":{\"id\":\"2051\"}},\"id\":\"2055\",\"type\":\"CDSView\"},{\"attributes\":{},\"id\":\"2004\",\"type\":\"LinearScale\"},{\"attributes\":{\"source\":{\"id\":\"2039\"}},\"id\":\"2044\",\"type\":\"CDSView\"},{\"attributes\":{\"source\":{\"id\":\"2045\"}},\"id\":\"2050\",\"type\":\"CDSView\"},{\"attributes\":{\"data_source\":{\"id\":\"2039\"},\"glyph\":{\"id\":\"2041\"},\"hover_glyph\":null,\"muted_glyph\":null,\"nonselection_glyph\":{\"id\":\"2042\"},\"selection_glyph\":null,\"view\":{\"id\":\"2044\"}},\"id\":\"2043\",\"type\":\"GlyphRenderer\"},{\"attributes\":{\"fill_alpha\":{\"value\":0.1},\"fill_color\":{\"value\":\"red\"},\"line_alpha\":{\"value\":0.1},\"line_color\":{\"value\":\"red\"},\"x\":{\"field\":\"lng_m\"},\"y\":{\"field\":\"lat_m\"}},\"id\":\"2048\",\"type\":\"Circle\"},{\"attributes\":{\"formatter\":{\"id\":\"2009\"},\"ticker\":{\"id\":\"2007\"}},\"id\":\"2006\",\"type\":\"MercatorAxis\"},{\"attributes\":{\"data\":{},\"selected\":{\"id\":\"2126\"},\"selection_policy\":{\"id\":\"2125\"}},\"id\":\"2051\",\"type\":\"ColumnDataSource\"},{\"attributes\":{\"data\":{\"ID\":{\"__ndarray__\":\"Y2NjY2NjY2NjY2NjY2NjY2NjY2NjY2NjY2NjY2NjY2NjY2NjY2NjY2NjY2NjY2NjY2NjY2NjY2NjY2NjY2NjY2NjY2NjY2NjY2NjY2NjY2NjY2NjY2NjY2NjY2NjY2NjY2NjY2NjY2NjY2NjY2NjY2NjY2NjY2NjY2NjY2NjY2NjY2NjY2NjY2NjY2NjY2NjY2NjY2NjY2NjY2NjY2NjY2NjY2NjY2NjY2NjY2NjY2NjY2NjY2NjY2NjY2NjY2NjY2NjY2NjY2NjY2NjY2NjY2NjY2NjY2NjY2NjY2NjY2NjY2NjY2NjY2NjY2NjY2NjY2NjY2NjY2NjY2NjY2NjY2NjY2NjY2NjY2NjY2NjY2NjY2M=\",\"dtype\":\"int8\",\"order\":\"little\",\"shape\":[275]},\"MF_acc\":{\"__ndarray__\":\"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\",\"dtype\":\"float64\",\"order\":\"little\",\"shape\":[275]},\"MF_dist_from_old_point\":{\"__ndarray__\":\"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\",\"dtype\":\"float64\",\"order\":\"little\",\"shape\":[275]},\"MF_lat\":{\"__ndarray__\":\"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\",\"dtype\":\"float64\",\"order\":\"little\",\"shape\":[275]},\"MF_lng\":{\"__ndarray__\":\"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\",\"dtype\":\"float64\",\"order\":\"little\",\"shape\":[275]},\"MF_vel\":{\"__ndarray__\":\"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\",\"dtype\":\"float64\",\"order\":\"little\",\"shape\":[275]},\"acc\":{\"__ndarray__\":\"AAAAAAAAAAAAAAAAAAAAAAAAAAAAAAAAAAAAAAAAAAAAAAAAAAAAAAAAAAAAAAAAAAAAAAAAAAAAAAAAAAAAAAAAAAAAAAAAAAAAAAAAAAAAAAAAAAAAAAAAAAAAAAAAAAAAAAAAAAAAAAAAAAAAAO82PDJJTrc/+LMNU7a0sD9jIC2IGazYPxet5pcTJa8/F9c3Mgsj2j/9+FJ/hFbEPwAAAAAAAAAAAAAAAAAAAAADYK4CQTncP/1Lcw0UTsg/9Roa7pm2zT9+sfX+PdDYP/VTgG+Cn7Q/VWeyRHzA3z88KSzvkCfPPzCnb9b7ZMU/A94rhWxe1j/cOXrcWwShP/bLrlyv6GU/LANUnUt5sj+2SudgUsjfP1Eey+0jbtw/BDbnYuRBuz8qNZrY0rXQPyM09pavhsw/YPNuY1bm1T+yis6jMCzkPzhzvQMm4d8/lymzqsLKvj8/m5s71K7JP2mzrQiiLdw/ta9dOrxpwD+zLArcmTPTP0NP/nMjG+U/eYBUGqIgxD97Y4Om34rRP3oV7Ighu5k/dg+R5lTa4j8mn1sf6rPXP4zIH/kNKrg/VmRHZR4s1j9gx3VvjV3DP/B5SxewiLk/oPSGmx1a1j9TTEf2fkazP78ITWsC8tA/C5n1NtY+4z+6B5mlxivgP4FWccNkWNs/EPhc0r22rD8AAAAAAAAAAAAAAAAAAAAAHSXv6D4e1j/XrqYpIurdP7k7hYAworU/8xbA9a5rwT8VIxnF16/ZPysdExluT+I/nV/k8dAB0D8kqSlrVOS+PymyT3snQ64/6om9eTYw3z8P8ppQRLnTPyR6tFqTFeM/iuCfDEtqrD9D2apTo/ayPyXKH3jyNJU/rDsO0ghN1j8kzByGU9nJP2Ggjo1tk8M/dWolxspLxz9K59Cxpf65PwAAAAAAAAAAG6B0EWsIwj9Mu15GdIXSP5P6WJwJfb0/mlRmAgu2xz/d0LEZFG3TPyhFoC8+Xt4/ZfFWVzrz1D9MBkHlY5PIP8Q/WpZpxMA/DftRx3Of0T+zzCTXi8qSPy3eOpnUbWQ/ucVrqNwc0D9sctDxRgN+P5uwqaDvGMQ/8FaN3UXY0z9Bz2vCVd+tP2ze0BR5P8I/8KoMz0mSwD+iiT5B0SyzPwAAAAAAAAAARAADHmxIoz8AIZCpwxLSPzvLXz2h3dI/AAAAAAAAAADnmM/KAKHCP5ify1BgRdA/pKK3Yp0F1T+dVDrGunK6PwAAAAAAAAAACJQ30ebHsj8AAAAAAAAAAAAAAAAAAAAA9tzkKz0a0T9C1iGqhz3TP0MHMudNRLI/AAAAAAAAAACItUOOusOyPwAAAAAAAAAAkJYZNCtByj+XKlJ1MvTTPxoMDDo5ltU/zMnMQKfKtD8pk+YJPwHLP48exZuz4Lw/youv8iFguj8AAAAAAAAAABqeD4KdScA/qidHxjCkrz+iPCVqZBLOP5rJn+iG39A/LEpHAc6H0T/JOFwWGSapP/djHbpO7tE/HNuJm3kBvj+denPZ7Ou8PwAAAAAAAAAAAAAAAAAAAAAAAAAAAAAAAMA/UOpd/qw/12n8ynAI3z8JG/0BOWTfP7aH0AbvlMQ/AAAAAAAAAADAu9RPRWGGP0oHnlPwoL8/hctYyFY8zT+gXCxhDK7VP8L/cXaVKag/AAAAAAAAAAAAAAAAAAAAAAAAAAAAAAAAAAAAAAAAAAAAAAAAAAAAAAAAAAAAAAAAAAAAAAAAAADSdv8/D4LYPwAAAAAAAAAAv/ELPvCs8D8AAAAAAAAAAAAAAAAAAAAAAAAAAAAAAACfqXMd2GD1PwAAAAAAAAAAAAAAAAAAAAAAAAAAAAAAAAwhni/MAPQ/AAAAAAAAAAAAAAAAAAAAAAAAAAAAAAAAUorhD0VB8T8AAAAAAAAAAAAAAAAAAAAAAAAAAAAAAACrOgCaYPbiPwAAAAAAAAAAAAAAAAAAAAAAAAAAAAAAAKZk4JyMPOo/AAAAAAAAAAAAAAAAAAAAAAAAAAAAAAAA9DwfemvbAEAAAAAAAAAAAAAAAAAAAAAAAAAAAAAAAAC76TtevKj2PwAAAAAAAAAAAAAAAAAAAAAAAAAAAAAAAJShNMvzC/c/AAAAAAAAAAAAAAAAAAAAAL4pFuthQvw/AAAAAAAAAAAAAAAAAAAAAKGF8OXLI9E/AAAAAAAAAAAAAAAAAAAAAAAAAAAAAAAA/F81OOT49T8AAAAAAAAAAAAAAAAAAAAAAAAAAAAAAACExGJEcIP1PwAAAAAAAAAAAAAAAAAAAABGp8m7l274PwAAAAAAAAAAsBhBnaO6/D8AAAAAAAAAALSK0BGE9pY/2usHhgd0OkC7Ih4isA/NP3aMkpPrYtQ/thQgEh/S4T8H17aPwvzXPwQEIaMLEbU/rW1Vpwlj3D9T9Bi/CpXQPyywYQuc36g/182YXd/h2j9nNqDpXynGPyJ28qQQtss/YfStRoJlyz9LMc1vj+7XP5djle9Dh9Y/l2flA6d71z8AAAAAAAAAAAAAAAAAAAAAnDkmEg1j1D+7PXST+ui0PwAAAAAAAAAAw2MSd+0hwj8esYiW5T/zPwAAAAAAAAAAAAAAAAAAAAAAAAAAAAAAAAAAAAAAAAAAeLNH12OWbD/dq8fUq5WOPwAAAAAAAAAAfEcJNIrEzT8AAAAAAAAAAAAAAAAAAAAAAAAAAAAAAAAAAAAAAAAAAAAAAAAAAAAAAAAAAAAAAAAAAAAAAAAAAAAAAAAAAAAAYB5E7McadT+DEjW5xwJvPwAAAAAAAAAA7t0jXlaCYT8AAAAAAAAAAAAAAAAAAAAAzA5EPCoXsj8AAAAAAAAAAC//lqTFAGU/AAAAAAAAAAByNgYH5bW6P4MSNbnHAm8/gxI1uccCbz8AAAAAAAAAAJ0dhNEpF7I/gxI1uccCbz9sJy4k5CdnPw==\",\"dtype\":\"float64\",\"order\":\"little\",\"shape\":[275]},\"block_id\":[9013,9013,9013,9013,9013,9013,9013,9013,9013,9013,9013,9013,9013,9013,9013,9013,9013,9013,9013,9013,9013,9013,9013,9013,9013,9013,9013,9013,9013,9013,9013,9013,9013,9013,9013,9013,9013,9013,9013,9013,9013,9013,9013,9013,9013,9013,9013,9013,9013,9013,9013,9013,9013,9013,9013,9013,9013,9013,9013,9013,9013,9013,9013,9013,9013,9013,9013,9013,9013,9013,9013,9013,9013,9013,9013,9013,9013,9013,9013,9013,9013,9013,9013,9013,9013,9013,9013,9013,9013,9013,9013,9013,9013,9013,9013,9013,9013,9013,9013,9013,9013,9013,9013,9013,9013,9013,9013,9013,9013,9013,9013,9013,9013,9013,9013,9013,9013,9013,9013,9013,9013,9013,9013,9013,9013,9013,9013,9013,9013,9013,9013,9013,9013,9013,9013,9013,9013,9013,9013,9013,9013,9013,9013,9013,9013,9013,9013,9013,9013,9013,9013,9013,9013,9013,9013,9013,9013,9013,9013,9013,9013,9013,9013,9013,9013,9013,9013,9013,9013,9013,9013,9013,9013,9013,9013,9013,9013,9013,9013,9013,9013,9013,9013,9013,9013,9013,9013,9013,9013,9013,9013,9013,9013,9013,9013,9013,9013,9013,9013,9013,9013,9013,9013,9013,9013,9013,9013,9013,9013,9013,9013,9013,9013,9013,9013,9013,9013,9013,9013,9013,9013,9013,9013,9013,9013,9013,9013,9013,9013,9013,9013,9013,9013,9013,9013,9013,9013,9013,9013,9013,9013,9013,9013,9013,9013,9013,9013,9013,9013,9013,9013,9013,9013,9013,9013,9013,9013,9013,9013,9013,9013,9013,9013,9013,9013,9013,9013,9013,9013,9013,9013,9013,9013,9013,9013],\"congestion\":[false,false,false,false,false,false,false,false,false,false,false,false,false,false,false,false,false,false,false,false,false,false,false,false,false,false,false,false,false,false,false,false,false,false,false,false,false,false,false,false,false,false,false,false,false,false,false,false,false,false,false,false,false,false,false,false,false,false,false,false,false,false,false,false,false,false,false,false,false,false,false,false,false,false,false,false,false,false,false,false,false,false,false,false,false,false,false,false,false,false,false,false,false,false,false,false,false,false,false,false,false,false,false,false,false,false,false,false,false,false,false,false,false,false,false,false,false,false,false,false,false,false,false,false,false,false,false,false,false,false,false,false,false,false,false,false,false,false,false,false,false,false,false,false,false,false,false,false,false,false,false,false,false,false,false,false,false,false,false,false,false,false,false,false,false,false,false,false,false,false,false,false,false,false,false,false,false,false,false,false,false,false,false,false,false,false,false,false,false,false,false,false,false,false,false,false,false,false,false,false,false,false,false,false,false,false,false,false,false,false,false,false,false,false,false,false,false,false,false,false,false,false,false,false,false,false,false,false,false,false,false,false,false,false,false,false,false,false,false,false,false,false,false,false,false,false,false,false,false,false,false,false,false,false,false,false,false,false,false,false,false,false,false,false,false,false,false,false,false,false,false,false,false,false,false],\"datetime\":{\"__ndarray__\":\"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\",\"dtype\":\"float64\",\"order\":\"little\",\"shape\":[275]},\"day\":[11,11,11,11,11,11,11,11,11,11,11,11,11,11,11,11,11,11,11,11,11,11,11,11,11,11,11,11,11,11,11,11,11,11,11,11,11,11,11,11,11,11,11,11,11,11,11,11,11,11,11,11,11,11,11,11,11,11,11,11,11,11,11,11,11,11,11,11,11,11,11,11,11,11,11,11,11,11,11,11,11,11,11,11,11,11,11,11,11,11,11,11,11,11,11,11,11,11,11,11,11,11,11,11,11,11,11,11,11,11,11,11,11,11,11,11,11,11,11,11,11,11,11,11,11,11,11,11,11,11,11,11,11,11,11,11,11,11,11,11,11,11,11,11,11,11,11,11,11,11,11,11,11,11,11,11,11,11,11,11,11,11,11,11,11,11,11,11,11,11,11,11,11,11,11,11,11,11,11,11,11,11,11,11,11,11,11,11,11,11,11,11,11,11,11,11,11,11,11,11,11,11,11,11,11,11,11,11,11,11,11,11,11,11,11,11,11,11,11,11,11,11,11,11,11,11,11,11,11,11,11,11,11,11,11,11,11,11,11,11,11,11,11,11,11,11,11,11,11,11,11,11,11,11,11,11,11,11,11,11,11,11,11,11,11,11,11,11,11,11,11,11,11,11,11],\"delay\":[0,0,0,0,0,0,0,0,0,0,0,0,0,0,-35,-9,-29,-13,-13,-13,3,23,23,23,23,23,23,23,23,23,23,23,46,46,46,25,25,25,25,25,-1,-21,-21,-3,-18,-18,-18,-40,-40,-40,-8,-31,-31,-31,-31,-31,-31,-60,-60,-60,-84,-117,-142,-142,-107,-87,-103,-124,-124,-102,-121,-152,-152,-152,-128,-152,-152,-192,-192,-165,-147,-147,-171,-171,-171,-171,-147,-147,-147,-147,-147,-147,-169,-189,-189,-189,-189,-168,-148,-163,-144,-144,-182,-182,-182,-182,-182,-153,-153,-175,-207,-187,-187,-208,-238,-238,-238,-196,-176,-156,-178,-209,-209,-178,-178,-147,-147,-165,-192,-192,-192,-192,-192,-158,-158,-158,-177,-217,-217,-217,-217,-217,-217,-190,-170,-149,-149,-164,-200,-200,-172,-153,-153,-153,-153,-153,-153,-153,-153,-43,-43,-43,-43,0,0,0,0,0,0,0,0,0,0,0,0,0,0,0,0,0,0,0,0,0,0,0,0,0,0,0,0,0,0,0,0,0,0,0,0,0,0,0,0,0,0,0,0,0,0,0,0,0,0,0,0,0,-144,-144,-52,-131,-131,-131,-157,-157,-157,-157,-157,-157,-157,-138,-138,-122,-122,-170,-170,-154,-134,-134,-118,-118,-42,-42,-42,-42,0,0,0,0,0,0,0,0,0,0,0,0,0,0,0,0,0,0,0,0,0,0,0,0,0,0,0,0,0,0,0],\"dist_from_old_point\":{\"__ndarray__\":\"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\",\"dtype\":\"float64\",\"order\":\"little\",\"shape\":[275]},\"hour\":[10,10,10,10,10,10,10,10,10,10,10,10,10,10,10,10,11,11,11,11,11,11,11,11,11,11,11,11,11,11,11,11,11,11,11,11,11,11,11,11,11,11,11,11,11,11,11,11,11,11,11,11,11,11,11,11,11,11,11,11,11,11,11,11,11,11,11,11,11,11,11,11,11,11,11,11,11,11,11,11,11,11,11,11,11,11,11,11,11,11,11,11,11,11,11,11,11,11,11,11,11,11,11,11,11,11,11,11,11,11,11,11,11,11,11,11,11,11,11,11,11,11,11,11,11,11,11,11,11,11,11,11,11,11,11,11,11,11,11,11,11,11,11,11,11,11,11,11,11,11,11,11,11,11,11,11,11,11,11,11,11,11,11,11,11,11,11,11,11,11,11,11,11,11,11,11,11,11,11,11,11,11,11,11,11,11,11,11,11,11,11,11,11,11,11,11,11,11,11,11,11,11,11,12,12,12,12,12,12,12,12,12,12,12,12,12,12,12,12,12,12,12,12,12,12,12,12,12,12,12,12,12,12,12,12,12,12,12,12,12,12,12,12,12,12,12,12,12,12,12,12,12,12,12,12,12,12,12,12,12,12,12,12,12,12,12,12,12,12,12,12,12,12,12,12],\"index\":[545540,546047,546668,547173,547642,548256,548736,549227,549849,550343,550813,551444,551964,552393,553018,553517,554029,554696,555090,555565,556245,556762,557251,557883,558346,558879,559513,560010,560500,561151,561685,562189,562805,563297,563826,564440,564945,565453,566063,566562,567070,567707,568208,568687,569341,569828,570332,571002,571470,571958,572595,573116,573626,574215,574749,575270,575904,576379,576875,577519,578015,578526,579137,579651,580123,580757,581269,581768,582390,582872,583383,584018,584458,584968,585619,586115,586588,587178,587685,588185,588760,589251,589806,590318,590862,591334,591961,592458,593001,593549,594036,594530,595105,595604,596076,596671,597148,597628,598213,598701,599192,599795,600320,600753,601363,601850,602325,602906,603390,603888,604489,604884,605355,606040,606531,607011,607703,608239,608829,609288,609806,610465,610841,611314,611922,612440,612880,613460,613879,614421,615032,615521,615967,616504,617024,617546,618154,618674,619023,619646,620064,620646,621230,621701,622178,622752,623237,623753,624386,624735,625239,625885,626359,626797,627361,627815,628947,629415,629890,630369,630498,630968,631432,631855,632874,633360,633513,633970,634496,634951,635076,635557,636049,636453,636640,637063,637503,638017,638164,638664,639177,639572,639815,640155,640655,641147,641220,641739,642206,642685,642805,643236,643719,644174,644371,644820,645246,645745,645836,646879,647309,647451,647878,648824,648933,649449,649842,650390,650522,651015,651398,651885,652492,652989,653487,653627,654128,655693,656623,656755,657203,657749,658259,658873,659302,659631,660164,660702,661248,661746,662316,662762,663254,664317,664765,665243,665882,666403,666930,667877,668867,668981,669437,669931,670345,670510,670969,671446,671873,672012,672477,672964,673391,673585,674052,674569,675013,675136,675560,676067,676549,677072,677629,678041,678160,678691,679206,679606,679793,680248,680772,681199,681344,681808,682413],\"journey_id\":[\"00091001\",\"00091001\",\"00091001\",\"00091001\",\"00091001\",\"00091001\",\"00091001\",\"00091001\",\"00091001\",\"00091001\",\"00091001\",\"00091001\",\"00091001\",\"00091001\",\"00091001\",\"00091001\",\"00091001\",\"00091001\",\"00091001\",\"00091001\",\"00091001\",\"00091001\",\"00091001\",\"00091001\",\"00091001\",\"00091001\",\"00091001\",\"00091001\",\"00091001\",\"00091001\",\"00091001\",\"00091001\",\"00091001\",\"00091001\",\"00091001\",\"00091001\",\"00091001\",\"00091001\",\"00091001\",\"00091001\",\"00091001\",\"00091001\",\"00091001\",\"00091001\",\"00091001\",\"00091001\",\"00091001\",\"00091001\",\"00091001\",\"00091001\",\"00091001\",\"00091001\",\"00091001\",\"00091001\",\"00091001\",\"00091001\",\"00091001\",\"00091001\",\"00091001\",\"00091001\",\"00091001\",\"00091001\",\"00091001\",\"00091001\",\"00091001\",\"00091001\",\"00091001\",\"00091001\",\"00091001\",\"00091001\",\"00091001\",\"00091001\",\"00091001\",\"00091001\",\"00091001\",\"00091001\",\"00091001\",\"00091001\",\"00091001\",\"00091001\",\"00091001\",\"00091001\",\"00091001\",\"00091001\",\"00091001\",\"00091001\",\"00091001\",\"00091001\",\"00091001\",\"00091001\",\"00091001\",\"00091001\",\"00091001\",\"00091001\",\"00091001\",\"00091001\",\"00091001\",\"00091001\",\"00091001\",\"00091001\",\"00091001\",\"00091001\",\"00091001\",\"00091001\",\"00091001\",\"00091001\",\"00091001\",\"00091001\",\"00091001\",\"00091001\",\"00091001\",\"00091001\",\"00091001\",\"00091001\",\"00091001\",\"00091001\",\"00091001\",\"00091001\",\"00091001\",\"00091001\",\"00091001\",\"00091001\",\"00091001\",\"00091001\",\"00091001\",\"00091001\",\"00091001\",\"00091001\",\"00091001\",\"00091001\",\"00091001\",\"00091001\",\"00091001\",\"00091001\",\"00091001\",\"00091001\",\"00091001\",\"00091001\",\"00091001\",\"00091001\",\"00091001\",\"00091001\",\"00091001\",\"00091001\",\"00091001\",\"00091001\",\"00091001\",\"00091001\",\"00091001\",\"00091001\",\"00091001\",\"00091001\",\"00091001\",\"00091001\",\"00091001\",\"00091001\",\"00091001\",\"00091001\",\"00091001\",\"00091001\",\"00091001\",\"00091001\",\"00091001\",\"00091001\",\"00091001\",\"00091001\",\"00091001\",\"00091001\",\"00091001\",\"00091001\",\"00091001\",\"00091001\",\"00091001\",\"00091001\",\"00091001\",\"00091001\",\"00091001\",\"00091001\",\"00091001\",\"00091001\",\"00091001\",\"00091001\",\"00091001\",\"00091001\",\"00091001\",\"00091001\",\"00091001\",\"00091001\",\"00091001\",\"00091001\",\"00091001\",\"00091001\",\"00091001\",\"00091001\",\"00091001\",\"00091001\",\"00091001\",\"00091001\",\"00091001\",\"00091001\",\"00091001\",\"00091001\",\"00091001\",\"00091001\",\"00091001\",\"00091001\",\"00091001\",\"00091001\",\"00091001\",\"00091001\",\"00091001\",\"00091001\",\"00091001\",\"00091001\",\"00091001\",\"00091001\",\"00091001\",\"00091001\",\"00091001\",\"00091001\",\"00091001\",\"00091001\",\"00091001\",\"00091001\",\"00091001\",\"00091001\",\"00091001\",\"00091001\",\"00091001\",\"00091001\",\"00091001\",\"00091001\",\"00091001\",\"00091001\",\"00091001\",\"00091001\",\"00091001\",\"00091001\",\"00091001\",\"00091001\",\"00091001\",\"00091001\",\"00091001\",\"00091001\",\"00091001\",\"00091001\",\"00091001\",\"00091001\",\"00091001\",\"00091001\",\"00091001\",\"00091001\",\"00091001\",\"00091001\",\"00091001\",\"00091001\",\"00091001\",\"00091001\",\"00091001\",\"00091001\",\"00091001\",\"00091001\",\"00091001\",\"00091001\",\"00091001\",\"00091001\",\"00091001\",\"00091001\",\"00091001\",\"00091001\",\"00091001\",\"00091001\",\"00091001\",\"00091001\",\"00091001\"],\"lat\":{\"__ndarray__\":\"IgIOoUqnSkAiAg6hSqdKQCICDqFKp0pAIgIOoUqnSkAiAg6hSqdKQCICDqFKp0pAIgIOoUqnSkAiAg6hSqdKQCICDqFKp0pAIgIOoUqnSkAiAg6hSqdKQCICDqFKp0pAIgIOoUqnSkAiAg6hSqdKQLpPjgJEp0pAIgIOoUqnSkAShCugUKdKQG8k0GBTp0pAqDtPPGenSkAb7bjhd6dKQBvtuOF3p0pAG+244XenSkCE9urjoadKQCCfkJ23p0pAP8IwYMmnSkB7Szlf7KdKQCveyDzyp0pA3BK54AyoSkDwgR3/BahKQHHEWnwKqEpA/brTnSeoSkCp+L8jKqhKQFxbeF4qqEpAycovgzGoSkBOCvMeZ6hKQMqCiT+KqEpAXJTZIJOoSkApdF5jl6hKQLND/MOWqEpAQwQcQpWoSkBNxca8jqhKQHPTZpyGqEpA1A/qIoWoSkBqwYu+gqhKQKVuZ195qEpAAb7bvHGoSkBGyECeXahKQBTMmII1qEpAp1zhXS6oSkBk6NhBJahKQCrqzD0kqEpAttRBXg+oSkCH/3QDBahKQOF+wAMDqEpAav0tAfinSkAoDqDf96dKQE7RkVz+p0pAL1bUYBqoSkDLSSh9IahKQJ8gsd09qEpA/pyC/GyoSkCPiv87oqhKQAGmDBzQqEpAvOZVndWoSkC85lWd1ahKQLzmVZ3VqEpAcOtunuqoSkAT7Sqk/KhKQDmwHCEDqUpAm3EaogqpSkDturciMalKQCao4VtYqUpAaDnQQ22pSkD3rkFfeqlKQGUe+YOBqUpAqG4u/rapSkDeBrXf2qlKQJQyqaENqkpAeAYN/ROqSkCflbTiG6pKQEQWaeIdqkpAAeKuXkWqSkCDS8ecZ6pKQH+rdeJyqkpAjC/a44WqSkCSIFwBhapKQJIgXAGFqkpA2gBsQISqSkDXMEPjiapKQMDUz5uKqkpA9OFZgoyqSkDD9Shcj6pKQGKFWz6SqkpA/s9hvryqSkBVNNb+zqpKQL03hgDgqkpA3A94YACrSkB14nK8AqtKQPnAjv8Cq0pAxaaVQiCrSkDvObAcIatKQDi8ICI1q0pARkYHJGGrSkCEmbZ/ZatKQKQgeHx7q0pACQPPvYerSkBQNA9gkatKQFA0D2CRq0pAXwMixJWrSkDFH0WduatKQHl1jgHZq0pAeXWOAdmrSkDieD4D6qtKQHeBkgILrEpAG2ZoPBGsSkDThVj9EaxKQNOFWP0RrEpAB5Pi4xOsSkAHk+LjE6xKQAeT4uMTrEpAUPhsHRysSkBuADYgQqxKQJTDJ51IrEpAlMMnnUisSkAqxvmbUKxKQCrG+ZtQrEpAADlhwmisSkBFgxQ8haxKQHBa8KKvrEpA9b2G4LisSkDiJM0f06xKQKqYSj/hrEpAstr8v+qsSkCy2vy/6qxKQN/foL36rEpAw3+6gQKtSkDw1Y7iHK1KQOxjBb8NrUpAJhdjYB2tSkArOLwgIq1KQOhOsP86rUpAmwKZnUWtSkCiREseT61KQKJESx5PrUpAokRLHk+tSkCiREseT61KQKtWJvxSrUpAHJyIfm2tSkBZar3faK1KQGq4yD1drUpAarjIPV2tSkB3ZoLhXK1KQMmpnWFqrUpANc6mI4CtSkDm6zL8p61KQBhd3hyurUpAGF3eHK6tSkAYXd4crq1KQBhd3hyurUpAGF3eHK6tSkAYXd4crq1KQBhd3hyurUpAGF3eHK6tSkAHYAMixK1KQAdgAyLErUpAaAOwARGuSkBoA7ABEa5KQGgDsAERrkpAaAOwARGuSkB8CRUcXq5KQHwJFRxerkpAfAkVHF6uSkB8CRUcXq5KQMOXiSKkrkpAw5eJIqSuSkDDl4kipK5KQMOXiSKkrkpAKAtfX+uuSkAoC19f665KQCgLX1/rrkpAKAtfX+uuSkA5sBwhA69KQDmwHCEDr0pAObAcIQOvSkA5sBwhA69KQMzuycNCr0pAzO7Jw0KvSkDM7snDQq9KQMzuycNCr0pAngsjvaivSkCeCyO9qK9KQJ4LI72or0pAngsjvaivSkCvmBHeHrBKQK+YEd4esEpAr5gR3h6wSkCvmBHeHrBKQFzfh4OEsEpAXN+Hg4SwSkBc34eDhLBKQBDM0eP3sEpAEMzR4/ewSkAQzNHj97BKQNxI2SJpsUpA3EjZImmxSkDcSNkiabFKQNxI2SJpsUpAH6USntCxSkAfpRKe0LFKQB+lEp7QsUpAH6USntCxSkB/G2K85rFKQH8bYrzmsUpAfxtivOaxSkB4exAC8rFKQHh7EALysUpAxHb3AN2xSkDEdvcA3bFKQNV5VPzfsUpAy7ipgeaxSkAFbAcj9rFKQBy3mJ8bskpABAMIH0qySkBqDDohdLJKQPZgUnx8skpAZaa0/paySkDpWnufqrJKQBEebRyxskpADAOWXMWySkBtFcRA17JKQGr67IDrskpAps6j4v+ySkD752nAILNKQBpR2ht8s0pA3NPVHYuzSkDc09Udi7NKQNzT1R2Ls0pA8MNBQpSzSkAlBRbAlLNKQCUFFsCUs0pAQ4zXvKqzSkBSW+ogr7NKQFJb6iCvs0pAUlvqIK+zSkBSW+ogr7NKQFJb6iCvs0pAUlvqIK+zSkDKi0zAr7NKQMqLTMCvs0pAAM0gPrCzSkAAzSA+sLNKQADNID6ws0pAAM0gPrCzSkAAzSA+sLNKQADNID6ws0pAAM0gPrCzSkAAzSA+sLNKQADNID6ws0pANQ71u7CzSkAAzSA+sLNKQADNID6ws0pAAM0gPrCzSkAAzSA+sLNKQADNID6ws0pAAM0gPrCzSkAAzSA+sLNKQADNID6ws0pAAM0gPrCzSkA1DvW7sLNKQADNID6ws0pANQ71u7CzSkA1DvW7sLNKQDUO9buws0pAAM0gPrCzSkAAzSA+sLNKQA==\",\"dtype\":\"float64\",\"order\":\"little\",\"shape\":[275]},\"lat_m\":{\"__ndarray__\":\"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\",\"dtype\":\"float64\",\"order\":\"little\",\"shape\":[275]},\"line_id\":[\"9.0\",\"9.0\",\"9.0\",\"9.0\",\"9.0\",\"9.0\",\"9.0\",\"9.0\",\"9.0\",\"9.0\",\"9.0\",\"9.0\",\"9.0\",\"9.0\",\"9.0\",\"9.0\",\"9.0\",\"9.0\",\"9.0\",\"9.0\",\"9.0\",\"9.0\",\"9.0\",\"9.0\",\"9.0\",\"9.0\",\"9.0\",\"9.0\",\"9.0\",\"9.0\",\"9.0\",\"9.0\",\"9.0\",\"9.0\",\"9.0\",\"9.0\",\"9.0\",\"9.0\",\"9.0\",\"9.0\",\"9.0\",\"9.0\",\"9.0\",\"9.0\",\"9.0\",\"9.0\",\"9.0\",\"9.0\",\"9.0\",\"9.0\",\"9.0\",\"9.0\",\"9.0\",\"9.0\",\"9.0\",\"9.0\",\"9.0\",\"9.0\",\"9.0\",\"9.0\",\"9.0\",\"9.0\",\"9.0\",\"9.0\",\"9.0\",\"9.0\",\"9.0\",\"9.0\",\"9.0\",\"9.0\",\"9.0\",\"9.0\",\"9.0\",\"9.0\",\"9.0\",\"9.0\",\"9.0\",\"9.0\",\"9.0\",\"9.0\",\"9.0\",\"9.0\",\"9.0\",\"9.0\",\"9.0\",\"9.0\",\"9.0\",\"9.0\",\"9.0\",\"9.0\",\"9.0\",\"9.0\",\"9.0\",\"9.0\",\"9.0\",\"9.0\",\"9.0\",\"9.0\",\"9.0\",\"9.0\",\"9.0\",\"9.0\",\"9.0\",\"9.0\",\"9.0\",\"9.0\",\"9.0\",\"9.0\",\"9.0\",\"9.0\",\"9.0\",\"9.0\",\"9.0\",\"9.0\",\"9.0\",\"9.0\",\"9.0\",\"9.0\",\"9.0\",\"9.0\",\"9.0\",\"9.0\",\"9.0\",\"9.0\",\"9.0\",\"9.0\",\"9.0\",\"9.0\",\"9.0\",\"9.0\",\"9.0\",\"9.0\",\"9.0\",\"9.0\",\"9.0\",\"9.0\",\"9.0\",\"9.0\",\"9.0\",\"9.0\",\"9.0\",\"9.0\",\"9.0\",\"9.0\",\"9.0\",\"9.0\",\"9.0\",\"9.0\",\"9.0\",\"9.0\",\"9.0\",\"9.0\",\"9.0\",\"9.0\",\"9.0\",\"9.0\",\"9.0\",\"9.0\",\"9.0\",\"9.0\",\"9.0\",\"9.0\",\"9.0\",\"9.0\",\"9.0\",\"9.0\",\"9.0\",\"9.0\",\"9.0\",\"9.0\",\"9.0\",\"9.0\",\"9.0\",\"9.0\",\"9.0\",\"9.0\",\"9.0\",\"9.0\",\"9.0\",\"9.0\",\"9.0\",\"9.0\",\"9.0\",\"9.0\",\"9.0\",\"9.0\",\"9.0\",\"9.0\",\"9.0\",\"9.0\",\"9.0\",\"9.0\",\"9.0\",\"9.0\",\"9.0\",\"9.0\",\"9.0\",\"9.0\",\"9.0\",\"9.0\",\"9.0\",\"9.0\",\"9.0\",\"9.0\",\"9.0\",\"9.0\",\"9.0\",\"9.0\",\"9.0\",\"9.0\",\"9.0\",\"9.0\",\"9.0\",\"9.0\",\"9.0\",\"9.0\",\"9.0\",\"9.0\",\"9.0\",\"9.0\",\"9.0\",\"9.0\",\"9.0\",\"9.0\",\"9.0\",\"9.0\",\"9.0\",\"9.0\",\"9.0\",\"9.0\",\"9.0\",\"9.0\",\"9.0\",\"9.0\",\"9.0\",\"9.0\",\"9.0\",\"9.0\",\"9.0\",\"9.0\",\"9.0\",\"9.0\",\"9.0\",\"9.0\",\"9.0\",\"9.0\",\"9.0\",\"9.0\",\"9.0\",\"9.0\",\"9.0\",\"9.0\",\"9.0\",\"9.0\",\"9.0\",\"9.0\",\"9.0\",\"9.0\",\"9.0\",\"9.0\",\"9.0\",\"9.0\",\"9.0\",\"9.0\",\"9.0\",\"9.0\",\"9.0\",\"9.0\",\"9.0\",\"9.0\",\"9.0\",\"9.0\",\"9.0\",\"9.0\",\"9.0\"],\"lng\":{\"__ndarray__\":\"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\",\"dtype\":\"float64\",\"order\":\"little\",\"shape\":[275]},\"lng_m\":{\"__ndarray__\":\"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\",\"dtype\":\"float64\",\"order\":\"little\",\"shape\":[275]},\"operator\":[\"PO\",\"PO\",\"PO\",\"PO\",\"PO\",\"PO\",\"PO\",\"PO\",\"PO\",\"PO\",\"PO\",\"PO\",\"PO\",\"PO\",\"PO\",\"PO\",\"PO\",\"PO\",\"PO\",\"PO\",\"PO\",\"PO\",\"PO\",\"PO\",\"PO\",\"PO\",\"PO\",\"PO\",\"PO\",\"PO\",\"PO\",\"PO\",\"PO\",\"PO\",\"PO\",\"PO\",\"PO\",\"PO\",\"PO\",\"PO\",\"PO\",\"PO\",\"PO\",\"PO\",\"PO\",\"PO\",\"PO\",\"PO\",\"PO\",\"PO\",\"PO\",\"PO\",\"PO\",\"PO\",\"PO\",\"PO\",\"PO\",\"PO\",\"PO\",\"PO\",\"PO\",\"PO\",\"PO\",\"PO\",\"PO\",\"PO\",\"PO\",\"PO\",\"PO\",\"PO\",\"PO\",\"PO\",\"PO\",\"PO\",\"PO\",\"PO\",\"PO\",\"PO\",\"PO\",\"PO\",\"PO\",\"PO\",\"PO\",\"PO\",\"PO\",\"PO\",\"PO\",\"PO\",\"PO\",\"PO\",\"PO\",\"PO\",\"PO\",\"PO\",\"PO\",\"PO\",\"PO\",\"PO\",\"PO\",\"PO\",\"PO\",\"PO\",\"PO\",\"PO\",\"PO\",\"PO\",\"PO\",\"PO\",\"PO\",\"PO\",\"PO\",\"PO\",\"PO\",\"PO\",\"PO\",\"PO\",\"PO\",\"PO\",\"PO\",\"PO\",\"PO\",\"PO\",\"PO\",\"PO\",\"PO\",\"PO\",\"PO\",\"PO\",\"PO\",\"PO\",\"PO\",\"PO\",\"PO\",\"PO\",\"PO\",\"PO\",\"PO\",\"PO\",\"PO\",\"PO\",\"PO\",\"PO\",\"PO\",\"PO\",\"PO\",\"PO\",\"PO\",\"PO\",\"PO\",\"PO\",\"PO\",\"PO\",\"PO\",\"PO\",\"PO\",\"PO\",\"PO\",\"PO\",\"PO\",\"PO\",\"PO\",\"PO\",\"PO\",\"PO\",\"PO\",\"PO\",\"PO\",\"PO\",\"PO\",\"PO\",\"PO\",\"PO\",\"PO\",\"PO\",\"PO\",\"PO\",\"PO\",\"PO\",\"PO\",\"PO\",\"PO\",\"PO\",\"PO\",\"PO\",\"PO\",\"PO\",\"PO\",\"PO\",\"PO\",\"PO\",\"PO\",\"PO\",\"PO\",\"PO\",\"PO\",\"PO\",\"PO\",\"PO\",\"PO\",\"PO\",\"PO\",\"PO\",\"PO\",\"PO\",\"PO\",\"PO\",\"PO\",\"PO\",\"PO\",\"PO\",\"PO\",\"PO\",\"PO\",\"PO\",\"PO\",\"PO\",\"PO\",\"PO\",\"PO\",\"PO\",\"PO\",\"PO\",\"PO\",\"PO\",\"PO\",\"PO\",\"PO\",\"PO\",\"PO\",\"PO\",\"PO\",\"PO\",\"PO\",\"PO\",\"PO\",\"PO\",\"PO\",\"PO\",\"PO\",\"PO\",\"PO\",\"PO\",\"PO\",\"PO\",\"PO\",\"PO\",\"PO\",\"PO\",\"PO\",\"PO\",\"PO\",\"PO\",\"PO\",\"PO\",\"PO\",\"PO\",\"PO\",\"PO\",\"PO\",\"PO\",\"PO\",\"PO\",\"PO\",\"PO\",\"PO\",\"PO\",\"PO\",\"PO\",\"PO\",\"PO\",\"PO\",\"PO\",\"PO\",\"PO\",\"PO\"],\"outlier\":[1,1,1,1,1,1,1,1,1,1,1,1,1,1,1,1,1,1,1,1,1,1,1,1,1,1,1,1,1,1,1,1,1,1,1,1,1,1,1,1,-1,1,1,1,1,1,1,-1,1,1,1,-1,1,1,1,1,1,1,1,1,-1,-1,1,1,1,1,1,1,1,1,1,-1,1,1,1,1,1,-1,1,1,1,1,1,1,1,1,1,1,1,1,1,1,1,1,1,1,1,1,1,1,1,1,1,1,1,1,1,1,1,1,1,1,1,1,1,1,1,1,1,1,1,1,1,1,1,1,1,1,1,1,1,1,1,1,1,1,1,1,1,1,1,1,1,1,1,1,1,1,1,1,1,1,1,1,1,1,1,1,1,1,1,1,1,1,1,-1,1,1,1,-1,1,1,1,-1,1,1,1,-1,1,1,1,-1,1,1,1,-1,1,1,1,-1,1,1,1,-1,1,1,1,-1,1,1,-1,1,1,-1,1,1,1,-1,1,1,1,-1,1,1,-1,1,-1,1,1,-1,1,1,-1,1,1,-1,1,1,-1,1,1,1,1,-1,1,1,1,1,1,1,1,-1,1,1,1,1,1,1,1,-1,1,1,1,1,1,1,1,1,1,1,1,1,1,1,-1,1,1,1,-1,1,1,1,-1,1,1],\"outlier2\":[1,1,1,1,1,1,1,1,1,1,1,1,1,1,1,1,1,1,1,1,1,1,1,1,1,1,1,-1,1,1,1,1,-1,1,1,1,1,1,1,1,1,1,1,1,1,1,1,1,1,1,1,1,1,1,1,1,1,1,1,1,1,1,1,1,1,1,1,1,1,1,1,1,1,1,1,1,1,1,1,1,1,1,1,-1,1,1,1,1,1,1,1,1,1,1,1,1,1,1,1,1,1,1,1,-1,-1,-1,1,1,1,1,1,1,1,1,1,1,1,1,1,1,1,1,1,1,1,1,1,1,1,1,1,1,1,1,1,1,1,1,-1,1,1,1,1,1,1,1,1,1,1,1,1,1,1,1,1,1,1,1,1,1,1,1,1,-1,1,1,1,1,1,-1,1,1,1,-1,1,1,1,1,1,1,1,-1,1,1,1,-1,1,1,1,1,1,1,1,1,1,1,1,1,1,1,1,1,1,-1,1,1,1,1,1,1,1,1,1,1,1,1,1,1,-1,1,1,1,1,-1,1,-1,1,-1,-1,1,1,1,1,-1,1,1,1,1,1,1,1,-1,1,1,1,1,1,1,1,-1,1,1,1,1,1,1,1,1,1,1,1,1,1,1,1,1,-1,1,-1,1,1,1,1,1,-1],\"outlier2_norm\":[1,1,1,1,1,1,1,1,1,1,1,1,1,1,1,1,1,1,1,1,1,1,1,1,1,1,1,1,1,1,1,1,-1,1,1,1,1,1,1,1,1,1,1,1,-1,1,1,1,1,1,1,1,1,1,1,1,1,1,1,1,1,1,1,1,1,1,1,1,1,1,1,1,1,1,1,1,1,1,1,1,1,1,1,-1,1,1,1,1,1,1,1,1,1,1,1,1,1,1,1,1,1,1,-1,-1,-1,1,1,1,1,1,1,1,1,1,1,-1,1,1,1,1,1,1,1,1,1,1,1,1,1,1,1,1,1,1,1,1,1,1,1,1,1,1,1,1,1,1,1,1,1,1,1,1,1,1,1,1,1,1,1,1,1,1,1,-1,1,1,1,1,1,-1,1,1,1,-1,1,1,1,1,1,1,1,-1,1,1,1,-1,1,1,1,1,1,1,1,1,1,1,1,1,1,1,-1,1,1,1,1,1,1,1,1,1,1,1,1,1,1,1,1,1,-1,1,1,1,1,-1,1,1,1,-1,-1,1,1,1,1,1,1,1,1,1,1,1,1,-1,1,1,1,1,1,1,1,-1,1,1,1,1,1,1,1,1,1,1,1,1,1,1,1,1,-1,1,-1,1,1,1,1,1,-1],\"outlier_0\":[-1,1,1,1,1,1,1,1,1,1,1,1,1,1,1,1,1,1,1,1,1,1,1,1,1,1,1,1,1,1,1,1,1,1,1,1,1,1,1,1,1,1,1,1,1,1,1,1,1,1,1,1,1,1,1,1,1,1,1,1,1,1,1,1,1,1,1,1,1,1,1,1,1,1,1,1,1,1,1,1,1,1,1,1,1,1,1,1,1,1,1,1,1,1,1,1,1,1,1,1,1,1,1,1,1,1,1,1,1,1,1,1,1,1,1,1,-1,1,1,1,1,1,1,1,1,1,1,1,1,1,1,1,1,1,1,1,1,1,1,1,1,1,1,1,1,1,1,1,1,1,1,1,1,1,1,1,-1,1,1,1,-1,1,1,-1,-1,-1,-1,1,1,-1,-1,1,1,-1,-1,1,1,-1,-1,1,1,-1,-1,1,1,1,-1,1,1,-1,-1,1,1,-1,-1,1,1,-1,-1,-1,-1,-1,1,-1,-1,1,1,-1,-1,1,1,-1,-1,1,-1,-1,-1,-1,-1,-1,1,1,1,1,1,1,1,-1,-1,1,1,1,1,-1,1,1,1,1,1,-1,-1,-1,1,1,1,-1,1,1,1,-1,1,1,1,-1,1,1,1,-1,1,1,1,1,1,1,-1,1,1,1,-1,1,1,1,-1,1,1],\"outlier_MF\":[1,-1,-1,-1,-1,1,1,1,1,1,1,1,1,1,1,1,1,1,1,1,1,1,1,1,1,1,1,1,1,1,1,1,1,1,1,1,1,1,1,1,1,1,1,1,1,1,1,1,1,1,1,1,1,1,1,1,1,1,1,1,1,1,1,1,1,1,1,1,1,1,1,1,1,1,1,1,1,1,1,1,1,1,1,1,1,1,1,1,1,1,1,1,1,1,1,1,1,1,1,1,1,1,1,1,1,1,1,1,1,1,1,1,1,1,1,1,1,1,1,1,1,1,1,1,1,1,1,1,1,1,1,1,1,1,1,1,1,1,1,1,1,1,1,1,1,1,1,1,1,1,1,1,1,1,1,1,1,1,1,1,1,1,1,1,1,1,-1,1,1,1,-1,1,1,1,-1,1,1,1,-1,1,1,1,-1,1,1,1,-1,1,1,-1,-1,1,1,-1,-1,1,1,-1,-1,1,-1,-1,1,1,-1,1,1,-1,-1,1,1,1,1,1,-1,-1,-1,1,1,-1,-1,1,1,1,1,1,1,1,1,1,1,1,1,1,1,-1,1,1,1,1,1,-1,1,1,1,1,1,1,1,1,1,1,1,1,1,1,1,1,1,1,1,1,1,1,1,1,1,1,1,1,1,1,1,1,1],\"outlier_norm\":[1,1,1,1,1,1,1,1,1,1,1,1,1,1,1,1,1,1,1,1,1,1,1,1,1,1,1,1,1,1,1,1,1,1,1,1,1,1,1,1,-1,1,1,1,1,1,1,-1,1,1,1,-1,1,1,1,1,1,1,1,1,-1,-1,1,1,1,1,1,1,1,1,1,-1,1,1,1,1,1,-1,1,1,1,1,1,1,1,1,1,1,1,1,1,1,1,1,1,1,1,1,1,1,1,1,1,1,1,1,1,1,1,1,1,1,1,1,1,1,1,1,1,1,1,1,1,1,1,1,1,1,1,1,1,1,1,1,1,1,1,1,1,1,1,1,1,1,1,1,1,1,1,1,1,1,1,1,1,1,1,1,1,1,1,1,1,1,1,-1,1,1,1,-1,1,1,1,-1,1,1,1,-1,1,1,1,-1,1,1,1,-1,1,1,1,-1,1,1,1,-1,1,1,1,-1,1,1,-1,1,1,-1,1,1,1,-1,1,1,1,-1,1,1,-1,1,-1,1,1,-1,1,1,-1,1,1,-1,1,1,-1,1,1,1,1,-1,1,1,1,1,1,1,1,-1,1,1,1,1,1,1,1,-1,1,1,1,1,1,1,1,1,1,1,1,1,1,1,-1,1,1,1,-1,1,1,1,-1,1,1],\"stop\":[true,true,true,true,true,true,true,true,true,true,true,true,true,true,false,false,false,false,false,true,true,true,false,true,false,false,false,false,false,false,false,true,false,false,false,false,false,false,true,false,false,false,true,false,false,true,false,false,false,true,false,false,false,true,false,false,false,false,false,false,false,false,false,true,true,true,false,false,true,false,false,false,false,false,false,false,false,false,false,false,false,false,true,false,false,true,true,false,false,false,false,false,false,false,true,false,false,true,false,false,false,false,false,true,false,true,false,false,false,false,true,true,false,false,false,false,false,true,true,true,false,false,true,true,false,false,false,false,false,false,false,false,true,true,false,false,false,false,false,true,false,false,false,false,false,false,false,false,false,false,false,false,false,false,false,true,true,true,true,true,true,true,true,false,false,false,false,false,false,false,false,false,false,false,false,false,false,false,false,false,false,false,false,false,false,false,false,false,false,false,false,false,false,false,false,false,false,false,false,false,false,false,false,false,false,false,false,false,false,false,false,false,false,false,false,false,false,false,true,false,false,false,false,false,false,false,false,false,false,true,false,false,false,false,false,false,false,false,false,false,true,true,true,true,true,true,true,true,true,true,true,true,true,true,true,true,true,true,true,true,true,true,true,true,true,true,true,true,true,true,true,true,true,true,true],\"stop_id\":[4392.0,4392.0,4392.0,4392.0,4392.0,4392.0,4392.0,4392.0,4392.0,4392.0,4392.0,4392.0,4392.0,4392.0,4392.0,4392.0,4392.0,4392.0,4392.0,2446.0,2446.0,2446.0,2446.0,2459.0,2459.0,2459.0,2459.0,2460.0,2460.0,2461.0,2461.0,2462.0,2462.0,2462.0,2463.0,2463.0,2463.0,2463.0,2431.0,2431.0,2432.0,2432.0,2433.0,2433.0,2433.0,2434.0,2434.0,2435.0,2435.0,2436.0,2436.0,2436.0,2436.0,2437.0,2437.0,2437.0,2438.0,2438.0,2439.0,2439.0,2439.0,2440.0,2440.0,2441.0,2441.0,2441.0,2441.0,2441.0,2442.0,2442.0,2442.0,2443.0,2443.0,2443.0,2443.0,2444.0,2444.0,1344.0,1344.0,1345.0,1345.0,1345.0,1347.0,1347.0,1347.0,1348.0,1348.0,1348.0,1348.0,1349.0,1349.0,1349.0,1350.0,1350.0,1352.0,1352.0,1352.0,1353.0,1353.0,1353.0,1353.0,1353.0,1353.0,1354.0,1354.0,1355.0,1355.0,1355.0,1355.0,1355.0,1357.0,1357.0,1357.0,1357.0,1357.0,1357.0,1357.0,1359.0,1359.0,1359.0,1359.0,1359.0,319.0,319.0,319.0,319.0,319.0,319.0,319.0,319.0,319.0,319.0,281.0,281.0,281.0,281.0,281.0,281.0,281.0,4.0,4.0,4.0,4.0,4.0,4.0,4.0,4.0,4.0,194.0,194.0,194.0,194.0,194.0,195.0,195.0,196.0,196.0,196.0,196.0,196.0,196.0,196.0,196.0,196.0,196.0,197.0,197.0,197.0,197.0,198.0,198.0,198.0,198.0,199.0,199.0,199.0,199.0,199.0,199.0,199.0,199.0,200.0,200.0,200.0,200.0,201.0,201.0,201.0,201.0,148.0,148.0,148.0,148.0,150.0,150.0,150.0,150.0,150.0,150.0,150.0,28.0,28.0,28.0,4680.0,4680.0,4680.0,4680.0,91.0,91.0,91.0,91.0,91.0,91.0,91.0,130.0,130.0,165.0,165.0,166.0,7458.0,7458.0,4479.0,4376.0,4376.0,4377.0,4890.0,4890.0,4890.0,4890.0,4369.0,4369.0,4369.0,4369.0,6229.0,6229.0,6229.0,6229.0,6229.0,6229.0,6229.0,7131.0,7131.0,7131.0,7131.0,7131.0,7131.0,7131.0,7131.0,7131.0,7131.0,7131.0,7131.0,7131.0,7131.0,7131.0,7131.0,7131.0,7131.0,7131.0,7131.0,7131.0,7131.0,7131.0,7131.0,7131.0,7131.0,7131.0,7131.0,7131.0,7131.0,7131.0,7131.0,7131.0,7131.0,7131.0],\"time_frame\":[\"2013-01-11\",\"2013-01-11\",\"2013-01-11\",\"2013-01-11\",\"2013-01-11\",\"2013-01-11\",\"2013-01-11\",\"2013-01-11\",\"2013-01-11\",\"2013-01-11\",\"2013-01-11\",\"2013-01-11\",\"2013-01-11\",\"2013-01-11\",\"2013-01-11\",\"2013-01-11\",\"2013-01-11\",\"2013-01-11\",\"2013-01-11\",\"2013-01-11\",\"2013-01-11\",\"2013-01-11\",\"2013-01-11\",\"2013-01-11\",\"2013-01-11\",\"2013-01-11\",\"2013-01-11\",\"2013-01-11\",\"2013-01-11\",\"2013-01-11\",\"2013-01-11\",\"2013-01-11\",\"2013-01-11\",\"2013-01-11\",\"2013-01-11\",\"2013-01-11\",\"2013-01-11\",\"2013-01-11\",\"2013-01-11\",\"2013-01-11\",\"2013-01-11\",\"2013-01-11\",\"2013-01-11\",\"2013-01-11\",\"2013-01-11\",\"2013-01-11\",\"2013-01-11\",\"2013-01-11\",\"2013-01-11\",\"2013-01-11\",\"2013-01-11\",\"2013-01-11\",\"2013-01-11\",\"2013-01-11\",\"2013-01-11\",\"2013-01-11\",\"2013-01-11\",\"2013-01-11\",\"2013-01-11\",\"2013-01-11\",\"2013-01-11\",\"2013-01-11\",\"2013-01-11\",\"2013-01-11\",\"2013-01-11\",\"2013-01-11\",\"2013-01-11\",\"2013-01-11\",\"2013-01-11\",\"2013-01-11\",\"2013-01-11\",\"2013-01-11\",\"2013-01-11\",\"2013-01-11\",\"2013-01-11\",\"2013-01-11\",\"2013-01-11\",\"2013-01-11\",\"2013-01-11\",\"2013-01-11\",\"2013-01-11\",\"2013-01-11\",\"2013-01-11\",\"2013-01-11\",\"2013-01-11\",\"2013-01-11\",\"2013-01-11\",\"2013-01-11\",\"2013-01-11\",\"2013-01-11\",\"2013-01-11\",\"2013-01-11\",\"2013-01-11\",\"2013-01-11\",\"2013-01-11\",\"2013-01-11\",\"2013-01-11\",\"2013-01-11\",\"2013-01-11\",\"2013-01-11\",\"2013-01-11\",\"2013-01-11\",\"2013-01-11\",\"2013-01-11\",\"2013-01-11\",\"2013-01-11\",\"2013-01-11\",\"2013-01-11\",\"2013-01-11\",\"2013-01-11\",\"2013-01-11\",\"2013-01-11\",\"2013-01-11\",\"2013-01-11\",\"2013-01-11\",\"2013-01-11\",\"2013-01-11\",\"2013-01-11\",\"2013-01-11\",\"2013-01-11\",\"2013-01-11\",\"2013-01-11\",\"2013-01-11\",\"2013-01-11\",\"2013-01-11\",\"2013-01-11\",\"2013-01-11\",\"2013-01-11\",\"2013-01-11\",\"2013-01-11\",\"2013-01-11\",\"2013-01-11\",\"2013-01-11\",\"2013-01-11\",\"2013-01-11\",\"2013-01-11\",\"2013-01-11\",\"2013-01-11\",\"2013-01-11\",\"2013-01-11\",\"2013-01-11\",\"2013-01-11\",\"2013-01-11\",\"2013-01-11\",\"2013-01-11\",\"2013-01-11\",\"2013-01-11\",\"2013-01-11\",\"2013-01-11\",\"2013-01-11\",\"2013-01-11\",\"2013-01-11\",\"2013-01-11\",\"2013-01-11\",\"2013-01-11\",\"2013-01-11\",\"2013-01-11\",\"2013-01-11\",\"2013-01-11\",\"2013-01-11\",\"2013-01-11\",\"2013-01-11\",\"2013-01-11\",\"2013-01-11\",\"2013-01-11\",\"2013-01-11\",\"2013-01-11\",\"2013-01-11\",\"2013-01-11\",\"2013-01-11\",\"2013-01-11\",\"2013-01-11\",\"2013-01-11\",\"2013-01-11\",\"2013-01-11\",\"2013-01-11\",\"2013-01-11\",\"2013-01-11\",\"2013-01-11\",\"2013-01-11\",\"2013-01-11\",\"2013-01-11\",\"2013-01-11\",\"2013-01-11\",\"2013-01-11\",\"2013-01-11\",\"2013-01-11\",\"2013-01-11\",\"2013-01-11\",\"2013-01-11\",\"2013-01-11\",\"2013-01-11\",\"2013-01-11\",\"2013-01-11\",\"2013-01-11\",\"2013-01-11\",\"2013-01-11\",\"2013-01-11\",\"2013-01-11\",\"2013-01-11\",\"2013-01-11\",\"2013-01-11\",\"2013-01-11\",\"2013-01-11\",\"2013-01-11\",\"2013-01-11\",\"2013-01-11\",\"2013-01-11\",\"2013-01-11\",\"2013-01-11\",\"2013-01-11\",\"2013-01-11\",\"2013-01-11\",\"2013-01-11\",\"2013-01-11\",\"2013-01-11\",\"2013-01-11\",\"2013-01-11\",\"2013-01-11\",\"2013-01-11\",\"2013-01-11\",\"2013-01-11\",\"2013-01-11\",\"2013-01-11\",\"2013-01-11\",\"2013-01-11\",\"2013-01-11\",\"2013-01-11\",\"2013-01-11\",\"2013-01-11\",\"2013-01-11\",\"2013-01-11\",\"2013-01-11\",\"2013-01-11\",\"2013-01-11\",\"2013-01-11\",\"2013-01-11\",\"2013-01-11\",\"2013-01-11\",\"2013-01-11\",\"2013-01-11\",\"2013-01-11\",\"2013-01-11\",\"2013-01-11\",\"2013-01-11\",\"2013-01-11\",\"2013-01-11\",\"2013-01-11\",\"2013-01-11\",\"2013-01-11\",\"2013-01-11\",\"2013-01-11\",\"2013-01-11\",\"2013-01-11\",\"2013-01-11\",\"2013-01-11\",\"2013-01-11\",\"2013-01-11\",\"2013-01-11\",\"2013-01-11\",\"2013-01-11\",\"2013-01-11\",\"2013-01-11\",\"2013-01-11\",\"2013-01-11\",\"2013-01-11\",\"2013-01-11\",\"2013-01-11\",\"2013-01-11\",\"2013-01-11\",\"2013-01-11\",\"2013-01-11\",\"2013-01-11\",\"2013-01-11\",\"2013-01-11\"],\"time_from_old_point\":[0,20,21,20,19,19,20,20,21,21,18,21,20,18,21,20,21,20,20,21,20,21,18,21,18,21,20,19,20,21,20,19,20,21,21,18,21,20,18,21,20,21,20,19,21,20,21,20,19,18,21,20,21,19,20,21,20,19,20,21,18,21,21,20,18,21,21,20,21,18,21,20,19,20,21,20,21,18,21,20,19,20,24,16,21,20,21,20,21,18,20,21,18,21,18,21,20,21,19,20,20,21,22,16,23,18,21,19,20,21,20,19,20,21,20,21,28,21,20,20,21,21,18,19,20,21,20,18,21,20,21,21,18,20,21,21,20,21,16,21,20,20,21,20,19,20,21,20,21,18,20,21,21,18,20,21,39,21,20,15,4,20,21,14,45,16,4,21,21,14,4,20,21,14,6,19,20,15,6,20,21,14,6,17,20,17,4,20,21,14,6,19,19,17,4,20,19,16,4,41,15,6,18,38,4,20,19,16,4,21,18,16,25,20,15,6,20,62,33,4,21,20,19,22,21,16,21,28,13,21,20,19,18,41,21,18,21,20,21,39,37,4,19,20,16,5,18,20,17,4,20,19,16,4,21,20,17,4,18,21,16,23,20,17,4,20,21,14,4,21,21,16,4,21,20],\"timestamp\":[1357901694000000,1357901714000000,1357901735000000,1357901755000000,1357901774000000,1357901793000000,1357901813000000,1357901833000000,1357901854000000,1357901875000000,1357901893000000,1357901914000000,1357901934000000,1357901952000000,1357901973000000,1357901993000000,1357902014000000,1357902034000000,1357902054000000,1357902075000000,1357902095000000,1357902116000000,1357902134000000,1357902155000000,1357902173000000,1357902194000000,1357902214000000,1357902233000000,1357902253000000,1357902274000000,1357902294000000,1357902313000000,1357902333000000,1357902354000000,1357902375000000,1357902393000000,1357902414000000,1357902434000000,1357902452000000,1357902473000000,1357902493000000,1357902514000000,1357902534000000,1357902553000000,1357902574000000,1357902594000000,1357902615000000,1357902635000000,1357902654000000,1357902672000000,1357902693000000,1357902713000000,1357902734000000,1357902753000000,1357902773000000,1357902794000000,1357902814000000,1357902833000000,1357902853000000,1357902874000000,1357902892000000,1357902913000000,1357902934000000,1357902954000000,1357902972000000,1357902993000000,1357903014000000,1357903034000000,1357903055000000,1357903073000000,1357903094000000,1357903114000000,1357903133000000,1357903153000000,1357903174000000,1357903194000000,1357903215000000,1357903233000000,1357903254000000,1357903274000000,1357903293000000,1357903313000000,1357903337000000,1357903353000000,1357903374000000,1357903394000000,1357903415000000,1357903435000000,1357903456000000,1357903474000000,1357903494000000,1357903515000000,1357903533000000,1357903554000000,1357903572000000,1357903593000000,1357903613000000,1357903634000000,1357903653000000,1357903673000000,1357903693000000,1357903714000000,1357903736000000,1357903752000000,1357903775000000,1357903793000000,1357903814000000,1357903833000000,1357903853000000,1357903874000000,1357903894000000,1357903913000000,1357903933000000,1357903954000000,1357903974000000,1357903995000000,1357904023000000,1357904044000000,1357904064000000,1357904084000000,1357904105000000,1357904126000000,1357904144000000,1357904163000000,1357904183000000,1357904204000000,1357904224000000,1357904242000000,1357904263000000,1357904283000000,1357904304000000,1357904325000000,1357904343000000,1357904363000000,1357904384000000,1357904405000000,1357904425000000,1357904446000000,1357904462000000,1357904483000000,1357904503000000,1357904523000000,1357904544000000,1357904564000000,1357904583000000,1357904603000000,1357904624000000,1357904644000000,1357904665000000,1357904683000000,1357904703000000,1357904724000000,1357904745000000,1357904763000000,1357904783000000,1357904804000000,1357904843000000,1357904864000000,1357904884000000,1357904899000000,1357904903000000,1357904923000000,1357904944000000,1357904958000000,1357905003000000,1357905019000000,1357905023000000,1357905044000000,1357905065000000,1357905079000000,1357905083000000,1357905103000000,1357905124000000,1357905138000000,1357905144000000,1357905163000000,1357905183000000,1357905198000000,1357905204000000,1357905224000000,1357905245000000,1357905259000000,1357905265000000,1357905282000000,1357905302000000,1357905319000000,1357905323000000,1357905343000000,1357905364000000,1357905378000000,1357905384000000,1357905403000000,1357905422000000,1357905439000000,1357905443000000,1357905463000000,1357905482000000,1357905498000000,1357905502000000,1357905543000000,1357905558000000,1357905564000000,1357905582000000,1357905620000000,1357905624000000,1357905644000000,1357905663000000,1357905679000000,1357905683000000,1357905704000000,1357905722000000,1357905738000000,1357905763000000,1357905783000000,1357905798000000,1357905804000000,1357905824000000,1357905886000000,1357905919000000,1357905923000000,1357905944000000,1357905964000000,1357905983000000,1357906005000000,1357906026000000,1357906042000000,1357906063000000,1357906091000000,1357906104000000,1357906125000000,1357906145000000,1357906164000000,1357906182000000,1357906223000000,1357906244000000,1357906262000000,1357906283000000,1357906303000000,1357906324000000,1357906363000000,1357906400000000,1357906404000000,1357906423000000,1357906443000000,1357906459000000,1357906464000000,1357906482000000,1357906502000000,1357906519000000,1357906523000000,1357906543000000,1357906562000000,1357906578000000,1357906582000000,1357906603000000,1357906623000000,1357906640000000,1357906644000000,1357906662000000,1357906683000000,1357906699000000,1357906722000000,1357906742000000,1357906759000000,1357906763000000,1357906783000000,1357906804000000,1357906818000000,1357906822000000,1357906843000000,1357906864000000,1357906880000000,1357906884000000,1357906905000000,1357906925000000],\"vehicle_id\":[\"33437\",\"33437\",\"33437\",\"33437\",\"33437\",\"33437\",\"33437\",\"33437\",\"33437\",\"33437\",\"33437\",\"33437\",\"33437\",\"33437\",\"33437\",\"33437\",\"33437\",\"33437\",\"33437\",\"33437\",\"33437\",\"33437\",\"33437\",\"33437\",\"33437\",\"33437\",\"33437\",\"33437\",\"33437\",\"33437\",\"33437\",\"33437\",\"33437\",\"33437\",\"33437\",\"33437\",\"33437\",\"33437\",\"33437\",\"33437\",\"33437\",\"33437\",\"33437\",\"33437\",\"33437\",\"33437\",\"33437\",\"33437\",\"33437\",\"33437\",\"33437\",\"33437\",\"33437\",\"33437\",\"33437\",\"33437\",\"33437\",\"33437\",\"33437\",\"33437\",\"33437\",\"33437\",\"33437\",\"33437\",\"33437\",\"33437\",\"33437\",\"33437\",\"33437\",\"33437\",\"33437\",\"33437\",\"33437\",\"33437\",\"33437\",\"33437\",\"33437\",\"33437\",\"33437\",\"33437\",\"33437\",\"33437\",\"33437\",\"33437\",\"33437\",\"33437\",\"33437\",\"33437\",\"33437\",\"33437\",\"33437\",\"33437\",\"33437\",\"33437\",\"33437\",\"33437\",\"33437\",\"33437\",\"33437\",\"33437\",\"33437\",\"33437\",\"33437\",\"33437\",\"33437\",\"33437\",\"33437\",\"33437\",\"33437\",\"33437\",\"33437\",\"33437\",\"33437\",\"33437\",\"33437\",\"33437\",\"33437\",\"33437\",\"33437\",\"33437\",\"33437\",\"33437\",\"33437\",\"33437\",\"33437\",\"33437\",\"33437\",\"33437\",\"33437\",\"33437\",\"33437\",\"33437\",\"33437\",\"33437\",\"33437\",\"33437\",\"33437\",\"33437\",\"33437\",\"33437\",\"33437\",\"33437\",\"33437\",\"33437\",\"33437\",\"33437\",\"33437\",\"33437\",\"33437\",\"33437\",\"33437\",\"33437\",\"33437\",\"33437\",\"33437\",\"33437\",\"33437\",\"33437\",\"33437\",\"33437\",\"33437\",\"33437\",\"33437\",\"33437\",\"33437\",\"33437\",\"33437\",\"33437\",\"33437\",\"33437\",\"33437\",\"33437\",\"33437\",\"33437\",\"33437\",\"33437\",\"33437\",\"33437\",\"33437\",\"33437\",\"33437\",\"33437\",\"33437\",\"33437\",\"33437\",\"33437\",\"33437\",\"33437\",\"33437\",\"33437\",\"33437\",\"33437\",\"33437\",\"33437\",\"33437\",\"33437\",\"33437\",\"33437\",\"33437\",\"33437\",\"33437\",\"33437\",\"33437\",\"33437\",\"33437\",\"33437\",\"33437\",\"33437\",\"33437\",\"33437\",\"33437\",\"33437\",\"33437\",\"33437\",\"33437\",\"33437\",\"33437\",\"33437\",\"33437\",\"33437\",\"33437\",\"33437\",\"33437\",\"33437\",\"33437\",\"33437\",\"33437\",\"33437\",\"33437\",\"33437\",\"33437\",\"33437\",\"33437\",\"33437\",\"33437\",\"33437\",\"33437\",\"33437\",\"33437\",\"33437\",\"33437\",\"33437\",\"33437\",\"33437\",\"33437\",\"33437\",\"33437\",\"33437\",\"33437\",\"33437\",\"33437\",\"33437\",\"33437\",\"33437\",\"33437\",\"33437\",\"33437\",\"33437\",\"33437\",\"33437\",\"33437\",\"33437\",\"33437\",\"33437\",\"33437\",\"33437\",\"33437\",\"33437\",\"33437\",\"33437\",\"33437\",\"33437\",\"33437\",\"33437\",\"33437\"],\"vehicle_journey_id\":[\"3612\",\"3612\",\"3612\",\"3612\",\"3612\",\"3612\",\"3612\",\"3612\",\"3612\",\"3612\",\"3612\",\"3612\",\"3612\",\"3612\",\"3612\",\"3612\",\"3612\",\"3612\",\"3612\",\"3612\",\"3612\",\"3612\",\"3612\",\"3612\",\"3612\",\"3612\",\"3612\",\"3612\",\"3612\",\"3612\",\"3612\",\"3612\",\"3612\",\"3612\",\"3612\",\"3612\",\"3612\",\"3612\",\"3612\",\"3612\",\"3612\",\"3612\",\"3612\",\"3612\",\"3612\",\"3612\",\"3612\",\"3612\",\"3612\",\"3612\",\"3612\",\"3612\",\"3612\",\"3612\",\"3612\",\"3612\",\"3612\",\"3612\",\"3612\",\"3612\",\"3612\",\"3612\",\"3612\",\"3612\",\"3612\",\"3612\",\"3612\",\"3612\",\"3612\",\"3612\",\"3612\",\"3612\",\"3612\",\"3612\",\"3612\",\"3612\",\"3612\",\"3612\",\"3612\",\"3612\",\"3612\",\"3612\",\"3612\",\"3612\",\"3612\",\"3612\",\"3612\",\"3612\",\"3612\",\"3612\",\"3612\",\"3612\",\"3612\",\"3612\",\"3612\",\"3612\",\"3612\",\"3612\",\"3612\",\"3612\",\"3612\",\"3612\",\"3612\",\"3612\",\"3612\",\"3612\",\"3612\",\"3612\",\"3612\",\"3612\",\"3612\",\"3612\",\"3612\",\"3612\",\"3612\",\"3612\",\"3612\",\"3612\",\"3612\",\"3612\",\"3612\",\"3612\",\"3612\",\"3612\",\"3612\",\"3612\",\"3612\",\"3612\",\"3612\",\"3612\",\"3612\",\"3612\",\"3612\",\"3612\",\"3612\",\"3612\",\"3612\",\"3612\",\"3612\",\"3612\",\"3612\",\"3612\",\"3612\",\"3612\",\"3612\",\"3612\",\"3612\",\"3612\",\"3612\",\"3612\",\"3612\",\"3612\",\"3612\",\"3612\",\"3612\",\"3612\",\"3612\",\"3612\",\"3612\",\"3612\",\"3612\",\"3612\",\"3612\",\"3612\",\"3612\",\"3612\",\"3612\",\"3612\",\"3612\",\"3612\",\"3612\",\"3612\",\"3612\",\"3612\",\"3612\",\"3612\",\"3612\",\"3612\",\"3612\",\"3612\",\"3612\",\"3612\",\"3612\",\"3612\",\"3612\",\"3612\",\"3612\",\"3612\",\"3612\",\"3612\",\"3612\",\"3612\",\"3612\",\"3612\",\"3612\",\"3612\",\"3612\",\"3612\",\"3612\",\"3612\",\"3612\",\"3612\",\"3612\",\"3612\",\"3612\",\"3612\",\"3612\",\"3612\",\"3612\",\"3612\",\"3612\",\"3612\",\"3612\",\"3612\",\"3612\",\"3612\",\"3612\",\"3612\",\"3612\",\"3612\",\"3612\",\"3612\",\"3612\",\"3612\",\"3612\",\"3612\",\"3612\",\"3612\",\"3612\",\"3612\",\"3612\",\"3612\",\"3612\",\"3612\",\"3612\",\"3612\",\"3612\",\"3612\",\"3612\",\"3612\",\"3612\",\"3612\",\"3612\",\"3612\",\"3612\",\"3612\",\"3612\",\"3612\",\"3612\",\"3612\",\"3612\",\"3612\",\"3612\",\"3612\",\"3612\",\"3612\",\"3612\",\"3612\",\"3612\",\"3612\",\"3612\",\"3612\",\"3612\",\"3612\",\"3612\",\"3612\",\"3612\",\"3612\",\"3612\",\"3612\",\"3612\",\"3612\",\"3612\",\"3612\",\"3612\"],\"velocity\":{\"__ndarray__\":\"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\",\"dtype\":\"float64\",\"order\":\"little\",\"shape\":[275]}},\"selected\":{\"id\":\"2122\"},\"selection_policy\":{\"id\":\"2121\"}},\"id\":\"2039\",\"type\":\"ColumnDataSource\"},{\"attributes\":{\"fill_color\":{\"value\":\"blue\"},\"line_color\":{\"value\":\"blue\"},\"x\":{\"value\":-705107.0055218214},\"y\":{\"value\":7039981.218506066}},\"id\":\"2052\",\"type\":\"Circle\"},{\"attributes\":{},\"id\":\"2125\",\"type\":\"UnionRenderers\"},{\"attributes\":{\"formatter\":{\"id\":\"2017\"},\"ticker\":{\"id\":\"2015\"}},\"id\":\"2014\",\"type\":\"MercatorAxis\"},{\"attributes\":{\"text\":\"\"},\"id\":\"2115\",\"type\":\"Title\"},{\"attributes\":{\"fill_alpha\":{\"value\":0.1},\"fill_color\":{\"value\":\"blue\"},\"line_alpha\":{\"value\":0.1},\"line_color\":{\"value\":\"blue\"},\"x\":{\"value\":-705107.0055218214},\"y\":{\"value\":7039981.218506066}},\"id\":\"2053\",\"type\":\"Circle\"},{\"attributes\":{\"data_source\":{\"id\":\"2045\"},\"glyph\":{\"id\":\"2047\"},\"hover_glyph\":null,\"muted_glyph\":null,\"nonselection_glyph\":{\"id\":\"2048\"},\"selection_glyph\":null,\"view\":{\"id\":\"2050\"}},\"id\":\"2049\",\"type\":\"GlyphRenderer\"},{\"attributes\":{},\"id\":\"2002\",\"type\":\"LinearScale\"},{\"attributes\":{},\"id\":\"2000\",\"type\":\"DataRange1d\"}],\"root_ids\":[\"1997\"]},\"title\":\"Bokeh Application\",\"version\":\"2.2.1\"}};\n",
       "  var render_items = [{\"docid\":\"ad6061f7-b048-44a8-b937-8f074f48ab69\",\"root_ids\":[\"1997\"],\"roots\":{\"1997\":\"e9ede584-65c5-43f7-86ea-e0204ea8318b\"}}];\n",
       "  root.Bokeh.embed.embed_items_notebook(docs_json, render_items);\n",
       "\n",
       "  }\n",
       "  if (root.Bokeh !== undefined) {\n",
       "    embed_document(root);\n",
       "  } else {\n",
       "    var attempts = 0;\n",
       "    var timer = setInterval(function(root) {\n",
       "      if (root.Bokeh !== undefined) {\n",
       "        clearInterval(timer);\n",
       "        embed_document(root);\n",
       "      } else {\n",
       "        attempts++;\n",
       "        if (attempts > 100) {\n",
       "          clearInterval(timer);\n",
       "          console.log(\"Bokeh: ERROR: Unable to run BokehJS code because BokehJS library is missing\");\n",
       "        }\n",
       "      }\n",
       "    }, 10, root)\n",
       "  }\n",
       "})(window);"
      ],
      "application/vnd.bokehjs_exec.v0+json": ""
     },
     "metadata": {
      "application/vnd.bokehjs_exec.v0+json": {
       "id": "1997"
      }
     },
     "output_type": "display_data"
    }
   ],
   "source": [
    "plot_map(df[df.ID == 10])\n",
    "plot_map(df[df.ID == 66])\n",
    "plot_map(df[df.ID == 99])"
   ]
  },
  {
   "cell_type": "markdown",
   "metadata": {},
   "source": [
    "#### Alguns pontos que mesmo sendo detectados como válidos não aparentam ser quando plotados podem aparecer."
   ]
  },
  {
   "cell_type": "markdown",
   "metadata": {},
   "source": [
    "Observando a trajetória com maior distancia percorrida podemos ver se há algo equivocado. \n",
    "Podemos incrementar a exclusão de outliers retirando trajetórias muito curta ou muito longas basedas na distância total."
   ]
  },
  {
   "cell_type": "code",
   "execution_count": 89,
   "metadata": {},
   "outputs": [
    {
     "data": {
      "text/plain": [
       "array([0.        , 1.98077615, 3.78394051, ..., 5.97356508, 1.66940787,\n",
       "       1.13065551])"
      ]
     },
     "execution_count": 89,
     "metadata": {},
     "output_type": "execute_result"
    }
   ],
   "source": [
    "df1.dist_from_old_point.unique()"
   ]
  },
  {
   "cell_type": "code",
   "execution_count": 90,
   "metadata": {},
   "outputs": [],
   "source": [
    "accum = df1.groupby(['line_id', 'ID' ]).dist_from_old_point.sum()\n",
    "long_run = accum.max()"
   ]
  },
  {
   "cell_type": "code",
   "execution_count": 91,
   "metadata": {},
   "outputs": [
    {
     "data": {
      "text/html": [
       "<div>\n",
       "<style scoped>\n",
       "    .dataframe tbody tr th:only-of-type {\n",
       "        vertical-align: middle;\n",
       "    }\n",
       "\n",
       "    .dataframe tbody tr th {\n",
       "        vertical-align: top;\n",
       "    }\n",
       "\n",
       "    .dataframe thead th {\n",
       "        text-align: right;\n",
       "    }\n",
       "</style>\n",
       "<table border=\"1\" class=\"dataframe\">\n",
       "  <thead>\n",
       "    <tr style=\"text-align: right;\">\n",
       "      <th></th>\n",
       "      <th>line_id</th>\n",
       "      <th>ID</th>\n",
       "      <th>dist_from_old_point</th>\n",
       "    </tr>\n",
       "  </thead>\n",
       "  <tbody>\n",
       "    <tr>\n",
       "      <th>0</th>\n",
       "      <td>1.0</td>\n",
       "      <td>0</td>\n",
       "      <td>7096.993717</td>\n",
       "    </tr>\n",
       "    <tr>\n",
       "      <th>1</th>\n",
       "      <td>1.0</td>\n",
       "      <td>1</td>\n",
       "      <td>10467.496812</td>\n",
       "    </tr>\n",
       "    <tr>\n",
       "      <th>2</th>\n",
       "      <td>102.0</td>\n",
       "      <td>2</td>\n",
       "      <td>9255.685047</td>\n",
       "    </tr>\n",
       "    <tr>\n",
       "      <th>3</th>\n",
       "      <td>102.0</td>\n",
       "      <td>3</td>\n",
       "      <td>11588.653976</td>\n",
       "    </tr>\n",
       "    <tr>\n",
       "      <th>4</th>\n",
       "      <td>111.0</td>\n",
       "      <td>4</td>\n",
       "      <td>5739.710788</td>\n",
       "    </tr>\n",
       "    <tr>\n",
       "      <th>...</th>\n",
       "      <td>...</td>\n",
       "      <td>...</td>\n",
       "      <td>...</td>\n",
       "    </tr>\n",
       "    <tr>\n",
       "      <th>95</th>\n",
       "      <td>83.0</td>\n",
       "      <td>95</td>\n",
       "      <td>11785.548041</td>\n",
       "    </tr>\n",
       "    <tr>\n",
       "      <th>96</th>\n",
       "      <td>84.0</td>\n",
       "      <td>96</td>\n",
       "      <td>14884.509120</td>\n",
       "    </tr>\n",
       "    <tr>\n",
       "      <th>97</th>\n",
       "      <td>9.0</td>\n",
       "      <td>97</td>\n",
       "      <td>14866.669792</td>\n",
       "    </tr>\n",
       "    <tr>\n",
       "      <th>98</th>\n",
       "      <td>9.0</td>\n",
       "      <td>98</td>\n",
       "      <td>13486.643912</td>\n",
       "    </tr>\n",
       "    <tr>\n",
       "      <th>99</th>\n",
       "      <td>9.0</td>\n",
       "      <td>99</td>\n",
       "      <td>11545.717372</td>\n",
       "    </tr>\n",
       "  </tbody>\n",
       "</table>\n",
       "<p>100 rows × 3 columns</p>\n",
       "</div>"
      ],
      "text/plain": [
       "   line_id  ID  dist_from_old_point\n",
       "0      1.0   0          7096.993717\n",
       "1      1.0   1         10467.496812\n",
       "2    102.0   2          9255.685047\n",
       "3    102.0   3         11588.653976\n",
       "4    111.0   4          5739.710788\n",
       "..     ...  ..                  ...\n",
       "95    83.0  95         11785.548041\n",
       "96    84.0  96         14884.509120\n",
       "97     9.0  97         14866.669792\n",
       "98     9.0  98         13486.643912\n",
       "99     9.0  99         11545.717372\n",
       "\n",
       "[100 rows x 3 columns]"
      ]
     },
     "execution_count": 91,
     "metadata": {},
     "output_type": "execute_result"
    }
   ],
   "source": [
    "accum.reset_index()"
   ]
  },
  {
   "cell_type": "code",
   "execution_count": 92,
   "metadata": {},
   "outputs": [
    {
     "data": {
      "text/plain": [
       "<AxesSubplot:>"
      ]
     },
     "execution_count": 92,
     "metadata": {},
     "output_type": "execute_result"
    },
    {
     "data": {
      "image/png": "[encoded data removed]",
      "text/plain": [
       "<Figure size 432x288 with 1 Axes>"
      ]
     },
     "metadata": {
      "needs_background": "light"
     },
     "output_type": "display_data"
    }
   ],
   "source": [
    "accum.hist()"
   ]
  },
  {
   "cell_type": "code",
   "execution_count": 93,
   "metadata": {},
   "outputs": [
    {
     "data": {
      "text/plain": [
       "<AxesSubplot:>"
      ]
     },
     "execution_count": 93,
     "metadata": {},
     "output_type": "execute_result"
    },
    {
     "data": {
      "image/png": "[encoded data removed]",
      "text/plain": [
       "<Figure size 432x288 with 1 Axes>"
      ]
     },
     "metadata": {
      "needs_background": "light"
     },
     "output_type": "display_data"
    }
   ],
   "source": [
    "accum.plot(kind='box')"
   ]
  },
  {
   "cell_type": "code",
   "execution_count": 94,
   "metadata": {},
   "outputs": [],
   "source": [
    "accum = accum.reset_index()\n",
    "accum.columns = ['line', 'ID', 'total_dist']\n",
    "accum.line = accum.line.astype('float')"
   ]
  },
  {
   "cell_type": "code",
   "execution_count": 95,
   "metadata": {
    "scrolled": false
   },
   "outputs": [
    {
     "name": "stderr",
     "output_type": "stream",
     "text": [
      "/home/saci/hd/projetos/trajetorias/its_research/venvTraj/lib/python3.8/site-packages/seaborn/axisgrid.py:645: UserWarning: Using the boxplot function without specifying `order` is likely to produce an incorrect plot.\n",
      "  warnings.warn(warning)\n"
     ]
    },
    {
     "data": {
      "text/plain": [
       "<seaborn.axisgrid.FacetGrid at 0x7f1056bc1490>"
      ]
     },
     "execution_count": 95,
     "metadata": {},
     "output_type": "execute_result"
    },
    {
     "data": {
      "image/png": "[encoded data removed]",
      "text/plain": [
       "<Figure size 864x2376 with 44 Axes>"
      ]
     },
     "metadata": {
      "needs_background": "light"
     },
     "output_type": "display_data"
    }
   ],
   "source": [
    "g = sns.FacetGrid(accum, col=\"line\", col_wrap=4)\n",
    "g.map(sns.boxplot, 'total_dist')\n",
    "#sns.boxplot(data=accum, x='total_dist', hue='line')\n",
    "#(\"alive\", col = \"deck\", col_wrap = 3,data = df[df.deck.notnull()],kind = \"count\")\n",
    "#sns.boxplot(x=var, y='SalePrice', data=housing, ax=subplot)"
   ]
  },
  {
   "cell_type": "markdown",
   "metadata": {},
   "source": [
    "# Projeto 2"
   ]
  },
  {
   "cell_type": "code",
   "execution_count": 197,
   "metadata": {},
   "outputs": [
    {
     "data": {
      "text/html": [
       "<div>\n",
       "<style scoped>\n",
       "    .dataframe tbody tr th:only-of-type {\n",
       "        vertical-align: middle;\n",
       "    }\n",
       "\n",
       "    .dataframe tbody tr th {\n",
       "        vertical-align: top;\n",
       "    }\n",
       "\n",
       "    .dataframe thead th {\n",
       "        text-align: right;\n",
       "    }\n",
       "</style>\n",
       "<table border=\"1\" class=\"dataframe\">\n",
       "  <thead>\n",
       "    <tr style=\"text-align: right;\">\n",
       "      <th></th>\n",
       "      <th>timestamp</th>\n",
       "      <th>line_id</th>\n",
       "      <th>journey_id</th>\n",
       "      <th>time_frame</th>\n",
       "      <th>vehicle_journey_id</th>\n",
       "      <th>operator</th>\n",
       "      <th>congestion</th>\n",
       "      <th>lng</th>\n",
       "      <th>lat</th>\n",
       "      <th>delay</th>\n",
       "      <th>block_id</th>\n",
       "      <th>vehicle_id</th>\n",
       "      <th>stop_id</th>\n",
       "      <th>stop</th>\n",
       "      <th>datetime</th>\n",
       "      <th>hour</th>\n",
       "      <th>day</th>\n",
       "      <th>dist_from_old_point</th>\n",
       "      <th>time_from_old_point</th>\n",
       "      <th>velocity</th>\n",
       "      <th>acc</th>\n",
       "      <th>ID</th>\n",
       "      <th>outlier</th>\n",
       "      <th>outlier_norm</th>\n",
       "      <th>outlier_0</th>\n",
       "      <th>outlier2</th>\n",
       "      <th>outlier2_norm</th>\n",
       "      <th>MF_lat</th>\n",
       "      <th>MF_lng</th>\n",
       "      <th>MF_dist_from_old_point</th>\n",
       "      <th>MF_vel</th>\n",
       "      <th>MF_acc</th>\n",
       "      <th>outlier_MF</th>\n",
       "    </tr>\n",
       "  </thead>\n",
       "  <tbody>\n",
       "    <tr>\n",
       "      <th>1452351</th>\n",
       "      <td>1357932478000000</td>\n",
       "      <td>1.0</td>\n",
       "      <td>00011001</td>\n",
       "      <td>2013-01-11</td>\n",
       "      <td>4617</td>\n",
       "      <td>RD</td>\n",
       "      <td>False</td>\n",
       "      <td>-6.210967</td>\n",
       "      <td>53.324402</td>\n",
       "      <td>0</td>\n",
       "      <td>1001</td>\n",
       "      <td>43072</td>\n",
       "      <td>381.0</td>\n",
       "      <td>True</td>\n",
       "      <td>2013-01-11 19:27:58</td>\n",
       "      <td>19</td>\n",
       "      <td>11</td>\n",
       "      <td>0.000000</td>\n",
       "      <td>0</td>\n",
       "      <td>0.000000</td>\n",
       "      <td>0.000000</td>\n",
       "      <td>0</td>\n",
       "      <td>1</td>\n",
       "      <td>1</td>\n",
       "      <td>-1</td>\n",
       "      <td>1</td>\n",
       "      <td>1</td>\n",
       "      <td>53.382707</td>\n",
       "      <td>-6.355567</td>\n",
       "      <td>0.000000</td>\n",
       "      <td>0.000000</td>\n",
       "      <td>0.000000</td>\n",
       "      <td>1</td>\n",
       "    </tr>\n",
       "    <tr>\n",
       "      <th>1452840</th>\n",
       "      <td>1357932498000000</td>\n",
       "      <td>1.0</td>\n",
       "      <td>00011001</td>\n",
       "      <td>2013-01-11</td>\n",
       "      <td>4617</td>\n",
       "      <td>RD</td>\n",
       "      <td>False</td>\n",
       "      <td>-6.210983</td>\n",
       "      <td>53.324417</td>\n",
       "      <td>0</td>\n",
       "      <td>1001</td>\n",
       "      <td>43072</td>\n",
       "      <td>381.0</td>\n",
       "      <td>True</td>\n",
       "      <td>2013-01-11 19:28:18</td>\n",
       "      <td>19</td>\n",
       "      <td>11</td>\n",
       "      <td>1.980776</td>\n",
       "      <td>20</td>\n",
       "      <td>0.099039</td>\n",
       "      <td>0.004952</td>\n",
       "      <td>0</td>\n",
       "      <td>1</td>\n",
       "      <td>1</td>\n",
       "      <td>1</td>\n",
       "      <td>1</td>\n",
       "      <td>1</td>\n",
       "      <td>53.368211</td>\n",
       "      <td>-6.319193</td>\n",
       "      <td>2909.143428</td>\n",
       "      <td>145.457171</td>\n",
       "      <td>7.272859</td>\n",
       "      <td>-1</td>\n",
       "    </tr>\n",
       "    <tr>\n",
       "      <th>1453326</th>\n",
       "      <td>1357932519000000</td>\n",
       "      <td>1.0</td>\n",
       "      <td>00011001</td>\n",
       "      <td>2013-01-11</td>\n",
       "      <td>4617</td>\n",
       "      <td>RD</td>\n",
       "      <td>False</td>\n",
       "      <td>-6.210983</td>\n",
       "      <td>53.324383</td>\n",
       "      <td>0</td>\n",
       "      <td>1001</td>\n",
       "      <td>43072</td>\n",
       "      <td>381.0</td>\n",
       "      <td>True</td>\n",
       "      <td>2013-01-11 19:28:39</td>\n",
       "      <td>19</td>\n",
       "      <td>11</td>\n",
       "      <td>3.783941</td>\n",
       "      <td>21</td>\n",
       "      <td>0.180188</td>\n",
       "      <td>0.008580</td>\n",
       "      <td>0</td>\n",
       "      <td>1</td>\n",
       "      <td>1</td>\n",
       "      <td>1</td>\n",
       "      <td>1</td>\n",
       "      <td>1</td>\n",
       "      <td>53.353707</td>\n",
       "      <td>-6.282820</td>\n",
       "      <td>2910.245061</td>\n",
       "      <td>138.583098</td>\n",
       "      <td>6.599195</td>\n",
       "      <td>-1</td>\n",
       "    </tr>\n",
       "    <tr>\n",
       "      <th>1453484</th>\n",
       "      <td>1357932523000000</td>\n",
       "      <td>1.0</td>\n",
       "      <td>00011001</td>\n",
       "      <td>2013-01-11</td>\n",
       "      <td>4617</td>\n",
       "      <td>RD</td>\n",
       "      <td>False</td>\n",
       "      <td>-6.210983</td>\n",
       "      <td>53.324383</td>\n",
       "      <td>0</td>\n",
       "      <td>1001</td>\n",
       "      <td>43072</td>\n",
       "      <td>381.0</td>\n",
       "      <td>True</td>\n",
       "      <td>2013-01-11 19:28:43</td>\n",
       "      <td>19</td>\n",
       "      <td>11</td>\n",
       "      <td>0.000000</td>\n",
       "      <td>4</td>\n",
       "      <td>0.000000</td>\n",
       "      <td>0.000000</td>\n",
       "      <td>0</td>\n",
       "      <td>1</td>\n",
       "      <td>1</td>\n",
       "      <td>-1</td>\n",
       "      <td>1</td>\n",
       "      <td>1</td>\n",
       "      <td>53.339017</td>\n",
       "      <td>-6.246813</td>\n",
       "      <td>2902.306885</td>\n",
       "      <td>725.576721</td>\n",
       "      <td>181.394180</td>\n",
       "      <td>-1</td>\n",
       "    </tr>\n",
       "    <tr>\n",
       "      <th>1453894</th>\n",
       "      <td>1357932537000000</td>\n",
       "      <td>1.0</td>\n",
       "      <td>00011001</td>\n",
       "      <td>2013-01-11</td>\n",
       "      <td>4617</td>\n",
       "      <td>RD</td>\n",
       "      <td>False</td>\n",
       "      <td>-6.210967</td>\n",
       "      <td>53.324383</td>\n",
       "      <td>0</td>\n",
       "      <td>1001</td>\n",
       "      <td>43072</td>\n",
       "      <td>381.0</td>\n",
       "      <td>True</td>\n",
       "      <td>2013-01-11 19:28:57</td>\n",
       "      <td>19</td>\n",
       "      <td>11</td>\n",
       "      <td>1.066127</td>\n",
       "      <td>14</td>\n",
       "      <td>0.076152</td>\n",
       "      <td>0.005439</td>\n",
       "      <td>0</td>\n",
       "      <td>1</td>\n",
       "      <td>1</td>\n",
       "      <td>1</td>\n",
       "      <td>-1</td>\n",
       "      <td>1</td>\n",
       "      <td>53.324394</td>\n",
       "      <td>-6.210977</td>\n",
       "      <td>2889.413357</td>\n",
       "      <td>206.386668</td>\n",
       "      <td>14.741905</td>\n",
       "      <td>-1</td>\n",
       "    </tr>\n",
       "  </tbody>\n",
       "</table>\n",
       "</div>"
      ],
      "text/plain": [
       "                timestamp line_id journey_id  time_frame vehicle_journey_id  \\\n",
       "1452351  1357932478000000     1.0   00011001  2013-01-11               4617   \n",
       "1452840  1357932498000000     1.0   00011001  2013-01-11               4617   \n",
       "1453326  1357932519000000     1.0   00011001  2013-01-11               4617   \n",
       "1453484  1357932523000000     1.0   00011001  2013-01-11               4617   \n",
       "1453894  1357932537000000     1.0   00011001  2013-01-11               4617   \n",
       "\n",
       "        operator  congestion       lng        lat  delay block_id vehicle_id  \\\n",
       "1452351       RD       False -6.210967  53.324402      0     1001      43072   \n",
       "1452840       RD       False -6.210983  53.324417      0     1001      43072   \n",
       "1453326       RD       False -6.210983  53.324383      0     1001      43072   \n",
       "1453484       RD       False -6.210983  53.324383      0     1001      43072   \n",
       "1453894       RD       False -6.210967  53.324383      0     1001      43072   \n",
       "\n",
       "        stop_id  stop            datetime  hour  day  dist_from_old_point  \\\n",
       "1452351   381.0  True 2013-01-11 19:27:58    19   11             0.000000   \n",
       "1452840   381.0  True 2013-01-11 19:28:18    19   11             1.980776   \n",
       "1453326   381.0  True 2013-01-11 19:28:39    19   11             3.783941   \n",
       "1453484   381.0  True 2013-01-11 19:28:43    19   11             0.000000   \n",
       "1453894   381.0  True 2013-01-11 19:28:57    19   11             1.066127   \n",
       "\n",
       "         time_from_old_point  velocity       acc  ID  outlier  outlier_norm  \\\n",
       "1452351                    0  0.000000  0.000000   0        1             1   \n",
       "1452840                   20  0.099039  0.004952   0        1             1   \n",
       "1453326                   21  0.180188  0.008580   0        1             1   \n",
       "1453484                    4  0.000000  0.000000   0        1             1   \n",
       "1453894                   14  0.076152  0.005439   0        1             1   \n",
       "\n",
       "         outlier_0  outlier2  outlier2_norm     MF_lat    MF_lng  \\\n",
       "1452351         -1         1              1  53.382707 -6.355567   \n",
       "1452840          1         1              1  53.368211 -6.319193   \n",
       "1453326          1         1              1  53.353707 -6.282820   \n",
       "1453484         -1         1              1  53.339017 -6.246813   \n",
       "1453894          1        -1              1  53.324394 -6.210977   \n",
       "\n",
       "         MF_dist_from_old_point      MF_vel      MF_acc  outlier_MF  \n",
       "1452351                0.000000    0.000000    0.000000           1  \n",
       "1452840             2909.143428  145.457171    7.272859          -1  \n",
       "1453326             2910.245061  138.583098    6.599195          -1  \n",
       "1453484             2902.306885  725.576721  181.394180          -1  \n",
       "1453894             2889.413357  206.386668   14.741905          -1  "
      ]
     },
     "execution_count": 197,
     "metadata": {},
     "output_type": "execute_result"
    }
   ],
   "source": [
    "df.head()"
   ]
  },
  {
   "cell_type": "code",
   "execution_count": 202,
   "metadata": {},
   "outputs": [
    {
     "data": {
      "text/plain": [
       "<StringArray>\n",
       "['00011001', '01021001', '01111001', '01140001', '01200001', '01201001',\n",
       " '01230001', '01231001', '00131007', '00131010', '01300001', '01301001',\n",
       " '00140001', '00141001', '00611001', '01450001', '01451001', '00151001',\n",
       " '015B1001', '015B1002', '01501001', '01511001', '00160001', '017A1004',\n",
       " '00181001', '02391001', '02701001', '025A0001', '025B1001', '025X1001',\n",
       " '077A1001', '029A1001', '00310003', '00320001', '031A1001', '00331001',\n",
       " '00331004', '033A0001', '00370001', '00381001', '039A0001', '039A1001',\n",
       " '00041001', '00400001', '00401001', '00411001', '041C0001', '00430001',\n",
       " '00431001', '045A0001', '046A1001', '00531001', '054A0001', '054A1001',\n",
       " '00630002', '00260001', '00661001', '00670001', '00690001', '00070001',\n",
       " '00071001', '00081001', '00761001', '00790001', '079A0001', '00830001',\n",
       " '00831001', '083A0001', '00841002', '00090001', '00091001']\n",
       "Length: 71, dtype: string"
      ]
     },
     "execution_count": 202,
     "metadata": {},
     "output_type": "execute_result"
    }
   ],
   "source": [
    "df.journey_id.unique()"
   ]
  },
  {
   "cell_type": "code",
   "execution_count": 203,
   "metadata": {},
   "outputs": [],
   "source": [
    "dfx = df[df.journey_id.isin(['00011001', '01021001', '01111001', '01140001', '01200001', '01201001',\n",
    " '01230001',])]"
   ]
  },
  {
   "cell_type": "code",
   "execution_count": 204,
   "metadata": {},
   "outputs": [
    {
     "data": {
      "text/html": [
       "<div>\n",
       "<style scoped>\n",
       "    .dataframe tbody tr th:only-of-type {\n",
       "        vertical-align: middle;\n",
       "    }\n",
       "\n",
       "    .dataframe tbody tr th {\n",
       "        vertical-align: top;\n",
       "    }\n",
       "\n",
       "    .dataframe thead th {\n",
       "        text-align: right;\n",
       "    }\n",
       "</style>\n",
       "<table border=\"1\" class=\"dataframe\">\n",
       "  <thead>\n",
       "    <tr style=\"text-align: right;\">\n",
       "      <th></th>\n",
       "      <th>timestamp</th>\n",
       "      <th>line_id</th>\n",
       "      <th>journey_id</th>\n",
       "      <th>time_frame</th>\n",
       "      <th>vehicle_journey_id</th>\n",
       "      <th>operator</th>\n",
       "      <th>congestion</th>\n",
       "      <th>lng</th>\n",
       "      <th>lat</th>\n",
       "      <th>delay</th>\n",
       "      <th>block_id</th>\n",
       "      <th>vehicle_id</th>\n",
       "      <th>stop_id</th>\n",
       "      <th>stop</th>\n",
       "      <th>datetime</th>\n",
       "      <th>hour</th>\n",
       "      <th>day</th>\n",
       "      <th>dist_from_old_point</th>\n",
       "      <th>time_from_old_point</th>\n",
       "      <th>velocity</th>\n",
       "      <th>acc</th>\n",
       "      <th>ID</th>\n",
       "      <th>outlier</th>\n",
       "      <th>outlier_norm</th>\n",
       "      <th>outlier_0</th>\n",
       "      <th>outlier2</th>\n",
       "      <th>outlier2_norm</th>\n",
       "      <th>MF_lat</th>\n",
       "      <th>MF_lng</th>\n",
       "      <th>MF_dist_from_old_point</th>\n",
       "      <th>MF_vel</th>\n",
       "      <th>MF_acc</th>\n",
       "      <th>outlier_MF</th>\n",
       "    </tr>\n",
       "  </thead>\n",
       "  <tbody>\n",
       "    <tr>\n",
       "      <th>1452351</th>\n",
       "      <td>1357932478000000</td>\n",
       "      <td>1.0</td>\n",
       "      <td>00011001</td>\n",
       "      <td>2013-01-11</td>\n",
       "      <td>4617</td>\n",
       "      <td>RD</td>\n",
       "      <td>False</td>\n",
       "      <td>-6.210967</td>\n",
       "      <td>53.324402</td>\n",
       "      <td>0</td>\n",
       "      <td>1001</td>\n",
       "      <td>43072</td>\n",
       "      <td>381.0</td>\n",
       "      <td>True</td>\n",
       "      <td>2013-01-11 19:27:58</td>\n",
       "      <td>19</td>\n",
       "      <td>11</td>\n",
       "      <td>0.000000</td>\n",
       "      <td>0</td>\n",
       "      <td>0.000000</td>\n",
       "      <td>0.000000</td>\n",
       "      <td>0</td>\n",
       "      <td>1</td>\n",
       "      <td>1</td>\n",
       "      <td>-1</td>\n",
       "      <td>1</td>\n",
       "      <td>1</td>\n",
       "      <td>53.382707</td>\n",
       "      <td>-6.355567</td>\n",
       "      <td>0.000000</td>\n",
       "      <td>0.000000</td>\n",
       "      <td>0.000000</td>\n",
       "      <td>1</td>\n",
       "    </tr>\n",
       "    <tr>\n",
       "      <th>1452840</th>\n",
       "      <td>1357932498000000</td>\n",
       "      <td>1.0</td>\n",
       "      <td>00011001</td>\n",
       "      <td>2013-01-11</td>\n",
       "      <td>4617</td>\n",
       "      <td>RD</td>\n",
       "      <td>False</td>\n",
       "      <td>-6.210983</td>\n",
       "      <td>53.324417</td>\n",
       "      <td>0</td>\n",
       "      <td>1001</td>\n",
       "      <td>43072</td>\n",
       "      <td>381.0</td>\n",
       "      <td>True</td>\n",
       "      <td>2013-01-11 19:28:18</td>\n",
       "      <td>19</td>\n",
       "      <td>11</td>\n",
       "      <td>1.980776</td>\n",
       "      <td>20</td>\n",
       "      <td>0.099039</td>\n",
       "      <td>0.004952</td>\n",
       "      <td>0</td>\n",
       "      <td>1</td>\n",
       "      <td>1</td>\n",
       "      <td>1</td>\n",
       "      <td>1</td>\n",
       "      <td>1</td>\n",
       "      <td>53.368211</td>\n",
       "      <td>-6.319193</td>\n",
       "      <td>2909.143428</td>\n",
       "      <td>145.457171</td>\n",
       "      <td>7.272859</td>\n",
       "      <td>-1</td>\n",
       "    </tr>\n",
       "    <tr>\n",
       "      <th>1453326</th>\n",
       "      <td>1357932519000000</td>\n",
       "      <td>1.0</td>\n",
       "      <td>00011001</td>\n",
       "      <td>2013-01-11</td>\n",
       "      <td>4617</td>\n",
       "      <td>RD</td>\n",
       "      <td>False</td>\n",
       "      <td>-6.210983</td>\n",
       "      <td>53.324383</td>\n",
       "      <td>0</td>\n",
       "      <td>1001</td>\n",
       "      <td>43072</td>\n",
       "      <td>381.0</td>\n",
       "      <td>True</td>\n",
       "      <td>2013-01-11 19:28:39</td>\n",
       "      <td>19</td>\n",
       "      <td>11</td>\n",
       "      <td>3.783941</td>\n",
       "      <td>21</td>\n",
       "      <td>0.180188</td>\n",
       "      <td>0.008580</td>\n",
       "      <td>0</td>\n",
       "      <td>1</td>\n",
       "      <td>1</td>\n",
       "      <td>1</td>\n",
       "      <td>1</td>\n",
       "      <td>1</td>\n",
       "      <td>53.353707</td>\n",
       "      <td>-6.282820</td>\n",
       "      <td>2910.245061</td>\n",
       "      <td>138.583098</td>\n",
       "      <td>6.599195</td>\n",
       "      <td>-1</td>\n",
       "    </tr>\n",
       "    <tr>\n",
       "      <th>1453484</th>\n",
       "      <td>1357932523000000</td>\n",
       "      <td>1.0</td>\n",
       "      <td>00011001</td>\n",
       "      <td>2013-01-11</td>\n",
       "      <td>4617</td>\n",
       "      <td>RD</td>\n",
       "      <td>False</td>\n",
       "      <td>-6.210983</td>\n",
       "      <td>53.324383</td>\n",
       "      <td>0</td>\n",
       "      <td>1001</td>\n",
       "      <td>43072</td>\n",
       "      <td>381.0</td>\n",
       "      <td>True</td>\n",
       "      <td>2013-01-11 19:28:43</td>\n",
       "      <td>19</td>\n",
       "      <td>11</td>\n",
       "      <td>0.000000</td>\n",
       "      <td>4</td>\n",
       "      <td>0.000000</td>\n",
       "      <td>0.000000</td>\n",
       "      <td>0</td>\n",
       "      <td>1</td>\n",
       "      <td>1</td>\n",
       "      <td>-1</td>\n",
       "      <td>1</td>\n",
       "      <td>1</td>\n",
       "      <td>53.339017</td>\n",
       "      <td>-6.246813</td>\n",
       "      <td>2902.306885</td>\n",
       "      <td>725.576721</td>\n",
       "      <td>181.394180</td>\n",
       "      <td>-1</td>\n",
       "    </tr>\n",
       "    <tr>\n",
       "      <th>1453894</th>\n",
       "      <td>1357932537000000</td>\n",
       "      <td>1.0</td>\n",
       "      <td>00011001</td>\n",
       "      <td>2013-01-11</td>\n",
       "      <td>4617</td>\n",
       "      <td>RD</td>\n",
       "      <td>False</td>\n",
       "      <td>-6.210967</td>\n",
       "      <td>53.324383</td>\n",
       "      <td>0</td>\n",
       "      <td>1001</td>\n",
       "      <td>43072</td>\n",
       "      <td>381.0</td>\n",
       "      <td>True</td>\n",
       "      <td>2013-01-11 19:28:57</td>\n",
       "      <td>19</td>\n",
       "      <td>11</td>\n",
       "      <td>1.066127</td>\n",
       "      <td>14</td>\n",
       "      <td>0.076152</td>\n",
       "      <td>0.005439</td>\n",
       "      <td>0</td>\n",
       "      <td>1</td>\n",
       "      <td>1</td>\n",
       "      <td>1</td>\n",
       "      <td>-1</td>\n",
       "      <td>1</td>\n",
       "      <td>53.324394</td>\n",
       "      <td>-6.210977</td>\n",
       "      <td>2889.413357</td>\n",
       "      <td>206.386668</td>\n",
       "      <td>14.741905</td>\n",
       "      <td>-1</td>\n",
       "    </tr>\n",
       "    <tr>\n",
       "      <th>...</th>\n",
       "      <td>...</td>\n",
       "      <td>...</td>\n",
       "      <td>...</td>\n",
       "      <td>...</td>\n",
       "      <td>...</td>\n",
       "      <td>...</td>\n",
       "      <td>...</td>\n",
       "      <td>...</td>\n",
       "      <td>...</td>\n",
       "      <td>...</td>\n",
       "      <td>...</td>\n",
       "      <td>...</td>\n",
       "      <td>...</td>\n",
       "      <td>...</td>\n",
       "      <td>...</td>\n",
       "      <td>...</td>\n",
       "      <td>...</td>\n",
       "      <td>...</td>\n",
       "      <td>...</td>\n",
       "      <td>...</td>\n",
       "      <td>...</td>\n",
       "      <td>...</td>\n",
       "      <td>...</td>\n",
       "      <td>...</td>\n",
       "      <td>...</td>\n",
       "      <td>...</td>\n",
       "      <td>...</td>\n",
       "      <td>...</td>\n",
       "      <td>...</td>\n",
       "      <td>...</td>\n",
       "      <td>...</td>\n",
       "      <td>...</td>\n",
       "      <td>...</td>\n",
       "    </tr>\n",
       "    <tr>\n",
       "      <th>1146275</th>\n",
       "      <td>1357923386000000</td>\n",
       "      <td>123.0</td>\n",
       "      <td>01230001</td>\n",
       "      <td>2013-01-11</td>\n",
       "      <td>4423</td>\n",
       "      <td>SL</td>\n",
       "      <td>False</td>\n",
       "      <td>-6.227350</td>\n",
       "      <td>53.368584</td>\n",
       "      <td>-82</td>\n",
       "      <td>123014</td>\n",
       "      <td>38041</td>\n",
       "      <td>1490.0</td>\n",
       "      <td>True</td>\n",
       "      <td>2013-01-11 16:56:26</td>\n",
       "      <td>16</td>\n",
       "      <td>11</td>\n",
       "      <td>4.471933</td>\n",
       "      <td>20</td>\n",
       "      <td>0.223597</td>\n",
       "      <td>0.011180</td>\n",
       "      <td>15</td>\n",
       "      <td>1</td>\n",
       "      <td>1</td>\n",
       "      <td>1</td>\n",
       "      <td>1</td>\n",
       "      <td>1</td>\n",
       "      <td>53.368567</td>\n",
       "      <td>-6.227317</td>\n",
       "      <td>0.891959</td>\n",
       "      <td>0.044598</td>\n",
       "      <td>0.002230</td>\n",
       "      <td>1</td>\n",
       "    </tr>\n",
       "    <tr>\n",
       "      <th>1146691</th>\n",
       "      <td>1357923398000000</td>\n",
       "      <td>123.0</td>\n",
       "      <td>01230001</td>\n",
       "      <td>2013-01-11</td>\n",
       "      <td>4423</td>\n",
       "      <td>SL</td>\n",
       "      <td>False</td>\n",
       "      <td>-6.227350</td>\n",
       "      <td>53.368584</td>\n",
       "      <td>-22</td>\n",
       "      <td>123014</td>\n",
       "      <td>38041</td>\n",
       "      <td>1490.0</td>\n",
       "      <td>True</td>\n",
       "      <td>2013-01-11 16:56:38</td>\n",
       "      <td>16</td>\n",
       "      <td>11</td>\n",
       "      <td>0.000000</td>\n",
       "      <td>12</td>\n",
       "      <td>0.000000</td>\n",
       "      <td>0.000000</td>\n",
       "      <td>15</td>\n",
       "      <td>1</td>\n",
       "      <td>1</td>\n",
       "      <td>-1</td>\n",
       "      <td>1</td>\n",
       "      <td>1</td>\n",
       "      <td>53.368571</td>\n",
       "      <td>-6.227327</td>\n",
       "      <td>0.754925</td>\n",
       "      <td>0.062910</td>\n",
       "      <td>0.005243</td>\n",
       "      <td>1</td>\n",
       "    </tr>\n",
       "    <tr>\n",
       "      <th>1147117</th>\n",
       "      <td>1357923407000000</td>\n",
       "      <td>123.0</td>\n",
       "      <td>01230001</td>\n",
       "      <td>2013-01-11</td>\n",
       "      <td>4423</td>\n",
       "      <td>SL</td>\n",
       "      <td>False</td>\n",
       "      <td>-6.227334</td>\n",
       "      <td>53.368633</td>\n",
       "      <td>-22</td>\n",
       "      <td>123014</td>\n",
       "      <td>38041</td>\n",
       "      <td>1490.0</td>\n",
       "      <td>True</td>\n",
       "      <td>2013-01-11 16:56:47</td>\n",
       "      <td>16</td>\n",
       "      <td>11</td>\n",
       "      <td>5.556391</td>\n",
       "      <td>9</td>\n",
       "      <td>0.617377</td>\n",
       "      <td>0.068597</td>\n",
       "      <td>15</td>\n",
       "      <td>-1</td>\n",
       "      <td>-1</td>\n",
       "      <td>-1</td>\n",
       "      <td>-1</td>\n",
       "      <td>-1</td>\n",
       "      <td>53.368584</td>\n",
       "      <td>-6.227334</td>\n",
       "      <td>1.515963</td>\n",
       "      <td>0.168440</td>\n",
       "      <td>0.018716</td>\n",
       "      <td>1</td>\n",
       "    </tr>\n",
       "    <tr>\n",
       "      <th>1147784</th>\n",
       "      <td>1357923425000000</td>\n",
       "      <td>123.0</td>\n",
       "      <td>01230001</td>\n",
       "      <td>2013-01-11</td>\n",
       "      <td>4423</td>\n",
       "      <td>SL</td>\n",
       "      <td>False</td>\n",
       "      <td>-6.227334</td>\n",
       "      <td>53.368568</td>\n",
       "      <td>-22</td>\n",
       "      <td>123014</td>\n",
       "      <td>38041</td>\n",
       "      <td>1490.0</td>\n",
       "      <td>True</td>\n",
       "      <td>2013-01-11 16:57:05</td>\n",
       "      <td>16</td>\n",
       "      <td>11</td>\n",
       "      <td>7.234058</td>\n",
       "      <td>18</td>\n",
       "      <td>0.401892</td>\n",
       "      <td>0.022327</td>\n",
       "      <td>15</td>\n",
       "      <td>1</td>\n",
       "      <td>1</td>\n",
       "      <td>1</td>\n",
       "      <td>1</td>\n",
       "      <td>-1</td>\n",
       "      <td>53.368584</td>\n",
       "      <td>-6.227337</td>\n",
       "      <td>0.226318</td>\n",
       "      <td>0.012573</td>\n",
       "      <td>0.000699</td>\n",
       "      <td>1</td>\n",
       "    </tr>\n",
       "    <tr>\n",
       "      <th>1148456</th>\n",
       "      <td>1357923446000000</td>\n",
       "      <td>123.0</td>\n",
       "      <td>01230001</td>\n",
       "      <td>2013-01-11</td>\n",
       "      <td>4423</td>\n",
       "      <td>SL</td>\n",
       "      <td>False</td>\n",
       "      <td>-6.227366</td>\n",
       "      <td>53.368568</td>\n",
       "      <td>-22</td>\n",
       "      <td>123014</td>\n",
       "      <td>38041</td>\n",
       "      <td>1490.0</td>\n",
       "      <td>True</td>\n",
       "      <td>2013-01-11 16:57:26</td>\n",
       "      <td>16</td>\n",
       "      <td>11</td>\n",
       "      <td>2.130051</td>\n",
       "      <td>21</td>\n",
       "      <td>0.101431</td>\n",
       "      <td>0.004830</td>\n",
       "      <td>15</td>\n",
       "      <td>1</td>\n",
       "      <td>1</td>\n",
       "      <td>1</td>\n",
       "      <td>-1</td>\n",
       "      <td>-1</td>\n",
       "      <td>53.368587</td>\n",
       "      <td>-6.227347</td>\n",
       "      <td>0.777424</td>\n",
       "      <td>0.037020</td>\n",
       "      <td>0.001763</td>\n",
       "      <td>1</td>\n",
       "    </tr>\n",
       "  </tbody>\n",
       "</table>\n",
       "<p>2286 rows × 33 columns</p>\n",
       "</div>"
      ],
      "text/plain": [
       "                timestamp line_id journey_id  time_frame vehicle_journey_id  \\\n",
       "1452351  1357932478000000     1.0   00011001  2013-01-11               4617   \n",
       "1452840  1357932498000000     1.0   00011001  2013-01-11               4617   \n",
       "1453326  1357932519000000     1.0   00011001  2013-01-11               4617   \n",
       "1453484  1357932523000000     1.0   00011001  2013-01-11               4617   \n",
       "1453894  1357932537000000     1.0   00011001  2013-01-11               4617   \n",
       "...                   ...     ...        ...         ...                ...   \n",
       "1146275  1357923386000000   123.0   01230001  2013-01-11               4423   \n",
       "1146691  1357923398000000   123.0   01230001  2013-01-11               4423   \n",
       "1147117  1357923407000000   123.0   01230001  2013-01-11               4423   \n",
       "1147784  1357923425000000   123.0   01230001  2013-01-11               4423   \n",
       "1148456  1357923446000000   123.0   01230001  2013-01-11               4423   \n",
       "\n",
       "        operator  congestion       lng        lat  delay block_id vehicle_id  \\\n",
       "1452351       RD       False -6.210967  53.324402      0     1001      43072   \n",
       "1452840       RD       False -6.210983  53.324417      0     1001      43072   \n",
       "1453326       RD       False -6.210983  53.324383      0     1001      43072   \n",
       "1453484       RD       False -6.210983  53.324383      0     1001      43072   \n",
       "1453894       RD       False -6.210967  53.324383      0     1001      43072   \n",
       "...          ...         ...       ...        ...    ...      ...        ...   \n",
       "1146275       SL       False -6.227350  53.368584    -82   123014      38041   \n",
       "1146691       SL       False -6.227350  53.368584    -22   123014      38041   \n",
       "1147117       SL       False -6.227334  53.368633    -22   123014      38041   \n",
       "1147784       SL       False -6.227334  53.368568    -22   123014      38041   \n",
       "1148456       SL       False -6.227366  53.368568    -22   123014      38041   \n",
       "\n",
       "        stop_id  stop            datetime  hour  day  dist_from_old_point  \\\n",
       "1452351   381.0  True 2013-01-11 19:27:58    19   11             0.000000   \n",
       "1452840   381.0  True 2013-01-11 19:28:18    19   11             1.980776   \n",
       "1453326   381.0  True 2013-01-11 19:28:39    19   11             3.783941   \n",
       "1453484   381.0  True 2013-01-11 19:28:43    19   11             0.000000   \n",
       "1453894   381.0  True 2013-01-11 19:28:57    19   11             1.066127   \n",
       "...         ...   ...                 ...   ...  ...                  ...   \n",
       "1146275  1490.0  True 2013-01-11 16:56:26    16   11             4.471933   \n",
       "1146691  1490.0  True 2013-01-11 16:56:38    16   11             0.000000   \n",
       "1147117  1490.0  True 2013-01-11 16:56:47    16   11             5.556391   \n",
       "1147784  1490.0  True 2013-01-11 16:57:05    16   11             7.234058   \n",
       "1148456  1490.0  True 2013-01-11 16:57:26    16   11             2.130051   \n",
       "\n",
       "         time_from_old_point  velocity       acc  ID  outlier  outlier_norm  \\\n",
       "1452351                    0  0.000000  0.000000   0        1             1   \n",
       "1452840                   20  0.099039  0.004952   0        1             1   \n",
       "1453326                   21  0.180188  0.008580   0        1             1   \n",
       "1453484                    4  0.000000  0.000000   0        1             1   \n",
       "1453894                   14  0.076152  0.005439   0        1             1   \n",
       "...                      ...       ...       ...  ..      ...           ...   \n",
       "1146275                   20  0.223597  0.011180  15        1             1   \n",
       "1146691                   12  0.000000  0.000000  15        1             1   \n",
       "1147117                    9  0.617377  0.068597  15       -1            -1   \n",
       "1147784                   18  0.401892  0.022327  15        1             1   \n",
       "1148456                   21  0.101431  0.004830  15        1             1   \n",
       "\n",
       "         outlier_0  outlier2  outlier2_norm     MF_lat    MF_lng  \\\n",
       "1452351         -1         1              1  53.382707 -6.355567   \n",
       "1452840          1         1              1  53.368211 -6.319193   \n",
       "1453326          1         1              1  53.353707 -6.282820   \n",
       "1453484         -1         1              1  53.339017 -6.246813   \n",
       "1453894          1        -1              1  53.324394 -6.210977   \n",
       "...            ...       ...            ...        ...       ...   \n",
       "1146275          1         1              1  53.368567 -6.227317   \n",
       "1146691         -1         1              1  53.368571 -6.227327   \n",
       "1147117         -1        -1             -1  53.368584 -6.227334   \n",
       "1147784          1         1             -1  53.368584 -6.227337   \n",
       "1148456          1        -1             -1  53.368587 -6.227347   \n",
       "\n",
       "         MF_dist_from_old_point      MF_vel      MF_acc  outlier_MF  \n",
       "1452351                0.000000    0.000000    0.000000           1  \n",
       "1452840             2909.143428  145.457171    7.272859          -1  \n",
       "1453326             2910.245061  138.583098    6.599195          -1  \n",
       "1453484             2902.306885  725.576721  181.394180          -1  \n",
       "1453894             2889.413357  206.386668   14.741905          -1  \n",
       "...                         ...         ...         ...         ...  \n",
       "1146275                0.891959    0.044598    0.002230           1  \n",
       "1146691                0.754925    0.062910    0.005243           1  \n",
       "1147117                1.515963    0.168440    0.018716           1  \n",
       "1147784                0.226318    0.012573    0.000699           1  \n",
       "1148456                0.777424    0.037020    0.001763           1  \n",
       "\n",
       "[2286 rows x 33 columns]"
      ]
     },
     "execution_count": 204,
     "metadata": {},
     "output_type": "execute_result"
    }
   ],
   "source": [
    "dfx"
   ]
  },
  {
   "cell_type": "code",
   "execution_count": 205,
   "metadata": {},
   "outputs": [],
   "source": [
    "X = dfx.loc[:, ['timestamp','lat','lng','hour', 'day', 'dist_from_old_point', 'time_from_old_point', 'velocity' ,'acc']].values\n",
    "Y = dfx.journey_id.astype('category').cat.codes.values"
   ]
  },
  {
   "cell_type": "code",
   "execution_count": 206,
   "metadata": {},
   "outputs": [
    {
     "data": {
      "image/png": "[encoded data removed]",
      "text/plain": [
       "<Figure size 432x288 with 1 Axes>"
      ]
     },
     "metadata": {
      "needs_background": "light"
     },
     "output_type": "display_data"
    }
   ],
   "source": [
    "#label_name = iris.target_names\n",
    "\n",
    "from sklearn.decomposition import PCA\n",
    "data = PCA(n_components=2).fit_transform(X)\n",
    "\n",
    "#color_label = {'setosa': 'blue', 'versicolor': 'red', 'virginica': 'magenta'}\n",
    "#y_label = [label_name[x] for x in y]\n",
    "#label_color = [color_label[x] for x in y_label]\n",
    "\n",
    "import matplotlib.pyplot as plt\n",
    "import matplotlib.patches as mpatches\n",
    "\n",
    "\n",
    "plt.scatter(data[:,0], data[:, 1], )\n",
    "#team_patches = [mpatches.Patch(color=color, label=team) for team, color in color_label.items()]\n",
    "#plt.legend(handles=team_patches)\n",
    "plt.show()"
   ]
  },
  {
   "cell_type": "code",
   "execution_count": 207,
   "metadata": {},
   "outputs": [
    {
     "name": "stdout",
     "output_type": "stream",
     "text": [
      "KMeans(n_clusters=7, n_init=20, random_state=0)\n"
     ]
    }
   ],
   "source": [
    "from sklearn.cluster import KMeans\n",
    "\n",
    "kmeans = KMeans(n_clusters=7, random_state=0, n_init=20)\n",
    "print(kmeans) # modelo"
   ]
  },
  {
   "cell_type": "code",
   "execution_count": 208,
   "metadata": {},
   "outputs": [],
   "source": [
    "kmeans.fit(X) # ajustando o modelo\n",
    "y_pred_kmeans = kmeans.labels_\n"
   ]
  },
  {
   "cell_type": "code",
   "execution_count": 209,
   "metadata": {},
   "outputs": [
    {
     "data": {
      "image/png": "[encoded data removed]",
      "text/plain": [
       "<Figure size 720x504 with 2 Axes>"
      ]
     },
     "metadata": {
      "needs_background": "light"
     },
     "output_type": "display_data"
    }
   ],
   "source": [
    "import sklearn.metrics\n",
    "import seaborn as sns\n",
    "confusion_matrix = sklearn.metrics.confusion_matrix(Y, y_pred_kmeans)\n",
    "\n",
    "plt.figure(figsize = (10,7))\n",
    "sns.heatmap(confusion_matrix, annot=True)\n",
    "plt.title(\"Confusion matrix\")\n",
    "plt.ylabel('True label')\n",
    "plt.xlabel('Clustering label')\n",
    "plt.show()"
   ]
  },
  {
   "cell_type": "code",
   "execution_count": 171,
   "metadata": {},
   "outputs": [],
   "source": [
    "sklearn.metrics.confusion_matrix?"
   ]
  },
  {
   "cell_type": "code",
   "execution_count": null,
   "metadata": {},
   "outputs": [],
   "source": []
  },
  {
   "cell_type": "code",
   "execution_count": null,
   "metadata": {},
   "outputs": [],
   "source": []
  },
  {
   "cell_type": "code",
   "execution_count": null,
   "metadata": {},
   "outputs": [],
   "source": []
  }
 ],
 "metadata": {
  "kernelspec": {
   "display_name": "venvTraj",
   "language": "python",
   "name": "venvtraj"
  },
  "language_info": {
   "codemirror_mode": {
    "name": "ipython",
    "version": 3
   },
   "file_extension": ".py",
   "mimetype": "text/x-python",
   "name": "python",
   "nbconvert_exporter": "python",
   "pygments_lexer": "ipython3",
   "version": "3.8.6"
  }
 },
 "nbformat": 4,
 "nbformat_minor": 2
}
