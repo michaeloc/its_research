{
 "cells": [
  {
   "cell_type": "markdown",
   "metadata": {},
   "source": [
    "# Projeto da disciplina de Introdução à Ciência de Dados\n",
    "\n",
    "Estudante: Fernando de Barros (fbwn@cin.ufpe.br)"
   ]
  },
  {
   "cell_type": "markdown",
   "metadata": {},
   "source": [
    "## Especificação do Projeto 1\n",
    "1. Coletar Dados\n",
    "2. Pré-processamento\n",
    "    1. definição de tipos (pre-proc 1)\n",
    "    2. tratar dados ausentes (pre-proc 1)\n",
    "    3. normalização e discretização (pre-proc 1)\n",
    "    4. limpeza de dados (uni, bi e multivariado)\n",
    "3. Apresentar Estatisticas descritivas dos dados (com visualizações)\n",
    "4. Realizar teste de hipótese para comparação de valores de categorias e visualizar diferenças"
   ]
  },
  {
   "cell_type": "markdown",
   "metadata": {},
   "source": [
    "## Carregamento das Bibliotecas e do Dataset"
   ]
  },
  {
   "cell_type": "code",
   "execution_count": 1,
   "metadata": {},
   "outputs": [
    {
     "data": {
      "text/html": [
       "\n",
       "    <div class=\"bk-root\">\n",
       "        <a href=\"https://bokeh.org\" target=\"_blank\" class=\"bk-logo bk-logo-small bk-logo-notebook\"></a>\n",
       "        <span id=\"1001\">Loading BokehJS ...</span>\n",
       "    </div>"
      ]
     },
     "metadata": {},
     "output_type": "display_data"
    },
    {
     "data": {
      "application/javascript": [
       "\n",
       "(function(root) {\n",
       "  function now() {\n",
       "    return new Date();\n",
       "  }\n",
       "\n",
       "  var force = true;\n",
       "\n",
       "  if (typeof root._bokeh_onload_callbacks === \"undefined\" || force === true) {\n",
       "    root._bokeh_onload_callbacks = [];\n",
       "    root._bokeh_is_loading = undefined;\n",
       "  }\n",
       "\n",
       "  var JS_MIME_TYPE = 'application/javascript';\n",
       "  var HTML_MIME_TYPE = 'text/html';\n",
       "  var EXEC_MIME_TYPE = 'application/vnd.bokehjs_exec.v0+json';\n",
       "  var CLASS_NAME = 'output_bokeh rendered_html';\n",
       "\n",
       "  /**\n",
       "   * Render data to the DOM node\n",
       "   */\n",
       "  function render(props, node) {\n",
       "    var script = document.createElement(\"script\");\n",
       "    node.appendChild(script);\n",
       "  }\n",
       "\n",
       "  /**\n",
       "   * Handle when an output is cleared or removed\n",
       "   */\n",
       "  function handleClearOutput(event, handle) {\n",
       "    var cell = handle.cell;\n",
       "\n",
       "    var id = cell.output_area._bokeh_element_id;\n",
       "    var server_id = cell.output_area._bokeh_server_id;\n",
       "    // Clean up Bokeh references\n",
       "    if (id != null && id in Bokeh.index) {\n",
       "      Bokeh.index[id].model.document.clear();\n",
       "      delete Bokeh.index[id];\n",
       "    }\n",
       "\n",
       "    if (server_id !== undefined) {\n",
       "      // Clean up Bokeh references\n",
       "      var cmd = \"from bokeh.io.state import curstate; print(curstate().uuid_to_server['\" + server_id + \"'].get_sessions()[0].document.roots[0]._id)\";\n",
       "      cell.notebook.kernel.execute(cmd, {\n",
       "        iopub: {\n",
       "          output: function(msg) {\n",
       "            var id = msg.content.text.trim();\n",
       "            if (id in Bokeh.index) {\n",
       "              Bokeh.index[id].model.document.clear();\n",
       "              delete Bokeh.index[id];\n",
       "            }\n",
       "          }\n",
       "        }\n",
       "      });\n",
       "      // Destroy server and session\n",
       "      var cmd = \"import bokeh.io.notebook as ion; ion.destroy_server('\" + server_id + \"')\";\n",
       "      cell.notebook.kernel.execute(cmd);\n",
       "    }\n",
       "  }\n",
       "\n",
       "  /**\n",
       "   * Handle when a new output is added\n",
       "   */\n",
       "  function handleAddOutput(event, handle) {\n",
       "    var output_area = handle.output_area;\n",
       "    var output = handle.output;\n",
       "\n",
       "    // limit handleAddOutput to display_data with EXEC_MIME_TYPE content only\n",
       "    if ((output.output_type != \"display_data\") || (!output.data.hasOwnProperty(EXEC_MIME_TYPE))) {\n",
       "      return\n",
       "    }\n",
       "\n",
       "    var toinsert = output_area.element.find(\".\" + CLASS_NAME.split(' ')[0]);\n",
       "\n",
       "    if (output.metadata[EXEC_MIME_TYPE][\"id\"] !== undefined) {\n",
       "      toinsert[toinsert.length - 1].firstChild.textContent = output.data[JS_MIME_TYPE];\n",
       "      // store reference to embed id on output_area\n",
       "      output_area._bokeh_element_id = output.metadata[EXEC_MIME_TYPE][\"id\"];\n",
       "    }\n",
       "    if (output.metadata[EXEC_MIME_TYPE][\"server_id\"] !== undefined) {\n",
       "      var bk_div = document.createElement(\"div\");\n",
       "      bk_div.innerHTML = output.data[HTML_MIME_TYPE];\n",
       "      var script_attrs = bk_div.children[0].attributes;\n",
       "      for (var i = 0; i < script_attrs.length; i++) {\n",
       "        toinsert[toinsert.length - 1].firstChild.setAttribute(script_attrs[i].name, script_attrs[i].value);\n",
       "        toinsert[toinsert.length - 1].firstChild.textContent = bk_div.children[0].textContent\n",
       "      }\n",
       "      // store reference to server id on output_area\n",
       "      output_area._bokeh_server_id = output.metadata[EXEC_MIME_TYPE][\"server_id\"];\n",
       "    }\n",
       "  }\n",
       "\n",
       "  function register_renderer(events, OutputArea) {\n",
       "\n",
       "    function append_mime(data, metadata, element) {\n",
       "      // create a DOM node to render to\n",
       "      var toinsert = this.create_output_subarea(\n",
       "        metadata,\n",
       "        CLASS_NAME,\n",
       "        EXEC_MIME_TYPE\n",
       "      );\n",
       "      this.keyboard_manager.register_events(toinsert);\n",
       "      // Render to node\n",
       "      var props = {data: data, metadata: metadata[EXEC_MIME_TYPE]};\n",
       "      render(props, toinsert[toinsert.length - 1]);\n",
       "      element.append(toinsert);\n",
       "      return toinsert\n",
       "    }\n",
       "\n",
       "    /* Handle when an output is cleared or removed */\n",
       "    events.on('clear_output.CodeCell', handleClearOutput);\n",
       "    events.on('delete.Cell', handleClearOutput);\n",
       "\n",
       "    /* Handle when a new output is added */\n",
       "    events.on('output_added.OutputArea', handleAddOutput);\n",
       "\n",
       "    /**\n",
       "     * Register the mime type and append_mime function with output_area\n",
       "     */\n",
       "    OutputArea.prototype.register_mime_type(EXEC_MIME_TYPE, append_mime, {\n",
       "      /* Is output safe? */\n",
       "      safe: true,\n",
       "      /* Index of renderer in `output_area.display_order` */\n",
       "      index: 0\n",
       "    });\n",
       "  }\n",
       "\n",
       "  // register the mime type if in Jupyter Notebook environment and previously unregistered\n",
       "  if (root.Jupyter !== undefined) {\n",
       "    var events = require('base/js/events');\n",
       "    var OutputArea = require('notebook/js/outputarea').OutputArea;\n",
       "\n",
       "    if (OutputArea.prototype.mime_types().indexOf(EXEC_MIME_TYPE) == -1) {\n",
       "      register_renderer(events, OutputArea);\n",
       "    }\n",
       "  }\n",
       "\n",
       "  \n",
       "  if (typeof (root._bokeh_timeout) === \"undefined\" || force === true) {\n",
       "    root._bokeh_timeout = Date.now() + 5000;\n",
       "    root._bokeh_failed_load = false;\n",
       "  }\n",
       "\n",
       "  var NB_LOAD_WARNING = {'data': {'text/html':\n",
       "     \"<div style='background-color: #fdd'>\\n\"+\n",
       "     \"<p>\\n\"+\n",
       "     \"BokehJS does not appear to have successfully loaded. If loading BokehJS from CDN, this \\n\"+\n",
       "     \"may be due to a slow or bad network connection. Possible fixes:\\n\"+\n",
       "     \"</p>\\n\"+\n",
       "     \"<ul>\\n\"+\n",
       "     \"<li>re-rerun `output_notebook()` to attempt to load from CDN again, or</li>\\n\"+\n",
       "     \"<li>use INLINE resources instead, as so:</li>\\n\"+\n",
       "     \"</ul>\\n\"+\n",
       "     \"<code>\\n\"+\n",
       "     \"from bokeh.resources import INLINE\\n\"+\n",
       "     \"output_notebook(resources=INLINE)\\n\"+\n",
       "     \"</code>\\n\"+\n",
       "     \"</div>\"}};\n",
       "\n",
       "  function display_loaded() {\n",
       "    var el = document.getElementById(\"1001\");\n",
       "    if (el != null) {\n",
       "      el.textContent = \"BokehJS is loading...\";\n",
       "    }\n",
       "    if (root.Bokeh !== undefined) {\n",
       "      if (el != null) {\n",
       "        el.textContent = \"BokehJS \" + root.Bokeh.version + \" successfully loaded.\";\n",
       "      }\n",
       "    } else if (Date.now() < root._bokeh_timeout) {\n",
       "      setTimeout(display_loaded, 100)\n",
       "    }\n",
       "  }\n",
       "\n",
       "\n",
       "  function run_callbacks() {\n",
       "    try {\n",
       "      root._bokeh_onload_callbacks.forEach(function(callback) {\n",
       "        if (callback != null)\n",
       "          callback();\n",
       "      });\n",
       "    } finally {\n",
       "      delete root._bokeh_onload_callbacks\n",
       "    }\n",
       "    console.debug(\"Bokeh: all callbacks have finished\");\n",
       "  }\n",
       "\n",
       "  function load_libs(css_urls, js_urls, callback) {\n",
       "    if (css_urls == null) css_urls = [];\n",
       "    if (js_urls == null) js_urls = [];\n",
       "\n",
       "    root._bokeh_onload_callbacks.push(callback);\n",
       "    if (root._bokeh_is_loading > 0) {\n",
       "      console.debug(\"Bokeh: BokehJS is being loaded, scheduling callback at\", now());\n",
       "      return null;\n",
       "    }\n",
       "    if (js_urls == null || js_urls.length === 0) {\n",
       "      run_callbacks();\n",
       "      return null;\n",
       "    }\n",
       "    console.debug(\"Bokeh: BokehJS not loaded, scheduling load and callback at\", now());\n",
       "    root._bokeh_is_loading = css_urls.length + js_urls.length;\n",
       "\n",
       "    function on_load() {\n",
       "      root._bokeh_is_loading--;\n",
       "      if (root._bokeh_is_loading === 0) {\n",
       "        console.debug(\"Bokeh: all BokehJS libraries/stylesheets loaded\");\n",
       "        run_callbacks()\n",
       "      }\n",
       "    }\n",
       "\n",
       "    function on_error() {\n",
       "      console.error(\"failed to load \" + url);\n",
       "    }\n",
       "\n",
       "    for (var i = 0; i < css_urls.length; i++) {\n",
       "      var url = css_urls[i];\n",
       "      const element = document.createElement(\"link\");\n",
       "      element.onload = on_load;\n",
       "      element.onerror = on_error;\n",
       "      element.rel = \"stylesheet\";\n",
       "      element.type = \"text/css\";\n",
       "      element.href = url;\n",
       "      console.debug(\"Bokeh: injecting link tag for BokehJS stylesheet: \", url);\n",
       "      document.body.appendChild(element);\n",
       "    }\n",
       "\n",
       "    const hashes = {\"https://cdn.bokeh.org/bokeh/release/bokeh-2.2.1.min.js\": \"qkRvDQVAIfzsJo40iRBbxt6sttt0hv4lh74DG7OK4MCHv4C5oohXYoHUM5W11uqS\", \"https://cdn.bokeh.org/bokeh/release/bokeh-widgets-2.2.1.min.js\": \"Sb7Mr06a9TNlet/GEBeKaf5xH3eb6AlCzwjtU82wNPyDrnfoiVl26qnvlKjmcAd+\", \"https://cdn.bokeh.org/bokeh/release/bokeh-tables-2.2.1.min.js\": \"HaJ15vgfmcfRtB4c4YBOI4f1MUujukqInOWVqZJZZGK7Q+ivud0OKGSTn/Vm2iso\"};\n",
       "\n",
       "    for (var i = 0; i < js_urls.length; i++) {\n",
       "      var url = js_urls[i];\n",
       "      var element = document.createElement('script');\n",
       "      element.onload = on_load;\n",
       "      element.onerror = on_error;\n",
       "      element.async = false;\n",
       "      element.src = url;\n",
       "      if (url in hashes) {\n",
       "        element.crossOrigin = \"anonymous\";\n",
       "        element.integrity = \"sha384-\" + hashes[url];\n",
       "      }\n",
       "      console.debug(\"Bokeh: injecting script tag for BokehJS library: \", url);\n",
       "      document.head.appendChild(element);\n",
       "    }\n",
       "  };\n",
       "\n",
       "  function inject_raw_css(css) {\n",
       "    const element = document.createElement(\"style\");\n",
       "    element.appendChild(document.createTextNode(css));\n",
       "    document.body.appendChild(element);\n",
       "  }\n",
       "\n",
       "  \n",
       "  var js_urls = [\"https://cdn.bokeh.org/bokeh/release/bokeh-2.2.1.min.js\", \"https://cdn.bokeh.org/bokeh/release/bokeh-widgets-2.2.1.min.js\", \"https://cdn.bokeh.org/bokeh/release/bokeh-tables-2.2.1.min.js\"];\n",
       "  var css_urls = [];\n",
       "  \n",
       "\n",
       "  var inline_js = [\n",
       "    function(Bokeh) {\n",
       "      Bokeh.set_log_level(\"info\");\n",
       "    },\n",
       "    function(Bokeh) {\n",
       "    \n",
       "    \n",
       "    }\n",
       "  ];\n",
       "\n",
       "  function run_inline_js() {\n",
       "    \n",
       "    if (root.Bokeh !== undefined || force === true) {\n",
       "      \n",
       "    for (var i = 0; i < inline_js.length; i++) {\n",
       "      inline_js[i].call(root, root.Bokeh);\n",
       "    }\n",
       "    if (force === true) {\n",
       "        display_loaded();\n",
       "      }} else if (Date.now() < root._bokeh_timeout) {\n",
       "      setTimeout(run_inline_js, 100);\n",
       "    } else if (!root._bokeh_failed_load) {\n",
       "      console.log(\"Bokeh: BokehJS failed to load within specified timeout.\");\n",
       "      root._bokeh_failed_load = true;\n",
       "    } else if (force !== true) {\n",
       "      var cell = $(document.getElementById(\"1001\")).parents('.cell').data().cell;\n",
       "      cell.output_area.append_execute_result(NB_LOAD_WARNING)\n",
       "    }\n",
       "\n",
       "  }\n",
       "\n",
       "  if (root._bokeh_is_loading === 0) {\n",
       "    console.debug(\"Bokeh: BokehJS loaded, going straight to plotting\");\n",
       "    run_inline_js();\n",
       "  } else {\n",
       "    load_libs(css_urls, js_urls, function() {\n",
       "      console.debug(\"Bokeh: BokehJS plotting callback run at\", now());\n",
       "      run_inline_js();\n",
       "    });\n",
       "  }\n",
       "}(window));"
      ],
      "application/vnd.bokehjs_load.v0+json": "\n(function(root) {\n  function now() {\n    return new Date();\n  }\n\n  var force = true;\n\n  if (typeof root._bokeh_onload_callbacks === \"undefined\" || force === true) {\n    root._bokeh_onload_callbacks = [];\n    root._bokeh_is_loading = undefined;\n  }\n\n  \n\n  \n  if (typeof (root._bokeh_timeout) === \"undefined\" || force === true) {\n    root._bokeh_timeout = Date.now() + 5000;\n    root._bokeh_failed_load = false;\n  }\n\n  var NB_LOAD_WARNING = {'data': {'text/html':\n     \"<div style='background-color: #fdd'>\\n\"+\n     \"<p>\\n\"+\n     \"BokehJS does not appear to have successfully loaded. If loading BokehJS from CDN, this \\n\"+\n     \"may be due to a slow or bad network connection. Possible fixes:\\n\"+\n     \"</p>\\n\"+\n     \"<ul>\\n\"+\n     \"<li>re-rerun `output_notebook()` to attempt to load from CDN again, or</li>\\n\"+\n     \"<li>use INLINE resources instead, as so:</li>\\n\"+\n     \"</ul>\\n\"+\n     \"<code>\\n\"+\n     \"from bokeh.resources import INLINE\\n\"+\n     \"output_notebook(resources=INLINE)\\n\"+\n     \"</code>\\n\"+\n     \"</div>\"}};\n\n  function display_loaded() {\n    var el = document.getElementById(\"1001\");\n    if (el != null) {\n      el.textContent = \"BokehJS is loading...\";\n    }\n    if (root.Bokeh !== undefined) {\n      if (el != null) {\n        el.textContent = \"BokehJS \" + root.Bokeh.version + \" successfully loaded.\";\n      }\n    } else if (Date.now() < root._bokeh_timeout) {\n      setTimeout(display_loaded, 100)\n    }\n  }\n\n\n  function run_callbacks() {\n    try {\n      root._bokeh_onload_callbacks.forEach(function(callback) {\n        if (callback != null)\n          callback();\n      });\n    } finally {\n      delete root._bokeh_onload_callbacks\n    }\n    console.debug(\"Bokeh: all callbacks have finished\");\n  }\n\n  function load_libs(css_urls, js_urls, callback) {\n    if (css_urls == null) css_urls = [];\n    if (js_urls == null) js_urls = [];\n\n    root._bokeh_onload_callbacks.push(callback);\n    if (root._bokeh_is_loading > 0) {\n      console.debug(\"Bokeh: BokehJS is being loaded, scheduling callback at\", now());\n      return null;\n    }\n    if (js_urls == null || js_urls.length === 0) {\n      run_callbacks();\n      return null;\n    }\n    console.debug(\"Bokeh: BokehJS not loaded, scheduling load and callback at\", now());\n    root._bokeh_is_loading = css_urls.length + js_urls.length;\n\n    function on_load() {\n      root._bokeh_is_loading--;\n      if (root._bokeh_is_loading === 0) {\n        console.debug(\"Bokeh: all BokehJS libraries/stylesheets loaded\");\n        run_callbacks()\n      }\n    }\n\n    function on_error() {\n      console.error(\"failed to load \" + url);\n    }\n\n    for (var i = 0; i < css_urls.length; i++) {\n      var url = css_urls[i];\n      const element = document.createElement(\"link\");\n      element.onload = on_load;\n      element.onerror = on_error;\n      element.rel = \"stylesheet\";\n      element.type = \"text/css\";\n      element.href = url;\n      console.debug(\"Bokeh: injecting link tag for BokehJS stylesheet: \", url);\n      document.body.appendChild(element);\n    }\n\n    const hashes = {\"https://cdn.bokeh.org/bokeh/release/bokeh-2.2.1.min.js\": \"qkRvDQVAIfzsJo40iRBbxt6sttt0hv4lh74DG7OK4MCHv4C5oohXYoHUM5W11uqS\", \"https://cdn.bokeh.org/bokeh/release/bokeh-widgets-2.2.1.min.js\": \"Sb7Mr06a9TNlet/GEBeKaf5xH3eb6AlCzwjtU82wNPyDrnfoiVl26qnvlKjmcAd+\", \"https://cdn.bokeh.org/bokeh/release/bokeh-tables-2.2.1.min.js\": \"HaJ15vgfmcfRtB4c4YBOI4f1MUujukqInOWVqZJZZGK7Q+ivud0OKGSTn/Vm2iso\"};\n\n    for (var i = 0; i < js_urls.length; i++) {\n      var url = js_urls[i];\n      var element = document.createElement('script');\n      element.onload = on_load;\n      element.onerror = on_error;\n      element.async = false;\n      element.src = url;\n      if (url in hashes) {\n        element.crossOrigin = \"anonymous\";\n        element.integrity = \"sha384-\" + hashes[url];\n      }\n      console.debug(\"Bokeh: injecting script tag for BokehJS library: \", url);\n      document.head.appendChild(element);\n    }\n  };\n\n  function inject_raw_css(css) {\n    const element = document.createElement(\"style\");\n    element.appendChild(document.createTextNode(css));\n    document.body.appendChild(element);\n  }\n\n  \n  var js_urls = [\"https://cdn.bokeh.org/bokeh/release/bokeh-2.2.1.min.js\", \"https://cdn.bokeh.org/bokeh/release/bokeh-widgets-2.2.1.min.js\", \"https://cdn.bokeh.org/bokeh/release/bokeh-tables-2.2.1.min.js\"];\n  var css_urls = [];\n  \n\n  var inline_js = [\n    function(Bokeh) {\n      Bokeh.set_log_level(\"info\");\n    },\n    function(Bokeh) {\n    \n    \n    }\n  ];\n\n  function run_inline_js() {\n    \n    if (root.Bokeh !== undefined || force === true) {\n      \n    for (var i = 0; i < inline_js.length; i++) {\n      inline_js[i].call(root, root.Bokeh);\n    }\n    if (force === true) {\n        display_loaded();\n      }} else if (Date.now() < root._bokeh_timeout) {\n      setTimeout(run_inline_js, 100);\n    } else if (!root._bokeh_failed_load) {\n      console.log(\"Bokeh: BokehJS failed to load within specified timeout.\");\n      root._bokeh_failed_load = true;\n    } else if (force !== true) {\n      var cell = $(document.getElementById(\"1001\")).parents('.cell').data().cell;\n      cell.output_area.append_execute_result(NB_LOAD_WARNING)\n    }\n\n  }\n\n  if (root._bokeh_is_loading === 0) {\n    console.debug(\"Bokeh: BokehJS loaded, going straight to plotting\");\n    run_inline_js();\n  } else {\n    load_libs(css_urls, js_urls, function() {\n      console.debug(\"Bokeh: BokehJS plotting callback run at\", now());\n      run_inline_js();\n    });\n  }\n}(window));"
     },
     "metadata": {},
     "output_type": "display_data"
    }
   ],
   "source": [
    "import math\n",
    "import sys  \n",
    "import datetime\n",
    "import random\n",
    "from tqdm import tqdm\n",
    "import pandas as pd\n",
    "import numpy as np\n",
    "from geopy.distance import geodesic\n",
    "\n",
    "\n",
    "# Sentences\n",
    "sys.path.insert(0, '../building_trajectories/')\n",
    "import sentences\n",
    "#%run '../building_trajectories/sentences.py'\n",
    "\n",
    "#Spark\n",
    "import findspark\n",
    "findspark.init(\"../venvTraj/lib64/python3.8/site-packages/pyspark/\")\n",
    "from pyspark import SparkContext\n",
    "\n",
    "# Bokeh\n",
    "from bokeh.plotting import figure, show, output_notebook\n",
    "from bokeh.tile_providers import get_provider, Vendors, OSM, CARTODBPOSITRON, WIKIMEDIA\n",
    "\n",
    "pd.set_option('display.max_columns', None)\n",
    "\n",
    "## Inicialização de variaveis para o Bokeh\n",
    "output_notebook()\n",
    "tile_provider = OSM\n",
    "colors=['red','blue', 'black', 'yellow']\n"
   ]
  },
  {
   "cell_type": "markdown",
   "metadata": {},
   "source": [
    "## Dublin Bus GPS sample data from Dublin City Council (Insight Project)\n",
    "\n",
    "Bus GPS Data Dublin Bus GPS data across Dublin City, from Dublin **City Council'traffic control**, in csv format. \n",
    "\n",
    "Each datapoint (row in the CSV file) has the following entries:\n",
    "\n",
    "- Timestamp micro since 1970 01 01 00:00:00 GMT  \n",
    "- Line ID  \n",
    "- Direction  \n",
    "- Journey Pattern ID  \n",
    "- Time Frame (The start date of the production time table - in Dublin the production time table starts at 6am and ends at 3am)  \n",
    "- Vehicle Journey ID (A given run on the journey pattern)  \n",
    "- Operator (Bus operator, not the driver)  \n",
    "- Congestion [0=no,1=yes]  \n",
    "- Lon WGS84  \n",
    "- Lat WGS84\n",
    "- Delay (seconds, negative if bus is ahead of schedule)  \n",
    "- Block ID (a section ID of the journey pattern)  \n",
    "- Vehicle ID  \n",
    "- Stop ID  \n",
    "- At Stop [0=no,1=yes]\n",
    "\n",
    "Fonte: https://data.gov.ie/dataset/dublin-bus-gps-sample-data-from-dublin-city-council-insight-project\n"
   ]
  },
  {
   "cell_type": "markdown",
   "metadata": {},
   "source": [
    "### Abre arquivo referente aos dias 10~12 de Janeiro de 2013"
   ]
  },
  {
   "cell_type": "markdown",
   "metadata": {},
   "source": [
    "### Colunas originais do dataset"
   ]
  },
  {
   "cell_type": "code",
   "execution_count": 2,
   "metadata": {},
   "outputs": [],
   "source": [
    "features = ['timestamp','line_id','direction','journey_id',\n",
    "            'time_frame','vehicle_journey_id','operator',\n",
    "            'congestion','lng','lat','delay','block_id',\n",
    "            'vehicle_id','stop_id', 'stop']"
   ]
  },
  {
   "cell_type": "code",
   "execution_count": 3,
   "metadata": {},
   "outputs": [
    {
     "name": "stderr",
     "output_type": "stream",
     "text": [
      "100%|██████████| 1/1 [00:02<00:00,  2.92s/it]\n"
     ]
    }
   ],
   "source": [
    "df = pd.read_csv(\n",
    "    '../data/siri.20130110.csv.gz', \n",
    "    compression='gzip', \n",
    "    names=features, \n",
    "    header=None)\n",
    "for i in tqdm(range(20130111,20130112,1)):\n",
    "    data = pd.read_csv(\n",
    "        '../data/siri.'+str(i)+'.csv.gz', \n",
    "        compression='gzip', \n",
    "        names=features, \n",
    "        header=None)\n",
    "    df = pd.concat([df,data])"
   ]
  },
  {
   "cell_type": "markdown",
   "metadata": {},
   "source": [
    "### Lista com nomes das colunas que formam a chave da trajetória"
   ]
  },
  {
   "cell_type": "code",
   "execution_count": 4,
   "metadata": {},
   "outputs": [],
   "source": [
    "trajetoria = ['line_id','journey_id','time_frame','vehicle_journey_id','operator','vehicle_id']"
   ]
  },
  {
   "cell_type": "raw",
   "metadata": {},
   "source": []
  },
  {
   "cell_type": "raw",
   "metadata": {},
   "source": [
    "df = [x for _,x in df.groupby(trajetoria) if (len(x) > 50)]\n",
    "df = pd.concat(df)"
   ]
  },
  {
   "cell_type": "markdown",
   "metadata": {},
   "source": [
    "### Novas features que serão alimentadas junto à criação das trajetórias"
   ]
  },
  {
   "cell_type": "raw",
   "metadata": {},
   "source": [
    "df['velocity'] = 0\n",
    "df['acc'] = 0\n",
    "df['dist_from_old_point'] = 0\n",
    "df['time_from_old_point'] = 0\n"
   ]
  },
  {
   "cell_type": "raw",
   "metadata": {},
   "source": [
    "df['MF_lat'] = 0 \n",
    "df['MF_lng'] = 0\n",
    "df['MF_velocity'] = 0\n",
    "df['MF_acc'] = 0\n",
    "df['MF_dist_from_old_point'] = 0"
   ]
  },
  {
   "cell_type": "markdown",
   "metadata": {},
   "source": [
    "## Análise inicial do dataset"
   ]
  },
  {
   "cell_type": "code",
   "execution_count": 5,
   "metadata": {},
   "outputs": [
    {
     "data": {
      "text/html": [
       "<div>\n",
       "<style scoped>\n",
       "    .dataframe tbody tr th:only-of-type {\n",
       "        vertical-align: middle;\n",
       "    }\n",
       "\n",
       "    .dataframe tbody tr th {\n",
       "        vertical-align: top;\n",
       "    }\n",
       "\n",
       "    .dataframe thead th {\n",
       "        text-align: right;\n",
       "    }\n",
       "</style>\n",
       "<table border=\"1\" class=\"dataframe\">\n",
       "  <thead>\n",
       "    <tr style=\"text-align: right;\">\n",
       "      <th></th>\n",
       "      <th>timestamp</th>\n",
       "      <th>line_id</th>\n",
       "      <th>direction</th>\n",
       "      <th>journey_id</th>\n",
       "      <th>time_frame</th>\n",
       "      <th>vehicle_journey_id</th>\n",
       "      <th>operator</th>\n",
       "      <th>congestion</th>\n",
       "      <th>lng</th>\n",
       "      <th>lat</th>\n",
       "      <th>delay</th>\n",
       "      <th>block_id</th>\n",
       "      <th>vehicle_id</th>\n",
       "      <th>stop_id</th>\n",
       "      <th>stop</th>\n",
       "    </tr>\n",
       "  </thead>\n",
       "  <tbody>\n",
       "    <tr>\n",
       "      <th>0</th>\n",
       "      <td>1357776002000000</td>\n",
       "      <td>31.0</td>\n",
       "      <td>0</td>\n",
       "      <td>NaN</td>\n",
       "      <td>2013-01-09</td>\n",
       "      <td>5509</td>\n",
       "      <td>CF</td>\n",
       "      <td>0</td>\n",
       "      <td>-6.257756</td>\n",
       "      <td>53.349159</td>\n",
       "      <td>0</td>\n",
       "      <td>31008</td>\n",
       "      <td>38075</td>\n",
       "      <td>296.0</td>\n",
       "      <td>0</td>\n",
       "    </tr>\n",
       "    <tr>\n",
       "      <th>1</th>\n",
       "      <td>1357776002000000</td>\n",
       "      <td>66.0</td>\n",
       "      <td>0</td>\n",
       "      <td>066A0001</td>\n",
       "      <td>2013-01-09</td>\n",
       "      <td>2390</td>\n",
       "      <td>PO</td>\n",
       "      <td>0</td>\n",
       "      <td>-6.406750</td>\n",
       "      <td>53.357983</td>\n",
       "      <td>-101</td>\n",
       "      <td>66001</td>\n",
       "      <td>33376</td>\n",
       "      <td>3993.0</td>\n",
       "      <td>0</td>\n",
       "    </tr>\n",
       "    <tr>\n",
       "      <th>2</th>\n",
       "      <td>1357776002000000</td>\n",
       "      <td>49.0</td>\n",
       "      <td>0</td>\n",
       "      <td>00491001</td>\n",
       "      <td>2013-01-09</td>\n",
       "      <td>2837</td>\n",
       "      <td>RD</td>\n",
       "      <td>0</td>\n",
       "      <td>-6.272375</td>\n",
       "      <td>53.341053</td>\n",
       "      <td>-149</td>\n",
       "      <td>49006</td>\n",
       "      <td>33483</td>\n",
       "      <td>2383.0</td>\n",
       "      <td>0</td>\n",
       "    </tr>\n",
       "    <tr>\n",
       "      <th>3</th>\n",
       "      <td>1357776002000000</td>\n",
       "      <td>14.0</td>\n",
       "      <td>0</td>\n",
       "      <td>00141001</td>\n",
       "      <td>2013-01-09</td>\n",
       "      <td>5452</td>\n",
       "      <td>SL</td>\n",
       "      <td>0</td>\n",
       "      <td>-6.251083</td>\n",
       "      <td>53.357666</td>\n",
       "      <td>-251</td>\n",
       "      <td>14101</td>\n",
       "      <td>33113</td>\n",
       "      <td>248.0</td>\n",
       "      <td>1</td>\n",
       "    </tr>\n",
       "    <tr>\n",
       "      <th>4</th>\n",
       "      <td>1357776002000000</td>\n",
       "      <td>40.0</td>\n",
       "      <td>0</td>\n",
       "      <td>040D0001</td>\n",
       "      <td>2013-01-09</td>\n",
       "      <td>2217</td>\n",
       "      <td>HN</td>\n",
       "      <td>0</td>\n",
       "      <td>-6.390792</td>\n",
       "      <td>53.422108</td>\n",
       "      <td>-478</td>\n",
       "      <td>40203</td>\n",
       "      <td>38071</td>\n",
       "      <td>7104.0</td>\n",
       "      <td>0</td>\n",
       "    </tr>\n",
       "  </tbody>\n",
       "</table>\n",
       "</div>"
      ],
      "text/plain": [
       "          timestamp  line_id  direction journey_id  time_frame  \\\n",
       "0  1357776002000000     31.0          0        NaN  2013-01-09   \n",
       "1  1357776002000000     66.0          0   066A0001  2013-01-09   \n",
       "2  1357776002000000     49.0          0   00491001  2013-01-09   \n",
       "3  1357776002000000     14.0          0   00141001  2013-01-09   \n",
       "4  1357776002000000     40.0          0   040D0001  2013-01-09   \n",
       "\n",
       "   vehicle_journey_id operator  congestion       lng        lat  delay  \\\n",
       "0                5509       CF           0 -6.257756  53.349159      0   \n",
       "1                2390       PO           0 -6.406750  53.357983   -101   \n",
       "2                2837       RD           0 -6.272375  53.341053   -149   \n",
       "3                5452       SL           0 -6.251083  53.357666   -251   \n",
       "4                2217       HN           0 -6.390792  53.422108   -478   \n",
       "\n",
       "   block_id  vehicle_id  stop_id  stop  \n",
       "0     31008       38075    296.0     0  \n",
       "1     66001       33376   3993.0     0  \n",
       "2     49006       33483   2383.0     0  \n",
       "3     14101       33113    248.0     1  \n",
       "4     40203       38071   7104.0     0  "
      ]
     },
     "execution_count": 5,
     "metadata": {},
     "output_type": "execute_result"
    }
   ],
   "source": [
    "df.head()"
   ]
  },
  {
   "cell_type": "code",
   "execution_count": 6,
   "metadata": {},
   "outputs": [
    {
     "data": {
      "text/html": [
       "<div>\n",
       "<style scoped>\n",
       "    .dataframe tbody tr th:only-of-type {\n",
       "        vertical-align: middle;\n",
       "    }\n",
       "\n",
       "    .dataframe tbody tr th {\n",
       "        vertical-align: top;\n",
       "    }\n",
       "\n",
       "    .dataframe thead th {\n",
       "        text-align: right;\n",
       "    }\n",
       "</style>\n",
       "<table border=\"1\" class=\"dataframe\">\n",
       "  <thead>\n",
       "    <tr style=\"text-align: right;\">\n",
       "      <th></th>\n",
       "      <th>timestamp</th>\n",
       "      <th>line_id</th>\n",
       "      <th>direction</th>\n",
       "      <th>journey_id</th>\n",
       "      <th>time_frame</th>\n",
       "      <th>vehicle_journey_id</th>\n",
       "      <th>operator</th>\n",
       "      <th>congestion</th>\n",
       "      <th>lng</th>\n",
       "      <th>lat</th>\n",
       "      <th>delay</th>\n",
       "      <th>block_id</th>\n",
       "      <th>vehicle_id</th>\n",
       "      <th>stop_id</th>\n",
       "      <th>stop</th>\n",
       "    </tr>\n",
       "  </thead>\n",
       "  <tbody>\n",
       "    <tr>\n",
       "      <th>1729769</th>\n",
       "      <td>1357948798000000</td>\n",
       "      <td>83.0</td>\n",
       "      <td>0</td>\n",
       "      <td>00830001</td>\n",
       "      <td>2013-01-11</td>\n",
       "      <td>5776</td>\n",
       "      <td>HN</td>\n",
       "      <td>0</td>\n",
       "      <td>-6.302700</td>\n",
       "      <td>53.318638</td>\n",
       "      <td>-144</td>\n",
       "      <td>83011</td>\n",
       "      <td>40020</td>\n",
       "      <td>2489.0</td>\n",
       "      <td>0</td>\n",
       "    </tr>\n",
       "    <tr>\n",
       "      <th>1729770</th>\n",
       "      <td>1357948798000000</td>\n",
       "      <td>39.0</td>\n",
       "      <td>0</td>\n",
       "      <td>NaN</td>\n",
       "      <td>2013-01-11</td>\n",
       "      <td>3175</td>\n",
       "      <td>PO</td>\n",
       "      <td>0</td>\n",
       "      <td>-6.244823</td>\n",
       "      <td>53.328770</td>\n",
       "      <td>170</td>\n",
       "      <td>39020</td>\n",
       "      <td>36054</td>\n",
       "      <td>767.0</td>\n",
       "      <td>0</td>\n",
       "    </tr>\n",
       "    <tr>\n",
       "      <th>1729771</th>\n",
       "      <td>1357948798000000</td>\n",
       "      <td>15.0</td>\n",
       "      <td>0</td>\n",
       "      <td>00151001</td>\n",
       "      <td>2013-01-11</td>\n",
       "      <td>5112</td>\n",
       "      <td>HN</td>\n",
       "      <td>0</td>\n",
       "      <td>-6.152171</td>\n",
       "      <td>53.402569</td>\n",
       "      <td>503</td>\n",
       "      <td>15105</td>\n",
       "      <td>33502</td>\n",
       "      <td>7245.0</td>\n",
       "      <td>1</td>\n",
       "    </tr>\n",
       "    <tr>\n",
       "      <th>1729772</th>\n",
       "      <td>1357948798000000</td>\n",
       "      <td>272.0</td>\n",
       "      <td>0</td>\n",
       "      <td>027B0002</td>\n",
       "      <td>2013-01-11</td>\n",
       "      <td>369</td>\n",
       "      <td>HN</td>\n",
       "      <td>0</td>\n",
       "      <td>-6.276100</td>\n",
       "      <td>53.418041</td>\n",
       "      <td>129</td>\n",
       "      <td>272005</td>\n",
       "      <td>33504</td>\n",
       "      <td>1629.0</td>\n",
       "      <td>0</td>\n",
       "    </tr>\n",
       "    <tr>\n",
       "      <th>1729773</th>\n",
       "      <td>1357948798000000</td>\n",
       "      <td>39.0</td>\n",
       "      <td>0</td>\n",
       "      <td>00391001</td>\n",
       "      <td>2013-01-11</td>\n",
       "      <td>3020</td>\n",
       "      <td>PO</td>\n",
       "      <td>0</td>\n",
       "      <td>-6.252700</td>\n",
       "      <td>53.331966</td>\n",
       "      <td>-486</td>\n",
       "      <td>39010</td>\n",
       "      <td>36061</td>\n",
       "      <td>7339.0</td>\n",
       "      <td>1</td>\n",
       "    </tr>\n",
       "  </tbody>\n",
       "</table>\n",
       "</div>"
      ],
      "text/plain": [
       "                timestamp  line_id  direction journey_id  time_frame  \\\n",
       "1729769  1357948798000000     83.0          0   00830001  2013-01-11   \n",
       "1729770  1357948798000000     39.0          0        NaN  2013-01-11   \n",
       "1729771  1357948798000000     15.0          0   00151001  2013-01-11   \n",
       "1729772  1357948798000000    272.0          0   027B0002  2013-01-11   \n",
       "1729773  1357948798000000     39.0          0   00391001  2013-01-11   \n",
       "\n",
       "         vehicle_journey_id operator  congestion       lng        lat  delay  \\\n",
       "1729769                5776       HN           0 -6.302700  53.318638   -144   \n",
       "1729770                3175       PO           0 -6.244823  53.328770    170   \n",
       "1729771                5112       HN           0 -6.152171  53.402569    503   \n",
       "1729772                 369       HN           0 -6.276100  53.418041    129   \n",
       "1729773                3020       PO           0 -6.252700  53.331966   -486   \n",
       "\n",
       "         block_id  vehicle_id  stop_id  stop  \n",
       "1729769     83011       40020   2489.0     0  \n",
       "1729770     39020       36054    767.0     0  \n",
       "1729771     15105       33502   7245.0     1  \n",
       "1729772    272005       33504   1629.0     0  \n",
       "1729773     39010       36061   7339.0     1  "
      ]
     },
     "execution_count": 6,
     "metadata": {},
     "output_type": "execute_result"
    }
   ],
   "source": [
    "df.tail()"
   ]
  },
  {
   "cell_type": "code",
   "execution_count": 7,
   "metadata": {},
   "outputs": [
    {
     "name": "stdout",
     "output_type": "stream",
     "text": [
      "<class 'pandas.core.frame.DataFrame'>\n",
      "Int64Index: 3430406 entries, 0 to 1729773\n",
      "Data columns (total 15 columns):\n",
      " #   Column              Dtype  \n",
      "---  ------              -----  \n",
      " 0   timestamp           int64  \n",
      " 1   line_id             float64\n",
      " 2   direction           int64  \n",
      " 3   journey_id          object \n",
      " 4   time_frame          object \n",
      " 5   vehicle_journey_id  int64  \n",
      " 6   operator            object \n",
      " 7   congestion          int64  \n",
      " 8   lng                 float64\n",
      " 9   lat                 float64\n",
      " 10  delay               int64  \n",
      " 11  block_id            int64  \n",
      " 12  vehicle_id          int64  \n",
      " 13  stop_id             float64\n",
      " 14  stop                int64  \n",
      "dtypes: float64(4), int64(8), object(3)\n",
      "memory usage: 418.8+ MB\n"
     ]
    }
   ],
   "source": [
    "df.info()"
   ]
  },
  {
   "cell_type": "code",
   "execution_count": 8,
   "metadata": {},
   "outputs": [
    {
     "data": {
      "text/html": [
       "<div>\n",
       "<style scoped>\n",
       "    .dataframe tbody tr th:only-of-type {\n",
       "        vertical-align: middle;\n",
       "    }\n",
       "\n",
       "    .dataframe tbody tr th {\n",
       "        vertical-align: top;\n",
       "    }\n",
       "\n",
       "    .dataframe thead th {\n",
       "        text-align: right;\n",
       "    }\n",
       "</style>\n",
       "<table border=\"1\" class=\"dataframe\">\n",
       "  <thead>\n",
       "    <tr style=\"text-align: right;\">\n",
       "      <th></th>\n",
       "      <th>timestamp</th>\n",
       "      <th>line_id</th>\n",
       "      <th>direction</th>\n",
       "      <th>vehicle_journey_id</th>\n",
       "      <th>congestion</th>\n",
       "      <th>lng</th>\n",
       "      <th>lat</th>\n",
       "      <th>delay</th>\n",
       "      <th>block_id</th>\n",
       "      <th>vehicle_id</th>\n",
       "      <th>stop_id</th>\n",
       "      <th>stop</th>\n",
       "    </tr>\n",
       "  </thead>\n",
       "  <tbody>\n",
       "    <tr>\n",
       "      <th>count</th>\n",
       "      <td>3.430406e+06</td>\n",
       "      <td>3.429963e+06</td>\n",
       "      <td>3430406.0</td>\n",
       "      <td>3.430406e+06</td>\n",
       "      <td>3.430406e+06</td>\n",
       "      <td>3.430406e+06</td>\n",
       "      <td>3.430406e+06</td>\n",
       "      <td>3.430406e+06</td>\n",
       "      <td>3.430406e+06</td>\n",
       "      <td>3.430406e+06</td>\n",
       "      <td>3.236571e+06</td>\n",
       "      <td>3.430406e+06</td>\n",
       "    </tr>\n",
       "    <tr>\n",
       "      <th>mean</th>\n",
       "      <td>1.357871e+15</td>\n",
       "      <td>7.674974e+01</td>\n",
       "      <td>0.0</td>\n",
       "      <td>8.030546e+03</td>\n",
       "      <td>1.081942e-02</td>\n",
       "      <td>-6.271851e+00</td>\n",
       "      <td>5.334449e+01</td>\n",
       "      <td>-1.286452e+01</td>\n",
       "      <td>1.157287e+05</td>\n",
       "      <td>3.534091e+04</td>\n",
       "      <td>2.755840e+03</td>\n",
       "      <td>2.306231e-01</td>\n",
       "    </tr>\n",
       "    <tr>\n",
       "      <th>std</th>\n",
       "      <td>4.666748e+10</td>\n",
       "      <td>1.110898e+02</td>\n",
       "      <td>0.0</td>\n",
       "      <td>6.354814e+04</td>\n",
       "      <td>1.034522e-01</td>\n",
       "      <td>8.350831e-02</td>\n",
       "      <td>5.512406e-02</td>\n",
       "      <td>4.634146e+02</td>\n",
       "      <td>2.029284e+05</td>\n",
       "      <td>3.250063e+03</td>\n",
       "      <td>2.187218e+03</td>\n",
       "      <td>4.212317e-01</td>\n",
       "    </tr>\n",
       "    <tr>\n",
       "      <th>min</th>\n",
       "      <td>1.357776e+15</td>\n",
       "      <td>1.000000e+00</td>\n",
       "      <td>0.0</td>\n",
       "      <td>1.000000e+00</td>\n",
       "      <td>0.000000e+00</td>\n",
       "      <td>-6.615016e+00</td>\n",
       "      <td>5.307028e+01</td>\n",
       "      <td>-7.334000e+03</td>\n",
       "      <td>1.001000e+03</td>\n",
       "      <td>2.804700e+04</td>\n",
       "      <td>2.000000e+00</td>\n",
       "      <td>0.000000e+00</td>\n",
       "    </tr>\n",
       "    <tr>\n",
       "      <th>25%</th>\n",
       "      <td>1.357828e+15</td>\n",
       "      <td>2.500000e+01</td>\n",
       "      <td>0.0</td>\n",
       "      <td>2.007000e+03</td>\n",
       "      <td>0.000000e+00</td>\n",
       "      <td>-6.307797e+00</td>\n",
       "      <td>5.331963e+01</td>\n",
       "      <td>-1.880000e+02</td>\n",
       "      <td>1.602100e+04</td>\n",
       "      <td>3.329100e+04</td>\n",
       "      <td>8.330000e+02</td>\n",
       "      <td>0.000000e+00</td>\n",
       "    </tr>\n",
       "    <tr>\n",
       "      <th>50%</th>\n",
       "      <td>1.357885e+15</td>\n",
       "      <td>4.000000e+01</td>\n",
       "      <td>0.0</td>\n",
       "      <td>3.856000e+03</td>\n",
       "      <td>0.000000e+00</td>\n",
       "      <td>-6.261396e+00</td>\n",
       "      <td>5.334624e+01</td>\n",
       "      <td>0.000000e+00</td>\n",
       "      <td>4.021000e+04</td>\n",
       "      <td>3.351400e+04</td>\n",
       "      <td>2.101000e+03</td>\n",
       "      <td>0.000000e+00</td>\n",
       "    </tr>\n",
       "    <tr>\n",
       "      <th>75%</th>\n",
       "      <td>1.357914e+15</td>\n",
       "      <td>8.300000e+01</td>\n",
       "      <td>0.0</td>\n",
       "      <td>5.520000e+03</td>\n",
       "      <td>0.000000e+00</td>\n",
       "      <td>-6.232217e+00</td>\n",
       "      <td>5.337394e+01</td>\n",
       "      <td>1.290000e+02</td>\n",
       "      <td>1.020050e+05</td>\n",
       "      <td>3.801000e+04</td>\n",
       "      <td>4.411000e+03</td>\n",
       "      <td>0.000000e+00</td>\n",
       "    </tr>\n",
       "    <tr>\n",
       "      <th>max</th>\n",
       "      <td>1.357949e+15</td>\n",
       "      <td>7.470000e+02</td>\n",
       "      <td>0.0</td>\n",
       "      <td>9.997110e+05</td>\n",
       "      <td>1.000000e+00</td>\n",
       "      <td>-6.052917e+00</td>\n",
       "      <td>5.360655e+01</td>\n",
       "      <td>1.161220e+05</td>\n",
       "      <td>8.350020e+05</td>\n",
       "      <td>4.307800e+04</td>\n",
       "      <td>7.552000e+03</td>\n",
       "      <td>1.000000e+00</td>\n",
       "    </tr>\n",
       "  </tbody>\n",
       "</table>\n",
       "</div>"
      ],
      "text/plain": [
       "          timestamp       line_id  direction  vehicle_journey_id  \\\n",
       "count  3.430406e+06  3.429963e+06  3430406.0        3.430406e+06   \n",
       "mean   1.357871e+15  7.674974e+01        0.0        8.030546e+03   \n",
       "std    4.666748e+10  1.110898e+02        0.0        6.354814e+04   \n",
       "min    1.357776e+15  1.000000e+00        0.0        1.000000e+00   \n",
       "25%    1.357828e+15  2.500000e+01        0.0        2.007000e+03   \n",
       "50%    1.357885e+15  4.000000e+01        0.0        3.856000e+03   \n",
       "75%    1.357914e+15  8.300000e+01        0.0        5.520000e+03   \n",
       "max    1.357949e+15  7.470000e+02        0.0        9.997110e+05   \n",
       "\n",
       "         congestion           lng           lat         delay      block_id  \\\n",
       "count  3.430406e+06  3.430406e+06  3.430406e+06  3.430406e+06  3.430406e+06   \n",
       "mean   1.081942e-02 -6.271851e+00  5.334449e+01 -1.286452e+01  1.157287e+05   \n",
       "std    1.034522e-01  8.350831e-02  5.512406e-02  4.634146e+02  2.029284e+05   \n",
       "min    0.000000e+00 -6.615016e+00  5.307028e+01 -7.334000e+03  1.001000e+03   \n",
       "25%    0.000000e+00 -6.307797e+00  5.331963e+01 -1.880000e+02  1.602100e+04   \n",
       "50%    0.000000e+00 -6.261396e+00  5.334624e+01  0.000000e+00  4.021000e+04   \n",
       "75%    0.000000e+00 -6.232217e+00  5.337394e+01  1.290000e+02  1.020050e+05   \n",
       "max    1.000000e+00 -6.052917e+00  5.360655e+01  1.161220e+05  8.350020e+05   \n",
       "\n",
       "         vehicle_id       stop_id          stop  \n",
       "count  3.430406e+06  3.236571e+06  3.430406e+06  \n",
       "mean   3.534091e+04  2.755840e+03  2.306231e-01  \n",
       "std    3.250063e+03  2.187218e+03  4.212317e-01  \n",
       "min    2.804700e+04  2.000000e+00  0.000000e+00  \n",
       "25%    3.329100e+04  8.330000e+02  0.000000e+00  \n",
       "50%    3.351400e+04  2.101000e+03  0.000000e+00  \n",
       "75%    3.801000e+04  4.411000e+03  0.000000e+00  \n",
       "max    4.307800e+04  7.552000e+03  1.000000e+00  "
      ]
     },
     "execution_count": 8,
     "metadata": {},
     "output_type": "execute_result"
    }
   ],
   "source": [
    "df.describe()"
   ]
  },
  {
   "cell_type": "markdown",
   "metadata": {},
   "source": [
    "Retirar a coluna DIRECTION que não apresenta qualquer informação"
   ]
  },
  {
   "cell_type": "code",
   "execution_count": 9,
   "metadata": {},
   "outputs": [
    {
     "data": {
      "text/plain": [
       "False"
      ]
     },
     "execution_count": 9,
     "metadata": {},
     "output_type": "execute_result"
    }
   ],
   "source": [
    "df.drop('direction', axis=1, inplace=True)\n",
    "'direction' in df.columns"
   ]
  },
  {
   "cell_type": "markdown",
   "metadata": {},
   "source": [
    "### Ajusta tipo das features"
   ]
  },
  {
   "cell_type": "markdown",
   "metadata": {},
   "source": [
    "#### Boolean"
   ]
  },
  {
   "cell_type": "code",
   "execution_count": 10,
   "metadata": {},
   "outputs": [],
   "source": [
    "df.stop = df.stop.astype('bool')\n",
    "df.congestion = df.congestion.astype('bool')"
   ]
  },
  {
   "cell_type": "markdown",
   "metadata": {},
   "source": [
    "#### Datetime (microseconds - us)"
   ]
  },
  {
   "cell_type": "code",
   "execution_count": 11,
   "metadata": {},
   "outputs": [],
   "source": [
    "df['datetime'] = pd.to_datetime(df[\"timestamp\"], unit='us')"
   ]
  },
  {
   "cell_type": "markdown",
   "metadata": {},
   "source": [
    "##### Criação de duas novas features derivadas (day, hour)"
   ]
  },
  {
   "cell_type": "code",
   "execution_count": 12,
   "metadata": {},
   "outputs": [],
   "source": [
    "df['hour'] = df[\"datetime\"].dt.hour\n",
    "df['day'] = df[\"datetime\"].dt.day"
   ]
  },
  {
   "cell_type": "markdown",
   "metadata": {},
   "source": [
    "### Categoricos"
   ]
  },
  {
   "cell_type": "markdown",
   "metadata": {},
   "source": [
    "Indicar quais das colunas são categoricas:"
   ]
  },
  {
   "cell_type": "code",
   "execution_count": 13,
   "metadata": {},
   "outputs": [],
   "source": [
    "list_cats = ['line_id', 'journey_id' , 'time_frame', \n",
    "             'vehicle_journey_id', 'operator', 'block_id', \n",
    "             'vehicle_id', 'stop_id']"
   ]
  },
  {
   "cell_type": "code",
   "execution_count": 14,
   "metadata": {},
   "outputs": [],
   "source": [
    "for cat in list_cats:\n",
    "    df[cat] = df[cat].astype('category')"
   ]
  },
  {
   "cell_type": "markdown",
   "metadata": {},
   "source": [
    "### Descrição das chaves para criação de trajetórias"
   ]
  },
  {
   "cell_type": "code",
   "execution_count": 15,
   "metadata": {},
   "outputs": [
    {
     "name": "stdout",
     "output_type": "stream",
     "text": [
      "Descritivo de instâncias únicas para cada atributo da chave:\n"
     ]
    },
    {
     "data": {
      "text/plain": [
       "(('line_id', 66),\n",
       " ('journey_id', 441),\n",
       " ('time_frame', 3),\n",
       " ('vehicle_journey_id', 7495),\n",
       " ('operator', 8),\n",
       " ('vehicle_id', 850))"
      ]
     },
     "execution_count": 15,
     "metadata": {},
     "output_type": "execute_result"
    }
   ],
   "source": [
    "lista_tamanhos = map((lambda x: len(df[x].unique())), trajetoria)\n",
    "mescla = zip(trajetoria, lista_tamanhos)\n",
    "print('Descritivo de instâncias únicas para cada atributo da chave:')\n",
    "tuple(mescla)"
   ]
  },
  {
   "cell_type": "markdown",
   "metadata": {},
   "source": [
    "### Como o 'prodution time' é entre 6am e 3am. Existem rotas fora desta janelas?"
   ]
  },
  {
   "cell_type": "code",
   "execution_count": 16,
   "metadata": {},
   "outputs": [
    {
     "data": {
      "text/html": [
       "<div>\n",
       "<style scoped>\n",
       "    .dataframe tbody tr th:only-of-type {\n",
       "        vertical-align: middle;\n",
       "    }\n",
       "\n",
       "    .dataframe tbody tr th {\n",
       "        vertical-align: top;\n",
       "    }\n",
       "\n",
       "    .dataframe thead th {\n",
       "        text-align: right;\n",
       "    }\n",
       "</style>\n",
       "<table border=\"1\" class=\"dataframe\">\n",
       "  <thead>\n",
       "    <tr style=\"text-align: right;\">\n",
       "      <th></th>\n",
       "      <th>timestamp</th>\n",
       "      <th>line_id</th>\n",
       "      <th>journey_id</th>\n",
       "      <th>time_frame</th>\n",
       "      <th>vehicle_journey_id</th>\n",
       "      <th>operator</th>\n",
       "      <th>congestion</th>\n",
       "      <th>lng</th>\n",
       "      <th>lat</th>\n",
       "      <th>delay</th>\n",
       "      <th>block_id</th>\n",
       "      <th>vehicle_id</th>\n",
       "      <th>stop_id</th>\n",
       "      <th>stop</th>\n",
       "      <th>datetime</th>\n",
       "      <th>hour</th>\n",
       "      <th>day</th>\n",
       "    </tr>\n",
       "  </thead>\n",
       "  <tbody>\n",
       "  </tbody>\n",
       "</table>\n",
       "</div>"
      ],
      "text/plain": [
       "Empty DataFrame\n",
       "Columns: [timestamp, line_id, journey_id, time_frame, vehicle_journey_id, operator, congestion, lng, lat, delay, block_id, vehicle_id, stop_id, stop, datetime, hour, day]\n",
       "Index: []"
      ]
     },
     "execution_count": 16,
     "metadata": {},
     "output_type": "execute_result"
    }
   ],
   "source": [
    "df[(3 < df.hour) & (df.hour < 6)]"
   ]
  },
  {
   "cell_type": "markdown",
   "metadata": {},
   "source": [
    "## Análisar trajetórias"
   ]
  },
  {
   "cell_type": "markdown",
   "metadata": {},
   "source": [
    "### Os blocos abaixo foram retirados pois estava dando erro com a alocação de memória na função groupby."
   ]
  },
  {
   "cell_type": "markdown",
   "metadata": {},
   "source": [
    "Eles vão fazer uma análise do número de pontos em cada trajetórias e serviriam de embasamento para a seleção do número mínimo de 50 pontos para validar uma trajetória."
   ]
  },
  {
   "cell_type": "raw",
   "metadata": {},
   "source": [
    "df.info()"
   ]
  },
  {
   "cell_type": "raw",
   "metadata": {},
   "source": [
    "df_traj = df.groupby(trajetoria).size().reset_index()\n",
    "df_traj['points'] = df_traj[0]\n",
    "df_traj.drop(0, axis=1, inplace=True)"
   ]
  },
  {
   "cell_type": "raw",
   "metadata": {},
   "source": [
    "df_traj.head()"
   ]
  },
  {
   "cell_type": "raw",
   "metadata": {},
   "source": [
    "df_traj.points.describe()"
   ]
  },
  {
   "cell_type": "raw",
   "metadata": {},
   "source": [
    "df_traj.points.plot(kind='box')"
   ]
  },
  {
   "cell_type": "raw",
   "metadata": {},
   "source": [
    "df_traj.points.plot(kind='hist')"
   ]
  },
  {
   "cell_type": "raw",
   "metadata": {},
   "source": [
    "df_traj['points_log'] = np.log10(df_traj['points'])\n",
    "df_traj.plot(y='points_log', kind='hist')"
   ]
  },
  {
   "cell_type": "raw",
   "metadata": {},
   "source": [
    "df_traj.points_log.describe()"
   ]
  },
  {
   "cell_type": "markdown",
   "metadata": {},
   "source": [
    "Observamos uma partição dos número de pontos por trajetória um pouco abaixo de 100 pontos. Mais a frente iremos usar o valor limite de 50 pontos para excluir as trajetórias abaixo deste limiar."
   ]
  },
  {
   "cell_type": "code",
   "execution_count": 17,
   "metadata": {},
   "outputs": [],
   "source": [
    "minimo_pontos = 50"
   ]
  },
  {
   "cell_type": "markdown",
   "metadata": {},
   "source": [
    "## Gerar trajetórias"
   ]
  },
  {
   "cell_type": "markdown",
   "metadata": {},
   "source": [
    "Na função que gera trajetórias incluimos algumas features aproveitando o fato de que esta geração de trajetórias percorre o dataset linha a linha, uma vez que precisamos identificar um valor limite entre duas amostras do GPS para poder validar a trajetória. Usamos aqui o valor é de 5 minutos."
   ]
  },
  {
   "cell_type": "code",
   "execution_count": 18,
   "metadata": {},
   "outputs": [],
   "source": [
    "gps = ['lat','lng']\n",
    "\n",
    "def delta_time(t1, t2) -> float:\n",
    "    '''\n",
    "    Retorna diferença temporal em segundos\n",
    "    Ou np.nan se a diferença temporal para o ponto anterior\n",
    "    for superior a 5 minutos\n",
    "    '''\n",
    "    t1 = pd.to_datetime(t1,unit='us')\n",
    "    t2 = pd.to_datetime(t2,unit='us')\n",
    "    time = pd.Timedelta(np.abs(t2 - t1))\n",
    "    if (time.seconds > 5*60):\n",
    "        return np.nan\n",
    "    else:        \n",
    "        return time.seconds\n",
    "\n",
    "def calc_deltas(frame):\n",
    "    '''\n",
    "    Retorna o DF com as colunas de delta[tempo, distancia] preenchidas\n",
    "    Depende do valor da linha anterior (temporalmente)\n",
    "    Nas funções MAP são enviados os valores da linha presente e da anterior (shift(1))\n",
    "    '''\n",
    "    frame.dist_from_old_point = 0\n",
    "    frame.time_from_old_point = 0\n",
    "    delta_d = list(map(\n",
    "        lambda x, y: geodesic(x,y).meters, frame[gps].values[1:], frame[gps].shift(1).values[1:]))\n",
    "    delta_t = list(map(\n",
    "        lambda x, y: delta_time(x,y), frame['timestamp'].values[1:], frame['timestamp'].shift(1).values[1:]))\n",
    "    if (len(frame[frame.isna()]) == 0):\n",
    "        print('Não há quaisquer valores NaN')\n",
    "    frame['dist_from_old_point'] = [0, *delta_d]\n",
    "    frame['time_from_old_point'] = [0, *delta_t]\n",
    "    return frame"
   ]
  },
  {
   "cell_type": "markdown",
   "metadata": {},
   "source": [
    "Repartição do dataset em uma lista contendo vários dataframes, cada um referente a uma trajaetória "
   ]
  },
  {
   "cell_type": "markdown",
   "metadata": {},
   "source": [
    "No agrupamento a seguir todas as instâncias com uma das features listadas como chave com valor NaN são descartadas."
   ]
  },
  {
   "cell_type": "code",
   "execution_count": 19,
   "metadata": {},
   "outputs": [],
   "source": [
    "# Repartição\n",
    "dfs_menos_q_50 = [x for _,x in df.groupby(trajetoria) if ((len(x) < 50) & (len(x) > 10))]\n",
    "dfs = [x for _,x in df.groupby(trajetoria) if (len(x) > 50)]\n",
    "\n",
    "# Seleciona 100 trajetórias aleatórias\n",
    "random_traj = random.sample(range(0, len(dfs)), 100)\n",
    "dfs = [dfs[i] for i in random_traj] \n",
    "# Chamas calc_deltas para cada trajetória\n",
    "dfs = list(map(calc_deltas,dfs))\n",
    "# concatena as trajetorias de volta em um DF unico\n",
    "dfs = pd.concat(dfs)"
   ]
  },
  {
   "cell_type": "markdown",
   "metadata": {},
   "source": [
    "### Criação de novas features"
   ]
  },
  {
   "cell_type": "markdown",
   "metadata": {},
   "source": [
    "#### Velocidade e Aceleração"
   ]
  },
  {
   "cell_type": "code",
   "execution_count": 20,
   "metadata": {},
   "outputs": [],
   "source": [
    "dfs['velocity'] = dfs.dist_from_old_point / dfs.time_from_old_point\n",
    "dfs['acc'] = dfs.velocity * (1/dfs.time_from_old_point)\n",
    "dfs['acc'].fillna(value=0, inplace=True)\n",
    "dfs['velocity'].fillna(value=0, inplace=True)"
   ]
  },
  {
   "cell_type": "markdown",
   "metadata": {},
   "source": [
    "#### ID única para cada trajetória"
   ]
  },
  {
   "cell_type": "code",
   "execution_count": 21,
   "metadata": {},
   "outputs": [],
   "source": [
    "dfs[trajetoria] = dfs[trajetoria].astype('string')\n",
    "dfs['ID'] = dfs[trajetoria].agg('-'.join, axis=1).astype('category').cat.codes"
   ]
  },
  {
   "cell_type": "markdown",
   "metadata": {},
   "source": [
    "### Exclusão de pontos que diferem mais que 5 minutos do prévio"
   ]
  },
  {
   "cell_type": "markdown",
   "metadata": {},
   "source": [
    "Verifica também se os pontos restantes (anteriores) tem uma a quantidade mínima de pontos para validar a trajetória"
   ]
  },
  {
   "cell_type": "code",
   "execution_count": 22,
   "metadata": {},
   "outputs": [
    {
     "data": {
      "text/html": [
       "<div>\n",
       "<style scoped>\n",
       "    .dataframe tbody tr th:only-of-type {\n",
       "        vertical-align: middle;\n",
       "    }\n",
       "\n",
       "    .dataframe tbody tr th {\n",
       "        vertical-align: top;\n",
       "    }\n",
       "\n",
       "    .dataframe thead th {\n",
       "        text-align: right;\n",
       "    }\n",
       "</style>\n",
       "<table border=\"1\" class=\"dataframe\">\n",
       "  <thead>\n",
       "    <tr style=\"text-align: right;\">\n",
       "      <th></th>\n",
       "      <th>timestamp</th>\n",
       "      <th>line_id</th>\n",
       "      <th>journey_id</th>\n",
       "      <th>time_frame</th>\n",
       "      <th>vehicle_journey_id</th>\n",
       "      <th>operator</th>\n",
       "      <th>congestion</th>\n",
       "      <th>lng</th>\n",
       "      <th>lat</th>\n",
       "      <th>delay</th>\n",
       "      <th>block_id</th>\n",
       "      <th>vehicle_id</th>\n",
       "      <th>stop_id</th>\n",
       "      <th>stop</th>\n",
       "      <th>datetime</th>\n",
       "      <th>hour</th>\n",
       "      <th>day</th>\n",
       "      <th>dist_from_old_point</th>\n",
       "      <th>time_from_old_point</th>\n",
       "      <th>velocity</th>\n",
       "      <th>acc</th>\n",
       "      <th>ID</th>\n",
       "    </tr>\n",
       "  </thead>\n",
       "  <tbody>\n",
       "    <tr>\n",
       "      <th>1007918</th>\n",
       "      <td>1357833421000000</td>\n",
       "      <td>13.0</td>\n",
       "      <td>00130001</td>\n",
       "      <td>2013-01-10</td>\n",
       "      <td>3347</td>\n",
       "      <td>CD</td>\n",
       "      <td>False</td>\n",
       "      <td>-6.267076</td>\n",
       "      <td>53.417137</td>\n",
       "      <td>31</td>\n",
       "      <td>13001</td>\n",
       "      <td>33525</td>\n",
       "      <td>6235.0</td>\n",
       "      <td>False</td>\n",
       "      <td>2013-01-10 15:57:01</td>\n",
       "      <td>15</td>\n",
       "      <td>10</td>\n",
       "      <td>0.000000</td>\n",
       "      <td>0.0</td>\n",
       "      <td>0.000000</td>\n",
       "      <td>0.000000</td>\n",
       "      <td>15</td>\n",
       "    </tr>\n",
       "    <tr>\n",
       "      <th>1008595</th>\n",
       "      <td>1357833442000000</td>\n",
       "      <td>13.0</td>\n",
       "      <td>00130001</td>\n",
       "      <td>2013-01-10</td>\n",
       "      <td>3347</td>\n",
       "      <td>CD</td>\n",
       "      <td>False</td>\n",
       "      <td>-6.267076</td>\n",
       "      <td>53.417137</td>\n",
       "      <td>51</td>\n",
       "      <td>13001</td>\n",
       "      <td>33525</td>\n",
       "      <td>6235.0</td>\n",
       "      <td>False</td>\n",
       "      <td>2013-01-10 15:57:22</td>\n",
       "      <td>15</td>\n",
       "      <td>10</td>\n",
       "      <td>0.000000</td>\n",
       "      <td>21.0</td>\n",
       "      <td>0.000000</td>\n",
       "      <td>0.000000</td>\n",
       "      <td>15</td>\n",
       "    </tr>\n",
       "    <tr>\n",
       "      <th>1009220</th>\n",
       "      <td>1357833463000000</td>\n",
       "      <td>13.0</td>\n",
       "      <td>00130001</td>\n",
       "      <td>2013-01-10</td>\n",
       "      <td>3347</td>\n",
       "      <td>CD</td>\n",
       "      <td>False</td>\n",
       "      <td>-6.266477</td>\n",
       "      <td>53.417076</td>\n",
       "      <td>66</td>\n",
       "      <td>13001</td>\n",
       "      <td>33525</td>\n",
       "      <td>6235.0</td>\n",
       "      <td>False</td>\n",
       "      <td>2013-01-10 15:57:43</td>\n",
       "      <td>15</td>\n",
       "      <td>10</td>\n",
       "      <td>40.401050</td>\n",
       "      <td>21.0</td>\n",
       "      <td>1.923860</td>\n",
       "      <td>0.091612</td>\n",
       "      <td>15</td>\n",
       "    </tr>\n",
       "    <tr>\n",
       "      <th>1009714</th>\n",
       "      <td>1357833481000000</td>\n",
       "      <td>13.0</td>\n",
       "      <td>00130001</td>\n",
       "      <td>2013-01-10</td>\n",
       "      <td>3347</td>\n",
       "      <td>CD</td>\n",
       "      <td>False</td>\n",
       "      <td>-6.265378</td>\n",
       "      <td>53.415203</td>\n",
       "      <td>66</td>\n",
       "      <td>13001</td>\n",
       "      <td>33525</td>\n",
       "      <td>7480.0</td>\n",
       "      <td>False</td>\n",
       "      <td>2013-01-10 15:58:01</td>\n",
       "      <td>15</td>\n",
       "      <td>10</td>\n",
       "      <td>220.890423</td>\n",
       "      <td>18.0</td>\n",
       "      <td>12.271690</td>\n",
       "      <td>0.681761</td>\n",
       "      <td>15</td>\n",
       "    </tr>\n",
       "    <tr>\n",
       "      <th>1010420</th>\n",
       "      <td>1357833501000000</td>\n",
       "      <td>13.0</td>\n",
       "      <td>00130001</td>\n",
       "      <td>2013-01-10</td>\n",
       "      <td>3347</td>\n",
       "      <td>CD</td>\n",
       "      <td>False</td>\n",
       "      <td>-6.265399</td>\n",
       "      <td>53.412579</td>\n",
       "      <td>36</td>\n",
       "      <td>13001</td>\n",
       "      <td>33525</td>\n",
       "      <td>327.0</td>\n",
       "      <td>False</td>\n",
       "      <td>2013-01-10 15:58:21</td>\n",
       "      <td>15</td>\n",
       "      <td>10</td>\n",
       "      <td>292.038917</td>\n",
       "      <td>20.0</td>\n",
       "      <td>14.601946</td>\n",
       "      <td>0.730097</td>\n",
       "      <td>15</td>\n",
       "    </tr>\n",
       "    <tr>\n",
       "      <th>...</th>\n",
       "      <td>...</td>\n",
       "      <td>...</td>\n",
       "      <td>...</td>\n",
       "      <td>...</td>\n",
       "      <td>...</td>\n",
       "      <td>...</td>\n",
       "      <td>...</td>\n",
       "      <td>...</td>\n",
       "      <td>...</td>\n",
       "      <td>...</td>\n",
       "      <td>...</td>\n",
       "      <td>...</td>\n",
       "      <td>...</td>\n",
       "      <td>...</td>\n",
       "      <td>...</td>\n",
       "      <td>...</td>\n",
       "      <td>...</td>\n",
       "      <td>...</td>\n",
       "      <td>...</td>\n",
       "      <td>...</td>\n",
       "      <td>...</td>\n",
       "      <td>...</td>\n",
       "    </tr>\n",
       "    <tr>\n",
       "      <th>1260597</th>\n",
       "      <td>1357840743000000</td>\n",
       "      <td>13.0</td>\n",
       "      <td>00130001</td>\n",
       "      <td>2013-01-10</td>\n",
       "      <td>3347</td>\n",
       "      <td>CD</td>\n",
       "      <td>False</td>\n",
       "      <td>-6.451167</td>\n",
       "      <td>53.329849</td>\n",
       "      <td>0</td>\n",
       "      <td>13001</td>\n",
       "      <td>33525</td>\n",
       "      <td>7229.0</td>\n",
       "      <td>True</td>\n",
       "      <td>2013-01-10 17:59:03</td>\n",
       "      <td>17</td>\n",
       "      <td>10</td>\n",
       "      <td>1.132616</td>\n",
       "      <td>17.0</td>\n",
       "      <td>0.066624</td>\n",
       "      <td>0.003919</td>\n",
       "      <td>15</td>\n",
       "    </tr>\n",
       "    <tr>\n",
       "      <th>1261192</th>\n",
       "      <td>1357840761000000</td>\n",
       "      <td>13.0</td>\n",
       "      <td>00130001</td>\n",
       "      <td>2013-01-10</td>\n",
       "      <td>3347</td>\n",
       "      <td>CD</td>\n",
       "      <td>False</td>\n",
       "      <td>-6.451167</td>\n",
       "      <td>53.329849</td>\n",
       "      <td>0</td>\n",
       "      <td>13001</td>\n",
       "      <td>33525</td>\n",
       "      <td>7229.0</td>\n",
       "      <td>True</td>\n",
       "      <td>2013-01-10 17:59:21</td>\n",
       "      <td>17</td>\n",
       "      <td>10</td>\n",
       "      <td>0.000000</td>\n",
       "      <td>18.0</td>\n",
       "      <td>0.000000</td>\n",
       "      <td>0.000000</td>\n",
       "      <td>15</td>\n",
       "    </tr>\n",
       "    <tr>\n",
       "      <th>1261420</th>\n",
       "      <td>1357840764000000</td>\n",
       "      <td>13.0</td>\n",
       "      <td>00130001</td>\n",
       "      <td>2013-01-10</td>\n",
       "      <td>3347</td>\n",
       "      <td>CD</td>\n",
       "      <td>False</td>\n",
       "      <td>-6.451167</td>\n",
       "      <td>53.329849</td>\n",
       "      <td>0</td>\n",
       "      <td>13001</td>\n",
       "      <td>33525</td>\n",
       "      <td>7229.0</td>\n",
       "      <td>True</td>\n",
       "      <td>2013-01-10 17:59:24</td>\n",
       "      <td>17</td>\n",
       "      <td>10</td>\n",
       "      <td>0.000000</td>\n",
       "      <td>3.0</td>\n",
       "      <td>0.000000</td>\n",
       "      <td>0.000000</td>\n",
       "      <td>15</td>\n",
       "    </tr>\n",
       "    <tr>\n",
       "      <th>1262023</th>\n",
       "      <td>1357840783000000</td>\n",
       "      <td>13.0</td>\n",
       "      <td>00130001</td>\n",
       "      <td>2013-01-10</td>\n",
       "      <td>3347</td>\n",
       "      <td>CD</td>\n",
       "      <td>False</td>\n",
       "      <td>-6.451167</td>\n",
       "      <td>53.329849</td>\n",
       "      <td>0</td>\n",
       "      <td>13001</td>\n",
       "      <td>33525</td>\n",
       "      <td>7229.0</td>\n",
       "      <td>True</td>\n",
       "      <td>2013-01-10 17:59:43</td>\n",
       "      <td>17</td>\n",
       "      <td>10</td>\n",
       "      <td>0.000000</td>\n",
       "      <td>19.0</td>\n",
       "      <td>0.000000</td>\n",
       "      <td>0.000000</td>\n",
       "      <td>15</td>\n",
       "    </tr>\n",
       "    <tr>\n",
       "      <th>1262802</th>\n",
       "      <td>1357840804000000</td>\n",
       "      <td>13.0</td>\n",
       "      <td>00130001</td>\n",
       "      <td>2013-01-10</td>\n",
       "      <td>3347</td>\n",
       "      <td>CD</td>\n",
       "      <td>False</td>\n",
       "      <td>-6.451150</td>\n",
       "      <td>53.329849</td>\n",
       "      <td>0</td>\n",
       "      <td>13001</td>\n",
       "      <td>33525</td>\n",
       "      <td>7229.0</td>\n",
       "      <td>True</td>\n",
       "      <td>2013-01-10 18:00:04</td>\n",
       "      <td>18</td>\n",
       "      <td>10</td>\n",
       "      <td>1.132616</td>\n",
       "      <td>21.0</td>\n",
       "      <td>0.053934</td>\n",
       "      <td>0.002568</td>\n",
       "      <td>15</td>\n",
       "    </tr>\n",
       "  </tbody>\n",
       "</table>\n",
       "<p>466 rows × 22 columns</p>\n",
       "</div>"
      ],
      "text/plain": [
       "                timestamp line_id journey_id  time_frame vehicle_journey_id  \\\n",
       "1007918  1357833421000000    13.0   00130001  2013-01-10               3347   \n",
       "1008595  1357833442000000    13.0   00130001  2013-01-10               3347   \n",
       "1009220  1357833463000000    13.0   00130001  2013-01-10               3347   \n",
       "1009714  1357833481000000    13.0   00130001  2013-01-10               3347   \n",
       "1010420  1357833501000000    13.0   00130001  2013-01-10               3347   \n",
       "...                   ...     ...        ...         ...                ...   \n",
       "1260597  1357840743000000    13.0   00130001  2013-01-10               3347   \n",
       "1261192  1357840761000000    13.0   00130001  2013-01-10               3347   \n",
       "1261420  1357840764000000    13.0   00130001  2013-01-10               3347   \n",
       "1262023  1357840783000000    13.0   00130001  2013-01-10               3347   \n",
       "1262802  1357840804000000    13.0   00130001  2013-01-10               3347   \n",
       "\n",
       "        operator  congestion       lng        lat  delay block_id vehicle_id  \\\n",
       "1007918       CD       False -6.267076  53.417137     31    13001      33525   \n",
       "1008595       CD       False -6.267076  53.417137     51    13001      33525   \n",
       "1009220       CD       False -6.266477  53.417076     66    13001      33525   \n",
       "1009714       CD       False -6.265378  53.415203     66    13001      33525   \n",
       "1010420       CD       False -6.265399  53.412579     36    13001      33525   \n",
       "...          ...         ...       ...        ...    ...      ...        ...   \n",
       "1260597       CD       False -6.451167  53.329849      0    13001      33525   \n",
       "1261192       CD       False -6.451167  53.329849      0    13001      33525   \n",
       "1261420       CD       False -6.451167  53.329849      0    13001      33525   \n",
       "1262023       CD       False -6.451167  53.329849      0    13001      33525   \n",
       "1262802       CD       False -6.451150  53.329849      0    13001      33525   \n",
       "\n",
       "        stop_id   stop            datetime  hour  day  dist_from_old_point  \\\n",
       "1007918  6235.0  False 2013-01-10 15:57:01    15   10             0.000000   \n",
       "1008595  6235.0  False 2013-01-10 15:57:22    15   10             0.000000   \n",
       "1009220  6235.0  False 2013-01-10 15:57:43    15   10            40.401050   \n",
       "1009714  7480.0  False 2013-01-10 15:58:01    15   10           220.890423   \n",
       "1010420   327.0  False 2013-01-10 15:58:21    15   10           292.038917   \n",
       "...         ...    ...                 ...   ...  ...                  ...   \n",
       "1260597  7229.0   True 2013-01-10 17:59:03    17   10             1.132616   \n",
       "1261192  7229.0   True 2013-01-10 17:59:21    17   10             0.000000   \n",
       "1261420  7229.0   True 2013-01-10 17:59:24    17   10             0.000000   \n",
       "1262023  7229.0   True 2013-01-10 17:59:43    17   10             0.000000   \n",
       "1262802  7229.0   True 2013-01-10 18:00:04    18   10             1.132616   \n",
       "\n",
       "         time_from_old_point   velocity       acc  ID  \n",
       "1007918                  0.0   0.000000  0.000000  15  \n",
       "1008595                 21.0   0.000000  0.000000  15  \n",
       "1009220                 21.0   1.923860  0.091612  15  \n",
       "1009714                 18.0  12.271690  0.681761  15  \n",
       "1010420                 20.0  14.601946  0.730097  15  \n",
       "...                      ...        ...       ...  ..  \n",
       "1260597                 17.0   0.066624  0.003919  15  \n",
       "1261192                 18.0   0.000000  0.000000  15  \n",
       "1261420                  3.0   0.000000  0.000000  15  \n",
       "1262023                 19.0   0.000000  0.000000  15  \n",
       "1262802                 21.0   0.053934  0.002568  15  \n",
       "\n",
       "[466 rows x 22 columns]"
      ]
     },
     "execution_count": 22,
     "metadata": {},
     "output_type": "execute_result"
    }
   ],
   "source": [
    "dfs[dfs.ID==15]"
   ]
  },
  {
   "cell_type": "code",
   "execution_count": 23,
   "metadata": {},
   "outputs": [
    {
     "name": "stdout",
     "output_type": "stream",
     "text": [
      "[93 88 85]\n",
      "221\n",
      "115\n",
      "217\n"
     ]
    }
   ],
   "source": [
    "# IDs com np.nan na coluna time_from_old_point\n",
    "lista_IDs = dfs[dfs.time_from_old_point.isna()].ID.unique()\n",
    "print(lista_IDs)\n",
    "def index2remove(ID):\n",
    "    cc = dfs[dfs.ID==ID]\n",
    "    print(len(cc))\n",
    "    if (len(cc) == 0):\n",
    "        return\n",
    "    cc.sort_values('timestamp')\n",
    "    ts = cc[cc['time_from_old_point'].isna()].timestamp.values[0]\n",
    "    if (len(cc[cc.timestamp <= ts]) < 50):\n",
    "        #exclui todo mundo no caso de não ter 50 pontos restantes\n",
    "        dfs.drop(cc.index, inplace=True)\n",
    "        return cc.index\n",
    "    else:\n",
    "        # exclui só do ponto problemático em diante\n",
    "        dfs.drop(cc[cc.timestamp >= ts].index, inplace=True)\n",
    "        return cc[cc.timestamp >= ts].index\n",
    "remover = list(map(index2remove,lista_IDs))"
   ]
  },
  {
   "cell_type": "code",
   "execution_count": 24,
   "metadata": {},
   "outputs": [
    {
     "data": {
      "text/plain": [
       "array([], dtype=int8)"
      ]
     },
     "execution_count": 24,
     "metadata": {},
     "output_type": "execute_result"
    }
   ],
   "source": [
    "lista_IDs = dfs[dfs.time_from_old_point.isna()].ID.values\n",
    "lista_IDs"
   ]
  },
  {
   "cell_type": "code",
   "execution_count": 25,
   "metadata": {},
   "outputs": [
    {
     "data": {
      "text/html": [
       "<div>\n",
       "<style scoped>\n",
       "    .dataframe tbody tr th:only-of-type {\n",
       "        vertical-align: middle;\n",
       "    }\n",
       "\n",
       "    .dataframe tbody tr th {\n",
       "        vertical-align: top;\n",
       "    }\n",
       "\n",
       "    .dataframe thead th {\n",
       "        text-align: right;\n",
       "    }\n",
       "</style>\n",
       "<table border=\"1\" class=\"dataframe\">\n",
       "  <thead>\n",
       "    <tr style=\"text-align: right;\">\n",
       "      <th></th>\n",
       "      <th>timestamp</th>\n",
       "      <th>line_id</th>\n",
       "      <th>journey_id</th>\n",
       "      <th>time_frame</th>\n",
       "      <th>vehicle_journey_id</th>\n",
       "      <th>operator</th>\n",
       "      <th>congestion</th>\n",
       "      <th>lng</th>\n",
       "      <th>lat</th>\n",
       "      <th>delay</th>\n",
       "      <th>block_id</th>\n",
       "      <th>vehicle_id</th>\n",
       "      <th>stop_id</th>\n",
       "      <th>stop</th>\n",
       "      <th>datetime</th>\n",
       "      <th>hour</th>\n",
       "      <th>day</th>\n",
       "      <th>dist_from_old_point</th>\n",
       "      <th>time_from_old_point</th>\n",
       "      <th>velocity</th>\n",
       "      <th>acc</th>\n",
       "      <th>ID</th>\n",
       "    </tr>\n",
       "  </thead>\n",
       "  <tbody>\n",
       "    <tr>\n",
       "      <th>1050031</th>\n",
       "      <td>1357834765000000</td>\n",
       "      <td>39.0</td>\n",
       "      <td>039A1001</td>\n",
       "      <td>2013-01-10</td>\n",
       "      <td>3189</td>\n",
       "      <td>PO</td>\n",
       "      <td>False</td>\n",
       "      <td>-6.435300</td>\n",
       "      <td>53.391335</td>\n",
       "      <td>0</td>\n",
       "      <td>39018</td>\n",
       "      <td>36048</td>\n",
       "      <td>7157.0</td>\n",
       "      <td>True</td>\n",
       "      <td>2013-01-10 16:19:25</td>\n",
       "      <td>16</td>\n",
       "      <td>10</td>\n",
       "      <td>0.000000</td>\n",
       "      <td>0.0</td>\n",
       "      <td>0.000000</td>\n",
       "      <td>0.000000</td>\n",
       "      <td>60</td>\n",
       "    </tr>\n",
       "    <tr>\n",
       "      <th>1050643</th>\n",
       "      <td>1357834785000000</td>\n",
       "      <td>39.0</td>\n",
       "      <td>039A1001</td>\n",
       "      <td>2013-01-10</td>\n",
       "      <td>3189</td>\n",
       "      <td>PO</td>\n",
       "      <td>False</td>\n",
       "      <td>-6.435283</td>\n",
       "      <td>53.391335</td>\n",
       "      <td>0</td>\n",
       "      <td>39018</td>\n",
       "      <td>36048</td>\n",
       "      <td>7157.0</td>\n",
       "      <td>True</td>\n",
       "      <td>2013-01-10 16:19:45</td>\n",
       "      <td>16</td>\n",
       "      <td>10</td>\n",
       "      <td>1.130986</td>\n",
       "      <td>20.0</td>\n",
       "      <td>0.056549</td>\n",
       "      <td>0.002827</td>\n",
       "      <td>60</td>\n",
       "    </tr>\n",
       "    <tr>\n",
       "      <th>1051285</th>\n",
       "      <td>1357834806000000</td>\n",
       "      <td>39.0</td>\n",
       "      <td>039A1001</td>\n",
       "      <td>2013-01-10</td>\n",
       "      <td>3189</td>\n",
       "      <td>PO</td>\n",
       "      <td>False</td>\n",
       "      <td>-6.436017</td>\n",
       "      <td>53.391483</td>\n",
       "      <td>0</td>\n",
       "      <td>39018</td>\n",
       "      <td>36048</td>\n",
       "      <td>7157.0</td>\n",
       "      <td>True</td>\n",
       "      <td>2013-01-10 16:20:06</td>\n",
       "      <td>16</td>\n",
       "      <td>10</td>\n",
       "      <td>51.535084</td>\n",
       "      <td>21.0</td>\n",
       "      <td>2.454052</td>\n",
       "      <td>0.116860</td>\n",
       "      <td>60</td>\n",
       "    </tr>\n",
       "    <tr>\n",
       "      <th>1051780</th>\n",
       "      <td>1357834820000000</td>\n",
       "      <td>39.0</td>\n",
       "      <td>039A1001</td>\n",
       "      <td>2013-01-10</td>\n",
       "      <td>3189</td>\n",
       "      <td>PO</td>\n",
       "      <td>False</td>\n",
       "      <td>-6.435414</td>\n",
       "      <td>53.391399</td>\n",
       "      <td>0</td>\n",
       "      <td>39018</td>\n",
       "      <td>36048</td>\n",
       "      <td>7157.0</td>\n",
       "      <td>False</td>\n",
       "      <td>2013-01-10 16:20:20</td>\n",
       "      <td>16</td>\n",
       "      <td>10</td>\n",
       "      <td>41.191544</td>\n",
       "      <td>14.0</td>\n",
       "      <td>2.942253</td>\n",
       "      <td>0.210161</td>\n",
       "      <td>60</td>\n",
       "    </tr>\n",
       "    <tr>\n",
       "      <th>1052032</th>\n",
       "      <td>1357834824000000</td>\n",
       "      <td>39.0</td>\n",
       "      <td>039A1001</td>\n",
       "      <td>2013-01-10</td>\n",
       "      <td>3189</td>\n",
       "      <td>PO</td>\n",
       "      <td>False</td>\n",
       "      <td>-6.435414</td>\n",
       "      <td>53.391399</td>\n",
       "      <td>0</td>\n",
       "      <td>39018</td>\n",
       "      <td>36048</td>\n",
       "      <td>7157.0</td>\n",
       "      <td>False</td>\n",
       "      <td>2013-01-10 16:20:24</td>\n",
       "      <td>16</td>\n",
       "      <td>10</td>\n",
       "      <td>0.000000</td>\n",
       "      <td>4.0</td>\n",
       "      <td>0.000000</td>\n",
       "      <td>0.000000</td>\n",
       "      <td>60</td>\n",
       "    </tr>\n",
       "  </tbody>\n",
       "</table>\n",
       "</div>"
      ],
      "text/plain": [
       "                timestamp line_id journey_id  time_frame vehicle_journey_id  \\\n",
       "1050031  1357834765000000    39.0   039A1001  2013-01-10               3189   \n",
       "1050643  1357834785000000    39.0   039A1001  2013-01-10               3189   \n",
       "1051285  1357834806000000    39.0   039A1001  2013-01-10               3189   \n",
       "1051780  1357834820000000    39.0   039A1001  2013-01-10               3189   \n",
       "1052032  1357834824000000    39.0   039A1001  2013-01-10               3189   \n",
       "\n",
       "        operator  congestion       lng        lat  delay block_id vehicle_id  \\\n",
       "1050031       PO       False -6.435300  53.391335      0    39018      36048   \n",
       "1050643       PO       False -6.435283  53.391335      0    39018      36048   \n",
       "1051285       PO       False -6.436017  53.391483      0    39018      36048   \n",
       "1051780       PO       False -6.435414  53.391399      0    39018      36048   \n",
       "1052032       PO       False -6.435414  53.391399      0    39018      36048   \n",
       "\n",
       "        stop_id   stop            datetime  hour  day  dist_from_old_point  \\\n",
       "1050031  7157.0   True 2013-01-10 16:19:25    16   10             0.000000   \n",
       "1050643  7157.0   True 2013-01-10 16:19:45    16   10             1.130986   \n",
       "1051285  7157.0   True 2013-01-10 16:20:06    16   10            51.535084   \n",
       "1051780  7157.0  False 2013-01-10 16:20:20    16   10            41.191544   \n",
       "1052032  7157.0  False 2013-01-10 16:20:24    16   10             0.000000   \n",
       "\n",
       "         time_from_old_point  velocity       acc  ID  \n",
       "1050031                  0.0  0.000000  0.000000  60  \n",
       "1050643                 20.0  0.056549  0.002827  60  \n",
       "1051285                 21.0  2.454052  0.116860  60  \n",
       "1051780                 14.0  2.942253  0.210161  60  \n",
       "1052032                  4.0  0.000000  0.000000  60  "
      ]
     },
     "execution_count": 25,
     "metadata": {},
     "output_type": "execute_result"
    }
   ],
   "source": [
    "dfs.head()"
   ]
  },
  {
   "cell_type": "code",
   "execution_count": 26,
   "metadata": {},
   "outputs": [],
   "source": [
    "#backup\n",
    "df = dfs.copy()"
   ]
  },
  {
   "cell_type": "code",
   "execution_count": 27,
   "metadata": {},
   "outputs": [
    {
     "data": {
      "text/html": [
       "<div>\n",
       "<style scoped>\n",
       "    .dataframe tbody tr th:only-of-type {\n",
       "        vertical-align: middle;\n",
       "    }\n",
       "\n",
       "    .dataframe tbody tr th {\n",
       "        vertical-align: top;\n",
       "    }\n",
       "\n",
       "    .dataframe thead th {\n",
       "        text-align: right;\n",
       "    }\n",
       "</style>\n",
       "<table border=\"1\" class=\"dataframe\">\n",
       "  <thead>\n",
       "    <tr style=\"text-align: right;\">\n",
       "      <th></th>\n",
       "      <th>timestamp</th>\n",
       "      <th>line_id</th>\n",
       "      <th>journey_id</th>\n",
       "      <th>time_frame</th>\n",
       "      <th>vehicle_journey_id</th>\n",
       "      <th>operator</th>\n",
       "      <th>congestion</th>\n",
       "      <th>lng</th>\n",
       "      <th>lat</th>\n",
       "      <th>delay</th>\n",
       "      <th>block_id</th>\n",
       "      <th>vehicle_id</th>\n",
       "      <th>stop_id</th>\n",
       "      <th>stop</th>\n",
       "      <th>datetime</th>\n",
       "      <th>hour</th>\n",
       "      <th>day</th>\n",
       "      <th>dist_from_old_point</th>\n",
       "      <th>time_from_old_point</th>\n",
       "      <th>velocity</th>\n",
       "      <th>acc</th>\n",
       "      <th>ID</th>\n",
       "    </tr>\n",
       "  </thead>\n",
       "  <tbody>\n",
       "    <tr>\n",
       "      <th>832518</th>\n",
       "      <td>1357826644000000</td>\n",
       "      <td>39.0</td>\n",
       "      <td>00390001</td>\n",
       "      <td>2013-01-10</td>\n",
       "      <td>3041</td>\n",
       "      <td>PO</td>\n",
       "      <td>False</td>\n",
       "      <td>-6.434533</td>\n",
       "      <td>53.391251</td>\n",
       "      <td>0</td>\n",
       "      <td>39022</td>\n",
       "      <td>33317</td>\n",
       "      <td>7162.0</td>\n",
       "      <td>True</td>\n",
       "      <td>2013-01-10 14:04:04</td>\n",
       "      <td>14</td>\n",
       "      <td>10</td>\n",
       "      <td>0.000000</td>\n",
       "      <td>16.0</td>\n",
       "      <td>0.000000</td>\n",
       "      <td>0.000000</td>\n",
       "      <td>57</td>\n",
       "    </tr>\n",
       "    <tr>\n",
       "      <th>832990</th>\n",
       "      <td>1357826655000000</td>\n",
       "      <td>39.0</td>\n",
       "      <td>00390001</td>\n",
       "      <td>2013-01-10</td>\n",
       "      <td>3041</td>\n",
       "      <td>PO</td>\n",
       "      <td>False</td>\n",
       "      <td>-6.434533</td>\n",
       "      <td>53.391251</td>\n",
       "      <td>0</td>\n",
       "      <td>39022</td>\n",
       "      <td>33317</td>\n",
       "      <td>7162.0</td>\n",
       "      <td>True</td>\n",
       "      <td>2013-01-10 14:04:15</td>\n",
       "      <td>14</td>\n",
       "      <td>10</td>\n",
       "      <td>0.000000</td>\n",
       "      <td>11.0</td>\n",
       "      <td>0.000000</td>\n",
       "      <td>0.000000</td>\n",
       "      <td>57</td>\n",
       "    </tr>\n",
       "    <tr>\n",
       "      <th>833214</th>\n",
       "      <td>1357826669000000</td>\n",
       "      <td>39.0</td>\n",
       "      <td>00390001</td>\n",
       "      <td>2013-01-10</td>\n",
       "      <td>3041</td>\n",
       "      <td>PO</td>\n",
       "      <td>False</td>\n",
       "      <td>-6.434550</td>\n",
       "      <td>53.391266</td>\n",
       "      <td>0</td>\n",
       "      <td>39022</td>\n",
       "      <td>33317</td>\n",
       "      <td>7162.0</td>\n",
       "      <td>True</td>\n",
       "      <td>2013-01-10 14:04:29</td>\n",
       "      <td>14</td>\n",
       "      <td>10</td>\n",
       "      <td>2.016444</td>\n",
       "      <td>14.0</td>\n",
       "      <td>0.144032</td>\n",
       "      <td>0.010288</td>\n",
       "      <td>57</td>\n",
       "    </tr>\n",
       "    <tr>\n",
       "      <th>833662</th>\n",
       "      <td>1357826687000000</td>\n",
       "      <td>39.0</td>\n",
       "      <td>00390001</td>\n",
       "      <td>2013-01-10</td>\n",
       "      <td>3041</td>\n",
       "      <td>PO</td>\n",
       "      <td>False</td>\n",
       "      <td>-6.434533</td>\n",
       "      <td>53.391251</td>\n",
       "      <td>0</td>\n",
       "      <td>39022</td>\n",
       "      <td>33317</td>\n",
       "      <td>7162.0</td>\n",
       "      <td>True</td>\n",
       "      <td>2013-01-10 14:04:47</td>\n",
       "      <td>14</td>\n",
       "      <td>10</td>\n",
       "      <td>2.016444</td>\n",
       "      <td>18.0</td>\n",
       "      <td>0.112025</td>\n",
       "      <td>0.006224</td>\n",
       "      <td>57</td>\n",
       "    </tr>\n",
       "    <tr>\n",
       "      <th>834250</th>\n",
       "      <td>1357826710000000</td>\n",
       "      <td>39.0</td>\n",
       "      <td>00390001</td>\n",
       "      <td>2013-01-10</td>\n",
       "      <td>3041</td>\n",
       "      <td>PO</td>\n",
       "      <td>False</td>\n",
       "      <td>-6.434533</td>\n",
       "      <td>53.391251</td>\n",
       "      <td>0</td>\n",
       "      <td>39022</td>\n",
       "      <td>33317</td>\n",
       "      <td>7162.0</td>\n",
       "      <td>True</td>\n",
       "      <td>2013-01-10 14:05:10</td>\n",
       "      <td>14</td>\n",
       "      <td>10</td>\n",
       "      <td>0.000000</td>\n",
       "      <td>23.0</td>\n",
       "      <td>0.000000</td>\n",
       "      <td>0.000000</td>\n",
       "      <td>57</td>\n",
       "    </tr>\n",
       "  </tbody>\n",
       "</table>\n",
       "</div>"
      ],
      "text/plain": [
       "               timestamp line_id journey_id  time_frame vehicle_journey_id  \\\n",
       "832518  1357826644000000    39.0   00390001  2013-01-10               3041   \n",
       "832990  1357826655000000    39.0   00390001  2013-01-10               3041   \n",
       "833214  1357826669000000    39.0   00390001  2013-01-10               3041   \n",
       "833662  1357826687000000    39.0   00390001  2013-01-10               3041   \n",
       "834250  1357826710000000    39.0   00390001  2013-01-10               3041   \n",
       "\n",
       "       operator  congestion       lng        lat  delay block_id vehicle_id  \\\n",
       "832518       PO       False -6.434533  53.391251      0    39022      33317   \n",
       "832990       PO       False -6.434533  53.391251      0    39022      33317   \n",
       "833214       PO       False -6.434550  53.391266      0    39022      33317   \n",
       "833662       PO       False -6.434533  53.391251      0    39022      33317   \n",
       "834250       PO       False -6.434533  53.391251      0    39022      33317   \n",
       "\n",
       "       stop_id  stop            datetime  hour  day  dist_from_old_point  \\\n",
       "832518  7162.0  True 2013-01-10 14:04:04    14   10             0.000000   \n",
       "832990  7162.0  True 2013-01-10 14:04:15    14   10             0.000000   \n",
       "833214  7162.0  True 2013-01-10 14:04:29    14   10             2.016444   \n",
       "833662  7162.0  True 2013-01-10 14:04:47    14   10             2.016444   \n",
       "834250  7162.0  True 2013-01-10 14:05:10    14   10             0.000000   \n",
       "\n",
       "        time_from_old_point  velocity       acc  ID  \n",
       "832518                 16.0  0.000000  0.000000  57  \n",
       "832990                 11.0  0.000000  0.000000  57  \n",
       "833214                 14.0  0.144032  0.010288  57  \n",
       "833662                 18.0  0.112025  0.006224  57  \n",
       "834250                 23.0  0.000000  0.000000  57  "
      ]
     },
     "execution_count": 27,
     "metadata": {},
     "output_type": "execute_result"
    }
   ],
   "source": [
    "df.tail()"
   ]
  },
  {
   "cell_type": "raw",
   "metadata": {},
   "source": [
    "df[df.ID==0][['lat','lng','MF_lat','MF_lng']].head(20)"
   ]
  },
  {
   "cell_type": "markdown",
   "metadata": {},
   "source": [
    "Abaixo percebemos valores que não podem pertencer a velocidades reais."
   ]
  },
  {
   "cell_type": "markdown",
   "metadata": {},
   "source": [
    "Por exemplo o valor máximo de 578 m/s para velocidade ou 261 m/s² para aceleração"
   ]
  },
  {
   "cell_type": "code",
   "execution_count": 28,
   "metadata": {},
   "outputs": [
    {
     "data": {
      "text/html": [
       "<div>\n",
       "<style scoped>\n",
       "    .dataframe tbody tr th:only-of-type {\n",
       "        vertical-align: middle;\n",
       "    }\n",
       "\n",
       "    .dataframe tbody tr th {\n",
       "        vertical-align: top;\n",
       "    }\n",
       "\n",
       "    .dataframe thead th {\n",
       "        text-align: right;\n",
       "    }\n",
       "</style>\n",
       "<table border=\"1\" class=\"dataframe\">\n",
       "  <thead>\n",
       "    <tr style=\"text-align: right;\">\n",
       "      <th></th>\n",
       "      <th>velocity</th>\n",
       "      <th>acc</th>\n",
       "      <th>time_from_old_point</th>\n",
       "      <th>dist_from_old_point</th>\n",
       "    </tr>\n",
       "  </thead>\n",
       "  <tbody>\n",
       "    <tr>\n",
       "      <th>count</th>\n",
       "      <td>20743.000000</td>\n",
       "      <td>20743.000000</td>\n",
       "      <td>20743.000000</td>\n",
       "      <td>20743.000000</td>\n",
       "    </tr>\n",
       "    <tr>\n",
       "      <th>mean</th>\n",
       "      <td>4.994942</td>\n",
       "      <td>0.362217</td>\n",
       "      <td>20.227691</td>\n",
       "      <td>96.816392</td>\n",
       "    </tr>\n",
       "    <tr>\n",
       "      <th>std</th>\n",
       "      <td>10.785677</td>\n",
       "      <td>2.530049</td>\n",
       "      <td>7.367470</td>\n",
       "      <td>133.902143</td>\n",
       "    </tr>\n",
       "    <tr>\n",
       "      <th>min</th>\n",
       "      <td>0.000000</td>\n",
       "      <td>0.000000</td>\n",
       "      <td>0.000000</td>\n",
       "      <td>0.000000</td>\n",
       "    </tr>\n",
       "    <tr>\n",
       "      <th>25%</th>\n",
       "      <td>0.089787</td>\n",
       "      <td>0.004532</td>\n",
       "      <td>19.000000</td>\n",
       "      <td>1.669387</td>\n",
       "    </tr>\n",
       "    <tr>\n",
       "      <th>50%</th>\n",
       "      <td>3.451159</td>\n",
       "      <td>0.163612</td>\n",
       "      <td>20.000000</td>\n",
       "      <td>69.431682</td>\n",
       "    </tr>\n",
       "    <tr>\n",
       "      <th>75%</th>\n",
       "      <td>7.551230</td>\n",
       "      <td>0.373434</td>\n",
       "      <td>21.000000</td>\n",
       "      <td>153.313676</td>\n",
       "    </tr>\n",
       "    <tr>\n",
       "      <th>max</th>\n",
       "      <td>1066.323637</td>\n",
       "      <td>177.720606</td>\n",
       "      <td>228.000000</td>\n",
       "      <td>6397.941821</td>\n",
       "    </tr>\n",
       "  </tbody>\n",
       "</table>\n",
       "</div>"
      ],
      "text/plain": [
       "           velocity           acc  time_from_old_point  dist_from_old_point\n",
       "count  20743.000000  20743.000000         20743.000000         20743.000000\n",
       "mean       4.994942      0.362217            20.227691            96.816392\n",
       "std       10.785677      2.530049             7.367470           133.902143\n",
       "min        0.000000      0.000000             0.000000             0.000000\n",
       "25%        0.089787      0.004532            19.000000             1.669387\n",
       "50%        3.451159      0.163612            20.000000            69.431682\n",
       "75%        7.551230      0.373434            21.000000           153.313676\n",
       "max     1066.323637    177.720606           228.000000          6397.941821"
      ]
     },
     "execution_count": 28,
     "metadata": {},
     "output_type": "execute_result"
    }
   ],
   "source": [
    "new_cols = ['velocity', 'acc', 'time_from_old_point', 'dist_from_old_point',]\n",
    "            #'MF_velocity', 'MF_acc', 'MF_dist_from_old_point']\n",
    "df[new_cols].describe()"
   ]
  },
  {
   "cell_type": "code",
   "execution_count": 29,
   "metadata": {},
   "outputs": [
    {
     "data": {
      "text/plain": [
       "<AxesSubplot:>"
      ]
     },
     "execution_count": 29,
     "metadata": {},
     "output_type": "execute_result"
    },
    {
     "data": {
      "image/png": "[encoded data removed]",
      "text/plain": [
       "<Figure size 720x432 with 1 Axes>"
      ]
     },
     "metadata": {
      "needs_background": "light"
     },
     "output_type": "display_data"
    }
   ],
   "source": [
    "df[new_cols].plot(kind='box', figsize=(10,6))"
   ]
  },
  {
   "cell_type": "markdown",
   "metadata": {},
   "source": [
    "## Teste de métodos para detecção de outliers"
   ]
  },
  {
   "cell_type": "markdown",
   "metadata": {},
   "source": [
    "### Isolation Forest sobre a velocidade e a aceleração"
   ]
  },
  {
   "cell_type": "code",
   "execution_count": 30,
   "metadata": {},
   "outputs": [],
   "source": [
    "from sklearn.ensemble import IsolationForest"
   ]
  },
  {
   "cell_type": "code",
   "execution_count": 31,
   "metadata": {},
   "outputs": [],
   "source": [
    "feats = ['velocity','acc']\n",
    "rng = np.random.RandomState(42)\n",
    "clf = IsolationForest(max_samples=100, random_state=rng)\n",
    "clf.fit(df[feats])\n",
    "scores = clf.predict(df[feats])\n",
    "df['outlier'] = scores"
   ]
  },
  {
   "cell_type": "markdown",
   "metadata": {},
   "source": [
    "### Isolation Forest com normalização dos valores de velocidade e aceleração"
   ]
  },
  {
   "cell_type": "code",
   "execution_count": 32,
   "metadata": {},
   "outputs": [],
   "source": [
    "from sklearn.preprocessing import MinMaxScaler"
   ]
  },
  {
   "cell_type": "code",
   "execution_count": 33,
   "metadata": {},
   "outputs": [],
   "source": [
    "scaler = MinMaxScaler()\n",
    "df_normalized = pd.DataFrame(scaler.fit_transform(df[['velocity','acc']]), columns = ['velocity','acc'])\n",
    "rng = np.random.RandomState(42)\n",
    "clf = IsolationForest(max_samples=100, random_state=rng)\n",
    "clf.fit(df_normalized)\n",
    "scores = clf.predict(df_normalized)\n",
    "df['outlier_norm'] = scores"
   ]
  },
  {
   "cell_type": "code",
   "execution_count": 34,
   "metadata": {},
   "outputs": [
    {
     "data": {
      "text/html": [
       "<div>\n",
       "<style scoped>\n",
       "    .dataframe tbody tr th:only-of-type {\n",
       "        vertical-align: middle;\n",
       "    }\n",
       "\n",
       "    .dataframe tbody tr th {\n",
       "        vertical-align: top;\n",
       "    }\n",
       "\n",
       "    .dataframe thead th {\n",
       "        text-align: right;\n",
       "    }\n",
       "</style>\n",
       "<table border=\"1\" class=\"dataframe\">\n",
       "  <thead>\n",
       "    <tr style=\"text-align: right;\">\n",
       "      <th></th>\n",
       "      <th>velocity</th>\n",
       "      <th>acc</th>\n",
       "    </tr>\n",
       "  </thead>\n",
       "  <tbody>\n",
       "    <tr>\n",
       "      <th>count</th>\n",
       "      <td>18011.000000</td>\n",
       "      <td>18011.000000</td>\n",
       "    </tr>\n",
       "    <tr>\n",
       "      <th>mean</th>\n",
       "      <td>3.316405</td>\n",
       "      <td>0.163314</td>\n",
       "    </tr>\n",
       "    <tr>\n",
       "      <th>std</th>\n",
       "      <td>3.296597</td>\n",
       "      <td>0.164184</td>\n",
       "    </tr>\n",
       "    <tr>\n",
       "      <th>min</th>\n",
       "      <td>0.000000</td>\n",
       "      <td>0.000000</td>\n",
       "    </tr>\n",
       "    <tr>\n",
       "      <th>25%</th>\n",
       "      <td>0.000000</td>\n",
       "      <td>0.000000</td>\n",
       "    </tr>\n",
       "    <tr>\n",
       "      <th>50%</th>\n",
       "      <td>2.558630</td>\n",
       "      <td>0.121768</td>\n",
       "    </tr>\n",
       "    <tr>\n",
       "      <th>75%</th>\n",
       "      <td>5.819261</td>\n",
       "      <td>0.286866</td>\n",
       "    </tr>\n",
       "    <tr>\n",
       "      <th>max</th>\n",
       "      <td>11.716932</td>\n",
       "      <td>0.580487</td>\n",
       "    </tr>\n",
       "  </tbody>\n",
       "</table>\n",
       "</div>"
      ],
      "text/plain": [
       "           velocity           acc\n",
       "count  18011.000000  18011.000000\n",
       "mean       3.316405      0.163314\n",
       "std        3.296597      0.164184\n",
       "min        0.000000      0.000000\n",
       "25%        0.000000      0.000000\n",
       "50%        2.558630      0.121768\n",
       "75%        5.819261      0.286866\n",
       "max       11.716932      0.580487"
      ]
     },
     "execution_count": 34,
     "metadata": {},
     "output_type": "execute_result"
    }
   ],
   "source": [
    "df[df.outlier == 1][feats].describe()"
   ]
  },
  {
   "cell_type": "code",
   "execution_count": 35,
   "metadata": {},
   "outputs": [
    {
     "data": {
      "text/html": [
       "<div>\n",
       "<style scoped>\n",
       "    .dataframe tbody tr th:only-of-type {\n",
       "        vertical-align: middle;\n",
       "    }\n",
       "\n",
       "    .dataframe tbody tr th {\n",
       "        vertical-align: top;\n",
       "    }\n",
       "\n",
       "    .dataframe thead th {\n",
       "        text-align: right;\n",
       "    }\n",
       "</style>\n",
       "<table border=\"1\" class=\"dataframe\">\n",
       "  <thead>\n",
       "    <tr style=\"text-align: right;\">\n",
       "      <th></th>\n",
       "      <th>velocity</th>\n",
       "      <th>acc</th>\n",
       "    </tr>\n",
       "  </thead>\n",
       "  <tbody>\n",
       "    <tr>\n",
       "      <th>count</th>\n",
       "      <td>17997.000000</td>\n",
       "      <td>17997.000000</td>\n",
       "    </tr>\n",
       "    <tr>\n",
       "      <th>mean</th>\n",
       "      <td>3.312994</td>\n",
       "      <td>0.163056</td>\n",
       "    </tr>\n",
       "    <tr>\n",
       "      <th>std</th>\n",
       "      <td>3.295979</td>\n",
       "      <td>0.163998</td>\n",
       "    </tr>\n",
       "    <tr>\n",
       "      <th>min</th>\n",
       "      <td>0.000000</td>\n",
       "      <td>0.000000</td>\n",
       "    </tr>\n",
       "    <tr>\n",
       "      <th>25%</th>\n",
       "      <td>0.000000</td>\n",
       "      <td>0.000000</td>\n",
       "    </tr>\n",
       "    <tr>\n",
       "      <th>50%</th>\n",
       "      <td>2.556446</td>\n",
       "      <td>0.121431</td>\n",
       "    </tr>\n",
       "    <tr>\n",
       "      <th>75%</th>\n",
       "      <td>5.813679</td>\n",
       "      <td>0.286498</td>\n",
       "    </tr>\n",
       "    <tr>\n",
       "      <th>max</th>\n",
       "      <td>11.716932</td>\n",
       "      <td>0.561634</td>\n",
       "    </tr>\n",
       "  </tbody>\n",
       "</table>\n",
       "</div>"
      ],
      "text/plain": [
       "           velocity           acc\n",
       "count  17997.000000  17997.000000\n",
       "mean       3.312994      0.163056\n",
       "std        3.295979      0.163998\n",
       "min        0.000000      0.000000\n",
       "25%        0.000000      0.000000\n",
       "50%        2.556446      0.121431\n",
       "75%        5.813679      0.286498\n",
       "max       11.716932      0.561634"
      ]
     },
     "execution_count": 35,
     "metadata": {},
     "output_type": "execute_result"
    }
   ],
   "source": [
    "df[df.outlier_norm== 1][feats].describe()"
   ]
  },
  {
   "cell_type": "code",
   "execution_count": 36,
   "metadata": {},
   "outputs": [
    {
     "data": {
      "text/plain": [
       "array([[<AxesSubplot:title={'center':'velocity'}>,\n",
       "        <AxesSubplot:title={'center':'acc'}>]], dtype=object)"
      ]
     },
     "execution_count": 36,
     "metadata": {},
     "output_type": "execute_result"
    },
    {
     "data": {
      "image/png": "[encoded data removed]",
      "text/plain": [
       "<Figure size 432x288 with 2 Axes>"
      ]
     },
     "metadata": {
      "needs_background": "light"
     },
     "output_type": "display_data"
    }
   ],
   "source": [
    "df[df.outlier == 1][feats].hist()"
   ]
  },
  {
   "cell_type": "markdown",
   "metadata": {},
   "source": [
    "Ambos os método retornam valores plausiveis de velocidade e aceleração"
   ]
  },
  {
   "cell_type": "markdown",
   "metadata": {},
   "source": [
    "Entretanto, velocidade e aceleração foram valores criados apartir das distâncias entre pontos. "
   ]
  },
  {
   "cell_type": "markdown",
   "metadata": {},
   "source": [
    "### Poderiamos aplicar a detecção de outliers nestas features geradoras ou o cálculo de velocidade e aceleração nos ajudou a discriminar melhor os outliers?"
   ]
  },
  {
   "cell_type": "markdown",
   "metadata": {},
   "source": [
    "### Isolation Forest a partir das colunas distância e tempo desde o ponto anterior"
   ]
  },
  {
   "cell_type": "code",
   "execution_count": 37,
   "metadata": {},
   "outputs": [],
   "source": [
    "feats_0 = ['dist_from_old_point','time_from_old_point']\n",
    "rng = np.random.RandomState(42)\n",
    "clf = IsolationForest(max_samples=100, random_state=rng)\n",
    "clf.fit(df[feats_0])\n",
    "scores = clf.predict(df[feats_0])\n",
    "df['outlier_0'] = scores"
   ]
  },
  {
   "cell_type": "code",
   "execution_count": 38,
   "metadata": {},
   "outputs": [
    {
     "data": {
      "text/html": [
       "<div>\n",
       "<style scoped>\n",
       "    .dataframe tbody tr th:only-of-type {\n",
       "        vertical-align: middle;\n",
       "    }\n",
       "\n",
       "    .dataframe tbody tr th {\n",
       "        vertical-align: top;\n",
       "    }\n",
       "\n",
       "    .dataframe thead th {\n",
       "        text-align: right;\n",
       "    }\n",
       "</style>\n",
       "<table border=\"1\" class=\"dataframe\">\n",
       "  <thead>\n",
       "    <tr style=\"text-align: right;\">\n",
       "      <th></th>\n",
       "      <th>dist_from_old_point</th>\n",
       "      <th>time_from_old_point</th>\n",
       "    </tr>\n",
       "  </thead>\n",
       "  <tbody>\n",
       "    <tr>\n",
       "      <th>count</th>\n",
       "      <td>17267.000000</td>\n",
       "      <td>17267.000000</td>\n",
       "    </tr>\n",
       "    <tr>\n",
       "      <th>mean</th>\n",
       "      <td>79.549379</td>\n",
       "      <td>19.845775</td>\n",
       "    </tr>\n",
       "    <tr>\n",
       "      <th>std</th>\n",
       "      <td>75.751188</td>\n",
       "      <td>1.655495</td>\n",
       "    </tr>\n",
       "    <tr>\n",
       "      <th>min</th>\n",
       "      <td>0.000000</td>\n",
       "      <td>13.000000</td>\n",
       "    </tr>\n",
       "    <tr>\n",
       "      <th>25%</th>\n",
       "      <td>1.780698</td>\n",
       "      <td>19.000000</td>\n",
       "    </tr>\n",
       "    <tr>\n",
       "      <th>50%</th>\n",
       "      <td>64.299352</td>\n",
       "      <td>20.000000</td>\n",
       "    </tr>\n",
       "    <tr>\n",
       "      <th>75%</th>\n",
       "      <td>135.860918</td>\n",
       "      <td>21.000000</td>\n",
       "    </tr>\n",
       "    <tr>\n",
       "      <th>max</th>\n",
       "      <td>277.835281</td>\n",
       "      <td>26.000000</td>\n",
       "    </tr>\n",
       "  </tbody>\n",
       "</table>\n",
       "</div>"
      ],
      "text/plain": [
       "       dist_from_old_point  time_from_old_point\n",
       "count         17267.000000         17267.000000\n",
       "mean             79.549379            19.845775\n",
       "std              75.751188             1.655495\n",
       "min               0.000000            13.000000\n",
       "25%               1.780698            19.000000\n",
       "50%              64.299352            20.000000\n",
       "75%             135.860918            21.000000\n",
       "max             277.835281            26.000000"
      ]
     },
     "execution_count": 38,
     "metadata": {},
     "output_type": "execute_result"
    }
   ],
   "source": [
    "df[df.outlier_0== 1][feats_0].describe()"
   ]
  },
  {
   "cell_type": "markdown",
   "metadata": {},
   "source": [
    "Como os valores não são plausíveis. Concluímos que a geração das novas features: velocidade e aceleração foram significativas para a detecção destes pontos anomalos."
   ]
  },
  {
   "cell_type": "markdown",
   "metadata": {},
   "source": [
    "### Verificar se o método Local Outlier Factor oferece também uma resposta plausível"
   ]
  },
  {
   "cell_type": "code",
   "execution_count": 39,
   "metadata": {},
   "outputs": [],
   "source": [
    "from sklearn.neighbors import LocalOutlierFactor"
   ]
  },
  {
   "cell_type": "code",
   "execution_count": 40,
   "metadata": {},
   "outputs": [],
   "source": [
    "clf = LocalOutlierFactor(n_neighbors=10, contamination=0.1)\n",
    "scores = clf.fit_predict(df[feats])\n",
    "df['outlier2'] = scores"
   ]
  },
  {
   "cell_type": "code",
   "execution_count": 41,
   "metadata": {},
   "outputs": [],
   "source": [
    "scaler = MinMaxScaler()\n",
    "df_normalized = pd.DataFrame(scaler.fit_transform(df[['velocity','acc']]), columns = ['velocity','acc'])\n",
    "rng = np.random.RandomState(42)\n",
    "clf = LocalOutlierFactor(n_neighbors=10, contamination=0.1)\n",
    "scores = clf.fit_predict(df_normalized)\n",
    "df['outlier2_norm'] = scores"
   ]
  },
  {
   "cell_type": "code",
   "execution_count": 42,
   "metadata": {},
   "outputs": [
    {
     "data": {
      "text/html": [
       "<div>\n",
       "<style scoped>\n",
       "    .dataframe tbody tr th:only-of-type {\n",
       "        vertical-align: middle;\n",
       "    }\n",
       "\n",
       "    .dataframe tbody tr th {\n",
       "        vertical-align: top;\n",
       "    }\n",
       "\n",
       "    .dataframe thead th {\n",
       "        text-align: right;\n",
       "    }\n",
       "</style>\n",
       "<table border=\"1\" class=\"dataframe\">\n",
       "  <thead>\n",
       "    <tr style=\"text-align: right;\">\n",
       "      <th></th>\n",
       "      <th>velocity</th>\n",
       "      <th>acc</th>\n",
       "    </tr>\n",
       "  </thead>\n",
       "  <tbody>\n",
       "    <tr>\n",
       "      <th>count</th>\n",
       "      <td>18668.000000</td>\n",
       "      <td>18668.000000</td>\n",
       "    </tr>\n",
       "    <tr>\n",
       "      <th>mean</th>\n",
       "      <td>4.783718</td>\n",
       "      <td>0.328506</td>\n",
       "    </tr>\n",
       "    <tr>\n",
       "      <th>std</th>\n",
       "      <td>6.806736</td>\n",
       "      <td>2.001330</td>\n",
       "    </tr>\n",
       "    <tr>\n",
       "      <th>min</th>\n",
       "      <td>0.000000</td>\n",
       "      <td>0.000000</td>\n",
       "    </tr>\n",
       "    <tr>\n",
       "      <th>25%</th>\n",
       "      <td>0.051447</td>\n",
       "      <td>0.002417</td>\n",
       "    </tr>\n",
       "    <tr>\n",
       "      <th>50%</th>\n",
       "      <td>3.358981</td>\n",
       "      <td>0.158993</td>\n",
       "    </tr>\n",
       "    <tr>\n",
       "      <th>75%</th>\n",
       "      <td>7.473315</td>\n",
       "      <td>0.370054</td>\n",
       "    </tr>\n",
       "    <tr>\n",
       "      <th>max</th>\n",
       "      <td>148.141309</td>\n",
       "      <td>71.997924</td>\n",
       "    </tr>\n",
       "  </tbody>\n",
       "</table>\n",
       "</div>"
      ],
      "text/plain": [
       "           velocity           acc\n",
       "count  18668.000000  18668.000000\n",
       "mean       4.783718      0.328506\n",
       "std        6.806736      2.001330\n",
       "min        0.000000      0.000000\n",
       "25%        0.051447      0.002417\n",
       "50%        3.358981      0.158993\n",
       "75%        7.473315      0.370054\n",
       "max      148.141309     71.997924"
      ]
     },
     "execution_count": 42,
     "metadata": {},
     "output_type": "execute_result"
    }
   ],
   "source": [
    "df[df.outlier2 == 1][feats].describe()"
   ]
  },
  {
   "cell_type": "code",
   "execution_count": 43,
   "metadata": {},
   "outputs": [
    {
     "data": {
      "text/html": [
       "<div>\n",
       "<style scoped>\n",
       "    .dataframe tbody tr th:only-of-type {\n",
       "        vertical-align: middle;\n",
       "    }\n",
       "\n",
       "    .dataframe tbody tr th {\n",
       "        vertical-align: top;\n",
       "    }\n",
       "\n",
       "    .dataframe thead th {\n",
       "        text-align: right;\n",
       "    }\n",
       "</style>\n",
       "<table border=\"1\" class=\"dataframe\">\n",
       "  <thead>\n",
       "    <tr style=\"text-align: right;\">\n",
       "      <th></th>\n",
       "      <th>velocity</th>\n",
       "      <th>acc</th>\n",
       "    </tr>\n",
       "  </thead>\n",
       "  <tbody>\n",
       "    <tr>\n",
       "      <th>count</th>\n",
       "      <td>18668.000000</td>\n",
       "      <td>18668.000000</td>\n",
       "    </tr>\n",
       "    <tr>\n",
       "      <th>mean</th>\n",
       "      <td>4.794632</td>\n",
       "      <td>0.330971</td>\n",
       "    </tr>\n",
       "    <tr>\n",
       "      <th>std</th>\n",
       "      <td>6.548436</td>\n",
       "      <td>1.943421</td>\n",
       "    </tr>\n",
       "    <tr>\n",
       "      <th>min</th>\n",
       "      <td>0.000000</td>\n",
       "      <td>0.000000</td>\n",
       "    </tr>\n",
       "    <tr>\n",
       "      <th>25%</th>\n",
       "      <td>0.051364</td>\n",
       "      <td>0.002416</td>\n",
       "    </tr>\n",
       "    <tr>\n",
       "      <th>50%</th>\n",
       "      <td>3.467009</td>\n",
       "      <td>0.164356</td>\n",
       "    </tr>\n",
       "    <tr>\n",
       "      <th>75%</th>\n",
       "      <td>7.550885</td>\n",
       "      <td>0.372216</td>\n",
       "    </tr>\n",
       "    <tr>\n",
       "      <th>max</th>\n",
       "      <td>148.141309</td>\n",
       "      <td>68.557827</td>\n",
       "    </tr>\n",
       "  </tbody>\n",
       "</table>\n",
       "</div>"
      ],
      "text/plain": [
       "           velocity           acc\n",
       "count  18668.000000  18668.000000\n",
       "mean       4.794632      0.330971\n",
       "std        6.548436      1.943421\n",
       "min        0.000000      0.000000\n",
       "25%        0.051364      0.002416\n",
       "50%        3.467009      0.164356\n",
       "75%        7.550885      0.372216\n",
       "max      148.141309     68.557827"
      ]
     },
     "execution_count": 43,
     "metadata": {},
     "output_type": "execute_result"
    }
   ],
   "source": [
    "df[df.outlier2_norm == 1][feats].describe()"
   ]
  },
  {
   "cell_type": "markdown",
   "metadata": {},
   "source": [
    "Os valores de máximos ainda apresentam pontos que não se adequam à realidade."
   ]
  },
  {
   "cell_type": "markdown",
   "metadata": {},
   "source": [
    "Assim iremos excluir quem foi detectado como outlier pelo Random Forest (escolhemos o resultado sem a normalização devido aos valores semelhantes com a realização da normalização)."
   ]
  },
  {
   "cell_type": "code",
   "execution_count": 44,
   "metadata": {},
   "outputs": [],
   "source": [
    "df1 = df[df.outlier==1]"
   ]
  },
  {
   "cell_type": "code",
   "execution_count": 45,
   "metadata": {},
   "outputs": [
    {
     "name": "stderr",
     "output_type": "stream",
     "text": [
      "/home/saci/hd/projetos/trajetorias/its_research/venvTraj/lib/python3.8/site-packages/pandas/core/frame.py:4162: SettingWithCopyWarning: \n",
      "A value is trying to be set on a copy of a slice from a DataFrame\n",
      "\n",
      "See the caveats in the documentation: https://pandas.pydata.org/pandas-docs/stable/user_guide/indexing.html#returning-a-view-versus-a-copy\n",
      "  return super().drop(\n"
     ]
    }
   ],
   "source": [
    "df1.drop(['outlier', 'outlier_0', 'outlier2','outlier_norm','outlier2_norm','day','stop_id','block_id', 'delay'],axis=1,inplace=True)"
   ]
  },
  {
   "cell_type": "code",
   "execution_count": 46,
   "metadata": {},
   "outputs": [
    {
     "data": {
      "text/html": [
       "<div>\n",
       "<style scoped>\n",
       "    .dataframe tbody tr th:only-of-type {\n",
       "        vertical-align: middle;\n",
       "    }\n",
       "\n",
       "    .dataframe tbody tr th {\n",
       "        vertical-align: top;\n",
       "    }\n",
       "\n",
       "    .dataframe thead th {\n",
       "        text-align: right;\n",
       "    }\n",
       "</style>\n",
       "<table border=\"1\" class=\"dataframe\">\n",
       "  <thead>\n",
       "    <tr style=\"text-align: right;\">\n",
       "      <th></th>\n",
       "      <th>timestamp</th>\n",
       "      <th>lng</th>\n",
       "      <th>lat</th>\n",
       "      <th>hour</th>\n",
       "      <th>dist_from_old_point</th>\n",
       "      <th>time_from_old_point</th>\n",
       "      <th>velocity</th>\n",
       "      <th>acc</th>\n",
       "      <th>ID</th>\n",
       "    </tr>\n",
       "  </thead>\n",
       "  <tbody>\n",
       "    <tr>\n",
       "      <th>count</th>\n",
       "      <td>1.801100e+04</td>\n",
       "      <td>18011.000000</td>\n",
       "      <td>18011.000000</td>\n",
       "      <td>18011.000000</td>\n",
       "      <td>18011.000000</td>\n",
       "      <td>18011.000000</td>\n",
       "      <td>18011.000000</td>\n",
       "      <td>18011.000000</td>\n",
       "      <td>18011.000000</td>\n",
       "    </tr>\n",
       "    <tr>\n",
       "      <th>mean</th>\n",
       "      <td>1.357870e+15</td>\n",
       "      <td>-6.284424</td>\n",
       "      <td>53.349270</td>\n",
       "      <td>13.568042</td>\n",
       "      <td>69.023026</td>\n",
       "      <td>20.222753</td>\n",
       "      <td>3.316405</td>\n",
       "      <td>0.163314</td>\n",
       "      <td>48.907057</td>\n",
       "    </tr>\n",
       "    <tr>\n",
       "      <th>std</th>\n",
       "      <td>4.630520e+10</td>\n",
       "      <td>0.072116</td>\n",
       "      <td>0.043101</td>\n",
       "      <td>4.736074</td>\n",
       "      <td>70.251069</td>\n",
       "      <td>6.170321</td>\n",
       "      <td>3.296597</td>\n",
       "      <td>0.164184</td>\n",
       "      <td>28.528907</td>\n",
       "    </tr>\n",
       "    <tr>\n",
       "      <th>min</th>\n",
       "      <td>1.357800e+15</td>\n",
       "      <td>-6.590845</td>\n",
       "      <td>53.169449</td>\n",
       "      <td>0.000000</td>\n",
       "      <td>0.000000</td>\n",
       "      <td>0.000000</td>\n",
       "      <td>0.000000</td>\n",
       "      <td>0.000000</td>\n",
       "      <td>0.000000</td>\n",
       "    </tr>\n",
       "    <tr>\n",
       "      <th>25%</th>\n",
       "      <td>1.357827e+15</td>\n",
       "      <td>-6.311549</td>\n",
       "      <td>53.323498</td>\n",
       "      <td>9.000000</td>\n",
       "      <td>0.000000</td>\n",
       "      <td>19.000000</td>\n",
       "      <td>0.000000</td>\n",
       "      <td>0.000000</td>\n",
       "      <td>25.000000</td>\n",
       "    </tr>\n",
       "    <tr>\n",
       "      <th>50%</th>\n",
       "      <td>1.357863e+15</td>\n",
       "      <td>-6.266110</td>\n",
       "      <td>53.346039</td>\n",
       "      <td>14.000000</td>\n",
       "      <td>52.023639</td>\n",
       "      <td>20.000000</td>\n",
       "      <td>2.558630</td>\n",
       "      <td>0.121768</td>\n",
       "      <td>48.000000</td>\n",
       "    </tr>\n",
       "    <tr>\n",
       "      <th>75%</th>\n",
       "      <td>1.357915e+15</td>\n",
       "      <td>-6.246867</td>\n",
       "      <td>53.381950</td>\n",
       "      <td>17.000000</td>\n",
       "      <td>119.407359</td>\n",
       "      <td>21.000000</td>\n",
       "      <td>5.819261</td>\n",
       "      <td>0.286866</td>\n",
       "      <td>73.000000</td>\n",
       "    </tr>\n",
       "    <tr>\n",
       "      <th>max</th>\n",
       "      <td>1.357949e+15</td>\n",
       "      <td>-6.103890</td>\n",
       "      <td>53.470100</td>\n",
       "      <td>23.000000</td>\n",
       "      <td>389.066472</td>\n",
       "      <td>228.000000</td>\n",
       "      <td>11.716932</td>\n",
       "      <td>0.580487</td>\n",
       "      <td>99.000000</td>\n",
       "    </tr>\n",
       "  </tbody>\n",
       "</table>\n",
       "</div>"
      ],
      "text/plain": [
       "          timestamp           lng           lat          hour  \\\n",
       "count  1.801100e+04  18011.000000  18011.000000  18011.000000   \n",
       "mean   1.357870e+15     -6.284424     53.349270     13.568042   \n",
       "std    4.630520e+10      0.072116      0.043101      4.736074   \n",
       "min    1.357800e+15     -6.590845     53.169449      0.000000   \n",
       "25%    1.357827e+15     -6.311549     53.323498      9.000000   \n",
       "50%    1.357863e+15     -6.266110     53.346039     14.000000   \n",
       "75%    1.357915e+15     -6.246867     53.381950     17.000000   \n",
       "max    1.357949e+15     -6.103890     53.470100     23.000000   \n",
       "\n",
       "       dist_from_old_point  time_from_old_point      velocity           acc  \\\n",
       "count         18011.000000         18011.000000  18011.000000  18011.000000   \n",
       "mean             69.023026            20.222753      3.316405      0.163314   \n",
       "std              70.251069             6.170321      3.296597      0.164184   \n",
       "min               0.000000             0.000000      0.000000      0.000000   \n",
       "25%               0.000000            19.000000      0.000000      0.000000   \n",
       "50%              52.023639            20.000000      2.558630      0.121768   \n",
       "75%             119.407359            21.000000      5.819261      0.286866   \n",
       "max             389.066472           228.000000     11.716932      0.580487   \n",
       "\n",
       "                 ID  \n",
       "count  18011.000000  \n",
       "mean      48.907057  \n",
       "std       28.528907  \n",
       "min        0.000000  \n",
       "25%       25.000000  \n",
       "50%       48.000000  \n",
       "75%       73.000000  \n",
       "max       99.000000  "
      ]
     },
     "execution_count": 46,
     "metadata": {},
     "output_type": "execute_result"
    }
   ],
   "source": [
    "df1.describe()"
   ]
  },
  {
   "cell_type": "code",
   "execution_count": 47,
   "metadata": {},
   "outputs": [
    {
     "data": {
      "text/plain": [
       "<AxesSubplot:>"
      ]
     },
     "execution_count": 47,
     "metadata": {},
     "output_type": "execute_result"
    },
    {
     "data": {
      "image/png": "[encoded data removed]",
      "text/plain": [
       "<Figure size 720x432 with 1 Axes>"
      ]
     },
     "metadata": {
      "needs_background": "light"
     },
     "output_type": "display_data"
    }
   ],
   "source": [
    "df1['acc'].plot(kind='box', figsize=(10,6))"
   ]
  },
  {
   "cell_type": "code",
   "execution_count": 48,
   "metadata": {},
   "outputs": [
    {
     "data": {
      "text/plain": [
       "<AxesSubplot:>"
      ]
     },
     "execution_count": 48,
     "metadata": {},
     "output_type": "execute_result"
    },
    {
     "data": {
      "image/png": "[encoded data removed]",
      "text/plain": [
       "<Figure size 720x432 with 1 Axes>"
      ]
     },
     "metadata": {
      "needs_background": "light"
     },
     "output_type": "display_data"
    }
   ],
   "source": [
    "df1['velocity'].plot(kind='box', figsize=(10,6))"
   ]
  },
  {
   "cell_type": "code",
   "execution_count": 49,
   "metadata": {},
   "outputs": [
    {
     "data": {
      "text/plain": [
       "<AxesSubplot:>"
      ]
     },
     "execution_count": 49,
     "metadata": {},
     "output_type": "execute_result"
    },
    {
     "data": {
      "image/png": "[encoded data removed]",
      "text/plain": [
       "<Figure size 432x288 with 1 Axes>"
      ]
     },
     "metadata": {
      "needs_background": "light"
     },
     "output_type": "display_data"
    }
   ],
   "source": [
    "df1[feats].plot()"
   ]
  },
  {
   "cell_type": "markdown",
   "metadata": {},
   "source": [
    "## Teste de hipótese"
   ]
  },
  {
   "cell_type": "markdown",
   "metadata": {},
   "source": [
    "### Verificação da distribuição da velocidade"
   ]
  },
  {
   "cell_type": "code",
   "execution_count": 50,
   "metadata": {},
   "outputs": [],
   "source": [
    "import seaborn as sns                                              "
   ]
  },
  {
   "cell_type": "code",
   "execution_count": 51,
   "metadata": {},
   "outputs": [
    {
     "data": {
      "text/plain": [
       "<AxesSubplot:xlabel='velocity', ylabel='Count'>"
      ]
     },
     "execution_count": 51,
     "metadata": {},
     "output_type": "execute_result"
    },
    {
     "data": {
      "image/png": "[encoded data removed]",
      "text/plain": [
       "<Figure size 432x288 with 1 Axes>"
      ]
     },
     "metadata": {
      "needs_background": "light"
     },
     "output_type": "display_data"
    }
   ],
   "source": [
    "sns.histplot(x=df1.velocity)"
   ]
  },
  {
   "cell_type": "code",
   "execution_count": 52,
   "metadata": {},
   "outputs": [],
   "source": [
    "from scipy import stats"
   ]
  },
  {
   "cell_type": "markdown",
   "metadata": {},
   "source": [
    "Anderson-Darling test for data coming from a particular distribution.\n",
    "\n",
    "The Anderson-Darling test tests the null hypothesis that a sample is\n",
    "drawn from a population that follows a particular distribution.\n",
    "For the Anderson-Darling test, the critical values depend on\n",
    "which distribution is being tested against.  This function works\n",
    "for normal, exponential, logistic, or Gumbel (Extreme Value\n",
    "Type I) distributions.\n",
    "\n",
    "If the returned statistic is larger than these critical values then\n",
    "for the corresponding significance level, the null hypothesis that\n",
    "the data come from the chosen distribution can be rejected."
   ]
  },
  {
   "cell_type": "code",
   "execution_count": 53,
   "metadata": {},
   "outputs": [],
   "source": [
    "result_test = stats.anderson(df1.velocity, dist='norm')"
   ]
  },
  {
   "cell_type": "code",
   "execution_count": 54,
   "metadata": {},
   "outputs": [
    {
     "name": "stdout",
     "output_type": "stream",
     "text": [
      "Statistic: 758.9004535088425\n",
      "Critical Value: [0.576 0.656 0.787 0.918 1.092]\n",
      "Significance Level: [15.  10.   5.   2.5  1. ]\n"
     ]
    }
   ],
   "source": [
    "print(f'Statistic: {result_test[0]}')\n",
    "\n",
    "print(f'Critical Value: {result_test[1]}')\n",
    "\n",
    "print(f'Significance Level: {result_test[2]}')\n"
   ]
  },
  {
   "cell_type": "code",
   "execution_count": 55,
   "metadata": {},
   "outputs": [
    {
     "name": "stdout",
     "output_type": "stream",
     "text": [
      "Como o valor 758.9004535088425 é maior que qualquer valor crítico [0.576 0.656 0.787 0.918 1.092], então o teste é significativo.\n",
      "Assim podemos rejeitar a hipótese nula que os pontos vem de uma distribuição normal\n"
     ]
    }
   ],
   "source": [
    "print( f'Como o valor {result_test[0]} é maior que qualquer valor crítico {result_test[1]}, então o teste é significativo.')\n",
    "print('Assim podemos rejeitar a hipótese nula que os pontos vem de uma distribuição normal')"
   ]
  },
  {
   "cell_type": "markdown",
   "metadata": {},
   "source": [
    "### Distribuição do log da velocidade (valores diferentes de zero)"
   ]
  },
  {
   "cell_type": "code",
   "execution_count": 56,
   "metadata": {},
   "outputs": [
    {
     "data": {
      "text/plain": [
       "<AxesSubplot:xlabel='velocity', ylabel='Count'>"
      ]
     },
     "execution_count": 56,
     "metadata": {},
     "output_type": "execute_result"
    },
    {
     "data": {
      "image/png": "[encoded data removed]",
      "text/plain": [
       "<Figure size 432x288 with 1 Axes>"
      ]
     },
     "metadata": {
      "needs_background": "light"
     },
     "output_type": "display_data"
    }
   ],
   "source": [
    "sns.histplot(x=df1[df1.velocity!=0].velocity.apply(np.log10))"
   ]
  },
  {
   "cell_type": "markdown",
   "metadata": {},
   "source": [
    "### Teste de normalidade "
   ]
  },
  {
   "cell_type": "code",
   "execution_count": 57,
   "metadata": {},
   "outputs": [],
   "source": [
    "result_test = stats.anderson(df1[df1.velocity!=0].velocity.apply(np.log10), dist='norm')\n"
   ]
  },
  {
   "cell_type": "code",
   "execution_count": 58,
   "metadata": {},
   "outputs": [
    {
     "name": "stdout",
     "output_type": "stream",
     "text": [
      "Statistic: 814.828042133704\n",
      "Critical Value: [0.576 0.656 0.787 0.918 1.092]\n",
      "Significance Level: [15.  10.   5.   2.5  1. ]\n"
     ]
    }
   ],
   "source": [
    "print(f'Statistic: {result_test[0]}')\n",
    "\n",
    "print(f'Critical Value: {result_test[1]}')\n",
    "\n",
    "print(f'Significance Level: {result_test[2]}')"
   ]
  },
  {
   "cell_type": "markdown",
   "metadata": {},
   "source": [
    "Assim não iremos admitir que haja uma distribuição simétrica na velocidade."
   ]
  },
  {
   "cell_type": "markdown",
   "metadata": {},
   "source": [
    "### Para quais horários há uma diferença entre a velocidade capturada antes e após?"
   ]
  },
  {
   "cell_type": "code",
   "execution_count": 59,
   "metadata": {},
   "outputs": [
    {
     "data": {
      "text/plain": [
       "<AxesSubplot:>"
      ]
     },
     "execution_count": 59,
     "metadata": {},
     "output_type": "execute_result"
    },
    {
     "data": {
      "image/png": "[encoded data removed]",
      "text/plain": [
       "<Figure size 432x288 with 1 Axes>"
      ]
     },
     "metadata": {
      "needs_background": "light"
     },
     "output_type": "display_data"
    }
   ],
   "source": [
    "df1.velocity.plot(kind='box' )"
   ]
  },
  {
   "cell_type": "markdown",
   "metadata": {},
   "source": [
    "### Mann-Whitney rank test"
   ]
  },
  {
   "cell_type": "markdown",
   "metadata": {},
   "source": [
    "A escolha do teste se dá por ausência de normalidade na distribuição e independência entre as trajetórias"
   ]
  },
  {
   "cell_type": "markdown",
   "metadata": {},
   "source": [
    "Há um caso limite em que uma mesma trajetória ocorre através de horas diferentes, o que não seria uma medição independente. Porém para cada hora o número de medições em viagens independentes (que acontecem totalmente antes/depois) é muito maior do que as medições em viagens que cruzaram aquele horário."
   ]
  },
  {
   "cell_type": "code",
   "execution_count": 60,
   "metadata": {},
   "outputs": [
    {
     "name": "stderr",
     "output_type": "stream",
     "text": [
      "/home/saci/hd/projetos/trajetorias/its_research/venvTraj/lib/python3.8/site-packages/scipy/stats/stats.py:7028: RuntimeWarning: divide by zero encountered in double_scalars\n",
      "  z = (bigu - meanrank) / sd\n"
     ]
    }
   ],
   "source": [
    "hours = df1.hour.unique()\n",
    "lh_vel = [stats.mannwhitneyu(df1[df1.hour <= h].velocity, df1[df1.hour > h].velocity)[1] for h in hours]"
   ]
  },
  {
   "cell_type": "code",
   "execution_count": 61,
   "metadata": {},
   "outputs": [
    {
     "data": {
      "text/plain": [
       "<AxesSubplot:>"
      ]
     },
     "execution_count": 61,
     "metadata": {},
     "output_type": "execute_result"
    },
    {
     "data": {
      "image/png": "[encoded data removed]",
      "text/plain": [
       "<Figure size 432x288 with 1 Axes>"
      ]
     },
     "metadata": {
      "needs_background": "light"
     },
     "output_type": "display_data"
    }
   ],
   "source": [
    "x = pd.DataFrame(data={'pvalues_vel':lh_vel}, index=hours).sort_index()\n",
    "x.plot(kind='bar')"
   ]
  },
  {
   "cell_type": "code",
   "execution_count": 62,
   "metadata": {},
   "outputs": [
    {
     "name": "stdout",
     "output_type": "stream",
     "text": [
      "Para cada uma das seguintes horas: [ 0  6  7  8  9 10 11 12 13 14 15 16 17 18 19 20 21 22 23]\n",
      "Podemos dizer que há uma diferença entre as velocidades amostradas antes e após a mesma.\n",
      "\n",
      "Por exemplo:\n",
      "Como o pvalue para as 12 horas é:\t [0.00630116]:\n",
      "Podemos negar H0; Negamos que a distribuiçãos das velocidades sejam iguais.\n",
      "Podemos dizr que há uma difença entre as velocidades antes e após as 12 horas\n"
     ]
    }
   ],
   "source": [
    "print( f'Para cada uma das seguintes horas: {x.index.values}')\n",
    "print('Podemos dizer que há uma diferença entre as velocidades amostradas antes e após a mesma.')\n",
    "print()\n",
    "print('Por exemplo:')\n",
    "print( f'Como o pvalue para as {x.index.values[7]} horas é:\\t {x.iloc[7].values}:')\n",
    "print( 'Podemos negar H0; Negamos que a distribuiçãos das velocidades sejam iguais.')\n",
    "print( f'Podemos dizr que há uma difença entre as velocidades antes e após as {x.index.values[7]} horas')"
   ]
  },
  {
   "cell_type": "markdown",
   "metadata": {},
   "source": [
    "### Quais linhas tem uma mediana da velocidade maior/menor que a mediana geral\n"
   ]
  },
  {
   "cell_type": "markdown",
   "metadata": {},
   "source": [
    "#### Wilcoxon signed-rank test (one-side)"
   ]
  },
  {
   "cell_type": "markdown",
   "metadata": {},
   "source": [
    "The Wilcoxon signed-rank test tests the null hypothesis that two\n",
    "related paired samples come from the same distribution. In particular,\n",
    "it tests whether the distribution of the differences x - y is symmetric\n",
    "about zero. It is a non-parametric version of the paired T-test.\n"
   ]
  },
  {
   "cell_type": "markdown",
   "metadata": {},
   "source": [
    "The one-sided test has the null hypothesis that the median is \n",
    "positive against the alternative that it is negative \n",
    "(``alternative == 'less'``), or vice versa (``alternative == 'greater.'``)."
   ]
  },
  {
   "cell_type": "markdown",
   "metadata": {},
   "source": [
    "alternative : {\"two-sided\", \"greater\", \"less\"}, optional\n",
    "    The alternative hypothesis to be tested, see Notes. Default is\n",
    "    \"two-sided\"."
   ]
  },
  {
   "cell_type": "code",
   "execution_count": 63,
   "metadata": {},
   "outputs": [],
   "source": [
    "lines = df1.line_id.unique()\n",
    "gt_vel = [stats.wilcoxon(df1[df1.line_id == t].velocity - df1.velocity.median(), alternative='greater')[1]\n",
    "          for t in  lines]\n",
    "lt_vel = [stats.wilcoxon(df1[df1.line_id == t].velocity - df1.velocity.median(), alternative='less')[1]\n",
    "          for t in  lines]"
   ]
  },
  {
   "cell_type": "code",
   "execution_count": 64,
   "metadata": {},
   "outputs": [],
   "source": [
    "dfg = pd.DataFrame(data={'pvalues_vel':gt_vel}, index=lines)\n",
    "dfl = pd.DataFrame(data={'pvalues_vel':lt_vel}, index=lines)\n",
    "#diff_median = dfp[(dfp.pvalues_vel < 0.05)].index\n"
   ]
  },
  {
   "cell_type": "code",
   "execution_count": 65,
   "metadata": {},
   "outputs": [
    {
     "data": {
      "text/plain": [
       "<AxesSubplot:>"
      ]
     },
     "execution_count": 65,
     "metadata": {},
     "output_type": "execute_result"
    },
    {
     "data": {
      "image/png": "[encoded data removed]",
      "text/plain": [
       "<Figure size 2160x720 with 1 Axes>"
      ]
     },
     "metadata": {
      "needs_background": "light"
     },
     "output_type": "display_data"
    }
   ],
   "source": [
    "dfg[(dfg.pvalues_vel < 0.05)].plot(kind='bar', figsize=(30,10))"
   ]
  },
  {
   "cell_type": "code",
   "execution_count": 66,
   "metadata": {},
   "outputs": [
    {
     "data": {
      "text/plain": [
       "<AxesSubplot:>"
      ]
     },
     "execution_count": 66,
     "metadata": {},
     "output_type": "execute_result"
    },
    {
     "data": {
      "image/png": "[encoded data removed]",
      "text/plain": [
       "<Figure size 2160x720 with 1 Axes>"
      ]
     },
     "metadata": {
      "needs_background": "light"
     },
     "output_type": "display_data"
    }
   ],
   "source": [
    "dfl[(dfl.pvalues_vel < 0.05)].plot(kind='bar', figsize=(30,10))"
   ]
  },
  {
   "cell_type": "code",
   "execution_count": 67,
   "metadata": {},
   "outputs": [
    {
     "name": "stdout",
     "output_type": "stream",
     "text": [
      "Rejeitamos a hipótese de que estas 39 linhas: \n",
      "\n",
      "['39.0' '25.0' '15.0' '38.0' '27.0' '120.0' '65.0' '17.0' '83.0' '220.0'\n",
      " '75.0' '145.0' '67.0' '18.0' '122.0' '49.0' '123.0' '238.0' '272.0'\n",
      " '68.0' '76.0' '42.0' '14.0' '40.0' '150.0' '171.0' '79.0' '46.0' '41.0'\n",
      " '140.0' '151.0' '9.0' '54.0' '130.0' '1.0' '111.0' '102.0' '44.0' '29.0']\n",
      "\n",
      "(H0) possuem a mediana de suas velocidades menores que a mediana de toda a amostra\n",
      "\n",
      "Aceitamos a hipótese alternativa que estas linhas tem uma mediana superior à mediana da amostra\n"
     ]
    }
   ],
   "source": [
    "print( f'Rejeitamos a hipótese de que estas {len(dfg[(dfg.pvalues_vel < 0.05)])} linhas: \\n\\n{dfg[(dfg.pvalues_vel < 0.05)].index.values}')\n",
    "print()\n",
    "print('(H0) possuem a mediana de suas velocidades menores que a mediana de toda a amostra')\n",
    "print()\n",
    "print('Aceitamos a hipótese alternativa que estas linhas tem uma mediana superior à mediana da amostra')"
   ]
  },
  {
   "cell_type": "code",
   "execution_count": 68,
   "metadata": {},
   "outputs": [
    {
     "name": "stdout",
     "output_type": "stream",
     "text": [
      "Rejeitamos a hipótese de que estas 4 linhas: \n",
      "\n",
      "['66.0' '16.0' '747.0' '84.0']\n",
      "\n",
      "(H0) possuem a mediana de suas velocidades maiores que a mediana de toda a amostra\n",
      "\n",
      "Aceitamos a hipótese alternativa que estas linhas tem uma mediana inferior à mediana da amostra\n"
     ]
    }
   ],
   "source": [
    "print( f'Rejeitamos a hipótese de que estas {len(dfl[(dfl.pvalues_vel < 0.05)])} linhas: \\n\\n{dfl[(dfl.pvalues_vel < 0.05)].index.values}')\n",
    "print()\n",
    "print('(H0) possuem a mediana de suas velocidades maiores que a mediana de toda a amostra')\n",
    "print()\n",
    "print('Aceitamos a hipótese alternativa que estas linhas tem uma mediana inferior à mediana da amostra')"
   ]
  },
  {
   "cell_type": "markdown",
   "metadata": {},
   "source": [
    "## Testar detecção de outliers MEAN FILTER"
   ]
  },
  {
   "cell_type": "code",
   "execution_count": 69,
   "metadata": {},
   "outputs": [],
   "source": [
    "df['MF_lat'] = df['lat'].rolling(5, min_periods=1).mean()\n",
    "df['MF_lng'] = df['lng'].rolling(5, min_periods=1).mean()"
   ]
  },
  {
   "cell_type": "code",
   "execution_count": 70,
   "metadata": {},
   "outputs": [],
   "source": [
    "gps = ['MF_lat','MF_lng']\n",
    "\n",
    "def delta_time(t1, t2) -> float:\n",
    "    '''\n",
    "    Retorna diferença temporal em segundos\n",
    "    Ou np.nan se a diferença temporal para o ponto anterior\n",
    "    for superior a 5 minutos\n",
    "    '''\n",
    "    t1 = pd.to_datetime(t1,unit='us')\n",
    "    t2 = pd.to_datetime(t2,unit='us')\n",
    "    time = pd.Timedelta(np.abs(t2 - t1))\n",
    "    if (time.seconds > 5*60):\n",
    "        return np.nan\n",
    "    else:        \n",
    "        return time.seconds\n",
    "\n",
    "def calc_deltas(frame):\n",
    "    '''\n",
    "    Retorna o DF com as colunas de delta[tempo, distancia] preenchidas\n",
    "    Depende do valor da linha anterior (temporalmente)\n",
    "    Nas funções MAP são enviados os valores da linha presente e da anterior (shift(1))\n",
    "    '''\n",
    "    frame.dist_from_old_point = 0\n",
    "    frame.time_from_old_point = 0\n",
    "    delta_d = list(map(\n",
    "        lambda x, y: geodesic(x,y).meters, frame[gps].values[1:], frame[gps].shift(1).values[1:]))\n",
    "    delta_t = list(map(\n",
    "        lambda x, y: delta_time(x,y), frame['timestamp'].values[1:], frame['timestamp'].shift(1).values[1:]))\n",
    "    if (len(frame[frame.isna()]) == 0):\n",
    "        print('Não há quaisquer valores NaN')\n",
    "    frame['MF_dist_from_old_point'] = [0, *delta_d]\n",
    "    frame['time_from_old_point'] = [0, *delta_t]\n",
    "    return frame"
   ]
  },
  {
   "cell_type": "code",
   "execution_count": 71,
   "metadata": {},
   "outputs": [],
   "source": [
    "# Repartição\n",
    "dfs = [x for _,x in df.groupby(trajetoria) if (len(x) > 50)]\n",
    "# Chamas calc_deltas para cada trajetória\n",
    "dfs = list(map(calc_deltas,dfs))\n",
    "# concatena as trajetorias de volta em um DF unico\n",
    "df = pd.concat(dfs)"
   ]
  },
  {
   "cell_type": "code",
   "execution_count": 72,
   "metadata": {},
   "outputs": [],
   "source": [
    "df['MF_vel'] = df['MF_dist_from_old_point'] / df['time_from_old_point']\n",
    "df['MF_acc'] = df['MF_dist_from_old_point'] / (df['time_from_old_point'] * df['time_from_old_point'])\n",
    "\n",
    "#df[df.MF_vel == np.inf].time_from_old_point.unique()\n",
    "df['MF_vel'].fillna(value=0, inplace=True)\n",
    "df['MF_acc'].fillna(value=0, inplace=True)"
   ]
  },
  {
   "cell_type": "code",
   "execution_count": 73,
   "metadata": {},
   "outputs": [
    {
     "data": {
      "text/plain": [
       "<AxesSubplot:>"
      ]
     },
     "execution_count": 73,
     "metadata": {},
     "output_type": "execute_result"
    },
    {
     "data": {
      "image/png": "[encoded data removed]",
      "text/plain": [
       "<Figure size 432x288 with 1 Axes>"
      ]
     },
     "metadata": {
      "needs_background": "light"
     },
     "output_type": "display_data"
    }
   ],
   "source": [
    "df[['velocity', 'MF_vel']].plot(kind='box')"
   ]
  },
  {
   "cell_type": "code",
   "execution_count": 74,
   "metadata": {},
   "outputs": [],
   "source": [
    "feats = ['velocity','acc']\n",
    "feats_MF = ['MF_vel', 'MF_acc']"
   ]
  },
  {
   "cell_type": "code",
   "execution_count": 75,
   "metadata": {},
   "outputs": [],
   "source": [
    "rng = np.random.RandomState(42)\n",
    "clf = IsolationForest(max_samples=100, random_state=rng)\n",
    "clf.fit(df[feats_MF])\n",
    "scores = clf.predict(df[feats_MF])\n",
    "df['outlier_MF'] = scores"
   ]
  },
  {
   "cell_type": "code",
   "execution_count": 76,
   "metadata": {},
   "outputs": [
    {
     "data": {
      "text/plain": [
       "<AxesSubplot:>"
      ]
     },
     "execution_count": 76,
     "metadata": {},
     "output_type": "execute_result"
    },
    {
     "data": {
      "image/png": "[encoded data removed]",
      "text/plain": [
       "<Figure size 432x288 with 1 Axes>"
      ]
     },
     "metadata": {
      "needs_background": "light"
     },
     "output_type": "display_data"
    }
   ],
   "source": [
    "df[df.outlier== 1][feats].plot(kind='box')"
   ]
  },
  {
   "cell_type": "code",
   "execution_count": 77,
   "metadata": {},
   "outputs": [
    {
     "data": {
      "text/plain": [
       "<AxesSubplot:>"
      ]
     },
     "execution_count": 77,
     "metadata": {},
     "output_type": "execute_result"
    },
    {
     "data": {
      "image/png": "[encoded data removed]",
      "text/plain": [
       "<Figure size 432x288 with 1 Axes>"
      ]
     },
     "metadata": {
      "needs_background": "light"
     },
     "output_type": "display_data"
    }
   ],
   "source": [
    "df[df.outlier_MF== 1][feats_MF].plot(kind='box')"
   ]
  },
  {
   "cell_type": "code",
   "execution_count": 78,
   "metadata": {},
   "outputs": [
    {
     "data": {
      "text/plain": [
       "count    20743.000000\n",
       "mean         6.788381\n",
       "std         23.351437\n",
       "min          0.000000\n",
       "25%          1.920764\n",
       "50%          4.048803\n",
       "75%          6.362434\n",
       "max        997.417286\n",
       "Name: MF_vel, dtype: float64"
      ]
     },
     "execution_count": 78,
     "metadata": {},
     "output_type": "execute_result"
    }
   ],
   "source": [
    "df.MF_vel.describe()"
   ]
  },
  {
   "cell_type": "code",
   "execution_count": 79,
   "metadata": {},
   "outputs": [
    {
     "data": {
      "text/plain": [
       "count    18783.000000\n",
       "mean         3.726818\n",
       "std          2.581917\n",
       "min          0.000000\n",
       "25%          1.645628\n",
       "50%          3.672387\n",
       "75%          5.600989\n",
       "max         10.241922\n",
       "Name: MF_vel, dtype: float64"
      ]
     },
     "execution_count": 79,
     "metadata": {},
     "output_type": "execute_result"
    }
   ],
   "source": [
    "df[df.outlier_MF== 1].MF_vel.describe()"
   ]
  },
  {
   "cell_type": "code",
   "execution_count": 80,
   "metadata": {},
   "outputs": [
    {
     "name": "stdout",
     "output_type": "stream",
     "text": [
      "O uso do Mean Filter sozinho não conseguiu retirar os pontos anômalos do dataset.\n",
      "Apenas após utilização do Mean Filter conjuntamente à detecção com auxílio da técnica Random Forest obtivemos um valor máximo de velocidade plausível.\n"
     ]
    }
   ],
   "source": [
    "print (f'O uso do Mean Filter sozinho não conseguiu retirar os pontos anômalos do dataset.')\n",
    "print (f'Apenas após utilização do Mean Filter conjuntamente à detecção com auxílio da técnica Random Forest obtivemos um valor máximo de velocidade plausível.')\n"
   ]
  },
  {
   "cell_type": "markdown",
   "metadata": {},
   "source": [
    "## Plotar algumas trajetórias"
   ]
  },
  {
   "cell_type": "markdown",
   "metadata": {},
   "source": [
    "### Funções auxíliares"
   ]
  },
  {
   "cell_type": "code",
   "execution_count": 81,
   "metadata": {
    "scrolled": false
   },
   "outputs": [],
   "source": [
    "def to_mercator(Coords):\n",
    "    Coordinates =  Coords\n",
    "    #literal_eval(Coords)        \n",
    "    lat = Coordinates[1]\n",
    "    lon = Coordinates[0]\n",
    "    \n",
    "    r_major = 6378137.000\n",
    "    x = r_major * math.radians(lon)\n",
    "    scale = x/lon\n",
    "    y = 180.0/math.pi * math.log(math.tan(math.pi/4.0 + \n",
    "        lat * (math.pi/180.0)/2.0)) * scale    \n",
    "    \n",
    "    return pd.Series((x, y))\n",
    "\n",
    "def plot_fig(df_x, color):\n",
    "    p = figure(x_axis_type=\"mercator\", y_axis_type=\"mercator\")\n",
    "    p.add_tile(get_provider(tile_provider))\n",
    "    #p.circle(\n",
    "    p.line(\n",
    "        x='lng_m',\n",
    "        y='lat_m',\n",
    "        color= color,\n",
    "        source=df_x\n",
    "    )\n",
    "    try:\n",
    "        p.circle(\n",
    "            x='lng_m',\n",
    "            y='lat_m',\n",
    "            color= 'red',\n",
    "            source=df_x[df_x.outlier == -1]\n",
    "        )\n",
    "    except:\n",
    "        pass\n",
    "    p.circle(\n",
    "        x=df_x.iloc[0]['lng_m'],\n",
    "        y=df_x.iloc[0]['lat_m'],\n",
    "        color= 'blue',    \n",
    "    )\n",
    "    return (p)\n",
    "\n",
    "def plot_map(data_line):\n",
    "    p = figure(x_axis_type=\"mercator\", y_axis_type=\"mercator\")\n",
    "    p.add_tile(get_provider(tile_provider))\n",
    "    data_line[['lng_m','lat_m']] = data_line[['lng', 'lat']].apply(to_mercator, axis=1)\n",
    "    p = plot_fig(data_line, 'black')\n",
    "    show(p)"
   ]
  },
  {
   "cell_type": "markdown",
   "metadata": {},
   "source": [
    "### A linha preta é a trajetória"
   ]
  },
  {
   "cell_type": "markdown",
   "metadata": {},
   "source": [
    "### O ponto azul é a partida"
   ]
  },
  {
   "cell_type": "markdown",
   "metadata": {},
   "source": [
    "### Os pontos vermelhos os outliers"
   ]
  },
  {
   "cell_type": "markdown",
   "metadata": {},
   "source": [
    "#### Pontos Excluídos por ter menos que 50 pontos"
   ]
  },
  {
   "cell_type": "code",
   "execution_count": 82,
   "metadata": {
    "scrolled": false
   },
   "outputs": [
    {
     "data": {
      "text/html": [
       "\n",
       "\n",
       "\n",
       "\n",
       "\n",
       "\n",
       "  <div class=\"bk-root\" id=\"fc85eae1-719b-4af1-8447-91ccfe04be21\" data-root-id=\"1044\"></div>\n"
      ]
     },
     "metadata": {},
     "output_type": "display_data"
    },
    {
     "data": {
      "application/javascript": [
       "(function(root) {\n",
       "  function embed_document(root) {\n",
       "    \n",
       "  var docs_json = {\"9978dcb5-641a-464d-805d-7e670cb924cc\":{\"roots\":{\"references\":[{\"attributes\":{\"below\":[{\"id\":\"1053\"}],\"center\":[{\"id\":\"1060\"},{\"id\":\"1068\"}],\"left\":[{\"id\":\"1061\"}],\"renderers\":[{\"id\":\"1084\"},{\"id\":\"1090\"},{\"id\":\"1095\"}],\"title\":{\"id\":\"1098\"},\"toolbar\":{\"id\":\"1076\"},\"x_range\":{\"id\":\"1045\"},\"x_scale\":{\"id\":\"1049\"},\"y_range\":{\"id\":\"1047\"},\"y_scale\":{\"id\":\"1051\"}},\"id\":\"1044\",\"subtype\":\"Figure\",\"type\":\"Plot\"},{\"attributes\":{\"axis\":{\"id\":\"1061\"},\"dimension\":1,\"ticker\":null},\"id\":\"1068\",\"type\":\"Grid\"},{\"attributes\":{},\"id\":\"1045\",\"type\":\"DataRange1d\"},{\"attributes\":{\"tile_source\":{\"id\":\"1083\"}},\"id\":\"1084\",\"type\":\"TileRenderer\"},{\"attributes\":{},\"id\":\"1104\",\"type\":\"UnionRenderers\"},{\"attributes\":{},\"id\":\"1105\",\"type\":\"Selection\"},{\"attributes\":{\"source\":{\"id\":\"1086\"}},\"id\":\"1091\",\"type\":\"CDSView\"},{\"attributes\":{},\"id\":\"1106\",\"type\":\"UnionRenderers\"},{\"attributes\":{},\"id\":\"1107\",\"type\":\"Selection\"},{\"attributes\":{\"text\":\"\"},\"id\":\"1098\",\"type\":\"Title\"},{\"attributes\":{\"bottom_units\":\"screen\",\"fill_alpha\":0.5,\"fill_color\":\"lightgrey\",\"left_units\":\"screen\",\"level\":\"overlay\",\"line_alpha\":1.0,\"line_color\":\"black\",\"line_dash\":[4,4],\"line_width\":2,\"right_units\":\"screen\",\"top_units\":\"screen\"},\"id\":\"1075\",\"type\":\"BoxAnnotation\"},{\"attributes\":{\"data_source\":{\"id\":\"1086\"},\"glyph\":{\"id\":\"1088\"},\"hover_glyph\":null,\"muted_glyph\":null,\"nonselection_glyph\":{\"id\":\"1089\"},\"selection_glyph\":null,\"view\":{\"id\":\"1091\"}},\"id\":\"1090\",\"type\":\"GlyphRenderer\"},{\"attributes\":{\"overlay\":{\"id\":\"1075\"}},\"id\":\"1071\",\"type\":\"BoxZoomTool\"},{\"attributes\":{\"data\":{\"block_id\":[1001,1001,1001,1001,1001,1001,1001,1001,1001,1001,1001,1001,1001,1001,1001,1001,1001,1001,1001,1001,1001,1001,1001,1001,1001,1001,1001,1001,1001,1001,1001,1001,1001,1001,1001,1001,1001,1001,1001,1001,1001],\"congestion\":[false,false,false,false,false,false,false,false,false,false,false,false,false,false,false,false,false,false,false,false,false,false,false,false,false,false,false,false,false,false,false,false,false,false,false,false,false,false,false,false,false],\"datetime\":{\"__ndarray__\":\"AADB20HCc0IAgGTgQcJzQgCAz+NBwnNCAIBG5UHCc0IAAOrpQcJzQgAASe9BwnNCAIB18kHCc0IAgOzzQcJzQgCAzvhBwnNCAADp/kHCc0IAAN0AQsJzQgAAVAJCwnNCAIB0B0LCc0IAgFYMQsJzQgCAPhBCwnNCAAD0EULCc0IAgJcWQsJzQgCAeRtCwnNCAIBnHkLCc0IAgGEfQsJzQgAAgiRCwnNCAICiKULCc0IAgIotQsJzQgCABy5CwnNCAAClM0LCc0IAgEg4QsJzQgCAsztCwnNCAIAkPkLCc0IAgAxCQsJzQgAALUdCwnNCAAAVS0LCc0IAAJJLQsJzQgCAslBCwnNCAIARVkLCc0IAALtZQsJzQgAAOFpCwnNCAAAaX0LCc0IAgDpkQsJzQgCAHGlCwnNCAAC6bkLCc0IAAKJyQsJzQg==\",\"dtype\":\"float64\",\"order\":\"little\",\"shape\":[41]},\"day\":[10,10,10,10,10,10,10,10,10,10,10,10,10,10,10,10,10,10,10,10,10,10,10,10,10,10,10,10,10,10,10,10,10,10,10,10,10,10,10,10,10],\"delay\":[0,0,0,0,0,0,0,0,0,0,0,0,0,0,0,0,0,0,0,0,0,0,0,0,0,0,0,0,0,0,0,0,0,0,0,0,0,0,0,0,0],\"hour\":[10,11,11,11,11,11,11,11,11,11,11,11,11,11,11,11,11,11,11,11,11,11,11,11,11,11,11,11,11,11,11,11,11,11,11,11,11,11,11,11,11],\"index\":[552756,553213,553622,553834,554264,554794,555201,555416,555854,556393,556713,556956,557485,557988,558315,558587,559072,559583,559899,560061,560638,561186,561599,561697,562248,562718,563096,563423,563827,564327,564860,564891,565400,565965,566431,566485,567011,567473,568109,568701,569131],\"journey_id\":[\"00010001\",\"00010001\",\"00010001\",\"00010001\",\"00010001\",\"00010001\",\"00010001\",\"00010001\",\"00010001\",\"00010001\",\"00010001\",\"00010001\",\"00010001\",\"00010001\",\"00010001\",\"00010001\",\"00010001\",\"00010001\",\"00010001\",\"00010001\",\"00010001\",\"00010001\",\"00010001\",\"00010001\",\"00010001\",\"00010001\",\"00010001\",\"00010001\",\"00010001\",\"00010001\",\"00010001\",\"00010001\",\"00010001\",\"00010001\",\"00010001\",\"00010001\",\"00010001\",\"00010001\",\"00010001\",\"00010001\",\"00010001\"],\"lat\":{\"__ndarray__\":\"Z3xfXKqoSkAJLev+sahKQAkt6/6xqEpAu1tZorOoSkAUP8bctahKQEIKnkKuqEpAQgqeQq6oSkAkvajdr6hKQLtbWaKzqEpArd12obmoSkCt3XahuahKQCMO2UC6qEpArd12obmoSkCt3XahuahKQK3ddqG5qEpA0H8PXruoSkALfhtivKhKQBQ/xty1qEpAFD/G3LWoSkC3niEcs6hKQBQ/xty1qEpA3v3xXrWoSkDe/fFetahKQLeeIRyzqEpAdktywK6oSkDFHAQdrahKQMUcBB2tqEpAxRwEHa2oSkCuKCUEq6hKQMUcBB2tqEpAxRwEHa2oSkDFHAQdrahKQBmrzf+rqEpAGavN/6uoSkAZq83/q6hKQMUcBB2tqEpAy9k7o62oSkBCCp5CrqhKQBmrzf+rqEpAkdsvn6yoSkDFHAQdrahKQA==\",\"dtype\":\"float64\",\"order\":\"little\",\"shape\":[41]},\"lat_m\":{\"__ndarray__\":\"Nz3NTe/cWkE0nJ0o+txaQTScnSj63FpBaP3tfPzcWkEP9Oqn/9xaQa67Bdn03FpBrrsF2fTcWkF4lWgh99xaQWj97Xz83FpBX91xAwXdWkFf3XEDBd1aQa2VC+YF3VpBYN1xAwXdWkFf3XEDBd1aQV/dcQMF3VpBMYSKewfdWkHFFULtCN1aQQ/06qf/3FpBD/Tqp//cWkHP7Ru++9xaQQ706qf/3FpBk/IF9f7cWkGT8gX1/txaQc/tG7773FpBgYHqi/XcWkG+qJo389xaQb6omjfz3FpBvaiaN/PcWkGsb1M88NxaQb2omjfz3FpBvaiaN/PcWkG9qJo389xaQRPJHKLx3FpBE8kcovHcWkETyRyi8dxaQb2omjfz3FpBvIJs9vPcWkGuuwXZ9NxaQRPJHKLx3FpBpfC1hPLcWkG+qJo389xaQQ==\",\"dtype\":\"float64\",\"order\":\"little\",\"shape\":[41]},\"line_id\":[1.0,1.0,1.0,1.0,1.0,1.0,1.0,1.0,1.0,1.0,1.0,1.0,1.0,1.0,1.0,1.0,1.0,1.0,1.0,1.0,1.0,1.0,1.0,1.0,1.0,1.0,1.0,1.0,1.0,1.0,1.0,1.0,1.0,1.0,1.0,1.0,1.0,1.0,1.0,1.0,1.0],\"lng\":{\"__ndarray__\":\"nEoGgCruGMCjWdk+5O0YwKNZ2T7k7RjAVCCzs+jtGMDFqkGY2+0YwIz2eCEd7hjAjPZ4IR3uGMBwC5bqAu4YwATnjCjt7RjAe9egL73tGMB716Avve0YwHvXoC+97RjACU0SS8rtGMB716Avve0YwHvXoC+97RjA7WEvFLDtGMD/XgoPmu0YwLoT7L/O7RjAuhPsv87tGMBUILOz6O0YwJjCg2bX7RjAdnEbDeDtGMB2cRsN4O0YwATnjCjt7RjA5/up8dLtGMAJTRJLyu0YwAlNEkvK7RjA0JhJ1AvuGMCM9nghHe4YwOyDLAsm7hjA7IMsCybuGMCo4VtYN+4YwAMJih9j7hjAAwmKH2PuGMADCYofY+4YwFioNc077hjAnEoGgCruGMCM9nghHe4YwHALluoC7hjABOeMKO3tGMAE54wo7e0YwA==\",\"dtype\":\"float64\",\"order\":\"little\",\"shape\":[41]},\"lng_m\":{\"__ndarray__\":\"rpWHJ2AsJcGM4bZ8JCwlwYzhtnwkLCXBYaSjRSgsJcEsOtwjHSwlwTJNwcxULCXBMk3BzFQsJcHJeDKJPiwlwTVnkA4sLCXBNoFfUAMsJcE2gV9QAywlwTaBX1ADLCXBa+smcg4sJcE2gV9QAywlwTaBX1ADLCXBAheYLvgrJcElJ/d65SslwUCuEzsSLCXBQK4TOxIsJcFhpKNFKCwlwaBV7pMZLCXBAP3I7CAsJcEA/cjsICwlwTVnkA4sLCXBy5IByxUsJcFr6yZyDiwlwWvrJnIOLCXBcf4LG0YsJcEyTcHMVCwlwdrSml5cLCXB2tKaXlwsJcGaIVAQaywlwQwjkz6QLCXBDCOTPpAsJcEMI5M+kCwlwW7kPNluLCXBrpWHJ2AsJcEyTcHMVCwlwcl4Mok+LCXBNWeQDiwsJcE1Z5AOLCwlwQ==\",\"dtype\":\"float64\",\"order\":\"little\",\"shape\":[41]},\"operator\":[\"D1\",\"D1\",\"D1\",\"D1\",\"D1\",\"D1\",\"D1\",\"D1\",\"D1\",\"D1\",\"D1\",\"D1\",\"D1\",\"D1\",\"D1\",\"D1\",\"D1\",\"D1\",\"D1\",\"D1\",\"D1\",\"D1\",\"D1\",\"D1\",\"D1\",\"D1\",\"D1\",\"D1\",\"D1\",\"D1\",\"D1\",\"D1\",\"D1\",\"D1\",\"D1\",\"D1\",\"D1\",\"D1\",\"D1\",\"D1\",\"D1\"],\"stop\":[false,false,false,false,false,false,false,false,false,false,false,false,false,false,false,false,false,false,false,false,false,false,false,false,false,false,false,false,false,false,false,false,false,false,false,false,false,false,false,false,false],\"stop_id\":[351.0,351.0,352.0,352.0,352.0,352.0,353.0,353.0,353.0,353.0,354.0,354.0,354.0,354.0,355.0,355.0,355.0,355.0,356.0,356.0,356.0,356.0,357.0,357.0,357.0,357.0,357.0,357.0,357.0,357.0,390.0,390.0,390.0,390.0,372.0,372.0,372.0,372.0,374.0,374.0,374.0],\"time_frame\":[\"2013-01-10\",\"2013-01-10\",\"2013-01-10\",\"2013-01-10\",\"2013-01-10\",\"2013-01-10\",\"2013-01-10\",\"2013-01-10\",\"2013-01-10\",\"2013-01-10\",\"2013-01-10\",\"2013-01-10\",\"2013-01-10\",\"2013-01-10\",\"2013-01-10\",\"2013-01-10\",\"2013-01-10\",\"2013-01-10\",\"2013-01-10\",\"2013-01-10\",\"2013-01-10\",\"2013-01-10\",\"2013-01-10\",\"2013-01-10\",\"2013-01-10\",\"2013-01-10\",\"2013-01-10\",\"2013-01-10\",\"2013-01-10\",\"2013-01-10\",\"2013-01-10\",\"2013-01-10\",\"2013-01-10\",\"2013-01-10\",\"2013-01-10\",\"2013-01-10\",\"2013-01-10\",\"2013-01-10\",\"2013-01-10\",\"2013-01-10\",\"2013-01-10\"],\"timestamp\":[1357815594000000,1357815613000000,1357815627000000,1357815633000000,1357815652000000,1357815674000000,1357815687000000,1357815693000000,1357815713000000,1357815738000000,1357815746000000,1357815752000000,1357815773000000,1357815793000000,1357815809000000,1357815816000000,1357815835000000,1357815855000000,1357815867000000,1357815871000000,1357815892000000,1357815913000000,1357815929000000,1357815931000000,1357815954000000,1357815973000000,1357815987000000,1357815997000000,1357816013000000,1357816034000000,1357816050000000,1357816052000000,1357816073000000,1357816095000000,1357816110000000,1357816112000000,1357816132000000,1357816153000000,1357816173000000,1357816196000000,1357816212000000],\"vehicle_id\":[43014,43014,43014,43014,43014,43014,43014,43014,43014,43014,43014,43014,43014,43014,43014,43014,43014,43014,43014,43014,43014,43014,43014,43014,43014,43014,43014,43014,43014,43014,43014,43014,43014,43014,43014,43014,43014,43014,43014,43014,43014],\"vehicle_journey_id\":[4608,4608,4608,4608,4608,4608,4608,4608,4608,4608,4608,4608,4608,4608,4608,4608,4608,4608,4608,4608,4608,4608,4608,4608,4608,4608,4608,4608,4608,4608,4608,4608,4608,4608,4608,4608,4608,4608,4608,4608,4608]},\"selected\":{\"id\":\"1105\"},\"selection_policy\":{\"id\":\"1104\"}},\"id\":\"1086\",\"type\":\"ColumnDataSource\"},{\"attributes\":{},\"id\":\"1072\",\"type\":\"SaveTool\"},{\"attributes\":{\"data_source\":{\"id\":\"1092\"},\"glyph\":{\"id\":\"1093\"},\"hover_glyph\":null,\"muted_glyph\":null,\"nonselection_glyph\":{\"id\":\"1094\"},\"selection_glyph\":null,\"view\":{\"id\":\"1096\"}},\"id\":\"1095\",\"type\":\"GlyphRenderer\"},{\"attributes\":{},\"id\":\"1070\",\"type\":\"WheelZoomTool\"},{\"attributes\":{\"fill_alpha\":{\"value\":0.1},\"fill_color\":{\"value\":\"blue\"},\"line_alpha\":{\"value\":0.1},\"line_color\":{\"value\":\"blue\"},\"x\":{\"value\":-693808.0772063041},\"y\":{\"value\":7041981.215651802}},\"id\":\"1094\",\"type\":\"Circle\"},{\"attributes\":{},\"id\":\"1047\",\"type\":\"DataRange1d\"},{\"attributes\":{\"source\":{\"id\":\"1092\"}},\"id\":\"1096\",\"type\":\"CDSView\"},{\"attributes\":{},\"id\":\"1074\",\"type\":\"HelpTool\"},{\"attributes\":{},\"id\":\"1069\",\"type\":\"PanTool\"},{\"attributes\":{\"fill_color\":{\"value\":\"blue\"},\"line_color\":{\"value\":\"blue\"},\"x\":{\"value\":-693808.0772063041},\"y\":{\"value\":7041981.215651802}},\"id\":\"1093\",\"type\":\"Circle\"},{\"attributes\":{\"formatter\":{\"id\":\"1064\"},\"ticker\":{\"id\":\"1062\"}},\"id\":\"1061\",\"type\":\"MercatorAxis\"},{\"attributes\":{\"data\":{},\"selected\":{\"id\":\"1107\"},\"selection_policy\":{\"id\":\"1106\"}},\"id\":\"1092\",\"type\":\"ColumnDataSource\"},{\"attributes\":{\"formatter\":{\"id\":\"1056\"},\"ticker\":{\"id\":\"1054\"}},\"id\":\"1053\",\"type\":\"MercatorAxis\"},{\"attributes\":{\"active_drag\":\"auto\",\"active_inspect\":\"auto\",\"active_multi\":null,\"active_scroll\":\"auto\",\"active_tap\":\"auto\",\"tools\":[{\"id\":\"1069\"},{\"id\":\"1070\"},{\"id\":\"1071\"},{\"id\":\"1072\"},{\"id\":\"1073\"},{\"id\":\"1074\"}]},\"id\":\"1076\",\"type\":\"Toolbar\"},{\"attributes\":{\"attribution\":\"&copy; <a href=\\\"https://www.openstreetmap.org/copyright\\\">OpenStreetMap</a> contributors\",\"url\":\"https://c.tile.openstreetmap.org/{Z}/{X}/{Y}.png\"},\"id\":\"1083\",\"type\":\"WMTSTileSource\"},{\"attributes\":{\"x\":{\"field\":\"lng_m\"},\"y\":{\"field\":\"lat_m\"}},\"id\":\"1088\",\"type\":\"Line\"},{\"attributes\":{\"dimension\":\"lat\"},\"id\":\"1062\",\"type\":\"MercatorTicker\"},{\"attributes\":{},\"id\":\"1051\",\"type\":\"LinearScale\"},{\"attributes\":{\"line_alpha\":0.1,\"x\":{\"field\":\"lng_m\"},\"y\":{\"field\":\"lat_m\"}},\"id\":\"1089\",\"type\":\"Line\"},{\"attributes\":{},\"id\":\"1073\",\"type\":\"ResetTool\"},{\"attributes\":{\"dimension\":\"lat\"},\"id\":\"1064\",\"type\":\"MercatorTickFormatter\"},{\"attributes\":{\"axis\":{\"id\":\"1053\"},\"ticker\":null},\"id\":\"1060\",\"type\":\"Grid\"},{\"attributes\":{},\"id\":\"1049\",\"type\":\"LinearScale\"},{\"attributes\":{\"dimension\":\"lon\"},\"id\":\"1054\",\"type\":\"MercatorTicker\"},{\"attributes\":{\"dimension\":\"lon\"},\"id\":\"1056\",\"type\":\"MercatorTickFormatter\"}],\"root_ids\":[\"1044\"]},\"title\":\"Bokeh Application\",\"version\":\"2.2.1\"}};\n",
       "  var render_items = [{\"docid\":\"9978dcb5-641a-464d-805d-7e670cb924cc\",\"root_ids\":[\"1044\"],\"roots\":{\"1044\":\"fc85eae1-719b-4af1-8447-91ccfe04be21\"}}];\n",
       "  root.Bokeh.embed.embed_items_notebook(docs_json, render_items);\n",
       "\n",
       "  }\n",
       "  if (root.Bokeh !== undefined) {\n",
       "    embed_document(root);\n",
       "  } else {\n",
       "    var attempts = 0;\n",
       "    var timer = setInterval(function(root) {\n",
       "      if (root.Bokeh !== undefined) {\n",
       "        clearInterval(timer);\n",
       "        embed_document(root);\n",
       "      } else {\n",
       "        attempts++;\n",
       "        if (attempts > 100) {\n",
       "          clearInterval(timer);\n",
       "          console.log(\"Bokeh: ERROR: Unable to run BokehJS code because BokehJS library is missing\");\n",
       "        }\n",
       "      }\n",
       "    }, 10, root)\n",
       "  }\n",
       "})(window);"
      ],
      "application/vnd.bokehjs_exec.v0+json": ""
     },
     "metadata": {
      "application/vnd.bokehjs_exec.v0+json": {
       "id": "1044"
      }
     },
     "output_type": "display_data"
    },
    {
     "data": {
      "text/html": [
       "\n",
       "\n",
       "\n",
       "\n",
       "\n",
       "\n",
       "  <div class=\"bk-root\" id=\"ac15c1dd-87eb-41f7-ba0e-d2d5d871f998\" data-root-id=\"1205\"></div>\n"
      ]
     },
     "metadata": {},
     "output_type": "display_data"
    },
    {
     "data": {
      "application/javascript": [
       "(function(root) {\n",
       "  function embed_document(root) {\n",
       "    \n",
       "  var docs_json = {\"c43da840-057c-44e1-bf67-c5e4bf96dd5d\":{\"roots\":{\"references\":[{\"attributes\":{\"below\":[{\"id\":\"1214\"}],\"center\":[{\"id\":\"1221\"},{\"id\":\"1229\"}],\"left\":[{\"id\":\"1222\"}],\"renderers\":[{\"id\":\"1245\"},{\"id\":\"1251\"},{\"id\":\"1256\"}],\"title\":{\"id\":\"1270\"},\"toolbar\":{\"id\":\"1237\"},\"x_range\":{\"id\":\"1206\"},\"x_scale\":{\"id\":\"1210\"},\"y_range\":{\"id\":\"1208\"},\"y_scale\":{\"id\":\"1212\"}},\"id\":\"1205\",\"subtype\":\"Figure\",\"type\":\"Plot\"},{\"attributes\":{\"dimension\":\"lon\"},\"id\":\"1215\",\"type\":\"MercatorTicker\"},{\"attributes\":{\"tile_source\":{\"id\":\"1244\"}},\"id\":\"1245\",\"type\":\"TileRenderer\"},{\"attributes\":{\"fill_alpha\":{\"value\":0.1},\"fill_color\":{\"value\":\"blue\"},\"line_alpha\":{\"value\":0.1},\"line_color\":{\"value\":\"blue\"},\"x\":{\"value\":-695397.719534832},\"y\":{\"value\":7046817.272232639}},\"id\":\"1255\",\"type\":\"Circle\"},{\"attributes\":{\"data\":{\"block_id\":[1005,1005,1005,1005,1005,1005,1005,1005,1005,1005,1005,1005,1005],\"congestion\":[false,false,false,false,false,false,false,false,false,false,false,false,false],\"datetime\":{\"__ndarray__\":\"AABgT53Cc0IAAEJUncJzQgCAYlmdwnNCAIBEXp3Cc0IAAGVjncJzQgAAR2idwnNCAIBtbJ3Cc0IAAI5xncJzQgAAcHadwnNCAICQe53Cc0IAAJOFncJzQgAA+ImdwnNCAIAYj53Cc0I=\",\"dtype\":\"float64\",\"order\":\"little\",\"shape\":[13]},\"day\":[11,11,11,11,11,11,11,11,11,11,11,11,11],\"delay\":[3420,3420,3420,3420,3420,3374,3374,3336,3336,3336,3376,3376,3360],\"hour\":[13,13,13,13,13,13,13,13,13,13,13,13,13],\"index\":[800997,801609,802108,802558,803209,803671,804112,804711,805274,805754,806886,807337,807893],\"journey_id\":[\"00011001\",\"00011001\",\"00011001\",\"00011001\",\"00011001\",\"00011001\",\"00011001\",\"00011001\",\"00011001\",\"00011001\",\"00011001\",\"00011001\",\"00011001\"],\"lat\":{\"__ndarray__\":\"6z9rfvyrSkDrP2t+/KtKQCbD8XwGrEpAJsPxfAasSkCOQSeEDqxKQD5ZMVwdrEpArMjogCSsSkDyXUpdMqxKQHx+GCE8rEpAvm2mQjysSkDnAMEcPaxKQPV+ox03rEpA9s/TgEGsSkA=\",\"dtype\":\"float64\",\"order\":\"little\",\"shape\":[13]},\"lat_m\":{\"__ndarray__\":\"ckJsUajhWkFyQmxRqOFaQVxgJIm24VpBXGAkibbhWkG5rN70weFaQWq00xLX4VpBq8VjPOHhWkE/BWr09OFaQc1SvNgC4lpBIb94CAPiWkF3hsE+BOJaQUf/1bb74VpBNp3qfQriWkE=\",\"dtype\":\"float64\",\"order\":\"little\",\"shape\":[13]},\"line_id\":[1.0,1.0,1.0,1.0,1.0,1.0,1.0,1.0,1.0,1.0,1.0,1.0,1.0],\"lng\":{\"__ndarray__\":\"LT2a6sn8GMAtPZrqyfwYwBQjS+ZY/hjAFCNL5lj+GMAANbVsrf8YwHrGvmTjARnAsaayKOwCGcCcNuM0RAUZwN3PKcjPBhnABfuvc9MGGcAmUS/4NAcZwAK4WbxYCBnA3sfRHFkJGcA=\",\"dtype\":\"float64\",\"order\":\"little\",\"shape\":[13]},\"lng_m\":{\"__ndarray__\":\"mN5mcMs4JcGY3mZwyzglwf5qrEseOiXB/mqsSx46JcEJVu6APzslwWf9Yi4gPSXBV/jrCwE+JcGkgM2q/j8lwVfDIaFOQSXBUusRv1FBJcEB7WyRpEElwTRXgV2cQiXBDYkuG3ZDJcE=\",\"dtype\":\"float64\",\"order\":\"little\",\"shape\":[13]},\"operator\":[\"RD\",\"RD\",\"RD\",\"RD\",\"RD\",\"RD\",\"RD\",\"RD\",\"RD\",\"RD\",\"RD\",\"RD\",\"RD\"],\"stop\":[false,false,false,false,false,false,false,false,false,false,false,false,false],\"stop_id\":[398.0,398.0,399.0,399.0,399.0,399.0,400.0,400.0,400.0,400.0,400.0,400.0,400.0],\"time_frame\":[\"2013-01-11\",\"2013-01-11\",\"2013-01-11\",\"2013-01-11\",\"2013-01-11\",\"2013-01-11\",\"2013-01-11\",\"2013-01-11\",\"2013-01-11\",\"2013-01-11\",\"2013-01-11\",\"2013-01-11\",\"2013-01-11\"],\"timestamp\":[1357911488000000,1357911508000000,1357911529000000,1357911549000000,1357911570000000,1357911590000000,1357911607000000,1357911628000000,1357911648000000,1357911669000000,1357911710000000,1357911728000000,1357911749000000],\"vehicle_id\":[43072,43072,43072,43072,43072,43072,43072,43072,43072,43072,43072,43072,43072],\"vehicle_journey_id\":[4680,4680,4680,4680,4680,4680,4680,4680,4680,4680,4680,4680,4680]},\"selected\":{\"id\":\"1277\"},\"selection_policy\":{\"id\":\"1276\"}},\"id\":\"1247\",\"type\":\"ColumnDataSource\"},{\"attributes\":{\"source\":{\"id\":\"1253\"}},\"id\":\"1257\",\"type\":\"CDSView\"},{\"attributes\":{},\"id\":\"1212\",\"type\":\"LinearScale\"},{\"attributes\":{\"data\":{},\"selected\":{\"id\":\"1279\"},\"selection_policy\":{\"id\":\"1278\"}},\"id\":\"1253\",\"type\":\"ColumnDataSource\"},{\"attributes\":{},\"id\":\"1206\",\"type\":\"DataRange1d\"},{\"attributes\":{\"text\":\"\"},\"id\":\"1270\",\"type\":\"Title\"},{\"attributes\":{\"fill_color\":{\"value\":\"blue\"},\"line_color\":{\"value\":\"blue\"},\"x\":{\"value\":-695397.719534832},\"y\":{\"value\":7046817.272232639}},\"id\":\"1254\",\"type\":\"Circle\"},{\"attributes\":{\"bottom_units\":\"screen\",\"fill_alpha\":0.5,\"fill_color\":\"lightgrey\",\"left_units\":\"screen\",\"level\":\"overlay\",\"line_alpha\":1.0,\"line_color\":\"black\",\"line_dash\":[4,4],\"line_width\":2,\"right_units\":\"screen\",\"top_units\":\"screen\"},\"id\":\"1236\",\"type\":\"BoxAnnotation\"},{\"attributes\":{\"data_source\":{\"id\":\"1253\"},\"glyph\":{\"id\":\"1254\"},\"hover_glyph\":null,\"muted_glyph\":null,\"nonselection_glyph\":{\"id\":\"1255\"},\"selection_glyph\":null,\"view\":{\"id\":\"1257\"}},\"id\":\"1256\",\"type\":\"GlyphRenderer\"},{\"attributes\":{},\"id\":\"1233\",\"type\":\"SaveTool\"},{\"attributes\":{\"x\":{\"field\":\"lng_m\"},\"y\":{\"field\":\"lat_m\"}},\"id\":\"1249\",\"type\":\"Line\"},{\"attributes\":{\"formatter\":{\"id\":\"1217\"},\"ticker\":{\"id\":\"1215\"}},\"id\":\"1214\",\"type\":\"MercatorAxis\"},{\"attributes\":{\"line_alpha\":0.1,\"x\":{\"field\":\"lng_m\"},\"y\":{\"field\":\"lat_m\"}},\"id\":\"1250\",\"type\":\"Line\"},{\"attributes\":{},\"id\":\"1276\",\"type\":\"UnionRenderers\"},{\"attributes\":{},\"id\":\"1208\",\"type\":\"DataRange1d\"},{\"attributes\":{},\"id\":\"1277\",\"type\":\"Selection\"},{\"attributes\":{},\"id\":\"1210\",\"type\":\"LinearScale\"},{\"attributes\":{\"data_source\":{\"id\":\"1247\"},\"glyph\":{\"id\":\"1249\"},\"hover_glyph\":null,\"muted_glyph\":null,\"nonselection_glyph\":{\"id\":\"1250\"},\"selection_glyph\":null,\"view\":{\"id\":\"1252\"}},\"id\":\"1251\",\"type\":\"GlyphRenderer\"},{\"attributes\":{},\"id\":\"1234\",\"type\":\"ResetTool\"},{\"attributes\":{\"dimension\":\"lon\"},\"id\":\"1217\",\"type\":\"MercatorTickFormatter\"},{\"attributes\":{},\"id\":\"1230\",\"type\":\"PanTool\"},{\"attributes\":{},\"id\":\"1278\",\"type\":\"UnionRenderers\"},{\"attributes\":{},\"id\":\"1279\",\"type\":\"Selection\"},{\"attributes\":{\"overlay\":{\"id\":\"1236\"}},\"id\":\"1232\",\"type\":\"BoxZoomTool\"},{\"attributes\":{\"attribution\":\"&copy; <a href=\\\"https://www.openstreetmap.org/copyright\\\">OpenStreetMap</a> contributors\",\"url\":\"https://c.tile.openstreetmap.org/{Z}/{X}/{Y}.png\"},\"id\":\"1244\",\"type\":\"WMTSTileSource\"},{\"attributes\":{\"active_drag\":\"auto\",\"active_inspect\":\"auto\",\"active_multi\":null,\"active_scroll\":\"auto\",\"active_tap\":\"auto\",\"tools\":[{\"id\":\"1230\"},{\"id\":\"1231\"},{\"id\":\"1232\"},{\"id\":\"1233\"},{\"id\":\"1234\"},{\"id\":\"1235\"}]},\"id\":\"1237\",\"type\":\"Toolbar\"},{\"attributes\":{},\"id\":\"1235\",\"type\":\"HelpTool\"},{\"attributes\":{\"axis\":{\"id\":\"1222\"},\"dimension\":1,\"ticker\":null},\"id\":\"1229\",\"type\":\"Grid\"},{\"attributes\":{},\"id\":\"1231\",\"type\":\"WheelZoomTool\"},{\"attributes\":{\"dimension\":\"lat\"},\"id\":\"1225\",\"type\":\"MercatorTickFormatter\"},{\"attributes\":{\"dimension\":\"lat\"},\"id\":\"1223\",\"type\":\"MercatorTicker\"},{\"attributes\":{\"formatter\":{\"id\":\"1225\"},\"ticker\":{\"id\":\"1223\"}},\"id\":\"1222\",\"type\":\"MercatorAxis\"},{\"attributes\":{\"source\":{\"id\":\"1247\"}},\"id\":\"1252\",\"type\":\"CDSView\"},{\"attributes\":{\"axis\":{\"id\":\"1214\"},\"ticker\":null},\"id\":\"1221\",\"type\":\"Grid\"}],\"root_ids\":[\"1205\"]},\"title\":\"Bokeh Application\",\"version\":\"2.2.1\"}};\n",
       "  var render_items = [{\"docid\":\"c43da840-057c-44e1-bf67-c5e4bf96dd5d\",\"root_ids\":[\"1205\"],\"roots\":{\"1205\":\"ac15c1dd-87eb-41f7-ba0e-d2d5d871f998\"}}];\n",
       "  root.Bokeh.embed.embed_items_notebook(docs_json, render_items);\n",
       "\n",
       "  }\n",
       "  if (root.Bokeh !== undefined) {\n",
       "    embed_document(root);\n",
       "  } else {\n",
       "    var attempts = 0;\n",
       "    var timer = setInterval(function(root) {\n",
       "      if (root.Bokeh !== undefined) {\n",
       "        clearInterval(timer);\n",
       "        embed_document(root);\n",
       "      } else {\n",
       "        attempts++;\n",
       "        if (attempts > 100) {\n",
       "          clearInterval(timer);\n",
       "          console.log(\"Bokeh: ERROR: Unable to run BokehJS code because BokehJS library is missing\");\n",
       "        }\n",
       "      }\n",
       "    }, 10, root)\n",
       "  }\n",
       "})(window);"
      ],
      "application/vnd.bokehjs_exec.v0+json": ""
     },
     "metadata": {
      "application/vnd.bokehjs_exec.v0+json": {
       "id": "1205"
      }
     },
     "output_type": "display_data"
    },
    {
     "data": {
      "text/html": [
       "\n",
       "\n",
       "\n",
       "\n",
       "\n",
       "\n",
       "  <div class=\"bk-root\" id=\"4380b171-104a-440b-9fd2-92ce27bba067\" data-root-id=\"1377\"></div>\n"
      ]
     },
     "metadata": {},
     "output_type": "display_data"
    },
    {
     "data": {
      "application/javascript": [
       "(function(root) {\n",
       "  function embed_document(root) {\n",
       "    \n",
       "  var docs_json = {\"6fe6d0cd-e393-4944-8ce4-82e547e015e5\":{\"roots\":{\"references\":[{\"attributes\":{\"below\":[{\"id\":\"1386\"}],\"center\":[{\"id\":\"1393\"},{\"id\":\"1401\"}],\"left\":[{\"id\":\"1394\"}],\"renderers\":[{\"id\":\"1417\"},{\"id\":\"1423\"},{\"id\":\"1428\"}],\"title\":{\"id\":\"1453\"},\"toolbar\":{\"id\":\"1409\"},\"x_range\":{\"id\":\"1378\"},\"x_scale\":{\"id\":\"1382\"},\"y_range\":{\"id\":\"1380\"},\"y_scale\":{\"id\":\"1384\"}},\"id\":\"1377\",\"subtype\":\"Figure\",\"type\":\"Plot\"},{\"attributes\":{\"bottom_units\":\"screen\",\"fill_alpha\":0.5,\"fill_color\":\"lightgrey\",\"left_units\":\"screen\",\"level\":\"overlay\",\"line_alpha\":1.0,\"line_color\":\"black\",\"line_dash\":[4,4],\"line_width\":2,\"right_units\":\"screen\",\"top_units\":\"screen\"},\"id\":\"1408\",\"type\":\"BoxAnnotation\"},{\"attributes\":{\"data\":{\"block_id\":[4001,4001,4001,4001,4001,4001,4001,4001,4001,4001,4001,4001,4001,4001,4001,4001,4001,4001,4001,4001,4001,4001],\"congestion\":[false,false,false,false,false,false,false,false,false,false,false,false,false,false,false,false,false,false,false,false,false,false],\"datetime\":{\"__ndarray__\":\"AIAF+FHCc0IAgIL4UcJzQgCARgJSwnNCAAD8A1LCc0IAgIcMUsJzQgCA7BBSwnNCAIBdE1LCc0IAAJAVUsJzQgAA7xpSwnNCAICSH1LCc0IAgIYhUsJzQgCAdCRSwnNCAACVKVLCc0IAAPotUsJzQgAAazBSwnNCAIAaM1LCc0IAAKA8UsJzQgAAlD5SwnNCAICiRlLCc0IAAKVQUsJzQgAAClVSwnNCAIAqWlLCc0I=\",\"dtype\":\"float64\",\"order\":\"little\",\"shape\":[22]},\"day\":[10,10,10,10,10,10,10,10,10,10,10,10,10,10,10,10,10,10,10,10,10,10],\"delay\":[-196,-196,-196,-196,-196,-196,-196,-196,-196,-196,-196,-196,-196,-196,0,0,0,0,0,0,0,0],\"hour\":[15,15,15,15,15,15,15,15,15,15,15,15,15,15,15,15,15,15,15,15,15,15],\"index\":[980727,980793,981894,982081,983181,983635,983925,984256,984864,985430,985693,986037,986657,987074,987365,987793,988858,989104,990057,991292,991831,992328],\"journey_id\":[\"00041001\",\"00041001\",\"00041001\",\"00041001\",\"00041001\",\"00041001\",\"00041001\",\"00041001\",\"00041001\",\"00041001\",\"00041001\",\"00041001\",\"00041001\",\"00041001\",\"00041001\",\"00041001\",\"00041001\",\"00041001\",\"00041001\",\"00041001\",\"00041001\",\"00041001\"],\"lat\":{\"__ndarray__\":\"yNPyA1e1SkDI0/IDV7VKQMjT8gNXtUpAyNPyA1e1SkDI0/IDV7VKQMjT8gNXtUpAyNPyA1e1SkDI0/IDV7VKQMjT8gNXtUpAyNPyA1e1SkDI0/IDV7VKQIAnLVxWtUpAqob9nli1SkDuluSAXbVKQO6W5IBdtUpA96i/XmG1SkAbogp/hrVKQBuiCn+GtUpApbxWQne1SkBWSWQfZLVKQFZJZB9ktUpAVklkH2S1SkA=\",\"dtype\":\"float64\",\"order\":\"little\",\"shape\":[22]},\"lat_m\":{\"__ndarray__\":\"BEGRo/nuWkEEQZGj+e5aQQRBkaP57lpBBEGRo/nuWkEEQZGj+e5aQQRBkaP57lpBBEGRo/nuWkEEQZGj+e5aQQRBkaP57lpBBEGRo/nuWkEEQZGj+e5aQRf/fLT47lpBds5P7fvuWkHV9HTiAu9aQdX0dOIC71pBxlcIZQjvWkH2TCZNPe9aQfZMJk0971pBUEVmlifvWkHqcixRDO9aQepyLFEM71pB6nIsUQzvWkE=\",\"dtype\":\"float64\",\"order\":\"little\",\"shape\":[22]},\"line_id\":[4.0,4.0,4.0,4.0,4.0,4.0,4.0,4.0,4.0,4.0,4.0,4.0,4.0,4.0,4.0,4.0,4.0,4.0,4.0,4.0,4.0,4.0],\"lng\":{\"__ndarray__\":\"GO3xQjocGcAY7fFCOhwZwBjt8UI6HBnAGO3xQjocGcAY7fFCOhwZwBjt8UI6HBnAGO3xQjocGcAY7fFCOhwZwBjt8UI6HBnAGO3xQjocGcAY7fFCOhwZwBjt8UI6HBnAeHqlLEMcGcD/zYsTXx0ZwP/NixNfHRnAX1s//WcdGcDP91PjpRsZwM/3U+OlGxnAFmpN844TGcAVONkG7hAZwBU42QbuEBnAFTjZBu4QGcA=\",\"dtype\":\"float64\",\"order\":\"little\",\"shape\":[22]},\"lng_m\":{\"__ndarray__\":\"9VSt5n5TJcH1VK3mflMlwfVUreZ+UyXB9VSt5n5TJcH1VK3mflMlwfVUreZ+UyXB9VSt5n5TJcH1VK3mflMlwfVUreZ+UyXB9VSt5n5TJcH1VK3mflMlwfVUreZ+UyXBndqGeIZTJcFMOL2Wd1QlwUw4vZZ3VCXB9L2WKH9UJcEp4C3jAFMlwSngLeMAUyXBylMaCiJMJcGCaHOG5kklwYJoc4bmSSXBgmhzhuZJJcE=\",\"dtype\":\"float64\",\"order\":\"little\",\"shape\":[22]},\"operator\":[\"HN\",\"HN\",\"HN\",\"HN\",\"HN\",\"HN\",\"HN\",\"HN\",\"HN\",\"HN\",\"HN\",\"HN\",\"HN\",\"HN\",\"HN\",\"HN\",\"HN\",\"HN\",\"HN\",\"HN\",\"HN\",\"HN\"],\"stop\":[false,false,false,false,false,false,false,false,false,false,false,false,false,false,true,true,true,true,true,true,true,true],\"stop_id\":[322.0,322.0,322.0,6182.0,6182.0,6182.0,6182.0,6182.0,6182.0,6182.0,6182.0,6182.0,6182.0,6182.0,332.0,332.0,332.0,332.0,332.0,332.0,332.0,332.0],\"time_frame\":[\"2013-01-10\",\"2013-01-10\",\"2013-01-10\",\"2013-01-10\",\"2013-01-10\",\"2013-01-10\",\"2013-01-10\",\"2013-01-10\",\"2013-01-10\",\"2013-01-10\",\"2013-01-10\",\"2013-01-10\",\"2013-01-10\",\"2013-01-10\",\"2013-01-10\",\"2013-01-10\",\"2013-01-10\",\"2013-01-10\",\"2013-01-10\",\"2013-01-10\",\"2013-01-10\",\"2013-01-10\"],\"timestamp\":[1357832487000000,1357832489000000,1357832529000000,1357832536000000,1357832571000000,1357832589000000,1357832599000000,1357832608000000,1357832630000000,1357832649000000,1357832657000000,1357832669000000,1357832690000000,1357832708000000,1357832718000000,1357832729000000,1357832768000000,1357832776000000,1357832809000000,1357832850000000,1357832868000000,1357832889000000],\"vehicle_id\":[43041,43041,43041,43041,43041,43041,43041,43041,43041,43041,43041,43041,43041,43041,43041,43041,43041,43041,43041,43041,43041,43041],\"vehicle_journey_id\":[4548,4548,4548,4548,4548,4548,4548,4548,4548,4548,4548,4548,4548,4548,4548,4548,4548,4548,4548,4548,4548,4548]},\"selected\":{\"id\":\"1460\"},\"selection_policy\":{\"id\":\"1459\"}},\"id\":\"1419\",\"type\":\"ColumnDataSource\"},{\"attributes\":{\"data_source\":{\"id\":\"1425\"},\"glyph\":{\"id\":\"1426\"},\"hover_glyph\":null,\"muted_glyph\":null,\"nonselection_glyph\":{\"id\":\"1427\"},\"selection_glyph\":null,\"view\":{\"id\":\"1429\"}},\"id\":\"1428\",\"type\":\"GlyphRenderer\"},{\"attributes\":{\"data_source\":{\"id\":\"1419\"},\"glyph\":{\"id\":\"1421\"},\"hover_glyph\":null,\"muted_glyph\":null,\"nonselection_glyph\":{\"id\":\"1422\"},\"selection_glyph\":null,\"view\":{\"id\":\"1424\"}},\"id\":\"1423\",\"type\":\"GlyphRenderer\"},{\"attributes\":{\"fill_alpha\":{\"value\":0.1},\"fill_color\":{\"value\":\"blue\"},\"line_alpha\":{\"value\":0.1},\"line_color\":{\"value\":\"blue\"},\"x\":{\"value\":-698815.4505411672},\"y\":{\"value\":7060454.555740599}},\"id\":\"1427\",\"type\":\"Circle\"},{\"attributes\":{\"source\":{\"id\":\"1419\"}},\"id\":\"1424\",\"type\":\"CDSView\"},{\"attributes\":{\"line_alpha\":0.1,\"x\":{\"field\":\"lng_m\"},\"y\":{\"field\":\"lat_m\"}},\"id\":\"1422\",\"type\":\"Line\"},{\"attributes\":{},\"id\":\"1384\",\"type\":\"LinearScale\"},{\"attributes\":{\"x\":{\"field\":\"lng_m\"},\"y\":{\"field\":\"lat_m\"}},\"id\":\"1421\",\"type\":\"Line\"},{\"attributes\":{\"fill_color\":{\"value\":\"blue\"},\"line_color\":{\"value\":\"blue\"},\"x\":{\"value\":-698815.4505411672},\"y\":{\"value\":7060454.555740599}},\"id\":\"1426\",\"type\":\"Circle\"},{\"attributes\":{},\"id\":\"1459\",\"type\":\"UnionRenderers\"},{\"attributes\":{},\"id\":\"1460\",\"type\":\"Selection\"},{\"attributes\":{},\"id\":\"1378\",\"type\":\"DataRange1d\"},{\"attributes\":{\"formatter\":{\"id\":\"1389\"},\"ticker\":{\"id\":\"1387\"}},\"id\":\"1386\",\"type\":\"MercatorAxis\"},{\"attributes\":{\"source\":{\"id\":\"1425\"}},\"id\":\"1429\",\"type\":\"CDSView\"},{\"attributes\":{},\"id\":\"1405\",\"type\":\"SaveTool\"},{\"attributes\":{},\"id\":\"1406\",\"type\":\"ResetTool\"},{\"attributes\":{\"data\":{},\"selected\":{\"id\":\"1462\"},\"selection_policy\":{\"id\":\"1461\"}},\"id\":\"1425\",\"type\":\"ColumnDataSource\"},{\"attributes\":{},\"id\":\"1402\",\"type\":\"PanTool\"},{\"attributes\":{\"overlay\":{\"id\":\"1408\"}},\"id\":\"1404\",\"type\":\"BoxZoomTool\"},{\"attributes\":{\"active_drag\":\"auto\",\"active_inspect\":\"auto\",\"active_multi\":null,\"active_scroll\":\"auto\",\"active_tap\":\"auto\",\"tools\":[{\"id\":\"1402\"},{\"id\":\"1403\"},{\"id\":\"1404\"},{\"id\":\"1405\"},{\"id\":\"1406\"},{\"id\":\"1407\"}]},\"id\":\"1409\",\"type\":\"Toolbar\"},{\"attributes\":{},\"id\":\"1407\",\"type\":\"HelpTool\"},{\"attributes\":{\"text\":\"\"},\"id\":\"1453\",\"type\":\"Title\"},{\"attributes\":{\"axis\":{\"id\":\"1394\"},\"dimension\":1,\"ticker\":null},\"id\":\"1401\",\"type\":\"Grid\"},{\"attributes\":{},\"id\":\"1461\",\"type\":\"UnionRenderers\"},{\"attributes\":{},\"id\":\"1403\",\"type\":\"WheelZoomTool\"},{\"attributes\":{},\"id\":\"1462\",\"type\":\"Selection\"},{\"attributes\":{},\"id\":\"1382\",\"type\":\"LinearScale\"},{\"attributes\":{\"dimension\":\"lat\"},\"id\":\"1397\",\"type\":\"MercatorTickFormatter\"},{\"attributes\":{\"tile_source\":{\"id\":\"1416\"}},\"id\":\"1417\",\"type\":\"TileRenderer\"},{\"attributes\":{\"dimension\":\"lat\"},\"id\":\"1395\",\"type\":\"MercatorTicker\"},{\"attributes\":{},\"id\":\"1380\",\"type\":\"DataRange1d\"},{\"attributes\":{\"formatter\":{\"id\":\"1397\"},\"ticker\":{\"id\":\"1395\"}},\"id\":\"1394\",\"type\":\"MercatorAxis\"},{\"attributes\":{\"axis\":{\"id\":\"1386\"},\"ticker\":null},\"id\":\"1393\",\"type\":\"Grid\"},{\"attributes\":{\"dimension\":\"lon\"},\"id\":\"1389\",\"type\":\"MercatorTickFormatter\"},{\"attributes\":{\"dimension\":\"lon\"},\"id\":\"1387\",\"type\":\"MercatorTicker\"},{\"attributes\":{\"attribution\":\"&copy; <a href=\\\"https://www.openstreetmap.org/copyright\\\">OpenStreetMap</a> contributors\",\"url\":\"https://c.tile.openstreetmap.org/{Z}/{X}/{Y}.png\"},\"id\":\"1416\",\"type\":\"WMTSTileSource\"}],\"root_ids\":[\"1377\"]},\"title\":\"Bokeh Application\",\"version\":\"2.2.1\"}};\n",
       "  var render_items = [{\"docid\":\"6fe6d0cd-e393-4944-8ce4-82e547e015e5\",\"root_ids\":[\"1377\"],\"roots\":{\"1377\":\"4380b171-104a-440b-9fd2-92ce27bba067\"}}];\n",
       "  root.Bokeh.embed.embed_items_notebook(docs_json, render_items);\n",
       "\n",
       "  }\n",
       "  if (root.Bokeh !== undefined) {\n",
       "    embed_document(root);\n",
       "  } else {\n",
       "    var attempts = 0;\n",
       "    var timer = setInterval(function(root) {\n",
       "      if (root.Bokeh !== undefined) {\n",
       "        clearInterval(timer);\n",
       "        embed_document(root);\n",
       "      } else {\n",
       "        attempts++;\n",
       "        if (attempts > 100) {\n",
       "          clearInterval(timer);\n",
       "          console.log(\"Bokeh: ERROR: Unable to run BokehJS code because BokehJS library is missing\");\n",
       "        }\n",
       "      }\n",
       "    }, 10, root)\n",
       "  }\n",
       "})(window);"
      ],
      "application/vnd.bokehjs_exec.v0+json": ""
     },
     "metadata": {
      "application/vnd.bokehjs_exec.v0+json": {
       "id": "1377"
      }
     },
     "output_type": "display_data"
    }
   ],
   "source": [
    "plot_map(dfs_menos_q_50[0])\n",
    "plot_map(dfs_menos_q_50[1])\n",
    "plot_map(dfs_menos_q_50[10])"
   ]
  },
  {
   "cell_type": "markdown",
   "metadata": {},
   "source": [
    "#### Algumas trajetórias válidas"
   ]
  },
  {
   "cell_type": "code",
   "execution_count": 83,
   "metadata": {
    "scrolled": false
   },
   "outputs": [
    {
     "name": "stderr",
     "output_type": "stream",
     "text": [
      "/home/saci/hd/projetos/trajetorias/its_research/venvTraj/lib/python3.8/site-packages/pandas/core/frame.py:3065: SettingWithCopyWarning: \n",
      "A value is trying to be set on a copy of a slice from a DataFrame.\n",
      "Try using .loc[row_indexer,col_indexer] = value instead\n",
      "\n",
      "See the caveats in the documentation: https://pandas.pydata.org/pandas-docs/stable/user_guide/indexing.html#returning-a-view-versus-a-copy\n",
      "  self[k1] = value[k2]\n"
     ]
    },
    {
     "data": {
      "text/html": [
       "\n",
       "\n",
       "\n",
       "\n",
       "\n",
       "\n",
       "  <div class=\"bk-root\" id=\"4322518b-921e-4ea3-885d-afe94d08e086\" data-root-id=\"1560\"></div>\n"
      ]
     },
     "metadata": {},
     "output_type": "display_data"
    },
    {
     "data": {
      "application/javascript": [
       "(function(root) {\n",
       "  function embed_document(root) {\n",
       "    \n",
       "  var docs_json = {\"12600dcf-2636-40c4-b868-43a721750900\":{\"roots\":{\"references\":[{\"attributes\":{\"below\":[{\"id\":\"1569\"}],\"center\":[{\"id\":\"1576\"},{\"id\":\"1584\"}],\"left\":[{\"id\":\"1577\"}],\"renderers\":[{\"id\":\"1600\"},{\"id\":\"1606\"},{\"id\":\"1612\"},{\"id\":\"1617\"}],\"title\":{\"id\":\"1653\"},\"toolbar\":{\"id\":\"1592\"},\"x_range\":{\"id\":\"1561\"},\"x_scale\":{\"id\":\"1565\"},\"y_range\":{\"id\":\"1563\"},\"y_scale\":{\"id\":\"1567\"}},\"id\":\"1560\",\"subtype\":\"Figure\",\"type\":\"Plot\"},{\"attributes\":{},\"id\":\"1567\",\"type\":\"LinearScale\"},{\"attributes\":{\"x\":{\"field\":\"lng_m\"},\"y\":{\"field\":\"lat_m\"}},\"id\":\"1604\",\"type\":\"Line\"},{\"attributes\":{\"line_alpha\":0.1,\"x\":{\"field\":\"lng_m\"},\"y\":{\"field\":\"lat_m\"}},\"id\":\"1605\",\"type\":\"Line\"},{\"attributes\":{},\"id\":\"1660\",\"type\":\"Selection\"},{\"attributes\":{},\"id\":\"1661\",\"type\":\"UnionRenderers\"},{\"attributes\":{},\"id\":\"1561\",\"type\":\"DataRange1d\"},{\"attributes\":{\"formatter\":{\"id\":\"1572\"},\"ticker\":{\"id\":\"1570\"}},\"id\":\"1569\",\"type\":\"MercatorAxis\"},{\"attributes\":{},\"id\":\"1662\",\"type\":\"Selection\"},{\"attributes\":{\"data\":{\"ID\":{\"__ndarray__\":\"CgoKCgo=\",\"dtype\":\"int8\",\"order\":\"little\",\"shape\":[5]},\"MF_acc\":{\"__ndarray__\":\"M40xdtcQ0z+dHekWZ4HgP8GLw/tMSdc/LUcwz0Xy0D9U/Pu5isDBPw==\",\"dtype\":\"float64\",\"order\":\"little\",\"shape\":[5]},\"MF_dist_from_old_point\":{\"__ndarray__\":\"Hq5NlQFsYEBuKt1gFaJiQMXAN+i/SVpAXxQrcaTlV0Bg2sls1C4bQA==\",\"dtype\":\"float64\",\"order\":\"little\",\"shape\":[5]},\"MF_lat\":{\"__ndarray__\":\"StKP4QyvSkCl28fA8K5KQCvE2PgCr0pAJlGaciquSkBqOqaTEaxKQA==\",\"dtype\":\"float64\",\"order\":\"little\",\"shape\":[5]},\"MF_lng\":{\"__ndarray__\":\"ZyGxOPdCGcDQAI6YNEEZwKLojN5fMxnAmSz5jtAVGcDqZnnDIgsZwA==\",\"dtype\":\"float64\",\"order\":\"little\",\"shape\":[5]},\"MF_vel\":{\"__ndarray__\":\"UgkhyxoGGUB3r1eIfYkhQH3Ef8vhvRhAhlQJ5rIfFECS+XjF8hDvPw==\",\"dtype\":\"float64\",\"order\":\"little\",\"shape\":[5]},\"acc\":{\"__ndarray__\":\"0Rxh5FJ54T9VJbbhOPnhP+qf01EqleM/tfdstf7V4j+kudqPGYHlPw==\",\"dtype\":\"float64\",\"order\":\"little\",\"shape\":[5]},\"block_id\":[12206,12206,12206,12206,12206],\"congestion\":[false,false,false,false,false],\"datetime\":{\"__ndarray__\":\"AIBlxqrCc0IAAIzKqsJzQgCAXfGqwnNCAICRj6vCc0IAgNvQrMJzQg==\",\"dtype\":\"float64\",\"order\":\"little\",\"shape\":[5]},\"day\":[11,11,11,11,11],\"delay\":[-78,-112,-249,-145,194],\"dist_from_old_point\":[0,0,0,0,0],\"hour\":[17,17,17,17,18],\"index\":[1226989,1227627,1233368,1256948,1304065],\"journey_id\":[\"01220001\",\"01220001\",\"01220001\",\"01220001\",\"01220001\"],\"lat\":{\"__ndarray__\":\"jzLiAtCuSkCzzvi+uK5KQGbfFcH/rkpAGedvQiGuSkBhEi7kEaxKQA==\",\"dtype\":\"float64\",\"order\":\"little\",\"shape\":[5]},\"lat_m\":{\"__ndarray__\":\"3lWJ2K3lWkEwQnW7jOVaQQcj5szx5VpBrdZiIrXkWkHoqQjCxuFaQQ==\",\"dtype\":\"float64\",\"order\":\"little\",\"shape\":[5]},\"line_id\":[\"122.0\",\"122.0\",\"122.0\",\"122.0\",\"122.0\"],\"lng\":{\"__ndarray__\":\"XkiHhzA+GcC366UpAjwZwGH8NO7NLxnAIGXEBaARGcAktOVcigsZwA==\",\"dtype\":\"float64\",\"order\":\"little\",\"shape\":[5]},\"lng_m\":{\"__ndarray__\":\"VkcP8lZwJcE1znm5fG4lwVVwKVAfZCXBavtysn1KJcFOj7fGUkUlwQ==\",\"dtype\":\"float64\",\"order\":\"little\",\"shape\":[5]},\"operator\":[\"PO\",\"PO\",\"PO\",\"PO\",\"PO\"],\"outlier\":[-1,-1,-1,-1,-1],\"outlier2\":[1,1,1,1,-1],\"outlier2_norm\":[1,-1,-1,1,-1],\"outlier_0\":[1,1,1,1,-1],\"outlier_MF\":[1,1,1,1,1],\"outlier_norm\":[-1,-1,-1,-1,-1],\"stop\":[false,false,false,false,true],\"stop_id\":[1701.0,1702.0,73.0,82.0,1278.0],\"time_frame\":[\"2013-01-11\",\"2013-01-11\",\"2013-01-11\",\"2013-01-11\",\"2013-01-11\"],\"time_from_old_point\":[21,17,17,19,7],\"timestamp\":[1357925607000000,1357925624000000,1357925783000000,1357926431000000,1357927747000000],\"vehicle_id\":[\"33441\",\"33441\",\"33441\",\"33441\",\"33441\"],\"vehicle_journey_id\":[\"1466\",\"1466\",\"1466\",\"1466\",\"1466\"],\"velocity\":{\"__ndarray__\":\"03W/yzzvJkCqh9FvzBgjQOnZ8PZ8ziRAJ2Zxdx5eJkBwYt9d9tASQA==\",\"dtype\":\"float64\",\"order\":\"little\",\"shape\":[5]}},\"selected\":{\"id\":\"1662\"},\"selection_policy\":{\"id\":\"1661\"}},\"id\":\"1608\",\"type\":\"ColumnDataSource\"},{\"attributes\":{\"dimension\":\"lon\"},\"id\":\"1570\",\"type\":\"MercatorTicker\"},{\"attributes\":{\"fill_color\":{\"value\":\"blue\"},\"line_color\":{\"value\":\"blue\"},\"x\":{\"value\":-702568.809812244},\"y\":{\"value\":7052380.025342372}},\"id\":\"1615\",\"type\":\"Circle\"},{\"attributes\":{\"fill_color\":{\"value\":\"red\"},\"line_color\":{\"value\":\"red\"},\"x\":{\"field\":\"lng_m\"},\"y\":{\"field\":\"lat_m\"}},\"id\":\"1610\",\"type\":\"Circle\"},{\"attributes\":{\"fill_alpha\":{\"value\":0.1},\"fill_color\":{\"value\":\"blue\"},\"line_alpha\":{\"value\":0.1},\"line_color\":{\"value\":\"blue\"},\"x\":{\"value\":-702568.809812244},\"y\":{\"value\":7052380.025342372}},\"id\":\"1616\",\"type\":\"Circle\"},{\"attributes\":{},\"id\":\"1565\",\"type\":\"LinearScale\"},{\"attributes\":{\"data_source\":{\"id\":\"1614\"},\"glyph\":{\"id\":\"1615\"},\"hover_glyph\":null,\"muted_glyph\":null,\"nonselection_glyph\":{\"id\":\"1616\"},\"selection_glyph\":null,\"view\":{\"id\":\"1618\"}},\"id\":\"1617\",\"type\":\"GlyphRenderer\"},{\"attributes\":{\"tile_source\":{\"id\":\"1599\"}},\"id\":\"1600\",\"type\":\"TileRenderer\"},{\"attributes\":{},\"id\":\"1663\",\"type\":\"UnionRenderers\"},{\"attributes\":{},\"id\":\"1563\",\"type\":\"DataRange1d\"},{\"attributes\":{},\"id\":\"1659\",\"type\":\"UnionRenderers\"},{\"attributes\":{\"data_source\":{\"id\":\"1608\"},\"glyph\":{\"id\":\"1610\"},\"hover_glyph\":null,\"muted_glyph\":null,\"nonselection_glyph\":{\"id\":\"1611\"},\"selection_glyph\":null,\"view\":{\"id\":\"1613\"}},\"id\":\"1612\",\"type\":\"GlyphRenderer\"},{\"attributes\":{\"source\":{\"id\":\"1602\"}},\"id\":\"1607\",\"type\":\"CDSView\"},{\"attributes\":{\"source\":{\"id\":\"1614\"}},\"id\":\"1618\",\"type\":\"CDSView\"},{\"attributes\":{\"data\":{},\"selected\":{\"id\":\"1664\"},\"selection_policy\":{\"id\":\"1663\"}},\"id\":\"1614\",\"type\":\"ColumnDataSource\"},{\"attributes\":{\"data\":{\"ID\":{\"__ndarray__\":\"CgoKCgoKCgoKCgoKCgoKCgoKCgoKCgoKCgoKCgoKCgoKCgoKCgoKCgoKCgoKCgoKCgoKCgoKCgoKCgoKCgoKCgoKCgoKCgoKCgoKCgoKCgoKCgoKCgoKCgoKCgoKCgoKCgoKCgoKCgoKCgoKCgoKCgoKCgoKCgoKCgoKCgoKCgoKCgoKCgoKCgoKCgoKCgoKCgoKCgoKCgoKCgoKCgoKCgoKCgoKCgoKCgoKCgoKCgoKCgoKCgoKCgoKCgoKCgoKCgoKCgoKCgoKCgoKCgoKCgoKCgoKCgoKCgoKCgoKCgoKCgoK\",\"dtype\":\"int8\",\"order\":\"little\",\"shape\":[228]},\"MF_acc\":{\"__ndarray__\":\"AAAAAAAAAACg7E1EFIcQQLgx5BfVrBtAwzNgsQKXCUAcmCsXCn4iQDQoEFEzdD89AAAAAAAAAAAAAAAAAAAAAAAAAAAAAAAAAAAAAAAAAAAAAAAAAAAAAAAAAAAAAAAAAAAAAAAAAABwYkZQnIWRP+b2MtxwV7k/DRTru/AvwT8FunC5fDvKP7wJm/P1Ns4/lns9gmP9zz/QFUocZxzXP4f1nsNm+tI/67Ep26YDzD8zjTF21xDTP50d6RZngeA/isve7saz2j/Bmq1HJSTRP0alg9U2jts/9xU0bk5y0T+6Uh3S4ojTP3TGQbqNwss/kngU8NEmyz/Bi8P7TEnXP9MoNbOY9s8/zJ0scT/tzT8EJEXc5lTSPzuKtOFG6Mo/XRQMARbvwD8oVFksI2nFP09yux84o9E/qNki1+yp0z9/smlg+D/SP1jMEpCqWso/aB1eLi8wzz+y0xNGcJzOP38xbOAW9dM/PETdEf5j2D+wjZNsoE3iP1IuZtIQi8s/Mos2VoBY0z/GGk+Xg97UP8OI5sBsa8I/jy5+mLVHxD9F7drRHEO0P2cbH/jj/p4/6bSR4MoyoT9cE9qQR+qwP2ADYDe6IKM/VuQxuM97uD/BX5wZgempP0FC3C0LkKs//ABw66etsz8+CNb2sq6xPwNKCpqsiLw/LUcwz0Xy0D9Ly1zrYY/WP1rjH6h9VdE/P0s6SOBv0j/py31qQyDTP+93WEpF0cc/IVbf6T2ZuD+przdFU42iPzctrWfh4KA/jj5POpDIlj9dawbQwdCiP5xqABTSJZo/N86uu3eRpz9fh3mqR8rFP8lRDGBMFsQ/4OBlF1l6xT/KJgcpfkLNPz822TY7mtM/TmZVG2RA0z8GdZ/cWO3JP6RGr2PI3dQ/aRh6YZmxuT8VMLSlW/nOPyGVrpDYKKA/y/tepHRNuT9vmKafgMXJP0He+8UVxMk/JaNIe+1uyD+KZshCVuPQP47tNEUONL8/JeOS2Yhlsz8kR6bexXHGP7+McZBD0q0/PwFKn+Lqpz/yr06tFgGRPwAAAAAAAAAAAAAAAAAAAAA1oXlSEaCTP51q3HGaipc/dJw/riPCnD8DvUazEaCTP4D/AY6r9aA/venmeY8Xiz+RoMLviUGQP/SUlRrq4oc/TojkQAUujT9WC97XMJF7P680C6hFBrI/ZqmQ3/fPuT/B8caT3+yxP3oy4eI4WMo/0j4nxA9ptj8oW02BK1vDP2+8dK6ZH6U/urDKuEHeuj94WTxn8Qy9PwECVKL+WcA/Y3qjBX/kuj9MArX9HYS0P3yaJ5WmdLY/0yl/baC4oz8mR6Y2kxCXP1e643E0XpE/zCVGmiE+jj/uWsJABxVRP1T8+7mKwME/QWpan//bkD9SUymweZWOP+Kj2vN3x5s//crCt+F5pD/3RGkXNdStP3dg6Iw25bk/JlIxzWQDwD93q60iWru7P4Sv1+9/XLo/DDYdUTbWvD8vbhwXVqm8P5eR6IevW7A/MW7/ehgPtD/3QEUq3yK9P7AvcVS6XrI/3CLj0kORvD+uQHuzGJ7AP5r/I1HSvLo/elutQnwPvj+g4NYqOozJP3xEdoekzsE/2Mh3yB9AvT+LY2sMoKXBP8C5lv8X7sQ/tPbstOMLyT+uqMCPPdvNP16wo2gCtcY/MsvCQS3txz9iootd0j7CPxH0yQNbD6k/1oB6kdFJrD9bSwmJczq7PwPEzZyRI7w/f3bPGnKItD+5TAitCWC0P5o3TvOndbY/ilSdJsA3vT/sgkVCY3HEP2WHv2trP8E/P3l14yg2wT+//O0mR6fKP8RHvzBZFM4/Cimv2PZMpj/3ItQ9OUvQP1ROlYAT+c0/gQ6RBgom0j+Y5PfDurfRPz21OCnhR8M/g2dACd+WyD/oqhfs9tbSP6wUHNgT68c/tE8fZwV00D/ewaLwjSbLP3x++M94ktA/G3JRaWnazj/0x6PFofrIP6Bctu2XeLo/9/9sMIMruD8toEixNW+XP3CBU2FkVp0/DYepyVsPwD86twT+DnHKP3ezKQA/AsQ/69mPyO1Qyz8u4dDMgrzLP5tIZKVWd84/t6Y4w2toxD/OeFHqJzvBP27zUPTSb70/4ZesP1EEvj/KnYwVzEywPyKYEd1xAsw/qSFqa8sszj/kUVIaKHjEP2ZQ1goW8MU/32h9VVrG0D9bqOhSbpzTP7vccfYDP9A/B1QqhUd8zD+kYraVZlbTPwWIwhRws8g/nzo9sCzqyz8YPddvEprLPzMIeuA6Hco/KzjKwQfN0j/eVNrEsZjGPxNBt/lcKdA/QR7uJdei1D8ttDsF0wLLP8E/ci9FedQ/Q1G9Utx/0z+S/QgamM/GP4WWb5ViV8M/sM8TsIiCwj8XExhxPInJPzLQcthXFsk/v5LD3Ichqz8+JxT7fIWiPy8fDrp5jrI/\",\"dtype\":\"float64\",\"order\":\"little\",\"shape\":[228]},\"MF_dist_from_old_point\":{\"__ndarray__\":\"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\",\"dtype\":\"float64\",\"order\":\"little\",\"shape\":[228]},\"MF_lat\":{\"__ndarray__\":\"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\",\"dtype\":\"float64\",\"order\":\"little\",\"shape\":[228]},\"MF_lng\":{\"__ndarray__\":\"YgtutZipGcBtywgUVo8ZwHiLo3ITdRnAg0s+0dBaGcDrM4P4wD4ZwOwzg/jAPhnA7DOD+MA+GcDsM4P4wD4ZwOwzg/jAPhnA7DOD+MA+GcDsM4P4wD4ZwOwzg/jAPhnA7DOD+MA+GcAusIgGzj4ZwEH6Qsh5PxnA3DYDt0lAGcCmmERiJ0EZwKoQBvk0QhnAwNld+11DGcBCTg9lA0QZwAjuAV92RBnA8i7YsiFEGcBnIbE490IZwNAAjpg0QRnAAbD7Myg/GcCKJOAh1jwZwPup/CHsOhnAZj0sL1Q5GcCtXB8x1TcZwA3NkZVfNhnA5hs3Rvw0GcCi6IzeXzMZwEYbrbTWMRnA8u0eRUIwGcDKNLbXgi4ZwP5T1+snLRnADl58dmUsGcA3vreOFiwZwIuuJ7ouLBnAPUNDtXcsGcCGZYhjXSwZwIgUxOUdLBnAye8uvDcrGcBuy5wuiykZwHBViQ1xJxnAqlOE5RklGcAwhbdi2iIZwMXNtLOeIBnA58oG4/EeGcA1eGrkqR0ZwB9dd6nHHBnA97Azhc4bGcDCLwBDRRsZwEeDi3DuGhnAVun5ibkaGcD1bSdbbhoZwJK1kaEZGhnALv3758QZGcCo1hcJbRkZwPckFkIYGRnAJKsc/6oYGcBzaJw8GxgZwJIvYkRHFxnAmSz5jtAVGcD92gU53hMZwEt4Tf7dERnA7/kRGhwQGcCd71dcdw4ZwKCRbpVxDRnAtunJoeoMGcARKccJuAwZwAQb4g6KDBnAYvRCS2gMGcB7tEOyNgwZwN3tOysODBnAqmUsPxUMGcB23RxTHAwZwKYqieyDDBnAp/3hnTINGcC62BpbGQ4ZwLu2eB0WDxnApQR0uocPGcC9h7GWTA8ZwC8qDxzhDhnARkuVgzQOGcADK/5KQg0ZwKLK8a+KDBnAaEDZlCsMGcDonGCkvAsZwCv6X65FCxnAPdU9srkKGcBPm0MIfgoZwDa2TrdHChnA+5/OyxcKGcD+iNbl7wkZwDL0/wXdCRnAm0TZW8oJGcA2+u3rwAkZwDb67evACRnANvrt68AJGcC3m0aktwkZwDk9n1yuCRnAut73FKUJGcA8gFDNmwkZwLlkcf+RCRnAPoNHwI0JGcCm0CkjiQkZwA4eDIaECRnAdmvu6H8JGcDjdQjSewkZwEuJHp1fCRnAjDrZFxoJGcDO65OS1AgZwHyKgip/CBnAKilxwikIGcCE7ucU5AcZwLLWpUboBxnAg3xvHS0IGcBaNiPelQgZwL+CLoYXCRnAyTiKYqgJGcBSNpWgGgoZwPvNvpdnChnAyjbF46IKGcDjoTMfxgoZwCaYv0LmChnAWFek0wQLGcDHvl4GCAsZwOpmecMiCxnANXrUqTwLGcCCjS+QVgsZwJoVhJeFCxnAW6d6jbgLGcC8PDyVHQwZwKzb5Ka8DBnAXngOwGENGcA94wYy8Q0ZwLqAkTx8DhnANjD9AcUOGcAi1oG90w4ZwE5+hXHcDhnAjjRXFwEPGcCgHFpkOw8ZwMnbVf5rDxnAqT5AUp8PGcDWt3x/3g8ZwPLfIkECEBnA2MV4gx4QGcC47pY/OhAZwFIbO/JREBnAf+MbZVgQGcDnMP7HUxAZwOH8Nh8yEBnA3SgHswkQGcA4herm4g8ZwLUvP4HBDxnAD6kIgaYPGcD4d2bdmg8ZwGDFSECWDxnA7RLPfkkPGcDevCHoww4ZwGJcWmhCDhnAERgvzPgNGcBOFMDeDg4ZwJU4JcVsDhnARg8bdikPGcDvmXrdIhAZwE5OQukLERnAWvK8Ct8RGcDzuQ0PBhMZwFrnbWx2FBnAEpDOClYWGcDo8iohDhgZwGaL+bmhGRnAerAaS1gbGcD6t2rosBwZwJ6FksmpHRnAB5z6QPIeGcDPdutGaSAZwL00mlyMIRnAgszZ8RUjGcDJjuIcdSQZwBtC6nb2JRnA6AjaiTcnGcCzWDp6VygZwJ53bpD/KBnA7iw7aYYpGcA0g17JnykZwFsFl9jGKRnAg3L3OT4qGcCI/5B++yoZwBiFHtbAKxnAtgmnYOgsGcDr5qMx/y0ZwHpRa/UwLxnAZVvHXSkwGcDKzMbvEjEZwJrmKPaGMRnA2e2+GesxGcAuUKc8ujEZwM9uOOJ/MRnAyu7D5ogxGcBXoxjFFzIZwHX1yZsNMxnAGXlkYqk0GcDqxN+bSzYZwGNJxEq7NxnAO+HVzSA5GcBjz/OnjToZwFZkyRzLOxnAwbf0Hh09GcBnBLpAkz4ZwA6OQu0SQBnAyv2trlRBGcDXj0cVakIZwC5pGhTNQxnAcAJhp1hFGcCW7YeO00YZwAcb0eIxSBnAe8iOModJGcDL3BuNjUoZwD3gWcwZSxnAHu+IrxtLGcA1b8+Y7koZwJBXGp2YShnAm4+v8yVKGcBYJYug1kkZwItW6CisSRnA\",\"dtype\":\"float64\",\"order\":\"little\",\"shape\":[228]},\"MF_vel\":{\"__ndarray__\":\"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\",\"dtype\":\"float64\",\"order\":\"little\",\"shape\":[228]},\"acc\":{\"__ndarray__\":\"AAAAAAAAAAAAAAAAAAAAAAAAAAAAAAAAAAAAAAAAAAAAAAAAAAAAAAAAAAAAAAAAAAAAAAAAAAAAAAAAAAAAAAAAAAAAAAAAAAAAAAAAAAAAAAAAAAAAAAAAAAAAAAAAAAAAAAAAAAClx2OEAue1P80jUb5eYd0/8aJrPfgv0z8DfRWSt/3BP11x7qz2wNk/J6VW72Z10z+P31jtaJjTP6UHf0TtyNA/txx8mmbT3j/RHGHkUnnhP1UltuE4+eE/8D4WlXX/xz9H7sGLsQ7QP9GiMEmz8to/PTGQNYY10z+nnrA9o5jTP+e+0Ol9DLk/yGvmH9c1yD/qn9NRKpXjP/AYIMOfW8o/bEM9PrNL0j+QXDUaN/zQP43zR/7BAMk/JbVk8jX+sD+3+MzGF1TdP9ygRlcU+9w/MW6JfCtM2D/D6ojPKDTQP0w/m0d70a8/663Zu4wX2j+6OVzOSkLgP4AyLWwTCdo/APDhIcKK2T8AAAAAAAAAAJdl/+2d9Mo/9ZT4TvHExj/uEY1TI5bJP3mq9GniQrM/xBHJJkmfsj8AAAAAAAAAAAAAAAAAAAAATxuD6sNzlD+Yzf2CyNzJP7D0lfUhUbI/AAAAAAAAAAAYvMUNZaqCP0Ju7KgHy4Q/Bf4rNPe5zz8sVBIpDaPEP+JciqDwEMc/tfdstf7V4j+8wk/ZpMzcPxJn6OdTlsw/kFW5INlCjj/32TUIJO3BP5SBKzfJX5k/AAAAAAAAAAAAAAAAAAAAAAAAAAAAAAAAeO4B6m/Htj/69fifsNG1P4McJmwe1ag/4HANEtXmxz8AAAAAAAAAAEv6u1esFNo/YwZfr1r+zj/iNb/+Y+LWPy+2zpyOL9w/1sF0m/x33z/EPiEwhgXXPwAAAAAAAAAAAAAAAAAAAAAAAAAAAAAAAJsVBa6vAsE/GBktQcxgwD9o6qOflUzMP4K7ZgJHSbk/thdro47myD+2RJSQBetwP6ORlQUVebo/2ESRx8GWsz8AAAAAAAAAAAAAAAAAAAAAAAAAAAAAAAAAAAAAAAAAAAAAAAAAAAAAAAAAAAAAAAAEs7v3FYi4PwAAAAAAAAAAAAAAAAAAAAAAAAAAAAAAAGpLcjjGxII//mnpmV+nrT9q/D3VH0V3PwAAAAAAAAAAAAAAAAAAAAAAAAAAAAAAAPRiYZD0KtY/V8IWYpJSzT8AAAAAAAAAACAWeCimhME/AAAAAAAAAABsr37i0+bAP/CGLryrBsI/kDGZcHT80z/APa5r7tW9Pyw4UmP+iLU/0r1ASn8MgT8gX2+tv+hwP37DarZafME/DXUfaq+wfj/i5/A55aZnPwAAAAAAAAAAAAAAAAAAAAAAAAAAAAAAAKS52o8ZgeU/AAAAAAAAAAAAAAAAAAAAAKF9zgHZOK8/7DN3rAqzjz+POCzAgRTMP1LIV3fDocc/QkQt17FXyj+lFYVtH2C0P/YdlGc2Ha4/X+lSweaaxj8AAAAAAAAAAAAAAAAAAAAA4SoXTDjtxj9wm0lSMW/JPwAAAAAAAAAAQ8EljPVRsj+7Y7Al+h/PPwAAAAAAAAAAHrmrQwim0j/4V7wDqK3JP+r1SWIjO5A/9usok5M9sz83yCdxRE/GP+XL2EBIwNQ/jampiY7K2T9yU1nAJDS6PwAAAAAAAAAAMhZ6mWf4wj8AAAAAAAAAAFxvXcLpjHI/J7unczu6yj8oPp0bORbNP9XSHbl9hb0/fADtn4KQxz9pdtRoXJvVPwAAAAAAAAAA00hItbINvD/aqBDT0oHIPyniNyL5Pb0/uGl6can3zT+ZgzI/7fTSP09kOW0/0dY/K12TWTrmsz8AAAAAAAAAAM2Aw3FsIL0/GOIffuqn2T95Mcs/mBCzP8bDngPRhcw/x9R92PCOzj/WjoTQ1DXWP3CxNgdFfr4/hSlJran32T8niQAyJ4W4P7yJ2KiO6Ng/pr3VsyM0tj8QxjrXBLt/PwAAAAAAAAAAAAAAAAAAAADe/NvSr5iTP3re76H5Z78/NDXjT6tw3D9kdpsTcq/VPzYyhUjLY5k/9f0+iFtQ1D+Ib4RDrmesP2BdsHmveNo/UCFODQENyD9N1avr7xi8P3hvyKWbUNM/YGBm9rylnz/UhjNCsZ/DP3BEmONoWcQ/DRM4LxxXyz88FVp0xBvZPx82OPGO2dM/7XvYz8rB2T/eAc/Ow7nCP24RP03BQ8A/Ln7JO7591D8ySf/ktdjbPwmm7Vc6BM0/uF4T84P2uD93I7W0J8bBPy9+4s/cRNU/ImintQPTzT+KBEO8UYDEP/gICBdpldg/8sxb+3eK2D/a2JB24pfQP4HuARMrkrU/+Y1cpi9JwD+aFPmJczrAP3ZabR+FdtQ/USQPSf/i0j+/mduzhWjNP5ZKVYL3zr4/AAAAAAAAAAAAAAAAAAAAAAAAAAAAAAAA\",\"dtype\":\"float64\",\"order\":\"little\",\"shape\":[228]},\"block_id\":[12206,12206,12206,12206,12206,12206,12206,12206,12206,12206,12206,12206,12206,12206,12206,12206,12206,12206,12206,12206,12206,12206,12206,12206,12206,12206,12206,12206,12206,12206,12206,12206,12206,12206,12206,12206,12206,12206,12206,12206,12206,12206,12206,12206,12206,12206,12206,12206,12206,12206,12206,12206,12206,12206,12206,12206,12206,12206,12206,12206,12206,12206,12206,12206,12206,12206,12206,12206,12206,12206,12206,12206,12206,12206,12206,12206,12206,12206,12206,12206,12206,12206,12206,12206,12206,12206,12206,12206,12206,12206,12206,12206,12206,12206,12206,12206,12206,12206,12206,12206,12206,12206,12206,12206,12206,12206,12206,12206,12206,12206,12206,12206,12206,12206,12206,12206,12206,12206,12206,12206,12206,12206,12206,12206,12206,12206,12206,12206,12206,12206,12206,12206,12206,12206,12206,12206,12206,12206,12206,12206,12206,12206,12206,12206,12206,12206,12206,12206,12206,12206,12206,12206,12206,12206,12206,12206,12206,12206,12206,12206,12206,12206,12206,12206,12206,12206,12206,12206,12206,12206,12206,12206,12206,12206,12206,12206,12206,12206,12206,12206,12206,12206,12206,12206,12206,12206,12206,12206,12206,12206,12206,12206,12206,12206,12206,12206,12206,12206,12206,12206,12206,12206,12206,12206,12206,12206,12206,12206,12206,12206,12206,12206,12206,12206,12206,12206,12206,12206,12206,12206,12206,12206,12206,12206,12206,12206,12206,12206],\"congestion\":[false,false,false,false,false,false,false,false,false,false,false,false,false,false,false,false,false,false,false,false,false,false,false,false,false,false,false,false,false,false,false,false,false,false,false,false,false,false,false,false,false,false,false,false,false,false,false,false,false,false,false,false,false,false,false,false,false,false,false,false,false,false,false,false,false,false,false,false,false,false,false,false,false,false,false,false,false,false,false,false,false,false,false,false,false,false,false,false,false,false,false,false,false,false,false,false,false,false,false,false,false,false,false,false,false,false,false,false,false,true,false,false,false,false,false,false,false,false,false,false,false,false,false,false,false,false,false,false,false,false,false,false,false,false,false,false,false,false,false,false,false,false,false,false,false,false,false,false,false,false,false,false,false,false,false,false,false,false,false,false,false,false,false,false,false,false,false,false,false,false,false,false,false,false,false,false,false,false,false,false,false,false,false,false,false,false,false,false,false,false,false,false,false,false,false,false,false,false,false,false,false,false,false,false,false,false,false,false,false,false,false,false,false,false,false,false,false,false,false,false,false,false,false,false,false,false,false,false],\"datetime\":{\"__ndarray__\":\"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\",\"dtype\":\"float64\",\"order\":\"little\",\"shape\":[228]},\"day\":[11,11,11,11,11,11,11,11,11,11,11,11,11,11,11,11,11,11,11,11,11,11,11,11,11,11,11,11,11,11,11,11,11,11,11,11,11,11,11,11,11,11,11,11,11,11,11,11,11,11,11,11,11,11,11,11,11,11,11,11,11,11,11,11,11,11,11,11,11,11,11,11,11,11,11,11,11,11,11,11,11,11,11,11,11,11,11,11,11,11,11,11,11,11,11,11,11,11,11,11,11,11,11,11,11,11,11,11,11,11,11,11,11,11,11,11,11,11,11,11,11,11,11,11,11,11,11,11,11,11,11,11,11,11,11,11,11,11,11,11,11,11,11,11,11,11,11,11,11,11,11,11,11,11,11,11,11,11,11,11,11,11,11,11,11,11,11,11,11,11,11,11,11,11,11,11,11,11,11,11,11,11,11,11,11,11,11,11,11,11,11,11,11,11,11,11,11,11,11,11,11,11,11,11,11,11,11,11,11,11,11,11,11,11,11,11,11,11,11,11,11,11,11,11,11,11,11,11],\"delay\":[0,0,0,0,0,0,0,0,0,0,0,0,1,20,20,20,20,20,20,38,38,-20,-78,-112,-112,-145,-165,-184,-205,-205,-205,-249,-249,-249,-249,-249,-229,-229,-229,-229,-229,-229,-229,-255,-272,-272,-272,-272,-272,-272,-251,-251,-218,-218,-176,-176,-176,-141,-122,-103,-103,-103,-103,-145,-167,-167,-167,-149,-131,-112,-92,-72,-72,-49,-49,-49,-26,-44,-44,-44,-61,-125,-154,-134,-114,-94,-182,-206,-233,-233,-278,-258,-258,-274,-254,-234,-214,-194,-174,-154,-154,-130,-110,-90,-71,-71,-38,-18,1,21,5,5,5,26,46,46,46,46,46,46,67,87,87,114,134,154,174,194,194,223,243,243,273,273,256,256,256,256,256,285,305,276,246,266,266,225,245,217,217,217,217,217,198,159,159,185,185,211,231,231,231,231,231,231,231,250,250,250,250,250,250,250,268,268,268,268,268,268,268,268,170,170,50,50,77,97,117,137,153,153,175,194,194,223,223,247,264,264,294,319,334,334,356,356,376,392,408,408,428,428,459,474,474,499,499,499,499,499,499,524,524,524,524,524,544,544,544,544],\"dist_from_old_point\":[0,0,0,0,0,0,0,0,0,0,0,0,0,0,0,0,0,0,0,0,0,0,0,0,0,0,0,0,0,0,0,0,0,0,0,0,0,0,0,0,0,0,0,0,0,0,0,0,0,0,0,0,0,0,0,0,0,0,0,0,0,0,0,0,0,0,0,0,0,0,0,0,0,0,0,0,0,0,0,0,0,0,0,0,0,0,0,0,0,0,0,0,0,0,0,0,0,0,0,0,0,0,0,0,0,0,0,0,0,0,0,0,0,0,0,0,0,0,0,0,0,0,0,0,0,0,0,0,0,0,0,0,0,0,0,0,0,0,0,0,0,0,0,0,0,0,0,0,0,0,0,0,0,0,0,0,0,0,0,0,0,0,0,0,0,0,0,0,0,0,0,0,0,0,0,0,0,0,0,0,0,0,0,0,0,0,0,0,0,0,0,0,0,0,0,0,0,0,0,0,0,0,0,0,0,0,0,0,0,0,0,0,0,0,0,0,0,0,0,0,0,0,0,0,0,0,0,0],\"hour\":[17,17,17,17,17,17,17,17,17,17,17,17,17,17,17,17,17,17,17,17,17,17,17,17,17,17,17,17,17,17,17,17,17,17,17,17,17,17,17,17,17,17,17,17,17,17,17,17,17,17,17,17,17,17,17,17,17,17,17,17,17,17,17,17,17,17,17,17,17,17,17,17,17,17,17,17,17,17,17,17,17,17,17,17,17,17,17,17,17,17,17,17,17,17,17,17,17,17,17,17,17,18,18,18,18,18,18,18,18,18,18,18,18,18,18,18,18,18,18,18,18,18,18,18,18,18,18,18,18,18,18,18,18,18,18,18,18,18,18,18,18,18,18,18,18,18,18,18,18,18,18,18,18,18,18,18,18,18,18,18,18,18,18,18,18,18,18,18,18,18,18,18,18,18,18,18,18,18,18,18,18,18,18,18,18,18,18,18,18,18,18,18,18,18,18,18,18,18,18,18,18,18,18,18,18,18,18,18,18,18,18,18,18,18,18,18,18,18,18,18,18,18,18,18,18,18,18,18],\"index\":[1210849,1211621,1212297,1213200,1213719,1214595,1215288,1215853,1216868,1217439,1218169,1218852,1219810,1220245,1221090,1221783,1222460,1223260,1223917,1224664,1225376,1226234,1226989,1227627,1228211,1228946,1229879,1230572,1231220,1231989,1232879,1233368,1234164,1234850,1235569,1236503,1237216,1237768,1238622,1239258,1239993,1240824,1241548,1242261,1243108,1243798,1244267,1245356,1245858,1246513,1247291,1247986,1248754,1249846,1250354,1251099,1251867,1252524,1253261,1254048,1254698,1255442,1256433,1256948,1257627,1258526,1259218,1259759,1260674,1261342,1262049,1262781,1263440,1264153,1264964,1265894,1266260,1267022,1267788,1268570,1269333,1269926,1270671,1271459,1272322,1272866,1274354,1275009,1275891,1276458,1277331,1277911,1278682,1279520,1280142,1280788,1281491,1282426,1283031,1283657,1284443,1285126,1285816,1286730,1287359,1287955,1288702,1289400,1290026,1291006,1291693,1292375,1293311,1293849,1294417,1295216,1295583,1296518,1297249,1298047,1298603,1299450,1300050,1300719,1301568,1302308,1302935,1303588,1304065,1304792,1305558,1306240,1307009,1307750,1308412,1309052,1309858,1310567,1311260,1312030,1312720,1313439,1314280,1314943,1315575,1316414,1317109,1317817,1318541,1319223,1319932,1320744,1321368,1322083,1322801,1323485,1324228,1325006,1325697,1326346,1327186,1327776,1328476,1329223,1329887,1330618,1331450,1332105,1332810,1333437,1334124,1335929,1336638,1337411,1338077,1338644,1339396,1340088,1340712,1341341,1342138,1342756,1343498,1344181,1344816,1345579,1346246,1346904,1347681,1348279,1348935,1349569,1350287,1350878,1351471,1352197,1352845,1353558,1354232,1355493,1356241,1356868,1357527,1358245,1358879,1359522,1360243,1360877,1361476,1362202,1362849,1363555,1364286,1364820,1365465,1366207,1366786,1367541,1368094,1368699,1369316,1370037,1370703,1371377,1371993,1373230,1374512,1375133],\"journey_id\":[\"01220001\",\"01220001\",\"01220001\",\"01220001\",\"01220001\",\"01220001\",\"01220001\",\"01220001\",\"01220001\",\"01220001\",\"01220001\",\"01220001\",\"01220001\",\"01220001\",\"01220001\",\"01220001\",\"01220001\",\"01220001\",\"01220001\",\"01220001\",\"01220001\",\"01220001\",\"01220001\",\"01220001\",\"01220001\",\"01220001\",\"01220001\",\"01220001\",\"01220001\",\"01220001\",\"01220001\",\"01220001\",\"01220001\",\"01220001\",\"01220001\",\"01220001\",\"01220001\",\"01220001\",\"01220001\",\"01220001\",\"01220001\",\"01220001\",\"01220001\",\"01220001\",\"01220001\",\"01220001\",\"01220001\",\"01220001\",\"01220001\",\"01220001\",\"01220001\",\"01220001\",\"01220001\",\"01220001\",\"01220001\",\"01220001\",\"01220001\",\"01220001\",\"01220001\",\"01220001\",\"01220001\",\"01220001\",\"01220001\",\"01220001\",\"01220001\",\"01220001\",\"01220001\",\"01220001\",\"01220001\",\"01220001\",\"01220001\",\"01220001\",\"01220001\",\"01220001\",\"01220001\",\"01220001\",\"01220001\",\"01220001\",\"01220001\",\"01220001\",\"01220001\",\"01220001\",\"01220001\",\"01220001\",\"01220001\",\"01220001\",\"01220001\",\"01220001\",\"01220001\",\"01220001\",\"01220001\",\"01220001\",\"01220001\",\"01220001\",\"01220001\",\"01220001\",\"01220001\",\"01220001\",\"01220001\",\"01220001\",\"01220001\",\"01220001\",\"01220001\",\"01220001\",\"01220001\",\"01220001\",\"01220001\",\"01220001\",\"01220001\",\"01220001\",\"01220001\",\"01220001\",\"01220001\",\"01220001\",\"01220001\",\"01220001\",\"01220001\",\"01220001\",\"01220001\",\"01220001\",\"01220001\",\"01220001\",\"01220001\",\"01220001\",\"01220001\",\"01220001\",\"01220001\",\"01220001\",\"01220001\",\"01220001\",\"01220001\",\"01220001\",\"01220001\",\"01220001\",\"01220001\",\"01220001\",\"01220001\",\"01220001\",\"01220001\",\"01220001\",\"01220001\",\"01220001\",\"01220001\",\"01220001\",\"01220001\",\"01220001\",\"01220001\",\"01220001\",\"01220001\",\"01220001\",\"01220001\",\"01220001\",\"01220001\",\"01220001\",\"01220001\",\"01220001\",\"01220001\",\"01220001\",\"01220001\",\"01220001\",\"01220001\",\"01220001\",\"01220001\",\"01220001\",\"01220001\",\"01220001\",\"01220001\",\"01220001\",\"01220001\",\"01220001\",\"01220001\",\"01220001\",\"01220001\",\"01220001\",\"01220001\",\"01220001\",\"01220001\",\"01220001\",\"01220001\",\"01220001\",\"01220001\",\"01220001\",\"01220001\",\"01220001\",\"01220001\",\"01220001\",\"01220001\",\"01220001\",\"01220001\",\"01220001\",\"01220001\",\"01220001\",\"01220001\",\"01220001\",\"01220001\",\"01220001\",\"01220001\",\"01220001\",\"01220001\",\"01220001\",\"01220001\",\"01220001\",\"01220001\",\"01220001\",\"01220001\",\"01220001\",\"01220001\",\"01220001\",\"01220001\",\"01220001\",\"01220001\",\"01220001\",\"01220001\",\"01220001\",\"01220001\",\"01220001\",\"01220001\",\"01220001\",\"01220001\",\"01220001\",\"01220001\",\"01220001\",\"01220001\",\"01220001\",\"01220001\",\"01220001\",\"01220001\",\"01220001\"],\"lat\":{\"__ndarray__\":\"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\",\"dtype\":\"float64\",\"order\":\"little\",\"shape\":[228]},\"lat_m\":{\"__ndarray__\":\"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\",\"dtype\":\"float64\",\"order\":\"little\",\"shape\":[228]},\"line_id\":[\"122.0\",\"122.0\",\"122.0\",\"122.0\",\"122.0\",\"122.0\",\"122.0\",\"122.0\",\"122.0\",\"122.0\",\"122.0\",\"122.0\",\"122.0\",\"122.0\",\"122.0\",\"122.0\",\"122.0\",\"122.0\",\"122.0\",\"122.0\",\"122.0\",\"122.0\",\"122.0\",\"122.0\",\"122.0\",\"122.0\",\"122.0\",\"122.0\",\"122.0\",\"122.0\",\"122.0\",\"122.0\",\"122.0\",\"122.0\",\"122.0\",\"122.0\",\"122.0\",\"122.0\",\"122.0\",\"122.0\",\"122.0\",\"122.0\",\"122.0\",\"122.0\",\"122.0\",\"122.0\",\"122.0\",\"122.0\",\"122.0\",\"122.0\",\"122.0\",\"122.0\",\"122.0\",\"122.0\",\"122.0\",\"122.0\",\"122.0\",\"122.0\",\"122.0\",\"122.0\",\"122.0\",\"122.0\",\"122.0\",\"122.0\",\"122.0\",\"122.0\",\"122.0\",\"122.0\",\"122.0\",\"122.0\",\"122.0\",\"122.0\",\"122.0\",\"122.0\",\"122.0\",\"122.0\",\"122.0\",\"122.0\",\"122.0\",\"122.0\",\"122.0\",\"122.0\",\"122.0\",\"122.0\",\"122.0\",\"122.0\",\"122.0\",\"122.0\",\"122.0\",\"122.0\",\"122.0\",\"122.0\",\"122.0\",\"122.0\",\"122.0\",\"122.0\",\"122.0\",\"122.0\",\"122.0\",\"122.0\",\"122.0\",\"122.0\",\"122.0\",\"122.0\",\"122.0\",\"122.0\",\"122.0\",\"122.0\",\"122.0\",\"122.0\",\"122.0\",\"122.0\",\"122.0\",\"122.0\",\"122.0\",\"122.0\",\"122.0\",\"122.0\",\"122.0\",\"122.0\",\"122.0\",\"122.0\",\"122.0\",\"122.0\",\"122.0\",\"122.0\",\"122.0\",\"122.0\",\"122.0\",\"122.0\",\"122.0\",\"122.0\",\"122.0\",\"122.0\",\"122.0\",\"122.0\",\"122.0\",\"122.0\",\"122.0\",\"122.0\",\"122.0\",\"122.0\",\"122.0\",\"122.0\",\"122.0\",\"122.0\",\"122.0\",\"122.0\",\"122.0\",\"122.0\",\"122.0\",\"122.0\",\"122.0\",\"122.0\",\"122.0\",\"122.0\",\"122.0\",\"122.0\",\"122.0\",\"122.0\",\"122.0\",\"122.0\",\"122.0\",\"122.0\",\"122.0\",\"122.0\",\"122.0\",\"122.0\",\"122.0\",\"122.0\",\"122.0\",\"122.0\",\"122.0\",\"122.0\",\"122.0\",\"122.0\",\"122.0\",\"122.0\",\"122.0\",\"122.0\",\"122.0\",\"122.0\",\"122.0\",\"122.0\",\"122.0\",\"122.0\",\"122.0\",\"122.0\",\"122.0\",\"122.0\",\"122.0\",\"122.0\",\"122.0\",\"122.0\",\"122.0\",\"122.0\",\"122.0\",\"122.0\",\"122.0\",\"122.0\",\"122.0\",\"122.0\",\"122.0\",\"122.0\",\"122.0\",\"122.0\",\"122.0\",\"122.0\",\"122.0\",\"122.0\",\"122.0\",\"122.0\",\"122.0\",\"122.0\",\"122.0\",\"122.0\",\"122.0\",\"122.0\",\"122.0\",\"122.0\",\"122.0\",\"122.0\",\"122.0\",\"122.0\",\"122.0\",\"122.0\",\"122.0\",\"122.0\"],\"lng\":{\"__ndarray__\":\"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\",\"dtype\":\"float64\",\"order\":\"little\",\"shape\":[228]},\"lng_m\":{\"__ndarray__\":\"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\",\"dtype\":\"float64\",\"order\":\"little\",\"shape\":[228]},\"operator\":[\"PO\",\"PO\",\"PO\",\"PO\",\"PO\",\"PO\",\"PO\",\"PO\",\"PO\",\"PO\",\"PO\",\"PO\",\"PO\",\"PO\",\"PO\",\"PO\",\"PO\",\"PO\",\"PO\",\"PO\",\"PO\",\"PO\",\"PO\",\"PO\",\"PO\",\"PO\",\"PO\",\"PO\",\"PO\",\"PO\",\"PO\",\"PO\",\"PO\",\"PO\",\"PO\",\"PO\",\"PO\",\"PO\",\"PO\",\"PO\",\"PO\",\"PO\",\"PO\",\"PO\",\"PO\",\"PO\",\"PO\",\"PO\",\"PO\",\"PO\",\"PO\",\"PO\",\"PO\",\"PO\",\"PO\",\"PO\",\"PO\",\"PO\",\"PO\",\"PO\",\"PO\",\"PO\",\"PO\",\"PO\",\"PO\",\"PO\",\"PO\",\"PO\",\"PO\",\"PO\",\"PO\",\"PO\",\"PO\",\"PO\",\"PO\",\"PO\",\"PO\",\"PO\",\"PO\",\"PO\",\"PO\",\"PO\",\"PO\",\"PO\",\"PO\",\"PO\",\"PO\",\"PO\",\"PO\",\"PO\",\"PO\",\"PO\",\"PO\",\"PO\",\"PO\",\"PO\",\"PO\",\"PO\",\"PO\",\"PO\",\"PO\",\"PO\",\"PO\",\"PO\",\"PO\",\"PO\",\"PO\",\"PO\",\"PO\",\"PO\",\"PO\",\"PO\",\"PO\",\"PO\",\"PO\",\"PO\",\"PO\",\"PO\",\"PO\",\"PO\",\"PO\",\"PO\",\"PO\",\"PO\",\"PO\",\"PO\",\"PO\",\"PO\",\"PO\",\"PO\",\"PO\",\"PO\",\"PO\",\"PO\",\"PO\",\"PO\",\"PO\",\"PO\",\"PO\",\"PO\",\"PO\",\"PO\",\"PO\",\"PO\",\"PO\",\"PO\",\"PO\",\"PO\",\"PO\",\"PO\",\"PO\",\"PO\",\"PO\",\"PO\",\"PO\",\"PO\",\"PO\",\"PO\",\"PO\",\"PO\",\"PO\",\"PO\",\"PO\",\"PO\",\"PO\",\"PO\",\"PO\",\"PO\",\"PO\",\"PO\",\"PO\",\"PO\",\"PO\",\"PO\",\"PO\",\"PO\",\"PO\",\"PO\",\"PO\",\"PO\",\"PO\",\"PO\",\"PO\",\"PO\",\"PO\",\"PO\",\"PO\",\"PO\",\"PO\",\"PO\",\"PO\",\"PO\",\"PO\",\"PO\",\"PO\",\"PO\",\"PO\",\"PO\",\"PO\",\"PO\",\"PO\",\"PO\",\"PO\",\"PO\",\"PO\",\"PO\",\"PO\",\"PO\",\"PO\",\"PO\",\"PO\",\"PO\",\"PO\",\"PO\",\"PO\",\"PO\",\"PO\",\"PO\",\"PO\",\"PO\",\"PO\",\"PO\",\"PO\",\"PO\",\"PO\",\"PO\",\"PO\",\"PO\"],\"outlier\":[1,1,1,1,1,1,1,1,1,1,1,1,1,1,1,1,1,1,1,1,1,1,-1,-1,1,1,1,1,1,1,1,-1,1,1,1,1,1,1,1,1,1,1,1,1,1,1,1,1,1,1,1,1,1,1,1,1,1,1,1,1,1,1,1,-1,1,1,1,1,1,1,1,1,1,1,1,1,1,1,1,1,1,1,1,1,1,1,1,1,1,1,1,1,1,1,1,1,1,1,1,1,1,1,1,1,1,1,1,1,1,1,1,1,1,1,1,1,1,1,1,1,1,1,1,1,1,1,1,1,-1,1,1,1,1,1,1,1,1,1,1,1,1,1,1,1,1,1,1,1,1,1,1,1,1,1,1,1,1,1,1,1,1,1,1,1,1,1,1,1,1,1,1,1,1,1,1,1,1,1,1,1,1,1,1,1,1,1,1,1,1,1,1,1,1,1,1,1,1,1,1,1,1,1,1,1,1,1,1,1,1,1,1,1,1,1,1,1,1,1,1,1,1,1,1,1,1,1,1,1],\"outlier2\":[1,1,1,1,1,1,1,1,1,1,1,1,1,-1,1,1,-1,1,1,1,1,-1,1,1,1,-1,1,1,1,1,1,1,1,1,1,1,1,1,1,1,1,1,1,1,1,1,1,-1,1,-1,1,1,1,1,1,-1,-1,1,1,1,1,1,-1,1,1,1,1,1,1,1,1,1,1,1,1,-1,1,1,1,-1,1,1,1,1,1,1,1,-1,1,1,-1,-1,1,-1,1,1,1,1,1,1,-1,1,1,1,1,1,-1,1,1,1,1,1,1,-1,1,-1,1,1,1,1,1,1,-1,1,-1,1,1,1,-1,1,1,1,1,1,1,1,1,1,1,1,1,1,1,1,1,-1,1,1,1,1,1,1,1,1,1,1,1,1,1,1,1,1,1,1,1,1,1,1,1,1,1,1,1,1,1,1,1,1,1,1,1,1,1,1,1,1,1,1,1,1,1,1,1,1,1,1,1,1,1,1,1,1,1,1,1,1,1,1,1,1,1,1,-1,1,1,1,1,-1,1,1,1,1,1,1,1,1,1,1],\"outlier2_norm\":[1,1,1,1,1,1,1,1,1,1,1,1,1,-1,1,1,1,1,-1,1,1,1,1,-1,1,1,-1,1,1,-1,1,-1,1,1,1,1,1,1,1,1,1,1,1,-1,1,1,1,-1,1,-1,1,1,1,1,1,-1,1,1,1,1,1,1,-1,1,1,-1,1,1,1,1,1,1,1,-1,-1,-1,1,1,1,-1,1,1,1,1,1,1,1,1,1,1,1,-1,1,-1,1,1,1,1,1,1,-1,1,1,1,1,1,-1,1,1,1,1,1,1,-1,1,-1,1,1,-1,1,1,1,-1,1,-1,1,1,1,-1,1,1,1,1,1,1,1,1,1,1,1,1,1,1,1,1,-1,1,1,1,1,1,1,1,1,-1,1,1,1,-1,1,1,1,1,1,1,1,1,1,1,1,1,-1,1,1,1,1,1,1,1,1,1,1,1,1,1,1,1,1,-1,1,1,1,1,1,1,1,1,1,1,1,1,1,1,1,1,1,1,1,1,1,1,1,-1,1,1,1,1,1,1,1,1,1,1,1,1,1,1,1],\"outlier_0\":[-1,1,1,1,1,1,1,1,1,1,1,1,1,1,1,1,1,1,1,1,1,-1,1,1,1,-1,1,1,1,1,1,1,1,1,1,1,1,1,1,1,1,1,1,1,1,1,1,-1,1,1,1,1,1,-1,1,1,-1,1,1,1,1,1,1,1,1,1,1,1,1,1,1,1,1,1,1,-1,1,1,1,1,1,1,1,1,1,1,-1,1,1,1,1,1,1,-1,1,1,1,1,1,1,1,1,1,1,1,1,1,1,1,1,1,1,1,-1,1,-1,1,1,1,1,1,1,1,1,1,1,1,-1,-1,1,1,1,1,1,1,1,1,1,1,1,1,1,1,1,1,1,1,1,1,1,1,1,1,1,1,1,1,1,1,1,1,1,1,1,1,1,1,1,1,1,1,-1,1,1,1,1,1,1,1,1,1,1,1,1,1,1,1,1,1,1,1,1,1,1,1,1,1,1,1,-1,1,1,1,1,1,1,1,1,1,1,1,1,1,1,1,1,1,1,1,1,1,1,1,1,1,-1,-1,1],\"outlier_MF\":[1,-1,-1,-1,-1,1,1,1,1,1,1,1,1,1,1,1,1,1,1,1,1,1,1,1,1,1,1,1,1,1,1,1,1,1,1,1,1,1,1,1,1,1,1,1,1,1,-1,1,1,1,1,1,1,1,1,1,1,1,1,1,1,1,1,1,1,1,1,1,1,1,1,1,1,1,1,1,1,1,1,1,1,1,1,1,1,1,1,1,1,1,1,1,1,1,1,1,1,1,1,1,1,1,1,1,1,1,1,1,1,1,1,1,1,1,1,1,1,1,1,1,1,1,1,1,1,1,1,1,1,1,1,1,1,1,1,1,1,1,1,1,1,1,1,1,1,1,1,1,1,1,1,1,1,1,1,1,1,1,1,1,1,1,1,1,1,1,1,1,1,1,1,1,1,1,1,1,1,1,1,1,1,1,1,1,1,1,1,1,1,1,1,1,1,1,1,1,1,1,1,1,1,1,1,1,1,1,1,1,1,1,1,1,1,1,1,1,1,1,1,1,1,1,1,1,1,1,1,1],\"outlier_norm\":[1,1,1,1,1,1,1,1,1,1,1,1,1,1,1,1,1,1,1,1,1,1,-1,-1,1,1,1,1,1,1,1,-1,1,1,1,1,1,1,1,1,1,1,1,1,1,1,1,1,1,1,1,1,1,1,1,1,1,1,1,1,1,1,1,-1,1,1,1,1,1,1,1,1,1,1,1,1,1,1,1,1,1,1,1,1,1,1,1,1,1,1,1,1,1,1,1,1,1,1,1,1,1,1,1,1,1,1,1,1,1,1,1,1,1,1,1,1,1,1,1,1,1,1,1,1,1,1,1,1,-1,1,1,1,1,1,1,1,1,1,1,1,1,1,1,1,1,1,1,1,1,1,1,1,1,1,1,1,1,1,1,1,1,1,1,1,1,1,1,1,1,1,1,1,1,1,1,1,1,1,1,1,1,1,1,1,1,1,1,1,1,1,1,1,1,1,1,1,1,1,1,1,1,1,1,1,1,1,1,1,1,1,1,1,1,1,1,1,1,1,1,1,1,1,1,1,1,1,1,1],\"stop\":[true,true,true,true,true,true,true,true,true,true,true,true,true,false,false,false,false,false,false,false,false,false,false,false,false,false,false,false,false,false,false,false,true,false,false,true,false,false,false,false,false,false,false,false,false,true,true,false,false,false,false,false,false,false,false,false,false,false,false,false,false,true,false,false,false,false,false,false,false,false,false,false,false,false,false,true,true,false,false,false,false,false,true,true,true,true,false,false,false,false,false,false,false,true,true,true,true,true,true,true,false,false,false,false,false,false,false,false,false,false,false,true,true,false,false,false,false,false,false,false,false,false,false,false,false,false,false,false,true,true,true,false,false,false,false,false,false,false,true,true,true,false,false,false,false,true,true,false,false,false,false,false,false,false,true,true,false,false,false,false,false,false,false,true,true,false,false,false,true,false,false,true,true,false,false,true,false,false,false,true,false,false,false,false,false,false,false,false,false,false,false,false,false,false,false,false,false,false,false,true,false,false,false,false,false,true,false,false,false,false,true,false,false,true,false,false,false,false,true,false,false,false,false,false,false,false,false,false],\"stop_id\":[4525.0,4525.0,4525.0,4525.0,4525.0,4525.0,4525.0,4525.0,4525.0,4525.0,4525.0,4525.0,4525.0,4525.0,4525.0,4525.0,4526.0,4526.0,4526.0,4526.0,4526.0,1700.0,1701.0,1702.0,1702.0,1702.0,16.0,16.0,16.0,73.0,73.0,73.0,74.0,74.0,74.0,4371.0,4371.0,4371.0,832.0,832.0,833.0,833.0,833.0,77.0,78.0,79.0,79.0,79.0,79.0,79.0,79.0,80.0,80.0,80.0,80.0,80.0,80.0,80.0,80.0,80.0,80.0,82.0,82.0,82.0,83.0,84.0,84.0,84.0,84.0,84.0,84.0,84.0,84.0,84.0,84.0,50.0,50.0,51.0,51.0,52.0,52.0,52.0,263.0,263.0,263.0,263.0,263.0,263.0,263.0,263.0,263.0,263.0,263.0,271.0,271.0,271.0,271.0,271.0,271.0,271.0,271.0,271.0,271.0,271.0,271.0,271.0,271.0,271.0,271.0,271.0,271.0,335.0,335.0,335.0,335.0,335.0,335.0,335.0,335.0,335.0,335.0,335.0,335.0,335.0,335.0,335.0,335.0,335.0,1278.0,1278.0,1278.0,1278.0,1278.0,1278.0,1278.0,1278.0,1278.0,1278.0,1282.0,1282.0,1282.0,1282.0,1282.0,1282.0,1282.0,4456.0,4456.0,4456.0,4456.0,1284.0,1284.0,1284.0,1284.0,1284.0,1285.0,1285.0,1285.0,1285.0,1285.0,1285.0,1285.0,1285.0,1285.0,1286.0,1286.0,1286.0,1286.0,1286.0,1288.0,1288.0,1289.0,1360.0,1360.0,1360.0,1360.0,1362.0,1362.0,1362.0,1362.0,1363.0,1363.0,1364.0,1364.0,1365.0,1365.0,1365.0,1365.0,1365.0,1365.0,1365.0,1365.0,1366.0,1366.0,1367.0,1367.0,1367.0,7455.0,7455.0,7455.0,7438.0,7438.0,7438.0,1410.0,1410.0,1411.0,1412.0,1412.0,1412.0,1413.0,1413.0,1414.0,1414.0,1414.0,1415.0,1415.0,1415.0,1417.0,1417.0,1418.0,1418.0,1418.0,5149.0,1419.0,1419.0,1419.0,1419.0,1419.0,1419.0],\"time_frame\":[\"2013-01-11\",\"2013-01-11\",\"2013-01-11\",\"2013-01-11\",\"2013-01-11\",\"2013-01-11\",\"2013-01-11\",\"2013-01-11\",\"2013-01-11\",\"2013-01-11\",\"2013-01-11\",\"2013-01-11\",\"2013-01-11\",\"2013-01-11\",\"2013-01-11\",\"2013-01-11\",\"2013-01-11\",\"2013-01-11\",\"2013-01-11\",\"2013-01-11\",\"2013-01-11\",\"2013-01-11\",\"2013-01-11\",\"2013-01-11\",\"2013-01-11\",\"2013-01-11\",\"2013-01-11\",\"2013-01-11\",\"2013-01-11\",\"2013-01-11\",\"2013-01-11\",\"2013-01-11\",\"2013-01-11\",\"2013-01-11\",\"2013-01-11\",\"2013-01-11\",\"2013-01-11\",\"2013-01-11\",\"2013-01-11\",\"2013-01-11\",\"2013-01-11\",\"2013-01-11\",\"2013-01-11\",\"2013-01-11\",\"2013-01-11\",\"2013-01-11\",\"2013-01-11\",\"2013-01-11\",\"2013-01-11\",\"2013-01-11\",\"2013-01-11\",\"2013-01-11\",\"2013-01-11\",\"2013-01-11\",\"2013-01-11\",\"2013-01-11\",\"2013-01-11\",\"2013-01-11\",\"2013-01-11\",\"2013-01-11\",\"2013-01-11\",\"2013-01-11\",\"2013-01-11\",\"2013-01-11\",\"2013-01-11\",\"2013-01-11\",\"2013-01-11\",\"2013-01-11\",\"2013-01-11\",\"2013-01-11\",\"2013-01-11\",\"2013-01-11\",\"2013-01-11\",\"2013-01-11\",\"2013-01-11\",\"2013-01-11\",\"2013-01-11\",\"2013-01-11\",\"2013-01-11\",\"2013-01-11\",\"2013-01-11\",\"2013-01-11\",\"2013-01-11\",\"2013-01-11\",\"2013-01-11\",\"2013-01-11\",\"2013-01-11\",\"2013-01-11\",\"2013-01-11\",\"2013-01-11\",\"2013-01-11\",\"2013-01-11\",\"2013-01-11\",\"2013-01-11\",\"2013-01-11\",\"2013-01-11\",\"2013-01-11\",\"2013-01-11\",\"2013-01-11\",\"2013-01-11\",\"2013-01-11\",\"2013-01-11\",\"2013-01-11\",\"2013-01-11\",\"2013-01-11\",\"2013-01-11\",\"2013-01-11\",\"2013-01-11\",\"2013-01-11\",\"2013-01-11\",\"2013-01-11\",\"2013-01-11\",\"2013-01-11\",\"2013-01-11\",\"2013-01-11\",\"2013-01-11\",\"2013-01-11\",\"2013-01-11\",\"2013-01-11\",\"2013-01-11\",\"2013-01-11\",\"2013-01-11\",\"2013-01-11\",\"2013-01-11\",\"2013-01-11\",\"2013-01-11\",\"2013-01-11\",\"2013-01-11\",\"2013-01-11\",\"2013-01-11\",\"2013-01-11\",\"2013-01-11\",\"2013-01-11\",\"2013-01-11\",\"2013-01-11\",\"2013-01-11\",\"2013-01-11\",\"2013-01-11\",\"2013-01-11\",\"2013-01-11\",\"2013-01-11\",\"2013-01-11\",\"2013-01-11\",\"2013-01-11\",\"2013-01-11\",\"2013-01-11\",\"2013-01-11\",\"2013-01-11\",\"2013-01-11\",\"2013-01-11\",\"2013-01-11\",\"2013-01-11\",\"2013-01-11\",\"2013-01-11\",\"2013-01-11\",\"2013-01-11\",\"2013-01-11\",\"2013-01-11\",\"2013-01-11\",\"2013-01-11\",\"2013-01-11\",\"2013-01-11\",\"2013-01-11\",\"2013-01-11\",\"2013-01-11\",\"2013-01-11\",\"2013-01-11\",\"2013-01-11\",\"2013-01-11\",\"2013-01-11\",\"2013-01-11\",\"2013-01-11\",\"2013-01-11\",\"2013-01-11\",\"2013-01-11\",\"2013-01-11\",\"2013-01-11\",\"2013-01-11\",\"2013-01-11\",\"2013-01-11\",\"2013-01-11\",\"2013-01-11\",\"2013-01-11\",\"2013-01-11\",\"2013-01-11\",\"2013-01-11\",\"2013-01-11\",\"2013-01-11\",\"2013-01-11\",\"2013-01-11\",\"2013-01-11\",\"2013-01-11\",\"2013-01-11\",\"2013-01-11\",\"2013-01-11\",\"2013-01-11\",\"2013-01-11\",\"2013-01-11\",\"2013-01-11\",\"2013-01-11\",\"2013-01-11\",\"2013-01-11\",\"2013-01-11\",\"2013-01-11\",\"2013-01-11\",\"2013-01-11\",\"2013-01-11\",\"2013-01-11\",\"2013-01-11\",\"2013-01-11\",\"2013-01-11\",\"2013-01-11\",\"2013-01-11\",\"2013-01-11\",\"2013-01-11\",\"2013-01-11\",\"2013-01-11\",\"2013-01-11\",\"2013-01-11\",\"2013-01-11\",\"2013-01-11\",\"2013-01-11\",\"2013-01-11\",\"2013-01-11\",\"2013-01-11\",\"2013-01-11\",\"2013-01-11\",\"2013-01-11\"],\"time_from_old_point\":[0,22,17,25,15,23,21,15,24,17,22,19,24,15,21,21,18,20,22,18,19,23,21,17,19,24,17,20,19,22,21,17,20,21,20,21,21,20,18,19,19,22,19,22,21,20,16,26,19,16,20,20,21,27,20,17,24,15,21,20,19,23,22,19,19,22,20,19,19,19,19,19,20,19,23,25,13,19,22,22,20,21,21,15,24,16,40,24,19,20,23,15,21,25,15,18,20,24,16,19,23,21,19,23,18,19,18,21,19,26,18,20,24,15,23,14,21,19,20,20,22,22,16,20,20,22,23,28,7,20,21,21,18,21,20,19,20,21,20,19,20,21,20,21,18,21,20,21,18,21,20,21,19,20,19,21,20,19,20,21,20,19,20,19,20,21,20,21,20,19,20,53,21,21,20,18,21,21,18,20,20,21,20,19,20,21,20,19,22,19,18,21,21,20,19,20,21,20,20,39,21,19,20,21,20,19,20,21,18,21,20,21,22,17,21,20,19,23,18,18,21,20,21,20,21,39,39,20],\"timestamp\":[1357925165000000,1357925187000000,1357925204000000,1357925229000000,1357925244000000,1357925267000000,1357925288000000,1357925303000000,1357925327000000,1357925344000000,1357925366000000,1357925385000000,1357925409000000,1357925424000000,1357925445000000,1357925466000000,1357925484000000,1357925504000000,1357925526000000,1357925544000000,1357925563000000,1357925586000000,1357925607000000,1357925624000000,1357925643000000,1357925667000000,1357925684000000,1357925704000000,1357925723000000,1357925745000000,1357925766000000,1357925783000000,1357925803000000,1357925824000000,1357925844000000,1357925865000000,1357925886000000,1357925906000000,1357925924000000,1357925943000000,1357925962000000,1357925984000000,1357926003000000,1357926025000000,1357926046000000,1357926066000000,1357926082000000,1357926108000000,1357926127000000,1357926143000000,1357926163000000,1357926183000000,1357926204000000,1357926231000000,1357926251000000,1357926268000000,1357926292000000,1357926307000000,1357926328000000,1357926348000000,1357926367000000,1357926390000000,1357926412000000,1357926431000000,1357926450000000,1357926472000000,1357926492000000,1357926511000000,1357926530000000,1357926549000000,1357926568000000,1357926587000000,1357926607000000,1357926626000000,1357926649000000,1357926674000000,1357926687000000,1357926706000000,1357926728000000,1357926750000000,1357926770000000,1357926791000000,1357926812000000,1357926827000000,1357926851000000,1357926867000000,1357926907000000,1357926931000000,1357926950000000,1357926970000000,1357926993000000,1357927008000000,1357927029000000,1357927054000000,1357927069000000,1357927087000000,1357927107000000,1357927131000000,1357927147000000,1357927166000000,1357927189000000,1357927210000000,1357927229000000,1357927252000000,1357927270000000,1357927289000000,1357927307000000,1357927328000000,1357927347000000,1357927373000000,1357927391000000,1357927411000000,1357927435000000,1357927450000000,1357927473000000,1357927487000000,1357927508000000,1357927527000000,1357927547000000,1357927567000000,1357927589000000,1357927611000000,1357927627000000,1357927647000000,1357927667000000,1357927689000000,1357927712000000,1357927740000000,1357927747000000,1357927767000000,1357927788000000,1357927809000000,1357927827000000,1357927848000000,1357927868000000,1357927887000000,1357927907000000,1357927928000000,1357927948000000,1357927967000000,1357927987000000,1357928008000000,1357928028000000,1357928049000000,1357928067000000,1357928088000000,1357928108000000,1357928129000000,1357928147000000,1357928168000000,1357928188000000,1357928209000000,1357928228000000,1357928248000000,1357928267000000,1357928288000000,1357928308000000,1357928327000000,1357928347000000,1357928368000000,1357928388000000,1357928407000000,1357928427000000,1357928446000000,1357928466000000,1357928487000000,1357928507000000,1357928528000000,1357928548000000,1357928567000000,1357928587000000,1357928640000000,1357928661000000,1357928682000000,1357928702000000,1357928720000000,1357928741000000,1357928762000000,1357928780000000,1357928800000000,1357928820000000,1357928841000000,1357928861000000,1357928880000000,1357928900000000,1357928921000000,1357928941000000,1357928960000000,1357928982000000,1357929001000000,1357929019000000,1357929040000000,1357929061000000,1357929081000000,1357929100000000,1357929120000000,1357929141000000,1357929161000000,1357929181000000,1357929220000000,1357929241000000,1357929260000000,1357929280000000,1357929301000000,1357929321000000,1357929340000000,1357929360000000,1357929381000000,1357929399000000,1357929420000000,1357929440000000,1357929461000000,1357929483000000,1357929500000000,1357929521000000,1357929541000000,1357929560000000,1357929583000000,1357929601000000,1357929619000000,1357929640000000,1357929660000000,1357929681000000,1357929701000000,1357929722000000,1357929761000000,1357929800000000,1357929820000000],\"vehicle_id\":[\"33441\",\"33441\",\"33441\",\"33441\",\"33441\",\"33441\",\"33441\",\"33441\",\"33441\",\"33441\",\"33441\",\"33441\",\"33441\",\"33441\",\"33441\",\"33441\",\"33441\",\"33441\",\"33441\",\"33441\",\"33441\",\"33441\",\"33441\",\"33441\",\"33441\",\"33441\",\"33441\",\"33441\",\"33441\",\"33441\",\"33441\",\"33441\",\"33441\",\"33441\",\"33441\",\"33441\",\"33441\",\"33441\",\"33441\",\"33441\",\"33441\",\"33441\",\"33441\",\"33441\",\"33441\",\"33441\",\"33441\",\"33441\",\"33441\",\"33441\",\"33441\",\"33441\",\"33441\",\"33441\",\"33441\",\"33441\",\"33441\",\"33441\",\"33441\",\"33441\",\"33441\",\"33441\",\"33441\",\"33441\",\"33441\",\"33441\",\"33441\",\"33441\",\"33441\",\"33441\",\"33441\",\"33441\",\"33441\",\"33441\",\"33441\",\"33441\",\"33441\",\"33441\",\"33441\",\"33441\",\"33441\",\"33441\",\"33441\",\"33441\",\"33441\",\"33441\",\"33441\",\"33441\",\"33441\",\"33441\",\"33441\",\"33441\",\"33441\",\"33441\",\"33441\",\"33441\",\"33441\",\"33441\",\"33441\",\"33441\",\"33441\",\"33441\",\"33441\",\"33441\",\"33441\",\"33441\",\"33441\",\"33441\",\"33441\",\"33441\",\"33441\",\"33441\",\"33441\",\"33441\",\"33441\",\"33441\",\"33441\",\"33441\",\"33441\",\"33441\",\"33441\",\"33441\",\"33441\",\"33441\",\"33441\",\"33441\",\"33441\",\"33441\",\"33441\",\"33441\",\"33441\",\"33441\",\"33441\",\"33441\",\"33441\",\"33441\",\"33441\",\"33441\",\"33441\",\"33441\",\"33441\",\"33441\",\"33441\",\"33441\",\"33441\",\"33441\",\"33441\",\"33441\",\"33441\",\"33441\",\"33441\",\"33441\",\"33441\",\"33441\",\"33441\",\"33441\",\"33441\",\"33441\",\"33441\",\"33441\",\"33441\",\"33441\",\"33441\",\"33441\",\"33441\",\"33441\",\"33441\",\"33441\",\"33441\",\"33441\",\"33441\",\"33441\",\"33441\",\"33441\",\"33441\",\"33441\",\"33441\",\"33441\",\"33441\",\"33441\",\"33441\",\"33441\",\"33441\",\"33441\",\"33441\",\"33441\",\"33441\",\"33441\",\"33441\",\"33441\",\"33441\",\"33441\",\"33441\",\"33441\",\"33441\",\"33441\",\"33441\",\"33441\",\"33441\",\"33441\",\"33441\",\"33441\",\"33441\",\"33441\",\"33441\",\"33441\",\"33441\",\"33441\",\"33441\",\"33441\",\"33441\",\"33441\",\"33441\",\"33441\",\"33441\",\"33441\",\"33441\",\"33441\",\"33441\",\"33441\",\"33441\",\"33441\",\"33441\",\"33441\",\"33441\",\"33441\",\"33441\",\"33441\"],\"vehicle_journey_id\":[\"1466\",\"1466\",\"1466\",\"1466\",\"1466\",\"1466\",\"1466\",\"1466\",\"1466\",\"1466\",\"1466\",\"1466\",\"1466\",\"1466\",\"1466\",\"1466\",\"1466\",\"1466\",\"1466\",\"1466\",\"1466\",\"1466\",\"1466\",\"1466\",\"1466\",\"1466\",\"1466\",\"1466\",\"1466\",\"1466\",\"1466\",\"1466\",\"1466\",\"1466\",\"1466\",\"1466\",\"1466\",\"1466\",\"1466\",\"1466\",\"1466\",\"1466\",\"1466\",\"1466\",\"1466\",\"1466\",\"1466\",\"1466\",\"1466\",\"1466\",\"1466\",\"1466\",\"1466\",\"1466\",\"1466\",\"1466\",\"1466\",\"1466\",\"1466\",\"1466\",\"1466\",\"1466\",\"1466\",\"1466\",\"1466\",\"1466\",\"1466\",\"1466\",\"1466\",\"1466\",\"1466\",\"1466\",\"1466\",\"1466\",\"1466\",\"1466\",\"1466\",\"1466\",\"1466\",\"1466\",\"1466\",\"1466\",\"1466\",\"1466\",\"1466\",\"1466\",\"1466\",\"1466\",\"1466\",\"1466\",\"1466\",\"1466\",\"1466\",\"1466\",\"1466\",\"1466\",\"1466\",\"1466\",\"1466\",\"1466\",\"1466\",\"1466\",\"1466\",\"1466\",\"1466\",\"1466\",\"1466\",\"1466\",\"1466\",\"1466\",\"1466\",\"1466\",\"1466\",\"1466\",\"1466\",\"1466\",\"1466\",\"1466\",\"1466\",\"1466\",\"1466\",\"1466\",\"1466\",\"1466\",\"1466\",\"1466\",\"1466\",\"1466\",\"1466\",\"1466\",\"1466\",\"1466\",\"1466\",\"1466\",\"1466\",\"1466\",\"1466\",\"1466\",\"1466\",\"1466\",\"1466\",\"1466\",\"1466\",\"1466\",\"1466\",\"1466\",\"1466\",\"1466\",\"1466\",\"1466\",\"1466\",\"1466\",\"1466\",\"1466\",\"1466\",\"1466\",\"1466\",\"1466\",\"1466\",\"1466\",\"1466\",\"1466\",\"1466\",\"1466\",\"1466\",\"1466\",\"1466\",\"1466\",\"1466\",\"1466\",\"1466\",\"1466\",\"1466\",\"1466\",\"1466\",\"1466\",\"1466\",\"1466\",\"1466\",\"1466\",\"1466\",\"1466\",\"1466\",\"1466\",\"1466\",\"1466\",\"1466\",\"1466\",\"1466\",\"1466\",\"1466\",\"1466\",\"1466\",\"1466\",\"1466\",\"1466\",\"1466\",\"1466\",\"1466\",\"1466\",\"1466\",\"1466\",\"1466\",\"1466\",\"1466\",\"1466\",\"1466\",\"1466\",\"1466\",\"1466\",\"1466\",\"1466\",\"1466\",\"1466\",\"1466\",\"1466\",\"1466\",\"1466\",\"1466\",\"1466\",\"1466\",\"1466\",\"1466\",\"1466\",\"1466\",\"1466\",\"1466\",\"1466\"],\"velocity\":{\"__ndarray__\":\"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\",\"dtype\":\"float64\",\"order\":\"little\",\"shape\":[228]}},\"selected\":{\"id\":\"1660\"},\"selection_policy\":{\"id\":\"1659\"}},\"id\":\"1602\",\"type\":\"ColumnDataSource\"},{\"attributes\":{},\"id\":\"1588\",\"type\":\"SaveTool\"},{\"attributes\":{\"source\":{\"id\":\"1608\"}},\"id\":\"1613\",\"type\":\"CDSView\"},{\"attributes\":{},\"id\":\"1589\",\"type\":\"ResetTool\"},{\"attributes\":{},\"id\":\"1585\",\"type\":\"PanTool\"},{\"attributes\":{\"overlay\":{\"id\":\"1591\"}},\"id\":\"1587\",\"type\":\"BoxZoomTool\"},{\"attributes\":{\"active_drag\":\"auto\",\"active_inspect\":\"auto\",\"active_multi\":null,\"active_scroll\":\"auto\",\"active_tap\":\"auto\",\"tools\":[{\"id\":\"1585\"},{\"id\":\"1586\"},{\"id\":\"1587\"},{\"id\":\"1588\"},{\"id\":\"1589\"},{\"id\":\"1590\"}]},\"id\":\"1592\",\"type\":\"Toolbar\"},{\"attributes\":{\"text\":\"\"},\"id\":\"1653\",\"type\":\"Title\"},{\"attributes\":{},\"id\":\"1590\",\"type\":\"HelpTool\"},{\"attributes\":{\"bottom_units\":\"screen\",\"fill_alpha\":0.5,\"fill_color\":\"lightgrey\",\"left_units\":\"screen\",\"level\":\"overlay\",\"line_alpha\":1.0,\"line_color\":\"black\",\"line_dash\":[4,4],\"line_width\":2,\"right_units\":\"screen\",\"top_units\":\"screen\"},\"id\":\"1591\",\"type\":\"BoxAnnotation\"},{\"attributes\":{\"axis\":{\"id\":\"1577\"},\"dimension\":1,\"ticker\":null},\"id\":\"1584\",\"type\":\"Grid\"},{\"attributes\":{},\"id\":\"1586\",\"type\":\"WheelZoomTool\"},{\"attributes\":{\"dimension\":\"lat\"},\"id\":\"1580\",\"type\":\"MercatorTickFormatter\"},{\"attributes\":{\"dimension\":\"lat\"},\"id\":\"1578\",\"type\":\"MercatorTicker\"},{\"attributes\":{\"fill_alpha\":{\"value\":0.1},\"fill_color\":{\"value\":\"red\"},\"line_alpha\":{\"value\":0.1},\"line_color\":{\"value\":\"red\"},\"x\":{\"field\":\"lng_m\"},\"y\":{\"field\":\"lat_m\"}},\"id\":\"1611\",\"type\":\"Circle\"},{\"attributes\":{\"formatter\":{\"id\":\"1580\"},\"ticker\":{\"id\":\"1578\"}},\"id\":\"1577\",\"type\":\"MercatorAxis\"},{\"attributes\":{},\"id\":\"1664\",\"type\":\"Selection\"},{\"attributes\":{\"axis\":{\"id\":\"1569\"},\"ticker\":null},\"id\":\"1576\",\"type\":\"Grid\"},{\"attributes\":{\"dimension\":\"lon\"},\"id\":\"1572\",\"type\":\"MercatorTickFormatter\"},{\"attributes\":{\"attribution\":\"&copy; <a href=\\\"https://www.openstreetmap.org/copyright\\\">OpenStreetMap</a> contributors\",\"url\":\"https://c.tile.openstreetmap.org/{Z}/{X}/{Y}.png\"},\"id\":\"1599\",\"type\":\"WMTSTileSource\"},{\"attributes\":{\"data_source\":{\"id\":\"1602\"},\"glyph\":{\"id\":\"1604\"},\"hover_glyph\":null,\"muted_glyph\":null,\"nonselection_glyph\":{\"id\":\"1605\"},\"selection_glyph\":null,\"view\":{\"id\":\"1607\"}},\"id\":\"1606\",\"type\":\"GlyphRenderer\"}],\"root_ids\":[\"1560\"]},\"title\":\"Bokeh Application\",\"version\":\"2.2.1\"}};\n",
       "  var render_items = [{\"docid\":\"12600dcf-2636-40c4-b868-43a721750900\",\"root_ids\":[\"1560\"],\"roots\":{\"1560\":\"4322518b-921e-4ea3-885d-afe94d08e086\"}}];\n",
       "  root.Bokeh.embed.embed_items_notebook(docs_json, render_items);\n",
       "\n",
       "  }\n",
       "  if (root.Bokeh !== undefined) {\n",
       "    embed_document(root);\n",
       "  } else {\n",
       "    var attempts = 0;\n",
       "    var timer = setInterval(function(root) {\n",
       "      if (root.Bokeh !== undefined) {\n",
       "        clearInterval(timer);\n",
       "        embed_document(root);\n",
       "      } else {\n",
       "        attempts++;\n",
       "        if (attempts > 100) {\n",
       "          clearInterval(timer);\n",
       "          console.log(\"Bokeh: ERROR: Unable to run BokehJS code because BokehJS library is missing\");\n",
       "        }\n",
       "      }\n",
       "    }, 10, root)\n",
       "  }\n",
       "})(window);"
      ],
      "application/vnd.bokehjs_exec.v0+json": ""
     },
     "metadata": {
      "application/vnd.bokehjs_exec.v0+json": {
       "id": "1560"
      }
     },
     "output_type": "display_data"
    },
    {
     "name": "stderr",
     "output_type": "stream",
     "text": [
      "/home/saci/hd/projetos/trajetorias/its_research/venvTraj/lib/python3.8/site-packages/pandas/core/frame.py:3065: SettingWithCopyWarning: \n",
      "A value is trying to be set on a copy of a slice from a DataFrame.\n",
      "Try using .loc[row_indexer,col_indexer] = value instead\n",
      "\n",
      "See the caveats in the documentation: https://pandas.pydata.org/pandas-docs/stable/user_guide/indexing.html#returning-a-view-versus-a-copy\n",
      "  self[k1] = value[k2]\n"
     ]
    },
    {
     "data": {
      "text/html": [
       "\n",
       "\n",
       "\n",
       "\n",
       "\n",
       "\n",
       "  <div class=\"bk-root\" id=\"018d0f55-b734-4aeb-b921-f3c509ee34e3\" data-root-id=\"1772\"></div>\n"
      ]
     },
     "metadata": {},
     "output_type": "display_data"
    },
    {
     "data": {
      "application/javascript": [
       "(function(root) {\n",
       "  function embed_document(root) {\n",
       "    \n",
       "  var docs_json = {\"1d5d7f96-0213-4e20-b260-f37403e9f18c\":{\"roots\":{\"references\":[{\"attributes\":{\"below\":[{\"id\":\"1781\"}],\"center\":[{\"id\":\"1788\"},{\"id\":\"1796\"}],\"left\":[{\"id\":\"1789\"}],\"renderers\":[{\"id\":\"1812\"},{\"id\":\"1818\"},{\"id\":\"1824\"},{\"id\":\"1829\"}],\"title\":{\"id\":\"1878\"},\"toolbar\":{\"id\":\"1804\"},\"x_range\":{\"id\":\"1773\"},\"x_scale\":{\"id\":\"1777\"},\"y_range\":{\"id\":\"1775\"},\"y_scale\":{\"id\":\"1779\"}},\"id\":\"1772\",\"subtype\":\"Figure\",\"type\":\"Plot\"},{\"attributes\":{\"x\":{\"field\":\"lng_m\"},\"y\":{\"field\":\"lat_m\"}},\"id\":\"1816\",\"type\":\"Line\"},{\"attributes\":{\"source\":{\"id\":\"1814\"}},\"id\":\"1819\",\"type\":\"CDSView\"},{\"attributes\":{\"line_alpha\":0.1,\"x\":{\"field\":\"lng_m\"},\"y\":{\"field\":\"lat_m\"}},\"id\":\"1817\",\"type\":\"Line\"},{\"attributes\":{\"source\":{\"id\":\"1820\"}},\"id\":\"1825\",\"type\":\"CDSView\"},{\"attributes\":{\"fill_color\":{\"value\":\"red\"},\"line_color\":{\"value\":\"red\"},\"x\":{\"field\":\"lng_m\"},\"y\":{\"field\":\"lat_m\"}},\"id\":\"1822\",\"type\":\"Circle\"},{\"attributes\":{},\"id\":\"1801\",\"type\":\"ResetTool\"},{\"attributes\":{\"overlay\":{\"id\":\"1803\"}},\"id\":\"1799\",\"type\":\"BoxZoomTool\"},{\"attributes\":{},\"id\":\"1800\",\"type\":\"SaveTool\"},{\"attributes\":{\"active_drag\":\"auto\",\"active_inspect\":\"auto\",\"active_multi\":null,\"active_scroll\":\"auto\",\"active_tap\":\"auto\",\"tools\":[{\"id\":\"1797\"},{\"id\":\"1798\"},{\"id\":\"1799\"},{\"id\":\"1800\"},{\"id\":\"1801\"},{\"id\":\"1802\"}]},\"id\":\"1804\",\"type\":\"Toolbar\"},{\"attributes\":{},\"id\":\"1802\",\"type\":\"HelpTool\"},{\"attributes\":{},\"id\":\"1797\",\"type\":\"PanTool\"},{\"attributes\":{\"data\":{\"ID\":{\"__ndarray__\":\"QkJCQkJCQkJCQkJCQkJCQkJCQkJCQkJCQkJCQkJCQg==\",\"dtype\":\"int8\",\"order\":\"little\",\"shape\":[31]},\"MF_acc\":{\"__ndarray__\":\"mTLA+5bg2z/yJftzU6S8PyB3OBX+490/H2E12+DlwD8Djh60s9vZPzUqchZVCNU/T7JAyTlc1z/Vs4TC1OTfPx4lN1M87+Q/FWE5+8G41z/fk+VFz5XcP8jICd+ttNM/a7L8BtLO2z/RK0lEF5beP6W5Ou2P0eQ/e7J5Ryfz4T/tuSMZVI7GP4OmPJ7jRr4/UUVkvVrX7T/QB8Ew307oPxEE9L6wee0/4BakGeWV5D8ZTJpIRlnMP0j20CrquqI/VibOOmresz8bbRVY56rVP7HapwEvNjJAEYSQN64+0j8AAAAAAAAAAAAAAAAAAAAA/rMAPRoRuz8=\",\"dtype\":\"float64\",\"order\":\"little\",\"shape\":[31]},\"MF_dist_from_old_point\":{\"__ndarray__\":\"BaBPix+kYUCFhJL/YIJnQGK7bclG6mJAr2DaX169a0BSUaRIvEVmQFtV1UmtHWJATos6JQ1AYkDMkCYD2HxmQPrKUVnIfmpAH+ziFKNuZECGW5vuCVVmQLhJf6xPyl5AracE56PzZ0A7KlktQuVnQPVSPig6WWpAdqQgqt7rbkD8ciLHkoNyQNT7s+waBHhAJ1b24z5Qd0A7Q3497+90QN4Mox5NyHRA86xz9LUNakAopPF5fvBRQB75j5E2rlxAGZutVEZuZUA9vdC8hO1gQLHapwEvNlJAEYSQN64+8j8AAAAAAAAAAAAAAAAAAAAA/rMAPRoR2z8=\",\"dtype\":\"float64\",\"order\":\"little\",\"shape\":[31]},\"MF_lat\":{\"__ndarray__\":\"TgS1zq6tSkBzoleo2q1KQFbemb/4rkpAIgZqjDGvSkCyBSNAl7BKQMCSEWENsUpAJs8R+S6xSkCy9t2+WLFKQGjyjvi6sUpANlMsbSeySkC2fIotTrJKQJtVuyaks0pAUATXJl+0SkBucrlml7RKQMX6EXXVtEpAHTC/Lh61SkDYb53adLVKQNjEeZM6tkpAG7+xDBa3SkAYCwSmeLdKQKsw0ovat0pAcwWLHlO4SkDe8HyrGrlKQJuzWmCPuUpACgbR/xe4SkAO7E0MybdKQL3CjUqgt0pA0qWKmMi3SkAKdELooLdKQOoVa7jIt0pA8gNiyKC3SkA=\",\"dtype\":\"float64\",\"order\":\"little\",\"shape\":[31]},\"MF_lng\":{\"__ndarray__\":\"TjFnbJ75GMCm2Zw52vcYwBKHcZJB6RjAExZ1nJHnGMCu2K51TtgYwNtvPERI0hjAJ4YzZOHQGMAY/myaLc8YwAYUlKKVyxjAZvm/fuPGGMA8iQ1xB8UYwAUnlqXntxjAXmtPf6y2GMBiQnbexrYYwM7v7327thjAj1zyiYa2GMA+Z2szBLYYwKxnV8YrtRjAVcCd+va0GMB6xVgBGbUYwFYaR1EMtRjAS3nDIiu0GMDtJljSQLIYwKxBrnn6nRjAKf9f0J2bGMArR82ygpoYwA5z843ofhjAKEC+hAp+GMB175x3rX4YwKWBfwAIfhjAde+cd61+GMA=\",\"dtype\":\"float64\",\"order\":\"little\",\"shape\":[31]},\"MF_vel\":{\"__ndarray__\":\"7Dg426lcH0BP5Ex2RVkSQALD7+s+0CBAcGTcGIimFUAyDTTuLfggQGbXda3vmhtA496QO0gzHUDHyn5T3u8iQMIJnt0jjSdAbE+7mX4iH0BrfK+Lod0hQPo6zFbZoRhAFtWV1Lk/IkBiu62Kzh0jQNoQ4urBaydAQrrPjSOPJ0A4xjXAW+YcQEwE7rgi9xpAUqtetpimMkBCWv3vhOcvQGriYPFAgDFAvJnYvKEoJ0Ccla0Rb+QPQH/XduWMYwBATsheBqwuDUBiyBouoRUbQLHapwEvNkJAEYSQN64+4j8AAAAAAAAAAAAAAAAAAAAA/rMAPRoRyz8=\",\"dtype\":\"float64\",\"order\":\"little\",\"shape\":[31]},\"acc\":{\"__ndarray__\":\"5B6l8St+5D8xyAU7pc7LPzrnikrQQOQ/2MvDmcXw0j8rO7oBZIDhP2NloPyuieE/TNxvoB704z+rvPNjt3bjP0gx9T7fhuI/33Gv9SHw5D9eZcVpX2fjP0JHsN07cuM/3gGEd5t24j89CArH+ZDjP9VF/4FtQus/zEpuzUmq4j/n77094pnRP89KnfLHJ8w/gggI+1yW5D+PqREPZX/jP2FUfOHrvOI/zkTwe9hD6D8xFuiubMHnP4GsSaBUe8U/noLZDwwjxz8mq7fx3RPkP4O8Z/J9gUxAf1euXPJ+TUB/V65c8n5NQH9Xrlzyfk1A8I75Xlg+TUA=\",\"dtype\":\"float64\",\"order\":\"little\",\"shape\":[31]},\"block_id\":[42008,42008,42008,42008,42008,42008,42008,42008,42008,42008,42008,42008,42008,42008,42008,42008,42008,42008,42008,42008,42008,42008,42008,42008,42008,42008,42008,42008,42008,42008,42008],\"congestion\":[false,false,false,false,false,false,false,false,false,false,false,false,false,false,false,false,false,false,false,false,false,false,false,false,false,false,false,false,false,false,false],\"datetime\":{\"__ndarray__\":\"AACduDPCc0IAgJ/CM8JzQgCAMukzwnNCAAA18zPCc0IAgNwgNMJzQgAAozQ0wnNCAACFOTTCc0IAgCg+NMJzQgAAK0g0wnNCAADRVjTCc0IAALNbNMJzQgCASIw0wnNCAAAPoDTCc0IAAPGkNMJzQgAAVqk0wnNCAIB2rjTCc0IAAHm4NMJzQgAAhMs0wnNCAICG1TTCc0IAAKfaNMJzQgCASt80wnNCAADQ6DTCc0IAgN0FNcJzQgAAo6s1wnNCAIBK2TXCc0IAgJHiNcJzQgAAbTE2wnNCAIDUPzbCc0IAgPdONsJzQgCAnV02wnNCAIBDbDbCc0I=\",\"dtype\":\"float64\",\"order\":\"little\",\"shape\":[31]},\"day\":[10,10,10,10,10,10,10,10,10,10,10,10,10,10,10,10,10,10,10,10,10,10,10,10,10,10,10,10,10,10,10],\"delay\":[-50,-73,-124,-159,-174,-174,-213,-242,-282,-284,-284,-358,-377,-377,-377,-377,-397,-413,-413,-413,-413,-443,-426,-388,-368,-392,-238,-238,-118,-118,0],\"dist_from_old_point\":[0,0,0,0,0,0,0,0,0,0,0,0,0,0,0,0,0,0,0,0,0,0,0,0,0,0,0,0,0,0,0],\"hour\":[6,6,6,6,6,7,7,7,7,7,7,7,7,7,7,7,7,7,7,7,7,7,7,7,7,7,7,7,7,7,7],\"index\":[61865,62939,67152,68098,73119,75435,75924,76403,77576,79275,79776,85680,88005,88539,89249,89804,91064,93368,94674,95228,95793,97063,100779,123091,129305,130717,141947,144073,146500,148329,150704],\"journey_id\":[\"00420001\",\"00420001\",\"00420001\",\"00420001\",\"00420001\",\"00420001\",\"00420001\",\"00420001\",\"00420001\",\"00420001\",\"00420001\",\"00420001\",\"00420001\",\"00420001\",\"00420001\",\"00420001\",\"00420001\",\"00420001\",\"00420001\",\"00420001\",\"00420001\",\"00420001\",\"00420001\",\"00420001\",\"00420001\",\"00420001\",\"00420001\",\"00420001\",\"00420001\",\"00420001\",\"00420001\"],\"lat\":{\"__ndarray__\":\"Zy0FpP2tSkDrw3qjVq5KQIWTNH9Mr0pAUmFsIcivSkAZCAJk6LBKQAyTqYJRsUpAFjYDXJCxSkBCklm9w7FKQGB2Tx4WskpAlzszwXCySkATukvirLJKQAAAAAAAtEpAUmStodS0SkCZJmw/GbVKQJNoyeNptUpAD5wzorS1SkD5n/zdO7ZKQOokW11Ot0pAMZV+wtm3SkDrG5jcKLhKQN7KEp1luEpAEW+df7u4SkAwgPChRLlKQCP2CaAYuUpA+tUcIJi3SkBWJZF9kLdKQCLGa17Vt0pAepPfopO3SkCZ9s391bdKQHqT36KTt0pAIsZrXtW3SkA=\",\"dtype\":\"float64\",\"order\":\"little\",\"shape\":[31]},\"lat_m\":{\"__ndarray__\":\"/7LHcYLkWkFKAwIaAeVaQXG0Rglf5lpBYkeTBw/nWkE++ypuqehaQY2GuBw/6VpB0AQCnJjpWkGziCvH4elaQdSPlhhX6lpBtsCQLtjqWkGSiuDSLetaQWNB6+QQ7VpBTvr82D/uWkFoeNqeoe5aQe04GIkU71pB9jMtDX/vWkEeQeDIP/BaQaPugg3H8VpBwuSTxo3yWkFt35KN/vJaQSi0LyxV81pBBOkWos/zWkHdThQvk/RaQR/QkW1U9FpBnKFPNDDyWkGdXORRJfJaQaypAoSH8lpBLVLxzSnyWkGrYj1niPJaQS1S8c0p8lpBrKkChIfyWkE=\",\"dtype\":\"float64\",\"order\":\"little\",\"shape\":[31]},\"line_id\":[\"42.0\",\"42.0\",\"42.0\",\"42.0\",\"42.0\",\"42.0\",\"42.0\",\"42.0\",\"42.0\",\"42.0\",\"42.0\",\"42.0\",\"42.0\",\"42.0\",\"42.0\",\"42.0\",\"42.0\",\"42.0\",\"42.0\",\"42.0\",\"42.0\",\"42.0\",\"42.0\",\"42.0\",\"42.0\",\"42.0\",\"42.0\",\"42.0\",\"42.0\",\"42.0\",\"42.0\"],\"lng\":{\"__ndarray__\":\"YRiw5Cr2GMAzv5oDBPMYwJ9ZEqCm5hjAHqm+84viGMDtSPWdX9QYwHMR34lZzxjAa7jIPV3NGMCuvroqUMsYwLOz6J0KyBjA36Y/+5HCGMCI9xxYjsAYwB3lYDYBthjAmBqhn6m3GMAzGCMShbYYwIQSZtr+tRjAlrN3Rlu1GMDQC3cujLQYwOtSI/QztRjAw2Fp4Ee1GMCFJR5QNrUYwFiK5CuBtBjAbqMBvAWyGMCyu0BJgbUYwG10zk9xnBjAZg5JLZScGMA51VqYhZYYwP7viArVfRjAf2lRn+R+GMDQB8vY0H0YwH9pUZ/kfhjA0AfL2NB9GMA=\",\"dtype\":\"float64\",\"order\":\"little\",\"shape\":[31]},\"lng_m\":{\"__ndarray__\":\"n3X82iszJcEr15eSfjAlwbEm+TT+JSXBCASx3oEiJcHW6eBSeBYlwQ0MkQ40EiXBMGsjXIQQJcEkOP5pxg4lwXICHhX/CyXBhLK8hVkHJcGywW6XowUlwVvS+4St/CTBUJjT+BX+JMFCk8KBHf0kwcwBBoSr/CTBhjDIliD8JMEVPEa0cPskwejxcTH/+yTBf+8bHRD8JMF3wmcyAfwkwSbEdVpn+yTBgAMtrUv5JMG3FyTfQPwkwW6EVsj35iTBNgDAZBXnJMHHBeZ78OEkweaBfG/4zCTBOhDoFt/NJMFanY7f9MwkwToQ6BbfzSTBWp2O3/TMJME=\",\"dtype\":\"float64\",\"order\":\"little\",\"shape\":[31]},\"operator\":[\"CF\",\"CF\",\"CF\",\"CF\",\"CF\",\"CF\",\"CF\",\"CF\",\"CF\",\"CF\",\"CF\",\"CF\",\"CF\",\"CF\",\"CF\",\"CF\",\"CF\",\"CF\",\"CF\",\"CF\",\"CF\",\"CF\",\"CF\",\"CF\",\"CF\",\"CF\",\"CF\",\"CF\",\"CF\",\"CF\",\"CF\"],\"outlier\":[-1,-1,-1,-1,-1,-1,-1,-1,-1,-1,-1,-1,-1,-1,-1,-1,-1,-1,-1,-1,-1,-1,-1,-1,-1,-1,-1,-1,-1,-1,-1],\"outlier2\":[1,1,1,-1,1,1,1,1,1,1,1,1,1,1,1,1,-1,-1,1,1,1,1,1,-1,1,1,1,1,1,1,1],\"outlier2_norm\":[1,1,1,1,1,1,1,-1,1,1,1,1,1,1,1,1,1,1,1,1,1,1,1,-1,1,1,1,1,1,1,1],\"outlier_0\":[1,-1,1,-1,1,1,1,1,1,-1,1,1,1,1,-1,1,-1,-1,1,1,1,1,1,-1,-1,1,-1,-1,-1,-1,-1],\"outlier_MF\":[1,1,1,1,1,1,1,1,-1,1,1,1,1,1,-1,-1,1,1,-1,-1,-1,-1,1,1,1,1,-1,1,1,1,1],\"outlier_norm\":[-1,-1,-1,-1,1,1,-1,-1,-1,-1,-1,-1,-1,-1,-1,-1,-1,-1,-1,-1,-1,-1,-1,-1,-1,-1,-1,-1,-1,-1,-1],\"stop\":[false,false,false,false,false,false,false,false,false,false,false,false,false,false,false,false,false,false,false,false,true,false,false,false,false,false,true,false,true,false,true],\"stop_id\":[4384.0,521.0,670.0,671.0,1197.0,1199.0,1200.0,4385.0,1201.0,1202.0,1202.0,1205.0,1207.0,1208.0,1209.0,1210.0,1211.0,3576.0,3577.0,3578.0,3579.0,3579.0,3640.0,3625.0,3628.0,3628.0,3616.0,3615.0,3616.0,3615.0,3616.0],\"time_frame\":[\"2013-01-10\",\"2013-01-10\",\"2013-01-10\",\"2013-01-10\",\"2013-01-10\",\"2013-01-10\",\"2013-01-10\",\"2013-01-10\",\"2013-01-10\",\"2013-01-10\",\"2013-01-10\",\"2013-01-10\",\"2013-01-10\",\"2013-01-10\",\"2013-01-10\",\"2013-01-10\",\"2013-01-10\",\"2013-01-10\",\"2013-01-10\",\"2013-01-10\",\"2013-01-10\",\"2013-01-10\",\"2013-01-10\",\"2013-01-10\",\"2013-01-10\",\"2013-01-10\",\"2013-01-10\",\"2013-01-10\",\"2013-01-10\",\"2013-01-10\",\"2013-01-10\"],\"time_from_old_point\":[18,41,18,41,21,21,20,19,18,21,20,20,21,20,18,21,41,57,20,21,19,18,18,56,47,20,2,2,2,2,2],\"timestamp\":[1357800770000000,1357800811000000,1357800969000000,1357801010000000,1357801197000000,1357801278000000,1357801298000000,1357801317000000,1357801358000000,1357801418000000,1357801438000000,1357801637000000,1357801718000000,1357801738000000,1357801756000000,1357801777000000,1357801818000000,1357801896000000,1357801937000000,1357801958000000,1357801977000000,1357802016000000,1357802135000000,1357802814000000,1357803001000000,1357803039000000,1357803362000000,1357803421000000,1357803483000000,1357803543000000,1357803603000000],\"vehicle_id\":[\"38083\",\"38083\",\"38083\",\"38083\",\"38083\",\"38083\",\"38083\",\"38083\",\"38083\",\"38083\",\"38083\",\"38083\",\"38083\",\"38083\",\"38083\",\"38083\",\"38083\",\"38083\",\"38083\",\"38083\",\"38083\",\"38083\",\"38083\",\"38083\",\"38083\",\"38083\",\"38083\",\"38083\",\"38083\",\"38083\",\"38083\"],\"vehicle_journey_id\":[\"7165\",\"7165\",\"7165\",\"7165\",\"7165\",\"7165\",\"7165\",\"7165\",\"7165\",\"7165\",\"7165\",\"7165\",\"7165\",\"7165\",\"7165\",\"7165\",\"7165\",\"7165\",\"7165\",\"7165\",\"7165\",\"7165\",\"7165\",\"7165\",\"7165\",\"7165\",\"7165\",\"7165\",\"7165\",\"7165\",\"7165\"],\"velocity\":{\"__ndarray__\":\"wcLZb/ENJ0A/tM/ZYdAhQCJE3FPqyCZALd0CLX1EKECpbURCg/gmQBKFkqu1BCdAXtOLSCbxKEALcLHG+RwnQHHX0ya71yRAdUV2kix7K0C1vjZEN0EoQBJZHNXKTihAdELdDKw7KEBMisw4OHUoQJAuPzK7qi5ALMKg3YB/KEBgWxvfKY0mQKEWFBRuEylAogrKOfS7KUCMLsejNJcpQDSkwxtYQCZAaE1ui1NMK0D3GMVEmrkqQPF2QAzqyyJA7Luj27z9IEDvlSVu1RgpQIO8Z/J9gVxAf1euXPJ+XUB/V65c8n5dQH9Xrlzyfl1A8I75Xlg+XUA=\",\"dtype\":\"float64\",\"order\":\"little\",\"shape\":[31]}},\"selected\":{\"id\":\"1887\"},\"selection_policy\":{\"id\":\"1886\"}},\"id\":\"1820\",\"type\":\"ColumnDataSource\"},{\"attributes\":{},\"id\":\"1798\",\"type\":\"WheelZoomTool\"},{\"attributes\":{\"data_source\":{\"id\":\"1814\"},\"glyph\":{\"id\":\"1816\"},\"hover_glyph\":null,\"muted_glyph\":null,\"nonselection_glyph\":{\"id\":\"1817\"},\"selection_glyph\":null,\"view\":{\"id\":\"1819\"}},\"id\":\"1818\",\"type\":\"GlyphRenderer\"},{\"attributes\":{\"dimension\":\"lat\"},\"id\":\"1790\",\"type\":\"MercatorTicker\"},{\"attributes\":{},\"id\":\"1884\",\"type\":\"UnionRenderers\"},{\"attributes\":{\"axis\":{\"id\":\"1789\"},\"dimension\":1,\"ticker\":null},\"id\":\"1796\",\"type\":\"Grid\"},{\"attributes\":{\"formatter\":{\"id\":\"1792\"},\"ticker\":{\"id\":\"1790\"}},\"id\":\"1789\",\"type\":\"MercatorAxis\"},{\"attributes\":{\"dimension\":\"lat\"},\"id\":\"1792\",\"type\":\"MercatorTickFormatter\"},{\"attributes\":{},\"id\":\"1885\",\"type\":\"Selection\"},{\"attributes\":{\"data_source\":{\"id\":\"1820\"},\"glyph\":{\"id\":\"1822\"},\"hover_glyph\":null,\"muted_glyph\":null,\"nonselection_glyph\":{\"id\":\"1823\"},\"selection_glyph\":null,\"view\":{\"id\":\"1825\"}},\"id\":\"1824\",\"type\":\"GlyphRenderer\"},{\"attributes\":{\"data\":{\"ID\":{\"__ndarray__\":\"QkJCQkJCQkJCQkJCQkJCQkJCQkJCQkJCQkJCQkJCQkJCQkJCQkJCQkJCQkJCQkJCQkJCQkJCQkJCQkJCQkJCQkJCQkJCQkJCQkJCQkJCQkJCQkJCQkJCQkJCQkJCQkJCQkJCQkJCQkJCQkJCQkJCQkJCQkJCQkJCQkJCQkJCQkJCQkJCQkJCQkJCQkJCQkJCQkJCQkJCQkJCQkJCQkJCQkJCQkI=\",\"dtype\":\"int8\",\"order\":\"little\",\"shape\":[164]},\"MF_acc\":{\"__ndarray__\":\"AAAAAAAAAAC1VZ56rE/gP+ZipG8/79c/Po8UF/xJ4D9GJwIJuqnYP42Sl6PvgnQ/YndGgiOeoz+cey9z9aSwP9o7uvIh+bU/4OrnzRmEwD93lPH1nbzGP2/6/wv6mMI/RmTcwU9Wwj9omDmZrOPEP02D2Q6cDrY/qwr+jorwuz+gAuYWNsuuP1xtRvvwyMA/WjEM40tzxz/zBp03FRvHP8aSPw98Jss/Q5xbVwa6zj9fvCSjG+DIP5IfucJIz8I/DEqoOzjSwj8Qf9RT/CTOP5kywPuW4Ns/8iX7c1OkvD/FQx2/4BTfPxsECqzP1uM/yfl7RaBK3D+jan2CXQTePw/9PiBgPNU/eKfvWPzM1z9A6+C5N4vVPyB3OBX+490/H2E12+DlwD9tdaSbfofgPzFVozkHEuI/85Q60pHI4D/wpYeb6gDmP49/7m0hDbM/z4XyFlSs3D9dnsiR++/bPwOOHrSz29k/uIOKH16J1j/NtowZiDTWPxTyo0aZrNU/NSpyFlUI1T9PskDJOVzXP9WzhMLU5N8/N5O805+h1z8eJTdTPO/kP6PEFrmlVt0/aj8yMR0L2D8VYTn7wbjXP9+T5UXPldw/VwpyDbE33D9P4VRSWWrbPwR5lzdUatk/72sbp3rD2D/oozfKz8HZP1SqQqCSm9U/cvKHWv3W1T9cseHcDpXWPxKA6xSB29A/yMgJ36200z8BltmLGkXVP7Prkp0MY9o/ylqpBY1c2T9rsvwG0s7bP9ErSUQXlt4/pbk67Y/R5D97snlHJ/PhP+25IxlUjsY/FBsbe7cN5T+Dpjye40a+P/M/4p3DCes/UUVkvVrX7T/QB8Ew307oPxEE9L6wee0/UVuumO3V3T/gFqQZ5ZXkP+j11eSZn90/iuHWylFp1z8HulmIgxrTP1yQtjYaitQ/Chx7CjEuxD8ZTJpIRlnMP3vgbMF5vs8/9ORX/QRL0z9ba19duDDbPw0Btt/9dts/qJ70fz5M0z8Tly19vH/NP5i4Fj2UZtM/VgkIozcE0T+VmzCP1ffRP9O90OQv4tA/Yh9b7SDuyT/Er6XdzKLFP9yqbLhwvMg/DWAVlQcYwj8JOMaBfkfEP0UWqgK6Pc8/+lyCY0OPzz8qVyaqX2jGP4WWmc9xhcQ/XKz9c6KVzj+OIklW0/jNP2a6B1sIwLE/fIjyfntV1z9QTXgNxw3XP5Fw8LoBWt4/pNEiqw1l1T8sx7mArMrWP42EAzp4HdI/uiNb1vBC1j9nM8b/R3zIP0j20CrquqI/W5xbvVaF1j8R4kDk1pjYP4nzRP9+nd8/4zuYa/ty4D97o120KHzXPzhw0VPhttg/gQVyeKvo0j9WJs46at6zP6MEXKnsQt0/G20VWOeq1T/loCVp+pjVP1iuyvnzS9w/DQTrF89T2j9yJfXj2SfeP8mIB9PTUtw/6WFh05v50z/Ygu9qbJ/UP0VlnfBQxtU/m5hDdnBazz9na+8M/uLOP26R2GxaItQ//MYOAa8qzz8eNyoTXYqsPxEyUt0KGKY/sdqnAS82MkAbiAp5dfzGP2ZIMvcRtro/QmEwMukzwj8RhJA3rj7SPwJygjPrH7s/Nq2Nip2ewj+Th3f0Aly7PwAAAAAAAAAAdxxoovKkwj/ChFwZwLvAP1rTN9pMZbs/AAAAAAAAAACygkJq+ubEPxMjQj1OZbs/6fpg6Cw0vj/+swA9GhG7P7nVG2q6vrw/FfG0Ywxbmz8vozlK1RGbPw==\",\"dtype\":\"float64\",\"order\":\"little\",\"shape\":[164]},\"MF_dist_from_old_point\":{\"__ndarray__\":\"AAAAAAAAAAB5ZDBL1qRkQC8XqSOSnWRASgU2DaOdZEDUWsK8MD5lQH5qzjdLBgBA1LG1lbXlMEAkMfqDvwE6QI1okb0V7UJA/l66UWjOSUAu1ehf/QdQQE73v7IGD01Avaj0ZK+WT0Dj5OxxJnBKQJhZymqV/0JAwMJ8rjeuQUB7bqUhGRw9QDdQVtJbq0dAjoZhSRNSUkB8wGbG0+ZTQKuq6esQNlVArReYeCmqVUAqs3SXFW9TQFRBQbDhY01Ax3NibxE2UEBxhzRW2/ZZQAWgT4sfpGFAhYSS/2CCZ0DftJyUe8VqQDKtvNXeG2lApkjZC0deaEBP+/ENaXNnQPdAxsuASmJA9E+PYG8fXkChOpp/aY5iQGK7bclG6mJAr2DaX169a0BITh4aaXlsQB01D0orPGxAl+omM4PpbEAErtfsKNlrQIFPrJvFbmVArXiFNg0lYkC5u+SJfNNlQFJRpEi8RWZAdM4qklFpY0DHbQfsE1BfQCAVML/X7mBAW1XVSa0dYkBOizolDUBiQMyQJgPYfGZAGlZEon1qaED6ylFZyH5qQKWNANmXr2RAi0Fvzq7IYkAf7OIUo25kQIZbm+4JVWZASuj6VUTlY0AGUFLIFWtlQLz34YkV5GVAU2yN0rdYY0AROxQCJyliQBIVNI2K4WBAUxh6OK3PYkB5pI3PppRcQJ+vCV0hCl1AuEl/rE/KXkC06XRdBVJiQCf5tvutsmBAs15gdzfYZUCtpwTno/NnQDsqWS1C5WdA9VI+KDpZakB2pCCq3utuQPxyIseSg3JA09iIiVAickDU+7PsGgR4QBVgff3oSXdAJ1b24z5Qd0A7Q3497+90QN4Mox5NyHRApy0CJsOyaUDzrHP0tQ1qQE5Kmg34g2lAQxU28zYqZECrMgyFbdldQLUOPy3J/llApwmHPclhUUAopPF5fvBRQFpHGt+PV1tAtDQ2zB2eYEAyx9X92StjQNIwxlb2dGVAqDI21SufYECgxNHZhWhZQKHBUJ3TjVhAl4687paWWkAEvKrj7vNeQJoohtVqYVpAiPxwXJtVVkDkNel0uaJSQD6Iaal+Tk9Ad9LRD2UrT0BEO8d2lHdRQLTs4KYFB1ZA1n74pKj4U0AUBg5m5kxTQJj9L+pACFBAB1zICoGQVUD/ImkbZWpXQBlQ0GTOk15AoXote8g6YkCXHhrzXdtjQDwnTBj1NGNAkn3nRYptYkCaI5HEVs5hQFcP8BvENF9AN1lLz7gsXEBGN84DDBdVQB75j5E2rlxAJ5LvwyuYYUC44pkXpS9lQEPebTcLs2hAKj9ZHBNWbEC4J+nM/1hiQAcSFS51R19AmSgy7IuLXUAZm61URm5lQO86LMNZhGJAPb3QvITtYEAV6ZCvQ5piQO1nn4WN82NA/ewZ4C+tZkBBhRc6Io9nQPLPSlpm+GNA1WCRt340YUA5HouzjBxgQM7zTSOotF5AOc9k3Kd+WEACOCTSg5paQBRlfYNxZFxAZDppvEPYWkAvuttfQjJVQFgX6ep7IlJAsdqnAS82UkBCVDGthBdNQFzPannSAUdAGDuFI7MJR0ARhJA3rj7yPzPb3RX+XEdAOE9bY7+QR0BG9JCLwJBHQAAAAAAAAAAABsSLFcOYR0A2d8PjwZhHQIsV9bHAmEdAAAAAAAAAAACLFfWxwJhHQDZ3w+PBmEdABsSLFcOYR0D+swA9GhHbPzGg0G96RERAj4AY151PIUAOpW423FAnQA==\",\"dtype\":\"float64\",\"order\":\"little\",\"shape\":[164]},\"MF_lat\":{\"__ndarray__\":\"OL8ADBWtSkC1aVWm86xKQKKH1FnSrEpAjqVTDbGsSkCSo0QBkaxKQKoTJSGRrEpAi9qclJOsSkDDmO4amaxKQE6R4i2hrEpA8oklQKisSkB2NXPtsKxKQOMUvDK5rEpA5a2jBcOsSkDaXIqryqxKQGqCR2XUrEpAFmWLpN2sSkDW5gql5axKQJqJ42XyrEpAwH0ohwWtSkDIyFP7Ga1KQAtur7svrUpAlWOs20WtSkAgZRniWK1KQCUfWnVnrUpAXnaTznatSkBTpoF6jq1KQE4Etc6urUpAc6JXqNqtSkB9SKh0C65KQKYTFPU4rkpAiyq922GuSkBVQJvBhK5KQLjXQ6CfrkpAI7SV8rWuSkC7OOv41K5KQFbemb/4rkpAIgZqjDGvSkA6J6Zmaq9KQHauM3Sir0pAa4n72dmvSkBWZlU6DrBKQBtD+pIysEpAMMFZpU+wSkDWXHl/crBKQLIFI0CXsEpA+gCeWbewSkBWNzP60bBKQHiXlkftsEpAwJIRYQ2xSkAmzxH5LrFKQLL23b5YsUpA0MvYK4exSkBo8o74urFKQN0lfKXisUpAvpfN0gSySkA2UyxtJ7JKQLZ8ii1OskpAVm/fWXGySkAq87xlmLJKQJKgyh/CskpAMPdAhumySkANMFkmDbNKQAqOjHots0pA2kw1DlCzSkCuLy5VabNKQOLmFfSDs0pAm1W7JqSzSkDmeYzyzLNKQKo2VIzzs0pAlqMczCa0SkBQBNcmX7RKQG5yuWaXtEpAxfoRddW0SkAdML8uHrVKQNhvndp0tUpAlSt9jcm1SkDYxHmTOrZKQEiNbzmotkpAG7+xDBa3SkAYCwSmeLdKQKsw0ovat0pAY5mJ2Ba4SkBzBYseU7hKQN7w12SNuEpAtgWgUbq4SkDDKukX27hKQNJHNez3uEpAsBOzXgy5SkDe8HyrGrlKQHArIz8suUpAC8BbIEG5SkBenF5zWLlKQGNLqyFxuUpAS4Uouom5SkBF4t8Mo7lKQLVPHEC/uUpALrvGeN65SkCg7Tck/7lKQHr9+REaukpAhYlbBTG6SkDzDfwDQLpKQA1/WCVHukpA4Jaa80K6SkAtC4wGOrpKQI5KBoAqukpAtZ/hzRq6SkD+bnsnC7pKQAVDF3n+uUpAHbbui/C5SkBN9coG47lKQPBDsGDRuUpATvI/+bu5SkC+Hy6Up7lKQN2rYXWauUpAwyaYe5K5SkAFzm4tk7lKQOq1P2GauUpA8odgwaK5SkB2U4stqblKQJuzWmCPuUpAmE+8FGi5SkBd3RfhN7lKQBPcGsf+uEpAWOJ4mby4SkBd1/CZkbhKQIMuR9lsuEpA0ohJE0q4SkAKBtH/F7hKQAg+EXrst0pADuxNDMm3SkBTAafSqrdKQNUViJ6Ut0pAzkzgMZe3SkC7EcaqnLdKQL6isIuit0pAIPQc7Ki3SkDWdy7nrbdKQEuIs8ewt0pAzhYbqa23SkCtyKlCqLdKQBAdDZagt0pA+2jo+pm3SkCTbrHsk7dKQHbldP6St0pAvcKNSqC3SkCL80LwrrdKQNh5Juq7t0pAJQAK5Mi3SkDSpYqYyLdKQEo1CHO7t0pAqlSlLa63SkAKdELooLdKQAp0Quigt0pAqlSlLa63SkBKNQhzu7dKQOoVa7jIt0pA6hVruMi3SkBKNQhzu7dKQKpUpS2ut0pACnRC6KC3SkDyA2LIoLdKQAp9u9urt0pAOOF6FK63SkB6BFPNrLdKQA==\",\"dtype\":\"float64\",\"order\":\"little\",\"shape\":[164]},\"MF_lng\":{\"__ndarray__\":\"FsozL4cNGcArmcOkrgsZwEBoUxrWCRnAVTfjj/0HGcDelu/P+wUZwHFv7xr0BRnAylFMOboFGcAxsQ9XcwUZwCTyzqEMBRnAhq8gzVgEGcA7j6CdeAMZwMCAdFawAhnAaOONJ90BGcBVXBDbJwEZwDNAXe7dABnAfSvN950AGcDap43qdAAZwHYsu7spABnAT8JRTaT/GMAgISpDC/8YwEUZwABn/hjAxuTIFL39GMASyyHzEv0YwMoPUCuW/BjAjtTbVf77GMB+/5B++/oYwE4xZ2ye+RjAptmcOdr3GMDuXwMixPUYwG2CY+DK8xjAA0LwU7DxGMAoA1azc+8YwMfH4kix7RjA9c8igEDsGMBQTIi5pOoYwBKHcZJB6RjAExZ1nJHnGMCDmJqpteUYwKKE+eHW4xjAZeyJCcXhGMA4i8HDtN8YwF1xGw3g3RjAapd07zzcGMDM6OBPQ9oYwK7YrnVO2BjAhzws1JrWGMDFlQJ3RdUYwEq3dHHA0xjA2288REjSGMAnhjNk4dAYwBj+bJotzxjA9KSbaWfNGMAGFJSilcsYwErzzCYbyhjAxJfYIaPIGMBm+b9+48YYwDyJDXEHxRjALlvw/WjDGMCSt2FvvcEYwH4J0AAowBjAA/aMjvW+GMAWHu+fuL0YwPe9QcWCvBjADtKi4w+7GMDzSxNb5rkYwC256vDGuBjABSeWpee3GMC/GgBgK7cYwKt+qmXGthjAXhSdG4m2GMBea09/rLYYwGJCdt7GthjAzu/vfbu2GMCPXPKJhrYYwD5nazMEthjAVcK9Mm+1GMCsZ1fGK7UYwLLQ09v6tBjAVcCd+va0GMB6xVgBGbUYwFYaR1EMtRjA8V66pMW0GMBLecMiK7QYwCe+lTZmsxjAZ9PMpJeyGMB91HVN7bEYwL637kFjsRjAmibManCxGMDtJljSQLIYwAq7416qsxjAb1buBWa1GMBIxE8tbLcYwDjU9DS7uRjAUB/halO7GMDdgZoQKbwYwEy0n9Z+vBjAV7d/wF68GMD23+MChrsYwN2BP1e2uhjAEnS5HAq6GMDepLhPM7kYwGtZsnRPuBjA4dwJ9l+3GMD00q2NZ7YYwEHUzP9QtRjA6PwZOWa0GMBYPcBJibMYwJrMfc3NshjA2NavKrGxGMAAllALb7AYwPuEAlvKrhjAWnbXftesGMDC8/xpo6oYwBOAOi9fqBjADtZfZSOmGMCOR2Rp8aMYwH9LBXAOohjAKwSIJ2CgGMCmecybHp8YwKxBrnn6nRjAs0tqDUqdGMASqST8nJwYwPIex8UHnBjAhhKNpJObGMCqDzqNWZsYwI3Htgw4mxjADoP+nUibGMAp/1/QnZsYwMD9KsB3mxjAK0fNsoKaGMBeW+m12ZgYwPc9StuulhjAGOauJeSTGMDDD3hgAJEYwMgO1CmPjhjARZrHBneMGMAFHEcHf4oYwEMZVBuciBjAl9KT6BuHGMBGJXp0foUYwAK4A3XKgxjAdmgCRSyCGMBSThTX54AYwJzykv/JfxjADnPzjeh+GMAE14aKcX4YwE7f3F89fhjAw1JzXgh+GMAoQL6ECn4YwEIls9VAfhjAWwqoJnd+GMB175x3rX4YwHXvnHetfhjAhXXoT3Z+GMCV+zMoP34YwKWBfwAIfhjApYF/AAh+GMCV+zMoP34YwIV16E92fhjAde+cd61+GMB175x3rX4YwCKoeuhxfhjAugDvLmF+GMC7tEHci34YwA==\",\"dtype\":\"float64\",\"order\":\"little\",\"shape\":[164]},\"MF_vel\":{\"__ndarray__\":\"AAAAAAAAAABsIPIJolkiQM7Bh0IDah9AJSH3mTtTIkDGaekVYi8gQDB3fYyro7k/sXz8mo6/6T+DWvvPMs70P45ulI781vw/mOVhQSClBEBN4A6U+/8KQAv5/444PwdAnENxrkgRCEB0y2AsIoAHQFV8fdMs8/w/AMzd4Jtu/z/OIb4vtSv1P92hYyqe7gNAsD3P2x5QDUAeGf7Yi1MOQLy7h4kN+BBAyGTew3M+EkB26+2LIhgPQHZnZ/MagwdAL+FMzumzCEBicwOXRcgTQOw4ONupXB9AT+RMdkVZEkB5NGt9s2UkQJ5Ei6GpUSZA7FuZLfmQIkCmYo5xusIiQCOsUio+3xtAZ5wN5JvGGkDFNPcjuUYcQALD7+s+0CBAcGTcGIimFUAe2kcs1rElQH4qDAiJliZAf+PsYz8HJkCumvjuB8EoQFe/5SSykwxARGvoTO8gIED6Yh07/XUhQDINNO4t+CBA4sxliUuUHUATGVeeYV4aQJruTJi/FxtAZtd1re+aG0Dj3pA7SDMdQMfKflPe7yJAz4kv4Cr8IEDCCZ7dI40nQMGE5WVyayFARc9+feQNHkBsT7uZfiIfQGt8r4uh3SFAI7b7HxHBIEDSDHXTdyIhQGtne0THrSBA60biUFn0HkCjEiLAJpYeQOpUU0h3AhtANW7ShiyqHECI5324sGcZQBgYdWsZIBZA+jrMVtmhGEDilI3XsuobQClJRTFurx1AlSO3i7ykIEAW1ZXUuT8iQGK7rYrOHSNA2hDi6sFrJ0BCus+NI48nQDjGNcBb5hxAi5OT0QCiK0BMBO64IvcaQPh5nF9ovjFAUqtetpimMkBCWv3vhOcvQGriYPFAgDFA7Wsy7GOUI0C8mdi8oSgnQGBpLP68cCNABQg6Wju6HkCJKHBqJOEXQGhijX1dGxdAzpTBXaB8CkCcla0Rb+QPQFFz7+b/1BRAgFyDjHZSGUC+p3B37SQgQKjA0ateKiFAPRDxBxJUGUAl6yWy01sTQKyPucRm0xVArAvKi0VFFUA0zO9LSJUXQEjtBN67GhVAmMzDm0UEEUCxdunirGUMQDdAes/+0wtAEg6s84m/B0CMKVQK1p0KQDn9lHGmjBJATFT555XAEUBoUlKP/WgNQCb8f0POpglAV57edNgoEkCZte0VhLsSQKUkevcKTAdAmyqvXtoqHUB45a1BFUIeQFI/J/mgEiFAKLOd8KEUHED2OOigV30cQPmdJMytxhdAMYgm8U4LGUC7Edo/jxEQQH/XduWMYwBAcoOybKwmHEBblMoFTSQgQDYYi19vwiNAms43/emWJUBaDHXhMlsdQD+eS369zRtA4YaOVtaiF0BOyF4GrC4NQJzCQx+ldSBAYsgaLqEVG0AsYwGqyFgcQIRXUNwYzSBAqDqy5/9GIUBnN3ku6NgiQDh5TMUt0SBAgtBvhZw3GkCOY6uFR8cZQELouh2A2xlAYT/qSYaYE0B7Hn249kQUQLMsQWHL6BdAlbKx2AJ0FECWua23UGQBQCVQkevNTvw/sdqnAS82QkAe2SsoBNwJQIP/OMp7hwFAa212WGZ6BEARhJA3rj7iP9KazVnyzAFA3GLfO3HyBED4cG7wYfQBQAAAAAAAAAAABSC19pD5BECn3R0e9N4DQLOiNG96+gFAAAAAAAAAAADdquYQajUGQAVnM1h7+gFA0pw8EZzgAkD+swA9GhHLP+aGAK8+EQFAN48r8G3G3j8X07X4s8PhPw==\",\"dtype\":\"float64\",\"order\":\"little\",\"shape\":[164]},\"acc\":{\"__ndarray__\":\"AAAAAAAAAAAAAAAAAAAAAAAAAAAAAAAAAAAAAAAAAAB0N73c6rPAP2D2TySehr4/JN1i86nDxT/omcFU3YTBPx+UorkRMcE/FqzskC892D8bKfBEgFOlP+Q8O4CJ270/5+iXNBlzyD/RxwauJYKVP0kKumfhirg/AAAAAAAAAAAmvNS+5N+ZPzVMkenAHN8/8mskJ5ML1j/HjrSo3GfFP2zv0fF2y7A/o7KreyAHrj+YY+H7WMPUP0oZnsDtwbs/ef9t/Umrzj8XJjPG0RngP+QepfErfuQ/McgFO6XOyz+WW/0JXjzZPyzpWu1dssA/+dlpuQaK3j9IDKOU+eTcP8fHtO3II9k/r8a0fmGiwz9EbaPZRq7bPzrnikrQQOQ/2MvDmcXw0j/y17Bfe6bcP8e353qtRrk/p1+++7UN4D8Qya/m5kfgP2aRcqN41ro/UUsYxBP+xz/qaJrrccHdPys7ugFkgOE/Qfnl0kxCvT88MGXOLOzPP3MTsMedrNI/Y2Wg/K6J4T9M3G+gHvTjP6u882O3duM/2aXXTzzW0z9IMfU+34biP+e/PG/0BZc/sD4fMKDV2z/fca/1IfDkP15lxWlfZ+M/p5iSrsip0D/xyaGRlgjIP6d6DCn+6Ns/5/QuTr6u2z9xc9HgndHhPx0CkmdWGbs/ditWPnKF1T86DRs99X2cP8FeHfac/No/Qkew3Tty4z8b2WXTh4TZP7FD9bZoDc0/TeYFtbR64D/eAYR3m3biPz0ICsf5kOM/1UX/gW1C6z/MSm7NSariP+fvvT3imdE/jG5osV273z/PSp3yxyfMP6dQSZrld98/gggI+1yW5D+PqREPZX/jP2FUfOHrvOI/nuRWwCFryT/ORPB72EPoP5EeP7QuaeA/ZM8DSMw1uj8AAAAAAAAAAGrTEDhnDJ0/DN/G3+1/zj8xFuiubMHnPwYF21JXYt0/dKgUwGcn0T/sp0LArm3SPyiGY1h56N4/5PSw0KNM0T8AJF42BdrSPy59RgaQr9c/UfxVNbe10j8jAr+cMh3UP4DoJpaCsKw/bOq5bORavD8uWX8v0NLQP/yvA4FNFdA/uJ8YBotezz+ChAgCysbCP8bJwTk3ltA/YGimUWHZyT8p99V+KfTCP3/C8CtxTbw/0MYq48uR3T/csbrvxEHUP+fQiKQjSL4/clRdNCBI3T+tEXOyj7DRPyN12xA94eA/oAcc6kOuzT+gwTSMue/bP/X/Q79g6cA/jGudCB+5xj8sstvMZfawP4GsSaBUe8U//Y+8lPPT3T8W0qj+GB3VPyiykDiY5NU/QVOkdDw91T+UZD1fobjUPyc9Fw5/ac8/r41J9MF30D+egtkPDCPHPxEQViC16tw/Jqu38d0T5D/qQ9fHPtnfP3WTuONmzts/c13eyP2+1D93lUbTRPPbP61whQZa69I/hNJwxz1Lzz86B4BnUg7SP661aPdNPdQ/n5bqS5nyzz855/sB9/vUP5/Re/+rM9g/Xol1+SrwyT8AAAAAAAAAAAAAAAAAAAAAg7xn8n2BTEBH9eFTj7t6PwAAAAAAAAAAJhyGHqjiaj9/V65c8n5NQAAAAAAAAAAAAAAAAAAAAAAAAAAAAAAAAH9Xrlzyfk1AAAAAAAAAAAAAAAAAAAAAAAAAAAAAAAAAf1euXPJ+TUAAAAAAAAAAAAAAAAAAAAAAAAAAAAAAAADwjvleWD5NQG7VzLSHQLk/3OuU/emT3z+HbmGj39fLPw==\",\"dtype\":\"float64\",\"order\":\"little\",\"shape\":[164]},\"block_id\":[42008,42008,42008,42008,42008,42008,42008,42008,42008,42008,42008,42008,42008,42008,42008,42008,42008,42008,42008,42008,42008,42008,42008,42008,42008,42008,42008,42008,42008,42008,42008,42008,42008,42008,42008,42008,42008,42008,42008,42008,42008,42008,42008,42008,42008,42008,42008,42008,42008,42008,42008,42008,42008,42008,42008,42008,42008,42008,42008,42008,42008,42008,42008,42008,42008,42008,42008,42008,42008,42008,42008,42008,42008,42008,42008,42008,42008,42008,42008,42008,42008,42008,42008,42008,42008,42008,42008,42008,42008,42008,42008,42008,42008,42008,42008,42008,42008,42008,42008,42008,42008,42008,42008,42008,42008,42008,42008,42008,42008,42008,42008,42008,42008,42008,42008,42008,42008,42008,42008,42008,42008,42008,42008,42008,42008,42008,42008,42008,42008,42008,42008,42008,42008,42008,42008,42008,42008,42008,42008,42008,42008,42008,42008,42008,42008,42008,42008,42008,42008,42008,42008,42008,42008,42008,42008,42008,42008,42008,42008,42008,42008,42008,42008,42008],\"congestion\":[false,false,false,false,false,false,false,false,false,false,false,false,false,false,false,false,false,false,false,false,false,false,false,false,false,false,false,false,false,false,false,false,false,false,false,false,false,false,false,false,false,false,false,false,false,false,false,false,false,false,false,false,false,false,false,false,false,false,false,false,false,false,false,false,false,false,false,false,false,false,false,false,false,false,false,false,false,false,false,false,false,false,false,false,false,false,false,false,false,false,false,false,false,false,false,false,false,false,false,false,false,false,false,false,false,false,false,false,false,false,false,false,false,false,false,false,false,false,false,false,false,false,false,false,false,false,false,false,false,false,false,false,false,false,false,false,false,false,false,false,false,false,false,false,false,false,false,false,false,false,false,false,false,false,false,false,false,false,false,false,false,false,false,false],\"datetime\":{\"__ndarray__\":\"AAAmOjPCc0IAAIs+M8JzQgCAq0MzwnNCAIAQSDPCc0IAADFNM8JzQgAAE1IzwnNCAIAzVzPCc0IAgBVcM8JzQgAANmEzwnNCAAAYZjPCc0IAgLtqM8JzQgCAnW8zwnNCAAC+dDPCc0IAACN5M8JzQgCAQ34zwnNCAICogjPCc0IAgAeIM8JzQgAAq4wzwnNCAACNkTPCc0IAgK2WM8JzQgCAj5szwnNCAAAzoDPCc0IAABWlM8JzQgAA96kzwnNCAIAXrzPCc0IAADi0M8JzQgAAnbgzwnNCAICfwjPCc0IAAMDHM8JzQgAAJcwzwnNCAIBF0TPCc0IAgCfWM8JzQgAASNszwnNCAACt3zPCc0IAgM3kM8JzQgCAMukzwnNCAAA18zPCc0IAgFX4M8JzQgCAN/0zwnNCAABYAjTCc0IAAL0GNMJzQgAAdRI0wnNCAADaFjTCc0IAALwbNMJzQgCA3CA0wnNCAAD9JTTCc0IAgKAqNMJzQgCAgi80wnNCAACjNDTCc0IAAIU5NMJzQgCAKD40wnNCAADGQzTCc0IAACtINMJzQgCAzkw0wnNCAICwUTTCc0IAANFWNMJzQgAAs1s0wnNCAIBWYDTCc0IAgDhlNMJzQgAAWWo0wnNCAAA7bzTCc0IAgN5zNMJzQgCAwHg0wnNCAADhfTTCc0IAAEaCNMJzQgCAZoc0wnNCAIBIjDTCc0IAAGmRNMJzQgAAzpU0wnNCAIDumjTCc0IAAA+gNMJzQgAA8aQ0wnNCAABWqTTCc0IAgHauNMJzQgAAebg0wnNCAICZvTTCc0IAAITLNMJzQgCApNA0wnNCAICG1TTCc0IAAKfaNMJzQgCASt80wnNCAABr5DTCc0IAANDoNMJzQgCA8O00wnNCAAAR8zTCc0IAAPP3NMJzQgAAWPw0wnNCAIB4ATXCc0IAgN0FNcJzQgAA/go1wnNCAIAeEDXCc0IAAMIUNcJzQgAApBk1wnNCAIDEHjXCc0IAAOUjNcJzQgAASig1wnNCAAAsLTXCc0IAgEwyNcJzQgCALjc1wnNCAABPPDXCc0IAgG9BNcJzQgCA1EU1wnNCAAD1SjXCc0IAgBVQNcJzQgAAuVQ1wnNCAAAeWTXCc0IAgD5eNcJzQgCAIGM1wnNCAADEZzXCc0IAAKZsNcJzQgAA53Y1wnNCAADJezXCc0IAgOmANcJzQgCAToU1wnNCAABvijXCc0IAAFGPNcJzQgCAcZQ1wnNCAIDWmDXCc0IAAPedNcJzQgAAo6s1wnNCAACFsDXCc0IAgKW1NcJzQgCAh7o1wnNCAACovzXCc0IAAIrENcJzQgAA78g1wnNCAADRzTXCc0IAgErZNcJzQgCAr901wnNCAICR4jXCc0IAALLnNcJzQgCAVew1wnNCAAB28TXCc0IAAFj2NcJzQgCA+/o1wnNCAAAcADbCc0IAAP4ENsJzQgCAoQk2wnNCAICDDjbCc0IAAKQTNsJzQgCARxg2wnNCAABoHTbCc0IAgO0mNsJzQgAA8DA2wnNCAABtMTbCc0IAANI1NsJzQgCA8jo2wnNCAIBXPzbCc0IAgNQ/NsJzQgAA9UQ2wnNCAABaSTbCc0IAgHpONsJzQgCA9042wnNCAIBcUzbCc0IAAABYNsJzQgCAIF02wnNCAICdXTbCc0IAAMRhNsJzQgCA5GY2wnNCAIDGazbCc0IAgENsNsJzQgAA53A2wnNCAABMdTbCc0IAgGx6NsJzQg==\",\"dtype\":\"float64\",\"order\":\"little\",\"shape\":[164]},\"day\":[10,10,10,10,10,10,10,10,10,10,10,10,10,10,10,10,10,10,10,10,10,10,10,10,10,10,10,10,10,10,10,10,10,10,10,10,10,10,10,10,10,10,10,10,10,10,10,10,10,10,10,10,10,10,10,10,10,10,10,10,10,10,10,10,10,10,10,10,10,10,10,10,10,10,10,10,10,10,10,10,10,10,10,10,10,10,10,10,10,10,10,10,10,10,10,10,10,10,10,10,10,10,10,10,10,10,10,10,10,10,10,10,10,10,10,10,10,10,10,10,10,10,10,10,10,10,10,10,10,10,10,10,10,10,10,10,10,10,10,10,10,10,10,10,10,10,10,10,10,10,10,10,10,10,10,10,10,10,10,10,10,10,10,10],\"delay\":[0,0,0,8,8,43,26,26,10,-42,-42,-42,-42,-42,-25,-5,11,-15,-32,-32,-32,-4,-4,-4,-4,-32,-50,-73,-73,-73,-73,-98,-98,-98,-98,-124,-159,-159,-159,-174,-174,-174,-174,-174,-174,-174,-174,-174,-174,-213,-242,-259,-282,-264,-284,-284,-284,-284,-284,-284,-284,-319,-319,-319,-319,-319,-358,-377,-377,-377,-377,-377,-377,-377,-397,-397,-413,-413,-413,-413,-413,-413,-443,-459,-459,-426,-408,-408,-426,-426,-426,-426,-444,-444,-444,-444,-444,-444,-444,-418,-418,-418,-418,-399,-399,-399,-375,-375,-375,-375,-375,-375,-375,-404,-404,-404,-404,-384,-368,-388,-388,-388,-388,-388,-388,-368,-368,-368,-368,-392,-392,-392,-392,-409,-409,-409,-409,-392,-392,-392,-392,-392,-392,-392,-238,-238,-238,-238,-238,-238,-238,-238,-118,-118,-118,-118,-118,-118,-118,-118,0,0,0,0],\"dist_from_old_point\":[0,0,0,0,0,0,0,0,0,0,0,0,0,0,0,0,0,0,0,0,0,0,0,0,0,0,0,0,0,0,0,0,0,0,0,0,0,0,0,0,0,0,0,0,0,0,0,0,0,0,0,0,0,0,0,0,0,0,0,0,0,0,0,0,0,0,0,0,0,0,0,0,0,0,0,0,0,0,0,0,0,0,0,0,0,0,0,0,0,0,0,0,0,0,0,0,0,0,0,0,0,0,0,0,0,0,0,0,0,0,0,0,0,0,0,0,0,0,0,0,0,0,0,0,0,0,0,0,0,0,0,0,0,0,0,0,0,0,0,0,0,0,0,0,0,0,0,0,0,0,0,0,0,0,0,0,0,0,0,0,0,0,0,0],\"hour\":[6,6,6,6,6,6,6,6,6,6,6,6,6,6,6,6,6,6,6,6,6,6,6,6,6,6,6,6,6,6,6,6,6,6,6,6,6,6,6,6,6,6,6,6,6,7,7,7,7,7,7,7,7,7,7,7,7,7,7,7,7,7,7,7,7,7,7,7,7,7,7,7,7,7,7,7,7,7,7,7,7,7,7,7,7,7,7,7,7,7,7,7,7,7,7,7,7,7,7,7,7,7,7,7,7,7,7,7,7,7,7,7,7,7,7,7,7,7,7,7,7,7,7,7,7,7,7,7,7,7,7,7,7,7,7,7,7,7,7,7,7,7,7,7,7,7,7,7,7,7,7,7,7,7,7,7,7,7,7,7,7,7,7,7],\"index\":[49415,49798,50205,50777,51199,51612,52231,52633,53042,53582,53965,54403,54971,55391,55818,56431,56916,57297,57952,58367,58805,59433,59903,60350,60952,61414,61865,62939,63393,64005,64509,64950,65586,66027,66515,67152,68098,68763,69256,69724,70374,71467,72134,72621,73119,73798,74274,74767,75435,75924,76403,77041,77576,78062,78745,79275,79776,80469,80994,81515,82221,82707,83234,83942,84447,84973,85680,86227,86735,87453,88005,88539,89249,89804,91064,91590,93368,93936,94674,95228,95793,96517,97063,97619,98396,98961,99475,100234,100779,101360,102104,102650,103212,103998,104573,105133,105916,106506,107099,107902,108490,109044,109835,110438,111037,111809,112421,113024,113819,114429,115849,116447,117068,117876,118505,119132,119916,120505,121127,123091,123866,124488,125133,125954,126546,127157,127958,129305,130071,130717,131333,132150,132794,133434,134238,134887,135526,136359,136992,137662,138515,139138,140614,141930,141947,142771,143475,144054,144073,144952,145557,146252,146500,147066,147648,148312,148329,149140,149810,150490,150704,151308,151945,152629],\"journey_id\":[\"00420001\",\"00420001\",\"00420001\",\"00420001\",\"00420001\",\"00420001\",\"00420001\",\"00420001\",\"00420001\",\"00420001\",\"00420001\",\"00420001\",\"00420001\",\"00420001\",\"00420001\",\"00420001\",\"00420001\",\"00420001\",\"00420001\",\"00420001\",\"00420001\",\"00420001\",\"00420001\",\"00420001\",\"00420001\",\"00420001\",\"00420001\",\"00420001\",\"00420001\",\"00420001\",\"00420001\",\"00420001\",\"00420001\",\"00420001\",\"00420001\",\"00420001\",\"00420001\",\"00420001\",\"00420001\",\"00420001\",\"00420001\",\"00420001\",\"00420001\",\"00420001\",\"00420001\",\"00420001\",\"00420001\",\"00420001\",\"00420001\",\"00420001\",\"00420001\",\"00420001\",\"00420001\",\"00420001\",\"00420001\",\"00420001\",\"00420001\",\"00420001\",\"00420001\",\"00420001\",\"00420001\",\"00420001\",\"00420001\",\"00420001\",\"00420001\",\"00420001\",\"00420001\",\"00420001\",\"00420001\",\"00420001\",\"00420001\",\"00420001\",\"00420001\",\"00420001\",\"00420001\",\"00420001\",\"00420001\",\"00420001\",\"00420001\",\"00420001\",\"00420001\",\"00420001\",\"00420001\",\"00420001\",\"00420001\",\"00420001\",\"00420001\",\"00420001\",\"00420001\",\"00420001\",\"00420001\",\"00420001\",\"00420001\",\"00420001\",\"00420001\",\"00420001\",\"00420001\",\"00420001\",\"00420001\",\"00420001\",\"00420001\",\"00420001\",\"00420001\",\"00420001\",\"00420001\",\"00420001\",\"00420001\",\"00420001\",\"00420001\",\"00420001\",\"00420001\",\"00420001\",\"00420001\",\"00420001\",\"00420001\",\"00420001\",\"00420001\",\"00420001\",\"00420001\",\"00420001\",\"00420001\",\"00420001\",\"00420001\",\"00420001\",\"00420001\",\"00420001\",\"00420001\",\"00420001\",\"00420001\",\"00420001\",\"00420001\",\"00420001\",\"00420001\",\"00420001\",\"00420001\",\"00420001\",\"00420001\",\"00420001\",\"00420001\",\"00420001\",\"00420001\",\"00420001\",\"00420001\",\"00420001\",\"00420001\",\"00420001\",\"00420001\",\"00420001\",\"00420001\",\"00420001\",\"00420001\",\"00420001\",\"00420001\",\"00420001\",\"00420001\",\"00420001\",\"00420001\",\"00420001\",\"00420001\",\"00420001\",\"00420001\",\"00420001\",\"00420001\",\"00420001\"],\"lat\":{\"__ndarray__\":\"h8PSwI+sSkCHw9LAj6xKQIfD0sCPrEpAh8PSwI+sSkD7IwwDlqxKQP7zNGCQrEpA7KUpApysSkCjemtgq6xKQDyelh+4rEpAKf9aXrmsSkCVTbnCu6xKQAwDllzFrEpAqHfxftysSkALCRhd3qxKQPq6DP/prEpA+roM/+msSkDNixNf7axKQHqlLEMcrUpAyc1wAz6tSkAeMuVDUK1KQET11sBWrUpAfVcE/1utSkAyrU1je61KQN9vtOOGrUpAP+YDAp2tSkAI5X0cza1KQGctBaT9rUpA68N6o1auSkAUrkfheq5KQBHeHoSArkpAglfLnZmuSkBbmlshrK5KQNy4xfzcrkpAMPzgfOquSkAFdcqjG69KQIWTNH9Mr0pAUmFsIcivSkBWXvI/+a9KQF2gpMACsEpAz7uxoDCwSkAd5PVgUrBKQCWxpNx9sEpAwNTPm4qwSkCgqkIDsbBKQBkIAmTosEpAisxc4PKwSkD5wI7/ArFKQGe1wB4TsUpADJOpglGxSkAWNgNckLFKQEKSWb3DsUpAjup0IOuxSkBgdk8eFrJKQFSUS+MXskpAgm+aPjuySkCXOzPBcLJKQBO6S+KsskpAgzP4+8WySkB4J58e27JKQInS3uALs0pAr+yCwTWzSkBe1sQCX7NKQGwJ+aBns0pAi+HqAIizSkCzQLtDirNKQLOACdy6s0pAAAAAAAC0SkDgvg6cM7RKQFiR0QFJtEpATmGlgoq0SkBSZK2h1LRKQJkmbD8ZtUpAk2jJ42m1SkAPnDOitLVKQPmf/N07tkpAAg8MIHy2SkDqJFtdTrdKQL1SliGOt0pAMZV+wtm3SkDrG5jcKLhKQN7KEp1luEpAgDDw3Hu4SkARb51/u7hKQEku/yH9uEpAH4SAfAm5SkAfhIB8CblKQMvBbAIMuUpAZmoSvCG5SkAwgPChRLlKQPeov15huUpAK2ub4nG5SkBrD3uhgLlKQH/VkSOduUpAtaFinL+5SkDVeVT837lKQFSOyeL+uUpAyCjPvBy6SkC80cd8QLpKQPnwLEFGukpAETY8vVK6SkCBJOzbSbpKQEtenWNAukpA2EgShCu6SkB1NuSfGbpKQPhynxwFukpAPc40Yfu5SkC6ap4j8rlKQPlsHRzsuUpA8nUZ/tO5SkDrruyCwblKQHFXryKjuUpAkdJsHoe5SkAnUMQihrlKQIwyG2SSuUpAahX9oZm5SkC2m+CbprlKQAdagSGruUpATGpoA7C5SkAnLPGAsrlKQCP2CaAYuUpApKfIIeK4SkDjHksfurhKQORjd4GSuEpAg0vHnGe4SkA4v2GiQbhKQFxbeF4quEpAZeJWQQy4SkD61RwgmLdKQHtjCACOt0pAViWRfZC3SkC1xTU+k7dKQPFIvDydt0pA1ejVAKW3SkAVPIVcqbdKQGX6JeKtt0pAn1xTILO3SkB/2xMktrdKQCE7b2Ozt0pArASLw5m3SkDAc+/hkrdKQI4CRMGMt0pAGVdcHJW3SkAZV1wclbdKQBlXXByVt0pAIsZrXtW3SkCZ9s391bdKQJn2zf3Vt0pAmfbN/dW3SkB6k9+ik7dKQHqT36KTt0pAepPfopO3SkB6k9+ik7dKQJn2zf3Vt0pAmfbN/dW3SkCZ9s391bdKQJn2zf3Vt0pAepPfopO3SkB6k9+ik7dKQHqT36KTt0pAepPfopO3SkAixmte1bdKQPHwngPLt0pAYYicvp63SkDDQxg/jbdKQA==\",\"dtype\":\"float64\",\"order\":\"little\",\"shape\":[164]},\"lat_m\":{\"__ndarray__\":\"9Us70XniWkH1SzvReeJaQfVLO9F54lpB9Us70XniWkGktsS4guJaQa7K/bN64lpBPzjWQIviWkFz/kweoeJaQT4oBUGz4lpBQ4eNBrXiWkE6bdBtuOJaQZ8+zxbG4lpBFpcdAefiWkF4uG6p6eJaQVq0gzb64lpBWrSDNvriWkFZIt8D/+JaQT5w47tB41pBizcJwnHjWkFOXoy6i+NaQZBI9PWU41pB+gPJa5zjWkHMVwwXyeNaQUD223TZ41pB0/pI7vjjWkFpfyJiPeRaQf+yx3GC5FpBSgMCGgHlWkHmyEeuNOVaQbJOx7M85VpBnPkbbWDlWkHRnsrGeuVaQQqSqFDA5VpBTsTch9PlWkFIt/x9GeZaQXG0Rglf5lpBYkeTBw/nWkHaIpr0VOdaQUhK2Xti51pBv29Ny6PnWkFL9GTY0+daQRdM8MAR6FpBhLrp5iPoWkEvOs+UWuhaQT77Km6p6FpBj3pWXLjoWkGj5vpQz+haQQC1sEXm6FpBjYa4HD/pWkHQBAKcmOlaQbOIK8fh6VpB+iOa3hnqWkHUj5YYV+paQeuAt51Z6lpB596D+IvqWkG2wJAu2OpaQZKK4NIt61pBgXg2k1HrWkEaFPGtb+taQcW4oSG161pBhWyWyPDrWkHaffWMK+xaQUwwudM37FpBYvAs8mXsWkGxt7kqaexaQYGa5WSu7FpBY0Hr5BDtWkHZzR5sWu1aQWTWe+h47VpBs3xhPNbtWkFO+vzYP+5aQWh42p6h7lpB7TgYiRTvWkH2My0Nf+9aQR5B4Mg/8FpBt077XpvwWkGj7oINx/FaQfwT2/Qh8lpBwuSTxo3yWkFt35KN/vJaQSi0LyxV81pBEyeN5XTzWkEE6Raiz/NaQZKhXjkt9FpBYlIO1z70WkFiUg7XPvRaQScrI3BC9FpBNZITa2H0WkHdThQvk/RaQaTuYSq89FpBd66wt9P0WkHQnA+/6PRaQTyuEmcR9VpBGo+tkEL1WkGoE+e8cPVaQdJjA8+c9VpBjAKDYsf1WkF8aeVf+vVaQda1spkC9lpB2INPaBT2WkEAKNS9B/ZaQT56ADz69VpBDxKCdtz1WkFC3+PxwvVaQYAiN7Cl9VpB/5LYzpf1WkF2dPagivVaQeNlkweC9VpB7JUfol/1WkF0+JFGRfVaQdsgX/QZ9VpBqyDD//H0WkG7DN6Y8PRaQciXGxMC9VpBveH+Zgz1WkFohn7oHvVaQVJ7c1sl9VpBMRIDUiz1WkHzdj3fL/VaQR/QkW1U9FpBJ0vLuAb0WkF11bWrzfNaQYY1lC6V81pBy8fJBVjzWkFaLYjfIfNaQWi+vbMA81pBFQh3xNXyWkGcoU80MPJaQWc9BcUh8lpBnVzkUSXyWkEvqm8+KfJaQUKl53038lpBy3svkELyWkEe8rzGSPJaQSxUFzlP8lpB/veMslbyWkH5C8v+WvJaQY9MORJX8lpBy81BijLyWkEtfeO6KPJaQcLVlf4f8lpBx58X6CvyWkHHnxfoK/JaQcefF+gr8lpBrKkChIfyWkGrYj1niPJaQatiPWeI8lpBq2I9Z4jyWkEtUvHNKfJaQS1S8c0p8lpBLVLxzSnyWkEtUvHNKfJaQatiPWeI8lpBq2I9Z4jyWkGrYj1niPJaQatiPWeI8lpBLVLxzSnyWkEtUvHNKfJaQS1S8c0p8lpBLVLxzSnyWkGsqQKEh/JaQYGC18B48lpBBmUEpDnyWkFjsfexIPJaQQ==\",\"dtype\":\"float64\",\"order\":\"little\",\"shape\":[164]},\"line_id\":[\"42.0\",\"42.0\",\"42.0\",\"42.0\",\"42.0\",\"42.0\",\"42.0\",\"42.0\",\"42.0\",\"42.0\",\"42.0\",\"42.0\",\"42.0\",\"42.0\",\"42.0\",\"42.0\",\"42.0\",\"42.0\",\"42.0\",\"42.0\",\"42.0\",\"42.0\",\"42.0\",\"42.0\",\"42.0\",\"42.0\",\"42.0\",\"42.0\",\"42.0\",\"42.0\",\"42.0\",\"42.0\",\"42.0\",\"42.0\",\"42.0\",\"42.0\",\"42.0\",\"42.0\",\"42.0\",\"42.0\",\"42.0\",\"42.0\",\"42.0\",\"42.0\",\"42.0\",\"42.0\",\"42.0\",\"42.0\",\"42.0\",\"42.0\",\"42.0\",\"42.0\",\"42.0\",\"42.0\",\"42.0\",\"42.0\",\"42.0\",\"42.0\",\"42.0\",\"42.0\",\"42.0\",\"42.0\",\"42.0\",\"42.0\",\"42.0\",\"42.0\",\"42.0\",\"42.0\",\"42.0\",\"42.0\",\"42.0\",\"42.0\",\"42.0\",\"42.0\",\"42.0\",\"42.0\",\"42.0\",\"42.0\",\"42.0\",\"42.0\",\"42.0\",\"42.0\",\"42.0\",\"42.0\",\"42.0\",\"42.0\",\"42.0\",\"42.0\",\"42.0\",\"42.0\",\"42.0\",\"42.0\",\"42.0\",\"42.0\",\"42.0\",\"42.0\",\"42.0\",\"42.0\",\"42.0\",\"42.0\",\"42.0\",\"42.0\",\"42.0\",\"42.0\",\"42.0\",\"42.0\",\"42.0\",\"42.0\",\"42.0\",\"42.0\",\"42.0\",\"42.0\",\"42.0\",\"42.0\",\"42.0\",\"42.0\",\"42.0\",\"42.0\",\"42.0\",\"42.0\",\"42.0\",\"42.0\",\"42.0\",\"42.0\",\"42.0\",\"42.0\",\"42.0\",\"42.0\",\"42.0\",\"42.0\",\"42.0\",\"42.0\",\"42.0\",\"42.0\",\"42.0\",\"42.0\",\"42.0\",\"42.0\",\"42.0\",\"42.0\",\"42.0\",\"42.0\",\"42.0\",\"42.0\",\"42.0\",\"42.0\",\"42.0\",\"42.0\",\"42.0\",\"42.0\",\"42.0\",\"42.0\",\"42.0\",\"42.0\",\"42.0\",\"42.0\",\"42.0\",\"42.0\",\"42.0\",\"42.0\",\"42.0\",\"42.0\",\"42.0\",\"42.0\"],\"lng\":{\"__ndarray__\":\"q5Se6SUGGcCrlJ7pJQYZwKuUnuklBhnAq5Se6SUGGcBBoDNpUwUZwInPnWD/BRnAaQBvgQQFGcCocW9+wwQZwGrZWl8kBBnAKlPMQdABGcAOLh1zngEZwP63kh0bARnA7l7uk6MAGcAFNufgmQAZwILGTKJeABnAgsZMol4AGcDMJVXbTQAZwAL20akr/xjAQiPYuP79GMCYoIZvYf0YwDifOlYp/RjATx+BP/z8GMB5dY4B2fsYwNV6v9GO+xjAcHhBRGr6GMDndcQhG/gYwGEYsOQq9hjAM7+aAwTzGMA3GsBbIPEYwO4kIvyL8BjA1zOEY5btGMAa3qzB++oYwE+WWu836hjAHEMAcOzpGMC4kh0bgegYwJ9ZEqCm5hjAHqm+84viGMCBIhYx7OAYwLXf2omS4BjAgJnv4CfeGMC9cyhDVdwYwNkngGJk2RjAveDTnLzYGMCfdvhrstYYwO1I9Z1f1BjA+WabG9PTGMAM5q+QudIYwFmIDoEj0RjAcxHfiVnPGMBruMg9Xc0YwK6+uipQyxjAWyiZnNrJGMCzs+idCsgYwMpt+x71xxjAyO4CJQXGGMDfpj/7kcIYwIj3HFiOwBjAbc1WXvK/GMC9OzJWm78YwGqIKvwZvhjAeEXwv5W8GMDovwevXboYwMzs8xjluRjAMKAX7ly4GMDm6VxRSrgYwJlnJa34thjAHeVgNgG2GMBtrwW9N7YYwM2TawpkthjAatYZ3xe3GMCYGqGfqbcYwDMYIxKFthjAhBJm2v61GMCWs3dGW7UYwNALdy6MtBjACeI8nMC0GMDrUiP0M7UYwKgf1EUKtRjAw2Fp4Ee1GMCFJR5QNrUYwFiK5CuBtBjA9KljldKzGMBuowG8BbIYwA+6hENvsRjAxY8xdy2xGMDFjzF3LbEYwDcawFsgsRjAuM1UiEeyGMCyu0BJgbUYwFh06zU9uBjAvJhmute5GMB1P6cgP7sYwGQdjq7SvRjAJzPeVnq9GMAXYYpyabwYwOaUgJiEuxjAqU4Hsp66GMB96IL6lrkYwKtcqPxruRjAHRzsTQy5GMDoiHyXUrcYwGfV52orthjAxHk4gem0GMAOK9zykbQYwJ8ih4ibsxjAL1T+tbyyGMCcFye+2rEYwA9G7BNAsRjARl7WxAKvGMBm3qrrUK0YwBX/d0SFqhjAdM5PcRyoGMAXuaerO6YYwOMbCp+toxjATIxl+iWiGMCPNo5Yi58YwCridJKtnhjAdlQ1QdSdGMBIZ2DkZZ0YwG10zk9xnBjAsmg6OxmcGMADtRg8TJsYwNuhYTHqmhjAMSk+PiGbGMAfZi/bTpsYwBkAqrhxmxjAhV5/Ep+bGMBmDkktlJwYwCEiNe1imhjAOdVamIWWGMAXZTbIJJMYwILLY83IkBjACFdAoZ6OGMB08iIT8IsYwE/QJodPihjAih74GKyIGMBDVOHP8IYYwEFJgQUwhRjAFZFhFW+EGMC+baZCPIIYwDP8pxsogBjAisba39l+GMCKxtrf2X4YwIrG2t/ZfhjA/u+ICtV9GMD+74gK1X0YwP7viArVfRjA0AfL2NB9GMB/aVGf5H4YwH9pUZ/kfhjAf2lRn+R+GMB/aVGf5H4YwNAHy9jQfRjA0AfL2NB9GMDQB8vY0H0YwNAHy9jQfRjAf2lRn+R+GMB/aVGf5H4YwH9pUZ/kfhjAf2lRn+R+GMDQB8vY0H0YwOIEptO6fRjAdCSX/5B+GMCJ7e4Bun8YwA==\",\"dtype\":\"float64\",\"order\":\"little\",\"shape\":[164]},\"lng_m\":{\"__ndarray__\":\"Pxv/W75AJcE/G/9bvkAlwT8b/1u+QCXBPxv/W75AJcEf3YuUC0AlwXx3paGdQCXBm4HgkMg/JcEmK/lZkT8lwbMcqDUKPyXBqZq17Q89JcGvoIyg5TwlwVmcwxV2PCXBzarHjxA8JcFKivFSCDwlwRZO8QHWOyXBFk7xAdY7JcHnuznCxzslwWmHHkzROiXBQ7kxtdE5JcHOvtgfTDklwQLuynocOSXBJJWNL/Y4JcGC53bV/jclwRwtt9O/NyXBDyimXMc2JcFsJZ5P0TQlwZ91/NorMyXBK9eXkn4wJcEC1b/N4y4lwTVgQMplLiXBK/8GXeIrJcG16kQxrCklwX1MkuEFKSXBqzrYwsUoJcHoxPgukSclwbEm+TT+JSXBCASx3oEiJcFz5bPDICElwUrwNp/UICXB0cGlMcceJcEgMITlOh0lwTNwNnq7GiXBYLoK/SwaJcF0FNl9cRglwdbp4FJ4FiXBj4E//QAWJcFw9P7fERUlwV/21wG5EyXBDQyRDjQSJcEwayNchBAlwSQ4/mnGDiXBTeVKJ4kNJcFyAh4V/wslwSfPetPsCyXBpP3Xl0cKJcGEsryFWQclwbLBbpejBSXBqR4QHx8FJcFW2Ic01QQlwbdyB+2NAyXB93+TMkQCJcFT5ie9YQAlwaR7MFP7/yTBooLNQa7+JMF23B1znv4kwYt+z7B//STBW9L7hK38JMFzbRDU2/wkwXUrUXQB/STBWdJIL5r9JMFQmNP4Ff4kwUKTwoEd/STBzAEGhKv8JMGGMMiWIPwkwRU8RrRw+yTB6ORjO537JMHo8XEx//skwb3iJcvb+yTBf+8bHRD8JMF3wmcyAfwkwSbEdVpn+yTB8XpnE9P6JMGAAy2tS/kkwW6ctuHL+CTBHqvS/5P4JMEeq9L/k/gkwepAC96I+CTBz/QQj4P5JMG3FyTfQPwkwUJyVlGT/iTBKDNq+O//JMGnolo1IQElwXBFO15RAyXBs6e4VgYDJcHzwVKSHgIlwfC7LjVcASXByDwP9JgAJcH7uoH6uP8kwWNUO3eU/yTBsWbYM0P/JMH9UUsOzP0kwRmeRV3R/CTBOVmz9r/7JMFVVi2adfskwUkjVVKk+iTBzRUXFOf5JMHonOYpJ/kkwUpRgs6j+CTB+Fkt5bz2JMHKUX5tTPUkwTPej5/s8iTBt8P2wODwJMGvThJvSO8kwd3nGfMc7STBa6u0U9DrJMH2lvInmukkwZwCsM3d6CTBGTFaPCXoJMF9ozaBx+ckwW6EVsj35iTB+cTS+azmJMHPwkff/uUkwY4E75qr5STBOFwBXNrlJMGmcTwZAeYkwW/tpbUe5iTBlSTiOUXmJME2AMBkFeckwfb5Nrk45STBxwXme/DhJMGKgnv/Ed8kwfvzqgkR3STBZV8DYTrbJMFZTZdJ89gkweuTnYOR1yTBW02wSi3WJMHzAirPtNQkwZN8u6Y30yTBe2v8yZPSJMGFL3rItdAkwc6Kc9PxziTBk3YW9tXNJMGTdhb21c0kwZN2FvbVzSTB5oF8b/jMJMHmgXxv+MwkweaBfG/4zCTBWp2O3/TMJME6EOgW380kwToQ6BbfzSTBOhDoFt/NJME6EOgW380kwVqdjt/0zCTBWp2O3/TMJMFanY7f9MwkwVqdjt/0zCTBOhDoFt/NJME6EOgW380kwToQ6BbfzSTBOhDoFt/NJMFanY7f9MwkwX6t7SvizCTBmRNREZjNJMF7205RlM4kwQ==\",\"dtype\":\"float64\",\"order\":\"little\",\"shape\":[164]},\"operator\":[\"CF\",\"CF\",\"CF\",\"CF\",\"CF\",\"CF\",\"CF\",\"CF\",\"CF\",\"CF\",\"CF\",\"CF\",\"CF\",\"CF\",\"CF\",\"CF\",\"CF\",\"CF\",\"CF\",\"CF\",\"CF\",\"CF\",\"CF\",\"CF\",\"CF\",\"CF\",\"CF\",\"CF\",\"CF\",\"CF\",\"CF\",\"CF\",\"CF\",\"CF\",\"CF\",\"CF\",\"CF\",\"CF\",\"CF\",\"CF\",\"CF\",\"CF\",\"CF\",\"CF\",\"CF\",\"CF\",\"CF\",\"CF\",\"CF\",\"CF\",\"CF\",\"CF\",\"CF\",\"CF\",\"CF\",\"CF\",\"CF\",\"CF\",\"CF\",\"CF\",\"CF\",\"CF\",\"CF\",\"CF\",\"CF\",\"CF\",\"CF\",\"CF\",\"CF\",\"CF\",\"CF\",\"CF\",\"CF\",\"CF\",\"CF\",\"CF\",\"CF\",\"CF\",\"CF\",\"CF\",\"CF\",\"CF\",\"CF\",\"CF\",\"CF\",\"CF\",\"CF\",\"CF\",\"CF\",\"CF\",\"CF\",\"CF\",\"CF\",\"CF\",\"CF\",\"CF\",\"CF\",\"CF\",\"CF\",\"CF\",\"CF\",\"CF\",\"CF\",\"CF\",\"CF\",\"CF\",\"CF\",\"CF\",\"CF\",\"CF\",\"CF\",\"CF\",\"CF\",\"CF\",\"CF\",\"CF\",\"CF\",\"CF\",\"CF\",\"CF\",\"CF\",\"CF\",\"CF\",\"CF\",\"CF\",\"CF\",\"CF\",\"CF\",\"CF\",\"CF\",\"CF\",\"CF\",\"CF\",\"CF\",\"CF\",\"CF\",\"CF\",\"CF\",\"CF\",\"CF\",\"CF\",\"CF\",\"CF\",\"CF\",\"CF\",\"CF\",\"CF\",\"CF\",\"CF\",\"CF\",\"CF\",\"CF\",\"CF\",\"CF\",\"CF\",\"CF\",\"CF\",\"CF\",\"CF\",\"CF\",\"CF\",\"CF\",\"CF\",\"CF\"],\"outlier\":[1,1,1,1,1,1,1,1,1,1,1,1,1,1,1,1,1,1,1,1,1,1,1,1,1,1,-1,-1,1,1,1,1,1,1,1,-1,-1,1,1,1,1,1,1,1,-1,1,1,1,-1,-1,-1,1,-1,1,1,-1,-1,1,1,1,1,1,1,1,1,1,-1,1,1,1,-1,-1,-1,-1,-1,1,-1,1,-1,-1,-1,1,-1,1,1,1,1,1,-1,1,1,1,1,1,1,1,1,1,1,1,1,1,1,1,1,1,1,1,1,1,1,1,1,1,1,1,1,1,1,-1,1,1,1,1,1,1,1,-1,1,-1,1,1,1,1,1,1,1,1,1,1,1,1,1,1,-1,1,1,1,-1,1,1,1,-1,1,1,1,-1,1,1,1,-1,1,1,1],\"outlier2\":[1,1,1,1,1,1,1,1,1,1,1,1,1,1,1,1,1,1,1,1,1,1,1,1,1,1,1,1,1,1,1,1,1,1,1,1,-1,1,1,1,1,1,1,1,1,1,1,1,1,1,1,-1,1,1,1,1,1,1,1,1,1,1,1,1,1,1,1,1,1,1,1,1,1,1,-1,1,-1,1,1,1,1,1,1,1,1,1,1,1,1,1,1,1,1,1,1,1,1,1,1,1,1,1,1,1,1,1,1,1,1,1,1,1,1,1,1,1,1,1,1,-1,1,1,1,1,1,1,1,1,1,1,1,1,1,1,1,1,1,1,1,1,1,1,1,1,1,1,1,1,1,1,1,1,1,1,1,1,1,1,1,1,1,1,1,1],\"outlier2_norm\":[1,1,1,1,1,1,1,1,1,1,1,-1,1,-1,1,1,1,1,1,1,1,1,-1,1,1,1,1,1,1,1,1,1,1,1,1,1,1,1,1,1,1,1,1,1,1,1,1,1,1,1,-1,1,1,1,1,1,1,1,1,1,1,1,1,1,1,1,1,1,1,1,1,1,1,1,1,1,1,1,1,1,1,1,1,1,1,1,1,1,1,1,1,1,1,1,1,-1,1,1,1,1,1,1,1,1,1,1,1,1,1,1,1,1,1,1,1,1,1,1,1,-1,1,1,1,1,1,1,1,1,1,1,1,1,1,1,1,1,1,1,1,1,1,1,1,1,1,1,1,1,1,1,1,1,1,1,1,1,1,1,1,1,1,1,1,1],\"outlier_0\":[-1,1,1,1,1,1,1,1,1,1,1,1,1,1,1,1,1,1,1,1,1,1,1,1,1,1,1,-1,1,1,1,1,1,1,1,1,-1,1,1,1,1,-1,1,1,1,1,1,1,1,1,1,1,1,1,1,-1,1,1,1,1,1,1,1,1,1,1,1,1,1,1,1,1,-1,1,-1,1,-1,1,1,1,1,1,1,1,1,1,1,1,1,1,1,1,1,1,1,1,1,1,1,1,1,1,1,1,1,1,1,1,1,1,-1,1,1,1,1,1,1,1,1,-1,1,1,1,1,1,1,1,-1,1,1,1,1,1,1,1,1,1,1,1,1,1,1,-1,-1,-1,1,1,1,-1,1,1,1,-1,1,1,1,-1,1,1,1,-1,1,1,1],\"outlier_MF\":[1,1,1,1,1,1,1,1,1,1,1,1,1,1,1,1,1,1,1,1,1,1,1,1,1,1,1,1,-1,-1,1,1,1,1,1,1,1,-1,-1,-1,-1,1,1,1,1,1,1,1,1,1,1,1,-1,1,1,1,1,1,1,1,1,1,1,1,1,1,1,1,1,1,1,1,-1,-1,1,-1,1,-1,-1,-1,-1,1,-1,1,1,1,1,1,1,1,1,1,1,1,1,1,1,1,1,1,1,1,1,1,1,1,1,1,1,1,1,1,1,1,1,1,1,1,1,1,1,1,-1,-1,1,1,1,1,1,1,1,1,1,1,1,1,1,1,1,1,1,1,1,1,-1,1,1,1,1,1,1,1,1,1,1,1,1,1,1,1,1,1,1,1],\"outlier_norm\":[1,1,1,1,1,1,1,1,1,1,1,1,1,1,1,1,1,1,1,1,1,1,1,1,1,1,-1,-1,1,1,1,1,1,1,1,-1,-1,1,1,1,1,1,1,1,1,1,1,1,1,-1,-1,1,-1,1,1,-1,-1,1,1,1,1,1,1,1,1,1,-1,1,1,1,-1,-1,-1,-1,-1,-1,-1,1,-1,-1,-1,1,-1,1,1,1,1,1,-1,1,1,1,1,1,1,1,1,1,1,1,1,1,1,1,1,1,1,1,1,1,1,1,1,1,1,1,1,1,1,-1,1,1,1,1,1,1,1,-1,1,-1,-1,1,1,1,1,1,1,1,1,1,1,1,1,1,-1,1,1,1,-1,1,1,1,-1,1,1,1,-1,1,1,1,-1,1,1,1],\"stop\":[true,true,true,true,false,false,false,false,false,false,false,false,true,false,false,false,false,false,true,false,false,false,false,true,false,false,false,false,false,false,false,false,false,false,false,false,false,false,false,false,false,false,false,false,false,true,false,false,false,false,false,false,false,false,false,false,false,true,false,false,false,false,false,false,false,false,false,false,false,false,false,false,false,false,false,false,false,false,false,false,true,false,false,false,false,false,false,false,false,false,true,false,false,false,false,false,false,true,false,false,false,false,false,false,false,false,false,false,false,true,false,false,false,true,false,false,true,false,false,false,false,false,false,false,false,false,false,false,false,false,false,false,false,false,false,false,false,false,false,false,false,false,false,false,true,true,true,true,false,false,false,false,true,true,true,true,false,false,false,false,true,true,true,true],\"stop_id\":[299.0,299.0,299.0,299.0,299.0,299.0,299.0,299.0,299.0,299.0,299.0,299.0,497.0,497.0,497.0,497.0,497.0,497.0,515.0,515.0,515.0,515.0,515.0,516.0,516.0,4384.0,4384.0,521.0,521.0,522.0,522.0,523.0,523.0,669.0,669.0,670.0,671.0,672.0,4382.0,4382.0,4382.0,1196.0,1197.0,1197.0,1197.0,1198.0,1198.0,1198.0,1199.0,1200.0,4385.0,4385.0,1201.0,1201.0,1201.0,1202.0,1202.0,1203.0,1203.0,1203.0,1203.0,6115.0,1205.0,1205.0,1205.0,1205.0,1205.0,1205.0,1206.0,1206.0,1207.0,1208.0,1209.0,1210.0,1211.0,3575.0,3576.0,3577.0,3577.0,3578.0,3579.0,3579.0,3579.0,3580.0,3580.0,3580.0,3580.0,3580.0,3640.0,3640.0,3574.0,3574.0,3574.0,3574.0,3574.0,3641.0,3641.0,3642.0,3642.0,3642.0,3642.0,3642.0,3642.0,3642.0,3642.0,3642.0,3642.0,3642.0,3642.0,3643.0,3643.0,3643.0,3583.0,3584.0,3584.0,3584.0,3585.0,3585.0,3585.0,3625.0,3625.0,3626.0,3626.0,3627.0,3627.0,3627.0,3628.0,3628.0,3628.0,3628.0,3628.0,3628.0,3628.0,6052.0,6052.0,3613.0,3613.0,3615.0,3615.0,3615.0,3615.0,3615.0,3615.0,3615.0,3616.0,3616.0,3616.0,3616.0,3615.0,3615.0,3615.0,3615.0,3616.0,3616.0,3616.0,3616.0,3615.0,3615.0,3615.0,3615.0,3616.0,3616.0,3616.0,3616.0],\"time_frame\":[\"2013-01-10\",\"2013-01-10\",\"2013-01-10\",\"2013-01-10\",\"2013-01-10\",\"2013-01-10\",\"2013-01-10\",\"2013-01-10\",\"2013-01-10\",\"2013-01-10\",\"2013-01-10\",\"2013-01-10\",\"2013-01-10\",\"2013-01-10\",\"2013-01-10\",\"2013-01-10\",\"2013-01-10\",\"2013-01-10\",\"2013-01-10\",\"2013-01-10\",\"2013-01-10\",\"2013-01-10\",\"2013-01-10\",\"2013-01-10\",\"2013-01-10\",\"2013-01-10\",\"2013-01-10\",\"2013-01-10\",\"2013-01-10\",\"2013-01-10\",\"2013-01-10\",\"2013-01-10\",\"2013-01-10\",\"2013-01-10\",\"2013-01-10\",\"2013-01-10\",\"2013-01-10\",\"2013-01-10\",\"2013-01-10\",\"2013-01-10\",\"2013-01-10\",\"2013-01-10\",\"2013-01-10\",\"2013-01-10\",\"2013-01-10\",\"2013-01-10\",\"2013-01-10\",\"2013-01-10\",\"2013-01-10\",\"2013-01-10\",\"2013-01-10\",\"2013-01-10\",\"2013-01-10\",\"2013-01-10\",\"2013-01-10\",\"2013-01-10\",\"2013-01-10\",\"2013-01-10\",\"2013-01-10\",\"2013-01-10\",\"2013-01-10\",\"2013-01-10\",\"2013-01-10\",\"2013-01-10\",\"2013-01-10\",\"2013-01-10\",\"2013-01-10\",\"2013-01-10\",\"2013-01-10\",\"2013-01-10\",\"2013-01-10\",\"2013-01-10\",\"2013-01-10\",\"2013-01-10\",\"2013-01-10\",\"2013-01-10\",\"2013-01-10\",\"2013-01-10\",\"2013-01-10\",\"2013-01-10\",\"2013-01-10\",\"2013-01-10\",\"2013-01-10\",\"2013-01-10\",\"2013-01-10\",\"2013-01-10\",\"2013-01-10\",\"2013-01-10\",\"2013-01-10\",\"2013-01-10\",\"2013-01-10\",\"2013-01-10\",\"2013-01-10\",\"2013-01-10\",\"2013-01-10\",\"2013-01-10\",\"2013-01-10\",\"2013-01-10\",\"2013-01-10\",\"2013-01-10\",\"2013-01-10\",\"2013-01-10\",\"2013-01-10\",\"2013-01-10\",\"2013-01-10\",\"2013-01-10\",\"2013-01-10\",\"2013-01-10\",\"2013-01-10\",\"2013-01-10\",\"2013-01-10\",\"2013-01-10\",\"2013-01-10\",\"2013-01-10\",\"2013-01-10\",\"2013-01-10\",\"2013-01-10\",\"2013-01-10\",\"2013-01-10\",\"2013-01-10\",\"2013-01-10\",\"2013-01-10\",\"2013-01-10\",\"2013-01-10\",\"2013-01-10\",\"2013-01-10\",\"2013-01-10\",\"2013-01-10\",\"2013-01-10\",\"2013-01-10\",\"2013-01-10\",\"2013-01-10\",\"2013-01-10\",\"2013-01-10\",\"2013-01-10\",\"2013-01-10\",\"2013-01-10\",\"2013-01-10\",\"2013-01-10\",\"2013-01-10\",\"2013-01-10\",\"2013-01-10\",\"2013-01-10\",\"2013-01-10\",\"2013-01-10\",\"2013-01-10\",\"2013-01-10\",\"2013-01-10\",\"2013-01-10\",\"2013-01-10\",\"2013-01-10\",\"2013-01-10\",\"2013-01-10\",\"2013-01-10\",\"2013-01-10\",\"2013-01-10\",\"2013-01-10\",\"2013-01-10\",\"2013-01-10\",\"2013-01-10\",\"2013-01-10\",\"2013-01-10\",\"2013-01-10\",\"2013-01-10\"],\"time_from_old_point\":[0,18,21,18,21,20,21,20,21,20,19,20,21,18,21,18,22,19,20,21,20,19,20,20,21,21,18,41,21,18,21,20,21,18,21,18,41,21,20,21,18,48,18,20,21,21,19,20,21,20,19,23,18,19,20,21,20,19,20,21,20,19,20,21,18,21,20,21,18,21,21,20,18,21,41,21,57,21,20,21,19,21,18,21,21,20,18,21,18,21,21,19,20,21,21,18,20,21,20,21,21,18,21,21,19,18,21,20,19,20,42,20,21,18,21,20,21,18,21,56,20,21,20,21,20,18,20,47,18,20,21,19,21,20,19,21,20,19,20,21,19,21,39,41,2,18,21,18,2,21,18,21,2,18,19,21,2,17,21,20,2,19,18,21],\"timestamp\":[1357800252000000,1357800270000000,1357800291000000,1357800309000000,1357800330000000,1357800350000000,1357800371000000,1357800391000000,1357800412000000,1357800432000000,1357800451000000,1357800471000000,1357800492000000,1357800510000000,1357800531000000,1357800549000000,1357800571000000,1357800590000000,1357800610000000,1357800631000000,1357800651000000,1357800670000000,1357800690000000,1357800710000000,1357800731000000,1357800752000000,1357800770000000,1357800811000000,1357800832000000,1357800850000000,1357800871000000,1357800891000000,1357800912000000,1357800930000000,1357800951000000,1357800969000000,1357801010000000,1357801031000000,1357801051000000,1357801072000000,1357801090000000,1357801138000000,1357801156000000,1357801176000000,1357801197000000,1357801218000000,1357801237000000,1357801257000000,1357801278000000,1357801298000000,1357801317000000,1357801340000000,1357801358000000,1357801377000000,1357801397000000,1357801418000000,1357801438000000,1357801457000000,1357801477000000,1357801498000000,1357801518000000,1357801537000000,1357801557000000,1357801578000000,1357801596000000,1357801617000000,1357801637000000,1357801658000000,1357801676000000,1357801697000000,1357801718000000,1357801738000000,1357801756000000,1357801777000000,1357801818000000,1357801839000000,1357801896000000,1357801917000000,1357801937000000,1357801958000000,1357801977000000,1357801998000000,1357802016000000,1357802037000000,1357802058000000,1357802078000000,1357802096000000,1357802117000000,1357802135000000,1357802156000000,1357802177000000,1357802196000000,1357802216000000,1357802237000000,1357802258000000,1357802276000000,1357802296000000,1357802317000000,1357802337000000,1357802358000000,1357802379000000,1357802397000000,1357802418000000,1357802439000000,1357802458000000,1357802476000000,1357802497000000,1357802517000000,1357802536000000,1357802556000000,1357802598000000,1357802618000000,1357802639000000,1357802657000000,1357802678000000,1357802698000000,1357802719000000,1357802737000000,1357802758000000,1357802814000000,1357802834000000,1357802855000000,1357802875000000,1357802896000000,1357802916000000,1357802934000000,1357802954000000,1357803001000000,1357803019000000,1357803039000000,1357803060000000,1357803079000000,1357803100000000,1357803120000000,1357803139000000,1357803160000000,1357803180000000,1357803199000000,1357803219000000,1357803240000000,1357803259000000,1357803280000000,1357803319000000,1357803360000000,1357803362000000,1357803380000000,1357803401000000,1357803419000000,1357803421000000,1357803442000000,1357803460000000,1357803481000000,1357803483000000,1357803501000000,1357803520000000,1357803541000000,1357803543000000,1357803560000000,1357803581000000,1357803601000000,1357803603000000,1357803622000000,1357803640000000,1357803661000000],\"vehicle_id\":[\"38083\",\"38083\",\"38083\",\"38083\",\"38083\",\"38083\",\"38083\",\"38083\",\"38083\",\"38083\",\"38083\",\"38083\",\"38083\",\"38083\",\"38083\",\"38083\",\"38083\",\"38083\",\"38083\",\"38083\",\"38083\",\"38083\",\"38083\",\"38083\",\"38083\",\"38083\",\"38083\",\"38083\",\"38083\",\"38083\",\"38083\",\"38083\",\"38083\",\"38083\",\"38083\",\"38083\",\"38083\",\"38083\",\"38083\",\"38083\",\"38083\",\"38083\",\"38083\",\"38083\",\"38083\",\"38083\",\"38083\",\"38083\",\"38083\",\"38083\",\"38083\",\"38083\",\"38083\",\"38083\",\"38083\",\"38083\",\"38083\",\"38083\",\"38083\",\"38083\",\"38083\",\"38083\",\"38083\",\"38083\",\"38083\",\"38083\",\"38083\",\"38083\",\"38083\",\"38083\",\"38083\",\"38083\",\"38083\",\"38083\",\"38083\",\"38083\",\"38083\",\"38083\",\"38083\",\"38083\",\"38083\",\"38083\",\"38083\",\"38083\",\"38083\",\"38083\",\"38083\",\"38083\",\"38083\",\"38083\",\"38083\",\"38083\",\"38083\",\"38083\",\"38083\",\"38083\",\"38083\",\"38083\",\"38083\",\"38083\",\"38083\",\"38083\",\"38083\",\"38083\",\"38083\",\"38083\",\"38083\",\"38083\",\"38083\",\"38083\",\"38083\",\"38083\",\"38083\",\"38083\",\"38083\",\"38083\",\"38083\",\"38083\",\"38083\",\"38083\",\"38083\",\"38083\",\"38083\",\"38083\",\"38083\",\"38083\",\"38083\",\"38083\",\"38083\",\"38083\",\"38083\",\"38083\",\"38083\",\"38083\",\"38083\",\"38083\",\"38083\",\"38083\",\"38083\",\"38083\",\"38083\",\"38083\",\"38083\",\"38083\",\"38083\",\"38083\",\"38083\",\"38083\",\"38083\",\"38083\",\"38083\",\"38083\",\"38083\",\"38083\",\"38083\",\"38083\",\"38083\",\"38083\",\"38083\",\"38083\",\"38083\",\"38083\",\"38083\",\"38083\"],\"vehicle_journey_id\":[\"7165\",\"7165\",\"7165\",\"7165\",\"7165\",\"7165\",\"7165\",\"7165\",\"7165\",\"7165\",\"7165\",\"7165\",\"7165\",\"7165\",\"7165\",\"7165\",\"7165\",\"7165\",\"7165\",\"7165\",\"7165\",\"7165\",\"7165\",\"7165\",\"7165\",\"7165\",\"7165\",\"7165\",\"7165\",\"7165\",\"7165\",\"7165\",\"7165\",\"7165\",\"7165\",\"7165\",\"7165\",\"7165\",\"7165\",\"7165\",\"7165\",\"7165\",\"7165\",\"7165\",\"7165\",\"7165\",\"7165\",\"7165\",\"7165\",\"7165\",\"7165\",\"7165\",\"7165\",\"7165\",\"7165\",\"7165\",\"7165\",\"7165\",\"7165\",\"7165\",\"7165\",\"7165\",\"7165\",\"7165\",\"7165\",\"7165\",\"7165\",\"7165\",\"7165\",\"7165\",\"7165\",\"7165\",\"7165\",\"7165\",\"7165\",\"7165\",\"7165\",\"7165\",\"7165\",\"7165\",\"7165\",\"7165\",\"7165\",\"7165\",\"7165\",\"7165\",\"7165\",\"7165\",\"7165\",\"7165\",\"7165\",\"7165\",\"7165\",\"7165\",\"7165\",\"7165\",\"7165\",\"7165\",\"7165\",\"7165\",\"7165\",\"7165\",\"7165\",\"7165\",\"7165\",\"7165\",\"7165\",\"7165\",\"7165\",\"7165\",\"7165\",\"7165\",\"7165\",\"7165\",\"7165\",\"7165\",\"7165\",\"7165\",\"7165\",\"7165\",\"7165\",\"7165\",\"7165\",\"7165\",\"7165\",\"7165\",\"7165\",\"7165\",\"7165\",\"7165\",\"7165\",\"7165\",\"7165\",\"7165\",\"7165\",\"7165\",\"7165\",\"7165\",\"7165\",\"7165\",\"7165\",\"7165\",\"7165\",\"7165\",\"7165\",\"7165\",\"7165\",\"7165\",\"7165\",\"7165\",\"7165\",\"7165\",\"7165\",\"7165\",\"7165\",\"7165\",\"7165\",\"7165\",\"7165\",\"7165\",\"7165\",\"7165\",\"7165\",\"7165\"],\"velocity\":{\"__ndarray__\":\"AAAAAAAAAAAAAAAAAAAAAAAAAAAAAAAAAAAAAAAAAADIWLhBJOwFQPz5sdYiFANAQMJxD8+QDEBiAPKpFOYFQGlipUNnkAZAG9cndXtMHkDQMN1RKFPpPw4GJfA1qQJA2LCDiogLEEDMoMdjajLYP8AWEuwjGwBAAAAAAAAAAABaQTJD7cnhP0BFrooSeSJA7obt8HeOG0Bl+2ydURgMQEdrRq5U/vQ/EfJtSTvU8T9+vNk6L/QZQM7PYpg0WQFAqC9QjmggFED+ISNU4yElQMHC2W/xDSdAP7TP2WHQIUAbRI62nY8gQFJGBqupyAJADHetaZQKJECt5+X8Gw8iQBuj/tt7fyBAhV+Lrq0WBkC1P9N+XioiQCJE3FPqyCZALd0CLX1EKEC3Dcz2QM0iQLilodlYmP8/i91p2v4RJUAywoXD41AiQA3tlXraIBRAu1SbPNb9CkCSgUAz55giQKltREKD+CZAk+tmaoIzA0CkFIyaOvQSQE8YnDnFVxdAEoWSq7UEJ0Be04tIJvEoQAtwscb5HCdAaP7FsvaDHEBx19Mmu9ckQOMjGEQSV9s/LocTHoRlIUB1RXaSLHsrQLW+NkQ3QShARxVOT57JE0BtPAo2vAoOQH4w8MrmUCJAEFnd8DZNIUAXufh66yglQFJBuwDW7wBACxnR8SU/HEBxN1/y2QbgPy9GgwHHtSFAElkc1cpOKEB61roi+b4gQBT26eaKVxBARb6XLQ2hJUB0Qt0MrDsoQEyKzDg4dShAkC4/MruqLkAswqDdgH8oQGBbG98pjSZAjIhsfPXSJEChFhQUbhMpQO4cQK2upiRAogrKOfS7KUCMLsejNJcpQDSkwxtYQCZACAY5Jk6uEEBoTW6LU0wrQB/YkkwNiiVAGoBCD04zAUAAAAAAAAAAAOx2iQ/6VuA/YILaGvQDFED3GMVEmrkqQEy7X06JSCNAGB0bLLiDFkBpJ0+EP+IVQNkzPtdLUSNAa0HoAZe0FkBAj1vXJr4YQNRMDweCpRpAZXurAiVjF0DOsrptUmYaQFBR2J1R7vE/1wFa56WbAkANJVc+sRQWQPwlJDH3FxJA0SgAPAuWFEDrLasi6aQIQJsflpRhshNAbDXbe40UDUBm1Hh2duAIQI95drtmsAFADGbhDpGOIUBSXqkrNlIZQBjJ+WNX3xNAx1S6IBRNIkAzBzeavDcXQMjj9rJk/SJAAWWikVx6E0AE+aD303UhQPI/CftOMgZA/hix6UKQCUDaWeCcZUP2P/F2QAzqyyJA/tn1PHikIkC9kz3OMLYbQLLetEa+XRtARq0XWV/gG0C4vQy3yeYZQGYS7XdXqxFAGvFbcbKVFEDsu6PbvP0gQAppMOIFRCBA75UlbtUYKUCSRCUzkeYkQI6XNReNgiBAqNqjF606G0BqHQwEC3ghQM51vud6dxZAJwriimCJFEAICWAB55EWQL9XzJXMCBhAI55yz5/3E0B7n5oytIobQO0IYz9cvRxAJiK1M5wFEUAAAAAAAAAAAAAAAAAAAAAAg7xn8n2BXEDwM14+ARO+PwAAAAAAAAAAq99WIv0+rj9/V65c8n5dQAAAAAAAAAAAAAAAAAAAAAAAAAAAAAAAAH9Xrlzyfl1AAAAAAAAAAAAAAAAAAAAAAAAAAAAAAAAAf1euXPJ+XUAAAAAAAAAAAAAAAAAAAAAAAAAAAAAAAADwjvleWD5dQHM9syah/P0/rMSjnjPDIUCJ8DfDqkUSQA==\",\"dtype\":\"float64\",\"order\":\"little\",\"shape\":[164]}},\"selected\":{\"id\":\"1885\"},\"selection_policy\":{\"id\":\"1884\"}},\"id\":\"1814\",\"type\":\"ColumnDataSource\"},{\"attributes\":{\"fill_alpha\":{\"value\":0.1},\"fill_color\":{\"value\":\"red\"},\"line_alpha\":{\"value\":0.1},\"line_color\":{\"value\":\"red\"},\"x\":{\"field\":\"lng_m\"},\"y\":{\"field\":\"lat_m\"}},\"id\":\"1823\",\"type\":\"Circle\"},{\"attributes\":{\"dimension\":\"lon\"},\"id\":\"1784\",\"type\":\"MercatorTickFormatter\"},{\"attributes\":{},\"id\":\"1889\",\"type\":\"Selection\"},{\"attributes\":{\"axis\":{\"id\":\"1781\"},\"ticker\":null},\"id\":\"1788\",\"type\":\"Grid\"},{\"attributes\":{\"data_source\":{\"id\":\"1826\"},\"glyph\":{\"id\":\"1827\"},\"hover_glyph\":null,\"muted_glyph\":null,\"nonselection_glyph\":{\"id\":\"1828\"},\"selection_glyph\":null,\"view\":{\"id\":\"1830\"}},\"id\":\"1829\",\"type\":\"GlyphRenderer\"},{\"attributes\":{\"dimension\":\"lon\"},\"id\":\"1782\",\"type\":\"MercatorTicker\"},{\"attributes\":{},\"id\":\"1888\",\"type\":\"UnionRenderers\"},{\"attributes\":{\"fill_color\":{\"value\":\"blue\"},\"line_color\":{\"value\":\"blue\"},\"x\":{\"value\":-696415.1796806826},\"y\":{\"value\":7047655.269244184}},\"id\":\"1827\",\"type\":\"Circle\"},{\"attributes\":{},\"id\":\"1779\",\"type\":\"LinearScale\"},{\"attributes\":{\"fill_alpha\":{\"value\":0.1},\"fill_color\":{\"value\":\"blue\"},\"line_alpha\":{\"value\":0.1},\"line_color\":{\"value\":\"blue\"},\"x\":{\"value\":-696415.1796806826},\"y\":{\"value\":7047655.269244184}},\"id\":\"1828\",\"type\":\"Circle\"},{\"attributes\":{},\"id\":\"1887\",\"type\":\"Selection\"},{\"attributes\":{},\"id\":\"1886\",\"type\":\"UnionRenderers\"},{\"attributes\":{\"source\":{\"id\":\"1826\"}},\"id\":\"1830\",\"type\":\"CDSView\"},{\"attributes\":{},\"id\":\"1777\",\"type\":\"LinearScale\"},{\"attributes\":{\"data\":{},\"selected\":{\"id\":\"1889\"},\"selection_policy\":{\"id\":\"1888\"}},\"id\":\"1826\",\"type\":\"ColumnDataSource\"},{\"attributes\":{\"attribution\":\"&copy; <a href=\\\"https://www.openstreetmap.org/copyright\\\">OpenStreetMap</a> contributors\",\"url\":\"https://c.tile.openstreetmap.org/{Z}/{X}/{Y}.png\"},\"id\":\"1811\",\"type\":\"WMTSTileSource\"},{\"attributes\":{\"bottom_units\":\"screen\",\"fill_alpha\":0.5,\"fill_color\":\"lightgrey\",\"left_units\":\"screen\",\"level\":\"overlay\",\"line_alpha\":1.0,\"line_color\":\"black\",\"line_dash\":[4,4],\"line_width\":2,\"right_units\":\"screen\",\"top_units\":\"screen\"},\"id\":\"1803\",\"type\":\"BoxAnnotation\"},{\"attributes\":{\"formatter\":{\"id\":\"1784\"},\"ticker\":{\"id\":\"1782\"}},\"id\":\"1781\",\"type\":\"MercatorAxis\"},{\"attributes\":{},\"id\":\"1775\",\"type\":\"DataRange1d\"},{\"attributes\":{\"tile_source\":{\"id\":\"1811\"}},\"id\":\"1812\",\"type\":\"TileRenderer\"},{\"attributes\":{},\"id\":\"1773\",\"type\":\"DataRange1d\"},{\"attributes\":{\"text\":\"\"},\"id\":\"1878\",\"type\":\"Title\"}],\"root_ids\":[\"1772\"]},\"title\":\"Bokeh Application\",\"version\":\"2.2.1\"}};\n",
       "  var render_items = [{\"docid\":\"1d5d7f96-0213-4e20-b260-f37403e9f18c\",\"root_ids\":[\"1772\"],\"roots\":{\"1772\":\"018d0f55-b734-4aeb-b921-f3c509ee34e3\"}}];\n",
       "  root.Bokeh.embed.embed_items_notebook(docs_json, render_items);\n",
       "\n",
       "  }\n",
       "  if (root.Bokeh !== undefined) {\n",
       "    embed_document(root);\n",
       "  } else {\n",
       "    var attempts = 0;\n",
       "    var timer = setInterval(function(root) {\n",
       "      if (root.Bokeh !== undefined) {\n",
       "        clearInterval(timer);\n",
       "        embed_document(root);\n",
       "      } else {\n",
       "        attempts++;\n",
       "        if (attempts > 100) {\n",
       "          clearInterval(timer);\n",
       "          console.log(\"Bokeh: ERROR: Unable to run BokehJS code because BokehJS library is missing\");\n",
       "        }\n",
       "      }\n",
       "    }, 10, root)\n",
       "  }\n",
       "})(window);"
      ],
      "application/vnd.bokehjs_exec.v0+json": ""
     },
     "metadata": {
      "application/vnd.bokehjs_exec.v0+json": {
       "id": "1772"
      }
     },
     "output_type": "display_data"
    },
    {
     "name": "stderr",
     "output_type": "stream",
     "text": [
      "/home/saci/hd/projetos/trajetorias/its_research/venvTraj/lib/python3.8/site-packages/pandas/core/frame.py:3065: SettingWithCopyWarning: \n",
      "A value is trying to be set on a copy of a slice from a DataFrame.\n",
      "Try using .loc[row_indexer,col_indexer] = value instead\n",
      "\n",
      "See the caveats in the documentation: https://pandas.pydata.org/pandas-docs/stable/user_guide/indexing.html#returning-a-view-versus-a-copy\n",
      "  self[k1] = value[k2]\n"
     ]
    },
    {
     "data": {
      "text/html": [
       "\n",
       "\n",
       "\n",
       "\n",
       "\n",
       "\n",
       "  <div class=\"bk-root\" id=\"4840d8c7-9942-43e8-8060-b52f6da0f58c\" data-root-id=\"1997\"></div>\n"
      ]
     },
     "metadata": {},
     "output_type": "display_data"
    },
    {
     "data": {
      "application/javascript": [
       "(function(root) {\n",
       "  function embed_document(root) {\n",
       "    \n",
       "  var docs_json = {\"89b65c73-65b1-4cea-8af0-52e92ac3590e\":{\"roots\":{\"references\":[{\"attributes\":{\"below\":[{\"id\":\"2006\"}],\"center\":[{\"id\":\"2013\"},{\"id\":\"2021\"}],\"left\":[{\"id\":\"2014\"}],\"renderers\":[{\"id\":\"2037\"},{\"id\":\"2043\"},{\"id\":\"2049\"},{\"id\":\"2054\"}],\"title\":{\"id\":\"2116\"},\"toolbar\":{\"id\":\"2029\"},\"x_range\":{\"id\":\"1998\"},\"x_scale\":{\"id\":\"2002\"},\"y_range\":{\"id\":\"2000\"},\"y_scale\":{\"id\":\"2004\"}},\"id\":\"1997\",\"subtype\":\"Figure\",\"type\":\"Plot\"},{\"attributes\":{\"data_source\":{\"id\":\"2039\"},\"glyph\":{\"id\":\"2041\"},\"hover_glyph\":null,\"muted_glyph\":null,\"nonselection_glyph\":{\"id\":\"2042\"},\"selection_glyph\":null,\"view\":{\"id\":\"2044\"}},\"id\":\"2043\",\"type\":\"GlyphRenderer\"},{\"attributes\":{\"line_alpha\":0.1,\"x\":{\"field\":\"lng_m\"},\"y\":{\"field\":\"lat_m\"}},\"id\":\"2042\",\"type\":\"Line\"},{\"attributes\":{\"fill_alpha\":{\"value\":0.1},\"fill_color\":{\"value\":\"red\"},\"line_alpha\":{\"value\":0.1},\"line_color\":{\"value\":\"red\"},\"x\":{\"field\":\"lng_m\"},\"y\":{\"field\":\"lat_m\"}},\"id\":\"2048\",\"type\":\"Circle\"},{\"attributes\":{\"x\":{\"field\":\"lng_m\"},\"y\":{\"field\":\"lat_m\"}},\"id\":\"2041\",\"type\":\"Line\"},{\"attributes\":{},\"id\":\"2124\",\"type\":\"UnionRenderers\"},{\"attributes\":{\"text\":\"\"},\"id\":\"2116\",\"type\":\"Title\"},{\"attributes\":{\"data\":{\"ID\":{\"__ndarray__\":\"Y2NjY2NjY2NjY2NjY2NjY2NjY2NjY2NjY2NjY2NjY2NjY2NjY2NjY2NjY2NjY2NjY2NjY2NjY2NjY2NjY2NjY2NjY2NjY2NjY2NjY2NjY2NjY2NjY2NjY2NjY2NjY2NjY2NjY2NjY2NjY2NjY2NjY2NjY2NjY2NjY2NjY2NjY2NjY2NjY2NjY2NjY2NjY2NjY2NjY2NjY2NjY2NjY2NjY2NjY2NjY2NjY2NjY2NjY2NjY2NjY2NjY2NjY2NjY2NjY2NjY2NjY2NjY2NjY2NjY2NjY2NjY2NjY2NjY2NjY2NjY2NjYw==\",\"dtype\":\"int8\",\"order\":\"little\",\"shape\":[229]},\"MF_acc\":{\"__ndarray__\":\"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\",\"dtype\":\"float64\",\"order\":\"little\",\"shape\":[229]},\"MF_dist_from_old_point\":{\"__ndarray__\":\"AAAAAAAAAAAnVi5EI6WVQPzVUTcbo5VApyPLZMiilUAvtOgTvqKVQAAAAAAAAAAAAAAAAAAAAAAAAAAAAAAAAAAAAAAAAAAAAAAAAAAAAACOMh7r2LcSQB6cNvk6l0FAPfETONi3EkC8J0IR1tVXQPosyqeDu1lAtmujChscWUCvIsl0kspYQNptDsqEwV5Aj2RlXU+lXUBcAE15STRaQPg/WSbji2BAcAzjYchXXEAGv/TdqoNVQKLV73P5vlRAgoZipK5/WUBNQQ+gebNUQKwdabCaV1JAFN1/3cneUkDaLmfDO2dXQADrU+djHmJAWCGGW+lgY0BuipZ/L9VjQBDP8yBWXGFABhsfLVjoX0AbxXvMdT5dQHVzxhBnUFxAaHV2JjHcWUDeU/0/m2JXQGPYFCamXGFAdwI/7WAWY0CIjJqkhyBfQDhZk21ad19AKbpMFzAzYUCYOieu6NxYQOxlwA2eK0xA++vcaYH8TkBWvsC/OQ9QQMmYZwD+F1RAE38NAAcnW0B+MBeNwnlbQN2zCuZauFtAIofAFpdhXEDPF3OJqABXQIqYptKlwkxAh5MKnD49SkAvtqxxZ947QN7DRDGrSj5An17AR4ufKkCYCDggbTUqQOH3ZQvDWi9A/bGgMi6RNECe8gsy49kdQEiBoj5cDlJA4jzGu6JZVEAb+jZFW99UQMEGdLGRzFxAJbzwZ+vQXkDz8fwukwlaQNOCF/cBN15Auxybcx10X0CEHyYOeTlWQEHDeb2GBFZA+NBOzZC6TEAxXNOzNVc+QAhYuYy7PDRAGuYy/8uuM0DBt1ERaQdKQODZPJ0mTkVAlzFRpJmNUUDmUcVGGNVTQFWmJr6T6FlAlmeX1Zw2VUAJRwN3SYBXQFE/VAjWPVNAteWjYmhcUkBwLnckT31MQMIKHFPbcUJA14LipL8LSEAhF5gWDqdNQJtt1NIknlNAT3KDuCh0VkD3Rl7BDH9XQGDBGSFAvlVAPJEbbXjiUUCgPzLGFiFKQF0wMG+FkD9APVpPyG1mREA966usd99HQKjZmxigK1NApFO5BivzV0AvH3FJ8T5ZQEkn2y2d41BA6thRDR7WSkBH60EzI+BCQO2tsHtPdUZAxQ+iFEXtR0B7Z5dB8n5QQBkRTRYwIVJA9qOfoJHeTUBz9pJnvcFAQH6D3YuP8kJAye7sOLBnR0D3D1YalpFJQDFIo+fkklJABM0br8Y1U0D5OeYSSABQQGWaMhq0cEJAhi2Y9n1VOkDgGUyVTO4dQOfqMKUdPTxAIYhNaE+jRUAVzl0KNKZHQEK5XYgyZk5A9htrc1OjUkBaikBKFo5MQGOzPrd+rUlAdI5bbsfRSEBU4uXvhPdMQPtUjyLhY1JAhniv//1bU0Di4VABHUpTQH1aVQy3Y1lAxihqj5BfVkCbzo/s58ZOQChhrr5G1UdAfwZHSGmgS0DelwWVIHlCQFnVrwl6e0xAR7HqwXF7TEAy2vx2UHVUQPsSdaQoRlNAvWhLrnghUEBwXIVMfElKQFcCl69K5VBAKwOdFJJtQEDpE3ngN95HQEYBOy8FQlFAynpAa9UgU0BN34wWZDxQQCzmz0q6ZVJAPYgVjrEYS0DdU6YWUqlIQH4G1meM41BApGh6OWRcXECIOeMMKEBdQHGLczQeAV1AW/pzwxEYWUCL3Hr/tRRXQI6NqjMNcUdA++Qg5BxqUUANLfoc15VSQOTEzATbNFRAojF45ZxAXUBZ6lSqOwlgQHdt8vDBS1ZAEZuA5tQLWUB66jQPNNJdQIzZ9hjuDl1Ah10PnNRzWUDxDE4dsi1eQDjEwQq0+mVARV6CqaWUYECNNhM97S1aQMGuMKq3QWFAOvdVccGzYUDfdZGga99QQBD5hml0KlRABWsqIQ3+XECBwtY6gJdYQNf3l7xCFFdAQ/LxZfAnYUDUtWaEWJVgQC8kcmo03FlAvHlyc3MZYED1LPtft/ZhQBtGq693YlhATkkfHnT0VUCGs/gGBhlUQLkBdvuAD01AxcDSBUuSVEDCR8Wggp5YQDQKzM7lCGNAOXG3cyyWZkDOSPEoNhtjQDYbm0OxqlxAMIxJxyXmWUCh3dhdwsVSQKq55VP3RFdAQ4nxHxXBW0A+kJPmSBxgQCP+hFwHz2RAoU0QTkgoZEBDE+ZiMBlfQD5f03gvfFdAhw8P3tByUED1h7NUZMdTQLs2H+SLjVtAoNaBX1+PWUCMckpf3O1XQILup4MfWFRAq0aXizvFSEDq1q/qIEFJQA33H1wWOElAwz6TnaM+Q0A8RRtfaZorQI3fsdjZrylA9G6en9ZVIUC6kPhmNXY7QE5UcEgx8kRAg+pJOGqyUUCzqZGXnvJZQJtOSVEvB2JAa7ORaudQZUBIE2w7+yJlQFDgJQ6u/mNAJOv+9BNsWEDuVmxEGTpNQG0oqf1sqClA6soQw2uoKUA=\",\"dtype\":\"float64\",\"order\":\"little\",\"shape\":[229]},\"MF_lat\":{\"__ndarray__\":\"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\",\"dtype\":\"float64\",\"order\":\"little\",\"shape\":[229]},\"MF_lng\":{\"__ndarray__\":\"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\",\"dtype\":\"float64\",\"order\":\"little\",\"shape\":[229]},\"MF_vel\":{\"__ndarray__\":\"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\",\"dtype\":\"float64\",\"order\":\"little\",\"shape\":[229]},\"acc\":{\"__ndarray__\":\"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\",\"dtype\":\"float64\",\"order\":\"little\",\"shape\":[229]},\"block_id\":[9011,9011,9011,9011,9011,9011,9011,9011,9011,9011,9011,9011,9011,9011,9011,9011,9011,9011,9011,9011,9011,9011,9011,9011,9011,9011,9011,9011,9011,9011,9011,9011,9011,9011,9011,9011,9011,9011,9011,9011,9011,9011,9011,9011,9011,9011,9011,9011,9011,9011,9011,9011,9011,9011,9011,9011,9011,9011,9011,9011,9011,9011,9011,9011,9011,9011,9011,9011,9011,9011,9011,9011,9011,9011,9011,9011,9011,9011,9011,9011,9011,9011,9011,9011,9011,9011,9011,9011,9011,9011,9011,9011,9011,9011,9011,9011,9011,9011,9011,9011,9011,9011,9011,9011,9011,9011,9011,9011,9011,9011,9011,9011,9011,9011,9011,9011,9011,9011,9011,9011,9011,9011,9011,9011,9011,9011,9011,9011,9011,9011,9011,9011,9011,9011,9011,9011,9011,9011,9011,9011,9011,9011,9011,9011,9011,9011,9011,9011,9011,9011,9011,9011,9011,9011,9011,9011,9011,9011,9011,9011,9011,9011,9011,9011,9011,9011,9011,9011,9011,9011,9011,9011,9011,9011,9011,9011,9011,9011,9011,9011,9011,9011,9011,9011,9011,9011,9011,9011,9011,9011,9011,9011,9011,9011,9011,9011,9011,9011,9011,9011,9011,9011,9011,9011,9011,9011,9011,9011,9011,9011,9011,9011,9011,9011,9011,9011,9011,9011,9011,9011,9011,9011,9011,9011,9011,9011,9011,9011,9011],\"congestion\":[false,false,false,false,false,false,false,false,false,false,false,false,false,false,false,false,false,false,false,false,false,false,false,false,false,false,false,false,false,false,false,false,false,false,false,false,false,false,false,false,false,false,false,false,false,false,false,false,false,false,false,false,false,false,false,false,false,false,false,false,false,false,false,false,false,false,false,false,false,false,false,false,false,false,false,false,false,false,false,false,false,false,false,false,false,false,false,false,false,false,false,false,false,false,false,false,false,false,false,false,false,false,false,false,false,false,false,false,false,false,false,false,false,false,false,false,false,false,false,false,false,false,false,false,false,false,false,false,false,false,false,false,false,false,false,false,false,false,false,false,false,false,false,false,false,false,false,false,false,false,false,false,false,false,false,false,false,false,false,false,false,false,false,false,false,false,false,false,false,false,false,false,false,false,false,false,false,false,false,false,false,false,false,false,false,false,false,false,false,false,false,false,false,false,false,false,false,false,false,false,false,false,false,false,false,false,false,false,false,false,false,false,false,false,false,false,false,false,false,false,false,false,false,false,false,false,false,false,false],\"datetime\":{\"__ndarray__\":\"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\",\"dtype\":\"float64\",\"order\":\"little\",\"shape\":[229]},\"day\":[10,10,10,10,10,10,10,10,10,10,10,10,10,10,10,10,10,10,10,10,10,10,10,10,10,10,10,10,10,10,10,10,10,10,10,10,10,10,10,10,10,10,10,10,10,10,10,10,10,10,10,10,10,10,10,10,10,10,10,10,10,10,10,10,10,10,10,10,10,10,10,10,10,10,10,10,10,10,10,10,10,10,10,10,10,10,10,10,10,10,10,10,10,10,10,10,10,10,10,10,10,10,10,10,10,10,10,10,10,10,10,10,10,10,10,10,10,10,10,10,10,10,10,10,10,10,10,10,10,10,10,10,10,10,10,10,10,10,10,10,10,10,10,10,10,10,10,10,10,10,10,10,10,10,10,10,10,10,10,10,10,10,10,10,10,10,10,10,10,10,10,10,10,10,10,10,10,10,10,10,10,10,10,10,10,10,10,10,10,10,10,10,10,10,10,10,10,10,10,10,10,10,10,10,10,10,10,10,10,10,10,10,10,10,10,10,10,10,10,10,10,10,10,10,10,10,10,10,10],\"delay\":[0,0,0,0,0,0,0,0,0,0,2,2,42,-17,-17,0,0,0,0,0,0,0,15,15,15,15,15,-9,-9,-9,-37,-37,-37,-16,-16,-42,-25,-25,-43,-66,-66,-42,-60,-60,-36,-61,-61,-82,-103,-103,-103,-103,-103,-72,-52,-32,-32,-7,-7,31,31,65,31,31,53,22,22,-8,-24,-24,0,0,15,35,55,74,74,74,74,74,74,53,53,53,73,73,73,73,73,73,57,57,57,85,104,104,104,104,81,81,81,97,117,117,87,87,87,87,117,137,137,117,117,117,117,146,166,186,186,186,186,186,186,186,186,186,208,208,178,156,156,156,156,181,181,181,163,141,161,137,137,170,170,170,196,196,196,170,187,187,187,187,187,153,153,175,175,175,201,173,173,173,134,134,156,133,110,110,126,126,126,126,148,148,148,166,166,166,166,166,166,166,166,166,166,193,213,229,229,210,210,210,210,210,210,210,210,210,210,210,192,192,192,208,208,208,208,226,226,226,255,255,286,306,326,346,346,346,368,368,339,320,320,346,366,386,386,386,386],\"dist_from_old_point\":[0,0,0,0,0,0,0,0,0,0,0,0,0,0,0,0,0,0,0,0,0,0,0,0,0,0,0,0,0,0,0,0,0,0,0,0,0,0,0,0,0,0,0,0,0,0,0,0,0,0,0,0,0,0,0,0,0,0,0,0,0,0,0,0,0,0,0,0,0,0,0,0,0,0,0,0,0,0,0,0,0,0,0,0,0,0,0,0,0,0,0,0,0,0,0,0,0,0,0,0,0,0,0,0,0,0,0,0,0,0,0,0,0,0,0,0,0,0,0,0,0,0,0,0,0,0,0,0,0,0,0,0,0,0,0,0,0,0,0,0,0,0,0,0,0,0,0,0,0,0,0,0,0,0,0,0,0,0,0,0,0,0,0,0,0,0,0,0,0,0,0,0,0,0,0,0,0,0,0,0,0,0,0,0,0,0,0,0,0,0,0,0,0,0,0,0,0,0,0,0,0,0,0,0,0,0,0,0,0,0,0,0,0,0,0,0,0,0,0,0,0,0,0,0,0,0,0,0,0],\"hour\":[7,7,7,7,7,7,7,7,7,7,7,7,7,7,7,7,7,7,7,7,7,7,7,7,7,7,7,7,7,7,7,7,7,7,7,7,7,7,7,7,7,7,7,7,7,7,7,7,7,7,7,7,7,7,7,7,7,7,7,7,7,7,7,7,7,7,7,7,7,7,7,7,7,7,7,7,7,7,7,7,7,7,7,7,7,7,7,7,7,7,7,7,7,7,7,7,7,7,7,7,7,7,7,7,7,7,7,7,7,7,7,7,8,8,8,8,8,8,8,8,8,8,8,8,8,8,8,8,8,8,8,8,8,8,8,8,8,8,8,8,8,8,8,8,8,8,8,8,8,8,8,8,8,8,8,8,8,8,8,8,8,8,8,8,8,8,8,8,8,8,8,8,8,8,8,8,8,8,8,8,8,8,8,8,8,8,8,8,8,8,8,8,8,8,8,8,8,8,8,8,8,8,8,8,8,8,8,8,8,8,8,8,8,8,8,8,8,8,8,8,8,8,8,8,8,8,8,8,8],\"index\":[112725,113515,114154,114683,115559,116121,116624,117541,118161,118796,119572,120099,120789,121548,122111,122783,123491,124128,124824,125645,126270,126805,127693,128334,128896,129771,130325,130997,131881,132392,133016,133620,134506,135230,135759,136631,137279,137931,138812,139464,140128,140965,141544,142460,142950,143620,144455,145118,145743,146661,147140,147789,148751,149278,149981,150800,151439,152096,153089,153771,154427,155374,157320,157960,158615,159489,160077,160816,161457,162346,163030,163997,164522,165252,166203,166758,168315,168898,169635,170304,171145,171860,172555,173404,174137,174955,175618,176411,177255,177884,178606,179409,180217,181049,181601,182457,183114,183813,184621,185367,186200,186918,187588,188252,189106,189996,190459,191380,191970,192815,193677,194324,195049,196030,196639,197361,198177,198815,199561,200378,201137,201846,202741,203352,204078,204947,205611,206382,207203,207941,208464,209492,210115,210912,211778,212660,213197,214027,214814,215433,216194,216940,217721,218458,219303,220081,220680,221460,222146,223005,223837,224692,225049,225935,226723,227339,228220,229042,229676,230636,231287,232019,232830,234113,234942,235671,236409,237343,237936,238774,240292,240963,241794,242489,243148,244011,244728,245719,246248,246977,247688,248571,249304,249976,251526,252246,253095,253824,254527,255374,256133,256939,257629,258349,259128,259897,260440,261327,262009,262759,263346,264125,264897,265343,266421,267103,267742,268498,269304,269989,270698,271617,272234,272947,273782,274590,275237,275972,276809,277419,278263,278952,280414,281180,281896,282685,283386,284134,285685],\"journey_id\":[\"00091001\",\"00091001\",\"00091001\",\"00091001\",\"00091001\",\"00091001\",\"00091001\",\"00091001\",\"00091001\",\"00091001\",\"00091001\",\"00091001\",\"00091001\",\"00091001\",\"00091001\",\"00091001\",\"00091001\",\"00091001\",\"00091001\",\"00091001\",\"00091001\",\"00091001\",\"00091001\",\"00091001\",\"00091001\",\"00091001\",\"00091001\",\"00091001\",\"00091001\",\"00091001\",\"00091001\",\"00091001\",\"00091001\",\"00091001\",\"00091001\",\"00091001\",\"00091001\",\"00091001\",\"00091001\",\"00091001\",\"00091001\",\"00091001\",\"00091001\",\"00091001\",\"00091001\",\"00091001\",\"00091001\",\"00091001\",\"00091001\",\"00091001\",\"00091001\",\"00091001\",\"00091001\",\"00091001\",\"00091001\",\"00091001\",\"00091001\",\"00091001\",\"00091001\",\"00091001\",\"00091001\",\"00091001\",\"00091001\",\"00091001\",\"00091001\",\"00091001\",\"00091001\",\"00091001\",\"00091001\",\"00091001\",\"00091001\",\"00091001\",\"00091001\",\"00091001\",\"00091001\",\"00091001\",\"00091001\",\"00091001\",\"00091001\",\"00091001\",\"00091001\",\"00091001\",\"00091001\",\"00091001\",\"00091001\",\"00091001\",\"00091001\",\"00091001\",\"00091001\",\"00091001\",\"00091001\",\"00091001\",\"00091001\",\"00091001\",\"00091001\",\"00091001\",\"00091001\",\"00091001\",\"00091001\",\"00091001\",\"00091001\",\"00091001\",\"00091001\",\"00091001\",\"00091001\",\"00091001\",\"00091001\",\"00091001\",\"00091001\",\"00091001\",\"00091001\",\"00091001\",\"00091001\",\"00091001\",\"00091001\",\"00091001\",\"00091001\",\"00091001\",\"00091001\",\"00091001\",\"00091001\",\"00091001\",\"00091001\",\"00091001\",\"00091001\",\"00091001\",\"00091001\",\"00091001\",\"00091001\",\"00091001\",\"00091001\",\"00091001\",\"00091001\",\"00091001\",\"00091001\",\"00091001\",\"00091001\",\"00091001\",\"00091001\",\"00091001\",\"00091001\",\"00091001\",\"00091001\",\"00091001\",\"00091001\",\"00091001\",\"00091001\",\"00091001\",\"00091001\",\"00091001\",\"00091001\",\"00091001\",\"00091001\",\"00091001\",\"00091001\",\"00091001\",\"00091001\",\"00091001\",\"00091001\",\"00091001\",\"00091001\",\"00091001\",\"00091001\",\"00091001\",\"00091001\",\"00091001\",\"00091001\",\"00091001\",\"00091001\",\"00091001\",\"00091001\",\"00091001\",\"00091001\",\"00091001\",\"00091001\",\"00091001\",\"00091001\",\"00091001\",\"00091001\",\"00091001\",\"00091001\",\"00091001\",\"00091001\",\"00091001\",\"00091001\",\"00091001\",\"00091001\",\"00091001\",\"00091001\",\"00091001\",\"00091001\",\"00091001\",\"00091001\",\"00091001\",\"00091001\",\"00091001\",\"00091001\",\"00091001\",\"00091001\",\"00091001\",\"00091001\",\"00091001\",\"00091001\",\"00091001\",\"00091001\",\"00091001\",\"00091001\",\"00091001\",\"00091001\",\"00091001\",\"00091001\",\"00091001\",\"00091001\",\"00091001\",\"00091001\",\"00091001\",\"00091001\",\"00091001\",\"00091001\",\"00091001\",\"00091001\",\"00091001\",\"00091001\",\"00091001\",\"00091001\",\"00091001\",\"00091001\",\"00091001\",\"00091001\"],\"lat\":{\"__ndarray__\":\"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\",\"dtype\":\"float64\",\"order\":\"little\",\"shape\":[229]},\"lat_m\":{\"__ndarray__\":\"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\",\"dtype\":\"float64\",\"order\":\"little\",\"shape\":[229]},\"line_id\":[\"9.0\",\"9.0\",\"9.0\",\"9.0\",\"9.0\",\"9.0\",\"9.0\",\"9.0\",\"9.0\",\"9.0\",\"9.0\",\"9.0\",\"9.0\",\"9.0\",\"9.0\",\"9.0\",\"9.0\",\"9.0\",\"9.0\",\"9.0\",\"9.0\",\"9.0\",\"9.0\",\"9.0\",\"9.0\",\"9.0\",\"9.0\",\"9.0\",\"9.0\",\"9.0\",\"9.0\",\"9.0\",\"9.0\",\"9.0\",\"9.0\",\"9.0\",\"9.0\",\"9.0\",\"9.0\",\"9.0\",\"9.0\",\"9.0\",\"9.0\",\"9.0\",\"9.0\",\"9.0\",\"9.0\",\"9.0\",\"9.0\",\"9.0\",\"9.0\",\"9.0\",\"9.0\",\"9.0\",\"9.0\",\"9.0\",\"9.0\",\"9.0\",\"9.0\",\"9.0\",\"9.0\",\"9.0\",\"9.0\",\"9.0\",\"9.0\",\"9.0\",\"9.0\",\"9.0\",\"9.0\",\"9.0\",\"9.0\",\"9.0\",\"9.0\",\"9.0\",\"9.0\",\"9.0\",\"9.0\",\"9.0\",\"9.0\",\"9.0\",\"9.0\",\"9.0\",\"9.0\",\"9.0\",\"9.0\",\"9.0\",\"9.0\",\"9.0\",\"9.0\",\"9.0\",\"9.0\",\"9.0\",\"9.0\",\"9.0\",\"9.0\",\"9.0\",\"9.0\",\"9.0\",\"9.0\",\"9.0\",\"9.0\",\"9.0\",\"9.0\",\"9.0\",\"9.0\",\"9.0\",\"9.0\",\"9.0\",\"9.0\",\"9.0\",\"9.0\",\"9.0\",\"9.0\",\"9.0\",\"9.0\",\"9.0\",\"9.0\",\"9.0\",\"9.0\",\"9.0\",\"9.0\",\"9.0\",\"9.0\",\"9.0\",\"9.0\",\"9.0\",\"9.0\",\"9.0\",\"9.0\",\"9.0\",\"9.0\",\"9.0\",\"9.0\",\"9.0\",\"9.0\",\"9.0\",\"9.0\",\"9.0\",\"9.0\",\"9.0\",\"9.0\",\"9.0\",\"9.0\",\"9.0\",\"9.0\",\"9.0\",\"9.0\",\"9.0\",\"9.0\",\"9.0\",\"9.0\",\"9.0\",\"9.0\",\"9.0\",\"9.0\",\"9.0\",\"9.0\",\"9.0\",\"9.0\",\"9.0\",\"9.0\",\"9.0\",\"9.0\",\"9.0\",\"9.0\",\"9.0\",\"9.0\",\"9.0\",\"9.0\",\"9.0\",\"9.0\",\"9.0\",\"9.0\",\"9.0\",\"9.0\",\"9.0\",\"9.0\",\"9.0\",\"9.0\",\"9.0\",\"9.0\",\"9.0\",\"9.0\",\"9.0\",\"9.0\",\"9.0\",\"9.0\",\"9.0\",\"9.0\",\"9.0\",\"9.0\",\"9.0\",\"9.0\",\"9.0\",\"9.0\",\"9.0\",\"9.0\",\"9.0\",\"9.0\",\"9.0\",\"9.0\",\"9.0\",\"9.0\",\"9.0\",\"9.0\",\"9.0\",\"9.0\",\"9.0\",\"9.0\",\"9.0\",\"9.0\",\"9.0\",\"9.0\",\"9.0\",\"9.0\",\"9.0\",\"9.0\",\"9.0\",\"9.0\",\"9.0\",\"9.0\",\"9.0\",\"9.0\",\"9.0\",\"9.0\",\"9.0\",\"9.0\",\"9.0\",\"9.0\"],\"lng\":{\"__ndarray__\":\"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\",\"dtype\":\"float64\",\"order\":\"little\",\"shape\":[229]},\"lng_m\":{\"__ndarray__\":\"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\",\"dtype\":\"float64\",\"order\":\"little\",\"shape\":[229]},\"operator\":[\"PO\",\"PO\",\"PO\",\"PO\",\"PO\",\"PO\",\"PO\",\"PO\",\"PO\",\"PO\",\"PO\",\"PO\",\"PO\",\"PO\",\"PO\",\"PO\",\"PO\",\"PO\",\"PO\",\"PO\",\"PO\",\"PO\",\"PO\",\"PO\",\"PO\",\"PO\",\"PO\",\"PO\",\"PO\",\"PO\",\"PO\",\"PO\",\"PO\",\"PO\",\"PO\",\"PO\",\"PO\",\"PO\",\"PO\",\"PO\",\"PO\",\"PO\",\"PO\",\"PO\",\"PO\",\"PO\",\"PO\",\"PO\",\"PO\",\"PO\",\"PO\",\"PO\",\"PO\",\"PO\",\"PO\",\"PO\",\"PO\",\"PO\",\"PO\",\"PO\",\"PO\",\"PO\",\"PO\",\"PO\",\"PO\",\"PO\",\"PO\",\"PO\",\"PO\",\"PO\",\"PO\",\"PO\",\"PO\",\"PO\",\"PO\",\"PO\",\"PO\",\"PO\",\"PO\",\"PO\",\"PO\",\"PO\",\"PO\",\"PO\",\"PO\",\"PO\",\"PO\",\"PO\",\"PO\",\"PO\",\"PO\",\"PO\",\"PO\",\"PO\",\"PO\",\"PO\",\"PO\",\"PO\",\"PO\",\"PO\",\"PO\",\"PO\",\"PO\",\"PO\",\"PO\",\"PO\",\"PO\",\"PO\",\"PO\",\"PO\",\"PO\",\"PO\",\"PO\",\"PO\",\"PO\",\"PO\",\"PO\",\"PO\",\"PO\",\"PO\",\"PO\",\"PO\",\"PO\",\"PO\",\"PO\",\"PO\",\"PO\",\"PO\",\"PO\",\"PO\",\"PO\",\"PO\",\"PO\",\"PO\",\"PO\",\"PO\",\"PO\",\"PO\",\"PO\",\"PO\",\"PO\",\"PO\",\"PO\",\"PO\",\"PO\",\"PO\",\"PO\",\"PO\",\"PO\",\"PO\",\"PO\",\"PO\",\"PO\",\"PO\",\"PO\",\"PO\",\"PO\",\"PO\",\"PO\",\"PO\",\"PO\",\"PO\",\"PO\",\"PO\",\"PO\",\"PO\",\"PO\",\"PO\",\"PO\",\"PO\",\"PO\",\"PO\",\"PO\",\"PO\",\"PO\",\"PO\",\"PO\",\"PO\",\"PO\",\"PO\",\"PO\",\"PO\",\"PO\",\"PO\",\"PO\",\"PO\",\"PO\",\"PO\",\"PO\",\"PO\",\"PO\",\"PO\",\"PO\",\"PO\",\"PO\",\"PO\",\"PO\",\"PO\",\"PO\",\"PO\",\"PO\",\"PO\",\"PO\",\"PO\",\"PO\",\"PO\",\"PO\",\"PO\",\"PO\",\"PO\",\"PO\",\"PO\",\"PO\",\"PO\",\"PO\",\"PO\",\"PO\",\"PO\",\"PO\",\"PO\",\"PO\",\"PO\",\"PO\",\"PO\",\"PO\",\"PO\",\"PO\",\"PO\",\"PO\"],\"outlier\":[1,1,1,1,1,1,1,1,1,1,1,1,1,-1,1,1,1,1,1,1,1,1,1,1,1,1,1,1,1,-1,-1,1,1,1,1,1,1,1,1,-1,1,1,1,1,1,1,1,1,1,1,1,1,1,1,1,1,1,1,1,1,1,1,1,1,1,1,1,-1,1,1,1,1,1,1,1,1,1,1,1,1,1,1,1,1,1,1,1,1,1,1,1,1,1,1,1,1,1,1,-1,1,1,1,1,1,1,1,1,1,1,1,1,1,1,1,1,1,1,1,1,1,1,1,1,1,1,1,1,1,1,1,1,1,1,1,1,1,1,1,1,-1,1,1,1,1,1,1,1,1,1,1,1,1,1,-1,1,1,1,1,1,1,1,1,-1,1,1,1,-1,1,1,1,-1,1,1,1,1,1,1,1,1,1,-1,1,1,-1,1,1,1,1,-1,1,1,-1,1,1,1,1,1,-1,-1,1,1,1,1,1,1,1,1,1,1,1,1,1,1,1,1,1,1,1,1,1,-1,-1,1,1,1,1,1,1,1],\"outlier2\":[1,1,1,1,1,1,1,1,1,1,1,1,1,1,1,1,1,1,1,1,1,1,1,1,1,1,1,1,1,1,1,1,1,1,1,1,1,1,1,1,1,1,1,1,1,1,1,1,1,1,-1,1,1,-1,1,1,1,1,1,1,1,1,1,1,1,1,1,1,1,1,1,1,1,1,1,-1,1,1,1,1,1,1,1,1,1,1,1,1,1,1,1,1,1,1,1,1,1,-1,-1,1,1,1,1,1,-1,-1,1,1,1,1,1,1,1,-1,1,1,1,1,1,1,1,1,1,1,1,1,1,1,1,1,1,1,1,1,1,1,1,1,1,1,1,1,1,1,1,1,1,-1,-1,1,1,-1,-1,1,1,1,1,1,1,-1,-1,1,1,-1,1,1,1,1,1,1,1,1,1,1,1,1,1,-1,-1,1,1,1,1,1,-1,1,1,1,1,1,1,1,1,1,1,1,1,-1,-1,-1,1,1,1,-1,-1,1,1,1,1,1,1,1,1,1,1,1,1,-1,-1,1,1,1,1,1,1,1,1,1,1],\"outlier2_norm\":[1,1,1,1,1,1,1,1,1,1,1,1,1,1,-1,1,1,1,1,1,1,1,1,1,1,-1,1,-1,1,1,1,1,1,1,1,1,1,1,1,1,1,-1,1,1,1,1,1,1,1,1,1,1,-1,-1,1,1,1,1,1,1,1,1,1,1,1,1,1,1,1,1,-1,-1,1,1,1,-1,1,1,1,1,1,1,1,1,1,1,1,-1,1,1,1,-1,1,1,1,1,1,1,1,1,-1,1,1,1,1,1,1,1,1,1,1,1,1,1,1,1,1,1,1,1,-1,1,1,1,1,1,1,-1,1,1,1,1,1,1,1,1,1,1,1,-1,-1,1,1,1,1,1,1,1,-1,1,1,1,1,1,1,1,-1,1,1,1,-1,1,1,1,1,1,1,-1,1,1,1,1,1,1,-1,-1,1,-1,-1,-1,1,1,1,1,1,1,1,1,1,1,1,-1,1,1,1,1,1,1,1,-1,1,1,1,-1,1,1,-1,1,1,1,1,1,1,1,1,1,1,-1,1,1,1,1,1,1,1,1,1,1,1],\"outlier_0\":[-1,1,1,1,1,1,1,1,1,1,1,1,1,-1,1,1,1,1,1,1,1,1,1,1,1,1,1,1,1,1,1,1,1,1,1,1,1,1,1,1,1,1,1,1,1,1,1,1,1,1,1,1,1,1,1,1,1,1,1,1,1,1,-1,1,1,1,1,1,1,1,1,1,1,1,1,1,-1,1,1,1,1,1,1,1,1,1,1,1,1,1,1,1,1,1,1,1,1,-1,-1,1,1,1,1,1,1,1,1,1,1,1,1,1,1,1,1,1,1,1,1,1,1,1,1,1,1,1,1,1,1,1,1,1,1,1,1,1,1,1,1,1,1,1,1,1,1,1,1,1,1,1,1,-1,1,1,1,1,1,1,1,-1,1,1,1,-1,1,1,1,1,1,1,-1,1,1,1,1,1,1,-1,-1,1,1,1,1,1,-1,1,1,1,1,1,1,-1,1,1,1,1,1,-1,-1,1,1,1,1,-1,1,1,1,1,1,1,1,1,1,1,1,1,1,-1,1,1,-1,1,-1,1,1,1,1,1,-1],\"outlier_MF\":[1,-1,-1,-1,-1,1,1,1,1,1,1,1,1,1,1,1,1,1,1,1,1,1,1,1,1,1,1,1,1,1,1,1,1,1,1,1,1,1,1,1,1,1,1,1,1,1,1,1,1,1,1,1,1,1,1,1,1,1,1,1,1,1,1,1,1,1,1,1,1,1,1,1,1,1,1,1,1,1,1,1,1,1,1,1,1,1,1,1,1,1,1,1,1,1,1,1,1,1,1,1,1,1,1,1,1,1,1,1,1,1,1,1,1,1,1,1,1,1,1,1,1,1,1,1,1,1,1,1,1,1,1,1,1,1,1,1,1,1,1,1,1,1,1,1,1,1,1,1,1,1,1,1,1,1,1,1,1,1,1,1,1,1,1,1,1,1,1,1,1,1,1,1,1,1,1,1,1,1,1,1,1,1,1,1,1,1,1,1,1,1,1,1,-1,1,1,1,1,1,1,1,1,1,1,1,1,1,1,1,1,1,1,1,1,1,1,1,1,1,1,1,1,1,1,1,1,1,1,1,1],\"outlier_norm\":[1,1,1,1,1,1,1,1,1,1,1,1,1,-1,1,1,1,1,1,1,1,1,1,1,1,1,1,1,1,-1,-1,1,1,1,1,1,1,1,1,-1,1,1,1,1,1,1,1,1,1,1,1,1,1,1,1,1,1,1,1,1,1,1,1,1,1,1,1,-1,1,1,1,1,1,1,1,1,1,1,1,1,1,1,1,1,1,1,1,1,1,1,1,1,1,1,1,1,1,1,-1,1,1,1,1,1,1,1,1,1,1,1,1,1,1,1,1,1,1,1,1,1,1,1,1,1,1,1,1,1,1,1,1,1,1,1,1,1,1,1,1,-1,1,1,1,1,1,1,1,1,1,1,1,1,1,-1,1,1,1,1,1,1,1,1,-1,1,1,1,-1,1,1,1,-1,1,1,1,1,1,1,1,1,1,-1,1,1,-1,1,1,1,1,-1,1,1,-1,1,1,1,1,1,-1,-1,1,1,1,1,1,1,1,1,1,1,1,1,1,1,1,1,1,1,1,1,1,-1,-1,1,1,1,1,1,1,1],\"stop\":[true,true,true,true,true,true,true,true,true,true,false,false,false,false,true,false,false,false,false,true,false,true,false,false,false,true,false,false,true,false,false,false,true,true,false,false,false,false,false,false,true,false,false,false,true,false,true,false,false,true,false,false,false,false,false,false,false,false,false,false,true,true,false,true,false,false,false,false,true,false,false,false,false,false,false,false,true,false,false,true,false,false,false,false,false,false,true,false,true,false,true,false,false,false,false,false,false,false,true,false,false,false,false,false,false,false,true,false,false,false,false,false,true,false,false,false,false,false,false,false,true,false,false,false,true,false,false,false,false,false,false,false,true,true,false,false,false,true,true,false,false,false,false,false,false,false,false,false,false,true,false,false,false,false,false,false,false,true,true,false,true,false,false,true,false,false,false,false,false,false,false,false,true,false,false,false,false,false,true,false,false,false,false,false,false,false,false,false,false,false,false,false,false,false,false,false,false,false,false,false,false,false,false,true,false,false,true,false,false,false,false,false,false,false,false,false,false,true,false,false,false,false,false,false,false,false,false,false,false],\"stop_id\":[4392.0,4392.0,4392.0,4392.0,4392.0,4392.0,4392.0,4392.0,4392.0,4392.0,4392.0,4392.0,4392.0,2446.0,2459.0,2459.0,2459.0,2460.0,2460.0,2461.0,2461.0,2462.0,2462.0,2463.0,2463.0,2431.0,2431.0,2431.0,2432.0,2432.0,2433.0,2433.0,2434.0,2434.0,2434.0,2434.0,2435.0,2435.0,2436.0,2436.0,2437.0,2437.0,2437.0,2437.0,2438.0,2438.0,2439.0,2439.0,2439.0,2440.0,2440.0,2440.0,2440.0,2440.0,2440.0,2440.0,2440.0,2440.0,2440.0,2440.0,2441.0,2441.0,2441.0,2442.0,2442.0,2442.0,2443.0,2443.0,2444.0,2444.0,2444.0,2444.0,2444.0,2444.0,2444.0,2444.0,1344.0,1344.0,1344.0,1345.0,1345.0,1345.0,1345.0,1347.0,1347.0,1347.0,1348.0,1348.0,1349.0,1349.0,1350.0,1350.0,1350.0,1350.0,1350.0,1350.0,1350.0,1352.0,1353.0,1353.0,1353.0,1353.0,1353.0,1353.0,1353.0,1354.0,1355.0,1355.0,1355.0,1355.0,1355.0,1355.0,1357.0,1357.0,1357.0,1357.0,1357.0,1357.0,1357.0,1357.0,1359.0,1359.0,1359.0,1359.0,319.0,319.0,319.0,319.0,319.0,319.0,319.0,319.0,281.0,281.0,281.0,281.0,281.0,4.0,4.0,4.0,4.0,4.0,4.0,4.0,4.0,4.0,194.0,194.0,194.0,195.0,195.0,195.0,196.0,197.0,197.0,197.0,197.0,198.0,198.0,198.0,199.0,199.0,199.0,200.0,200.0,200.0,201.0,148.0,148.0,148.0,149.0,149.0,150.0,150.0,150.0,150.0,150.0,27.0,28.0,28.0,29.0,29.0,4680.0,90.0,91.0,91.0,91.0,91.0,91.0,91.0,129.0,130.0,130.0,131.0,131.0,131.0,164.0,165.0,166.0,166.0,7458.0,7458.0,7458.0,4479.0,4479.0,4376.0,4377.0,4377.0,4377.0,4890.0,4890.0,4890.0,4890.0,4890.0,4890.0,4890.0,4890.0,4369.0,4369.0,4369.0,6219.0,6219.0,6229.0,6229.0,6229.0,6229.0,6229.0,6229.0,6229.0],\"time_frame\":[\"2013-01-10\",\"2013-01-10\",\"2013-01-10\",\"2013-01-10\",\"2013-01-10\",\"2013-01-10\",\"2013-01-10\",\"2013-01-10\",\"2013-01-10\",\"2013-01-10\",\"2013-01-10\",\"2013-01-10\",\"2013-01-10\",\"2013-01-10\",\"2013-01-10\",\"2013-01-10\",\"2013-01-10\",\"2013-01-10\",\"2013-01-10\",\"2013-01-10\",\"2013-01-10\",\"2013-01-10\",\"2013-01-10\",\"2013-01-10\",\"2013-01-10\",\"2013-01-10\",\"2013-01-10\",\"2013-01-10\",\"2013-01-10\",\"2013-01-10\",\"2013-01-10\",\"2013-01-10\",\"2013-01-10\",\"2013-01-10\",\"2013-01-10\",\"2013-01-10\",\"2013-01-10\",\"2013-01-10\",\"2013-01-10\",\"2013-01-10\",\"2013-01-10\",\"2013-01-10\",\"2013-01-10\",\"2013-01-10\",\"2013-01-10\",\"2013-01-10\",\"2013-01-10\",\"2013-01-10\",\"2013-01-10\",\"2013-01-10\",\"2013-01-10\",\"2013-01-10\",\"2013-01-10\",\"2013-01-10\",\"2013-01-10\",\"2013-01-10\",\"2013-01-10\",\"2013-01-10\",\"2013-01-10\",\"2013-01-10\",\"2013-01-10\",\"2013-01-10\",\"2013-01-10\",\"2013-01-10\",\"2013-01-10\",\"2013-01-10\",\"2013-01-10\",\"2013-01-10\",\"2013-01-10\",\"2013-01-10\",\"2013-01-10\",\"2013-01-10\",\"2013-01-10\",\"2013-01-10\",\"2013-01-10\",\"2013-01-10\",\"2013-01-10\",\"2013-01-10\",\"2013-01-10\",\"2013-01-10\",\"2013-01-10\",\"2013-01-10\",\"2013-01-10\",\"2013-01-10\",\"2013-01-10\",\"2013-01-10\",\"2013-01-10\",\"2013-01-10\",\"2013-01-10\",\"2013-01-10\",\"2013-01-10\",\"2013-01-10\",\"2013-01-10\",\"2013-01-10\",\"2013-01-10\",\"2013-01-10\",\"2013-01-10\",\"2013-01-10\",\"2013-01-10\",\"2013-01-10\",\"2013-01-10\",\"2013-01-10\",\"2013-01-10\",\"2013-01-10\",\"2013-01-10\",\"2013-01-10\",\"2013-01-10\",\"2013-01-10\",\"2013-01-10\",\"2013-01-10\",\"2013-01-10\",\"2013-01-10\",\"2013-01-10\",\"2013-01-10\",\"2013-01-10\",\"2013-01-10\",\"2013-01-10\",\"2013-01-10\",\"2013-01-10\",\"2013-01-10\",\"2013-01-10\",\"2013-01-10\",\"2013-01-10\",\"2013-01-10\",\"2013-01-10\",\"2013-01-10\",\"2013-01-10\",\"2013-01-10\",\"2013-01-10\",\"2013-01-10\",\"2013-01-10\",\"2013-01-10\",\"2013-01-10\",\"2013-01-10\",\"2013-01-10\",\"2013-01-10\",\"2013-01-10\",\"2013-01-10\",\"2013-01-10\",\"2013-01-10\",\"2013-01-10\",\"2013-01-10\",\"2013-01-10\",\"2013-01-10\",\"2013-01-10\",\"2013-01-10\",\"2013-01-10\",\"2013-01-10\",\"2013-01-10\",\"2013-01-10\",\"2013-01-10\",\"2013-01-10\",\"2013-01-10\",\"2013-01-10\",\"2013-01-10\",\"2013-01-10\",\"2013-01-10\",\"2013-01-10\",\"2013-01-10\",\"2013-01-10\",\"2013-01-10\",\"2013-01-10\",\"2013-01-10\",\"2013-01-10\",\"2013-01-10\",\"2013-01-10\",\"2013-01-10\",\"2013-01-10\",\"2013-01-10\",\"2013-01-10\",\"2013-01-10\",\"2013-01-10\",\"2013-01-10\",\"2013-01-10\",\"2013-01-10\",\"2013-01-10\",\"2013-01-10\",\"2013-01-10\",\"2013-01-10\",\"2013-01-10\",\"2013-01-10\",\"2013-01-10\",\"2013-01-10\",\"2013-01-10\",\"2013-01-10\",\"2013-01-10\",\"2013-01-10\",\"2013-01-10\",\"2013-01-10\",\"2013-01-10\",\"2013-01-10\",\"2013-01-10\",\"2013-01-10\",\"2013-01-10\",\"2013-01-10\",\"2013-01-10\",\"2013-01-10\",\"2013-01-10\",\"2013-01-10\",\"2013-01-10\",\"2013-01-10\",\"2013-01-10\",\"2013-01-10\",\"2013-01-10\",\"2013-01-10\",\"2013-01-10\",\"2013-01-10\",\"2013-01-10\",\"2013-01-10\",\"2013-01-10\",\"2013-01-10\",\"2013-01-10\",\"2013-01-10\",\"2013-01-10\",\"2013-01-10\",\"2013-01-10\",\"2013-01-10\",\"2013-01-10\",\"2013-01-10\",\"2013-01-10\",\"2013-01-10\",\"2013-01-10\",\"2013-01-10\",\"2013-01-10\",\"2013-01-10\",\"2013-01-10\",\"2013-01-10\",\"2013-01-10\",\"2013-01-10\"],\"time_from_old_point\":[0,21,20,19,20,21,20,19,21,20,21,18,21,20,19,20,19,20,21,20,21,18,21,21,18,22,19,21,21,18,19,20,21,21,18,21,21,19,21,20,20,21,18,21,18,21,20,21,18,21,19,20,22,18,21,20,19,20,23,20,21,20,56,20,19,20,19,20,21,20,19,22,19,20,21,18,42,18,21,20,22,18,21,19,20,21,19,20,21,18,21,23,18,21,22,17,19,26,15,20,23,16,20,23,16,23,18,21,25,16,18,21,18,23,19,20,19,20,21,18,22,19,21,18,21,20,19,21,23,19,20,21,18,19,20,23,18,18,23,17,24,19,18,21,20,20,23,23,16,18,21,24,15,20,19,23,17,19,21,25,16,20,20,38,18,21,20,22,22,19,38,20,21,21,22,18,18,25,14,22,19,20,21,18,40,21,20,21,18,21,20,22,18,21,19,21,19,23,16,22,20,19,21,26,16,20,17,20,21,18,21,21,18,20,21,23,18,24,16,18,21,20,39,21,20,19,21,20,40],\"timestamp\":[1357802505000000,1357802526000000,1357802546000000,1357802565000000,1357802585000000,1357802606000000,1357802626000000,1357802645000000,1357802666000000,1357802686000000,1357802707000000,1357802725000000,1357802746000000,1357802766000000,1357802785000000,1357802805000000,1357802824000000,1357802844000000,1357802865000000,1357802885000000,1357802906000000,1357802924000000,1357802945000000,1357802966000000,1357802984000000,1357803006000000,1357803025000000,1357803046000000,1357803067000000,1357803085000000,1357803104000000,1357803124000000,1357803145000000,1357803166000000,1357803184000000,1357803205000000,1357803226000000,1357803245000000,1357803266000000,1357803286000000,1357803306000000,1357803327000000,1357803345000000,1357803366000000,1357803384000000,1357803405000000,1357803425000000,1357803446000000,1357803464000000,1357803485000000,1357803504000000,1357803524000000,1357803546000000,1357803564000000,1357803585000000,1357803605000000,1357803624000000,1357803644000000,1357803667000000,1357803687000000,1357803708000000,1357803728000000,1357803784000000,1357803804000000,1357803823000000,1357803843000000,1357803862000000,1357803882000000,1357803903000000,1357803923000000,1357803942000000,1357803964000000,1357803983000000,1357804003000000,1357804024000000,1357804042000000,1357804084000000,1357804102000000,1357804123000000,1357804143000000,1357804165000000,1357804183000000,1357804204000000,1357804223000000,1357804243000000,1357804264000000,1357804283000000,1357804303000000,1357804324000000,1357804342000000,1357804363000000,1357804386000000,1357804404000000,1357804425000000,1357804447000000,1357804464000000,1357804483000000,1357804509000000,1357804524000000,1357804544000000,1357804567000000,1357804583000000,1357804603000000,1357804626000000,1357804642000000,1357804665000000,1357804683000000,1357804704000000,1357804729000000,1357804745000000,1357804763000000,1357804784000000,1357804802000000,1357804825000000,1357804844000000,1357804864000000,1357804883000000,1357804903000000,1357804924000000,1357804942000000,1357804964000000,1357804983000000,1357805004000000,1357805022000000,1357805043000000,1357805063000000,1357805082000000,1357805103000000,1357805126000000,1357805145000000,1357805165000000,1357805186000000,1357805204000000,1357805223000000,1357805243000000,1357805266000000,1357805284000000,1357805302000000,1357805325000000,1357805342000000,1357805366000000,1357805385000000,1357805403000000,1357805424000000,1357805444000000,1357805464000000,1357805487000000,1357805510000000,1357805526000000,1357805544000000,1357805565000000,1357805589000000,1357805604000000,1357805624000000,1357805643000000,1357805666000000,1357805683000000,1357805702000000,1357805723000000,1357805748000000,1357805764000000,1357805784000000,1357805804000000,1357805842000000,1357805860000000,1357805881000000,1357805901000000,1357805923000000,1357805945000000,1357805964000000,1357806002000000,1357806022000000,1357806043000000,1357806064000000,1357806086000000,1357806104000000,1357806122000000,1357806147000000,1357806161000000,1357806183000000,1357806202000000,1357806222000000,1357806243000000,1357806261000000,1357806301000000,1357806322000000,1357806342000000,1357806363000000,1357806381000000,1357806402000000,1357806422000000,1357806444000000,1357806462000000,1357806483000000,1357806502000000,1357806523000000,1357806542000000,1357806565000000,1357806581000000,1357806603000000,1357806623000000,1357806642000000,1357806663000000,1357806689000000,1357806705000000,1357806725000000,1357806742000000,1357806762000000,1357806783000000,1357806801000000,1357806822000000,1357806843000000,1357806861000000,1357806881000000,1357806902000000,1357806925000000,1357806943000000,1357806967000000,1357806983000000,1357807001000000,1357807022000000,1357807042000000,1357807081000000,1357807102000000,1357807122000000,1357807141000000,1357807162000000,1357807182000000,1357807222000000],\"vehicle_id\":[\"33445\",\"33445\",\"33445\",\"33445\",\"33445\",\"33445\",\"33445\",\"33445\",\"33445\",\"33445\",\"33445\",\"33445\",\"33445\",\"33445\",\"33445\",\"33445\",\"33445\",\"33445\",\"33445\",\"33445\",\"33445\",\"33445\",\"33445\",\"33445\",\"33445\",\"33445\",\"33445\",\"33445\",\"33445\",\"33445\",\"33445\",\"33445\",\"33445\",\"33445\",\"33445\",\"33445\",\"33445\",\"33445\",\"33445\",\"33445\",\"33445\",\"33445\",\"33445\",\"33445\",\"33445\",\"33445\",\"33445\",\"33445\",\"33445\",\"33445\",\"33445\",\"33445\",\"33445\",\"33445\",\"33445\",\"33445\",\"33445\",\"33445\",\"33445\",\"33445\",\"33445\",\"33445\",\"33445\",\"33445\",\"33445\",\"33445\",\"33445\",\"33445\",\"33445\",\"33445\",\"33445\",\"33445\",\"33445\",\"33445\",\"33445\",\"33445\",\"33445\",\"33445\",\"33445\",\"33445\",\"33445\",\"33445\",\"33445\",\"33445\",\"33445\",\"33445\",\"33445\",\"33445\",\"33445\",\"33445\",\"33445\",\"33445\",\"33445\",\"33445\",\"33445\",\"33445\",\"33445\",\"33445\",\"33445\",\"33445\",\"33445\",\"33445\",\"33445\",\"33445\",\"33445\",\"33445\",\"33445\",\"33445\",\"33445\",\"33445\",\"33445\",\"33445\",\"33445\",\"33445\",\"33445\",\"33445\",\"33445\",\"33445\",\"33445\",\"33445\",\"33445\",\"33445\",\"33445\",\"33445\",\"33445\",\"33445\",\"33445\",\"33445\",\"33445\",\"33445\",\"33445\",\"33445\",\"33445\",\"33445\",\"33445\",\"33445\",\"33445\",\"33445\",\"33445\",\"33445\",\"33445\",\"33445\",\"33445\",\"33445\",\"33445\",\"33445\",\"33445\",\"33445\",\"33445\",\"33445\",\"33445\",\"33445\",\"33445\",\"33445\",\"33445\",\"33445\",\"33445\",\"33445\",\"33445\",\"33445\",\"33445\",\"33445\",\"33445\",\"33445\",\"33445\",\"33445\",\"33445\",\"33445\",\"33445\",\"33445\",\"33445\",\"33445\",\"33445\",\"33445\",\"33445\",\"33445\",\"33445\",\"33445\",\"33445\",\"33445\",\"33445\",\"33445\",\"33445\",\"33445\",\"33445\",\"33445\",\"33445\",\"33445\",\"33445\",\"33445\",\"33445\",\"33445\",\"33445\",\"33445\",\"33445\",\"33445\",\"33445\",\"33445\",\"33445\",\"33445\",\"33445\",\"33445\",\"33445\",\"33445\",\"33445\",\"33445\",\"33445\",\"33445\",\"33445\",\"33445\",\"33445\",\"33445\",\"33445\",\"33445\",\"33445\",\"33445\",\"33445\",\"33445\",\"33445\",\"33445\",\"33445\",\"33445\",\"33445\",\"33445\",\"33445\",\"33445\",\"33445\",\"33445\",\"33445\"],\"vehicle_journey_id\":[\"3585\",\"3585\",\"3585\",\"3585\",\"3585\",\"3585\",\"3585\",\"3585\",\"3585\",\"3585\",\"3585\",\"3585\",\"3585\",\"3585\",\"3585\",\"3585\",\"3585\",\"3585\",\"3585\",\"3585\",\"3585\",\"3585\",\"3585\",\"3585\",\"3585\",\"3585\",\"3585\",\"3585\",\"3585\",\"3585\",\"3585\",\"3585\",\"3585\",\"3585\",\"3585\",\"3585\",\"3585\",\"3585\",\"3585\",\"3585\",\"3585\",\"3585\",\"3585\",\"3585\",\"3585\",\"3585\",\"3585\",\"3585\",\"3585\",\"3585\",\"3585\",\"3585\",\"3585\",\"3585\",\"3585\",\"3585\",\"3585\",\"3585\",\"3585\",\"3585\",\"3585\",\"3585\",\"3585\",\"3585\",\"3585\",\"3585\",\"3585\",\"3585\",\"3585\",\"3585\",\"3585\",\"3585\",\"3585\",\"3585\",\"3585\",\"3585\",\"3585\",\"3585\",\"3585\",\"3585\",\"3585\",\"3585\",\"3585\",\"3585\",\"3585\",\"3585\",\"3585\",\"3585\",\"3585\",\"3585\",\"3585\",\"3585\",\"3585\",\"3585\",\"3585\",\"3585\",\"3585\",\"3585\",\"3585\",\"3585\",\"3585\",\"3585\",\"3585\",\"3585\",\"3585\",\"3585\",\"3585\",\"3585\",\"3585\",\"3585\",\"3585\",\"3585\",\"3585\",\"3585\",\"3585\",\"3585\",\"3585\",\"3585\",\"3585\",\"3585\",\"3585\",\"3585\",\"3585\",\"3585\",\"3585\",\"3585\",\"3585\",\"3585\",\"3585\",\"3585\",\"3585\",\"3585\",\"3585\",\"3585\",\"3585\",\"3585\",\"3585\",\"3585\",\"3585\",\"3585\",\"3585\",\"3585\",\"3585\",\"3585\",\"3585\",\"3585\",\"3585\",\"3585\",\"3585\",\"3585\",\"3585\",\"3585\",\"3585\",\"3585\",\"3585\",\"3585\",\"3585\",\"3585\",\"3585\",\"3585\",\"3585\",\"3585\",\"3585\",\"3585\",\"3585\",\"3585\",\"3585\",\"3585\",\"3585\",\"3585\",\"3585\",\"3585\",\"3585\",\"3585\",\"3585\",\"3585\",\"3585\",\"3585\",\"3585\",\"3585\",\"3585\",\"3585\",\"3585\",\"3585\",\"3585\",\"3585\",\"3585\",\"3585\",\"3585\",\"3585\",\"3585\",\"3585\",\"3585\",\"3585\",\"3585\",\"3585\",\"3585\",\"3585\",\"3585\",\"3585\",\"3585\",\"3585\",\"3585\",\"3585\",\"3585\",\"3585\",\"3585\",\"3585\",\"3585\",\"3585\",\"3585\",\"3585\",\"3585\",\"3585\",\"3585\",\"3585\",\"3585\",\"3585\",\"3585\",\"3585\",\"3585\",\"3585\",\"3585\",\"3585\",\"3585\",\"3585\",\"3585\",\"3585\",\"3585\"],\"velocity\":{\"__ndarray__\":\"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\",\"dtype\":\"float64\",\"order\":\"little\",\"shape\":[229]}},\"selected\":{\"id\":\"2123\"},\"selection_policy\":{\"id\":\"2122\"}},\"id\":\"2039\",\"type\":\"ColumnDataSource\"},{\"attributes\":{\"data\":{\"ID\":{\"__ndarray__\":\"Y2NjY2NjY2NjY2NjY2NjY2NjYw==\",\"dtype\":\"int8\",\"order\":\"little\",\"shape\":[19]},\"MF_acc\":{\"__ndarray__\":\"s9awr1mCzj85DqFHzaHcPyi4Z2r5e9s/t8XVi5Bu2D8/ASfM96nQP49q/H7Jz9U/yFCfKUgf0j8hny+LpibSP+Oka1W2uNI/ybTF4OMV0z8InfNMQSy/PwccNbECVdg/XHFJAulw2T+1pYxhIPbGP18VEwXNItQ/E2xUTYiFxj9DifEfFcHbP8S0/PAQIM4/f980xG8T1z8=\",\"dtype\":\"float64\",\"order\":\"little\",\"shape\":[19]},\"MF_dist_from_old_point\":{\"__ndarray__\":\"vCdCEdbVV0AA61PnYx5iQFghhlvpYGNAdwI/7WAWY0Dz8fwukwlaQKjZmxigK1NAMtr8dlB1VECkaHo5ZFxcQKIxeOWcQF1Aeuo0DzTSXUA4xMEKtPplQEPy8WXwJ2FAvHlyc3MZYEC5AXb7gA9NQDQKzM7lCGNAqrnlU/dEV0BDifEfFcFbQLOpkZee8llAm05JUS8HYkA=\",\"dtype\":\"float64\",\"order\":\"little\",\"shape\":[19]},\"MF_lat\":{\"__ndarray__\":\"S6aeYFqnSkDboVAFkqhKQN49L8uNqEpAW5ZD5iWoSkACEcByKalKQEpwt3/AqkpA2pWFZSKtSkCumf+hqq1KQDoCO0iZrkpA23ifmRavSkALUIwsma9KQDKWxz/YsEpAw0AQIEOxSkADQzRfyrFKQBAQzNHjsUpAk4FN59SxSkBGdHQB1LFKQBCQilr1skpAqrk3GhuzSkA=\",\"dtype\":\"float64\",\"order\":\"little\",\"shape\":[19]},\"MF_lng\":{\"__ndarray__\":\"BpLt1/hXGcCdYqaj0k4ZwJhhGXZzTBnAdpQKz/A7GcDGq/oBtCIZwOdFY0ipDxnAwkY7bvgNGcAu4Ec17BcZwJyVdDnKFhnA98I1LWcVGcDbNgJMdBEZwJOo19JIEBnALR8JoL0PGcATAmjv5w8ZwLcqOBfaFBnA1JdDnJgfGcBaZNndTSEZwOpqRga5KxnAcYRgVb0sGcA=\",\"dtype\":\"float64\",\"order\":\"little\",\"shape\":[19]},\"MF_vel\":{\"__ndarray__\":\"MIbODXgRE0AAmEp4AxsgQFiVLRecUSBAJTfLrjSKHkCPwTC/ddQUQOajDOfMchRA1UU5rDxBE0DqhvstULAWQBuOxurjZhdA+yH32FzbF0A9pbDFRoISQEgRbzLz5BxAh5+SIgafHEBsOr5t5NQJQGM9+ubZrxtArq2U9/kvEEBDifEfFcEbQKHWJR4LxRNAXhdCtUvYHEA=\",\"dtype\":\"float64\",\"order\":\"little\",\"shape\":[19]},\"acc\":{\"__ndarray__\":\"yWG5EllI8j8bfIQvr0/kP1N70D8/xuM/HEMk83Jt4j+NG/9kcfbhP7T5003gqeQ/142JkbO04z9XCC6bpVziP9AWGDcTTuI/vzkirWlo4z9D6R8ZHtXQP24TsA5Qg+Q/CRWlR7oG5T+PbV1RRaHhP9U6Iqkv9eE/CpND11jJ4D8OU2VM5w3mP/llBR2/l+Y/PoOD0Qp+5T8=\",\"dtype\":\"float64\",\"order\":\"little\",\"shape\":[19]},\"block_id\":[9011,9011,9011,9011,9011,9011,9011,9011,9011,9011,9011,9011,9011,9011,9011,9011,9011,9011,9011],\"congestion\":[false,false,false,false,false,false,false,false,false,false,false,false,false,false,false,false,false,false,false],\"datetime\":{\"__ndarray__\":\"AADrnzXCc0IAgMztNcJzQgAAcPI1wnNCAADfHjbCc0IAAGGwNsJzQgAAHk03wnNCAADTFDjCc0IAAKxZOMJzQgAAnoU4wnNCAIBMnTjCc0IAAPW1OMJzQgAAyeY4wnNCAIAw9TjCc0IAgHwSOcJzQgAA3iE5wnNCAIBoPznCc0IAgFBDOcJzQgAA+645wnNCAADdsznCc0I=\",\"dtype\":\"float64\",\"order\":\"little\",\"shape\":[19]},\"day\":[10,10,10,10,10,10,10,10,10,10,10,10,10,10,10,10,10,10,10],\"delay\":[-17,-9,-37,-66,-8,81,137,153,134,110,126,166,166,229,210,210,210,339,320],\"dist_from_old_point\":[0,0,0,0,0,0,0,0,0,0,0,0,0,0,0,0,0,0,0],\"hour\":[7,7,7,7,7,7,8,8,8,8,8,8,8,8,8,8,8,8,8],\"index\":[121548,132392,133016,139464,160816,184621,215433,225935,232830,236409,240292,247688,249976,254527,256939,261327,262009,278263,278952],\"journey_id\":[\"00091001\",\"00091001\",\"00091001\",\"00091001\",\"00091001\",\"00091001\",\"00091001\",\"00091001\",\"00091001\",\"00091001\",\"00091001\",\"00091001\",\"00091001\",\"00091001\",\"00091001\",\"00091001\",\"00091001\",\"00091001\",\"00091001\"],\"lat\":{\"__ndarray__\":\"mzV4X5WnSkDScwtdiahKQL5PVaGBqEpAtU/HYwaoSkBYGY18XqlKQHXicrwCq0pA5gMCnUmtSkDDMcueBK5KQClcj8L1rkpAVfgzvFmvSkB0YDlCBrBKQMh8QKAzsUpAMrPPY5SxSkA1tteC3rFKQNFefTz0sUpA5pMVw9WxSkBNTBdi9bFKQOV+h6JAs0pATg00n3OzSkA=\",\"dtype\":\"float64\",\"order\":\"little\",\"shape\":[19]},\"lat_m\":{\"__ndarray__\":\"Cv+Mi2XbWkFRm0BkwNxaQZ/XvWW13FpB3KaOMgbcWkHyFmNo791aQW9lsgxF4FpBnsl4Q4LjWkHZSYxgjORaQez8MZPj5VpBTLBY4XHmWkHnYKx5Z+daQfqV344U6VpB4/NTWZ7pWkGrMj3nB+paQY/7udcm6lpBO0mTcfvpWkGK7tp5KOpaQZjyw0cA7FpB/C5W6UjsWkE=\",\"dtype\":\"float64\",\"order\":\"little\",\"shape\":[19]},\"line_id\":[\"9.0\",\"9.0\",\"9.0\",\"9.0\",\"9.0\",\"9.0\",\"9.0\",\"9.0\",\"9.0\",\"9.0\",\"9.0\",\"9.0\",\"9.0\",\"9.0\",\"9.0\",\"9.0\",\"9.0\",\"9.0\",\"9.0\"],\"lng\":{\"__ndarray__\":\"UU8fgT9cGcBOeXQjLEoZwGZOl8XERhnAgqj7AKQ2GcBol299WB8ZwLbVrDO+DxnAjgbwFkgQGcA9f9qoThcZwN0J9l/nFhnA4zPZP08TGcBiMepaew8ZwH5zf/W4DxnAOXr83qYPGcB0CYfe4hEZwPJ4Wn7gGhnAT7SrkPIjGcCrd7gdGiYZwFPOF3svLhnAndhD+1gxGcA=\",\"dtype\":\"float64\",\"order\":\"little\",\"shape\":[19]},\"lng_m\":{\"__ndarray__\":\"vUZLSt6JJcHYF1REhHolwYLfBTegdyXB+DCmpu1pJcEKTDfWJFYlwT0Nk3zkSCXBrcY/mFlJJcHfKeseUU8lwe8NqWb5TiXBwFQt8OtLJcHMorO2q0glwY+vqQjgSCXB9MX3q9BIJcHbZVJ4tkolwTwMgj1ZUiXBxWxZYA1aJcGDUgzP4VslwS6pJlK/YiXBePZ/1G5lJcE=\",\"dtype\":\"float64\",\"order\":\"little\",\"shape\":[19]},\"operator\":[\"PO\",\"PO\",\"PO\",\"PO\",\"PO\",\"PO\",\"PO\",\"PO\",\"PO\",\"PO\",\"PO\",\"PO\",\"PO\",\"PO\",\"PO\",\"PO\",\"PO\",\"PO\",\"PO\"],\"outlier\":[-1,-1,-1,-1,-1,-1,-1,-1,-1,-1,-1,-1,-1,-1,-1,-1,-1,-1,-1],\"outlier2\":[1,1,1,1,1,-1,1,1,1,1,1,1,1,1,1,-1,-1,1,1],\"outlier2_norm\":[1,1,1,1,1,1,-1,1,1,1,1,1,1,1,-1,1,1,1,1],\"outlier_0\":[-1,1,1,1,1,-1,1,1,1,1,-1,1,1,1,-1,-1,-1,-1,1],\"outlier_MF\":[1,1,1,1,1,1,1,1,1,1,1,1,1,1,1,1,1,1,1],\"outlier_norm\":[-1,-1,-1,-1,-1,-1,-1,-1,-1,-1,-1,-1,-1,-1,-1,-1,-1,-1,-1],\"stop\":[false,false,false,false,false,true,false,false,false,false,false,false,false,false,false,false,false,false,false],\"stop_id\":[2446.0,2432.0,2433.0,2436.0,2443.0,1353.0,4.0,197.0,199.0,201.0,149.0,29.0,90.0,91.0,130.0,165.0,166.0,6219.0,6219.0],\"time_frame\":[\"2013-01-10\",\"2013-01-10\",\"2013-01-10\",\"2013-01-10\",\"2013-01-10\",\"2013-01-10\",\"2013-01-10\",\"2013-01-10\",\"2013-01-10\",\"2013-01-10\",\"2013-01-10\",\"2013-01-10\",\"2013-01-10\",\"2013-01-10\",\"2013-01-10\",\"2013-01-10\",\"2013-01-10\",\"2013-01-10\",\"2013-01-10\"],\"time_from_old_point\":[20,18,19,20,20,15,17,20,20,20,38,19,18,18,22,23,16,21,20],\"timestamp\":[1357802766000000,1357803085000000,1357803104000000,1357803286000000,1357803882000000,1357804524000000,1357805342000000,1357805624000000,1357805804000000,1357805901000000,1357806002000000,1357806202000000,1357806261000000,1357806381000000,1357806444000000,1357806565000000,1357806581000000,1357807022000000,1357807042000000],\"vehicle_id\":[\"33445\",\"33445\",\"33445\",\"33445\",\"33445\",\"33445\",\"33445\",\"33445\",\"33445\",\"33445\",\"33445\",\"33445\",\"33445\",\"33445\",\"33445\",\"33445\",\"33445\",\"33445\",\"33445\"],\"vehicle_journey_id\":[\"3585\",\"3585\",\"3585\",\"3585\",\"3585\",\"3585\",\"3585\",\"3585\",\"3585\",\"3585\",\"3585\",\"3585\",\"3585\",\"3585\",\"3585\",\"3585\",\"3585\",\"3585\",\"3585\"],\"velocity\":{\"__ndarray__\":\"O7pnV2/aNkCfC3UVpdkmQHOSxxtreydA41Ptr88IJ0Bw4j6+DXQmQBm69khCXyNAtCaiyv7vJEBtivkBz/MmQIQc3gSY4SZALshqGIRCKEAA5dW9E/0jQBMXcRHvWyhAq7eZkJGnJ0BBG4n7bdUjQOQQj4ghsShAXyNxtW8hKEAOU2VM5w0mQNcVF9Yqpy1ADWTkhY3dKkA=\",\"dtype\":\"float64\",\"order\":\"little\",\"shape\":[19]}},\"selected\":{\"id\":\"2125\"},\"selection_policy\":{\"id\":\"2124\"}},\"id\":\"2045\",\"type\":\"ColumnDataSource\"},{\"attributes\":{\"fill_color\":{\"value\":\"red\"},\"line_color\":{\"value\":\"red\"},\"x\":{\"field\":\"lng_m\"},\"y\":{\"field\":\"lat_m\"}},\"id\":\"2047\",\"type\":\"Circle\"},{\"attributes\":{\"data_source\":{\"id\":\"2045\"},\"glyph\":{\"id\":\"2047\"},\"hover_glyph\":null,\"muted_glyph\":null,\"nonselection_glyph\":{\"id\":\"2048\"},\"selection_glyph\":null,\"view\":{\"id\":\"2050\"}},\"id\":\"2049\",\"type\":\"GlyphRenderer\"},{\"attributes\":{\"source\":{\"id\":\"2039\"}},\"id\":\"2044\",\"type\":\"CDSView\"},{\"attributes\":{\"fill_color\":{\"value\":\"blue\"},\"line_color\":{\"value\":\"blue\"},\"x\":{\"value\":-705101.3282277909},\"y\":{\"value\":7039981.218506065}},\"id\":\"2052\",\"type\":\"Circle\"},{\"attributes\":{\"source\":{\"id\":\"2051\"}},\"id\":\"2055\",\"type\":\"CDSView\"},{\"attributes\":{},\"id\":\"2026\",\"type\":\"ResetTool\"},{\"attributes\":{\"data_source\":{\"id\":\"2051\"},\"glyph\":{\"id\":\"2052\"},\"hover_glyph\":null,\"muted_glyph\":null,\"nonselection_glyph\":{\"id\":\"2053\"},\"selection_glyph\":null,\"view\":{\"id\":\"2055\"}},\"id\":\"2054\",\"type\":\"GlyphRenderer\"},{\"attributes\":{\"active_drag\":\"auto\",\"active_inspect\":\"auto\",\"active_multi\":null,\"active_scroll\":\"auto\",\"active_tap\":\"auto\",\"tools\":[{\"id\":\"2022\"},{\"id\":\"2023\"},{\"id\":\"2024\"},{\"id\":\"2025\"},{\"id\":\"2026\"},{\"id\":\"2027\"}]},\"id\":\"2029\",\"type\":\"Toolbar\"},{\"attributes\":{\"tile_source\":{\"id\":\"2036\"}},\"id\":\"2037\",\"type\":\"TileRenderer\"},{\"attributes\":{\"overlay\":{\"id\":\"2028\"}},\"id\":\"2024\",\"type\":\"BoxZoomTool\"},{\"attributes\":{},\"id\":\"2123\",\"type\":\"Selection\"},{\"attributes\":{},\"id\":\"2025\",\"type\":\"SaveTool\"},{\"attributes\":{},\"id\":\"2122\",\"type\":\"UnionRenderers\"},{\"attributes\":{\"data\":{},\"selected\":{\"id\":\"2127\"},\"selection_policy\":{\"id\":\"2126\"}},\"id\":\"2051\",\"type\":\"ColumnDataSource\"},{\"attributes\":{},\"id\":\"2027\",\"type\":\"HelpTool\"},{\"attributes\":{},\"id\":\"2125\",\"type\":\"Selection\"},{\"attributes\":{\"source\":{\"id\":\"2045\"}},\"id\":\"2050\",\"type\":\"CDSView\"},{\"attributes\":{},\"id\":\"2022\",\"type\":\"PanTool\"},{\"attributes\":{\"fill_alpha\":{\"value\":0.1},\"fill_color\":{\"value\":\"blue\"},\"line_alpha\":{\"value\":0.1},\"line_color\":{\"value\":\"blue\"},\"x\":{\"value\":-705101.3282277909},\"y\":{\"value\":7039981.218506065}},\"id\":\"2053\",\"type\":\"Circle\"},{\"attributes\":{},\"id\":\"2023\",\"type\":\"WheelZoomTool\"},{\"attributes\":{\"dimension\":\"lat\"},\"id\":\"2015\",\"type\":\"MercatorTicker\"},{\"attributes\":{\"axis\":{\"id\":\"2014\"},\"dimension\":1,\"ticker\":null},\"id\":\"2021\",\"type\":\"Grid\"},{\"attributes\":{\"dimension\":\"lat\"},\"id\":\"2017\",\"type\":\"MercatorTickFormatter\"},{\"attributes\":{\"axis\":{\"id\":\"2006\"},\"ticker\":null},\"id\":\"2013\",\"type\":\"Grid\"},{\"attributes\":{\"dimension\":\"lon\"},\"id\":\"2009\",\"type\":\"MercatorTickFormatter\"},{\"attributes\":{\"dimension\":\"lon\"},\"id\":\"2007\",\"type\":\"MercatorTicker\"},{\"attributes\":{\"formatter\":{\"id\":\"2017\"},\"ticker\":{\"id\":\"2015\"}},\"id\":\"2014\",\"type\":\"MercatorAxis\"},{\"attributes\":{},\"id\":\"2004\",\"type\":\"LinearScale\"},{\"attributes\":{},\"id\":\"2002\",\"type\":\"LinearScale\"},{\"attributes\":{\"formatter\":{\"id\":\"2009\"},\"ticker\":{\"id\":\"2007\"}},\"id\":\"2006\",\"type\":\"MercatorAxis\"},{\"attributes\":{\"attribution\":\"&copy; <a href=\\\"https://www.openstreetmap.org/copyright\\\">OpenStreetMap</a> contributors\",\"url\":\"https://c.tile.openstreetmap.org/{Z}/{X}/{Y}.png\"},\"id\":\"2036\",\"type\":\"WMTSTileSource\"},{\"attributes\":{},\"id\":\"2126\",\"type\":\"UnionRenderers\"},{\"attributes\":{},\"id\":\"2000\",\"type\":\"DataRange1d\"},{\"attributes\":{},\"id\":\"2127\",\"type\":\"Selection\"},{\"attributes\":{},\"id\":\"1998\",\"type\":\"DataRange1d\"},{\"attributes\":{\"bottom_units\":\"screen\",\"fill_alpha\":0.5,\"fill_color\":\"lightgrey\",\"left_units\":\"screen\",\"level\":\"overlay\",\"line_alpha\":1.0,\"line_color\":\"black\",\"line_dash\":[4,4],\"line_width\":2,\"right_units\":\"screen\",\"top_units\":\"screen\"},\"id\":\"2028\",\"type\":\"BoxAnnotation\"}],\"root_ids\":[\"1997\"]},\"title\":\"Bokeh Application\",\"version\":\"2.2.1\"}};\n",
       "  var render_items = [{\"docid\":\"89b65c73-65b1-4cea-8af0-52e92ac3590e\",\"root_ids\":[\"1997\"],\"roots\":{\"1997\":\"4840d8c7-9942-43e8-8060-b52f6da0f58c\"}}];\n",
       "  root.Bokeh.embed.embed_items_notebook(docs_json, render_items);\n",
       "\n",
       "  }\n",
       "  if (root.Bokeh !== undefined) {\n",
       "    embed_document(root);\n",
       "  } else {\n",
       "    var attempts = 0;\n",
       "    var timer = setInterval(function(root) {\n",
       "      if (root.Bokeh !== undefined) {\n",
       "        clearInterval(timer);\n",
       "        embed_document(root);\n",
       "      } else {\n",
       "        attempts++;\n",
       "        if (attempts > 100) {\n",
       "          clearInterval(timer);\n",
       "          console.log(\"Bokeh: ERROR: Unable to run BokehJS code because BokehJS library is missing\");\n",
       "        }\n",
       "      }\n",
       "    }, 10, root)\n",
       "  }\n",
       "})(window);"
      ],
      "application/vnd.bokehjs_exec.v0+json": ""
     },
     "metadata": {
      "application/vnd.bokehjs_exec.v0+json": {
       "id": "1997"
      }
     },
     "output_type": "display_data"
    }
   ],
   "source": [
    "plot_map(df[df.ID == 10])\n",
    "plot_map(df[df.ID == 66])\n",
    "plot_map(df[df.ID == 99])"
   ]
  },
  {
   "cell_type": "markdown",
   "metadata": {},
   "source": [
    "#### Alguns pontos que mesmo sendo detectados como válidos não aparentam ser quando plotados podem aparecer."
   ]
  },
  {
   "cell_type": "markdown",
   "metadata": {},
   "source": [
    "Observando a trajetória com maior distancia percorrida podemos ver se há algo equivocado. \n",
    "Podemos incrementar a exclusão de outliers retirando trajetórias muito curta ou muito longas basedas na distância total."
   ]
  },
  {
   "cell_type": "code",
   "execution_count": 86,
   "metadata": {},
   "outputs": [],
   "source": [
    "accum = df1.groupby('ID').dist_from_old_point.sum()\n",
    "long_run = accum.max()"
   ]
  },
  {
   "cell_type": "code",
   "execution_count": 90,
   "metadata": {},
   "outputs": [
    {
     "data": {
      "text/plain": [
       "<AxesSubplot:>"
      ]
     },
     "execution_count": 90,
     "metadata": {},
     "output_type": "execute_result"
    },
    {
     "data": {
      "image/png": "[encoded data removed]",
      "text/plain": [
       "<Figure size 432x288 with 1 Axes>"
      ]
     },
     "metadata": {
      "needs_background": "light"
     },
     "output_type": "display_data"
    }
   ],
   "source": [
    "accum.hist()"
   ]
  },
  {
   "cell_type": "code",
   "execution_count": 91,
   "metadata": {},
   "outputs": [
    {
     "data": {
      "text/plain": [
       "<AxesSubplot:>"
      ]
     },
     "execution_count": 91,
     "metadata": {},
     "output_type": "execute_result"
    },
    {
     "data": {
      "image/png": "[encoded data removed]",
      "text/plain": [
       "<Figure size 432x288 with 1 Axes>"
      ]
     },
     "metadata": {
      "needs_background": "light"
     },
     "output_type": "display_data"
    }
   ],
   "source": [
    "accum.plot(kind='box')"
   ]
  },
  {
   "cell_type": "code",
   "execution_count": 85,
   "metadata": {},
   "outputs": [
    {
     "name": "stderr",
     "output_type": "stream",
     "text": [
      "/home/saci/hd/projetos/trajetorias/its_research/venvTraj/lib/python3.8/site-packages/pandas/core/frame.py:3065: SettingWithCopyWarning: \n",
      "A value is trying to be set on a copy of a slice from a DataFrame.\n",
      "Try using .loc[row_indexer,col_indexer] = value instead\n",
      "\n",
      "See the caveats in the documentation: https://pandas.pydata.org/pandas-docs/stable/user_guide/indexing.html#returning-a-view-versus-a-copy\n",
      "  self[k1] = value[k2]\n"
     ]
    },
    {
     "data": {
      "text/html": [
       "\n",
       "\n",
       "\n",
       "\n",
       "\n",
       "\n",
       "  <div class=\"bk-root\" id=\"b3e32f03-8fec-4ce2-8694-f23e172854bf\" data-root-id=\"2235\"></div>\n"
      ]
     },
     "metadata": {},
     "output_type": "display_data"
    },
    {
     "data": {
      "application/javascript": [
       "(function(root) {\n",
       "  function embed_document(root) {\n",
       "    \n",
       "  var docs_json = {\"34b1fd2f-b29f-48c7-bb05-687cb7b0a468\":{\"roots\":{\"references\":[{\"attributes\":{\"below\":[{\"id\":\"2244\"}],\"center\":[{\"id\":\"2251\"},{\"id\":\"2259\"}],\"left\":[{\"id\":\"2252\"}],\"renderers\":[{\"id\":\"2275\"},{\"id\":\"2281\"},{\"id\":\"2287\"},{\"id\":\"2292\"}],\"title\":{\"id\":\"2367\"},\"toolbar\":{\"id\":\"2267\"},\"x_range\":{\"id\":\"2236\"},\"x_scale\":{\"id\":\"2240\"},\"y_range\":{\"id\":\"2238\"},\"y_scale\":{\"id\":\"2242\"}},\"id\":\"2235\",\"subtype\":\"Figure\",\"type\":\"Plot\"},{\"attributes\":{\"source\":{\"id\":\"2277\"}},\"id\":\"2282\",\"type\":\"CDSView\"},{\"attributes\":{\"dimension\":\"lat\"},\"id\":\"2253\",\"type\":\"MercatorTicker\"},{\"attributes\":{\"axis\":{\"id\":\"2252\"},\"dimension\":1,\"ticker\":null},\"id\":\"2259\",\"type\":\"Grid\"},{\"attributes\":{\"data\":{},\"selected\":{\"id\":\"2378\"},\"selection_policy\":{\"id\":\"2377\"}},\"id\":\"2289\",\"type\":\"ColumnDataSource\"},{\"attributes\":{\"x\":{\"field\":\"lng_m\"},\"y\":{\"field\":\"lat_m\"}},\"id\":\"2279\",\"type\":\"Line\"},{\"attributes\":{\"formatter\":{\"id\":\"2247\"},\"ticker\":{\"id\":\"2245\"}},\"id\":\"2244\",\"type\":\"MercatorAxis\"},{\"attributes\":{\"source\":{\"id\":\"2289\"}},\"id\":\"2293\",\"type\":\"CDSView\"},{\"attributes\":{\"line_alpha\":0.1,\"x\":{\"field\":\"lng_m\"},\"y\":{\"field\":\"lat_m\"}},\"id\":\"2280\",\"type\":\"Line\"},{\"attributes\":{},\"id\":\"2375\",\"type\":\"UnionRenderers\"},{\"attributes\":{},\"id\":\"2263\",\"type\":\"SaveTool\"},{\"attributes\":{\"axis\":{\"id\":\"2244\"},\"ticker\":null},\"id\":\"2251\",\"type\":\"Grid\"},{\"attributes\":{\"fill_color\":{\"value\":\"blue\"},\"line_color\":{\"value\":\"blue\"},\"x\":{\"value\":-712576.4320345594},\"y\":{\"value\":7034785.70040382}},\"id\":\"2290\",\"type\":\"Circle\"},{\"attributes\":{},\"id\":\"2376\",\"type\":\"Selection\"},{\"attributes\":{\"text\":\"\"},\"id\":\"2367\",\"type\":\"Title\"},{\"attributes\":{\"active_drag\":\"auto\",\"active_inspect\":\"auto\",\"active_multi\":null,\"active_scroll\":\"auto\",\"active_tap\":\"auto\",\"tools\":[{\"id\":\"2260\"},{\"id\":\"2261\"},{\"id\":\"2262\"},{\"id\":\"2263\"},{\"id\":\"2264\"},{\"id\":\"2265\"}]},\"id\":\"2267\",\"type\":\"Toolbar\"},{\"attributes\":{},\"id\":\"2236\",\"type\":\"DataRange1d\"},{\"attributes\":{},\"id\":\"2378\",\"type\":\"Selection\"},{\"attributes\":{},\"id\":\"2260\",\"type\":\"PanTool\"},{\"attributes\":{},\"id\":\"2265\",\"type\":\"HelpTool\"},{\"attributes\":{},\"id\":\"2261\",\"type\":\"WheelZoomTool\"},{\"attributes\":{},\"id\":\"2374\",\"type\":\"Selection\"},{\"attributes\":{\"source\":{\"id\":\"2283\"}},\"id\":\"2288\",\"type\":\"CDSView\"},{\"attributes\":{},\"id\":\"2242\",\"type\":\"LinearScale\"},{\"attributes\":{\"data_source\":{\"id\":\"2289\"},\"glyph\":{\"id\":\"2290\"},\"hover_glyph\":null,\"muted_glyph\":null,\"nonselection_glyph\":{\"id\":\"2291\"},\"selection_glyph\":null,\"view\":{\"id\":\"2293\"}},\"id\":\"2292\",\"type\":\"GlyphRenderer\"},{\"attributes\":{\"dimension\":\"lon\"},\"id\":\"2245\",\"type\":\"MercatorTicker\"},{\"attributes\":{},\"id\":\"2373\",\"type\":\"UnionRenderers\"},{\"attributes\":{\"overlay\":{\"id\":\"2266\"}},\"id\":\"2262\",\"type\":\"BoxZoomTool\"},{\"attributes\":{\"tile_source\":{\"id\":\"2274\"}},\"id\":\"2275\",\"type\":\"TileRenderer\"},{\"attributes\":{\"data_source\":{\"id\":\"2283\"},\"glyph\":{\"id\":\"2285\"},\"hover_glyph\":null,\"muted_glyph\":null,\"nonselection_glyph\":{\"id\":\"2286\"},\"selection_glyph\":null,\"view\":{\"id\":\"2288\"}},\"id\":\"2287\",\"type\":\"GlyphRenderer\"},{\"attributes\":{},\"id\":\"2238\",\"type\":\"DataRange1d\"},{\"attributes\":{\"data\":{\"ID\":{\"__ndarray__\":\"MDAwMDAwMDAwMDAwMDAwMDAwMDAwMDAwMDAwMDAwMDAwMDAwMDAwMDAwMDAwMDAwMDAwMDAwMDAwMDAwMDAwMDAwMDAwMDAwMDAwMDAwMDAwMDAwMDAwMDAwMDAwMDAwMDAwMDAwMDAwMDAwMDAwMDAwMDAwMDAwMDAwMDAwMDAwMDAwMDAwMDAwMDAwMDAwMDAwMDAwMDAwMDAwMDAwMDAwMDAwMDAwMDAwMDAwMDAwMDAwMDAwMDAwMDAwMDAwMDAwMDAwMDAwMDAwMDAwMDAwMDAwMDAwMDAwMDAwMDAwMDAwMDAwMDAwMDAwMDAwMDAwMDAwMDAwMDAwMDAwMDAwMDAwMDAwMDAwMDAwMDAwMDAwMDAwMDAwMDAwMDAwMDAwMDAwMDAwMDAwMDAwMDAwMDAwMDAwMDAwMDAwMDAwMDAwMDAwMDAwMDAwMDA=\",\"dtype\":\"int8\",\"order\":\"little\",\"shape\":[335]},\"MF_acc\":{\"__ndarray__\":\"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\",\"dtype\":\"float64\",\"order\":\"little\",\"shape\":[335]},\"MF_dist_from_old_point\":{\"__ndarray__\":\"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\",\"dtype\":\"float64\",\"order\":\"little\",\"shape\":[335]},\"MF_lat\":{\"__ndarray__\":\"5tj3l5OmSkAyjv3R3KVKQH1DAwwmpUpAyPgIRm+kSkATrg6AuKNKQBOuDoC4o0pAE64OgLijSkATrg6AuKNKQBOuDoC4o0pAE64OgLijSkATrg6AuKNKQBOuDoC4o0pAE64OgLijSkATrg6AuKNKQAa4nWy5o0pA8FymJsGjSkAK/1Xs1KNKQAI8MIDwo0pA+ngKFAykSkDyyVGAKKRKQEvz+jg/pEpAm5o381CkSkAWhdolYKRKQCra44V0pEpAVqBJB5CkSkAQf4BasaRKQH5wu4bPpEpAyxOFTOikSkCre+GE+KRKQOZZEMr7pEpAMDIjF/ekSkBq3/637aRKQN29tPLcpEpARcbW2MqkSkBiXf6es6RKQFtlfn+UpEpAG8MZsnCkSkAy+LE4UqRKQC5K4YtApEpAc1FPejqkSkCN9vUyQKRKQKUINxlVpEpAmKi25W2kSkDg9txTg6RKQN1rdHOWpEpA8sztuaekSkB4CKpGr6RKQJNGONK+pEpAbWHupM+kSkCr+V194aRKQMDKaOTzpEpAMMAWBQulSkBqA+OFGaVKQMOfFFIjpUpA+KyeOCWlSkCOkoprIaVKQGNaGNgZpUpAICJXRROlSkDrZ3izBqVKQGBPp+EApUpAwpeaTvykSkDqkc1V86RKQI4JCWLqpEpAWxxcOuakSkAoL68S4qRKQBJPPdLgpEpAmrZGBOOkSkALKnEd46RKQLjjXqrjpEpAOE522OmkSkDu7m2f+qRKQDjWe+AZpUpAih8ZYUClSkA9uiJCbaVKQJI4hluZpUpAIPQz9bqlSkCSeVD10KVKQBIhK67gpUpAk9R1Te2lSkCYrpOf+aVKQC0Vh9gFpkpAS2v1MA+mSkBTPRaRF6ZKQBPTAmogpkpAKBeW5CWmSkCLcXs4N6ZKQDpSRIZVpkpAY/RZVHqmSkBOtM3ooqZKQI1bOLXYpkpA1eMquwWnSkCYMGE0K6dKQOBIwhlXp0pA3l+6/36nSkA4ktyroKdKQDOJ99LKp0pAhnfsDPinSkAlXtFSHqhKQH30FDlEqEpAWzmdv2SoSkDiFroSgahKQIipYPmYqEpAM9lhp7OoSkD92tK01ahKQCJ5dY4BqUpAkAOYjSmpSkDjbBLNTalKQI7E7StqqUpA0okmq32pSkDeBBK5halKQMolHHqLqUpAYKTvf5GpSkCWVtEfmqlKQGobaJmgqUpA85dapaqpSkDKkbe3tqlKQHD7B+zFqUpA9kutUtWpSkCt7KQZ5qlKQE2tKqD1qUpA1XnRDQOqSkCCzKZtDapKQKB+OQ4XqkpAWsd/gSCqSkDSDMv6KKpKQLopYsc1qkpASwjkEkeqSkDdYmdlVqpKQEDdKXhlqkpAVa4033eqSkDQCGkyiKpKQN135FmTqkpAiLtS4K6qSkBOIGkmzqpKQMaLE1/tqkpAOiYZOQurSkAu24HfK6tKQEMojk08q0pAs4RUm0mrSkAOnYduUatKQC7/Za1Xq0pAbQpemVyrSkCim+Z4YKtKQHb8W7hiq0pA+gJSrGSrSkBYM2VMZqtKQDXNExlnq0pAQNfxBGerSkAWRNcqZqtKQKoR45Boq0pAqhpchHOrSkAgQMo+fqtKQBpsLu2Kq0pAdR1Jk5yrSkCVaMMGsKtKQKLrqwa8q0pAGiWHmcerSkALIK+s2atKQFJtWRnoq0pACjqehfOrSkAzZqAy/qtKQKXiQz8JrEpAnS0JqwysSkATPo6LD6xKQFVBiYUQrEpABriumBGsSkDTvw2MF6xKQPi+RpIgrEpAZp8L2S+sSkAWEzr5PqxKQP2zz75NrEpAYhol+VusSkAaV/uFaKxKQFB5bkZyrEpA+A4MIHysSkC9vVTHhaxKQKPFArqKrEpA3f9VR46sSkBOc4BgjqxKQLPwOWaPrEpANXsuU5OsSkC1BSNAl6xKQGPU+aafrEpAQoORTaisSkCuTm26r6xKQE0Gek20rEpA7b2G4LisSkCTzqm/uaxKQIsZbyu9rEpATjfN8cCsSkBd0pW+xqxKQE3ERN7NrEpACBn7N9SsSkC+nAwz2axKQPAqnh/rrEpAPsZq8/+sSkDrpbc/F61KQGaFZo0wrUpAYwN3oE6tSkAeQckuYq1KQJLSVRV1rUpA/Zo6j4qtSkAiJ+uBoK1KQPs+qmG/rUpAFXpB+tytSkArBBHz9q1KQPZ4ChQMrkpA7slRgCiuSkAT5nBSPa5KQHVIU5hSrkpA2lv9fWuuSkDAgQ0+g65KQL5+FkuRrkpA3jwZ0peuSkBLhPZFna5KQOtHc7+erkpAVXb0ZKOuSkAgcuNxrK5KQLoFoFG6rkpAEIrxUMquSkCKVLfE265KQObxZJLsrkpA9Yk2bACvSkD99D6fEq9KQOMO33gtr0pAQmJa5VOvSkADM49Xe69KQPU/qVGjr0pAEOlWGdevSkDIsCmhBbBKQGgTEO4psEpA1eRtW0qwSkAzO+C6YrBKQNrEDa5vsEpAuIcSLXmwSkBQi2AtiLBKQBO7sNqhsEpAks8lwcCwSkBm43Gs5rBKQCJTk+ANsUpAhUNpFDexSkDNwuImWbFKQN0c8oV/sUpAdR1Jk5yxSkD9BtbMtbFKQDCqUJPPsUpA0AO+7OixSkDgk5LU+LFKQNhD9XsHskpAVcd/gSCySkD2vMugNbJKQMC1w7pMskpAeH8RNGaySkBqejlHeLJKQJ4XMg15skpAI7oGx3aySkAImV4Hc7JKQLsb9ABxskpAjfT3UniySkDl/cNMkbJKQFvEFsypskpACCBlH7+ySkAIRsTe1bJKQO5fZLjwskpA0CxeLAyzSkD2zff4KbNKQMq47TFHs0pAsMkUGFezSkBVrupRXbNKQCCY53dQs0pAbftipTizSkDqXnzRHrNKQCgwqCUMs0pAAByGRfuySkDuz/XY8bJKQIOJlGbzskpABpkDTgCzSkBQl3VaErNKQKV/6JMms0pAatuF5jqzSkDww5YeTbNKQLJubNFds0pA1WE18WmzSkBLezPFd7NKQLg6n0uCs0pAE8/TJYizSkCeOlBMg7NKQEjT5Bh/s0pA/vFY2HizSkDAal/ldbNKQEYTIoVXs0pAK1MQ8jCzSkC2C7ZsCLNKQEPEW+ffskpALZgrKLGySkC7gqBInLJKQJLmDHuQskpAo6Sp+YWySkAGEHEYcbJKQObE9qRdskpA6tNdfkyySkCGWZtrPbJKQK0+5ZgsskpAHRko3yKySkCzjoLxHbJKQPJ8lBEXskpA8l+uRQuySkClVcxS/LFKQL2oxqbwsUpAmKAUrdyxSkC2Q6xZwrFKQMASQqyjsUpAjW/H5YmxSkBKMYRSarFKQGDiHeBJsUpATXyemiaxSkCO9RibDLFKQDZf1bTmsEpAswCxW7qwSkDaWv6Nh7BKQMo0OcZfsEpACvdpJimwSkAWSO9l7K9KQO4bWZ6sr0pAAqMgeHyvSkAd//+kRq9KQJBmJr0Ur0pAGo7hVuauSkATlmE3x65KQPOUGSWerkpA9e2yX3euSkBG+Xw5WK5KQE7FG5lHrkpADZzB3y+uSkDley8ZIq5KQA==\",\"dtype\":\"float64\",\"order\":\"little\",\"shape\":[335]},\"MF_lng\":{\"__ndarray__\":\"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\",\"dtype\":\"float64\",\"order\":\"little\",\"shape\":[335]},\"MF_vel\":{\"__ndarray__\":\"AAAAAAAAAAAxPodCISteQLPRRHBHrl9AnaEBIBetYEDYDq+eQ7BfQAAAAAAAAAAAAAAAAAAAAAAAAAAAAAAAAAAAAAAAAAAAAAAAAAAAAAAAAAAAAAAAAAAAAAAAAAAAAAAAAAAAAAAAAAAAAAAAAMMdq+3Xcd8/Njnfk1ZBBECGwaC7gVAKQC7w7KfexRJAw7nN4QThEUAzW7FwRnQVQKMDjhUjCw5AvKkPWW+qEEBMoYtixeQQQBu8lYd7DxZAWJ4WwWYhFEASuZ3fXM4VQL0ohwGWSxhAjXfial1jF0BAqgi7sGkVQO0fobICOxFAaNmEjxVSDUBZbNjFMi8MQA/zOf5NnA9AAGjdUj8OEUA8Vsrr78AXQPKVA7GgfBtAaZPpQ6vuH0D9tnbeKwYiQOg3GvBtPR5AFjYRApxxG0BlI7zx6GYdQJ+xtMSkvhNApXCKMNH1IUAOG8JLcykcQLeZbayZnRhA8+pMg6aEEkBYpohtXqD6P8ty3b70IAVAXzEMSQomB0Akgyh4T20HQCh/nvptZQtAu8edLT8xFUAXU4AYE9QTQJim5ApH6RNADt2iZKfWEEDMeQ2bk5oNQFV3crSelQNAMpbumFL3CkAkL6lHqRsLQIOCKAmDSQlAjA2VNs51CEDuKSGrU6sOQMllnjSNrA5AveZML30UDUAYD7uXU5wOQIDRiICCWAlAe7QJreJ9BECwntbXQyDiPzi+EiR5q+E/sIE/gLg68j8BroEqcs4FQHawpIsH5hVA7B9/eASTHEDyG2L5NjgfQA+EeZ2tix1AvtmcrvtJF0A8xsRg+4sRQCjGvO1kWAVAOWEJWjsIAEDCsrxRIscBQJB7z11QnAJAP76cdZFB+D8JY1Ag88n2P41WqMk4V/k/5t9NrN7j7T9HQT+zycQGQPi5vbKMrhRAxzTI9muYG0ApwNOhcHAgQB8wwCoqBSNABWTlWLtFIECU38gtv/IdQNXg1wx5Uh1AzKKyQAYNIUB0l9sFgtobQJip+nLkQCFAWQMbn7knI0BSuvE0E7IiQCkwZ+TgeCNAbTBvZYnyIEAgT3LxLQwbQKEuVjxWixVAkhvIS/iZFUAL9iQR9ocXQDr3rFMsUiBAxs7/QkhWHECgrWa60NgbQNR3uOg3SBlAwsqnp/AzF0BpmAHQ4lcDQNKZHeQf9hdAO/V9cdyHGkBcXNxSTS0dQGj6KsK6YxFAKnw2Cs0vEkBblpF2twQRQHWf7tLZsRVAIjSYQ+IbH0Czz2yps8EeQDrqZJiUnh5ArwEtVmqJGUDdT4WKBLoSQP/DeruOWhZAIL2fyj66EUAukBogrkEPQEbkrE5wWhNAQ0vOsb0VHEA3KFzPnBwSQIgrs6DGxhVA1fo9wpIyFkCuhcP/k2IQQPp1xtvq4AVAg/giN1XAFUC+KRUNgcUdQOCIp8w8MBhA4pthQMksHUAIYUVhfYgjQFKfJ0l3GhlA6UOAUZXiGEDFp8qdT1oTQOwDu7nPiBFAIy4Icm+wEUAGW0cJYdULQCUa1VdDogNAVD4x+4fHBEBAWk0fABP7P6APW7/MJe8/hOo4DUgU9j9yJYByfw75P6ihm7VKGPg/GL942S3RBUC8EmKCWugBQEZCBSYq2wBApvKo/WIUCEAn0LyDfeALQAy1gtRbVwBAgjWxcM4G/j+K34xt5ff9P46YVO+zswpASCWwvemsDUCKDcJ0TQ0WQD3DLJVarRhAxhO0UDuZEUDda3wBezERQJNT/dvRHgpAStotzShZAUD0VwomiRj1PxPepSvYZwdA9JgroxSJC0ASeKXm3rcKQDkpGntrHAZAt27jT/lsAkD9Xm94LlMFQGpa6F0zJQJADd9KBlXCBEBW38eybYgDQL1Iwb14+/8/+g4pst4AAEAZTFHveB27P8diOQYDGtY/w58Ty5AH8z94mxLQkx/yP0zs8W+1zwJAS6qZQC53BkD+mqLNc+UDQMCwWPnUagJANIf+2hN/AUB0PY63hKH5P9pV6mxx//I/7LtjF7Fx7z8DHXVxcY71P9VVq8sjIvc//bPtS7Ot8j/qgF1PBffsP9Cd25+ItPo/xpUjJFDDD0AEgwb2/SARQLVDqIszxhVARApDP9iHFkDRm2JhpSYOQP1Ll2hVJg5A1V/IMDbgFUDODr1m1EkTQO+JzVpwRQpA9B7LM6ZmG0ByejFwBnkWQO1nIffN/hBAPRbIni+8F0DeNoSY/UgSQPKt+2jRtRRAqJEu5/slGkB6Qf50q38YQGsgoKnyGhRAbyZqgvTqBEBYgs6kb6sDQGCXAVNFZPM/bUEzDVG7/D8dphtva+MCQFHUDkgA0fc/UsIHhkaFCUCvp8sh/1MIQG5F+og5QghA0zetif0eEEDekd4EhycNQDBQmc+lrRZA67PwLkNsHUBNEVqQsBsgQKvOgGk3zB5A/xcOdZS4D0AJAysICFYlQAqcS3amvSFAHdQWUDZIHkBQf6kEfvsXQLmsyfSb3QxAfhocAXXBBEAwRbKRA3ENQBGiG7Yg/BdABy3IiuLtC0CREBKXNNokQNNgBDmi3iFAwK/ARhBkHEAdzGwAbWghQOj7h9JHwCJAODEukavjEkD1cxg2AcsUQAgmQL9s+AVAqqRFFDbOFUDDT00hvvoMQNE9rNdteAlAuluDWf+JAUDacEMOPy8QQEEyna7WSBVAv93I5yM+FUA1bXJBUIwYQA9qZ9y/RxFAOcoftrsCB0Czzhmvp3cYQC1WVB9BDB5Aut8puZZGGEBeqzJI3cIXQNohVfctvRFAtUGKhanICkA51CM9b6QWQMzY/qUX4hlAymj8WwBaFUCnIFho0jMVQJbREIU+0RRAPuhIcezbAkDYtxEqRIYTQBIxghjcrRlAqNocHwgDIkByr6wH92wlQHIJICwl7h5AmRt5+/4yIEDqk3YiMjwXQB39tcxnWRdA5iI152cIEUD8/mKVIHYWQCiHGxuGmxFApFGKTdC2EECFQXJ6xiUSQOzwAp6NMg5AXB8k/nrXBUAy39k1Sz8MQGY5Hj93iBBAkXcs6HUTEkBUmhw4EusWQKpvIwv0PBhA/0R6CmYxFEBJblPKFar6P0kX0u95sklAJC60Mp+vEkD2eKDDJPkmQIq3IkxkQTpAoQ9MA6PyKkCsmp/NUaEQQPcIAJmahQZA1jDO14Q7IkCWOfbKErwcQDRXOpMlCA5AMIYULt98CkDHE6R6HMQrQKd7JBc2WBBAprUjHxpt+j/gbNQDn6blP+MxNCM6nxlAxpbFw8aJHkBQUEzrkowmQAKyNP0orUhAVuGlFMnbK0BqtT8eTZghQFPtK7TMGiZAjw74HZgkQkCE7dF8eh0kQJaYfQf7GhZAS8xvTGyIGkAT/s8nokE6QPG7ybhr/yhA5wD7+bWeLEC9eZ3YO4QpQB0rcqo0lUlAUn7HnMi9MUDlpznzrVMqQFc4fh+QeylA9HMcvWmzSEBgpRslv90rQCwBvji7+CVAyeaFooSdJEADJFWXG+M2QAnq1CcCWShAiuzpJ6SrIUD+jpAxn44dQI+K1UjF/TBA3tTFFdXLI0A18Wwbu4AQQA==\",\"dtype\":\"float64\",\"order\":\"little\",\"shape\":[335]},\"acc\":{\"__ndarray__\":\"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\",\"dtype\":\"float64\",\"order\":\"little\",\"shape\":[335]},\"block_id\":[27108,27108,27108,27108,27108,27108,27108,27108,27108,27108,27108,27108,27108,27108,27108,27108,27108,27108,27108,27108,27108,27108,27108,27108,27108,27108,27108,27108,27108,27108,27108,27108,27108,27108,27108,27108,27108,27108,27108,27108,27108,27108,27108,27108,27108,27108,27108,27108,27108,27108,27108,27108,27108,27108,27108,27108,27108,27108,27108,27108,27108,27108,27108,27108,27108,27108,27108,27108,27108,27108,27108,27108,27108,27108,27108,27108,27108,27108,27108,27108,27108,27108,27108,27108,27108,27108,27108,27108,27108,27108,27108,27108,27108,27108,27108,27108,27108,27108,27108,27108,27108,27108,27108,27108,27108,27108,27108,27108,27108,27108,27108,27108,27108,27108,27108,27108,27108,27108,27108,27108,27108,27108,27108,27108,27108,27108,27108,27108,27108,27108,27108,27108,27108,27108,27108,27108,27108,27108,27108,27108,27108,27108,27108,27108,27108,27108,27108,27108,27108,27108,27108,27108,27108,27108,27108,27108,27108,27108,27108,27108,27108,27108,27108,27108,27108,27108,27108,27108,27108,27108,27108,27108,27108,27108,27108,27108,27108,27108,27108,27108,27108,27108,27108,27108,27108,27108,27108,27108,27108,27108,27108,27108,27108,27108,27108,27108,27108,27108,27108,27108,27108,27108,27108,27108,27108,27108,27108,27108,27108,27108,27108,27108,27108,27108,27108,27108,27108,27108,27108,27108,27108,27108,27108,27108,27108,27108,27108,27108,27108,27108,27108,27108,27108,27108,27108,27108,27108,27108,27108,27108,27108,27108,27108,27108,27108,27108,27108,27108,27108,27108,27108,27108,27108,27108,27108,27108,27108,27108,27108,27108,27108,27108,27108,27108,27108,27108,27108,27108,27108,27108,27108,27108,27108,27108,27108,27108,27108,27108,27108,27108,27108,27108,27108,27108,27108,27108,27108,27108,27108,27108,27108,27108,27108,27108,27108,27108,27108,27108,27108,27108,27108,27108,27108,27108,27108,27108,27108,27108,27108,27108,27108,27108,27108,27108,27108,27108,27108,27108,27108,27108,27108,27108,27108,27108,27108,27108,27108,27108,27108,27108,27108,27108,27108,27108,27108],\"congestion\":[false,false,false,false,false,false,false,false,false,false,false,false,false,false,false,false,false,false,false,false,false,false,false,false,false,false,false,false,false,false,false,false,false,false,false,false,false,false,false,false,false,false,false,false,false,false,false,false,false,false,false,false,false,false,false,false,false,false,false,false,false,false,false,false,false,false,false,false,false,false,false,false,false,false,false,false,false,false,false,false,false,false,false,false,false,false,false,false,false,false,false,false,false,false,false,false,false,false,false,false,false,false,false,false,false,false,false,false,false,false,false,false,false,false,false,false,false,false,false,false,false,false,false,false,false,false,false,false,false,false,false,false,false,false,false,false,false,false,false,false,false,false,false,false,false,false,false,false,false,false,false,false,false,false,false,false,false,false,false,false,false,false,false,false,false,false,false,false,false,false,false,false,false,false,false,false,false,false,false,false,false,false,false,false,false,false,false,false,false,false,false,false,false,false,false,false,false,false,false,false,false,false,false,false,false,false,false,false,false,false,false,false,false,false,false,false,false,false,false,false,false,false,false,false,false,false,false,false,false,false,false,false,false,false,false,false,false,false,false,false,false,false,false,false,false,false,false,false,false,false,false,false,false,false,false,false,false,false,false,false,false,false,false,false,false,false,false,false,false,false,false,false,false,false,false,false,false,false,false,false,false,false,false,false,false,false,false,false,false,false,false,false,false,false,false,false,false,false,false,false,false,false,false,false,false,false,false,false,false,false,false,false,false,false,false,false,false,false,false,false,false,false,false,false,false,false,false,false,false,false,false,false,false,false,false],\"datetime\":{\"__ndarray__\":\"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\",\"dtype\":\"float64\",\"order\":\"little\",\"shape\":[335]},\"day\":[10,10,10,10,10,10,10,10,10,10,10,10,10,10,10,10,10,10,10,10,10,10,10,10,10,10,10,10,10,10,10,10,10,10,10,10,10,10,10,10,10,10,10,10,10,10,10,10,10,10,10,10,10,10,10,10,10,10,10,10,10,10,10,10,10,10,10,10,10,10,10,10,10,10,10,10,10,10,10,10,10,10,10,10,10,10,10,10,10,10,10,10,10,10,10,10,10,10,10,10,10,10,10,10,10,10,10,10,10,10,10,10,10,10,10,10,10,10,10,10,10,10,10,10,10,10,10,10,10,10,10,10,10,10,10,10,10,10,10,10,10,10,10,10,10,10,10,10,10,10,10,10,10,10,10,10,10,10,10,10,10,10,10,10,10,10,10,10,10,10,10,10,10,10,10,10,10,10,10,10,10,10,10,10,10,10,10,10,10,10,10,10,10,10,10,10,10,10,10,10,10,10,10,10,10,10,10,10,10,10,10,10,10,10,10,10,10,10,10,10,10,10,10,10,10,10,10,10,10,10,10,10,10,10,10,10,10,10,10,10,10,10,10,10,10,10,10,10,10,10,10,10,10,10,10,10,10,10,10,10,10,10,10,10,10,10,10,10,10,10,10,10,10,10,10,10,10,10,10,10,10,10,10,10,10,10,10,10,10,10,10,10,10,10,10,10,10,10,10,10,10,10,10,10,10,10,10,10,10,10,10,10,10,10,10,10,10,10,10,10,10,10,10,10,10,10,10,10,10,10,10,10,10,10,10],\"delay\":[-256,-236,-216,-196,-176,-156,-136,-116,-96,-76,-56,-36,-16,0,-38,-55,-55,-55,-55,-35,-35,-35,-35,-35,-35,-35,-35,-35,-35,-35,-8,8,8,8,8,-9,-9,-9,-32,-32,-102,-191,-191,-216,-197,-181,-161,-181,-181,-181,-196,-222,-222,-222,-222,-222,-222,-222,-239,-219,-219,-219,-245,-245,-219,-199,-178,-159,-159,-159,-181,-225,-225,-245,-245,-226,-226,-201,-201,-201,-175,-155,-135,-135,-116,-116,-116,-116,-116,-116,-116,-116,-116,-116,-116,-132,-132,-154,-154,-137,-137,-137,-158,-188,-231,-231,-231,-231,-231,-231,-257,-257,-257,-237,-254,-273,-302,-330,-330,-346,-346,-326,-326,-326,-326,-356,-356,-356,-331,-331,-331,-331,-396,-421,-455,-455,-481,-481,-481,-481,-481,-536,-516,-496,-476,-457,-483,-483,-483,-483,-501,-484,-484,-484,-484,-464,-444,-477,-477,-512,-585,-614,-594,-574,-574,-574,-642,-642,-680,-661,-642,-662,-662,-732,-732,-697,-676,-656,-636,-636,-668,-648,-694,-743,-743,-743,-716,-716,-734,-716,-716,-716,-698,-698,-737,-753,-753,-753,-778,-778,-778,-778,-778,-794,-794,-763,-763,-802,-846,-846,-892,-892,-860,-839,-839,-839,-839,-839,-839,-839,-839,-839,-862,-862,-862,-895,-895,-895,-927,-944,-944,-944,-909,-909,-909,-941,-979,-979,-979,-979,-1003,-1003,-1023,-1023,-989,-989,-989,-989,-954,-954,-973,-973,-973,-973,-973,-1004,-1004,-1004,-1004,-1027,-1027,-1027,-1027,-1045,-1081,-1097,-1097,-1116,-1116,-1150,-1174,-1209,-1209,-1209,-1189,-1210,-1234,-1234,-1234,-1201,-1201,-1221,-1201,-1201,-1201,-1217,-1257,-1286,-1286,-1286,-1239,-1239,-1239,-1179,-1179,-1179,-1179,-1118,-1118,-1118,-1118,-1058,-1058,-1058,-998,-998,-998,-998,-939,-939,-939,-939,-879,-879,-879,-879,-818,-818,-818,-818,-758,-758,-758,-758,-698,-698,-698,-698,-638,-638,-638,-638,-578,-578,-578],\"dist_from_old_point\":[0,0,0,0,0,0,0,0,0,0,0,0,0,0,0,0,0,0,0,0,0,0,0,0,0,0,0,0,0,0,0,0,0,0,0,0,0,0,0,0,0,0,0,0,0,0,0,0,0,0,0,0,0,0,0,0,0,0,0,0,0,0,0,0,0,0,0,0,0,0,0,0,0,0,0,0,0,0,0,0,0,0,0,0,0,0,0,0,0,0,0,0,0,0,0,0,0,0,0,0,0,0,0,0,0,0,0,0,0,0,0,0,0,0,0,0,0,0,0,0,0,0,0,0,0,0,0,0,0,0,0,0,0,0,0,0,0,0,0,0,0,0,0,0,0,0,0,0,0,0,0,0,0,0,0,0,0,0,0,0,0,0,0,0,0,0,0,0,0,0,0,0,0,0,0,0,0,0,0,0,0,0,0,0,0,0,0,0,0,0,0,0,0,0,0,0,0,0,0,0,0,0,0,0,0,0,0,0,0,0,0,0,0,0,0,0,0,0,0,0,0,0,0,0,0,0,0,0,0,0,0,0,0,0,0,0,0,0,0,0,0,0,0,0,0,0,0,0,0,0,0,0,0,0,0,0,0,0,0,0,0,0,0,0,0,0,0,0,0,0,0,0,0,0,0,0,0,0,0,0,0,0,0,0,0,0,0,0,0,0,0,0,0,0,0,0,0,0,0,0,0,0,0,0,0,0,0,0,0,0,0,0,0,0,0,0,0,0,0,0,0,0,0,0,0,0,0,0,0,0,0,0,0,0,0],\"hour\":[16,16,16,16,16,16,16,16,16,16,16,16,16,16,16,16,16,16,16,16,16,16,16,16,16,16,16,16,16,16,16,16,16,16,16,16,16,16,16,16,16,16,16,16,16,16,16,16,16,16,16,16,16,16,16,16,16,16,16,16,16,16,16,16,16,16,16,16,16,16,16,16,16,16,16,17,17,17,17,17,17,17,17,17,17,17,17,17,17,17,17,17,17,17,17,17,17,17,17,17,17,17,17,17,17,17,17,17,17,17,17,17,17,17,17,17,17,17,17,17,17,17,17,17,17,17,17,17,17,17,17,17,17,17,17,17,17,17,17,17,17,17,17,17,17,17,17,17,17,17,17,17,17,17,17,17,17,17,17,17,17,17,17,17,17,17,17,17,17,17,17,17,17,17,17,17,17,17,17,17,17,17,17,17,17,17,17,17,17,17,17,17,17,17,17,17,17,17,17,17,17,17,17,17,17,17,17,17,17,17,17,17,17,17,17,17,17,17,17,17,17,17,17,17,17,17,17,17,17,17,17,17,17,17,17,17,17,17,17,17,17,17,17,17,17,18,18,18,18,18,18,18,18,18,18,18,18,18,18,18,18,18,18,18,18,18,18,18,18,18,18,18,18,18,18,18,18,18,18,18,18,18,18,18,18,18,18,18,18,18,18,18,18,18,18,18,18,18,18,18,18,18,18,18,18,18,18,18,18,18,18,18,18,18,18,18,18,18,18,18,18,18,18,18,18,18,18,18,18,18,18,18,18,18,18],\"index\":[1080737,1081445,1082262,1082776,1083413,1084279,1084741,1085631,1086363,1086847,1087596,1088315,1089034,1089654,1090378,1091003,1091702,1092560,1093199,1093727,1094565,1095134,1095922,1096613,1097271,1097952,1098661,1099357,1100035,1100888,1101526,1102175,1102974,1103616,1104161,1104996,1105690,1106285,1107087,1107720,1108388,1109828,1110456,1111367,1112010,1112707,1113405,1114084,1114774,1115571,1116244,1116873,1117633,1118333,1119068,1119760,1120476,1120923,1121960,1122537,1123189,1123962,1124611,1125251,1125940,1126709,1127342,1128190,1128748,1129385,1130223,1130889,1131456,1132312,1133012,1133669,1134393,1135073,1135909,1136614,1137201,1137931,1138762,1139195,1139993,1140857,1141559,1142166,1142873,1143626,1144353,1145044,1145905,1146423,1147209,1147868,1148583,1149429,1150174,1150743,1151715,1152242,1152911,1153735,1154445,1155108,1155941,1156577,1157282,1158749,1159545,1160228,1160863,1161540,1162394,1163023,1163707,1164487,1165116,1165901,1166638,1167539,1167950,1168834,1169528,1170232,1170916,1171791,1172314,1173043,1173806,1174471,1175335,1175914,1176813,1177436,1178098,1178842,1179640,1180341,1181077,1181781,1182474,1183240,1183998,1184739,1185430,1186239,1186881,1187746,1188458,1189044,1189767,1190544,1191236,1191901,1192713,1194014,1194828,1195502,1196209,1197114,1197731,1198364,1199202,1199838,1201325,1202085,1202746,1203574,1204307,1205029,1205635,1206384,1206986,1207794,1208516,1209209,1209987,1211307,1212083,1212778,1213322,1214227,1214883,1215497,1216256,1216987,1217630,1218427,1219108,1219805,1220568,1221297,1222714,1223472,1224136,1224851,1225675,1226286,1227198,1227680,1228399,1229821,1230561,1231305,1232048,1232753,1233519,1234122,1234887,1235661,1236300,1237001,1237764,1238621,1239153,1239963,1241385,1242168,1242939,1243657,1244314,1245032,1245625,1246502,1247198,1247866,1249751,1250445,1251205,1251871,1252543,1253323,1254007,1254649,1255494,1256865,1257631,1258315,1259170,1259758,1260443,1261185,1261947,1263350,1264048,1264720,1265379,1266773,1267444,1268147,1268857,1269497,1270263,1271620,1272407,1273064,1273751,1274494,1275172,1275909,1276586,1277261,1277803,1278534,1279183,1279835,1281077,1281743,1282528,1283183,1283804,1284627,1285288,1285940,1286743,1287375,1288039,1288875,1289496,1290175,1290946,1291615,1292257,1292996,1293668,1294321,1295110,1296437,1296594,1297871,1298467,1298715,1299236,1299921,1300574,1300798,1301271,1301967,1302635,1302778,1303369,1304031,1304719,1305474,1306126,1306798,1306887,1307564,1308241,1308854,1308992,1309649,1310283,1310987,1311114,1311767,1312390,1313067,1313203,1313795,1314463,1315105,1315229,1315904,1316525,1317169,1317398,1317932,1318591,1319220,1319360,1319976,1320653],\"journey_id\":[\"00271001\",\"00271001\",\"00271001\",\"00271001\",\"00271001\",\"00271001\",\"00271001\",\"00271001\",\"00271001\",\"00271001\",\"00271001\",\"00271001\",\"00271001\",\"00271001\",\"00271001\",\"00271001\",\"00271001\",\"00271001\",\"00271001\",\"00271001\",\"00271001\",\"00271001\",\"00271001\",\"00271001\",\"00271001\",\"00271001\",\"00271001\",\"00271001\",\"00271001\",\"00271001\",\"00271001\",\"00271001\",\"00271001\",\"00271001\",\"00271001\",\"00271001\",\"00271001\",\"00271001\",\"00271001\",\"00271001\",\"00271001\",\"00271001\",\"00271001\",\"00271001\",\"00271001\",\"00271001\",\"00271001\",\"00271001\",\"00271001\",\"00271001\",\"00271001\",\"00271001\",\"00271001\",\"00271001\",\"00271001\",\"00271001\",\"00271001\",\"00271001\",\"00271001\",\"00271001\",\"00271001\",\"00271001\",\"00271001\",\"00271001\",\"00271001\",\"00271001\",\"00271001\",\"00271001\",\"00271001\",\"00271001\",\"00271001\",\"00271001\",\"00271001\",\"00271001\",\"00271001\",\"00271001\",\"00271001\",\"00271001\",\"00271001\",\"00271001\",\"00271001\",\"00271001\",\"00271001\",\"00271001\",\"00271001\",\"00271001\",\"00271001\",\"00271001\",\"00271001\",\"00271001\",\"00271001\",\"00271001\",\"00271001\",\"00271001\",\"00271001\",\"00271001\",\"00271001\",\"00271001\",\"00271001\",\"00271001\",\"00271001\",\"00271001\",\"00271001\",\"00271001\",\"00271001\",\"00271001\",\"00271001\",\"00271001\",\"00271001\",\"00271001\",\"00271001\",\"00271001\",\"00271001\",\"00271001\",\"00271001\",\"00271001\",\"00271001\",\"00271001\",\"00271001\",\"00271001\",\"00271001\",\"00271001\",\"00271001\",\"00271001\",\"00271001\",\"00271001\",\"00271001\",\"00271001\",\"00271001\",\"00271001\",\"00271001\",\"00271001\",\"00271001\",\"00271001\",\"00271001\",\"00271001\",\"00271001\",\"00271001\",\"00271001\",\"00271001\",\"00271001\",\"00271001\",\"00271001\",\"00271001\",\"00271001\",\"00271001\",\"00271001\",\"00271001\",\"00271001\",\"00271001\",\"00271001\",\"00271001\",\"00271001\",\"00271001\",\"00271001\",\"00271001\",\"00271001\",\"00271001\",\"00271001\",\"00271001\",\"00271001\",\"00271001\",\"00271001\",\"00271001\",\"00271001\",\"00271001\",\"00271001\",\"00271001\",\"00271001\",\"00271001\",\"00271001\",\"00271001\",\"00271001\",\"00271001\",\"00271001\",\"00271001\",\"00271001\",\"00271001\",\"00271001\",\"00271001\",\"00271001\",\"00271001\",\"00271001\",\"00271001\",\"00271001\",\"00271001\",\"00271001\",\"00271001\",\"00271001\",\"00271001\",\"00271001\",\"00271001\",\"00271001\",\"00271001\",\"00271001\",\"00271001\",\"00271001\",\"00271001\",\"00271001\",\"00271001\",\"00271001\",\"00271001\",\"00271001\",\"00271001\",\"00271001\",\"00271001\",\"00271001\",\"00271001\",\"00271001\",\"00271001\",\"00271001\",\"00271001\",\"00271001\",\"00271001\",\"00271001\",\"00271001\",\"00271001\",\"00271001\",\"00271001\",\"00271001\",\"00271001\",\"00271001\",\"00271001\",\"00271001\",\"00271001\",\"00271001\",\"00271001\",\"00271001\",\"00271001\",\"00271001\",\"00271001\",\"00271001\",\"00271001\",\"00271001\",\"00271001\",\"00271001\",\"00271001\",\"00271001\",\"00271001\",\"00271001\",\"00271001\",\"00271001\",\"00271001\",\"00271001\",\"00271001\",\"00271001\",\"00271001\",\"00271001\",\"00271001\",\"00271001\",\"00271001\",\"00271001\",\"00271001\",\"00271001\",\"00271001\",\"00271001\",\"00271001\",\"00271001\",\"00271001\",\"00271001\",\"00271001\",\"00271001\",\"00271001\",\"00271001\",\"00271001\",\"00271001\",\"00271001\",\"00271001\",\"00271001\",\"00271001\",\"00271001\",\"00271001\",\"00271001\",\"00271001\",\"00271001\",\"00271001\",\"00271001\",\"00271001\",\"00271001\",\"00271001\",\"00271001\",\"00271001\",\"00271001\",\"00271001\",\"00271001\",\"00271001\",\"00271001\",\"00271001\",\"00271001\",\"00271001\",\"00271001\",\"00271001\",\"00271001\",\"00271001\",\"00271001\",\"00271001\",\"00271001\",\"00271001\",\"00271001\",\"00271001\",\"00271001\",\"00271001\",\"00271001\",\"00271001\",\"00271001\",\"00271001\",\"00271001\",\"00271001\",\"00271001\",\"00271001\",\"00271001\",\"00271001\",\"00271001\",\"00271001\",\"00271001\",\"00271001\",\"00271001\",\"00271001\",\"00271001\",\"00271001\",\"00271001\",\"00271001\",\"00271001\",\"00271001\",\"00271001\",\"00271001\",\"00271001\",\"00271001\",\"00271001\",\"00271001\",\"00271001\",\"00271001\",\"00271001\",\"00271001\",\"00271001\"],\"lat\":{\"__ndarray__\":\"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\",\"dtype\":\"float64\",\"order\":\"little\",\"shape\":[335]},\"lat_m\":{\"__ndarray__\":\"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\",\"dtype\":\"float64\",\"order\":\"little\",\"shape\":[335]},\"line_id\":[\"27.0\",\"27.0\",\"27.0\",\"27.0\",\"27.0\",\"27.0\",\"27.0\",\"27.0\",\"27.0\",\"27.0\",\"27.0\",\"27.0\",\"27.0\",\"27.0\",\"27.0\",\"27.0\",\"27.0\",\"27.0\",\"27.0\",\"27.0\",\"27.0\",\"27.0\",\"27.0\",\"27.0\",\"27.0\",\"27.0\",\"27.0\",\"27.0\",\"27.0\",\"27.0\",\"27.0\",\"27.0\",\"27.0\",\"27.0\",\"27.0\",\"27.0\",\"27.0\",\"27.0\",\"27.0\",\"27.0\",\"27.0\",\"27.0\",\"27.0\",\"27.0\",\"27.0\",\"27.0\",\"27.0\",\"27.0\",\"27.0\",\"27.0\",\"27.0\",\"27.0\",\"27.0\",\"27.0\",\"27.0\",\"27.0\",\"27.0\",\"27.0\",\"27.0\",\"27.0\",\"27.0\",\"27.0\",\"27.0\",\"27.0\",\"27.0\",\"27.0\",\"27.0\",\"27.0\",\"27.0\",\"27.0\",\"27.0\",\"27.0\",\"27.0\",\"27.0\",\"27.0\",\"27.0\",\"27.0\",\"27.0\",\"27.0\",\"27.0\",\"27.0\",\"27.0\",\"27.0\",\"27.0\",\"27.0\",\"27.0\",\"27.0\",\"27.0\",\"27.0\",\"27.0\",\"27.0\",\"27.0\",\"27.0\",\"27.0\",\"27.0\",\"27.0\",\"27.0\",\"27.0\",\"27.0\",\"27.0\",\"27.0\",\"27.0\",\"27.0\",\"27.0\",\"27.0\",\"27.0\",\"27.0\",\"27.0\",\"27.0\",\"27.0\",\"27.0\",\"27.0\",\"27.0\",\"27.0\",\"27.0\",\"27.0\",\"27.0\",\"27.0\",\"27.0\",\"27.0\",\"27.0\",\"27.0\",\"27.0\",\"27.0\",\"27.0\",\"27.0\",\"27.0\",\"27.0\",\"27.0\",\"27.0\",\"27.0\",\"27.0\",\"27.0\",\"27.0\",\"27.0\",\"27.0\",\"27.0\",\"27.0\",\"27.0\",\"27.0\",\"27.0\",\"27.0\",\"27.0\",\"27.0\",\"27.0\",\"27.0\",\"27.0\",\"27.0\",\"27.0\",\"27.0\",\"27.0\",\"27.0\",\"27.0\",\"27.0\",\"27.0\",\"27.0\",\"27.0\",\"27.0\",\"27.0\",\"27.0\",\"27.0\",\"27.0\",\"27.0\",\"27.0\",\"27.0\",\"27.0\",\"27.0\",\"27.0\",\"27.0\",\"27.0\",\"27.0\",\"27.0\",\"27.0\",\"27.0\",\"27.0\",\"27.0\",\"27.0\",\"27.0\",\"27.0\",\"27.0\",\"27.0\",\"27.0\",\"27.0\",\"27.0\",\"27.0\",\"27.0\",\"27.0\",\"27.0\",\"27.0\",\"27.0\",\"27.0\",\"27.0\",\"27.0\",\"27.0\",\"27.0\",\"27.0\",\"27.0\",\"27.0\",\"27.0\",\"27.0\",\"27.0\",\"27.0\",\"27.0\",\"27.0\",\"27.0\",\"27.0\",\"27.0\",\"27.0\",\"27.0\",\"27.0\",\"27.0\",\"27.0\",\"27.0\",\"27.0\",\"27.0\",\"27.0\",\"27.0\",\"27.0\",\"27.0\",\"27.0\",\"27.0\",\"27.0\",\"27.0\",\"27.0\",\"27.0\",\"27.0\",\"27.0\",\"27.0\",\"27.0\",\"27.0\",\"27.0\",\"27.0\",\"27.0\",\"27.0\",\"27.0\",\"27.0\",\"27.0\",\"27.0\",\"27.0\",\"27.0\",\"27.0\",\"27.0\",\"27.0\",\"27.0\",\"27.0\",\"27.0\",\"27.0\",\"27.0\",\"27.0\",\"27.0\",\"27.0\",\"27.0\",\"27.0\",\"27.0\",\"27.0\",\"27.0\",\"27.0\",\"27.0\",\"27.0\",\"27.0\",\"27.0\",\"27.0\",\"27.0\",\"27.0\",\"27.0\",\"27.0\",\"27.0\",\"27.0\",\"27.0\",\"27.0\",\"27.0\",\"27.0\",\"27.0\",\"27.0\",\"27.0\",\"27.0\",\"27.0\",\"27.0\",\"27.0\",\"27.0\",\"27.0\",\"27.0\",\"27.0\",\"27.0\",\"27.0\",\"27.0\",\"27.0\",\"27.0\",\"27.0\",\"27.0\",\"27.0\",\"27.0\",\"27.0\",\"27.0\",\"27.0\",\"27.0\",\"27.0\",\"27.0\",\"27.0\",\"27.0\",\"27.0\",\"27.0\",\"27.0\",\"27.0\",\"27.0\",\"27.0\",\"27.0\",\"27.0\",\"27.0\",\"27.0\",\"27.0\",\"27.0\",\"27.0\",\"27.0\",\"27.0\",\"27.0\",\"27.0\",\"27.0\",\"27.0\",\"27.0\",\"27.0\",\"27.0\",\"27.0\",\"27.0\",\"27.0\",\"27.0\",\"27.0\",\"27.0\",\"27.0\",\"27.0\",\"27.0\",\"27.0\",\"27.0\",\"27.0\",\"27.0\"],\"lng\":{\"__ndarray__\":\"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\",\"dtype\":\"float64\",\"order\":\"little\",\"shape\":[335]},\"lng_m\":{\"__ndarray__\":\"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\",\"dtype\":\"float64\",\"order\":\"little\",\"shape\":[335]},\"operator\":[\"CF\",\"CF\",\"CF\",\"CF\",\"CF\",\"CF\",\"CF\",\"CF\",\"CF\",\"CF\",\"CF\",\"CF\",\"CF\",\"CF\",\"CF\",\"CF\",\"CF\",\"CF\",\"CF\",\"CF\",\"CF\",\"CF\",\"CF\",\"CF\",\"CF\",\"CF\",\"CF\",\"CF\",\"CF\",\"CF\",\"CF\",\"CF\",\"CF\",\"CF\",\"CF\",\"CF\",\"CF\",\"CF\",\"CF\",\"CF\",\"CF\",\"CF\",\"CF\",\"CF\",\"CF\",\"CF\",\"CF\",\"CF\",\"CF\",\"CF\",\"CF\",\"CF\",\"CF\",\"CF\",\"CF\",\"CF\",\"CF\",\"CF\",\"CF\",\"CF\",\"CF\",\"CF\",\"CF\",\"CF\",\"CF\",\"CF\",\"CF\",\"CF\",\"CF\",\"CF\",\"CF\",\"CF\",\"CF\",\"CF\",\"CF\",\"CF\",\"CF\",\"CF\",\"CF\",\"CF\",\"CF\",\"CF\",\"CF\",\"CF\",\"CF\",\"CF\",\"CF\",\"CF\",\"CF\",\"CF\",\"CF\",\"CF\",\"CF\",\"CF\",\"CF\",\"CF\",\"CF\",\"CF\",\"CF\",\"CF\",\"CF\",\"CF\",\"CF\",\"CF\",\"CF\",\"CF\",\"CF\",\"CF\",\"CF\",\"CF\",\"CF\",\"CF\",\"CF\",\"CF\",\"CF\",\"CF\",\"CF\",\"CF\",\"CF\",\"CF\",\"CF\",\"CF\",\"CF\",\"CF\",\"CF\",\"CF\",\"CF\",\"CF\",\"CF\",\"CF\",\"CF\",\"CF\",\"CF\",\"CF\",\"CF\",\"CF\",\"CF\",\"CF\",\"CF\",\"CF\",\"CF\",\"CF\",\"CF\",\"CF\",\"CF\",\"CF\",\"CF\",\"CF\",\"CF\",\"CF\",\"CF\",\"CF\",\"CF\",\"CF\",\"CF\",\"CF\",\"CF\",\"CF\",\"CF\",\"CF\",\"CF\",\"CF\",\"CF\",\"CF\",\"CF\",\"CF\",\"CF\",\"CF\",\"CF\",\"CF\",\"CF\",\"CF\",\"CF\",\"CF\",\"CF\",\"CF\",\"CF\",\"CF\",\"CF\",\"CF\",\"CF\",\"CF\",\"CF\",\"CF\",\"CF\",\"CF\",\"CF\",\"CF\",\"CF\",\"CF\",\"CF\",\"CF\",\"CF\",\"CF\",\"CF\",\"CF\",\"CF\",\"CF\",\"CF\",\"CF\",\"CF\",\"CF\",\"CF\",\"CF\",\"CF\",\"CF\",\"CF\",\"CF\",\"CF\",\"CF\",\"CF\",\"CF\",\"CF\",\"CF\",\"CF\",\"CF\",\"CF\",\"CF\",\"CF\",\"CF\",\"CF\",\"CF\",\"CF\",\"CF\",\"CF\",\"CF\",\"CF\",\"CF\",\"CF\",\"CF\",\"CF\",\"CF\",\"CF\",\"CF\",\"CF\",\"CF\",\"CF\",\"CF\",\"CF\",\"CF\",\"CF\",\"CF\",\"CF\",\"CF\",\"CF\",\"CF\",\"CF\",\"CF\",\"CF\",\"CF\",\"CF\",\"CF\",\"CF\",\"CF\",\"CF\",\"CF\",\"CF\",\"CF\",\"CF\",\"CF\",\"CF\",\"CF\",\"CF\",\"CF\",\"CF\",\"CF\",\"CF\",\"CF\",\"CF\",\"CF\",\"CF\",\"CF\",\"CF\",\"CF\",\"CF\",\"CF\",\"CF\",\"CF\",\"CF\",\"CF\",\"CF\",\"CF\",\"CF\",\"CF\",\"CF\",\"CF\",\"CF\",\"CF\",\"CF\",\"CF\",\"CF\",\"CF\",\"CF\",\"CF\",\"CF\",\"CF\",\"CF\",\"CF\",\"CF\",\"CF\",\"CF\",\"CF\",\"CF\",\"CF\",\"CF\",\"CF\",\"CF\",\"CF\",\"CF\",\"CF\",\"CF\",\"CF\",\"CF\",\"CF\",\"CF\",\"CF\",\"CF\",\"CF\",\"CF\",\"CF\",\"CF\",\"CF\",\"CF\",\"CF\",\"CF\",\"CF\",\"CF\",\"CF\",\"CF\",\"CF\",\"CF\",\"CF\",\"CF\",\"CF\",\"CF\"],\"outlier\":[1,1,1,1,1,1,1,1,1,1,1,1,1,1,1,-1,1,1,1,1,1,-1,1,1,1,1,1,1,1,1,1,1,1,1,-1,1,1,-1,1,1,1,1,1,1,1,1,1,1,1,1,1,1,1,1,1,1,1,1,1,1,1,1,1,1,1,1,1,1,1,1,1,-1,1,1,1,1,1,1,1,1,1,1,1,1,1,1,-1,1,1,-1,1,1,-1,1,1,-1,-1,1,1,1,1,1,1,1,-1,1,1,1,1,1,1,1,1,1,1,1,1,-1,1,1,1,1,1,1,1,1,1,1,1,1,1,1,-1,1,1,1,-1,1,1,1,1,1,1,1,1,1,1,1,1,1,1,1,1,1,1,1,1,1,1,1,1,1,1,1,1,1,1,1,1,1,1,1,1,1,1,1,1,1,1,1,1,1,1,1,1,1,1,1,1,1,1,1,1,1,1,1,1,1,1,1,1,1,1,-1,1,1,1,1,1,1,1,1,1,1,1,1,1,1,1,1,1,1,1,1,-1,-1,1,1,-1,1,1,1,1,1,1,1,-1,1,-1,1,1,1,-1,1,1,1,1,1,1,1,1,1,1,1,1,1,1,1,1,1,1,1,1,1,1,1,1,1,1,1,1,-1,1,1,1,1,1,1,1,1,1,1,1,1,1,1,-1,1,1,1,-1,1,1,1,-1,1,1,1,-1,1,1,1,1,1,1,-1,-1,-1,1,-1,1,-1,1,1,-1,-1,1,-1,-1,-1,1,-1,-1,-1,1,1,-1,-1,1,-1,1,1,1,-1,1],\"outlier2\":[1,1,1,1,1,1,1,1,1,1,1,1,1,1,1,1,1,1,1,1,1,1,-1,1,1,1,1,1,1,1,1,1,1,1,1,1,1,1,1,1,1,1,1,1,-1,1,1,1,1,1,1,1,1,1,1,1,1,1,1,1,1,1,1,1,1,1,1,1,1,1,1,1,1,1,1,1,1,1,1,1,1,1,1,1,1,1,1,1,1,1,1,1,-1,1,1,1,1,1,1,1,1,1,1,1,1,1,1,1,1,-1,1,1,1,-1,1,1,1,1,1,1,1,-1,1,1,1,1,1,1,1,1,1,1,1,1,-1,1,1,1,1,1,1,1,-1,1,1,-1,1,1,1,-1,1,1,1,1,1,1,1,1,1,1,1,1,1,1,1,1,1,1,1,1,1,1,-1,1,1,1,1,1,1,-1,1,1,1,1,1,1,1,1,1,1,1,1,1,1,1,-1,1,1,1,1,1,-1,1,1,1,1,1,1,1,1,1,1,1,1,1,1,1,1,-1,1,1,1,1,1,1,1,1,1,1,1,1,-1,1,1,1,1,1,1,1,1,-1,-1,-1,1,1,1,1,-1,1,1,1,1,1,-1,1,1,1,1,1,1,1,-1,1,1,1,1,1,1,1,1,1,1,1,1,1,1,1,1,1,1,1,1,1,1,1,1,1,1,1,1,-1,1,-1,1,-1,1,1,1,-1,1,1,1,-1,1,1,1,1,1,1,-1,-1,1,1,-1,1,1,1,1,1,1,1,1,1,1,1,1,1,1,1,-1,1,1,1,-1,1],\"outlier2_norm\":[1,1,1,1,1,1,1,1,1,1,1,1,1,1,1,1,1,1,1,1,1,1,1,1,1,-1,1,1,1,1,1,1,1,1,1,1,1,1,1,1,1,1,1,1,-1,1,1,1,1,1,1,1,1,1,1,1,1,1,-1,1,1,-1,1,1,1,1,1,1,1,1,1,1,1,1,-1,1,1,1,1,1,1,1,1,1,1,1,1,1,1,1,1,1,1,1,1,1,1,1,1,1,1,1,1,1,1,1,1,1,1,1,1,1,1,-1,1,1,1,-1,1,1,-1,-1,-1,1,1,1,1,-1,1,1,1,1,-1,1,1,1,-1,1,1,1,1,1,-1,1,1,-1,1,1,1,1,1,1,1,1,1,1,1,1,1,1,1,1,1,1,1,1,1,1,1,1,-1,1,-1,1,1,1,1,1,1,-1,1,1,1,1,1,-1,1,1,1,1,1,1,1,1,1,1,1,1,1,1,1,-1,1,1,1,1,1,1,1,-1,1,1,1,1,1,-1,1,1,1,1,1,1,1,1,1,1,1,1,-1,1,1,-1,1,1,1,1,1,1,-1,1,1,-1,-1,-1,1,1,1,-1,1,1,1,1,1,1,1,1,1,1,1,1,1,1,1,1,1,1,1,1,1,1,1,1,1,1,1,1,1,1,1,1,1,1,1,1,1,1,1,1,1,1,-1,1,-1,1,-1,1,1,1,-1,1,1,1,-1,1,1,-1,1,1,1,-1,-1,-1,1,1,1,1,1,1,1,1,1,1,1,1,1,1,1,1,1,1,1,1,1,1,1],\"outlier_0\":[-1,1,1,1,1,1,1,1,1,1,1,1,1,1,1,1,1,1,1,1,1,1,1,1,1,1,1,1,1,1,1,1,1,1,1,1,1,1,1,1,1,-1,1,1,1,1,1,1,1,1,1,1,1,1,1,1,1,1,1,1,1,1,1,1,1,1,1,1,1,1,1,1,1,1,1,1,1,1,1,1,1,1,1,1,1,1,1,1,1,-1,1,1,-1,1,1,1,1,1,1,1,1,1,1,1,1,1,1,1,1,-1,1,1,1,1,1,1,1,1,1,1,1,1,1,1,1,1,1,1,1,1,1,1,-1,1,1,1,1,1,1,1,1,1,1,1,1,1,1,1,1,1,1,1,1,1,1,1,1,-1,1,1,1,1,1,1,1,1,-1,1,1,1,1,1,1,1,1,1,1,1,1,-1,1,1,1,1,1,1,1,1,1,1,1,1,1,1,-1,1,1,1,1,1,1,1,1,-1,1,1,1,1,1,1,1,1,1,1,1,1,1,1,-1,1,1,1,1,1,1,1,1,1,-1,1,1,1,1,1,1,1,1,-1,1,1,-1,1,1,-1,1,-1,1,1,1,-1,1,1,1,1,1,-1,1,1,1,1,1,1,1,1,1,1,1,-1,1,1,1,1,1,1,1,1,1,1,1,1,1,1,1,1,1,1,-1,1,1,-1,-1,-1,1,-1,-1,1,1,-1,-1,1,1,-1,-1,1,1,-1,-1,1,-1,1,-1,-1,-1,1,-1,-1,-1,-1,-1,-1,-1,-1,-1,-1,-1,1,1,-1,-1,-1,1,1,-1,-1,1],\"outlier_MF\":[1,-1,-1,-1,-1,1,1,1,1,1,1,1,1,1,1,1,1,1,1,1,1,1,1,1,1,1,1,1,1,1,1,1,1,1,1,1,1,1,1,1,1,1,1,1,1,1,1,1,1,1,1,1,1,1,1,1,1,1,1,1,1,1,1,1,1,1,1,1,1,1,1,1,1,1,1,1,1,1,1,1,1,1,1,1,1,1,1,1,1,1,1,1,1,1,1,1,1,1,1,1,1,1,1,1,1,1,1,1,1,1,1,1,1,1,1,1,1,1,1,1,1,1,1,1,1,1,1,1,1,1,1,1,1,1,1,1,-1,1,1,1,1,1,1,1,1,1,1,1,1,1,1,1,1,1,1,1,1,1,1,1,1,1,1,1,1,1,1,1,1,1,1,1,1,1,1,1,1,1,1,1,1,1,1,1,1,1,1,1,1,1,1,1,1,1,1,1,1,1,1,1,1,1,1,1,1,1,1,1,1,1,1,1,1,1,1,1,1,1,1,1,1,1,1,1,1,1,1,1,1,-1,1,1,1,1,1,1,1,1,-1,1,1,1,-1,1,1,1,1,1,1,1,1,1,1,1,1,1,1,1,1,1,1,1,1,1,1,1,1,1,1,1,1,-1,1,1,1,1,1,1,1,1,1,1,1,1,1,1,1,1,1,1,-1,1,-1,-1,-1,1,1,-1,-1,1,1,-1,1,1,1,1,1,-1,-1,-1,1,-1,-1,-1,1,1,-1,-1,-1,-1,-1,-1,-1,-1,-1,-1,-1,-1,-1,-1,1,1,-1,-1,1],\"outlier_norm\":[1,1,1,1,1,1,1,1,1,1,1,1,1,1,1,-1,1,1,1,1,1,-1,1,1,1,1,1,1,1,1,1,1,1,1,-1,1,1,-1,-1,1,1,1,1,1,1,1,1,1,1,1,1,-1,1,1,1,1,1,1,1,1,1,1,1,1,1,1,1,1,1,1,1,-1,1,1,1,1,1,1,1,1,1,1,1,1,1,1,-1,1,1,-1,1,1,-1,1,1,-1,-1,1,1,1,1,1,1,1,-1,1,1,1,1,1,1,1,1,1,1,1,1,-1,1,1,1,1,1,1,1,1,1,1,1,1,1,1,-1,1,1,1,-1,1,1,1,1,1,1,1,1,1,1,1,1,1,1,1,1,1,1,1,1,1,1,1,1,1,1,1,1,1,1,1,1,1,1,1,1,1,1,1,1,1,1,1,1,1,1,1,1,1,1,1,1,1,1,1,1,1,1,1,1,1,1,1,1,1,1,-1,1,1,1,1,1,1,1,1,1,1,1,1,1,1,1,1,1,1,1,1,-1,-1,1,1,-1,1,1,1,1,1,1,1,-1,1,-1,1,1,1,-1,1,1,1,1,1,1,1,1,1,1,1,1,1,1,1,1,1,1,1,1,1,1,1,1,1,1,1,1,-1,1,1,1,1,1,1,1,1,1,1,1,1,1,1,-1,1,1,1,-1,1,1,1,-1,1,1,1,-1,1,1,1,1,1,1,-1,-1,-1,1,-1,1,-1,1,1,-1,-1,1,-1,-1,-1,1,-1,-1,-1,1,1,-1,-1,1,-1,1,1,1,-1,1],\"stop\":[true,true,true,true,true,true,true,true,true,true,true,true,true,true,false,false,false,false,false,false,false,false,false,true,false,true,false,false,false,false,true,false,false,false,false,false,false,false,false,false,false,false,false,true,false,false,false,false,false,true,false,false,false,false,false,false,false,false,true,true,false,false,false,false,false,false,false,false,false,true,false,false,true,false,false,false,false,false,false,false,false,false,false,false,true,false,false,true,false,false,true,false,false,true,false,false,false,false,false,false,false,false,false,false,false,false,true,false,false,false,false,false,true,false,false,false,false,false,false,false,false,true,false,true,false,false,true,false,false,false,false,false,true,false,false,false,false,false,false,false,false,false,false,false,false,false,false,false,false,true,false,false,false,false,false,false,false,true,false,false,false,false,true,true,false,false,false,false,false,false,false,false,false,false,true,true,true,true,true,false,false,false,false,false,true,false,false,false,false,false,false,true,true,false,false,true,false,false,false,true,false,false,false,false,true,false,false,false,true,false,false,true,false,false,false,false,false,false,true,false,false,false,false,false,false,false,true,false,false,true,false,false,false,false,false,false,false,false,false,false,false,false,false,false,false,true,false,false,false,true,false,true,false,false,true,true,false,true,false,false,true,false,false,false,false,false,true,true,false,false,false,false,false,false,false,false,true,false,false,false,false,false,false,false,false,false,false,false,false,false,true,true,true,true,true,true,true,true,true,true,true,true,true,true,true,true,true,true,true,true,true,true,true,true,true,true,true,true,true,true,true,true,true,true,true,true,true,true,true,true,true,true,true,true,true],\"stop_id\":[2353.0,2353.0,2353.0,2353.0,2353.0,2353.0,2353.0,2353.0,2353.0,2353.0,2353.0,2353.0,2353.0,2353.0,2353.0,2353.0,4643.0,4643.0,4643.0,4643.0,4644.0,4644.0,4645.0,4440.0,4440.0,2628.0,2628.0,2628.0,2628.0,2628.0,2629.0,2629.0,2629.0,6095.0,6095.0,7062.0,6075.0,2631.0,2631.0,2359.0,2359.0,2360.0,2360.0,4348.0,4348.0,4348.0,4348.0,4348.0,4348.0,4646.0,4646.0,4647.0,4647.0,4647.0,2346.0,2346.0,2346.0,2346.0,4435.0,4435.0,4435.0,4435.0,4435.0,4435.0,4435.0,4435.0,4435.0,4435.0,4435.0,2632.0,2632.0,2632.0,2633.0,2633.0,2633.0,2633.0,2633.0,2633.0,2633.0,2633.0,2633.0,2633.0,2633.0,2633.0,2369.0,2369.0,2370.0,2371.0,2371.0,2371.0,2372.0,2372.0,2372.0,2373.0,2373.0,2373.0,2373.0,2373.0,2377.0,2377.0,2377.0,2378.0,2378.0,2378.0,2184.0,2184.0,2185.0,2185.0,2185.0,2185.0,2185.0,7043.0,1424.0,1424.0,1424.0,1424.0,2186.0,2186.0,2187.0,2187.0,2187.0,2188.0,2188.0,2189.0,2189.0,2189.0,3952.0,3952.0,3952.0,3952.0,2190.0,2190.0,4434.0,4434.0,4434.0,2379.0,2379.0,2379.0,2380.0,2380.0,2382.0,5099.0,5099.0,5099.0,5099.0,5099.0,5099.0,5099.0,5099.0,2383.0,2383.0,2383.0,2383.0,2383.0,2383.0,2383.0,2383.0,2002.0,2002.0,2002.0,2002.0,2002.0,1358.0,1358.0,1358.0,1358.0,1358.0,1358.0,1358.0,1358.0,1358.0,1358.0,1358.0,1358.0,298.0,298.0,298.0,298.0,298.0,298.0,298.0,298.0,298.0,298.0,496.0,496.0,496.0,496.0,496.0,496.0,496.0,497.0,497.0,497.0,497.0,515.0,515.0,515.0,515.0,516.0,516.0,516.0,4384.0,4384.0,519.0,519.0,519.0,521.0,522.0,522.0,522.0,523.0,523.0,523.0,523.0,523.0,523.0,523.0,669.0,669.0,669.0,669.0,669.0,670.0,671.0,671.0,672.0,672.0,4382.0,1196.0,1196.0,1196.0,1196.0,1196.0,1197.0,1197.0,1197.0,1198.0,1198.0,1199.0,1199.0,1200.0,4385.0,4385.0,4385.0,1201.0,1201.0,1201.0,1201.0,4695.0,4695.0,1243.0,1243.0,4696.0,4697.0,1250.0,1250.0,4698.0,4698.0,4383.0,4699.0,4699.0,4699.0,4388.0,5059.0,5059.0,1266.0,1267.0,1267.0,1268.0,1268.0,1265.0,1265.0,1265.0,1265.0,1265.0,6115.0,6115.0,6115.0,6115.0,6115.0,1205.0,1205.0,1205.0,1205.0,4593.0,4593.0,4593.0,4593.0,4593.0,4595.0,4595.0,4595.0,4595.0,4595.0,4595.0,4595.0,4595.0,4595.0,4595.0,4595.0,4595.0,4595.0,4595.0,4595.0,4595.0,4595.0,4595.0,4595.0,4595.0,4595.0,4595.0,4595.0,4595.0,4595.0,4595.0,4595.0,4595.0,4595.0,4595.0,4595.0,4595.0,4595.0,4595.0,4595.0,4595.0,4595.0,4595.0,4595.0,4595.0,4595.0,4595.0,4595.0,4595.0,4595.0],\"time_frame\":[\"2013-01-10\",\"2013-01-10\",\"2013-01-10\",\"2013-01-10\",\"2013-01-10\",\"2013-01-10\",\"2013-01-10\",\"2013-01-10\",\"2013-01-10\",\"2013-01-10\",\"2013-01-10\",\"2013-01-10\",\"2013-01-10\",\"2013-01-10\",\"2013-01-10\",\"2013-01-10\",\"2013-01-10\",\"2013-01-10\",\"2013-01-10\",\"2013-01-10\",\"2013-01-10\",\"2013-01-10\",\"2013-01-10\",\"2013-01-10\",\"2013-01-10\",\"2013-01-10\",\"2013-01-10\",\"2013-01-10\",\"2013-01-10\",\"2013-01-10\",\"2013-01-10\",\"2013-01-10\",\"2013-01-10\",\"2013-01-10\",\"2013-01-10\",\"2013-01-10\",\"2013-01-10\",\"2013-01-10\",\"2013-01-10\",\"2013-01-10\",\"2013-01-10\",\"2013-01-10\",\"2013-01-10\",\"2013-01-10\",\"2013-01-10\",\"2013-01-10\",\"2013-01-10\",\"2013-01-10\",\"2013-01-10\",\"2013-01-10\",\"2013-01-10\",\"2013-01-10\",\"2013-01-10\",\"2013-01-10\",\"2013-01-10\",\"2013-01-10\",\"2013-01-10\",\"2013-01-10\",\"2013-01-10\",\"2013-01-10\",\"2013-01-10\",\"2013-01-10\",\"2013-01-10\",\"2013-01-10\",\"2013-01-10\",\"2013-01-10\",\"2013-01-10\",\"2013-01-10\",\"2013-01-10\",\"2013-01-10\",\"2013-01-10\",\"2013-01-10\",\"2013-01-10\",\"2013-01-10\",\"2013-01-10\",\"2013-01-10\",\"2013-01-10\",\"2013-01-10\",\"2013-01-10\",\"2013-01-10\",\"2013-01-10\",\"2013-01-10\",\"2013-01-10\",\"2013-01-10\",\"2013-01-10\",\"2013-01-10\",\"2013-01-10\",\"2013-01-10\",\"2013-01-10\",\"2013-01-10\",\"2013-01-10\",\"2013-01-10\",\"2013-01-10\",\"2013-01-10\",\"2013-01-10\",\"2013-01-10\",\"2013-01-10\",\"2013-01-10\",\"2013-01-10\",\"2013-01-10\",\"2013-01-10\",\"2013-01-10\",\"2013-01-10\",\"2013-01-10\",\"2013-01-10\",\"2013-01-10\",\"2013-01-10\",\"2013-01-10\",\"2013-01-10\",\"2013-01-10\",\"2013-01-10\",\"2013-01-10\",\"2013-01-10\",\"2013-01-10\",\"2013-01-10\",\"2013-01-10\",\"2013-01-10\",\"2013-01-10\",\"2013-01-10\",\"2013-01-10\",\"2013-01-10\",\"2013-01-10\",\"2013-01-10\",\"2013-01-10\",\"2013-01-10\",\"2013-01-10\",\"2013-01-10\",\"2013-01-10\",\"2013-01-10\",\"2013-01-10\",\"2013-01-10\",\"2013-01-10\",\"2013-01-10\",\"2013-01-10\",\"2013-01-10\",\"2013-01-10\",\"2013-01-10\",\"2013-01-10\",\"2013-01-10\",\"2013-01-10\",\"2013-01-10\",\"2013-01-10\",\"2013-01-10\",\"2013-01-10\",\"2013-01-10\",\"2013-01-10\",\"2013-01-10\",\"2013-01-10\",\"2013-01-10\",\"2013-01-10\",\"2013-01-10\",\"2013-01-10\",\"2013-01-10\",\"2013-01-10\",\"2013-01-10\",\"2013-01-10\",\"2013-01-10\",\"2013-01-10\",\"2013-01-10\",\"2013-01-10\",\"2013-01-10\",\"2013-01-10\",\"2013-01-10\",\"2013-01-10\",\"2013-01-10\",\"2013-01-10\",\"2013-01-10\",\"2013-01-10\",\"2013-01-10\",\"2013-01-10\",\"2013-01-10\",\"2013-01-10\",\"2013-01-10\",\"2013-01-10\",\"2013-01-10\",\"2013-01-10\",\"2013-01-10\",\"2013-01-10\",\"2013-01-10\",\"2013-01-10\",\"2013-01-10\",\"2013-01-10\",\"2013-01-10\",\"2013-01-10\",\"2013-01-10\",\"2013-01-10\",\"2013-01-10\",\"2013-01-10\",\"2013-01-10\",\"2013-01-10\",\"2013-01-10\",\"2013-01-10\",\"2013-01-10\",\"2013-01-10\",\"2013-01-10\",\"2013-01-10\",\"2013-01-10\",\"2013-01-10\",\"2013-01-10\",\"2013-01-10\",\"2013-01-10\",\"2013-01-10\",\"2013-01-10\",\"2013-01-10\",\"2013-01-10\",\"2013-01-10\",\"2013-01-10\",\"2013-01-10\",\"2013-01-10\",\"2013-01-10\",\"2013-01-10\",\"2013-01-10\",\"2013-01-10\",\"2013-01-10\",\"2013-01-10\",\"2013-01-10\",\"2013-01-10\",\"2013-01-10\",\"2013-01-10\",\"2013-01-10\",\"2013-01-10\",\"2013-01-10\",\"2013-01-10\",\"2013-01-10\",\"2013-01-10\",\"2013-01-10\",\"2013-01-10\",\"2013-01-10\",\"2013-01-10\",\"2013-01-10\",\"2013-01-10\",\"2013-01-10\",\"2013-01-10\",\"2013-01-10\",\"2013-01-10\",\"2013-01-10\",\"2013-01-10\",\"2013-01-10\",\"2013-01-10\",\"2013-01-10\",\"2013-01-10\",\"2013-01-10\",\"2013-01-10\",\"2013-01-10\",\"2013-01-10\",\"2013-01-10\",\"2013-01-10\",\"2013-01-10\",\"2013-01-10\",\"2013-01-10\",\"2013-01-10\",\"2013-01-10\",\"2013-01-10\",\"2013-01-10\",\"2013-01-10\",\"2013-01-10\",\"2013-01-10\",\"2013-01-10\",\"2013-01-10\",\"2013-01-10\",\"2013-01-10\",\"2013-01-10\",\"2013-01-10\",\"2013-01-10\",\"2013-01-10\",\"2013-01-10\",\"2013-01-10\",\"2013-01-10\",\"2013-01-10\",\"2013-01-10\",\"2013-01-10\",\"2013-01-10\",\"2013-01-10\",\"2013-01-10\",\"2013-01-10\",\"2013-01-10\",\"2013-01-10\",\"2013-01-10\",\"2013-01-10\",\"2013-01-10\",\"2013-01-10\",\"2013-01-10\",\"2013-01-10\",\"2013-01-10\",\"2013-01-10\",\"2013-01-10\",\"2013-01-10\",\"2013-01-10\",\"2013-01-10\",\"2013-01-10\",\"2013-01-10\",\"2013-01-10\",\"2013-01-10\",\"2013-01-10\",\"2013-01-10\",\"2013-01-10\",\"2013-01-10\",\"2013-01-10\",\"2013-01-10\",\"2013-01-10\",\"2013-01-10\",\"2013-01-10\",\"2013-01-10\",\"2013-01-10\",\"2013-01-10\",\"2013-01-10\",\"2013-01-10\",\"2013-01-10\",\"2013-01-10\",\"2013-01-10\",\"2013-01-10\",\"2013-01-10\",\"2013-01-10\",\"2013-01-10\",\"2013-01-10\",\"2013-01-10\",\"2013-01-10\",\"2013-01-10\",\"2013-01-10\",\"2013-01-10\",\"2013-01-10\",\"2013-01-10\",\"2013-01-10\",\"2013-01-10\",\"2013-01-10\",\"2013-01-10\",\"2013-01-10\",\"2013-01-10\",\"2013-01-10\",\"2013-01-10\",\"2013-01-10\",\"2013-01-10\",\"2013-01-10\",\"2013-01-10\",\"2013-01-10\"],\"time_from_old_point\":[0,21,20,19,20,21,18,23,20,16,23,18,21,21,20,18,21,20,21,18,21,18,23,18,21,21,18,21,20,21,20,19,21,20,18,21,21,18,21,20,20,39,20,21,21,20,19,20,20,21,20,19,20,21,20,19,21,18,22,19,21,18,21,20,19,20,21,20,19,20,21,20,19,20,21,21,18,21,22,19,18,21,20,19,20,21,21,19,18,21,21,19,23,18,19,20,21,21,20,20,21,19,18,21,20,21,20,19,20,41,21,19,18,21,20,21,22,17,19,20,21,22,17,21,20,21,18,23,18,19,21,20,21,18,23,19,18,21,20,20,21,19,20,21,18,21,20,19,20,23,19,18,21,20,19,20,21,39,20,21,20,21,20,19,20,19,41,20,21,20,21,21,16,21,19,20,21,20,19,39,20,21,18,21,20,19,20,21,20,21,18,20,21,20,40,20,21,18,21,21,21,17,20,41,19,20,21,20,20,19,20,21,18,21,21,22,19,19,41,20,21,20,19,20,19,21,20,21,55,19,19,20,20,19,20,20,20,43,17,20,25,17,17,25,20,40,20,19,20,39,20,19,21,19,20,40,20,19,21,20,19,23,18,19,21,21,20,40,19,20,19,20,21,20,21,18,21,18,21,22,18,21,21,18,21,20,21,18,21,41,4,37,16,7,14,20,21,6,13,21,20,4,15,20,25,16,21,18,4,17,22,17,4,16,21,20,5,16,18,21,4,15,20,21,4,16,19,20,6,15,20,20,5,14,23],\"timestamp\":[1357835685000000,1357835706000000,1357835726000000,1357835745000000,1357835765000000,1357835786000000,1357835804000000,1357835827000000,1357835847000000,1357835863000000,1357835886000000,1357835904000000,1357835925000000,1357835946000000,1357835966000000,1357835984000000,1357836005000000,1357836025000000,1357836046000000,1357836064000000,1357836085000000,1357836103000000,1357836126000000,1357836144000000,1357836165000000,1357836186000000,1357836204000000,1357836225000000,1357836245000000,1357836266000000,1357836286000000,1357836305000000,1357836326000000,1357836346000000,1357836364000000,1357836385000000,1357836406000000,1357836424000000,1357836445000000,1357836465000000,1357836485000000,1357836524000000,1357836544000000,1357836565000000,1357836586000000,1357836606000000,1357836625000000,1357836645000000,1357836665000000,1357836686000000,1357836706000000,1357836725000000,1357836745000000,1357836766000000,1357836786000000,1357836805000000,1357836826000000,1357836844000000,1357836866000000,1357836885000000,1357836906000000,1357836924000000,1357836945000000,1357836965000000,1357836984000000,1357837004000000,1357837025000000,1357837045000000,1357837064000000,1357837084000000,1357837105000000,1357837125000000,1357837144000000,1357837164000000,1357837185000000,1357837206000000,1357837224000000,1357837245000000,1357837267000000,1357837286000000,1357837304000000,1357837325000000,1357837345000000,1357837364000000,1357837384000000,1357837405000000,1357837426000000,1357837445000000,1357837463000000,1357837484000000,1357837505000000,1357837524000000,1357837547000000,1357837565000000,1357837584000000,1357837604000000,1357837625000000,1357837646000000,1357837666000000,1357837686000000,1357837707000000,1357837726000000,1357837744000000,1357837765000000,1357837785000000,1357837806000000,1357837826000000,1357837845000000,1357837865000000,1357837906000000,1357837927000000,1357837946000000,1357837964000000,1357837985000000,1357838005000000,1357838026000000,1357838048000000,1357838065000000,1357838084000000,1357838104000000,1357838125000000,1357838147000000,1357838164000000,1357838185000000,1357838205000000,1357838226000000,1357838244000000,1357838267000000,1357838285000000,1357838304000000,1357838325000000,1357838345000000,1357838366000000,1357838384000000,1357838407000000,1357838426000000,1357838444000000,1357838465000000,1357838485000000,1357838505000000,1357838526000000,1357838545000000,1357838565000000,1357838586000000,1357838604000000,1357838625000000,1357838645000000,1357838664000000,1357838684000000,1357838707000000,1357838726000000,1357838744000000,1357838765000000,1357838785000000,1357838804000000,1357838824000000,1357838845000000,1357838884000000,1357838904000000,1357838925000000,1357838945000000,1357838966000000,1357838986000000,1357839005000000,1357839025000000,1357839044000000,1357839085000000,1357839105000000,1357839126000000,1357839146000000,1357839167000000,1357839188000000,1357839204000000,1357839225000000,1357839244000000,1357839264000000,1357839285000000,1357839305000000,1357839324000000,1357839363000000,1357839383000000,1357839404000000,1357839422000000,1357839443000000,1357839463000000,1357839482000000,1357839502000000,1357839523000000,1357839543000000,1357839564000000,1357839582000000,1357839602000000,1357839623000000,1357839643000000,1357839683000000,1357839703000000,1357839724000000,1357839742000000,1357839763000000,1357839784000000,1357839805000000,1357839822000000,1357839842000000,1357839883000000,1357839902000000,1357839922000000,1357839943000000,1357839963000000,1357839983000000,1357840002000000,1357840022000000,1357840043000000,1357840061000000,1357840082000000,1357840103000000,1357840125000000,1357840144000000,1357840163000000,1357840204000000,1357840224000000,1357840245000000,1357840265000000,1357840284000000,1357840304000000,1357840323000000,1357840344000000,1357840364000000,1357840385000000,1357840440000000,1357840459000000,1357840478000000,1357840498000000,1357840518000000,1357840537000000,1357840557000000,1357840577000000,1357840597000000,1357840640000000,1357840657000000,1357840677000000,1357840702000000,1357840719000000,1357840736000000,1357840761000000,1357840781000000,1357840821000000,1357840841000000,1357840860000000,1357840880000000,1357840919000000,1357840939000000,1357840958000000,1357840979000000,1357840998000000,1357841018000000,1357841058000000,1357841078000000,1357841097000000,1357841118000000,1357841138000000,1357841157000000,1357841180000000,1357841198000000,1357841217000000,1357841238000000,1357841259000000,1357841279000000,1357841319000000,1357841338000000,1357841358000000,1357841377000000,1357841397000000,1357841418000000,1357841438000000,1357841459000000,1357841477000000,1357841498000000,1357841516000000,1357841537000000,1357841559000000,1357841577000000,1357841598000000,1357841619000000,1357841637000000,1357841658000000,1357841678000000,1357841699000000,1357841717000000,1357841738000000,1357841779000000,1357841783000000,1357841820000000,1357841836000000,1357841843000000,1357841857000000,1357841877000000,1357841898000000,1357841904000000,1357841917000000,1357841938000000,1357841958000000,1357841962000000,1357841977000000,1357841997000000,1357842022000000,1357842038000000,1357842059000000,1357842077000000,1357842081000000,1357842098000000,1357842120000000,1357842137000000,1357842141000000,1357842157000000,1357842178000000,1357842198000000,1357842203000000,1357842219000000,1357842237000000,1357842258000000,1357842262000000,1357842277000000,1357842297000000,1357842318000000,1357842322000000,1357842338000000,1357842357000000,1357842377000000,1357842383000000,1357842398000000,1357842418000000,1357842438000000,1357842443000000,1357842457000000,1357842480000000],\"vehicle_id\":[\"33244\",\"33244\",\"33244\",\"33244\",\"33244\",\"33244\",\"33244\",\"33244\",\"33244\",\"33244\",\"33244\",\"33244\",\"33244\",\"33244\",\"33244\",\"33244\",\"33244\",\"33244\",\"33244\",\"33244\",\"33244\",\"33244\",\"33244\",\"33244\",\"33244\",\"33244\",\"33244\",\"33244\",\"33244\",\"33244\",\"33244\",\"33244\",\"33244\",\"33244\",\"33244\",\"33244\",\"33244\",\"33244\",\"33244\",\"33244\",\"33244\",\"33244\",\"33244\",\"33244\",\"33244\",\"33244\",\"33244\",\"33244\",\"33244\",\"33244\",\"33244\",\"33244\",\"33244\",\"33244\",\"33244\",\"33244\",\"33244\",\"33244\",\"33244\",\"33244\",\"33244\",\"33244\",\"33244\",\"33244\",\"33244\",\"33244\",\"33244\",\"33244\",\"33244\",\"33244\",\"33244\",\"33244\",\"33244\",\"33244\",\"33244\",\"33244\",\"33244\",\"33244\",\"33244\",\"33244\",\"33244\",\"33244\",\"33244\",\"33244\",\"33244\",\"33244\",\"33244\",\"33244\",\"33244\",\"33244\",\"33244\",\"33244\",\"33244\",\"33244\",\"33244\",\"33244\",\"33244\",\"33244\",\"33244\",\"33244\",\"33244\",\"33244\",\"33244\",\"33244\",\"33244\",\"33244\",\"33244\",\"33244\",\"33244\",\"33244\",\"33244\",\"33244\",\"33244\",\"33244\",\"33244\",\"33244\",\"33244\",\"33244\",\"33244\",\"33244\",\"33244\",\"33244\",\"33244\",\"33244\",\"33244\",\"33244\",\"33244\",\"33244\",\"33244\",\"33244\",\"33244\",\"33244\",\"33244\",\"33244\",\"33244\",\"33244\",\"33244\",\"33244\",\"33244\",\"33244\",\"33244\",\"33244\",\"33244\",\"33244\",\"33244\",\"33244\",\"33244\",\"33244\",\"33244\",\"33244\",\"33244\",\"33244\",\"33244\",\"33244\",\"33244\",\"33244\",\"33244\",\"33244\",\"33244\",\"33244\",\"33244\",\"33244\",\"33244\",\"33244\",\"33244\",\"33244\",\"33244\",\"33244\",\"33244\",\"33244\",\"33244\",\"33244\",\"33244\",\"33244\",\"33244\",\"33244\",\"33244\",\"33244\",\"33244\",\"33244\",\"33244\",\"33244\",\"33244\",\"33244\",\"33244\",\"33244\",\"33244\",\"33244\",\"33244\",\"33244\",\"33244\",\"33244\",\"33244\",\"33244\",\"33244\",\"33244\",\"33244\",\"33244\",\"33244\",\"33244\",\"33244\",\"33244\",\"33244\",\"33244\",\"33244\",\"33244\",\"33244\",\"33244\",\"33244\",\"33244\",\"33244\",\"33244\",\"33244\",\"33244\",\"33244\",\"33244\",\"33244\",\"33244\",\"33244\",\"33244\",\"33244\",\"33244\",\"33244\",\"33244\",\"33244\",\"33244\",\"33244\",\"33244\",\"33244\",\"33244\",\"33244\",\"33244\",\"33244\",\"33244\",\"33244\",\"33244\",\"33244\",\"33244\",\"33244\",\"33244\",\"33244\",\"33244\",\"33244\",\"33244\",\"33244\",\"33244\",\"33244\",\"33244\",\"33244\",\"33244\",\"33244\",\"33244\",\"33244\",\"33244\",\"33244\",\"33244\",\"33244\",\"33244\",\"33244\",\"33244\",\"33244\",\"33244\",\"33244\",\"33244\",\"33244\",\"33244\",\"33244\",\"33244\",\"33244\",\"33244\",\"33244\",\"33244\",\"33244\",\"33244\",\"33244\",\"33244\",\"33244\",\"33244\",\"33244\",\"33244\",\"33244\",\"33244\",\"33244\",\"33244\",\"33244\",\"33244\",\"33244\",\"33244\",\"33244\",\"33244\",\"33244\",\"33244\",\"33244\",\"33244\",\"33244\",\"33244\",\"33244\",\"33244\",\"33244\",\"33244\",\"33244\",\"33244\",\"33244\",\"33244\",\"33244\",\"33244\",\"33244\",\"33244\",\"33244\",\"33244\",\"33244\",\"33244\",\"33244\",\"33244\",\"33244\",\"33244\",\"33244\",\"33244\",\"33244\",\"33244\",\"33244\",\"33244\",\"33244\",\"33244\",\"33244\",\"33244\",\"33244\",\"33244\",\"33244\",\"33244\",\"33244\",\"33244\",\"33244\",\"33244\",\"33244\"],\"vehicle_journey_id\":[\"4020\",\"4020\",\"4020\",\"4020\",\"4020\",\"4020\",\"4020\",\"4020\",\"4020\",\"4020\",\"4020\",\"4020\",\"4020\",\"4020\",\"4020\",\"4020\",\"4020\",\"4020\",\"4020\",\"4020\",\"4020\",\"4020\",\"4020\",\"4020\",\"4020\",\"4020\",\"4020\",\"4020\",\"4020\",\"4020\",\"4020\",\"4020\",\"4020\",\"4020\",\"4020\",\"4020\",\"4020\",\"4020\",\"4020\",\"4020\",\"4020\",\"4020\",\"4020\",\"4020\",\"4020\",\"4020\",\"4020\",\"4020\",\"4020\",\"4020\",\"4020\",\"4020\",\"4020\",\"4020\",\"4020\",\"4020\",\"4020\",\"4020\",\"4020\",\"4020\",\"4020\",\"4020\",\"4020\",\"4020\",\"4020\",\"4020\",\"4020\",\"4020\",\"4020\",\"4020\",\"4020\",\"4020\",\"4020\",\"4020\",\"4020\",\"4020\",\"4020\",\"4020\",\"4020\",\"4020\",\"4020\",\"4020\",\"4020\",\"4020\",\"4020\",\"4020\",\"4020\",\"4020\",\"4020\",\"4020\",\"4020\",\"4020\",\"4020\",\"4020\",\"4020\",\"4020\",\"4020\",\"4020\",\"4020\",\"4020\",\"4020\",\"4020\",\"4020\",\"4020\",\"4020\",\"4020\",\"4020\",\"4020\",\"4020\",\"4020\",\"4020\",\"4020\",\"4020\",\"4020\",\"4020\",\"4020\",\"4020\",\"4020\",\"4020\",\"4020\",\"4020\",\"4020\",\"4020\",\"4020\",\"4020\",\"4020\",\"4020\",\"4020\",\"4020\",\"4020\",\"4020\",\"4020\",\"4020\",\"4020\",\"4020\",\"4020\",\"4020\",\"4020\",\"4020\",\"4020\",\"4020\",\"4020\",\"4020\",\"4020\",\"4020\",\"4020\",\"4020\",\"4020\",\"4020\",\"4020\",\"4020\",\"4020\",\"4020\",\"4020\",\"4020\",\"4020\",\"4020\",\"4020\",\"4020\",\"4020\",\"4020\",\"4020\",\"4020\",\"4020\",\"4020\",\"4020\",\"4020\",\"4020\",\"4020\",\"4020\",\"4020\",\"4020\",\"4020\",\"4020\",\"4020\",\"4020\",\"4020\",\"4020\",\"4020\",\"4020\",\"4020\",\"4020\",\"4020\",\"4020\",\"4020\",\"4020\",\"4020\",\"4020\",\"4020\",\"4020\",\"4020\",\"4020\",\"4020\",\"4020\",\"4020\",\"4020\",\"4020\",\"4020\",\"4020\",\"4020\",\"4020\",\"4020\",\"4020\",\"4020\",\"4020\",\"4020\",\"4020\",\"4020\",\"4020\",\"4020\",\"4020\",\"4020\",\"4020\",\"4020\",\"4020\",\"4020\",\"4020\",\"4020\",\"4020\",\"4020\",\"4020\",\"4020\",\"4020\",\"4020\",\"4020\",\"4020\",\"4020\",\"4020\",\"4020\",\"4020\",\"4020\",\"4020\",\"4020\",\"4020\",\"4020\",\"4020\",\"4020\",\"4020\",\"4020\",\"4020\",\"4020\",\"4020\",\"4020\",\"4020\",\"4020\",\"4020\",\"4020\",\"4020\",\"4020\",\"4020\",\"4020\",\"4020\",\"4020\",\"4020\",\"4020\",\"4020\",\"4020\",\"4020\",\"4020\",\"4020\",\"4020\",\"4020\",\"4020\",\"4020\",\"4020\",\"4020\",\"4020\",\"4020\",\"4020\",\"4020\",\"4020\",\"4020\",\"4020\",\"4020\",\"4020\",\"4020\",\"4020\",\"4020\",\"4020\",\"4020\",\"4020\",\"4020\",\"4020\",\"4020\",\"4020\",\"4020\",\"4020\",\"4020\",\"4020\",\"4020\",\"4020\",\"4020\",\"4020\",\"4020\",\"4020\",\"4020\",\"4020\",\"4020\",\"4020\",\"4020\",\"4020\",\"4020\",\"4020\",\"4020\",\"4020\",\"4020\",\"4020\",\"4020\",\"4020\",\"4020\",\"4020\",\"4020\",\"4020\",\"4020\",\"4020\",\"4020\",\"4020\",\"4020\",\"4020\",\"4020\",\"4020\",\"4020\",\"4020\",\"4020\",\"4020\",\"4020\",\"4020\",\"4020\",\"4020\",\"4020\",\"4020\",\"4020\",\"4020\",\"4020\",\"4020\"],\"velocity\":{\"__ndarray__\":\"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\",\"dtype\":\"float64\",\"order\":\"little\",\"shape\":[335]}},\"selected\":{\"id\":\"2374\"},\"selection_policy\":{\"id\":\"2373\"}},\"id\":\"2277\",\"type\":\"ColumnDataSource\"},{\"attributes\":{\"fill_alpha\":{\"value\":0.1},\"fill_color\":{\"value\":\"blue\"},\"line_alpha\":{\"value\":0.1},\"line_color\":{\"value\":\"blue\"},\"x\":{\"value\":-712576.4320345594},\"y\":{\"value\":7034785.70040382}},\"id\":\"2291\",\"type\":\"Circle\"},{\"attributes\":{\"fill_color\":{\"value\":\"red\"},\"line_color\":{\"value\":\"red\"},\"x\":{\"field\":\"lng_m\"},\"y\":{\"field\":\"lat_m\"}},\"id\":\"2285\",\"type\":\"Circle\"},{\"attributes\":{\"data_source\":{\"id\":\"2277\"},\"glyph\":{\"id\":\"2279\"},\"hover_glyph\":null,\"muted_glyph\":null,\"nonselection_glyph\":{\"id\":\"2280\"},\"selection_glyph\":null,\"view\":{\"id\":\"2282\"}},\"id\":\"2281\",\"type\":\"GlyphRenderer\"},{\"attributes\":{},\"id\":\"2264\",\"type\":\"ResetTool\"},{\"attributes\":{\"data\":{\"ID\":{\"__ndarray__\":\"MDAwMDAwMDAwMDAwMDAwMDAwMDAwMDAwMDAwMDAwMDAwMDAwMDAwMDAwMA==\",\"dtype\":\"int8\",\"order\":\"little\",\"shape\":[43]},\"MF_acc\":{\"__ndarray__\":\"aRZxgzABwj9PEarzxaDNP1H3egpHHdU/Gr/3U3wF4D/4WR3W0oTRP7Zwdpbig88/VEkA+K373D+1C4vn5GXUPybcXR4Hm9s/GgXgzVcw3T/EvhS5Ex3aP3qa6YprR90/WL2gEYqS0D8HyAQ64VzhP4/PEH8fgbQ/2KFza/cY0z/8Ap/a3WrWP6cETnezdLI/dE5JKxow0z+XDyB/MaDjP0Manj7ppeE/W4zw0vgj4T+u+yFDJnbRP0kX0u95silAJqTEAyjM7j/TSuZ80K7hP+MxNCM6n9k/f1qKrWZE1z9HgO5CLQvkP+emI8hEOOo/bO6/1u3N5D81sV+wmtfQPwk9Jj3wOdU/8bvJuGv/6D94q8LBoXDpP19ECqXwcOM/ekJMuJHs8j/qHy5cvg/lPyr6U21VauM/F8sLqZ2A4j/U6ze1A37gPwlgJ9WK+Ok/tM5P9M6f5j8=\",\"dtype\":\"float64\",\"order\":\"little\",\"shape\":[43]},\"MF_dist_from_old_point\":{\"__ndarray__\":\"XSBbZoHJRkD0njFEvb9SQAOhQ+kNuVpA3Y1FWvFGZECT3I1uiV9bQBUEmaoYJVtAKT8cWMf2aECZKTsBRxNlQP5TuY8dkWVAZXTToCMkaUAJNZhot2ZkQLLb6DPQhmBALOZd2G+MXEApDW4NjfllQF2sK/p71GBAOQ+G5jTuWkAS9s0WDE9jQJ8cmJSfQmtAlYqi4yj7XUCaMYPg1ydmQKZ7sE9M7GNATtuXyTTIakCOiqXphxReQEkX0u95smlArY3iok6UZ0DKDuhEz1hXQOMxNCM6n1lA8qp5cGoKZEBa2rVIJV5pQGs/8KWFmW1AKKxuf3l8Z0BF2NR5aQNdQK/fxa9DlWBA8bvJuGv/aECCMJ1cRhlwQORXJ0bHvnBAbQb7EuyhcEDvCAS4THRwQPnUqpQWuXBAZKFhU14XakB7YCfL5cRpQGibVwVy02ZAQhoNc1pSYUA=\",\"dtype\":\"float64\",\"order\":\"little\",\"shape\":[43]},\"MF_lat\":{\"__ndarray__\":\"8FymJsGjSkCbmjfzUKRKQGJd/p6zpEpAMvixOFKkSkA41nvgGaVKQDpSRIZVpkpAjVs4tdimSkDgSMIZV6dKQDOJ99LKp0pAhnfsDPinSkAieXWOAalKQPZLrVLVqUpAiLtS4K6qSkAu24HfK6tKQPs+qmG/rUpA4w7feC2vSkBCYlrlU69KQBDpVhnXr0pAE7uw2qGwSkBm43Gs5rBKQN0c8oV/sUpA6l580R6zSkCeOlBMg7NKQEYTIoVXs0pALZgrKLGySkAGEHEYcbJKQPJ8lBEXskpA8l+uRQuySkClVcxS/LFKQJigFK3csUpAwBJCrKOxSkBg4h3gSbFKQE18npomsUpANl/VtOawSkCzALFburBKQNpa/o2HsEpACvdpJimwSkAWSO9l7K9KQO4bWZ6sr0pAkGYmvRSvSkAajuFW5q5KQPOUGSWerkpADZzB3y+uSkA=\",\"dtype\":\"float64\",\"order\":\"little\",\"shape\":[43]},\"MF_lng\":{\"__ndarray__\":\"RoLLvoabGcD2LPHba5wZwB95vxsclhnAdIW7aemQGcD6t8WhI24ZwIxBEHv8aRnA5GWR3FBnGcDKLyKb9WMZwCwNmxJaYBnAiuGJalteGcB4UmrlFFMZwEQcQL/vPxnArqKUEKwqGcCvGo8IfCQZwDRWc8rt+BjA6qR0n9LnGMC6EBcljeYYwFrY5DrX4RjAJ3Ms76rXGMBr2VpfJNQYwIZOGUnMzRjAvWw7bY3IGMCNeplyz7QYwK4Z8a7ErRjAST3S4LamGMBbVFInoKkYwDJaszreqRjAMZnginqnGMBM845TdKQYwPZJSWr8nRjANjaWC/CYGMDLP1Xgv5QYwDUxyW2glRjA9VIdF3qZGMDSj/I4sZwYwAWmP6DYnxjAs3BqsSWlGMAuDXm6qacYwBZa+FUUqhjASzEYbZ+vGMBdAafSqrEYwCMttw/UtBjAl5/iOPC6GMA=\",\"dtype\":\"float64\",\"order\":\"little\",\"shape\":[43]},\"MF_vel\":{\"__ndarray__\":\"Njnfk1ZBBEC8qQ9Zb6oQQDxWyuvvwBdA/bZ23isGIkB2sKSLB+YVQPi5vbKMrhRAHzDAKioFI0DV4NcMeVIdQJip+nLkQCFAWQMbn7knI0A696xTLFIgQCI0mEPiGx9Ag/giN1XAFUAIYUVhfYgjQO+JzVpwRQpAMFCZz6WtFkDrs/AuQ2wdQP8XDnWUuA9AEaIbtiD8F0CREBKXNNokQOj7h9JHwCJAcq+sB/dsJUBUmhw4EusWQEkX0u95sklAoQ9MA6PyKkCWOfbKErwcQOMxNCM6nxlAxpbFw8aJHkBQUEzrkowmQFbhpRTJ2ytAU+0rtMwaJkCWmH0H+xoWQEvMb0xsiBpA8bvJuGv/KEDnAPv5tZ4sQL15ndg7hClAUn7HnMi9MUDlpznzrVMqQFc4fh+QeylALAG+OLv4JUDJ5oWihJ0kQAnq1CcCWShA3tTFFdXLI0A=\",\"dtype\":\"float64\",\"order\":\"little\",\"shape\":[43]},\"acc\":{\"__ndarray__\":\"3zFp4DHo4T8hKACvyPrmP3oFzIROxOQ/4qrTFRKN4T/cAAJqw3LlP2wqV4IfPOI/VtC9iOBW5D83Yglj4DDdP+BiFL0Gz+Q/dmt/f+1n4z/dmVbOCmHkP3onTfwqNuQ/CkSzKVcn6D+8D4FwUjzlP3/Ld5hLQ8g/I92EpTsD5D/INxvb3WDjPx9IHxc3D74/Zhch+oe44j+ZOak7v9rpP1bTkvsMfOY/0O3dZLTL4z/HBLQyZ1HkPxCjnWlOq0lAjFb49Uu85z+Qcme84QTzP9BYdQLffP4/3SryxcYC5T9S/z1HlqnlP/MzWsgnPOg/+LpFWT5A7D+w9BvQaWnlP7bBGCcsYuk/iG1LlpCO9T+KSfyRT2LwPwZBDSNihOk/j29He0s/9j/SlHh1awnrP8Bj/HhE+ug/QUtKU+qC5T8ck9eGs1TpPyWN6O/8G/A/QT0HYxlj9j8=\",\"dtype\":\"float64\",\"order\":\"little\",\"shape\":[43]},\"block_id\":[27108,27108,27108,27108,27108,27108,27108,27108,27108,27108,27108,27108,27108,27108,27108,27108,27108,27108,27108,27108,27108,27108,27108,27108,27108,27108,27108,27108,27108,27108,27108,27108,27108,27108,27108,27108,27108,27108,27108,27108,27108,27108,27108],\"congestion\":[false,false,false,false,false,false,false,false,false,false,false,false,false,false,false,false,false,false,false,false,false,false,false,false,false,false,false,false,false,false,false,false,false,false,false,false,false,false,false,false,false,false,false],\"datetime\":{\"__ndarray__\":\"AADITVXCc0IAgNVqVcJzQgAAjqpVwnNCAAA0uVXCc0IAgFhkVsJzQgAA1a1WwnNCAAD+u1bCc0IAgF/LVsJzQgAAStlWwnNCAIBq3lbCc0IAgHoFV8JzQgCA1klXwnNCAABTk1fCc0IAAF6mV8JzQgCArwVZwnNCAIAbcVnCc0IAADx2WcJzQgAArI1ZwnNCAIAAtFnCc0IAgKbCWcJzQgAA8NVZwnNCAIBQd1rCc0IAgAvBWsJzQgCAjdVawnNCAICe51rCc0IAgET2WsJzQgAAzxNbwnNCAIDvGFvCc0IAgFQdW8JzQgAAdSJbwnNCAID6K1vCc0IAAP01W8JzQgAA3zpbwnNCAID/P1vCc0IAgGREW8JzQgAAhUlbwnNCAIAoTlvCc0IAgApTW8JzQgAAK1hbwnNCAICwYVvCc0IAgJJmW8JzQgAAs2tbwnNCAIAaelvCc0I=\",\"dtype\":\"float64\",\"order\":\"little\",\"shape\":[43]},\"day\":[10,10,10,10,10,10,10,10,10,10,10,10,10,10,10,10,10,10,10,10,10,10,10,10,10,10,10,10,10,10,10,10,10,10,10,10,10,10,10,10,10,10,10],\"delay\":[-55,-35,8,-9,-225,-116,-116,-116,-132,-132,-231,-330,-396,-481,-794,-862,-895,-927,-979,-979,-1023,-1209,-1257,-1239,-1179,-1118,-998,-998,-998,-939,-939,-879,-879,-818,-818,-818,-758,-758,-758,-698,-698,-638,-578],\"dist_from_old_point\":[0,0,0,0,0,0,0,0,0,0,0,0,0,0,0,0,0,0,0,0,0,0,0,0,0,0,0,0,0,0,0,0,0,0,0,0,0,0,0,0,0,0,0],\"hour\":[16,16,16,16,16,17,17,17,17,17,17,17,17,17,17,17,17,17,17,17,17,18,18,18,18,18,18,18,18,18,18,18,18,18,18,18,18,18,18,18,18,18,18],\"index\":[1091003,1095134,1104161,1106285,1130889,1141559,1143626,1145905,1147868,1148583,1154445,1164487,1175335,1178098,1229821,1245625,1246502,1249751,1255494,1257631,1260443,1283183,1293668,1296594,1299236,1301271,1305474,1306126,1306798,1307564,1308854,1310283,1310987,1311767,1312390,1313067,1313795,1314463,1315105,1316525,1317169,1317932,1319976],\"journey_id\":[\"00271001\",\"00271001\",\"00271001\",\"00271001\",\"00271001\",\"00271001\",\"00271001\",\"00271001\",\"00271001\",\"00271001\",\"00271001\",\"00271001\",\"00271001\",\"00271001\",\"00271001\",\"00271001\",\"00271001\",\"00271001\",\"00271001\",\"00271001\",\"00271001\",\"00271001\",\"00271001\",\"00271001\",\"00271001\",\"00271001\",\"00271001\",\"00271001\",\"00271001\",\"00271001\",\"00271001\",\"00271001\",\"00271001\",\"00271001\",\"00271001\",\"00271001\",\"00271001\",\"00271001\",\"00271001\",\"00271001\",\"00271001\",\"00271001\",\"00271001\"],\"lat\":{\"__ndarray__\":\"q+Y5It+jSkAqHaz/c6RKQEme6/twpEpAhgX3Ax6kSkB9rrZif6VKQLtbWaKzpkpA75BigESnSkCInL6er6dKQJM4K6ImqEpAMIMxIlGoSkC9++O9aqlKQAPQKF36qUpA0GG+vACrSkB/orJhTatKQD3UtmEUrkpAn/8evHavSkDFH0Wdua9KQEtenWNAsEpAOdpxw++wSkCxcf27PrFKQDMUd7zJsUpAI59XPPWySkAxXB0AcbNKQBJLyt3nskpATmGlgoqySkB08bc9QbJKQCDSb18HskpA5ZmXw+6xSkAb1elA1rFKQOkMjLyssUpAF6WEYFWxSkBZgoyACrFKQGQD6WLTsEpAX7Uy4ZewSkA3xeOiWrBKQBhFD3wMsEpAo87cQ8KvSkChSs0eaK9KQHTo9Lwbr0pA4dOcvMiuSkBNEHUfgK5KQNPijGFOrkpAB0KygAmuSkA=\",\"dtype\":\"float64\",\"order\":\"little\",\"shape\":[43]},\"lat_m\":{\"__ndarray__\":\"dEpOTR/WWkHK7nPF8tZaQaGQFn3u1lpBdJomoHjWWkHFrqCpbthaQc41zbIk2lpBqGNZmPLaWkEEHqTaittaQUB7tAg03FpBREDGc3DcWkFWAWLVAN5aQXnp0w/N3lpBbuDiNELgWkGXM/44r+BaQdXAts6i5FpBTgEWKZvmWkHQLWZd+uZaQdqEwTu651pBR8yg7bPoWkE6MjRgJOlaQRVMUFHq6VpBeMr94JTrWkH0NlotRexaQTaw7tWB61pBOnh23fzqWkEYltiClOpaQRAyjBhC6lpBfPOoDB/qWkEs98Qk/OlaQeomEQXB6VpBO7I/nkTpWkG6CEUA2uhaQW1e+IWL6FpBosgGzDboWkEK9Qaa3+daQXUtt1Zw51pB7c0ArgbnWkFSO2VbhuZaQY/czqEZ5lpBIxzxfaPlWkGKzoIkPOVaQavEfFn15FpBF6BMU5PkWkE=\",\"dtype\":\"float64\",\"order\":\"little\",\"shape\":[43]},\"line_id\":[\"27.0\",\"27.0\",\"27.0\",\"27.0\",\"27.0\",\"27.0\",\"27.0\",\"27.0\",\"27.0\",\"27.0\",\"27.0\",\"27.0\",\"27.0\",\"27.0\",\"27.0\",\"27.0\",\"27.0\",\"27.0\",\"27.0\",\"27.0\",\"27.0\",\"27.0\",\"27.0\",\"27.0\",\"27.0\",\"27.0\",\"27.0\",\"27.0\",\"27.0\",\"27.0\",\"27.0\",\"27.0\",\"27.0\",\"27.0\",\"27.0\",\"27.0\",\"27.0\",\"27.0\",\"27.0\",\"27.0\",\"27.0\",\"27.0\",\"27.0\"],\"lng\":{\"__ndarray__\":\"wHlx4qudGcBtq1lnfJ8ZwHh+UYL+khnAsW1RZoOMGcALCRhd3mwZwG/0MR8QaBnAusDlsWZkGcDQK556pGEZwN6swfuqXBnAXJIDdjVZGcAiHLPsSVAZwOz17o/3OhnAxCRcyCMoGcALl1XYDCAZwLg+rDdq9RjATDeJQWDlGMDePNUhN+MYwN0Ii4o43RjArl5FRgfUGMDk2lAxzs8YwL5H/fUKyxjAB9LFppXCGMBA+FCiJa8YwFG/C1uzpRjA98lRgCioGMCFkzR/TKsYwBb7y+7JoxjAURcplIWfGMBzFCAKZpwYwII2OXzSmRjA2C0CY32TGMAn3ZbIBZcYwOc4twn3mhjAisvxCkSfGMCqtMU1PqMYwCdMGM3KphjAERssnKSpGMDw2To42KsYwC81Qj9TrxjAqyNHOgOzGMBL6gQ0EbYYwPda0HtjuBjAz0vFxry+GMA=\",\"dtype\":\"float64\",\"order\":\"little\",\"shape\":[43]},\"lng_m\":{\"__ndarray__\":\"usnasW7BJcEmaQU2+cIlwXEN8zxduCXBY5ntJ9yyJcHsm4rx+5clwaewSRnnkyXBuKgY8cqQJcFddwEnc44lwTdHe5I5iiXBiStqf0mHJcHDbuwWtn8lwUe/+EyabSXB3TtA3JxdJcF/rywDvlYlwc9CPDeIMiXB/h56BekkJcGLA85AEyMlwW8Ar+z7HSXBF0xeSy0WJcF6cJkhlxIlwSL9KKOLDiXBftqso1wHJcHB1ZaB2vYkwfTKXqnU7iTByrTC/urwJMEdxjPUlfMkwYuun/407STBtnwLQpXpJME2Loc17uYkwWyLpgy+5CTBkf78P13fJMGznrxaXeIkwXqQt4O25STBr2kmmV3pJMEe4fpTvuwkwc1lqP7B7yTBu7xZ0i3yJMGKk9h+DPQkwTDr0T4B9yTBOajm9yL6JMGwybYZu/wkwbw3sdKz/iTBI6lILxgEJcE=\",\"dtype\":\"float64\",\"order\":\"little\",\"shape\":[43]},\"operator\":[\"CF\",\"CF\",\"CF\",\"CF\",\"CF\",\"CF\",\"CF\",\"CF\",\"CF\",\"CF\",\"CF\",\"CF\",\"CF\",\"CF\",\"CF\",\"CF\",\"CF\",\"CF\",\"CF\",\"CF\",\"CF\",\"CF\",\"CF\",\"CF\",\"CF\",\"CF\",\"CF\",\"CF\",\"CF\",\"CF\",\"CF\",\"CF\",\"CF\",\"CF\",\"CF\",\"CF\",\"CF\",\"CF\",\"CF\",\"CF\",\"CF\",\"CF\",\"CF\"],\"outlier\":[-1,-1,-1,-1,-1,-1,-1,-1,-1,-1,-1,-1,-1,-1,-1,-1,-1,-1,-1,-1,-1,-1,-1,-1,-1,-1,-1,-1,-1,-1,-1,-1,-1,-1,-1,-1,-1,-1,-1,-1,-1,-1,-1],\"outlier2\":[1,1,1,1,1,1,1,-1,1,1,1,1,1,1,1,1,1,1,1,1,-1,1,1,-1,-1,-1,1,1,1,-1,1,1,1,1,1,1,1,1,1,1,1,-1,-1],\"outlier2_norm\":[1,1,1,1,1,1,1,1,1,1,1,-1,-1,-1,1,1,1,-1,1,-1,-1,1,1,-1,-1,-1,-1,1,1,-1,-1,1,1,1,1,1,1,1,1,1,1,1,1],\"outlier_0\":[1,1,1,1,1,1,-1,-1,1,1,1,1,-1,1,-1,1,1,-1,1,1,1,1,-1,-1,-1,-1,-1,-1,1,1,-1,-1,-1,-1,-1,-1,-1,-1,-1,1,-1,-1,-1],\"outlier_MF\":[1,1,1,1,1,1,1,1,1,1,1,1,1,-1,1,1,1,1,1,-1,-1,-1,1,-1,-1,-1,1,1,-1,-1,-1,1,1,-1,-1,-1,-1,-1,-1,-1,-1,-1,-1],\"outlier_norm\":[-1,-1,-1,-1,-1,-1,-1,-1,-1,-1,-1,-1,-1,-1,-1,-1,-1,-1,-1,-1,-1,-1,-1,-1,-1,-1,-1,-1,-1,-1,-1,-1,-1,-1,-1,-1,-1,-1,-1,-1,-1,-1,-1],\"stop\":[false,false,false,false,false,false,false,false,false,false,false,false,true,false,false,false,false,false,false,false,false,false,false,true,true,true,true,true,true,true,true,true,true,true,true,true,true,true,true,true,true,true,true],\"stop_id\":[2353.0,4644.0,6095.0,2631.0,2632.0,2370.0,2371.0,2372.0,2373.0,2373.0,2184.0,2186.0,4434.0,2379.0,4384.0,671.0,671.0,4382.0,1197.0,1198.0,4385.0,1265.0,4593.0,4595.0,4595.0,4595.0,4595.0,4595.0,4595.0,4595.0,4595.0,4595.0,4595.0,4595.0,4595.0,4595.0,4595.0,4595.0,4595.0,4595.0,4595.0,4595.0,4595.0],\"time_frame\":[\"2013-01-10\",\"2013-01-10\",\"2013-01-10\",\"2013-01-10\",\"2013-01-10\",\"2013-01-10\",\"2013-01-10\",\"2013-01-10\",\"2013-01-10\",\"2013-01-10\",\"2013-01-10\",\"2013-01-10\",\"2013-01-10\",\"2013-01-10\",\"2013-01-10\",\"2013-01-10\",\"2013-01-10\",\"2013-01-10\",\"2013-01-10\",\"2013-01-10\",\"2013-01-10\",\"2013-01-10\",\"2013-01-10\",\"2013-01-10\",\"2013-01-10\",\"2013-01-10\",\"2013-01-10\",\"2013-01-10\",\"2013-01-10\",\"2013-01-10\",\"2013-01-10\",\"2013-01-10\",\"2013-01-10\",\"2013-01-10\",\"2013-01-10\",\"2013-01-10\",\"2013-01-10\",\"2013-01-10\",\"2013-01-10\",\"2013-01-10\",\"2013-01-10\",\"2013-01-10\",\"2013-01-10\"],\"time_from_old_point\":[18,18,18,18,20,21,21,23,20,21,20,17,21,18,41,19,21,55,20,17,17,20,21,4,14,13,16,21,18,17,17,21,20,16,18,21,15,20,21,19,20,15,14],\"timestamp\":[1357835984000000,1357836103000000,1357836364000000,1357836424000000,1357837125000000,1357837426000000,1357837484000000,1357837547000000,1357837604000000,1357837625000000,1357837785000000,1357838065000000,1357838366000000,1357838444000000,1357839883000000,1357840323000000,1357840344000000,1357840440000000,1357840597000000,1357840657000000,1357840736000000,1357841397000000,1357841699000000,1357841783000000,1357841857000000,1357841917000000,1357842038000000,1357842059000000,1357842077000000,1357842098000000,1357842137000000,1357842178000000,1357842198000000,1357842219000000,1357842237000000,1357842258000000,1357842277000000,1357842297000000,1357842318000000,1357842357000000,1357842377000000,1357842398000000,1357842457000000],\"vehicle_id\":[\"33244\",\"33244\",\"33244\",\"33244\",\"33244\",\"33244\",\"33244\",\"33244\",\"33244\",\"33244\",\"33244\",\"33244\",\"33244\",\"33244\",\"33244\",\"33244\",\"33244\",\"33244\",\"33244\",\"33244\",\"33244\",\"33244\",\"33244\",\"33244\",\"33244\",\"33244\",\"33244\",\"33244\",\"33244\",\"33244\",\"33244\",\"33244\",\"33244\",\"33244\",\"33244\",\"33244\",\"33244\",\"33244\",\"33244\",\"33244\",\"33244\",\"33244\",\"33244\"],\"vehicle_journey_id\":[\"4020\",\"4020\",\"4020\",\"4020\",\"4020\",\"4020\",\"4020\",\"4020\",\"4020\",\"4020\",\"4020\",\"4020\",\"4020\",\"4020\",\"4020\",\"4020\",\"4020\",\"4020\",\"4020\",\"4020\",\"4020\",\"4020\",\"4020\",\"4020\",\"4020\",\"4020\",\"4020\",\"4020\",\"4020\",\"4020\",\"4020\",\"4020\",\"4020\",\"4020\",\"4020\",\"4020\",\"4020\",\"4020\",\"4020\",\"4020\",\"4020\",\"4020\",\"4020\"],\"velocity\":{\"__ndarray__\":\"G1h2HDglJEAmLeDEIdopQCqGZVXYXCdAPyCOWLS+I0ASgYJEdM8qQK5nElvp7idAcSF5swayKkCYvi5HIfskQJh7WWzIAipACz1Xt2d4KUBUQOyBTXkpQPL5EayNeSVATkm7ZqKzL0C0MZG+3OMnQLt8Wds4Fh9AmsaN1NbDJ0A3uZMvI28pQPvh3lcT1RlAP12p+KlmJ0AzzWMva3grQIsATMvN4ydARGkVfqG+KEBGRoxy16oqQBCjnWlOq2lAu0s5d8LEJEApGijS7ucuQNBYdQLffD5AQ9jN46STK0A9vyUQyV4oQDLX30TqvylAqBbaPkIELkAosSThWhosQCPy3jC3ui9AiG1LlpCONUC80juEmW4yQKyyAGfgvjBAlviSw1bbNEADXWsp4+UwQHahZe88ZDBAXTnoQnaLKUDid41o4KkvQKYI1EF6NC5AmVWmNraWM0A=\",\"dtype\":\"float64\",\"order\":\"little\",\"shape\":[43]}},\"selected\":{\"id\":\"2376\"},\"selection_policy\":{\"id\":\"2375\"}},\"id\":\"2283\",\"type\":\"ColumnDataSource\"},{\"attributes\":{\"bottom_units\":\"screen\",\"fill_alpha\":0.5,\"fill_color\":\"lightgrey\",\"left_units\":\"screen\",\"level\":\"overlay\",\"line_alpha\":1.0,\"line_color\":\"black\",\"line_dash\":[4,4],\"line_width\":2,\"right_units\":\"screen\",\"top_units\":\"screen\"},\"id\":\"2266\",\"type\":\"BoxAnnotation\"},{\"attributes\":{\"attribution\":\"&copy; <a href=\\\"https://www.openstreetmap.org/copyright\\\">OpenStreetMap</a> contributors\",\"url\":\"https://c.tile.openstreetmap.org/{Z}/{X}/{Y}.png\"},\"id\":\"2274\",\"type\":\"WMTSTileSource\"},{\"attributes\":{},\"id\":\"2240\",\"type\":\"LinearScale\"},{\"attributes\":{},\"id\":\"2377\",\"type\":\"UnionRenderers\"},{\"attributes\":{\"fill_alpha\":{\"value\":0.1},\"fill_color\":{\"value\":\"red\"},\"line_alpha\":{\"value\":0.1},\"line_color\":{\"value\":\"red\"},\"x\":{\"field\":\"lng_m\"},\"y\":{\"field\":\"lat_m\"}},\"id\":\"2286\",\"type\":\"Circle\"},{\"attributes\":{\"dimension\":\"lon\"},\"id\":\"2247\",\"type\":\"MercatorTickFormatter\"},{\"attributes\":{\"formatter\":{\"id\":\"2255\"},\"ticker\":{\"id\":\"2253\"}},\"id\":\"2252\",\"type\":\"MercatorAxis\"},{\"attributes\":{\"dimension\":\"lat\"},\"id\":\"2255\",\"type\":\"MercatorTickFormatter\"}],\"root_ids\":[\"2235\"]},\"title\":\"Bokeh Application\",\"version\":\"2.2.1\"}};\n",
       "  var render_items = [{\"docid\":\"34b1fd2f-b29f-48c7-bb05-687cb7b0a468\",\"root_ids\":[\"2235\"],\"roots\":{\"2235\":\"b3e32f03-8fec-4ce2-8694-f23e172854bf\"}}];\n",
       "  root.Bokeh.embed.embed_items_notebook(docs_json, render_items);\n",
       "\n",
       "  }\n",
       "  if (root.Bokeh !== undefined) {\n",
       "    embed_document(root);\n",
       "  } else {\n",
       "    var attempts = 0;\n",
       "    var timer = setInterval(function(root) {\n",
       "      if (root.Bokeh !== undefined) {\n",
       "        clearInterval(timer);\n",
       "        embed_document(root);\n",
       "      } else {\n",
       "        attempts++;\n",
       "        if (attempts > 100) {\n",
       "          clearInterval(timer);\n",
       "          console.log(\"Bokeh: ERROR: Unable to run BokehJS code because BokehJS library is missing\");\n",
       "        }\n",
       "      }\n",
       "    }, 10, root)\n",
       "  }\n",
       "})(window);"
      ],
      "application/vnd.bokehjs_exec.v0+json": ""
     },
     "metadata": {
      "application/vnd.bokehjs_exec.v0+json": {
       "id": "2235"
      }
     },
     "output_type": "display_data"
    }
   ],
   "source": [
    "plot_map(df[df.ID == accum[accum == long_run].index.values[0]])"
   ]
  },
  {
   "cell_type": "code",
   "execution_count": null,
   "metadata": {},
   "outputs": [],
   "source": []
  }
 ],
 "metadata": {
  "kernelspec": {
   "display_name": "venvTraj",
   "language": "python",
   "name": "venvtraj"
  },
  "language_info": {
   "codemirror_mode": {
    "name": "ipython",
    "version": 3
   },
   "file_extension": ".py",
   "mimetype": "text/x-python",
   "name": "python",
   "nbconvert_exporter": "python",
   "pygments_lexer": "ipython3",
   "version": "3.8.5"
  }
 },
 "nbformat": 4,
 "nbformat_minor": 2
}
