{
 "cells": [
  {
   "cell_type": "markdown",
   "metadata": {},
   "source": [
    "# Projeto da disciplina de Introdução à Ciência de Dados\n",
    "\n",
    "Estudante: Fernando de Barros (fbwn@cin.ufpe.br)"
   ]
  },
  {
   "cell_type": "markdown",
   "metadata": {},
   "source": [
    "## Especificação do Projeto 1\n",
    "1. Coletar Dados\n",
    "2. Pré-processamento\n",
    "    1. definição de tipos (pre-proc 1)\n",
    "    2. tratar dados ausentes (pre-proc 1)\n",
    "    3. normalização e discretização (pre-proc 1)\n",
    "    4. limpeza de dados (uni, bi e multivariado)\n",
    "3. Apresentar Estatisticas descritivas dos dados (com visualizações)\n",
    "4. Realizar teste de hipótese para comparação de valores de categorias e visualizar diferenças"
   ]
  },
  {
   "cell_type": "markdown",
   "metadata": {},
   "source": [
    "## TODO List\n",
    "[ ] Organizar o que já existe para apresentação\n",
    "\n",
    "[ ] Marcar minhas contribuições\n",
    "\n",
    "[ ] Listar o que falta para cumprir a especificação\n",
    "\n",
    "[ ] Deixar a abertura de arquivos mais \"clean\"\n",
    "\n",
    "[ ] Deixar a navegação por rows na forma nativa e não via for-index\n",
    "\n",
    "[ ] Adicionar validação de mínimo de pontos ao final da create_sentences"
   ]
  },
  {
   "cell_type": "markdown",
   "metadata": {},
   "source": [
    "## Carregamento das Bibliotecas e do Dataset"
   ]
  },
  {
   "cell_type": "code",
   "execution_count": 1,
   "metadata": {},
   "outputs": [
    {
     "data": {
      "text/html": [
       "\n",
       "    <div class=\"bk-root\">\n",
       "        <a href=\"https://bokeh.org\" target=\"_blank\" class=\"bk-logo bk-logo-small bk-logo-notebook\"></a>\n",
       "        <span id=\"1001\">Loading BokehJS ...</span>\n",
       "    </div>"
      ]
     },
     "metadata": {},
     "output_type": "display_data"
    },
    {
     "data": {
      "application/javascript": [
       "\n",
       "(function(root) {\n",
       "  function now() {\n",
       "    return new Date();\n",
       "  }\n",
       "\n",
       "  var force = true;\n",
       "\n",
       "  if (typeof root._bokeh_onload_callbacks === \"undefined\" || force === true) {\n",
       "    root._bokeh_onload_callbacks = [];\n",
       "    root._bokeh_is_loading = undefined;\n",
       "  }\n",
       "\n",
       "  var JS_MIME_TYPE = 'application/javascript';\n",
       "  var HTML_MIME_TYPE = 'text/html';\n",
       "  var EXEC_MIME_TYPE = 'application/vnd.bokehjs_exec.v0+json';\n",
       "  var CLASS_NAME = 'output_bokeh rendered_html';\n",
       "\n",
       "  /**\n",
       "   * Render data to the DOM node\n",
       "   */\n",
       "  function render(props, node) {\n",
       "    var script = document.createElement(\"script\");\n",
       "    node.appendChild(script);\n",
       "  }\n",
       "\n",
       "  /**\n",
       "   * Handle when an output is cleared or removed\n",
       "   */\n",
       "  function handleClearOutput(event, handle) {\n",
       "    var cell = handle.cell;\n",
       "\n",
       "    var id = cell.output_area._bokeh_element_id;\n",
       "    var server_id = cell.output_area._bokeh_server_id;\n",
       "    // Clean up Bokeh references\n",
       "    if (id != null && id in Bokeh.index) {\n",
       "      Bokeh.index[id].model.document.clear();\n",
       "      delete Bokeh.index[id];\n",
       "    }\n",
       "\n",
       "    if (server_id !== undefined) {\n",
       "      // Clean up Bokeh references\n",
       "      var cmd = \"from bokeh.io.state import curstate; print(curstate().uuid_to_server['\" + server_id + \"'].get_sessions()[0].document.roots[0]._id)\";\n",
       "      cell.notebook.kernel.execute(cmd, {\n",
       "        iopub: {\n",
       "          output: function(msg) {\n",
       "            var id = msg.content.text.trim();\n",
       "            if (id in Bokeh.index) {\n",
       "              Bokeh.index[id].model.document.clear();\n",
       "              delete Bokeh.index[id];\n",
       "            }\n",
       "          }\n",
       "        }\n",
       "      });\n",
       "      // Destroy server and session\n",
       "      var cmd = \"import bokeh.io.notebook as ion; ion.destroy_server('\" + server_id + \"')\";\n",
       "      cell.notebook.kernel.execute(cmd);\n",
       "    }\n",
       "  }\n",
       "\n",
       "  /**\n",
       "   * Handle when a new output is added\n",
       "   */\n",
       "  function handleAddOutput(event, handle) {\n",
       "    var output_area = handle.output_area;\n",
       "    var output = handle.output;\n",
       "\n",
       "    // limit handleAddOutput to display_data with EXEC_MIME_TYPE content only\n",
       "    if ((output.output_type != \"display_data\") || (!output.data.hasOwnProperty(EXEC_MIME_TYPE))) {\n",
       "      return\n",
       "    }\n",
       "\n",
       "    var toinsert = output_area.element.find(\".\" + CLASS_NAME.split(' ')[0]);\n",
       "\n",
       "    if (output.metadata[EXEC_MIME_TYPE][\"id\"] !== undefined) {\n",
       "      toinsert[toinsert.length - 1].firstChild.textContent = output.data[JS_MIME_TYPE];\n",
       "      // store reference to embed id on output_area\n",
       "      output_area._bokeh_element_id = output.metadata[EXEC_MIME_TYPE][\"id\"];\n",
       "    }\n",
       "    if (output.metadata[EXEC_MIME_TYPE][\"server_id\"] !== undefined) {\n",
       "      var bk_div = document.createElement(\"div\");\n",
       "      bk_div.innerHTML = output.data[HTML_MIME_TYPE];\n",
       "      var script_attrs = bk_div.children[0].attributes;\n",
       "      for (var i = 0; i < script_attrs.length; i++) {\n",
       "        toinsert[toinsert.length - 1].firstChild.setAttribute(script_attrs[i].name, script_attrs[i].value);\n",
       "        toinsert[toinsert.length - 1].firstChild.textContent = bk_div.children[0].textContent\n",
       "      }\n",
       "      // store reference to server id on output_area\n",
       "      output_area._bokeh_server_id = output.metadata[EXEC_MIME_TYPE][\"server_id\"];\n",
       "    }\n",
       "  }\n",
       "\n",
       "  function register_renderer(events, OutputArea) {\n",
       "\n",
       "    function append_mime(data, metadata, element) {\n",
       "      // create a DOM node to render to\n",
       "      var toinsert = this.create_output_subarea(\n",
       "        metadata,\n",
       "        CLASS_NAME,\n",
       "        EXEC_MIME_TYPE\n",
       "      );\n",
       "      this.keyboard_manager.register_events(toinsert);\n",
       "      // Render to node\n",
       "      var props = {data: data, metadata: metadata[EXEC_MIME_TYPE]};\n",
       "      render(props, toinsert[toinsert.length - 1]);\n",
       "      element.append(toinsert);\n",
       "      return toinsert\n",
       "    }\n",
       "\n",
       "    /* Handle when an output is cleared or removed */\n",
       "    events.on('clear_output.CodeCell', handleClearOutput);\n",
       "    events.on('delete.Cell', handleClearOutput);\n",
       "\n",
       "    /* Handle when a new output is added */\n",
       "    events.on('output_added.OutputArea', handleAddOutput);\n",
       "\n",
       "    /**\n",
       "     * Register the mime type and append_mime function with output_area\n",
       "     */\n",
       "    OutputArea.prototype.register_mime_type(EXEC_MIME_TYPE, append_mime, {\n",
       "      /* Is output safe? */\n",
       "      safe: true,\n",
       "      /* Index of renderer in `output_area.display_order` */\n",
       "      index: 0\n",
       "    });\n",
       "  }\n",
       "\n",
       "  // register the mime type if in Jupyter Notebook environment and previously unregistered\n",
       "  if (root.Jupyter !== undefined) {\n",
       "    var events = require('base/js/events');\n",
       "    var OutputArea = require('notebook/js/outputarea').OutputArea;\n",
       "\n",
       "    if (OutputArea.prototype.mime_types().indexOf(EXEC_MIME_TYPE) == -1) {\n",
       "      register_renderer(events, OutputArea);\n",
       "    }\n",
       "  }\n",
       "\n",
       "  \n",
       "  if (typeof (root._bokeh_timeout) === \"undefined\" || force === true) {\n",
       "    root._bokeh_timeout = Date.now() + 5000;\n",
       "    root._bokeh_failed_load = false;\n",
       "  }\n",
       "\n",
       "  var NB_LOAD_WARNING = {'data': {'text/html':\n",
       "     \"<div style='background-color: #fdd'>\\n\"+\n",
       "     \"<p>\\n\"+\n",
       "     \"BokehJS does not appear to have successfully loaded. If loading BokehJS from CDN, this \\n\"+\n",
       "     \"may be due to a slow or bad network connection. Possible fixes:\\n\"+\n",
       "     \"</p>\\n\"+\n",
       "     \"<ul>\\n\"+\n",
       "     \"<li>re-rerun `output_notebook()` to attempt to load from CDN again, or</li>\\n\"+\n",
       "     \"<li>use INLINE resources instead, as so:</li>\\n\"+\n",
       "     \"</ul>\\n\"+\n",
       "     \"<code>\\n\"+\n",
       "     \"from bokeh.resources import INLINE\\n\"+\n",
       "     \"output_notebook(resources=INLINE)\\n\"+\n",
       "     \"</code>\\n\"+\n",
       "     \"</div>\"}};\n",
       "\n",
       "  function display_loaded() {\n",
       "    var el = document.getElementById(\"1001\");\n",
       "    if (el != null) {\n",
       "      el.textContent = \"BokehJS is loading...\";\n",
       "    }\n",
       "    if (root.Bokeh !== undefined) {\n",
       "      if (el != null) {\n",
       "        el.textContent = \"BokehJS \" + root.Bokeh.version + \" successfully loaded.\";\n",
       "      }\n",
       "    } else if (Date.now() < root._bokeh_timeout) {\n",
       "      setTimeout(display_loaded, 100)\n",
       "    }\n",
       "  }\n",
       "\n",
       "\n",
       "  function run_callbacks() {\n",
       "    try {\n",
       "      root._bokeh_onload_callbacks.forEach(function(callback) {\n",
       "        if (callback != null)\n",
       "          callback();\n",
       "      });\n",
       "    } finally {\n",
       "      delete root._bokeh_onload_callbacks\n",
       "    }\n",
       "    console.debug(\"Bokeh: all callbacks have finished\");\n",
       "  }\n",
       "\n",
       "  function load_libs(css_urls, js_urls, callback) {\n",
       "    if (css_urls == null) css_urls = [];\n",
       "    if (js_urls == null) js_urls = [];\n",
       "\n",
       "    root._bokeh_onload_callbacks.push(callback);\n",
       "    if (root._bokeh_is_loading > 0) {\n",
       "      console.debug(\"Bokeh: BokehJS is being loaded, scheduling callback at\", now());\n",
       "      return null;\n",
       "    }\n",
       "    if (js_urls == null || js_urls.length === 0) {\n",
       "      run_callbacks();\n",
       "      return null;\n",
       "    }\n",
       "    console.debug(\"Bokeh: BokehJS not loaded, scheduling load and callback at\", now());\n",
       "    root._bokeh_is_loading = css_urls.length + js_urls.length;\n",
       "\n",
       "    function on_load() {\n",
       "      root._bokeh_is_loading--;\n",
       "      if (root._bokeh_is_loading === 0) {\n",
       "        console.debug(\"Bokeh: all BokehJS libraries/stylesheets loaded\");\n",
       "        run_callbacks()\n",
       "      }\n",
       "    }\n",
       "\n",
       "    function on_error() {\n",
       "      console.error(\"failed to load \" + url);\n",
       "    }\n",
       "\n",
       "    for (var i = 0; i < css_urls.length; i++) {\n",
       "      var url = css_urls[i];\n",
       "      const element = document.createElement(\"link\");\n",
       "      element.onload = on_load;\n",
       "      element.onerror = on_error;\n",
       "      element.rel = \"stylesheet\";\n",
       "      element.type = \"text/css\";\n",
       "      element.href = url;\n",
       "      console.debug(\"Bokeh: injecting link tag for BokehJS stylesheet: \", url);\n",
       "      document.body.appendChild(element);\n",
       "    }\n",
       "\n",
       "    const hashes = {\"https://cdn.bokeh.org/bokeh/release/bokeh-2.2.1.min.js\": \"qkRvDQVAIfzsJo40iRBbxt6sttt0hv4lh74DG7OK4MCHv4C5oohXYoHUM5W11uqS\", \"https://cdn.bokeh.org/bokeh/release/bokeh-widgets-2.2.1.min.js\": \"Sb7Mr06a9TNlet/GEBeKaf5xH3eb6AlCzwjtU82wNPyDrnfoiVl26qnvlKjmcAd+\", \"https://cdn.bokeh.org/bokeh/release/bokeh-tables-2.2.1.min.js\": \"HaJ15vgfmcfRtB4c4YBOI4f1MUujukqInOWVqZJZZGK7Q+ivud0OKGSTn/Vm2iso\"};\n",
       "\n",
       "    for (var i = 0; i < js_urls.length; i++) {\n",
       "      var url = js_urls[i];\n",
       "      var element = document.createElement('script');\n",
       "      element.onload = on_load;\n",
       "      element.onerror = on_error;\n",
       "      element.async = false;\n",
       "      element.src = url;\n",
       "      if (url in hashes) {\n",
       "        element.crossOrigin = \"anonymous\";\n",
       "        element.integrity = \"sha384-\" + hashes[url];\n",
       "      }\n",
       "      console.debug(\"Bokeh: injecting script tag for BokehJS library: \", url);\n",
       "      document.head.appendChild(element);\n",
       "    }\n",
       "  };\n",
       "\n",
       "  function inject_raw_css(css) {\n",
       "    const element = document.createElement(\"style\");\n",
       "    element.appendChild(document.createTextNode(css));\n",
       "    document.body.appendChild(element);\n",
       "  }\n",
       "\n",
       "  \n",
       "  var js_urls = [\"https://cdn.bokeh.org/bokeh/release/bokeh-2.2.1.min.js\", \"https://cdn.bokeh.org/bokeh/release/bokeh-widgets-2.2.1.min.js\", \"https://cdn.bokeh.org/bokeh/release/bokeh-tables-2.2.1.min.js\"];\n",
       "  var css_urls = [];\n",
       "  \n",
       "\n",
       "  var inline_js = [\n",
       "    function(Bokeh) {\n",
       "      Bokeh.set_log_level(\"info\");\n",
       "    },\n",
       "    function(Bokeh) {\n",
       "    \n",
       "    \n",
       "    }\n",
       "  ];\n",
       "\n",
       "  function run_inline_js() {\n",
       "    \n",
       "    if (root.Bokeh !== undefined || force === true) {\n",
       "      \n",
       "    for (var i = 0; i < inline_js.length; i++) {\n",
       "      inline_js[i].call(root, root.Bokeh);\n",
       "    }\n",
       "    if (force === true) {\n",
       "        display_loaded();\n",
       "      }} else if (Date.now() < root._bokeh_timeout) {\n",
       "      setTimeout(run_inline_js, 100);\n",
       "    } else if (!root._bokeh_failed_load) {\n",
       "      console.log(\"Bokeh: BokehJS failed to load within specified timeout.\");\n",
       "      root._bokeh_failed_load = true;\n",
       "    } else if (force !== true) {\n",
       "      var cell = $(document.getElementById(\"1001\")).parents('.cell').data().cell;\n",
       "      cell.output_area.append_execute_result(NB_LOAD_WARNING)\n",
       "    }\n",
       "\n",
       "  }\n",
       "\n",
       "  if (root._bokeh_is_loading === 0) {\n",
       "    console.debug(\"Bokeh: BokehJS loaded, going straight to plotting\");\n",
       "    run_inline_js();\n",
       "  } else {\n",
       "    load_libs(css_urls, js_urls, function() {\n",
       "      console.debug(\"Bokeh: BokehJS plotting callback run at\", now());\n",
       "      run_inline_js();\n",
       "    });\n",
       "  }\n",
       "}(window));"
      ],
      "application/vnd.bokehjs_load.v0+json": "\n(function(root) {\n  function now() {\n    return new Date();\n  }\n\n  var force = true;\n\n  if (typeof root._bokeh_onload_callbacks === \"undefined\" || force === true) {\n    root._bokeh_onload_callbacks = [];\n    root._bokeh_is_loading = undefined;\n  }\n\n  \n\n  \n  if (typeof (root._bokeh_timeout) === \"undefined\" || force === true) {\n    root._bokeh_timeout = Date.now() + 5000;\n    root._bokeh_failed_load = false;\n  }\n\n  var NB_LOAD_WARNING = {'data': {'text/html':\n     \"<div style='background-color: #fdd'>\\n\"+\n     \"<p>\\n\"+\n     \"BokehJS does not appear to have successfully loaded. If loading BokehJS from CDN, this \\n\"+\n     \"may be due to a slow or bad network connection. Possible fixes:\\n\"+\n     \"</p>\\n\"+\n     \"<ul>\\n\"+\n     \"<li>re-rerun `output_notebook()` to attempt to load from CDN again, or</li>\\n\"+\n     \"<li>use INLINE resources instead, as so:</li>\\n\"+\n     \"</ul>\\n\"+\n     \"<code>\\n\"+\n     \"from bokeh.resources import INLINE\\n\"+\n     \"output_notebook(resources=INLINE)\\n\"+\n     \"</code>\\n\"+\n     \"</div>\"}};\n\n  function display_loaded() {\n    var el = document.getElementById(\"1001\");\n    if (el != null) {\n      el.textContent = \"BokehJS is loading...\";\n    }\n    if (root.Bokeh !== undefined) {\n      if (el != null) {\n        el.textContent = \"BokehJS \" + root.Bokeh.version + \" successfully loaded.\";\n      }\n    } else if (Date.now() < root._bokeh_timeout) {\n      setTimeout(display_loaded, 100)\n    }\n  }\n\n\n  function run_callbacks() {\n    try {\n      root._bokeh_onload_callbacks.forEach(function(callback) {\n        if (callback != null)\n          callback();\n      });\n    } finally {\n      delete root._bokeh_onload_callbacks\n    }\n    console.debug(\"Bokeh: all callbacks have finished\");\n  }\n\n  function load_libs(css_urls, js_urls, callback) {\n    if (css_urls == null) css_urls = [];\n    if (js_urls == null) js_urls = [];\n\n    root._bokeh_onload_callbacks.push(callback);\n    if (root._bokeh_is_loading > 0) {\n      console.debug(\"Bokeh: BokehJS is being loaded, scheduling callback at\", now());\n      return null;\n    }\n    if (js_urls == null || js_urls.length === 0) {\n      run_callbacks();\n      return null;\n    }\n    console.debug(\"Bokeh: BokehJS not loaded, scheduling load and callback at\", now());\n    root._bokeh_is_loading = css_urls.length + js_urls.length;\n\n    function on_load() {\n      root._bokeh_is_loading--;\n      if (root._bokeh_is_loading === 0) {\n        console.debug(\"Bokeh: all BokehJS libraries/stylesheets loaded\");\n        run_callbacks()\n      }\n    }\n\n    function on_error() {\n      console.error(\"failed to load \" + url);\n    }\n\n    for (var i = 0; i < css_urls.length; i++) {\n      var url = css_urls[i];\n      const element = document.createElement(\"link\");\n      element.onload = on_load;\n      element.onerror = on_error;\n      element.rel = \"stylesheet\";\n      element.type = \"text/css\";\n      element.href = url;\n      console.debug(\"Bokeh: injecting link tag for BokehJS stylesheet: \", url);\n      document.body.appendChild(element);\n    }\n\n    const hashes = {\"https://cdn.bokeh.org/bokeh/release/bokeh-2.2.1.min.js\": \"qkRvDQVAIfzsJo40iRBbxt6sttt0hv4lh74DG7OK4MCHv4C5oohXYoHUM5W11uqS\", \"https://cdn.bokeh.org/bokeh/release/bokeh-widgets-2.2.1.min.js\": \"Sb7Mr06a9TNlet/GEBeKaf5xH3eb6AlCzwjtU82wNPyDrnfoiVl26qnvlKjmcAd+\", \"https://cdn.bokeh.org/bokeh/release/bokeh-tables-2.2.1.min.js\": \"HaJ15vgfmcfRtB4c4YBOI4f1MUujukqInOWVqZJZZGK7Q+ivud0OKGSTn/Vm2iso\"};\n\n    for (var i = 0; i < js_urls.length; i++) {\n      var url = js_urls[i];\n      var element = document.createElement('script');\n      element.onload = on_load;\n      element.onerror = on_error;\n      element.async = false;\n      element.src = url;\n      if (url in hashes) {\n        element.crossOrigin = \"anonymous\";\n        element.integrity = \"sha384-\" + hashes[url];\n      }\n      console.debug(\"Bokeh: injecting script tag for BokehJS library: \", url);\n      document.head.appendChild(element);\n    }\n  };\n\n  function inject_raw_css(css) {\n    const element = document.createElement(\"style\");\n    element.appendChild(document.createTextNode(css));\n    document.body.appendChild(element);\n  }\n\n  \n  var js_urls = [\"https://cdn.bokeh.org/bokeh/release/bokeh-2.2.1.min.js\", \"https://cdn.bokeh.org/bokeh/release/bokeh-widgets-2.2.1.min.js\", \"https://cdn.bokeh.org/bokeh/release/bokeh-tables-2.2.1.min.js\"];\n  var css_urls = [];\n  \n\n  var inline_js = [\n    function(Bokeh) {\n      Bokeh.set_log_level(\"info\");\n    },\n    function(Bokeh) {\n    \n    \n    }\n  ];\n\n  function run_inline_js() {\n    \n    if (root.Bokeh !== undefined || force === true) {\n      \n    for (var i = 0; i < inline_js.length; i++) {\n      inline_js[i].call(root, root.Bokeh);\n    }\n    if (force === true) {\n        display_loaded();\n      }} else if (Date.now() < root._bokeh_timeout) {\n      setTimeout(run_inline_js, 100);\n    } else if (!root._bokeh_failed_load) {\n      console.log(\"Bokeh: BokehJS failed to load within specified timeout.\");\n      root._bokeh_failed_load = true;\n    } else if (force !== true) {\n      var cell = $(document.getElementById(\"1001\")).parents('.cell').data().cell;\n      cell.output_area.append_execute_result(NB_LOAD_WARNING)\n    }\n\n  }\n\n  if (root._bokeh_is_loading === 0) {\n    console.debug(\"Bokeh: BokehJS loaded, going straight to plotting\");\n    run_inline_js();\n  } else {\n    load_libs(css_urls, js_urls, function() {\n      console.debug(\"Bokeh: BokehJS plotting callback run at\", now());\n      run_inline_js();\n    });\n  }\n}(window));"
     },
     "metadata": {},
     "output_type": "display_data"
    }
   ],
   "source": [
    "import math\n",
    "import sys  \n",
    "import datetime\n",
    "from tqdm import tqdm\n",
    "import pandas as pd\n",
    "import numpy as np\n",
    "from geopy.distance import geodesic\n",
    "\n",
    "\n",
    "# Sentences\n",
    "sys.path.insert(0, '../building_trajectories/')\n",
    "import sentences\n",
    "#%run '../building_trajectories/sentences.py'\n",
    "\n",
    "#Spark\n",
    "import findspark\n",
    "findspark.init(\"../venvTraj/lib64/python3.8/site-packages/pyspark/\")\n",
    "from pyspark import SparkContext\n",
    "\n",
    "# Bokeh\n",
    "from bokeh.plotting import figure, show, output_notebook\n",
    "from bokeh.tile_providers import get_provider, Vendors, OSM, CARTODBPOSITRON, WIKIMEDIA\n",
    "\n",
    "pd.set_option('display.max_columns', None)\n",
    "\n",
    "## Inicialização de variaveis para o Bokeh\n",
    "output_notebook()\n",
    "tile_provider = OSM\n",
    "colors=['red','blue', 'black', 'yellow']\n"
   ]
  },
  {
   "cell_type": "markdown",
   "metadata": {},
   "source": [
    "## Dublin Bus GPS sample data from Dublin City Council (Insight Project)\n",
    "\n",
    "Bus GPS Data Dublin Bus GPS data across Dublin City, from Dublin **City Council'traffic control**, in csv format. \n",
    "\n",
    "Each datapoint (row in the CSV file) has the following entries:\n",
    "\n",
    "- Timestamp micro since 1970 01 01 00:00:00 GMT  \n",
    "- Line ID  \n",
    "- Direction  \n",
    "- Journey Pattern ID  \n",
    "- Time Frame (The start date of the production time table - in Dublin the production time table starts at 6am and ends at 3am)  \n",
    "- Vehicle Journey ID (A given run on the journey pattern)  \n",
    "- Operator (Bus operator, not the driver)  \n",
    "- Congestion [0=no,1=yes]  \n",
    "- Lon WGS84  \n",
    "- Lat WGS84\n",
    "- Delay (seconds, negative if bus is ahead of schedule)  \n",
    "- Block ID (a section ID of the journey pattern)  \n",
    "- Vehicle ID  \n",
    "- Stop ID  \n",
    "- At Stop [0=no,1=yes]\n",
    "\n",
    "Fonte: https://data.gov.ie/dataset/dublin-bus-gps-sample-data-from-dublin-city-council-insight-project\n"
   ]
  },
  {
   "cell_type": "markdown",
   "metadata": {},
   "source": [
    "### Abre arquivo referente aos dias 10~12 de Janeiro de 2013"
   ]
  },
  {
   "cell_type": "markdown",
   "metadata": {},
   "source": [
    "### Colunas originais do dataset"
   ]
  },
  {
   "cell_type": "code",
   "execution_count": 2,
   "metadata": {},
   "outputs": [],
   "source": [
    "features = ['timestamp','line_id','direction','journey_id',\n",
    "            'time_frame','vehicle_journey_id','operator',\n",
    "            'congestion','lng','lat','delay','block_id',\n",
    "            'vehicle_id','stop_id', 'stop']"
   ]
  },
  {
   "cell_type": "code",
   "execution_count": 3,
   "metadata": {},
   "outputs": [],
   "source": [
    "df = pd.read_csv(\n",
    "    '../data/siri.20130110.csv.gz', \n",
    "    compression='gzip', \n",
    "    names=features, \n",
    "    header=None)\n",
    "#for i in tqdm(range(20130111,20130112,1)):\n",
    "#    data = pd.read_csv(\n",
    "#        '../data/siri.'+str(i)+'.csv.gz', \n",
    "#        compression='gzip', \n",
    "#        names=features, \n",
    "#        header=None)\n",
    "#    df = pd.concat([df,data])"
   ]
  },
  {
   "cell_type": "markdown",
   "metadata": {},
   "source": [
    "### Lista com nomes das colunas que formam a chave da trajetória"
   ]
  },
  {
   "cell_type": "code",
   "execution_count": 4,
   "metadata": {},
   "outputs": [],
   "source": [
    "trajetoria = ['line_id','journey_id','time_frame','vehicle_journey_id','operator','vehicle_id']"
   ]
  },
  {
   "cell_type": "code",
   "execution_count": 5,
   "metadata": {},
   "outputs": [],
   "source": [
    "df = [x for _,x in df.groupby(trajetoria) if (len(x) > 50)]\n",
    "df = pd.concat(df)"
   ]
  },
  {
   "cell_type": "markdown",
   "metadata": {},
   "source": [
    "### Novas features que serão alimentadas junto à criação das trajetórias"
   ]
  },
  {
   "cell_type": "code",
   "execution_count": 6,
   "metadata": {},
   "outputs": [],
   "source": [
    "df['velocity'] = 0\n",
    "df['acc'] = 0\n",
    "df['dist_from_old_point'] = 0\n",
    "df['time_from_old_point'] = 0\n"
   ]
  },
  {
   "cell_type": "raw",
   "metadata": {},
   "source": [
    "df['MF_lat'] = 0 \n",
    "df['MF_lng'] = 0\n",
    "df['MF_velocity'] = 0\n",
    "df['MF_acc'] = 0\n",
    "df['MF_dist_from_old_point'] = 0"
   ]
  },
  {
   "cell_type": "markdown",
   "metadata": {},
   "source": [
    "## Análise inicial do dataset"
   ]
  },
  {
   "cell_type": "code",
   "execution_count": 7,
   "metadata": {},
   "outputs": [
    {
     "data": {
      "text/html": [
       "<div>\n",
       "<style scoped>\n",
       "    .dataframe tbody tr th:only-of-type {\n",
       "        vertical-align: middle;\n",
       "    }\n",
       "\n",
       "    .dataframe tbody tr th {\n",
       "        vertical-align: top;\n",
       "    }\n",
       "\n",
       "    .dataframe thead th {\n",
       "        text-align: right;\n",
       "    }\n",
       "</style>\n",
       "<table border=\"1\" class=\"dataframe\">\n",
       "  <thead>\n",
       "    <tr style=\"text-align: right;\">\n",
       "      <th></th>\n",
       "      <th>timestamp</th>\n",
       "      <th>line_id</th>\n",
       "      <th>direction</th>\n",
       "      <th>journey_id</th>\n",
       "      <th>time_frame</th>\n",
       "      <th>vehicle_journey_id</th>\n",
       "      <th>operator</th>\n",
       "      <th>congestion</th>\n",
       "      <th>lng</th>\n",
       "      <th>lat</th>\n",
       "      <th>delay</th>\n",
       "      <th>block_id</th>\n",
       "      <th>vehicle_id</th>\n",
       "      <th>stop_id</th>\n",
       "      <th>stop</th>\n",
       "      <th>velocity</th>\n",
       "      <th>acc</th>\n",
       "      <th>dist_from_old_point</th>\n",
       "      <th>time_from_old_point</th>\n",
       "    </tr>\n",
       "  </thead>\n",
       "  <tbody>\n",
       "    <tr>\n",
       "      <th>485426</th>\n",
       "      <td>1357813192000000</td>\n",
       "      <td>1.0</td>\n",
       "      <td>0</td>\n",
       "      <td>00010001</td>\n",
       "      <td>2013-01-10</td>\n",
       "      <td>4608</td>\n",
       "      <td>RD</td>\n",
       "      <td>0</td>\n",
       "      <td>-6.262067</td>\n",
       "      <td>53.391167</td>\n",
       "      <td>0</td>\n",
       "      <td>1001</td>\n",
       "      <td>43072</td>\n",
       "      <td>226.0</td>\n",
       "      <td>1</td>\n",
       "      <td>0</td>\n",
       "      <td>0</td>\n",
       "      <td>0</td>\n",
       "      <td>0</td>\n",
       "    </tr>\n",
       "    <tr>\n",
       "      <th>486021</th>\n",
       "      <td>1357813208000000</td>\n",
       "      <td>1.0</td>\n",
       "      <td>0</td>\n",
       "      <td>00010001</td>\n",
       "      <td>2013-01-10</td>\n",
       "      <td>4608</td>\n",
       "      <td>RD</td>\n",
       "      <td>0</td>\n",
       "      <td>-6.262084</td>\n",
       "      <td>53.391167</td>\n",
       "      <td>0</td>\n",
       "      <td>1001</td>\n",
       "      <td>43072</td>\n",
       "      <td>226.0</td>\n",
       "      <td>1</td>\n",
       "      <td>0</td>\n",
       "      <td>0</td>\n",
       "      <td>0</td>\n",
       "      <td>0</td>\n",
       "    </tr>\n",
       "    <tr>\n",
       "      <th>487232</th>\n",
       "      <td>1357813249000000</td>\n",
       "      <td>1.0</td>\n",
       "      <td>0</td>\n",
       "      <td>00010001</td>\n",
       "      <td>2013-01-10</td>\n",
       "      <td>4608</td>\n",
       "      <td>RD</td>\n",
       "      <td>0</td>\n",
       "      <td>-6.259500</td>\n",
       "      <td>53.391815</td>\n",
       "      <td>0</td>\n",
       "      <td>1001</td>\n",
       "      <td>43072</td>\n",
       "      <td>226.0</td>\n",
       "      <td>1</td>\n",
       "      <td>0</td>\n",
       "      <td>0</td>\n",
       "      <td>0</td>\n",
       "      <td>0</td>\n",
       "    </tr>\n",
       "    <tr>\n",
       "      <th>487435</th>\n",
       "      <td>1357813255000000</td>\n",
       "      <td>1.0</td>\n",
       "      <td>0</td>\n",
       "      <td>00010001</td>\n",
       "      <td>2013-01-10</td>\n",
       "      <td>4608</td>\n",
       "      <td>RD</td>\n",
       "      <td>0</td>\n",
       "      <td>-6.259500</td>\n",
       "      <td>53.391815</td>\n",
       "      <td>0</td>\n",
       "      <td>1001</td>\n",
       "      <td>43072</td>\n",
       "      <td>228.0</td>\n",
       "      <td>0</td>\n",
       "      <td>0</td>\n",
       "      <td>0</td>\n",
       "      <td>0</td>\n",
       "      <td>0</td>\n",
       "    </tr>\n",
       "    <tr>\n",
       "      <th>487904</th>\n",
       "      <td>1357813270000000</td>\n",
       "      <td>1.0</td>\n",
       "      <td>0</td>\n",
       "      <td>00010001</td>\n",
       "      <td>2013-01-10</td>\n",
       "      <td>4608</td>\n",
       "      <td>RD</td>\n",
       "      <td>0</td>\n",
       "      <td>-6.256383</td>\n",
       "      <td>53.391365</td>\n",
       "      <td>0</td>\n",
       "      <td>1001</td>\n",
       "      <td>43072</td>\n",
       "      <td>228.0</td>\n",
       "      <td>0</td>\n",
       "      <td>0</td>\n",
       "      <td>0</td>\n",
       "      <td>0</td>\n",
       "      <td>0</td>\n",
       "    </tr>\n",
       "  </tbody>\n",
       "</table>\n",
       "</div>"
      ],
      "text/plain": [
       "               timestamp  line_id  direction journey_id  time_frame  \\\n",
       "485426  1357813192000000      1.0          0   00010001  2013-01-10   \n",
       "486021  1357813208000000      1.0          0   00010001  2013-01-10   \n",
       "487232  1357813249000000      1.0          0   00010001  2013-01-10   \n",
       "487435  1357813255000000      1.0          0   00010001  2013-01-10   \n",
       "487904  1357813270000000      1.0          0   00010001  2013-01-10   \n",
       "\n",
       "        vehicle_journey_id operator  congestion       lng        lat  delay  \\\n",
       "485426                4608       RD           0 -6.262067  53.391167      0   \n",
       "486021                4608       RD           0 -6.262084  53.391167      0   \n",
       "487232                4608       RD           0 -6.259500  53.391815      0   \n",
       "487435                4608       RD           0 -6.259500  53.391815      0   \n",
       "487904                4608       RD           0 -6.256383  53.391365      0   \n",
       "\n",
       "        block_id  vehicle_id  stop_id  stop  velocity  acc  \\\n",
       "485426      1001       43072    226.0     1         0    0   \n",
       "486021      1001       43072    226.0     1         0    0   \n",
       "487232      1001       43072    226.0     1         0    0   \n",
       "487435      1001       43072    228.0     0         0    0   \n",
       "487904      1001       43072    228.0     0         0    0   \n",
       "\n",
       "        dist_from_old_point  time_from_old_point  \n",
       "485426                    0                    0  \n",
       "486021                    0                    0  \n",
       "487232                    0                    0  \n",
       "487435                    0                    0  \n",
       "487904                    0                    0  "
      ]
     },
     "execution_count": 7,
     "metadata": {},
     "output_type": "execute_result"
    }
   ],
   "source": [
    "df.head()"
   ]
  },
  {
   "cell_type": "code",
   "execution_count": 8,
   "metadata": {},
   "outputs": [
    {
     "data": {
      "text/html": [
       "<div>\n",
       "<style scoped>\n",
       "    .dataframe tbody tr th:only-of-type {\n",
       "        vertical-align: middle;\n",
       "    }\n",
       "\n",
       "    .dataframe tbody tr th {\n",
       "        vertical-align: top;\n",
       "    }\n",
       "\n",
       "    .dataframe thead th {\n",
       "        text-align: right;\n",
       "    }\n",
       "</style>\n",
       "<table border=\"1\" class=\"dataframe\">\n",
       "  <thead>\n",
       "    <tr style=\"text-align: right;\">\n",
       "      <th></th>\n",
       "      <th>timestamp</th>\n",
       "      <th>line_id</th>\n",
       "      <th>direction</th>\n",
       "      <th>journey_id</th>\n",
       "      <th>time_frame</th>\n",
       "      <th>vehicle_journey_id</th>\n",
       "      <th>operator</th>\n",
       "      <th>congestion</th>\n",
       "      <th>lng</th>\n",
       "      <th>lat</th>\n",
       "      <th>delay</th>\n",
       "      <th>block_id</th>\n",
       "      <th>vehicle_id</th>\n",
       "      <th>stop_id</th>\n",
       "      <th>stop</th>\n",
       "      <th>velocity</th>\n",
       "      <th>acc</th>\n",
       "      <th>dist_from_old_point</th>\n",
       "      <th>time_from_old_point</th>\n",
       "    </tr>\n",
       "  </thead>\n",
       "  <tbody>\n",
       "    <tr>\n",
       "      <th>1658207</th>\n",
       "      <td>1357859074000000</td>\n",
       "      <td>747.0</td>\n",
       "      <td>0</td>\n",
       "      <td>07471001</td>\n",
       "      <td>2013-01-10</td>\n",
       "      <td>3558</td>\n",
       "      <td>SL</td>\n",
       "      <td>0</td>\n",
       "      <td>-6.299233</td>\n",
       "      <td>53.347218</td>\n",
       "      <td>31</td>\n",
       "      <td>747005</td>\n",
       "      <td>40043</td>\n",
       "      <td>4319.0</td>\n",
       "      <td>1</td>\n",
       "      <td>0</td>\n",
       "      <td>0</td>\n",
       "      <td>0</td>\n",
       "      <td>0</td>\n",
       "    </tr>\n",
       "    <tr>\n",
       "      <th>1658518</th>\n",
       "      <td>1357859091000000</td>\n",
       "      <td>747.0</td>\n",
       "      <td>0</td>\n",
       "      <td>07471001</td>\n",
       "      <td>2013-01-10</td>\n",
       "      <td>3558</td>\n",
       "      <td>SL</td>\n",
       "      <td>0</td>\n",
       "      <td>-6.297367</td>\n",
       "      <td>53.346966</td>\n",
       "      <td>31</td>\n",
       "      <td>747005</td>\n",
       "      <td>40043</td>\n",
       "      <td>4319.0</td>\n",
       "      <td>1</td>\n",
       "      <td>0</td>\n",
       "      <td>0</td>\n",
       "      <td>0</td>\n",
       "      <td>0</td>\n",
       "    </tr>\n",
       "    <tr>\n",
       "      <th>1659039</th>\n",
       "      <td>1357859130000000</td>\n",
       "      <td>747.0</td>\n",
       "      <td>0</td>\n",
       "      <td>07471001</td>\n",
       "      <td>2013-01-10</td>\n",
       "      <td>3558</td>\n",
       "      <td>SL</td>\n",
       "      <td>0</td>\n",
       "      <td>-6.292050</td>\n",
       "      <td>53.346802</td>\n",
       "      <td>31</td>\n",
       "      <td>747005</td>\n",
       "      <td>40043</td>\n",
       "      <td>4319.0</td>\n",
       "      <td>1</td>\n",
       "      <td>0</td>\n",
       "      <td>0</td>\n",
       "      <td>0</td>\n",
       "      <td>0</td>\n",
       "    </tr>\n",
       "    <tr>\n",
       "      <th>1659160</th>\n",
       "      <td>1357859136000000</td>\n",
       "      <td>747.0</td>\n",
       "      <td>0</td>\n",
       "      <td>07471001</td>\n",
       "      <td>2013-01-10</td>\n",
       "      <td>3558</td>\n",
       "      <td>SL</td>\n",
       "      <td>0</td>\n",
       "      <td>-6.292050</td>\n",
       "      <td>53.346802</td>\n",
       "      <td>31</td>\n",
       "      <td>747005</td>\n",
       "      <td>40043</td>\n",
       "      <td>4319.0</td>\n",
       "      <td>1</td>\n",
       "      <td>0</td>\n",
       "      <td>0</td>\n",
       "      <td>0</td>\n",
       "      <td>0</td>\n",
       "    </tr>\n",
       "    <tr>\n",
       "      <th>1659459</th>\n",
       "      <td>1357859152000000</td>\n",
       "      <td>747.0</td>\n",
       "      <td>0</td>\n",
       "      <td>07471001</td>\n",
       "      <td>2013-01-10</td>\n",
       "      <td>3558</td>\n",
       "      <td>SL</td>\n",
       "      <td>0</td>\n",
       "      <td>-6.292050</td>\n",
       "      <td>53.346802</td>\n",
       "      <td>31</td>\n",
       "      <td>747005</td>\n",
       "      <td>40043</td>\n",
       "      <td>4319.0</td>\n",
       "      <td>1</td>\n",
       "      <td>0</td>\n",
       "      <td>0</td>\n",
       "      <td>0</td>\n",
       "      <td>0</td>\n",
       "    </tr>\n",
       "  </tbody>\n",
       "</table>\n",
       "</div>"
      ],
      "text/plain": [
       "                timestamp  line_id  direction journey_id  time_frame  \\\n",
       "1658207  1357859074000000    747.0          0   07471001  2013-01-10   \n",
       "1658518  1357859091000000    747.0          0   07471001  2013-01-10   \n",
       "1659039  1357859130000000    747.0          0   07471001  2013-01-10   \n",
       "1659160  1357859136000000    747.0          0   07471001  2013-01-10   \n",
       "1659459  1357859152000000    747.0          0   07471001  2013-01-10   \n",
       "\n",
       "         vehicle_journey_id operator  congestion       lng        lat  delay  \\\n",
       "1658207                3558       SL           0 -6.299233  53.347218     31   \n",
       "1658518                3558       SL           0 -6.297367  53.346966     31   \n",
       "1659039                3558       SL           0 -6.292050  53.346802     31   \n",
       "1659160                3558       SL           0 -6.292050  53.346802     31   \n",
       "1659459                3558       SL           0 -6.292050  53.346802     31   \n",
       "\n",
       "         block_id  vehicle_id  stop_id  stop  velocity  acc  \\\n",
       "1658207    747005       40043   4319.0     1         0    0   \n",
       "1658518    747005       40043   4319.0     1         0    0   \n",
       "1659039    747005       40043   4319.0     1         0    0   \n",
       "1659160    747005       40043   4319.0     1         0    0   \n",
       "1659459    747005       40043   4319.0     1         0    0   \n",
       "\n",
       "         dist_from_old_point  time_from_old_point  \n",
       "1658207                    0                    0  \n",
       "1658518                    0                    0  \n",
       "1659039                    0                    0  \n",
       "1659160                    0                    0  \n",
       "1659459                    0                    0  "
      ]
     },
     "execution_count": 8,
     "metadata": {},
     "output_type": "execute_result"
    }
   ],
   "source": [
    "df.tail()"
   ]
  },
  {
   "cell_type": "code",
   "execution_count": 9,
   "metadata": {},
   "outputs": [
    {
     "name": "stdout",
     "output_type": "stream",
     "text": [
      "<class 'pandas.core.frame.DataFrame'>\n",
      "Int64Index: 1437322 entries, 485426 to 1659459\n",
      "Data columns (total 19 columns):\n",
      " #   Column               Non-Null Count    Dtype  \n",
      "---  ------               --------------    -----  \n",
      " 0   timestamp            1437322 non-null  int64  \n",
      " 1   line_id              1437322 non-null  float64\n",
      " 2   direction            1437322 non-null  int64  \n",
      " 3   journey_id           1437322 non-null  object \n",
      " 4   time_frame           1437322 non-null  object \n",
      " 5   vehicle_journey_id   1437322 non-null  int64  \n",
      " 6   operator             1437322 non-null  object \n",
      " 7   congestion           1437322 non-null  int64  \n",
      " 8   lng                  1437322 non-null  float64\n",
      " 9   lat                  1437322 non-null  float64\n",
      " 10  delay                1437322 non-null  int64  \n",
      " 11  block_id             1437322 non-null  int64  \n",
      " 12  vehicle_id           1437322 non-null  int64  \n",
      " 13  stop_id              1437322 non-null  float64\n",
      " 14  stop                 1437322 non-null  int64  \n",
      " 15  velocity             1437322 non-null  int64  \n",
      " 16  acc                  1437322 non-null  int64  \n",
      " 17  dist_from_old_point  1437322 non-null  int64  \n",
      " 18  time_from_old_point  1437322 non-null  int64  \n",
      "dtypes: float64(4), int64(12), object(3)\n",
      "memory usage: 219.3+ MB\n"
     ]
    }
   ],
   "source": [
    "df.info()"
   ]
  },
  {
   "cell_type": "code",
   "execution_count": 10,
   "metadata": {},
   "outputs": [
    {
     "data": {
      "text/html": [
       "<div>\n",
       "<style scoped>\n",
       "    .dataframe tbody tr th:only-of-type {\n",
       "        vertical-align: middle;\n",
       "    }\n",
       "\n",
       "    .dataframe tbody tr th {\n",
       "        vertical-align: top;\n",
       "    }\n",
       "\n",
       "    .dataframe thead th {\n",
       "        text-align: right;\n",
       "    }\n",
       "</style>\n",
       "<table border=\"1\" class=\"dataframe\">\n",
       "  <thead>\n",
       "    <tr style=\"text-align: right;\">\n",
       "      <th></th>\n",
       "      <th>timestamp</th>\n",
       "      <th>line_id</th>\n",
       "      <th>direction</th>\n",
       "      <th>vehicle_journey_id</th>\n",
       "      <th>congestion</th>\n",
       "      <th>lng</th>\n",
       "      <th>lat</th>\n",
       "      <th>delay</th>\n",
       "      <th>block_id</th>\n",
       "      <th>vehicle_id</th>\n",
       "      <th>stop_id</th>\n",
       "      <th>stop</th>\n",
       "      <th>velocity</th>\n",
       "      <th>acc</th>\n",
       "      <th>dist_from_old_point</th>\n",
       "      <th>time_from_old_point</th>\n",
       "    </tr>\n",
       "  </thead>\n",
       "  <tbody>\n",
       "    <tr>\n",
       "      <th>count</th>\n",
       "      <td>1.437322e+06</td>\n",
       "      <td>1.437322e+06</td>\n",
       "      <td>1437322.0</td>\n",
       "      <td>1.437322e+06</td>\n",
       "      <td>1.437322e+06</td>\n",
       "      <td>1.437322e+06</td>\n",
       "      <td>1.437322e+06</td>\n",
       "      <td>1.437322e+06</td>\n",
       "      <td>1.437322e+06</td>\n",
       "      <td>1.437322e+06</td>\n",
       "      <td>1.437322e+06</td>\n",
       "      <td>1.437322e+06</td>\n",
       "      <td>1437322.0</td>\n",
       "      <td>1437322.0</td>\n",
       "      <td>1437322.0</td>\n",
       "      <td>1437322.0</td>\n",
       "    </tr>\n",
       "    <tr>\n",
       "      <th>mean</th>\n",
       "      <td>1.357828e+15</td>\n",
       "      <td>7.751080e+01</td>\n",
       "      <td>0.0</td>\n",
       "      <td>9.224773e+03</td>\n",
       "      <td>1.308266e-02</td>\n",
       "      <td>-6.270111e+00</td>\n",
       "      <td>5.334335e+01</td>\n",
       "      <td>-6.460931e+01</td>\n",
       "      <td>1.086559e+05</td>\n",
       "      <td>3.539169e+04</td>\n",
       "      <td>2.635274e+03</td>\n",
       "      <td>2.683219e-01</td>\n",
       "      <td>0.0</td>\n",
       "      <td>0.0</td>\n",
       "      <td>0.0</td>\n",
       "      <td>0.0</td>\n",
       "    </tr>\n",
       "    <tr>\n",
       "      <th>std</th>\n",
       "      <td>1.716667e+10</td>\n",
       "      <td>1.157860e+02</td>\n",
       "      <td>0.0</td>\n",
       "      <td>7.104796e+04</td>\n",
       "      <td>1.136289e-01</td>\n",
       "      <td>8.202497e-02</td>\n",
       "      <td>5.476866e-02</td>\n",
       "      <td>4.578565e+02</td>\n",
       "      <td>1.924304e+05</td>\n",
       "      <td>3.297149e+03</td>\n",
       "      <td>2.113181e+03</td>\n",
       "      <td>4.430862e-01</td>\n",
       "      <td>0.0</td>\n",
       "      <td>0.0</td>\n",
       "      <td>0.0</td>\n",
       "      <td>0.0</td>\n",
       "    </tr>\n",
       "    <tr>\n",
       "      <th>min</th>\n",
       "      <td>1.357776e+15</td>\n",
       "      <td>1.000000e+00</td>\n",
       "      <td>0.0</td>\n",
       "      <td>1.000000e+00</td>\n",
       "      <td>0.000000e+00</td>\n",
       "      <td>-6.615000e+00</td>\n",
       "      <td>5.307038e+01</td>\n",
       "      <td>-7.314000e+03</td>\n",
       "      <td>1.001000e+03</td>\n",
       "      <td>2.804700e+04</td>\n",
       "      <td>2.000000e+00</td>\n",
       "      <td>0.000000e+00</td>\n",
       "      <td>0.0</td>\n",
       "      <td>0.0</td>\n",
       "      <td>0.0</td>\n",
       "      <td>0.0</td>\n",
       "    </tr>\n",
       "    <tr>\n",
       "      <th>25%</th>\n",
       "      <td>1.357812e+15</td>\n",
       "      <td>1.800000e+01</td>\n",
       "      <td>0.0</td>\n",
       "      <td>2.231000e+03</td>\n",
       "      <td>0.000000e+00</td>\n",
       "      <td>-6.306592e+00</td>\n",
       "      <td>5.331874e+01</td>\n",
       "      <td>-2.710000e+02</td>\n",
       "      <td>1.601600e+04</td>\n",
       "      <td>3.329100e+04</td>\n",
       "      <td>8.120000e+02</td>\n",
       "      <td>0.000000e+00</td>\n",
       "      <td>0.0</td>\n",
       "      <td>0.0</td>\n",
       "      <td>0.0</td>\n",
       "      <td>0.0</td>\n",
       "    </tr>\n",
       "    <tr>\n",
       "      <th>50%</th>\n",
       "      <td>1.357828e+15</td>\n",
       "      <td>4.000000e+01</td>\n",
       "      <td>0.0</td>\n",
       "      <td>4.008000e+03</td>\n",
       "      <td>0.000000e+00</td>\n",
       "      <td>-6.261728e+00</td>\n",
       "      <td>5.334589e+01</td>\n",
       "      <td>-2.400000e+01</td>\n",
       "      <td>4.020300e+04</td>\n",
       "      <td>3.351700e+04</td>\n",
       "      <td>2.039000e+03</td>\n",
       "      <td>0.000000e+00</td>\n",
       "      <td>0.0</td>\n",
       "      <td>0.0</td>\n",
       "      <td>0.0</td>\n",
       "      <td>0.0</td>\n",
       "    </tr>\n",
       "    <tr>\n",
       "      <th>75%</th>\n",
       "      <td>1.357842e+15</td>\n",
       "      <td>8.300000e+01</td>\n",
       "      <td>0.0</td>\n",
       "      <td>5.625000e+03</td>\n",
       "      <td>0.000000e+00</td>\n",
       "      <td>-6.230950e+00</td>\n",
       "      <td>5.337246e+01</td>\n",
       "      <td>1.100000e+02</td>\n",
       "      <td>8.400300e+04</td>\n",
       "      <td>3.801300e+04</td>\n",
       "      <td>4.319000e+03</td>\n",
       "      <td>1.000000e+00</td>\n",
       "      <td>0.0</td>\n",
       "      <td>0.0</td>\n",
       "      <td>0.0</td>\n",
       "      <td>0.0</td>\n",
       "    </tr>\n",
       "    <tr>\n",
       "      <th>max</th>\n",
       "      <td>1.357862e+15</td>\n",
       "      <td>7.470000e+02</td>\n",
       "      <td>0.0</td>\n",
       "      <td>9.997110e+05</td>\n",
       "      <td>1.000000e+00</td>\n",
       "      <td>-6.053083e+00</td>\n",
       "      <td>5.360653e+01</td>\n",
       "      <td>3.300000e+04</td>\n",
       "      <td>8.350020e+05</td>\n",
       "      <td>4.307800e+04</td>\n",
       "      <td>7.552000e+03</td>\n",
       "      <td>1.000000e+00</td>\n",
       "      <td>0.0</td>\n",
       "      <td>0.0</td>\n",
       "      <td>0.0</td>\n",
       "      <td>0.0</td>\n",
       "    </tr>\n",
       "  </tbody>\n",
       "</table>\n",
       "</div>"
      ],
      "text/plain": [
       "          timestamp       line_id  direction  vehicle_journey_id  \\\n",
       "count  1.437322e+06  1.437322e+06  1437322.0        1.437322e+06   \n",
       "mean   1.357828e+15  7.751080e+01        0.0        9.224773e+03   \n",
       "std    1.716667e+10  1.157860e+02        0.0        7.104796e+04   \n",
       "min    1.357776e+15  1.000000e+00        0.0        1.000000e+00   \n",
       "25%    1.357812e+15  1.800000e+01        0.0        2.231000e+03   \n",
       "50%    1.357828e+15  4.000000e+01        0.0        4.008000e+03   \n",
       "75%    1.357842e+15  8.300000e+01        0.0        5.625000e+03   \n",
       "max    1.357862e+15  7.470000e+02        0.0        9.997110e+05   \n",
       "\n",
       "         congestion           lng           lat         delay      block_id  \\\n",
       "count  1.437322e+06  1.437322e+06  1.437322e+06  1.437322e+06  1.437322e+06   \n",
       "mean   1.308266e-02 -6.270111e+00  5.334335e+01 -6.460931e+01  1.086559e+05   \n",
       "std    1.136289e-01  8.202497e-02  5.476866e-02  4.578565e+02  1.924304e+05   \n",
       "min    0.000000e+00 -6.615000e+00  5.307038e+01 -7.314000e+03  1.001000e+03   \n",
       "25%    0.000000e+00 -6.306592e+00  5.331874e+01 -2.710000e+02  1.601600e+04   \n",
       "50%    0.000000e+00 -6.261728e+00  5.334589e+01 -2.400000e+01  4.020300e+04   \n",
       "75%    0.000000e+00 -6.230950e+00  5.337246e+01  1.100000e+02  8.400300e+04   \n",
       "max    1.000000e+00 -6.053083e+00  5.360653e+01  3.300000e+04  8.350020e+05   \n",
       "\n",
       "         vehicle_id       stop_id          stop   velocity        acc  \\\n",
       "count  1.437322e+06  1.437322e+06  1.437322e+06  1437322.0  1437322.0   \n",
       "mean   3.539169e+04  2.635274e+03  2.683219e-01        0.0        0.0   \n",
       "std    3.297149e+03  2.113181e+03  4.430862e-01        0.0        0.0   \n",
       "min    2.804700e+04  2.000000e+00  0.000000e+00        0.0        0.0   \n",
       "25%    3.329100e+04  8.120000e+02  0.000000e+00        0.0        0.0   \n",
       "50%    3.351700e+04  2.039000e+03  0.000000e+00        0.0        0.0   \n",
       "75%    3.801300e+04  4.319000e+03  1.000000e+00        0.0        0.0   \n",
       "max    4.307800e+04  7.552000e+03  1.000000e+00        0.0        0.0   \n",
       "\n",
       "       dist_from_old_point  time_from_old_point  \n",
       "count            1437322.0            1437322.0  \n",
       "mean                   0.0                  0.0  \n",
       "std                    0.0                  0.0  \n",
       "min                    0.0                  0.0  \n",
       "25%                    0.0                  0.0  \n",
       "50%                    0.0                  0.0  \n",
       "75%                    0.0                  0.0  \n",
       "max                    0.0                  0.0  "
      ]
     },
     "execution_count": 10,
     "metadata": {},
     "output_type": "execute_result"
    }
   ],
   "source": [
    "df.describe()"
   ]
  },
  {
   "cell_type": "markdown",
   "metadata": {},
   "source": [
    "Retirar a coluna DIRECTION que não apresenta qualquer informação"
   ]
  },
  {
   "cell_type": "code",
   "execution_count": 11,
   "metadata": {},
   "outputs": [
    {
     "data": {
      "text/plain": [
       "False"
      ]
     },
     "execution_count": 11,
     "metadata": {},
     "output_type": "execute_result"
    }
   ],
   "source": [
    "df.drop('direction', axis=1, inplace=True)\n",
    "'direction' in df.columns"
   ]
  },
  {
   "cell_type": "markdown",
   "metadata": {},
   "source": [
    "Indicar quais das colunas são categoricas:"
   ]
  },
  {
   "cell_type": "code",
   "execution_count": 12,
   "metadata": {},
   "outputs": [],
   "source": [
    "list_cats = ['line_id', 'journey_id' , 'time_frame', \n",
    "             'vehicle_journey_id', 'operator', 'block_id', \n",
    "             'vehicle_id', 'stop_id']"
   ]
  },
  {
   "cell_type": "markdown",
   "metadata": {},
   "source": [
    "### Ajusta tipo das features"
   ]
  },
  {
   "cell_type": "markdown",
   "metadata": {},
   "source": [
    "#### Boolean"
   ]
  },
  {
   "cell_type": "code",
   "execution_count": 13,
   "metadata": {},
   "outputs": [],
   "source": [
    "df.stop = df.stop.astype('bool')\n",
    "df.congestion = df.congestion.astype('bool')"
   ]
  },
  {
   "cell_type": "markdown",
   "metadata": {},
   "source": [
    "#### Datetime (microseconds - us)"
   ]
  },
  {
   "cell_type": "code",
   "execution_count": 14,
   "metadata": {},
   "outputs": [],
   "source": [
    "df['datetime'] = pd.to_datetime(df[\"timestamp\"], unit='us')"
   ]
  },
  {
   "cell_type": "markdown",
   "metadata": {},
   "source": [
    "##### Criação de duas novas features derivadas (day, hour)"
   ]
  },
  {
   "cell_type": "code",
   "execution_count": 15,
   "metadata": {},
   "outputs": [],
   "source": [
    "df['hour'] = df[\"datetime\"].dt.hour\n",
    "df['day'] = df[\"datetime\"].dt.day"
   ]
  },
  {
   "cell_type": "markdown",
   "metadata": {},
   "source": [
    "### Categoricos"
   ]
  },
  {
   "cell_type": "code",
   "execution_count": 16,
   "metadata": {},
   "outputs": [],
   "source": [
    "for cat in list_cats:\n",
    "    df[cat] = df[cat].astype('category')"
   ]
  },
  {
   "cell_type": "markdown",
   "metadata": {},
   "source": [
    "### Descrição das chaves para criação de trajetórias"
   ]
  },
  {
   "cell_type": "code",
   "execution_count": 17,
   "metadata": {},
   "outputs": [
    {
     "name": "stdout",
     "output_type": "stream",
     "text": [
      "Descritivo de instâncias únicas para cada atributo da chave:\n"
     ]
    },
    {
     "data": {
      "text/plain": [
       "(('line_id', 65),\n",
       " ('journey_id', 432),\n",
       " ('time_frame', 2),\n",
       " ('vehicle_journey_id', 7140),\n",
       " ('operator', 8),\n",
       " ('vehicle_id', 820))"
      ]
     },
     "execution_count": 17,
     "metadata": {},
     "output_type": "execute_result"
    }
   ],
   "source": [
    "lista_tamanhos = map((lambda x: len(df[x].unique())), trajetoria)\n",
    "mescla = zip(trajetoria, lista_tamanhos)\n",
    "print('Descritivo de instâncias únicas para cada atributo da chave:')\n",
    "tuple(mescla)"
   ]
  },
  {
   "cell_type": "markdown",
   "metadata": {},
   "source": [
    "### Como o 'prodution time' é entre 6am e 3am. Existem rotas fora desta janelas?"
   ]
  },
  {
   "cell_type": "code",
   "execution_count": 18,
   "metadata": {},
   "outputs": [
    {
     "data": {
      "text/html": [
       "<div>\n",
       "<style scoped>\n",
       "    .dataframe tbody tr th:only-of-type {\n",
       "        vertical-align: middle;\n",
       "    }\n",
       "\n",
       "    .dataframe tbody tr th {\n",
       "        vertical-align: top;\n",
       "    }\n",
       "\n",
       "    .dataframe thead th {\n",
       "        text-align: right;\n",
       "    }\n",
       "</style>\n",
       "<table border=\"1\" class=\"dataframe\">\n",
       "  <thead>\n",
       "    <tr style=\"text-align: right;\">\n",
       "      <th></th>\n",
       "      <th>timestamp</th>\n",
       "      <th>line_id</th>\n",
       "      <th>journey_id</th>\n",
       "      <th>time_frame</th>\n",
       "      <th>vehicle_journey_id</th>\n",
       "      <th>operator</th>\n",
       "      <th>congestion</th>\n",
       "      <th>lng</th>\n",
       "      <th>lat</th>\n",
       "      <th>delay</th>\n",
       "      <th>block_id</th>\n",
       "      <th>vehicle_id</th>\n",
       "      <th>stop_id</th>\n",
       "      <th>stop</th>\n",
       "      <th>velocity</th>\n",
       "      <th>acc</th>\n",
       "      <th>dist_from_old_point</th>\n",
       "      <th>time_from_old_point</th>\n",
       "      <th>datetime</th>\n",
       "      <th>hour</th>\n",
       "      <th>day</th>\n",
       "    </tr>\n",
       "  </thead>\n",
       "  <tbody>\n",
       "  </tbody>\n",
       "</table>\n",
       "</div>"
      ],
      "text/plain": [
       "Empty DataFrame\n",
       "Columns: [timestamp, line_id, journey_id, time_frame, vehicle_journey_id, operator, congestion, lng, lat, delay, block_id, vehicle_id, stop_id, stop, velocity, acc, dist_from_old_point, time_from_old_point, datetime, hour, day]\n",
       "Index: []"
      ]
     },
     "execution_count": 18,
     "metadata": {},
     "output_type": "execute_result"
    }
   ],
   "source": [
    "df[(3 < df.hour) & (df.hour < 6)]"
   ]
  },
  {
   "cell_type": "markdown",
   "metadata": {},
   "source": [
    "## Gerar trajetórias"
   ]
  },
  {
   "cell_type": "markdown",
   "metadata": {},
   "source": [
    "Na função que gera trajetórias incluimos algumas features aproveitando o fato de que esta geração de trajetórias percorre o dataset linha a linha, uma vez que precisamos identificar um valor limite entre duas amostras do GPS para poder validar a trajetória. Usamos aqui o valor é de 5 minutos."
   ]
  },
  {
   "cell_type": "code",
   "execution_count": 19,
   "metadata": {},
   "outputs": [],
   "source": [
    "gps = ['lat','lng']\n",
    "\n",
    "def delta_time(t1, t2) -> float:\n",
    "    ##Return time difference between time in seconds\n",
    "    t1 = pd.to_datetime(t1,unit='us')\n",
    "    t2 = pd.to_datetime(t2,unit='us')\n",
    "    time = pd.Timedelta(np.abs(t2 - t1))\n",
    "    if (time.seconds > 5*60):\n",
    "        return np.nan\n",
    "    else:        \n",
    "        return time.seconds\n",
    "\n",
    "def calc_deltas(frame):\n",
    "    frame.dist_from_old_point = 0\n",
    "    frame.time_from_old_point = 0\n",
    "    delta_d = list(map(\n",
    "        lambda x, y: geodesic(x,y).meters, frame[gps].values[1:], frame[gps].shift(1).values[1:]))\n",
    "    delta_t = list(map(\n",
    "        lambda x, y: delta_time(x,y), frame['timestamp'].values[1:], frame['timestamp'].shift(1).values[1:]))\n",
    "    if (len(frame[frame.isna()]) == 0):\n",
    "        print('oi')\n",
    "    frame['dist_from_old_point'] = [0, *delta_d]\n",
    "    frame['time_from_old_point'] = [0, *delta_t]\n",
    "    return frame"
   ]
  },
  {
   "cell_type": "code",
   "execution_count": 20,
   "metadata": {},
   "outputs": [],
   "source": [
    "dfs = [x for _,x in df.groupby(trajetoria) if (len(x) > 50)]\n",
    "dfs = dfs[:250]\n",
    "dfs = list(map(calc_deltas,dfs))\n",
    "dfs = pd.concat(dfs)\n",
    "#dfs[dfs.time_from_old_point.isna()]"
   ]
  },
  {
   "cell_type": "code",
   "execution_count": 21,
   "metadata": {},
   "outputs": [],
   "source": [
    "dfs.velocity = dfs.dist_from_old_point / dfs.time_from_old_point\n",
    "dfs.acc = dfs.velocity * (1/dfs.time_from_old_point)\n",
    "dfs['acc'].fillna(value=0, inplace=True)\n",
    "dfs['velocity'].fillna(value=0, inplace=True)"
   ]
  },
  {
   "cell_type": "code",
   "execution_count": 22,
   "metadata": {},
   "outputs": [],
   "source": [
    "dfs[trajetoria] = dfs[trajetoria].astype('string')\n",
    "dfs['ID'] = dfs[trajetoria].agg('-'.join, axis=1).astype('category').cat.codes"
   ]
  },
  {
   "cell_type": "code",
   "execution_count": 23,
   "metadata": {},
   "outputs": [
    {
     "name": "stdout",
     "output_type": "stream",
     "text": [
      "[135 151 155 164 176 200 205 206 208 237 248 248]\n",
      "187\n",
      "108\n",
      "171\n",
      "173\n",
      "189\n",
      "174\n",
      "188\n",
      "205\n",
      "193\n",
      "66\n",
      "175\n",
      "0\n"
     ]
    }
   ],
   "source": [
    "lista_IDs = dfs[dfs.time_from_old_point.isna()].ID.values\n",
    "print(lista_IDs)\n",
    "def index2remove(ID):\n",
    "    cc = dfs[dfs.ID==ID]\n",
    "    print(len(cc))\n",
    "    if (len(cc) ==0):\n",
    "        return\n",
    "    cc.sort_values('timestamp')\n",
    "    ts = cc[cc['time_from_old_point'].isna()].timestamp.values[0]\n",
    "    if (len(cc[cc.timestamp <= ts]) < 50):\n",
    "        dfs.drop(cc.index, inplace=True)\n",
    "        return cc.index\n",
    "    else:\n",
    "        dfs.drop(cc[cc.timestamp >= ts].index, inplace=True)\n",
    "        return cc[cc.timestamp >= ts].index\n",
    "remover = list(map(index2remove,lista_IDs))"
   ]
  },
  {
   "cell_type": "code",
   "execution_count": 24,
   "metadata": {},
   "outputs": [
    {
     "data": {
      "text/plain": [
       "array([], dtype=int16)"
      ]
     },
     "execution_count": 24,
     "metadata": {},
     "output_type": "execute_result"
    }
   ],
   "source": [
    "lista_IDs = dfs[dfs.time_from_old_point.isna()].ID.values\n",
    "lista_IDs"
   ]
  },
  {
   "cell_type": "code",
   "execution_count": 25,
   "metadata": {},
   "outputs": [
    {
     "data": {
      "text/html": [
       "<div>\n",
       "<style scoped>\n",
       "    .dataframe tbody tr th:only-of-type {\n",
       "        vertical-align: middle;\n",
       "    }\n",
       "\n",
       "    .dataframe tbody tr th {\n",
       "        vertical-align: top;\n",
       "    }\n",
       "\n",
       "    .dataframe thead th {\n",
       "        text-align: right;\n",
       "    }\n",
       "</style>\n",
       "<table border=\"1\" class=\"dataframe\">\n",
       "  <thead>\n",
       "    <tr style=\"text-align: right;\">\n",
       "      <th></th>\n",
       "      <th>timestamp</th>\n",
       "      <th>line_id</th>\n",
       "      <th>journey_id</th>\n",
       "      <th>time_frame</th>\n",
       "      <th>vehicle_journey_id</th>\n",
       "      <th>operator</th>\n",
       "      <th>congestion</th>\n",
       "      <th>lng</th>\n",
       "      <th>lat</th>\n",
       "      <th>delay</th>\n",
       "      <th>block_id</th>\n",
       "      <th>vehicle_id</th>\n",
       "      <th>stop_id</th>\n",
       "      <th>stop</th>\n",
       "      <th>velocity</th>\n",
       "      <th>acc</th>\n",
       "      <th>dist_from_old_point</th>\n",
       "      <th>time_from_old_point</th>\n",
       "      <th>datetime</th>\n",
       "      <th>hour</th>\n",
       "      <th>day</th>\n",
       "      <th>ID</th>\n",
       "    </tr>\n",
       "  </thead>\n",
       "  <tbody>\n",
       "    <tr>\n",
       "      <th>485426</th>\n",
       "      <td>1357813192000000</td>\n",
       "      <td>1.0</td>\n",
       "      <td>00010001</td>\n",
       "      <td>2013-01-10</td>\n",
       "      <td>4608</td>\n",
       "      <td>RD</td>\n",
       "      <td>False</td>\n",
       "      <td>-6.262067</td>\n",
       "      <td>53.391167</td>\n",
       "      <td>0</td>\n",
       "      <td>1001</td>\n",
       "      <td>43072</td>\n",
       "      <td>226.0</td>\n",
       "      <td>True</td>\n",
       "      <td>0.000000</td>\n",
       "      <td>0.000000</td>\n",
       "      <td>0.000000</td>\n",
       "      <td>0.0</td>\n",
       "      <td>2013-01-10 10:19:52</td>\n",
       "      <td>10</td>\n",
       "      <td>10</td>\n",
       "      <td>0</td>\n",
       "    </tr>\n",
       "    <tr>\n",
       "      <th>486021</th>\n",
       "      <td>1357813208000000</td>\n",
       "      <td>1.0</td>\n",
       "      <td>00010001</td>\n",
       "      <td>2013-01-10</td>\n",
       "      <td>4608</td>\n",
       "      <td>RD</td>\n",
       "      <td>False</td>\n",
       "      <td>-6.262084</td>\n",
       "      <td>53.391167</td>\n",
       "      <td>0</td>\n",
       "      <td>1001</td>\n",
       "      <td>43072</td>\n",
       "      <td>226.0</td>\n",
       "      <td>True</td>\n",
       "      <td>0.070687</td>\n",
       "      <td>0.004418</td>\n",
       "      <td>1.130991</td>\n",
       "      <td>16.0</td>\n",
       "      <td>2013-01-10 10:20:08</td>\n",
       "      <td>10</td>\n",
       "      <td>10</td>\n",
       "      <td>0</td>\n",
       "    </tr>\n",
       "    <tr>\n",
       "      <th>487232</th>\n",
       "      <td>1357813249000000</td>\n",
       "      <td>1.0</td>\n",
       "      <td>00010001</td>\n",
       "      <td>2013-01-10</td>\n",
       "      <td>4608</td>\n",
       "      <td>RD</td>\n",
       "      <td>False</td>\n",
       "      <td>-6.259500</td>\n",
       "      <td>53.391815</td>\n",
       "      <td>0</td>\n",
       "      <td>1001</td>\n",
       "      <td>43072</td>\n",
       "      <td>226.0</td>\n",
       "      <td>True</td>\n",
       "      <td>4.546923</td>\n",
       "      <td>0.110901</td>\n",
       "      <td>186.423852</td>\n",
       "      <td>41.0</td>\n",
       "      <td>2013-01-10 10:20:49</td>\n",
       "      <td>10</td>\n",
       "      <td>10</td>\n",
       "      <td>0</td>\n",
       "    </tr>\n",
       "    <tr>\n",
       "      <th>487435</th>\n",
       "      <td>1357813255000000</td>\n",
       "      <td>1.0</td>\n",
       "      <td>00010001</td>\n",
       "      <td>2013-01-10</td>\n",
       "      <td>4608</td>\n",
       "      <td>RD</td>\n",
       "      <td>False</td>\n",
       "      <td>-6.259500</td>\n",
       "      <td>53.391815</td>\n",
       "      <td>0</td>\n",
       "      <td>1001</td>\n",
       "      <td>43072</td>\n",
       "      <td>228.0</td>\n",
       "      <td>False</td>\n",
       "      <td>0.000000</td>\n",
       "      <td>0.000000</td>\n",
       "      <td>0.000000</td>\n",
       "      <td>6.0</td>\n",
       "      <td>2013-01-10 10:20:55</td>\n",
       "      <td>10</td>\n",
       "      <td>10</td>\n",
       "      <td>0</td>\n",
       "    </tr>\n",
       "    <tr>\n",
       "      <th>487904</th>\n",
       "      <td>1357813270000000</td>\n",
       "      <td>1.0</td>\n",
       "      <td>00010001</td>\n",
       "      <td>2013-01-10</td>\n",
       "      <td>4608</td>\n",
       "      <td>RD</td>\n",
       "      <td>False</td>\n",
       "      <td>-6.256383</td>\n",
       "      <td>53.391365</td>\n",
       "      <td>0</td>\n",
       "      <td>1001</td>\n",
       "      <td>43072</td>\n",
       "      <td>228.0</td>\n",
       "      <td>False</td>\n",
       "      <td>14.222031</td>\n",
       "      <td>0.948135</td>\n",
       "      <td>213.330471</td>\n",
       "      <td>15.0</td>\n",
       "      <td>2013-01-10 10:21:10</td>\n",
       "      <td>10</td>\n",
       "      <td>10</td>\n",
       "      <td>0</td>\n",
       "    </tr>\n",
       "  </tbody>\n",
       "</table>\n",
       "</div>"
      ],
      "text/plain": [
       "               timestamp line_id journey_id  time_frame vehicle_journey_id  \\\n",
       "485426  1357813192000000     1.0   00010001  2013-01-10               4608   \n",
       "486021  1357813208000000     1.0   00010001  2013-01-10               4608   \n",
       "487232  1357813249000000     1.0   00010001  2013-01-10               4608   \n",
       "487435  1357813255000000     1.0   00010001  2013-01-10               4608   \n",
       "487904  1357813270000000     1.0   00010001  2013-01-10               4608   \n",
       "\n",
       "       operator  congestion       lng        lat  delay block_id vehicle_id  \\\n",
       "485426       RD       False -6.262067  53.391167      0     1001      43072   \n",
       "486021       RD       False -6.262084  53.391167      0     1001      43072   \n",
       "487232       RD       False -6.259500  53.391815      0     1001      43072   \n",
       "487435       RD       False -6.259500  53.391815      0     1001      43072   \n",
       "487904       RD       False -6.256383  53.391365      0     1001      43072   \n",
       "\n",
       "       stop_id   stop   velocity       acc  dist_from_old_point  \\\n",
       "485426   226.0   True   0.000000  0.000000             0.000000   \n",
       "486021   226.0   True   0.070687  0.004418             1.130991   \n",
       "487232   226.0   True   4.546923  0.110901           186.423852   \n",
       "487435   228.0  False   0.000000  0.000000             0.000000   \n",
       "487904   228.0  False  14.222031  0.948135           213.330471   \n",
       "\n",
       "        time_from_old_point            datetime  hour  day  ID  \n",
       "485426                  0.0 2013-01-10 10:19:52    10   10   0  \n",
       "486021                 16.0 2013-01-10 10:20:08    10   10   0  \n",
       "487232                 41.0 2013-01-10 10:20:49    10   10   0  \n",
       "487435                  6.0 2013-01-10 10:20:55    10   10   0  \n",
       "487904                 15.0 2013-01-10 10:21:10    10   10   0  "
      ]
     },
     "execution_count": 25,
     "metadata": {},
     "output_type": "execute_result"
    }
   ],
   "source": [
    "dfs.head()"
   ]
  },
  {
   "cell_type": "markdown",
   "metadata": {},
   "source": [
    "## Análisar trajetórias"
   ]
  },
  {
   "cell_type": "code",
   "execution_count": 26,
   "metadata": {},
   "outputs": [
    {
     "name": "stdout",
     "output_type": "stream",
     "text": [
      "<class 'pandas.core.frame.DataFrame'>\n",
      "Int64Index: 1437322 entries, 485426 to 1659459\n",
      "Data columns (total 21 columns):\n",
      " #   Column               Non-Null Count    Dtype         \n",
      "---  ------               --------------    -----         \n",
      " 0   timestamp            1437322 non-null  int64         \n",
      " 1   line_id              1437322 non-null  category      \n",
      " 2   journey_id           1437322 non-null  category      \n",
      " 3   time_frame           1437322 non-null  category      \n",
      " 4   vehicle_journey_id   1437322 non-null  category      \n",
      " 5   operator             1437322 non-null  category      \n",
      " 6   congestion           1437322 non-null  bool          \n",
      " 7   lng                  1437322 non-null  float64       \n",
      " 8   lat                  1437322 non-null  float64       \n",
      " 9   delay                1437322 non-null  int64         \n",
      " 10  block_id             1437322 non-null  category      \n",
      " 11  vehicle_id           1437322 non-null  category      \n",
      " 12  stop_id              1437322 non-null  category      \n",
      " 13  stop                 1437322 non-null  bool          \n",
      " 14  velocity             1437322 non-null  int64         \n",
      " 15  acc                  1437322 non-null  int64         \n",
      " 16  dist_from_old_point  1437322 non-null  int64         \n",
      " 17  time_from_old_point  1437322 non-null  int64         \n",
      " 18  datetime             1437322 non-null  datetime64[ns]\n",
      " 19  hour                 1437322 non-null  int64         \n",
      " 20  day                  1437322 non-null  int64         \n",
      "dtypes: bool(2), category(8), datetime64[ns](1), float64(2), int64(8)\n",
      "memory usage: 152.8 MB\n"
     ]
    }
   ],
   "source": [
    "df.info()"
   ]
  },
  {
   "cell_type": "raw",
   "metadata": {},
   "source": [
    "df_traj = df.groupby(trajetoria).size().reset_index()\n",
    "df_traj['points'] = df_traj[0]\n",
    "df_traj.drop(0, axis=1, inplace=True)"
   ]
  },
  {
   "cell_type": "raw",
   "metadata": {},
   "source": [
    "df_traj.head()"
   ]
  },
  {
   "cell_type": "raw",
   "metadata": {},
   "source": [
    "df_traj.points.describe()"
   ]
  },
  {
   "cell_type": "raw",
   "metadata": {},
   "source": [
    "df_traj.points.plot(kind='box')"
   ]
  },
  {
   "cell_type": "raw",
   "metadata": {},
   "source": [
    "df_traj.points.plot(kind='hist')"
   ]
  },
  {
   "cell_type": "raw",
   "metadata": {},
   "source": [
    "df_traj['points_log'] = np.log10(df_traj['points'])\n",
    "df_traj.plot(y='points_log', kind='hist')"
   ]
  },
  {
   "cell_type": "raw",
   "metadata": {},
   "source": [
    "df_traj.points_log.describe()"
   ]
  },
  {
   "cell_type": "raw",
   "metadata": {},
   "source": [
    "Observamos uma partição dos número de pontos por trajetória um pouco abaixo de 100 pontos. Mais a frente iremos usar o valor limite de 50 pontos para excluir as trajetórias abaixo deste limiar."
   ]
  },
  {
   "cell_type": "raw",
   "metadata": {},
   "source": [
    "minimo_pontos = 50"
   ]
  },
  {
   "cell_type": "markdown",
   "metadata": {},
   "source": [
    "No agrupamento a seguir todas as instâncias com uma das features listadas como chave com valor NaN é descartada."
   ]
  },
  {
   "cell_type": "code",
   "execution_count": 27,
   "metadata": {},
   "outputs": [],
   "source": [
    "#backup\n",
    "df = dfs"
   ]
  },
  {
   "cell_type": "code",
   "execution_count": 28,
   "metadata": {},
   "outputs": [
    {
     "data": {
      "text/html": [
       "<div>\n",
       "<style scoped>\n",
       "    .dataframe tbody tr th:only-of-type {\n",
       "        vertical-align: middle;\n",
       "    }\n",
       "\n",
       "    .dataframe tbody tr th {\n",
       "        vertical-align: top;\n",
       "    }\n",
       "\n",
       "    .dataframe thead th {\n",
       "        text-align: right;\n",
       "    }\n",
       "</style>\n",
       "<table border=\"1\" class=\"dataframe\">\n",
       "  <thead>\n",
       "    <tr style=\"text-align: right;\">\n",
       "      <th></th>\n",
       "      <th>timestamp</th>\n",
       "      <th>line_id</th>\n",
       "      <th>journey_id</th>\n",
       "      <th>time_frame</th>\n",
       "      <th>vehicle_journey_id</th>\n",
       "      <th>operator</th>\n",
       "      <th>congestion</th>\n",
       "      <th>lng</th>\n",
       "      <th>lat</th>\n",
       "      <th>delay</th>\n",
       "      <th>block_id</th>\n",
       "      <th>vehicle_id</th>\n",
       "      <th>stop_id</th>\n",
       "      <th>stop</th>\n",
       "      <th>velocity</th>\n",
       "      <th>acc</th>\n",
       "      <th>dist_from_old_point</th>\n",
       "      <th>time_from_old_point</th>\n",
       "      <th>datetime</th>\n",
       "      <th>hour</th>\n",
       "      <th>day</th>\n",
       "      <th>ID</th>\n",
       "    </tr>\n",
       "  </thead>\n",
       "  <tbody>\n",
       "    <tr>\n",
       "      <th>1376653</th>\n",
       "      <td>1357844234000000</td>\n",
       "      <td>7.0</td>\n",
       "      <td>00070001</td>\n",
       "      <td>2013-01-10</td>\n",
       "      <td>6048</td>\n",
       "      <td>D1</td>\n",
       "      <td>False</td>\n",
       "      <td>-6.128867</td>\n",
       "      <td>53.246334</td>\n",
       "      <td>-97</td>\n",
       "      <td>7008</td>\n",
       "      <td>43008</td>\n",
       "      <td>4982.0</td>\n",
       "      <td>True</td>\n",
       "      <td>0.054039</td>\n",
       "      <td>0.002573</td>\n",
       "      <td>1.134826</td>\n",
       "      <td>21.0</td>\n",
       "      <td>2013-01-10 18:57:14</td>\n",
       "      <td>18</td>\n",
       "      <td>10</td>\n",
       "      <td>249</td>\n",
       "    </tr>\n",
       "    <tr>\n",
       "      <th>1376886</th>\n",
       "      <td>1357844244000000</td>\n",
       "      <td>7.0</td>\n",
       "      <td>00070001</td>\n",
       "      <td>2013-01-10</td>\n",
       "      <td>6048</td>\n",
       "      <td>D1</td>\n",
       "      <td>False</td>\n",
       "      <td>-6.128867</td>\n",
       "      <td>53.246334</td>\n",
       "      <td>-36</td>\n",
       "      <td>7008</td>\n",
       "      <td>43008</td>\n",
       "      <td>4982.0</td>\n",
       "      <td>True</td>\n",
       "      <td>0.000000</td>\n",
       "      <td>0.000000</td>\n",
       "      <td>0.000000</td>\n",
       "      <td>10.0</td>\n",
       "      <td>2013-01-10 18:57:24</td>\n",
       "      <td>18</td>\n",
       "      <td>10</td>\n",
       "      <td>249</td>\n",
       "    </tr>\n",
       "    <tr>\n",
       "      <th>1377323</th>\n",
       "      <td>1357844254000000</td>\n",
       "      <td>7.0</td>\n",
       "      <td>00070001</td>\n",
       "      <td>2013-01-10</td>\n",
       "      <td>6048</td>\n",
       "      <td>D1</td>\n",
       "      <td>False</td>\n",
       "      <td>-6.128850</td>\n",
       "      <td>53.246334</td>\n",
       "      <td>-36</td>\n",
       "      <td>7008</td>\n",
       "      <td>43008</td>\n",
       "      <td>4982.0</td>\n",
       "      <td>True</td>\n",
       "      <td>0.113483</td>\n",
       "      <td>0.011348</td>\n",
       "      <td>1.134826</td>\n",
       "      <td>10.0</td>\n",
       "      <td>2013-01-10 18:57:34</td>\n",
       "      <td>18</td>\n",
       "      <td>10</td>\n",
       "      <td>249</td>\n",
       "    </tr>\n",
       "    <tr>\n",
       "      <th>1377933</th>\n",
       "      <td>1357844275000000</td>\n",
       "      <td>7.0</td>\n",
       "      <td>00070001</td>\n",
       "      <td>2013-01-10</td>\n",
       "      <td>6048</td>\n",
       "      <td>D1</td>\n",
       "      <td>False</td>\n",
       "      <td>-6.128850</td>\n",
       "      <td>53.246349</td>\n",
       "      <td>-36</td>\n",
       "      <td>7008</td>\n",
       "      <td>43008</td>\n",
       "      <td>4982.0</td>\n",
       "      <td>True</td>\n",
       "      <td>0.079494</td>\n",
       "      <td>0.003785</td>\n",
       "      <td>1.669364</td>\n",
       "      <td>21.0</td>\n",
       "      <td>2013-01-10 18:57:55</td>\n",
       "      <td>18</td>\n",
       "      <td>10</td>\n",
       "      <td>249</td>\n",
       "    </tr>\n",
       "    <tr>\n",
       "      <th>1378495</th>\n",
       "      <td>1357844295000000</td>\n",
       "      <td>7.0</td>\n",
       "      <td>00070001</td>\n",
       "      <td>2013-01-10</td>\n",
       "      <td>6048</td>\n",
       "      <td>D1</td>\n",
       "      <td>False</td>\n",
       "      <td>-6.128850</td>\n",
       "      <td>53.246349</td>\n",
       "      <td>-36</td>\n",
       "      <td>7008</td>\n",
       "      <td>43008</td>\n",
       "      <td>4982.0</td>\n",
       "      <td>True</td>\n",
       "      <td>0.000000</td>\n",
       "      <td>0.000000</td>\n",
       "      <td>0.000000</td>\n",
       "      <td>20.0</td>\n",
       "      <td>2013-01-10 18:58:15</td>\n",
       "      <td>18</td>\n",
       "      <td>10</td>\n",
       "      <td>249</td>\n",
       "    </tr>\n",
       "  </tbody>\n",
       "</table>\n",
       "</div>"
      ],
      "text/plain": [
       "                timestamp line_id journey_id  time_frame vehicle_journey_id  \\\n",
       "1376653  1357844234000000     7.0   00070001  2013-01-10               6048   \n",
       "1376886  1357844244000000     7.0   00070001  2013-01-10               6048   \n",
       "1377323  1357844254000000     7.0   00070001  2013-01-10               6048   \n",
       "1377933  1357844275000000     7.0   00070001  2013-01-10               6048   \n",
       "1378495  1357844295000000     7.0   00070001  2013-01-10               6048   \n",
       "\n",
       "        operator  congestion       lng        lat  delay block_id vehicle_id  \\\n",
       "1376653       D1       False -6.128867  53.246334    -97     7008      43008   \n",
       "1376886       D1       False -6.128867  53.246334    -36     7008      43008   \n",
       "1377323       D1       False -6.128850  53.246334    -36     7008      43008   \n",
       "1377933       D1       False -6.128850  53.246349    -36     7008      43008   \n",
       "1378495       D1       False -6.128850  53.246349    -36     7008      43008   \n",
       "\n",
       "        stop_id  stop  velocity       acc  dist_from_old_point  \\\n",
       "1376653  4982.0  True  0.054039  0.002573             1.134826   \n",
       "1376886  4982.0  True  0.000000  0.000000             0.000000   \n",
       "1377323  4982.0  True  0.113483  0.011348             1.134826   \n",
       "1377933  4982.0  True  0.079494  0.003785             1.669364   \n",
       "1378495  4982.0  True  0.000000  0.000000             0.000000   \n",
       "\n",
       "         time_from_old_point            datetime  hour  day   ID  \n",
       "1376653                 21.0 2013-01-10 18:57:14    18   10  249  \n",
       "1376886                 10.0 2013-01-10 18:57:24    18   10  249  \n",
       "1377323                 10.0 2013-01-10 18:57:34    18   10  249  \n",
       "1377933                 21.0 2013-01-10 18:57:55    18   10  249  \n",
       "1378495                 20.0 2013-01-10 18:58:15    18   10  249  "
      ]
     },
     "execution_count": 28,
     "metadata": {},
     "output_type": "execute_result"
    }
   ],
   "source": [
    "df.tail()"
   ]
  },
  {
   "cell_type": "raw",
   "metadata": {},
   "source": [
    "df[df.ID==0][['lat','lng','MF_lat','MF_lng']].head(20)"
   ]
  },
  {
   "cell_type": "code",
   "execution_count": 29,
   "metadata": {},
   "outputs": [
    {
     "data": {
      "text/html": [
       "<div>\n",
       "<style scoped>\n",
       "    .dataframe tbody tr th:only-of-type {\n",
       "        vertical-align: middle;\n",
       "    }\n",
       "\n",
       "    .dataframe tbody tr th {\n",
       "        vertical-align: top;\n",
       "    }\n",
       "\n",
       "    .dataframe thead th {\n",
       "        text-align: right;\n",
       "    }\n",
       "</style>\n",
       "<table border=\"1\" class=\"dataframe\">\n",
       "  <thead>\n",
       "    <tr style=\"text-align: right;\">\n",
       "      <th></th>\n",
       "      <th>velocity</th>\n",
       "      <th>acc</th>\n",
       "      <th>time_from_old_point</th>\n",
       "      <th>dist_from_old_point</th>\n",
       "    </tr>\n",
       "  </thead>\n",
       "  <tbody>\n",
       "    <tr>\n",
       "      <th>count</th>\n",
       "      <td>44351.000000</td>\n",
       "      <td>44351.000000</td>\n",
       "      <td>44351.000000</td>\n",
       "      <td>44351.000000</td>\n",
       "    </tr>\n",
       "    <tr>\n",
       "      <th>mean</th>\n",
       "      <td>4.964805</td>\n",
       "      <td>0.376987</td>\n",
       "      <td>20.485806</td>\n",
       "      <td>94.277147</td>\n",
       "    </tr>\n",
       "    <tr>\n",
       "      <th>std</th>\n",
       "      <td>15.185035</td>\n",
       "      <td>3.903491</td>\n",
       "      <td>8.519045</td>\n",
       "      <td>182.749141</td>\n",
       "    </tr>\n",
       "    <tr>\n",
       "      <th>min</th>\n",
       "      <td>0.000000</td>\n",
       "      <td>0.000000</td>\n",
       "      <td>0.000000</td>\n",
       "      <td>0.000000</td>\n",
       "    </tr>\n",
       "    <tr>\n",
       "      <th>25%</th>\n",
       "      <td>0.105728</td>\n",
       "      <td>0.005368</td>\n",
       "      <td>18.000000</td>\n",
       "      <td>2.017425</td>\n",
       "    </tr>\n",
       "    <tr>\n",
       "      <th>50%</th>\n",
       "      <td>3.223432</td>\n",
       "      <td>0.152864</td>\n",
       "      <td>20.000000</td>\n",
       "      <td>65.284830</td>\n",
       "    </tr>\n",
       "    <tr>\n",
       "      <th>75%</th>\n",
       "      <td>7.178346</td>\n",
       "      <td>0.355361</td>\n",
       "      <td>21.000000</td>\n",
       "      <td>146.276273</td>\n",
       "    </tr>\n",
       "    <tr>\n",
       "      <th>max</th>\n",
       "      <td>2327.095588</td>\n",
       "      <td>581.773897</td>\n",
       "      <td>266.000000</td>\n",
       "      <td>10280.014818</td>\n",
       "    </tr>\n",
       "  </tbody>\n",
       "</table>\n",
       "</div>"
      ],
      "text/plain": [
       "           velocity           acc  time_from_old_point  dist_from_old_point\n",
       "count  44351.000000  44351.000000         44351.000000         44351.000000\n",
       "mean       4.964805      0.376987            20.485806            94.277147\n",
       "std       15.185035      3.903491             8.519045           182.749141\n",
       "min        0.000000      0.000000             0.000000             0.000000\n",
       "25%        0.105728      0.005368            18.000000             2.017425\n",
       "50%        3.223432      0.152864            20.000000            65.284830\n",
       "75%        7.178346      0.355361            21.000000           146.276273\n",
       "max     2327.095588    581.773897           266.000000         10280.014818"
      ]
     },
     "execution_count": 29,
     "metadata": {},
     "output_type": "execute_result"
    }
   ],
   "source": [
    "new_cols = ['velocity', 'acc', 'time_from_old_point', 'dist_from_old_point',]\n",
    "            #'MF_velocity', 'MF_acc', 'MF_dist_from_old_point']\n",
    "df[new_cols].describe()"
   ]
  },
  {
   "cell_type": "code",
   "execution_count": 30,
   "metadata": {},
   "outputs": [
    {
     "data": {
      "text/plain": [
       "<AxesSubplot:>"
      ]
     },
     "execution_count": 30,
     "metadata": {},
     "output_type": "execute_result"
    },
    {
     "data": {
      "image/png": "[encoded data removed]",
      "text/plain": [
       "<Figure size 720x432 with 1 Axes>"
      ]
     },
     "metadata": {
      "needs_background": "light"
     },
     "output_type": "display_data"
    }
   ],
   "source": [
    "df[new_cols].plot(kind='box', figsize=(10,6))"
   ]
  },
  {
   "cell_type": "code",
   "execution_count": 31,
   "metadata": {},
   "outputs": [],
   "source": [
    "from sklearn.ensemble import IsolationForest"
   ]
  },
  {
   "cell_type": "code",
   "execution_count": 32,
   "metadata": {},
   "outputs": [],
   "source": [
    "feats = ['velocity','acc']\n",
    "rng = np.random.RandomState(42)\n",
    "clf = IsolationForest(max_samples=100, random_state=rng)\n",
    "clf.fit(df[feats])\n",
    "scores = clf.predict(df[feats])\n",
    "df['outlier'] = scores"
   ]
  },
  {
   "cell_type": "code",
   "execution_count": 33,
   "metadata": {},
   "outputs": [],
   "source": [
    "from sklearn.preprocessing import MinMaxScaler\n",
    "scaler = MinMaxScaler()\n",
    "df_normalized = pd.DataFrame(scaler.fit_transform(df[['velocity','acc']]), columns = ['velocity','acc'])\n",
    "rng = np.random.RandomState(42)\n",
    "clf = IsolationForest(max_samples=100, random_state=rng)\n",
    "clf.fit(df_normalized)\n",
    "scores = clf.predict(df_normalized)\n",
    "df['outlier_norm'] = scores"
   ]
  },
  {
   "cell_type": "code",
   "execution_count": 34,
   "metadata": {},
   "outputs": [
    {
     "data": {
      "text/html": [
       "<div>\n",
       "<style scoped>\n",
       "    .dataframe tbody tr th:only-of-type {\n",
       "        vertical-align: middle;\n",
       "    }\n",
       "\n",
       "    .dataframe tbody tr th {\n",
       "        vertical-align: top;\n",
       "    }\n",
       "\n",
       "    .dataframe thead th {\n",
       "        text-align: right;\n",
       "    }\n",
       "</style>\n",
       "<table border=\"1\" class=\"dataframe\">\n",
       "  <thead>\n",
       "    <tr style=\"text-align: right;\">\n",
       "      <th></th>\n",
       "      <th>velocity</th>\n",
       "      <th>acc</th>\n",
       "    </tr>\n",
       "  </thead>\n",
       "  <tbody>\n",
       "    <tr>\n",
       "      <th>count</th>\n",
       "      <td>39203.000000</td>\n",
       "      <td>39203.000000</td>\n",
       "    </tr>\n",
       "    <tr>\n",
       "      <th>mean</th>\n",
       "      <td>3.301280</td>\n",
       "      <td>0.162733</td>\n",
       "    </tr>\n",
       "    <tr>\n",
       "      <th>std</th>\n",
       "      <td>3.287800</td>\n",
       "      <td>0.165670</td>\n",
       "    </tr>\n",
       "    <tr>\n",
       "      <th>min</th>\n",
       "      <td>0.000000</td>\n",
       "      <td>0.000000</td>\n",
       "    </tr>\n",
       "    <tr>\n",
       "      <th>25%</th>\n",
       "      <td>0.046382</td>\n",
       "      <td>0.001809</td>\n",
       "    </tr>\n",
       "    <tr>\n",
       "      <th>50%</th>\n",
       "      <td>2.505812</td>\n",
       "      <td>0.117930</td>\n",
       "    </tr>\n",
       "    <tr>\n",
       "      <th>75%</th>\n",
       "      <td>5.811335</td>\n",
       "      <td>0.283757</td>\n",
       "    </tr>\n",
       "    <tr>\n",
       "      <th>max</th>\n",
       "      <td>11.662989</td>\n",
       "      <td>0.592866</td>\n",
       "    </tr>\n",
       "  </tbody>\n",
       "</table>\n",
       "</div>"
      ],
      "text/plain": [
       "           velocity           acc\n",
       "count  39203.000000  39203.000000\n",
       "mean       3.301280      0.162733\n",
       "std        3.287800      0.165670\n",
       "min        0.000000      0.000000\n",
       "25%        0.046382      0.001809\n",
       "50%        2.505812      0.117930\n",
       "75%        5.811335      0.283757\n",
       "max       11.662989      0.592866"
      ]
     },
     "execution_count": 34,
     "metadata": {},
     "output_type": "execute_result"
    }
   ],
   "source": [
    "df[df.outlier == 1][feats].describe()"
   ]
  },
  {
   "cell_type": "code",
   "execution_count": 35,
   "metadata": {},
   "outputs": [
    {
     "data": {
      "text/html": [
       "<div>\n",
       "<style scoped>\n",
       "    .dataframe tbody tr th:only-of-type {\n",
       "        vertical-align: middle;\n",
       "    }\n",
       "\n",
       "    .dataframe tbody tr th {\n",
       "        vertical-align: top;\n",
       "    }\n",
       "\n",
       "    .dataframe thead th {\n",
       "        text-align: right;\n",
       "    }\n",
       "</style>\n",
       "<table border=\"1\" class=\"dataframe\">\n",
       "  <thead>\n",
       "    <tr style=\"text-align: right;\">\n",
       "      <th></th>\n",
       "      <th>velocity</th>\n",
       "      <th>acc</th>\n",
       "    </tr>\n",
       "  </thead>\n",
       "  <tbody>\n",
       "    <tr>\n",
       "      <th>count</th>\n",
       "      <td>39215.000000</td>\n",
       "      <td>39215.000000</td>\n",
       "    </tr>\n",
       "    <tr>\n",
       "      <th>mean</th>\n",
       "      <td>3.302338</td>\n",
       "      <td>0.162689</td>\n",
       "    </tr>\n",
       "    <tr>\n",
       "      <th>std</th>\n",
       "      <td>3.288347</td>\n",
       "      <td>0.165559</td>\n",
       "    </tr>\n",
       "    <tr>\n",
       "      <th>min</th>\n",
       "      <td>0.000000</td>\n",
       "      <td>0.000000</td>\n",
       "    </tr>\n",
       "    <tr>\n",
       "      <th>25%</th>\n",
       "      <td>0.046462</td>\n",
       "      <td>0.001814</td>\n",
       "    </tr>\n",
       "    <tr>\n",
       "      <th>50%</th>\n",
       "      <td>2.506736</td>\n",
       "      <td>0.118000</td>\n",
       "    </tr>\n",
       "    <tr>\n",
       "      <th>75%</th>\n",
       "      <td>5.815046</td>\n",
       "      <td>0.283636</td>\n",
       "    </tr>\n",
       "    <tr>\n",
       "      <th>max</th>\n",
       "      <td>11.662989</td>\n",
       "      <td>0.592866</td>\n",
       "    </tr>\n",
       "  </tbody>\n",
       "</table>\n",
       "</div>"
      ],
      "text/plain": [
       "           velocity           acc\n",
       "count  39215.000000  39215.000000\n",
       "mean       3.302338      0.162689\n",
       "std        3.288347      0.165559\n",
       "min        0.000000      0.000000\n",
       "25%        0.046462      0.001814\n",
       "50%        2.506736      0.118000\n",
       "75%        5.815046      0.283636\n",
       "max       11.662989      0.592866"
      ]
     },
     "execution_count": 35,
     "metadata": {},
     "output_type": "execute_result"
    }
   ],
   "source": [
    "df[df.outlier_norm== 1][feats].describe()"
   ]
  },
  {
   "cell_type": "code",
   "execution_count": 36,
   "metadata": {},
   "outputs": [
    {
     "data": {
      "text/plain": [
       "array([[<AxesSubplot:title={'center':'velocity'}>,\n",
       "        <AxesSubplot:title={'center':'acc'}>]], dtype=object)"
      ]
     },
     "execution_count": 36,
     "metadata": {},
     "output_type": "execute_result"
    },
    {
     "data": {
      "image/png": "[encoded data removed]",
      "text/plain": [
       "<Figure size 432x288 with 2 Axes>"
      ]
     },
     "metadata": {
      "needs_background": "light"
     },
     "output_type": "display_data"
    }
   ],
   "source": [
    "df[df.outlier == 1][feats].hist()"
   ]
  },
  {
   "cell_type": "code",
   "execution_count": 37,
   "metadata": {},
   "outputs": [],
   "source": [
    "from sklearn.neighbors import LocalOutlierFactor\n"
   ]
  },
  {
   "cell_type": "code",
   "execution_count": 38,
   "metadata": {},
   "outputs": [],
   "source": [
    "clf = LocalOutlierFactor(n_neighbors=10, contamination=0.1)\n",
    "scores = clf.fit_predict(df[feats])\n",
    "df['outlier2'] = scores"
   ]
  },
  {
   "cell_type": "code",
   "execution_count": 39,
   "metadata": {},
   "outputs": [],
   "source": [
    "scaler = MinMaxScaler()\n",
    "df_normalized = pd.DataFrame(scaler.fit_transform(df[['velocity','acc']]), columns = ['velocity','acc'])\n",
    "rng = np.random.RandomState(42)\n",
    "clf = LocalOutlierFactor(n_neighbors=10, contamination=0.1)\n",
    "scores = clf.fit_predict(df_normalized)\n",
    "df['outlier2_norm'] = scores"
   ]
  },
  {
   "cell_type": "code",
   "execution_count": 40,
   "metadata": {},
   "outputs": [
    {
     "data": {
      "text/html": [
       "<div>\n",
       "<style scoped>\n",
       "    .dataframe tbody tr th:only-of-type {\n",
       "        vertical-align: middle;\n",
       "    }\n",
       "\n",
       "    .dataframe tbody tr th {\n",
       "        vertical-align: top;\n",
       "    }\n",
       "\n",
       "    .dataframe thead th {\n",
       "        text-align: right;\n",
       "    }\n",
       "</style>\n",
       "<table border=\"1\" class=\"dataframe\">\n",
       "  <thead>\n",
       "    <tr style=\"text-align: right;\">\n",
       "      <th></th>\n",
       "      <th>velocity</th>\n",
       "      <th>acc</th>\n",
       "    </tr>\n",
       "  </thead>\n",
       "  <tbody>\n",
       "    <tr>\n",
       "      <th>count</th>\n",
       "      <td>39916.000000</td>\n",
       "      <td>39916.000000</td>\n",
       "    </tr>\n",
       "    <tr>\n",
       "      <th>mean</th>\n",
       "      <td>4.771464</td>\n",
       "      <td>0.329947</td>\n",
       "    </tr>\n",
       "    <tr>\n",
       "      <th>std</th>\n",
       "      <td>7.518237</td>\n",
       "      <td>1.861117</td>\n",
       "    </tr>\n",
       "    <tr>\n",
       "      <th>min</th>\n",
       "      <td>0.000000</td>\n",
       "      <td>0.000000</td>\n",
       "    </tr>\n",
       "    <tr>\n",
       "      <th>25%</th>\n",
       "      <td>0.053980</td>\n",
       "      <td>0.002569</td>\n",
       "    </tr>\n",
       "    <tr>\n",
       "      <th>50%</th>\n",
       "      <td>3.212795</td>\n",
       "      <td>0.150982</td>\n",
       "    </tr>\n",
       "    <tr>\n",
       "      <th>75%</th>\n",
       "      <td>7.171710</td>\n",
       "      <td>0.351829</td>\n",
       "    </tr>\n",
       "    <tr>\n",
       "      <th>max</th>\n",
       "      <td>318.753423</td>\n",
       "      <td>145.281259</td>\n",
       "    </tr>\n",
       "  </tbody>\n",
       "</table>\n",
       "</div>"
      ],
      "text/plain": [
       "           velocity           acc\n",
       "count  39916.000000  39916.000000\n",
       "mean       4.771464      0.329947\n",
       "std        7.518237      1.861117\n",
       "min        0.000000      0.000000\n",
       "25%        0.053980      0.002569\n",
       "50%        3.212795      0.150982\n",
       "75%        7.171710      0.351829\n",
       "max      318.753423    145.281259"
      ]
     },
     "execution_count": 40,
     "metadata": {},
     "output_type": "execute_result"
    }
   ],
   "source": [
    "df[df.outlier2 == 1][feats].describe()"
   ]
  },
  {
   "cell_type": "code",
   "execution_count": 41,
   "metadata": {},
   "outputs": [
    {
     "data": {
      "text/html": [
       "<div>\n",
       "<style scoped>\n",
       "    .dataframe tbody tr th:only-of-type {\n",
       "        vertical-align: middle;\n",
       "    }\n",
       "\n",
       "    .dataframe tbody tr th {\n",
       "        vertical-align: top;\n",
       "    }\n",
       "\n",
       "    .dataframe thead th {\n",
       "        text-align: right;\n",
       "    }\n",
       "</style>\n",
       "<table border=\"1\" class=\"dataframe\">\n",
       "  <thead>\n",
       "    <tr style=\"text-align: right;\">\n",
       "      <th></th>\n",
       "      <th>velocity</th>\n",
       "      <th>acc</th>\n",
       "    </tr>\n",
       "  </thead>\n",
       "  <tbody>\n",
       "    <tr>\n",
       "      <th>count</th>\n",
       "      <td>39916.000000</td>\n",
       "      <td>39916.000000</td>\n",
       "    </tr>\n",
       "    <tr>\n",
       "      <th>mean</th>\n",
       "      <td>4.733670</td>\n",
       "      <td>0.318137</td>\n",
       "    </tr>\n",
       "    <tr>\n",
       "      <th>std</th>\n",
       "      <td>6.516447</td>\n",
       "      <td>1.517191</td>\n",
       "    </tr>\n",
       "    <tr>\n",
       "      <th>min</th>\n",
       "      <td>0.000000</td>\n",
       "      <td>0.000000</td>\n",
       "    </tr>\n",
       "    <tr>\n",
       "      <th>25%</th>\n",
       "      <td>0.054086</td>\n",
       "      <td>0.002565</td>\n",
       "    </tr>\n",
       "    <tr>\n",
       "      <th>50%</th>\n",
       "      <td>3.316676</td>\n",
       "      <td>0.156636</td>\n",
       "    </tr>\n",
       "    <tr>\n",
       "      <th>75%</th>\n",
       "      <td>7.263830</td>\n",
       "      <td>0.359387</td>\n",
       "    </tr>\n",
       "    <tr>\n",
       "      <th>max</th>\n",
       "      <td>137.397606</td>\n",
       "      <td>58.823058</td>\n",
       "    </tr>\n",
       "  </tbody>\n",
       "</table>\n",
       "</div>"
      ],
      "text/plain": [
       "           velocity           acc\n",
       "count  39916.000000  39916.000000\n",
       "mean       4.733670      0.318137\n",
       "std        6.516447      1.517191\n",
       "min        0.000000      0.000000\n",
       "25%        0.054086      0.002565\n",
       "50%        3.316676      0.156636\n",
       "75%        7.263830      0.359387\n",
       "max      137.397606     58.823058"
      ]
     },
     "execution_count": 41,
     "metadata": {},
     "output_type": "execute_result"
    }
   ],
   "source": [
    "df[df.outlier2_norm == 1][feats].describe()"
   ]
  },
  {
   "cell_type": "code",
   "execution_count": 42,
   "metadata": {},
   "outputs": [],
   "source": [
    "df1 = df[df.outlier==1]"
   ]
  },
  {
   "cell_type": "code",
   "execution_count": 43,
   "metadata": {},
   "outputs": [
    {
     "name": "stderr",
     "output_type": "stream",
     "text": [
      "/home/saci/hd/projetos/trajetorias/its_research/venvTraj/lib/python3.8/site-packages/pandas/core/frame.py:4162: SettingWithCopyWarning: \n",
      "A value is trying to be set on a copy of a slice from a DataFrame\n",
      "\n",
      "See the caveats in the documentation: https://pandas.pydata.org/pandas-docs/stable/user_guide/indexing.html#returning-a-view-versus-a-copy\n",
      "  return super().drop(\n"
     ]
    }
   ],
   "source": [
    "df1.drop(['outlier', 'outlier2','outlier_norm','outlier2_norm','day','stop_id','block_id', 'delay'],axis=1,inplace=True)"
   ]
  },
  {
   "cell_type": "code",
   "execution_count": 44,
   "metadata": {},
   "outputs": [
    {
     "data": {
      "text/html": [
       "<div>\n",
       "<style scoped>\n",
       "    .dataframe tbody tr th:only-of-type {\n",
       "        vertical-align: middle;\n",
       "    }\n",
       "\n",
       "    .dataframe tbody tr th {\n",
       "        vertical-align: top;\n",
       "    }\n",
       "\n",
       "    .dataframe thead th {\n",
       "        text-align: right;\n",
       "    }\n",
       "</style>\n",
       "<table border=\"1\" class=\"dataframe\">\n",
       "  <thead>\n",
       "    <tr style=\"text-align: right;\">\n",
       "      <th></th>\n",
       "      <th>timestamp</th>\n",
       "      <th>lng</th>\n",
       "      <th>lat</th>\n",
       "      <th>velocity</th>\n",
       "      <th>acc</th>\n",
       "      <th>dist_from_old_point</th>\n",
       "      <th>time_from_old_point</th>\n",
       "      <th>hour</th>\n",
       "      <th>ID</th>\n",
       "    </tr>\n",
       "  </thead>\n",
       "  <tbody>\n",
       "    <tr>\n",
       "      <th>count</th>\n",
       "      <td>3.920300e+04</td>\n",
       "      <td>39203.000000</td>\n",
       "      <td>39203.000000</td>\n",
       "      <td>39203.000000</td>\n",
       "      <td>39203.000000</td>\n",
       "      <td>39203.000000</td>\n",
       "      <td>39203.000000</td>\n",
       "      <td>39203.000000</td>\n",
       "      <td>39203.000000</td>\n",
       "    </tr>\n",
       "    <tr>\n",
       "      <th>mean</th>\n",
       "      <td>1.357827e+15</td>\n",
       "      <td>-6.234905</td>\n",
       "      <td>53.345443</td>\n",
       "      <td>3.301280</td>\n",
       "      <td>0.162733</td>\n",
       "      <td>69.076827</td>\n",
       "      <td>20.688723</td>\n",
       "      <td>13.797413</td>\n",
       "      <td>131.747137</td>\n",
       "    </tr>\n",
       "    <tr>\n",
       "      <th>std</th>\n",
       "      <td>1.660926e+10</td>\n",
       "      <td>0.037985</td>\n",
       "      <td>0.035239</td>\n",
       "      <td>3.287800</td>\n",
       "      <td>0.165670</td>\n",
       "      <td>70.440729</td>\n",
       "      <td>7.259633</td>\n",
       "      <td>4.623869</td>\n",
       "      <td>71.275868</td>\n",
       "    </tr>\n",
       "    <tr>\n",
       "      <th>min</th>\n",
       "      <td>1.357798e+15</td>\n",
       "      <td>-6.278733</td>\n",
       "      <td>53.246265</td>\n",
       "      <td>0.000000</td>\n",
       "      <td>0.000000</td>\n",
       "      <td>0.000000</td>\n",
       "      <td>0.000000</td>\n",
       "      <td>6.000000</td>\n",
       "      <td>0.000000</td>\n",
       "    </tr>\n",
       "    <tr>\n",
       "      <th>25%</th>\n",
       "      <td>1.357813e+15</td>\n",
       "      <td>-6.262819</td>\n",
       "      <td>53.324760</td>\n",
       "      <td>0.046382</td>\n",
       "      <td>0.001809</td>\n",
       "      <td>0.990630</td>\n",
       "      <td>19.000000</td>\n",
       "      <td>10.000000</td>\n",
       "      <td>73.000000</td>\n",
       "    </tr>\n",
       "    <tr>\n",
       "      <th>50%</th>\n",
       "      <td>1.357827e+15</td>\n",
       "      <td>-6.250288</td>\n",
       "      <td>53.345348</td>\n",
       "      <td>2.505812</td>\n",
       "      <td>0.117930</td>\n",
       "      <td>51.071739</td>\n",
       "      <td>20.000000</td>\n",
       "      <td>14.000000</td>\n",
       "      <td>136.000000</td>\n",
       "    </tr>\n",
       "    <tr>\n",
       "      <th>75%</th>\n",
       "      <td>1.357841e+15</td>\n",
       "      <td>-6.213769</td>\n",
       "      <td>53.367535</td>\n",
       "      <td>5.811335</td>\n",
       "      <td>0.283757</td>\n",
       "      <td>120.651787</td>\n",
       "      <td>21.000000</td>\n",
       "      <td>18.000000</td>\n",
       "      <td>194.000000</td>\n",
       "    </tr>\n",
       "    <tr>\n",
       "      <th>max</th>\n",
       "      <td>1.357862e+15</td>\n",
       "      <td>-6.128100</td>\n",
       "      <td>53.418232</td>\n",
       "      <td>11.662989</td>\n",
       "      <td>0.592866</td>\n",
       "      <td>855.211803</td>\n",
       "      <td>266.000000</td>\n",
       "      <td>23.000000</td>\n",
       "      <td>249.000000</td>\n",
       "    </tr>\n",
       "  </tbody>\n",
       "</table>\n",
       "</div>"
      ],
      "text/plain": [
       "          timestamp           lng           lat      velocity           acc  \\\n",
       "count  3.920300e+04  39203.000000  39203.000000  39203.000000  39203.000000   \n",
       "mean   1.357827e+15     -6.234905     53.345443      3.301280      0.162733   \n",
       "std    1.660926e+10      0.037985      0.035239      3.287800      0.165670   \n",
       "min    1.357798e+15     -6.278733     53.246265      0.000000      0.000000   \n",
       "25%    1.357813e+15     -6.262819     53.324760      0.046382      0.001809   \n",
       "50%    1.357827e+15     -6.250288     53.345348      2.505812      0.117930   \n",
       "75%    1.357841e+15     -6.213769     53.367535      5.811335      0.283757   \n",
       "max    1.357862e+15     -6.128100     53.418232     11.662989      0.592866   \n",
       "\n",
       "       dist_from_old_point  time_from_old_point          hour            ID  \n",
       "count         39203.000000         39203.000000  39203.000000  39203.000000  \n",
       "mean             69.076827            20.688723     13.797413    131.747137  \n",
       "std              70.440729             7.259633      4.623869     71.275868  \n",
       "min               0.000000             0.000000      6.000000      0.000000  \n",
       "25%               0.990630            19.000000     10.000000     73.000000  \n",
       "50%              51.071739            20.000000     14.000000    136.000000  \n",
       "75%             120.651787            21.000000     18.000000    194.000000  \n",
       "max             855.211803           266.000000     23.000000    249.000000  "
      ]
     },
     "execution_count": 44,
     "metadata": {},
     "output_type": "execute_result"
    }
   ],
   "source": [
    "df1.describe()"
   ]
  },
  {
   "cell_type": "code",
   "execution_count": 45,
   "metadata": {},
   "outputs": [
    {
     "data": {
      "text/plain": [
       "<AxesSubplot:>"
      ]
     },
     "execution_count": 45,
     "metadata": {},
     "output_type": "execute_result"
    },
    {
     "data": {
      "image/png": "[encoded data removed]",
      "text/plain": [
       "<Figure size 720x432 with 1 Axes>"
      ]
     },
     "metadata": {
      "needs_background": "light"
     },
     "output_type": "display_data"
    }
   ],
   "source": [
    "df1['acc'].plot(kind='box', figsize=(10,6))"
   ]
  },
  {
   "cell_type": "code",
   "execution_count": 46,
   "metadata": {},
   "outputs": [
    {
     "data": {
      "text/plain": [
       "<AxesSubplot:>"
      ]
     },
     "execution_count": 46,
     "metadata": {},
     "output_type": "execute_result"
    },
    {
     "data": {
      "image/png": "[encoded data removed]",
      "text/plain": [
       "<Figure size 720x432 with 1 Axes>"
      ]
     },
     "metadata": {
      "needs_background": "light"
     },
     "output_type": "display_data"
    }
   ],
   "source": [
    "df1['velocity'].plot(kind='box', figsize=(10,6))"
   ]
  },
  {
   "cell_type": "code",
   "execution_count": 47,
   "metadata": {},
   "outputs": [
    {
     "data": {
      "text/plain": [
       "<AxesSubplot:>"
      ]
     },
     "execution_count": 47,
     "metadata": {},
     "output_type": "execute_result"
    },
    {
     "data": {
      "image/png": "[encoded data removed]",
      "text/plain": [
       "<Figure size 432x288 with 1 Axes>"
      ]
     },
     "metadata": {
      "needs_background": "light"
     },
     "output_type": "display_data"
    }
   ],
   "source": [
    "df1[feats].plot()"
   ]
  },
  {
   "cell_type": "code",
   "execution_count": 48,
   "metadata": {},
   "outputs": [],
   "source": [
    "import seaborn as sns                                              "
   ]
  },
  {
   "cell_type": "raw",
   "metadata": {},
   "source": [
    "g = sns.FacetGrid(df1,col='hour', col_wrap=4)\n",
    "g.map(sns.histplot, \"velocity\")\n",
    "#sns.histplot(x=df1[df1.acc!=0].acc.apply(np.log10))\n"
   ]
  },
  {
   "cell_type": "raw",
   "metadata": {},
   "source": [
    "df1['acc_log'] = df1.velocity.apply(np.log10)\n",
    "\n",
    "g = sns.FacetGrid(df1[df1.velocity !=0],col='hour', col_wrap=4)\n",
    "g.map(sns.histplot, \"velocity\")\n",
    "#sns.histplot(x=df1[df1.acc!=0].acc.apply(np.log10))\n"
   ]
  },
  {
   "cell_type": "code",
   "execution_count": 49,
   "metadata": {},
   "outputs": [
    {
     "data": {
      "text/plain": [
       "<AxesSubplot:xlabel='velocity', ylabel='Count'>"
      ]
     },
     "execution_count": 49,
     "metadata": {},
     "output_type": "execute_result"
    },
    {
     "data": {
      "image/png": "[encoded data removed]",
      "text/plain": [
       "<Figure size 432x288 with 1 Axes>"
      ]
     },
     "metadata": {
      "needs_background": "light"
     },
     "output_type": "display_data"
    }
   ],
   "source": [
    "sns.histplot(x=df1[df1.velocity!=0].velocity.apply(np.log10))"
   ]
  },
  {
   "cell_type": "code",
   "execution_count": 50,
   "metadata": {},
   "outputs": [
    {
     "data": {
      "text/plain": [
       "<AxesSubplot:xlabel='acc', ylabel='Count'>"
      ]
     },
     "execution_count": 50,
     "metadata": {},
     "output_type": "execute_result"
    },
    {
     "data": {
      "image/png": "[encoded data removed]",
      "text/plain": [
       "<Figure size 432x288 with 1 Axes>"
      ]
     },
     "metadata": {
      "needs_background": "light"
     },
     "output_type": "display_data"
    }
   ],
   "source": [
    "sns.histplot(x=df1[df1.acc!=0].acc.apply(np.log10))"
   ]
  },
  {
   "cell_type": "markdown",
   "metadata": {},
   "source": [
    "## Teste de Hipótese\n",
    "\n",
    "### Há diferença na distribuição da velocidade e acelaração no pontos capturados antes e depois do meio-dia?"
   ]
  },
  {
   "cell_type": "code",
   "execution_count": 51,
   "metadata": {},
   "outputs": [],
   "source": [
    "from scipy import stats"
   ]
  },
  {
   "cell_type": "code",
   "execution_count": 52,
   "metadata": {},
   "outputs": [
    {
     "data": {
      "text/plain": [
       "<AxesSubplot:>"
      ]
     },
     "execution_count": 52,
     "metadata": {},
     "output_type": "execute_result"
    },
    {
     "data": {
      "image/png": "[encoded data removed]",
      "text/plain": [
       "<Figure size 432x288 with 1 Axes>"
      ]
     },
     "metadata": {
      "needs_background": "light"
     },
     "output_type": "display_data"
    }
   ],
   "source": [
    "df1.velocity.plot(kind='box', )"
   ]
  },
  {
   "cell_type": "code",
   "execution_count": 53,
   "metadata": {},
   "outputs": [
    {
     "data": {
      "text/plain": [
       "<AxesSubplot:>"
      ]
     },
     "execution_count": 53,
     "metadata": {},
     "output_type": "execute_result"
    },
    {
     "data": {
      "image/png": "[encoded data removed]",
      "text/plain": [
       "<Figure size 432x288 with 1 Axes>"
      ]
     },
     "metadata": {
      "needs_background": "light"
     },
     "output_type": "display_data"
    }
   ],
   "source": [
    "df1[df1.hour > 22].velocity.plot(kind='box')"
   ]
  },
  {
   "cell_type": "code",
   "execution_count": 54,
   "metadata": {},
   "outputs": [],
   "source": [
    "m = df1.velocity.median()"
   ]
  },
  {
   "cell_type": "markdown",
   "metadata": {},
   "source": []
  },
  {
   "cell_type": "code",
   "execution_count": 55,
   "metadata": {},
   "outputs": [
    {
     "data": {
      "text/plain": [
       "WilcoxonResult(statistic=295854.0, pvalue=4.6245915756000885e-05)"
      ]
     },
     "execution_count": 55,
     "metadata": {},
     "output_type": "execute_result"
    }
   ],
   "source": [
    "stats.wilcoxon(df1[df1.hour > 22].velocity - m, alternative='greater')"
   ]
  },
  {
   "cell_type": "code",
   "execution_count": 56,
   "metadata": {},
   "outputs": [
    {
     "name": "stderr",
     "output_type": "stream",
     "text": [
      "/home/saci/hd/projetos/trajetorias/its_research/venvTraj/lib/python3.8/site-packages/scipy/stats/stats.py:7028: RuntimeWarning: divide by zero encountered in double_scalars\n",
      "  z = (bigu - meanrank) / sd\n",
      "/home/saci/hd/projetos/trajetorias/its_research/venvTraj/lib/python3.8/site-packages/scipy/stats/stats.py:7028: RuntimeWarning: divide by zero encountered in double_scalars\n",
      "  z = (bigu - meanrank) / sd\n"
     ]
    }
   ],
   "source": [
    "lh_vel = []\n",
    "lh_acc = []\n",
    "hours = df1.hour.unique()\n",
    "for h in hours:\n",
    "        lh_vel.append(stats.mannwhitneyu(df1[df1.hour <= h].velocity, df1[df1.hour > h].velocity)[1])\n",
    "        lh_acc.append(stats.mannwhitneyu(df1[df1.hour <= h].acc, df1[df1.hour > h].acc)[1])"
   ]
  },
  {
   "cell_type": "code",
   "execution_count": 57,
   "metadata": {},
   "outputs": [
    {
     "data": {
      "text/plain": [
       "<AxesSubplot:>"
      ]
     },
     "execution_count": 57,
     "metadata": {},
     "output_type": "execute_result"
    },
    {
     "data": {
      "image/png": "[encoded data removed]",
      "text/plain": [
       "<Figure size 432x288 with 1 Axes>"
      ]
     },
     "metadata": {
      "needs_background": "light"
     },
     "output_type": "display_data"
    }
   ],
   "source": [
    "pd.DataFrame(data={'pvalues_vel':lh_vel, 'pvalues_acc':lh_acc}, index=hours).plot(kind='bar')"
   ]
  },
  {
   "cell_type": "markdown",
   "metadata": {},
   "source": [
    "The two-sided test has the _null hypothesis that the median of the differences is zero_ against the alternative that it is different from zero. \n",
    "\n",
    "The one-sided test has the null hypothesis that the median is positive against the alternative that it is negative (alternative == 'less')\n",
    "\n",
    ", or vice versa (alternative == 'greater.').\n",
    "\n",
    "The hypothesized sample median is equal to theoretical value"
   ]
  },
  {
   "cell_type": "code",
   "execution_count": 58,
   "metadata": {},
   "outputs": [],
   "source": [
    "lt_vel = []\n",
    "lt_acc = []\n",
    "trajs = df1.ID.unique()\n",
    "mv = df1.velocity.median()\n",
    "ma = df1.acc.median()\n",
    "for t in trajs:\n",
    "    #stats.wilcoxon(df1[df1.hour > 22].velocity - m, alternative='greater')\n",
    "    lt_vel.append(stats.wilcoxon(df1[df1.ID == t].velocity - mv, alternative='two-sided')[1])\n",
    "    lt_acc.append(stats.wilcoxon(df1[df1.ID == t].acc - mv, alternative='two-sided')[1])"
   ]
  },
  {
   "cell_type": "code",
   "execution_count": 59,
   "metadata": {},
   "outputs": [],
   "source": [
    "dfp = pd.DataFrame(data={'pvalues_vel':lt_vel, 'pvalues_acc':lt_acc}, index=trajs)\n",
    "diff_median = dfp[(dfp.pvalues_vel < 0.05) | (dfp.pvalues_acc < 0.05)].index\n",
    "#.plot(kind='bar', figsize=(30,10))\n"
   ]
  },
  {
   "cell_type": "code",
   "execution_count": 60,
   "metadata": {},
   "outputs": [],
   "source": [
    "lt_vel = []\n",
    "lt_acc = []\n",
    "trajs = df1.ID.unique()\n",
    "mv = df1.velocity.median()\n",
    "ma = df1.acc.median()\n",
    "df2 = df1[df1.ID.isin(diff_median)]\n",
    "for t in trajs:\n",
    "    #stats.wilcoxon(df1[df1.hour > 22].velocity - m, alternative='greater')\n",
    "    lt_vel.append(stats.wilcoxon(df2[df2.ID == t].velocity - mv, alternative='less')[1])\n",
    "    lt_acc.append(stats.wilcoxon(df2[df2.ID == t].acc - mv, alternative='less')[1])"
   ]
  },
  {
   "cell_type": "code",
   "execution_count": 61,
   "metadata": {},
   "outputs": [
    {
     "name": "stdout",
     "output_type": "stream",
     "text": [
      "\n",
      "Rejeitamos a hipótese de que estas trajetórias possuem a mediana de suas velocidades maior que a mediana de toda a amostra\n",
      "\n",
      "Int64Index([  0,   1,   2,   3,   4,   5,   6,  23,  39,  40,  41,  51,  52,\n",
      "             53,  54,  55,  56,  57,  58,  93,  94,  95,  96,  97,  98, 115,\n",
      "            179],\n",
      "           dtype='int64')\n"
     ]
    },
    {
     "data": {
      "image/png": "[encoded data removed]",
      "text/plain": [
       "<Figure size 2160x720 with 1 Axes>"
      ]
     },
     "metadata": {
      "needs_background": "light"
     },
     "output_type": "display_data"
    }
   ],
   "source": [
    "dfp = pd.DataFrame(data={'pvalues_vel':lt_vel, 'pvalues_acc':lt_acc}, index=trajs)\n",
    "dfp[(dfp.pvalues_vel < 0.05)].plot(kind='bar', figsize=(30,10))\n",
    "print()\n",
    "print('Rejeitamos a hipótese de que estas trajetórias possuem a mediana de suas velocidades maior que a mediana de toda a amostra')\n",
    "print()\n",
    "print(dfp[(dfp.pvalues_vel < 0.05)].index)\n"
   ]
  },
  {
   "cell_type": "code",
   "execution_count": null,
   "metadata": {},
   "outputs": [],
   "source": []
  },
  {
   "cell_type": "markdown",
   "metadata": {},
   "source": [
    "## Testar detecção de outliers MEAN FILTER"
   ]
  },
  {
   "cell_type": "code",
   "execution_count": 125,
   "metadata": {},
   "outputs": [],
   "source": [
    "df['MF_dist_from_old_point'] = df['dist_from_old_point'].rolling(5, min_periods=1).mean()\n",
    "df['MDF_dist_from_old_point'] = df['dist_from_old_point'].rolling(5, min_periods=1).median()"
   ]
  },
  {
   "cell_type": "code",
   "execution_count": 145,
   "metadata": {},
   "outputs": [],
   "source": [
    "df['MF_vel'] = 0\n",
    "df['MF_vel'] = df['MF_dist_from_old_point'] / df['time_from_old_point']\n",
    "df[df.MF_vel == np.inf].time_from_old_point.unique()"
   ]
  },
  {
   "cell_type": "code",
   "execution_count": 127,
   "metadata": {},
   "outputs": [
    {
     "data": {
      "text/plain": [
       "array([0.])"
      ]
     },
     "execution_count": 127,
     "metadata": {},
     "output_type": "execute_result"
    }
   ],
   "source": [
    "df['MDF_vel'] = 0\n",
    "df['MDF_vel'] = df['MDF_dist_from_old_point'] / df['time_from_old_point']\n",
    "df[df.MF_vel == np.inf].time_from_old_point.unique()"
   ]
  },
  {
   "cell_type": "code",
   "execution_count": 168,
   "metadata": {},
   "outputs": [],
   "source": [
    "df.MF_vel = df.MF_vel.where(df.MF_vel != np.inf,0)\n",
    "df.MDF_vel = df.MDF_vel.where(df.MDF_vel != np.inf,0)\n",
    "df['MF_acc'] = df['MF_vel'] * (1/df['time_from_old_point'])\n",
    "df['MDF_acc'] = df['MDF_vel'] * (1/df['time_from_old_point'])\n",
    "df.MF_acc = df.MF_acc.where(df.MF_acc != np.inf,0)\n",
    "df.MDF_acc = df.MDF_acc.where(df.MDF_acc != np.inf,0)\n",
    "df['MF_acc'].fillna(0, inplace=True)\n",
    "df['MDF_acc'].fillna(0, inplace=True)\n",
    "df['MF_vel'].fillna(0, inplace=True)\n",
    "df['MDF_vel'].fillna(0, inplace=True)"
   ]
  },
  {
   "cell_type": "code",
   "execution_count": 169,
   "metadata": {},
   "outputs": [
    {
     "data": {
      "text/html": [
       "<div>\n",
       "<style scoped>\n",
       "    .dataframe tbody tr th:only-of-type {\n",
       "        vertical-align: middle;\n",
       "    }\n",
       "\n",
       "    .dataframe tbody tr th {\n",
       "        vertical-align: top;\n",
       "    }\n",
       "\n",
       "    .dataframe thead th {\n",
       "        text-align: right;\n",
       "    }\n",
       "</style>\n",
       "<table border=\"1\" class=\"dataframe\">\n",
       "  <thead>\n",
       "    <tr style=\"text-align: right;\">\n",
       "      <th></th>\n",
       "      <th>timestamp</th>\n",
       "      <th>line_id</th>\n",
       "      <th>journey_id</th>\n",
       "      <th>time_frame</th>\n",
       "      <th>vehicle_journey_id</th>\n",
       "      <th>operator</th>\n",
       "      <th>congestion</th>\n",
       "      <th>lng</th>\n",
       "      <th>lat</th>\n",
       "      <th>delay</th>\n",
       "      <th>block_id</th>\n",
       "      <th>vehicle_id</th>\n",
       "      <th>stop_id</th>\n",
       "      <th>stop</th>\n",
       "      <th>velocity</th>\n",
       "      <th>acc</th>\n",
       "      <th>dist_from_old_point</th>\n",
       "      <th>time_from_old_point</th>\n",
       "      <th>datetime</th>\n",
       "      <th>hour</th>\n",
       "      <th>day</th>\n",
       "      <th>ID</th>\n",
       "      <th>outlier</th>\n",
       "      <th>outlier_norm</th>\n",
       "      <th>outlier2</th>\n",
       "      <th>outlier2_norm</th>\n",
       "      <th>MF_dist_from_old_position</th>\n",
       "      <th>MF_dist_from_old_point</th>\n",
       "      <th>MF_vel</th>\n",
       "      <th>outlier_MF</th>\n",
       "      <th>MDF_dist_from_old_point</th>\n",
       "      <th>MDF_vel</th>\n",
       "      <th>MF_acc</th>\n",
       "      <th>MDF_acc</th>\n",
       "    </tr>\n",
       "  </thead>\n",
       "  <tbody>\n",
       "  </tbody>\n",
       "</table>\n",
       "</div>"
      ],
      "text/plain": [
       "Empty DataFrame\n",
       "Columns: [timestamp, line_id, journey_id, time_frame, vehicle_journey_id, operator, congestion, lng, lat, delay, block_id, vehicle_id, stop_id, stop, velocity, acc, dist_from_old_point, time_from_old_point, datetime, hour, day, ID, outlier, outlier_norm, outlier2, outlier2_norm, MF_dist_from_old_position, MF_dist_from_old_point, MF_vel, outlier_MF, MDF_dist_from_old_point, MDF_vel, MF_acc, MDF_acc]\n",
       "Index: []"
      ]
     },
     "execution_count": 169,
     "metadata": {},
     "output_type": "execute_result"
    }
   ],
   "source": [
    "df[df.MDF_vel.isna()]"
   ]
  },
  {
   "cell_type": "code",
   "execution_count": 173,
   "metadata": {},
   "outputs": [
    {
     "data": {
      "text/plain": [
       "<AxesSubplot:>"
      ]
     },
     "execution_count": 173,
     "metadata": {},
     "output_type": "execute_result"
    },
    {
     "data": {
      "image/png": "[encoded data removed]",
      "text/plain": [
       "<Figure size 432x288 with 1 Axes>"
      ]
     },
     "metadata": {
      "needs_background": "light"
     },
     "output_type": "display_data"
    }
   ],
   "source": [
    "df[['velocity', 'MF_vel', 'MDF_vel']].plot(kind='box')"
   ]
  },
  {
   "cell_type": "code",
   "execution_count": 174,
   "metadata": {},
   "outputs": [],
   "source": [
    "feats = ['velocity','acc']\n",
    "feats_MF = ['MF_vel', 'MF_acc']\n",
    "feats_MDF = ['MDF_vel', 'MDF_acc']"
   ]
  },
  {
   "cell_type": "code",
   "execution_count": 175,
   "metadata": {},
   "outputs": [],
   "source": [
    "rng = np.random.RandomState(42)\n",
    "clf = IsolationForest(max_samples=100, random_state=rng)\n",
    "clf.fit(df[feats_MF])\n",
    "scores = clf.predict(df[feats_MF])\n",
    "df['outlier_MF'] = scores"
   ]
  },
  {
   "cell_type": "code",
   "execution_count": 179,
   "metadata": {},
   "outputs": [],
   "source": [
    "rng = np.random.RandomState(42)\n",
    "clf = IsolationForest(max_samples=100, random_state=rng)\n",
    "clf.fit(df[feats])\n",
    "scores = clf.predict(df[feats])\n",
    "df['outlier_MDF'] = scores"
   ]
  },
  {
   "cell_type": "code",
   "execution_count": 182,
   "metadata": {},
   "outputs": [
    {
     "data": {
      "text/plain": [
       "<AxesSubplot:>"
      ]
     },
     "execution_count": 182,
     "metadata": {},
     "output_type": "execute_result"
    },
    {
     "data": {
      "image/png": "[encoded data removed]",
      "text/plain": [
       "<Figure size 432x288 with 1 Axes>"
      ]
     },
     "metadata": {
      "needs_background": "light"
     },
     "output_type": "display_data"
    }
   ],
   "source": [
    "df[df.outlier== 1][feats].plot(kind='box')"
   ]
  },
  {
   "cell_type": "code",
   "execution_count": 183,
   "metadata": {},
   "outputs": [
    {
     "data": {
      "text/plain": [
       "<AxesSubplot:>"
      ]
     },
     "execution_count": 183,
     "metadata": {},
     "output_type": "execute_result"
    },
    {
     "data": {
      "image/png": "[encoded data removed]",
      "text/plain": [
       "<Figure size 432x288 with 1 Axes>"
      ]
     },
     "metadata": {
      "needs_background": "light"
     },
     "output_type": "display_data"
    }
   ],
   "source": [
    "df[df.outlier_MF== 1][feats_MF].plot(kind='box')"
   ]
  },
  {
   "cell_type": "code",
   "execution_count": 184,
   "metadata": {
    "scrolled": true
   },
   "outputs": [
    {
     "data": {
      "text/plain": [
       "<AxesSubplot:>"
      ]
     },
     "execution_count": 184,
     "metadata": {},
     "output_type": "execute_result"
    },
    {
     "data": {
      "image/png": "[encoded data removed]",
      "text/plain": [
       "<Figure size 432x288 with 1 Axes>"
      ]
     },
     "metadata": {
      "needs_background": "light"
     },
     "output_type": "display_data"
    }
   ],
   "source": [
    "df[df.outlier_MDF== 1][feats_MDF].plot(kind='box')"
   ]
  },
  {
   "cell_type": "code",
   "execution_count": null,
   "metadata": {},
   "outputs": [],
   "source": []
  },
  {
   "cell_type": "code",
   "execution_count": null,
   "metadata": {},
   "outputs": [],
   "source": []
  },
  {
   "cell_type": "code",
   "execution_count": null,
   "metadata": {},
   "outputs": [],
   "source": []
  },
  {
   "cell_type": "code",
   "execution_count": 188,
   "metadata": {},
   "outputs": [
    {
     "data": {
      "text/plain": [
       "timestamp                            object\n",
       "line_id                              string\n",
       "journey_id                           string\n",
       "time_frame                           string\n",
       "vehicle_journey_id                   string\n",
       "operator                             string\n",
       "congestion                           object\n",
       "lng                                  object\n",
       "lat                                  object\n",
       "delay                                object\n",
       "block_id                           category\n",
       "vehicle_id                           string\n",
       "stop_id                            category\n",
       "stop                                   bool\n",
       "velocity                            float64\n",
       "acc                                 float64\n",
       "dist_from_old_point                 float64\n",
       "time_from_old_point                 float64\n",
       "datetime                     datetime64[ns]\n",
       "hour                                  int64\n",
       "day                                   int64\n",
       "ID                                    int16\n",
       "outlier                               int64\n",
       "outlier_norm                          int64\n",
       "outlier2                              int64\n",
       "outlier2_norm                         int64\n",
       "MF_dist_from_old_position           float64\n",
       "MF_dist_from_old_point              float64\n",
       "MF_vel                              float64\n",
       "outlier_MF                            int64\n",
       "MDF_dist_from_old_point             float64\n",
       "MDF_vel                             float64\n",
       "MF_acc                              float64\n",
       "MDF_acc                             float64\n",
       "outlier_MDF                           int64\n",
       "dtype: object"
      ]
     },
     "execution_count": 188,
     "metadata": {},
     "output_type": "execute_result"
    }
   ],
   "source": []
  },
  {
   "cell_type": "code",
   "execution_count": 190,
   "metadata": {
    "scrolled": false
   },
   "outputs": [
    {
     "name": "stderr",
     "output_type": "stream",
     "text": [
      "<ipython-input-190-2df71206eb0f>:11: RuntimeWarning: invalid value encountered in double_scalars\n",
      "  scale = x/lon\n",
      "/home/saci/hd/projetos/trajetorias/its_research/venvTraj/lib/python3.8/site-packages/pandas/core/frame.py:3065: SettingWithCopyWarning: \n",
      "A value is trying to be set on a copy of a slice from a DataFrame.\n",
      "Try using .loc[row_indexer,col_indexer] = value instead\n",
      "\n",
      "See the caveats in the documentation: https://pandas.pydata.org/pandas-docs/stable/user_guide/indexing.html#returning-a-view-versus-a-copy\n",
      "  self[k1] = value[k2]\n"
     ]
    },
    {
     "ename": "ValueError",
     "evalue": "Out of range float values are not JSON compliant",
     "output_type": "error",
     "traceback": [
      "\u001b[0;31m---------------------------------------------------------------------------\u001b[0m",
      "\u001b[0;31mValueError\u001b[0m                                Traceback (most recent call last)",
      "\u001b[0;32m<ipython-input-190-2df71206eb0f>\u001b[0m in \u001b[0;36m<module>\u001b[0;34m\u001b[0m\n\u001b[1;32m     46\u001b[0m \u001b[0mp\u001b[0m \u001b[0;34m=\u001b[0m \u001b[0mplot_fig\u001b[0m\u001b[0;34m(\u001b[0m\u001b[0mdata_line\u001b[0m\u001b[0;34m,\u001b[0m \u001b[0;34m'black'\u001b[0m\u001b[0;34m)\u001b[0m\u001b[0;34m\u001b[0m\u001b[0;34m\u001b[0m\u001b[0m\n\u001b[1;32m     47\u001b[0m \u001b[0;34m\u001b[0m\u001b[0m\n\u001b[0;32m---> 48\u001b[0;31m \u001b[0mshow\u001b[0m\u001b[0;34m(\u001b[0m\u001b[0mp\u001b[0m\u001b[0;34m)\u001b[0m\u001b[0;34m\u001b[0m\u001b[0;34m\u001b[0m\u001b[0m\n\u001b[0m",
      "\u001b[0;32m~/hd/projetos/trajetorias/its_research/venvTraj/lib/python3.8/site-packages/bokeh/io/showing.py\u001b[0m in \u001b[0;36mshow\u001b[0;34m(obj, browser, new, notebook_handle, notebook_url, **kw)\u001b[0m\n\u001b[1;32m    137\u001b[0m         \u001b[0;32mreturn\u001b[0m \u001b[0mrun_notebook_hook\u001b[0m\u001b[0;34m(\u001b[0m\u001b[0mstate\u001b[0m\u001b[0;34m.\u001b[0m\u001b[0mnotebook_type\u001b[0m\u001b[0;34m,\u001b[0m \u001b[0;34m'app'\u001b[0m\u001b[0;34m,\u001b[0m \u001b[0mobj\u001b[0m\u001b[0;34m,\u001b[0m \u001b[0mstate\u001b[0m\u001b[0;34m,\u001b[0m \u001b[0mnotebook_url\u001b[0m\u001b[0;34m,\u001b[0m \u001b[0;34m**\u001b[0m\u001b[0mkw\u001b[0m\u001b[0;34m)\u001b[0m\u001b[0;34m\u001b[0m\u001b[0;34m\u001b[0m\u001b[0m\n\u001b[1;32m    138\u001b[0m \u001b[0;34m\u001b[0m\u001b[0m\n\u001b[0;32m--> 139\u001b[0;31m     \u001b[0;32mreturn\u001b[0m \u001b[0m_show_with_state\u001b[0m\u001b[0;34m(\u001b[0m\u001b[0mobj\u001b[0m\u001b[0;34m,\u001b[0m \u001b[0mstate\u001b[0m\u001b[0;34m,\u001b[0m \u001b[0mbrowser\u001b[0m\u001b[0;34m,\u001b[0m \u001b[0mnew\u001b[0m\u001b[0;34m,\u001b[0m \u001b[0mnotebook_handle\u001b[0m\u001b[0;34m=\u001b[0m\u001b[0mnotebook_handle\u001b[0m\u001b[0;34m)\u001b[0m\u001b[0;34m\u001b[0m\u001b[0;34m\u001b[0m\u001b[0m\n\u001b[0m\u001b[1;32m    140\u001b[0m \u001b[0;34m\u001b[0m\u001b[0m\n\u001b[1;32m    141\u001b[0m \u001b[0;31m#-----------------------------------------------------------------------------\u001b[0m\u001b[0;34m\u001b[0m\u001b[0;34m\u001b[0m\u001b[0;34m\u001b[0m\u001b[0m\n",
      "\u001b[0;32m~/hd/projetos/trajetorias/its_research/venvTraj/lib/python3.8/site-packages/bokeh/io/showing.py\u001b[0m in \u001b[0;36m_show_with_state\u001b[0;34m(obj, state, browser, new, notebook_handle)\u001b[0m\n\u001b[1;32m    171\u001b[0m \u001b[0;34m\u001b[0m\u001b[0m\n\u001b[1;32m    172\u001b[0m     \u001b[0;32mif\u001b[0m \u001b[0mstate\u001b[0m\u001b[0;34m.\u001b[0m\u001b[0mnotebook\u001b[0m\u001b[0;34m:\u001b[0m\u001b[0;34m\u001b[0m\u001b[0;34m\u001b[0m\u001b[0m\n\u001b[0;32m--> 173\u001b[0;31m         \u001b[0mcomms_handle\u001b[0m \u001b[0;34m=\u001b[0m \u001b[0mrun_notebook_hook\u001b[0m\u001b[0;34m(\u001b[0m\u001b[0mstate\u001b[0m\u001b[0;34m.\u001b[0m\u001b[0mnotebook_type\u001b[0m\u001b[0;34m,\u001b[0m \u001b[0;34m'doc'\u001b[0m\u001b[0;34m,\u001b[0m \u001b[0mobj\u001b[0m\u001b[0;34m,\u001b[0m \u001b[0mstate\u001b[0m\u001b[0;34m,\u001b[0m \u001b[0mnotebook_handle\u001b[0m\u001b[0;34m)\u001b[0m\u001b[0;34m\u001b[0m\u001b[0;34m\u001b[0m\u001b[0m\n\u001b[0m\u001b[1;32m    174\u001b[0m         \u001b[0mshown\u001b[0m \u001b[0;34m=\u001b[0m \u001b[0;32mTrue\u001b[0m\u001b[0;34m\u001b[0m\u001b[0;34m\u001b[0m\u001b[0m\n\u001b[1;32m    175\u001b[0m \u001b[0;34m\u001b[0m\u001b[0m\n",
      "\u001b[0;32m~/hd/projetos/trajetorias/its_research/venvTraj/lib/python3.8/site-packages/bokeh/io/notebook.py\u001b[0m in \u001b[0;36mrun_notebook_hook\u001b[0;34m(notebook_type, action, *args, **kw)\u001b[0m\n\u001b[1;32m    296\u001b[0m     \u001b[0;32mif\u001b[0m \u001b[0m_HOOKS\u001b[0m\u001b[0;34m[\u001b[0m\u001b[0mnotebook_type\u001b[0m\u001b[0;34m]\u001b[0m\u001b[0;34m[\u001b[0m\u001b[0maction\u001b[0m\u001b[0;34m]\u001b[0m \u001b[0;32mis\u001b[0m \u001b[0;32mNone\u001b[0m\u001b[0;34m:\u001b[0m\u001b[0;34m\u001b[0m\u001b[0;34m\u001b[0m\u001b[0m\n\u001b[1;32m    297\u001b[0m         \u001b[0;32mraise\u001b[0m \u001b[0mRuntimeError\u001b[0m\u001b[0;34m(\u001b[0m\u001b[0;34m\"notebook hook for %r did not install %r action\"\u001b[0m \u001b[0;34m%\u001b[0m \u001b[0mnotebook_type\u001b[0m\u001b[0;34m,\u001b[0m \u001b[0maction\u001b[0m\u001b[0;34m)\u001b[0m\u001b[0;34m\u001b[0m\u001b[0;34m\u001b[0m\u001b[0m\n\u001b[0;32m--> 298\u001b[0;31m     \u001b[0;32mreturn\u001b[0m \u001b[0m_HOOKS\u001b[0m\u001b[0;34m[\u001b[0m\u001b[0mnotebook_type\u001b[0m\u001b[0;34m]\u001b[0m\u001b[0;34m[\u001b[0m\u001b[0maction\u001b[0m\u001b[0;34m]\u001b[0m\u001b[0;34m(\u001b[0m\u001b[0;34m*\u001b[0m\u001b[0margs\u001b[0m\u001b[0;34m,\u001b[0m \u001b[0;34m**\u001b[0m\u001b[0mkw\u001b[0m\u001b[0;34m)\u001b[0m\u001b[0;34m\u001b[0m\u001b[0;34m\u001b[0m\u001b[0m\n\u001b[0m\u001b[1;32m    299\u001b[0m \u001b[0;34m\u001b[0m\u001b[0m\n\u001b[1;32m    300\u001b[0m \u001b[0;31m#-----------------------------------------------------------------------------\u001b[0m\u001b[0;34m\u001b[0m\u001b[0;34m\u001b[0m\u001b[0;34m\u001b[0m\u001b[0m\n",
      "\u001b[0;32m~/hd/projetos/trajetorias/its_research/venvTraj/lib/python3.8/site-packages/bokeh/io/notebook.py\u001b[0m in \u001b[0;36mshow_doc\u001b[0;34m(obj, state, notebook_handle)\u001b[0m\n\u001b[1;32m    506\u001b[0m     \u001b[0;32mfrom\u001b[0m \u001b[0;34m.\u001b[0m\u001b[0;34m.\u001b[0m\u001b[0membed\u001b[0m\u001b[0;34m.\u001b[0m\u001b[0mnotebook\u001b[0m \u001b[0;32mimport\u001b[0m \u001b[0mnotebook_content\u001b[0m\u001b[0;34m\u001b[0m\u001b[0;34m\u001b[0m\u001b[0m\n\u001b[1;32m    507\u001b[0m     \u001b[0mcomms_target\u001b[0m \u001b[0;34m=\u001b[0m \u001b[0mmake_id\u001b[0m\u001b[0;34m(\u001b[0m\u001b[0;34m)\u001b[0m \u001b[0;32mif\u001b[0m \u001b[0mnotebook_handle\u001b[0m \u001b[0;32melse\u001b[0m \u001b[0;32mNone\u001b[0m\u001b[0;34m\u001b[0m\u001b[0;34m\u001b[0m\u001b[0m\n\u001b[0;32m--> 508\u001b[0;31m     \u001b[0;34m(\u001b[0m\u001b[0mscript\u001b[0m\u001b[0;34m,\u001b[0m \u001b[0mdiv\u001b[0m\u001b[0;34m,\u001b[0m \u001b[0mcell_doc\u001b[0m\u001b[0;34m)\u001b[0m \u001b[0;34m=\u001b[0m \u001b[0mnotebook_content\u001b[0m\u001b[0;34m(\u001b[0m\u001b[0mobj\u001b[0m\u001b[0;34m,\u001b[0m \u001b[0mcomms_target\u001b[0m\u001b[0;34m)\u001b[0m\u001b[0;34m\u001b[0m\u001b[0;34m\u001b[0m\u001b[0m\n\u001b[0m\u001b[1;32m    509\u001b[0m \u001b[0;34m\u001b[0m\u001b[0m\n\u001b[1;32m    510\u001b[0m     \u001b[0mpublish_display_data\u001b[0m\u001b[0;34m(\u001b[0m\u001b[0;34m{\u001b[0m\u001b[0mHTML_MIME_TYPE\u001b[0m\u001b[0;34m:\u001b[0m \u001b[0mdiv\u001b[0m\u001b[0;34m}\u001b[0m\u001b[0;34m)\u001b[0m\u001b[0;34m\u001b[0m\u001b[0;34m\u001b[0m\u001b[0m\n",
      "\u001b[0;32m~/hd/projetos/trajetorias/its_research/venvTraj/lib/python3.8/site-packages/bokeh/embed/notebook.py\u001b[0m in \u001b[0;36mnotebook_content\u001b[0;34m(model, notebook_comms_target, theme)\u001b[0m\n\u001b[1;32m     83\u001b[0m     \u001b[0;31m# has models with the same IDs as they were started with\u001b[0m\u001b[0;34m\u001b[0m\u001b[0;34m\u001b[0m\u001b[0;34m\u001b[0m\u001b[0m\n\u001b[1;32m     84\u001b[0m     \u001b[0;32mwith\u001b[0m \u001b[0mOutputDocumentFor\u001b[0m\u001b[0;34m(\u001b[0m\u001b[0;34m[\u001b[0m\u001b[0mmodel\u001b[0m\u001b[0;34m]\u001b[0m\u001b[0;34m,\u001b[0m \u001b[0mapply_theme\u001b[0m\u001b[0;34m=\u001b[0m\u001b[0mtheme\u001b[0m\u001b[0;34m,\u001b[0m \u001b[0malways_new\u001b[0m\u001b[0;34m=\u001b[0m\u001b[0;32mTrue\u001b[0m\u001b[0;34m)\u001b[0m \u001b[0;32mas\u001b[0m \u001b[0mnew_doc\u001b[0m\u001b[0;34m:\u001b[0m\u001b[0;34m\u001b[0m\u001b[0;34m\u001b[0m\u001b[0m\n\u001b[0;32m---> 85\u001b[0;31m         \u001b[0;34m(\u001b[0m\u001b[0mdocs_json\u001b[0m\u001b[0;34m,\u001b[0m \u001b[0;34m[\u001b[0m\u001b[0mrender_item\u001b[0m\u001b[0;34m]\u001b[0m\u001b[0;34m)\u001b[0m \u001b[0;34m=\u001b[0m \u001b[0mstandalone_docs_json_and_render_items\u001b[0m\u001b[0;34m(\u001b[0m\u001b[0;34m[\u001b[0m\u001b[0mmodel\u001b[0m\u001b[0;34m]\u001b[0m\u001b[0;34m)\u001b[0m\u001b[0;34m\u001b[0m\u001b[0;34m\u001b[0m\u001b[0m\n\u001b[0m\u001b[1;32m     86\u001b[0m \u001b[0;34m\u001b[0m\u001b[0m\n\u001b[1;32m     87\u001b[0m     \u001b[0mdiv\u001b[0m \u001b[0;34m=\u001b[0m \u001b[0mdiv_for_render_item\u001b[0m\u001b[0;34m(\u001b[0m\u001b[0mrender_item\u001b[0m\u001b[0;34m)\u001b[0m\u001b[0;34m\u001b[0m\u001b[0;34m\u001b[0m\u001b[0m\n",
      "\u001b[0;32m~/hd/projetos/trajetorias/its_research/venvTraj/lib/python3.8/site-packages/bokeh/embed/util.py\u001b[0m in \u001b[0;36mstandalone_docs_json_and_render_items\u001b[0;34m(models, suppress_callback_warning)\u001b[0m\n\u001b[1;32m    292\u001b[0m     \u001b[0mdocs_json\u001b[0m \u001b[0;34m=\u001b[0m \u001b[0;34m{\u001b[0m\u001b[0;34m}\u001b[0m\u001b[0;34m\u001b[0m\u001b[0;34m\u001b[0m\u001b[0m\n\u001b[1;32m    293\u001b[0m     \u001b[0;32mfor\u001b[0m \u001b[0mdoc\u001b[0m\u001b[0;34m,\u001b[0m \u001b[0;34m(\u001b[0m\u001b[0mdocid\u001b[0m\u001b[0;34m,\u001b[0m \u001b[0m_\u001b[0m\u001b[0;34m)\u001b[0m \u001b[0;32min\u001b[0m \u001b[0mdocs\u001b[0m\u001b[0;34m.\u001b[0m\u001b[0mitems\u001b[0m\u001b[0;34m(\u001b[0m\u001b[0;34m)\u001b[0m\u001b[0;34m:\u001b[0m\u001b[0;34m\u001b[0m\u001b[0;34m\u001b[0m\u001b[0m\n\u001b[0;32m--> 294\u001b[0;31m         \u001b[0mdocs_json\u001b[0m\u001b[0;34m[\u001b[0m\u001b[0mdocid\u001b[0m\u001b[0;34m]\u001b[0m \u001b[0;34m=\u001b[0m \u001b[0mdoc\u001b[0m\u001b[0;34m.\u001b[0m\u001b[0mto_json\u001b[0m\u001b[0;34m(\u001b[0m\u001b[0;34m)\u001b[0m\u001b[0;34m\u001b[0m\u001b[0;34m\u001b[0m\u001b[0m\n\u001b[0m\u001b[1;32m    295\u001b[0m \u001b[0;34m\u001b[0m\u001b[0m\n\u001b[1;32m    296\u001b[0m     \u001b[0mrender_items\u001b[0m \u001b[0;34m=\u001b[0m \u001b[0;34m[\u001b[0m\u001b[0;34m]\u001b[0m\u001b[0;34m\u001b[0m\u001b[0;34m\u001b[0m\u001b[0m\n",
      "\u001b[0;32m~/hd/projetos/trajetorias/its_research/venvTraj/lib/python3.8/site-packages/bokeh/document/document.py\u001b[0m in \u001b[0;36mto_json\u001b[0;34m(self)\u001b[0m\n\u001b[1;32m    899\u001b[0m         \u001b[0;31m# this is a total hack to go via a string, needed because\u001b[0m\u001b[0;34m\u001b[0m\u001b[0;34m\u001b[0m\u001b[0;34m\u001b[0m\u001b[0m\n\u001b[1;32m    900\u001b[0m         \u001b[0;31m# our BokehJSONEncoder goes straight to a string.\u001b[0m\u001b[0;34m\u001b[0m\u001b[0;34m\u001b[0m\u001b[0;34m\u001b[0m\u001b[0m\n\u001b[0;32m--> 901\u001b[0;31m         \u001b[0mdoc_json\u001b[0m \u001b[0;34m=\u001b[0m \u001b[0mself\u001b[0m\u001b[0;34m.\u001b[0m\u001b[0mto_json_string\u001b[0m\u001b[0;34m(\u001b[0m\u001b[0;34m)\u001b[0m\u001b[0;34m\u001b[0m\u001b[0;34m\u001b[0m\u001b[0m\n\u001b[0m\u001b[1;32m    902\u001b[0m         \u001b[0;32mreturn\u001b[0m \u001b[0mloads\u001b[0m\u001b[0;34m(\u001b[0m\u001b[0mdoc_json\u001b[0m\u001b[0;34m)\u001b[0m\u001b[0;34m\u001b[0m\u001b[0;34m\u001b[0m\u001b[0m\n\u001b[1;32m    903\u001b[0m \u001b[0;34m\u001b[0m\u001b[0m\n",
      "\u001b[0;32m~/hd/projetos/trajetorias/its_research/venvTraj/lib/python3.8/site-packages/bokeh/document/document.py\u001b[0m in \u001b[0;36mto_json_string\u001b[0;34m(self, indent)\u001b[0m\n\u001b[1;32m    928\u001b[0m         }\n\u001b[1;32m    929\u001b[0m \u001b[0;34m\u001b[0m\u001b[0m\n\u001b[0;32m--> 930\u001b[0;31m         \u001b[0;32mreturn\u001b[0m \u001b[0mserialize_json\u001b[0m\u001b[0;34m(\u001b[0m\u001b[0mjson\u001b[0m\u001b[0;34m,\u001b[0m \u001b[0mindent\u001b[0m\u001b[0;34m=\u001b[0m\u001b[0mindent\u001b[0m\u001b[0;34m)\u001b[0m\u001b[0;34m\u001b[0m\u001b[0;34m\u001b[0m\u001b[0m\n\u001b[0m\u001b[1;32m    931\u001b[0m \u001b[0;34m\u001b[0m\u001b[0m\n\u001b[1;32m    932\u001b[0m     \u001b[0;32mdef\u001b[0m \u001b[0mvalidate\u001b[0m\u001b[0;34m(\u001b[0m\u001b[0mself\u001b[0m\u001b[0;34m)\u001b[0m\u001b[0;34m:\u001b[0m\u001b[0;34m\u001b[0m\u001b[0;34m\u001b[0m\u001b[0m\n",
      "\u001b[0;32m~/hd/projetos/trajetorias/its_research/venvTraj/lib/python3.8/site-packages/bokeh/core/json_encoder.py\u001b[0m in \u001b[0;36mserialize_json\u001b[0;34m(obj, pretty, indent, **kwargs)\u001b[0m\n\u001b[1;32m    164\u001b[0m         \u001b[0mindent\u001b[0m \u001b[0;34m=\u001b[0m \u001b[0;36m2\u001b[0m\u001b[0;34m\u001b[0m\u001b[0;34m\u001b[0m\u001b[0m\n\u001b[1;32m    165\u001b[0m \u001b[0;34m\u001b[0m\u001b[0m\n\u001b[0;32m--> 166\u001b[0;31m     \u001b[0;32mreturn\u001b[0m \u001b[0mjson\u001b[0m\u001b[0;34m.\u001b[0m\u001b[0mdumps\u001b[0m\u001b[0;34m(\u001b[0m\u001b[0mobj\u001b[0m\u001b[0;34m,\u001b[0m \u001b[0mcls\u001b[0m\u001b[0;34m=\u001b[0m\u001b[0mBokehJSONEncoder\u001b[0m\u001b[0;34m,\u001b[0m \u001b[0mallow_nan\u001b[0m\u001b[0;34m=\u001b[0m\u001b[0;32mFalse\u001b[0m\u001b[0;34m,\u001b[0m \u001b[0mindent\u001b[0m\u001b[0;34m=\u001b[0m\u001b[0mindent\u001b[0m\u001b[0;34m,\u001b[0m \u001b[0mseparators\u001b[0m\u001b[0;34m=\u001b[0m\u001b[0mseparators\u001b[0m\u001b[0;34m,\u001b[0m \u001b[0msort_keys\u001b[0m\u001b[0;34m=\u001b[0m\u001b[0;32mTrue\u001b[0m\u001b[0;34m,\u001b[0m \u001b[0;34m**\u001b[0m\u001b[0mkwargs\u001b[0m\u001b[0;34m)\u001b[0m\u001b[0;34m\u001b[0m\u001b[0;34m\u001b[0m\u001b[0m\n\u001b[0m\u001b[1;32m    167\u001b[0m \u001b[0;34m\u001b[0m\u001b[0m\n\u001b[1;32m    168\u001b[0m \u001b[0;34m\u001b[0m\u001b[0m\n",
      "\u001b[0;32m/usr/lib/python3.8/json/__init__.py\u001b[0m in \u001b[0;36mdumps\u001b[0;34m(obj, skipkeys, ensure_ascii, check_circular, allow_nan, cls, indent, separators, default, sort_keys, **kw)\u001b[0m\n\u001b[1;32m    232\u001b[0m     \u001b[0;32mif\u001b[0m \u001b[0mcls\u001b[0m \u001b[0;32mis\u001b[0m \u001b[0;32mNone\u001b[0m\u001b[0;34m:\u001b[0m\u001b[0;34m\u001b[0m\u001b[0;34m\u001b[0m\u001b[0m\n\u001b[1;32m    233\u001b[0m         \u001b[0mcls\u001b[0m \u001b[0;34m=\u001b[0m \u001b[0mJSONEncoder\u001b[0m\u001b[0;34m\u001b[0m\u001b[0;34m\u001b[0m\u001b[0m\n\u001b[0;32m--> 234\u001b[0;31m     return cls(\n\u001b[0m\u001b[1;32m    235\u001b[0m         \u001b[0mskipkeys\u001b[0m\u001b[0;34m=\u001b[0m\u001b[0mskipkeys\u001b[0m\u001b[0;34m,\u001b[0m \u001b[0mensure_ascii\u001b[0m\u001b[0;34m=\u001b[0m\u001b[0mensure_ascii\u001b[0m\u001b[0;34m,\u001b[0m\u001b[0;34m\u001b[0m\u001b[0;34m\u001b[0m\u001b[0m\n\u001b[1;32m    236\u001b[0m         \u001b[0mcheck_circular\u001b[0m\u001b[0;34m=\u001b[0m\u001b[0mcheck_circular\u001b[0m\u001b[0;34m,\u001b[0m \u001b[0mallow_nan\u001b[0m\u001b[0;34m=\u001b[0m\u001b[0mallow_nan\u001b[0m\u001b[0;34m,\u001b[0m \u001b[0mindent\u001b[0m\u001b[0;34m=\u001b[0m\u001b[0mindent\u001b[0m\u001b[0;34m,\u001b[0m\u001b[0;34m\u001b[0m\u001b[0;34m\u001b[0m\u001b[0m\n",
      "\u001b[0;32m/usr/lib/python3.8/json/encoder.py\u001b[0m in \u001b[0;36mencode\u001b[0;34m(self, o)\u001b[0m\n\u001b[1;32m    197\u001b[0m         \u001b[0;31m# exceptions aren't as detailed.  The list call should be roughly\u001b[0m\u001b[0;34m\u001b[0m\u001b[0;34m\u001b[0m\u001b[0;34m\u001b[0m\u001b[0m\n\u001b[1;32m    198\u001b[0m         \u001b[0;31m# equivalent to the PySequence_Fast that ''.join() would do.\u001b[0m\u001b[0;34m\u001b[0m\u001b[0;34m\u001b[0m\u001b[0;34m\u001b[0m\u001b[0m\n\u001b[0;32m--> 199\u001b[0;31m         \u001b[0mchunks\u001b[0m \u001b[0;34m=\u001b[0m \u001b[0mself\u001b[0m\u001b[0;34m.\u001b[0m\u001b[0miterencode\u001b[0m\u001b[0;34m(\u001b[0m\u001b[0mo\u001b[0m\u001b[0;34m,\u001b[0m \u001b[0m_one_shot\u001b[0m\u001b[0;34m=\u001b[0m\u001b[0;32mTrue\u001b[0m\u001b[0;34m)\u001b[0m\u001b[0;34m\u001b[0m\u001b[0;34m\u001b[0m\u001b[0m\n\u001b[0m\u001b[1;32m    200\u001b[0m         \u001b[0;32mif\u001b[0m \u001b[0;32mnot\u001b[0m \u001b[0misinstance\u001b[0m\u001b[0;34m(\u001b[0m\u001b[0mchunks\u001b[0m\u001b[0;34m,\u001b[0m \u001b[0;34m(\u001b[0m\u001b[0mlist\u001b[0m\u001b[0;34m,\u001b[0m \u001b[0mtuple\u001b[0m\u001b[0;34m)\u001b[0m\u001b[0;34m)\u001b[0m\u001b[0;34m:\u001b[0m\u001b[0;34m\u001b[0m\u001b[0;34m\u001b[0m\u001b[0m\n\u001b[1;32m    201\u001b[0m             \u001b[0mchunks\u001b[0m \u001b[0;34m=\u001b[0m \u001b[0mlist\u001b[0m\u001b[0;34m(\u001b[0m\u001b[0mchunks\u001b[0m\u001b[0;34m)\u001b[0m\u001b[0;34m\u001b[0m\u001b[0;34m\u001b[0m\u001b[0m\n",
      "\u001b[0;32m/usr/lib/python3.8/json/encoder.py\u001b[0m in \u001b[0;36miterencode\u001b[0;34m(self, o, _one_shot)\u001b[0m\n\u001b[1;32m    255\u001b[0m                 \u001b[0mself\u001b[0m\u001b[0;34m.\u001b[0m\u001b[0mkey_separator\u001b[0m\u001b[0;34m,\u001b[0m \u001b[0mself\u001b[0m\u001b[0;34m.\u001b[0m\u001b[0mitem_separator\u001b[0m\u001b[0;34m,\u001b[0m \u001b[0mself\u001b[0m\u001b[0;34m.\u001b[0m\u001b[0msort_keys\u001b[0m\u001b[0;34m,\u001b[0m\u001b[0;34m\u001b[0m\u001b[0;34m\u001b[0m\u001b[0m\n\u001b[1;32m    256\u001b[0m                 self.skipkeys, _one_shot)\n\u001b[0;32m--> 257\u001b[0;31m         \u001b[0;32mreturn\u001b[0m \u001b[0m_iterencode\u001b[0m\u001b[0;34m(\u001b[0m\u001b[0mo\u001b[0m\u001b[0;34m,\u001b[0m \u001b[0;36m0\u001b[0m\u001b[0;34m)\u001b[0m\u001b[0;34m\u001b[0m\u001b[0;34m\u001b[0m\u001b[0m\n\u001b[0m\u001b[1;32m    258\u001b[0m \u001b[0;34m\u001b[0m\u001b[0m\n\u001b[1;32m    259\u001b[0m def _make_iterencode(markers, _default, _encoder, _indent, _floatstr,\n",
      "\u001b[0;31mValueError\u001b[0m: Out of range float values are not JSON compliant"
     ]
    }
   ],
   "source": [
    "data_line = df[df.ID == 49]\n",
    "\n",
    "def to_mercator(Coords):\n",
    "    Coordinates =  Coords\n",
    "    #literal_eval(Coords)        \n",
    "    lat = Coordinates[1]\n",
    "    lon = Coordinates[0]\n",
    "    \n",
    "    r_major = 6378137.000\n",
    "    x = r_major * math.radians(lon)\n",
    "    scale = x/lon\n",
    "    y = 180.0/math.pi * math.log(math.tan(math.pi/4.0 + \n",
    "        lat * (math.pi/180.0)/2.0)) * scale    \n",
    "    \n",
    "    return pd.Series((x, y))\n",
    "\n",
    "def plot_fig(df_x, color):\n",
    "    p = figure(x_axis_type=\"mercator\", y_axis_type=\"mercator\")\n",
    "    p.add_tile(get_provider(tile_provider))\n",
    "    #p.circle(\n",
    "    p.line(\n",
    "        x='lng_m',\n",
    "        y='lat_m',\n",
    "        color= color,\n",
    "        source=df_x\n",
    "    )\n",
    "    p.circle(\n",
    "        x='lng_m',\n",
    "        y='lat_m',\n",
    "        color= 'red',\n",
    "        source=df_x[df_x.outlier == -1]\n",
    "    )\n",
    "    p.circle(\n",
    "        x=df_x.iloc[0]['lng_m'],\n",
    "        y=df_x.iloc[0]['lat_m'],\n",
    "        color= 'blue',    \n",
    "    )\n",
    "    return (p)\n",
    "\n",
    "\n",
    "p = figure(x_axis_type=\"mercator\", y_axis_type=\"mercator\")\n",
    "p.add_tile(get_provider(tile_provider))\n",
    "\n",
    "data_line[['lng_m','lat_m']] = data_line[['lng', 'lat']].apply(to_mercator, axis=1)\n",
    "\n",
    "p = plot_fig(data_line, 'black')\n",
    "\n",
    "show(p)"
   ]
  }
 ],
 "metadata": {
  "kernelspec": {
   "display_name": "venvTraj",
   "language": "python",
   "name": "venvtraj"
  },
  "language_info": {
   "codemirror_mode": {
    "name": "ipython",
    "version": 3
   },
   "file_extension": ".py",
   "mimetype": "text/x-python",
   "name": "python",
   "nbconvert_exporter": "python",
   "pygments_lexer": "ipython3",
   "version": "3.8.5"
  }
 },
 "nbformat": 4,
 "nbformat_minor": 2
}
