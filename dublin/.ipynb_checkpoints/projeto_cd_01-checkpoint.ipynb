{
 "cells": [
  {
   "cell_type": "markdown",
   "metadata": {},
   "source": [
    "# Projeto da disciplina de Introdução à Ciência de Dados\n",
    "\n",
    "Estudante: Fernando de Barros (fbwn@cin.ufpe.br)"
   ]
  },
  {
   "cell_type": "markdown",
   "metadata": {},
   "source": [
    "## Especificação do Projeto 1\n",
    "1. Coletar Dados\n",
    "2. Pré-processamento\n",
    "    1. definição de tipos (pre-proc 1)\n",
    "    2. tratar dados ausentes (pre-proc 1)\n",
    "    3. normalização e discretização (pre-proc 1)\n",
    "    4. limpeza de dados (uni, bi e multivariado)\n",
    "3. Apresentar Estatisticas descritivas dos dados (com visualizações)\n",
    "4. Realizar teste de hipótese para comparação de valores de categorias e visualizar diferenças"
   ]
  },
  {
   "cell_type": "markdown",
   "metadata": {},
   "source": [
    "## TODO List\n",
    "[ ] Organizar o que já existe para apresentação\n",
    "\n",
    "[ ] Marcar minhas contribuições\n",
    "\n",
    "[ ] Listar o que falta para cumprir a especificação\n",
    "\n",
    "[ ] Deixar a abertura de arquivos mais \"clean\"\n",
    "\n",
    "[ ] Deixar a navegação por rows na forma nativa e não via for-index\n",
    "\n",
    "[ ] Adicionar validação de mínimo de pontos ao final da create_sentences"
   ]
  },
  {
   "cell_type": "markdown",
   "metadata": {},
   "source": [
    "## Carregamento das Bibliotecas e do Dataset"
   ]
  },
  {
   "cell_type": "code",
   "execution_count": 1,
   "metadata": {},
   "outputs": [
    {
     "data": {
      "text/html": [
       "\n",
       "    <div class=\"bk-root\">\n",
       "        <a href=\"https://bokeh.org\" target=\"_blank\" class=\"bk-logo bk-logo-small bk-logo-notebook\"></a>\n",
       "        <span id=\"1001\">Loading BokehJS ...</span>\n",
       "    </div>"
      ]
     },
     "metadata": {},
     "output_type": "display_data"
    },
    {
     "data": {
      "application/javascript": [
       "\n",
       "(function(root) {\n",
       "  function now() {\n",
       "    return new Date();\n",
       "  }\n",
       "\n",
       "  var force = true;\n",
       "\n",
       "  if (typeof root._bokeh_onload_callbacks === \"undefined\" || force === true) {\n",
       "    root._bokeh_onload_callbacks = [];\n",
       "    root._bokeh_is_loading = undefined;\n",
       "  }\n",
       "\n",
       "  var JS_MIME_TYPE = 'application/javascript';\n",
       "  var HTML_MIME_TYPE = 'text/html';\n",
       "  var EXEC_MIME_TYPE = 'application/vnd.bokehjs_exec.v0+json';\n",
       "  var CLASS_NAME = 'output_bokeh rendered_html';\n",
       "\n",
       "  /**\n",
       "   * Render data to the DOM node\n",
       "   */\n",
       "  function render(props, node) {\n",
       "    var script = document.createElement(\"script\");\n",
       "    node.appendChild(script);\n",
       "  }\n",
       "\n",
       "  /**\n",
       "   * Handle when an output is cleared or removed\n",
       "   */\n",
       "  function handleClearOutput(event, handle) {\n",
       "    var cell = handle.cell;\n",
       "\n",
       "    var id = cell.output_area._bokeh_element_id;\n",
       "    var server_id = cell.output_area._bokeh_server_id;\n",
       "    // Clean up Bokeh references\n",
       "    if (id != null && id in Bokeh.index) {\n",
       "      Bokeh.index[id].model.document.clear();\n",
       "      delete Bokeh.index[id];\n",
       "    }\n",
       "\n",
       "    if (server_id !== undefined) {\n",
       "      // Clean up Bokeh references\n",
       "      var cmd = \"from bokeh.io.state import curstate; print(curstate().uuid_to_server['\" + server_id + \"'].get_sessions()[0].document.roots[0]._id)\";\n",
       "      cell.notebook.kernel.execute(cmd, {\n",
       "        iopub: {\n",
       "          output: function(msg) {\n",
       "            var id = msg.content.text.trim();\n",
       "            if (id in Bokeh.index) {\n",
       "              Bokeh.index[id].model.document.clear();\n",
       "              delete Bokeh.index[id];\n",
       "            }\n",
       "          }\n",
       "        }\n",
       "      });\n",
       "      // Destroy server and session\n",
       "      var cmd = \"import bokeh.io.notebook as ion; ion.destroy_server('\" + server_id + \"')\";\n",
       "      cell.notebook.kernel.execute(cmd);\n",
       "    }\n",
       "  }\n",
       "\n",
       "  /**\n",
       "   * Handle when a new output is added\n",
       "   */\n",
       "  function handleAddOutput(event, handle) {\n",
       "    var output_area = handle.output_area;\n",
       "    var output = handle.output;\n",
       "\n",
       "    // limit handleAddOutput to display_data with EXEC_MIME_TYPE content only\n",
       "    if ((output.output_type != \"display_data\") || (!output.data.hasOwnProperty(EXEC_MIME_TYPE))) {\n",
       "      return\n",
       "    }\n",
       "\n",
       "    var toinsert = output_area.element.find(\".\" + CLASS_NAME.split(' ')[0]);\n",
       "\n",
       "    if (output.metadata[EXEC_MIME_TYPE][\"id\"] !== undefined) {\n",
       "      toinsert[toinsert.length - 1].firstChild.textContent = output.data[JS_MIME_TYPE];\n",
       "      // store reference to embed id on output_area\n",
       "      output_area._bokeh_element_id = output.metadata[EXEC_MIME_TYPE][\"id\"];\n",
       "    }\n",
       "    if (output.metadata[EXEC_MIME_TYPE][\"server_id\"] !== undefined) {\n",
       "      var bk_div = document.createElement(\"div\");\n",
       "      bk_div.innerHTML = output.data[HTML_MIME_TYPE];\n",
       "      var script_attrs = bk_div.children[0].attributes;\n",
       "      for (var i = 0; i < script_attrs.length; i++) {\n",
       "        toinsert[toinsert.length - 1].firstChild.setAttribute(script_attrs[i].name, script_attrs[i].value);\n",
       "        toinsert[toinsert.length - 1].firstChild.textContent = bk_div.children[0].textContent\n",
       "      }\n",
       "      // store reference to server id on output_area\n",
       "      output_area._bokeh_server_id = output.metadata[EXEC_MIME_TYPE][\"server_id\"];\n",
       "    }\n",
       "  }\n",
       "\n",
       "  function register_renderer(events, OutputArea) {\n",
       "\n",
       "    function append_mime(data, metadata, element) {\n",
       "      // create a DOM node to render to\n",
       "      var toinsert = this.create_output_subarea(\n",
       "        metadata,\n",
       "        CLASS_NAME,\n",
       "        EXEC_MIME_TYPE\n",
       "      );\n",
       "      this.keyboard_manager.register_events(toinsert);\n",
       "      // Render to node\n",
       "      var props = {data: data, metadata: metadata[EXEC_MIME_TYPE]};\n",
       "      render(props, toinsert[toinsert.length - 1]);\n",
       "      element.append(toinsert);\n",
       "      return toinsert\n",
       "    }\n",
       "\n",
       "    /* Handle when an output is cleared or removed */\n",
       "    events.on('clear_output.CodeCell', handleClearOutput);\n",
       "    events.on('delete.Cell', handleClearOutput);\n",
       "\n",
       "    /* Handle when a new output is added */\n",
       "    events.on('output_added.OutputArea', handleAddOutput);\n",
       "\n",
       "    /**\n",
       "     * Register the mime type and append_mime function with output_area\n",
       "     */\n",
       "    OutputArea.prototype.register_mime_type(EXEC_MIME_TYPE, append_mime, {\n",
       "      /* Is output safe? */\n",
       "      safe: true,\n",
       "      /* Index of renderer in `output_area.display_order` */\n",
       "      index: 0\n",
       "    });\n",
       "  }\n",
       "\n",
       "  // register the mime type if in Jupyter Notebook environment and previously unregistered\n",
       "  if (root.Jupyter !== undefined) {\n",
       "    var events = require('base/js/events');\n",
       "    var OutputArea = require('notebook/js/outputarea').OutputArea;\n",
       "\n",
       "    if (OutputArea.prototype.mime_types().indexOf(EXEC_MIME_TYPE) == -1) {\n",
       "      register_renderer(events, OutputArea);\n",
       "    }\n",
       "  }\n",
       "\n",
       "  \n",
       "  if (typeof (root._bokeh_timeout) === \"undefined\" || force === true) {\n",
       "    root._bokeh_timeout = Date.now() + 5000;\n",
       "    root._bokeh_failed_load = false;\n",
       "  }\n",
       "\n",
       "  var NB_LOAD_WARNING = {'data': {'text/html':\n",
       "     \"<div style='background-color: #fdd'>\\n\"+\n",
       "     \"<p>\\n\"+\n",
       "     \"BokehJS does not appear to have successfully loaded. If loading BokehJS from CDN, this \\n\"+\n",
       "     \"may be due to a slow or bad network connection. Possible fixes:\\n\"+\n",
       "     \"</p>\\n\"+\n",
       "     \"<ul>\\n\"+\n",
       "     \"<li>re-rerun `output_notebook()` to attempt to load from CDN again, or</li>\\n\"+\n",
       "     \"<li>use INLINE resources instead, as so:</li>\\n\"+\n",
       "     \"</ul>\\n\"+\n",
       "     \"<code>\\n\"+\n",
       "     \"from bokeh.resources import INLINE\\n\"+\n",
       "     \"output_notebook(resources=INLINE)\\n\"+\n",
       "     \"</code>\\n\"+\n",
       "     \"</div>\"}};\n",
       "\n",
       "  function display_loaded() {\n",
       "    var el = document.getElementById(\"1001\");\n",
       "    if (el != null) {\n",
       "      el.textContent = \"BokehJS is loading...\";\n",
       "    }\n",
       "    if (root.Bokeh !== undefined) {\n",
       "      if (el != null) {\n",
       "        el.textContent = \"BokehJS \" + root.Bokeh.version + \" successfully loaded.\";\n",
       "      }\n",
       "    } else if (Date.now() < root._bokeh_timeout) {\n",
       "      setTimeout(display_loaded, 100)\n",
       "    }\n",
       "  }\n",
       "\n",
       "\n",
       "  function run_callbacks() {\n",
       "    try {\n",
       "      root._bokeh_onload_callbacks.forEach(function(callback) {\n",
       "        if (callback != null)\n",
       "          callback();\n",
       "      });\n",
       "    } finally {\n",
       "      delete root._bokeh_onload_callbacks\n",
       "    }\n",
       "    console.debug(\"Bokeh: all callbacks have finished\");\n",
       "  }\n",
       "\n",
       "  function load_libs(css_urls, js_urls, callback) {\n",
       "    if (css_urls == null) css_urls = [];\n",
       "    if (js_urls == null) js_urls = [];\n",
       "\n",
       "    root._bokeh_onload_callbacks.push(callback);\n",
       "    if (root._bokeh_is_loading > 0) {\n",
       "      console.debug(\"Bokeh: BokehJS is being loaded, scheduling callback at\", now());\n",
       "      return null;\n",
       "    }\n",
       "    if (js_urls == null || js_urls.length === 0) {\n",
       "      run_callbacks();\n",
       "      return null;\n",
       "    }\n",
       "    console.debug(\"Bokeh: BokehJS not loaded, scheduling load and callback at\", now());\n",
       "    root._bokeh_is_loading = css_urls.length + js_urls.length;\n",
       "\n",
       "    function on_load() {\n",
       "      root._bokeh_is_loading--;\n",
       "      if (root._bokeh_is_loading === 0) {\n",
       "        console.debug(\"Bokeh: all BokehJS libraries/stylesheets loaded\");\n",
       "        run_callbacks()\n",
       "      }\n",
       "    }\n",
       "\n",
       "    function on_error() {\n",
       "      console.error(\"failed to load \" + url);\n",
       "    }\n",
       "\n",
       "    for (var i = 0; i < css_urls.length; i++) {\n",
       "      var url = css_urls[i];\n",
       "      const element = document.createElement(\"link\");\n",
       "      element.onload = on_load;\n",
       "      element.onerror = on_error;\n",
       "      element.rel = \"stylesheet\";\n",
       "      element.type = \"text/css\";\n",
       "      element.href = url;\n",
       "      console.debug(\"Bokeh: injecting link tag for BokehJS stylesheet: \", url);\n",
       "      document.body.appendChild(element);\n",
       "    }\n",
       "\n",
       "    const hashes = {\"https://cdn.bokeh.org/bokeh/release/bokeh-2.2.1.min.js\": \"qkRvDQVAIfzsJo40iRBbxt6sttt0hv4lh74DG7OK4MCHv4C5oohXYoHUM5W11uqS\", \"https://cdn.bokeh.org/bokeh/release/bokeh-widgets-2.2.1.min.js\": \"Sb7Mr06a9TNlet/GEBeKaf5xH3eb6AlCzwjtU82wNPyDrnfoiVl26qnvlKjmcAd+\", \"https://cdn.bokeh.org/bokeh/release/bokeh-tables-2.2.1.min.js\": \"HaJ15vgfmcfRtB4c4YBOI4f1MUujukqInOWVqZJZZGK7Q+ivud0OKGSTn/Vm2iso\"};\n",
       "\n",
       "    for (var i = 0; i < js_urls.length; i++) {\n",
       "      var url = js_urls[i];\n",
       "      var element = document.createElement('script');\n",
       "      element.onload = on_load;\n",
       "      element.onerror = on_error;\n",
       "      element.async = false;\n",
       "      element.src = url;\n",
       "      if (url in hashes) {\n",
       "        element.crossOrigin = \"anonymous\";\n",
       "        element.integrity = \"sha384-\" + hashes[url];\n",
       "      }\n",
       "      console.debug(\"Bokeh: injecting script tag for BokehJS library: \", url);\n",
       "      document.head.appendChild(element);\n",
       "    }\n",
       "  };\n",
       "\n",
       "  function inject_raw_css(css) {\n",
       "    const element = document.createElement(\"style\");\n",
       "    element.appendChild(document.createTextNode(css));\n",
       "    document.body.appendChild(element);\n",
       "  }\n",
       "\n",
       "  \n",
       "  var js_urls = [\"https://cdn.bokeh.org/bokeh/release/bokeh-2.2.1.min.js\", \"https://cdn.bokeh.org/bokeh/release/bokeh-widgets-2.2.1.min.js\", \"https://cdn.bokeh.org/bokeh/release/bokeh-tables-2.2.1.min.js\"];\n",
       "  var css_urls = [];\n",
       "  \n",
       "\n",
       "  var inline_js = [\n",
       "    function(Bokeh) {\n",
       "      Bokeh.set_log_level(\"info\");\n",
       "    },\n",
       "    function(Bokeh) {\n",
       "    \n",
       "    \n",
       "    }\n",
       "  ];\n",
       "\n",
       "  function run_inline_js() {\n",
       "    \n",
       "    if (root.Bokeh !== undefined || force === true) {\n",
       "      \n",
       "    for (var i = 0; i < inline_js.length; i++) {\n",
       "      inline_js[i].call(root, root.Bokeh);\n",
       "    }\n",
       "    if (force === true) {\n",
       "        display_loaded();\n",
       "      }} else if (Date.now() < root._bokeh_timeout) {\n",
       "      setTimeout(run_inline_js, 100);\n",
       "    } else if (!root._bokeh_failed_load) {\n",
       "      console.log(\"Bokeh: BokehJS failed to load within specified timeout.\");\n",
       "      root._bokeh_failed_load = true;\n",
       "    } else if (force !== true) {\n",
       "      var cell = $(document.getElementById(\"1001\")).parents('.cell').data().cell;\n",
       "      cell.output_area.append_execute_result(NB_LOAD_WARNING)\n",
       "    }\n",
       "\n",
       "  }\n",
       "\n",
       "  if (root._bokeh_is_loading === 0) {\n",
       "    console.debug(\"Bokeh: BokehJS loaded, going straight to plotting\");\n",
       "    run_inline_js();\n",
       "  } else {\n",
       "    load_libs(css_urls, js_urls, function() {\n",
       "      console.debug(\"Bokeh: BokehJS plotting callback run at\", now());\n",
       "      run_inline_js();\n",
       "    });\n",
       "  }\n",
       "}(window));"
      ],
      "application/vnd.bokehjs_load.v0+json": "\n(function(root) {\n  function now() {\n    return new Date();\n  }\n\n  var force = true;\n\n  if (typeof root._bokeh_onload_callbacks === \"undefined\" || force === true) {\n    root._bokeh_onload_callbacks = [];\n    root._bokeh_is_loading = undefined;\n  }\n\n  \n\n  \n  if (typeof (root._bokeh_timeout) === \"undefined\" || force === true) {\n    root._bokeh_timeout = Date.now() + 5000;\n    root._bokeh_failed_load = false;\n  }\n\n  var NB_LOAD_WARNING = {'data': {'text/html':\n     \"<div style='background-color: #fdd'>\\n\"+\n     \"<p>\\n\"+\n     \"BokehJS does not appear to have successfully loaded. If loading BokehJS from CDN, this \\n\"+\n     \"may be due to a slow or bad network connection. Possible fixes:\\n\"+\n     \"</p>\\n\"+\n     \"<ul>\\n\"+\n     \"<li>re-rerun `output_notebook()` to attempt to load from CDN again, or</li>\\n\"+\n     \"<li>use INLINE resources instead, as so:</li>\\n\"+\n     \"</ul>\\n\"+\n     \"<code>\\n\"+\n     \"from bokeh.resources import INLINE\\n\"+\n     \"output_notebook(resources=INLINE)\\n\"+\n     \"</code>\\n\"+\n     \"</div>\"}};\n\n  function display_loaded() {\n    var el = document.getElementById(\"1001\");\n    if (el != null) {\n      el.textContent = \"BokehJS is loading...\";\n    }\n    if (root.Bokeh !== undefined) {\n      if (el != null) {\n        el.textContent = \"BokehJS \" + root.Bokeh.version + \" successfully loaded.\";\n      }\n    } else if (Date.now() < root._bokeh_timeout) {\n      setTimeout(display_loaded, 100)\n    }\n  }\n\n\n  function run_callbacks() {\n    try {\n      root._bokeh_onload_callbacks.forEach(function(callback) {\n        if (callback != null)\n          callback();\n      });\n    } finally {\n      delete root._bokeh_onload_callbacks\n    }\n    console.debug(\"Bokeh: all callbacks have finished\");\n  }\n\n  function load_libs(css_urls, js_urls, callback) {\n    if (css_urls == null) css_urls = [];\n    if (js_urls == null) js_urls = [];\n\n    root._bokeh_onload_callbacks.push(callback);\n    if (root._bokeh_is_loading > 0) {\n      console.debug(\"Bokeh: BokehJS is being loaded, scheduling callback at\", now());\n      return null;\n    }\n    if (js_urls == null || js_urls.length === 0) {\n      run_callbacks();\n      return null;\n    }\n    console.debug(\"Bokeh: BokehJS not loaded, scheduling load and callback at\", now());\n    root._bokeh_is_loading = css_urls.length + js_urls.length;\n\n    function on_load() {\n      root._bokeh_is_loading--;\n      if (root._bokeh_is_loading === 0) {\n        console.debug(\"Bokeh: all BokehJS libraries/stylesheets loaded\");\n        run_callbacks()\n      }\n    }\n\n    function on_error() {\n      console.error(\"failed to load \" + url);\n    }\n\n    for (var i = 0; i < css_urls.length; i++) {\n      var url = css_urls[i];\n      const element = document.createElement(\"link\");\n      element.onload = on_load;\n      element.onerror = on_error;\n      element.rel = \"stylesheet\";\n      element.type = \"text/css\";\n      element.href = url;\n      console.debug(\"Bokeh: injecting link tag for BokehJS stylesheet: \", url);\n      document.body.appendChild(element);\n    }\n\n    const hashes = {\"https://cdn.bokeh.org/bokeh/release/bokeh-2.2.1.min.js\": \"qkRvDQVAIfzsJo40iRBbxt6sttt0hv4lh74DG7OK4MCHv4C5oohXYoHUM5W11uqS\", \"https://cdn.bokeh.org/bokeh/release/bokeh-widgets-2.2.1.min.js\": \"Sb7Mr06a9TNlet/GEBeKaf5xH3eb6AlCzwjtU82wNPyDrnfoiVl26qnvlKjmcAd+\", \"https://cdn.bokeh.org/bokeh/release/bokeh-tables-2.2.1.min.js\": \"HaJ15vgfmcfRtB4c4YBOI4f1MUujukqInOWVqZJZZGK7Q+ivud0OKGSTn/Vm2iso\"};\n\n    for (var i = 0; i < js_urls.length; i++) {\n      var url = js_urls[i];\n      var element = document.createElement('script');\n      element.onload = on_load;\n      element.onerror = on_error;\n      element.async = false;\n      element.src = url;\n      if (url in hashes) {\n        element.crossOrigin = \"anonymous\";\n        element.integrity = \"sha384-\" + hashes[url];\n      }\n      console.debug(\"Bokeh: injecting script tag for BokehJS library: \", url);\n      document.head.appendChild(element);\n    }\n  };\n\n  function inject_raw_css(css) {\n    const element = document.createElement(\"style\");\n    element.appendChild(document.createTextNode(css));\n    document.body.appendChild(element);\n  }\n\n  \n  var js_urls = [\"https://cdn.bokeh.org/bokeh/release/bokeh-2.2.1.min.js\", \"https://cdn.bokeh.org/bokeh/release/bokeh-widgets-2.2.1.min.js\", \"https://cdn.bokeh.org/bokeh/release/bokeh-tables-2.2.1.min.js\"];\n  var css_urls = [];\n  \n\n  var inline_js = [\n    function(Bokeh) {\n      Bokeh.set_log_level(\"info\");\n    },\n    function(Bokeh) {\n    \n    \n    }\n  ];\n\n  function run_inline_js() {\n    \n    if (root.Bokeh !== undefined || force === true) {\n      \n    for (var i = 0; i < inline_js.length; i++) {\n      inline_js[i].call(root, root.Bokeh);\n    }\n    if (force === true) {\n        display_loaded();\n      }} else if (Date.now() < root._bokeh_timeout) {\n      setTimeout(run_inline_js, 100);\n    } else if (!root._bokeh_failed_load) {\n      console.log(\"Bokeh: BokehJS failed to load within specified timeout.\");\n      root._bokeh_failed_load = true;\n    } else if (force !== true) {\n      var cell = $(document.getElementById(\"1001\")).parents('.cell').data().cell;\n      cell.output_area.append_execute_result(NB_LOAD_WARNING)\n    }\n\n  }\n\n  if (root._bokeh_is_loading === 0) {\n    console.debug(\"Bokeh: BokehJS loaded, going straight to plotting\");\n    run_inline_js();\n  } else {\n    load_libs(css_urls, js_urls, function() {\n      console.debug(\"Bokeh: BokehJS plotting callback run at\", now());\n      run_inline_js();\n    });\n  }\n}(window));"
     },
     "metadata": {},
     "output_type": "display_data"
    }
   ],
   "source": [
    "import math\n",
    "import sys  \n",
    "import datetime\n",
    "from tqdm import tqdm\n",
    "import pandas as pd\n",
    "import numpy as np\n",
    "from geopy.distance import geodesic\n",
    "\n",
    "\n",
    "# Sentences\n",
    "sys.path.insert(0, '../building_trajectories/')\n",
    "import sentences\n",
    "#%run '../building_trajectories/sentences.py'\n",
    "\n",
    "#Spark\n",
    "import findspark\n",
    "findspark.init(\"../venvTraj/lib64/python3.8/site-packages/pyspark/\")\n",
    "from pyspark import SparkContext\n",
    "\n",
    "# Bokeh\n",
    "from bokeh.plotting import figure, show, output_notebook\n",
    "from bokeh.tile_providers import get_provider, Vendors, OSM, CARTODBPOSITRON, WIKIMEDIA\n",
    "\n",
    "pd.set_option('display.max_columns', None)\n",
    "\n",
    "## Inicialização de variaveis para o Bokeh\n",
    "output_notebook()\n",
    "tile_provider = OSM\n",
    "colors=['red','blue', 'black', 'yellow']\n"
   ]
  },
  {
   "cell_type": "markdown",
   "metadata": {},
   "source": [
    "## Dublin Bus GPS sample data from Dublin City Council (Insight Project)\n",
    "\n",
    "Bus GPS Data Dublin Bus GPS data across Dublin City, from Dublin **City Council'traffic control**, in csv format. \n",
    "\n",
    "Each datapoint (row in the CSV file) has the following entries:\n",
    "\n",
    "- Timestamp micro since 1970 01 01 00:00:00 GMT  \n",
    "- Line ID  \n",
    "- Direction  \n",
    "- Journey Pattern ID  \n",
    "- Time Frame (The start date of the production time table - in Dublin the production time table starts at 6am and ends at 3am)  \n",
    "- Vehicle Journey ID (A given run on the journey pattern)  \n",
    "- Operator (Bus operator, not the driver)  \n",
    "- Congestion [0=no,1=yes]  \n",
    "- Lon WGS84  \n",
    "- Lat WGS84\n",
    "- Delay (seconds, negative if bus is ahead of schedule)  \n",
    "- Block ID (a section ID of the journey pattern)  \n",
    "- Vehicle ID  \n",
    "- Stop ID  \n",
    "- At Stop [0=no,1=yes]\n",
    "\n",
    "Fonte: https://data.gov.ie/dataset/dublin-bus-gps-sample-data-from-dublin-city-council-insight-project\n"
   ]
  },
  {
   "cell_type": "markdown",
   "metadata": {},
   "source": [
    "### Abre arquivo referente aos dias 10~12 de Janeiro de 2013"
   ]
  },
  {
   "cell_type": "markdown",
   "metadata": {},
   "source": [
    "### Colunas originais do dataset"
   ]
  },
  {
   "cell_type": "code",
   "execution_count": 2,
   "metadata": {},
   "outputs": [],
   "source": [
    "features = ['timestamp','line_id','direction','journey_id',\n",
    "            'time_frame','vehicle_journey_id','operator',\n",
    "            'congestion','lng','lat','delay','block_id',\n",
    "            'vehicle_id','stop_id', 'stop']"
   ]
  },
  {
   "cell_type": "code",
   "execution_count": 3,
   "metadata": {},
   "outputs": [
    {
     "name": "stderr",
     "output_type": "stream",
     "text": [
      "100%|██████████| 1/1 [00:02<00:00,  2.49s/it]\n"
     ]
    }
   ],
   "source": [
    "df = pd.read_csv(\n",
    "    '../data/siri.20130110.csv.gz', \n",
    "    compression='gzip', \n",
    "    names=features, \n",
    "    header=None)\n",
    "for i in tqdm(range(20130111,20130112,1)):\n",
    "    data = pd.read_csv(\n",
    "        '../data/siri.'+str(i)+'.csv.gz', \n",
    "        compression='gzip', \n",
    "        names=features, \n",
    "        header=None)\n",
    "    df = pd.concat([df,data])"
   ]
  },
  {
   "cell_type": "markdown",
   "metadata": {},
   "source": [
    "### Lista com nomes das colunas que formam a chave da trajetória"
   ]
  },
  {
   "cell_type": "code",
   "execution_count": 4,
   "metadata": {},
   "outputs": [],
   "source": [
    "trajetoria = ['line_id','journey_id','time_frame','vehicle_journey_id','operator','vehicle_id']"
   ]
  },
  {
   "cell_type": "markdown",
   "metadata": {},
   "source": [
    "### Novas features que serão alimentadas junto à criação das trajetórias"
   ]
  },
  {
   "cell_type": "code",
   "execution_count": 5,
   "metadata": {},
   "outputs": [],
   "source": [
    "df['velocity'] = 0\n",
    "df['acc'] = 0\n",
    "df['dist_from_old_point'] = 0\n",
    "df['time_from_old_point'] = 0\n",
    "df['MF_lat'] = 0 \n",
    "df['MF_lng'] = 0\n",
    "df['MF_velocity'] = 0\n",
    "df['MF_acc'] = 0\n",
    "df['MF_dist_from_old_point'] = 0"
   ]
  },
  {
   "cell_type": "markdown",
   "metadata": {},
   "source": [
    "## Análise inicial do dataset"
   ]
  },
  {
   "cell_type": "code",
   "execution_count": 6,
   "metadata": {},
   "outputs": [
    {
     "data": {
      "text/html": [
       "<div>\n",
       "<style scoped>\n",
       "    .dataframe tbody tr th:only-of-type {\n",
       "        vertical-align: middle;\n",
       "    }\n",
       "\n",
       "    .dataframe tbody tr th {\n",
       "        vertical-align: top;\n",
       "    }\n",
       "\n",
       "    .dataframe thead th {\n",
       "        text-align: right;\n",
       "    }\n",
       "</style>\n",
       "<table border=\"1\" class=\"dataframe\">\n",
       "  <thead>\n",
       "    <tr style=\"text-align: right;\">\n",
       "      <th></th>\n",
       "      <th>timestamp</th>\n",
       "      <th>line_id</th>\n",
       "      <th>direction</th>\n",
       "      <th>journey_id</th>\n",
       "      <th>time_frame</th>\n",
       "      <th>vehicle_journey_id</th>\n",
       "      <th>operator</th>\n",
       "      <th>congestion</th>\n",
       "      <th>lng</th>\n",
       "      <th>lat</th>\n",
       "      <th>delay</th>\n",
       "      <th>block_id</th>\n",
       "      <th>vehicle_id</th>\n",
       "      <th>stop_id</th>\n",
       "      <th>stop</th>\n",
       "      <th>velocity</th>\n",
       "      <th>acc</th>\n",
       "      <th>dist_from_old_point</th>\n",
       "      <th>time_from_old_point</th>\n",
       "      <th>MF_lat</th>\n",
       "      <th>MF_lng</th>\n",
       "      <th>MF_velocity</th>\n",
       "      <th>MF_acc</th>\n",
       "      <th>MF_dist_from_old_point</th>\n",
       "    </tr>\n",
       "  </thead>\n",
       "  <tbody>\n",
       "    <tr>\n",
       "      <th>0</th>\n",
       "      <td>1357776002000000</td>\n",
       "      <td>31.0</td>\n",
       "      <td>0</td>\n",
       "      <td>NaN</td>\n",
       "      <td>2013-01-09</td>\n",
       "      <td>5509</td>\n",
       "      <td>CF</td>\n",
       "      <td>0</td>\n",
       "      <td>-6.257756</td>\n",
       "      <td>53.349159</td>\n",
       "      <td>0</td>\n",
       "      <td>31008</td>\n",
       "      <td>38075</td>\n",
       "      <td>296.0</td>\n",
       "      <td>0</td>\n",
       "      <td>0</td>\n",
       "      <td>0</td>\n",
       "      <td>0</td>\n",
       "      <td>0</td>\n",
       "      <td>0</td>\n",
       "      <td>0</td>\n",
       "      <td>0</td>\n",
       "      <td>0</td>\n",
       "      <td>0</td>\n",
       "    </tr>\n",
       "    <tr>\n",
       "      <th>1</th>\n",
       "      <td>1357776002000000</td>\n",
       "      <td>66.0</td>\n",
       "      <td>0</td>\n",
       "      <td>066A0001</td>\n",
       "      <td>2013-01-09</td>\n",
       "      <td>2390</td>\n",
       "      <td>PO</td>\n",
       "      <td>0</td>\n",
       "      <td>-6.406750</td>\n",
       "      <td>53.357983</td>\n",
       "      <td>-101</td>\n",
       "      <td>66001</td>\n",
       "      <td>33376</td>\n",
       "      <td>3993.0</td>\n",
       "      <td>0</td>\n",
       "      <td>0</td>\n",
       "      <td>0</td>\n",
       "      <td>0</td>\n",
       "      <td>0</td>\n",
       "      <td>0</td>\n",
       "      <td>0</td>\n",
       "      <td>0</td>\n",
       "      <td>0</td>\n",
       "      <td>0</td>\n",
       "    </tr>\n",
       "    <tr>\n",
       "      <th>2</th>\n",
       "      <td>1357776002000000</td>\n",
       "      <td>49.0</td>\n",
       "      <td>0</td>\n",
       "      <td>00491001</td>\n",
       "      <td>2013-01-09</td>\n",
       "      <td>2837</td>\n",
       "      <td>RD</td>\n",
       "      <td>0</td>\n",
       "      <td>-6.272375</td>\n",
       "      <td>53.341053</td>\n",
       "      <td>-149</td>\n",
       "      <td>49006</td>\n",
       "      <td>33483</td>\n",
       "      <td>2383.0</td>\n",
       "      <td>0</td>\n",
       "      <td>0</td>\n",
       "      <td>0</td>\n",
       "      <td>0</td>\n",
       "      <td>0</td>\n",
       "      <td>0</td>\n",
       "      <td>0</td>\n",
       "      <td>0</td>\n",
       "      <td>0</td>\n",
       "      <td>0</td>\n",
       "    </tr>\n",
       "    <tr>\n",
       "      <th>3</th>\n",
       "      <td>1357776002000000</td>\n",
       "      <td>14.0</td>\n",
       "      <td>0</td>\n",
       "      <td>00141001</td>\n",
       "      <td>2013-01-09</td>\n",
       "      <td>5452</td>\n",
       "      <td>SL</td>\n",
       "      <td>0</td>\n",
       "      <td>-6.251083</td>\n",
       "      <td>53.357666</td>\n",
       "      <td>-251</td>\n",
       "      <td>14101</td>\n",
       "      <td>33113</td>\n",
       "      <td>248.0</td>\n",
       "      <td>1</td>\n",
       "      <td>0</td>\n",
       "      <td>0</td>\n",
       "      <td>0</td>\n",
       "      <td>0</td>\n",
       "      <td>0</td>\n",
       "      <td>0</td>\n",
       "      <td>0</td>\n",
       "      <td>0</td>\n",
       "      <td>0</td>\n",
       "    </tr>\n",
       "    <tr>\n",
       "      <th>4</th>\n",
       "      <td>1357776002000000</td>\n",
       "      <td>40.0</td>\n",
       "      <td>0</td>\n",
       "      <td>040D0001</td>\n",
       "      <td>2013-01-09</td>\n",
       "      <td>2217</td>\n",
       "      <td>HN</td>\n",
       "      <td>0</td>\n",
       "      <td>-6.390792</td>\n",
       "      <td>53.422108</td>\n",
       "      <td>-478</td>\n",
       "      <td>40203</td>\n",
       "      <td>38071</td>\n",
       "      <td>7104.0</td>\n",
       "      <td>0</td>\n",
       "      <td>0</td>\n",
       "      <td>0</td>\n",
       "      <td>0</td>\n",
       "      <td>0</td>\n",
       "      <td>0</td>\n",
       "      <td>0</td>\n",
       "      <td>0</td>\n",
       "      <td>0</td>\n",
       "      <td>0</td>\n",
       "    </tr>\n",
       "  </tbody>\n",
       "</table>\n",
       "</div>"
      ],
      "text/plain": [
       "          timestamp  line_id  direction journey_id  time_frame  \\\n",
       "0  1357776002000000     31.0          0        NaN  2013-01-09   \n",
       "1  1357776002000000     66.0          0   066A0001  2013-01-09   \n",
       "2  1357776002000000     49.0          0   00491001  2013-01-09   \n",
       "3  1357776002000000     14.0          0   00141001  2013-01-09   \n",
       "4  1357776002000000     40.0          0   040D0001  2013-01-09   \n",
       "\n",
       "   vehicle_journey_id operator  congestion       lng        lat  delay  \\\n",
       "0                5509       CF           0 -6.257756  53.349159      0   \n",
       "1                2390       PO           0 -6.406750  53.357983   -101   \n",
       "2                2837       RD           0 -6.272375  53.341053   -149   \n",
       "3                5452       SL           0 -6.251083  53.357666   -251   \n",
       "4                2217       HN           0 -6.390792  53.422108   -478   \n",
       "\n",
       "   block_id  vehicle_id  stop_id  stop  velocity  acc  dist_from_old_point  \\\n",
       "0     31008       38075    296.0     0         0    0                    0   \n",
       "1     66001       33376   3993.0     0         0    0                    0   \n",
       "2     49006       33483   2383.0     0         0    0                    0   \n",
       "3     14101       33113    248.0     1         0    0                    0   \n",
       "4     40203       38071   7104.0     0         0    0                    0   \n",
       "\n",
       "   time_from_old_point  MF_lat  MF_lng  MF_velocity  MF_acc  \\\n",
       "0                    0       0       0            0       0   \n",
       "1                    0       0       0            0       0   \n",
       "2                    0       0       0            0       0   \n",
       "3                    0       0       0            0       0   \n",
       "4                    0       0       0            0       0   \n",
       "\n",
       "   MF_dist_from_old_point  \n",
       "0                       0  \n",
       "1                       0  \n",
       "2                       0  \n",
       "3                       0  \n",
       "4                       0  "
      ]
     },
     "execution_count": 6,
     "metadata": {},
     "output_type": "execute_result"
    }
   ],
   "source": [
    "df.head()"
   ]
  },
  {
   "cell_type": "code",
   "execution_count": 7,
   "metadata": {},
   "outputs": [
    {
     "data": {
      "text/html": [
       "<div>\n",
       "<style scoped>\n",
       "    .dataframe tbody tr th:only-of-type {\n",
       "        vertical-align: middle;\n",
       "    }\n",
       "\n",
       "    .dataframe tbody tr th {\n",
       "        vertical-align: top;\n",
       "    }\n",
       "\n",
       "    .dataframe thead th {\n",
       "        text-align: right;\n",
       "    }\n",
       "</style>\n",
       "<table border=\"1\" class=\"dataframe\">\n",
       "  <thead>\n",
       "    <tr style=\"text-align: right;\">\n",
       "      <th></th>\n",
       "      <th>timestamp</th>\n",
       "      <th>line_id</th>\n",
       "      <th>direction</th>\n",
       "      <th>journey_id</th>\n",
       "      <th>time_frame</th>\n",
       "      <th>vehicle_journey_id</th>\n",
       "      <th>operator</th>\n",
       "      <th>congestion</th>\n",
       "      <th>lng</th>\n",
       "      <th>lat</th>\n",
       "      <th>delay</th>\n",
       "      <th>block_id</th>\n",
       "      <th>vehicle_id</th>\n",
       "      <th>stop_id</th>\n",
       "      <th>stop</th>\n",
       "      <th>velocity</th>\n",
       "      <th>acc</th>\n",
       "      <th>dist_from_old_point</th>\n",
       "      <th>time_from_old_point</th>\n",
       "      <th>MF_lat</th>\n",
       "      <th>MF_lng</th>\n",
       "      <th>MF_velocity</th>\n",
       "      <th>MF_acc</th>\n",
       "      <th>MF_dist_from_old_point</th>\n",
       "    </tr>\n",
       "  </thead>\n",
       "  <tbody>\n",
       "    <tr>\n",
       "      <th>1729769</th>\n",
       "      <td>1357948798000000</td>\n",
       "      <td>83.0</td>\n",
       "      <td>0</td>\n",
       "      <td>00830001</td>\n",
       "      <td>2013-01-11</td>\n",
       "      <td>5776</td>\n",
       "      <td>HN</td>\n",
       "      <td>0</td>\n",
       "      <td>-6.302700</td>\n",
       "      <td>53.318638</td>\n",
       "      <td>-144</td>\n",
       "      <td>83011</td>\n",
       "      <td>40020</td>\n",
       "      <td>2489.0</td>\n",
       "      <td>0</td>\n",
       "      <td>0</td>\n",
       "      <td>0</td>\n",
       "      <td>0</td>\n",
       "      <td>0</td>\n",
       "      <td>0</td>\n",
       "      <td>0</td>\n",
       "      <td>0</td>\n",
       "      <td>0</td>\n",
       "      <td>0</td>\n",
       "    </tr>\n",
       "    <tr>\n",
       "      <th>1729770</th>\n",
       "      <td>1357948798000000</td>\n",
       "      <td>39.0</td>\n",
       "      <td>0</td>\n",
       "      <td>NaN</td>\n",
       "      <td>2013-01-11</td>\n",
       "      <td>3175</td>\n",
       "      <td>PO</td>\n",
       "      <td>0</td>\n",
       "      <td>-6.244823</td>\n",
       "      <td>53.328770</td>\n",
       "      <td>170</td>\n",
       "      <td>39020</td>\n",
       "      <td>36054</td>\n",
       "      <td>767.0</td>\n",
       "      <td>0</td>\n",
       "      <td>0</td>\n",
       "      <td>0</td>\n",
       "      <td>0</td>\n",
       "      <td>0</td>\n",
       "      <td>0</td>\n",
       "      <td>0</td>\n",
       "      <td>0</td>\n",
       "      <td>0</td>\n",
       "      <td>0</td>\n",
       "    </tr>\n",
       "    <tr>\n",
       "      <th>1729771</th>\n",
       "      <td>1357948798000000</td>\n",
       "      <td>15.0</td>\n",
       "      <td>0</td>\n",
       "      <td>00151001</td>\n",
       "      <td>2013-01-11</td>\n",
       "      <td>5112</td>\n",
       "      <td>HN</td>\n",
       "      <td>0</td>\n",
       "      <td>-6.152171</td>\n",
       "      <td>53.402569</td>\n",
       "      <td>503</td>\n",
       "      <td>15105</td>\n",
       "      <td>33502</td>\n",
       "      <td>7245.0</td>\n",
       "      <td>1</td>\n",
       "      <td>0</td>\n",
       "      <td>0</td>\n",
       "      <td>0</td>\n",
       "      <td>0</td>\n",
       "      <td>0</td>\n",
       "      <td>0</td>\n",
       "      <td>0</td>\n",
       "      <td>0</td>\n",
       "      <td>0</td>\n",
       "    </tr>\n",
       "    <tr>\n",
       "      <th>1729772</th>\n",
       "      <td>1357948798000000</td>\n",
       "      <td>272.0</td>\n",
       "      <td>0</td>\n",
       "      <td>027B0002</td>\n",
       "      <td>2013-01-11</td>\n",
       "      <td>369</td>\n",
       "      <td>HN</td>\n",
       "      <td>0</td>\n",
       "      <td>-6.276100</td>\n",
       "      <td>53.418041</td>\n",
       "      <td>129</td>\n",
       "      <td>272005</td>\n",
       "      <td>33504</td>\n",
       "      <td>1629.0</td>\n",
       "      <td>0</td>\n",
       "      <td>0</td>\n",
       "      <td>0</td>\n",
       "      <td>0</td>\n",
       "      <td>0</td>\n",
       "      <td>0</td>\n",
       "      <td>0</td>\n",
       "      <td>0</td>\n",
       "      <td>0</td>\n",
       "      <td>0</td>\n",
       "    </tr>\n",
       "    <tr>\n",
       "      <th>1729773</th>\n",
       "      <td>1357948798000000</td>\n",
       "      <td>39.0</td>\n",
       "      <td>0</td>\n",
       "      <td>00391001</td>\n",
       "      <td>2013-01-11</td>\n",
       "      <td>3020</td>\n",
       "      <td>PO</td>\n",
       "      <td>0</td>\n",
       "      <td>-6.252700</td>\n",
       "      <td>53.331966</td>\n",
       "      <td>-486</td>\n",
       "      <td>39010</td>\n",
       "      <td>36061</td>\n",
       "      <td>7339.0</td>\n",
       "      <td>1</td>\n",
       "      <td>0</td>\n",
       "      <td>0</td>\n",
       "      <td>0</td>\n",
       "      <td>0</td>\n",
       "      <td>0</td>\n",
       "      <td>0</td>\n",
       "      <td>0</td>\n",
       "      <td>0</td>\n",
       "      <td>0</td>\n",
       "    </tr>\n",
       "  </tbody>\n",
       "</table>\n",
       "</div>"
      ],
      "text/plain": [
       "                timestamp  line_id  direction journey_id  time_frame  \\\n",
       "1729769  1357948798000000     83.0          0   00830001  2013-01-11   \n",
       "1729770  1357948798000000     39.0          0        NaN  2013-01-11   \n",
       "1729771  1357948798000000     15.0          0   00151001  2013-01-11   \n",
       "1729772  1357948798000000    272.0          0   027B0002  2013-01-11   \n",
       "1729773  1357948798000000     39.0          0   00391001  2013-01-11   \n",
       "\n",
       "         vehicle_journey_id operator  congestion       lng        lat  delay  \\\n",
       "1729769                5776       HN           0 -6.302700  53.318638   -144   \n",
       "1729770                3175       PO           0 -6.244823  53.328770    170   \n",
       "1729771                5112       HN           0 -6.152171  53.402569    503   \n",
       "1729772                 369       HN           0 -6.276100  53.418041    129   \n",
       "1729773                3020       PO           0 -6.252700  53.331966   -486   \n",
       "\n",
       "         block_id  vehicle_id  stop_id  stop  velocity  acc  \\\n",
       "1729769     83011       40020   2489.0     0         0    0   \n",
       "1729770     39020       36054    767.0     0         0    0   \n",
       "1729771     15105       33502   7245.0     1         0    0   \n",
       "1729772    272005       33504   1629.0     0         0    0   \n",
       "1729773     39010       36061   7339.0     1         0    0   \n",
       "\n",
       "         dist_from_old_point  time_from_old_point  MF_lat  MF_lng  \\\n",
       "1729769                    0                    0       0       0   \n",
       "1729770                    0                    0       0       0   \n",
       "1729771                    0                    0       0       0   \n",
       "1729772                    0                    0       0       0   \n",
       "1729773                    0                    0       0       0   \n",
       "\n",
       "         MF_velocity  MF_acc  MF_dist_from_old_point  \n",
       "1729769            0       0                       0  \n",
       "1729770            0       0                       0  \n",
       "1729771            0       0                       0  \n",
       "1729772            0       0                       0  \n",
       "1729773            0       0                       0  "
      ]
     },
     "execution_count": 7,
     "metadata": {},
     "output_type": "execute_result"
    }
   ],
   "source": [
    "df.tail()"
   ]
  },
  {
   "cell_type": "code",
   "execution_count": 8,
   "metadata": {},
   "outputs": [
    {
     "name": "stdout",
     "output_type": "stream",
     "text": [
      "<class 'pandas.core.frame.DataFrame'>\n",
      "Int64Index: 3430406 entries, 0 to 1729773\n",
      "Data columns (total 24 columns):\n",
      " #   Column                  Dtype  \n",
      "---  ------                  -----  \n",
      " 0   timestamp               int64  \n",
      " 1   line_id                 float64\n",
      " 2   direction               int64  \n",
      " 3   journey_id              object \n",
      " 4   time_frame              object \n",
      " 5   vehicle_journey_id      int64  \n",
      " 6   operator                object \n",
      " 7   congestion              int64  \n",
      " 8   lng                     float64\n",
      " 9   lat                     float64\n",
      " 10  delay                   int64  \n",
      " 11  block_id                int64  \n",
      " 12  vehicle_id              int64  \n",
      " 13  stop_id                 float64\n",
      " 14  stop                    int64  \n",
      " 15  velocity                int64  \n",
      " 16  acc                     int64  \n",
      " 17  dist_from_old_point     int64  \n",
      " 18  time_from_old_point     int64  \n",
      " 19  MF_lat                  int64  \n",
      " 20  MF_lng                  int64  \n",
      " 21  MF_velocity             int64  \n",
      " 22  MF_acc                  int64  \n",
      " 23  MF_dist_from_old_point  int64  \n",
      "dtypes: float64(4), int64(17), object(3)\n",
      "memory usage: 654.3+ MB\n"
     ]
    }
   ],
   "source": [
    "df.info()"
   ]
  },
  {
   "cell_type": "code",
   "execution_count": 9,
   "metadata": {},
   "outputs": [
    {
     "data": {
      "text/html": [
       "<div>\n",
       "<style scoped>\n",
       "    .dataframe tbody tr th:only-of-type {\n",
       "        vertical-align: middle;\n",
       "    }\n",
       "\n",
       "    .dataframe tbody tr th {\n",
       "        vertical-align: top;\n",
       "    }\n",
       "\n",
       "    .dataframe thead th {\n",
       "        text-align: right;\n",
       "    }\n",
       "</style>\n",
       "<table border=\"1\" class=\"dataframe\">\n",
       "  <thead>\n",
       "    <tr style=\"text-align: right;\">\n",
       "      <th></th>\n",
       "      <th>timestamp</th>\n",
       "      <th>line_id</th>\n",
       "      <th>direction</th>\n",
       "      <th>vehicle_journey_id</th>\n",
       "      <th>congestion</th>\n",
       "      <th>lng</th>\n",
       "      <th>lat</th>\n",
       "      <th>delay</th>\n",
       "      <th>block_id</th>\n",
       "      <th>vehicle_id</th>\n",
       "      <th>stop_id</th>\n",
       "      <th>stop</th>\n",
       "      <th>velocity</th>\n",
       "      <th>acc</th>\n",
       "      <th>dist_from_old_point</th>\n",
       "      <th>time_from_old_point</th>\n",
       "      <th>MF_lat</th>\n",
       "      <th>MF_lng</th>\n",
       "      <th>MF_velocity</th>\n",
       "      <th>MF_acc</th>\n",
       "      <th>MF_dist_from_old_point</th>\n",
       "    </tr>\n",
       "  </thead>\n",
       "  <tbody>\n",
       "    <tr>\n",
       "      <th>count</th>\n",
       "      <td>3.430406e+06</td>\n",
       "      <td>3.429963e+06</td>\n",
       "      <td>3430406.0</td>\n",
       "      <td>3.430406e+06</td>\n",
       "      <td>3.430406e+06</td>\n",
       "      <td>3.430406e+06</td>\n",
       "      <td>3.430406e+06</td>\n",
       "      <td>3.430406e+06</td>\n",
       "      <td>3.430406e+06</td>\n",
       "      <td>3.430406e+06</td>\n",
       "      <td>3.236571e+06</td>\n",
       "      <td>3.430406e+06</td>\n",
       "      <td>3430406.0</td>\n",
       "      <td>3430406.0</td>\n",
       "      <td>3430406.0</td>\n",
       "      <td>3430406.0</td>\n",
       "      <td>3430406.0</td>\n",
       "      <td>3430406.0</td>\n",
       "      <td>3430406.0</td>\n",
       "      <td>3430406.0</td>\n",
       "      <td>3430406.0</td>\n",
       "    </tr>\n",
       "    <tr>\n",
       "      <th>mean</th>\n",
       "      <td>1.357871e+15</td>\n",
       "      <td>7.674974e+01</td>\n",
       "      <td>0.0</td>\n",
       "      <td>8.030546e+03</td>\n",
       "      <td>1.081942e-02</td>\n",
       "      <td>-6.271851e+00</td>\n",
       "      <td>5.334449e+01</td>\n",
       "      <td>-1.286452e+01</td>\n",
       "      <td>1.157287e+05</td>\n",
       "      <td>3.534091e+04</td>\n",
       "      <td>2.755840e+03</td>\n",
       "      <td>2.306231e-01</td>\n",
       "      <td>0.0</td>\n",
       "      <td>0.0</td>\n",
       "      <td>0.0</td>\n",
       "      <td>0.0</td>\n",
       "      <td>0.0</td>\n",
       "      <td>0.0</td>\n",
       "      <td>0.0</td>\n",
       "      <td>0.0</td>\n",
       "      <td>0.0</td>\n",
       "    </tr>\n",
       "    <tr>\n",
       "      <th>std</th>\n",
       "      <td>4.666748e+10</td>\n",
       "      <td>1.110898e+02</td>\n",
       "      <td>0.0</td>\n",
       "      <td>6.354814e+04</td>\n",
       "      <td>1.034522e-01</td>\n",
       "      <td>8.350831e-02</td>\n",
       "      <td>5.512406e-02</td>\n",
       "      <td>4.634146e+02</td>\n",
       "      <td>2.029284e+05</td>\n",
       "      <td>3.250063e+03</td>\n",
       "      <td>2.187218e+03</td>\n",
       "      <td>4.212317e-01</td>\n",
       "      <td>0.0</td>\n",
       "      <td>0.0</td>\n",
       "      <td>0.0</td>\n",
       "      <td>0.0</td>\n",
       "      <td>0.0</td>\n",
       "      <td>0.0</td>\n",
       "      <td>0.0</td>\n",
       "      <td>0.0</td>\n",
       "      <td>0.0</td>\n",
       "    </tr>\n",
       "    <tr>\n",
       "      <th>min</th>\n",
       "      <td>1.357776e+15</td>\n",
       "      <td>1.000000e+00</td>\n",
       "      <td>0.0</td>\n",
       "      <td>1.000000e+00</td>\n",
       "      <td>0.000000e+00</td>\n",
       "      <td>-6.615016e+00</td>\n",
       "      <td>5.307028e+01</td>\n",
       "      <td>-7.334000e+03</td>\n",
       "      <td>1.001000e+03</td>\n",
       "      <td>2.804700e+04</td>\n",
       "      <td>2.000000e+00</td>\n",
       "      <td>0.000000e+00</td>\n",
       "      <td>0.0</td>\n",
       "      <td>0.0</td>\n",
       "      <td>0.0</td>\n",
       "      <td>0.0</td>\n",
       "      <td>0.0</td>\n",
       "      <td>0.0</td>\n",
       "      <td>0.0</td>\n",
       "      <td>0.0</td>\n",
       "      <td>0.0</td>\n",
       "    </tr>\n",
       "    <tr>\n",
       "      <th>25%</th>\n",
       "      <td>1.357828e+15</td>\n",
       "      <td>2.500000e+01</td>\n",
       "      <td>0.0</td>\n",
       "      <td>2.007000e+03</td>\n",
       "      <td>0.000000e+00</td>\n",
       "      <td>-6.307797e+00</td>\n",
       "      <td>5.331963e+01</td>\n",
       "      <td>-1.880000e+02</td>\n",
       "      <td>1.602100e+04</td>\n",
       "      <td>3.329100e+04</td>\n",
       "      <td>8.330000e+02</td>\n",
       "      <td>0.000000e+00</td>\n",
       "      <td>0.0</td>\n",
       "      <td>0.0</td>\n",
       "      <td>0.0</td>\n",
       "      <td>0.0</td>\n",
       "      <td>0.0</td>\n",
       "      <td>0.0</td>\n",
       "      <td>0.0</td>\n",
       "      <td>0.0</td>\n",
       "      <td>0.0</td>\n",
       "    </tr>\n",
       "    <tr>\n",
       "      <th>50%</th>\n",
       "      <td>1.357885e+15</td>\n",
       "      <td>4.000000e+01</td>\n",
       "      <td>0.0</td>\n",
       "      <td>3.856000e+03</td>\n",
       "      <td>0.000000e+00</td>\n",
       "      <td>-6.261396e+00</td>\n",
       "      <td>5.334624e+01</td>\n",
       "      <td>0.000000e+00</td>\n",
       "      <td>4.021000e+04</td>\n",
       "      <td>3.351400e+04</td>\n",
       "      <td>2.101000e+03</td>\n",
       "      <td>0.000000e+00</td>\n",
       "      <td>0.0</td>\n",
       "      <td>0.0</td>\n",
       "      <td>0.0</td>\n",
       "      <td>0.0</td>\n",
       "      <td>0.0</td>\n",
       "      <td>0.0</td>\n",
       "      <td>0.0</td>\n",
       "      <td>0.0</td>\n",
       "      <td>0.0</td>\n",
       "    </tr>\n",
       "    <tr>\n",
       "      <th>75%</th>\n",
       "      <td>1.357914e+15</td>\n",
       "      <td>8.300000e+01</td>\n",
       "      <td>0.0</td>\n",
       "      <td>5.520000e+03</td>\n",
       "      <td>0.000000e+00</td>\n",
       "      <td>-6.232217e+00</td>\n",
       "      <td>5.337394e+01</td>\n",
       "      <td>1.290000e+02</td>\n",
       "      <td>1.020050e+05</td>\n",
       "      <td>3.801000e+04</td>\n",
       "      <td>4.411000e+03</td>\n",
       "      <td>0.000000e+00</td>\n",
       "      <td>0.0</td>\n",
       "      <td>0.0</td>\n",
       "      <td>0.0</td>\n",
       "      <td>0.0</td>\n",
       "      <td>0.0</td>\n",
       "      <td>0.0</td>\n",
       "      <td>0.0</td>\n",
       "      <td>0.0</td>\n",
       "      <td>0.0</td>\n",
       "    </tr>\n",
       "    <tr>\n",
       "      <th>max</th>\n",
       "      <td>1.357949e+15</td>\n",
       "      <td>7.470000e+02</td>\n",
       "      <td>0.0</td>\n",
       "      <td>9.997110e+05</td>\n",
       "      <td>1.000000e+00</td>\n",
       "      <td>-6.052917e+00</td>\n",
       "      <td>5.360655e+01</td>\n",
       "      <td>1.161220e+05</td>\n",
       "      <td>8.350020e+05</td>\n",
       "      <td>4.307800e+04</td>\n",
       "      <td>7.552000e+03</td>\n",
       "      <td>1.000000e+00</td>\n",
       "      <td>0.0</td>\n",
       "      <td>0.0</td>\n",
       "      <td>0.0</td>\n",
       "      <td>0.0</td>\n",
       "      <td>0.0</td>\n",
       "      <td>0.0</td>\n",
       "      <td>0.0</td>\n",
       "      <td>0.0</td>\n",
       "      <td>0.0</td>\n",
       "    </tr>\n",
       "  </tbody>\n",
       "</table>\n",
       "</div>"
      ],
      "text/plain": [
       "          timestamp       line_id  direction  vehicle_journey_id  \\\n",
       "count  3.430406e+06  3.429963e+06  3430406.0        3.430406e+06   \n",
       "mean   1.357871e+15  7.674974e+01        0.0        8.030546e+03   \n",
       "std    4.666748e+10  1.110898e+02        0.0        6.354814e+04   \n",
       "min    1.357776e+15  1.000000e+00        0.0        1.000000e+00   \n",
       "25%    1.357828e+15  2.500000e+01        0.0        2.007000e+03   \n",
       "50%    1.357885e+15  4.000000e+01        0.0        3.856000e+03   \n",
       "75%    1.357914e+15  8.300000e+01        0.0        5.520000e+03   \n",
       "max    1.357949e+15  7.470000e+02        0.0        9.997110e+05   \n",
       "\n",
       "         congestion           lng           lat         delay      block_id  \\\n",
       "count  3.430406e+06  3.430406e+06  3.430406e+06  3.430406e+06  3.430406e+06   \n",
       "mean   1.081942e-02 -6.271851e+00  5.334449e+01 -1.286452e+01  1.157287e+05   \n",
       "std    1.034522e-01  8.350831e-02  5.512406e-02  4.634146e+02  2.029284e+05   \n",
       "min    0.000000e+00 -6.615016e+00  5.307028e+01 -7.334000e+03  1.001000e+03   \n",
       "25%    0.000000e+00 -6.307797e+00  5.331963e+01 -1.880000e+02  1.602100e+04   \n",
       "50%    0.000000e+00 -6.261396e+00  5.334624e+01  0.000000e+00  4.021000e+04   \n",
       "75%    0.000000e+00 -6.232217e+00  5.337394e+01  1.290000e+02  1.020050e+05   \n",
       "max    1.000000e+00 -6.052917e+00  5.360655e+01  1.161220e+05  8.350020e+05   \n",
       "\n",
       "         vehicle_id       stop_id          stop   velocity        acc  \\\n",
       "count  3.430406e+06  3.236571e+06  3.430406e+06  3430406.0  3430406.0   \n",
       "mean   3.534091e+04  2.755840e+03  2.306231e-01        0.0        0.0   \n",
       "std    3.250063e+03  2.187218e+03  4.212317e-01        0.0        0.0   \n",
       "min    2.804700e+04  2.000000e+00  0.000000e+00        0.0        0.0   \n",
       "25%    3.329100e+04  8.330000e+02  0.000000e+00        0.0        0.0   \n",
       "50%    3.351400e+04  2.101000e+03  0.000000e+00        0.0        0.0   \n",
       "75%    3.801000e+04  4.411000e+03  0.000000e+00        0.0        0.0   \n",
       "max    4.307800e+04  7.552000e+03  1.000000e+00        0.0        0.0   \n",
       "\n",
       "       dist_from_old_point  time_from_old_point     MF_lat     MF_lng  \\\n",
       "count            3430406.0            3430406.0  3430406.0  3430406.0   \n",
       "mean                   0.0                  0.0        0.0        0.0   \n",
       "std                    0.0                  0.0        0.0        0.0   \n",
       "min                    0.0                  0.0        0.0        0.0   \n",
       "25%                    0.0                  0.0        0.0        0.0   \n",
       "50%                    0.0                  0.0        0.0        0.0   \n",
       "75%                    0.0                  0.0        0.0        0.0   \n",
       "max                    0.0                  0.0        0.0        0.0   \n",
       "\n",
       "       MF_velocity     MF_acc  MF_dist_from_old_point  \n",
       "count    3430406.0  3430406.0               3430406.0  \n",
       "mean           0.0        0.0                     0.0  \n",
       "std            0.0        0.0                     0.0  \n",
       "min            0.0        0.0                     0.0  \n",
       "25%            0.0        0.0                     0.0  \n",
       "50%            0.0        0.0                     0.0  \n",
       "75%            0.0        0.0                     0.0  \n",
       "max            0.0        0.0                     0.0  "
      ]
     },
     "execution_count": 9,
     "metadata": {},
     "output_type": "execute_result"
    }
   ],
   "source": [
    "df.describe()"
   ]
  },
  {
   "cell_type": "markdown",
   "metadata": {},
   "source": [
    "Retirar a coluna DIRECTION que não apresenta qualquer informação"
   ]
  },
  {
   "cell_type": "code",
   "execution_count": 10,
   "metadata": {},
   "outputs": [
    {
     "data": {
      "text/plain": [
       "False"
      ]
     },
     "execution_count": 10,
     "metadata": {},
     "output_type": "execute_result"
    }
   ],
   "source": [
    "df.drop('direction', axis=1, inplace=True)\n",
    "'direction' in df.columns"
   ]
  },
  {
   "cell_type": "markdown",
   "metadata": {},
   "source": [
    "Indicar quais das colunas são categoricas:"
   ]
  },
  {
   "cell_type": "code",
   "execution_count": 11,
   "metadata": {},
   "outputs": [],
   "source": [
    "list_cats = ['line_id', 'journey_id' , 'time_frame', \n",
    "             'vehicle_journey_id', 'operator', 'block_id', \n",
    "             'vehicle_id', 'stop_id']"
   ]
  },
  {
   "cell_type": "markdown",
   "metadata": {},
   "source": [
    "### Ajusta tipo das features"
   ]
  },
  {
   "cell_type": "markdown",
   "metadata": {},
   "source": [
    "#### Boolean"
   ]
  },
  {
   "cell_type": "code",
   "execution_count": 12,
   "metadata": {},
   "outputs": [],
   "source": [
    "df.stop = df.stop.astype('bool')\n",
    "df.congestion = df.congestion.astype('bool')"
   ]
  },
  {
   "cell_type": "markdown",
   "metadata": {},
   "source": [
    "#### Datetime (microseconds - us)"
   ]
  },
  {
   "cell_type": "code",
   "execution_count": 13,
   "metadata": {},
   "outputs": [],
   "source": [
    "df['datetime'] = pd.to_datetime(df[\"timestamp\"], unit='us')"
   ]
  },
  {
   "cell_type": "markdown",
   "metadata": {},
   "source": [
    "##### Criação de duas novas features derivadas (day, hour)"
   ]
  },
  {
   "cell_type": "code",
   "execution_count": 14,
   "metadata": {},
   "outputs": [],
   "source": [
    "df['hour'] = df[\"datetime\"].dt.hour\n",
    "df['day'] = df[\"datetime\"].dt.day"
   ]
  },
  {
   "cell_type": "markdown",
   "metadata": {},
   "source": [
    "### Descrição das chaves para criação de trajetórias"
   ]
  },
  {
   "cell_type": "code",
   "execution_count": 15,
   "metadata": {},
   "outputs": [
    {
     "name": "stdout",
     "output_type": "stream",
     "text": [
      "Descritivo de instâncias únicas para cada atributo da chave:\n"
     ]
    },
    {
     "data": {
      "text/plain": [
       "(('line_id', 66),\n",
       " ('journey_id', 441),\n",
       " ('time_frame', 3),\n",
       " ('vehicle_journey_id', 7495),\n",
       " ('operator', 8),\n",
       " ('vehicle_id', 850))"
      ]
     },
     "execution_count": 15,
     "metadata": {},
     "output_type": "execute_result"
    }
   ],
   "source": [
    "lista_tamanhos = map((lambda x: len(df[x].unique())), trajetoria)\n",
    "mescla = zip(trajetoria, lista_tamanhos)\n",
    "print('Descritivo de instâncias únicas para cada atributo da chave:')\n",
    "tuple(mescla)"
   ]
  },
  {
   "cell_type": "markdown",
   "metadata": {},
   "source": [
    "### Como o 'prodution time' é entre 6am e 3am. Existem rotas fora desta janelas?"
   ]
  },
  {
   "cell_type": "code",
   "execution_count": 16,
   "metadata": {},
   "outputs": [
    {
     "data": {
      "text/html": [
       "<div>\n",
       "<style scoped>\n",
       "    .dataframe tbody tr th:only-of-type {\n",
       "        vertical-align: middle;\n",
       "    }\n",
       "\n",
       "    .dataframe tbody tr th {\n",
       "        vertical-align: top;\n",
       "    }\n",
       "\n",
       "    .dataframe thead th {\n",
       "        text-align: right;\n",
       "    }\n",
       "</style>\n",
       "<table border=\"1\" class=\"dataframe\">\n",
       "  <thead>\n",
       "    <tr style=\"text-align: right;\">\n",
       "      <th></th>\n",
       "      <th>timestamp</th>\n",
       "      <th>line_id</th>\n",
       "      <th>journey_id</th>\n",
       "      <th>time_frame</th>\n",
       "      <th>vehicle_journey_id</th>\n",
       "      <th>operator</th>\n",
       "      <th>congestion</th>\n",
       "      <th>lng</th>\n",
       "      <th>lat</th>\n",
       "      <th>delay</th>\n",
       "      <th>block_id</th>\n",
       "      <th>vehicle_id</th>\n",
       "      <th>stop_id</th>\n",
       "      <th>stop</th>\n",
       "      <th>velocity</th>\n",
       "      <th>acc</th>\n",
       "      <th>dist_from_old_point</th>\n",
       "      <th>time_from_old_point</th>\n",
       "      <th>MF_lat</th>\n",
       "      <th>MF_lng</th>\n",
       "      <th>MF_velocity</th>\n",
       "      <th>MF_acc</th>\n",
       "      <th>MF_dist_from_old_point</th>\n",
       "      <th>datetime</th>\n",
       "      <th>hour</th>\n",
       "      <th>day</th>\n",
       "    </tr>\n",
       "  </thead>\n",
       "  <tbody>\n",
       "  </tbody>\n",
       "</table>\n",
       "</div>"
      ],
      "text/plain": [
       "Empty DataFrame\n",
       "Columns: [timestamp, line_id, journey_id, time_frame, vehicle_journey_id, operator, congestion, lng, lat, delay, block_id, vehicle_id, stop_id, stop, velocity, acc, dist_from_old_point, time_from_old_point, MF_lat, MF_lng, MF_velocity, MF_acc, MF_dist_from_old_point, datetime, hour, day]\n",
       "Index: []"
      ]
     },
     "execution_count": 16,
     "metadata": {},
     "output_type": "execute_result"
    }
   ],
   "source": [
    "df[(3 < df.hour) & (df.hour < 6)]"
   ]
  },
  {
   "cell_type": "markdown",
   "metadata": {},
   "source": [
    "## Análisar trajetórias"
   ]
  },
  {
   "cell_type": "code",
   "execution_count": 17,
   "metadata": {},
   "outputs": [],
   "source": [
    "df_traj = df.groupby(trajetoria).size().reset_index()\n",
    "df_traj['points'] = df_traj[0]\n",
    "df_traj.drop(0, axis=1, inplace=True)"
   ]
  },
  {
   "cell_type": "code",
   "execution_count": 18,
   "metadata": {},
   "outputs": [
    {
     "data": {
      "text/html": [
       "<div>\n",
       "<style scoped>\n",
       "    .dataframe tbody tr th:only-of-type {\n",
       "        vertical-align: middle;\n",
       "    }\n",
       "\n",
       "    .dataframe tbody tr th {\n",
       "        vertical-align: top;\n",
       "    }\n",
       "\n",
       "    .dataframe thead th {\n",
       "        text-align: right;\n",
       "    }\n",
       "</style>\n",
       "<table border=\"1\" class=\"dataframe\">\n",
       "  <thead>\n",
       "    <tr style=\"text-align: right;\">\n",
       "      <th></th>\n",
       "      <th>line_id</th>\n",
       "      <th>journey_id</th>\n",
       "      <th>time_frame</th>\n",
       "      <th>vehicle_journey_id</th>\n",
       "      <th>operator</th>\n",
       "      <th>vehicle_id</th>\n",
       "      <th>points</th>\n",
       "    </tr>\n",
       "  </thead>\n",
       "  <tbody>\n",
       "    <tr>\n",
       "      <th>0</th>\n",
       "      <td>1.0</td>\n",
       "      <td>00010001</td>\n",
       "      <td>2013-01-10</td>\n",
       "      <td>4304</td>\n",
       "      <td>RD</td>\n",
       "      <td>43072</td>\n",
       "      <td>1</td>\n",
       "    </tr>\n",
       "    <tr>\n",
       "      <th>1</th>\n",
       "      <td>1.0</td>\n",
       "      <td>00010001</td>\n",
       "      <td>2013-01-10</td>\n",
       "      <td>4305</td>\n",
       "      <td>RD</td>\n",
       "      <td>43072</td>\n",
       "      <td>1</td>\n",
       "    </tr>\n",
       "    <tr>\n",
       "      <th>2</th>\n",
       "      <td>1.0</td>\n",
       "      <td>00010001</td>\n",
       "      <td>2013-01-10</td>\n",
       "      <td>4306</td>\n",
       "      <td>RD</td>\n",
       "      <td>43072</td>\n",
       "      <td>2</td>\n",
       "    </tr>\n",
       "    <tr>\n",
       "      <th>3</th>\n",
       "      <td>1.0</td>\n",
       "      <td>00010001</td>\n",
       "      <td>2013-01-10</td>\n",
       "      <td>4307</td>\n",
       "      <td>RD</td>\n",
       "      <td>43072</td>\n",
       "      <td>1</td>\n",
       "    </tr>\n",
       "    <tr>\n",
       "      <th>4</th>\n",
       "      <td>1.0</td>\n",
       "      <td>00010001</td>\n",
       "      <td>2013-01-10</td>\n",
       "      <td>4308</td>\n",
       "      <td>RD</td>\n",
       "      <td>43072</td>\n",
       "      <td>1</td>\n",
       "    </tr>\n",
       "  </tbody>\n",
       "</table>\n",
       "</div>"
      ],
      "text/plain": [
       "   line_id journey_id  time_frame  vehicle_journey_id operator  vehicle_id  \\\n",
       "0      1.0   00010001  2013-01-10                4304       RD       43072   \n",
       "1      1.0   00010001  2013-01-10                4305       RD       43072   \n",
       "2      1.0   00010001  2013-01-10                4306       RD       43072   \n",
       "3      1.0   00010001  2013-01-10                4307       RD       43072   \n",
       "4      1.0   00010001  2013-01-10                4308       RD       43072   \n",
       "\n",
       "   points  \n",
       "0       1  \n",
       "1       1  \n",
       "2       2  \n",
       "3       1  \n",
       "4       1  "
      ]
     },
     "execution_count": 18,
     "metadata": {},
     "output_type": "execute_result"
    }
   ],
   "source": [
    "df_traj.head()"
   ]
  },
  {
   "cell_type": "code",
   "execution_count": 19,
   "metadata": {},
   "outputs": [
    {
     "data": {
      "text/plain": [
       "count    25840.000000\n",
       "mean       113.391370\n",
       "std        113.703676\n",
       "min          1.000000\n",
       "25%          1.000000\n",
       "50%        105.000000\n",
       "75%        207.250000\n",
       "max        875.000000\n",
       "Name: points, dtype: float64"
      ]
     },
     "execution_count": 19,
     "metadata": {},
     "output_type": "execute_result"
    }
   ],
   "source": [
    "df_traj.points.describe()"
   ]
  },
  {
   "cell_type": "code",
   "execution_count": 20,
   "metadata": {},
   "outputs": [
    {
     "data": {
      "text/plain": [
       "<AxesSubplot:>"
      ]
     },
     "execution_count": 20,
     "metadata": {},
     "output_type": "execute_result"
    },
    {
     "data": {
      "image/png": "[encoded data removed]",
      "text/plain": [
       "<Figure size 432x288 with 1 Axes>"
      ]
     },
     "metadata": {
      "needs_background": "light"
     },
     "output_type": "display_data"
    }
   ],
   "source": [
    "df_traj.points.plot(kind='box')"
   ]
  },
  {
   "cell_type": "code",
   "execution_count": 21,
   "metadata": {},
   "outputs": [
    {
     "data": {
      "text/plain": [
       "<AxesSubplot:ylabel='Frequency'>"
      ]
     },
     "execution_count": 21,
     "metadata": {},
     "output_type": "execute_result"
    },
    {
     "data": {
      "image/png": "[encoded data removed]",
      "text/plain": [
       "<Figure size 432x288 with 1 Axes>"
      ]
     },
     "metadata": {
      "needs_background": "light"
     },
     "output_type": "display_data"
    }
   ],
   "source": [
    "df_traj.points.plot(kind='hist')"
   ]
  },
  {
   "cell_type": "code",
   "execution_count": 22,
   "metadata": {},
   "outputs": [
    {
     "data": {
      "text/plain": [
       "<AxesSubplot:ylabel='Frequency'>"
      ]
     },
     "execution_count": 22,
     "metadata": {},
     "output_type": "execute_result"
    },
    {
     "data": {
      "image/png": "[encoded data removed]",
      "text/plain": [
       "<Figure size 432x288 with 1 Axes>"
      ]
     },
     "metadata": {
      "needs_background": "light"
     },
     "output_type": "display_data"
    }
   ],
   "source": [
    "df_traj['points_log'] = np.log10(df_traj['points'])\n",
    "df_traj.plot(y='points_log', kind='hist')"
   ]
  },
  {
   "cell_type": "code",
   "execution_count": 23,
   "metadata": {},
   "outputs": [
    {
     "data": {
      "text/plain": [
       "count    25840.000000\n",
       "mean         1.309341\n",
       "std          1.105556\n",
       "min          0.000000\n",
       "25%          0.000000\n",
       "50%          2.021189\n",
       "75%          2.316494\n",
       "max          2.942008\n",
       "Name: points_log, dtype: float64"
      ]
     },
     "execution_count": 23,
     "metadata": {},
     "output_type": "execute_result"
    }
   ],
   "source": [
    "df_traj.points_log.describe()"
   ]
  },
  {
   "cell_type": "markdown",
   "metadata": {},
   "source": [
    "Observamos uma partição dos número de pontos por trajetória um pouco abaixo de 100 pontos. Mais a frente iremos usar o valor limite de 50 pontos para excluir as trajetórias abaixo deste limiar."
   ]
  },
  {
   "cell_type": "code",
   "execution_count": 24,
   "metadata": {},
   "outputs": [],
   "source": [
    "minimo_pontos = 50"
   ]
  },
  {
   "cell_type": "markdown",
   "metadata": {},
   "source": [
    "## Gerar trajetórias"
   ]
  },
  {
   "cell_type": "markdown",
   "metadata": {},
   "source": [
    "Na função que gera trajetórias incluimos algumas features aproveitando o fato de que esta geração de trajetórias percorre o dataset linha a linha, uma vez que precisamos identificar um valor limite entre duas amostras do GPS para poder validar a trajetória. Usamos aqui o valor é de 5 minutos."
   ]
  },
  {
   "cell_type": "code",
   "execution_count": 25,
   "metadata": {},
   "outputs": [
    {
     "data": {
      "text/plain": [
       "<function list.remove(value, /)>"
      ]
     },
     "execution_count": 25,
     "metadata": {},
     "output_type": "execute_result"
    }
   ],
   "source": [
    "[1,2,3].remove"
   ]
  },
  {
   "cell_type": "code",
   "execution_count": 26,
   "metadata": {},
   "outputs": [
    {
     "data": {
      "text/plain": [
       "(1, 2)"
      ]
     },
     "execution_count": 26,
     "metadata": {},
     "output_type": "execute_result"
    }
   ],
   "source": [
    "tuple([1,2])"
   ]
  },
  {
   "cell_type": "code",
   "execution_count": 27,
   "metadata": {},
   "outputs": [
    {
     "name": "stdout",
     "output_type": "stream",
     "text": [
      "[1.  1.6]\n",
      "[1.2 2.4]\n",
      "[1.6 3.4]\n"
     ]
    }
   ],
   "source": [
    "l = np.array(5* [(1,1),])\n",
    "\n",
    "for x, y in zip((1,2,3), (4,5,6)):\n",
    "    l = np.array([*l[1:], tuple([x,y])])\n",
    "    \n",
    "    print(l.mean(axis=0))"
   ]
  },
  {
   "cell_type": "code",
   "execution_count": 28,
   "metadata": {},
   "outputs": [
    {
     "ename": "TypeError",
     "evalue": "list indices must be integers or slices, not str",
     "output_type": "error",
     "traceback": [
      "\u001b[0;31m---------------------------------------------------------------------------\u001b[0m",
      "\u001b[0;31mTypeError\u001b[0m                                 Traceback (most recent call last)",
      "\u001b[0;32m<ipython-input-28-e5d1177b3afa>\u001b[0m in \u001b[0;36m<module>\u001b[0;34m\u001b[0m\n\u001b[1;32m      1\u001b[0m \u001b[0mx\u001b[0m \u001b[0;34m=\u001b[0m \u001b[0mlist\u001b[0m\u001b[0;34m(\u001b[0m\u001b[0mrange\u001b[0m\u001b[0;34m(\u001b[0m\u001b[0;36m10\u001b[0m\u001b[0;34m)\u001b[0m\u001b[0;34m)\u001b[0m\u001b[0;34m\u001b[0m\u001b[0;34m\u001b[0m\u001b[0m\n\u001b[1;32m      2\u001b[0m \u001b[0mxx\u001b[0m \u001b[0;34m=\u001b[0m \u001b[0mpd\u001b[0m\u001b[0;34m.\u001b[0m\u001b[0mDataFrame\u001b[0m\u001b[0;34m(\u001b[0m\u001b[0mdata\u001b[0m\u001b[0;34m=\u001b[0m\u001b[0;34m{\u001b[0m\u001b[0;34m'a'\u001b[0m\u001b[0;34m:\u001b[0m\u001b[0mx\u001b[0m\u001b[0;34m,\u001b[0m \u001b[0;34m'b'\u001b[0m\u001b[0;34m:\u001b[0m\u001b[0mx\u001b[0m\u001b[0;34m}\u001b[0m\u001b[0;34m)\u001b[0m\u001b[0;34m\u001b[0m\u001b[0;34m\u001b[0m\u001b[0m\n\u001b[0;32m----> 3\u001b[0;31m \u001b[0mxx\u001b[0m\u001b[0;34m[\u001b[0m\u001b[0;34m'xa'\u001b[0m\u001b[0;34m]\u001b[0m \u001b[0;34m=\u001b[0m \u001b[0mx\u001b[0m\u001b[0;34m[\u001b[0m\u001b[0;34m'a'\u001b[0m\u001b[0;34m]\u001b[0m\u001b[0;34m\u001b[0m\u001b[0;34m\u001b[0m\u001b[0m\n\u001b[0m\u001b[1;32m      4\u001b[0m \u001b[0mxx\u001b[0m\u001b[0;34m[\u001b[0m\u001b[0;34m'xa'\u001b[0m\u001b[0;34m]\u001b[0m \u001b[0;34m=\u001b[0m \u001b[0mx\u001b[0m\u001b[0;34m[\u001b[0m\u001b[0;34m'a'\u001b[0m\u001b[0;34m]\u001b[0m\u001b[0;34m\u001b[0m\u001b[0;34m\u001b[0m\u001b[0m\n",
      "\u001b[0;31mTypeError\u001b[0m: list indices must be integers or slices, not str"
     ]
    }
   ],
   "source": [
    "x = list(range(10))\n",
    "xx = pd.DataFrame(data={'a':x, 'b':x})\n",
    "xx['xa'] = x['a']\n",
    "xx['xa'] = x['a']"
   ]
  },
  {
   "cell_type": "code",
   "execution_count": null,
   "metadata": {},
   "outputs": [],
   "source": [
    "x1 = pd.DataFrame(data={'a':[1], 'b': [2]})\n",
    "ac = x1.iloc[0]\n",
    "x1\n",
    "\n",
    "ac.a = 50\n",
    "ac\n",
    "x1"
   ]
  },
  {
   "cell_type": "code",
   "execution_count": null,
   "metadata": {},
   "outputs": [],
   "source": [
    "## Função resp. pela criação de sentenças/trajetórias\n",
    "\n",
    "### Funções auxiliares\n",
    "\n",
    "def not_window(time):\n",
    "    return time > 5 * 60\n",
    "\n",
    "def delta_time(t1, t2) -> float:\n",
    "    ##Return time difference between time in seconds\n",
    "    t1 = pd.to_datetime(t1,unit='us')\n",
    "    t2 = pd.to_datetime(t2,unit='us')\n",
    "    time = pd.Timedelta(np.abs(t2 - t1))\n",
    "    return time.seconds\n",
    "\n",
    "\n",
    "### Função principal\n",
    "filter_N = 5\n",
    "\n",
    "def create_sentences2(data, trajectory_features, idx):\n",
    "    ## Aqui caberia transformar a análise em um serie temporal???\n",
    "    data = data.sort_values('timestamp')\n",
    "    # Seleciona ponto zero (inicio da rota)\n",
    "    point = data.iloc[0]\n",
    "    old_time = point['timestamp']\n",
    "    old_position = point[['lat','lng']].values\n",
    "    # Utilização de Mean Filter (MF) para eliminar ruídos\n",
    "    initial_filter = np.array(old_position)\n",
    "    point['MF_lat'] = point['lat']\n",
    "    point['MF_lng'] = point['lng']\n",
    "    MF_old_position = old_position\n",
    "    num_points = 0\n",
    "    #for index in tqdm(data.index):\n",
    "    for index, row in data.iloc[1:].iterrows():\n",
    "    #for index in data.index:\n",
    "        # calculo da diferença de tempo\n",
    "        actual_time = row['timestamp']\n",
    "        row['time_from_old_point'] = time = delta_time(old_time, actual_time)\n",
    "        # Marca a etiqueta -1 para posterior remoção de trajetória que não possuem um mínimo de pontos\n",
    "        # e não atendem à janela temporal entre pontos\n",
    "        #if (~is_window(time) & (num_points < minimo_pontos)):\n",
    "        if (not_window(time)):\n",
    "            #TODO#\n",
    "            data['idx'] = -1\n",
    "            return data\n",
    "        #FI\n",
    "        # calculo da diferença espacial\n",
    "        actual_position = row[['lat','lng']].values\n",
    "        space = geodesic(old_position, actual_position).meters\n",
    "        row.dist_from_old_point = space\n",
    "        ## idem para MF\n",
    "        ### Add (lat, lng) no vetor para tirar a média posterior\n",
    "        if (len(initial_filter) < filter_N):\n",
    "            initial_filter = np.array([*initial_filter, actual_position])\n",
    "        else:\n",
    "            initial_filter = np.array([*initial_filter[1:], tuple(actual_position)])\n",
    "        #FI\n",
    "        #print (initial_filter)\n",
    "        #print(initial_filter.mean(axis=0)[0])\n",
    "        #input()\n",
    "        row['MF_lat'] = initial_filter.mean(axis=0)[0]\n",
    "        row['MF_lng'] = initial_filter.mean(axis=0)[1]\n",
    "        MF_actual_position = row[['MF_lat','MF_lng']].values\n",
    "        MF_space = geodesic(MF_old_position, MF_actual_position).meters\n",
    "        row['MF_dist_from_old_point'] = MF_space\n",
    "        # evita divisão por zero e atribui mantem o valor default nulo (0).\n",
    "        # uma vez que se não há variação no timestamp da amostra, \n",
    "        # não haverá de velocidade e aceleração também\n",
    "        if (time != 0):\n",
    "            row['velocity'] = space / time\n",
    "            row['acc'] = space / (time * time)\n",
    "            # MF\n",
    "            row['MF_velocity'] = MF_space / time\n",
    "            row['MF_acc'] = MF_space / (time * time)\n",
    "        #FI\n",
    "        data.loc[index] = row\n",
    "        old_time = actual_time\n",
    "        old_position = actual_position\n",
    "        MF_old_position = MF_actual_position\n",
    "        num_points += 1\n",
    "    # ao final toda a trajetória recebe o mesmo ID criado dentro do loop que chama esta função\n",
    "    data['idx'] = idx\n",
    "    return data"
   ]
  },
  {
   "cell_type": "markdown",
   "metadata": {},
   "source": [
    "No agrupamento a seguir todas as instâncias com uma das features listadas como chave com valor NaN é descartada."
   ]
  },
  {
   "cell_type": "code",
   "execution_count": null,
   "metadata": {},
   "outputs": [],
   "source": [
    "dfs = [x for _,x in df.groupby(trajetoria) if (len(x) > minimo_pontos)]"
   ]
  },
  {
   "cell_type": "raw",
   "metadata": {},
   "source": [
    "dfs2 = []\n",
    "iterator = 0\n",
    "for x in dfs[:50]:\n",
    "    dfs2.append(create_sentences2(x, trajetoria, iterator))\n",
    "    iterator += 1\n",
    "dfs2 = pd.concat(dfs2)\n",
    "dfs2 = dfs2[dfs2.idx != -1]"
   ]
  },
  {
   "cell_type": "code",
   "execution_count": null,
   "metadata": {},
   "outputs": [],
   "source": [
    "#backup\n",
    "df0 = df.copy()"
   ]
  },
  {
   "cell_type": "code",
   "execution_count": null,
   "metadata": {
    "scrolled": true
   },
   "outputs": [],
   "source": [
    "df = df0\n",
    "num_trajetorias = 50\n",
    "# esta variavel será o gerador das IDs de trajetorias\n",
    "ID = range(num_trajetorias)\n",
    "#print(len(dfs[:num_trajetorias]))\n",
    "#print(len(ID))\n",
    "df = map(lambda x, i: create_sentences2(x, trajetoria, i), dfs[:num_trajetorias], ID)\n",
    "df = pd.concat(list(df))\n",
    "df = df[df.idx != -1]"
   ]
  },
  {
   "cell_type": "code",
   "execution_count": null,
   "metadata": {},
   "outputs": [],
   "source": [
    "df.head()"
   ]
  },
  {
   "cell_type": "code",
   "execution_count": null,
   "metadata": {},
   "outputs": [],
   "source": [
    "df[df.idx==0][['lat','lng','MF_lat','MF_lng']].head(20)"
   ]
  },
  {
   "cell_type": "code",
   "execution_count": null,
   "metadata": {},
   "outputs": [],
   "source": [
    "new_cols = ['time_from_old_point',\n",
    "            'velocity', 'acc', 'dist_from_old_point',\n",
    "            'MF_velocity', 'MF_acc', 'MF_dist_from_old_point']\n",
    "df[new_cols].describe()"
   ]
  },
  {
   "cell_type": "code",
   "execution_count": null,
   "metadata": {},
   "outputs": [],
   "source": [
    "df[new_cols].plot(kind='box', figsize=(10,6))"
   ]
  },
  {
   "cell_type": "code",
   "execution_count": null,
   "metadata": {},
   "outputs": [],
   "source": [
    "list_cats = ['line_id', 'journey_id' , 'time_frame', 'vehicle_journey_id', 'operator' ]\n",
    "for cat in list_cats:\n",
    "    df[cat] = df[cat].astype('category')\n",
    "    #df[cat] = df[cat].cat.codes"
   ]
  },
  {
   "cell_type": "code",
   "execution_count": null,
   "metadata": {},
   "outputs": [],
   "source": [
    "from sklearn.ensemble import IsolationForest"
   ]
  },
  {
   "cell_type": "code",
   "execution_count": null,
   "metadata": {},
   "outputs": [],
   "source": [
    "feats = ['velocity','acc']\n",
    "rng = np.random.RandomState(42)\n",
    "clf = IsolationForest(max_samples=100, random_state=rng)\n",
    "clf.fit(df[feats])\n",
    "scores = clf.predict(df[feats])\n",
    "df['outlier'] = scores"
   ]
  },
  {
   "cell_type": "code",
   "execution_count": null,
   "metadata": {},
   "outputs": [],
   "source": [
    "MF_feats = ['MF_velocity','MF_acc']\n",
    "rng = np.random.RandomState(42)\n",
    "clf = IsolationForest(max_samples=100, random_state=rng)\n",
    "clf.fit(df[feats])\n",
    "scores = clf.predict(df[feats])\n",
    "df['MF_outlier'] = scores"
   ]
  },
  {
   "cell_type": "code",
   "execution_count": null,
   "metadata": {},
   "outputs": [],
   "source": [
    "df[df.outlier == 1][feats].describe()"
   ]
  },
  {
   "cell_type": "code",
   "execution_count": null,
   "metadata": {},
   "outputs": [],
   "source": [
    "df[df.MF_outlier == 1][MF_feats].describe()"
   ]
  },
  {
   "cell_type": "code",
   "execution_count": null,
   "metadata": {},
   "outputs": [],
   "source": [
    "df[df.outlier == 1][feats].hist()"
   ]
  },
  {
   "cell_type": "code",
   "execution_count": null,
   "metadata": {},
   "outputs": [],
   "source": [
    "from sklearn.neighbors import LocalOutlierFactor\n"
   ]
  },
  {
   "cell_type": "code",
   "execution_count": null,
   "metadata": {},
   "outputs": [],
   "source": [
    "clf = LocalOutlierFactor(n_neighbors=10, contamination=0.1)\n",
    "scores = clf.fit_predict(df[feats])\n",
    "df['outlier2'] = scores"
   ]
  },
  {
   "cell_type": "code",
   "execution_count": null,
   "metadata": {},
   "outputs": [],
   "source": [
    "clf = LocalOutlierFactor(n_neighbors=10, contamination=0.1)\n",
    "scores = clf.fit_predict(df[MF_feats])\n",
    "df['MF_outlier2'] = scores"
   ]
  },
  {
   "cell_type": "code",
   "execution_count": null,
   "metadata": {},
   "outputs": [],
   "source": [
    "df[df.outlier2 == 1][feats].describe()"
   ]
  },
  {
   "cell_type": "code",
   "execution_count": null,
   "metadata": {},
   "outputs": [],
   "source": [
    "df[df.MF_outlier2 == 1][MF_feats].describe()"
   ]
  },
  {
   "cell_type": "markdown",
   "metadata": {},
   "source": [
    "Testar se Isolation Forest funciona sem velocidade e aceleração"
   ]
  },
  {
   "cell_type": "code",
   "execution_count": null,
   "metadata": {},
   "outputs": [],
   "source": [
    "feats_loc = ['dist_from_old_point','time_from_old_point']\n",
    "rng = np.random.RandomState(42)\n",
    "clf = IsolationForest(max_samples=100, random_state=rng)\n",
    "clf.fit(df[feats_loc])\n",
    "scores = clf.predict(df[feats_loc])\n",
    "df['outlier3'] = scores"
   ]
  },
  {
   "cell_type": "code",
   "execution_count": null,
   "metadata": {},
   "outputs": [],
   "source": [
    "MF_feats_loc = ['MF_dist_from_old_point','time_from_old_point']\n",
    "rng = np.random.RandomState(42)\n",
    "clf = IsolationForest(max_samples=100, random_state=rng)\n",
    "clf.fit(df[MF_feats_loc])\n",
    "scores = clf.predict(df[MF_feats_loc])\n",
    "df['MF_outlier3'] = scores"
   ]
  },
  {
   "cell_type": "code",
   "execution_count": null,
   "metadata": {},
   "outputs": [],
   "source": [
    "df[df.outlier3 == 1][feats_loc].describe()"
   ]
  },
  {
   "cell_type": "code",
   "execution_count": null,
   "metadata": {},
   "outputs": [],
   "source": [
    "df[df.MF_outlier3 == 1][MF_feats_loc].describe()"
   ]
  },
  {
   "cell_type": "code",
   "execution_count": null,
   "metadata": {},
   "outputs": [],
   "source": [
    "clf = LocalOutlierFactor(n_neighbors=10, contamination=0.1)\n",
    "scores = clf.fit_predict(df[feats_loc])\n",
    "df['outlier4'] = scores"
   ]
  },
  {
   "cell_type": "code",
   "execution_count": null,
   "metadata": {},
   "outputs": [],
   "source": [
    "clf = LocalOutlierFactor(n_neighbors=10, contamination=0.1)\n",
    "scores = clf.fit_predict(df[MF_feats_loc])\n",
    "df['MF_outlier4'] = scores"
   ]
  },
  {
   "cell_type": "code",
   "execution_count": null,
   "metadata": {},
   "outputs": [],
   "source": [
    "df[df.outlier4 == 1][feats_loc].describe()"
   ]
  },
  {
   "cell_type": "code",
   "execution_count": null,
   "metadata": {},
   "outputs": [],
   "source": [
    "df[df.MF_outlier4 == 1][MF_feats_loc].describe()"
   ]
  },
  {
   "cell_type": "code",
   "execution_count": null,
   "metadata": {},
   "outputs": [],
   "source": [
    "df1 = df[df.outlier==1]"
   ]
  },
  {
   "cell_type": "code",
   "execution_count": null,
   "metadata": {},
   "outputs": [],
   "source": [
    "df1[feats].plot()"
   ]
  },
  {
   "cell_type": "code",
   "execution_count": null,
   "metadata": {},
   "outputs": [],
   "source": [
    "!pip install seaborn\n",
    "import seaborn as sns                                              "
   ]
  },
  {
   "cell_type": "code",
   "execution_count": null,
   "metadata": {},
   "outputs": [],
   "source": [
    "sns.histplot(x=df1[df1.acc!=0].acc.apply(np.log10))\n"
   ]
  },
  {
   "cell_type": "code",
   "execution_count": null,
   "metadata": {},
   "outputs": [],
   "source": [
    "sns.histplot(x=df1[df1.velocity!=0].velocity.apply(np.log10))"
   ]
  },
  {
   "cell_type": "code",
   "execution_count": null,
   "metadata": {},
   "outputs": [],
   "source": [
    "from scipy import stats"
   ]
  },
  {
   "cell_type": "code",
   "execution_count": null,
   "metadata": {},
   "outputs": [],
   "source": [
    "list_hours = [0,2,6,8,10,12,14,16,18,20,22 ]\n",
    "df2 = df1[df1.velocity !=0]\n",
    "for h in list_hours:\n",
    "    print(h)\n",
    "    print(stats.mannwhitneyu(df2[df2.hour <= h].velocity, df2[df2.hour > h].velocity))\n",
    "df2 = df1[df1.acc !=0]\n",
    "for h in list_hours:\n",
    "    print(h)\n",
    "    print(stats.mannwhitneyu(df2[df2.hour <= h].acc, df2[df2.hour > h].acc))"
   ]
  },
  {
   "cell_type": "code",
   "execution_count": null,
   "metadata": {},
   "outputs": [],
   "source": [
    "stats.mannwhitneyu(df2[df2.hour <= 12].velocity, df2[df2.hour > 12].velocity)\n"
   ]
  },
  {
   "cell_type": "code",
   "execution_count": null,
   "metadata": {},
   "outputs": [],
   "source": [
    "stats.mannwhitneyu(df[df.hour <= 12].velocity, df[df.hour > 12].velocity)"
   ]
  },
  {
   "cell_type": "code",
   "execution_count": null,
   "metadata": {},
   "outputs": [],
   "source": [
    "df[df.acc!=0].acc.apply(np.log10).plot(kind='hist', density=True)"
   ]
  },
  {
   "cell_type": "code",
   "execution_count": null,
   "metadata": {},
   "outputs": [],
   "source": [
    "pd.plotting?"
   ]
  },
  {
   "cell_type": "code",
   "execution_count": null,
   "metadata": {},
   "outputs": [],
   "source": [
    "df[df.acc!=0].acc.apply(np.log10).hist"
   ]
  },
  {
   "cell_type": "code",
   "execution_count": null,
   "metadata": {},
   "outputs": [],
   "source": [
    "df[df.velocity!=0].velocity.apply(np.log10).hist()"
   ]
  },
  {
   "cell_type": "code",
   "execution_count": null,
   "metadata": {},
   "outputs": [],
   "source": [
    "df['acc_log'] = np.log(df.acc)\n"
   ]
  },
  {
   "cell_type": "code",
   "execution_count": null,
   "metadata": {},
   "outputs": [],
   "source": [
    "df[df.acc!=0].acc.hist()"
   ]
  },
  {
   "cell_type": "code",
   "execution_count": null,
   "metadata": {},
   "outputs": [],
   "source": [
    "df[df.velocity == df.velocity.max()].idx"
   ]
  },
  {
   "cell_type": "code",
   "execution_count": null,
   "metadata": {},
   "outputs": [],
   "source": [
    "df[df.idx==85].velocity.describe()"
   ]
  },
  {
   "cell_type": "code",
   "execution_count": null,
   "metadata": {},
   "outputs": [],
   "source": []
  },
  {
   "cell_type": "code",
   "execution_count": null,
   "metadata": {},
   "outputs": [],
   "source": [
    "velINF = df[df.velocity>20].idx.unique()"
   ]
  },
  {
   "cell_type": "code",
   "execution_count": null,
   "metadata": {},
   "outputs": [],
   "source": [
    "df = df[~ df['idx'].isin(velINF)]"
   ]
  },
  {
   "cell_type": "code",
   "execution_count": null,
   "metadata": {},
   "outputs": [],
   "source": [
    "df.velocity.max()"
   ]
  },
  {
   "cell_type": "code",
   "execution_count": null,
   "metadata": {},
   "outputs": [],
   "source": [
    "df.velocity.hist()"
   ]
  },
  {
   "cell_type": "markdown",
   "metadata": {},
   "source": [
    "Grupos pontos capturados antes e depois do meio-dia."
   ]
  },
  {
   "cell_type": "code",
   "execution_count": null,
   "metadata": {},
   "outputs": [],
   "source": [
    "stats.mannwhitneyu(df[df.operator == 'CD'].velocity, df[df.operator != 'CD'].velocity)"
   ]
  },
  {
   "cell_type": "code",
   "execution_count": null,
   "metadata": {},
   "outputs": [],
   "source": [
    "df['vel_log'] = np.log(df.velocity)"
   ]
  },
  {
   "cell_type": "code",
   "execution_count": null,
   "metadata": {},
   "outputs": [],
   "source": [
    "df[df.velocity != 0].vel_log.hist()"
   ]
  },
  {
   "cell_type": "code",
   "execution_count": null,
   "metadata": {},
   "outputs": [],
   "source": [
    "df[df.velocity ==df.velocity.max()]"
   ]
  },
  {
   "cell_type": "code",
   "execution_count": null,
   "metadata": {},
   "outputs": [],
   "source": [
    "df.lng.hist()"
   ]
  },
  {
   "cell_type": "code",
   "execution_count": null,
   "metadata": {},
   "outputs": [],
   "source": [
    "df.datetime_hour.plot(kind='box')"
   ]
  },
  {
   "cell_type": "code",
   "execution_count": null,
   "metadata": {},
   "outputs": [],
   "source": [
    "from sklearn.preprocessing import MinMaxScaler\n",
    "\n",
    "scaler = MinMaxScaler()\n",
    "\n",
    "#df_norm = pd.DataFrame(, columns=df_cars.columns)\n",
    "#df_norm\n",
    "\n",
    "pd.DataFrame(scaler.fit_transform(df[['timestamp','velocity']]), columns = ['timestamp', 'velocity'])"
   ]
  },
  {
   "cell_type": "code",
   "execution_count": null,
   "metadata": {},
   "outputs": [],
   "source": []
  },
  {
   "cell_type": "code",
   "execution_count": null,
   "metadata": {},
   "outputs": [],
   "source": [
    "scaler.fit_transform(df['timestamp'].values.reshape(-1,1))"
   ]
  },
  {
   "cell_type": "code",
   "execution_count": null,
   "metadata": {},
   "outputs": [],
   "source": [
    "from scipy import stats\n",
    "stats.shapiro(df[df.datetime_hour > 12].velocity)"
   ]
  },
  {
   "cell_type": "code",
   "execution_count": null,
   "metadata": {},
   "outputs": [],
   "source": [
    "df['vel_sqrt'] = np.sqrt(df.velocity)\n",
    "stats.shapiro(df[df.datetime_hour > 12].vel_sqrt)"
   ]
  },
  {
   "cell_type": "code",
   "execution_count": null,
   "metadata": {},
   "outputs": [],
   "source": [
    "dfs2.vel_log.hist()"
   ]
  },
  {
   "cell_type": "code",
   "execution_count": null,
   "metadata": {},
   "outputs": [],
   "source": [
    "df[['vel_man', 'vel_tar']].plot(kind='box')"
   ]
  },
  {
   "cell_type": "raw",
   "metadata": {},
   "source": [
    "## Usando o Spark\n"
   ]
  },
  {
   "cell_type": "raw",
   "metadata": {},
   "source": [
    "from pyspark.sql import SparkSession\n",
    "sc = SparkContext()\n",
    "spark = SparkSession(sc)"
   ]
  },
  {
   "cell_type": "raw",
   "metadata": {},
   "source": [
    "#A=sc.parallelize(c=sentence.trejectories)\n",
    "A=sc.parallelize(dfs)\n",
    "B = A.map(lambda x: create_sentences(x, trajetoria))"
   ]
  },
  {
   "cell_type": "raw",
   "metadata": {
    "scrolled": false
   },
   "source": [
    "B.collect()"
   ]
  },
  {
   "cell_type": "raw",
   "metadata": {},
   "source": [
    "df = pd.DataFrame(data=C[0])\n",
    "for x in C[1:]:\n",
    "    df.append(x)\n",
    "df.columns = [*data_merged.columns, 'velocidade']"
   ]
  },
  {
   "cell_type": "raw",
   "metadata": {},
   "source": [
    "df['vel'] = np.sqrt(df.velocidade)"
   ]
  },
  {
   "cell_type": "raw",
   "metadata": {},
   "source": [
    "df.vel.plot(kind='hist')"
   ]
  },
  {
   "cell_type": "raw",
   "metadata": {},
   "source": [
    "df.head()"
   ]
  },
  {
   "cell_type": "raw",
   "metadata": {},
   "source": [
    "df.datetime_hour.unique()"
   ]
  },
  {
   "cell_type": "code",
   "execution_count": null,
   "metadata": {},
   "outputs": [],
   "source": [
    "df[['vel_man', 'vel_tar']].plot(kind='box')"
   ]
  },
  {
   "cell_type": "raw",
   "metadata": {},
   "source": [
    "complete = [sentence.create_sentences(sentence.data.query(query.format(*chave))) \n",
    "                                                     for chave in sentence.trejectories]\n"
   ]
  },
  {
   "cell_type": "code",
   "execution_count": null,
   "metadata": {},
   "outputs": [],
   "source": [
    "df['vel_log'] = np.log(df.velocity)"
   ]
  },
  {
   "cell_type": "code",
   "execution_count": null,
   "metadata": {},
   "outputs": [],
   "source": [
    "36*"
   ]
  },
  {
   "cell_type": "code",
   "execution_count": null,
   "metadata": {},
   "outputs": [],
   "source": [
    "df[df.velocity ==df.velocity.max()]"
   ]
  },
  {
   "cell_type": "code",
   "execution_count": null,
   "metadata": {},
   "outputs": [],
   "source": [
    "delta = delta_time(1357814590000000, 1357814592000000)\n",
    "#            actual_position = data.loc[index][['lat','lng']].values\n",
    "#            space = geodesic(old_position, actual_position).meters\n",
    "delta"
   ]
  },
  {
   "cell_type": "code",
   "execution_count": null,
   "metadata": {},
   "outputs": [],
   "source": [
    "space = geodesic([53.355534,-6.264616], [53.353451, -6.262167]).meters\n",
    "#space = geodesic([-6.264616,53.355534], [-6.262167,53.353451]).meters\n",
    "\n",
    "space"
   ]
  },
  {
   "cell_type": "code",
   "execution_count": null,
   "metadata": {},
   "outputs": [],
   "source": [
    "df[df.idx == 0].loc[525000:525633]"
   ]
  },
  {
   "cell_type": "code",
   "execution_count": null,
   "metadata": {},
   "outputs": [],
   "source": [
    "df[df.idx==85].datetime.describe()"
   ]
  },
  {
   "cell_type": "code",
   "execution_count": null,
   "metadata": {},
   "outputs": [],
   "source": [
    "df[df.velocity == df.velocity.max()]"
   ]
  },
  {
   "cell_type": "code",
   "execution_count": null,
   "metadata": {},
   "outputs": [],
   "source": [
    "df[df.dist_from_old_point==df.dist_from_old_point.max()]"
   ]
  },
  {
   "cell_type": "code",
   "execution_count": null,
   "metadata": {},
   "outputs": [],
   "source": [
    "df.idx.unique()"
   ]
  },
  {
   "cell_type": "code",
   "execution_count": null,
   "metadata": {},
   "outputs": [],
   "source": [
    "data_line = df[df.idx == 49]\n",
    "\n",
    "def to_mercator(Coords):\n",
    "    Coordinates =  Coords\n",
    "    #literal_eval(Coords)    \n",
    "    \n",
    "    lat = Coordinates[1]\n",
    "    lon = Coordinates[0]\n",
    "    \n",
    "    r_major = 6378137.000\n",
    "    x = r_major * math.radians(lon)\n",
    "    scale = x/lon\n",
    "    y = 180.0/math.pi * math.log(math.tan(math.pi/4.0 + \n",
    "        lat * (math.pi/180.0)/2.0)) * scale    \n",
    "    \n",
    "    return pd.Series((x, y))\n",
    "\n",
    "def plot_fig(df_x, color):\n",
    "    p = figure(x_axis_type=\"mercator\", y_axis_type=\"mercator\")\n",
    "    p.add_tile(get_provider(tile_provider))\n",
    "    #p.circle(\n",
    "    p.line(\n",
    "        x='lng_m',\n",
    "        y='lat_m',\n",
    "        color= color,\n",
    "        source=df_x\n",
    "    )\n",
    "    p.circle(\n",
    "        x='lng_m',\n",
    "        y='lat_m',\n",
    "        color= 'red',\n",
    "        source=df_x[df_x.outlier == -1]\n",
    "    )\n",
    "    p.circle(\n",
    "        x=df_x.iloc[0]['lng_m'],\n",
    "        y=df_x.iloc[0]['lat_m'],\n",
    "        color= 'blue',    \n",
    "    )\n",
    "    return (p)\n",
    "\n",
    "\n",
    "p = figure(x_axis_type=\"mercator\", y_axis_type=\"mercator\")\n",
    "p.add_tile(get_provider(tile_provider))\n",
    "\n",
    "data_line[['lng_m','lat_m']] = data_line[['lng', 'lat']].apply(to_mercator, axis=1)\n",
    "\n",
    "p = plot_fig(data_line, 'black')\n",
    "\n",
    "show(p)"
   ]
  }
 ],
 "metadata": {
  "kernelspec": {
   "display_name": "venvTraj",
   "language": "python",
   "name": "venvtraj"
  },
  "language_info": {
   "codemirror_mode": {
    "name": "ipython",
    "version": 3
   },
   "file_extension": ".py",
   "mimetype": "text/x-python",
   "name": "python",
   "nbconvert_exporter": "python",
   "pygments_lexer": "ipython3",
   "version": "3.8.5"
  }
 },
 "nbformat": 4,
 "nbformat_minor": 2
}
