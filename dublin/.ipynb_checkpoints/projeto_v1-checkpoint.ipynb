{
 "cells": [
  {
   "cell_type": "markdown",
   "metadata": {},
   "source": [
    "# Projeto da disciplina de Introdução à Ciência de Dados\n",
    "\n",
    "Estudante: Fernando de Barros (fbwn@cin.ufpe.br)"
   ]
  },
  {
   "cell_type": "markdown",
   "metadata": {},
   "source": [
    "## 1. Carregamento das Bibliotecas e do Dataset"
   ]
  },
  {
   "cell_type": "code",
   "execution_count": 1,
   "metadata": {},
   "outputs": [
    {
     "data": {
      "text/html": [
       "\n",
       "    <div class=\"bk-root\">\n",
       "        <a href=\"https://bokeh.org\" target=\"_blank\" class=\"bk-logo bk-logo-small bk-logo-notebook\"></a>\n",
       "        <span id=\"1001\">Loading BokehJS ...</span>\n",
       "    </div>"
      ]
     },
     "metadata": {},
     "output_type": "display_data"
    },
    {
     "data": {
      "application/javascript": [
       "\n",
       "(function(root) {\n",
       "  function now() {\n",
       "    return new Date();\n",
       "  }\n",
       "\n",
       "  var force = true;\n",
       "\n",
       "  if (typeof root._bokeh_onload_callbacks === \"undefined\" || force === true) {\n",
       "    root._bokeh_onload_callbacks = [];\n",
       "    root._bokeh_is_loading = undefined;\n",
       "  }\n",
       "\n",
       "  var JS_MIME_TYPE = 'application/javascript';\n",
       "  var HTML_MIME_TYPE = 'text/html';\n",
       "  var EXEC_MIME_TYPE = 'application/vnd.bokehjs_exec.v0+json';\n",
       "  var CLASS_NAME = 'output_bokeh rendered_html';\n",
       "\n",
       "  /**\n",
       "   * Render data to the DOM node\n",
       "   */\n",
       "  function render(props, node) {\n",
       "    var script = document.createElement(\"script\");\n",
       "    node.appendChild(script);\n",
       "  }\n",
       "\n",
       "  /**\n",
       "   * Handle when an output is cleared or removed\n",
       "   */\n",
       "  function handleClearOutput(event, handle) {\n",
       "    var cell = handle.cell;\n",
       "\n",
       "    var id = cell.output_area._bokeh_element_id;\n",
       "    var server_id = cell.output_area._bokeh_server_id;\n",
       "    // Clean up Bokeh references\n",
       "    if (id != null && id in Bokeh.index) {\n",
       "      Bokeh.index[id].model.document.clear();\n",
       "      delete Bokeh.index[id];\n",
       "    }\n",
       "\n",
       "    if (server_id !== undefined) {\n",
       "      // Clean up Bokeh references\n",
       "      var cmd = \"from bokeh.io.state import curstate; print(curstate().uuid_to_server['\" + server_id + \"'].get_sessions()[0].document.roots[0]._id)\";\n",
       "      cell.notebook.kernel.execute(cmd, {\n",
       "        iopub: {\n",
       "          output: function(msg) {\n",
       "            var id = msg.content.text.trim();\n",
       "            if (id in Bokeh.index) {\n",
       "              Bokeh.index[id].model.document.clear();\n",
       "              delete Bokeh.index[id];\n",
       "            }\n",
       "          }\n",
       "        }\n",
       "      });\n",
       "      // Destroy server and session\n",
       "      var cmd = \"import bokeh.io.notebook as ion; ion.destroy_server('\" + server_id + \"')\";\n",
       "      cell.notebook.kernel.execute(cmd);\n",
       "    }\n",
       "  }\n",
       "\n",
       "  /**\n",
       "   * Handle when a new output is added\n",
       "   */\n",
       "  function handleAddOutput(event, handle) {\n",
       "    var output_area = handle.output_area;\n",
       "    var output = handle.output;\n",
       "\n",
       "    // limit handleAddOutput to display_data with EXEC_MIME_TYPE content only\n",
       "    if ((output.output_type != \"display_data\") || (!output.data.hasOwnProperty(EXEC_MIME_TYPE))) {\n",
       "      return\n",
       "    }\n",
       "\n",
       "    var toinsert = output_area.element.find(\".\" + CLASS_NAME.split(' ')[0]);\n",
       "\n",
       "    if (output.metadata[EXEC_MIME_TYPE][\"id\"] !== undefined) {\n",
       "      toinsert[toinsert.length - 1].firstChild.textContent = output.data[JS_MIME_TYPE];\n",
       "      // store reference to embed id on output_area\n",
       "      output_area._bokeh_element_id = output.metadata[EXEC_MIME_TYPE][\"id\"];\n",
       "    }\n",
       "    if (output.metadata[EXEC_MIME_TYPE][\"server_id\"] !== undefined) {\n",
       "      var bk_div = document.createElement(\"div\");\n",
       "      bk_div.innerHTML = output.data[HTML_MIME_TYPE];\n",
       "      var script_attrs = bk_div.children[0].attributes;\n",
       "      for (var i = 0; i < script_attrs.length; i++) {\n",
       "        toinsert[toinsert.length - 1].firstChild.setAttribute(script_attrs[i].name, script_attrs[i].value);\n",
       "        toinsert[toinsert.length - 1].firstChild.textContent = bk_div.children[0].textContent\n",
       "      }\n",
       "      // store reference to server id on output_area\n",
       "      output_area._bokeh_server_id = output.metadata[EXEC_MIME_TYPE][\"server_id\"];\n",
       "    }\n",
       "  }\n",
       "\n",
       "  function register_renderer(events, OutputArea) {\n",
       "\n",
       "    function append_mime(data, metadata, element) {\n",
       "      // create a DOM node to render to\n",
       "      var toinsert = this.create_output_subarea(\n",
       "        metadata,\n",
       "        CLASS_NAME,\n",
       "        EXEC_MIME_TYPE\n",
       "      );\n",
       "      this.keyboard_manager.register_events(toinsert);\n",
       "      // Render to node\n",
       "      var props = {data: data, metadata: metadata[EXEC_MIME_TYPE]};\n",
       "      render(props, toinsert[toinsert.length - 1]);\n",
       "      element.append(toinsert);\n",
       "      return toinsert\n",
       "    }\n",
       "\n",
       "    /* Handle when an output is cleared or removed */\n",
       "    events.on('clear_output.CodeCell', handleClearOutput);\n",
       "    events.on('delete.Cell', handleClearOutput);\n",
       "\n",
       "    /* Handle when a new output is added */\n",
       "    events.on('output_added.OutputArea', handleAddOutput);\n",
       "\n",
       "    /**\n",
       "     * Register the mime type and append_mime function with output_area\n",
       "     */\n",
       "    OutputArea.prototype.register_mime_type(EXEC_MIME_TYPE, append_mime, {\n",
       "      /* Is output safe? */\n",
       "      safe: true,\n",
       "      /* Index of renderer in `output_area.display_order` */\n",
       "      index: 0\n",
       "    });\n",
       "  }\n",
       "\n",
       "  // register the mime type if in Jupyter Notebook environment and previously unregistered\n",
       "  if (root.Jupyter !== undefined) {\n",
       "    var events = require('base/js/events');\n",
       "    var OutputArea = require('notebook/js/outputarea').OutputArea;\n",
       "\n",
       "    if (OutputArea.prototype.mime_types().indexOf(EXEC_MIME_TYPE) == -1) {\n",
       "      register_renderer(events, OutputArea);\n",
       "    }\n",
       "  }\n",
       "\n",
       "  \n",
       "  if (typeof (root._bokeh_timeout) === \"undefined\" || force === true) {\n",
       "    root._bokeh_timeout = Date.now() + 5000;\n",
       "    root._bokeh_failed_load = false;\n",
       "  }\n",
       "\n",
       "  var NB_LOAD_WARNING = {'data': {'text/html':\n",
       "     \"<div style='background-color: #fdd'>\\n\"+\n",
       "     \"<p>\\n\"+\n",
       "     \"BokehJS does not appear to have successfully loaded. If loading BokehJS from CDN, this \\n\"+\n",
       "     \"may be due to a slow or bad network connection. Possible fixes:\\n\"+\n",
       "     \"</p>\\n\"+\n",
       "     \"<ul>\\n\"+\n",
       "     \"<li>re-rerun `output_notebook()` to attempt to load from CDN again, or</li>\\n\"+\n",
       "     \"<li>use INLINE resources instead, as so:</li>\\n\"+\n",
       "     \"</ul>\\n\"+\n",
       "     \"<code>\\n\"+\n",
       "     \"from bokeh.resources import INLINE\\n\"+\n",
       "     \"output_notebook(resources=INLINE)\\n\"+\n",
       "     \"</code>\\n\"+\n",
       "     \"</div>\"}};\n",
       "\n",
       "  function display_loaded() {\n",
       "    var el = document.getElementById(\"1001\");\n",
       "    if (el != null) {\n",
       "      el.textContent = \"BokehJS is loading...\";\n",
       "    }\n",
       "    if (root.Bokeh !== undefined) {\n",
       "      if (el != null) {\n",
       "        el.textContent = \"BokehJS \" + root.Bokeh.version + \" successfully loaded.\";\n",
       "      }\n",
       "    } else if (Date.now() < root._bokeh_timeout) {\n",
       "      setTimeout(display_loaded, 100)\n",
       "    }\n",
       "  }\n",
       "\n",
       "\n",
       "  function run_callbacks() {\n",
       "    try {\n",
       "      root._bokeh_onload_callbacks.forEach(function(callback) {\n",
       "        if (callback != null)\n",
       "          callback();\n",
       "      });\n",
       "    } finally {\n",
       "      delete root._bokeh_onload_callbacks\n",
       "    }\n",
       "    console.debug(\"Bokeh: all callbacks have finished\");\n",
       "  }\n",
       "\n",
       "  function load_libs(css_urls, js_urls, callback) {\n",
       "    if (css_urls == null) css_urls = [];\n",
       "    if (js_urls == null) js_urls = [];\n",
       "\n",
       "    root._bokeh_onload_callbacks.push(callback);\n",
       "    if (root._bokeh_is_loading > 0) {\n",
       "      console.debug(\"Bokeh: BokehJS is being loaded, scheduling callback at\", now());\n",
       "      return null;\n",
       "    }\n",
       "    if (js_urls == null || js_urls.length === 0) {\n",
       "      run_callbacks();\n",
       "      return null;\n",
       "    }\n",
       "    console.debug(\"Bokeh: BokehJS not loaded, scheduling load and callback at\", now());\n",
       "    root._bokeh_is_loading = css_urls.length + js_urls.length;\n",
       "\n",
       "    function on_load() {\n",
       "      root._bokeh_is_loading--;\n",
       "      if (root._bokeh_is_loading === 0) {\n",
       "        console.debug(\"Bokeh: all BokehJS libraries/stylesheets loaded\");\n",
       "        run_callbacks()\n",
       "      }\n",
       "    }\n",
       "\n",
       "    function on_error() {\n",
       "      console.error(\"failed to load \" + url);\n",
       "    }\n",
       "\n",
       "    for (var i = 0; i < css_urls.length; i++) {\n",
       "      var url = css_urls[i];\n",
       "      const element = document.createElement(\"link\");\n",
       "      element.onload = on_load;\n",
       "      element.onerror = on_error;\n",
       "      element.rel = \"stylesheet\";\n",
       "      element.type = \"text/css\";\n",
       "      element.href = url;\n",
       "      console.debug(\"Bokeh: injecting link tag for BokehJS stylesheet: \", url);\n",
       "      document.body.appendChild(element);\n",
       "    }\n",
       "\n",
       "    const hashes = {\"https://cdn.bokeh.org/bokeh/release/bokeh-2.2.1.min.js\": \"qkRvDQVAIfzsJo40iRBbxt6sttt0hv4lh74DG7OK4MCHv4C5oohXYoHUM5W11uqS\", \"https://cdn.bokeh.org/bokeh/release/bokeh-widgets-2.2.1.min.js\": \"Sb7Mr06a9TNlet/GEBeKaf5xH3eb6AlCzwjtU82wNPyDrnfoiVl26qnvlKjmcAd+\", \"https://cdn.bokeh.org/bokeh/release/bokeh-tables-2.2.1.min.js\": \"HaJ15vgfmcfRtB4c4YBOI4f1MUujukqInOWVqZJZZGK7Q+ivud0OKGSTn/Vm2iso\"};\n",
       "\n",
       "    for (var i = 0; i < js_urls.length; i++) {\n",
       "      var url = js_urls[i];\n",
       "      var element = document.createElement('script');\n",
       "      element.onload = on_load;\n",
       "      element.onerror = on_error;\n",
       "      element.async = false;\n",
       "      element.src = url;\n",
       "      if (url in hashes) {\n",
       "        element.crossOrigin = \"anonymous\";\n",
       "        element.integrity = \"sha384-\" + hashes[url];\n",
       "      }\n",
       "      console.debug(\"Bokeh: injecting script tag for BokehJS library: \", url);\n",
       "      document.head.appendChild(element);\n",
       "    }\n",
       "  };\n",
       "\n",
       "  function inject_raw_css(css) {\n",
       "    const element = document.createElement(\"style\");\n",
       "    element.appendChild(document.createTextNode(css));\n",
       "    document.body.appendChild(element);\n",
       "  }\n",
       "\n",
       "  \n",
       "  var js_urls = [\"https://cdn.bokeh.org/bokeh/release/bokeh-2.2.1.min.js\", \"https://cdn.bokeh.org/bokeh/release/bokeh-widgets-2.2.1.min.js\", \"https://cdn.bokeh.org/bokeh/release/bokeh-tables-2.2.1.min.js\"];\n",
       "  var css_urls = [];\n",
       "  \n",
       "\n",
       "  var inline_js = [\n",
       "    function(Bokeh) {\n",
       "      Bokeh.set_log_level(\"info\");\n",
       "    },\n",
       "    function(Bokeh) {\n",
       "    \n",
       "    \n",
       "    }\n",
       "  ];\n",
       "\n",
       "  function run_inline_js() {\n",
       "    \n",
       "    if (root.Bokeh !== undefined || force === true) {\n",
       "      \n",
       "    for (var i = 0; i < inline_js.length; i++) {\n",
       "      inline_js[i].call(root, root.Bokeh);\n",
       "    }\n",
       "    if (force === true) {\n",
       "        display_loaded();\n",
       "      }} else if (Date.now() < root._bokeh_timeout) {\n",
       "      setTimeout(run_inline_js, 100);\n",
       "    } else if (!root._bokeh_failed_load) {\n",
       "      console.log(\"Bokeh: BokehJS failed to load within specified timeout.\");\n",
       "      root._bokeh_failed_load = true;\n",
       "    } else if (force !== true) {\n",
       "      var cell = $(document.getElementById(\"1001\")).parents('.cell').data().cell;\n",
       "      cell.output_area.append_execute_result(NB_LOAD_WARNING)\n",
       "    }\n",
       "\n",
       "  }\n",
       "\n",
       "  if (root._bokeh_is_loading === 0) {\n",
       "    console.debug(\"Bokeh: BokehJS loaded, going straight to plotting\");\n",
       "    run_inline_js();\n",
       "  } else {\n",
       "    load_libs(css_urls, js_urls, function() {\n",
       "      console.debug(\"Bokeh: BokehJS plotting callback run at\", now());\n",
       "      run_inline_js();\n",
       "    });\n",
       "  }\n",
       "}(window));"
      ],
      "application/vnd.bokehjs_load.v0+json": "\n(function(root) {\n  function now() {\n    return new Date();\n  }\n\n  var force = true;\n\n  if (typeof root._bokeh_onload_callbacks === \"undefined\" || force === true) {\n    root._bokeh_onload_callbacks = [];\n    root._bokeh_is_loading = undefined;\n  }\n\n  \n\n  \n  if (typeof (root._bokeh_timeout) === \"undefined\" || force === true) {\n    root._bokeh_timeout = Date.now() + 5000;\n    root._bokeh_failed_load = false;\n  }\n\n  var NB_LOAD_WARNING = {'data': {'text/html':\n     \"<div style='background-color: #fdd'>\\n\"+\n     \"<p>\\n\"+\n     \"BokehJS does not appear to have successfully loaded. If loading BokehJS from CDN, this \\n\"+\n     \"may be due to a slow or bad network connection. Possible fixes:\\n\"+\n     \"</p>\\n\"+\n     \"<ul>\\n\"+\n     \"<li>re-rerun `output_notebook()` to attempt to load from CDN again, or</li>\\n\"+\n     \"<li>use INLINE resources instead, as so:</li>\\n\"+\n     \"</ul>\\n\"+\n     \"<code>\\n\"+\n     \"from bokeh.resources import INLINE\\n\"+\n     \"output_notebook(resources=INLINE)\\n\"+\n     \"</code>\\n\"+\n     \"</div>\"}};\n\n  function display_loaded() {\n    var el = document.getElementById(\"1001\");\n    if (el != null) {\n      el.textContent = \"BokehJS is loading...\";\n    }\n    if (root.Bokeh !== undefined) {\n      if (el != null) {\n        el.textContent = \"BokehJS \" + root.Bokeh.version + \" successfully loaded.\";\n      }\n    } else if (Date.now() < root._bokeh_timeout) {\n      setTimeout(display_loaded, 100)\n    }\n  }\n\n\n  function run_callbacks() {\n    try {\n      root._bokeh_onload_callbacks.forEach(function(callback) {\n        if (callback != null)\n          callback();\n      });\n    } finally {\n      delete root._bokeh_onload_callbacks\n    }\n    console.debug(\"Bokeh: all callbacks have finished\");\n  }\n\n  function load_libs(css_urls, js_urls, callback) {\n    if (css_urls == null) css_urls = [];\n    if (js_urls == null) js_urls = [];\n\n    root._bokeh_onload_callbacks.push(callback);\n    if (root._bokeh_is_loading > 0) {\n      console.debug(\"Bokeh: BokehJS is being loaded, scheduling callback at\", now());\n      return null;\n    }\n    if (js_urls == null || js_urls.length === 0) {\n      run_callbacks();\n      return null;\n    }\n    console.debug(\"Bokeh: BokehJS not loaded, scheduling load and callback at\", now());\n    root._bokeh_is_loading = css_urls.length + js_urls.length;\n\n    function on_load() {\n      root._bokeh_is_loading--;\n      if (root._bokeh_is_loading === 0) {\n        console.debug(\"Bokeh: all BokehJS libraries/stylesheets loaded\");\n        run_callbacks()\n      }\n    }\n\n    function on_error() {\n      console.error(\"failed to load \" + url);\n    }\n\n    for (var i = 0; i < css_urls.length; i++) {\n      var url = css_urls[i];\n      const element = document.createElement(\"link\");\n      element.onload = on_load;\n      element.onerror = on_error;\n      element.rel = \"stylesheet\";\n      element.type = \"text/css\";\n      element.href = url;\n      console.debug(\"Bokeh: injecting link tag for BokehJS stylesheet: \", url);\n      document.body.appendChild(element);\n    }\n\n    const hashes = {\"https://cdn.bokeh.org/bokeh/release/bokeh-2.2.1.min.js\": \"qkRvDQVAIfzsJo40iRBbxt6sttt0hv4lh74DG7OK4MCHv4C5oohXYoHUM5W11uqS\", \"https://cdn.bokeh.org/bokeh/release/bokeh-widgets-2.2.1.min.js\": \"Sb7Mr06a9TNlet/GEBeKaf5xH3eb6AlCzwjtU82wNPyDrnfoiVl26qnvlKjmcAd+\", \"https://cdn.bokeh.org/bokeh/release/bokeh-tables-2.2.1.min.js\": \"HaJ15vgfmcfRtB4c4YBOI4f1MUujukqInOWVqZJZZGK7Q+ivud0OKGSTn/Vm2iso\"};\n\n    for (var i = 0; i < js_urls.length; i++) {\n      var url = js_urls[i];\n      var element = document.createElement('script');\n      element.onload = on_load;\n      element.onerror = on_error;\n      element.async = false;\n      element.src = url;\n      if (url in hashes) {\n        element.crossOrigin = \"anonymous\";\n        element.integrity = \"sha384-\" + hashes[url];\n      }\n      console.debug(\"Bokeh: injecting script tag for BokehJS library: \", url);\n      document.head.appendChild(element);\n    }\n  };\n\n  function inject_raw_css(css) {\n    const element = document.createElement(\"style\");\n    element.appendChild(document.createTextNode(css));\n    document.body.appendChild(element);\n  }\n\n  \n  var js_urls = [\"https://cdn.bokeh.org/bokeh/release/bokeh-2.2.1.min.js\", \"https://cdn.bokeh.org/bokeh/release/bokeh-widgets-2.2.1.min.js\", \"https://cdn.bokeh.org/bokeh/release/bokeh-tables-2.2.1.min.js\"];\n  var css_urls = [];\n  \n\n  var inline_js = [\n    function(Bokeh) {\n      Bokeh.set_log_level(\"info\");\n    },\n    function(Bokeh) {\n    \n    \n    }\n  ];\n\n  function run_inline_js() {\n    \n    if (root.Bokeh !== undefined || force === true) {\n      \n    for (var i = 0; i < inline_js.length; i++) {\n      inline_js[i].call(root, root.Bokeh);\n    }\n    if (force === true) {\n        display_loaded();\n      }} else if (Date.now() < root._bokeh_timeout) {\n      setTimeout(run_inline_js, 100);\n    } else if (!root._bokeh_failed_load) {\n      console.log(\"Bokeh: BokehJS failed to load within specified timeout.\");\n      root._bokeh_failed_load = true;\n    } else if (force !== true) {\n      var cell = $(document.getElementById(\"1001\")).parents('.cell').data().cell;\n      cell.output_area.append_execute_result(NB_LOAD_WARNING)\n    }\n\n  }\n\n  if (root._bokeh_is_loading === 0) {\n    console.debug(\"Bokeh: BokehJS loaded, going straight to plotting\");\n    run_inline_js();\n  } else {\n    load_libs(css_urls, js_urls, function() {\n      console.debug(\"Bokeh: BokehJS plotting callback run at\", now());\n      run_inline_js();\n    });\n  }\n}(window));"
     },
     "metadata": {},
     "output_type": "display_data"
    }
   ],
   "source": [
    "import math\n",
    "import sys  \n",
    "import datetime\n",
    "import random\n",
    "from tqdm import tqdm\n",
    "import pandas as pd\n",
    "import numpy as np\n",
    "from geopy.distance import geodesic\n",
    "import seaborn as sns\n",
    "from scipy import stats\n",
    "\n",
    "# Bokeh\n",
    "from bokeh.plotting import figure, show, output_notebook\n",
    "from bokeh.tile_providers import get_provider, Vendors, OSM, CARTODBPOSITRON, WIKIMEDIA\n",
    "\n",
    "pd.set_option('display.max_columns', None)\n",
    "\n",
    "## Inicialização de variaveis para o Bokeh\n",
    "output_notebook()\n",
    "tile_provider = OSM\n",
    "colors=['red','blue', 'black', 'yellow']\n"
   ]
  },
  {
   "cell_type": "markdown",
   "metadata": {},
   "source": [
    "## Dublin Bus GPS sample data from Dublin City Council (Insight Project)\n",
    "\n",
    "Bus GPS Data Dublin Bus GPS data across Dublin City, from Dublin **City Council'traffic control**, in csv format. \n",
    "\n",
    "Each datapoint (row in the CSV file) has the following entries:\n",
    "\n",
    "- Timestamp micro since 1970 01 01 00:00:00 GMT  \n",
    "- Line ID  \n",
    "- Direction  \n",
    "- Journey Pattern ID  \n",
    "- Time Frame (The start date of the production time table - in Dublin the production time table starts at 6am and ends at 3am)  \n",
    "- Vehicle Journey ID (A given run on the journey pattern)  \n",
    "- Operator (Bus operator, not the driver)  \n",
    "- Congestion [0=no,1=yes]  \n",
    "- Lon WGS84  \n",
    "- Lat WGS84\n",
    "- Delay (seconds, negative if bus is ahead of schedule)  \n",
    "- Block ID (a section ID of the journey pattern)  \n",
    "- Vehicle ID  \n",
    "- Stop ID  \n",
    "- At Stop [0=no,1=yes]\n",
    "\n",
    "Fonte: https://data.gov.ie/dataset/dublin-bus-gps-sample-data-from-dublin-city-council-insight-project\n"
   ]
  },
  {
   "cell_type": "markdown",
   "metadata": {},
   "source": [
    "### Abre arquivo referente aos dias 10~12 de Janeiro de 2013"
   ]
  },
  {
   "cell_type": "markdown",
   "metadata": {},
   "source": [
    "### Colunas originais do dataset"
   ]
  },
  {
   "cell_type": "code",
   "execution_count": 2,
   "metadata": {},
   "outputs": [],
   "source": [
    "features = ['timestamp','line_id','direction','journey_id',\n",
    "            'time_frame','vehicle_journey_id','operator',\n",
    "            'congestion','lng','lat','delay','block_id',\n",
    "            'vehicle_id','stop_id', 'stop']"
   ]
  },
  {
   "cell_type": "code",
   "execution_count": 3,
   "metadata": {},
   "outputs": [
    {
     "name": "stderr",
     "output_type": "stream",
     "text": [
      "100%|██████████| 1/1 [00:03<00:00,  3.90s/it]\n"
     ]
    }
   ],
   "source": [
    "df = pd.read_csv(\n",
    "    'data/siri.20130110.csv.gz', \n",
    "    compression='gzip', \n",
    "    names=features, \n",
    "    header=None)\n",
    "for i in tqdm(range(20130111,20130112,1)):\n",
    "    data = pd.read_csv(\n",
    "        'data/siri.'+str(i)+'.csv.gz', \n",
    "        compression='gzip', \n",
    "        names=features, \n",
    "        header=None)\n",
    "    df = pd.concat([df,data])"
   ]
  },
  {
   "cell_type": "markdown",
   "metadata": {},
   "source": [
    "### Lista com nomes das colunas que formam a chave da trajetória"
   ]
  },
  {
   "cell_type": "code",
   "execution_count": 4,
   "metadata": {},
   "outputs": [],
   "source": [
    "trajetoria = [\n",
    "    'line_id', 'journey_id', 'time_frame',\n",
    "    'vehicle_journey_id', 'operator', 'vehicle_id'\n",
    "             ]"
   ]
  },
  {
   "cell_type": "markdown",
   "metadata": {},
   "source": [
    "## Análise inicial do dataset"
   ]
  },
  {
   "cell_type": "code",
   "execution_count": 5,
   "metadata": {},
   "outputs": [
    {
     "data": {
      "text/html": [
       "<div>\n",
       "<style scoped>\n",
       "    .dataframe tbody tr th:only-of-type {\n",
       "        vertical-align: middle;\n",
       "    }\n",
       "\n",
       "    .dataframe tbody tr th {\n",
       "        vertical-align: top;\n",
       "    }\n",
       "\n",
       "    .dataframe thead th {\n",
       "        text-align: right;\n",
       "    }\n",
       "</style>\n",
       "<table border=\"1\" class=\"dataframe\">\n",
       "  <thead>\n",
       "    <tr style=\"text-align: right;\">\n",
       "      <th></th>\n",
       "      <th>timestamp</th>\n",
       "      <th>line_id</th>\n",
       "      <th>direction</th>\n",
       "      <th>journey_id</th>\n",
       "      <th>time_frame</th>\n",
       "      <th>vehicle_journey_id</th>\n",
       "      <th>operator</th>\n",
       "      <th>congestion</th>\n",
       "      <th>lng</th>\n",
       "      <th>lat</th>\n",
       "      <th>delay</th>\n",
       "      <th>block_id</th>\n",
       "      <th>vehicle_id</th>\n",
       "      <th>stop_id</th>\n",
       "      <th>stop</th>\n",
       "    </tr>\n",
       "  </thead>\n",
       "  <tbody>\n",
       "    <tr>\n",
       "      <th>0</th>\n",
       "      <td>1357776002000000</td>\n",
       "      <td>31.0</td>\n",
       "      <td>0</td>\n",
       "      <td>NaN</td>\n",
       "      <td>2013-01-09</td>\n",
       "      <td>5509</td>\n",
       "      <td>CF</td>\n",
       "      <td>0</td>\n",
       "      <td>-6.257756</td>\n",
       "      <td>53.349159</td>\n",
       "      <td>0</td>\n",
       "      <td>31008</td>\n",
       "      <td>38075</td>\n",
       "      <td>296.0</td>\n",
       "      <td>0</td>\n",
       "    </tr>\n",
       "    <tr>\n",
       "      <th>1</th>\n",
       "      <td>1357776002000000</td>\n",
       "      <td>66.0</td>\n",
       "      <td>0</td>\n",
       "      <td>066A0001</td>\n",
       "      <td>2013-01-09</td>\n",
       "      <td>2390</td>\n",
       "      <td>PO</td>\n",
       "      <td>0</td>\n",
       "      <td>-6.406750</td>\n",
       "      <td>53.357983</td>\n",
       "      <td>-101</td>\n",
       "      <td>66001</td>\n",
       "      <td>33376</td>\n",
       "      <td>3993.0</td>\n",
       "      <td>0</td>\n",
       "    </tr>\n",
       "    <tr>\n",
       "      <th>2</th>\n",
       "      <td>1357776002000000</td>\n",
       "      <td>49.0</td>\n",
       "      <td>0</td>\n",
       "      <td>00491001</td>\n",
       "      <td>2013-01-09</td>\n",
       "      <td>2837</td>\n",
       "      <td>RD</td>\n",
       "      <td>0</td>\n",
       "      <td>-6.272375</td>\n",
       "      <td>53.341053</td>\n",
       "      <td>-149</td>\n",
       "      <td>49006</td>\n",
       "      <td>33483</td>\n",
       "      <td>2383.0</td>\n",
       "      <td>0</td>\n",
       "    </tr>\n",
       "    <tr>\n",
       "      <th>3</th>\n",
       "      <td>1357776002000000</td>\n",
       "      <td>14.0</td>\n",
       "      <td>0</td>\n",
       "      <td>00141001</td>\n",
       "      <td>2013-01-09</td>\n",
       "      <td>5452</td>\n",
       "      <td>SL</td>\n",
       "      <td>0</td>\n",
       "      <td>-6.251083</td>\n",
       "      <td>53.357666</td>\n",
       "      <td>-251</td>\n",
       "      <td>14101</td>\n",
       "      <td>33113</td>\n",
       "      <td>248.0</td>\n",
       "      <td>1</td>\n",
       "    </tr>\n",
       "    <tr>\n",
       "      <th>4</th>\n",
       "      <td>1357776002000000</td>\n",
       "      <td>40.0</td>\n",
       "      <td>0</td>\n",
       "      <td>040D0001</td>\n",
       "      <td>2013-01-09</td>\n",
       "      <td>2217</td>\n",
       "      <td>HN</td>\n",
       "      <td>0</td>\n",
       "      <td>-6.390792</td>\n",
       "      <td>53.422108</td>\n",
       "      <td>-478</td>\n",
       "      <td>40203</td>\n",
       "      <td>38071</td>\n",
       "      <td>7104.0</td>\n",
       "      <td>0</td>\n",
       "    </tr>\n",
       "  </tbody>\n",
       "</table>\n",
       "</div>"
      ],
      "text/plain": [
       "          timestamp  line_id  direction journey_id  time_frame  \\\n",
       "0  1357776002000000     31.0          0        NaN  2013-01-09   \n",
       "1  1357776002000000     66.0          0   066A0001  2013-01-09   \n",
       "2  1357776002000000     49.0          0   00491001  2013-01-09   \n",
       "3  1357776002000000     14.0          0   00141001  2013-01-09   \n",
       "4  1357776002000000     40.0          0   040D0001  2013-01-09   \n",
       "\n",
       "   vehicle_journey_id operator  congestion       lng        lat  delay  \\\n",
       "0                5509       CF           0 -6.257756  53.349159      0   \n",
       "1                2390       PO           0 -6.406750  53.357983   -101   \n",
       "2                2837       RD           0 -6.272375  53.341053   -149   \n",
       "3                5452       SL           0 -6.251083  53.357666   -251   \n",
       "4                2217       HN           0 -6.390792  53.422108   -478   \n",
       "\n",
       "   block_id  vehicle_id  stop_id  stop  \n",
       "0     31008       38075    296.0     0  \n",
       "1     66001       33376   3993.0     0  \n",
       "2     49006       33483   2383.0     0  \n",
       "3     14101       33113    248.0     1  \n",
       "4     40203       38071   7104.0     0  "
      ]
     },
     "execution_count": 5,
     "metadata": {},
     "output_type": "execute_result"
    }
   ],
   "source": [
    "df.head()"
   ]
  },
  {
   "cell_type": "code",
   "execution_count": 6,
   "metadata": {},
   "outputs": [
    {
     "data": {
      "text/html": [
       "<div>\n",
       "<style scoped>\n",
       "    .dataframe tbody tr th:only-of-type {\n",
       "        vertical-align: middle;\n",
       "    }\n",
       "\n",
       "    .dataframe tbody tr th {\n",
       "        vertical-align: top;\n",
       "    }\n",
       "\n",
       "    .dataframe thead th {\n",
       "        text-align: right;\n",
       "    }\n",
       "</style>\n",
       "<table border=\"1\" class=\"dataframe\">\n",
       "  <thead>\n",
       "    <tr style=\"text-align: right;\">\n",
       "      <th></th>\n",
       "      <th>timestamp</th>\n",
       "      <th>line_id</th>\n",
       "      <th>direction</th>\n",
       "      <th>journey_id</th>\n",
       "      <th>time_frame</th>\n",
       "      <th>vehicle_journey_id</th>\n",
       "      <th>operator</th>\n",
       "      <th>congestion</th>\n",
       "      <th>lng</th>\n",
       "      <th>lat</th>\n",
       "      <th>delay</th>\n",
       "      <th>block_id</th>\n",
       "      <th>vehicle_id</th>\n",
       "      <th>stop_id</th>\n",
       "      <th>stop</th>\n",
       "    </tr>\n",
       "  </thead>\n",
       "  <tbody>\n",
       "    <tr>\n",
       "      <th>1729769</th>\n",
       "      <td>1357948798000000</td>\n",
       "      <td>83.0</td>\n",
       "      <td>0</td>\n",
       "      <td>00830001</td>\n",
       "      <td>2013-01-11</td>\n",
       "      <td>5776</td>\n",
       "      <td>HN</td>\n",
       "      <td>0</td>\n",
       "      <td>-6.302700</td>\n",
       "      <td>53.318638</td>\n",
       "      <td>-144</td>\n",
       "      <td>83011</td>\n",
       "      <td>40020</td>\n",
       "      <td>2489.0</td>\n",
       "      <td>0</td>\n",
       "    </tr>\n",
       "    <tr>\n",
       "      <th>1729770</th>\n",
       "      <td>1357948798000000</td>\n",
       "      <td>39.0</td>\n",
       "      <td>0</td>\n",
       "      <td>NaN</td>\n",
       "      <td>2013-01-11</td>\n",
       "      <td>3175</td>\n",
       "      <td>PO</td>\n",
       "      <td>0</td>\n",
       "      <td>-6.244823</td>\n",
       "      <td>53.328770</td>\n",
       "      <td>170</td>\n",
       "      <td>39020</td>\n",
       "      <td>36054</td>\n",
       "      <td>767.0</td>\n",
       "      <td>0</td>\n",
       "    </tr>\n",
       "    <tr>\n",
       "      <th>1729771</th>\n",
       "      <td>1357948798000000</td>\n",
       "      <td>15.0</td>\n",
       "      <td>0</td>\n",
       "      <td>00151001</td>\n",
       "      <td>2013-01-11</td>\n",
       "      <td>5112</td>\n",
       "      <td>HN</td>\n",
       "      <td>0</td>\n",
       "      <td>-6.152171</td>\n",
       "      <td>53.402569</td>\n",
       "      <td>503</td>\n",
       "      <td>15105</td>\n",
       "      <td>33502</td>\n",
       "      <td>7245.0</td>\n",
       "      <td>1</td>\n",
       "    </tr>\n",
       "    <tr>\n",
       "      <th>1729772</th>\n",
       "      <td>1357948798000000</td>\n",
       "      <td>272.0</td>\n",
       "      <td>0</td>\n",
       "      <td>027B0002</td>\n",
       "      <td>2013-01-11</td>\n",
       "      <td>369</td>\n",
       "      <td>HN</td>\n",
       "      <td>0</td>\n",
       "      <td>-6.276100</td>\n",
       "      <td>53.418041</td>\n",
       "      <td>129</td>\n",
       "      <td>272005</td>\n",
       "      <td>33504</td>\n",
       "      <td>1629.0</td>\n",
       "      <td>0</td>\n",
       "    </tr>\n",
       "    <tr>\n",
       "      <th>1729773</th>\n",
       "      <td>1357948798000000</td>\n",
       "      <td>39.0</td>\n",
       "      <td>0</td>\n",
       "      <td>00391001</td>\n",
       "      <td>2013-01-11</td>\n",
       "      <td>3020</td>\n",
       "      <td>PO</td>\n",
       "      <td>0</td>\n",
       "      <td>-6.252700</td>\n",
       "      <td>53.331966</td>\n",
       "      <td>-486</td>\n",
       "      <td>39010</td>\n",
       "      <td>36061</td>\n",
       "      <td>7339.0</td>\n",
       "      <td>1</td>\n",
       "    </tr>\n",
       "  </tbody>\n",
       "</table>\n",
       "</div>"
      ],
      "text/plain": [
       "                timestamp  line_id  direction journey_id  time_frame  \\\n",
       "1729769  1357948798000000     83.0          0   00830001  2013-01-11   \n",
       "1729770  1357948798000000     39.0          0        NaN  2013-01-11   \n",
       "1729771  1357948798000000     15.0          0   00151001  2013-01-11   \n",
       "1729772  1357948798000000    272.0          0   027B0002  2013-01-11   \n",
       "1729773  1357948798000000     39.0          0   00391001  2013-01-11   \n",
       "\n",
       "         vehicle_journey_id operator  congestion       lng        lat  delay  \\\n",
       "1729769                5776       HN           0 -6.302700  53.318638   -144   \n",
       "1729770                3175       PO           0 -6.244823  53.328770    170   \n",
       "1729771                5112       HN           0 -6.152171  53.402569    503   \n",
       "1729772                 369       HN           0 -6.276100  53.418041    129   \n",
       "1729773                3020       PO           0 -6.252700  53.331966   -486   \n",
       "\n",
       "         block_id  vehicle_id  stop_id  stop  \n",
       "1729769     83011       40020   2489.0     0  \n",
       "1729770     39020       36054    767.0     0  \n",
       "1729771     15105       33502   7245.0     1  \n",
       "1729772    272005       33504   1629.0     0  \n",
       "1729773     39010       36061   7339.0     1  "
      ]
     },
     "execution_count": 6,
     "metadata": {},
     "output_type": "execute_result"
    }
   ],
   "source": [
    "df.tail()"
   ]
  },
  {
   "cell_type": "code",
   "execution_count": 7,
   "metadata": {},
   "outputs": [
    {
     "name": "stdout",
     "output_type": "stream",
     "text": [
      "<class 'pandas.core.frame.DataFrame'>\n",
      "Int64Index: 3430406 entries, 0 to 1729773\n",
      "Data columns (total 15 columns):\n",
      " #   Column              Dtype  \n",
      "---  ------              -----  \n",
      " 0   timestamp           int64  \n",
      " 1   line_id             float64\n",
      " 2   direction           int64  \n",
      " 3   journey_id          object \n",
      " 4   time_frame          object \n",
      " 5   vehicle_journey_id  int64  \n",
      " 6   operator            object \n",
      " 7   congestion          int64  \n",
      " 8   lng                 float64\n",
      " 9   lat                 float64\n",
      " 10  delay               int64  \n",
      " 11  block_id            int64  \n",
      " 12  vehicle_id          int64  \n",
      " 13  stop_id             float64\n",
      " 14  stop                int64  \n",
      "dtypes: float64(4), int64(8), object(3)\n",
      "memory usage: 418.8+ MB\n"
     ]
    }
   ],
   "source": [
    "df.info()"
   ]
  },
  {
   "cell_type": "code",
   "execution_count": 8,
   "metadata": {},
   "outputs": [
    {
     "data": {
      "text/html": [
       "<div>\n",
       "<style scoped>\n",
       "    .dataframe tbody tr th:only-of-type {\n",
       "        vertical-align: middle;\n",
       "    }\n",
       "\n",
       "    .dataframe tbody tr th {\n",
       "        vertical-align: top;\n",
       "    }\n",
       "\n",
       "    .dataframe thead th {\n",
       "        text-align: right;\n",
       "    }\n",
       "</style>\n",
       "<table border=\"1\" class=\"dataframe\">\n",
       "  <thead>\n",
       "    <tr style=\"text-align: right;\">\n",
       "      <th></th>\n",
       "      <th>timestamp</th>\n",
       "      <th>line_id</th>\n",
       "      <th>direction</th>\n",
       "      <th>vehicle_journey_id</th>\n",
       "      <th>congestion</th>\n",
       "      <th>lng</th>\n",
       "      <th>lat</th>\n",
       "      <th>delay</th>\n",
       "      <th>block_id</th>\n",
       "      <th>vehicle_id</th>\n",
       "      <th>stop_id</th>\n",
       "      <th>stop</th>\n",
       "    </tr>\n",
       "  </thead>\n",
       "  <tbody>\n",
       "    <tr>\n",
       "      <th>count</th>\n",
       "      <td>3.430406e+06</td>\n",
       "      <td>3.429963e+06</td>\n",
       "      <td>3430406.0</td>\n",
       "      <td>3.430406e+06</td>\n",
       "      <td>3.430406e+06</td>\n",
       "      <td>3.430406e+06</td>\n",
       "      <td>3.430406e+06</td>\n",
       "      <td>3.430406e+06</td>\n",
       "      <td>3.430406e+06</td>\n",
       "      <td>3.430406e+06</td>\n",
       "      <td>3.236571e+06</td>\n",
       "      <td>3.430406e+06</td>\n",
       "    </tr>\n",
       "    <tr>\n",
       "      <th>mean</th>\n",
       "      <td>1.357871e+15</td>\n",
       "      <td>7.674974e+01</td>\n",
       "      <td>0.0</td>\n",
       "      <td>8.030546e+03</td>\n",
       "      <td>1.081942e-02</td>\n",
       "      <td>-6.271851e+00</td>\n",
       "      <td>5.334449e+01</td>\n",
       "      <td>-1.286452e+01</td>\n",
       "      <td>1.157287e+05</td>\n",
       "      <td>3.534091e+04</td>\n",
       "      <td>2.755840e+03</td>\n",
       "      <td>2.306231e-01</td>\n",
       "    </tr>\n",
       "    <tr>\n",
       "      <th>std</th>\n",
       "      <td>4.666748e+10</td>\n",
       "      <td>1.110898e+02</td>\n",
       "      <td>0.0</td>\n",
       "      <td>6.354814e+04</td>\n",
       "      <td>1.034522e-01</td>\n",
       "      <td>8.350831e-02</td>\n",
       "      <td>5.512406e-02</td>\n",
       "      <td>4.634146e+02</td>\n",
       "      <td>2.029284e+05</td>\n",
       "      <td>3.250063e+03</td>\n",
       "      <td>2.187218e+03</td>\n",
       "      <td>4.212317e-01</td>\n",
       "    </tr>\n",
       "    <tr>\n",
       "      <th>min</th>\n",
       "      <td>1.357776e+15</td>\n",
       "      <td>1.000000e+00</td>\n",
       "      <td>0.0</td>\n",
       "      <td>1.000000e+00</td>\n",
       "      <td>0.000000e+00</td>\n",
       "      <td>-6.615016e+00</td>\n",
       "      <td>5.307028e+01</td>\n",
       "      <td>-7.334000e+03</td>\n",
       "      <td>1.001000e+03</td>\n",
       "      <td>2.804700e+04</td>\n",
       "      <td>2.000000e+00</td>\n",
       "      <td>0.000000e+00</td>\n",
       "    </tr>\n",
       "    <tr>\n",
       "      <th>25%</th>\n",
       "      <td>1.357828e+15</td>\n",
       "      <td>2.500000e+01</td>\n",
       "      <td>0.0</td>\n",
       "      <td>2.007000e+03</td>\n",
       "      <td>0.000000e+00</td>\n",
       "      <td>-6.307797e+00</td>\n",
       "      <td>5.331963e+01</td>\n",
       "      <td>-1.880000e+02</td>\n",
       "      <td>1.602100e+04</td>\n",
       "      <td>3.329100e+04</td>\n",
       "      <td>8.330000e+02</td>\n",
       "      <td>0.000000e+00</td>\n",
       "    </tr>\n",
       "    <tr>\n",
       "      <th>50%</th>\n",
       "      <td>1.357885e+15</td>\n",
       "      <td>4.000000e+01</td>\n",
       "      <td>0.0</td>\n",
       "      <td>3.856000e+03</td>\n",
       "      <td>0.000000e+00</td>\n",
       "      <td>-6.261396e+00</td>\n",
       "      <td>5.334624e+01</td>\n",
       "      <td>0.000000e+00</td>\n",
       "      <td>4.021000e+04</td>\n",
       "      <td>3.351400e+04</td>\n",
       "      <td>2.101000e+03</td>\n",
       "      <td>0.000000e+00</td>\n",
       "    </tr>\n",
       "    <tr>\n",
       "      <th>75%</th>\n",
       "      <td>1.357914e+15</td>\n",
       "      <td>8.300000e+01</td>\n",
       "      <td>0.0</td>\n",
       "      <td>5.520000e+03</td>\n",
       "      <td>0.000000e+00</td>\n",
       "      <td>-6.232217e+00</td>\n",
       "      <td>5.337394e+01</td>\n",
       "      <td>1.290000e+02</td>\n",
       "      <td>1.020050e+05</td>\n",
       "      <td>3.801000e+04</td>\n",
       "      <td>4.411000e+03</td>\n",
       "      <td>0.000000e+00</td>\n",
       "    </tr>\n",
       "    <tr>\n",
       "      <th>max</th>\n",
       "      <td>1.357949e+15</td>\n",
       "      <td>7.470000e+02</td>\n",
       "      <td>0.0</td>\n",
       "      <td>9.997110e+05</td>\n",
       "      <td>1.000000e+00</td>\n",
       "      <td>-6.052917e+00</td>\n",
       "      <td>5.360655e+01</td>\n",
       "      <td>1.161220e+05</td>\n",
       "      <td>8.350020e+05</td>\n",
       "      <td>4.307800e+04</td>\n",
       "      <td>7.552000e+03</td>\n",
       "      <td>1.000000e+00</td>\n",
       "    </tr>\n",
       "  </tbody>\n",
       "</table>\n",
       "</div>"
      ],
      "text/plain": [
       "          timestamp       line_id  direction  vehicle_journey_id  \\\n",
       "count  3.430406e+06  3.429963e+06  3430406.0        3.430406e+06   \n",
       "mean   1.357871e+15  7.674974e+01        0.0        8.030546e+03   \n",
       "std    4.666748e+10  1.110898e+02        0.0        6.354814e+04   \n",
       "min    1.357776e+15  1.000000e+00        0.0        1.000000e+00   \n",
       "25%    1.357828e+15  2.500000e+01        0.0        2.007000e+03   \n",
       "50%    1.357885e+15  4.000000e+01        0.0        3.856000e+03   \n",
       "75%    1.357914e+15  8.300000e+01        0.0        5.520000e+03   \n",
       "max    1.357949e+15  7.470000e+02        0.0        9.997110e+05   \n",
       "\n",
       "         congestion           lng           lat         delay      block_id  \\\n",
       "count  3.430406e+06  3.430406e+06  3.430406e+06  3.430406e+06  3.430406e+06   \n",
       "mean   1.081942e-02 -6.271851e+00  5.334449e+01 -1.286452e+01  1.157287e+05   \n",
       "std    1.034522e-01  8.350831e-02  5.512406e-02  4.634146e+02  2.029284e+05   \n",
       "min    0.000000e+00 -6.615016e+00  5.307028e+01 -7.334000e+03  1.001000e+03   \n",
       "25%    0.000000e+00 -6.307797e+00  5.331963e+01 -1.880000e+02  1.602100e+04   \n",
       "50%    0.000000e+00 -6.261396e+00  5.334624e+01  0.000000e+00  4.021000e+04   \n",
       "75%    0.000000e+00 -6.232217e+00  5.337394e+01  1.290000e+02  1.020050e+05   \n",
       "max    1.000000e+00 -6.052917e+00  5.360655e+01  1.161220e+05  8.350020e+05   \n",
       "\n",
       "         vehicle_id       stop_id          stop  \n",
       "count  3.430406e+06  3.236571e+06  3.430406e+06  \n",
       "mean   3.534091e+04  2.755840e+03  2.306231e-01  \n",
       "std    3.250063e+03  2.187218e+03  4.212317e-01  \n",
       "min    2.804700e+04  2.000000e+00  0.000000e+00  \n",
       "25%    3.329100e+04  8.330000e+02  0.000000e+00  \n",
       "50%    3.351400e+04  2.101000e+03  0.000000e+00  \n",
       "75%    3.801000e+04  4.411000e+03  0.000000e+00  \n",
       "max    4.307800e+04  7.552000e+03  1.000000e+00  "
      ]
     },
     "execution_count": 8,
     "metadata": {},
     "output_type": "execute_result"
    }
   ],
   "source": [
    "df.describe()"
   ]
  },
  {
   "cell_type": "markdown",
   "metadata": {},
   "source": [
    "Retirar a coluna DIRECTION que não apresenta qualquer informação"
   ]
  },
  {
   "cell_type": "code",
   "execution_count": 9,
   "metadata": {},
   "outputs": [
    {
     "data": {
      "text/plain": [
       "False"
      ]
     },
     "execution_count": 9,
     "metadata": {},
     "output_type": "execute_result"
    }
   ],
   "source": [
    "df.drop('direction', axis=1, inplace=True)\n",
    "'direction' in df.columns"
   ]
  },
  {
   "cell_type": "markdown",
   "metadata": {},
   "source": [
    "### Ajusta tipo das features"
   ]
  },
  {
   "cell_type": "markdown",
   "metadata": {},
   "source": [
    "#### Boolean"
   ]
  },
  {
   "cell_type": "code",
   "execution_count": 10,
   "metadata": {},
   "outputs": [],
   "source": [
    "df.stop = df.stop.astype('bool')\n",
    "df.congestion = df.congestion.astype('bool')"
   ]
  },
  {
   "cell_type": "markdown",
   "metadata": {},
   "source": [
    "#### Datetime (microseconds - us)"
   ]
  },
  {
   "cell_type": "code",
   "execution_count": 11,
   "metadata": {},
   "outputs": [],
   "source": [
    "df['datetime'] = pd.to_datetime(df[\"timestamp\"], unit='us')"
   ]
  },
  {
   "cell_type": "markdown",
   "metadata": {},
   "source": [
    "##### Criação de duas novas features derivadas (day, hour)"
   ]
  },
  {
   "cell_type": "code",
   "execution_count": 12,
   "metadata": {},
   "outputs": [],
   "source": [
    "df['hour'] = df[\"datetime\"].dt.hour\n",
    "df['day'] = df[\"datetime\"].dt.day"
   ]
  },
  {
   "cell_type": "markdown",
   "metadata": {},
   "source": [
    "### Categoricos"
   ]
  },
  {
   "cell_type": "markdown",
   "metadata": {},
   "source": [
    "Indicar quais das colunas são categoricas:"
   ]
  },
  {
   "cell_type": "code",
   "execution_count": 13,
   "metadata": {},
   "outputs": [],
   "source": [
    "list_cats = ['line_id', 'journey_id' , 'time_frame', \n",
    "             'vehicle_journey_id', 'operator', 'block_id', \n",
    "             'vehicle_id', 'stop_id']"
   ]
  },
  {
   "cell_type": "code",
   "execution_count": 14,
   "metadata": {},
   "outputs": [],
   "source": [
    "for cat in list_cats:\n",
    "    df[cat] = df[cat].astype('category')"
   ]
  },
  {
   "cell_type": "markdown",
   "metadata": {},
   "source": [
    "### Quantos valores distintos há em cada features que compõe a chave?"
   ]
  },
  {
   "cell_type": "code",
   "execution_count": 15,
   "metadata": {},
   "outputs": [
    {
     "name": "stdout",
     "output_type": "stream",
     "text": [
      "Descritivo de instâncias únicas para cada atributo da chave:\n"
     ]
    },
    {
     "data": {
      "text/plain": [
       "(('line_id', 66),\n",
       " ('journey_id', 441),\n",
       " ('time_frame', 3),\n",
       " ('vehicle_journey_id', 7495),\n",
       " ('operator', 8),\n",
       " ('vehicle_id', 850))"
      ]
     },
     "execution_count": 15,
     "metadata": {},
     "output_type": "execute_result"
    }
   ],
   "source": [
    "lista_tamanhos = map((lambda x: len(df[x].unique())), trajetoria)\n",
    "mescla = zip(trajetoria, lista_tamanhos)\n",
    "print('Descritivo de instâncias únicas para cada atributo da chave:')\n",
    "tuple(mescla)"
   ]
  },
  {
   "cell_type": "markdown",
   "metadata": {},
   "source": [
    "### Como o 'prodution time' é entre 6am e 3am. Existem rotas fora desta janelas?"
   ]
  },
  {
   "cell_type": "code",
   "execution_count": 16,
   "metadata": {},
   "outputs": [
    {
     "data": {
      "text/html": [
       "<div>\n",
       "<style scoped>\n",
       "    .dataframe tbody tr th:only-of-type {\n",
       "        vertical-align: middle;\n",
       "    }\n",
       "\n",
       "    .dataframe tbody tr th {\n",
       "        vertical-align: top;\n",
       "    }\n",
       "\n",
       "    .dataframe thead th {\n",
       "        text-align: right;\n",
       "    }\n",
       "</style>\n",
       "<table border=\"1\" class=\"dataframe\">\n",
       "  <thead>\n",
       "    <tr style=\"text-align: right;\">\n",
       "      <th></th>\n",
       "      <th>timestamp</th>\n",
       "      <th>line_id</th>\n",
       "      <th>journey_id</th>\n",
       "      <th>time_frame</th>\n",
       "      <th>vehicle_journey_id</th>\n",
       "      <th>operator</th>\n",
       "      <th>congestion</th>\n",
       "      <th>lng</th>\n",
       "      <th>lat</th>\n",
       "      <th>delay</th>\n",
       "      <th>block_id</th>\n",
       "      <th>vehicle_id</th>\n",
       "      <th>stop_id</th>\n",
       "      <th>stop</th>\n",
       "      <th>datetime</th>\n",
       "      <th>hour</th>\n",
       "      <th>day</th>\n",
       "    </tr>\n",
       "  </thead>\n",
       "  <tbody>\n",
       "  </tbody>\n",
       "</table>\n",
       "</div>"
      ],
      "text/plain": [
       "Empty DataFrame\n",
       "Columns: [timestamp, line_id, journey_id, time_frame, vehicle_journey_id, operator, congestion, lng, lat, delay, block_id, vehicle_id, stop_id, stop, datetime, hour, day]\n",
       "Index: []"
      ]
     },
     "execution_count": 16,
     "metadata": {},
     "output_type": "execute_result"
    }
   ],
   "source": [
    "df[(3 < df.hour) & (df.hour < 6)]"
   ]
  },
  {
   "cell_type": "markdown",
   "metadata": {},
   "source": [
    "## Análisar trajetórias"
   ]
  },
  {
   "cell_type": "markdown",
   "metadata": {},
   "source": [
    "### ( ! ) Os blocos abaixo foram retirados pois estava dando erro com a alocação de memória na função groupby."
   ]
  },
  {
   "cell_type": "markdown",
   "metadata": {},
   "source": [
    "Eles vão fazem a análise do número de pontos em cada trajetórias e servem de embasamento para a seleção do número mínimo de 50 pontos para validar uma trajetória."
   ]
  },
  {
   "cell_type": "raw",
   "metadata": {},
   "source": [
    "df.info()"
   ]
  },
  {
   "cell_type": "raw",
   "metadata": {},
   "source": [
    "df_traj = df.groupby(trajetoria).size().reset_index()\n",
    "df_traj['points'] = df_traj[0]\n",
    "df_traj.drop(0, axis=1, inplace=True)"
   ]
  },
  {
   "cell_type": "raw",
   "metadata": {},
   "source": [
    "df_traj.head()"
   ]
  },
  {
   "cell_type": "raw",
   "metadata": {},
   "source": [
    "df_traj.points.describe()"
   ]
  },
  {
   "cell_type": "raw",
   "metadata": {},
   "source": [
    "df_traj.points.plot(kind='box')"
   ]
  },
  {
   "cell_type": "raw",
   "metadata": {},
   "source": [
    "df_traj.points.plot(kind='hist')"
   ]
  },
  {
   "cell_type": "raw",
   "metadata": {},
   "source": [
    "df_traj['points_log'] = np.log10(df_traj['points'])\n",
    "df_traj.plot(y='points_log', kind='hist')"
   ]
  },
  {
   "cell_type": "raw",
   "metadata": {},
   "source": [
    "df_traj.points_log.describe()"
   ]
  },
  {
   "cell_type": "markdown",
   "metadata": {},
   "source": [
    "Observamos uma partição dos número de pontos por trajetória um pouco abaixo de 100 pontos. Mais a frente iremos usar o valor limite de 50 pontos para excluir as trajetórias abaixo deste limiar."
   ]
  },
  {
   "cell_type": "code",
   "execution_count": 17,
   "metadata": {},
   "outputs": [],
   "source": [
    "minimo_pontos = 50"
   ]
  },
  {
   "cell_type": "markdown",
   "metadata": {},
   "source": [
    "## Gerar trajetórias"
   ]
  },
  {
   "cell_type": "markdown",
   "metadata": {},
   "source": [
    "Na função que gera trajetórias incluimos algumas features aproveitando o fato de que esta geração de trajetórias percorre o dataset linha a linha, uma vez que precisamos identificar um valor limite entre duas amostras do GPS para poder validar a trajetória. Usamos aqui o valor é de 5 minutos."
   ]
  },
  {
   "cell_type": "code",
   "execution_count": 18,
   "metadata": {},
   "outputs": [],
   "source": [
    "gps = ['lat','lng']\n",
    "\n",
    "def delta_time(t1, t2) -> float:\n",
    "    '''\n",
    "    Retorna diferença temporal em segundos\n",
    "    Ou np.nan se a diferença temporal para o ponto anterior\n",
    "    for superior a 5 minutos\n",
    "    '''\n",
    "    t1 = pd.to_datetime(t1,unit='us')\n",
    "    t2 = pd.to_datetime(t2,unit='us')\n",
    "    time = pd.Timedelta(np.abs(t2 - t1))\n",
    "    if (time.seconds > 5*60):\n",
    "        return np.nan\n",
    "    else:        \n",
    "        return time.seconds\n",
    "\n",
    "def calc_deltas(frame):\n",
    "    '''\n",
    "    Retorna o DF com as colunas de delta[tempo, distancia] preenchidas\n",
    "    Depende do valor da linha anterior (temporalmente)\n",
    "    Nas funções MAP são enviados os valores da linha presente e da anterior (shift(1))\n",
    "    '''\n",
    "    frame.dist_from_old_point = 0\n",
    "    frame.time_from_old_point = 0\n",
    "    delta_d = list(map(\n",
    "        lambda x, y: geodesic(x,y).meters, frame[gps].values[1:], frame[gps].shift(1).values[1:]))\n",
    "    delta_t = list(map(\n",
    "        lambda x, y: delta_time(x,y), frame['timestamp'].values[1:], frame['timestamp'].shift(1).values[1:]))\n",
    "    if (len(frame[frame.isna()]) == 0):\n",
    "        print('Não há quaisquer valores NaN')\n",
    "    frame['dist_from_old_point'] = [0, *delta_d]\n",
    "    frame['time_from_old_point'] = [0, *delta_t]\n",
    "    return frame"
   ]
  },
  {
   "cell_type": "markdown",
   "metadata": {},
   "source": [
    "Repartição do dataset em uma lista contendo vários dataframes, cada um referente a uma trajaetória "
   ]
  },
  {
   "cell_type": "markdown",
   "metadata": {},
   "source": [
    "No GroupBy a seguir todas as instâncias com uma das features listadas como chave com valor NaN são descartadas."
   ]
  },
  {
   "cell_type": "code",
   "execution_count": 19,
   "metadata": {},
   "outputs": [],
   "source": [
    "# Salvar as descartadas para plotagem ao final do notebook\n",
    "dfs_menos_q_50 = [x for _,x in df.groupby(trajetoria) if ((len(x) < 50) & (len(x) > 10))]\n",
    "\n",
    "# Repartição\n",
    "dfs = [x for _,x in df.groupby(trajetoria) if (len(x) > 50)]\n",
    "\n",
    "# Seleciona 100 trajetórias aleatórias\n",
    "random_traj = random.sample(range(0, len(dfs)), 100)\n",
    "dfs = [dfs[i] for i in random_traj] \n",
    "\n",
    "# Chamas calc_deltas para cada trajetória\n",
    "dfs = list(map(calc_deltas,dfs))\n",
    "\n",
    "# concatena as trajetorias de volta em um DF unico\n",
    "dfs = pd.concat(dfs)"
   ]
  },
  {
   "cell_type": "markdown",
   "metadata": {},
   "source": [
    "### Criação de novas features"
   ]
  },
  {
   "cell_type": "markdown",
   "metadata": {},
   "source": [
    "#### Velocidade e Aceleração"
   ]
  },
  {
   "cell_type": "code",
   "execution_count": 20,
   "metadata": {},
   "outputs": [],
   "source": [
    "dfs['velocity'] = dfs.dist_from_old_point / dfs.time_from_old_point\n",
    "dfs['acc'] = dfs.velocity * (1/dfs.time_from_old_point)\n",
    "dfs['acc'].fillna(value=0, inplace=True)\n",
    "dfs['velocity'].fillna(value=0, inplace=True)"
   ]
  },
  {
   "cell_type": "markdown",
   "metadata": {},
   "source": [
    "#### ID única para cada trajetória"
   ]
  },
  {
   "cell_type": "code",
   "execution_count": 21,
   "metadata": {},
   "outputs": [],
   "source": [
    "dfs[trajetoria] = dfs[trajetoria].astype('string')\n",
    "dfs['ID'] = dfs[trajetoria].agg('-'.join, axis=1).astype('category').cat.codes"
   ]
  },
  {
   "cell_type": "markdown",
   "metadata": {},
   "source": [
    "### Exclusão de pontos que diferem mais que 5 minutos do prévio"
   ]
  },
  {
   "cell_type": "markdown",
   "metadata": {},
   "source": [
    "Verifica também se os pontos restantes (anteriores) tem uma a quantidade mínima de pontos para validar a trajetória"
   ]
  },
  {
   "cell_type": "code",
   "execution_count": 22,
   "metadata": {},
   "outputs": [
    {
     "name": "stdout",
     "output_type": "stream",
     "text": [
      "Pontos a serem analisados:\n",
      "[ 4  1 63]\n"
     ]
    }
   ],
   "source": [
    "# IDs com np.nan na coluna time_from_old_point\n",
    "lista_IDs = dfs[dfs.time_from_old_point.isna()].ID.unique()\n",
    "print('Pontos a serem analisados:')\n",
    "print(lista_IDs)\n",
    "def index2remove(ID):\n",
    "    cc = dfs[dfs.ID==ID]\n",
    "    if (len(cc) == 0):\n",
    "        return\n",
    "    cc.sort_values('timestamp')\n",
    "    ts = cc[cc['time_from_old_point'].isna()].timestamp.values[0]\n",
    "    if (len(cc[cc.timestamp <= ts]) < 50):\n",
    "        #exclui todo mundo no caso de não ter 50 pontos restantes\n",
    "        print( f'A trajetória {ID} não tem o mínimos de pontos')\n",
    "        dfs.drop(cc.index, inplace=True)\n",
    "        return cc.index\n",
    "    else:\n",
    "        # exclui só do ponto problemático em diante\n",
    "        dfs.drop(cc[cc.timestamp >= ts].index, inplace=True)\n",
    "        return cc[cc.timestamp >= ts].index\n",
    "remover = list(map(index2remove,lista_IDs))"
   ]
  },
  {
   "cell_type": "code",
   "execution_count": 23,
   "metadata": {},
   "outputs": [
    {
     "data": {
      "text/plain": [
       "array([], dtype=int8)"
      ]
     },
     "execution_count": 23,
     "metadata": {},
     "output_type": "execute_result"
    }
   ],
   "source": [
    "lista_IDs = dfs[dfs.time_from_old_point.isna()].ID.values\n",
    "lista_IDs"
   ]
  },
  {
   "cell_type": "code",
   "execution_count": 24,
   "metadata": {},
   "outputs": [
    {
     "data": {
      "text/html": [
       "<div>\n",
       "<style scoped>\n",
       "    .dataframe tbody tr th:only-of-type {\n",
       "        vertical-align: middle;\n",
       "    }\n",
       "\n",
       "    .dataframe tbody tr th {\n",
       "        vertical-align: top;\n",
       "    }\n",
       "\n",
       "    .dataframe thead th {\n",
       "        text-align: right;\n",
       "    }\n",
       "</style>\n",
       "<table border=\"1\" class=\"dataframe\">\n",
       "  <thead>\n",
       "    <tr style=\"text-align: right;\">\n",
       "      <th></th>\n",
       "      <th>timestamp</th>\n",
       "      <th>line_id</th>\n",
       "      <th>journey_id</th>\n",
       "      <th>time_frame</th>\n",
       "      <th>vehicle_journey_id</th>\n",
       "      <th>operator</th>\n",
       "      <th>congestion</th>\n",
       "      <th>lng</th>\n",
       "      <th>lat</th>\n",
       "      <th>delay</th>\n",
       "      <th>block_id</th>\n",
       "      <th>vehicle_id</th>\n",
       "      <th>stop_id</th>\n",
       "      <th>stop</th>\n",
       "      <th>datetime</th>\n",
       "      <th>hour</th>\n",
       "      <th>day</th>\n",
       "      <th>dist_from_old_point</th>\n",
       "      <th>time_from_old_point</th>\n",
       "      <th>velocity</th>\n",
       "      <th>acc</th>\n",
       "      <th>ID</th>\n",
       "    </tr>\n",
       "  </thead>\n",
       "  <tbody>\n",
       "    <tr>\n",
       "      <th>375088</th>\n",
       "      <td>1357809776000000</td>\n",
       "      <td>40.0</td>\n",
       "      <td>00401001</td>\n",
       "      <td>2013-01-10</td>\n",
       "      <td>5495</td>\n",
       "      <td>CD</td>\n",
       "      <td>False</td>\n",
       "      <td>-6.404491</td>\n",
       "      <td>53.351501</td>\n",
       "      <td>63</td>\n",
       "      <td>40001</td>\n",
       "      <td>33293</td>\n",
       "      <td>4795.0</td>\n",
       "      <td>False</td>\n",
       "      <td>2013-01-10 09:22:56</td>\n",
       "      <td>9</td>\n",
       "      <td>10</td>\n",
       "      <td>0.000000</td>\n",
       "      <td>0.0</td>\n",
       "      <td>0.000000</td>\n",
       "      <td>0.000000</td>\n",
       "      <td>62</td>\n",
       "    </tr>\n",
       "    <tr>\n",
       "      <th>375889</th>\n",
       "      <td>1357809797000000</td>\n",
       "      <td>40.0</td>\n",
       "      <td>00401001</td>\n",
       "      <td>2013-01-10</td>\n",
       "      <td>5495</td>\n",
       "      <td>CD</td>\n",
       "      <td>False</td>\n",
       "      <td>-6.404848</td>\n",
       "      <td>53.350430</td>\n",
       "      <td>63</td>\n",
       "      <td>40001</td>\n",
       "      <td>33293</td>\n",
       "      <td>4688.0</td>\n",
       "      <td>False</td>\n",
       "      <td>2013-01-10 09:23:17</td>\n",
       "      <td>9</td>\n",
       "      <td>10</td>\n",
       "      <td>121.542301</td>\n",
       "      <td>21.0</td>\n",
       "      <td>5.787729</td>\n",
       "      <td>0.275606</td>\n",
       "      <td>62</td>\n",
       "    </tr>\n",
       "    <tr>\n",
       "      <th>376534</th>\n",
       "      <td>1357809817000000</td>\n",
       "      <td>40.0</td>\n",
       "      <td>00401001</td>\n",
       "      <td>2013-01-10</td>\n",
       "      <td>5495</td>\n",
       "      <td>CD</td>\n",
       "      <td>False</td>\n",
       "      <td>-6.405349</td>\n",
       "      <td>53.348991</td>\n",
       "      <td>63</td>\n",
       "      <td>40001</td>\n",
       "      <td>33293</td>\n",
       "      <td>4688.0</td>\n",
       "      <td>False</td>\n",
       "      <td>2013-01-10 09:23:37</td>\n",
       "      <td>9</td>\n",
       "      <td>10</td>\n",
       "      <td>163.588702</td>\n",
       "      <td>20.0</td>\n",
       "      <td>8.179435</td>\n",
       "      <td>0.408972</td>\n",
       "      <td>62</td>\n",
       "    </tr>\n",
       "    <tr>\n",
       "      <th>377238</th>\n",
       "      <td>1357809835000000</td>\n",
       "      <td>40.0</td>\n",
       "      <td>00401001</td>\n",
       "      <td>2013-01-10</td>\n",
       "      <td>5495</td>\n",
       "      <td>CD</td>\n",
       "      <td>False</td>\n",
       "      <td>-6.405779</td>\n",
       "      <td>53.347740</td>\n",
       "      <td>78</td>\n",
       "      <td>40001</td>\n",
       "      <td>33293</td>\n",
       "      <td>4688.0</td>\n",
       "      <td>False</td>\n",
       "      <td>2013-01-10 09:23:55</td>\n",
       "      <td>9</td>\n",
       "      <td>10</td>\n",
       "      <td>142.141731</td>\n",
       "      <td>18.0</td>\n",
       "      <td>7.896763</td>\n",
       "      <td>0.438709</td>\n",
       "      <td>62</td>\n",
       "    </tr>\n",
       "    <tr>\n",
       "      <th>378002</th>\n",
       "      <td>1357809860000000</td>\n",
       "      <td>40.0</td>\n",
       "      <td>00401001</td>\n",
       "      <td>2013-01-10</td>\n",
       "      <td>5495</td>\n",
       "      <td>CD</td>\n",
       "      <td>False</td>\n",
       "      <td>-6.406640</td>\n",
       "      <td>53.345314</td>\n",
       "      <td>78</td>\n",
       "      <td>40001</td>\n",
       "      <td>33293</td>\n",
       "      <td>4689.0</td>\n",
       "      <td>False</td>\n",
       "      <td>2013-01-10 09:24:20</td>\n",
       "      <td>9</td>\n",
       "      <td>10</td>\n",
       "      <td>276.018150</td>\n",
       "      <td>25.0</td>\n",
       "      <td>11.040726</td>\n",
       "      <td>0.441629</td>\n",
       "      <td>62</td>\n",
       "    </tr>\n",
       "  </tbody>\n",
       "</table>\n",
       "</div>"
      ],
      "text/plain": [
       "               timestamp line_id journey_id  time_frame vehicle_journey_id  \\\n",
       "375088  1357809776000000    40.0   00401001  2013-01-10               5495   \n",
       "375889  1357809797000000    40.0   00401001  2013-01-10               5495   \n",
       "376534  1357809817000000    40.0   00401001  2013-01-10               5495   \n",
       "377238  1357809835000000    40.0   00401001  2013-01-10               5495   \n",
       "378002  1357809860000000    40.0   00401001  2013-01-10               5495   \n",
       "\n",
       "       operator  congestion       lng        lat  delay block_id vehicle_id  \\\n",
       "375088       CD       False -6.404491  53.351501     63    40001      33293   \n",
       "375889       CD       False -6.404848  53.350430     63    40001      33293   \n",
       "376534       CD       False -6.405349  53.348991     63    40001      33293   \n",
       "377238       CD       False -6.405779  53.347740     78    40001      33293   \n",
       "378002       CD       False -6.406640  53.345314     78    40001      33293   \n",
       "\n",
       "       stop_id   stop            datetime  hour  day  dist_from_old_point  \\\n",
       "375088  4795.0  False 2013-01-10 09:22:56     9   10             0.000000   \n",
       "375889  4688.0  False 2013-01-10 09:23:17     9   10           121.542301   \n",
       "376534  4688.0  False 2013-01-10 09:23:37     9   10           163.588702   \n",
       "377238  4688.0  False 2013-01-10 09:23:55     9   10           142.141731   \n",
       "378002  4689.0  False 2013-01-10 09:24:20     9   10           276.018150   \n",
       "\n",
       "        time_from_old_point   velocity       acc  ID  \n",
       "375088                  0.0   0.000000  0.000000  62  \n",
       "375889                 21.0   5.787729  0.275606  62  \n",
       "376534                 20.0   8.179435  0.408972  62  \n",
       "377238                 18.0   7.896763  0.438709  62  \n",
       "378002                 25.0  11.040726  0.441629  62  "
      ]
     },
     "execution_count": 24,
     "metadata": {},
     "output_type": "execute_result"
    }
   ],
   "source": [
    "dfs.head()"
   ]
  },
  {
   "cell_type": "code",
   "execution_count": 25,
   "metadata": {},
   "outputs": [],
   "source": [
    "#backup\n",
    "df = dfs.copy()"
   ]
  },
  {
   "cell_type": "code",
   "execution_count": 26,
   "metadata": {},
   "outputs": [
    {
     "data": {
      "text/html": [
       "<div>\n",
       "<style scoped>\n",
       "    .dataframe tbody tr th:only-of-type {\n",
       "        vertical-align: middle;\n",
       "    }\n",
       "\n",
       "    .dataframe tbody tr th {\n",
       "        vertical-align: top;\n",
       "    }\n",
       "\n",
       "    .dataframe thead th {\n",
       "        text-align: right;\n",
       "    }\n",
       "</style>\n",
       "<table border=\"1\" class=\"dataframe\">\n",
       "  <thead>\n",
       "    <tr style=\"text-align: right;\">\n",
       "      <th></th>\n",
       "      <th>timestamp</th>\n",
       "      <th>line_id</th>\n",
       "      <th>journey_id</th>\n",
       "      <th>time_frame</th>\n",
       "      <th>vehicle_journey_id</th>\n",
       "      <th>operator</th>\n",
       "      <th>congestion</th>\n",
       "      <th>lng</th>\n",
       "      <th>lat</th>\n",
       "      <th>delay</th>\n",
       "      <th>block_id</th>\n",
       "      <th>vehicle_id</th>\n",
       "      <th>stop_id</th>\n",
       "      <th>stop</th>\n",
       "      <th>datetime</th>\n",
       "      <th>hour</th>\n",
       "      <th>day</th>\n",
       "      <th>dist_from_old_point</th>\n",
       "      <th>time_from_old_point</th>\n",
       "      <th>velocity</th>\n",
       "      <th>acc</th>\n",
       "      <th>ID</th>\n",
       "    </tr>\n",
       "  </thead>\n",
       "  <tbody>\n",
       "    <tr>\n",
       "      <th>832681</th>\n",
       "      <td>1357826644000000</td>\n",
       "      <td>9.0</td>\n",
       "      <td>00091001</td>\n",
       "      <td>2013-01-10</td>\n",
       "      <td>3641</td>\n",
       "      <td>PO</td>\n",
       "      <td>False</td>\n",
       "      <td>-6.306467</td>\n",
       "      <td>53.403851</td>\n",
       "      <td>-111</td>\n",
       "      <td>9002</td>\n",
       "      <td>33307</td>\n",
       "      <td>7131.0</td>\n",
       "      <td>True</td>\n",
       "      <td>2013-01-10 14:04:04</td>\n",
       "      <td>14</td>\n",
       "      <td>10</td>\n",
       "      <td>27.689817</td>\n",
       "      <td>20.0</td>\n",
       "      <td>1.384491</td>\n",
       "      <td>0.069225</td>\n",
       "      <td>99</td>\n",
       "    </tr>\n",
       "    <tr>\n",
       "      <th>832897</th>\n",
       "      <td>1357826653000000</td>\n",
       "      <td>9.0</td>\n",
       "      <td>00091001</td>\n",
       "      <td>2013-01-10</td>\n",
       "      <td>3641</td>\n",
       "      <td>PO</td>\n",
       "      <td>False</td>\n",
       "      <td>-6.306467</td>\n",
       "      <td>53.403851</td>\n",
       "      <td>-48</td>\n",
       "      <td>9002</td>\n",
       "      <td>33307</td>\n",
       "      <td>7131.0</td>\n",
       "      <td>True</td>\n",
       "      <td>2013-01-10 14:04:13</td>\n",
       "      <td>14</td>\n",
       "      <td>10</td>\n",
       "      <td>0.000000</td>\n",
       "      <td>9.0</td>\n",
       "      <td>0.000000</td>\n",
       "      <td>0.000000</td>\n",
       "      <td>99</td>\n",
       "    </tr>\n",
       "    <tr>\n",
       "      <th>833332</th>\n",
       "      <td>1357826669000000</td>\n",
       "      <td>9.0</td>\n",
       "      <td>00091001</td>\n",
       "      <td>2013-01-10</td>\n",
       "      <td>3641</td>\n",
       "      <td>PO</td>\n",
       "      <td>False</td>\n",
       "      <td>-6.306467</td>\n",
       "      <td>53.403851</td>\n",
       "      <td>-48</td>\n",
       "      <td>9002</td>\n",
       "      <td>33307</td>\n",
       "      <td>7131.0</td>\n",
       "      <td>True</td>\n",
       "      <td>2013-01-10 14:04:29</td>\n",
       "      <td>14</td>\n",
       "      <td>10</td>\n",
       "      <td>0.000000</td>\n",
       "      <td>16.0</td>\n",
       "      <td>0.000000</td>\n",
       "      <td>0.000000</td>\n",
       "      <td>99</td>\n",
       "    </tr>\n",
       "    <tr>\n",
       "      <th>833834</th>\n",
       "      <td>1357826687000000</td>\n",
       "      <td>9.0</td>\n",
       "      <td>00091001</td>\n",
       "      <td>2013-01-10</td>\n",
       "      <td>3641</td>\n",
       "      <td>PO</td>\n",
       "      <td>False</td>\n",
       "      <td>-6.306467</td>\n",
       "      <td>53.403851</td>\n",
       "      <td>-48</td>\n",
       "      <td>9002</td>\n",
       "      <td>33307</td>\n",
       "      <td>7131.0</td>\n",
       "      <td>True</td>\n",
       "      <td>2013-01-10 14:04:47</td>\n",
       "      <td>14</td>\n",
       "      <td>10</td>\n",
       "      <td>0.000000</td>\n",
       "      <td>18.0</td>\n",
       "      <td>0.000000</td>\n",
       "      <td>0.000000</td>\n",
       "      <td>99</td>\n",
       "    </tr>\n",
       "    <tr>\n",
       "      <th>834206</th>\n",
       "      <td>1357826708000000</td>\n",
       "      <td>9.0</td>\n",
       "      <td>00091001</td>\n",
       "      <td>2013-01-10</td>\n",
       "      <td>3641</td>\n",
       "      <td>PO</td>\n",
       "      <td>False</td>\n",
       "      <td>-6.306467</td>\n",
       "      <td>53.403851</td>\n",
       "      <td>-48</td>\n",
       "      <td>9002</td>\n",
       "      <td>33307</td>\n",
       "      <td>7131.0</td>\n",
       "      <td>True</td>\n",
       "      <td>2013-01-10 14:05:08</td>\n",
       "      <td>14</td>\n",
       "      <td>10</td>\n",
       "      <td>0.000000</td>\n",
       "      <td>21.0</td>\n",
       "      <td>0.000000</td>\n",
       "      <td>0.000000</td>\n",
       "      <td>99</td>\n",
       "    </tr>\n",
       "  </tbody>\n",
       "</table>\n",
       "</div>"
      ],
      "text/plain": [
       "               timestamp line_id journey_id  time_frame vehicle_journey_id  \\\n",
       "832681  1357826644000000     9.0   00091001  2013-01-10               3641   \n",
       "832897  1357826653000000     9.0   00091001  2013-01-10               3641   \n",
       "833332  1357826669000000     9.0   00091001  2013-01-10               3641   \n",
       "833834  1357826687000000     9.0   00091001  2013-01-10               3641   \n",
       "834206  1357826708000000     9.0   00091001  2013-01-10               3641   \n",
       "\n",
       "       operator  congestion       lng        lat  delay block_id vehicle_id  \\\n",
       "832681       PO       False -6.306467  53.403851   -111     9002      33307   \n",
       "832897       PO       False -6.306467  53.403851    -48     9002      33307   \n",
       "833332       PO       False -6.306467  53.403851    -48     9002      33307   \n",
       "833834       PO       False -6.306467  53.403851    -48     9002      33307   \n",
       "834206       PO       False -6.306467  53.403851    -48     9002      33307   \n",
       "\n",
       "       stop_id  stop            datetime  hour  day  dist_from_old_point  \\\n",
       "832681  7131.0  True 2013-01-10 14:04:04    14   10            27.689817   \n",
       "832897  7131.0  True 2013-01-10 14:04:13    14   10             0.000000   \n",
       "833332  7131.0  True 2013-01-10 14:04:29    14   10             0.000000   \n",
       "833834  7131.0  True 2013-01-10 14:04:47    14   10             0.000000   \n",
       "834206  7131.0  True 2013-01-10 14:05:08    14   10             0.000000   \n",
       "\n",
       "        time_from_old_point  velocity       acc  ID  \n",
       "832681                 20.0  1.384491  0.069225  99  \n",
       "832897                  9.0  0.000000  0.000000  99  \n",
       "833332                 16.0  0.000000  0.000000  99  \n",
       "833834                 18.0  0.000000  0.000000  99  \n",
       "834206                 21.0  0.000000  0.000000  99  "
      ]
     },
     "execution_count": 26,
     "metadata": {},
     "output_type": "execute_result"
    }
   ],
   "source": [
    "df.tail()"
   ]
  },
  {
   "cell_type": "raw",
   "metadata": {},
   "source": [
    "df[df.ID==0][['lat','lng','MF_lat','MF_lng']].head(20)"
   ]
  },
  {
   "cell_type": "markdown",
   "metadata": {},
   "source": [
    "Abaixo percebemos valores que não podem pertencer a velocidades reais."
   ]
  },
  {
   "cell_type": "code",
   "execution_count": 27,
   "metadata": {},
   "outputs": [
    {
     "name": "stdout",
     "output_type": "stream",
     "text": [
      "Por exemplo o valor máximo de 1055.1953562396047 m/s para velocidade ou 211.03907124792096 m/s² para aceleração\n"
     ]
    }
   ],
   "source": [
    "print( f'Por exemplo o valor máximo de {df.velocity.max()} m/s para velocidade ou {df.acc.max()} m/s² para aceleração')"
   ]
  },
  {
   "cell_type": "code",
   "execution_count": 28,
   "metadata": {},
   "outputs": [
    {
     "data": {
      "text/html": [
       "<div>\n",
       "<style scoped>\n",
       "    .dataframe tbody tr th:only-of-type {\n",
       "        vertical-align: middle;\n",
       "    }\n",
       "\n",
       "    .dataframe tbody tr th {\n",
       "        vertical-align: top;\n",
       "    }\n",
       "\n",
       "    .dataframe thead th {\n",
       "        text-align: right;\n",
       "    }\n",
       "</style>\n",
       "<table border=\"1\" class=\"dataframe\">\n",
       "  <thead>\n",
       "    <tr style=\"text-align: right;\">\n",
       "      <th></th>\n",
       "      <th>velocity</th>\n",
       "      <th>acc</th>\n",
       "      <th>time_from_old_point</th>\n",
       "      <th>dist_from_old_point</th>\n",
       "    </tr>\n",
       "  </thead>\n",
       "  <tbody>\n",
       "    <tr>\n",
       "      <th>count</th>\n",
       "      <td>21019.000000</td>\n",
       "      <td>21019.000000</td>\n",
       "      <td>21019.000000</td>\n",
       "      <td>21019.000000</td>\n",
       "    </tr>\n",
       "    <tr>\n",
       "      <th>mean</th>\n",
       "      <td>4.850330</td>\n",
       "      <td>0.320022</td>\n",
       "      <td>20.330130</td>\n",
       "      <td>95.030729</td>\n",
       "    </tr>\n",
       "    <tr>\n",
       "      <th>std</th>\n",
       "      <td>10.427935</td>\n",
       "      <td>2.395381</td>\n",
       "      <td>7.093647</td>\n",
       "      <td>127.632017</td>\n",
       "    </tr>\n",
       "    <tr>\n",
       "      <th>min</th>\n",
       "      <td>0.000000</td>\n",
       "      <td>0.000000</td>\n",
       "      <td>0.000000</td>\n",
       "      <td>0.000000</td>\n",
       "    </tr>\n",
       "    <tr>\n",
       "      <th>25%</th>\n",
       "      <td>0.100849</td>\n",
       "      <td>0.004994</td>\n",
       "      <td>19.000000</td>\n",
       "      <td>1.980466</td>\n",
       "    </tr>\n",
       "    <tr>\n",
       "      <th>50%</th>\n",
       "      <td>3.348825</td>\n",
       "      <td>0.160633</td>\n",
       "      <td>20.000000</td>\n",
       "      <td>67.830814</td>\n",
       "    </tr>\n",
       "    <tr>\n",
       "      <th>75%</th>\n",
       "      <td>7.371527</td>\n",
       "      <td>0.362350</td>\n",
       "      <td>21.000000</td>\n",
       "      <td>150.252034</td>\n",
       "    </tr>\n",
       "    <tr>\n",
       "      <th>max</th>\n",
       "      <td>1055.195356</td>\n",
       "      <td>211.039071</td>\n",
       "      <td>242.000000</td>\n",
       "      <td>5316.671788</td>\n",
       "    </tr>\n",
       "  </tbody>\n",
       "</table>\n",
       "</div>"
      ],
      "text/plain": [
       "           velocity           acc  time_from_old_point  dist_from_old_point\n",
       "count  21019.000000  21019.000000         21019.000000         21019.000000\n",
       "mean       4.850330      0.320022            20.330130            95.030729\n",
       "std       10.427935      2.395381             7.093647           127.632017\n",
       "min        0.000000      0.000000             0.000000             0.000000\n",
       "25%        0.100849      0.004994            19.000000             1.980466\n",
       "50%        3.348825      0.160633            20.000000            67.830814\n",
       "75%        7.371527      0.362350            21.000000           150.252034\n",
       "max     1055.195356    211.039071           242.000000          5316.671788"
      ]
     },
     "execution_count": 28,
     "metadata": {},
     "output_type": "execute_result"
    }
   ],
   "source": [
    "new_cols = ['velocity', 'acc', 'time_from_old_point', 'dist_from_old_point',]\n",
    "            #'MF_velocity', 'MF_acc', 'MF_dist_from_old_point']\n",
    "df[new_cols].describe()"
   ]
  },
  {
   "cell_type": "code",
   "execution_count": 29,
   "metadata": {},
   "outputs": [
    {
     "data": {
      "text/plain": [
       "<AxesSubplot:>"
      ]
     },
     "execution_count": 29,
     "metadata": {},
     "output_type": "execute_result"
    },
    {
     "data": {
      "image/png": "[encoded data removed]",
      "text/plain": [
       "<Figure size 720x432 with 1 Axes>"
      ]
     },
     "metadata": {
      "needs_background": "light"
     },
     "output_type": "display_data"
    }
   ],
   "source": [
    "df[new_cols].plot(kind='box', figsize=(10,6))"
   ]
  },
  {
   "cell_type": "markdown",
   "metadata": {},
   "source": [
    "## Teste de métodos para detecção de outliers"
   ]
  },
  {
   "cell_type": "markdown",
   "metadata": {},
   "source": [
    "### Isolation Forest sobre a velocidade e a aceleração"
   ]
  },
  {
   "cell_type": "code",
   "execution_count": 30,
   "metadata": {},
   "outputs": [],
   "source": [
    "from sklearn.ensemble import IsolationForest"
   ]
  },
  {
   "cell_type": "code",
   "execution_count": 31,
   "metadata": {},
   "outputs": [],
   "source": [
    "feats = ['velocity','acc']\n",
    "rng = np.random.RandomState(42)\n",
    "clf = IsolationForest(max_samples=100, random_state=rng)\n",
    "clf.fit(df[feats])\n",
    "scores = clf.predict(df[feats])\n",
    "df['outlier'] = scores"
   ]
  },
  {
   "cell_type": "markdown",
   "metadata": {},
   "source": [
    "### Isolation Forest com normalização dos valores de velocidade e aceleração"
   ]
  },
  {
   "cell_type": "code",
   "execution_count": 32,
   "metadata": {},
   "outputs": [],
   "source": [
    "from sklearn.preprocessing import MinMaxScaler"
   ]
  },
  {
   "cell_type": "code",
   "execution_count": 33,
   "metadata": {},
   "outputs": [],
   "source": [
    "scaler = MinMaxScaler()\n",
    "df_normalized = pd.DataFrame(scaler.fit_transform(df[['velocity','acc']]), columns = ['velocity','acc'])\n",
    "rng = np.random.RandomState(42)\n",
    "clf = IsolationForest(max_samples=100, random_state=rng)\n",
    "clf.fit(df_normalized)\n",
    "scores = clf.predict(df_normalized)\n",
    "df['outlier_norm'] = scores"
   ]
  },
  {
   "cell_type": "code",
   "execution_count": 34,
   "metadata": {},
   "outputs": [
    {
     "data": {
      "text/html": [
       "<div>\n",
       "<style scoped>\n",
       "    .dataframe tbody tr th:only-of-type {\n",
       "        vertical-align: middle;\n",
       "    }\n",
       "\n",
       "    .dataframe tbody tr th {\n",
       "        vertical-align: top;\n",
       "    }\n",
       "\n",
       "    .dataframe thead th {\n",
       "        text-align: right;\n",
       "    }\n",
       "</style>\n",
       "<table border=\"1\" class=\"dataframe\">\n",
       "  <thead>\n",
       "    <tr style=\"text-align: right;\">\n",
       "      <th></th>\n",
       "      <th>velocity</th>\n",
       "      <th>acc</th>\n",
       "    </tr>\n",
       "  </thead>\n",
       "  <tbody>\n",
       "    <tr>\n",
       "      <th>count</th>\n",
       "      <td>16398.000000</td>\n",
       "      <td>16398.000000</td>\n",
       "    </tr>\n",
       "    <tr>\n",
       "      <th>mean</th>\n",
       "      <td>2.951179</td>\n",
       "      <td>0.145209</td>\n",
       "    </tr>\n",
       "    <tr>\n",
       "      <th>std</th>\n",
       "      <td>2.899259</td>\n",
       "      <td>0.143775</td>\n",
       "    </tr>\n",
       "    <tr>\n",
       "      <th>min</th>\n",
       "      <td>0.000000</td>\n",
       "      <td>0.000000</td>\n",
       "    </tr>\n",
       "    <tr>\n",
       "      <th>25%</th>\n",
       "      <td>0.000000</td>\n",
       "      <td>0.000000</td>\n",
       "    </tr>\n",
       "    <tr>\n",
       "      <th>50%</th>\n",
       "      <td>2.395242</td>\n",
       "      <td>0.115889</td>\n",
       "    </tr>\n",
       "    <tr>\n",
       "      <th>75%</th>\n",
       "      <td>5.239318</td>\n",
       "      <td>0.256703</td>\n",
       "    </tr>\n",
       "    <tr>\n",
       "      <th>max</th>\n",
       "      <td>9.854999</td>\n",
       "      <td>0.482454</td>\n",
       "    </tr>\n",
       "  </tbody>\n",
       "</table>\n",
       "</div>"
      ],
      "text/plain": [
       "           velocity           acc\n",
       "count  16398.000000  16398.000000\n",
       "mean       2.951179      0.145209\n",
       "std        2.899259      0.143775\n",
       "min        0.000000      0.000000\n",
       "25%        0.000000      0.000000\n",
       "50%        2.395242      0.115889\n",
       "75%        5.239318      0.256703\n",
       "max        9.854999      0.482454"
      ]
     },
     "execution_count": 34,
     "metadata": {},
     "output_type": "execute_result"
    }
   ],
   "source": [
    "df[df.outlier == 1][feats].describe()"
   ]
  },
  {
   "cell_type": "code",
   "execution_count": 35,
   "metadata": {},
   "outputs": [
    {
     "data": {
      "text/html": [
       "<div>\n",
       "<style scoped>\n",
       "    .dataframe tbody tr th:only-of-type {\n",
       "        vertical-align: middle;\n",
       "    }\n",
       "\n",
       "    .dataframe tbody tr th {\n",
       "        vertical-align: top;\n",
       "    }\n",
       "\n",
       "    .dataframe thead th {\n",
       "        text-align: right;\n",
       "    }\n",
       "</style>\n",
       "<table border=\"1\" class=\"dataframe\">\n",
       "  <thead>\n",
       "    <tr style=\"text-align: right;\">\n",
       "      <th></th>\n",
       "      <th>velocity</th>\n",
       "      <th>acc</th>\n",
       "    </tr>\n",
       "  </thead>\n",
       "  <tbody>\n",
       "    <tr>\n",
       "      <th>count</th>\n",
       "      <td>16455.000000</td>\n",
       "      <td>16455.000000</td>\n",
       "    </tr>\n",
       "    <tr>\n",
       "      <th>mean</th>\n",
       "      <td>2.985119</td>\n",
       "      <td>0.146982</td>\n",
       "    </tr>\n",
       "    <tr>\n",
       "      <th>std</th>\n",
       "      <td>2.928237</td>\n",
       "      <td>0.145395</td>\n",
       "    </tr>\n",
       "    <tr>\n",
       "      <th>min</th>\n",
       "      <td>0.000000</td>\n",
       "      <td>0.000000</td>\n",
       "    </tr>\n",
       "    <tr>\n",
       "      <th>25%</th>\n",
       "      <td>0.000000</td>\n",
       "      <td>0.000000</td>\n",
       "    </tr>\n",
       "    <tr>\n",
       "      <th>50%</th>\n",
       "      <td>2.432762</td>\n",
       "      <td>0.117872</td>\n",
       "    </tr>\n",
       "    <tr>\n",
       "      <th>75%</th>\n",
       "      <td>5.286636</td>\n",
       "      <td>0.259202</td>\n",
       "    </tr>\n",
       "    <tr>\n",
       "      <th>max</th>\n",
       "      <td>10.788005</td>\n",
       "      <td>0.539400</td>\n",
       "    </tr>\n",
       "  </tbody>\n",
       "</table>\n",
       "</div>"
      ],
      "text/plain": [
       "           velocity           acc\n",
       "count  16455.000000  16455.000000\n",
       "mean       2.985119      0.146982\n",
       "std        2.928237      0.145395\n",
       "min        0.000000      0.000000\n",
       "25%        0.000000      0.000000\n",
       "50%        2.432762      0.117872\n",
       "75%        5.286636      0.259202\n",
       "max       10.788005      0.539400"
      ]
     },
     "execution_count": 35,
     "metadata": {},
     "output_type": "execute_result"
    }
   ],
   "source": [
    "df[df.outlier_norm== 1][feats].describe()"
   ]
  },
  {
   "cell_type": "code",
   "execution_count": 36,
   "metadata": {},
   "outputs": [
    {
     "data": {
      "text/plain": [
       "array([[<AxesSubplot:title={'center':'velocity'}>,\n",
       "        <AxesSubplot:title={'center':'acc'}>]], dtype=object)"
      ]
     },
     "execution_count": 36,
     "metadata": {},
     "output_type": "execute_result"
    },
    {
     "data": {
      "image/png": "[encoded data removed]",
      "text/plain": [
       "<Figure size 432x288 with 2 Axes>"
      ]
     },
     "metadata": {
      "needs_background": "light"
     },
     "output_type": "display_data"
    }
   ],
   "source": [
    "df[df.outlier == 1][feats].hist()"
   ]
  },
  {
   "cell_type": "markdown",
   "metadata": {},
   "source": [
    "Ambos os método retornam valores plausiveis de velocidade e aceleração"
   ]
  },
  {
   "cell_type": "markdown",
   "metadata": {},
   "source": [
    "Entretanto, velocidade e aceleração foram valores criados apartir das distâncias entre pontos. "
   ]
  },
  {
   "cell_type": "markdown",
   "metadata": {},
   "source": [
    "### Poderiamos aplicar a detecção de outliers nestas features geradoras ou o cálculo de velocidade e aceleração nos ajudou a discriminar melhor os outliers?"
   ]
  },
  {
   "cell_type": "markdown",
   "metadata": {},
   "source": [
    "### Isolation Forest a partir das colunas distância e tempo desde o ponto anterior"
   ]
  },
  {
   "cell_type": "code",
   "execution_count": 37,
   "metadata": {},
   "outputs": [],
   "source": [
    "feats_0 = ['dist_from_old_point','time_from_old_point']\n",
    "rng = np.random.RandomState(42)\n",
    "clf = IsolationForest(max_samples=100, random_state=rng)\n",
    "clf.fit(df[feats_0])\n",
    "scores = clf.predict(df[feats_0])\n",
    "df['outlier_0'] = scores"
   ]
  },
  {
   "cell_type": "code",
   "execution_count": 38,
   "metadata": {},
   "outputs": [
    {
     "data": {
      "text/html": [
       "<div>\n",
       "<style scoped>\n",
       "    .dataframe tbody tr th:only-of-type {\n",
       "        vertical-align: middle;\n",
       "    }\n",
       "\n",
       "    .dataframe tbody tr th {\n",
       "        vertical-align: top;\n",
       "    }\n",
       "\n",
       "    .dataframe thead th {\n",
       "        text-align: right;\n",
       "    }\n",
       "</style>\n",
       "<table border=\"1\" class=\"dataframe\">\n",
       "  <thead>\n",
       "    <tr style=\"text-align: right;\">\n",
       "      <th></th>\n",
       "      <th>dist_from_old_point</th>\n",
       "      <th>time_from_old_point</th>\n",
       "    </tr>\n",
       "  </thead>\n",
       "  <tbody>\n",
       "    <tr>\n",
       "      <th>count</th>\n",
       "      <td>17681.000000</td>\n",
       "      <td>17681.000000</td>\n",
       "    </tr>\n",
       "    <tr>\n",
       "      <th>mean</th>\n",
       "      <td>78.245083</td>\n",
       "      <td>19.901193</td>\n",
       "    </tr>\n",
       "    <tr>\n",
       "      <th>std</th>\n",
       "      <td>75.301857</td>\n",
       "      <td>1.479008</td>\n",
       "    </tr>\n",
       "    <tr>\n",
       "      <th>min</th>\n",
       "      <td>0.000000</td>\n",
       "      <td>14.000000</td>\n",
       "    </tr>\n",
       "    <tr>\n",
       "      <th>25%</th>\n",
       "      <td>2.046980</td>\n",
       "      <td>19.000000</td>\n",
       "    </tr>\n",
       "    <tr>\n",
       "      <th>50%</th>\n",
       "      <td>62.386866</td>\n",
       "      <td>20.000000</td>\n",
       "    </tr>\n",
       "    <tr>\n",
       "      <th>75%</th>\n",
       "      <td>131.703673</td>\n",
       "      <td>21.000000</td>\n",
       "    </tr>\n",
       "    <tr>\n",
       "      <th>max</th>\n",
       "      <td>278.843041</td>\n",
       "      <td>25.000000</td>\n",
       "    </tr>\n",
       "  </tbody>\n",
       "</table>\n",
       "</div>"
      ],
      "text/plain": [
       "       dist_from_old_point  time_from_old_point\n",
       "count         17681.000000         17681.000000\n",
       "mean             78.245083            19.901193\n",
       "std              75.301857             1.479008\n",
       "min               0.000000            14.000000\n",
       "25%               2.046980            19.000000\n",
       "50%              62.386866            20.000000\n",
       "75%             131.703673            21.000000\n",
       "max             278.843041            25.000000"
      ]
     },
     "execution_count": 38,
     "metadata": {},
     "output_type": "execute_result"
    }
   ],
   "source": [
    "df[df.outlier_0== 1][feats_0].describe()"
   ]
  },
  {
   "cell_type": "markdown",
   "metadata": {},
   "source": [
    "Como os valores não são plausíveis. Concluímos que a geração das novas features: velocidade e aceleração foram significativas para a detecção destes pontos anomalos."
   ]
  },
  {
   "cell_type": "markdown",
   "metadata": {},
   "source": [
    "### Verificar se o método Local Outlier Factor oferece também uma resposta plausível"
   ]
  },
  {
   "cell_type": "code",
   "execution_count": 39,
   "metadata": {},
   "outputs": [],
   "source": [
    "from sklearn.neighbors import LocalOutlierFactor"
   ]
  },
  {
   "cell_type": "code",
   "execution_count": 40,
   "metadata": {},
   "outputs": [],
   "source": [
    "clf = LocalOutlierFactor(n_neighbors=10, contamination=0.1)\n",
    "scores = clf.fit_predict(df[feats])\n",
    "df['outlier2'] = scores"
   ]
  },
  {
   "cell_type": "code",
   "execution_count": 41,
   "metadata": {},
   "outputs": [],
   "source": [
    "scaler = MinMaxScaler()\n",
    "df_normalized = pd.DataFrame(scaler.fit_transform(df[['velocity','acc']]), columns = ['velocity','acc'])\n",
    "rng = np.random.RandomState(42)\n",
    "clf = LocalOutlierFactor(n_neighbors=10, contamination=0.1)\n",
    "scores = clf.fit_predict(df_normalized)\n",
    "df['outlier2_norm'] = scores"
   ]
  },
  {
   "cell_type": "code",
   "execution_count": 42,
   "metadata": {},
   "outputs": [
    {
     "data": {
      "text/html": [
       "<div>\n",
       "<style scoped>\n",
       "    .dataframe tbody tr th:only-of-type {\n",
       "        vertical-align: middle;\n",
       "    }\n",
       "\n",
       "    .dataframe tbody tr th {\n",
       "        vertical-align: top;\n",
       "    }\n",
       "\n",
       "    .dataframe thead th {\n",
       "        text-align: right;\n",
       "    }\n",
       "</style>\n",
       "<table border=\"1\" class=\"dataframe\">\n",
       "  <thead>\n",
       "    <tr style=\"text-align: right;\">\n",
       "      <th></th>\n",
       "      <th>velocity</th>\n",
       "      <th>acc</th>\n",
       "    </tr>\n",
       "  </thead>\n",
       "  <tbody>\n",
       "    <tr>\n",
       "      <th>count</th>\n",
       "      <td>18917.000000</td>\n",
       "      <td>18917.000000</td>\n",
       "    </tr>\n",
       "    <tr>\n",
       "      <th>mean</th>\n",
       "      <td>4.650593</td>\n",
       "      <td>0.281583</td>\n",
       "    </tr>\n",
       "    <tr>\n",
       "      <th>std</th>\n",
       "      <td>6.971703</td>\n",
       "      <td>1.509795</td>\n",
       "    </tr>\n",
       "    <tr>\n",
       "      <th>min</th>\n",
       "      <td>0.000000</td>\n",
       "      <td>0.000000</td>\n",
       "    </tr>\n",
       "    <tr>\n",
       "      <th>25%</th>\n",
       "      <td>0.050739</td>\n",
       "      <td>0.002418</td>\n",
       "    </tr>\n",
       "    <tr>\n",
       "      <th>50%</th>\n",
       "      <td>3.222239</td>\n",
       "      <td>0.155888</td>\n",
       "    </tr>\n",
       "    <tr>\n",
       "      <th>75%</th>\n",
       "      <td>7.254898</td>\n",
       "      <td>0.358777</td>\n",
       "    </tr>\n",
       "    <tr>\n",
       "      <th>max</th>\n",
       "      <td>198.121801</td>\n",
       "      <td>86.328456</td>\n",
       "    </tr>\n",
       "  </tbody>\n",
       "</table>\n",
       "</div>"
      ],
      "text/plain": [
       "           velocity           acc\n",
       "count  18917.000000  18917.000000\n",
       "mean       4.650593      0.281583\n",
       "std        6.971703      1.509795\n",
       "min        0.000000      0.000000\n",
       "25%        0.050739      0.002418\n",
       "50%        3.222239      0.155888\n",
       "75%        7.254898      0.358777\n",
       "max      198.121801     86.328456"
      ]
     },
     "execution_count": 42,
     "metadata": {},
     "output_type": "execute_result"
    }
   ],
   "source": [
    "df[df.outlier2 == 1][feats].describe()"
   ]
  },
  {
   "cell_type": "code",
   "execution_count": 43,
   "metadata": {},
   "outputs": [
    {
     "data": {
      "text/html": [
       "<div>\n",
       "<style scoped>\n",
       "    .dataframe tbody tr th:only-of-type {\n",
       "        vertical-align: middle;\n",
       "    }\n",
       "\n",
       "    .dataframe tbody tr th {\n",
       "        vertical-align: top;\n",
       "    }\n",
       "\n",
       "    .dataframe thead th {\n",
       "        text-align: right;\n",
       "    }\n",
       "</style>\n",
       "<table border=\"1\" class=\"dataframe\">\n",
       "  <thead>\n",
       "    <tr style=\"text-align: right;\">\n",
       "      <th></th>\n",
       "      <th>velocity</th>\n",
       "      <th>acc</th>\n",
       "    </tr>\n",
       "  </thead>\n",
       "  <tbody>\n",
       "    <tr>\n",
       "      <th>count</th>\n",
       "      <td>18917.000000</td>\n",
       "      <td>18917.000000</td>\n",
       "    </tr>\n",
       "    <tr>\n",
       "      <th>mean</th>\n",
       "      <td>4.727643</td>\n",
       "      <td>0.292592</td>\n",
       "    </tr>\n",
       "    <tr>\n",
       "      <th>std</th>\n",
       "      <td>6.439593</td>\n",
       "      <td>1.390261</td>\n",
       "    </tr>\n",
       "    <tr>\n",
       "      <th>min</th>\n",
       "      <td>0.000000</td>\n",
       "      <td>0.000000</td>\n",
       "    </tr>\n",
       "    <tr>\n",
       "      <th>25%</th>\n",
       "      <td>0.050645</td>\n",
       "      <td>0.002421</td>\n",
       "    </tr>\n",
       "    <tr>\n",
       "      <th>50%</th>\n",
       "      <td>3.376923</td>\n",
       "      <td>0.162755</td>\n",
       "    </tr>\n",
       "    <tr>\n",
       "      <th>75%</th>\n",
       "      <td>7.428687</td>\n",
       "      <td>0.364172</td>\n",
       "    </tr>\n",
       "    <tr>\n",
       "      <th>max</th>\n",
       "      <td>186.451312</td>\n",
       "      <td>61.923359</td>\n",
       "    </tr>\n",
       "  </tbody>\n",
       "</table>\n",
       "</div>"
      ],
      "text/plain": [
       "           velocity           acc\n",
       "count  18917.000000  18917.000000\n",
       "mean       4.727643      0.292592\n",
       "std        6.439593      1.390261\n",
       "min        0.000000      0.000000\n",
       "25%        0.050645      0.002421\n",
       "50%        3.376923      0.162755\n",
       "75%        7.428687      0.364172\n",
       "max      186.451312     61.923359"
      ]
     },
     "execution_count": 43,
     "metadata": {},
     "output_type": "execute_result"
    }
   ],
   "source": [
    "df[df.outlier2_norm == 1][feats].describe()"
   ]
  },
  {
   "cell_type": "markdown",
   "metadata": {},
   "source": [
    "Os valores de máximos ainda apresentam pontos que não se adequam à realidade."
   ]
  },
  {
   "cell_type": "markdown",
   "metadata": {},
   "source": [
    "## Testar detecção de outliers MEAN FILTER"
   ]
  },
  {
   "cell_type": "code",
   "execution_count": 44,
   "metadata": {},
   "outputs": [],
   "source": [
    "df['MF_lat'] = df['lat'].rolling(5, min_periods=1).mean()\n",
    "df['MF_lng'] = df['lng'].rolling(5, min_periods=1).mean()"
   ]
  },
  {
   "cell_type": "code",
   "execution_count": 45,
   "metadata": {},
   "outputs": [],
   "source": [
    "gps = ['MF_lat','MF_lng']\n",
    "\n",
    "def delta_time(t1, t2) -> float:\n",
    "    '''\n",
    "    Retorna diferença temporal em segundos\n",
    "    Ou np.nan se a diferença temporal para o ponto anterior\n",
    "    for superior a 5 minutos\n",
    "    '''\n",
    "    t1 = pd.to_datetime(t1,unit='us')\n",
    "    t2 = pd.to_datetime(t2,unit='us')\n",
    "    time = pd.Timedelta(np.abs(t2 - t1))\n",
    "    if (time.seconds > 5*60):\n",
    "        return np.nan\n",
    "    else:        \n",
    "        return time.seconds\n",
    "\n",
    "def MF_calc_deltas(frame):\n",
    "    '''\n",
    "    Retorna o DF com as colunas de delta[tempo, distancia] preenchidas\n",
    "    Depende do valor da linha anterior (temporalmente)\n",
    "    Nas funções MAP são enviados os valores da linha presente e da anterior (shift(1))\n",
    "    '''\n",
    "    #frame.dist_from_old_point = 0\n",
    "    frame.time_from_old_point = 0\n",
    "    delta_d = list(map(\n",
    "        lambda x, y: geodesic(x,y).meters, frame[gps].values[1:], frame[gps].shift(1).values[1:]))\n",
    "    delta_t = list(map(\n",
    "        lambda x, y: delta_time(x,y), frame['timestamp'].values[1:], frame['timestamp'].shift(1).values[1:]))\n",
    "    if (len(frame[frame.isna()]) == 0):\n",
    "        print('Não há quaisquer valores NaN')\n",
    "    frame['MF_dist_from_old_point'] = [0, *delta_d]\n",
    "    frame['time_from_old_point'] = [0, *delta_t]\n",
    "    return frame"
   ]
  },
  {
   "cell_type": "code",
   "execution_count": 46,
   "metadata": {},
   "outputs": [],
   "source": [
    "# Repartição\n",
    "dfs = [x for _,x in df.groupby(trajetoria) if (len(x) > 50)]\n",
    "# Chamas calc_deltas para cada trajetória\n",
    "dfs = list(map(MF_calc_deltas,dfs))\n",
    "# concatena as trajetorias de volta em um DF unico\n",
    "df = pd.concat(dfs)"
   ]
  },
  {
   "cell_type": "code",
   "execution_count": 47,
   "metadata": {},
   "outputs": [],
   "source": [
    "df['MF_vel'] = df['MF_dist_from_old_point'] / df['time_from_old_point']\n",
    "df['MF_acc'] = df['MF_dist_from_old_point'] / (df['time_from_old_point'] * df['time_from_old_point'])\n",
    "\n",
    "#df[df.MF_vel == np.inf].time_from_old_point.unique()\n",
    "df['MF_vel'].fillna(value=0, inplace=True)\n",
    "df['MF_acc'].fillna(value=0, inplace=True)"
   ]
  },
  {
   "cell_type": "code",
   "execution_count": 48,
   "metadata": {},
   "outputs": [
    {
     "data": {
      "text/plain": [
       "<AxesSubplot:>"
      ]
     },
     "execution_count": 48,
     "metadata": {},
     "output_type": "execute_result"
    },
    {
     "data": {
      "image/png": "[encoded data removed]",
      "text/plain": [
       "<Figure size 432x288 with 1 Axes>"
      ]
     },
     "metadata": {
      "needs_background": "light"
     },
     "output_type": "display_data"
    }
   ],
   "source": [
    "df[['velocity', 'MF_vel']].plot(kind='box')"
   ]
  },
  {
   "cell_type": "code",
   "execution_count": 49,
   "metadata": {},
   "outputs": [],
   "source": [
    "feats = ['velocity','acc']\n",
    "feats_MF = ['MF_vel', 'MF_acc']"
   ]
  },
  {
   "cell_type": "code",
   "execution_count": 50,
   "metadata": {},
   "outputs": [],
   "source": [
    "rng = np.random.RandomState(42)\n",
    "clf = IsolationForest(max_samples=100, random_state=rng)\n",
    "clf.fit(df[feats_MF])\n",
    "scores = clf.predict(df[feats_MF])\n",
    "df['outlier_MF'] = scores"
   ]
  },
  {
   "cell_type": "code",
   "execution_count": 51,
   "metadata": {},
   "outputs": [
    {
     "data": {
      "text/plain": [
       "<AxesSubplot:>"
      ]
     },
     "execution_count": 51,
     "metadata": {},
     "output_type": "execute_result"
    },
    {
     "data": {
      "image/png": "[encoded data removed]",
      "text/plain": [
       "<Figure size 432x288 with 1 Axes>"
      ]
     },
     "metadata": {
      "needs_background": "light"
     },
     "output_type": "display_data"
    }
   ],
   "source": [
    "df[df.outlier== 1][feats].plot(kind='box')"
   ]
  },
  {
   "cell_type": "code",
   "execution_count": 52,
   "metadata": {},
   "outputs": [
    {
     "data": {
      "text/plain": [
       "<AxesSubplot:>"
      ]
     },
     "execution_count": 52,
     "metadata": {},
     "output_type": "execute_result"
    },
    {
     "data": {
      "image/png": "[encoded data removed]",
      "text/plain": [
       "<Figure size 432x288 with 1 Axes>"
      ]
     },
     "metadata": {
      "needs_background": "light"
     },
     "output_type": "display_data"
    }
   ],
   "source": [
    "df[df.outlier_MF== 1][feats_MF].plot(kind='box')"
   ]
  },
  {
   "cell_type": "code",
   "execution_count": 53,
   "metadata": {},
   "outputs": [
    {
     "data": {
      "text/plain": [
       "count    21019.000000\n",
       "mean         6.939957\n",
       "std         35.003313\n",
       "min          0.000000\n",
       "25%          1.929076\n",
       "50%          3.985257\n",
       "75%          6.256515\n",
       "max       3612.280618\n",
       "Name: MF_vel, dtype: float64"
      ]
     },
     "execution_count": 53,
     "metadata": {},
     "output_type": "execute_result"
    }
   ],
   "source": [
    "df.MF_vel.describe()"
   ]
  },
  {
   "cell_type": "code",
   "execution_count": 54,
   "metadata": {},
   "outputs": [
    {
     "data": {
      "text/plain": [
       "count    18956.000000\n",
       "mean         3.683705\n",
       "std          2.508161\n",
       "min          0.000000\n",
       "25%          1.679359\n",
       "50%          3.626671\n",
       "75%          5.503037\n",
       "max          9.750504\n",
       "Name: MF_vel, dtype: float64"
      ]
     },
     "execution_count": 54,
     "metadata": {},
     "output_type": "execute_result"
    }
   ],
   "source": [
    "df[df.outlier_MF== 1].MF_vel.describe()"
   ]
  },
  {
   "cell_type": "code",
   "execution_count": 55,
   "metadata": {
    "scrolled": true
   },
   "outputs": [
    {
     "name": "stdout",
     "output_type": "stream",
     "text": [
      "O uso do Mean Filter sozinho não conseguiu retirar os pontos anômalos do dataset.\n",
      "Apenas após utilização do Mean Filter conjuntamente à detecção com auxílio da técnica Random Forest obtivemos um valor máximo de velocidade plausível.\n"
     ]
    }
   ],
   "source": [
    "print (f'O uso do Mean Filter sozinho não conseguiu retirar os pontos anômalos do dataset.')\n",
    "print (f'Apenas após utilização do Mean Filter conjuntamente à detecção com auxílio da técnica Random Forest obtivemos um valor máximo de velocidade plausível.')\n"
   ]
  },
  {
   "cell_type": "markdown",
   "metadata": {},
   "source": [
    "### Assim iremos excluir quem foi detectado como outlier pelo Random Forest "
   ]
  },
  {
   "cell_type": "markdown",
   "metadata": {},
   "source": [
    "### Escolhemos o resultado sem a normalização "
   ]
  },
  {
   "cell_type": "markdown",
   "metadata": {},
   "source": [
    "### Rando Foreste pós normalização e pós Mean Filter também seriam alternativas válidas. Por simplicidade preferimos selecionamos o primeiro método (menos passos)."
   ]
  },
  {
   "cell_type": "code",
   "execution_count": 56,
   "metadata": {},
   "outputs": [],
   "source": [
    "df1 = df[df.outlier==1]"
   ]
  },
  {
   "cell_type": "code",
   "execution_count": 57,
   "metadata": {},
   "outputs": [
    {
     "data": {
      "text/plain": [
       "array([ 0.        , 52.02729663, 51.42286181, ..., 81.03578123,\n",
       "       24.67711918, 27.68981664])"
      ]
     },
     "execution_count": 57,
     "metadata": {},
     "output_type": "execute_result"
    }
   ],
   "source": [
    "df.dist_from_old_point.unique()"
   ]
  },
  {
   "cell_type": "code",
   "execution_count": 58,
   "metadata": {},
   "outputs": [
    {
     "name": "stderr",
     "output_type": "stream",
     "text": [
      "/home/saci/hd/projetos/trajetorias/its_research/venvTraj/lib/python3.8/site-packages/pandas/core/frame.py:4162: SettingWithCopyWarning: \n",
      "A value is trying to be set on a copy of a slice from a DataFrame\n",
      "\n",
      "See the caveats in the documentation: https://pandas.pydata.org/pandas-docs/stable/user_guide/indexing.html#returning-a-view-versus-a-copy\n",
      "  return super().drop(\n"
     ]
    }
   ],
   "source": [
    "df1.drop(['outlier', 'outlier_0', 'outlier2','outlier_norm','outlier2_norm','day','stop_id','block_id', 'delay'],axis=1,inplace=True)"
   ]
  },
  {
   "cell_type": "code",
   "execution_count": 59,
   "metadata": {},
   "outputs": [
    {
     "data": {
      "text/html": [
       "<div>\n",
       "<style scoped>\n",
       "    .dataframe tbody tr th:only-of-type {\n",
       "        vertical-align: middle;\n",
       "    }\n",
       "\n",
       "    .dataframe tbody tr th {\n",
       "        vertical-align: top;\n",
       "    }\n",
       "\n",
       "    .dataframe thead th {\n",
       "        text-align: right;\n",
       "    }\n",
       "</style>\n",
       "<table border=\"1\" class=\"dataframe\">\n",
       "  <thead>\n",
       "    <tr style=\"text-align: right;\">\n",
       "      <th></th>\n",
       "      <th>timestamp</th>\n",
       "      <th>lng</th>\n",
       "      <th>lat</th>\n",
       "      <th>hour</th>\n",
       "      <th>dist_from_old_point</th>\n",
       "      <th>time_from_old_point</th>\n",
       "      <th>velocity</th>\n",
       "      <th>acc</th>\n",
       "      <th>ID</th>\n",
       "      <th>MF_lat</th>\n",
       "      <th>MF_lng</th>\n",
       "      <th>MF_dist_from_old_point</th>\n",
       "      <th>MF_vel</th>\n",
       "      <th>MF_acc</th>\n",
       "      <th>outlier_MF</th>\n",
       "    </tr>\n",
       "  </thead>\n",
       "  <tbody>\n",
       "    <tr>\n",
       "      <th>count</th>\n",
       "      <td>1.639800e+04</td>\n",
       "      <td>16398.000000</td>\n",
       "      <td>16398.000000</td>\n",
       "      <td>16398.000000</td>\n",
       "      <td>16398.000000</td>\n",
       "      <td>16398.000000</td>\n",
       "      <td>16398.000000</td>\n",
       "      <td>16398.000000</td>\n",
       "      <td>16398.000000</td>\n",
       "      <td>16398.000000</td>\n",
       "      <td>16398.000000</td>\n",
       "      <td>16398.000000</td>\n",
       "      <td>16398.000000</td>\n",
       "      <td>16398.000000</td>\n",
       "      <td>16398.000000</td>\n",
       "    </tr>\n",
       "    <tr>\n",
       "      <th>mean</th>\n",
       "      <td>1.357872e+15</td>\n",
       "      <td>-6.267385</td>\n",
       "      <td>53.341937</td>\n",
       "      <td>14.628979</td>\n",
       "      <td>60.994882</td>\n",
       "      <td>20.142761</td>\n",
       "      <td>2.951179</td>\n",
       "      <td>0.145209</td>\n",
       "      <td>48.684596</td>\n",
       "      <td>53.341969</td>\n",
       "      <td>-6.267397</td>\n",
       "      <td>117.998469</td>\n",
       "      <td>6.373027</td>\n",
       "      <td>0.551635</td>\n",
       "      <td>0.887425</td>\n",
       "    </tr>\n",
       "    <tr>\n",
       "      <th>std</th>\n",
       "      <td>4.435702e+10</td>\n",
       "      <td>0.074309</td>\n",
       "      <td>0.054146</td>\n",
       "      <td>4.393680</td>\n",
       "      <td>61.350911</td>\n",
       "      <td>5.152388</td>\n",
       "      <td>2.899259</td>\n",
       "      <td>0.143775</td>\n",
       "      <td>27.959280</td>\n",
       "      <td>0.053695</td>\n",
       "      <td>0.073744</td>\n",
       "      <td>379.472221</td>\n",
       "      <td>37.348771</td>\n",
       "      <td>15.892378</td>\n",
       "      <td>0.460966</td>\n",
       "    </tr>\n",
       "    <tr>\n",
       "      <th>min</th>\n",
       "      <td>1.357799e+15</td>\n",
       "      <td>-6.587954</td>\n",
       "      <td>53.070435</td>\n",
       "      <td>0.000000</td>\n",
       "      <td>0.000000</td>\n",
       "      <td>0.000000</td>\n",
       "      <td>0.000000</td>\n",
       "      <td>0.000000</td>\n",
       "      <td>0.000000</td>\n",
       "      <td>53.070613</td>\n",
       "      <td>-6.587802</td>\n",
       "      <td>0.000000</td>\n",
       "      <td>0.000000</td>\n",
       "      <td>0.000000</td>\n",
       "      <td>-1.000000</td>\n",
       "    </tr>\n",
       "    <tr>\n",
       "      <th>25%</th>\n",
       "      <td>1.357836e+15</td>\n",
       "      <td>-6.297167</td>\n",
       "      <td>53.315035</td>\n",
       "      <td>11.000000</td>\n",
       "      <td>0.000000</td>\n",
       "      <td>19.000000</td>\n",
       "      <td>0.000000</td>\n",
       "      <td>0.000000</td>\n",
       "      <td>24.000000</td>\n",
       "      <td>53.315745</td>\n",
       "      <td>-6.297160</td>\n",
       "      <td>31.089700</td>\n",
       "      <td>1.530118</td>\n",
       "      <td>0.073703</td>\n",
       "      <td>1.000000</td>\n",
       "    </tr>\n",
       "    <tr>\n",
       "      <th>50%</th>\n",
       "      <td>1.357856e+15</td>\n",
       "      <td>-6.260246</td>\n",
       "      <td>53.345268</td>\n",
       "      <td>16.000000</td>\n",
       "      <td>48.176202</td>\n",
       "      <td>20.000000</td>\n",
       "      <td>2.395242</td>\n",
       "      <td>0.115889</td>\n",
       "      <td>47.000000</td>\n",
       "      <td>53.345145</td>\n",
       "      <td>-6.260357</td>\n",
       "      <td>71.044914</td>\n",
       "      <td>3.503832</td>\n",
       "      <td>0.172338</td>\n",
       "      <td>1.000000</td>\n",
       "    </tr>\n",
       "    <tr>\n",
       "      <th>75%</th>\n",
       "      <td>1.357917e+15</td>\n",
       "      <td>-6.239519</td>\n",
       "      <td>53.367348</td>\n",
       "      <td>18.000000</td>\n",
       "      <td>106.780926</td>\n",
       "      <td>21.000000</td>\n",
       "      <td>5.239318</td>\n",
       "      <td>0.256703</td>\n",
       "      <td>73.000000</td>\n",
       "      <td>53.367273</td>\n",
       "      <td>-6.239545</td>\n",
       "      <td>109.304972</td>\n",
       "      <td>5.415669</td>\n",
       "      <td>0.274508</td>\n",
       "      <td>1.000000</td>\n",
       "    </tr>\n",
       "    <tr>\n",
       "      <th>max</th>\n",
       "      <td>1.357949e+15</td>\n",
       "      <td>-6.059272</td>\n",
       "      <td>53.605896</td>\n",
       "      <td>23.000000</td>\n",
       "      <td>301.744303</td>\n",
       "      <td>152.000000</td>\n",
       "      <td>9.854999</td>\n",
       "      <td>0.482454</td>\n",
       "      <td>99.000000</td>\n",
       "      <td>53.605962</td>\n",
       "      <td>-6.060443</td>\n",
       "      <td>7227.278979</td>\n",
       "      <td>3612.280618</td>\n",
       "      <td>1806.140309</td>\n",
       "      <td>1.000000</td>\n",
       "    </tr>\n",
       "  </tbody>\n",
       "</table>\n",
       "</div>"
      ],
      "text/plain": [
       "          timestamp           lng           lat          hour  \\\n",
       "count  1.639800e+04  16398.000000  16398.000000  16398.000000   \n",
       "mean   1.357872e+15     -6.267385     53.341937     14.628979   \n",
       "std    4.435702e+10      0.074309      0.054146      4.393680   \n",
       "min    1.357799e+15     -6.587954     53.070435      0.000000   \n",
       "25%    1.357836e+15     -6.297167     53.315035     11.000000   \n",
       "50%    1.357856e+15     -6.260246     53.345268     16.000000   \n",
       "75%    1.357917e+15     -6.239519     53.367348     18.000000   \n",
       "max    1.357949e+15     -6.059272     53.605896     23.000000   \n",
       "\n",
       "       dist_from_old_point  time_from_old_point      velocity           acc  \\\n",
       "count         16398.000000         16398.000000  16398.000000  16398.000000   \n",
       "mean             60.994882            20.142761      2.951179      0.145209   \n",
       "std              61.350911             5.152388      2.899259      0.143775   \n",
       "min               0.000000             0.000000      0.000000      0.000000   \n",
       "25%               0.000000            19.000000      0.000000      0.000000   \n",
       "50%              48.176202            20.000000      2.395242      0.115889   \n",
       "75%             106.780926            21.000000      5.239318      0.256703   \n",
       "max             301.744303           152.000000      9.854999      0.482454   \n",
       "\n",
       "                 ID        MF_lat        MF_lng  MF_dist_from_old_point  \\\n",
       "count  16398.000000  16398.000000  16398.000000            16398.000000   \n",
       "mean      48.684596     53.341969     -6.267397              117.998469   \n",
       "std       27.959280      0.053695      0.073744              379.472221   \n",
       "min        0.000000     53.070613     -6.587802                0.000000   \n",
       "25%       24.000000     53.315745     -6.297160               31.089700   \n",
       "50%       47.000000     53.345145     -6.260357               71.044914   \n",
       "75%       73.000000     53.367273     -6.239545              109.304972   \n",
       "max       99.000000     53.605962     -6.060443             7227.278979   \n",
       "\n",
       "             MF_vel        MF_acc    outlier_MF  \n",
       "count  16398.000000  16398.000000  16398.000000  \n",
       "mean       6.373027      0.551635      0.887425  \n",
       "std       37.348771     15.892378      0.460966  \n",
       "min        0.000000      0.000000     -1.000000  \n",
       "25%        1.530118      0.073703      1.000000  \n",
       "50%        3.503832      0.172338      1.000000  \n",
       "75%        5.415669      0.274508      1.000000  \n",
       "max     3612.280618   1806.140309      1.000000  "
      ]
     },
     "execution_count": 59,
     "metadata": {},
     "output_type": "execute_result"
    }
   ],
   "source": [
    "df1.describe()"
   ]
  },
  {
   "cell_type": "code",
   "execution_count": 60,
   "metadata": {},
   "outputs": [
    {
     "data": {
      "text/plain": [
       "<AxesSubplot:>"
      ]
     },
     "execution_count": 60,
     "metadata": {},
     "output_type": "execute_result"
    },
    {
     "data": {
      "image/png": "[encoded data removed]",
      "text/plain": [
       "<Figure size 720x432 with 1 Axes>"
      ]
     },
     "metadata": {
      "needs_background": "light"
     },
     "output_type": "display_data"
    }
   ],
   "source": [
    "df1['acc'].plot(kind='box', figsize=(10,6))"
   ]
  },
  {
   "cell_type": "code",
   "execution_count": 61,
   "metadata": {},
   "outputs": [
    {
     "data": {
      "text/plain": [
       "<AxesSubplot:>"
      ]
     },
     "execution_count": 61,
     "metadata": {},
     "output_type": "execute_result"
    },
    {
     "data": {
      "image/png": "[encoded data removed]",
      "text/plain": [
       "<Figure size 720x432 with 1 Axes>"
      ]
     },
     "metadata": {
      "needs_background": "light"
     },
     "output_type": "display_data"
    }
   ],
   "source": [
    "df1['velocity'].plot(kind='box', figsize=(10,6))"
   ]
  },
  {
   "cell_type": "code",
   "execution_count": 62,
   "metadata": {},
   "outputs": [
    {
     "data": {
      "text/plain": [
       "<AxesSubplot:>"
      ]
     },
     "execution_count": 62,
     "metadata": {},
     "output_type": "execute_result"
    },
    {
     "data": {
      "image/png": "[encoded data removed]",
      "text/plain": [
       "<Figure size 720x432 with 1 Axes>"
      ]
     },
     "metadata": {
      "needs_background": "light"
     },
     "output_type": "display_data"
    }
   ],
   "source": [
    "df1['dist_from_old_point'].plot(kind='box', figsize=(10,6))"
   ]
  },
  {
   "cell_type": "markdown",
   "metadata": {},
   "source": [
    "## Teste de hipótese"
   ]
  },
  {
   "cell_type": "markdown",
   "metadata": {},
   "source": [
    "### Verificação da distribuição da velocidade"
   ]
  },
  {
   "cell_type": "code",
   "execution_count": 63,
   "metadata": {},
   "outputs": [
    {
     "data": {
      "text/plain": [
       "<AxesSubplot:xlabel='velocity', ylabel='Count'>"
      ]
     },
     "execution_count": 63,
     "metadata": {},
     "output_type": "execute_result"
    },
    {
     "data": {
      "image/png": "[encoded data removed]",
      "text/plain": [
       "<Figure size 432x288 with 1 Axes>"
      ]
     },
     "metadata": {
      "needs_background": "light"
     },
     "output_type": "display_data"
    }
   ],
   "source": [
    "sns.histplot(x=df1.velocity)"
   ]
  },
  {
   "cell_type": "markdown",
   "metadata": {},
   "source": [
    "Anderson-Darling test for data coming from a particular distribution.\n",
    "\n",
    "The Anderson-Darling test tests the null hypothesis that a sample is\n",
    "drawn from a population that follows a particular distribution.\n",
    "For the Anderson-Darling test, the critical values depend on\n",
    "which distribution is being tested against.  This function works\n",
    "for normal, exponential, logistic, or Gumbel (Extreme Value\n",
    "Type I) distributions.\n",
    "\n",
    "If the returned statistic is larger than these critical values then\n",
    "for the corresponding significance level, the null hypothesis that\n",
    "the data come from the chosen distribution can be rejected."
   ]
  },
  {
   "cell_type": "code",
   "execution_count": 64,
   "metadata": {},
   "outputs": [],
   "source": [
    "result_test = stats.anderson(df1.velocity, dist='norm')"
   ]
  },
  {
   "cell_type": "code",
   "execution_count": 65,
   "metadata": {},
   "outputs": [
    {
     "name": "stdout",
     "output_type": "stream",
     "text": [
      "Statistic: 696.2028791659031\n",
      "Critical Value: [0.576 0.656 0.787 0.918 1.092]\n",
      "Significance Level: [15.  10.   5.   2.5  1. ]\n"
     ]
    }
   ],
   "source": [
    "print(f'Statistic: {result_test[0]}')\n",
    "\n",
    "print(f'Critical Value: {result_test[1]}')\n",
    "\n",
    "print(f'Significance Level: {result_test[2]}')\n"
   ]
  },
  {
   "cell_type": "code",
   "execution_count": 66,
   "metadata": {},
   "outputs": [
    {
     "name": "stdout",
     "output_type": "stream",
     "text": [
      "Como o valor 696.2028791659031 é maior que qualquer valor crítico [0.576 0.656 0.787 0.918 1.092], então o teste é significativo.\n",
      "Assim podemos rejeitar a hipótese nula que os pontos vem de uma distribuição normal\n"
     ]
    }
   ],
   "source": [
    "print( f'Como o valor {result_test[0]} é maior que qualquer valor crítico {result_test[1]}, então o teste é significativo.')\n",
    "print('Assim podemos rejeitar a hipótese nula que os pontos vem de uma distribuição normal')"
   ]
  },
  {
   "cell_type": "markdown",
   "metadata": {},
   "source": [
    "### Distribuição do log da velocidade (valores diferentes de zero)"
   ]
  },
  {
   "cell_type": "code",
   "execution_count": 67,
   "metadata": {},
   "outputs": [
    {
     "data": {
      "text/plain": [
       "<AxesSubplot:xlabel='velocity', ylabel='Count'>"
      ]
     },
     "execution_count": 67,
     "metadata": {},
     "output_type": "execute_result"
    },
    {
     "data": {
      "image/png": "[encoded data removed]",
      "text/plain": [
       "<Figure size 432x288 with 1 Axes>"
      ]
     },
     "metadata": {
      "needs_background": "light"
     },
     "output_type": "display_data"
    }
   ],
   "source": [
    "sns.histplot(x=df1[df1.velocity!=0].velocity.apply(np.log10))"
   ]
  },
  {
   "cell_type": "markdown",
   "metadata": {},
   "source": [
    "### Teste de normalidade para log10(velocidade!=0)"
   ]
  },
  {
   "cell_type": "code",
   "execution_count": 68,
   "metadata": {},
   "outputs": [],
   "source": [
    "result_test = stats.anderson(df1[df1.velocity!=0].velocity.apply(np.log10), dist='norm')\n"
   ]
  },
  {
   "cell_type": "code",
   "execution_count": 69,
   "metadata": {},
   "outputs": [
    {
     "name": "stdout",
     "output_type": "stream",
     "text": [
      "Statistic: 886.5091938953901\n",
      "Critical Value: [0.576 0.656 0.787 0.918 1.092]\n",
      "Significance Level: [15.  10.   5.   2.5  1. ]\n"
     ]
    }
   ],
   "source": [
    "print(f'Statistic: {result_test[0]}')\n",
    "\n",
    "print(f'Critical Value: {result_test[1]}')\n",
    "\n",
    "print(f'Significance Level: {result_test[2]}')"
   ]
  },
  {
   "cell_type": "markdown",
   "metadata": {},
   "source": [
    "Assim não iremos admitir que haja uma distribuição simétrica na velocidade."
   ]
  },
  {
   "cell_type": "markdown",
   "metadata": {},
   "source": [
    "### Para quais horários há uma diferença entre a velocidade capturada antes e após?"
   ]
  },
  {
   "cell_type": "markdown",
   "metadata": {},
   "source": [
    "### Mann-Whitney rank test"
   ]
  },
  {
   "cell_type": "markdown",
   "metadata": {},
   "source": [
    "A escolha do teste se dá por ausência de normalidade na distribuição e independência entre as trajetórias"
   ]
  },
  {
   "cell_type": "markdown",
   "metadata": {},
   "source": [
    "Há um caso limite em que uma mesma trajetória ocorre através de horas diferentes, o que não seria uma medição independente. Porém para cada hora o número de medições em viagens independentes (que acontecem totalmente antes/depois) é muito maior do que as medições em viagens que cruzaram aquele horário."
   ]
  },
  {
   "cell_type": "code",
   "execution_count": 70,
   "metadata": {},
   "outputs": [
    {
     "name": "stderr",
     "output_type": "stream",
     "text": [
      "/home/saci/hd/projetos/trajetorias/its_research/venvTraj/lib/python3.8/site-packages/scipy/stats/stats.py:7028: RuntimeWarning: divide by zero encountered in double_scalars\n",
      "  z = (bigu - meanrank) / sd\n"
     ]
    }
   ],
   "source": [
    "hours = df1.hour.unique()\n",
    "lh_vel = [stats.mannwhitneyu(df1[df1.hour <= h].velocity, df1[df1.hour > h].velocity)[1] for h in hours]"
   ]
  },
  {
   "cell_type": "code",
   "execution_count": 71,
   "metadata": {},
   "outputs": [
    {
     "data": {
      "text/plain": [
       "<AxesSubplot:>"
      ]
     },
     "execution_count": 71,
     "metadata": {},
     "output_type": "execute_result"
    },
    {
     "data": {
      "image/png": "[encoded data removed]",
      "text/plain": [
       "<Figure size 432x288 with 1 Axes>"
      ]
     },
     "metadata": {
      "needs_background": "light"
     },
     "output_type": "display_data"
    }
   ],
   "source": [
    "x = pd.DataFrame(data={'pvalues_vel':lh_vel}, index=hours).sort_index()\n",
    "x.plot(kind='bar')"
   ]
  },
  {
   "cell_type": "code",
   "execution_count": 72,
   "metadata": {},
   "outputs": [],
   "source": [
    "x = x.reset_index()\n"
   ]
  },
  {
   "cell_type": "code",
   "execution_count": 102,
   "metadata": {},
   "outputs": [],
   "source": [
    "x1 = x[x.pvalues_vel<0.05]"
   ]
  },
  {
   "cell_type": "code",
   "execution_count": 105,
   "metadata": {},
   "outputs": [],
   "source": [
    "x1.index = x1['index']"
   ]
  },
  {
   "cell_type": "code",
   "execution_count": 107,
   "metadata": {},
   "outputs": [
    {
     "data": {
      "text/plain": [
       "<AxesSubplot:xlabel='index'>"
      ]
     },
     "execution_count": 107,
     "metadata": {},
     "output_type": "execute_result"
    },
    {
     "data": {
      "image/png": "[encoded data removed]",
      "text/plain": [
       "<Figure size 432x288 with 1 Axes>"
      ]
     },
     "metadata": {
      "needs_background": "light"
     },
     "output_type": "display_data"
    }
   ],
   "source": [
    "x1.pvalues_vel.plot(kind='bar')"
   ]
  },
  {
   "cell_type": "code",
   "execution_count": 74,
   "metadata": {},
   "outputs": [
    {
     "name": "stderr",
     "output_type": "stream",
     "text": [
      "/home/saci/hd/projetos/trajetorias/its_research/venvTraj/lib/python3.8/site-packages/seaborn/_decorators.py:36: FutureWarning: Pass the following variable as a keyword arg: x. From version 0.12, the only valid positional argument will be `data`, and passing other arguments without an explicit keyword will result in an error or misinterpretation.\n",
      "  warnings.warn(\n"
     ]
    },
    {
     "data": {
      "text/plain": [
       "<AxesSubplot:xlabel='velocity'>"
      ]
     },
     "execution_count": 74,
     "metadata": {},
     "output_type": "execute_result"
    },
    {
     "data": {
      "image/png": "[encoded data removed]",
      "text/plain": [
       "<Figure size 432x288 with 1 Axes>"
      ]
     },
     "metadata": {
      "needs_background": "light"
     },
     "output_type": "display_data"
    }
   ],
   "source": [
    "sns.boxplot(df1.velocity)"
   ]
  },
  {
   "cell_type": "code",
   "execution_count": 75,
   "metadata": {},
   "outputs": [
    {
     "name": "stderr",
     "output_type": "stream",
     "text": [
      "/home/saci/hd/projetos/trajetorias/its_research/venvTraj/lib/python3.8/site-packages/seaborn/axisgrid.py:645: UserWarning: Using the boxplot function without specifying `order` is likely to produce an incorrect plot.\n",
      "  warnings.warn(warning)\n"
     ]
    },
    {
     "data": {
      "text/plain": [
       "<seaborn.axisgrid.FacetGrid at 0x7f38c5bceb50>"
      ]
     },
     "execution_count": 75,
     "metadata": {},
     "output_type": "execute_result"
    },
    {
     "data": {
      "image/png": "[encoded data removed]",
      "text/plain": [
       "<Figure size 864x864 with 13 Axes>"
      ]
     },
     "metadata": {
      "needs_background": "light"
     },
     "output_type": "display_data"
    }
   ],
   "source": [
    "g = sns.FacetGrid(df1[df1.hour.isin(x1['index'].values)], col=\"hour\", col_wrap=4)\n",
    "g.map(sns.boxplot, 'velocity')\n"
   ]
  },
  {
   "cell_type": "code",
   "execution_count": 76,
   "metadata": {},
   "outputs": [],
   "source": [
    "horas = x1['index'].values"
   ]
  },
  {
   "cell_type": "code",
   "execution_count": 78,
   "metadata": {},
   "outputs": [
    {
     "name": "stdout",
     "output_type": "stream",
     "text": [
      "Para cada uma das seguintes horas: [ 6  7 10 11 12 16 17 18 19 20 21 22 23]\n",
      "Podemos dizer que há uma diferença entre as velocidades amostradas antes e após a mesma.\n",
      "\n",
      "Por exemplo:\n",
      "Como o pvalue para as 12 horas é:\t 0.029752435816283382:\n",
      "Podemos negar H0; Negamos que a distribuiçãos das velocidades sejam iguais.\n",
      "Podemos dizr que há uma difença entre as velocidades antes e após as 12 horas\n"
     ]
    }
   ],
   "source": [
    "print( f'Para cada uma das seguintes horas: {horas}')\n",
    "print('Podemos dizer que há uma diferença entre as velocidades amostradas antes e após a mesma.')\n",
    "print()\n",
    "print('Por exemplo:')\n",
    "print( f'Como o pvalue para as {horas[4]} horas é:\\t {x1.iloc[4].pvalues_vel}:')\n",
    "print( 'Podemos negar H0; Negamos que a distribuiçãos das velocidades sejam iguais.')\n",
    "print( f'Podemos dizr que há uma difença entre as velocidades antes e após as {horas[4]} horas')"
   ]
  },
  {
   "cell_type": "markdown",
   "metadata": {},
   "source": [
    "### Quais linhas ('line_id') tem uma mediana da velocidade maior/menor que a mediana geral\n"
   ]
  },
  {
   "cell_type": "markdown",
   "metadata": {},
   "source": [
    "#### Wilcoxon signed-rank test (one-side)"
   ]
  },
  {
   "cell_type": "markdown",
   "metadata": {},
   "source": [
    "The Wilcoxon signed-rank test tests the null hypothesis that two\n",
    "related paired samples come from the same distribution. In particular,\n",
    "it tests whether the distribution of the differences x - y is symmetric\n",
    "about zero. It is a non-parametric version of the paired T-test.\n"
   ]
  },
  {
   "cell_type": "markdown",
   "metadata": {},
   "source": [
    "The one-sided test has the null hypothesis that the median is \n",
    "positive against the alternative that it is negative \n",
    "(``alternative == 'less'``), or vice versa (``alternative == 'greater.'``)."
   ]
  },
  {
   "cell_type": "markdown",
   "metadata": {},
   "source": [
    "alternative : {\"two-sided\", \"greater\", \"less\"}, optional\n",
    "    The alternative hypothesis to be tested, see Notes. Default is\n",
    "    \"two-sided\"."
   ]
  },
  {
   "cell_type": "code",
   "execution_count": 79,
   "metadata": {},
   "outputs": [],
   "source": [
    "lines = df1.line_id.unique()\n",
    "gt_vel = [stats.wilcoxon(df1[df1.line_id == t].velocity - df1.velocity.median(), alternative='greater')[1]\n",
    "          for t in  lines]\n",
    "lt_vel = [stats.wilcoxon(df1[df1.line_id == t].velocity - df1.velocity.median(), alternative='less')[1]\n",
    "          for t in  lines]"
   ]
  },
  {
   "cell_type": "code",
   "execution_count": 80,
   "metadata": {},
   "outputs": [],
   "source": [
    "dfg = pd.DataFrame(data={'pvalues_vel':gt_vel}, index=lines)\n",
    "dfl = pd.DataFrame(data={'pvalues_vel':lt_vel}, index=lines)\n",
    "#diff_median = dfp[(dfp.pvalues_vel < 0.05)].index\n"
   ]
  },
  {
   "cell_type": "code",
   "execution_count": 81,
   "metadata": {},
   "outputs": [
    {
     "data": {
      "text/plain": [
       "<AxesSubplot:>"
      ]
     },
     "execution_count": 81,
     "metadata": {},
     "output_type": "execute_result"
    },
    {
     "data": {
      "image/png": "[encoded data removed]",
      "text/plain": [
       "<Figure size 2160x720 with 1 Axes>"
      ]
     },
     "metadata": {
      "needs_background": "light"
     },
     "output_type": "display_data"
    }
   ],
   "source": [
    "dfg[(dfg.pvalues_vel < 0.05)].plot(kind='bar', figsize=(30,10))"
   ]
  },
  {
   "cell_type": "code",
   "execution_count": 82,
   "metadata": {},
   "outputs": [
    {
     "data": {
      "text/plain": [
       "<AxesSubplot:>"
      ]
     },
     "execution_count": 82,
     "metadata": {},
     "output_type": "execute_result"
    },
    {
     "data": {
      "image/png": "[encoded data removed]",
      "text/plain": [
       "<Figure size 2160x720 with 1 Axes>"
      ]
     },
     "metadata": {
      "needs_background": "light"
     },
     "output_type": "display_data"
    }
   ],
   "source": [
    "dfl[(dfl.pvalues_vel < 0.05)].plot(kind='bar', figsize=(30,10))"
   ]
  },
  {
   "cell_type": "code",
   "execution_count": 83,
   "metadata": {},
   "outputs": [
    {
     "name": "stdout",
     "output_type": "stream",
     "text": [
      "Rejeitamos a hipótese de que estas 28 linhas: \n",
      "\n",
      "['1.0' '114.0' '120.0' '13.0' '130.0' '14.0' '140.0' '145.0' '15.0' '18.0'\n",
      " '25.0' '27.0' '271.0' '272.0' '33.0' '40.0' '41.0' '42.0' '53.0' '54.0'\n",
      " '59.0' '67.0' '68.0' '7.0' '76.0' '79.0' '84.0' '9.0']\n",
      "\n",
      "(H0) possuem a mediana de suas velocidades menores que a mediana de toda a amostra\n",
      "\n",
      "Aceitamos a hipótese alternativa que estas linhas tem uma mediana superior à mediana da amostra\n"
     ]
    }
   ],
   "source": [
    "print( f'Rejeitamos a hipótese de que estas {len(dfg[(dfg.pvalues_vel < 0.05)])} linhas: \\n\\n{dfg[(dfg.pvalues_vel < 0.05)].index.values}')\n",
    "print()\n",
    "print('(H0) possuem a mediana de suas velocidades menores que a mediana de toda a amostra')\n",
    "print()\n",
    "print('Aceitamos a hipótese alternativa que estas linhas tem uma mediana superior à mediana da amostra')"
   ]
  },
  {
   "cell_type": "code",
   "execution_count": 84,
   "metadata": {},
   "outputs": [
    {
     "name": "stdout",
     "output_type": "stream",
     "text": [
      "Rejeitamos a hipótese de que estas 4 linhas: \n",
      "\n",
      "['16.0' '29.0' '66.0' '747.0']\n",
      "\n",
      "(H0) possuem a mediana de suas velocidades maiores que a mediana de toda a amostra\n",
      "\n",
      "Aceitamos a hipótese alternativa que estas linhas tem uma mediana inferior à mediana da amostra\n"
     ]
    }
   ],
   "source": [
    "print( f'Rejeitamos a hipótese de que estas {len(dfl[(dfl.pvalues_vel < 0.05)])} linhas: \\n\\n{dfl[(dfl.pvalues_vel < 0.05)].index.values}')\n",
    "print()\n",
    "print('(H0) possuem a mediana de suas velocidades maiores que a mediana de toda a amostra')\n",
    "print()\n",
    "print('Aceitamos a hipótese alternativa que estas linhas tem uma mediana inferior à mediana da amostra')"
   ]
  },
  {
   "cell_type": "markdown",
   "metadata": {},
   "source": [
    "## Plotar algumas trajetórias"
   ]
  },
  {
   "cell_type": "markdown",
   "metadata": {},
   "source": [
    "### Funções auxíliares"
   ]
  },
  {
   "cell_type": "code",
   "execution_count": 85,
   "metadata": {
    "scrolled": false
   },
   "outputs": [],
   "source": [
    "def to_mercator(Coords):\n",
    "    Coordinates =  Coords\n",
    "    #literal_eval(Coords)        \n",
    "    lat = Coordinates[1]\n",
    "    lon = Coordinates[0]\n",
    "    \n",
    "    r_major = 6378137.000\n",
    "    x = r_major * math.radians(lon)\n",
    "    scale = x/lon\n",
    "    y = 180.0/math.pi * math.log(math.tan(math.pi/4.0 + \n",
    "        lat * (math.pi/180.0)/2.0)) * scale    \n",
    "    \n",
    "    return pd.Series((x, y))\n",
    "\n",
    "def plot_fig(df_x, color):\n",
    "    p = figure(x_axis_type=\"mercator\", y_axis_type=\"mercator\")\n",
    "    p.add_tile(get_provider(tile_provider))\n",
    "    #p.circle(\n",
    "    p.line(\n",
    "        x='lng_m',\n",
    "        y='lat_m',\n",
    "        color= color,\n",
    "        source=df_x\n",
    "    )\n",
    "    try:\n",
    "        p.circle(\n",
    "            x='lng_m',\n",
    "            y='lat_m',\n",
    "            color= 'red',\n",
    "            source=df_x[df_x.outlier == -1]\n",
    "        )\n",
    "    except:\n",
    "        pass\n",
    "    p.circle(\n",
    "        x=df_x.iloc[0]['lng_m'],\n",
    "        y=df_x.iloc[0]['lat_m'],\n",
    "        color= 'blue',    \n",
    "    )\n",
    "    return (p)\n",
    "\n",
    "def plot_map(data_line):\n",
    "    p = figure(x_axis_type=\"mercator\", y_axis_type=\"mercator\")\n",
    "    p.add_tile(get_provider(tile_provider))\n",
    "    data_line[['lng_m','lat_m']] = data_line[['lng', 'lat']].apply(to_mercator, axis=1)\n",
    "    p = plot_fig(data_line, 'black')\n",
    "    show(p)"
   ]
  },
  {
   "cell_type": "markdown",
   "metadata": {},
   "source": [
    "### A linha preta é a trajetória"
   ]
  },
  {
   "cell_type": "markdown",
   "metadata": {},
   "source": [
    "### O ponto azul é a partida"
   ]
  },
  {
   "cell_type": "markdown",
   "metadata": {},
   "source": [
    "### Os pontos vermelhos os outliers"
   ]
  },
  {
   "cell_type": "markdown",
   "metadata": {},
   "source": [
    "#### Pontos Excluídos por ter menos que 50 pontos"
   ]
  },
  {
   "cell_type": "code",
   "execution_count": 86,
   "metadata": {
    "scrolled": false
   },
   "outputs": [
    {
     "data": {
      "text/html": [
       "\n",
       "\n",
       "\n",
       "\n",
       "\n",
       "\n",
       "  <div class=\"bk-root\" id=\"00738087-7e77-4338-9ea3-7ea40fcd26c2\" data-root-id=\"1044\"></div>\n"
      ]
     },
     "metadata": {},
     "output_type": "display_data"
    },
    {
     "data": {
      "application/javascript": [
       "(function(root) {\n",
       "  function embed_document(root) {\n",
       "    \n",
       "  var docs_json = {\"b684990e-7f3a-4c9e-83b0-6742aad23fdb\":{\"roots\":{\"references\":[{\"attributes\":{\"below\":[{\"id\":\"1053\"}],\"center\":[{\"id\":\"1060\"},{\"id\":\"1068\"}],\"left\":[{\"id\":\"1061\"}],\"renderers\":[{\"id\":\"1084\"},{\"id\":\"1090\"},{\"id\":\"1095\"}],\"title\":{\"id\":\"1098\"},\"toolbar\":{\"id\":\"1076\"},\"x_range\":{\"id\":\"1045\"},\"x_scale\":{\"id\":\"1049\"},\"y_range\":{\"id\":\"1047\"},\"y_scale\":{\"id\":\"1051\"}},\"id\":\"1044\",\"subtype\":\"Figure\",\"type\":\"Plot\"},{\"attributes\":{\"data\":{\"block_id\":[1001,1001,1001,1001,1001,1001,1001,1001,1001,1001,1001,1001,1001,1001,1001,1001,1001,1001,1001,1001,1001,1001,1001,1001,1001,1001,1001,1001,1001,1001,1001,1001,1001,1001,1001,1001,1001,1001,1001,1001,1001],\"congestion\":[false,false,false,false,false,false,false,false,false,false,false,false,false,false,false,false,false,false,false,false,false,false,false,false,false,false,false,false,false,false,false,false,false,false,false,false,false,false,false,false,false],\"datetime\":{\"__ndarray__\":\"AADB20HCc0IAgGTgQcJzQgCAz+NBwnNCAIBG5UHCc0IAAOrpQcJzQgAASe9BwnNCAIB18kHCc0IAgOzzQcJzQgCAzvhBwnNCAADp/kHCc0IAAN0AQsJzQgAAVAJCwnNCAIB0B0LCc0IAgFYMQsJzQgCAPhBCwnNCAAD0EULCc0IAgJcWQsJzQgCAeRtCwnNCAIBnHkLCc0IAgGEfQsJzQgAAgiRCwnNCAICiKULCc0IAgIotQsJzQgCABy5CwnNCAAClM0LCc0IAgEg4QsJzQgCAsztCwnNCAIAkPkLCc0IAgAxCQsJzQgAALUdCwnNCAAAVS0LCc0IAAJJLQsJzQgCAslBCwnNCAIARVkLCc0IAALtZQsJzQgAAOFpCwnNCAAAaX0LCc0IAgDpkQsJzQgCAHGlCwnNCAAC6bkLCc0IAAKJyQsJzQg==\",\"dtype\":\"float64\",\"order\":\"little\",\"shape\":[41]},\"day\":[10,10,10,10,10,10,10,10,10,10,10,10,10,10,10,10,10,10,10,10,10,10,10,10,10,10,10,10,10,10,10,10,10,10,10,10,10,10,10,10,10],\"delay\":[0,0,0,0,0,0,0,0,0,0,0,0,0,0,0,0,0,0,0,0,0,0,0,0,0,0,0,0,0,0,0,0,0,0,0,0,0,0,0,0,0],\"hour\":[10,11,11,11,11,11,11,11,11,11,11,11,11,11,11,11,11,11,11,11,11,11,11,11,11,11,11,11,11,11,11,11,11,11,11,11,11,11,11,11,11],\"index\":[552756,553213,553622,553834,554264,554794,555201,555416,555854,556393,556713,556956,557485,557988,558315,558587,559072,559583,559899,560061,560638,561186,561599,561697,562248,562718,563096,563423,563827,564327,564860,564891,565400,565965,566431,566485,567011,567473,568109,568701,569131],\"journey_id\":[\"00010001\",\"00010001\",\"00010001\",\"00010001\",\"00010001\",\"00010001\",\"00010001\",\"00010001\",\"00010001\",\"00010001\",\"00010001\",\"00010001\",\"00010001\",\"00010001\",\"00010001\",\"00010001\",\"00010001\",\"00010001\",\"00010001\",\"00010001\",\"00010001\",\"00010001\",\"00010001\",\"00010001\",\"00010001\",\"00010001\",\"00010001\",\"00010001\",\"00010001\",\"00010001\",\"00010001\",\"00010001\",\"00010001\",\"00010001\",\"00010001\",\"00010001\",\"00010001\",\"00010001\",\"00010001\",\"00010001\",\"00010001\"],\"lat\":{\"__ndarray__\":\"Z3xfXKqoSkAJLev+sahKQAkt6/6xqEpAu1tZorOoSkAUP8bctahKQEIKnkKuqEpAQgqeQq6oSkAkvajdr6hKQLtbWaKzqEpArd12obmoSkCt3XahuahKQCMO2UC6qEpArd12obmoSkCt3XahuahKQK3ddqG5qEpA0H8PXruoSkALfhtivKhKQBQ/xty1qEpAFD/G3LWoSkC3niEcs6hKQBQ/xty1qEpA3v3xXrWoSkDe/fFetahKQLeeIRyzqEpAdktywK6oSkDFHAQdrahKQMUcBB2tqEpAxRwEHa2oSkCuKCUEq6hKQMUcBB2tqEpAxRwEHa2oSkDFHAQdrahKQBmrzf+rqEpAGavN/6uoSkAZq83/q6hKQMUcBB2tqEpAy9k7o62oSkBCCp5CrqhKQBmrzf+rqEpAkdsvn6yoSkDFHAQdrahKQA==\",\"dtype\":\"float64\",\"order\":\"little\",\"shape\":[41]},\"lat_m\":{\"__ndarray__\":\"Nz3NTe/cWkE0nJ0o+txaQTScnSj63FpBaP3tfPzcWkEP9Oqn/9xaQa67Bdn03FpBrrsF2fTcWkF4lWgh99xaQWj97Xz83FpBX91xAwXdWkFf3XEDBd1aQa2VC+YF3VpBYN1xAwXdWkFf3XEDBd1aQV/dcQMF3VpBMYSKewfdWkHFFULtCN1aQQ/06qf/3FpBD/Tqp//cWkHP7Ru++9xaQQ706qf/3FpBk/IF9f7cWkGT8gX1/txaQc/tG7773FpBgYHqi/XcWkG+qJo389xaQb6omjfz3FpBvaiaN/PcWkGsb1M88NxaQb2omjfz3FpBvaiaN/PcWkG9qJo389xaQRPJHKLx3FpBE8kcovHcWkETyRyi8dxaQb2omjfz3FpBvIJs9vPcWkGuuwXZ9NxaQRPJHKLx3FpBpfC1hPLcWkG+qJo389xaQQ==\",\"dtype\":\"float64\",\"order\":\"little\",\"shape\":[41]},\"line_id\":[1.0,1.0,1.0,1.0,1.0,1.0,1.0,1.0,1.0,1.0,1.0,1.0,1.0,1.0,1.0,1.0,1.0,1.0,1.0,1.0,1.0,1.0,1.0,1.0,1.0,1.0,1.0,1.0,1.0,1.0,1.0,1.0,1.0,1.0,1.0,1.0,1.0,1.0,1.0,1.0,1.0],\"lng\":{\"__ndarray__\":\"nEoGgCruGMCjWdk+5O0YwKNZ2T7k7RjAVCCzs+jtGMDFqkGY2+0YwIz2eCEd7hjAjPZ4IR3uGMBwC5bqAu4YwATnjCjt7RjAe9egL73tGMB716Avve0YwHvXoC+97RjACU0SS8rtGMB716Avve0YwHvXoC+97RjA7WEvFLDtGMD/XgoPmu0YwLoT7L/O7RjAuhPsv87tGMBUILOz6O0YwJjCg2bX7RjAdnEbDeDtGMB2cRsN4O0YwATnjCjt7RjA5/up8dLtGMAJTRJLyu0YwAlNEkvK7RjA0JhJ1AvuGMCM9nghHe4YwOyDLAsm7hjA7IMsCybuGMCo4VtYN+4YwAMJih9j7hjAAwmKH2PuGMADCYofY+4YwFioNc077hjAnEoGgCruGMCM9nghHe4YwHALluoC7hjABOeMKO3tGMAE54wo7e0YwA==\",\"dtype\":\"float64\",\"order\":\"little\",\"shape\":[41]},\"lng_m\":{\"__ndarray__\":\"rpWHJ2AsJcGM4bZ8JCwlwYzhtnwkLCXBYaSjRSgsJcEsOtwjHSwlwTJNwcxULCXBMk3BzFQsJcHJeDKJPiwlwTVnkA4sLCXBNoFfUAMsJcE2gV9QAywlwTaBX1ADLCXBa+smcg4sJcE2gV9QAywlwTaBX1ADLCXBAheYLvgrJcElJ/d65SslwUCuEzsSLCXBQK4TOxIsJcFhpKNFKCwlwaBV7pMZLCXBAP3I7CAsJcEA/cjsICwlwTVnkA4sLCXBy5IByxUsJcFr6yZyDiwlwWvrJnIOLCXBcf4LG0YsJcEyTcHMVCwlwdrSml5cLCXB2tKaXlwsJcGaIVAQaywlwQwjkz6QLCXBDCOTPpAsJcEMI5M+kCwlwW7kPNluLCXBrpWHJ2AsJcEyTcHMVCwlwcl4Mok+LCXBNWeQDiwsJcE1Z5AOLCwlwQ==\",\"dtype\":\"float64\",\"order\":\"little\",\"shape\":[41]},\"operator\":[\"D1\",\"D1\",\"D1\",\"D1\",\"D1\",\"D1\",\"D1\",\"D1\",\"D1\",\"D1\",\"D1\",\"D1\",\"D1\",\"D1\",\"D1\",\"D1\",\"D1\",\"D1\",\"D1\",\"D1\",\"D1\",\"D1\",\"D1\",\"D1\",\"D1\",\"D1\",\"D1\",\"D1\",\"D1\",\"D1\",\"D1\",\"D1\",\"D1\",\"D1\",\"D1\",\"D1\",\"D1\",\"D1\",\"D1\",\"D1\",\"D1\"],\"stop\":[false,false,false,false,false,false,false,false,false,false,false,false,false,false,false,false,false,false,false,false,false,false,false,false,false,false,false,false,false,false,false,false,false,false,false,false,false,false,false,false,false],\"stop_id\":[351.0,351.0,352.0,352.0,352.0,352.0,353.0,353.0,353.0,353.0,354.0,354.0,354.0,354.0,355.0,355.0,355.0,355.0,356.0,356.0,356.0,356.0,357.0,357.0,357.0,357.0,357.0,357.0,357.0,357.0,390.0,390.0,390.0,390.0,372.0,372.0,372.0,372.0,374.0,374.0,374.0],\"time_frame\":[\"2013-01-10\",\"2013-01-10\",\"2013-01-10\",\"2013-01-10\",\"2013-01-10\",\"2013-01-10\",\"2013-01-10\",\"2013-01-10\",\"2013-01-10\",\"2013-01-10\",\"2013-01-10\",\"2013-01-10\",\"2013-01-10\",\"2013-01-10\",\"2013-01-10\",\"2013-01-10\",\"2013-01-10\",\"2013-01-10\",\"2013-01-10\",\"2013-01-10\",\"2013-01-10\",\"2013-01-10\",\"2013-01-10\",\"2013-01-10\",\"2013-01-10\",\"2013-01-10\",\"2013-01-10\",\"2013-01-10\",\"2013-01-10\",\"2013-01-10\",\"2013-01-10\",\"2013-01-10\",\"2013-01-10\",\"2013-01-10\",\"2013-01-10\",\"2013-01-10\",\"2013-01-10\",\"2013-01-10\",\"2013-01-10\",\"2013-01-10\",\"2013-01-10\"],\"timestamp\":[1357815594000000,1357815613000000,1357815627000000,1357815633000000,1357815652000000,1357815674000000,1357815687000000,1357815693000000,1357815713000000,1357815738000000,1357815746000000,1357815752000000,1357815773000000,1357815793000000,1357815809000000,1357815816000000,1357815835000000,1357815855000000,1357815867000000,1357815871000000,1357815892000000,1357815913000000,1357815929000000,1357815931000000,1357815954000000,1357815973000000,1357815987000000,1357815997000000,1357816013000000,1357816034000000,1357816050000000,1357816052000000,1357816073000000,1357816095000000,1357816110000000,1357816112000000,1357816132000000,1357816153000000,1357816173000000,1357816196000000,1357816212000000],\"vehicle_id\":[43014,43014,43014,43014,43014,43014,43014,43014,43014,43014,43014,43014,43014,43014,43014,43014,43014,43014,43014,43014,43014,43014,43014,43014,43014,43014,43014,43014,43014,43014,43014,43014,43014,43014,43014,43014,43014,43014,43014,43014,43014],\"vehicle_journey_id\":[4608,4608,4608,4608,4608,4608,4608,4608,4608,4608,4608,4608,4608,4608,4608,4608,4608,4608,4608,4608,4608,4608,4608,4608,4608,4608,4608,4608,4608,4608,4608,4608,4608,4608,4608,4608,4608,4608,4608,4608,4608]},\"selected\":{\"id\":\"1105\"},\"selection_policy\":{\"id\":\"1104\"}},\"id\":\"1086\",\"type\":\"ColumnDataSource\"},{\"attributes\":{\"fill_color\":{\"value\":\"blue\"},\"line_color\":{\"value\":\"blue\"},\"x\":{\"value\":-693808.0772063041},\"y\":{\"value\":7041981.215651802}},\"id\":\"1093\",\"type\":\"Circle\"},{\"attributes\":{},\"id\":\"1104\",\"type\":\"UnionRenderers\"},{\"attributes\":{},\"id\":\"1105\",\"type\":\"Selection\"},{\"attributes\":{\"bottom_units\":\"screen\",\"fill_alpha\":0.5,\"fill_color\":\"lightgrey\",\"left_units\":\"screen\",\"level\":\"overlay\",\"line_alpha\":1.0,\"line_color\":\"black\",\"line_dash\":[4,4],\"line_width\":2,\"right_units\":\"screen\",\"top_units\":\"screen\"},\"id\":\"1075\",\"type\":\"BoxAnnotation\"},{\"attributes\":{\"data_source\":{\"id\":\"1086\"},\"glyph\":{\"id\":\"1088\"},\"hover_glyph\":null,\"muted_glyph\":null,\"nonselection_glyph\":{\"id\":\"1089\"},\"selection_glyph\":null,\"view\":{\"id\":\"1091\"}},\"id\":\"1090\",\"type\":\"GlyphRenderer\"},{\"attributes\":{\"attribution\":\"&copy; <a href=\\\"https://www.openstreetmap.org/copyright\\\">OpenStreetMap</a> contributors\",\"url\":\"https://c.tile.openstreetmap.org/{Z}/{X}/{Y}.png\"},\"id\":\"1083\",\"type\":\"WMTSTileSource\"},{\"attributes\":{},\"id\":\"1106\",\"type\":\"UnionRenderers\"},{\"attributes\":{},\"id\":\"1051\",\"type\":\"LinearScale\"},{\"attributes\":{},\"id\":\"1107\",\"type\":\"Selection\"},{\"attributes\":{},\"id\":\"1049\",\"type\":\"LinearScale\"},{\"attributes\":{\"dimension\":\"lon\"},\"id\":\"1056\",\"type\":\"MercatorTickFormatter\"},{\"attributes\":{\"text\":\"\"},\"id\":\"1098\",\"type\":\"Title\"},{\"attributes\":{\"tile_source\":{\"id\":\"1083\"}},\"id\":\"1084\",\"type\":\"TileRenderer\"},{\"attributes\":{},\"id\":\"1047\",\"type\":\"DataRange1d\"},{\"attributes\":{\"axis\":{\"id\":\"1053\"},\"ticker\":null},\"id\":\"1060\",\"type\":\"Grid\"},{\"attributes\":{\"data_source\":{\"id\":\"1092\"},\"glyph\":{\"id\":\"1093\"},\"hover_glyph\":null,\"muted_glyph\":null,\"nonselection_glyph\":{\"id\":\"1094\"},\"selection_glyph\":null,\"view\":{\"id\":\"1096\"}},\"id\":\"1095\",\"type\":\"GlyphRenderer\"},{\"attributes\":{\"fill_alpha\":{\"value\":0.1},\"fill_color\":{\"value\":\"blue\"},\"line_alpha\":{\"value\":0.1},\"line_color\":{\"value\":\"blue\"},\"x\":{\"value\":-693808.0772063041},\"y\":{\"value\":7041981.215651802}},\"id\":\"1094\",\"type\":\"Circle\"},{\"attributes\":{\"data\":{},\"selected\":{\"id\":\"1107\"},\"selection_policy\":{\"id\":\"1106\"}},\"id\":\"1092\",\"type\":\"ColumnDataSource\"},{\"attributes\":{\"source\":{\"id\":\"1092\"}},\"id\":\"1096\",\"type\":\"CDSView\"},{\"attributes\":{},\"id\":\"1073\",\"type\":\"ResetTool\"},{\"attributes\":{},\"id\":\"1045\",\"type\":\"DataRange1d\"},{\"attributes\":{\"overlay\":{\"id\":\"1075\"}},\"id\":\"1071\",\"type\":\"BoxZoomTool\"},{\"attributes\":{},\"id\":\"1072\",\"type\":\"SaveTool\"},{\"attributes\":{},\"id\":\"1074\",\"type\":\"HelpTool\"},{\"attributes\":{\"formatter\":{\"id\":\"1056\"},\"ticker\":{\"id\":\"1054\"}},\"id\":\"1053\",\"type\":\"MercatorAxis\"},{\"attributes\":{},\"id\":\"1069\",\"type\":\"PanTool\"},{\"attributes\":{},\"id\":\"1070\",\"type\":\"WheelZoomTool\"},{\"attributes\":{\"source\":{\"id\":\"1086\"}},\"id\":\"1091\",\"type\":\"CDSView\"},{\"attributes\":{\"dimension\":\"lat\"},\"id\":\"1062\",\"type\":\"MercatorTicker\"},{\"attributes\":{\"axis\":{\"id\":\"1061\"},\"dimension\":1,\"ticker\":null},\"id\":\"1068\",\"type\":\"Grid\"},{\"attributes\":{\"formatter\":{\"id\":\"1064\"},\"ticker\":{\"id\":\"1062\"}},\"id\":\"1061\",\"type\":\"MercatorAxis\"},{\"attributes\":{\"line_alpha\":0.1,\"x\":{\"field\":\"lng_m\"},\"y\":{\"field\":\"lat_m\"}},\"id\":\"1089\",\"type\":\"Line\"},{\"attributes\":{\"dimension\":\"lat\"},\"id\":\"1064\",\"type\":\"MercatorTickFormatter\"},{\"attributes\":{\"dimension\":\"lon\"},\"id\":\"1054\",\"type\":\"MercatorTicker\"},{\"attributes\":{\"active_drag\":\"auto\",\"active_inspect\":\"auto\",\"active_multi\":null,\"active_scroll\":\"auto\",\"active_tap\":\"auto\",\"tools\":[{\"id\":\"1069\"},{\"id\":\"1070\"},{\"id\":\"1071\"},{\"id\":\"1072\"},{\"id\":\"1073\"},{\"id\":\"1074\"}]},\"id\":\"1076\",\"type\":\"Toolbar\"},{\"attributes\":{\"x\":{\"field\":\"lng_m\"},\"y\":{\"field\":\"lat_m\"}},\"id\":\"1088\",\"type\":\"Line\"}],\"root_ids\":[\"1044\"]},\"title\":\"Bokeh Application\",\"version\":\"2.2.1\"}};\n",
       "  var render_items = [{\"docid\":\"b684990e-7f3a-4c9e-83b0-6742aad23fdb\",\"root_ids\":[\"1044\"],\"roots\":{\"1044\":\"00738087-7e77-4338-9ea3-7ea40fcd26c2\"}}];\n",
       "  root.Bokeh.embed.embed_items_notebook(docs_json, render_items);\n",
       "\n",
       "  }\n",
       "  if (root.Bokeh !== undefined) {\n",
       "    embed_document(root);\n",
       "  } else {\n",
       "    var attempts = 0;\n",
       "    var timer = setInterval(function(root) {\n",
       "      if (root.Bokeh !== undefined) {\n",
       "        clearInterval(timer);\n",
       "        embed_document(root);\n",
       "      } else {\n",
       "        attempts++;\n",
       "        if (attempts > 100) {\n",
       "          clearInterval(timer);\n",
       "          console.log(\"Bokeh: ERROR: Unable to run BokehJS code because BokehJS library is missing\");\n",
       "        }\n",
       "      }\n",
       "    }, 10, root)\n",
       "  }\n",
       "})(window);"
      ],
      "application/vnd.bokehjs_exec.v0+json": ""
     },
     "metadata": {
      "application/vnd.bokehjs_exec.v0+json": {
       "id": "1044"
      }
     },
     "output_type": "display_data"
    },
    {
     "data": {
      "text/html": [
       "\n",
       "\n",
       "\n",
       "\n",
       "\n",
       "\n",
       "  <div class=\"bk-root\" id=\"0a579ee5-ebe9-470a-9083-6baf9e837ddc\" data-root-id=\"1205\"></div>\n"
      ]
     },
     "metadata": {},
     "output_type": "display_data"
    },
    {
     "data": {
      "application/javascript": [
       "(function(root) {\n",
       "  function embed_document(root) {\n",
       "    \n",
       "  var docs_json = {\"89273d75-dd58-49d2-9ddb-fa438cd615b6\":{\"roots\":{\"references\":[{\"attributes\":{\"below\":[{\"id\":\"1214\"}],\"center\":[{\"id\":\"1221\"},{\"id\":\"1229\"}],\"left\":[{\"id\":\"1222\"}],\"renderers\":[{\"id\":\"1245\"},{\"id\":\"1251\"},{\"id\":\"1256\"}],\"title\":{\"id\":\"1270\"},\"toolbar\":{\"id\":\"1237\"},\"x_range\":{\"id\":\"1206\"},\"x_scale\":{\"id\":\"1210\"},\"y_range\":{\"id\":\"1208\"},\"y_scale\":{\"id\":\"1212\"}},\"id\":\"1205\",\"subtype\":\"Figure\",\"type\":\"Plot\"},{\"attributes\":{\"data\":{\"block_id\":[1005,1005,1005,1005,1005,1005,1005,1005,1005,1005,1005,1005,1005],\"congestion\":[false,false,false,false,false,false,false,false,false,false,false,false,false],\"datetime\":{\"__ndarray__\":\"AABgT53Cc0IAAEJUncJzQgCAYlmdwnNCAIBEXp3Cc0IAAGVjncJzQgAAR2idwnNCAIBtbJ3Cc0IAAI5xncJzQgAAcHadwnNCAICQe53Cc0IAAJOFncJzQgAA+ImdwnNCAIAYj53Cc0I=\",\"dtype\":\"float64\",\"order\":\"little\",\"shape\":[13]},\"day\":[11,11,11,11,11,11,11,11,11,11,11,11,11],\"delay\":[3420,3420,3420,3420,3420,3374,3374,3336,3336,3336,3376,3376,3360],\"hour\":[13,13,13,13,13,13,13,13,13,13,13,13,13],\"index\":[800997,801609,802108,802558,803209,803671,804112,804711,805274,805754,806886,807337,807893],\"journey_id\":[\"00011001\",\"00011001\",\"00011001\",\"00011001\",\"00011001\",\"00011001\",\"00011001\",\"00011001\",\"00011001\",\"00011001\",\"00011001\",\"00011001\",\"00011001\"],\"lat\":{\"__ndarray__\":\"6z9rfvyrSkDrP2t+/KtKQCbD8XwGrEpAJsPxfAasSkCOQSeEDqxKQD5ZMVwdrEpArMjogCSsSkDyXUpdMqxKQHx+GCE8rEpAvm2mQjysSkDnAMEcPaxKQPV+ox03rEpA9s/TgEGsSkA=\",\"dtype\":\"float64\",\"order\":\"little\",\"shape\":[13]},\"lat_m\":{\"__ndarray__\":\"ckJsUajhWkFyQmxRqOFaQVxgJIm24VpBXGAkibbhWkG5rN70weFaQWq00xLX4VpBq8VjPOHhWkE/BWr09OFaQc1SvNgC4lpBIb94CAPiWkF3hsE+BOJaQUf/1bb74VpBNp3qfQriWkE=\",\"dtype\":\"float64\",\"order\":\"little\",\"shape\":[13]},\"line_id\":[1.0,1.0,1.0,1.0,1.0,1.0,1.0,1.0,1.0,1.0,1.0,1.0,1.0],\"lng\":{\"__ndarray__\":\"LT2a6sn8GMAtPZrqyfwYwBQjS+ZY/hjAFCNL5lj+GMAANbVsrf8YwHrGvmTjARnAsaayKOwCGcCcNuM0RAUZwN3PKcjPBhnABfuvc9MGGcAmUS/4NAcZwAK4WbxYCBnA3sfRHFkJGcA=\",\"dtype\":\"float64\",\"order\":\"little\",\"shape\":[13]},\"lng_m\":{\"__ndarray__\":\"mN5mcMs4JcGY3mZwyzglwf5qrEseOiXB/mqsSx46JcEJVu6APzslwWf9Yi4gPSXBV/jrCwE+JcGkgM2q/j8lwVfDIaFOQSXBUusRv1FBJcEB7WyRpEElwTRXgV2cQiXBDYkuG3ZDJcE=\",\"dtype\":\"float64\",\"order\":\"little\",\"shape\":[13]},\"operator\":[\"RD\",\"RD\",\"RD\",\"RD\",\"RD\",\"RD\",\"RD\",\"RD\",\"RD\",\"RD\",\"RD\",\"RD\",\"RD\"],\"stop\":[false,false,false,false,false,false,false,false,false,false,false,false,false],\"stop_id\":[398.0,398.0,399.0,399.0,399.0,399.0,400.0,400.0,400.0,400.0,400.0,400.0,400.0],\"time_frame\":[\"2013-01-11\",\"2013-01-11\",\"2013-01-11\",\"2013-01-11\",\"2013-01-11\",\"2013-01-11\",\"2013-01-11\",\"2013-01-11\",\"2013-01-11\",\"2013-01-11\",\"2013-01-11\",\"2013-01-11\",\"2013-01-11\"],\"timestamp\":[1357911488000000,1357911508000000,1357911529000000,1357911549000000,1357911570000000,1357911590000000,1357911607000000,1357911628000000,1357911648000000,1357911669000000,1357911710000000,1357911728000000,1357911749000000],\"vehicle_id\":[43072,43072,43072,43072,43072,43072,43072,43072,43072,43072,43072,43072,43072],\"vehicle_journey_id\":[4680,4680,4680,4680,4680,4680,4680,4680,4680,4680,4680,4680,4680]},\"selected\":{\"id\":\"1277\"},\"selection_policy\":{\"id\":\"1276\"}},\"id\":\"1247\",\"type\":\"ColumnDataSource\"},{\"attributes\":{\"dimension\":\"lon\"},\"id\":\"1215\",\"type\":\"MercatorTicker\"},{\"attributes\":{\"formatter\":{\"id\":\"1225\"},\"ticker\":{\"id\":\"1223\"}},\"id\":\"1222\",\"type\":\"MercatorAxis\"},{\"attributes\":{\"source\":{\"id\":\"1253\"}},\"id\":\"1257\",\"type\":\"CDSView\"},{\"attributes\":{\"dimension\":\"lat\"},\"id\":\"1225\",\"type\":\"MercatorTickFormatter\"},{\"attributes\":{},\"id\":\"1212\",\"type\":\"LinearScale\"},{\"attributes\":{\"text\":\"\"},\"id\":\"1270\",\"type\":\"Title\"},{\"attributes\":{\"dimension\":\"lat\"},\"id\":\"1223\",\"type\":\"MercatorTicker\"},{\"attributes\":{\"axis\":{\"id\":\"1222\"},\"dimension\":1,\"ticker\":null},\"id\":\"1229\",\"type\":\"Grid\"},{\"attributes\":{},\"id\":\"1208\",\"type\":\"DataRange1d\"},{\"attributes\":{},\"id\":\"1231\",\"type\":\"WheelZoomTool\"},{\"attributes\":{},\"id\":\"1235\",\"type\":\"HelpTool\"},{\"attributes\":{\"formatter\":{\"id\":\"1217\"},\"ticker\":{\"id\":\"1215\"}},\"id\":\"1214\",\"type\":\"MercatorAxis\"},{\"attributes\":{},\"id\":\"1230\",\"type\":\"PanTool\"},{\"attributes\":{\"active_drag\":\"auto\",\"active_inspect\":\"auto\",\"active_multi\":null,\"active_scroll\":\"auto\",\"active_tap\":\"auto\",\"tools\":[{\"id\":\"1230\"},{\"id\":\"1231\"},{\"id\":\"1232\"},{\"id\":\"1233\"},{\"id\":\"1234\"},{\"id\":\"1235\"}]},\"id\":\"1237\",\"type\":\"Toolbar\"},{\"attributes\":{\"dimension\":\"lon\"},\"id\":\"1217\",\"type\":\"MercatorTickFormatter\"},{\"attributes\":{\"overlay\":{\"id\":\"1236\"}},\"id\":\"1232\",\"type\":\"BoxZoomTool\"},{\"attributes\":{},\"id\":\"1233\",\"type\":\"SaveTool\"},{\"attributes\":{},\"id\":\"1234\",\"type\":\"ResetTool\"},{\"attributes\":{\"axis\":{\"id\":\"1214\"},\"ticker\":null},\"id\":\"1221\",\"type\":\"Grid\"},{\"attributes\":{\"tile_source\":{\"id\":\"1244\"}},\"id\":\"1245\",\"type\":\"TileRenderer\"},{\"attributes\":{\"source\":{\"id\":\"1247\"}},\"id\":\"1252\",\"type\":\"CDSView\"},{\"attributes\":{\"line_alpha\":0.1,\"x\":{\"field\":\"lng_m\"},\"y\":{\"field\":\"lat_m\"}},\"id\":\"1250\",\"type\":\"Line\"},{\"attributes\":{},\"id\":\"1210\",\"type\":\"LinearScale\"},{\"attributes\":{\"x\":{\"field\":\"lng_m\"},\"y\":{\"field\":\"lat_m\"}},\"id\":\"1249\",\"type\":\"Line\"},{\"attributes\":{},\"id\":\"1276\",\"type\":\"UnionRenderers\"},{\"attributes\":{\"fill_alpha\":{\"value\":0.1},\"fill_color\":{\"value\":\"blue\"},\"line_alpha\":{\"value\":0.1},\"line_color\":{\"value\":\"blue\"},\"x\":{\"value\":-695397.719534832},\"y\":{\"value\":7046817.272232639}},\"id\":\"1255\",\"type\":\"Circle\"},{\"attributes\":{},\"id\":\"1277\",\"type\":\"Selection\"},{\"attributes\":{},\"id\":\"1206\",\"type\":\"DataRange1d\"},{\"attributes\":{\"data_source\":{\"id\":\"1253\"},\"glyph\":{\"id\":\"1254\"},\"hover_glyph\":null,\"muted_glyph\":null,\"nonselection_glyph\":{\"id\":\"1255\"},\"selection_glyph\":null,\"view\":{\"id\":\"1257\"}},\"id\":\"1256\",\"type\":\"GlyphRenderer\"},{\"attributes\":{\"fill_color\":{\"value\":\"blue\"},\"line_color\":{\"value\":\"blue\"},\"x\":{\"value\":-695397.719534832},\"y\":{\"value\":7046817.272232639}},\"id\":\"1254\",\"type\":\"Circle\"},{\"attributes\":{\"data_source\":{\"id\":\"1247\"},\"glyph\":{\"id\":\"1249\"},\"hover_glyph\":null,\"muted_glyph\":null,\"nonselection_glyph\":{\"id\":\"1250\"},\"selection_glyph\":null,\"view\":{\"id\":\"1252\"}},\"id\":\"1251\",\"type\":\"GlyphRenderer\"},{\"attributes\":{\"data\":{},\"selected\":{\"id\":\"1279\"},\"selection_policy\":{\"id\":\"1278\"}},\"id\":\"1253\",\"type\":\"ColumnDataSource\"},{\"attributes\":{},\"id\":\"1278\",\"type\":\"UnionRenderers\"},{\"attributes\":{},\"id\":\"1279\",\"type\":\"Selection\"},{\"attributes\":{\"bottom_units\":\"screen\",\"fill_alpha\":0.5,\"fill_color\":\"lightgrey\",\"left_units\":\"screen\",\"level\":\"overlay\",\"line_alpha\":1.0,\"line_color\":\"black\",\"line_dash\":[4,4],\"line_width\":2,\"right_units\":\"screen\",\"top_units\":\"screen\"},\"id\":\"1236\",\"type\":\"BoxAnnotation\"},{\"attributes\":{\"attribution\":\"&copy; <a href=\\\"https://www.openstreetmap.org/copyright\\\">OpenStreetMap</a> contributors\",\"url\":\"https://c.tile.openstreetmap.org/{Z}/{X}/{Y}.png\"},\"id\":\"1244\",\"type\":\"WMTSTileSource\"}],\"root_ids\":[\"1205\"]},\"title\":\"Bokeh Application\",\"version\":\"2.2.1\"}};\n",
       "  var render_items = [{\"docid\":\"89273d75-dd58-49d2-9ddb-fa438cd615b6\",\"root_ids\":[\"1205\"],\"roots\":{\"1205\":\"0a579ee5-ebe9-470a-9083-6baf9e837ddc\"}}];\n",
       "  root.Bokeh.embed.embed_items_notebook(docs_json, render_items);\n",
       "\n",
       "  }\n",
       "  if (root.Bokeh !== undefined) {\n",
       "    embed_document(root);\n",
       "  } else {\n",
       "    var attempts = 0;\n",
       "    var timer = setInterval(function(root) {\n",
       "      if (root.Bokeh !== undefined) {\n",
       "        clearInterval(timer);\n",
       "        embed_document(root);\n",
       "      } else {\n",
       "        attempts++;\n",
       "        if (attempts > 100) {\n",
       "          clearInterval(timer);\n",
       "          console.log(\"Bokeh: ERROR: Unable to run BokehJS code because BokehJS library is missing\");\n",
       "        }\n",
       "      }\n",
       "    }, 10, root)\n",
       "  }\n",
       "})(window);"
      ],
      "application/vnd.bokehjs_exec.v0+json": ""
     },
     "metadata": {
      "application/vnd.bokehjs_exec.v0+json": {
       "id": "1205"
      }
     },
     "output_type": "display_data"
    },
    {
     "data": {
      "text/html": [
       "\n",
       "\n",
       "\n",
       "\n",
       "\n",
       "\n",
       "  <div class=\"bk-root\" id=\"b56be14c-7702-4240-99af-5689b13d7704\" data-root-id=\"1377\"></div>\n"
      ]
     },
     "metadata": {},
     "output_type": "display_data"
    },
    {
     "data": {
      "application/javascript": [
       "(function(root) {\n",
       "  function embed_document(root) {\n",
       "    \n",
       "  var docs_json = {\"27d9c7ac-9f28-4b9b-a874-51604a02fad5\":{\"roots\":{\"references\":[{\"attributes\":{\"below\":[{\"id\":\"1386\"}],\"center\":[{\"id\":\"1393\"},{\"id\":\"1401\"}],\"left\":[{\"id\":\"1394\"}],\"renderers\":[{\"id\":\"1417\"},{\"id\":\"1423\"},{\"id\":\"1428\"}],\"title\":{\"id\":\"1453\"},\"toolbar\":{\"id\":\"1409\"},\"x_range\":{\"id\":\"1378\"},\"x_scale\":{\"id\":\"1382\"},\"y_range\":{\"id\":\"1380\"},\"y_scale\":{\"id\":\"1384\"}},\"id\":\"1377\",\"subtype\":\"Figure\",\"type\":\"Plot\"},{\"attributes\":{\"active_drag\":\"auto\",\"active_inspect\":\"auto\",\"active_multi\":null,\"active_scroll\":\"auto\",\"active_tap\":\"auto\",\"tools\":[{\"id\":\"1402\"},{\"id\":\"1403\"},{\"id\":\"1404\"},{\"id\":\"1405\"},{\"id\":\"1406\"},{\"id\":\"1407\"}]},\"id\":\"1409\",\"type\":\"Toolbar\"},{\"attributes\":{},\"id\":\"1405\",\"type\":\"SaveTool\"},{\"attributes\":{},\"id\":\"1406\",\"type\":\"ResetTool\"},{\"attributes\":{},\"id\":\"1407\",\"type\":\"HelpTool\"},{\"attributes\":{},\"id\":\"1403\",\"type\":\"WheelZoomTool\"},{\"attributes\":{\"x\":{\"field\":\"lng_m\"},\"y\":{\"field\":\"lat_m\"}},\"id\":\"1421\",\"type\":\"Line\"},{\"attributes\":{\"fill_color\":{\"value\":\"blue\"},\"line_color\":{\"value\":\"blue\"},\"x\":{\"value\":-698815.4505411672},\"y\":{\"value\":7060454.555740599}},\"id\":\"1426\",\"type\":\"Circle\"},{\"attributes\":{\"data\":{\"block_id\":[4001,4001,4001,4001,4001,4001,4001,4001,4001,4001,4001,4001,4001,4001,4001,4001,4001,4001,4001,4001,4001,4001],\"congestion\":[false,false,false,false,false,false,false,false,false,false,false,false,false,false,false,false,false,false,false,false,false,false],\"datetime\":{\"__ndarray__\":\"AIAF+FHCc0IAgIL4UcJzQgCARgJSwnNCAAD8A1LCc0IAgIcMUsJzQgCA7BBSwnNCAIBdE1LCc0IAAJAVUsJzQgAA7xpSwnNCAICSH1LCc0IAgIYhUsJzQgCAdCRSwnNCAACVKVLCc0IAAPotUsJzQgAAazBSwnNCAIAaM1LCc0IAAKA8UsJzQgAAlD5SwnNCAICiRlLCc0IAAKVQUsJzQgAAClVSwnNCAIAqWlLCc0I=\",\"dtype\":\"float64\",\"order\":\"little\",\"shape\":[22]},\"day\":[10,10,10,10,10,10,10,10,10,10,10,10,10,10,10,10,10,10,10,10,10,10],\"delay\":[-196,-196,-196,-196,-196,-196,-196,-196,-196,-196,-196,-196,-196,-196,0,0,0,0,0,0,0,0],\"hour\":[15,15,15,15,15,15,15,15,15,15,15,15,15,15,15,15,15,15,15,15,15,15],\"index\":[980727,980793,981894,982081,983181,983635,983925,984256,984864,985430,985693,986037,986657,987074,987365,987793,988858,989104,990057,991292,991831,992328],\"journey_id\":[\"00041001\",\"00041001\",\"00041001\",\"00041001\",\"00041001\",\"00041001\",\"00041001\",\"00041001\",\"00041001\",\"00041001\",\"00041001\",\"00041001\",\"00041001\",\"00041001\",\"00041001\",\"00041001\",\"00041001\",\"00041001\",\"00041001\",\"00041001\",\"00041001\",\"00041001\"],\"lat\":{\"__ndarray__\":\"yNPyA1e1SkDI0/IDV7VKQMjT8gNXtUpAyNPyA1e1SkDI0/IDV7VKQMjT8gNXtUpAyNPyA1e1SkDI0/IDV7VKQMjT8gNXtUpAyNPyA1e1SkDI0/IDV7VKQIAnLVxWtUpAqob9nli1SkDuluSAXbVKQO6W5IBdtUpA96i/XmG1SkAbogp/hrVKQBuiCn+GtUpApbxWQne1SkBWSWQfZLVKQFZJZB9ktUpAVklkH2S1SkA=\",\"dtype\":\"float64\",\"order\":\"little\",\"shape\":[22]},\"lat_m\":{\"__ndarray__\":\"BEGRo/nuWkEEQZGj+e5aQQRBkaP57lpBBEGRo/nuWkEEQZGj+e5aQQRBkaP57lpBBEGRo/nuWkEEQZGj+e5aQQRBkaP57lpBBEGRo/nuWkEEQZGj+e5aQRf/fLT47lpBds5P7fvuWkHV9HTiAu9aQdX0dOIC71pBxlcIZQjvWkH2TCZNPe9aQfZMJk0971pBUEVmlifvWkHqcixRDO9aQepyLFEM71pB6nIsUQzvWkE=\",\"dtype\":\"float64\",\"order\":\"little\",\"shape\":[22]},\"line_id\":[4.0,4.0,4.0,4.0,4.0,4.0,4.0,4.0,4.0,4.0,4.0,4.0,4.0,4.0,4.0,4.0,4.0,4.0,4.0,4.0,4.0,4.0],\"lng\":{\"__ndarray__\":\"GO3xQjocGcAY7fFCOhwZwBjt8UI6HBnAGO3xQjocGcAY7fFCOhwZwBjt8UI6HBnAGO3xQjocGcAY7fFCOhwZwBjt8UI6HBnAGO3xQjocGcAY7fFCOhwZwBjt8UI6HBnAeHqlLEMcGcD/zYsTXx0ZwP/NixNfHRnAX1s//WcdGcDP91PjpRsZwM/3U+OlGxnAFmpN844TGcAVONkG7hAZwBU42QbuEBnAFTjZBu4QGcA=\",\"dtype\":\"float64\",\"order\":\"little\",\"shape\":[22]},\"lng_m\":{\"__ndarray__\":\"9VSt5n5TJcH1VK3mflMlwfVUreZ+UyXB9VSt5n5TJcH1VK3mflMlwfVUreZ+UyXB9VSt5n5TJcH1VK3mflMlwfVUreZ+UyXB9VSt5n5TJcH1VK3mflMlwfVUreZ+UyXBndqGeIZTJcFMOL2Wd1QlwUw4vZZ3VCXB9L2WKH9UJcEp4C3jAFMlwSngLeMAUyXBylMaCiJMJcGCaHOG5kklwYJoc4bmSSXBgmhzhuZJJcE=\",\"dtype\":\"float64\",\"order\":\"little\",\"shape\":[22]},\"operator\":[\"HN\",\"HN\",\"HN\",\"HN\",\"HN\",\"HN\",\"HN\",\"HN\",\"HN\",\"HN\",\"HN\",\"HN\",\"HN\",\"HN\",\"HN\",\"HN\",\"HN\",\"HN\",\"HN\",\"HN\",\"HN\",\"HN\"],\"stop\":[false,false,false,false,false,false,false,false,false,false,false,false,false,false,true,true,true,true,true,true,true,true],\"stop_id\":[322.0,322.0,322.0,6182.0,6182.0,6182.0,6182.0,6182.0,6182.0,6182.0,6182.0,6182.0,6182.0,6182.0,332.0,332.0,332.0,332.0,332.0,332.0,332.0,332.0],\"time_frame\":[\"2013-01-10\",\"2013-01-10\",\"2013-01-10\",\"2013-01-10\",\"2013-01-10\",\"2013-01-10\",\"2013-01-10\",\"2013-01-10\",\"2013-01-10\",\"2013-01-10\",\"2013-01-10\",\"2013-01-10\",\"2013-01-10\",\"2013-01-10\",\"2013-01-10\",\"2013-01-10\",\"2013-01-10\",\"2013-01-10\",\"2013-01-10\",\"2013-01-10\",\"2013-01-10\",\"2013-01-10\"],\"timestamp\":[1357832487000000,1357832489000000,1357832529000000,1357832536000000,1357832571000000,1357832589000000,1357832599000000,1357832608000000,1357832630000000,1357832649000000,1357832657000000,1357832669000000,1357832690000000,1357832708000000,1357832718000000,1357832729000000,1357832768000000,1357832776000000,1357832809000000,1357832850000000,1357832868000000,1357832889000000],\"vehicle_id\":[43041,43041,43041,43041,43041,43041,43041,43041,43041,43041,43041,43041,43041,43041,43041,43041,43041,43041,43041,43041,43041,43041],\"vehicle_journey_id\":[4548,4548,4548,4548,4548,4548,4548,4548,4548,4548,4548,4548,4548,4548,4548,4548,4548,4548,4548,4548,4548,4548]},\"selected\":{\"id\":\"1460\"},\"selection_policy\":{\"id\":\"1459\"}},\"id\":\"1419\",\"type\":\"ColumnDataSource\"},{\"attributes\":{\"source\":{\"id\":\"1425\"}},\"id\":\"1429\",\"type\":\"CDSView\"},{\"attributes\":{\"fill_alpha\":{\"value\":0.1},\"fill_color\":{\"value\":\"blue\"},\"line_alpha\":{\"value\":0.1},\"line_color\":{\"value\":\"blue\"},\"x\":{\"value\":-698815.4505411672},\"y\":{\"value\":7060454.555740599}},\"id\":\"1427\",\"type\":\"Circle\"},{\"attributes\":{\"overlay\":{\"id\":\"1408\"}},\"id\":\"1404\",\"type\":\"BoxZoomTool\"},{\"attributes\":{\"data\":{},\"selected\":{\"id\":\"1462\"},\"selection_policy\":{\"id\":\"1461\"}},\"id\":\"1425\",\"type\":\"ColumnDataSource\"},{\"attributes\":{\"data_source\":{\"id\":\"1425\"},\"glyph\":{\"id\":\"1426\"},\"hover_glyph\":null,\"muted_glyph\":null,\"nonselection_glyph\":{\"id\":\"1427\"},\"selection_glyph\":null,\"view\":{\"id\":\"1429\"}},\"id\":\"1428\",\"type\":\"GlyphRenderer\"},{\"attributes\":{\"line_alpha\":0.1,\"x\":{\"field\":\"lng_m\"},\"y\":{\"field\":\"lat_m\"}},\"id\":\"1422\",\"type\":\"Line\"},{\"attributes\":{},\"id\":\"1459\",\"type\":\"UnionRenderers\"},{\"attributes\":{},\"id\":\"1384\",\"type\":\"LinearScale\"},{\"attributes\":{},\"id\":\"1460\",\"type\":\"Selection\"},{\"attributes\":{\"formatter\":{\"id\":\"1389\"},\"ticker\":{\"id\":\"1387\"}},\"id\":\"1386\",\"type\":\"MercatorAxis\"},{\"attributes\":{\"bottom_units\":\"screen\",\"fill_alpha\":0.5,\"fill_color\":\"lightgrey\",\"left_units\":\"screen\",\"level\":\"overlay\",\"line_alpha\":1.0,\"line_color\":\"black\",\"line_dash\":[4,4],\"line_width\":2,\"right_units\":\"screen\",\"top_units\":\"screen\"},\"id\":\"1408\",\"type\":\"BoxAnnotation\"},{\"attributes\":{},\"id\":\"1378\",\"type\":\"DataRange1d\"},{\"attributes\":{\"axis\":{\"id\":\"1394\"},\"dimension\":1,\"ticker\":null},\"id\":\"1401\",\"type\":\"Grid\"},{\"attributes\":{},\"id\":\"1461\",\"type\":\"UnionRenderers\"},{\"attributes\":{},\"id\":\"1462\",\"type\":\"Selection\"},{\"attributes\":{\"dimension\":\"lat\"},\"id\":\"1395\",\"type\":\"MercatorTicker\"},{\"attributes\":{},\"id\":\"1402\",\"type\":\"PanTool\"},{\"attributes\":{\"data_source\":{\"id\":\"1419\"},\"glyph\":{\"id\":\"1421\"},\"hover_glyph\":null,\"muted_glyph\":null,\"nonselection_glyph\":{\"id\":\"1422\"},\"selection_glyph\":null,\"view\":{\"id\":\"1424\"}},\"id\":\"1423\",\"type\":\"GlyphRenderer\"},{\"attributes\":{\"dimension\":\"lat\"},\"id\":\"1397\",\"type\":\"MercatorTickFormatter\"},{\"attributes\":{},\"id\":\"1382\",\"type\":\"LinearScale\"},{\"attributes\":{\"tile_source\":{\"id\":\"1416\"}},\"id\":\"1417\",\"type\":\"TileRenderer\"},{\"attributes\":{},\"id\":\"1380\",\"type\":\"DataRange1d\"},{\"attributes\":{\"formatter\":{\"id\":\"1397\"},\"ticker\":{\"id\":\"1395\"}},\"id\":\"1394\",\"type\":\"MercatorAxis\"},{\"attributes\":{\"attribution\":\"&copy; <a href=\\\"https://www.openstreetmap.org/copyright\\\">OpenStreetMap</a> contributors\",\"url\":\"https://c.tile.openstreetmap.org/{Z}/{X}/{Y}.png\"},\"id\":\"1416\",\"type\":\"WMTSTileSource\"},{\"attributes\":{\"source\":{\"id\":\"1419\"}},\"id\":\"1424\",\"type\":\"CDSView\"},{\"attributes\":{\"text\":\"\"},\"id\":\"1453\",\"type\":\"Title\"},{\"attributes\":{\"axis\":{\"id\":\"1386\"},\"ticker\":null},\"id\":\"1393\",\"type\":\"Grid\"},{\"attributes\":{\"dimension\":\"lon\"},\"id\":\"1389\",\"type\":\"MercatorTickFormatter\"},{\"attributes\":{\"dimension\":\"lon\"},\"id\":\"1387\",\"type\":\"MercatorTicker\"}],\"root_ids\":[\"1377\"]},\"title\":\"Bokeh Application\",\"version\":\"2.2.1\"}};\n",
       "  var render_items = [{\"docid\":\"27d9c7ac-9f28-4b9b-a874-51604a02fad5\",\"root_ids\":[\"1377\"],\"roots\":{\"1377\":\"b56be14c-7702-4240-99af-5689b13d7704\"}}];\n",
       "  root.Bokeh.embed.embed_items_notebook(docs_json, render_items);\n",
       "\n",
       "  }\n",
       "  if (root.Bokeh !== undefined) {\n",
       "    embed_document(root);\n",
       "  } else {\n",
       "    var attempts = 0;\n",
       "    var timer = setInterval(function(root) {\n",
       "      if (root.Bokeh !== undefined) {\n",
       "        clearInterval(timer);\n",
       "        embed_document(root);\n",
       "      } else {\n",
       "        attempts++;\n",
       "        if (attempts > 100) {\n",
       "          clearInterval(timer);\n",
       "          console.log(\"Bokeh: ERROR: Unable to run BokehJS code because BokehJS library is missing\");\n",
       "        }\n",
       "      }\n",
       "    }, 10, root)\n",
       "  }\n",
       "})(window);"
      ],
      "application/vnd.bokehjs_exec.v0+json": ""
     },
     "metadata": {
      "application/vnd.bokehjs_exec.v0+json": {
       "id": "1377"
      }
     },
     "output_type": "display_data"
    }
   ],
   "source": [
    "plot_map(dfs_menos_q_50[0])\n",
    "plot_map(dfs_menos_q_50[1])\n",
    "plot_map(dfs_menos_q_50[10])"
   ]
  },
  {
   "cell_type": "markdown",
   "metadata": {},
   "source": [
    "#### Algumas trajetórias válidas"
   ]
  },
  {
   "cell_type": "code",
   "execution_count": 87,
   "metadata": {
    "scrolled": false
   },
   "outputs": [
    {
     "name": "stderr",
     "output_type": "stream",
     "text": [
      "/home/saci/hd/projetos/trajetorias/its_research/venvTraj/lib/python3.8/site-packages/pandas/core/frame.py:3065: SettingWithCopyWarning: \n",
      "A value is trying to be set on a copy of a slice from a DataFrame.\n",
      "Try using .loc[row_indexer,col_indexer] = value instead\n",
      "\n",
      "See the caveats in the documentation: https://pandas.pydata.org/pandas-docs/stable/user_guide/indexing.html#returning-a-view-versus-a-copy\n",
      "  self[k1] = value[k2]\n"
     ]
    },
    {
     "data": {
      "text/html": [
       "\n",
       "\n",
       "\n",
       "\n",
       "\n",
       "\n",
       "  <div class=\"bk-root\" id=\"029ac887-f497-4655-8da9-50e13cd6c090\" data-root-id=\"1560\"></div>\n"
      ]
     },
     "metadata": {},
     "output_type": "display_data"
    },
    {
     "data": {
      "application/javascript": [
       "(function(root) {\n",
       "  function embed_document(root) {\n",
       "    \n",
       "  var docs_json = {\"f8f1a68a-bed7-4b0a-bee4-5ef11116c624\":{\"roots\":{\"references\":[{\"attributes\":{\"below\":[{\"id\":\"1569\"}],\"center\":[{\"id\":\"1576\"},{\"id\":\"1584\"}],\"left\":[{\"id\":\"1577\"}],\"renderers\":[{\"id\":\"1600\"},{\"id\":\"1606\"},{\"id\":\"1612\"},{\"id\":\"1617\"}],\"title\":{\"id\":\"1653\"},\"toolbar\":{\"id\":\"1592\"},\"x_range\":{\"id\":\"1561\"},\"x_scale\":{\"id\":\"1565\"},\"y_range\":{\"id\":\"1563\"},\"y_scale\":{\"id\":\"1567\"}},\"id\":\"1560\",\"subtype\":\"Figure\",\"type\":\"Plot\"},{\"attributes\":{\"data_source\":{\"id\":\"1614\"},\"glyph\":{\"id\":\"1615\"},\"hover_glyph\":null,\"muted_glyph\":null,\"nonselection_glyph\":{\"id\":\"1616\"},\"selection_glyph\":null,\"view\":{\"id\":\"1618\"}},\"id\":\"1617\",\"type\":\"GlyphRenderer\"},{\"attributes\":{\"fill_color\":{\"value\":\"blue\"},\"line_color\":{\"value\":\"blue\"},\"x\":{\"value\":-693227.2121033448},\"y\":{\"value\":7051462.610886854}},\"id\":\"1615\",\"type\":\"Circle\"},{\"attributes\":{},\"id\":\"1662\",\"type\":\"Selection\"},{\"attributes\":{\"fill_alpha\":{\"value\":0.1},\"fill_color\":{\"value\":\"blue\"},\"line_alpha\":{\"value\":0.1},\"line_color\":{\"value\":\"blue\"},\"x\":{\"value\":-693227.2121033448},\"y\":{\"value\":7051462.610886854}},\"id\":\"1616\",\"type\":\"Circle\"},{\"attributes\":{},\"id\":\"1661\",\"type\":\"UnionRenderers\"},{\"attributes\":{},\"id\":\"1659\",\"type\":\"UnionRenderers\"},{\"attributes\":{\"data\":{},\"selected\":{\"id\":\"1664\"},\"selection_policy\":{\"id\":\"1663\"}},\"id\":\"1614\",\"type\":\"ColumnDataSource\"},{\"attributes\":{},\"id\":\"1563\",\"type\":\"DataRange1d\"},{\"attributes\":{\"source\":{\"id\":\"1602\"}},\"id\":\"1607\",\"type\":\"CDSView\"},{\"attributes\":{},\"id\":\"1589\",\"type\":\"ResetTool\"},{\"attributes\":{\"source\":{\"id\":\"1614\"}},\"id\":\"1618\",\"type\":\"CDSView\"},{\"attributes\":{\"line_alpha\":0.1,\"x\":{\"field\":\"lng_m\"},\"y\":{\"field\":\"lat_m\"}},\"id\":\"1605\",\"type\":\"Line\"},{\"attributes\":{\"bottom_units\":\"screen\",\"fill_alpha\":0.5,\"fill_color\":\"lightgrey\",\"left_units\":\"screen\",\"level\":\"overlay\",\"line_alpha\":1.0,\"line_color\":\"black\",\"line_dash\":[4,4],\"line_width\":2,\"right_units\":\"screen\",\"top_units\":\"screen\"},\"id\":\"1591\",\"type\":\"BoxAnnotation\"},{\"attributes\":{\"overlay\":{\"id\":\"1591\"}},\"id\":\"1587\",\"type\":\"BoxZoomTool\"},{\"attributes\":{\"source\":{\"id\":\"1608\"}},\"id\":\"1613\",\"type\":\"CDSView\"},{\"attributes\":{},\"id\":\"1588\",\"type\":\"SaveTool\"},{\"attributes\":{\"data\":{\"ID\":{\"__ndarray__\":\"CgoKCgoKCgoKCgoKCgoKCgoKCgoKCgoKCgoKCgoKCgoKCgoKCgoKCgoKCgoKCgoKCgoKCgoKCgoKCgoKCgoKCgoKCgoKCgoKCgoKCgoKCgoKCgoKCgoKCgoKCgoKCgoKCgoKCgoKCgoKCgoKCgoKCgoKCgoKCgoKCgoKCgoKCgoKCgoKCgoKCgoKCgoKCgoKCgoKCgoKCgoKCgoKCgoKCgoKCgoKCgoKCgoKCgoKCgoKCgoKCgoKCgoKCgoKCgoKCgoKCgoKCgoKCgoKCgoK\",\"dtype\":\"int8\",\"order\":\"little\",\"shape\":[207]},\"MF_acc\":{\"__ndarray__\":\"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\",\"dtype\":\"float64\",\"order\":\"little\",\"shape\":[207]},\"MF_dist_from_old_point\":{\"__ndarray__\":\"AAAAAAAAAAA/YZ4l+d2OQMUfqBkEiI5AKnRbU2uHjkAOOMyL0oaOQN+qlCVCQNA9AAAAAAAAAAAAAAAAAAAAAAAAAAAAAAAAAAAAAAAAAAAAAAAAAAAAAAAAAAAAAAAAAAAAAAAAAAAAAAAAAAAAAAAAAAAAAAAAAAAAAAAAAAAAAAAAAAAAAE5XEux9/hZAmTIihL6yU0CK46aOKRJgQJIxq1n0fmFA8UjK6kSSYUCyA9dci0BiQMxqcdOzMEpA/qfe2SlAMUBjL3h942A2QIDg3xD9B0JAsQF4METqR0D1WGZErE1FQGyGgNd+IVBAFfxEzaq1VUBon4rl2UlYQLu7lOqn2FRATx99cwlqUEDH3ew/D5ZaQPO8Vorck11ASf+e4Ty6WECi7GXyZc5YQAMS+8crXFhAk8BpGg/tQkCzPwGcGcVIQEMvFKmzDVFAo4QYanzXU0AZV9ROrjNZQFo4oSbH3ldAt7XYEme1WEAEx8IdsPdaQAD9ZY/qiF9AKswh3D/QW0AECLsUcFlbQOEJcrq6l2JA6OauPuBNXUDjTCvjRzVVQJwZ0x66UFFAxqqF0FE9VkAZINWzDi80QHJiXbjeYzRA9Oq500CdRECjYqzeLdtJQFUoGpff/UFADXGh5tQMSkAM9iCuXPVJQG/UlfkFOENA/IEBHCXBQUA5m+M07nZAQLvfiwu1ozNAMwnBZ/6XRkDiC6hAz/FRQAxqaMaNb1NAwJ05pKtjU0CCOo4Bf3hSQB9d8+YFPkdALDfKu6lDQEDVXKAVn9VCQG21ZMUbC0ZA0vlhu0FsSEAgfknZGTtIQJs7RSMSAkJAcZaC+wSiP0CY9aR/N9NLQJrD4pVSXU9A2dULnZBbT0Dha0urFDtSQJ0tcVwGm1JAAnrN2iujUkA1qHn0GBNSQLH0MRTKDFZA1S3tJF1cWECEOrnPFF9SQJ9SEe66gU5AYBLzaK5iUECCKp8+qP1IQAY5qMKQKDxAIsNAd/diOkBpuu1vN0YpQLN/I5m62AFAlN9GfmVON0DIOUuADtw6QDPD228nnERAIsJBwjw8T0D1DcI64dtRQF286Kr3D1BA1ZIjVP/jVUATR+h4TjNVQA49hB+Kg09ARkjkrfMWTUBusdHfxSdUQE0OKJg1NVdAxqpqn0RvXECr2o+4+7thQCJpDz8PtGNAFOAG4LbkXkDMfodh0ehYQOaz+ZWP/lJAGY0ur2NtU0BrBfVO3vNTQPoTwLdMgFRAnHyvE8b8U0DCMoDMIjNXQHg4fnIw0VFALA2cdyiqR0CZ4+xMEMlGQPaNomf9/z5AgbqYk8gNQkBXvmzGc9BBQEYrhBhpRFFAyYPaC6SUUUCQ18iYWuFSQBE//rsfNEhALrrptvgsQUC/HVie8Mq2PyMd6xb5uPk/bk1/Lvm4+T/4tF+m6S7zP1gRyaDjfBpAlvPJO+N8GkAlUsnW4nwaQHA0ynHifBpAAAAAAAAAAAAAAAAAAAAAAEtEhgvinClAQqRXTpVMPkC0VjnKoKJEQGfV1+xk1kdA+z0wJaUjUkC6effpQwlaQCUZnlZpvFhA/fe4nU5IUkCf+y/mNftMQLcBwk+CQFRAo0ubbDolV0DWVX6xl9hZQJetE5ESeF9A5AzFZGuZW0C4/O/KNjtaQHIbQlvIN1pAexbp4tOAW0C+EFeTkI9cQF7qEejqGF5AAMnWlViDWkBwmacjUvVZQKG/RSTtUlRAwz6OzKK+UkDiqs8xOTVRQFlVyw0qAlVAqMVms4/KV0DZZhGYLyRVQBMK1ElA+U1AScKdq/cvS0DCqb/auJpDQLqirXmOL09A+OHhFdUiUUD9Y3/q6XNUQPocMEuJdltAjIjboz/PXEBuIr+LVntUQKH8A8+0L1VA/Cp+c9AaVUDn20gKkJNSQLoRKtJCqk1AdKl7/KlXUUBtv7MOzp1IQJaxX3C2/TZAg9LR0cZ9NkDVLqykhLA8QFcWZf14fkRAvojeyRDoOUB0K4Q7nzoyQFeZuo5/YwBA8KKVYdBE0D0AAAAAAAAAAAAAAAAAAAAAeZTqgd+xG0DH7A4qkdAaQIB7j7qR0BpAhfwMS5LQGkD704+HMUYbQPUlKa2a1eM/vkL60leG4z/TVkniV4bjP1gHN/FXhuM/pomnzXpB6T8AAAAAAAAAAEVoEK1pS8s/RWgQrWlLyz+IFoP6xCXcP6aJp816Qek/\",\"dtype\":\"float64\",\"order\":\"little\",\"shape\":[207]},\"MF_lat\":{\"__ndarray__\":\"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\",\"dtype\":\"float64\",\"order\":\"little\",\"shape\":[207]},\"MF_lng\":{\"__ndarray__\":\"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\",\"dtype\":\"float64\",\"order\":\"little\",\"shape\":[207]},\"MF_vel\":{\"__ndarray__\":\"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\",\"dtype\":\"float64\",\"order\":\"little\",\"shape\":[207]},\"acc\":{\"__ndarray__\":\"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\",\"dtype\":\"float64\",\"order\":\"little\",\"shape\":[207]},\"block_id\":[123015,123015,123015,123015,123015,123015,123015,123015,123015,123015,123015,123015,123015,123015,123015,123015,123015,123015,123015,123015,123015,123015,123015,123015,123015,123015,123015,123015,123015,123015,123015,123015,123015,123015,123015,123015,123015,123015,123015,123015,123015,123015,123015,123015,123015,123015,123015,123015,123015,123015,123015,123015,123015,123015,123015,123015,123015,123015,123015,123015,123015,123015,123015,123015,123015,123015,123015,123015,123015,123015,123015,123015,123015,123015,123015,123015,123015,123015,123015,123015,123015,123015,123015,123015,123015,123015,123015,123015,123015,123015,123015,123015,123015,123015,123015,123015,123015,123015,123015,123015,123015,123015,123015,123015,123015,123015,123015,123015,123015,123015,123015,123015,123015,123015,123015,123015,123015,123015,123015,123015,123015,123015,123015,123015,123015,123015,123015,123015,123015,123015,123015,123015,123015,123015,123015,123015,123015,123015,123015,123015,123015,123015,123015,123015,123015,123015,123015,123015,123015,123015,123015,123015,123015,123015,123015,123015,123015,123015,123015,123015,123015,123015,123015,123015,123015,123015,123015,123015,123015,123015,123015,123015,123015,123015,123015,123015,123015,123015,123015,123015,123015,123015,123015,123015,123015,123015,123015,123015,123015,123015,123015,123015,123015,123015,123015,123015,123015,123015,123015,123015,123015,123015,123015,123015,123015,123015,123015],\"congestion\":[false,false,false,false,false,false,false,false,false,false,false,false,false,false,false,false,false,false,false,false,false,false,false,false,false,false,false,false,false,false,false,false,false,false,false,false,false,false,false,false,false,false,false,false,false,false,false,false,false,false,false,false,false,false,false,false,false,false,false,false,false,false,false,false,false,false,false,false,false,false,false,false,false,false,false,false,false,false,false,false,false,false,false,false,false,false,false,false,false,false,false,false,false,false,false,false,false,false,false,false,false,false,false,false,false,false,false,false,false,false,false,false,false,false,false,false,false,false,false,false,false,false,false,false,false,false,false,false,false,false,false,false,false,false,false,false,true,true,true,true,true,false,false,false,false,false,false,false,false,false,false,false,false,false,false,false,false,false,false,false,false,false,false,false,false,false,false,false,false,false,false,false,false,false,false,false,false,false,false,false,false,false,false,false,false,false,false,false,false,false,false,false,false,false,false,false,false,false,false,false,false,false,false,false,false,false,false],\"datetime\":{\"__ndarray__\":\"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\",\"dtype\":\"float64\",\"order\":\"little\",\"shape\":[207]},\"day\":[10,10,10,10,10,10,10,10,10,10,10,10,10,10,10,10,10,10,10,10,10,10,10,10,10,10,10,10,10,10,10,10,10,10,10,10,10,10,10,10,10,10,10,10,10,10,10,10,10,10,10,10,10,10,10,10,10,10,10,10,10,10,10,10,10,10,10,10,10,10,10,10,10,10,10,10,10,10,10,10,10,10,10,10,10,10,10,10,10,10,10,10,10,10,10,10,10,10,10,10,10,10,10,10,10,10,10,10,10,10,10,10,10,10,10,10,10,10,10,10,10,10,10,10,10,10,10,10,10,10,10,10,10,10,10,10,10,10,10,10,10,10,10,10,10,10,10,10,10,10,10,10,10,10,10,10,10,10,10,10,10,10,10,10,10,10,10,10,10,10,10,10,10,10,10,10,10,10,10,10,10,10,10,10,10,10,10,10,10,10,10,10,10,10,10,10,10,10,10,10,10,10,10,10,10,10,10],\"delay\":[0,0,0,0,0,0,0,0,0,0,0,0,0,0,0,2,22,40,-26,-66,-66,-41,-41,-65,-65,-44,-44,-67,-67,-90,-90,-119,-119,-119,-175,-175,-159,-143,-143,-124,-124,-124,-124,-150,-132,-148,-164,-164,-164,-164,-180,-180,-140,-120,-120,-97,-77,-77,-93,-93,-93,-66,-66,-66,-37,-37,-73,-121,-144,-123,-103,-85,-85,-135,-135,-135,-104,-87,-145,-202,-202,-202,-202,-241,-282,-282,-302,-336,-320,-337,-337,-337,-308,-288,-268,-268,-287,-287,-287,-328,-328,-349,-390,-390,-390,-364,-383,-407,-423,-423,-441,-421,-421,-436,-436,-457,-457,-457,-475,-475,-454,-437,-437,-477,-477,-521,-504,-484,-484,-441,-421,-401,-381,-381,-355,-335,-315,-295,-275,-255,-255,-297,-312,-312,-344,-370,-370,-370,-370,-370,-370,-370,-370,-370,-370,-370,-391,-406,-406,-406,-406,-406,-406,-406,-406,-406,-406,-406,-373,-391,-427,-427,-409,-409,-425,-425,-400,-400,-400,-400,-400,-417,-417,-417,-389,-369,-349,-329,-310,-289,-289,-289,-219,-219,-219,-159,-159,-159,-159,-99,-99,-99,-99,-39,-39,-39,-39],\"dist_from_old_point\":{\"__ndarray__\":\"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\",\"dtype\":\"float64\",\"order\":\"little\",\"shape\":[207]},\"hour\":[16,16,16,16,16,16,16,16,16,16,16,16,16,16,16,17,17,17,17,17,17,17,17,17,17,17,17,17,17,17,17,17,17,17,17,17,17,17,17,17,17,17,17,17,17,17,17,17,17,17,17,17,17,17,17,17,17,17,17,17,17,17,17,17,17,17,17,17,17,17,17,17,17,17,17,17,17,17,17,17,17,17,17,17,17,17,17,17,17,17,17,17,17,17,17,17,17,17,17,17,17,17,17,17,17,17,17,17,17,17,17,17,17,17,17,17,17,17,17,17,17,17,17,17,17,17,17,17,17,17,17,17,17,17,17,17,17,17,17,17,17,17,17,17,17,17,17,17,17,17,17,17,17,17,17,17,17,17,17,17,17,17,17,17,17,17,17,17,17,17,17,17,17,17,17,17,17,17,17,17,17,17,17,17,17,17,17,17,17,17,17,17,17,17,18,18,18,18,18,18,18,18,18,18,18,18,18],\"index\":[1123221,1123897,1124617,1125133,1125951,1126639,1127345,1128215,1128751,1129393,1130251,1130919,1131471,1132306,1132844,1133551,1134418,1135118,1135695,1136512,1137228,1137854,1138698,1139373,1139940,1140652,1141447,1142178,1142740,1143691,1144157,1145055,1145730,1146441,1147229,1147884,1148603,1149454,1149992,1150666,1151485,1152154,1152935,1153758,1154365,1155148,1155838,1156600,1157169,1158037,1158770,1159362,1160165,1160888,1161589,1162425,1163057,1163636,1164515,1165138,1165717,1166609,1167321,1167978,1168853,1169387,1170120,1170953,1171534,1172202,1173117,1173832,1174490,1175354,1175927,1176793,1177352,1178124,1178869,1179601,1180241,1181139,1181790,1182482,1183175,1184014,1184756,1185321,1186289,1186935,1187522,1188292,1189069,1189683,1190504,1191166,1191914,1192743,1193374,1194044,1194824,1195544,1196241,1196923,1197758,1198385,1199225,1199869,1200584,1201360,1202099,1202494,1203434,1204129,1204830,1205715,1206396,1207033,1207833,1208629,1209228,1210008,1210714,1211380,1212113,1212839,1213599,1214257,1214967,1215644,1216425,1217120,1217833,1218480,1219249,1219926,1220783,1221424,1222001,1222827,1223492,1224161,1225018,1225670,1226403,1226993,1227787,1228511,1229140,1230028,1230704,1231434,1232149,1232847,1233638,1234417,1234929,1235755,1236431,1237112,1237937,1238477,1239312,1240037,1240780,1241402,1242188,1242948,1243596,1244332,1245042,1245754,1246532,1247010,1247728,1248392,1249312,1250131,1250536,1251233,1252094,1252729,1253401,1254110,1254917,1255579,1256209,1257137,1257665,1258577,1259372,1260719,1261270,1262121,1262826,1263362,1263534,1264181,1264919,1265587,1265705,1266275,1266915,1267629,1267996,1268350,1269040],\"journey_id\":[\"01231001\",\"01231001\",\"01231001\",\"01231001\",\"01231001\",\"01231001\",\"01231001\",\"01231001\",\"01231001\",\"01231001\",\"01231001\",\"01231001\",\"01231001\",\"01231001\",\"01231001\",\"01231001\",\"01231001\",\"01231001\",\"01231001\",\"01231001\",\"01231001\",\"01231001\",\"01231001\",\"01231001\",\"01231001\",\"01231001\",\"01231001\",\"01231001\",\"01231001\",\"01231001\",\"01231001\",\"01231001\",\"01231001\",\"01231001\",\"01231001\",\"01231001\",\"01231001\",\"01231001\",\"01231001\",\"01231001\",\"01231001\",\"01231001\",\"01231001\",\"01231001\",\"01231001\",\"01231001\",\"01231001\",\"01231001\",\"01231001\",\"01231001\",\"01231001\",\"01231001\",\"01231001\",\"01231001\",\"01231001\",\"01231001\",\"01231001\",\"01231001\",\"01231001\",\"01231001\",\"01231001\",\"01231001\",\"01231001\",\"01231001\",\"01231001\",\"01231001\",\"01231001\",\"01231001\",\"01231001\",\"01231001\",\"01231001\",\"01231001\",\"01231001\",\"01231001\",\"01231001\",\"01231001\",\"01231001\",\"01231001\",\"01231001\",\"01231001\",\"01231001\",\"01231001\",\"01231001\",\"01231001\",\"01231001\",\"01231001\",\"01231001\",\"01231001\",\"01231001\",\"01231001\",\"01231001\",\"01231001\",\"01231001\",\"01231001\",\"01231001\",\"01231001\",\"01231001\",\"01231001\",\"01231001\",\"01231001\",\"01231001\",\"01231001\",\"01231001\",\"01231001\",\"01231001\",\"01231001\",\"01231001\",\"01231001\",\"01231001\",\"01231001\",\"01231001\",\"01231001\",\"01231001\",\"01231001\",\"01231001\",\"01231001\",\"01231001\",\"01231001\",\"01231001\",\"01231001\",\"01231001\",\"01231001\",\"01231001\",\"01231001\",\"01231001\",\"01231001\",\"01231001\",\"01231001\",\"01231001\",\"01231001\",\"01231001\",\"01231001\",\"01231001\",\"01231001\",\"01231001\",\"01231001\",\"01231001\",\"01231001\",\"01231001\",\"01231001\",\"01231001\",\"01231001\",\"01231001\",\"01231001\",\"01231001\",\"01231001\",\"01231001\",\"01231001\",\"01231001\",\"01231001\",\"01231001\",\"01231001\",\"01231001\",\"01231001\",\"01231001\",\"01231001\",\"01231001\",\"01231001\",\"01231001\",\"01231001\",\"01231001\",\"01231001\",\"01231001\",\"01231001\",\"01231001\",\"01231001\",\"01231001\",\"01231001\",\"01231001\",\"01231001\",\"01231001\",\"01231001\",\"01231001\",\"01231001\",\"01231001\",\"01231001\",\"01231001\",\"01231001\",\"01231001\",\"01231001\",\"01231001\",\"01231001\",\"01231001\",\"01231001\",\"01231001\",\"01231001\",\"01231001\",\"01231001\",\"01231001\",\"01231001\",\"01231001\",\"01231001\",\"01231001\",\"01231001\",\"01231001\",\"01231001\",\"01231001\",\"01231001\",\"01231001\",\"01231001\",\"01231001\",\"01231001\",\"01231001\",\"01231001\",\"01231001\",\"01231001\",\"01231001\"],\"lat\":{\"__ndarray__\":\"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\",\"dtype\":\"float64\",\"order\":\"little\",\"shape\":[207]},\"lat_m\":{\"__ndarray__\":\"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\",\"dtype\":\"float64\",\"order\":\"little\",\"shape\":[207]},\"line_id\":[\"123.0\",\"123.0\",\"123.0\",\"123.0\",\"123.0\",\"123.0\",\"123.0\",\"123.0\",\"123.0\",\"123.0\",\"123.0\",\"123.0\",\"123.0\",\"123.0\",\"123.0\",\"123.0\",\"123.0\",\"123.0\",\"123.0\",\"123.0\",\"123.0\",\"123.0\",\"123.0\",\"123.0\",\"123.0\",\"123.0\",\"123.0\",\"123.0\",\"123.0\",\"123.0\",\"123.0\",\"123.0\",\"123.0\",\"123.0\",\"123.0\",\"123.0\",\"123.0\",\"123.0\",\"123.0\",\"123.0\",\"123.0\",\"123.0\",\"123.0\",\"123.0\",\"123.0\",\"123.0\",\"123.0\",\"123.0\",\"123.0\",\"123.0\",\"123.0\",\"123.0\",\"123.0\",\"123.0\",\"123.0\",\"123.0\",\"123.0\",\"123.0\",\"123.0\",\"123.0\",\"123.0\",\"123.0\",\"123.0\",\"123.0\",\"123.0\",\"123.0\",\"123.0\",\"123.0\",\"123.0\",\"123.0\",\"123.0\",\"123.0\",\"123.0\",\"123.0\",\"123.0\",\"123.0\",\"123.0\",\"123.0\",\"123.0\",\"123.0\",\"123.0\",\"123.0\",\"123.0\",\"123.0\",\"123.0\",\"123.0\",\"123.0\",\"123.0\",\"123.0\",\"123.0\",\"123.0\",\"123.0\",\"123.0\",\"123.0\",\"123.0\",\"123.0\",\"123.0\",\"123.0\",\"123.0\",\"123.0\",\"123.0\",\"123.0\",\"123.0\",\"123.0\",\"123.0\",\"123.0\",\"123.0\",\"123.0\",\"123.0\",\"123.0\",\"123.0\",\"123.0\",\"123.0\",\"123.0\",\"123.0\",\"123.0\",\"123.0\",\"123.0\",\"123.0\",\"123.0\",\"123.0\",\"123.0\",\"123.0\",\"123.0\",\"123.0\",\"123.0\",\"123.0\",\"123.0\",\"123.0\",\"123.0\",\"123.0\",\"123.0\",\"123.0\",\"123.0\",\"123.0\",\"123.0\",\"123.0\",\"123.0\",\"123.0\",\"123.0\",\"123.0\",\"123.0\",\"123.0\",\"123.0\",\"123.0\",\"123.0\",\"123.0\",\"123.0\",\"123.0\",\"123.0\",\"123.0\",\"123.0\",\"123.0\",\"123.0\",\"123.0\",\"123.0\",\"123.0\",\"123.0\",\"123.0\",\"123.0\",\"123.0\",\"123.0\",\"123.0\",\"123.0\",\"123.0\",\"123.0\",\"123.0\",\"123.0\",\"123.0\",\"123.0\",\"123.0\",\"123.0\",\"123.0\",\"123.0\",\"123.0\",\"123.0\",\"123.0\",\"123.0\",\"123.0\",\"123.0\",\"123.0\",\"123.0\",\"123.0\",\"123.0\",\"123.0\",\"123.0\",\"123.0\",\"123.0\",\"123.0\",\"123.0\",\"123.0\",\"123.0\",\"123.0\",\"123.0\",\"123.0\",\"123.0\",\"123.0\",\"123.0\",\"123.0\",\"123.0\",\"123.0\",\"123.0\",\"123.0\",\"123.0\",\"123.0\",\"123.0\",\"123.0\"],\"lng\":{\"__ndarray__\":\"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\",\"dtype\":\"float64\",\"order\":\"little\",\"shape\":[207]},\"lng_m\":{\"__ndarray__\":\"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\",\"dtype\":\"float64\",\"order\":\"little\",\"shape\":[207]},\"operator\":[\"SL\",\"SL\",\"SL\",\"SL\",\"SL\",\"SL\",\"SL\",\"SL\",\"SL\",\"SL\",\"SL\",\"SL\",\"SL\",\"SL\",\"SL\",\"SL\",\"SL\",\"SL\",\"SL\",\"SL\",\"SL\",\"SL\",\"SL\",\"SL\",\"SL\",\"SL\",\"SL\",\"SL\",\"SL\",\"SL\",\"SL\",\"SL\",\"SL\",\"SL\",\"SL\",\"SL\",\"SL\",\"SL\",\"SL\",\"SL\",\"SL\",\"SL\",\"SL\",\"SL\",\"SL\",\"SL\",\"SL\",\"SL\",\"SL\",\"SL\",\"SL\",\"SL\",\"SL\",\"SL\",\"SL\",\"SL\",\"SL\",\"SL\",\"SL\",\"SL\",\"SL\",\"SL\",\"SL\",\"SL\",\"SL\",\"SL\",\"SL\",\"SL\",\"SL\",\"SL\",\"SL\",\"SL\",\"SL\",\"SL\",\"SL\",\"SL\",\"SL\",\"SL\",\"SL\",\"SL\",\"SL\",\"SL\",\"SL\",\"SL\",\"SL\",\"SL\",\"SL\",\"SL\",\"SL\",\"SL\",\"SL\",\"SL\",\"SL\",\"SL\",\"SL\",\"SL\",\"SL\",\"SL\",\"SL\",\"SL\",\"SL\",\"SL\",\"SL\",\"SL\",\"SL\",\"SL\",\"SL\",\"SL\",\"SL\",\"SL\",\"SL\",\"SL\",\"SL\",\"SL\",\"SL\",\"SL\",\"SL\",\"SL\",\"SL\",\"SL\",\"SL\",\"SL\",\"SL\",\"SL\",\"SL\",\"SL\",\"SL\",\"SL\",\"SL\",\"SL\",\"SL\",\"SL\",\"SL\",\"SL\",\"SL\",\"SL\",\"SL\",\"SL\",\"SL\",\"SL\",\"SL\",\"SL\",\"SL\",\"SL\",\"SL\",\"SL\",\"SL\",\"SL\",\"SL\",\"SL\",\"SL\",\"SL\",\"SL\",\"SL\",\"SL\",\"SL\",\"SL\",\"SL\",\"SL\",\"SL\",\"SL\",\"SL\",\"SL\",\"SL\",\"SL\",\"SL\",\"SL\",\"SL\",\"SL\",\"SL\",\"SL\",\"SL\",\"SL\",\"SL\",\"SL\",\"SL\",\"SL\",\"SL\",\"SL\",\"SL\",\"SL\",\"SL\",\"SL\",\"SL\",\"SL\",\"SL\",\"SL\",\"SL\",\"SL\",\"SL\",\"SL\",\"SL\",\"SL\",\"SL\",\"SL\",\"SL\",\"SL\",\"SL\",\"SL\",\"SL\",\"SL\",\"SL\",\"SL\",\"SL\",\"SL\",\"SL\",\"SL\"],\"outlier\":[1,1,1,1,1,1,1,1,1,1,1,1,1,1,1,1,1,1,-1,-1,1,1,1,1,1,1,1,1,1,1,1,1,1,1,-1,1,1,1,1,1,1,1,1,1,-1,1,-1,1,1,1,-1,1,1,1,1,1,1,1,1,1,1,1,1,1,1,1,1,1,1,1,1,1,1,1,1,1,1,-1,1,1,1,1,1,1,1,1,1,1,-1,1,1,1,1,1,1,-1,1,1,1,1,1,1,1,1,1,1,1,-1,1,1,1,1,1,1,-1,1,-1,1,1,1,1,-1,1,1,1,1,-1,1,1,1,1,1,1,1,1,1,1,1,1,1,1,1,1,1,1,1,1,1,1,1,1,1,1,1,1,1,-1,1,1,1,1,1,1,1,1,1,1,-1,-1,1,-1,1,1,1,1,1,1,1,1,1,1,1,1,1,-1,1,1,1,1,1,1,1,1,1,1,1,-1,1,1,1,1,1,1,1,1,1,1],\"outlier2\":[1,1,1,1,1,1,1,1,1,1,1,1,1,1,1,1,1,1,1,1,1,1,1,1,1,1,1,1,1,1,1,1,1,1,1,1,1,1,1,1,1,1,1,1,1,-1,1,1,1,1,1,1,1,-1,1,1,1,1,1,1,1,1,1,1,1,1,1,1,1,1,1,1,1,1,1,-1,-1,1,1,1,1,1,1,1,-1,1,1,1,1,1,-1,1,1,1,1,1,1,1,1,1,1,1,1,1,1,1,1,1,1,1,1,-1,1,-1,1,1,1,1,1,1,1,1,1,1,-1,1,1,1,1,1,1,1,1,1,1,1,1,1,1,1,1,1,1,1,-1,1,1,1,1,1,1,1,1,1,1,1,1,1,1,1,1,1,1,1,1,1,1,1,1,1,1,1,1,1,1,1,1,1,1,1,-1,1,1,1,1,1,1,1,1,1,1,1,-1,1,1,1,1,-1,1,1,1,1,1,1,1,1,1],\"outlier2_norm\":[1,1,1,1,1,1,1,1,1,1,1,1,1,1,1,1,1,1,-1,1,1,1,-1,1,1,1,1,1,1,1,1,1,-1,1,1,1,1,1,1,1,1,1,1,1,-1,1,1,1,1,1,-1,1,1,-1,1,1,1,1,1,-1,1,1,1,1,1,1,1,1,-1,1,1,1,1,1,1,-1,1,-1,-1,1,1,1,1,1,1,1,1,1,-1,1,1,1,1,1,1,1,1,1,-1,1,1,1,1,1,1,1,1,1,1,1,1,-1,1,1,-1,1,1,1,1,-1,1,1,1,1,1,1,1,1,1,1,1,1,1,1,1,1,1,1,1,1,1,1,1,1,1,1,1,1,1,1,1,1,1,1,1,1,1,1,1,1,1,1,1,1,1,1,1,1,1,1,1,1,1,1,1,1,1,-1,1,1,-1,1,1,1,1,1,1,1,1,1,1,1,1,1,1,1,1,-1,1,1,1,1,1,1,1,1,1],\"outlier_0\":[-1,1,1,1,1,1,1,1,1,1,1,1,1,1,1,1,1,1,-1,1,1,1,1,1,1,1,1,1,1,1,1,1,1,1,-1,1,1,1,1,1,1,1,1,1,1,1,1,1,1,1,-1,1,1,1,1,1,1,1,1,1,1,1,1,1,1,1,1,1,1,1,1,1,1,1,1,1,1,1,1,1,1,1,1,1,1,1,1,1,1,1,1,1,1,1,1,1,1,1,1,1,1,1,1,1,1,1,1,1,1,1,1,1,1,1,1,1,1,1,1,1,1,1,1,1,1,1,1,1,1,1,1,1,1,1,1,1,1,1,1,1,1,1,1,1,1,1,1,1,1,1,1,1,1,1,1,1,1,1,1,1,1,1,1,1,1,1,1,1,1,1,1,1,1,1,1,1,1,1,1,1,1,1,1,1,1,1,1,1,1,1,1,-1,1,1,1,1,-1,1,1,1,-1,1,1,1,-1,1,1],\"outlier_MF\":[1,-1,-1,-1,-1,1,1,1,1,1,1,1,1,1,1,1,1,1,1,1,1,1,1,1,1,1,1,1,1,1,1,1,1,1,1,1,1,1,1,1,1,1,1,1,1,1,1,1,1,1,1,1,1,1,1,1,1,1,1,1,1,1,1,1,1,1,1,1,1,1,1,1,1,1,1,1,1,1,1,1,1,1,1,1,1,1,1,1,1,1,1,1,1,1,1,1,1,1,1,1,1,1,1,1,1,1,1,1,1,1,1,1,1,1,1,1,1,1,1,1,1,1,1,1,1,1,1,1,1,1,1,1,1,1,1,1,1,1,1,1,1,1,1,1,1,1,1,1,1,1,1,1,1,1,1,1,1,1,1,1,1,1,1,1,1,1,1,1,1,1,1,1,1,1,1,1,1,1,1,1,1,1,1,1,1,1,1,1,1,1,1,1,1,1,1,1,-1,1,1,1,1,1,1,1,1,1,1],\"outlier_norm\":[1,1,1,1,1,1,1,1,1,1,1,1,1,1,1,1,1,1,-1,-1,1,1,1,1,1,1,1,1,1,1,1,1,1,1,-1,1,1,1,1,1,1,1,1,1,-1,1,-1,1,1,1,-1,1,1,1,1,1,1,1,1,1,1,1,1,1,1,1,1,1,1,1,1,1,1,1,1,1,1,-1,1,1,1,1,1,1,1,1,1,1,-1,1,1,1,1,1,1,-1,1,1,1,1,1,1,1,1,1,1,1,-1,1,1,1,1,1,1,-1,1,-1,1,1,1,1,-1,1,1,1,1,-1,1,1,1,1,1,1,1,1,1,1,1,1,1,1,1,1,1,1,1,1,1,1,1,1,1,1,1,1,1,-1,1,1,1,1,1,1,1,1,1,1,-1,-1,1,-1,1,1,1,1,1,1,1,1,1,1,1,1,1,-1,1,1,1,1,1,1,1,1,1,1,1,-1,1,1,1,1,1,1,1,1,1,1],\"stop\":[true,true,true,true,true,true,true,true,true,true,true,true,true,true,true,true,true,false,false,false,true,false,false,false,true,false,false,false,false,false,false,false,false,false,true,false,false,false,false,false,false,true,false,false,true,false,false,false,true,true,false,false,false,false,true,true,false,false,false,false,false,false,false,false,true,false,false,false,false,false,false,false,false,false,true,false,false,false,false,false,true,true,false,false,false,false,false,false,false,false,false,false,false,false,false,false,false,false,false,false,true,false,false,true,true,false,false,false,false,false,false,false,false,false,false,true,false,false,false,false,false,false,false,true,false,false,false,false,false,true,true,true,true,false,false,false,false,false,false,false,false,true,false,false,false,false,true,false,false,false,true,false,false,false,false,false,false,false,false,false,false,false,false,false,false,true,false,false,false,false,false,true,false,false,false,false,false,false,false,false,false,false,false,false,false,false,false,false,false,false,false,false,true,true,true,true,true,true,true,true,true,true,true,true,true,true,true],\"stop_id\":[1491.0,1491.0,1491.0,1491.0,1491.0,1491.0,1491.0,1491.0,1491.0,1491.0,1491.0,1491.0,1491.0,1491.0,1491.0,1491.0,1491.0,1491.0,1491.0,1493.0,1482.0,1482.0,1482.0,1482.0,1494.0,1494.0,1494.0,1494.0,1494.0,1495.0,1495.0,1515.0,1515.0,1515.0,1485.0,1485.0,1485.0,1485.0,1485.0,4518.0,4518.0,509.0,509.0,509.0,510.0,510.0,511.0,511.0,512.0,512.0,513.0,513.0,513.0,513.0,4513.0,4513.0,4513.0,4513.0,4513.0,4513.0,4513.0,4513.0,4513.0,4513.0,272.0,272.0,272.0,272.0,272.0,272.0,272.0,272.0,272.0,272.0,335.0,335.0,335.0,335.0,335.0,335.0,1278.0,1278.0,1278.0,1278.0,1934.0,1934.0,1934.0,1935.0,1935.0,1935.0,1935.0,1935.0,1935.0,1935.0,1935.0,1935.0,1935.0,1937.0,1937.0,1937.0,1938.0,1938.0,1938.0,1939.0,1939.0,1939.0,1939.0,1940.0,1940.0,1941.0,1941.0,1941.0,1941.0,1941.0,1941.0,4516.0,4516.0,4516.0,4516.0,4516.0,4516.0,4516.0,4516.0,1369.0,1369.0,1369.0,1370.0,1370.0,1370.0,1370.0,1370.0,1370.0,1370.0,1370.0,1370.0,1370.0,1370.0,1370.0,1370.0,1370.0,1370.0,1371.0,1371.0,1454.0,1454.0,1455.0,1453.0,1453.0,1456.0,1456.0,1457.0,1457.0,1457.0,1458.0,1458.0,1459.0,1460.0,1460.0,1460.0,1462.0,1462.0,5149.0,5149.0,1419.0,1419.0,6094.0,6094.0,6094.0,6094.0,6094.0,6094.0,2102.0,2102.0,2102.0,2102.0,2103.0,2103.0,2103.0,2103.0,7154.0,7154.0,7153.0,7153.0,7153.0,7153.0,7153.0,7153.0,7153.0,7153.0,7153.0,7153.0,7153.0,6056.0,6056.0,6056.0,6056.0,6056.0,6056.0,6056.0,6056.0,6056.0,6056.0,6056.0,6056.0,6056.0,6056.0,6056.0],\"time_frame\":[\"2013-01-10\",\"2013-01-10\",\"2013-01-10\",\"2013-01-10\",\"2013-01-10\",\"2013-01-10\",\"2013-01-10\",\"2013-01-10\",\"2013-01-10\",\"2013-01-10\",\"2013-01-10\",\"2013-01-10\",\"2013-01-10\",\"2013-01-10\",\"2013-01-10\",\"2013-01-10\",\"2013-01-10\",\"2013-01-10\",\"2013-01-10\",\"2013-01-10\",\"2013-01-10\",\"2013-01-10\",\"2013-01-10\",\"2013-01-10\",\"2013-01-10\",\"2013-01-10\",\"2013-01-10\",\"2013-01-10\",\"2013-01-10\",\"2013-01-10\",\"2013-01-10\",\"2013-01-10\",\"2013-01-10\",\"2013-01-10\",\"2013-01-10\",\"2013-01-10\",\"2013-01-10\",\"2013-01-10\",\"2013-01-10\",\"2013-01-10\",\"2013-01-10\",\"2013-01-10\",\"2013-01-10\",\"2013-01-10\",\"2013-01-10\",\"2013-01-10\",\"2013-01-10\",\"2013-01-10\",\"2013-01-10\",\"2013-01-10\",\"2013-01-10\",\"2013-01-10\",\"2013-01-10\",\"2013-01-10\",\"2013-01-10\",\"2013-01-10\",\"2013-01-10\",\"2013-01-10\",\"2013-01-10\",\"2013-01-10\",\"2013-01-10\",\"2013-01-10\",\"2013-01-10\",\"2013-01-10\",\"2013-01-10\",\"2013-01-10\",\"2013-01-10\",\"2013-01-10\",\"2013-01-10\",\"2013-01-10\",\"2013-01-10\",\"2013-01-10\",\"2013-01-10\",\"2013-01-10\",\"2013-01-10\",\"2013-01-10\",\"2013-01-10\",\"2013-01-10\",\"2013-01-10\",\"2013-01-10\",\"2013-01-10\",\"2013-01-10\",\"2013-01-10\",\"2013-01-10\",\"2013-01-10\",\"2013-01-10\",\"2013-01-10\",\"2013-01-10\",\"2013-01-10\",\"2013-01-10\",\"2013-01-10\",\"2013-01-10\",\"2013-01-10\",\"2013-01-10\",\"2013-01-10\",\"2013-01-10\",\"2013-01-10\",\"2013-01-10\",\"2013-01-10\",\"2013-01-10\",\"2013-01-10\",\"2013-01-10\",\"2013-01-10\",\"2013-01-10\",\"2013-01-10\",\"2013-01-10\",\"2013-01-10\",\"2013-01-10\",\"2013-01-10\",\"2013-01-10\",\"2013-01-10\",\"2013-01-10\",\"2013-01-10\",\"2013-01-10\",\"2013-01-10\",\"2013-01-10\",\"2013-01-10\",\"2013-01-10\",\"2013-01-10\",\"2013-01-10\",\"2013-01-10\",\"2013-01-10\",\"2013-01-10\",\"2013-01-10\",\"2013-01-10\",\"2013-01-10\",\"2013-01-10\",\"2013-01-10\",\"2013-01-10\",\"2013-01-10\",\"2013-01-10\",\"2013-01-10\",\"2013-01-10\",\"2013-01-10\",\"2013-01-10\",\"2013-01-10\",\"2013-01-10\",\"2013-01-10\",\"2013-01-10\",\"2013-01-10\",\"2013-01-10\",\"2013-01-10\",\"2013-01-10\",\"2013-01-10\",\"2013-01-10\",\"2013-01-10\",\"2013-01-10\",\"2013-01-10\",\"2013-01-10\",\"2013-01-10\",\"2013-01-10\",\"2013-01-10\",\"2013-01-10\",\"2013-01-10\",\"2013-01-10\",\"2013-01-10\",\"2013-01-10\",\"2013-01-10\",\"2013-01-10\",\"2013-01-10\",\"2013-01-10\",\"2013-01-10\",\"2013-01-10\",\"2013-01-10\",\"2013-01-10\",\"2013-01-10\",\"2013-01-10\",\"2013-01-10\",\"2013-01-10\",\"2013-01-10\",\"2013-01-10\",\"2013-01-10\",\"2013-01-10\",\"2013-01-10\",\"2013-01-10\",\"2013-01-10\",\"2013-01-10\",\"2013-01-10\",\"2013-01-10\",\"2013-01-10\",\"2013-01-10\",\"2013-01-10\",\"2013-01-10\",\"2013-01-10\",\"2013-01-10\",\"2013-01-10\",\"2013-01-10\",\"2013-01-10\",\"2013-01-10\",\"2013-01-10\",\"2013-01-10\",\"2013-01-10\",\"2013-01-10\",\"2013-01-10\",\"2013-01-10\",\"2013-01-10\",\"2013-01-10\",\"2013-01-10\",\"2013-01-10\",\"2013-01-10\",\"2013-01-10\",\"2013-01-10\",\"2013-01-10\",\"2013-01-10\",\"2013-01-10\",\"2013-01-10\",\"2013-01-10\"],\"time_from_old_point\":[0,18,21,18,21,20,21,20,19,20,21,20,19,20,19,20,21,21,18,21,20,19,22,19,20,21,19,21,18,21,21,19,23,18,19,20,21,21,20,18,19,21,20,21,18,23,18,21,18,21,22,21,17,20,21,20,21,18,21,19,20,21,22,17,21,18,21,20,19,20,21,21,20,21,18,23,17,20,21,18,20,23,19,20,19,20,21,18,23,18,23,17,20,19,20,21,20,21,19,20,20,21,20,21,20,19,20,19,20,21,20,18,21,23,17,21,20,19,20,23,18,19,20,21,18,21,22,17,22,19,20,21,20,21,18,20,21,20,21,19,18,21,21,18,23,19,19,20,21,20,21,18,21,20,20,21,19,20,18,21,21,20,21,19,20,19,20,21,20,19,21,20,19,20,21,19,20,22,18,20,21,20,20,21,20,19,19,21,19,21,19,41,17,23,19,17,2,20,21,18,2,20,19,18,8,17,17],\"timestamp\":[1357836906000000,1357836924000000,1357836945000000,1357836963000000,1357836984000000,1357837004000000,1357837025000000,1357837045000000,1357837064000000,1357837084000000,1357837105000000,1357837125000000,1357837144000000,1357837164000000,1357837183000000,1357837203000000,1357837224000000,1357837245000000,1357837263000000,1357837284000000,1357837304000000,1357837323000000,1357837345000000,1357837364000000,1357837384000000,1357837405000000,1357837424000000,1357837445000000,1357837463000000,1357837484000000,1357837505000000,1357837524000000,1357837547000000,1357837565000000,1357837584000000,1357837604000000,1357837625000000,1357837646000000,1357837666000000,1357837684000000,1357837703000000,1357837724000000,1357837744000000,1357837765000000,1357837783000000,1357837806000000,1357837824000000,1357837845000000,1357837863000000,1357837884000000,1357837906000000,1357837927000000,1357837944000000,1357837964000000,1357837985000000,1357838005000000,1357838026000000,1357838044000000,1357838065000000,1357838084000000,1357838104000000,1357838125000000,1357838147000000,1357838164000000,1357838185000000,1357838203000000,1357838224000000,1357838244000000,1357838263000000,1357838283000000,1357838304000000,1357838325000000,1357838345000000,1357838366000000,1357838384000000,1357838407000000,1357838424000000,1357838444000000,1357838465000000,1357838483000000,1357838503000000,1357838526000000,1357838545000000,1357838565000000,1357838584000000,1357838604000000,1357838625000000,1357838643000000,1357838666000000,1357838684000000,1357838707000000,1357838724000000,1357838744000000,1357838763000000,1357838783000000,1357838804000000,1357838824000000,1357838845000000,1357838864000000,1357838884000000,1357838904000000,1357838925000000,1357838945000000,1357838966000000,1357838986000000,1357839005000000,1357839025000000,1357839044000000,1357839064000000,1357839085000000,1357839105000000,1357839123000000,1357839144000000,1357839167000000,1357839184000000,1357839205000000,1357839225000000,1357839244000000,1357839264000000,1357839287000000,1357839305000000,1357839324000000,1357839344000000,1357839365000000,1357839383000000,1357839404000000,1357839426000000,1357839443000000,1357839465000000,1357839484000000,1357839504000000,1357839525000000,1357839545000000,1357839566000000,1357839584000000,1357839604000000,1357839625000000,1357839645000000,1357839666000000,1357839685000000,1357839703000000,1357839724000000,1357839745000000,1357839763000000,1357839786000000,1357839805000000,1357839824000000,1357839844000000,1357839865000000,1357839885000000,1357839906000000,1357839924000000,1357839945000000,1357839965000000,1357839985000000,1357840006000000,1357840025000000,1357840045000000,1357840063000000,1357840084000000,1357840105000000,1357840125000000,1357840146000000,1357840165000000,1357840185000000,1357840204000000,1357840224000000,1357840245000000,1357840265000000,1357840284000000,1357840305000000,1357840325000000,1357840344000000,1357840364000000,1357840385000000,1357840404000000,1357840424000000,1357840446000000,1357840464000000,1357840484000000,1357840505000000,1357840525000000,1357840545000000,1357840566000000,1357840586000000,1357840605000000,1357840624000000,1357840645000000,1357840664000000,1357840685000000,1357840704000000,1357840745000000,1357840762000000,1357840785000000,1357840804000000,1357840821000000,1357840823000000,1357840843000000,1357840864000000,1357840882000000,1357840884000000,1357840904000000,1357840923000000,1357840941000000,1357840949000000,1357840966000000,1357840983000000],\"vehicle_id\":[\"40035\",\"40035\",\"40035\",\"40035\",\"40035\",\"40035\",\"40035\",\"40035\",\"40035\",\"40035\",\"40035\",\"40035\",\"40035\",\"40035\",\"40035\",\"40035\",\"40035\",\"40035\",\"40035\",\"40035\",\"40035\",\"40035\",\"40035\",\"40035\",\"40035\",\"40035\",\"40035\",\"40035\",\"40035\",\"40035\",\"40035\",\"40035\",\"40035\",\"40035\",\"40035\",\"40035\",\"40035\",\"40035\",\"40035\",\"40035\",\"40035\",\"40035\",\"40035\",\"40035\",\"40035\",\"40035\",\"40035\",\"40035\",\"40035\",\"40035\",\"40035\",\"40035\",\"40035\",\"40035\",\"40035\",\"40035\",\"40035\",\"40035\",\"40035\",\"40035\",\"40035\",\"40035\",\"40035\",\"40035\",\"40035\",\"40035\",\"40035\",\"40035\",\"40035\",\"40035\",\"40035\",\"40035\",\"40035\",\"40035\",\"40035\",\"40035\",\"40035\",\"40035\",\"40035\",\"40035\",\"40035\",\"40035\",\"40035\",\"40035\",\"40035\",\"40035\",\"40035\",\"40035\",\"40035\",\"40035\",\"40035\",\"40035\",\"40035\",\"40035\",\"40035\",\"40035\",\"40035\",\"40035\",\"40035\",\"40035\",\"40035\",\"40035\",\"40035\",\"40035\",\"40035\",\"40035\",\"40035\",\"40035\",\"40035\",\"40035\",\"40035\",\"40035\",\"40035\",\"40035\",\"40035\",\"40035\",\"40035\",\"40035\",\"40035\",\"40035\",\"40035\",\"40035\",\"40035\",\"40035\",\"40035\",\"40035\",\"40035\",\"40035\",\"40035\",\"40035\",\"40035\",\"40035\",\"40035\",\"40035\",\"40035\",\"40035\",\"40035\",\"40035\",\"40035\",\"40035\",\"40035\",\"40035\",\"40035\",\"40035\",\"40035\",\"40035\",\"40035\",\"40035\",\"40035\",\"40035\",\"40035\",\"40035\",\"40035\",\"40035\",\"40035\",\"40035\",\"40035\",\"40035\",\"40035\",\"40035\",\"40035\",\"40035\",\"40035\",\"40035\",\"40035\",\"40035\",\"40035\",\"40035\",\"40035\",\"40035\",\"40035\",\"40035\",\"40035\",\"40035\",\"40035\",\"40035\",\"40035\",\"40035\",\"40035\",\"40035\",\"40035\",\"40035\",\"40035\",\"40035\",\"40035\",\"40035\",\"40035\",\"40035\",\"40035\",\"40035\",\"40035\",\"40035\",\"40035\",\"40035\",\"40035\",\"40035\",\"40035\",\"40035\",\"40035\",\"40035\",\"40035\",\"40035\",\"40035\",\"40035\",\"40035\",\"40035\",\"40035\"],\"vehicle_journey_id\":[\"4440\",\"4440\",\"4440\",\"4440\",\"4440\",\"4440\",\"4440\",\"4440\",\"4440\",\"4440\",\"4440\",\"4440\",\"4440\",\"4440\",\"4440\",\"4440\",\"4440\",\"4440\",\"4440\",\"4440\",\"4440\",\"4440\",\"4440\",\"4440\",\"4440\",\"4440\",\"4440\",\"4440\",\"4440\",\"4440\",\"4440\",\"4440\",\"4440\",\"4440\",\"4440\",\"4440\",\"4440\",\"4440\",\"4440\",\"4440\",\"4440\",\"4440\",\"4440\",\"4440\",\"4440\",\"4440\",\"4440\",\"4440\",\"4440\",\"4440\",\"4440\",\"4440\",\"4440\",\"4440\",\"4440\",\"4440\",\"4440\",\"4440\",\"4440\",\"4440\",\"4440\",\"4440\",\"4440\",\"4440\",\"4440\",\"4440\",\"4440\",\"4440\",\"4440\",\"4440\",\"4440\",\"4440\",\"4440\",\"4440\",\"4440\",\"4440\",\"4440\",\"4440\",\"4440\",\"4440\",\"4440\",\"4440\",\"4440\",\"4440\",\"4440\",\"4440\",\"4440\",\"4440\",\"4440\",\"4440\",\"4440\",\"4440\",\"4440\",\"4440\",\"4440\",\"4440\",\"4440\",\"4440\",\"4440\",\"4440\",\"4440\",\"4440\",\"4440\",\"4440\",\"4440\",\"4440\",\"4440\",\"4440\",\"4440\",\"4440\",\"4440\",\"4440\",\"4440\",\"4440\",\"4440\",\"4440\",\"4440\",\"4440\",\"4440\",\"4440\",\"4440\",\"4440\",\"4440\",\"4440\",\"4440\",\"4440\",\"4440\",\"4440\",\"4440\",\"4440\",\"4440\",\"4440\",\"4440\",\"4440\",\"4440\",\"4440\",\"4440\",\"4440\",\"4440\",\"4440\",\"4440\",\"4440\",\"4440\",\"4440\",\"4440\",\"4440\",\"4440\",\"4440\",\"4440\",\"4440\",\"4440\",\"4440\",\"4440\",\"4440\",\"4440\",\"4440\",\"4440\",\"4440\",\"4440\",\"4440\",\"4440\",\"4440\",\"4440\",\"4440\",\"4440\",\"4440\",\"4440\",\"4440\",\"4440\",\"4440\",\"4440\",\"4440\",\"4440\",\"4440\",\"4440\",\"4440\",\"4440\",\"4440\",\"4440\",\"4440\",\"4440\",\"4440\",\"4440\",\"4440\",\"4440\",\"4440\",\"4440\",\"4440\",\"4440\",\"4440\",\"4440\",\"4440\",\"4440\",\"4440\",\"4440\",\"4440\",\"4440\",\"4440\",\"4440\",\"4440\",\"4440\",\"4440\",\"4440\",\"4440\",\"4440\",\"4440\",\"4440\"],\"velocity\":{\"__ndarray__\":\"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\",\"dtype\":\"float64\",\"order\":\"little\",\"shape\":[207]}},\"selected\":{\"id\":\"1660\"},\"selection_policy\":{\"id\":\"1659\"}},\"id\":\"1602\",\"type\":\"ColumnDataSource\"},{\"attributes\":{},\"id\":\"1590\",\"type\":\"HelpTool\"},{\"attributes\":{\"x\":{\"field\":\"lng_m\"},\"y\":{\"field\":\"lat_m\"}},\"id\":\"1604\",\"type\":\"Line\"},{\"attributes\":{},\"id\":\"1585\",\"type\":\"PanTool\"},{\"attributes\":{},\"id\":\"1664\",\"type\":\"Selection\"},{\"attributes\":{},\"id\":\"1586\",\"type\":\"WheelZoomTool\"},{\"attributes\":{\"data_source\":{\"id\":\"1602\"},\"glyph\":{\"id\":\"1604\"},\"hover_glyph\":null,\"muted_glyph\":null,\"nonselection_glyph\":{\"id\":\"1605\"},\"selection_glyph\":null,\"view\":{\"id\":\"1607\"}},\"id\":\"1606\",\"type\":\"GlyphRenderer\"},{\"attributes\":{\"text\":\"\"},\"id\":\"1653\",\"type\":\"Title\"},{\"attributes\":{\"dimension\":\"lat\"},\"id\":\"1578\",\"type\":\"MercatorTicker\"},{\"attributes\":{\"axis\":{\"id\":\"1577\"},\"dimension\":1,\"ticker\":null},\"id\":\"1584\",\"type\":\"Grid\"},{\"attributes\":{\"formatter\":{\"id\":\"1580\"},\"ticker\":{\"id\":\"1578\"}},\"id\":\"1577\",\"type\":\"MercatorAxis\"},{\"attributes\":{\"dimension\":\"lat\"},\"id\":\"1580\",\"type\":\"MercatorTickFormatter\"},{\"attributes\":{\"active_drag\":\"auto\",\"active_inspect\":\"auto\",\"active_multi\":null,\"active_scroll\":\"auto\",\"active_tap\":\"auto\",\"tools\":[{\"id\":\"1585\"},{\"id\":\"1586\"},{\"id\":\"1587\"},{\"id\":\"1588\"},{\"id\":\"1589\"},{\"id\":\"1590\"}]},\"id\":\"1592\",\"type\":\"Toolbar\"},{\"attributes\":{\"dimension\":\"lon\"},\"id\":\"1572\",\"type\":\"MercatorTickFormatter\"},{\"attributes\":{\"axis\":{\"id\":\"1569\"},\"ticker\":null},\"id\":\"1576\",\"type\":\"Grid\"},{\"attributes\":{\"dimension\":\"lon\"},\"id\":\"1570\",\"type\":\"MercatorTicker\"},{\"attributes\":{},\"id\":\"1567\",\"type\":\"LinearScale\"},{\"attributes\":{},\"id\":\"1663\",\"type\":\"UnionRenderers\"},{\"attributes\":{\"data_source\":{\"id\":\"1608\"},\"glyph\":{\"id\":\"1610\"},\"hover_glyph\":null,\"muted_glyph\":null,\"nonselection_glyph\":{\"id\":\"1611\"},\"selection_glyph\":null,\"view\":{\"id\":\"1613\"}},\"id\":\"1612\",\"type\":\"GlyphRenderer\"},{\"attributes\":{},\"id\":\"1565\",\"type\":\"LinearScale\"},{\"attributes\":{},\"id\":\"1561\",\"type\":\"DataRange1d\"},{\"attributes\":{\"formatter\":{\"id\":\"1572\"},\"ticker\":{\"id\":\"1570\"}},\"id\":\"1569\",\"type\":\"MercatorAxis\"},{\"attributes\":{\"data\":{\"ID\":{\"__ndarray__\":\"CgoKCgoKCgoKCgoKCgoKCgoKCgo=\",\"dtype\":\"int8\",\"order\":\"little\",\"shape\":[20]},\"MF_acc\":{\"__ndarray__\":\"r4U/7ccgzz+Ol9J7iKjSP2afdS912tI/1eMm3ETc0j/Xbd8KxE7VP68Obu0Vq9M/dKgvBOQMtz8IeK1M8cfBP8JPJq1IuHQ/T1UmIih10D/VCUJkfjXRP31ruNbSPco/MoJMWXcowD8wvigqApnCP1gnBwfxgNM/Gp+4RlBmwT9NpawRYWbBP8vFvg1yGsI/DcwH2n1csj/704+HMUb7Pw==\",\"dtype\":\"float64\",\"order\":\"little\",\"shape\":[20]},\"MF_dist_from_old_point\":{\"__ndarray__\":\"mTIihL6yU0CK46aOKRJgQMfd7D8PllpAWjihJsfeV0AEx8IdsPdaQOEJcrq6l2JAmztFIxICQkCEOrnPFF9SQLN/I5m62AFATQ4omDU1V0AZjS6vY21TQPoTwLdMgFRAmePsTBDJRkDJg9oLpJRRQHsW6eLTgFtAEwrUSUD5TUBJwp2r9y9LQLqirXmOL09A1S6spISwPED704+HMUYbQA==\",\"dtype\":\"float64\",\"order\":\"little\",\"shape\":[20]},\"MF_lat\":{\"__ndarray__\":\"cHUhsTivSkDW/M+rS69KQMN2YnvSrkpAy1BHbByuSkAARl1r761KQLh9HM2RrUpAWIGMJVGsSkCQaCMyB6xKQEbdOTnoq0pAQNnGRO+rSkB93zsgv6tKQKCmI4Cbq0pApTd6RmyrSkDTksCLY6tKQGJ1k3O9qkpA/ZV9sr2pSkD+hAfNrqlKQLDpOvmZqUpAZvQwtDqpSkBQm7RfLalKQA==\",\"dtype\":\"float64\",\"order\":\"little\",\"shape\":[20]},\"MF_lng\":{\"__ndarray__\":\"lqg7qvXpGMDxCZHCq+sYwOyyYU1l8RjA4PJrNTX6GMBWCu8XWPwYwLG6+aEtAhnArvo2DgYIGcC7qAHeXRIZwLMqY43EFRnA7S/ITFghGcBuox8NpywZwNihuONNLhnAusfw2M8yGcAvRWugVDYZwAX/HmG9RhnAit3wFqNJGcC4+mO1VEkZwMzVnHI7ShnA+rspQG9VGcCCncqz3FMZwA==\",\"dtype\":\"float64\",\"order\":\"little\",\"shape\":[20]},\"MF_vel\":{\"__ndarray__\":\"M7tzdXCCEUDrZoQiM30YQEmtWyhrYxZAUMCrd803FUCSWzuMnPgXQDBUdyY+CxtAkpI7BR3Q/D+LXDneao8JQK9IQmPfMbs/ToWNqB+LE0ByKoZK1kgSQC5DM8ajZhBAnNoKug0wA0CBBfj5YpIJQLh+WDgeKRdA0lDSXEnWBkChzhdW+b8FQJpjCrK1wgdAEb+JUJ3z9j/704+HMUYLQA==\",\"dtype\":\"float64\",\"order\":\"little\",\"shape\":[20]},\"acc\":{\"__ndarray__\":\"4ZZoeX4K8j87LrbwfxDiPxriWDBRNu4/xZw6Wd5enT9oJjO4nEnfP7GEbLDo0uY//Ald9u9dkj+5/bKuq72RPxC69TBb5pk/CfnO3kCE4T/XFe4OnxjgP9dVWkoz7KA/drufYGSqkT/9Ik+nMOCQPxDixIMC8t4/vicb6KZgmz/ghDya8ZiUP8kT0V36Vd8/TF33Ecw4mj8QYVhNm+rgPw==\",\"dtype\":\"float64\",\"order\":\"little\",\"shape\":[20]},\"block_id\":[123015,123015,123015,123015,123015,123015,123015,123015,123015,123015,123015,123015,123015,123015,123015,123015,123015,123015,123015,123015],\"congestion\":[false,false,false,false,false,false,false,false,false,false,false,false,false,false,false,false,false,false,false,false],\"datetime\":{\"__ndarray__\":\"AIAJhlbCc0IAACqLVsJzQgAAaNRWwnNCAID9BFfCc0IAAAAPV8JzQgAABSNXwnNCAABeplfCc0IAAJHcV8JzQgAAQv5XwnNCAADaOFjCc0IAAAhbWMJzQgCACmVYwnNCAAA2fVjCc0IAAB2WWMJzQgCAWihZwnNCAIAQXlnCc0IAgPJiWcJzQgCAtmxZwnNCAABRsVnCc0IAgC3rWcJzQg==\",\"dtype\":\"float64\",\"order\":\"little\",\"shape\":[20]},\"day\":[10,10,10,10,10,10,10,10,10,10,10,10,10,10,10,10,10,10,10,10],\"delay\":[-26,-66,-175,-132,-164,-180,-87,-320,-268,-407,-436,-457,-437,-504,-391,-406,-373,-427,-389,-159],\"dist_from_old_point\":{\"__ndarray__\":\"9l6oEUjVdkCl1allbB5vQGyrlj5MTXVANRd3tAiWIkBOXpAslcxjQG+VxvZfk3VAml/x8MayHEAm7//hd1QiQMSmq4vpTiZALt0xen+zaECoxtqPyytiQCAmLSQQcSpAWT9BjEfpGEAmnlH82+cfQGVR6MWi0WVAvGPrwr+UJ0DPR3/AfBcgQIuVziWO/WpA40AJbl98JEAQYVhNm+oAQA==\",\"dtype\":\"float64\",\"order\":\"little\",\"shape\":[20]},\"hour\":[17,17,17,17,17,17,17,17,17,17,17,17,17,17,17,17,17,17,17,18],\"index\":[1135695,1136512,1147229,1154365,1155838,1158770,1178124,1186289,1191166,1199869,1204830,1206396,1210008,1213599,1234929,1242948,1243596,1245042,1254917,1263534],\"journey_id\":[\"01231001\",\"01231001\",\"01231001\",\"01231001\",\"01231001\",\"01231001\",\"01231001\",\"01231001\",\"01231001\",\"01231001\",\"01231001\",\"01231001\",\"01231001\",\"01231001\",\"01231001\",\"01231001\",\"01231001\",\"01231001\",\"01231001\",\"01231001\"],\"lat\":{\"__ndarray__\":\"hJm2f2WvSkCgoX+Ci69KQFjEsMOYrkpAu+8YHvutSkClngWhvK1KQA0YJH1arUpAZ5Qu/UusSkBO0ZFc/qtKQHgq4J7nq0pAIh0ewvirSkDOVfMckatKQM6goX+Cq0pAVklkH2SrSkDJqZ1haqtKQKMjufyHqkpA29lXHqSpSkCE9urjoalKQPJCOjyEqUpA/1nz4y+pSkAe2zLgLKlKQA==\",\"dtype\":\"float64\",\"order\":\"little\",\"shape\":[20]},\"lat_m\":{\"__ndarray__\":\"m9oeoILmWkGbSMi7uOZaQdfOsDZf5VpBjQ6R2n7kWkG1NaTtJeRaQWFEtUaa41pBMtrTaBniWkGBd6H5quFaQYkh3Z+K4VpBG4sCAaPhWkFTsfeQD+FaQcp1FMf64FpBJofYkc/gWkEK0OR42OBaQfR95XeW31pB2FZ5a1LeWkGH/1hAT95aQS9hVRUl3lpBU/lqJ63dWkH+aRreqN1aQQ==\",\"dtype\":\"float64\",\"order\":\"little\",\"shape\":[20]},\"line_id\":[\"123.0\",\"123.0\",\"123.0\",\"123.0\",\"123.0\",\"123.0\",\"123.0\",\"123.0\",\"123.0\",\"123.0\",\"123.0\",\"123.0\",\"123.0\",\"123.0\",\"123.0\",\"123.0\",\"123.0\",\"123.0\",\"123.0\",\"123.0\"],\"lng\":{\"__ndarray__\":\"8iN+xRruGMB1yqMbYfEYwF0clZuo9RjAnIwqw7j7GMAB2evdH/8YwGa9GMqJBhnAhjqscMsHGcCMDd3sDxQZwH4bYrzmFRnA6zpUU5IlGcA89x4uOS4ZwN4FSgosMBnAvAhTlEszGcC+w+3QsDgZwKwdxTnqSBnA07zjFB1JGcDeGW1VEkkZwDLKMy+HTRnA1lQWhV1UGcBrK/aX3VMZwA==\",\"dtype\":\"float64\",\"order\":\"little\",\"shape\":[20]},\"lng_m\":{\"__ndarray__\":\"o3zLy1IsJcEvTajLGi8lwW3qLjS9MiXBkhoCc+M3JcGfdFFHxzolwX3tTy8TQSXBFFTjXCRCJcGQh+2Tj0wlwc39/G8fTiXBWYtWe25bJcGwyfyOx2IlwVQokz1vZCXB03YXShZnJcG8hcxfq2slwfrSwd1yeSXBFkbmDp55JcFwrBTulHklwdWA19pdfSXBwB9TaiyDJcEdZXvEv4IlwQ==\",\"dtype\":\"float64\",\"order\":\"little\",\"shape\":[20]},\"operator\":[\"SL\",\"SL\",\"SL\",\"SL\",\"SL\",\"SL\",\"SL\",\"SL\",\"SL\",\"SL\",\"SL\",\"SL\",\"SL\",\"SL\",\"SL\",\"SL\",\"SL\",\"SL\",\"SL\",\"SL\"],\"outlier\":[-1,-1,-1,-1,-1,-1,-1,-1,-1,-1,-1,-1,-1,-1,-1,-1,-1,-1,-1,-1],\"outlier2\":[1,1,1,1,1,1,1,1,1,1,1,1,1,1,1,1,1,1,1,1],\"outlier2_norm\":[-1,1,1,-1,1,-1,-1,-1,1,1,-1,1,1,1,1,1,1,1,1,1],\"outlier_0\":[-1,1,-1,1,1,-1,1,1,1,1,1,1,1,1,1,1,1,1,1,-1],\"outlier_MF\":[1,1,1,1,1,1,1,1,1,1,1,1,1,1,1,1,1,1,1,-1],\"outlier_norm\":[-1,-1,-1,-1,-1,-1,-1,-1,-1,-1,-1,-1,-1,-1,-1,-1,-1,-1,-1,-1],\"stop\":[false,false,true,true,false,false,false,false,false,false,false,false,false,false,false,false,false,false,false,true],\"stop_id\":[1491.0,1493.0,1485.0,510.0,511.0,513.0,335.0,1935.0,1935.0,1940.0,1941.0,4516.0,4516.0,1370.0,1460.0,6094.0,6094.0,6094.0,7153.0,6056.0],\"time_frame\":[\"2013-01-10\",\"2013-01-10\",\"2013-01-10\",\"2013-01-10\",\"2013-01-10\",\"2013-01-10\",\"2013-01-10\",\"2013-01-10\",\"2013-01-10\",\"2013-01-10\",\"2013-01-10\",\"2013-01-10\",\"2013-01-10\",\"2013-01-10\",\"2013-01-10\",\"2013-01-10\",\"2013-01-10\",\"2013-01-10\",\"2013-01-10\",\"2013-01-10\"],\"time_from_old_point\":[18,21,19,18,18,22,20,23,21,19,17,20,19,22,19,21,20,21,20,2],\"timestamp\":[1357837263000000,1357837284000000,1357837584000000,1357837783000000,1357837824000000,1357837906000000,1357838444000000,1357838666000000,1357838804000000,1357839044000000,1357839184000000,1357839225000000,1357839324000000,1357839426000000,1357840025000000,1357840245000000,1357840265000000,1357840305000000,1357840586000000,1357840823000000],\"vehicle_id\":[\"40035\",\"40035\",\"40035\",\"40035\",\"40035\",\"40035\",\"40035\",\"40035\",\"40035\",\"40035\",\"40035\",\"40035\",\"40035\",\"40035\",\"40035\",\"40035\",\"40035\",\"40035\",\"40035\",\"40035\"],\"vehicle_journey_id\":[\"4440\",\"4440\",\"4440\",\"4440\",\"4440\",\"4440\",\"4440\",\"4440\",\"4440\",\"4440\",\"4440\",\"4440\",\"4440\",\"4440\",\"4440\",\"4440\",\"4440\",\"4440\",\"4440\",\"4440\"],\"velocity\":{\"__ndarray__\":\"vqmVSM5LNECuHO/rp7UnQEDGtDRA8DFAL/gwEl2F4D+bxZwnaJkhQHM2lfL/YS9Ae0z082v11j+6TCHLpoDZPxtCIdgr/+A/u8eVCA3NJEA199z/KBohQE3r8BxAJ+U/nK69Mlf61D8c0AzmQjTXPzrmPH6xXyJAFdJRiG334T8YpssALr/ZP/w0kU1skCRAT5o6i39j4D8QYVhNm+rwPw==\",\"dtype\":\"float64\",\"order\":\"little\",\"shape\":[20]}},\"selected\":{\"id\":\"1662\"},\"selection_policy\":{\"id\":\"1661\"}},\"id\":\"1608\",\"type\":\"ColumnDataSource\"},{\"attributes\":{\"fill_alpha\":{\"value\":0.1},\"fill_color\":{\"value\":\"red\"},\"line_alpha\":{\"value\":0.1},\"line_color\":{\"value\":\"red\"},\"x\":{\"field\":\"lng_m\"},\"y\":{\"field\":\"lat_m\"}},\"id\":\"1611\",\"type\":\"Circle\"},{\"attributes\":{\"tile_source\":{\"id\":\"1599\"}},\"id\":\"1600\",\"type\":\"TileRenderer\"},{\"attributes\":{\"fill_color\":{\"value\":\"red\"},\"line_color\":{\"value\":\"red\"},\"x\":{\"field\":\"lng_m\"},\"y\":{\"field\":\"lat_m\"}},\"id\":\"1610\",\"type\":\"Circle\"},{\"attributes\":{\"attribution\":\"&copy; <a href=\\\"https://www.openstreetmap.org/copyright\\\">OpenStreetMap</a> contributors\",\"url\":\"https://c.tile.openstreetmap.org/{Z}/{X}/{Y}.png\"},\"id\":\"1599\",\"type\":\"WMTSTileSource\"},{\"attributes\":{},\"id\":\"1660\",\"type\":\"Selection\"}],\"root_ids\":[\"1560\"]},\"title\":\"Bokeh Application\",\"version\":\"2.2.1\"}};\n",
       "  var render_items = [{\"docid\":\"f8f1a68a-bed7-4b0a-bee4-5ef11116c624\",\"root_ids\":[\"1560\"],\"roots\":{\"1560\":\"029ac887-f497-4655-8da9-50e13cd6c090\"}}];\n",
       "  root.Bokeh.embed.embed_items_notebook(docs_json, render_items);\n",
       "\n",
       "  }\n",
       "  if (root.Bokeh !== undefined) {\n",
       "    embed_document(root);\n",
       "  } else {\n",
       "    var attempts = 0;\n",
       "    var timer = setInterval(function(root) {\n",
       "      if (root.Bokeh !== undefined) {\n",
       "        clearInterval(timer);\n",
       "        embed_document(root);\n",
       "      } else {\n",
       "        attempts++;\n",
       "        if (attempts > 100) {\n",
       "          clearInterval(timer);\n",
       "          console.log(\"Bokeh: ERROR: Unable to run BokehJS code because BokehJS library is missing\");\n",
       "        }\n",
       "      }\n",
       "    }, 10, root)\n",
       "  }\n",
       "})(window);"
      ],
      "application/vnd.bokehjs_exec.v0+json": ""
     },
     "metadata": {
      "application/vnd.bokehjs_exec.v0+json": {
       "id": "1560"
      }
     },
     "output_type": "display_data"
    },
    {
     "name": "stderr",
     "output_type": "stream",
     "text": [
      "/home/saci/hd/projetos/trajetorias/its_research/venvTraj/lib/python3.8/site-packages/pandas/core/frame.py:3065: SettingWithCopyWarning: \n",
      "A value is trying to be set on a copy of a slice from a DataFrame.\n",
      "Try using .loc[row_indexer,col_indexer] = value instead\n",
      "\n",
      "See the caveats in the documentation: https://pandas.pydata.org/pandas-docs/stable/user_guide/indexing.html#returning-a-view-versus-a-copy\n",
      "  self[k1] = value[k2]\n"
     ]
    },
    {
     "data": {
      "text/html": [
       "\n",
       "\n",
       "\n",
       "\n",
       "\n",
       "\n",
       "  <div class=\"bk-root\" id=\"b41e5d23-e671-4e53-8a00-2eef5e5d5548\" data-root-id=\"1772\"></div>\n"
      ]
     },
     "metadata": {},
     "output_type": "display_data"
    },
    {
     "data": {
      "application/javascript": [
       "(function(root) {\n",
       "  function embed_document(root) {\n",
       "    \n",
       "  var docs_json = {\"588b5455-942a-49dc-b8c3-1e6ffefdb1d2\":{\"roots\":{\"references\":[{\"attributes\":{\"below\":[{\"id\":\"1781\"}],\"center\":[{\"id\":\"1788\"},{\"id\":\"1796\"}],\"left\":[{\"id\":\"1789\"}],\"renderers\":[{\"id\":\"1812\"},{\"id\":\"1818\"},{\"id\":\"1824\"},{\"id\":\"1829\"}],\"title\":{\"id\":\"1878\"},\"toolbar\":{\"id\":\"1804\"},\"x_range\":{\"id\":\"1773\"},\"x_scale\":{\"id\":\"1777\"},\"y_range\":{\"id\":\"1775\"},\"y_scale\":{\"id\":\"1779\"}},\"id\":\"1772\",\"subtype\":\"Figure\",\"type\":\"Plot\"},{\"attributes\":{\"line_alpha\":0.1,\"x\":{\"field\":\"lng_m\"},\"y\":{\"field\":\"lat_m\"}},\"id\":\"1817\",\"type\":\"Line\"},{\"attributes\":{\"data_source\":{\"id\":\"1820\"},\"glyph\":{\"id\":\"1822\"},\"hover_glyph\":null,\"muted_glyph\":null,\"nonselection_glyph\":{\"id\":\"1823\"},\"selection_glyph\":null,\"view\":{\"id\":\"1825\"}},\"id\":\"1824\",\"type\":\"GlyphRenderer\"},{\"attributes\":{\"x\":{\"field\":\"lng_m\"},\"y\":{\"field\":\"lat_m\"}},\"id\":\"1816\",\"type\":\"Line\"},{\"attributes\":{\"data\":{},\"selected\":{\"id\":\"1889\"},\"selection_policy\":{\"id\":\"1888\"}},\"id\":\"1826\",\"type\":\"ColumnDataSource\"},{\"attributes\":{},\"id\":\"1887\",\"type\":\"Selection\"},{\"attributes\":{},\"id\":\"1886\",\"type\":\"UnionRenderers\"},{\"attributes\":{\"data\":{\"ID\":{\"__ndarray__\":\"QkJCQkJCQkJCQkJCQkJCQkJCQkJCQkJCQkJCQkJCQkJCQkJCQkJCQkJCQkJCQkJCQkJCQkJCQkI=\",\"dtype\":\"int8\",\"order\":\"little\",\"shape\":[56]},\"MF_acc\":{\"__ndarray__\":\"jl0T9HJ50j9gTD7HrZDXPwWiL9emkdg/Euvu9RQg3j/QlruwxozGP+8v82BgWdE/I6uogNQ+zj+vv8TL8bPBP4Af7f26hr0/qG1+58UXwz8k/J3qEAXMP1XqDRVjqNM/0C5WAzKF2T/GBQ3xBhbVP8peD3/4t+A/StH5gX8/4T97tcVnl/3gP/xgTnSx99o/2YgWxuRCuz+Rs6IjUyXTP6vmtgW7cNE/zZPQGWuwcj8zMLI6l66bP0xU3uu/BAdA+juoRfSewj+r5DMbp0bVPxGq6TuYgNU/bKozFTjB2j9Uc59Z3bnbP0xvd9KyyOA/aH3elDlp6D/KvaQzfPTkP0OcuDyQXdk/3s+axzv4wT+YvHyYv47fP3Gp5ZaostU/mOTGWjOTsz/1LMxSjgTcP8p5FHpTgbc/+RHyDSHQ4D94+OXhWBzYPwwDs2o8TdM/NgEllUBmuz+Uk+h5NT61P9OLnJlgb7Q/LthVf+4J4D+BSDIJxY2VPzrvze1to7U/DmTXSjYYoT/ELNnmnn6xPySpwSjgGLU/Lyw3TXWwoT+KsRnt29aBP6LSPNXHwsM/cPHuEIHRuT8B53CD8FmbPw==\",\"dtype\":\"float64\",\"order\":\"little\",\"shape\":[56]},\"MF_dist_from_old_point\":{\"__ndarray__\":\"LkJencPdXEDabPuGgp1gQJQ2HVjKMWNApqciYBCJZ0CrhzgvhMxPQFDjpRt9ZmBAaEfRCB4NWkCCa2POKalLQKK9tg+MbklAVou1OSXVTUCP+Xe0NLtRQFZ8oleJ7mBAUrvfkzn7ZUB5t5/6eCliQBsEiEZ0H2pAiVnnpmK2bUCQ6ySSPIxqQGJDgZ6kA2NATRhXy8ScaECTOK7nUepdQFR5Zzv5BGJAEPurjEen9z+Eeg5C4ddnQNYeWulX5VlAkzw6diZCSkBprW1+a+1aQPzCmh9DhWJASgBDzmwLZ0DW1rEnl+FnQOad2miXOWpAt5Zp4CzlbkCiT9Mkw4xtQBQ6cK8Y0WNAQrM7y/awakBxcNcGdC5rQHOq+l4ddltALsXWPQCWPkDBfnirJKFfQHcOlKQGS2NAv16m1WlHZUCDlJKOasRkQMK0t2auKF5A8uiEdOJnRUBMsz3HmZhAQG9WT7TumUFALthVf+4JIEClSC/vwdYgQDrvze1to/U/kFAyFD078z9cUrTDcq4DQCSpwSjgGPU/qHs8njMW+z/WQnHbILsOQPZs5M8gOxZAcPHuEIHR2T95NLDmQ17lPw==\",\"dtype\":\"float64\",\"order\":\"little\",\"shape\":[56]},\"MF_lat\":{\"__ndarray__\":\"OJZlPta6SkAbcsaL4LpKQMYxNhn6ukpAe9iv4CO7SkDWE1ysqLtKQGtX5xiQu0pAsvMknw27SkBeWNu51bpKQNZUX6eiukpA/lV/hGG6SkBD9sMZDbpKQJiSeNTzuUpAKGjc5Wy5SkAY6MiAorhKQBMWFAZluEpAmIxiuaW3SkCC85fMZ7dKQHtuoMA7t0pAYAmjWdm2SkB9UAWSZrZKQJp9HThntkpA5dfEuNG2SkAzJlcMsrZKQO74iV6htkpAfdf6fVq2SkBj7IMsC7ZKQNBroRrltUpAykyyH3O1SkDT9eiyPbVKQPpGvfH/tEpAu9QHkne0SkB6A8sRMrRKQOVViz7Vs0pADrRLZZuzSkAQf/GxYLNKQD1xk6wesUpAHuYlWk2wSkDqwBZgxK9KQIpej9Mhr0pAza4fB8quSkACkMgtnK5KQO5vdDo1rkpAiB5BO/GsSkDYJQQGpKxKQAA9HdmmrEpA/kQay6qsSkBLPobYqqxKQJaTFi6rrEpA6sDM0qmsSkDz3heXqqxKQHAo1gSsrEpAVXe/ZamsSkDw2SihqqxKQKZ9F1utrEpALkFF1a+sSkDggBJVrqxKQA==\",\"dtype\":\"float64\",\"order\":\"little\",\"shape\":[56]},\"MF_lng\":{\"__ndarray__\":\"9mxiNyL+GMCg+gIfKPwYwKV4/Cg0+hjAKDXAu0v4GMAiR5BKsfMYwOmqO7sh8hjAj+G9WTnqGMDfQEOkS+QYwGzb8jbb4RjAJZzHvOnhGMAeNwgpLt0YwLvdjarL3hjANbAGg8bnGMDqPnhIjOkYwBrwYNVq6RjAgdPYXgvqGMAhxcK1f+oYwAiWQErs6hjA9inkSj3rGMDKe01qw+wYwI3VqCyv8RjA6hM7v833GMCGnkVKDvMYwCJIDEy48RjAlGGeOvvvGMACZSYHou0YwGQKBEu/7hjADHFuuDTzGMDWz7hwIPQYwPBd+10z9BjAMv3UHTD0GMAG5k9lYvQYwFb35cx29RjAGYEpXsD2GMBkw6aEFvgYwLcTIK+s+RjA9jetynT+GMDuQaicQAIZwG33t7pSBRnAMGwjnuwGGcCLo22h0AcZwJb1p0NdChnAhhe8Q+UKGcCCONFTiQcZwPXAPwAEBxnAccr5Yu8FGcBvU2pAzgUZwA918tiFBRnAjvZt0n4FGcAVUgcehAUZwDhauReYBRnAHWzf7YsFGcA4HfaMjgUZwOggk4ycBRnA9heAoaIFGcD22rwWmQUZwA==\",\"dtype\":\"float64\",\"order\":\"little\",\"shape\":[56]},\"MF_vel\":{\"__ndarray__\":\"8jQYsc8XF0Cz+plczvsbQIaK+4wQth5A61K1GQ3UIkAXw97xK8cKQOlhToXk2hdAT7BudDvZE0Cb77U+7iAGQKyco7ZqYANAEgleYbfdB0Cpu/EHs4UPQI9DogsCzRlAuI4w0mi/IECUF2Ec6awbQHw205725SRAsuKXWlejJkDaIrdB/TwlQJaJDl0RAyBA8iMXtfFQEkB2YIvsp+4XQJbrNtgMEhlAR6YKfXgGtT+i74Q+kyoCQDm/5vCPQzFAOMe3EsIcBkBBYZr+e+8XQDevos7HOBxA1+fpzcyOIUCvo9BC+TEiQB5LFYff+iRAFE16x2B2K0BgoVN9U+IoQFPD5kv0tB9AV61E24jmFUDE2xG8rbUkQJ9ewqn9aBhAvp14MQB4+D/F7/g318QdQAs8avSyHQ5AOFSwLyXqIkAd1n2oNKUfQM7DX4WLIBhAwiA3XegfAUB6uGLYwo36P4V3ncku0vo/LthVf+4JAECi2n5LNvHaPzrvze1to9U/FRZDcFGkyT8lw0Va7j3aPySpwSjgGNU/Uo0gR830zj8FuTGnAGrHP/M7278rpO0/cPHuEIHRyT9hkCZSNhjBPw==\",\"dtype\":\"float64\",\"order\":\"little\",\"shape\":[56]},\"acc\":{\"__ndarray__\":\"THFH/bw/9T+BrrygUzTjP9Ss+BNpfOc/ACaVIocT5j/yCmhykx/nPyHq7EOAj+M/mDP09UjC3z9FqTFdnw2jPyNDCBDTZZc/l83ODuAI4D+8MAgh4CXvPxt7ppM1beY/ZzFzW10z4j/EqKdTK1fnP7JjhUn44+k/rh8OpmNd5D94TfcR8wrfPy1YFjyrYKw/4tnJN0YXzT8goah2YK/gP7IDwRoPads/hsbm7oVclz9Tr/oNELS8PznO2181DyZAEE68eBkZ4j9YjiVnZDPsP5O4aS1A2uQ/APZypTh55D8JG4cpAkjpP6pv32aE5Os//akszjU85j/akHFuEPXlP5BggF1nruY/L9W3WA+Lyj/W57oU0qXhPyU0tx/dCd8/0O9K0U32nj/vIW9Au57mP+2FL7Z5BNQ/vj4hEse94z95bXn/aiWVP1CEnt1Dzt4/lajjior6kT+EFmujINWUPyPfgLh7WJc/0+W4Ve+vvz/i5xCRWsKOP+MPrXRYDLE/SUOVJFBBrz8ZWrv8lMLNP7m8blHsttY/fpod48UJtz8SneN6LHWePz+hPiW+RcU/1Dre5cg58D+Xq7baDLXAPw==\",\"dtype\":\"float64\",\"order\":\"little\",\"shape\":[56]},\"block_id\":[41002,41002,41002,41002,41002,41002,41002,41002,41002,41002,41002,41002,41002,41002,41002,41002,41002,41002,41002,41002,41002,41002,41002,41002,41002,41002,41002,41002,41002,41002,41002,41002,41002,41002,41002,41002,41002,41002,41002,41002,41002,41002,41002,41002,41002,41002,41002,41002,41002,41002,41002,41002,41002,41002,41002,41002],\"congestion\":[false,false,false,false,false,false,false,false,false,false,false,false,false,false,false,false,false,false,false,false,false,false,false,false,false,false,false,false,false,false,false,false,false,false,false,false,false,false,false,false,false,false,false,false,false,false,false,false,false,false,false,false,false,false,false,false],\"datetime\":{\"__ndarray__\":\"AAAQ0VLCc0IAgLPVUsJzQgCAldpSwnNCAIB331LCc0IAAMHyUsJzQgAAIPhSwnNCAIDIEFPCc0IAgLUoU8JzQgAAQEZTwnNCAACqXlPCc0IAgLd7U8JzQgAA2IBTwnNCAICelFPCc0IAAKyxU8JzQgAAjrZTwnNCAAA0xVPCc0IAABbKU8JzQgCAuc5TwnNCAAAb3lPCc0IAgAXsU8JzQgCAKPtTwnNCAICdJlTCc0IAgKdOVMJzQgCAHlBUwnNCAICIaFTCc0IAgBB8VMJzQgAAMYFUwnNCAADXj1TCc0IAgPeUVMJzQgCA2ZlUwnNCAABfo1TCc0IAgAKoVMJzQgAAdrRUwnNCAID7vVTCc0IAABzDVMJzQgAARyRVwnNCAIBZVVXCc0IAgId3VcJzQgAAEpVVwnNCAICXnlXCc0IAALijVcJzQgCAH7JVwnNCAACVEVbCc0IAgEg9VsJzQgAAaUJWwnNCAIB2X1bCc0IAgFhkVsJzQgAA3m1WwnNCAACni1bCc0IAgA6aVsJzQgCAtKhWwnNCAACZt1bCc0IAgB7BVsJzQgAAP8ZWwnNCAABo1FbCc0IAgJgAV8JzQg==\",\"dtype\":\"float64\",\"order\":\"little\",\"shape\":[56]},\"day\":[10,10,10,10,10,10,10,10,10,10,10,10,10,10,10,10,10,10,10,10,10,10,10,10,10,10,10,10,10,10,10,10,10,10,10,10,10,10,10,10,10,10,10,10,10,10,10,10,10,10,10,10,10,10,10,10],\"delay\":[-15,-31,-59,-84,-86,-138,-165,-149,-115,-60,-83,-117,-132,-115,-160,-177,-177,-160,-160,-142,-113,33,56,101,170,209,209,224,64,31,31,31,56,75,75,105,228,231,215,197,215,172,238,89,89,89,89,89,89,89,89,89,89,89,89,89],\"dist_from_old_point\":{\"__ndarray__\":\"g9DfpcuZgEAUEqrtyRRrQAVHmhcyWXJAsIUEk0E/cUC4Wyp2w01wQFP1NUCnfXJAcdbY19daa0B7mJ0BScUtQNQdT0s0JyRAPCEjF94NaUDXLufU97VzQAnlrKUQUXNAGnCJ0ntab0Dd6I3RlBp0QOM1cPkZOnRASiqHVHCKcUCGNAnmjUBoQCzB3bsoAjRA1xweRaNDekDCe2e5BhJqQFJsJBsMUmxAQhNcghmRHUAEbArUF7mIQABI1wsc0XhAFYpB62SFaUAUxEWJhdhxQHuPHUf89XFA44SBSmmicUDK3sTchcZ1QD2PXnCHynVAJYfwGDQkbEBEJb4rlPZuQHBLDMFAuHFANIfDxYa2c0Bg+bXlpmZuQADvEe49pGNAW4uCy2wwKEBPdb1jMYlpQM3BqWYsboBAaRPy8i/8aEDLFgypujYiQF7XIwUlEWhAaLcDeXgXHECXqat/gUYgQDIAa5C2GyRA0+W4Ve+v/z8oNVXB1gcYQOMPrXRYDPE/2fWTFL2UAUCuYinOc70gQLm8blHsthZASarigXujEUDKDNnP7DsqQGd15ul17hdA1Dre5cg5EEAcbL0V5BoKQA==\",\"dtype\":\"float64\",\"order\":\"little\",\"shape\":[56]},\"hour\":[15,15,15,15,15,15,16,16,16,16,16,16,16,16,16,16,16,16,16,16,16,16,16,16,16,16,16,16,16,16,16,16,16,16,16,16,16,16,16,16,16,16,16,16,16,16,16,16,17,17,17,17,17,17,17,17],\"index\":[1006612,1007291,1007836,1008408,1010874,1011482,1014524,1017437,1021157,1024270,1027945,1028521,1031107,1034934,1035532,1037426,1038023,1038729,1040736,1042665,1044604,1050448,1055668,1055963,1059167,1061923,1062505,1064534,1065149,1066060,1067176,1067894,1069529,1070921,1071503,1085228,1092097,1097026,1101210,1102511,1103303,1105403,1119063,1125239,1126070,1130218,1130875,1132308,1136608,1138753,1140847,1142996,1144290,1145160,1147200,1153731],\"journey_id\":[\"00411001\",\"00411001\",\"00411001\",\"00411001\",\"00411001\",\"00411001\",\"00411001\",\"00411001\",\"00411001\",\"00411001\",\"00411001\",\"00411001\",\"00411001\",\"00411001\",\"00411001\",\"00411001\",\"00411001\",\"00411001\",\"00411001\",\"00411001\",\"00411001\",\"00411001\",\"00411001\",\"00411001\",\"00411001\",\"00411001\",\"00411001\",\"00411001\",\"00411001\",\"00411001\",\"00411001\",\"00411001\",\"00411001\",\"00411001\",\"00411001\",\"00411001\",\"00411001\",\"00411001\",\"00411001\",\"00411001\",\"00411001\",\"00411001\",\"00411001\",\"00411001\",\"00411001\",\"00411001\",\"00411001\",\"00411001\",\"00411001\",\"00411001\",\"00411001\",\"00411001\",\"00411001\",\"00411001\",\"00411001\",\"00411001\"],\"lat\":{\"__ndarray__\":\"y2Q4ns+6SkA44PPDCLtKQI/2P8Bau0pAv3lx4qu7SkD6fmq8dLtKQKvLKQExu0pAOqqaIOq6SkCfsMQDyrpKQOONzCN/ukpAQoAMHTu6SkDdtYR80LlKQLxYGCKnuUpAP1bw2xC5SkAtCyb+KLhKQDMUd7zJt0pA6pleYiy3SkC/DTFe87ZKQA97oYDttkpArfVFQlu2SkBhWP58W7ZKQHoVGR2QtkpAceXsndG2SkD3yVGAKLZKQK6AQj19tkpAvNHHfEC2SkDa39kevbVKQNtOWyOCtUpA4QZ8fhi1SkAJLev+sbRKQJfkgF1NtEpAEp87wf6zSkCa8Ev9vLNKQB+94T5ys0pAnkfF/x2zSkAUlnhA2bJKQPJ4Wn7gsEpANJ4I4jywSkCP/MHAc69KQPKWqx+brkpAKxcq/1quSkCSRC+jWK5KQCTtRh/zrUpAeXjPgeWsSkCpa+19qqxKQGGL3T6rrEpAMjuL3qmsSkDjafmBq6xKQONp+YGrrEpAvAopP6msSkCR2y+frKxKQGd8X1yqrEpAMjuL3qmsSkB2S3LArqxKQCh64GOwrEpArIxGPq+sSkBCCp5CrqxKQA==\",\"dtype\":\"float64\",\"order\":\"little\",\"shape\":[56]},\"lat_m\":{\"__ndarray__\":\"98SmiMb2WkFnLMQNGPdaQeftyAKN91pBPCxnwgD4WkGMPNoUsvdaQSxj0XRR91pBc7w6Wez2WkFLp3iKvvZaQQ7FB71T9lpByfCttfL1WkHp3v6hWvVaQbzE6Kcf9VpBKUiIWkn0WkGqEmq9/vJaQbVqbe528lpB8lTtnJbxWkHQYHRWRfFaQSYkEfo88VpBnXzHhmzwWkFC/HjabPBaQZTBe9y38FpB831hOhXxWkFpgfkuJPBaQbmAgPWc8FpBLPepXkbwWkEIMXgli+9aQQCpOBc371pBSbLsi6DuWkFUBP5+Du5aQYYJDh5/7VpBkc7HHg/tWkHe06xtsexaQa/XcfNG7FpBDixu8c7rWkHmkuAEbetaQRx6nS+e6FpB5s3gPbXnWkHiEnPqluZaQdbZT5Ji5VpBGWXYTQflWkGNdUPyA+VaQRHRvnlz5FpBes5a0/PiWkE1mQ7cn+JaQUiZj+6g4lpBpgRL+Z7iWkHqYwpOoeJaQepjCk6h4lpBuXaHFp7iWkFCTtTjouJaQQU2Uayf4lpBpgRL+Z7iWkHVUJrrpeJaQcc4WkCo4lpBL6ugnqbiWkGb+pM4peJaQQ==\",\"dtype\":\"float64\",\"order\":\"little\",\"shape\":[56]},\"line_id\":[\"41.0\",\"41.0\",\"41.0\",\"41.0\",\"41.0\",\"41.0\",\"41.0\",\"41.0\",\"41.0\",\"41.0\",\"41.0\",\"41.0\",\"41.0\",\"41.0\",\"41.0\",\"41.0\",\"41.0\",\"41.0\",\"41.0\",\"41.0\",\"41.0\",\"41.0\",\"41.0\",\"41.0\",\"41.0\",\"41.0\",\"41.0\",\"41.0\",\"41.0\",\"41.0\",\"41.0\",\"41.0\",\"41.0\",\"41.0\",\"41.0\",\"41.0\",\"41.0\",\"41.0\",\"41.0\",\"41.0\",\"41.0\",\"41.0\",\"41.0\",\"41.0\",\"41.0\",\"41.0\",\"41.0\",\"41.0\",\"41.0\",\"41.0\",\"41.0\",\"41.0\",\"41.0\",\"41.0\",\"41.0\",\"41.0\"],\"lng\":{\"__ndarray__\":\"lh+4yhP4GMAArfnxl/YYwHTRkPEo9RjA5QmEnWL1GMBgksoUc/AYwMX83NCU7RjABRN/FHXmGMAHtd/aieIYwH78pUV94hjAc6JdhZTfGMAn3gGetOAYwCvEI/Hy5BjA9d2tLNHpGMC8yAT8GukYwBIWFXE66RjAXRYTm4/rGMDggJauYOsYwJEqildZ6xjAJCNnYU/rGMD5gas8gfAYwI/7VuvE9RjAo7H2d7b3GMBzDwnf++sYwKXAApgy8BjABFYOLbLtGMAF9wMeGPAYwO+QYoBE8xjAR1hUxOn0GMDy0He3svQYwHFXryKj8xjAjIF1HD/0GMBt5Lop5fUYwIGaWrbW9xjAJ6CJsOH5GMAEzefc7foYwNwtyQG7+hjAArwFEhT/GMDuCRLb3QMZwMVx4NVyBxnAyLYMOEsJGcABNiBCXAkZwN/EkJxMDBnAaoZUUbwKGcCa0Y+GUwYZwPvqqkAtBhnAViWRfZAFGcD2l92ThwUZwBjpRe1+BRnARtEDH4MFGcCmXrcIjAUZwLL1DOGYBRnApl63CIwFGcASg8DKoQUZwPAxWHGqBRnAYrzmVZ0FGcBivOZVnQUZwA==\",\"dtype\":\"float64\",\"order\":\"little\",\"shape\":[56]},\"lng_m\":{\"__ndarray__\":\"dtW9E8s0JcHPqyV5iDMlwREOVsdQMiXBkhRdwoEyJcE546ujUC4lwXbJDQfhKyXB/wrPINQlJcHBEboWgCIlwR5k8GZ1IiXBAI9/4vwfJcE50aOQ8SAlwYYKUi6MJCXBIO1Nm64oJcGrdWDfEyglwcSn2JYuKCXB8KLGwikqJcEVNpHoASolwSLmsKz7KSXBVefbNvMpJcGQxm6pXC4lwRuxtD/VMiXBVLhQ0Xs0JcFGPvO1hSolwVZJwt4ZLiXBSAmP9vkrJcGjljRiAy4lwQ9xgVe1MCXBmstmHxsyJcHxc1Re7DElwZ7l6LYFMSXBp4hHL4oxJcENfimi8DIlwUWFxTOXNCXBC8bzXVM2JcGtCm4gNzclwZCXSe8LNyXB12GEQr06JcFHithRzj4lwQ3YYRzZQSXB/4NqTmpDJcF29CDHeEMlwdL3cMD3RSXBARQxyKNEJcGuMDoZ5UAlwTRr35fEQCXBTy2EdD9AJcGnp6riN0AlwUcA0IkwQCXB0+S9GTRAJcF7aperO0AlwWf2X5RGQCXBe2qXqztAJcEQfDkmTkAlwXAjFH9VQCXBPLlMXUpAJcE8uUxdSkAlwQ==\",\"dtype\":\"float64\",\"order\":\"little\",\"shape\":[56]},\"operator\":[\"SL\",\"SL\",\"SL\",\"SL\",\"SL\",\"SL\",\"SL\",\"SL\",\"SL\",\"SL\",\"SL\",\"SL\",\"SL\",\"SL\",\"SL\",\"SL\",\"SL\",\"SL\",\"SL\",\"SL\",\"SL\",\"SL\",\"SL\",\"SL\",\"SL\",\"SL\",\"SL\",\"SL\",\"SL\",\"SL\",\"SL\",\"SL\",\"SL\",\"SL\",\"SL\",\"SL\",\"SL\",\"SL\",\"SL\",\"SL\",\"SL\",\"SL\",\"SL\",\"SL\",\"SL\",\"SL\",\"SL\",\"SL\",\"SL\",\"SL\",\"SL\",\"SL\",\"SL\",\"SL\",\"SL\",\"SL\"],\"outlier\":[-1,-1,-1,-1,-1,-1,-1,-1,-1,-1,-1,-1,-1,-1,-1,-1,-1,-1,-1,-1,-1,-1,-1,-1,-1,-1,-1,-1,-1,-1,-1,-1,-1,-1,-1,-1,-1,-1,-1,-1,-1,-1,-1,-1,-1,-1,-1,-1,-1,-1,-1,-1,-1,-1,-1,-1],\"outlier2\":[1,1,1,1,1,1,1,1,1,1,1,1,1,1,1,1,-1,1,1,1,-1,1,1,1,1,1,1,1,1,1,1,1,1,1,1,1,1,1,-1,1,1,1,1,1,1,1,1,1,-1,-1,-1,-1,1,-1,-1,1],\"outlier2_norm\":[1,1,1,1,1,-1,1,1,1,1,1,1,1,1,1,1,1,-1,1,1,1,-1,1,1,1,1,1,1,1,1,1,1,1,1,1,1,1,-1,1,1,1,1,1,1,1,1,1,1,1,1,1,1,1,-1,1,1],\"outlier_0\":[-1,1,-1,1,1,-1,1,1,1,1,-1,-1,1,-1,-1,-1,1,1,-1,1,-1,1,-1,-1,1,-1,-1,-1,-1,-1,1,1,-1,-1,1,1,1,-1,-1,1,1,1,1,1,1,-1,1,-1,-1,-1,-1,-1,1,-1,-1,-1],\"outlier_MF\":[1,1,1,1,1,1,1,1,1,1,1,1,1,1,-1,-1,-1,1,1,1,1,1,1,-1,1,1,1,1,1,-1,-1,-1,1,1,-1,1,1,1,1,-1,1,1,1,1,1,-1,1,1,1,1,1,1,1,1,1,1],\"outlier_norm\":[-1,-1,-1,-1,-1,-1,-1,-1,-1,-1,-1,-1,-1,-1,-1,-1,-1,-1,-1,-1,-1,-1,-1,-1,-1,-1,-1,-1,-1,-1,-1,-1,-1,-1,-1,-1,-1,-1,-1,-1,-1,-1,-1,-1,-1,-1,-1,-1,-1,-1,-1,-1,-1,-1,-1,-1],\"stop\":[false,false,false,false,false,false,false,false,true,false,false,false,false,false,false,false,false,false,false,false,false,false,false,false,false,false,false,false,false,false,false,false,false,false,false,false,false,false,false,false,false,false,false,false,false,true,true,true,true,true,true,true,true,true,true,true],\"stop_id\":[4905.0,4906.0,4907.0,4909.0,4909.0,3884.0,5077.0,5077.0,3690.0,3690.0,5079.0,5079.0,3695.0,3697.0,3698.0,3699.0,3699.0,3699.0,3885.0,3885.0,3663.0,7347.0,7349.0,3669.0,7349.0,1632.0,5053.0,1633.0,1634.0,1635.0,1636.0,1636.0,1637.0,1638.0,1638.0,1642.0,4432.0,44.0,46.0,48.0,48.0,49.0,277.0,277.0,277.0,288.0,288.0,288.0,288.0,288.0,288.0,288.0,288.0,288.0,288.0,288.0],\"time_frame\":[\"2013-01-10\",\"2013-01-10\",\"2013-01-10\",\"2013-01-10\",\"2013-01-10\",\"2013-01-10\",\"2013-01-10\",\"2013-01-10\",\"2013-01-10\",\"2013-01-10\",\"2013-01-10\",\"2013-01-10\",\"2013-01-10\",\"2013-01-10\",\"2013-01-10\",\"2013-01-10\",\"2013-01-10\",\"2013-01-10\",\"2013-01-10\",\"2013-01-10\",\"2013-01-10\",\"2013-01-10\",\"2013-01-10\",\"2013-01-10\",\"2013-01-10\",\"2013-01-10\",\"2013-01-10\",\"2013-01-10\",\"2013-01-10\",\"2013-01-10\",\"2013-01-10\",\"2013-01-10\",\"2013-01-10\",\"2013-01-10\",\"2013-01-10\",\"2013-01-10\",\"2013-01-10\",\"2013-01-10\",\"2013-01-10\",\"2013-01-10\",\"2013-01-10\",\"2013-01-10\",\"2013-01-10\",\"2013-01-10\",\"2013-01-10\",\"2013-01-10\",\"2013-01-10\",\"2013-01-10\",\"2013-01-10\",\"2013-01-10\",\"2013-01-10\",\"2013-01-10\",\"2013-01-10\",\"2013-01-10\",\"2013-01-10\",\"2013-01-10\"],\"time_from_old_point\":[20,19,20,20,19,22,21,20,21,20,18,21,21,21,20,21,20,19,43,20,23,18,84,6,19,18,21,21,21,20,18,19,20,39,21,18,20,17,41,18,21,20,20,20,21,4,20,4,6,6,4,7,21,6,2,5],\"timestamp\":[1357833376000000,1357833395000000,1357833415000000,1357833435000000,1357833514000000,1357833536000000,1357833637000000,1357833735000000,1357833856000000,1357833956000000,1357834075000000,1357834096000000,1357834177000000,1357834296000000,1357834316000000,1357834376000000,1357834396000000,1357834415000000,1357834478000000,1357834535000000,1357834597000000,1357834775000000,1357834939000000,1357834945000000,1357835045000000,1357835125000000,1357835146000000,1357835206000000,1357835227000000,1357835247000000,1357835286000000,1357835305000000,1357835356000000,1357835395000000,1357835416000000,1357835814000000,1357836015000000,1357836155000000,1357836276000000,1357836315000000,1357836336000000,1357836395000000,1357836786000000,1357836965000000,1357836986000000,1357837105000000,1357837125000000,1357837164000000,1357837286000000,1357837345000000,1357837405000000,1357837466000000,1357837505000000,1357837526000000,1357837584000000,1357837765000000],\"vehicle_id\":[\"33269\",\"33269\",\"33269\",\"33269\",\"33269\",\"33269\",\"33269\",\"33269\",\"33269\",\"33269\",\"33269\",\"33269\",\"33269\",\"33269\",\"33269\",\"33269\",\"33269\",\"33269\",\"33269\",\"33269\",\"33269\",\"33269\",\"33269\",\"33269\",\"33269\",\"33269\",\"33269\",\"33269\",\"33269\",\"33269\",\"33269\",\"33269\",\"33269\",\"33269\",\"33269\",\"33269\",\"33269\",\"33269\",\"33269\",\"33269\",\"33269\",\"33269\",\"33269\",\"33269\",\"33269\",\"33269\",\"33269\",\"33269\",\"33269\",\"33269\",\"33269\",\"33269\",\"33269\",\"33269\",\"33269\",\"33269\"],\"vehicle_journey_id\":[\"145\",\"145\",\"145\",\"145\",\"145\",\"145\",\"145\",\"145\",\"145\",\"145\",\"145\",\"145\",\"145\",\"145\",\"145\",\"145\",\"145\",\"145\",\"145\",\"145\",\"145\",\"145\",\"145\",\"145\",\"145\",\"145\",\"145\",\"145\",\"145\",\"145\",\"145\",\"145\",\"145\",\"145\",\"145\",\"145\",\"145\",\"145\",\"145\",\"145\",\"145\",\"145\",\"145\",\"145\",\"145\",\"145\",\"145\",\"145\",\"145\",\"145\",\"145\",\"145\",\"145\",\"145\",\"145\",\"145\"],\"velocity\":{\"__ndarray__\":\"nk2ZPKyPOkA5D+BOI84mQAjY9liDWy1AgG8662iYK0AAjdsXf3UrQO3BZV1Q5SpA3EFo4X/XJECWE340B9HnPx7YCgWltd4//YCCEhgLJEBqm5QSToUxQJSBylFWby1A1zAHiGrjJ0CCDczdaKIuQE9e8y17LjBAlYnyyZK6KkBrkDrr12YjQFtEratl2fA/ZJ57LaOLI0BoyVKUONskQKi6OtuCsyNAV5/DrBZI2j8PgyyJKtYiQKva5Adoi1BAs5xfP859JUAkQAr00LkvQELCmjt0XitA4OImWRrfKkC+qUBrQZcwQMqlS8DSbjFAPT/yh7wDKUAD3CaDAxMqQLN44DQBWixA6QUQWr0sIEBJUDW7oyknQFUN12GMdSFA4tXOovBZ4z8OFHb0pggoQJfjbPG7pSlAlmZl9H81JkCvX09vHMHbP7ISg2rqQCNAupKcLS151j8l3EXMaAraP94kKWIipN4/0+W4Ve+v3z/tkKqaeDnTP+MPrXRYDNE/d/JvG/xw1z+Tg4y971H2P7m8blHstvY/L+e5Jo0o5D8UX6Uw5fzjP9/x3Ted6O8/1Dre5cg5AEB9VmQRUOLkPw==\",\"dtype\":\"float64\",\"order\":\"little\",\"shape\":[56]}},\"selected\":{\"id\":\"1887\"},\"selection_policy\":{\"id\":\"1886\"}},\"id\":\"1820\",\"type\":\"ColumnDataSource\"},{\"attributes\":{\"source\":{\"id\":\"1820\"}},\"id\":\"1825\",\"type\":\"CDSView\"},{\"attributes\":{},\"id\":\"1801\",\"type\":\"ResetTool\"},{\"attributes\":{\"overlay\":{\"id\":\"1803\"}},\"id\":\"1799\",\"type\":\"BoxZoomTool\"},{\"attributes\":{},\"id\":\"1800\",\"type\":\"SaveTool\"},{\"attributes\":{},\"id\":\"1802\",\"type\":\"HelpTool\"},{\"attributes\":{},\"id\":\"1797\",\"type\":\"PanTool\"},{\"attributes\":{},\"id\":\"1798\",\"type\":\"WheelZoomTool\"},{\"attributes\":{\"dimension\":\"lat\"},\"id\":\"1790\",\"type\":\"MercatorTicker\"},{\"attributes\":{\"axis\":{\"id\":\"1789\"},\"dimension\":1,\"ticker\":null},\"id\":\"1796\",\"type\":\"Grid\"},{\"attributes\":{\"formatter\":{\"id\":\"1792\"},\"ticker\":{\"id\":\"1790\"}},\"id\":\"1789\",\"type\":\"MercatorAxis\"},{\"attributes\":{\"dimension\":\"lat\"},\"id\":\"1792\",\"type\":\"MercatorTickFormatter\"},{\"attributes\":{},\"id\":\"1889\",\"type\":\"Selection\"},{\"attributes\":{\"text\":\"\"},\"id\":\"1878\",\"type\":\"Title\"},{\"attributes\":{\"dimension\":\"lon\"},\"id\":\"1784\",\"type\":\"MercatorTickFormatter\"},{\"attributes\":{\"axis\":{\"id\":\"1781\"},\"ticker\":null},\"id\":\"1788\",\"type\":\"Grid\"},{\"attributes\":{},\"id\":\"1888\",\"type\":\"UnionRenderers\"},{\"attributes\":{\"fill_alpha\":{\"value\":0.1},\"fill_color\":{\"value\":\"red\"},\"line_alpha\":{\"value\":0.1},\"line_color\":{\"value\":\"red\"},\"x\":{\"field\":\"lng_m\"},\"y\":{\"field\":\"lat_m\"}},\"id\":\"1823\",\"type\":\"Circle\"},{\"attributes\":{\"dimension\":\"lon\"},\"id\":\"1782\",\"type\":\"MercatorTicker\"},{\"attributes\":{\"source\":{\"id\":\"1826\"}},\"id\":\"1830\",\"type\":\"CDSView\"},{\"attributes\":{\"bottom_units\":\"screen\",\"fill_alpha\":0.5,\"fill_color\":\"lightgrey\",\"left_units\":\"screen\",\"level\":\"overlay\",\"line_alpha\":1.0,\"line_color\":\"black\",\"line_dash\":[4,4],\"line_width\":2,\"right_units\":\"screen\",\"top_units\":\"screen\"},\"id\":\"1803\",\"type\":\"BoxAnnotation\"},{\"attributes\":{},\"id\":\"1779\",\"type\":\"LinearScale\"},{\"attributes\":{\"fill_color\":{\"value\":\"blue\"},\"line_color\":{\"value\":\"blue\"},\"x\":{\"value\":-695854.463405557},\"y\":{\"value\":7068467.936886291}},\"id\":\"1827\",\"type\":\"Circle\"},{\"attributes\":{},\"id\":\"1777\",\"type\":\"LinearScale\"},{\"attributes\":{\"active_drag\":\"auto\",\"active_inspect\":\"auto\",\"active_multi\":null,\"active_scroll\":\"auto\",\"active_tap\":\"auto\",\"tools\":[{\"id\":\"1797\"},{\"id\":\"1798\"},{\"id\":\"1799\"},{\"id\":\"1800\"},{\"id\":\"1801\"},{\"id\":\"1802\"}]},\"id\":\"1804\",\"type\":\"Toolbar\"},{\"attributes\":{\"data_source\":{\"id\":\"1814\"},\"glyph\":{\"id\":\"1816\"},\"hover_glyph\":null,\"muted_glyph\":null,\"nonselection_glyph\":{\"id\":\"1817\"},\"selection_glyph\":null,\"view\":{\"id\":\"1819\"}},\"id\":\"1818\",\"type\":\"GlyphRenderer\"},{\"attributes\":{\"formatter\":{\"id\":\"1784\"},\"ticker\":{\"id\":\"1782\"}},\"id\":\"1781\",\"type\":\"MercatorAxis\"},{\"attributes\":{\"attribution\":\"&copy; <a href=\\\"https://www.openstreetmap.org/copyright\\\">OpenStreetMap</a> contributors\",\"url\":\"https://c.tile.openstreetmap.org/{Z}/{X}/{Y}.png\"},\"id\":\"1811\",\"type\":\"WMTSTileSource\"},{\"attributes\":{},\"id\":\"1775\",\"type\":\"DataRange1d\"},{\"attributes\":{\"tile_source\":{\"id\":\"1811\"}},\"id\":\"1812\",\"type\":\"TileRenderer\"},{\"attributes\":{\"source\":{\"id\":\"1814\"}},\"id\":\"1819\",\"type\":\"CDSView\"},{\"attributes\":{\"data_source\":{\"id\":\"1826\"},\"glyph\":{\"id\":\"1827\"},\"hover_glyph\":null,\"muted_glyph\":null,\"nonselection_glyph\":{\"id\":\"1828\"},\"selection_glyph\":null,\"view\":{\"id\":\"1830\"}},\"id\":\"1829\",\"type\":\"GlyphRenderer\"},{\"attributes\":{\"fill_alpha\":{\"value\":0.1},\"fill_color\":{\"value\":\"blue\"},\"line_alpha\":{\"value\":0.1},\"line_color\":{\"value\":\"blue\"},\"x\":{\"value\":-695854.463405557},\"y\":{\"value\":7068467.936886291}},\"id\":\"1828\",\"type\":\"Circle\"},{\"attributes\":{},\"id\":\"1884\",\"type\":\"UnionRenderers\"},{\"attributes\":{},\"id\":\"1773\",\"type\":\"DataRange1d\"},{\"attributes\":{},\"id\":\"1885\",\"type\":\"Selection\"},{\"attributes\":{\"data\":{\"ID\":{\"__ndarray__\":\"QkJCQkJCQkJCQkJCQkJCQkJCQkJCQkJCQkJCQkJCQkJCQkJCQkJCQkJCQkJCQkJCQkJCQkJCQkJCQkJCQkJCQkJCQkJCQkJCQkJCQkJCQkJCQkJCQkJCQkJCQkJCQkJCQkJCQkJCQkJCQkJCQkJCQkJCQkJCQkJCQkJCQkJCQkJCQkJCQkJCQkJCQkJCQkJCQkJCQkJCQkJCQkJCQkJCQkJCQkJCQkJCQkJCQkJCQkJCQkJCQkJCQkJCQkJCQkJCQkJCQkJCQkJCQkJCQkJCQkJCQkJCQkJCQkJCQkJCQkJCQkJCQkJCQkJCQkJCQkJCQg==\",\"dtype\":\"int8\",\"order\":\"little\",\"shape\":[241]},\"MF_acc\":{\"__ndarray__\":\"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\",\"dtype\":\"float64\",\"order\":\"little\",\"shape\":[241]},\"MF_dist_from_old_point\":{\"__ndarray__\":\"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\",\"dtype\":\"float64\",\"order\":\"little\",\"shape\":[241]},\"MF_lat\":{\"__ndarray__\":\"Y9vU5TmvSkBwIbDNIbJKQLOU8loJtUpAzWCtNe+3SkDzItkj1LpKQH0G5FzUukpABuruldS6SkCQzfnO1LpKQBqxBAjVukpAo5QPQdW6SkAggqlm1rpKQJ1vQ4zXukpAOAb3Xte6SkA4lmU+1rpKQBtyxovgukpAxjE2Gfq6SkB72K/gI7tKQAPULgFTu0pAJtbyFIO7SkDCK+15o7tKQNYTXKyou0pAa1fnGJC7SkASOTJFb7tKQLgafXFOu0pAXWDp1zG7SkDIYA7MG7tKQLLzJJ8Nu0pAXaSZOAO7SkBj1FnS9rpKQAYXz0XoukpA4yMGJty6SkBeWNu51bpKQBXTc8HPukpARjum7sq6SkC6ptMVx7pKQJMrmQjAukpAylv3oLG6SkDWVF+norpKQJKXIxqTukpAoLBo34G6SkBwV52LdbpKQOuLch9vukpA/lV/hGG6SkD1bnVKUbpKQIu7eapDukpApYp1BTa6SkAQJILMKbpKQFhXPWAeukpAQ/bDGQ26SkCYknjU87lKQMoIltnWuUpAcHpP5bS5SkAVSC05k7lKQCho3OVsuUpA2j+YJUu5SkATSxMALblKQH5OL+cIuUpA0OlnoOi4SkAanBsuzbhKQBjoyICiuEpAExYUBmW4SkDG501FKrhKQI1kMyzrt0pAmIxiuaW3SkCC85fMZ7dKQHtuoMA7t0pAg6ROQBO3SkBgCaNZ2bZKQIXTgayntkpA073yxYO2SkB9UAWSZrZKQI5N4IxQtkpACC8KzFS2SkCafR04Z7ZKQECgMv59tkpAdb+uy5W2SkDC8uZwrbZKQOI9YeTAtkpA7TDbBM62SkD1fv1r1LZKQDYSZ0XUtkpAi9R6v9G2SkDl18S40bZKQF30uX/RtkpAKneeeM62SkCD6nmSz7ZKQEvFD9/TtkpAMyZXDLK2SkDu+IleobZKQJK3ANmQtkpAgP7VPni2SkAA3vBxXLZKQEjHeaRmtkpAfdf6fVq2SkDWvV6rTrZKQIWGsxE+tkpAGJ7x2Cq2SkBj7IMsC7ZKQNBroRrltUpAm7+tYMC1SkCbFNSmoLVKQMpMsh9ztUpA0/Xosj21SkD6Rr3x/7RKQDiEc1fAtEpAu9QHkne0SkB6A8sRMrRKQGP3dxEBtEpA5VWLPtWzSkAOtEtlm7NKQBB/8bFgs0pA9aH5Ui6zSkDaxAH0+7JKQAry64fYskpAVUn3zsOySkAtxUPOsbJKQCDJULqZskpAcNwXhn6ySkCto07lWbJKQH0vGLcsskpAnSVbuAeySkCdZhQm57FKQECYE7TJsUpA6yuigbOxSkBFEgavp7FKQAUSAqiYsUpATvUI2omxSkCurwhZcbFKQPZpudhZsUpAY4K+mT2xSkA9cZOsHrFKQAhKGu0CsUpA7ZKBTeewSkBjEA1BxLBKQFCyiu2ksEpAyMj9s4uwSkCY1kqNdbBKQLBJIqBnsEpAzd1Sc16wSkBVKHbZVLBKQB7mJVpNsEpA6KPV2kWwSkBOlBf0ObBKQMbHcIYssEpA+sIIhhiwSkAQkYjfA7BKQCCN59jmr0pA6sAWYMSvSkCuS3s5oq9KQBY3t1OEr0pAQ9wv+mWvSkCqP/omTa9KQIpej9Mhr0pAPjq+B/muSkDNrh8Hyq5KQAKQyC2crkpAuhNGDmyuSkDS7TVOVK5KQO5vdDo1rkpAIkK2hxiuSkCbZJk0/K1KQGD4dgHlrUpAKrkddc+tSkCWXpoiwK1KQPu+bVy1rUpAwgsQu6WtSkAW5YcAlq1KQL5oM/OJrUpA8NtZBXutSkB9Ss0eaK1KQCbGex9YrUpAQLVUOUitSkDALVc/Nq1KQLWicU0mrUpAqq/3LBmtSkAQHDtNC61KQHaIfm39rEpAiB5BO/GsSkBVKBsg4qxKQIaH1FnSrEpAyq2jBcOsSkBIGjYltKxKQLXTH6ulrEpAEtvcmJ6sSkDi+htZnqxKQG57gVmhrEpA2CUEBqSsSkAAPR3ZpqxKQIJXgKWprEpApUHQ0aqsSkB7HkcYq6xKQNUhkRGrrEpA/kQay6qsSkBLPobYqqxKQJg38uWqrEpA5TBe86qsSkCWkxYuq6xKQEr2zmirrEpA2oKkT6usSkBqD3o2q6xKQPqbTx2rrEpASDmX4qqsSkB9Zv6HqqxKQLOTZS2qrEpA6sDM0qmsSkCo0T6xqaxKQKjRPrGprEpAMLVJ6qmsSkDz3heXqqxKQCp8EF2rrEpATVLzsKusSkBwKNYErKxKQHAo1gSsrEpArf4HWKusSkAG7uR4qqxKQOrAzNKprEpAVXe/ZamsSkCWZk2HqaxKQPDZKKGqrEpAusAu1KusSkCmfRdbraxKQAtX9aiurEpAvc0avK+sSkAuQUXVr6xKQC5BRdWvrEpAe96Mmq+sSkDIe9Rfr6xKQBUZHCWvrEpAExkcJa+sSkCFjEY+r6xKQIOMRj6vrEpAijUR7K6sSkCmTry5rqxKQMNnZ4eurEpA4IASVa6sSkDmKd0CrqxKQP6ZvSKurEpA/pm9Iq6sSkD+mb0irqxKQHAN6DuurEpA+vDydK6sSkA=\",\"dtype\":\"float64\",\"order\":\"little\",\"shape\":[241]},\"MF_lng\":{\"__ndarray__\":\"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\",\"dtype\":\"float64\",\"order\":\"little\",\"shape\":[241]},\"MF_vel\":{\"__ndarray__\":\"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\",\"dtype\":\"float64\",\"order\":\"little\",\"shape\":[241]},\"acc\":{\"__ndarray__\":\"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\",\"dtype\":\"float64\",\"order\":\"little\",\"shape\":[241]},\"block_id\":[41002,41002,41002,41002,41002,41002,41002,41002,41002,41002,41002,41002,41002,41002,41002,41002,41002,41002,41002,41002,41002,41002,41002,41002,41002,41002,41002,41002,41002,41002,41002,41002,41002,41002,41002,41002,41002,41002,41002,41002,41002,41002,41002,41002,41002,41002,41002,41002,41002,41002,41002,41002,41002,41002,41002,41002,41002,41002,41002,41002,41002,41002,41002,41002,41002,41002,41002,41002,41002,41002,41002,41002,41002,41002,41002,41002,41002,41002,41002,41002,41002,41002,41002,41002,41002,41002,41002,41002,41002,41002,41002,41002,41002,41002,41002,41002,41002,41002,41002,41002,41002,41002,41002,41002,41002,41002,41002,41002,41002,41002,41002,41002,41002,41002,41002,41002,41002,41002,41002,41002,41002,41002,41002,41002,41002,41002,41002,41002,41002,41002,41002,41002,41002,41002,41002,41002,41002,41002,41002,41002,41002,41002,41002,41002,41002,41002,41002,41002,41002,41002,41002,41002,41002,41002,41002,41002,41002,41002,41002,41002,41002,41002,41002,41002,41002,41002,41002,41002,41002,41002,41002,41002,41002,41002,41002,41002,41002,41002,41002,41002,41002,41002,41002,41002,41002,41002,41002,41002,41002,41002,41002,41002,41002,41002,41002,41002,41002,41002,41002,41002,41002,41002,41002,41002,41002,41002,41002,41002,41002,41002,41002,41002,41002,41002,41002,41002,41002,41002,41002,41002,41002,41002,41002,41002,41002,41002,41002,41002,41002,41002,41002,41002,41002,41002,41002,41002,41002,41002,41002,41002,41002],\"congestion\":[false,false,false,false,false,false,false,false,false,false,false,false,false,false,false,false,false,false,false,false,false,false,false,false,false,false,false,false,false,false,false,false,false,false,false,false,false,false,false,false,false,false,false,false,false,false,false,false,false,false,false,false,false,false,false,false,false,false,false,false,false,false,false,false,false,false,false,false,false,false,false,false,false,false,false,false,false,false,false,false,false,false,false,false,false,false,false,false,false,false,false,false,false,false,false,false,false,false,false,false,false,false,false,false,false,false,false,false,false,false,false,false,false,false,false,false,false,false,false,false,false,false,false,false,false,false,false,false,false,false,false,false,false,false,false,false,false,false,false,false,false,false,false,false,false,false,false,false,false,false,false,false,false,false,false,false,false,false,false,false,false,false,false,false,false,false,false,false,false,false,false,false,false,false,false,false,false,false,false,false,false,false,false,false,false,false,false,false,false,false,false,false,false,false,false,false,false,false,false,false,false,false,false,false,false,false,false,false,false,false,false,false,false,false,false,false,false,false,false,false,false,false,false,false,false,false,false,false,false,false,false,false,false,false,false,false,false,false,false,false,false],\"datetime\":{\"__ndarray__\":\"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\",\"dtype\":\"float64\",\"order\":\"little\",\"shape\":[241]},\"day\":[10,10,10,10,10,10,10,10,10,10,10,10,10,10,10,10,10,10,10,10,10,10,10,10,10,10,10,10,10,10,10,10,10,10,10,10,10,10,10,10,10,10,10,10,10,10,10,10,10,10,10,10,10,10,10,10,10,10,10,10,10,10,10,10,10,10,10,10,10,10,10,10,10,10,10,10,10,10,10,10,10,10,10,10,10,10,10,10,10,10,10,10,10,10,10,10,10,10,10,10,10,10,10,10,10,10,10,10,10,10,10,10,10,10,10,10,10,10,10,10,10,10,10,10,10,10,10,10,10,10,10,10,10,10,10,10,10,10,10,10,10,10,10,10,10,10,10,10,10,10,10,10,10,10,10,10,10,10,10,10,10,10,10,10,10,10,10,10,10,10,10,10,10,10,10,10,10,10,10,10,10,10,10,10,10,10,10,10,10,10,10,10,10,10,10,10,10,10,10,10,10,10,10,10,10,10,10,10,10,10,10,10,10,10,10,10,10,10,10,10,10,10,10,10,10,10,10,10,10,10,10,10,10,10,10,10,10,10,10,10,10],\"delay\":[0,0,0,0,0,0,0,0,0,0,0,0,52,-15,-31,-59,-84,-84,-58,-58,-86,-138,-138,-138,-112,-132,-165,-149,-149,-149,-149,-149,-115,-115,-115,-115,-115,-115,-90,-90,-60,-60,-60,-60,-60,-60,-38,-38,-83,-117,-117,-117,-117,-132,-132,-100,-100,-100,-100,-115,-160,-160,-160,-177,-177,-160,-160,-160,-160,-142,-142,-142,-113,-113,-113,-94,-94,-66,-46,-26,-6,13,33,33,56,56,56,56,101,117,117,150,170,170,187,187,209,209,209,224,224,224,64,31,31,31,31,31,56,75,75,93,113,133,133,115,87,87,32,-40,-40,-16,3,3,34,34,61,61,90,105,105,131,131,131,131,151,171,187,187,210,228,248,248,248,248,248,248,231,231,231,256,256,215,215,197,215,215,215,172,143,162,182,182,182,182,182,182,208,208,171,171,199,199,199,199,199,223,238,173,132,94,94,118,137,95,74,89,89,89,89,89,89,89,89,89,89,89,89,89,89,89,89,89,89,89,89,89,89,89,89,89,89,89,89,89,89,89,89,89,89,89,89,89,89,89,89,89,89,89,89,89,89,89,89,89,89,89,89,89,89,89],\"dist_from_old_point\":{\"__ndarray__\":\"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\",\"dtype\":\"float64\",\"order\":\"little\",\"shape\":[241]},\"hour\":[15,15,15,15,15,15,15,15,15,15,15,15,15,15,15,15,15,15,15,15,15,15,15,15,15,16,16,16,16,16,16,16,16,16,16,16,16,16,16,16,16,16,16,16,16,16,16,16,16,16,16,16,16,16,16,16,16,16,16,16,16,16,16,16,16,16,16,16,16,16,16,16,16,16,16,16,16,16,16,16,16,16,16,16,16,16,16,16,16,16,16,16,16,16,16,16,16,16,16,16,16,16,16,16,16,16,16,16,16,16,16,16,16,16,16,16,16,16,16,16,16,16,16,16,16,16,16,16,16,16,16,16,16,16,16,16,16,16,16,16,16,16,16,16,16,16,16,16,16,16,16,16,16,16,16,16,16,16,16,16,16,16,16,16,16,16,16,16,16,16,16,16,16,16,16,16,16,16,16,16,16,16,16,16,16,16,16,16,16,16,16,16,16,16,16,16,16,16,17,17,17,17,17,17,17,17,17,17,17,17,17,17,17,17,17,17,17,17,17,17,17,17,17,17,17,17,17,17,17,17,17,17,17,17,17,17,17,17,17,17,17],\"index\":[999651,1000130,1000684,1001208,1001225,1002424,1003012,1003083,1003724,1004274,1004931,1005542,1006057,1006612,1007291,1007836,1008408,1009100,1009668,1010202,1010874,1011482,1012134,1012743,1013285,1013844,1014524,1015086,1015650,1016348,1016901,1017437,1018138,1018708,1019311,1019977,1020567,1021157,1021801,1022418,1022957,1023668,1024270,1024799,1025543,1026116,1026651,1027389,1027945,1028521,1029229,1029812,1030393,1031107,1031687,1032278,1033032,1033620,1034192,1034934,1035532,1036083,1036816,1037426,1038023,1038729,1039315,1040736,1041306,1041887,1042665,1043223,1043816,1044604,1045211,1045767,1046549,1047168,1047740,1048485,1049107,1049749,1050448,1051066,1051665,1052432,1052982,1055668,1055963,1056595,1057193,1057919,1058589,1059167,1059912,1060631,1061242,1061923,1062505,1063102,1063931,1064534,1065149,1066060,1066641,1067176,1067894,1068901,1069529,1070921,1071503,1072313,1072893,1073533,1074257,1074945,1075602,1076326,1076940,1077555,1078382,1079030,1079643,1080448,1081101,1081709,1082516,1083140,1083822,1084605,1085228,1085898,1086676,1087323,1087941,1088762,1089357,1090024,1090821,1091402,1092097,1092881,1093483,1094166,1094946,1095588,1096394,1097026,1097667,1098331,1099110,1099778,1101210,1101883,1102511,1103303,1103878,1104561,1105403,1106058,1106679,1107497,1108078,1108818,1109596,1110302,1110930,1111717,1112717,1113411,1114077,1114758,1115568,1116236,1116854,1117631,1118279,1119063,1119755,1120464,1121018,1121953,1122531,1123185,1123957,1124603,1125239,1126070,1126700,1128186,1129429,1130034,1130218,1130875,1131694,1132057,1132308,1133004,1133703,1134235,1134472,1135071,1135933,1136315,1136608,1137198,1137913,1138461,1138753,1139341,1140141,1140604,1140847,1141557,1142099,1142632,1142996,1143611,1144290,1144888,1145160,1146418,1147060,1147200,1147852,1148572,1149044,1149417,1150170,1150737,1151322,1152238,1152837,1153415,1153731,1154437,1155106,1155533,1155938,1156573,1157286],\"journey_id\":[\"00411001\",\"00411001\",\"00411001\",\"00411001\",\"00411001\",\"00411001\",\"00411001\",\"00411001\",\"00411001\",\"00411001\",\"00411001\",\"00411001\",\"00411001\",\"00411001\",\"00411001\",\"00411001\",\"00411001\",\"00411001\",\"00411001\",\"00411001\",\"00411001\",\"00411001\",\"00411001\",\"00411001\",\"00411001\",\"00411001\",\"00411001\",\"00411001\",\"00411001\",\"00411001\",\"00411001\",\"00411001\",\"00411001\",\"00411001\",\"00411001\",\"00411001\",\"00411001\",\"00411001\",\"00411001\",\"00411001\",\"00411001\",\"00411001\",\"00411001\",\"00411001\",\"00411001\",\"00411001\",\"00411001\",\"00411001\",\"00411001\",\"00411001\",\"00411001\",\"00411001\",\"00411001\",\"00411001\",\"00411001\",\"00411001\",\"00411001\",\"00411001\",\"00411001\",\"00411001\",\"00411001\",\"00411001\",\"00411001\",\"00411001\",\"00411001\",\"00411001\",\"00411001\",\"00411001\",\"00411001\",\"00411001\",\"00411001\",\"00411001\",\"00411001\",\"00411001\",\"00411001\",\"00411001\",\"00411001\",\"00411001\",\"00411001\",\"00411001\",\"00411001\",\"00411001\",\"00411001\",\"00411001\",\"00411001\",\"00411001\",\"00411001\",\"00411001\",\"00411001\",\"00411001\",\"00411001\",\"00411001\",\"00411001\",\"00411001\",\"00411001\",\"00411001\",\"00411001\",\"00411001\",\"00411001\",\"00411001\",\"00411001\",\"00411001\",\"00411001\",\"00411001\",\"00411001\",\"00411001\",\"00411001\",\"00411001\",\"00411001\",\"00411001\",\"00411001\",\"00411001\",\"00411001\",\"00411001\",\"00411001\",\"00411001\",\"00411001\",\"00411001\",\"00411001\",\"00411001\",\"00411001\",\"00411001\",\"00411001\",\"00411001\",\"00411001\",\"00411001\",\"00411001\",\"00411001\",\"00411001\",\"00411001\",\"00411001\",\"00411001\",\"00411001\",\"00411001\",\"00411001\",\"00411001\",\"00411001\",\"00411001\",\"00411001\",\"00411001\",\"00411001\",\"00411001\",\"00411001\",\"00411001\",\"00411001\",\"00411001\",\"00411001\",\"00411001\",\"00411001\",\"00411001\",\"00411001\",\"00411001\",\"00411001\",\"00411001\",\"00411001\",\"00411001\",\"00411001\",\"00411001\",\"00411001\",\"00411001\",\"00411001\",\"00411001\",\"00411001\",\"00411001\",\"00411001\",\"00411001\",\"00411001\",\"00411001\",\"00411001\",\"00411001\",\"00411001\",\"00411001\",\"00411001\",\"00411001\",\"00411001\",\"00411001\",\"00411001\",\"00411001\",\"00411001\",\"00411001\",\"00411001\",\"00411001\",\"00411001\",\"00411001\",\"00411001\",\"00411001\",\"00411001\",\"00411001\",\"00411001\",\"00411001\",\"00411001\",\"00411001\",\"00411001\",\"00411001\",\"00411001\",\"00411001\",\"00411001\",\"00411001\",\"00411001\",\"00411001\",\"00411001\",\"00411001\",\"00411001\",\"00411001\",\"00411001\",\"00411001\",\"00411001\",\"00411001\",\"00411001\",\"00411001\",\"00411001\",\"00411001\",\"00411001\",\"00411001\",\"00411001\",\"00411001\",\"00411001\",\"00411001\",\"00411001\",\"00411001\",\"00411001\",\"00411001\",\"00411001\",\"00411001\",\"00411001\",\"00411001\",\"00411001\",\"00411001\",\"00411001\",\"00411001\",\"00411001\",\"00411001\",\"00411001\",\"00411001\",\"00411001\",\"00411001\",\"00411001\",\"00411001\",\"00411001\",\"00411001\",\"00411001\"],\"lat\":{\"__ndarray__\":\"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\",\"dtype\":\"float64\",\"order\":\"little\",\"shape\":[241]},\"lat_m\":{\"__ndarray__\":\"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\",\"dtype\":\"float64\",\"order\":\"little\",\"shape\":[241]},\"line_id\":[\"41.0\",\"41.0\",\"41.0\",\"41.0\",\"41.0\",\"41.0\",\"41.0\",\"41.0\",\"41.0\",\"41.0\",\"41.0\",\"41.0\",\"41.0\",\"41.0\",\"41.0\",\"41.0\",\"41.0\",\"41.0\",\"41.0\",\"41.0\",\"41.0\",\"41.0\",\"41.0\",\"41.0\",\"41.0\",\"41.0\",\"41.0\",\"41.0\",\"41.0\",\"41.0\",\"41.0\",\"41.0\",\"41.0\",\"41.0\",\"41.0\",\"41.0\",\"41.0\",\"41.0\",\"41.0\",\"41.0\",\"41.0\",\"41.0\",\"41.0\",\"41.0\",\"41.0\",\"41.0\",\"41.0\",\"41.0\",\"41.0\",\"41.0\",\"41.0\",\"41.0\",\"41.0\",\"41.0\",\"41.0\",\"41.0\",\"41.0\",\"41.0\",\"41.0\",\"41.0\",\"41.0\",\"41.0\",\"41.0\",\"41.0\",\"41.0\",\"41.0\",\"41.0\",\"41.0\",\"41.0\",\"41.0\",\"41.0\",\"41.0\",\"41.0\",\"41.0\",\"41.0\",\"41.0\",\"41.0\",\"41.0\",\"41.0\",\"41.0\",\"41.0\",\"41.0\",\"41.0\",\"41.0\",\"41.0\",\"41.0\",\"41.0\",\"41.0\",\"41.0\",\"41.0\",\"41.0\",\"41.0\",\"41.0\",\"41.0\",\"41.0\",\"41.0\",\"41.0\",\"41.0\",\"41.0\",\"41.0\",\"41.0\",\"41.0\",\"41.0\",\"41.0\",\"41.0\",\"41.0\",\"41.0\",\"41.0\",\"41.0\",\"41.0\",\"41.0\",\"41.0\",\"41.0\",\"41.0\",\"41.0\",\"41.0\",\"41.0\",\"41.0\",\"41.0\",\"41.0\",\"41.0\",\"41.0\",\"41.0\",\"41.0\",\"41.0\",\"41.0\",\"41.0\",\"41.0\",\"41.0\",\"41.0\",\"41.0\",\"41.0\",\"41.0\",\"41.0\",\"41.0\",\"41.0\",\"41.0\",\"41.0\",\"41.0\",\"41.0\",\"41.0\",\"41.0\",\"41.0\",\"41.0\",\"41.0\",\"41.0\",\"41.0\",\"41.0\",\"41.0\",\"41.0\",\"41.0\",\"41.0\",\"41.0\",\"41.0\",\"41.0\",\"41.0\",\"41.0\",\"41.0\",\"41.0\",\"41.0\",\"41.0\",\"41.0\",\"41.0\",\"41.0\",\"41.0\",\"41.0\",\"41.0\",\"41.0\",\"41.0\",\"41.0\",\"41.0\",\"41.0\",\"41.0\",\"41.0\",\"41.0\",\"41.0\",\"41.0\",\"41.0\",\"41.0\",\"41.0\",\"41.0\",\"41.0\",\"41.0\",\"41.0\",\"41.0\",\"41.0\",\"41.0\",\"41.0\",\"41.0\",\"41.0\",\"41.0\",\"41.0\",\"41.0\",\"41.0\",\"41.0\",\"41.0\",\"41.0\",\"41.0\",\"41.0\",\"41.0\",\"41.0\",\"41.0\",\"41.0\",\"41.0\",\"41.0\",\"41.0\",\"41.0\",\"41.0\",\"41.0\",\"41.0\",\"41.0\",\"41.0\",\"41.0\",\"41.0\",\"41.0\",\"41.0\",\"41.0\",\"41.0\",\"41.0\",\"41.0\",\"41.0\",\"41.0\",\"41.0\",\"41.0\",\"41.0\",\"41.0\",\"41.0\",\"41.0\",\"41.0\",\"41.0\",\"41.0\",\"41.0\",\"41.0\",\"41.0\",\"41.0\",\"41.0\",\"41.0\",\"41.0\",\"41.0\",\"41.0\",\"41.0\"],\"lng\":{\"__ndarray__\":\"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\",\"dtype\":\"float64\",\"order\":\"little\",\"shape\":[241]},\"lng_m\":{\"__ndarray__\":\"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\",\"dtype\":\"float64\",\"order\":\"little\",\"shape\":[241]},\"operator\":[\"SL\",\"SL\",\"SL\",\"SL\",\"SL\",\"SL\",\"SL\",\"SL\",\"SL\",\"SL\",\"SL\",\"SL\",\"SL\",\"SL\",\"SL\",\"SL\",\"SL\",\"SL\",\"SL\",\"SL\",\"SL\",\"SL\",\"SL\",\"SL\",\"SL\",\"SL\",\"SL\",\"SL\",\"SL\",\"SL\",\"SL\",\"SL\",\"SL\",\"SL\",\"SL\",\"SL\",\"SL\",\"SL\",\"SL\",\"SL\",\"SL\",\"SL\",\"SL\",\"SL\",\"SL\",\"SL\",\"SL\",\"SL\",\"SL\",\"SL\",\"SL\",\"SL\",\"SL\",\"SL\",\"SL\",\"SL\",\"SL\",\"SL\",\"SL\",\"SL\",\"SL\",\"SL\",\"SL\",\"SL\",\"SL\",\"SL\",\"SL\",\"SL\",\"SL\",\"SL\",\"SL\",\"SL\",\"SL\",\"SL\",\"SL\",\"SL\",\"SL\",\"SL\",\"SL\",\"SL\",\"SL\",\"SL\",\"SL\",\"SL\",\"SL\",\"SL\",\"SL\",\"SL\",\"SL\",\"SL\",\"SL\",\"SL\",\"SL\",\"SL\",\"SL\",\"SL\",\"SL\",\"SL\",\"SL\",\"SL\",\"SL\",\"SL\",\"SL\",\"SL\",\"SL\",\"SL\",\"SL\",\"SL\",\"SL\",\"SL\",\"SL\",\"SL\",\"SL\",\"SL\",\"SL\",\"SL\",\"SL\",\"SL\",\"SL\",\"SL\",\"SL\",\"SL\",\"SL\",\"SL\",\"SL\",\"SL\",\"SL\",\"SL\",\"SL\",\"SL\",\"SL\",\"SL\",\"SL\",\"SL\",\"SL\",\"SL\",\"SL\",\"SL\",\"SL\",\"SL\",\"SL\",\"SL\",\"SL\",\"SL\",\"SL\",\"SL\",\"SL\",\"SL\",\"SL\",\"SL\",\"SL\",\"SL\",\"SL\",\"SL\",\"SL\",\"SL\",\"SL\",\"SL\",\"SL\",\"SL\",\"SL\",\"SL\",\"SL\",\"SL\",\"SL\",\"SL\",\"SL\",\"SL\",\"SL\",\"SL\",\"SL\",\"SL\",\"SL\",\"SL\",\"SL\",\"SL\",\"SL\",\"SL\",\"SL\",\"SL\",\"SL\",\"SL\",\"SL\",\"SL\",\"SL\",\"SL\",\"SL\",\"SL\",\"SL\",\"SL\",\"SL\",\"SL\",\"SL\",\"SL\",\"SL\",\"SL\",\"SL\",\"SL\",\"SL\",\"SL\",\"SL\",\"SL\",\"SL\",\"SL\",\"SL\",\"SL\",\"SL\",\"SL\",\"SL\",\"SL\",\"SL\",\"SL\",\"SL\",\"SL\",\"SL\",\"SL\",\"SL\",\"SL\",\"SL\",\"SL\",\"SL\",\"SL\",\"SL\",\"SL\",\"SL\",\"SL\",\"SL\",\"SL\",\"SL\",\"SL\",\"SL\",\"SL\",\"SL\",\"SL\",\"SL\",\"SL\",\"SL\",\"SL\",\"SL\",\"SL\",\"SL\"],\"outlier\":[1,1,1,1,1,1,1,1,1,1,1,1,1,-1,-1,-1,-1,1,1,1,-1,-1,1,1,1,1,-1,1,1,1,1,-1,1,1,1,1,1,-1,1,1,1,1,-1,1,1,1,1,1,-1,-1,1,1,1,-1,1,1,1,1,1,-1,-1,1,1,-1,-1,-1,1,-1,1,1,-1,1,1,-1,1,1,1,1,1,1,1,1,-1,1,1,1,1,-1,-1,1,1,1,1,-1,1,1,1,-1,-1,1,1,-1,-1,-1,1,-1,-1,1,-1,-1,-1,1,1,1,1,1,1,1,1,1,1,1,1,1,1,1,1,1,1,1,-1,1,1,1,1,1,1,1,1,1,-1,1,1,1,1,1,1,-1,1,1,1,1,-1,1,-1,-1,1,1,-1,1,1,1,1,1,1,1,1,1,1,1,1,1,1,1,1,1,1,-1,1,1,1,1,1,1,1,1,-1,-1,1,1,1,1,-1,-1,1,1,-1,1,1,1,1,1,1,1,-1,1,1,1,-1,1,1,1,-1,1,1,1,-1,1,-1,1,-1,1,1,-1,1,1,1,1,1,1,1,1,1,1,-1,1,1,1,1,1,1],\"outlier2\":[1,1,1,1,1,-1,-1,1,1,1,1,1,1,1,1,1,1,1,1,1,1,1,1,1,1,1,1,1,1,1,1,1,1,1,1,1,1,1,1,1,1,1,1,1,1,1,1,1,1,1,1,-1,1,1,1,1,1,1,1,1,1,1,1,1,-1,1,1,1,1,1,1,1,1,-1,1,-1,1,1,1,1,1,1,1,1,1,1,1,1,1,1,1,1,1,1,1,1,1,1,1,1,1,1,1,1,1,1,1,1,1,1,1,1,1,1,1,1,-1,1,1,1,1,1,1,1,1,-1,-1,1,1,1,1,1,1,1,1,1,1,1,1,1,1,1,1,1,1,1,1,1,1,1,1,1,-1,1,1,1,1,1,1,1,1,1,1,1,1,1,-1,1,-1,1,1,1,1,1,1,1,1,1,1,1,-1,1,1,1,1,1,1,1,1,1,1,-1,1,1,1,1,1,1,1,1,1,-1,1,1,-1,1,1,1,-1,1,1,1,-1,1,1,1,-1,1,1,1,-1,-1,1,-1,1,1,1,1,1,1,1,1,1,1,1,1,1,1,1,1,1],\"outlier2_norm\":[1,1,1,1,1,-1,-1,1,-1,1,1,1,1,1,1,1,1,1,1,1,1,-1,1,1,1,1,1,1,1,1,1,1,1,1,-1,1,1,1,1,1,-1,1,1,1,-1,1,1,1,1,1,1,-1,1,1,1,1,1,1,1,1,1,1,1,1,1,-1,1,1,1,1,1,1,1,1,1,-1,1,1,1,1,1,1,-1,1,1,1,1,1,1,-1,1,1,1,1,1,1,1,1,1,1,1,1,1,1,1,1,1,1,1,1,1,1,1,1,1,1,1,1,1,1,1,1,1,1,1,1,-1,1,1,1,1,1,1,1,1,1,1,1,-1,1,1,1,1,1,1,1,1,-1,1,1,1,1,1,1,1,1,1,1,1,1,-1,1,1,1,1,-1,-1,1,1,1,1,1,1,1,1,1,1,1,1,1,1,-1,1,1,1,1,1,1,1,1,1,1,1,1,1,1,1,1,1,1,1,-1,1,1,1,1,-1,1,1,-1,1,1,1,1,1,1,1,-1,1,1,-1,-1,1,1,1,1,1,1,1,1,1,-1,1,1,1,1,1,1,1,1,1],\"outlier_0\":[-1,1,1,1,-1,-1,1,-1,1,1,1,1,1,-1,1,-1,1,1,1,1,1,-1,1,1,1,1,1,1,1,1,1,1,1,1,1,1,1,1,1,1,1,1,1,1,1,1,1,1,-1,-1,1,1,1,1,1,1,1,1,1,-1,-1,1,1,-1,1,1,1,-1,1,1,1,1,1,-1,1,1,1,1,1,1,1,1,1,1,1,1,1,-1,-1,1,1,1,1,1,1,1,1,-1,-1,1,1,-1,-1,-1,1,1,1,-1,-1,-1,1,1,1,1,1,1,-1,1,1,1,1,1,1,1,1,1,1,1,1,1,1,1,1,1,1,1,1,1,1,1,1,1,1,1,1,1,1,-1,1,1,1,1,-1,1,1,1,1,1,1,1,1,1,1,1,1,1,1,1,-1,1,1,1,1,1,1,1,1,1,1,1,1,1,1,1,1,1,1,1,1,-1,-1,1,-1,1,1,-1,-1,1,1,1,-1,1,1,-1,-1,1,1,1,-1,1,1,1,-1,1,1,1,-1,1,1,1,-1,-1,1,-1,1,1,1,-1,1,1,1,-1,1,1,-1,1,1,1,-1,1,1],\"outlier_MF\":[1,-1,-1,-1,-1,1,1,-1,1,1,1,1,1,1,1,1,1,-1,1,1,1,1,1,1,1,1,1,1,1,1,1,1,1,1,1,1,1,1,1,1,1,1,1,1,1,1,1,1,1,1,-1,1,-1,1,1,1,1,1,1,1,-1,-1,-1,-1,-1,1,1,1,1,1,1,1,1,1,1,1,1,1,1,1,1,1,1,1,1,1,1,1,-1,1,1,1,1,1,1,1,1,1,1,1,1,1,1,-1,-1,-1,-1,1,1,1,-1,1,-1,1,1,1,1,1,1,1,1,1,1,1,1,1,1,1,1,1,1,1,1,1,1,1,1,1,1,1,1,1,1,1,1,1,1,1,1,1,1,1,1,1,-1,1,-1,1,1,1,1,1,1,1,1,1,1,1,1,1,1,1,1,1,1,1,1,1,1,1,1,1,1,1,1,1,1,1,1,1,1,1,-1,1,1,1,1,1,1,1,1,1,1,1,1,1,1,1,1,1,1,1,1,1,1,1,1,1,1,1,1,1,1,1,1,1,1,1,1,1,1,1,1,1,1,1,1,1,1,1,1],\"outlier_norm\":[1,1,1,1,1,1,1,1,1,1,1,1,1,-1,-1,-1,-1,1,1,1,-1,-1,1,1,1,1,-1,1,1,1,1,-1,1,1,1,1,1,-1,1,1,1,1,-1,1,1,1,1,1,-1,-1,1,1,1,-1,1,1,1,1,1,-1,-1,1,1,-1,-1,-1,1,-1,1,1,-1,1,1,-1,1,1,1,1,1,1,1,1,-1,1,1,1,1,-1,-1,1,1,1,-1,-1,1,1,1,-1,-1,1,1,-1,-1,-1,1,-1,-1,1,-1,-1,-1,1,1,1,1,1,1,1,1,1,1,1,1,1,1,1,1,1,1,1,-1,1,1,1,1,1,1,1,1,1,-1,1,1,1,1,1,1,-1,1,1,1,1,-1,1,-1,-1,1,1,-1,1,1,1,1,1,1,1,1,1,1,1,1,1,1,1,1,1,1,-1,1,1,1,1,1,1,1,1,-1,-1,1,1,1,1,-1,-1,1,1,-1,1,1,1,1,1,1,1,-1,1,1,1,-1,1,1,1,-1,1,1,1,-1,1,-1,1,-1,1,1,-1,1,1,1,1,1,1,1,1,1,1,-1,1,1,1,1,1,1],\"stop\":[true,true,true,true,true,true,true,true,true,true,false,false,false,false,false,false,false,false,false,false,false,false,true,true,false,false,false,false,false,false,false,false,false,false,true,false,false,true,false,false,false,false,false,false,false,false,false,false,false,false,false,true,false,false,false,false,false,true,false,false,false,false,false,false,false,false,false,false,false,false,false,false,false,false,false,false,false,true,true,true,true,true,false,false,false,false,false,false,false,false,false,false,false,false,false,false,false,false,false,false,false,false,false,false,true,false,false,false,false,false,false,true,true,true,false,false,false,true,false,false,false,false,false,false,false,true,false,false,false,false,false,false,false,false,false,false,false,false,false,false,false,false,false,true,false,false,false,false,true,false,false,false,false,false,false,false,false,false,false,false,false,false,false,true,false,false,false,false,false,false,false,false,false,false,false,true,true,false,false,false,false,false,false,false,false,false,false,false,false,false,false,true,true,true,true,true,true,true,true,true,true,true,true,true,true,true,true,true,true,true,true,true,true,true,true,true,true,true,true,true,true,true,true,true,true,true,true,true,true,true,true,true,true,true,true,true,true,true,true,true,true],\"stop_id\":[4843.0,4843.0,4843.0,4843.0,4843.0,4843.0,4843.0,4843.0,4843.0,4843.0,4843.0,4843.0,4843.0,4905.0,4906.0,4907.0,4909.0,4909.0,4909.0,4909.0,4909.0,3884.0,3686.0,3686.0,3686.0,3686.0,5077.0,5077.0,5077.0,5077.0,5077.0,5077.0,5077.0,5077.0,3689.0,3689.0,3689.0,3690.0,3690.0,3690.0,3690.0,3690.0,3690.0,3690.0,6117.0,6117.0,6117.0,6117.0,5079.0,5079.0,5079.0,3694.0,3694.0,3695.0,3695.0,3695.0,3695.0,3696.0,3696.0,3697.0,3698.0,3699.0,3699.0,3699.0,3699.0,3699.0,3699.0,3885.0,3885.0,3885.0,3885.0,3663.0,3663.0,3663.0,3663.0,3663.0,3663.0,7347.0,7347.0,7347.0,7347.0,7347.0,7347.0,7347.0,7347.0,7347.0,7347.0,7349.0,3669.0,7349.0,7349.0,7349.0,7349.0,7349.0,7349.0,7349.0,1631.0,1632.0,5053.0,5053.0,1633.0,1633.0,1634.0,1635.0,1636.0,1636.0,1636.0,1636.0,1637.0,1638.0,1638.0,1639.0,1639.0,1639.0,1639.0,1639.0,1639.0,1640.0,1640.0,1640.0,231.0,231.0,231.0,231.0,231.0,1641.0,1641.0,1641.0,1642.0,1642.0,1642.0,213.0,213.0,214.0,214.0,214.0,214.0,214.0,214.0,4432.0,4432.0,4432.0,4432.0,119.0,119.0,119.0,44.0,44.0,45.0,45.0,45.0,45.0,46.0,47.0,48.0,48.0,48.0,48.0,49.0,51.0,51.0,51.0,51.0,52.0,52.0,52.0,52.0,52.0,52.0,52.0,52.0,52.0,52.0,52.0,52.0,277.0,277.0,277.0,277.0,277.0,277.0,277.0,277.0,277.0,277.0,277.0,277.0,277.0,277.0,277.0,277.0,288.0,288.0,288.0,288.0,288.0,288.0,288.0,288.0,288.0,288.0,288.0,288.0,288.0,288.0,288.0,288.0,288.0,288.0,288.0,288.0,288.0,288.0,288.0,288.0,288.0,288.0,288.0,288.0,288.0,288.0,288.0,288.0,288.0,288.0,288.0,288.0,288.0,288.0,288.0,288.0,288.0,288.0,288.0,288.0,288.0,288.0,288.0,288.0,288.0,288.0],\"time_frame\":[\"2013-01-10\",\"2013-01-10\",\"2013-01-10\",\"2013-01-10\",\"2013-01-10\",\"2013-01-10\",\"2013-01-10\",\"2013-01-10\",\"2013-01-10\",\"2013-01-10\",\"2013-01-10\",\"2013-01-10\",\"2013-01-10\",\"2013-01-10\",\"2013-01-10\",\"2013-01-10\",\"2013-01-10\",\"2013-01-10\",\"2013-01-10\",\"2013-01-10\",\"2013-01-10\",\"2013-01-10\",\"2013-01-10\",\"2013-01-10\",\"2013-01-10\",\"2013-01-10\",\"2013-01-10\",\"2013-01-10\",\"2013-01-10\",\"2013-01-10\",\"2013-01-10\",\"2013-01-10\",\"2013-01-10\",\"2013-01-10\",\"2013-01-10\",\"2013-01-10\",\"2013-01-10\",\"2013-01-10\",\"2013-01-10\",\"2013-01-10\",\"2013-01-10\",\"2013-01-10\",\"2013-01-10\",\"2013-01-10\",\"2013-01-10\",\"2013-01-10\",\"2013-01-10\",\"2013-01-10\",\"2013-01-10\",\"2013-01-10\",\"2013-01-10\",\"2013-01-10\",\"2013-01-10\",\"2013-01-10\",\"2013-01-10\",\"2013-01-10\",\"2013-01-10\",\"2013-01-10\",\"2013-01-10\",\"2013-01-10\",\"2013-01-10\",\"2013-01-10\",\"2013-01-10\",\"2013-01-10\",\"2013-01-10\",\"2013-01-10\",\"2013-01-10\",\"2013-01-10\",\"2013-01-10\",\"2013-01-10\",\"2013-01-10\",\"2013-01-10\",\"2013-01-10\",\"2013-01-10\",\"2013-01-10\",\"2013-01-10\",\"2013-01-10\",\"2013-01-10\",\"2013-01-10\",\"2013-01-10\",\"2013-01-10\",\"2013-01-10\",\"2013-01-10\",\"2013-01-10\",\"2013-01-10\",\"2013-01-10\",\"2013-01-10\",\"2013-01-10\",\"2013-01-10\",\"2013-01-10\",\"2013-01-10\",\"2013-01-10\",\"2013-01-10\",\"2013-01-10\",\"2013-01-10\",\"2013-01-10\",\"2013-01-10\",\"2013-01-10\",\"2013-01-10\",\"2013-01-10\",\"2013-01-10\",\"2013-01-10\",\"2013-01-10\",\"2013-01-10\",\"2013-01-10\",\"2013-01-10\",\"2013-01-10\",\"2013-01-10\",\"2013-01-10\",\"2013-01-10\",\"2013-01-10\",\"2013-01-10\",\"2013-01-10\",\"2013-01-10\",\"2013-01-10\",\"2013-01-10\",\"2013-01-10\",\"2013-01-10\",\"2013-01-10\",\"2013-01-10\",\"2013-01-10\",\"2013-01-10\",\"2013-01-10\",\"2013-01-10\",\"2013-01-10\",\"2013-01-10\",\"2013-01-10\",\"2013-01-10\",\"2013-01-10\",\"2013-01-10\",\"2013-01-10\",\"2013-01-10\",\"2013-01-10\",\"2013-01-10\",\"2013-01-10\",\"2013-01-10\",\"2013-01-10\",\"2013-01-10\",\"2013-01-10\",\"2013-01-10\",\"2013-01-10\",\"2013-01-10\",\"2013-01-10\",\"2013-01-10\",\"2013-01-10\",\"2013-01-10\",\"2013-01-10\",\"2013-01-10\",\"2013-01-10\",\"2013-01-10\",\"2013-01-10\",\"2013-01-10\",\"2013-01-10\",\"2013-01-10\",\"2013-01-10\",\"2013-01-10\",\"2013-01-10\",\"2013-01-10\",\"2013-01-10\",\"2013-01-10\",\"2013-01-10\",\"2013-01-10\",\"2013-01-10\",\"2013-01-10\",\"2013-01-10\",\"2013-01-10\",\"2013-01-10\",\"2013-01-10\",\"2013-01-10\",\"2013-01-10\",\"2013-01-10\",\"2013-01-10\",\"2013-01-10\",\"2013-01-10\",\"2013-01-10\",\"2013-01-10\",\"2013-01-10\",\"2013-01-10\",\"2013-01-10\",\"2013-01-10\",\"2013-01-10\",\"2013-01-10\",\"2013-01-10\",\"2013-01-10\",\"2013-01-10\",\"2013-01-10\",\"2013-01-10\",\"2013-01-10\",\"2013-01-10\",\"2013-01-10\",\"2013-01-10\",\"2013-01-10\",\"2013-01-10\",\"2013-01-10\",\"2013-01-10\",\"2013-01-10\",\"2013-01-10\",\"2013-01-10\",\"2013-01-10\",\"2013-01-10\",\"2013-01-10\",\"2013-01-10\",\"2013-01-10\",\"2013-01-10\",\"2013-01-10\",\"2013-01-10\",\"2013-01-10\",\"2013-01-10\",\"2013-01-10\",\"2013-01-10\",\"2013-01-10\",\"2013-01-10\",\"2013-01-10\",\"2013-01-10\",\"2013-01-10\",\"2013-01-10\",\"2013-01-10\",\"2013-01-10\",\"2013-01-10\",\"2013-01-10\",\"2013-01-10\",\"2013-01-10\",\"2013-01-10\",\"2013-01-10\",\"2013-01-10\",\"2013-01-10\",\"2013-01-10\",\"2013-01-10\",\"2013-01-10\",\"2013-01-10\",\"2013-01-10\",\"2013-01-10\",\"2013-01-10\",\"2013-01-10\",\"2013-01-10\",\"2013-01-10\",\"2013-01-10\",\"2013-01-10\",\"2013-01-10\",\"2013-01-10\",\"2013-01-10\"],\"time_from_old_point\":[0,14,21,20,2,37,21,2,18,21,21,20,19,20,19,20,20,21,21,18,19,22,21,18,21,20,21,18,21,20,19,20,21,20,20,18,21,21,20,21,18,21,20,19,20,20,21,21,18,21,18,22,20,21,18,21,20,19,20,21,20,18,21,21,20,19,20,43,19,18,20,19,20,23,20,19,20,20,19,21,20,21,18,20,21,20,19,84,6,21,20,19,21,19,21,20,21,18,21,18,21,21,21,20,21,18,19,31,20,39,21,20,18,20,21,20,23,18,19,20,21,20,19,20,23,16,21,20,21,20,18,21,20,21,20,21,18,19,22,19,20,21,18,21,20,21,22,17,20,21,18,21,41,21,18,21,18,21,20,21,18,21,20,20,21,22,17,20,31,19,20,20,21,20,19,20,21,20,19,21,18,22,19,21,18,21,20,21,18,41,39,17,4,20,23,12,4,21,21,14,4,21,22,13,6,18,21,14,6,19,22,15,4,21,19,14,7,18,21,15,6,39,17,2,20,21,14,7,20,20,15,25,18,16,5,20,21,14,6,19,20],\"timestamp\":[1357833140000000,1357833154000000,1357833175000000,1357833195000000,1357833197000000,1357833234000000,1357833255000000,1357833257000000,1357833275000000,1357833296000000,1357833317000000,1357833337000000,1357833356000000,1357833376000000,1357833395000000,1357833415000000,1357833435000000,1357833456000000,1357833477000000,1357833495000000,1357833514000000,1357833536000000,1357833557000000,1357833575000000,1357833596000000,1357833616000000,1357833637000000,1357833655000000,1357833676000000,1357833696000000,1357833715000000,1357833735000000,1357833756000000,1357833776000000,1357833796000000,1357833814000000,1357833835000000,1357833856000000,1357833876000000,1357833897000000,1357833915000000,1357833936000000,1357833956000000,1357833975000000,1357833995000000,1357834015000000,1357834036000000,1357834057000000,1357834075000000,1357834096000000,1357834114000000,1357834136000000,1357834156000000,1357834177000000,1357834195000000,1357834216000000,1357834236000000,1357834255000000,1357834275000000,1357834296000000,1357834316000000,1357834334000000,1357834355000000,1357834376000000,1357834396000000,1357834415000000,1357834435000000,1357834478000000,1357834497000000,1357834515000000,1357834535000000,1357834554000000,1357834574000000,1357834597000000,1357834617000000,1357834636000000,1357834656000000,1357834676000000,1357834695000000,1357834716000000,1357834736000000,1357834757000000,1357834775000000,1357834795000000,1357834816000000,1357834836000000,1357834855000000,1357834939000000,1357834945000000,1357834966000000,1357834986000000,1357835005000000,1357835026000000,1357835045000000,1357835066000000,1357835086000000,1357835107000000,1357835125000000,1357835146000000,1357835164000000,1357835185000000,1357835206000000,1357835227000000,1357835247000000,1357835268000000,1357835286000000,1357835305000000,1357835336000000,1357835356000000,1357835395000000,1357835416000000,1357835436000000,1357835454000000,1357835474000000,1357835495000000,1357835515000000,1357835538000000,1357835556000000,1357835575000000,1357835595000000,1357835616000000,1357835636000000,1357835655000000,1357835675000000,1357835698000000,1357835714000000,1357835735000000,1357835755000000,1357835776000000,1357835796000000,1357835814000000,1357835835000000,1357835855000000,1357835876000000,1357835896000000,1357835917000000,1357835935000000,1357835954000000,1357835976000000,1357835995000000,1357836015000000,1357836036000000,1357836054000000,1357836075000000,1357836095000000,1357836116000000,1357836138000000,1357836155000000,1357836175000000,1357836196000000,1357836214000000,1357836235000000,1357836276000000,1357836297000000,1357836315000000,1357836336000000,1357836354000000,1357836375000000,1357836395000000,1357836416000000,1357836434000000,1357836455000000,1357836475000000,1357836495000000,1357836516000000,1357836538000000,1357836555000000,1357836575000000,1357836606000000,1357836625000000,1357836645000000,1357836665000000,1357836686000000,1357836706000000,1357836725000000,1357836745000000,1357836766000000,1357836786000000,1357836805000000,1357836826000000,1357836844000000,1357836866000000,1357836885000000,1357836906000000,1357836924000000,1357836945000000,1357836965000000,1357836986000000,1357837004000000,1357837045000000,1357837084000000,1357837101000000,1357837105000000,1357837125000000,1357837148000000,1357837160000000,1357837164000000,1357837185000000,1357837206000000,1357837220000000,1357837224000000,1357837245000000,1357837267000000,1357837280000000,1357837286000000,1357837304000000,1357837325000000,1357837339000000,1357837345000000,1357837364000000,1357837386000000,1357837401000000,1357837405000000,1357837426000000,1357837445000000,1357837459000000,1357837466000000,1357837484000000,1357837505000000,1357837520000000,1357837526000000,1357837565000000,1357837582000000,1357837584000000,1357837604000000,1357837625000000,1357837639000000,1357837646000000,1357837666000000,1357837686000000,1357837701000000,1357837726000000,1357837744000000,1357837760000000,1357837765000000,1357837785000000,1357837806000000,1357837820000000,1357837826000000,1357837845000000,1357837865000000],\"vehicle_id\":[\"33269\",\"33269\",\"33269\",\"33269\",\"33269\",\"33269\",\"33269\",\"33269\",\"33269\",\"33269\",\"33269\",\"33269\",\"33269\",\"33269\",\"33269\",\"33269\",\"33269\",\"33269\",\"33269\",\"33269\",\"33269\",\"33269\",\"33269\",\"33269\",\"33269\",\"33269\",\"33269\",\"33269\",\"33269\",\"33269\",\"33269\",\"33269\",\"33269\",\"33269\",\"33269\",\"33269\",\"33269\",\"33269\",\"33269\",\"33269\",\"33269\",\"33269\",\"33269\",\"33269\",\"33269\",\"33269\",\"33269\",\"33269\",\"33269\",\"33269\",\"33269\",\"33269\",\"33269\",\"33269\",\"33269\",\"33269\",\"33269\",\"33269\",\"33269\",\"33269\",\"33269\",\"33269\",\"33269\",\"33269\",\"33269\",\"33269\",\"33269\",\"33269\",\"33269\",\"33269\",\"33269\",\"33269\",\"33269\",\"33269\",\"33269\",\"33269\",\"33269\",\"33269\",\"33269\",\"33269\",\"33269\",\"33269\",\"33269\",\"33269\",\"33269\",\"33269\",\"33269\",\"33269\",\"33269\",\"33269\",\"33269\",\"33269\",\"33269\",\"33269\",\"33269\",\"33269\",\"33269\",\"33269\",\"33269\",\"33269\",\"33269\",\"33269\",\"33269\",\"33269\",\"33269\",\"33269\",\"33269\",\"33269\",\"33269\",\"33269\",\"33269\",\"33269\",\"33269\",\"33269\",\"33269\",\"33269\",\"33269\",\"33269\",\"33269\",\"33269\",\"33269\",\"33269\",\"33269\",\"33269\",\"33269\",\"33269\",\"33269\",\"33269\",\"33269\",\"33269\",\"33269\",\"33269\",\"33269\",\"33269\",\"33269\",\"33269\",\"33269\",\"33269\",\"33269\",\"33269\",\"33269\",\"33269\",\"33269\",\"33269\",\"33269\",\"33269\",\"33269\",\"33269\",\"33269\",\"33269\",\"33269\",\"33269\",\"33269\",\"33269\",\"33269\",\"33269\",\"33269\",\"33269\",\"33269\",\"33269\",\"33269\",\"33269\",\"33269\",\"33269\",\"33269\",\"33269\",\"33269\",\"33269\",\"33269\",\"33269\",\"33269\",\"33269\",\"33269\",\"33269\",\"33269\",\"33269\",\"33269\",\"33269\",\"33269\",\"33269\",\"33269\",\"33269\",\"33269\",\"33269\",\"33269\",\"33269\",\"33269\",\"33269\",\"33269\",\"33269\",\"33269\",\"33269\",\"33269\",\"33269\",\"33269\",\"33269\",\"33269\",\"33269\",\"33269\",\"33269\",\"33269\",\"33269\",\"33269\",\"33269\",\"33269\",\"33269\",\"33269\",\"33269\",\"33269\",\"33269\",\"33269\",\"33269\",\"33269\",\"33269\",\"33269\",\"33269\",\"33269\",\"33269\",\"33269\",\"33269\",\"33269\",\"33269\",\"33269\",\"33269\",\"33269\",\"33269\",\"33269\",\"33269\",\"33269\",\"33269\",\"33269\",\"33269\",\"33269\",\"33269\",\"33269\",\"33269\",\"33269\",\"33269\",\"33269\",\"33269\",\"33269\"],\"vehicle_journey_id\":[\"145\",\"145\",\"145\",\"145\",\"145\",\"145\",\"145\",\"145\",\"145\",\"145\",\"145\",\"145\",\"145\",\"145\",\"145\",\"145\",\"145\",\"145\",\"145\",\"145\",\"145\",\"145\",\"145\",\"145\",\"145\",\"145\",\"145\",\"145\",\"145\",\"145\",\"145\",\"145\",\"145\",\"145\",\"145\",\"145\",\"145\",\"145\",\"145\",\"145\",\"145\",\"145\",\"145\",\"145\",\"145\",\"145\",\"145\",\"145\",\"145\",\"145\",\"145\",\"145\",\"145\",\"145\",\"145\",\"145\",\"145\",\"145\",\"145\",\"145\",\"145\",\"145\",\"145\",\"145\",\"145\",\"145\",\"145\",\"145\",\"145\",\"145\",\"145\",\"145\",\"145\",\"145\",\"145\",\"145\",\"145\",\"145\",\"145\",\"145\",\"145\",\"145\",\"145\",\"145\",\"145\",\"145\",\"145\",\"145\",\"145\",\"145\",\"145\",\"145\",\"145\",\"145\",\"145\",\"145\",\"145\",\"145\",\"145\",\"145\",\"145\",\"145\",\"145\",\"145\",\"145\",\"145\",\"145\",\"145\",\"145\",\"145\",\"145\",\"145\",\"145\",\"145\",\"145\",\"145\",\"145\",\"145\",\"145\",\"145\",\"145\",\"145\",\"145\",\"145\",\"145\",\"145\",\"145\",\"145\",\"145\",\"145\",\"145\",\"145\",\"145\",\"145\",\"145\",\"145\",\"145\",\"145\",\"145\",\"145\",\"145\",\"145\",\"145\",\"145\",\"145\",\"145\",\"145\",\"145\",\"145\",\"145\",\"145\",\"145\",\"145\",\"145\",\"145\",\"145\",\"145\",\"145\",\"145\",\"145\",\"145\",\"145\",\"145\",\"145\",\"145\",\"145\",\"145\",\"145\",\"145\",\"145\",\"145\",\"145\",\"145\",\"145\",\"145\",\"145\",\"145\",\"145\",\"145\",\"145\",\"145\",\"145\",\"145\",\"145\",\"145\",\"145\",\"145\",\"145\",\"145\",\"145\",\"145\",\"145\",\"145\",\"145\",\"145\",\"145\",\"145\",\"145\",\"145\",\"145\",\"145\",\"145\",\"145\",\"145\",\"145\",\"145\",\"145\",\"145\",\"145\",\"145\",\"145\",\"145\",\"145\",\"145\",\"145\",\"145\",\"145\",\"145\",\"145\",\"145\",\"145\",\"145\",\"145\",\"145\",\"145\",\"145\",\"145\",\"145\",\"145\",\"145\",\"145\",\"145\",\"145\",\"145\",\"145\",\"145\",\"145\",\"145\",\"145\",\"145\",\"145\"],\"velocity\":{\"__ndarray__\":\"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\",\"dtype\":\"float64\",\"order\":\"little\",\"shape\":[241]}},\"selected\":{\"id\":\"1885\"},\"selection_policy\":{\"id\":\"1884\"}},\"id\":\"1814\",\"type\":\"ColumnDataSource\"},{\"attributes\":{\"fill_color\":{\"value\":\"red\"},\"line_color\":{\"value\":\"red\"},\"x\":{\"field\":\"lng_m\"},\"y\":{\"field\":\"lat_m\"}},\"id\":\"1822\",\"type\":\"Circle\"}],\"root_ids\":[\"1772\"]},\"title\":\"Bokeh Application\",\"version\":\"2.2.1\"}};\n",
       "  var render_items = [{\"docid\":\"588b5455-942a-49dc-b8c3-1e6ffefdb1d2\",\"root_ids\":[\"1772\"],\"roots\":{\"1772\":\"b41e5d23-e671-4e53-8a00-2eef5e5d5548\"}}];\n",
       "  root.Bokeh.embed.embed_items_notebook(docs_json, render_items);\n",
       "\n",
       "  }\n",
       "  if (root.Bokeh !== undefined) {\n",
       "    embed_document(root);\n",
       "  } else {\n",
       "    var attempts = 0;\n",
       "    var timer = setInterval(function(root) {\n",
       "      if (root.Bokeh !== undefined) {\n",
       "        clearInterval(timer);\n",
       "        embed_document(root);\n",
       "      } else {\n",
       "        attempts++;\n",
       "        if (attempts > 100) {\n",
       "          clearInterval(timer);\n",
       "          console.log(\"Bokeh: ERROR: Unable to run BokehJS code because BokehJS library is missing\");\n",
       "        }\n",
       "      }\n",
       "    }, 10, root)\n",
       "  }\n",
       "})(window);"
      ],
      "application/vnd.bokehjs_exec.v0+json": ""
     },
     "metadata": {
      "application/vnd.bokehjs_exec.v0+json": {
       "id": "1772"
      }
     },
     "output_type": "display_data"
    },
    {
     "name": "stderr",
     "output_type": "stream",
     "text": [
      "/home/saci/hd/projetos/trajetorias/its_research/venvTraj/lib/python3.8/site-packages/pandas/core/frame.py:3065: SettingWithCopyWarning: \n",
      "A value is trying to be set on a copy of a slice from a DataFrame.\n",
      "Try using .loc[row_indexer,col_indexer] = value instead\n",
      "\n",
      "See the caveats in the documentation: https://pandas.pydata.org/pandas-docs/stable/user_guide/indexing.html#returning-a-view-versus-a-copy\n",
      "  self[k1] = value[k2]\n"
     ]
    },
    {
     "data": {
      "text/html": [
       "\n",
       "\n",
       "\n",
       "\n",
       "\n",
       "\n",
       "  <div class=\"bk-root\" id=\"a7b9177e-b0b2-4e13-98ae-aaf852ddecdd\" data-root-id=\"1997\"></div>\n"
      ]
     },
     "metadata": {},
     "output_type": "display_data"
    },
    {
     "data": {
      "application/javascript": [
       "(function(root) {\n",
       "  function embed_document(root) {\n",
       "    \n",
       "  var docs_json = {\"079fe318-41f1-44b8-81d1-ea2091332fb3\":{\"roots\":{\"references\":[{\"attributes\":{\"below\":[{\"id\":\"2006\"}],\"center\":[{\"id\":\"2013\"},{\"id\":\"2021\"}],\"left\":[{\"id\":\"2014\"}],\"renderers\":[{\"id\":\"2037\"},{\"id\":\"2043\"},{\"id\":\"2049\"},{\"id\":\"2054\"}],\"title\":{\"id\":\"2116\"},\"toolbar\":{\"id\":\"2029\"},\"x_range\":{\"id\":\"1998\"},\"x_scale\":{\"id\":\"2002\"},\"y_range\":{\"id\":\"2000\"},\"y_scale\":{\"id\":\"2004\"}},\"id\":\"1997\",\"subtype\":\"Figure\",\"type\":\"Plot\"},{\"attributes\":{},\"id\":\"2122\",\"type\":\"UnionRenderers\"},{\"attributes\":{\"source\":{\"id\":\"2045\"}},\"id\":\"2050\",\"type\":\"CDSView\"},{\"attributes\":{\"line_alpha\":0.1,\"x\":{\"field\":\"lng_m\"},\"y\":{\"field\":\"lat_m\"}},\"id\":\"2042\",\"type\":\"Line\"},{\"attributes\":{},\"id\":\"2125\",\"type\":\"Selection\"},{\"attributes\":{},\"id\":\"2126\",\"type\":\"UnionRenderers\"},{\"attributes\":{\"data_source\":{\"id\":\"2039\"},\"glyph\":{\"id\":\"2041\"},\"hover_glyph\":null,\"muted_glyph\":null,\"nonselection_glyph\":{\"id\":\"2042\"},\"selection_glyph\":null,\"view\":{\"id\":\"2044\"}},\"id\":\"2043\",\"type\":\"GlyphRenderer\"},{\"attributes\":{\"x\":{\"field\":\"lng_m\"},\"y\":{\"field\":\"lat_m\"}},\"id\":\"2041\",\"type\":\"Line\"},{\"attributes\":{},\"id\":\"2127\",\"type\":\"Selection\"},{\"attributes\":{},\"id\":\"2026\",\"type\":\"ResetTool\"},{\"attributes\":{\"attribution\":\"&copy; <a href=\\\"https://www.openstreetmap.org/copyright\\\">OpenStreetMap</a> contributors\",\"url\":\"https://c.tile.openstreetmap.org/{Z}/{X}/{Y}.png\"},\"id\":\"2036\",\"type\":\"WMTSTileSource\"},{\"attributes\":{\"overlay\":{\"id\":\"2028\"}},\"id\":\"2024\",\"type\":\"BoxZoomTool\"},{\"attributes\":{},\"id\":\"2025\",\"type\":\"SaveTool\"},{\"attributes\":{},\"id\":\"2027\",\"type\":\"HelpTool\"},{\"attributes\":{\"active_drag\":\"auto\",\"active_inspect\":\"auto\",\"active_multi\":null,\"active_scroll\":\"auto\",\"active_tap\":\"auto\",\"tools\":[{\"id\":\"2022\"},{\"id\":\"2023\"},{\"id\":\"2024\"},{\"id\":\"2025\"},{\"id\":\"2026\"},{\"id\":\"2027\"}]},\"id\":\"2029\",\"type\":\"Toolbar\"},{\"attributes\":{},\"id\":\"2022\",\"type\":\"PanTool\"},{\"attributes\":{},\"id\":\"2023\",\"type\":\"WheelZoomTool\"},{\"attributes\":{},\"id\":\"2124\",\"type\":\"UnionRenderers\"},{\"attributes\":{\"data\":{},\"selected\":{\"id\":\"2127\"},\"selection_policy\":{\"id\":\"2126\"}},\"id\":\"2051\",\"type\":\"ColumnDataSource\"},{\"attributes\":{\"dimension\":\"lat\"},\"id\":\"2015\",\"type\":\"MercatorTicker\"},{\"attributes\":{\"axis\":{\"id\":\"2014\"},\"dimension\":1,\"ticker\":null},\"id\":\"2021\",\"type\":\"Grid\"},{\"attributes\":{\"fill_color\":{\"value\":\"blue\"},\"line_color\":{\"value\":\"blue\"},\"x\":{\"value\":-705132.9429631762},\"y\":{\"value\":7039984.758209542}},\"id\":\"2052\",\"type\":\"Circle\"},{\"attributes\":{\"fill_alpha\":{\"value\":0.1},\"fill_color\":{\"value\":\"red\"},\"line_alpha\":{\"value\":0.1},\"line_color\":{\"value\":\"red\"},\"x\":{\"field\":\"lng_m\"},\"y\":{\"field\":\"lat_m\"}},\"id\":\"2048\",\"type\":\"Circle\"},{\"attributes\":{\"dimension\":\"lat\"},\"id\":\"2017\",\"type\":\"MercatorTickFormatter\"},{\"attributes\":{\"fill_color\":{\"value\":\"red\"},\"line_color\":{\"value\":\"red\"},\"x\":{\"field\":\"lng_m\"},\"y\":{\"field\":\"lat_m\"}},\"id\":\"2047\",\"type\":\"Circle\"},{\"attributes\":{\"axis\":{\"id\":\"2006\"},\"ticker\":null},\"id\":\"2013\",\"type\":\"Grid\"},{\"attributes\":{\"source\":{\"id\":\"2051\"}},\"id\":\"2055\",\"type\":\"CDSView\"},{\"attributes\":{\"dimension\":\"lon\"},\"id\":\"2007\",\"type\":\"MercatorTicker\"},{\"attributes\":{\"fill_alpha\":{\"value\":0.1},\"fill_color\":{\"value\":\"blue\"},\"line_alpha\":{\"value\":0.1},\"line_color\":{\"value\":\"blue\"},\"x\":{\"value\":-705132.9429631762},\"y\":{\"value\":7039984.758209542}},\"id\":\"2053\",\"type\":\"Circle\"},{\"attributes\":{\"dimension\":\"lon\"},\"id\":\"2009\",\"type\":\"MercatorTickFormatter\"},{\"attributes\":{\"data\":{\"ID\":{\"__ndarray__\":\"Y2NjY2NjY2NjY2NjY2NjY2NjY2NjY2NjY2NjY2NjY2NjY2NjY2NjY2NjY2NjY2NjY2M=\",\"dtype\":\"int8\",\"order\":\"little\",\"shape\":[50]},\"MF_acc\":{\"__ndarray__\":\"NaqphCaBZj8Mp9qd5dp2P0Fx0z4eY9M/CDDcqzn/0T/BMP5BkUTGP1sJ2VxzN9s/Kdy0TpZ1vj8ous5z36idP51YnPZphtE/dDeV34q/tT9QVzU2d7XXP9/9yE8K+ts/l4/8m68L0T8FotX3XFbKP1PFO144vNA/jWn68oTG1z97bMNFPQDUP2GA1wfL48k/IdWvEV862D+hh3w0+LLgP3j/aav4094/OBYycxbN1D9J0DS4zkfBP4s/2Vau7K4/9MRj9dovuD+4rQYwkCy+P94M7mb7UpU/2xztLfp1lj9GkTSUZRPNP3ceDY0A6sU/OcIkcbhP1z8vyNKkXfXQP9SgXgIM98E/+lqNNtRK2T+KFx0fTSTTP3TWukyUnNI//kltnIo/1z+jXlSTqITUP6jF5YhHa9U/reqoc2le1j+GrV/UlsnlP4SX/aiCmNU/hTONbj5Wwj+iwc5BivvTP57gSGtt69Q/UGLbhRkg0D8Xk1ngIi3iP6D2SUYLho4/4x5kP1dSEUDRuCxlryimPw==\",\"dtype\":\"float64\",\"order\":\"little\",\"shape\":[50]},\"MF_dist_from_old_point\":{\"__ndarray__\":\"5mJoaRZG9T/IqszlVh0AQFabg0dyiVhADAuIHMoeXEBfnCHJh2ZdQDnBmmS861dAgPUsG1nFOkCdschkbBFaQI6JTHtgG2JAYz1paVMTXUAQnLiNcrdgQKueuOHdGGhAl4/8m68LUUBmw9K15yVHQEJJ4nxrmVdAbI9RvXjDYED5k2BnVjRcQDeQEleRml9Agl7RRZrtYkBp5kJMmFpdQLNUwdylZmFAH2TLaZBTWkDN+lIbs8RNQOpE7jOacVBAL1D4+zzdRkABHcVkHho3QBUKKIr5XUJARcOTW5WGTEDuQ8lHRmZSQFML/msox0BAtCSgNgnZUUBcxZqEinZVQA4DFbCT8k5AknOFSloBYECwkVjI59JQQHTWukyUnFJACA5809huVEB0+cG3Ee9cQGuC8+LPu2BAIv4e1FFEY0CDF6iQLSZjQMPz4F0FVVtAph3lCZ7bSUCiwc5BivtTQHhF6L7HBGJAXOyW90vHW0ANH0Vf9IRkQEQUwL4GO1BA4x5kP1dSUUAYwMjSK4JKQA==\",\"dtype\":\"float64\",\"order\":\"little\",\"shape\":[50]},\"MF_lat\":{\"__ndarray__\":\"6E5lB0unSkA6yj0TUKdKQGavBFJip0pAMy13ZoKnSkDFeKQL+6dKQLobG8sFqEpAJr5FzJGoSkAeZS+AlahKQLi+H8iLqEpAVoObMXGoSkCt2BR+X6hKQI1nO0s1qEpA5gJd+wKoSkBFwOeHEahKQCL5/yc1qEpAKxVkFYCoSkBrIG0t3ahKQE6pIibyqEpA9jvJDAqpSkB+5EEf0alKQJ4A9QsbqkpA3hht+liqSkDrSkfvCqtKQHBWwPNBq0pAsxaYutCrSkB7AqTs46tKQGbkbzH1q0pA+zb2kQCsSkB4+0oxUaxKQLCf5j//rEpA40jjBjKtSkD6JV5UQa1KQLWm9W13rUpAhkpEU9GtSkCaFGLkG65KQE08d8yKrkpAE6WlTTCvSkB7b5nTZa9KQDBf2ibLr0pAqLMglPevSkCAsxDTdLBKQBPW58XksEpAgrTWYZaxSkC62lAxzrFKQOUE2OztsUpA8qDSLeCySkAjxVT6CbNKQDPqruyCs0pALUpdMo6zSkDqlhaakLNKQA==\",\"dtype\":\"float64\",\"order\":\"little\",\"shape\":[50]},\"MF_lng\":{\"__ndarray__\":\"NiKA5VJWGcA2Cgz+I1gZwJis8k5PWRnADNb7Mr1ZGcCSa6uj9FYZwFYDNcaYVRnAzkzAr5FUGcDvIScCi1IZwBuMssjASxnATlKVW/9DGcDNy6d9KUIZwIdEjDJ2PRnAc6WrKuoyGcD3iVqaWzEZwGluNxzxLxnA2qlrSDctGcCiOzoJACkZwG4/NzRlJxnA1S3+W24lGcC4CyQofhwZwKiaVUTyGhnA69JgZBMaGcDAbZEP1Q8ZwDgXD+85EBnAfKSsOgYPGcCxuCP3zw4ZwLShKxGoDhnAZxIq3QIOGcBTZ9nueQkZwPDGyEisCxnAmqN5W0QPGcBMZZdeURAZwAavo2B8FxnADXfg98oXGcBSFJp/TxcZwFy1wvS9FhnAP89AdigUGcDRp+UHrhIZwL2PjgZLEBnAl2LoIs8PGcCUs6ygDhAZwPr6oB0mEBnAFW3U+aYPGcCmjuVd9RAZwIc1NoXfFxnAsuIG1zcrGcD1zeiifCwZwMOOVrWkMxnAVjQchdo1GcB6LA38qDYZwA==\",\"dtype\":\"float64\",\"order\":\"little\",\"shape\":[50]},\"MF_vel\":{\"__ndarray__\":\"CUpp9pTxrj9epnOr8CO7P2nfrQaCzxVACjzTFgh/FkCdh54FthcSQMV4Cyf8gxlAZo7J6TyO/D+FzpF8Uc77P2G/gFI4MRlAHoiEknglCUCvV1+QfSccQJvmW8QWXCJAl4/8m68LEUDkR1go97AIQFP65u+C3xNAWF2J4L07HEDSENjCSMAXQExcIJ72ORRAasob1vZIHkBOfmlikU8fQLhPEBucYCBA/1iYQblmF0BfUcVRP64GQIgJkMkT5P8/aJe0iOagAEAB2AUq/mb6P+NwGPfp/Os//vKYXAPm8T+3kV0j6VoQQKh6a3vALANA8ikAY8FlFEA1IW1ZCRQTQBczHMM/lAdAWQZfvS50HEARRitNCPIRQHTWukyUnBJAXnWm8pHLFUBiMPQuiF0YQBI3H2sZxhpAA7TNZ+pbHUCushln/WwkQHRKHf6SSxhALa1HI2rGBUCiwc5BivsTQM+mz5z/dBtACfGvfyEqFUBILF8O9U8jQFVGfKA7eu8/4x5kP1dSMUAl6qjWfzz4Pw==\",\"dtype\":\"float64\",\"order\":\"little\",\"shape\":[50]},\"acc\":{\"__ndarray__\":\"Ujd9inAhjD9VksEAPTTvP/ThrnJyzfc/SXp40yO+5T+DlWgejfmbPyEZYfXUBOQ/r+SZA0pL0z84w8Ay8zm7P9fZFvViAJ8/0wCw0YuxyT+4xzKGpbjlP6rWusj59+I/J3EERJDg4z//W0htS1ylP2aGVjmJRuA/c3M/CKnj4D/pJ0s7sGPiP0GhhDbfldk/NxoKwcS83j9nfOnyU+fkP6mkiIWDm+g/ynWqQflpoT+ZMiRlCRiXP/tXThUNKJI/+cwSfwIUjT/qPYG1NunZP/BAqzbcsaU/tzAG2aU1sD++viYBcS3iP2MA9MBS4dM/YYhIn5lN4j9hksGyOQzjP72WE5/5iuI/tUobB/YR4D/kL384nQXcP+X0IWcvyeM/AqQvAO3x6j8/NchLfUXjP1fnL+ZCIOQ/qtpT8bpF3T9HybBCLKXmP/STNVBvjOc/s8ODCxmNpD9Oujis7orwPzUFaVLOz94/rzsDb6yn3j95vstO6ijzPxINsGLl9ok/yNTD+s/rKEBcP6SfLOeCPw==\",\"dtype\":\"float64\",\"order\":\"little\",\"shape\":[50]},\"block_id\":[9002,9002,9002,9002,9002,9002,9002,9002,9002,9002,9002,9002,9002,9002,9002,9002,9002,9002,9002,9002,9002,9002,9002,9002,9002,9002,9002,9002,9002,9002,9002,9002,9002,9002,9002,9002,9002,9002,9002,9002,9002,9002,9002,9002,9002,9002,9002,9002,9002,9002],\"congestion\":[false,false,false,false,false,false,false,false,false,false,false,false,false,false,false,false,false,false,false,false,false,false,false,false,false,false,false,false,false,false,false,false,false,false,false,false,false,false,false,false,false,false,false,false,false,false,false,false,false,false],\"datetime\":{\"__ndarray__\":\"AADd3EfCc0IAAAv/R8JzQgAAcANIwnNCAABSCEjCc0IAAM4dSMJzQgCAdyFIwnNCAIBpTUjCc0IAgHRgSMJzQgCAl29IwnNCAACHkUjCc0IAgCqWSMJzQgAALaBIwnNCAAD2vUjCc0IAgP7GSMJzQgAAAdFIwnNCAIBo30jCc0IAgPDySMJzQgAAC/lIwnNCAADt/UjCc0IAgMQjScJzQgAASi1JwnNCAIDPNknCc0IAgIqAScJzQgAA2pJJwnNCAICfu0nCc0IAgIzTScJzQgAAceJJwnNCAIDk7knCc0IAAFERSsJzQgCAyEZKwnNCAADKZUrCc0IAAC9qSsJzQgAARZBKwnNCAICsnkrCc0IAgM+tSsJzQgCAYtRKwnNCAIDv+0rCc0IAAHUFS8JzQgCA3BNLwnNCAAD9GEvCc0IAAKMnS8JzQgAAKztLwnNCAID8YUvCc0IAgEh/S8JzQgAAD5NLwnNCAACAEkzCc0IAgKYWTMJzQgAADTpMwnNCAIBuSUzCc0IAAPpRTMJzQg==\",\"dtype\":\"float64\",\"order\":\"little\",\"shape\":[50]},\"day\":[10,10,10,10,10,10,10,10,10,10,10,10,10,10,10,10,10,10,10,10,10,10,10,10,10,10,10,10,10,10,10,10,10,10,10,10,10,10,10,10,10,10,10,10,10,10,10,10,10,10],\"delay\":[0,125,57,38,66,66,97,97,97,145,112,88,66,103,72,44,33,-2,-24,-61,-136,-117,-138,-166,-155,-95,-76,-76,-106,-107,-119,-148,-130,-147,-108,-102,-159,-187,-209,-233,-260,-239,-155,-150,-174,-281,-312,-218,-172,-172],\"dist_from_old_point\":{\"__ndarray__\":\"S17qYpyXGkCtewgDVQB2QPlVJdkEIH5AiR82/Yv8cECzChMpvncyQBZXqis/mGFA/kEqDSz1UECVa5u/7u13QAoOHR/zAzBAjcaKls4scUCjmz1qYaFuQObtZKWWVnBAJ3EERJDgY0DbmAxLHsYiQIYD24F382ZAznmhXAnRZ0BI+5yDk+5pQNjmDPpyO29Ae+TPtnkDaEBXNn/IUF9iQONBv3mPx2tAFL0bdx8KJkCVrZ0XNOQjQBGR6OkXTzNAw8UfXOp8G0Bn8/bijdZTQG+BFi2yr1JAn/w/QSKWZEBpCXUFgwFnQJmgdbcGcU5A1BDnO9MGXEBE/TwGeRtoQKu+CANo8W9Ajor+YLtWZEAYyacu76BYQOX0IWcvyWNAJt8pTaGuZ0AWU92v/SxrQHfZqodocm9A2LnchI82aUDoYJ3mK+djQEHPg+G8zW1A+M48Ufj6LEBOujis7opwQP10+zX9iWpA6UieBWxnakAHAvSCMKF1QOa5M3LRnEtAyNTD+s/raEDMPPohDZ0mQA==\",\"dtype\":\"float64\",\"order\":\"little\",\"shape\":[50]},\"hour\":[12,12,12,12,12,12,12,12,12,12,12,12,13,13,13,13,13,13,13,13,13,13,13,13,13,13,13,13,13,13,13,13,13,13,13,13,13,13,13,13,13,13,13,13,13,13,13,14,14,14],\"index\":[709973,713674,714090,714567,716782,717217,721832,723836,725436,729010,729479,730480,733546,734444,735486,737040,739039,739603,740101,744002,745075,746094,753685,755119,759873,762327,763892,765190,768762,774461,777664,778106,782260,783780,785435,789548,793785,794840,796361,796891,798423,800463,804718,807877,809962,823690,824180,827971,829735,830502],\"journey_id\":[\"00091001\",\"00091001\",\"00091001\",\"00091001\",\"00091001\",\"00091001\",\"00091001\",\"00091001\",\"00091001\",\"00091001\",\"00091001\",\"00091001\",\"00091001\",\"00091001\",\"00091001\",\"00091001\",\"00091001\",\"00091001\",\"00091001\",\"00091001\",\"00091001\",\"00091001\",\"00091001\",\"00091001\",\"00091001\",\"00091001\",\"00091001\",\"00091001\",\"00091001\",\"00091001\",\"00091001\",\"00091001\",\"00091001\",\"00091001\",\"00091001\",\"00091001\",\"00091001\",\"00091001\",\"00091001\",\"00091001\",\"00091001\",\"00091001\",\"00091001\",\"00091001\",\"00091001\",\"00091001\",\"00091001\",\"00091001\",\"00091001\",\"00091001\"],\"lat\":{\"__ndarray__\":\"7MA5I0qnSkAiAg6hSqdKQMk6HF2lp0pAsAeT4uOnSkDwgR3/BahKQHU25J8ZqEpAp5VCIJeoSkAF5bZ9j6hKQNQP6iKFqEpAHJPF/UeoSkDHef8fJ6hKQH1yFCAKqEpAr5gR3h6oSkDRBmADIqhKQKW5FcJqqEpAbT8Z48OoSkDsjVph+qhKQN7rpL4sqUpA/cOWHk2pSkB4Bg39E6pKQH+rdeJyqkpApL+XwoOqSkCdmPViKKtKQISZtn9lq0pAHvZCAdurSkAfgT/8/KtKQLbUQV4PrEpAB5Pi4xOsSkAc8PlhhKxKQDN07KASrUpAHZYGflStSkCYiSKkbq1KQO1+FeC7rUpA49nlWx+uSkDzrnrAPK5KQHZR9MDHrkpAyamdYWqvSkCifazgt69KQPqZet0isEpAyqZc4V2wSkC+4NOcvLBKQEF9y5wusUpAp+mzA66xSkDuWkI+6LFKQC7/If32sUpAq8spATGzSkAcnIh+bbNKQDt0et6Ns0pAMrPPY5SzSkCo4zEDlbNKQA==\",\"dtype\":\"float64\",\"order\":\"little\",\"shape\":[50]},\"lat_m\":{\"__ndarray__\":\"e+Mim/raWkHeAPxN+9paQQ7Ba0Z821pB8kHjJdXbWkFqpHWjBdxaQVLxd4oh3FpB2X8q9dPcWkG+y2caydxaQWNqz2G63FpBg+2VdGPcWkE70JS7NNxaQaHB/IEL3FpBacV3/ijcWkHOWEV3LdxaQd0mj+GU3FpBqvZmmBPdWkHhD28SYd1aQZjWZK6o3VpBaNm4ttbdWkGs8HKA8d5aQQtC2nR431pB63DkdJDfWkHv3fqZeuBaQZIx/4bR4FpBD+iRrXjhWkHiw2wEqeFaQUfaJCvD4VpBn5v8mcnhWkGsfeajaeJaQVJZvQY041pBV4JXvpHjWkF1A67ztuNaQRN0Fdsk5FpBMkb5bbLkWkHBLZhC3ORaQWQiwRei5VpBJk1Sk4nmWkHnCn7k9+ZaQX+eaDOQ51pB7UZjOOTnWkG7N+sYa+haQdRbT2sN6VpBlD711sLpWkH0wVDDFepaQZRoPMMq6lpBLMDxA+rrWkHs7LkuQOxaQS1kOk1u7FpB6Z5Kl3fsWkGn5Vd6eOxaQQ==\",\"dtype\":\"float64\",\"order\":\"little\",\"shape\":[50]},\"line_id\":[\"9.0\",\"9.0\",\"9.0\",\"9.0\",\"9.0\",\"9.0\",\"9.0\",\"9.0\",\"9.0\",\"9.0\",\"9.0\",\"9.0\",\"9.0\",\"9.0\",\"9.0\",\"9.0\",\"9.0\",\"9.0\",\"9.0\",\"9.0\",\"9.0\",\"9.0\",\"9.0\",\"9.0\",\"9.0\",\"9.0\",\"9.0\",\"9.0\",\"9.0\",\"9.0\",\"9.0\",\"9.0\",\"9.0\",\"9.0\",\"9.0\",\"9.0\",\"9.0\",\"9.0\",\"9.0\",\"9.0\",\"9.0\",\"9.0\",\"9.0\",\"9.0\",\"9.0\",\"9.0\",\"9.0\",\"9.0\",\"9.0\",\"9.0\"],\"lng\":{\"__ndarray__\":\"2LYos0FWGcAAOWHCaFYZwL3iqUcaXBnA+s+aH39ZGcB1dcdim1QZwM7GSsyzUhnA+n5qvHRTGcBWSzrKwUwZwDsah/pdSBnAvEBJgQVAGcDkafmBqzwZwHsvvmiPNxnAnl+UoL8wGcDRrdf0oDAZwNz10hQBLhnA3C3JAbsqGcCyu0BJgSUZwNlAuti0IhnAmYBfI0kgGcCMEYlCyxoZwGHI6lbPGRnABRVVv9IZGcDBGmfTERAZwJ93Y0FhEBnAdNL7xtcOGcCoPSXnxA4ZwE30+SgjDhnA9wX0wp0LGcCUMxR3vAkZwOSG3023DBnA+PpalxoRGcAFpz6QvBMZwGlU4GQbGBnAumbyzTYXGcAQejarPhcZwHgMj/0sFhnAchO1NLcSGcA+sOO/QBAZwKzFpwAYDxnA8GyP3nAPGcA5EJIFTBAZwGHfTiLCDxnAgzC3e7kPGcDaG3xhMhUZwBIT1PAtHBnAI9v5fmosGcAhIcoXtDAZwB5ssdtnNRnAs7j/yHQ4GcAN4C2QoDgZwA==\",\"dtype\":\"float64\",\"order\":\"little\",\"shape\":[50]},\"lng_m\":{\"__ndarray__\":\"et4ooceEJcHQPoDN6IQlwWX666y+iSXBXSksD4iHJcHNCkj1YIMlwWECgdnCgSXBeRNAtmaCJcHprCs1tnwlwftIH8H7eCXBl6kmP+VxJcG8uZ6MDG8lwRfsrZS1aiXBRgIWluxkJcEIa5qJ0mQlweT47umXYiXBogYRI9BfJcHiGqACYFslwXIMtYn/WCXB1mQoOPFWJcE5t900R1IlwTRIHUBxUSXB5pEOJXRRJcHeCSqCK0klwfQh0/duSSXBhdF1ySBIJcERTcfBEEglwcaPgWOHRyXBVNBjQGNFJcG6noF8ykMlwXNdpF1SRiXBzgSzXwxKJcE5aVXHSEwlwcBNdwD/TyXBBCZS3DxPJcGLMjCKQ08lwfGxzRpbTiXB+be9zmpLJcG5dl9cU0klwR+NYFVXSCXBbufgzqJIJcHxzC7vXEklwYETgtPnSCXBIWyneuBIJcFYmgdDhk0lwZuF4m90UyXBQT7KmT5hJcHGzUfK4mQlwVgG+yXhaCXBra7PY3hrJcEesBKSnWslwQ==\",\"dtype\":\"float64\",\"order\":\"little\",\"shape\":[50]},\"operator\":[\"PO\",\"PO\",\"PO\",\"PO\",\"PO\",\"PO\",\"PO\",\"PO\",\"PO\",\"PO\",\"PO\",\"PO\",\"PO\",\"PO\",\"PO\",\"PO\",\"PO\",\"PO\",\"PO\",\"PO\",\"PO\",\"PO\",\"PO\",\"PO\",\"PO\",\"PO\",\"PO\",\"PO\",\"PO\",\"PO\",\"PO\",\"PO\",\"PO\",\"PO\",\"PO\",\"PO\",\"PO\",\"PO\",\"PO\",\"PO\",\"PO\",\"PO\",\"PO\",\"PO\",\"PO\",\"PO\",\"PO\",\"PO\",\"PO\",\"PO\"],\"outlier\":[-1,-1,-1,-1,-1,-1,-1,-1,-1,-1,-1,-1,-1,-1,-1,-1,-1,-1,-1,-1,-1,-1,-1,-1,-1,-1,-1,-1,-1,-1,-1,-1,-1,-1,-1,-1,-1,-1,-1,-1,-1,-1,-1,-1,-1,-1,-1,-1,-1,-1],\"outlier2\":[1,1,1,1,-1,-1,-1,1,-1,1,1,1,-1,-1,1,1,-1,-1,1,-1,-1,1,1,-1,1,-1,-1,-1,1,-1,-1,1,1,1,-1,-1,-1,1,1,1,-1,1,1,1,1,1,1,-1,1,1],\"outlier2_norm\":[1,1,1,1,1,-1,1,-1,-1,1,1,1,1,-1,1,1,1,-1,1,1,-1,1,1,-1,1,-1,1,1,1,-1,1,1,1,1,1,1,1,1,1,1,1,1,-1,1,1,1,-1,-1,1,-1],\"outlier_0\":[1,-1,-1,1,-1,-1,-1,-1,1,-1,1,1,1,-1,1,1,1,-1,1,-1,-1,1,1,-1,1,-1,-1,-1,1,-1,-1,1,1,1,-1,1,-1,1,1,1,-1,1,1,-1,1,1,-1,-1,-1,-1],\"outlier_MF\":[1,1,1,1,1,1,1,1,1,1,1,1,1,1,1,1,1,1,1,1,1,1,1,1,1,1,1,1,1,1,1,1,1,1,1,1,1,1,1,1,-1,1,1,1,1,1,-1,1,-1,1],\"outlier_norm\":[-1,-1,-1,-1,-1,-1,-1,-1,-1,-1,-1,-1,-1,-1,-1,-1,-1,-1,-1,-1,-1,-1,-1,-1,-1,-1,-1,-1,-1,-1,-1,-1,-1,-1,-1,-1,-1,-1,-1,-1,-1,-1,-1,-1,-1,-1,-1,-1,-1,-1],\"stop\":[true,false,false,false,true,false,false,false,true,false,false,false,true,false,false,false,false,false,false,true,false,false,false,true,false,false,false,true,false,false,false,false,false,false,false,false,false,false,false,false,false,false,false,false,false,false,false,false,true,true],\"stop_id\":[4392.0,4392.0,2446.0,2459.0,2461.0,2461.0,2463.0,2432.0,2433.0,2434.0,2435.0,2436.0,2439.0,2439.0,2439.0,2440.0,2441.0,2442.0,2443.0,1345.0,1347.0,1347.0,1353.0,1354.0,1357.0,1357.0,1357.0,1359.0,319.0,281.0,4.0,4.0,196.0,197.0,197.0,199.0,201.0,148.0,150.0,150.0,27.0,29.0,90.0,91.0,130.0,4369.0,6219.0,6229.0,7131.0,7131.0],\"time_frame\":[\"2013-01-10\",\"2013-01-10\",\"2013-01-10\",\"2013-01-10\",\"2013-01-10\",\"2013-01-10\",\"2013-01-10\",\"2013-01-10\",\"2013-01-10\",\"2013-01-10\",\"2013-01-10\",\"2013-01-10\",\"2013-01-10\",\"2013-01-10\",\"2013-01-10\",\"2013-01-10\",\"2013-01-10\",\"2013-01-10\",\"2013-01-10\",\"2013-01-10\",\"2013-01-10\",\"2013-01-10\",\"2013-01-10\",\"2013-01-10\",\"2013-01-10\",\"2013-01-10\",\"2013-01-10\",\"2013-01-10\",\"2013-01-10\",\"2013-01-10\",\"2013-01-10\",\"2013-01-10\",\"2013-01-10\",\"2013-01-10\",\"2013-01-10\",\"2013-01-10\",\"2013-01-10\",\"2013-01-10\",\"2013-01-10\",\"2013-01-10\",\"2013-01-10\",\"2013-01-10\",\"2013-01-10\",\"2013-01-10\",\"2013-01-10\",\"2013-01-10\",\"2013-01-10\",\"2013-01-10\",\"2013-01-10\",\"2013-01-10\"],\"time_from_old_point\":[22,19,18,20,26,15,15,60,23,37,19,21,16,15,19,19,19,25,20,15,17,18,21,33,22,14,42,51,18,14,14,18,21,18,15,16,15,19,20,21,15,18,19,16,21,21,17,66,4,35],\"timestamp\":[1357821890000000,1357822030000000,1357822048000000,1357822068000000,1357822156000000,1357822171000000,1357822351000000,1357822429000000,1357822491000000,1357822630000000,1357822649000000,1357822690000000,1357822812000000,1357822849000000,1357822890000000,1357822949000000,1357823029000000,1357823054000000,1357823074000000,1357823229000000,1357823268000000,1357823307000000,1357823609000000,1357823684000000,1357823851000000,1357823949000000,1357824010000000,1357824061000000,1357824202000000,1357824421000000,1357824548000000,1357824566000000,1357824722000000,1357824781000000,1357824843000000,1357825001000000,1357825163000000,1357825202000000,1357825261000000,1357825282000000,1357825342000000,1357825422000000,1357825581000000,1357825701000000,1357825782000000,1357826304000000,1357826321000000,1357826466000000,1357826529000000,1357826564000000],\"vehicle_id\":[\"33307\",\"33307\",\"33307\",\"33307\",\"33307\",\"33307\",\"33307\",\"33307\",\"33307\",\"33307\",\"33307\",\"33307\",\"33307\",\"33307\",\"33307\",\"33307\",\"33307\",\"33307\",\"33307\",\"33307\",\"33307\",\"33307\",\"33307\",\"33307\",\"33307\",\"33307\",\"33307\",\"33307\",\"33307\",\"33307\",\"33307\",\"33307\",\"33307\",\"33307\",\"33307\",\"33307\",\"33307\",\"33307\",\"33307\",\"33307\",\"33307\",\"33307\",\"33307\",\"33307\",\"33307\",\"33307\",\"33307\",\"33307\",\"33307\",\"33307\"],\"vehicle_journey_id\":[\"3641\",\"3641\",\"3641\",\"3641\",\"3641\",\"3641\",\"3641\",\"3641\",\"3641\",\"3641\",\"3641\",\"3641\",\"3641\",\"3641\",\"3641\",\"3641\",\"3641\",\"3641\",\"3641\",\"3641\",\"3641\",\"3641\",\"3641\",\"3641\",\"3641\",\"3641\",\"3641\",\"3641\",\"3641\",\"3641\",\"3641\",\"3641\",\"3641\",\"3641\",\"3641\",\"3641\",\"3641\",\"3641\",\"3641\",\"3641\",\"3641\",\"3641\",\"3641\",\"3641\",\"3641\",\"3641\",\"3641\",\"3641\",\"3641\",\"3641\"],\"velocity\":{\"__ndarray__\":\"CBY2X/1W0z/j7nI4BIcyQDO+BMEgxzpA25hWyKwtK0B6+bSowrrmP48HC6aHxCJAZEZgY5UWEkAFt5T/U4YZQJNsKCBHSOY/9IBzqkm1HUArTVyPRMspQMA5ddd35ShAJ3EERJDgI0A/1nO2hgbkP5m/FvTCUyNAGVnLuVgOJEBlP2lGYdYlQPudl2IW/SNAYlCm+Po1I0Ch5Lqz3pgjQPQu4b07JSpAhMTfaTiX4z9pgr9UjE/eP7vK+H1NueI/6+xct8H90z8tFtHeD6wWQDvFwAdxefw/pN3hUYDVCUCWlkshH3MkQFeA1WgoZRFAVXdfa+YDIECuxBnpwG0lQNi1yaBnVihADLT+xzQUIkDmPPdkQ0UaQOX0IWcvySNAwqksMM5CKUA7v/3JhOImQCzhu59TKClAgAdfrsI1I0CzvIV+2TolQHNGPDr9fSpAZXisvY1n6D9Oujis7oowQGvrFGZfOCRAKx/aKAkeJEBherjzeFs0QHqNxY2cxuo/yNTD+s/rSEBNpZvO2KzUPw==\",\"dtype\":\"float64\",\"order\":\"little\",\"shape\":[50]}},\"selected\":{\"id\":\"2125\"},\"selection_policy\":{\"id\":\"2124\"}},\"id\":\"2045\",\"type\":\"ColumnDataSource\"},{\"attributes\":{\"data_source\":{\"id\":\"2051\"},\"glyph\":{\"id\":\"2052\"},\"hover_glyph\":null,\"muted_glyph\":null,\"nonselection_glyph\":{\"id\":\"2053\"},\"selection_glyph\":null,\"view\":{\"id\":\"2055\"}},\"id\":\"2054\",\"type\":\"GlyphRenderer\"},{\"attributes\":{\"data\":{\"ID\":{\"__ndarray__\":\"Y2NjY2NjY2NjY2NjY2NjY2NjY2NjY2NjY2NjY2NjY2NjY2NjY2NjY2NjY2NjY2NjY2NjY2NjY2NjY2NjY2NjY2NjY2NjY2NjY2NjY2NjY2NjY2NjY2NjY2NjY2NjY2NjY2NjY2NjY2NjY2NjY2NjY2NjY2NjY2NjY2NjY2NjY2NjY2NjY2NjY2NjY2NjY2NjY2NjY2NjY2NjY2NjY2NjY2NjY2NjY2NjY2NjY2NjY2NjY2NjY2NjY2NjY2NjY2NjY2NjY2NjY2NjY2NjY2NjY2NjY2NjY2NjY2NjY2NjY2NjY2NjY2NjY2NjY2NjY2NjY2NjYw==\",\"dtype\":\"int8\",\"order\":\"little\",\"shape\":[244]},\"MF_acc\":{\"__ndarray__\":\"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\",\"dtype\":\"float64\",\"order\":\"little\",\"shape\":[244]},\"MF_dist_from_old_point\":{\"__ndarray__\":\"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\",\"dtype\":\"float64\",\"order\":\"little\",\"shape\":[244]},\"MF_lat\":{\"__ndarray__\":\"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\",\"dtype\":\"float64\",\"order\":\"little\",\"shape\":[244]},\"MF_lng\":{\"__ndarray__\":\"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\",\"dtype\":\"float64\",\"order\":\"little\",\"shape\":[244]},\"MF_vel\":{\"__ndarray__\":\"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\",\"dtype\":\"float64\",\"order\":\"little\",\"shape\":[244]},\"acc\":{\"__ndarray__\":\"AAAAAAAAAAAAAAAAAAAAAAAAAAAAAAAAAAAAAAAAAAAAAAAAAAAAAAAAAAAAAAAAAAAAAAAAAAAAAAAAAAAAAAAAAAAAAAAAAAAAAAAAAAAAAAAAAAAAAAAAAAAAAAAAUjd9inAhjD8AAAAAAAAAAAAAAAAAAAAA3YqZRuWtxT+hKIN6Xne0P9Z0WKCF59c/VZLBAD007z/04a5ycs33P0l6eNMjvuU/sbBmH/Szwj9WkEj7E7TVP/m7dNi25tU/g5VoHo35mz8hGWH11ATkP37hblxTsMw/DnPelKhU0z+ur16uOJqyP3d2ALWkh8s/IpW+v+Ps1j86IOHlYyldPzCnvfopZMM/D9kSVLmltj+v5JkDSkvTPwBOSn0qTsU/OMPAMvM5uz9X31Z+e2rWP1hug4UwMNc/19kW9WIAnz8AAAAAAAAAALgwL0KGado/Vmtf4B+0tD+dQSBO5gGrP02c5XzaAsU/0wCw0YuxyT+4xzKGpbjlP2rCgNAQWss/qta6yPn34j+N5VEL0O7SPwAAAAAAAAAAn2QSIWPj1z9xcrbYEZ3KPwAAAAAAAAAAJ3EERJDg4z+YY3+wZkWAP/9bSG1LXKU/THSm8jbhzj9mhlY5iUbgP4JiCGZT0sg/N/IdAn9V0D9zcz8IqePgP48Yva09PMc/AAAAAAAAAAAmbQz5cSTTP+knSzuwY+I/QaGENt+V2T83GgrBxLzeP0z/MdBc1cc/AIhtdkv7uT+s54WdkXHJP4bPbjVVmcM/j5Q9mIcf1z9Fzp4suvLQP76fq3DRF8U/Z3zp8lPn5D8aGNJoCQ7NP6mkiIWDm+g/YWbNqufguj/KdapB+WmhP++syK0zQ8I/AAAAAAAAAADy3QZ+oBXaPxvOZONUH8E/0JsMLuxH2j/Cwpn8xQu0P6XJifmdtc8/pywsmCrQ1T8vHK5PQYzLPzRcZZ8VjcQ/ByjgD8ldxD+97a0jx6G6P1vaQfBq19U/mTIkZQkYlz8QWP4YBFW/PyPap0SIptI/+1dOFQ0okj/Vo3T1A//EP5x4n2ZwNs4/ZnIZHKTKwj8fWkmMLirBP7SgwNAgftU/XO5gZBGAuz99iQj/YNmBPymisS5VQLU/+cwSfwIUjT8AAAAAAAAAAAAAAAAAAAAAAAAAAAAAAACzQM4475WrP+o9gbU26dk/AAAAAAAAAADwQKs23LGlP7cwBtmlNbA/4KqlYKATqz9JMAxE5hnFP0AlYC+A48s/NbS1wFgKzD8AAAAAAAAAABNZYlTAqKY/vr4mAXEt4j+HvkK/Ut7UPxXwXi2RLLE/1+qF4oqt2j8O9+gD6F/EPwAAAAAAAAAAAAAAAAAAAAAAAAAAAAAAAJX70nQUkqw/rGwoL99csT8PNaI5tPHDP2MA9MBS4dM/Wmo67xEKtT8kQzatL4HSPwAAAAAAAAAAAAAAAAAAAABkt2cPYUbAP2GISJ+ZTeI/YZLBsjkM4z/tonfAGErFP0XnicKgvNk/gM9Y+cg8uD8AAAAAAAAAAAAAAAAAAAAAAAAAAAAAAADYlRdSuS3PP72WE5/5iuI/3Ng6lE7F0D9siQwq3uvFP7VKGwf2EeA/AAAAAAAAAAAyGXmbd/5iP+QvfzidBdw/PnHwqEUEvz882T5t6leuP7NCD2SN57I/AAAAAAAAAADw+CqqgE/KPzLxefBb+cc/jW8O9kWOvj/l9CFnL8njP+7H3kxT59Y/QH7kmnuHyz8AAAAAAAAAAFzOLdoIoM0/AbssA/7PyT8AAAAAAAAAAH/D+LfFJr8/AqQvAO3x6j+qHsyvqT/NPz81yEt9ReM/dKlefIVotj+BtoDVkUfOP1fnL+ZCIOQ/qtpT8bpF3T+nK1+LuPDTP9Lk4NfWfbw/R8mwQiyl5j8DkUies23BP2AmFKSSsLQ/PYHd4JGLwT/0kzVQb4znP/yhp16CKKw/IE12fiw8xz9y1Gk4XGzLP81Roi6SC8o/HvM53mDMwT8wJ+sREybKP3/R0S5LQLg/s8ODCxmNpD8BRMjIDOOqP2YHjGd6s7A/hAndja/EpT98e8NNyS6uPyD+oeBqMdA/Tro4rO6K8D9aRLCoS/y2P9w1FjtpztM/93TEY20J0T81BWlSzs/eP+TXgmcA2MQ/KgUEMlzJ0T+a6IEGb1raP9MPE4zypMA/tKkg8kWn2z8d9UbfN7rJP+GMEpuhdbs/RFIyQjLXxj8rvUlKQorGPwdYKF/rxNk/8JJrNPj2xz+9OQDDieHGP6lyMq/UkLg/lnXZd60Lxz9bhSQ8hXTSP8/7nWmz3tU/XRYrn/800z99ARJAwkTXP1uYcAISPbw/HIu9Gdq1zz8qgGthsG++P2hc+ixNWc8/zWXuYD6A2T9NLEM3pYzcP687A2+sp94/eb7LTuoo8z+v1+PRMwXEPxdUfTzG0dE/AAAAAAAAAACjhFSwonbSPxINsGLl9ok/AAAAAAAAAAAAAAAAAAAAAMjUw/rP6yhAXD+knyzngj8td1xzGefGPwAAAAAAAAAAgtpdPUpC1D9lVrdo43+xP8bfQxazuLE/AAAAAAAAAAAAAAAAAAAAAAAAAAAAAAAAAAAAAAAAAAA=\",\"dtype\":\"float64\",\"order\":\"little\",\"shape\":[244]},\"block_id\":[9002,9002,9002,9002,9002,9002,9002,9002,9002,9002,9002,9002,9002,9002,9002,9002,9002,9002,9002,9002,9002,9002,9002,9002,9002,9002,9002,9002,9002,9002,9002,9002,9002,9002,9002,9002,9002,9002,9002,9002,9002,9002,9002,9002,9002,9002,9002,9002,9002,9002,9002,9002,9002,9002,9002,9002,9002,9002,9002,9002,9002,9002,9002,9002,9002,9002,9002,9002,9002,9002,9002,9002,9002,9002,9002,9002,9002,9002,9002,9002,9002,9002,9002,9002,9002,9002,9002,9002,9002,9002,9002,9002,9002,9002,9002,9002,9002,9002,9002,9002,9002,9002,9002,9002,9002,9002,9002,9002,9002,9002,9002,9002,9002,9002,9002,9002,9002,9002,9002,9002,9002,9002,9002,9002,9002,9002,9002,9002,9002,9002,9002,9002,9002,9002,9002,9002,9002,9002,9002,9002,9002,9002,9002,9002,9002,9002,9002,9002,9002,9002,9002,9002,9002,9002,9002,9002,9002,9002,9002,9002,9002,9002,9002,9002,9002,9002,9002,9002,9002,9002,9002,9002,9002,9002,9002,9002,9002,9002,9002,9002,9002,9002,9002,9002,9002,9002,9002,9002,9002,9002,9002,9002,9002,9002,9002,9002,9002,9002,9002,9002,9002,9002,9002,9002,9002,9002,9002,9002,9002,9002,9002,9002,9002,9002,9002,9002,9002,9002,9002,9002,9002,9002,9002,9002,9002,9002,9002,9002,9002,9002,9002,9002,9002,9002,9002,9002,9002,9002,9002,9002,9002,9002,9002,9002],\"congestion\":[false,false,false,false,false,false,false,false,false,false,false,false,false,false,false,false,false,false,false,false,false,false,false,false,false,false,false,false,false,false,false,false,false,false,false,false,false,false,false,false,false,false,false,false,false,false,false,false,false,false,false,false,false,false,false,false,false,false,false,false,false,false,false,false,false,false,false,false,false,false,false,false,false,false,false,false,false,false,false,false,false,false,false,false,false,false,false,false,false,false,false,false,false,false,false,false,false,false,false,false,false,false,false,false,false,false,false,false,false,false,false,false,false,false,false,false,false,false,false,false,false,false,false,false,false,false,false,false,false,false,false,false,false,false,false,false,false,false,false,false,false,false,false,false,false,false,false,false,false,false,false,false,false,false,false,false,false,false,false,false,false,false,false,false,false,false,false,false,false,false,false,false,false,false,false,false,false,false,false,false,false,false,false,false,false,false,false,false,false,false,false,false,false,false,false,false,false,false,false,false,false,false,false,false,false,false,false,false,false,false,false,false,false,false,false,false,false,false,false,false,false,false,false,false,false,false,false,false,false,false,false,false,false,false,false,false,false,false,false,false,false,false,false,false],\"datetime\":{\"__ndarray__\":\"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\",\"dtype\":\"float64\",\"order\":\"little\",\"shape\":[244]},\"day\":[10,10,10,10,10,10,10,10,10,10,10,10,10,10,10,10,10,10,10,10,10,10,10,10,10,10,10,10,10,10,10,10,10,10,10,10,10,10,10,10,10,10,10,10,10,10,10,10,10,10,10,10,10,10,10,10,10,10,10,10,10,10,10,10,10,10,10,10,10,10,10,10,10,10,10,10,10,10,10,10,10,10,10,10,10,10,10,10,10,10,10,10,10,10,10,10,10,10,10,10,10,10,10,10,10,10,10,10,10,10,10,10,10,10,10,10,10,10,10,10,10,10,10,10,10,10,10,10,10,10,10,10,10,10,10,10,10,10,10,10,10,10,10,10,10,10,10,10,10,10,10,10,10,10,10,10,10,10,10,10,10,10,10,10,10,10,10,10,10,10,10,10,10,10,10,10,10,10,10,10,10,10,10,10,10,10,10,10,10,10,10,10,10,10,10,10,10,10,10,10,10,10,10,10,10,10,10,10,10,10,10,10,10,10,10,10,10,10,10,10,10,10,10,10,10,10,10,10,10,10,10,10,10,10,10,10,10,10,10,10,10,10,10,10],\"delay\":[0,0,0,0,0,0,0,0,0,0,0,0,0,7,27,27,55,55,125,57,38,38,38,38,66,66,66,44,60,60,60,80,80,80,97,97,97,97,97,97,124,124,124,145,145,145,112,112,88,88,106,84,84,106,66,85,103,103,72,72,72,44,44,66,66,33,-2,-24,-24,-5,-5,-5,-5,-33,-33,-61,-77,-136,-136,-117,-133,-93,-113,-113,-131,-131,-131,-160,-160,-160,-160,-136,-155,-138,-138,-166,-166,-147,-164,-164,-164,-194,-194,-178,-178,-155,-135,-115,-95,-95,-95,-76,-76,-76,-76,-76,-91,-91,-91,-67,-106,-131,-131,-131,-131,-131,-99,-80,-80,-62,-85,-107,-107,-139,-119,-99,-99,-119,-148,-148,-148,-148,-127,-107,-87,-87,-130,-130,-130,-147,-127,-108,-108,-108,-87,-87,-60,-60,-60,-60,-102,-143,-159,-139,-139,-159,-139,-139,-159,-159,-187,-187,-187,-209,-233,-233,-233,-260,-260,-239,-239,-239,-239,-218,-218,-218,-192,-192,-172,-155,-155,-124,-108,-108,-108,-150,-150,-150,-150,-174,-174,-174,-196,-196,-196,-196,-196,-196,-196,-218,-218,-218,-201,-201,-201,-225,-225,-252,-252,-252,-231,-231,-259,-259,-281,-312,-312,-312,-278,-278,-218,-218,-218,-172,-172,-172,-111,-111,-111,-111,-48,-48,-48,-48],\"dist_from_old_point\":{\"__ndarray__\":\"AAAAAAAAAAAAAAAAAAAAAAAAAAAAAAAAAAAAAAAAAAAAAAAAAAAAAAAAAAAAAAAAAAAAAAAAAAAAAAAAAAAAAAAAAAAAAAAAAAAAAAAAAAAAAAAAAAAAAAAAAAAAAAAAS17qYpyXGkAAAAAAAAAAAAAAAAAAAAAAG0BP+0esUkAaUXkVTmZeQHKek1HcmGZArXsIA1UAdkD5VSXZBCB+QIkfNv2L/HBAj5lxuu1SU0Ct1gdK6XdbQOiLcH043WJAswoTKb53MkAWV6orP5hhQLIqfsCUJ1JA4NXPLfj4Y0BZ1q+8L4s3QIxcaK34gVVAWyZ2G23hWUAhok4xSGfwP8NwlTI/WEtAleIAsc7mTUD+QSoNLPVQQLgKksbt9kpAlWubv+7td0Bf01Fet05jQKdX+mj9WF1ACg4dH/MDMEAAAAAAAAAAABDetONwomRAXI5m8wAyPUBDMwntexk1QExJdrX7pVlAjcaKls4scUCjmz1qYaFuQOKX5CJdXlVA5u1kpZZWcECs9q8RJZVdQAAAAAAAAAAAq1f84VqTZEBsdCNLZddQQAAAAAAAAAAAJ3EERJDgY0BM2LAlNsMOQNuYDEsexiJA8Flh8eUwXUCGA9uBd/NmQPWMtidRZFNAdcpOc5aFWUDOeaFcCdFnQC+7uy8QJ1JAAAAAAAAAAACLaiMV8uhdQEj7nIOT7mlA2OYM+nI7b0B75M+2eQNoQGLx+5KG8kRABCvcdyPYSkAM1i3sUepVQIbPbjVVmUNAbzbqLc7bZUBXrOnOeWBmQFa/MXDjz0dAVzZ/yFBfYkDJmhblRHdbQONBv3mPx2tAr+qdircmR0AUvRt3HwomQBp3o5UIS1ZAAAAAAAAAAABlXXVi5WBkQNuUy2+nq0VASuuHQ/3XaEB+mrKT5l45QFNZjquZWmNANsLZQ8ieZEDFBghnRTZIQMQ5MNfEO1VAqbIXeLLGSUC84d+TY85EQFxYE1ijpFtAla2dFzTkI0DNtIYza3pIQDWs5tBsoWFAEZHo6RdPM0BwTe0HPxNAQIpwW0BiTVVAjF2yPBqEQEAfWkmMLipBQIx9FqOJymBAU6HjcBD/SUDiCaPHiSsJQLDGeoxCmkBAw8UfXOp8G0AAAAAAAAAAAAAAAAAAAAAAAAAAAAAAAAC2KIDs+jVCQGfz9uKN1lNAAAAAAAAAAABvgRYtsq9SQJ/8P0EilmRArrE+o2dSN0C5hSnlO3xQQDfjyCwPXVpAkB3gk0vFU0AAAAAAAAAAAAidL7daaTdAaQl1BYMBZ0Ab/bxFfvlhQPS+4zwhPEBAHS65yekdXkAFAhyG2tVPQAAAAAAAAAAAAAAAAAAAAAAAAAAAAAAAALK5n57SmzhAPgGAufZ7OEDFgVqAjFhYQJmgdbcGcU5Am9CNciwfQkDoyKR+2ulcQAAAAAAAAAAAAAAAAAAAAABkt2cPYUZgQNQQ5zvTBlxARP08BnkbaEDuDkfxpQhIQK68+5ddG2RATh7Ps9sWQUAAAAAAAAAAAAAAAAAAAAAAAAAAAAAAAADT7PJF77pTQKu+CANo8W9A2PKbx0o0WkBezDfbqOFSQI6K/mC7VmRAAAAAAAAAAABZPOiORl71PxjJpy7voFhA2YedHYPeRUC2GVklr7Q3QGrE4ZU9iENAAAAAAAAAAACIMa9rT6ZQQAFGU+m4qVZAdKWZIn7iTEDl9CFnL8ljQJEt7JABqmdA5ZcEOLxrUUAAAAAAAAAAAJf8EJpFv1JAEwe8SaY7VkAAAAAAAAAAAA85c4aYkFRAJt8pTaGuZ0D0d1eRvNlWQBZT3a/9LGtAYvQpSaiBQUCuQAlTdllVQHfZqodocm9A2LnchI82aUA0tMRZIChfQKkDQ2HOY1FA6GCd5ivnY0CVYlGnaDtLQA5bU04W0kFAopNdTG45TkBBz4PhvM1tQJ7QRZK5L0FAIE12fiw8R0B8J5du1Z5XQMS3goFSe1BA1rdfmTQZSUBCC+9sy4VWQKvrk7w68kJA+M48Ufj6LEBD6nK1lsc7QF05DesmIzVAa7IMj1uyLkDd33pjTP85QBBfF+0Ou2BATro4rO6KcECgHsorrL9HQNw1FjtpzlNAfm3dcD1ZXUD9dPs1/YlqQKo43lDASFBA5ewo0t+jXkAyNR5COq1gQEPWTNMlrExAZKs4Q9p/YUAfntAf5ShWQOKZaEXtiWZARVC3Qx/YUUBwg/wYFmpTQMWEV+LXIWRAGtn1AKLlUEC8sXUoQ7VTQJRp3ygmMUNAaNMAz7s/UEBeEPktENZcQGSTeIhR1mJATohyhRNPWECKmjKzigpoQGpAi2Wl3kFArRQcZBLGWEDeS7Dcv3VFQD1WfB7iMWBAbNxWeScjYECpWxlOJJdoQOlIngVsZ2pABwL0gjChdUDkYWn86uxSQJW7TIvQIFlAAAAAAAAAAADf9yrnJV5XQOa5M3LRnEtAAAAAAAAAAAAAAAAAAAAAAMjUw/rP62hAzDz6IQ2dJkAbPSDii+RRQAAAAAAAAAAAgtpdPUpCVEDViKquV604QKUNytKXsDtAAAAAAAAAAAAAAAAAAAAAAAAAAAAAAAAAAAAAAAAAAAA=\",\"dtype\":\"float64\",\"order\":\"little\",\"shape\":[244]},\"hour\":[12,12,12,12,12,12,12,12,12,12,12,12,12,12,12,12,12,12,12,12,12,12,12,12,12,12,12,12,12,12,12,12,12,12,12,12,12,12,12,12,12,12,12,12,12,12,12,12,12,12,12,12,12,12,13,13,13,13,13,13,13,13,13,13,13,13,13,13,13,13,13,13,13,13,13,13,13,13,13,13,13,13,13,13,13,13,13,13,13,13,13,13,13,13,13,13,13,13,13,13,13,13,13,13,13,13,13,13,13,13,13,13,13,13,13,13,13,13,13,13,13,13,13,13,13,13,13,13,13,13,13,13,13,13,13,13,13,13,13,13,13,13,13,13,13,13,13,13,13,13,13,13,13,13,13,13,13,13,13,13,13,13,13,13,13,13,13,13,13,13,13,13,13,13,13,13,13,13,13,13,13,13,13,13,13,13,13,13,13,13,13,13,13,13,13,13,13,13,13,13,13,13,13,13,13,13,13,13,13,13,13,13,13,13,13,13,13,13,13,13,13,13,13,13,13,13,13,13,13,14,14,14,14,14,14,14,14,14,14,14,14,14,14,14],\"index\":[703824,704398,704846,705470,705986,706476,706974,707434,708067,708457,708982,709430,709973,710533,711038,711526,712564,713127,713674,714090,714567,715231,715621,716131,716782,717217,717652,718293,718671,719265,719722,720233,720807,721449,721832,722258,723836,724452,724836,725436,725926,726363,726827,727412,727988,729010,729479,729901,730480,730927,731436,732013,732467,733032,733546,734031,734444,735018,735486,736003,736562,737040,737550,738077,738583,739039,739603,740101,740276,741043,741631,742017,742502,743121,743567,744002,744665,745075,745634,746094,746589,747628,748075,748533,749086,749587,750133,750677,751139,751665,752042,752664,753165,753685,754161,754597,755119,755779,756279,756779,757182,757660,758264,758800,759280,759873,760364,760821,761231,761896,762327,762851,763892,765190,765632,766225,766699,767210,767760,768290,768762,769391,770022,770332,770911,771417,772004,772440,773050,773400,774188,774461,774944,775568,776094,776514,777212,777664,778106,778524,779104,779576,780104,780609,781165,781627,782260,782723,783258,783780,784358,785033,785435,785819,786352,787051,787486,787952,788554,789143,789548,790144,790664,791120,791671,792170,792657,793298,793785,794343,794840,795401,795813,796361,796891,797425,797922,798423,798872,799480,800047,800463,801088,801640,802086,802574,803127,803619,804165,804718,805304,805745,806294,806798,807463,807877,808465,808865,809449,809962,810493,811092,811559,812044,812589,813121,814235,814762,815186,815852,816298,816855,817416,817951,818379,818973,819460,819976,820550,821055,821503,822197,822594,823108,823690,824180,824749,825279,825766,826230,827971,828531,829476,829735,830502,830999,831207,831690,832126,832681,832897,833332,833834,834206],\"journey_id\":[\"00091001\",\"00091001\",\"00091001\",\"00091001\",\"00091001\",\"00091001\",\"00091001\",\"00091001\",\"00091001\",\"00091001\",\"00091001\",\"00091001\",\"00091001\",\"00091001\",\"00091001\",\"00091001\",\"00091001\",\"00091001\",\"00091001\",\"00091001\",\"00091001\",\"00091001\",\"00091001\",\"00091001\",\"00091001\",\"00091001\",\"00091001\",\"00091001\",\"00091001\",\"00091001\",\"00091001\",\"00091001\",\"00091001\",\"00091001\",\"00091001\",\"00091001\",\"00091001\",\"00091001\",\"00091001\",\"00091001\",\"00091001\",\"00091001\",\"00091001\",\"00091001\",\"00091001\",\"00091001\",\"00091001\",\"00091001\",\"00091001\",\"00091001\",\"00091001\",\"00091001\",\"00091001\",\"00091001\",\"00091001\",\"00091001\",\"00091001\",\"00091001\",\"00091001\",\"00091001\",\"00091001\",\"00091001\",\"00091001\",\"00091001\",\"00091001\",\"00091001\",\"00091001\",\"00091001\",\"00091001\",\"00091001\",\"00091001\",\"00091001\",\"00091001\",\"00091001\",\"00091001\",\"00091001\",\"00091001\",\"00091001\",\"00091001\",\"00091001\",\"00091001\",\"00091001\",\"00091001\",\"00091001\",\"00091001\",\"00091001\",\"00091001\",\"00091001\",\"00091001\",\"00091001\",\"00091001\",\"00091001\",\"00091001\",\"00091001\",\"00091001\",\"00091001\",\"00091001\",\"00091001\",\"00091001\",\"00091001\",\"00091001\",\"00091001\",\"00091001\",\"00091001\",\"00091001\",\"00091001\",\"00091001\",\"00091001\",\"00091001\",\"00091001\",\"00091001\",\"00091001\",\"00091001\",\"00091001\",\"00091001\",\"00091001\",\"00091001\",\"00091001\",\"00091001\",\"00091001\",\"00091001\",\"00091001\",\"00091001\",\"00091001\",\"00091001\",\"00091001\",\"00091001\",\"00091001\",\"00091001\",\"00091001\",\"00091001\",\"00091001\",\"00091001\",\"00091001\",\"00091001\",\"00091001\",\"00091001\",\"00091001\",\"00091001\",\"00091001\",\"00091001\",\"00091001\",\"00091001\",\"00091001\",\"00091001\",\"00091001\",\"00091001\",\"00091001\",\"00091001\",\"00091001\",\"00091001\",\"00091001\",\"00091001\",\"00091001\",\"00091001\",\"00091001\",\"00091001\",\"00091001\",\"00091001\",\"00091001\",\"00091001\",\"00091001\",\"00091001\",\"00091001\",\"00091001\",\"00091001\",\"00091001\",\"00091001\",\"00091001\",\"00091001\",\"00091001\",\"00091001\",\"00091001\",\"00091001\",\"00091001\",\"00091001\",\"00091001\",\"00091001\",\"00091001\",\"00091001\",\"00091001\",\"00091001\",\"00091001\",\"00091001\",\"00091001\",\"00091001\",\"00091001\",\"00091001\",\"00091001\",\"00091001\",\"00091001\",\"00091001\",\"00091001\",\"00091001\",\"00091001\",\"00091001\",\"00091001\",\"00091001\",\"00091001\",\"00091001\",\"00091001\",\"00091001\",\"00091001\",\"00091001\",\"00091001\",\"00091001\",\"00091001\",\"00091001\",\"00091001\",\"00091001\",\"00091001\",\"00091001\",\"00091001\",\"00091001\",\"00091001\",\"00091001\",\"00091001\",\"00091001\",\"00091001\",\"00091001\",\"00091001\",\"00091001\",\"00091001\",\"00091001\",\"00091001\",\"00091001\",\"00091001\",\"00091001\",\"00091001\",\"00091001\",\"00091001\",\"00091001\",\"00091001\",\"00091001\",\"00091001\",\"00091001\",\"00091001\",\"00091001\",\"00091001\",\"00091001\",\"00091001\",\"00091001\",\"00091001\",\"00091001\"],\"lat\":{\"__ndarray__\":\"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\",\"dtype\":\"float64\",\"order\":\"little\",\"shape\":[244]},\"lat_m\":{\"__ndarray__\":\"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\",\"dtype\":\"float64\",\"order\":\"little\",\"shape\":[244]},\"line_id\":[\"9.0\",\"9.0\",\"9.0\",\"9.0\",\"9.0\",\"9.0\",\"9.0\",\"9.0\",\"9.0\",\"9.0\",\"9.0\",\"9.0\",\"9.0\",\"9.0\",\"9.0\",\"9.0\",\"9.0\",\"9.0\",\"9.0\",\"9.0\",\"9.0\",\"9.0\",\"9.0\",\"9.0\",\"9.0\",\"9.0\",\"9.0\",\"9.0\",\"9.0\",\"9.0\",\"9.0\",\"9.0\",\"9.0\",\"9.0\",\"9.0\",\"9.0\",\"9.0\",\"9.0\",\"9.0\",\"9.0\",\"9.0\",\"9.0\",\"9.0\",\"9.0\",\"9.0\",\"9.0\",\"9.0\",\"9.0\",\"9.0\",\"9.0\",\"9.0\",\"9.0\",\"9.0\",\"9.0\",\"9.0\",\"9.0\",\"9.0\",\"9.0\",\"9.0\",\"9.0\",\"9.0\",\"9.0\",\"9.0\",\"9.0\",\"9.0\",\"9.0\",\"9.0\",\"9.0\",\"9.0\",\"9.0\",\"9.0\",\"9.0\",\"9.0\",\"9.0\",\"9.0\",\"9.0\",\"9.0\",\"9.0\",\"9.0\",\"9.0\",\"9.0\",\"9.0\",\"9.0\",\"9.0\",\"9.0\",\"9.0\",\"9.0\",\"9.0\",\"9.0\",\"9.0\",\"9.0\",\"9.0\",\"9.0\",\"9.0\",\"9.0\",\"9.0\",\"9.0\",\"9.0\",\"9.0\",\"9.0\",\"9.0\",\"9.0\",\"9.0\",\"9.0\",\"9.0\",\"9.0\",\"9.0\",\"9.0\",\"9.0\",\"9.0\",\"9.0\",\"9.0\",\"9.0\",\"9.0\",\"9.0\",\"9.0\",\"9.0\",\"9.0\",\"9.0\",\"9.0\",\"9.0\",\"9.0\",\"9.0\",\"9.0\",\"9.0\",\"9.0\",\"9.0\",\"9.0\",\"9.0\",\"9.0\",\"9.0\",\"9.0\",\"9.0\",\"9.0\",\"9.0\",\"9.0\",\"9.0\",\"9.0\",\"9.0\",\"9.0\",\"9.0\",\"9.0\",\"9.0\",\"9.0\",\"9.0\",\"9.0\",\"9.0\",\"9.0\",\"9.0\",\"9.0\",\"9.0\",\"9.0\",\"9.0\",\"9.0\",\"9.0\",\"9.0\",\"9.0\",\"9.0\",\"9.0\",\"9.0\",\"9.0\",\"9.0\",\"9.0\",\"9.0\",\"9.0\",\"9.0\",\"9.0\",\"9.0\",\"9.0\",\"9.0\",\"9.0\",\"9.0\",\"9.0\",\"9.0\",\"9.0\",\"9.0\",\"9.0\",\"9.0\",\"9.0\",\"9.0\",\"9.0\",\"9.0\",\"9.0\",\"9.0\",\"9.0\",\"9.0\",\"9.0\",\"9.0\",\"9.0\",\"9.0\",\"9.0\",\"9.0\",\"9.0\",\"9.0\",\"9.0\",\"9.0\",\"9.0\",\"9.0\",\"9.0\",\"9.0\",\"9.0\",\"9.0\",\"9.0\",\"9.0\",\"9.0\",\"9.0\",\"9.0\",\"9.0\",\"9.0\",\"9.0\",\"9.0\",\"9.0\",\"9.0\",\"9.0\",\"9.0\",\"9.0\",\"9.0\",\"9.0\",\"9.0\",\"9.0\",\"9.0\",\"9.0\",\"9.0\",\"9.0\",\"9.0\",\"9.0\",\"9.0\",\"9.0\",\"9.0\",\"9.0\",\"9.0\",\"9.0\",\"9.0\",\"9.0\",\"9.0\",\"9.0\",\"9.0\",\"9.0\",\"9.0\",\"9.0\",\"9.0\",\"9.0\",\"9.0\",\"9.0\"],\"lng\":{\"__ndarray__\":\"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\",\"dtype\":\"float64\",\"order\":\"little\",\"shape\":[244]},\"lng_m\":{\"__ndarray__\":\"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\",\"dtype\":\"float64\",\"order\":\"little\",\"shape\":[244]},\"operator\":[\"PO\",\"PO\",\"PO\",\"PO\",\"PO\",\"PO\",\"PO\",\"PO\",\"PO\",\"PO\",\"PO\",\"PO\",\"PO\",\"PO\",\"PO\",\"PO\",\"PO\",\"PO\",\"PO\",\"PO\",\"PO\",\"PO\",\"PO\",\"PO\",\"PO\",\"PO\",\"PO\",\"PO\",\"PO\",\"PO\",\"PO\",\"PO\",\"PO\",\"PO\",\"PO\",\"PO\",\"PO\",\"PO\",\"PO\",\"PO\",\"PO\",\"PO\",\"PO\",\"PO\",\"PO\",\"PO\",\"PO\",\"PO\",\"PO\",\"PO\",\"PO\",\"PO\",\"PO\",\"PO\",\"PO\",\"PO\",\"PO\",\"PO\",\"PO\",\"PO\",\"PO\",\"PO\",\"PO\",\"PO\",\"PO\",\"PO\",\"PO\",\"PO\",\"PO\",\"PO\",\"PO\",\"PO\",\"PO\",\"PO\",\"PO\",\"PO\",\"PO\",\"PO\",\"PO\",\"PO\",\"PO\",\"PO\",\"PO\",\"PO\",\"PO\",\"PO\",\"PO\",\"PO\",\"PO\",\"PO\",\"PO\",\"PO\",\"PO\",\"PO\",\"PO\",\"PO\",\"PO\",\"PO\",\"PO\",\"PO\",\"PO\",\"PO\",\"PO\",\"PO\",\"PO\",\"PO\",\"PO\",\"PO\",\"PO\",\"PO\",\"PO\",\"PO\",\"PO\",\"PO\",\"PO\",\"PO\",\"PO\",\"PO\",\"PO\",\"PO\",\"PO\",\"PO\",\"PO\",\"PO\",\"PO\",\"PO\",\"PO\",\"PO\",\"PO\",\"PO\",\"PO\",\"PO\",\"PO\",\"PO\",\"PO\",\"PO\",\"PO\",\"PO\",\"PO\",\"PO\",\"PO\",\"PO\",\"PO\",\"PO\",\"PO\",\"PO\",\"PO\",\"PO\",\"PO\",\"PO\",\"PO\",\"PO\",\"PO\",\"PO\",\"PO\",\"PO\",\"PO\",\"PO\",\"PO\",\"PO\",\"PO\",\"PO\",\"PO\",\"PO\",\"PO\",\"PO\",\"PO\",\"PO\",\"PO\",\"PO\",\"PO\",\"PO\",\"PO\",\"PO\",\"PO\",\"PO\",\"PO\",\"PO\",\"PO\",\"PO\",\"PO\",\"PO\",\"PO\",\"PO\",\"PO\",\"PO\",\"PO\",\"PO\",\"PO\",\"PO\",\"PO\",\"PO\",\"PO\",\"PO\",\"PO\",\"PO\",\"PO\",\"PO\",\"PO\",\"PO\",\"PO\",\"PO\",\"PO\",\"PO\",\"PO\",\"PO\",\"PO\",\"PO\",\"PO\",\"PO\",\"PO\",\"PO\",\"PO\",\"PO\",\"PO\",\"PO\",\"PO\",\"PO\",\"PO\",\"PO\",\"PO\",\"PO\",\"PO\",\"PO\",\"PO\",\"PO\",\"PO\",\"PO\",\"PO\",\"PO\",\"PO\",\"PO\",\"PO\",\"PO\",\"PO\",\"PO\",\"PO\",\"PO\",\"PO\",\"PO\",\"PO\",\"PO\",\"PO\",\"PO\"],\"outlier\":[1,1,1,1,1,1,1,1,1,1,1,1,-1,1,1,1,1,1,-1,-1,-1,1,1,1,-1,-1,1,1,1,1,1,1,1,1,-1,1,-1,1,1,-1,1,1,1,1,1,-1,-1,1,-1,1,1,1,1,1,-1,1,-1,1,-1,1,1,-1,1,1,1,-1,-1,-1,1,1,1,1,1,1,1,-1,1,-1,1,-1,1,1,1,1,1,1,1,1,1,1,1,1,1,-1,1,1,-1,1,1,1,1,1,1,1,1,-1,1,1,1,1,-1,1,-1,-1,1,1,1,1,1,1,-1,1,1,1,1,1,1,1,1,1,1,-1,1,1,1,1,1,-1,-1,1,1,1,1,1,1,1,-1,1,1,-1,1,1,-1,1,1,1,1,1,1,1,-1,1,1,1,1,1,1,1,-1,1,-1,1,1,-1,-1,1,1,-1,1,1,1,-1,1,1,1,1,1,1,1,-1,1,1,1,1,1,-1,1,1,1,-1,1,1,1,1,1,1,1,1,1,1,1,1,1,1,1,1,1,1,1,1,1,1,1,1,-1,-1,1,1,1,1,-1,1,1,-1,-1,1,1,1,1,1,1,1,1,1],\"outlier2\":[1,1,1,1,1,1,1,1,1,1,1,1,1,1,1,1,-1,-1,1,1,1,-1,1,1,-1,-1,1,1,-1,1,1,1,1,-1,-1,1,1,1,1,-1,1,1,1,1,-1,1,1,1,1,1,1,1,1,1,-1,1,-1,1,1,1,1,1,1,1,1,-1,-1,1,-1,1,1,-1,1,-1,-1,-1,1,-1,1,1,-1,1,1,1,-1,1,-1,1,-1,-1,1,1,1,1,1,1,-1,-1,1,-1,-1,1,1,1,1,1,1,1,1,-1,-1,1,-1,-1,1,1,1,1,1,1,1,1,1,1,1,1,1,1,1,1,-1,-1,1,1,1,1,-1,-1,1,-1,1,1,1,1,1,1,1,1,1,1,1,-1,-1,1,1,1,1,1,1,1,-1,1,1,1,1,1,1,-1,-1,1,1,1,1,1,1,1,-1,-1,1,1,1,1,-1,-1,1,1,1,1,1,1,-1,1,1,1,-1,1,1,-1,1,1,1,1,1,1,1,1,1,1,1,1,1,1,1,1,1,1,1,-1,1,1,1,-1,1,1,1,1,1,1,1,1,-1,1,1,1,1,1,1,-1,1,1,1,1,1,1],\"outlier2_norm\":[1,1,1,1,1,1,1,1,1,1,1,1,1,1,1,1,-1,1,1,1,1,-1,1,1,1,-1,1,1,1,1,1,1,1,1,1,1,-1,1,1,-1,1,1,1,1,1,1,1,1,1,1,1,1,1,1,1,1,-1,-1,1,1,1,1,1,1,1,1,-1,1,-1,-1,1,-1,1,1,-1,1,-1,-1,1,1,1,1,1,1,-1,1,1,1,-1,1,1,1,1,1,1,-1,-1,-1,1,-1,-1,1,-1,1,1,1,1,1,1,1,-1,1,1,1,1,1,-1,-1,1,-1,1,1,-1,-1,1,1,1,1,1,1,-1,-1,-1,1,1,1,-1,1,1,-1,1,-1,1,1,1,1,1,1,1,1,1,-1,1,1,1,-1,1,1,-1,-1,1,1,1,1,1,1,1,-1,1,1,1,1,1,1,1,1,1,1,1,1,1,1,-1,-1,1,1,1,1,1,-1,-1,1,-1,1,1,1,1,1,1,1,1,1,1,1,1,1,1,1,1,1,1,1,1,-1,1,1,1,1,1,1,1,1,-1,1,1,-1,-1,1,1,1,-1,1,1,1,-1,1,1,1,-1,1,1,1,1,1],\"outlier_0\":[-1,1,1,1,1,1,1,-1,-1,1,1,1,1,1,1,1,-1,1,-1,-1,1,1,1,1,-1,-1,1,1,1,1,1,1,1,-1,-1,1,-1,1,1,1,1,1,1,1,-1,-1,1,1,1,1,1,1,1,-1,1,1,-1,1,1,1,1,1,1,1,1,1,-1,1,-1,1,1,1,1,-1,1,-1,1,-1,1,1,-1,-1,1,1,1,1,-1,1,-1,1,1,1,1,1,1,1,-1,-1,1,-1,1,1,1,1,1,1,1,1,1,-1,-1,1,-1,-1,1,1,1,1,1,1,1,1,1,1,1,1,1,1,1,1,-1,-1,1,1,1,1,-1,-1,1,1,1,1,1,1,1,1,1,1,1,1,1,1,-1,1,1,1,1,1,1,1,1,-1,1,1,1,1,1,-1,-1,1,1,1,1,1,1,1,-1,-1,1,1,1,1,-1,1,1,1,1,1,1,1,1,1,1,1,1,-1,1,1,1,1,1,1,1,1,1,1,-1,1,1,1,1,1,1,1,1,1,1,-1,1,1,1,1,1,1,1,-1,1,1,1,1,-1,1,-1,-1,-1,1,-1,1,1,1,-1,1,1,1],\"outlier_MF\":[1,-1,-1,-1,-1,1,1,1,1,1,1,1,1,1,1,1,1,1,1,1,1,1,1,1,1,1,1,1,1,1,1,1,1,1,1,1,1,1,1,1,1,1,1,1,1,1,1,1,1,-1,1,1,1,1,1,1,1,1,1,1,1,1,1,1,1,1,1,1,-1,1,1,1,1,1,1,1,1,1,1,1,1,1,1,1,1,1,1,1,1,1,1,1,1,1,1,1,1,1,1,1,1,1,1,1,1,1,1,1,1,1,1,1,1,1,1,1,1,1,1,1,1,1,1,1,1,1,1,1,1,1,1,1,1,1,1,1,1,1,1,1,1,1,1,1,1,1,1,1,1,1,1,1,1,1,1,1,1,1,1,1,1,1,1,1,1,1,1,1,1,1,1,1,1,1,1,1,1,-1,1,1,1,1,1,1,1,1,1,1,1,1,1,1,1,1,1,1,1,1,1,1,1,1,1,1,1,1,1,1,1,1,1,1,1,1,1,1,1,1,1,1,1,1,1,1,1,-1,1,1,1,1,1,1,1,-1,1,1,-1,1,1,1,1,1,1,1],\"outlier_norm\":[1,1,1,1,1,1,1,1,1,1,1,1,-1,1,1,1,1,1,-1,-1,-1,1,1,1,-1,-1,1,1,1,1,1,1,1,1,-1,1,-1,1,1,-1,1,1,1,1,1,-1,-1,1,-1,1,1,1,1,1,-1,1,-1,1,-1,1,1,-1,1,1,1,-1,-1,-1,1,1,1,1,1,1,1,-1,1,-1,1,-1,1,1,1,1,1,1,1,1,1,1,1,1,1,-1,1,1,-1,1,1,1,1,1,1,1,1,-1,1,1,1,1,-1,1,-1,-1,1,1,1,1,1,1,-1,1,1,1,1,1,1,1,1,1,1,-1,1,1,1,1,1,-1,-1,1,1,1,1,1,1,1,-1,1,1,-1,1,1,-1,1,1,1,1,1,1,1,-1,1,1,1,1,1,1,1,-1,1,-1,1,1,-1,-1,1,1,-1,1,1,1,-1,1,1,1,1,1,1,1,-1,1,1,1,1,1,-1,1,1,1,-1,1,1,1,1,1,1,1,1,1,1,1,1,1,1,1,1,1,1,1,1,1,1,1,1,-1,-1,1,1,1,1,-1,1,1,-1,-1,1,1,1,1,1,1,1,1,1],\"stop\":[true,true,true,true,true,true,true,true,true,true,true,true,true,true,true,false,false,false,false,false,false,true,false,false,true,false,false,false,true,false,false,false,false,false,false,true,false,false,false,true,true,false,false,false,true,false,false,false,false,true,true,false,true,true,true,false,false,false,false,true,false,false,true,true,false,false,false,false,false,false,false,true,false,true,false,true,false,false,false,false,true,true,false,false,false,false,false,false,false,false,false,false,false,false,false,false,true,false,true,false,false,false,false,false,true,false,false,false,false,false,false,false,false,true,false,false,false,true,true,false,false,false,false,false,true,true,true,true,false,false,false,false,false,true,true,true,false,false,false,true,false,false,false,false,false,false,false,false,false,false,false,false,false,true,false,false,false,false,true,false,false,false,true,true,false,true,true,false,false,false,false,true,false,false,false,false,true,false,false,true,false,false,false,true,false,true,false,false,false,false,true,false,false,false,false,false,true,false,false,false,false,false,false,true,false,true,true,false,false,true,false,false,false,false,false,true,false,false,false,true,false,false,false,false,false,false,true,false,false,false,false,false,false,true,true,true,true,true,true,true,true,true,true,true],\"stop_id\":[4392.0,4392.0,4392.0,4392.0,4392.0,4392.0,4392.0,4392.0,4392.0,4392.0,4392.0,4392.0,4392.0,4392.0,4392.0,4392.0,4392.0,4392.0,4392.0,2446.0,2459.0,2460.0,2460.0,2460.0,2461.0,2461.0,2461.0,2462.0,2463.0,2463.0,2463.0,2463.0,2463.0,2463.0,2463.0,2431.0,2432.0,2432.0,2432.0,2433.0,2433.0,2433.0,2433.0,2433.0,2434.0,2434.0,2435.0,2436.0,2436.0,2437.0,2437.0,2437.0,2438.0,2438.0,2439.0,2439.0,2439.0,2439.0,2439.0,2440.0,2440.0,2440.0,2441.0,2441.0,2441.0,2441.0,2442.0,2443.0,2443.0,2443.0,2443.0,2444.0,2444.0,1344.0,1344.0,1345.0,1345.0,1347.0,1347.0,1347.0,1348.0,1348.0,1348.0,1349.0,1349.0,1350.0,1350.0,1350.0,1352.0,1352.0,1352.0,1353.0,1353.0,1353.0,1353.0,1353.0,1354.0,1354.0,1355.0,1355.0,1355.0,1355.0,1355.0,1355.0,1357.0,1357.0,1357.0,1357.0,1357.0,1357.0,1357.0,1357.0,1357.0,1359.0,1359.0,1359.0,1359.0,319.0,319.0,319.0,319.0,319.0,319.0,319.0,281.0,281.0,281.0,281.0,281.0,281.0,281.0,281.0,281.0,4.0,4.0,4.0,4.0,4.0,4.0,194.0,194.0,194.0,194.0,194.0,194.0,194.0,196.0,196.0,196.0,197.0,197.0,197.0,197.0,198.0,198.0,198.0,198.0,198.0,199.0,199.0,199.0,199.0,200.0,200.0,200.0,201.0,201.0,201.0,201.0,148.0,148.0,149.0,149.0,150.0,150.0,150.0,27.0,27.0,27.0,28.0,28.0,29.0,29.0,4680.0,4680.0,90.0,90.0,90.0,90.0,90.0,91.0,91.0,91.0,91.0,91.0,91.0,129.0,129.0,130.0,130.0,131.0,131.0,131.0,164.0,164.0,165.0,166.0,166.0,166.0,7458.0,7458.0,7458.0,7458.0,7458.0,7458.0,4376.0,4376.0,4376.0,4377.0,4890.0,4890.0,4890.0,4890.0,4369.0,4369.0,6219.0,6229.0,6229.0,6229.0,6229.0,6229.0,6229.0,6229.0,7131.0,7131.0,7131.0,7131.0,7131.0,7131.0,7131.0,7131.0,7131.0,7131.0,7131.0],\"time_frame\":[\"2013-01-10\",\"2013-01-10\",\"2013-01-10\",\"2013-01-10\",\"2013-01-10\",\"2013-01-10\",\"2013-01-10\",\"2013-01-10\",\"2013-01-10\",\"2013-01-10\",\"2013-01-10\",\"2013-01-10\",\"2013-01-10\",\"2013-01-10\",\"2013-01-10\",\"2013-01-10\",\"2013-01-10\",\"2013-01-10\",\"2013-01-10\",\"2013-01-10\",\"2013-01-10\",\"2013-01-10\",\"2013-01-10\",\"2013-01-10\",\"2013-01-10\",\"2013-01-10\",\"2013-01-10\",\"2013-01-10\",\"2013-01-10\",\"2013-01-10\",\"2013-01-10\",\"2013-01-10\",\"2013-01-10\",\"2013-01-10\",\"2013-01-10\",\"2013-01-10\",\"2013-01-10\",\"2013-01-10\",\"2013-01-10\",\"2013-01-10\",\"2013-01-10\",\"2013-01-10\",\"2013-01-10\",\"2013-01-10\",\"2013-01-10\",\"2013-01-10\",\"2013-01-10\",\"2013-01-10\",\"2013-01-10\",\"2013-01-10\",\"2013-01-10\",\"2013-01-10\",\"2013-01-10\",\"2013-01-10\",\"2013-01-10\",\"2013-01-10\",\"2013-01-10\",\"2013-01-10\",\"2013-01-10\",\"2013-01-10\",\"2013-01-10\",\"2013-01-10\",\"2013-01-10\",\"2013-01-10\",\"2013-01-10\",\"2013-01-10\",\"2013-01-10\",\"2013-01-10\",\"2013-01-10\",\"2013-01-10\",\"2013-01-10\",\"2013-01-10\",\"2013-01-10\",\"2013-01-10\",\"2013-01-10\",\"2013-01-10\",\"2013-01-10\",\"2013-01-10\",\"2013-01-10\",\"2013-01-10\",\"2013-01-10\",\"2013-01-10\",\"2013-01-10\",\"2013-01-10\",\"2013-01-10\",\"2013-01-10\",\"2013-01-10\",\"2013-01-10\",\"2013-01-10\",\"2013-01-10\",\"2013-01-10\",\"2013-01-10\",\"2013-01-10\",\"2013-01-10\",\"2013-01-10\",\"2013-01-10\",\"2013-01-10\",\"2013-01-10\",\"2013-01-10\",\"2013-01-10\",\"2013-01-10\",\"2013-01-10\",\"2013-01-10\",\"2013-01-10\",\"2013-01-10\",\"2013-01-10\",\"2013-01-10\",\"2013-01-10\",\"2013-01-10\",\"2013-01-10\",\"2013-01-10\",\"2013-01-10\",\"2013-01-10\",\"2013-01-10\",\"2013-01-10\",\"2013-01-10\",\"2013-01-10\",\"2013-01-10\",\"2013-01-10\",\"2013-01-10\",\"2013-01-10\",\"2013-01-10\",\"2013-01-10\",\"2013-01-10\",\"2013-01-10\",\"2013-01-10\",\"2013-01-10\",\"2013-01-10\",\"2013-01-10\",\"2013-01-10\",\"2013-01-10\",\"2013-01-10\",\"2013-01-10\",\"2013-01-10\",\"2013-01-10\",\"2013-01-10\",\"2013-01-10\",\"2013-01-10\",\"2013-01-10\",\"2013-01-10\",\"2013-01-10\",\"2013-01-10\",\"2013-01-10\",\"2013-01-10\",\"2013-01-10\",\"2013-01-10\",\"2013-01-10\",\"2013-01-10\",\"2013-01-10\",\"2013-01-10\",\"2013-01-10\",\"2013-01-10\",\"2013-01-10\",\"2013-01-10\",\"2013-01-10\",\"2013-01-10\",\"2013-01-10\",\"2013-01-10\",\"2013-01-10\",\"2013-01-10\",\"2013-01-10\",\"2013-01-10\",\"2013-01-10\",\"2013-01-10\",\"2013-01-10\",\"2013-01-10\",\"2013-01-10\",\"2013-01-10\",\"2013-01-10\",\"2013-01-10\",\"2013-01-10\",\"2013-01-10\",\"2013-01-10\",\"2013-01-10\",\"2013-01-10\",\"2013-01-10\",\"2013-01-10\",\"2013-01-10\",\"2013-01-10\",\"2013-01-10\",\"2013-01-10\",\"2013-01-10\",\"2013-01-10\",\"2013-01-10\",\"2013-01-10\",\"2013-01-10\",\"2013-01-10\",\"2013-01-10\",\"2013-01-10\",\"2013-01-10\",\"2013-01-10\",\"2013-01-10\",\"2013-01-10\",\"2013-01-10\",\"2013-01-10\",\"2013-01-10\",\"2013-01-10\",\"2013-01-10\",\"2013-01-10\",\"2013-01-10\",\"2013-01-10\",\"2013-01-10\",\"2013-01-10\",\"2013-01-10\",\"2013-01-10\",\"2013-01-10\",\"2013-01-10\",\"2013-01-10\",\"2013-01-10\",\"2013-01-10\",\"2013-01-10\",\"2013-01-10\",\"2013-01-10\",\"2013-01-10\",\"2013-01-10\",\"2013-01-10\",\"2013-01-10\",\"2013-01-10\",\"2013-01-10\",\"2013-01-10\",\"2013-01-10\",\"2013-01-10\",\"2013-01-10\",\"2013-01-10\",\"2013-01-10\",\"2013-01-10\",\"2013-01-10\",\"2013-01-10\",\"2013-01-10\",\"2013-01-10\",\"2013-01-10\",\"2013-01-10\",\"2013-01-10\",\"2013-01-10\",\"2013-01-10\",\"2013-01-10\",\"2013-01-10\",\"2013-01-10\",\"2013-01-10\",\"2013-01-10\",\"2013-01-10\",\"2013-01-10\",\"2013-01-10\",\"2013-01-10\"],\"time_from_old_point\":[0,18,21,22,19,20,23,29,13,14,20,19,22,19,20,21,39,22,19,18,20,23,18,21,26,15,18,23,18,20,17,24,19,26,15,18,60,21,18,23,18,20,19,20,25,37,19,20,21,20,20,21,18,27,16,22,15,22,19,20,20,19,20,21,20,19,25,20,15,23,21,16,22,26,17,15,22,17,21,18,25,37,20,18,22,18,25,22,15,23,18,20,18,21,20,22,33,14,19,15,16,20,22,19,20,22,23,18,17,26,14,19,42,51,21,20,22,19,18,23,18,21,22,17,20,19,22,19,21,19,25,14,21,20,23,17,32,14,18,17,20,19,22,18,21,18,21,20,21,18,23,24,15,19,20,23,18,18,22,22,16,23,18,21,18,21,20,26,15,20,19,20,19,20,21,20,25,15,20,21,21,18,25,16,21,18,19,21,20,19,23,18,19,21,23,16,23,16,21,21,20,21,18,21,18,21,41,20,21,20,19,21,20,19,20,21,18,23,18,20,19,23,18,21,21,17,22,19,20,18,66,22,37,4,35,20,5,16,19,20,9,16,18,21],\"timestamp\":[1357821650000000,1357821668000000,1357821689000000,1357821711000000,1357821730000000,1357821750000000,1357821773000000,1357821802000000,1357821815000000,1357821829000000,1357821849000000,1357821868000000,1357821890000000,1357821909000000,1357821929000000,1357821950000000,1357821989000000,1357822011000000,1357822030000000,1357822048000000,1357822068000000,1357822091000000,1357822109000000,1357822130000000,1357822156000000,1357822171000000,1357822189000000,1357822212000000,1357822230000000,1357822250000000,1357822267000000,1357822291000000,1357822310000000,1357822336000000,1357822351000000,1357822369000000,1357822429000000,1357822450000000,1357822468000000,1357822491000000,1357822509000000,1357822529000000,1357822548000000,1357822568000000,1357822593000000,1357822630000000,1357822649000000,1357822669000000,1357822690000000,1357822710000000,1357822730000000,1357822751000000,1357822769000000,1357822796000000,1357822812000000,1357822834000000,1357822849000000,1357822871000000,1357822890000000,1357822910000000,1357822930000000,1357822949000000,1357822969000000,1357822990000000,1357823010000000,1357823029000000,1357823054000000,1357823074000000,1357823089000000,1357823112000000,1357823133000000,1357823149000000,1357823171000000,1357823197000000,1357823214000000,1357823229000000,1357823251000000,1357823268000000,1357823289000000,1357823307000000,1357823332000000,1357823369000000,1357823389000000,1357823407000000,1357823429000000,1357823447000000,1357823472000000,1357823494000000,1357823509000000,1357823532000000,1357823550000000,1357823570000000,1357823588000000,1357823609000000,1357823629000000,1357823651000000,1357823684000000,1357823698000000,1357823717000000,1357823732000000,1357823748000000,1357823768000000,1357823790000000,1357823809000000,1357823829000000,1357823851000000,1357823874000000,1357823892000000,1357823909000000,1357823935000000,1357823949000000,1357823968000000,1357824010000000,1357824061000000,1357824082000000,1357824102000000,1357824124000000,1357824143000000,1357824161000000,1357824184000000,1357824202000000,1357824223000000,1357824245000000,1357824262000000,1357824282000000,1357824301000000,1357824323000000,1357824342000000,1357824363000000,1357824382000000,1357824407000000,1357824421000000,1357824442000000,1357824462000000,1357824485000000,1357824502000000,1357824534000000,1357824548000000,1357824566000000,1357824583000000,1357824603000000,1357824622000000,1357824644000000,1357824662000000,1357824683000000,1357824701000000,1357824722000000,1357824742000000,1357824763000000,1357824781000000,1357824804000000,1357824828000000,1357824843000000,1357824862000000,1357824882000000,1357824905000000,1357824923000000,1357824941000000,1357824963000000,1357824985000000,1357825001000000,1357825024000000,1357825042000000,1357825063000000,1357825081000000,1357825102000000,1357825122000000,1357825148000000,1357825163000000,1357825183000000,1357825202000000,1357825222000000,1357825241000000,1357825261000000,1357825282000000,1357825302000000,1357825327000000,1357825342000000,1357825362000000,1357825383000000,1357825404000000,1357825422000000,1357825447000000,1357825463000000,1357825484000000,1357825502000000,1357825521000000,1357825542000000,1357825562000000,1357825581000000,1357825604000000,1357825622000000,1357825641000000,1357825662000000,1357825685000000,1357825701000000,1357825724000000,1357825740000000,1357825761000000,1357825782000000,1357825802000000,1357825823000000,1357825841000000,1357825862000000,1357825880000000,1357825901000000,1357825942000000,1357825962000000,1357825983000000,1357826003000000,1357826022000000,1357826043000000,1357826063000000,1357826082000000,1357826102000000,1357826123000000,1357826141000000,1357826164000000,1357826182000000,1357826202000000,1357826221000000,1357826244000000,1357826262000000,1357826283000000,1357826304000000,1357826321000000,1357826343000000,1357826362000000,1357826382000000,1357826400000000,1357826466000000,1357826488000000,1357826525000000,1357826529000000,1357826564000000,1357826584000000,1357826589000000,1357826605000000,1357826624000000,1357826644000000,1357826653000000,1357826669000000,1357826687000000,1357826708000000],\"vehicle_id\":[\"33307\",\"33307\",\"33307\",\"33307\",\"33307\",\"33307\",\"33307\",\"33307\",\"33307\",\"33307\",\"33307\",\"33307\",\"33307\",\"33307\",\"33307\",\"33307\",\"33307\",\"33307\",\"33307\",\"33307\",\"33307\",\"33307\",\"33307\",\"33307\",\"33307\",\"33307\",\"33307\",\"33307\",\"33307\",\"33307\",\"33307\",\"33307\",\"33307\",\"33307\",\"33307\",\"33307\",\"33307\",\"33307\",\"33307\",\"33307\",\"33307\",\"33307\",\"33307\",\"33307\",\"33307\",\"33307\",\"33307\",\"33307\",\"33307\",\"33307\",\"33307\",\"33307\",\"33307\",\"33307\",\"33307\",\"33307\",\"33307\",\"33307\",\"33307\",\"33307\",\"33307\",\"33307\",\"33307\",\"33307\",\"33307\",\"33307\",\"33307\",\"33307\",\"33307\",\"33307\",\"33307\",\"33307\",\"33307\",\"33307\",\"33307\",\"33307\",\"33307\",\"33307\",\"33307\",\"33307\",\"33307\",\"33307\",\"33307\",\"33307\",\"33307\",\"33307\",\"33307\",\"33307\",\"33307\",\"33307\",\"33307\",\"33307\",\"33307\",\"33307\",\"33307\",\"33307\",\"33307\",\"33307\",\"33307\",\"33307\",\"33307\",\"33307\",\"33307\",\"33307\",\"33307\",\"33307\",\"33307\",\"33307\",\"33307\",\"33307\",\"33307\",\"33307\",\"33307\",\"33307\",\"33307\",\"33307\",\"33307\",\"33307\",\"33307\",\"33307\",\"33307\",\"33307\",\"33307\",\"33307\",\"33307\",\"33307\",\"33307\",\"33307\",\"33307\",\"33307\",\"33307\",\"33307\",\"33307\",\"33307\",\"33307\",\"33307\",\"33307\",\"33307\",\"33307\",\"33307\",\"33307\",\"33307\",\"33307\",\"33307\",\"33307\",\"33307\",\"33307\",\"33307\",\"33307\",\"33307\",\"33307\",\"33307\",\"33307\",\"33307\",\"33307\",\"33307\",\"33307\",\"33307\",\"33307\",\"33307\",\"33307\",\"33307\",\"33307\",\"33307\",\"33307\",\"33307\",\"33307\",\"33307\",\"33307\",\"33307\",\"33307\",\"33307\",\"33307\",\"33307\",\"33307\",\"33307\",\"33307\",\"33307\",\"33307\",\"33307\",\"33307\",\"33307\",\"33307\",\"33307\",\"33307\",\"33307\",\"33307\",\"33307\",\"33307\",\"33307\",\"33307\",\"33307\",\"33307\",\"33307\",\"33307\",\"33307\",\"33307\",\"33307\",\"33307\",\"33307\",\"33307\",\"33307\",\"33307\",\"33307\",\"33307\",\"33307\",\"33307\",\"33307\",\"33307\",\"33307\",\"33307\",\"33307\",\"33307\",\"33307\",\"33307\",\"33307\",\"33307\",\"33307\",\"33307\",\"33307\",\"33307\",\"33307\",\"33307\",\"33307\",\"33307\",\"33307\",\"33307\",\"33307\",\"33307\",\"33307\",\"33307\",\"33307\",\"33307\",\"33307\",\"33307\",\"33307\",\"33307\",\"33307\",\"33307\",\"33307\",\"33307\",\"33307\",\"33307\",\"33307\"],\"vehicle_journey_id\":[\"3641\",\"3641\",\"3641\",\"3641\",\"3641\",\"3641\",\"3641\",\"3641\",\"3641\",\"3641\",\"3641\",\"3641\",\"3641\",\"3641\",\"3641\",\"3641\",\"3641\",\"3641\",\"3641\",\"3641\",\"3641\",\"3641\",\"3641\",\"3641\",\"3641\",\"3641\",\"3641\",\"3641\",\"3641\",\"3641\",\"3641\",\"3641\",\"3641\",\"3641\",\"3641\",\"3641\",\"3641\",\"3641\",\"3641\",\"3641\",\"3641\",\"3641\",\"3641\",\"3641\",\"3641\",\"3641\",\"3641\",\"3641\",\"3641\",\"3641\",\"3641\",\"3641\",\"3641\",\"3641\",\"3641\",\"3641\",\"3641\",\"3641\",\"3641\",\"3641\",\"3641\",\"3641\",\"3641\",\"3641\",\"3641\",\"3641\",\"3641\",\"3641\",\"3641\",\"3641\",\"3641\",\"3641\",\"3641\",\"3641\",\"3641\",\"3641\",\"3641\",\"3641\",\"3641\",\"3641\",\"3641\",\"3641\",\"3641\",\"3641\",\"3641\",\"3641\",\"3641\",\"3641\",\"3641\",\"3641\",\"3641\",\"3641\",\"3641\",\"3641\",\"3641\",\"3641\",\"3641\",\"3641\",\"3641\",\"3641\",\"3641\",\"3641\",\"3641\",\"3641\",\"3641\",\"3641\",\"3641\",\"3641\",\"3641\",\"3641\",\"3641\",\"3641\",\"3641\",\"3641\",\"3641\",\"3641\",\"3641\",\"3641\",\"3641\",\"3641\",\"3641\",\"3641\",\"3641\",\"3641\",\"3641\",\"3641\",\"3641\",\"3641\",\"3641\",\"3641\",\"3641\",\"3641\",\"3641\",\"3641\",\"3641\",\"3641\",\"3641\",\"3641\",\"3641\",\"3641\",\"3641\",\"3641\",\"3641\",\"3641\",\"3641\",\"3641\",\"3641\",\"3641\",\"3641\",\"3641\",\"3641\",\"3641\",\"3641\",\"3641\",\"3641\",\"3641\",\"3641\",\"3641\",\"3641\",\"3641\",\"3641\",\"3641\",\"3641\",\"3641\",\"3641\",\"3641\",\"3641\",\"3641\",\"3641\",\"3641\",\"3641\",\"3641\",\"3641\",\"3641\",\"3641\",\"3641\",\"3641\",\"3641\",\"3641\",\"3641\",\"3641\",\"3641\",\"3641\",\"3641\",\"3641\",\"3641\",\"3641\",\"3641\",\"3641\",\"3641\",\"3641\",\"3641\",\"3641\",\"3641\",\"3641\",\"3641\",\"3641\",\"3641\",\"3641\",\"3641\",\"3641\",\"3641\",\"3641\",\"3641\",\"3641\",\"3641\",\"3641\",\"3641\",\"3641\",\"3641\",\"3641\",\"3641\",\"3641\",\"3641\",\"3641\",\"3641\",\"3641\",\"3641\",\"3641\",\"3641\",\"3641\",\"3641\",\"3641\",\"3641\",\"3641\",\"3641\",\"3641\",\"3641\",\"3641\",\"3641\",\"3641\",\"3641\",\"3641\",\"3641\",\"3641\",\"3641\",\"3641\",\"3641\",\"3641\",\"3641\",\"3641\",\"3641\",\"3641\",\"3641\"],\"velocity\":{\"__ndarray__\":\"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\",\"dtype\":\"float64\",\"order\":\"little\",\"shape\":[244]}},\"selected\":{\"id\":\"2123\"},\"selection_policy\":{\"id\":\"2122\"}},\"id\":\"2039\",\"type\":\"ColumnDataSource\"},{\"attributes\":{\"data_source\":{\"id\":\"2045\"},\"glyph\":{\"id\":\"2047\"},\"hover_glyph\":null,\"muted_glyph\":null,\"nonselection_glyph\":{\"id\":\"2048\"},\"selection_glyph\":null,\"view\":{\"id\":\"2050\"}},\"id\":\"2049\",\"type\":\"GlyphRenderer\"},{\"attributes\":{},\"id\":\"2004\",\"type\":\"LinearScale\"},{\"attributes\":{\"source\":{\"id\":\"2039\"}},\"id\":\"2044\",\"type\":\"CDSView\"},{\"attributes\":{\"formatter\":{\"id\":\"2009\"},\"ticker\":{\"id\":\"2007\"}},\"id\":\"2006\",\"type\":\"MercatorAxis\"},{\"attributes\":{},\"id\":\"1998\",\"type\":\"DataRange1d\"},{\"attributes\":{},\"id\":\"2123\",\"type\":\"Selection\"},{\"attributes\":{\"formatter\":{\"id\":\"2017\"},\"ticker\":{\"id\":\"2015\"}},\"id\":\"2014\",\"type\":\"MercatorAxis\"},{\"attributes\":{},\"id\":\"2002\",\"type\":\"LinearScale\"},{\"attributes\":{\"bottom_units\":\"screen\",\"fill_alpha\":0.5,\"fill_color\":\"lightgrey\",\"left_units\":\"screen\",\"level\":\"overlay\",\"line_alpha\":1.0,\"line_color\":\"black\",\"line_dash\":[4,4],\"line_width\":2,\"right_units\":\"screen\",\"top_units\":\"screen\"},\"id\":\"2028\",\"type\":\"BoxAnnotation\"},{\"attributes\":{},\"id\":\"2000\",\"type\":\"DataRange1d\"},{\"attributes\":{\"tile_source\":{\"id\":\"2036\"}},\"id\":\"2037\",\"type\":\"TileRenderer\"},{\"attributes\":{\"text\":\"\"},\"id\":\"2116\",\"type\":\"Title\"}],\"root_ids\":[\"1997\"]},\"title\":\"Bokeh Application\",\"version\":\"2.2.1\"}};\n",
       "  var render_items = [{\"docid\":\"079fe318-41f1-44b8-81d1-ea2091332fb3\",\"root_ids\":[\"1997\"],\"roots\":{\"1997\":\"a7b9177e-b0b2-4e13-98ae-aaf852ddecdd\"}}];\n",
       "  root.Bokeh.embed.embed_items_notebook(docs_json, render_items);\n",
       "\n",
       "  }\n",
       "  if (root.Bokeh !== undefined) {\n",
       "    embed_document(root);\n",
       "  } else {\n",
       "    var attempts = 0;\n",
       "    var timer = setInterval(function(root) {\n",
       "      if (root.Bokeh !== undefined) {\n",
       "        clearInterval(timer);\n",
       "        embed_document(root);\n",
       "      } else {\n",
       "        attempts++;\n",
       "        if (attempts > 100) {\n",
       "          clearInterval(timer);\n",
       "          console.log(\"Bokeh: ERROR: Unable to run BokehJS code because BokehJS library is missing\");\n",
       "        }\n",
       "      }\n",
       "    }, 10, root)\n",
       "  }\n",
       "})(window);"
      ],
      "application/vnd.bokehjs_exec.v0+json": ""
     },
     "metadata": {
      "application/vnd.bokehjs_exec.v0+json": {
       "id": "1997"
      }
     },
     "output_type": "display_data"
    }
   ],
   "source": [
    "plot_map(df[df.ID == 10])\n",
    "plot_map(df[df.ID == 66])\n",
    "plot_map(df[df.ID == 99])"
   ]
  },
  {
   "cell_type": "markdown",
   "metadata": {},
   "source": [
    "#### Alguns pontos que mesmo sendo detectados como válidos não aparentam ser quando plotados podem aparecer."
   ]
  },
  {
   "cell_type": "markdown",
   "metadata": {},
   "source": [
    "Observando a trajetória com maior distancia percorrida podemos ver se há algo equivocado. \n",
    "Podemos incrementar a exclusão de outliers retirando trajetórias muito curta ou muito longas basedas na distância total."
   ]
  },
  {
   "cell_type": "code",
   "execution_count": 88,
   "metadata": {},
   "outputs": [
    {
     "data": {
      "text/plain": [
       "array([ 0.        , 52.02729663, 51.42286181, ..., 81.03578123,\n",
       "       24.67711918, 27.68981664])"
      ]
     },
     "execution_count": 88,
     "metadata": {},
     "output_type": "execute_result"
    }
   ],
   "source": [
    "df1.dist_from_old_point.unique()"
   ]
  },
  {
   "cell_type": "code",
   "execution_count": 89,
   "metadata": {},
   "outputs": [],
   "source": [
    "accum = df1.groupby(['line_id', 'ID' ]).dist_from_old_point.sum()\n",
    "long_run = accum.max()"
   ]
  },
  {
   "cell_type": "code",
   "execution_count": 90,
   "metadata": {},
   "outputs": [
    {
     "data": {
      "text/html": [
       "<div>\n",
       "<style scoped>\n",
       "    .dataframe tbody tr th:only-of-type {\n",
       "        vertical-align: middle;\n",
       "    }\n",
       "\n",
       "    .dataframe tbody tr th {\n",
       "        vertical-align: top;\n",
       "    }\n",
       "\n",
       "    .dataframe thead th {\n",
       "        text-align: right;\n",
       "    }\n",
       "</style>\n",
       "<table border=\"1\" class=\"dataframe\">\n",
       "  <thead>\n",
       "    <tr style=\"text-align: right;\">\n",
       "      <th></th>\n",
       "      <th>line_id</th>\n",
       "      <th>ID</th>\n",
       "      <th>dist_from_old_point</th>\n",
       "    </tr>\n",
       "  </thead>\n",
       "  <tbody>\n",
       "    <tr>\n",
       "      <th>0</th>\n",
       "      <td>1.0</td>\n",
       "      <td>0</td>\n",
       "      <td>9223.211733</td>\n",
       "    </tr>\n",
       "    <tr>\n",
       "      <th>1</th>\n",
       "      <td>114.0</td>\n",
       "      <td>1</td>\n",
       "      <td>4297.805435</td>\n",
       "    </tr>\n",
       "    <tr>\n",
       "      <th>2</th>\n",
       "      <td>114.0</td>\n",
       "      <td>2</td>\n",
       "      <td>5812.316985</td>\n",
       "    </tr>\n",
       "    <tr>\n",
       "      <th>3</th>\n",
       "      <td>120.0</td>\n",
       "      <td>3</td>\n",
       "      <td>5367.287405</td>\n",
       "    </tr>\n",
       "    <tr>\n",
       "      <th>4</th>\n",
       "      <td>120.0</td>\n",
       "      <td>4</td>\n",
       "      <td>5617.544308</td>\n",
       "    </tr>\n",
       "    <tr>\n",
       "      <th>...</th>\n",
       "      <td>...</td>\n",
       "      <td>...</td>\n",
       "      <td>...</td>\n",
       "    </tr>\n",
       "    <tr>\n",
       "      <th>95</th>\n",
       "      <td>75.0</td>\n",
       "      <td>95</td>\n",
       "      <td>10271.526595</td>\n",
       "    </tr>\n",
       "    <tr>\n",
       "      <th>96</th>\n",
       "      <td>76.0</td>\n",
       "      <td>96</td>\n",
       "      <td>7635.670180</td>\n",
       "    </tr>\n",
       "    <tr>\n",
       "      <th>97</th>\n",
       "      <td>79.0</td>\n",
       "      <td>97</td>\n",
       "      <td>5885.102709</td>\n",
       "    </tr>\n",
       "    <tr>\n",
       "      <th>98</th>\n",
       "      <td>84.0</td>\n",
       "      <td>98</td>\n",
       "      <td>15485.962696</td>\n",
       "    </tr>\n",
       "    <tr>\n",
       "      <th>99</th>\n",
       "      <td>9.0</td>\n",
       "      <td>99</td>\n",
       "      <td>12310.178821</td>\n",
       "    </tr>\n",
       "  </tbody>\n",
       "</table>\n",
       "<p>100 rows × 3 columns</p>\n",
       "</div>"
      ],
      "text/plain": [
       "   line_id  ID  dist_from_old_point\n",
       "0      1.0   0          9223.211733\n",
       "1    114.0   1          4297.805435\n",
       "2    114.0   2          5812.316985\n",
       "3    120.0   3          5367.287405\n",
       "4    120.0   4          5617.544308\n",
       "..     ...  ..                  ...\n",
       "95    75.0  95         10271.526595\n",
       "96    76.0  96          7635.670180\n",
       "97    79.0  97          5885.102709\n",
       "98    84.0  98         15485.962696\n",
       "99     9.0  99         12310.178821\n",
       "\n",
       "[100 rows x 3 columns]"
      ]
     },
     "execution_count": 90,
     "metadata": {},
     "output_type": "execute_result"
    }
   ],
   "source": [
    "accum.reset_index()"
   ]
  },
  {
   "cell_type": "code",
   "execution_count": 91,
   "metadata": {},
   "outputs": [
    {
     "data": {
      "text/plain": [
       "<AxesSubplot:>"
      ]
     },
     "execution_count": 91,
     "metadata": {},
     "output_type": "execute_result"
    },
    {
     "data": {
      "image/png": "[encoded data removed]",
      "text/plain": [
       "<Figure size 432x288 with 1 Axes>"
      ]
     },
     "metadata": {
      "needs_background": "light"
     },
     "output_type": "display_data"
    }
   ],
   "source": [
    "accum.hist()"
   ]
  },
  {
   "cell_type": "code",
   "execution_count": 92,
   "metadata": {},
   "outputs": [
    {
     "data": {
      "text/plain": [
       "<AxesSubplot:>"
      ]
     },
     "execution_count": 92,
     "metadata": {},
     "output_type": "execute_result"
    },
    {
     "data": {
      "image/png": "[encoded data removed]",
      "text/plain": [
       "<Figure size 432x288 with 1 Axes>"
      ]
     },
     "metadata": {
      "needs_background": "light"
     },
     "output_type": "display_data"
    }
   ],
   "source": [
    "accum.plot(kind='box')"
   ]
  },
  {
   "cell_type": "code",
   "execution_count": 93,
   "metadata": {},
   "outputs": [],
   "source": [
    "accum = accum.reset_index()\n",
    "accum.columns = ['line', 'ID', 'total_dist']\n",
    "accum.line = accum.line.astype('float')"
   ]
  },
  {
   "cell_type": "code",
   "execution_count": 98,
   "metadata": {
    "scrolled": false
   },
   "outputs": [
    {
     "name": "stderr",
     "output_type": "stream",
     "text": [
      "/home/saci/hd/projetos/trajetorias/its_research/venvTraj/lib/python3.8/site-packages/seaborn/axisgrid.py:645: UserWarning: Using the boxplot function without specifying `order` is likely to produce an incorrect plot.\n",
      "  warnings.warn(warning)\n"
     ]
    },
    {
     "data": {
      "text/plain": [
       "<seaborn.axisgrid.FacetGrid at 0x7f38afc93670>"
      ]
     },
     "execution_count": 98,
     "metadata": {},
     "output_type": "execute_result"
    },
    {
     "data": {
      "image/png": "[encoded data removed]",
      "text/plain": [
       "<Figure size 864x2160 with 39 Axes>"
      ]
     },
     "metadata": {
      "needs_background": "light"
     },
     "output_type": "display_data"
    }
   ],
   "source": [
    "g = sns.FacetGrid(accum, col=\"line\", col_wrap=4)\n",
    "g.map(sns.boxplot, 'total_dist')\n",
    "#sns.boxplot(data=accum, x='total_dist', hue='line')\n",
    "#(\"alive\", col = \"deck\", col_wrap = 3,data = df[df.deck.notnull()],kind = \"count\")\n",
    "#sns.boxplot(x=var, y='SalePrice', data=housing, ax=subplot)"
   ]
  }
 ],
 "metadata": {
  "kernelspec": {
   "display_name": "venvTraj",
   "language": "python",
   "name": "venvtraj"
  },
  "language_info": {
   "codemirror_mode": {
    "name": "ipython",
    "version": 3
   },
   "file_extension": ".py",
   "mimetype": "text/x-python",
   "name": "python",
   "nbconvert_exporter": "python",
   "pygments_lexer": "ipython3",
   "version": "3.8.6"
  }
 },
 "nbformat": 4,
 "nbformat_minor": 2
}
